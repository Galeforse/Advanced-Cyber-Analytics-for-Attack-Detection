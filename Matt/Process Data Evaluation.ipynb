{
 "cells": [
  {
   "cell_type": "markdown",
   "id": "9a30d921",
   "metadata": {},
   "source": [
    "# Process Data"
   ]
  },
  {
   "cell_type": "markdown",
   "id": "4ce95f88",
   "metadata": {},
   "source": [
    "The intention in this notebook is to look into the process data. We'll perform some EDA such as Data Cleaning, Seperation and Outlier Detection and then start running some anomaly detection models on the data."
   ]
  },
  {
   "cell_type": "code",
   "execution_count": 1,
   "id": "87c144f7",
   "metadata": {},
   "outputs": [],
   "source": [
    "import numpy as np\n",
    "import pandas as pd\n",
    "import matplotlib.pyplot as plt\n",
    "import os\n",
    "import gzip\n",
    "import shutil\n",
    "import datetime\n",
    "import networkx as nx\n",
    "\n",
    "from IPython.display import clear_output"
   ]
  },
  {
   "cell_type": "markdown",
   "id": "6c8d8a0d",
   "metadata": {},
   "source": [
    "### Data"
   ]
  },
  {
   "cell_type": "markdown",
   "id": "7c248b18",
   "metadata": {},
   "source": [
    "First we import our data. We import both process and authentication data incase the latter becomes useful down the line."
   ]
  },
  {
   "cell_type": "code",
   "execution_count": 2,
   "id": "bc1a53e3",
   "metadata": {},
   "outputs": [
    {
     "name": "stdout",
     "output_type": "stream",
     "text": [
      "Attempting to read entire data set.\n"
     ]
    },
    {
     "name": "stderr",
     "output_type": "stream",
     "text": [
      "C:\\Users\\corri\\anaconda3\\lib\\site-packages\\numpy\\lib\\arraysetops.py:580: FutureWarning: elementwise comparison failed; returning scalar instead, but in the future will perform elementwise comparison\n",
      "  mask |= (ar1 == a)\n"
     ]
    }
   ],
   "source": [
    "try:\n",
    "    print('Attempting to read entire data set.')\n",
    "    authentication_data = pd.read_csv('../Data/Authentication data.gz', compression='gzip', index_col = 0)\n",
    "    process_data = pd.read_csv('../Data/Process data.gz', compression='gzip', index_col = 0)\n",
    "except:\n",
    "    clear_output()\n",
    "    print('Unable to read entire data set, reading from original files.')\n",
    "    rootdir = 'C:/Users/corri/OneDrive/Documents/Uni/Postgraduate/Final Project/LANL/ATI Data/Summaries/wls'\n",
    "    unzippeddir = 'C:/Users/corri/OneDrive/Documents/Uni/Postgraduate/Final Project/LANL/ATI Data/Summaries/wls/Unzipped'\n",
    "    frames = []\n",
    "\n",
    "    count = 0\n",
    "\n",
    "    for subdir, dirs, files in os.walk(rootdir):\n",
    "        for file in files:\n",
    "            if file[-3:] == '.gz':\n",
    "                filedir = rootdir + '/' + file\n",
    "                with gzip.open(filedir) as f:\n",
    "                    df = pd.read_csv(filedir, header=None)\n",
    "                    frames.append(df)\n",
    "                if 'authentications' in str(file):\n",
    "                    count = count + len(df)\n",
    "\n",
    "    df = pd.concat(frames)\n",
    "\n",
    "    authentication_data = df[:count]\n",
    "    authentication_data.columns = ['UserName', 'SrcDevice','DstDevice', 'Authent Type', 'Failure', 'DailyCount']\n",
    "\n",
    "    process_data = df[count:]\n",
    "    process_data = process_data[[0,1,2,3,4]]\n",
    "    process_data.columns = ['UserName', 'Device', 'ProcessName', 'ParentProcessName', 'DailyCount']\n",
    "\n",
    "    authentication_data.to_csv('../Data/Authentication data.gz', header=True, compression='gzip')\n",
    "    process_data.to_csv('../Data/Process data.gz', header=True, compression='gzip')"
   ]
  },
  {
   "cell_type": "code",
   "execution_count": 3,
   "id": "c3e45e3b",
   "metadata": {},
   "outputs": [
    {
     "name": "stdout",
     "output_type": "stream",
     "text": [
      "The process data contains 55981618 rows with 5 features each. Thus we have 279908090 data points.\n"
     ]
    }
   ],
   "source": [
    "rows = process_data.shape[0]\n",
    "features = process_data.shape[1]\n",
    "dp = process_data.shape[0] * process_data.shape[1]\n",
    "\n",
    "print('The process data contains {} rows with {} features each. Thus we have {} data points.'.format(rows, features, dp))"
   ]
  },
  {
   "cell_type": "code",
   "execution_count": 4,
   "id": "dd1a1ed7",
   "metadata": {},
   "outputs": [
    {
     "data": {
      "text/html": [
       "<div>\n",
       "<style scoped>\n",
       "    .dataframe tbody tr th:only-of-type {\n",
       "        vertical-align: middle;\n",
       "    }\n",
       "\n",
       "    .dataframe tbody tr th {\n",
       "        vertical-align: top;\n",
       "    }\n",
       "\n",
       "    .dataframe thead th {\n",
       "        text-align: right;\n",
       "    }\n",
       "</style>\n",
       "<table border=\"1\" class=\"dataframe\">\n",
       "  <thead>\n",
       "    <tr style=\"text-align: right;\">\n",
       "      <th></th>\n",
       "      <th>UserName</th>\n",
       "      <th>Device</th>\n",
       "      <th>ProcessName</th>\n",
       "      <th>ParentProcessName</th>\n",
       "      <th>DailyCount</th>\n",
       "    </tr>\n",
       "  </thead>\n",
       "  <tbody>\n",
       "    <tr>\n",
       "      <th>0</th>\n",
       "      <td>Comp748297$</td>\n",
       "      <td>Comp748297</td>\n",
       "      <td>Proc391839.exe</td>\n",
       "      <td>Proc387473</td>\n",
       "      <td>1</td>\n",
       "    </tr>\n",
       "    <tr>\n",
       "      <th>1</th>\n",
       "      <td>Comp563664$</td>\n",
       "      <td>Comp563664</td>\n",
       "      <td>rundll32.exe</td>\n",
       "      <td>services</td>\n",
       "      <td>1</td>\n",
       "    </tr>\n",
       "    <tr>\n",
       "      <th>2</th>\n",
       "      <td>User607396</td>\n",
       "      <td>Comp609111</td>\n",
       "      <td>Proc417435.exe</td>\n",
       "      <td>Proc417435</td>\n",
       "      <td>1</td>\n",
       "    </tr>\n",
       "    <tr>\n",
       "      <th>3</th>\n",
       "      <td>Comp641702$</td>\n",
       "      <td>Comp641702</td>\n",
       "      <td>Proc249569.exe</td>\n",
       "      <td>services</td>\n",
       "      <td>1</td>\n",
       "    </tr>\n",
       "    <tr>\n",
       "      <th>4</th>\n",
       "      <td>Comp157389$</td>\n",
       "      <td>Comp157389</td>\n",
       "      <td>Proc402696.exe</td>\n",
       "      <td>services</td>\n",
       "      <td>1</td>\n",
       "    </tr>\n",
       "  </tbody>\n",
       "</table>\n",
       "</div>"
      ],
      "text/plain": [
       "      UserName      Device     ProcessName ParentProcessName  DailyCount\n",
       "0  Comp748297$  Comp748297  Proc391839.exe        Proc387473           1\n",
       "1  Comp563664$  Comp563664    rundll32.exe          services           1\n",
       "2   User607396  Comp609111  Proc417435.exe        Proc417435           1\n",
       "3  Comp641702$  Comp641702  Proc249569.exe          services           1\n",
       "4  Comp157389$  Comp157389  Proc402696.exe          services           1"
      ]
     },
     "execution_count": 4,
     "metadata": {},
     "output_type": "execute_result"
    }
   ],
   "source": [
    "process_data.head()"
   ]
  },
  {
   "cell_type": "markdown",
   "id": "eb9ce1b1",
   "metadata": {},
   "source": [
    "### EDA"
   ]
  },
  {
   "cell_type": "code",
   "execution_count": 5,
   "id": "4caeb633",
   "metadata": {},
   "outputs": [
    {
     "data": {
      "text/plain": [
       "UserName\n",
       "Scanner                 255383\n",
       "User272607               73934\n",
       "EnterpriseAppServer$     38552\n",
       "Administrator            29443\n",
       "User414014               18593\n",
       "                         ...  \n",
       "User711040                   1\n",
       "User296343                   1\n",
       "User464715                   1\n",
       "User126086                   1\n",
       "User252033                   1\n",
       "Length: 25320, dtype: int64"
      ]
     },
     "execution_count": 5,
     "metadata": {},
     "output_type": "execute_result"
    }
   ],
   "source": [
    "process_data.groupby('UserName').size().sort_values(ascending=False)"
   ]
  },
  {
   "cell_type": "code",
   "execution_count": 6,
   "id": "16f1c956",
   "metadata": {},
   "outputs": [
    {
     "data": {
      "text/plain": [
       "Device\n",
       "EnterpriseAppServer    451831\n",
       "Comp149394              28007\n",
       "Comp460411              26771\n",
       "Comp978490              25866\n",
       "Comp897269              24757\n",
       "                        ...  \n",
       "Comp576558                  9\n",
       "Comp530268                  8\n",
       "Comp733749                  3\n",
       "Comp772226                  2\n",
       "Comp212946                  1\n",
       "Length: 13476, dtype: int64"
      ]
     },
     "execution_count": 6,
     "metadata": {},
     "output_type": "execute_result"
    }
   ],
   "source": [
    "process_data.groupby('Device').size().sort_values(ascending=False)"
   ]
  },
  {
   "cell_type": "code",
   "execution_count": 7,
   "id": "84797506",
   "metadata": {},
   "outputs": [
    {
     "data": {
      "text/plain": [
       "ProcessName\n",
       "rundll32.exe      2325974\n",
       "cscript.exe       1687233\n",
       "Proc857443.exe    1644561\n",
       "Proc364675.exe    1499525\n",
       "conhost.exe       1231137\n",
       "                   ...   \n",
       "Proc542894.exe          1\n",
       "Proc543189.exe          1\n",
       "Proc543359.tmp          1\n",
       "Proc543374              1\n",
       "Proc000018.exe          1\n",
       "Length: 25373, dtype: int64"
      ]
     },
     "execution_count": 7,
     "metadata": {},
     "output_type": "execute_result"
    }
   ],
   "source": [
    "process_data.groupby('ProcessName').size().sort_values(ascending=False)"
   ]
  },
  {
   "cell_type": "code",
   "execution_count": 8,
   "id": "beacee24",
   "metadata": {},
   "outputs": [
    {
     "data": {
      "text/plain": [
       "ParentProcessName\n",
       "services      12633664\n",
       "svchost        5742175\n",
       "None           4343007\n",
       "Proc089893     3499148\n",
       "taskeng        2496930\n",
       "                ...   \n",
       "Proc452325           1\n",
       "Proc752276           1\n",
       "Proc109173           1\n",
       "Proc223040           1\n",
       "Proc014122           1\n",
       "Length: 12226, dtype: int64"
      ]
     },
     "execution_count": 8,
     "metadata": {},
     "output_type": "execute_result"
    }
   ],
   "source": [
    "process_data.groupby('ParentProcessName').size().sort_values(ascending=False)"
   ]
  },
  {
   "cell_type": "markdown",
   "id": "3845b1c8",
   "metadata": {},
   "source": [
    "We're going to find the index's to seperate out the days. Due to the way we created the large data set, we can search for the index 0 which tells us the start of every day."
   ]
  },
  {
   "cell_type": "code",
   "execution_count": 9,
   "id": "045a58d1",
   "metadata": {},
   "outputs": [],
   "source": [
    "index_list = process_data.index.tolist()\n",
    "start_days = [i for i, e in enumerate(index_list) if e == 0]\n",
    "start_days.append(len(process_data))"
   ]
  },
  {
   "cell_type": "markdown",
   "id": "53c775ec",
   "metadata": {},
   "source": [
    "Lets now seperate out day 1 and understand what we can do with the data."
   ]
  },
  {
   "cell_type": "code",
   "execution_count": 10,
   "id": "5ebc5a06",
   "metadata": {},
   "outputs": [
    {
     "data": {
      "text/html": [
       "<div>\n",
       "<style scoped>\n",
       "    .dataframe tbody tr th:only-of-type {\n",
       "        vertical-align: middle;\n",
       "    }\n",
       "\n",
       "    .dataframe tbody tr th {\n",
       "        vertical-align: top;\n",
       "    }\n",
       "\n",
       "    .dataframe thead th {\n",
       "        text-align: right;\n",
       "    }\n",
       "</style>\n",
       "<table border=\"1\" class=\"dataframe\">\n",
       "  <thead>\n",
       "    <tr style=\"text-align: right;\">\n",
       "      <th></th>\n",
       "      <th>UserName</th>\n",
       "      <th>Device</th>\n",
       "      <th>ProcessName</th>\n",
       "      <th>ParentProcessName</th>\n",
       "      <th>DailyCount</th>\n",
       "    </tr>\n",
       "  </thead>\n",
       "  <tbody>\n",
       "    <tr>\n",
       "      <th>0</th>\n",
       "      <td>Comp748297$</td>\n",
       "      <td>Comp748297</td>\n",
       "      <td>Proc391839.exe</td>\n",
       "      <td>Proc387473</td>\n",
       "      <td>1</td>\n",
       "    </tr>\n",
       "    <tr>\n",
       "      <th>1</th>\n",
       "      <td>Comp563664$</td>\n",
       "      <td>Comp563664</td>\n",
       "      <td>rundll32.exe</td>\n",
       "      <td>services</td>\n",
       "      <td>1</td>\n",
       "    </tr>\n",
       "    <tr>\n",
       "      <th>2</th>\n",
       "      <td>User607396</td>\n",
       "      <td>Comp609111</td>\n",
       "      <td>Proc417435.exe</td>\n",
       "      <td>Proc417435</td>\n",
       "      <td>1</td>\n",
       "    </tr>\n",
       "    <tr>\n",
       "      <th>3</th>\n",
       "      <td>Comp641702$</td>\n",
       "      <td>Comp641702</td>\n",
       "      <td>Proc249569.exe</td>\n",
       "      <td>services</td>\n",
       "      <td>1</td>\n",
       "    </tr>\n",
       "    <tr>\n",
       "      <th>4</th>\n",
       "      <td>Comp157389$</td>\n",
       "      <td>Comp157389</td>\n",
       "      <td>Proc402696.exe</td>\n",
       "      <td>services</td>\n",
       "      <td>1</td>\n",
       "    </tr>\n",
       "    <tr>\n",
       "      <th>...</th>\n",
       "      <td>...</td>\n",
       "      <td>...</td>\n",
       "      <td>...</td>\n",
       "      <td>...</td>\n",
       "      <td>...</td>\n",
       "    </tr>\n",
       "    <tr>\n",
       "      <th>605208</th>\n",
       "      <td>Comp267622$</td>\n",
       "      <td>Comp267622</td>\n",
       "      <td>svchost.exe</td>\n",
       "      <td>services</td>\n",
       "      <td>2</td>\n",
       "    </tr>\n",
       "    <tr>\n",
       "      <th>605209</th>\n",
       "      <td>User633443</td>\n",
       "      <td>Comp490773</td>\n",
       "      <td>Proc744059.exe</td>\n",
       "      <td>Proc510632</td>\n",
       "      <td>2</td>\n",
       "    </tr>\n",
       "    <tr>\n",
       "      <th>605210</th>\n",
       "      <td>User860048</td>\n",
       "      <td>Comp925644</td>\n",
       "      <td>Proc946021.exe</td>\n",
       "      <td>Proc442764</td>\n",
       "      <td>1</td>\n",
       "    </tr>\n",
       "    <tr>\n",
       "      <th>605211</th>\n",
       "      <td>User861156</td>\n",
       "      <td>Comp358133</td>\n",
       "      <td>Proc942581.exe</td>\n",
       "      <td>cmd</td>\n",
       "      <td>2</td>\n",
       "    </tr>\n",
       "    <tr>\n",
       "      <th>605212</th>\n",
       "      <td>Comp291230$</td>\n",
       "      <td>Comp291230</td>\n",
       "      <td>Proc428424.exe</td>\n",
       "      <td>Proc318985</td>\n",
       "      <td>3</td>\n",
       "    </tr>\n",
       "  </tbody>\n",
       "</table>\n",
       "<p>605213 rows × 5 columns</p>\n",
       "</div>"
      ],
      "text/plain": [
       "           UserName      Device     ProcessName ParentProcessName  DailyCount\n",
       "0       Comp748297$  Comp748297  Proc391839.exe        Proc387473           1\n",
       "1       Comp563664$  Comp563664    rundll32.exe          services           1\n",
       "2        User607396  Comp609111  Proc417435.exe        Proc417435           1\n",
       "3       Comp641702$  Comp641702  Proc249569.exe          services           1\n",
       "4       Comp157389$  Comp157389  Proc402696.exe          services           1\n",
       "...             ...         ...             ...               ...         ...\n",
       "605208  Comp267622$  Comp267622     svchost.exe          services           2\n",
       "605209   User633443  Comp490773  Proc744059.exe        Proc510632           2\n",
       "605210   User860048  Comp925644  Proc946021.exe        Proc442764           1\n",
       "605211   User861156  Comp358133  Proc942581.exe               cmd           2\n",
       "605212  Comp291230$  Comp291230  Proc428424.exe        Proc318985           3\n",
       "\n",
       "[605213 rows x 5 columns]"
      ]
     },
     "execution_count": 10,
     "metadata": {},
     "output_type": "execute_result"
    }
   ],
   "source": [
    "process_day_1 = process_data[start_days[0]:start_days[1]]\n",
    "process_day_1"
   ]
  },
  {
   "cell_type": "markdown",
   "id": "0a98b17f",
   "metadata": {},
   "source": [
    "### Dummy Variables"
   ]
  },
  {
   "cell_type": "markdown",
   "id": "1a24d683",
   "metadata": {},
   "source": [
    "We'll create a quick and dirty dummy variable creation function. We could use the get_dummies function from pandas but this creates rows instead of doing it inplace which would result in a massive amount of features which would essentially be unhandleable when working with the entire data set."
   ]
  },
  {
   "cell_type": "code",
   "execution_count": 11,
   "id": "461edd0b",
   "metadata": {},
   "outputs": [],
   "source": [
    "def dummy(row, data):\n",
    "    row_vals = data[row].unique()\n",
    "    row_vals_dict = {}\n",
    "    for i, key in enumerate(row_vals):\n",
    "        row_vals_dict[key] = i\n",
    "    \n",
    "    return row_vals_dict "
   ]
  },
  {
   "cell_type": "code",
   "execution_count": 12,
   "id": "5bf979e9",
   "metadata": {},
   "outputs": [],
   "source": [
    "user_names_dict = dummy('UserName', process_day_1)\n",
    "devices_dict = dummy('Device', process_day_1)\n",
    "processes_dict = dummy('ProcessName', process_day_1)\n",
    "parent_processes_dict = dummy('ParentProcessName', process_day_1)\n",
    "\n",
    "dummy_process_day_1 = pd.DataFrame()\n",
    "\n",
    "dummy_process_day_1['UserName'] = process_day_1['UserName'].map(user_names_dict)\n",
    "dummy_process_day_1['Device'] = process_day_1['Device'].map(devices_dict)\n",
    "dummy_process_day_1['ProcessName'] = process_day_1['ProcessName'].map(processes_dict)\n",
    "dummy_process_day_1['ParentProcessName'] = process_day_1['ParentProcessName'].map(parent_processes_dict)\n",
    "dummy_process_day_1['DailyCount'] = process_day_1['DailyCount']"
   ]
  },
  {
   "cell_type": "code",
   "execution_count": 13,
   "id": "480745f0",
   "metadata": {},
   "outputs": [
    {
     "data": {
      "text/html": [
       "<div>\n",
       "<style scoped>\n",
       "    .dataframe tbody tr th:only-of-type {\n",
       "        vertical-align: middle;\n",
       "    }\n",
       "\n",
       "    .dataframe tbody tr th {\n",
       "        vertical-align: top;\n",
       "    }\n",
       "\n",
       "    .dataframe thead th {\n",
       "        text-align: right;\n",
       "    }\n",
       "</style>\n",
       "<table border=\"1\" class=\"dataframe\">\n",
       "  <thead>\n",
       "    <tr style=\"text-align: right;\">\n",
       "      <th></th>\n",
       "      <th>UserName</th>\n",
       "      <th>Device</th>\n",
       "      <th>ProcessName</th>\n",
       "      <th>ParentProcessName</th>\n",
       "      <th>DailyCount</th>\n",
       "    </tr>\n",
       "  </thead>\n",
       "  <tbody>\n",
       "    <tr>\n",
       "      <th>0</th>\n",
       "      <td>0</td>\n",
       "      <td>0</td>\n",
       "      <td>0</td>\n",
       "      <td>0</td>\n",
       "      <td>1</td>\n",
       "    </tr>\n",
       "    <tr>\n",
       "      <th>1</th>\n",
       "      <td>1</td>\n",
       "      <td>1</td>\n",
       "      <td>1</td>\n",
       "      <td>1</td>\n",
       "      <td>1</td>\n",
       "    </tr>\n",
       "    <tr>\n",
       "      <th>2</th>\n",
       "      <td>2</td>\n",
       "      <td>2</td>\n",
       "      <td>2</td>\n",
       "      <td>2</td>\n",
       "      <td>1</td>\n",
       "    </tr>\n",
       "    <tr>\n",
       "      <th>3</th>\n",
       "      <td>3</td>\n",
       "      <td>3</td>\n",
       "      <td>3</td>\n",
       "      <td>1</td>\n",
       "      <td>1</td>\n",
       "    </tr>\n",
       "    <tr>\n",
       "      <th>4</th>\n",
       "      <td>4</td>\n",
       "      <td>4</td>\n",
       "      <td>4</td>\n",
       "      <td>1</td>\n",
       "      <td>1</td>\n",
       "    </tr>\n",
       "    <tr>\n",
       "      <th>...</th>\n",
       "      <td>...</td>\n",
       "      <td>...</td>\n",
       "      <td>...</td>\n",
       "      <td>...</td>\n",
       "      <td>...</td>\n",
       "    </tr>\n",
       "    <tr>\n",
       "      <th>605208</th>\n",
       "      <td>342</td>\n",
       "      <td>340</td>\n",
       "      <td>67</td>\n",
       "      <td>1</td>\n",
       "      <td>2</td>\n",
       "    </tr>\n",
       "    <tr>\n",
       "      <th>605209</th>\n",
       "      <td>11268</td>\n",
       "      <td>1156</td>\n",
       "      <td>159</td>\n",
       "      <td>61</td>\n",
       "      <td>2</td>\n",
       "    </tr>\n",
       "    <tr>\n",
       "      <th>605210</th>\n",
       "      <td>5102</td>\n",
       "      <td>2723</td>\n",
       "      <td>174</td>\n",
       "      <td>15</td>\n",
       "      <td>1</td>\n",
       "    </tr>\n",
       "    <tr>\n",
       "      <th>605211</th>\n",
       "      <td>7743</td>\n",
       "      <td>6290</td>\n",
       "      <td>139</td>\n",
       "      <td>5</td>\n",
       "      <td>2</td>\n",
       "    </tr>\n",
       "    <tr>\n",
       "      <th>605212</th>\n",
       "      <td>655</td>\n",
       "      <td>642</td>\n",
       "      <td>136</td>\n",
       "      <td>8</td>\n",
       "      <td>3</td>\n",
       "    </tr>\n",
       "  </tbody>\n",
       "</table>\n",
       "<p>605213 rows × 5 columns</p>\n",
       "</div>"
      ],
      "text/plain": [
       "        UserName  Device  ProcessName  ParentProcessName  DailyCount\n",
       "0              0       0            0                  0           1\n",
       "1              1       1            1                  1           1\n",
       "2              2       2            2                  2           1\n",
       "3              3       3            3                  1           1\n",
       "4              4       4            4                  1           1\n",
       "...          ...     ...          ...                ...         ...\n",
       "605208       342     340           67                  1           2\n",
       "605209     11268    1156          159                 61           2\n",
       "605210      5102    2723          174                 15           1\n",
       "605211      7743    6290          139                  5           2\n",
       "605212       655     642          136                  8           3\n",
       "\n",
       "[605213 rows x 5 columns]"
      ]
     },
     "execution_count": 13,
     "metadata": {},
     "output_type": "execute_result"
    }
   ],
   "source": [
    "dummy_process_day_1"
   ]
  },
  {
   "cell_type": "markdown",
   "id": "506067e2",
   "metadata": {},
   "source": [
    "So we've converted our object variables into integers successfully!"
   ]
  },
  {
   "cell_type": "markdown",
   "id": "569a066e",
   "metadata": {},
   "source": [
    "### Clustering"
   ]
  },
  {
   "cell_type": "markdown",
   "id": "38584c98",
   "metadata": {},
   "source": [
    "We'll attempt to run a DBSCAN clustering on this data set now. This will give us a good indication of whether the data set is useful for anomaly detection or not since DBSCAN is effective at picking up anomalous data from unlabelled data. The below is a snippet of the grid search we perform on the HPC which we will later import."
   ]
  },
  {
   "cell_type": "markdown",
   "id": "b4e061a7",
   "metadata": {},
   "source": [
    "We'll analyse the effectiveness of our parameters through the number of clusters produced, the number of noise points and the silhouette score."
   ]
  },
  {
   "cell_type": "markdown",
   "id": "fecb453b",
   "metadata": {},
   "source": [
    "The silhouette score is defined when the number of labels i.e. clusters produced is $ 2 < clusters < samples - 1 $. It takes values in $ [-1,1] $ with -1 being the worst score and 1 being the best score.  "
   ]
  },
  {
   "cell_type": "code",
   "execution_count": 14,
   "id": "a644a14a",
   "metadata": {},
   "outputs": [],
   "source": [
    "from sklearn.cluster import DBSCAN\n",
    "from sklearn import metrics"
   ]
  },
  {
   "cell_type": "code",
   "execution_count": 15,
   "id": "4c814f15",
   "metadata": {},
   "outputs": [
    {
     "name": "stdout",
     "output_type": "stream",
     "text": [
      "Working with eps = 1 and min_samples = 10\n"
     ]
    }
   ],
   "source": [
    "# eps = [1,2,5,10,25,50,100]\n",
    "eps = [1]\n",
    "min_samples = [100,50,25,15,10]\n",
    "\n",
    "no_clust = []\n",
    "no_noise = []\n",
    "sil_score = []\n",
    "e_m = []\n",
    "\n",
    "for e in eps:\n",
    "    for ms in min_samples:\n",
    "        \n",
    "        clear_output(wait=True)\n",
    "        print('Working with eps = {} and min_samples = {}'.format(e,ms))\n",
    "        \n",
    "        e_m.append((e,ms))\n",
    "        \n",
    "        db = DBSCAN(eps=e, min_samples=ms).fit(dummy_process_day_1)\n",
    "        labels = db.labels_\n",
    "        no_clust.append(len(np.unique(labels)))\n",
    "        no_noise.append(np.sum(np.array(labels) == -1, axis=0))\n",
    "        \n",
    "        if len(np.unique(labels)) == 1:\n",
    "            sil_score.append(0)\n",
    "        else:\n",
    "            sil_score.append(metrics.silhouette_score(dummy_process_day_1, labels))"
   ]
  },
  {
   "cell_type": "markdown",
   "id": "4bb86b38",
   "metadata": {},
   "source": [
    "From reference [2] from our bibliography, we would expect min_samples=10 to give us our best results since $ 2 * dim = 10 $, however the data set is likely to contain a lot of noise and is a large data set so this may need to be increased. As for $ \\epsilon $, we will use methods such as the elbow method, largest cluster size and noise % to determine this. Silhouette score will also give us a good indicator."
   ]
  },
  {
   "cell_type": "code",
   "execution_count": 22,
   "id": "73ddc43b",
   "metadata": {},
   "outputs": [],
   "source": [
    "# DBSCAN_parameter_search = pd.read_csv('/HPC Data/Grid Search HPC.csv', compression='gz')"
   ]
  },
  {
   "cell_type": "code",
   "execution_count": 21,
   "id": "1176b188",
   "metadata": {},
   "outputs": [
    {
     "data": {
      "text/html": [
       "<div>\n",
       "<style scoped>\n",
       "    .dataframe tbody tr th:only-of-type {\n",
       "        vertical-align: middle;\n",
       "    }\n",
       "\n",
       "    .dataframe tbody tr th {\n",
       "        vertical-align: top;\n",
       "    }\n",
       "\n",
       "    .dataframe thead th {\n",
       "        text-align: right;\n",
       "    }\n",
       "</style>\n",
       "<table border=\"1\" class=\"dataframe\">\n",
       "  <thead>\n",
       "    <tr style=\"text-align: right;\">\n",
       "      <th></th>\n",
       "      <th>no_clusters</th>\n",
       "      <th>no_noise</th>\n",
       "      <th>Silhoutte Score</th>\n",
       "    </tr>\n",
       "  </thead>\n",
       "  <tbody>\n",
       "    <tr>\n",
       "      <th>(1, 100)</th>\n",
       "      <td>1</td>\n",
       "      <td>605213</td>\n",
       "      <td>0</td>\n",
       "    </tr>\n",
       "    <tr>\n",
       "      <th>(1, 50)</th>\n",
       "      <td>1</td>\n",
       "      <td>605213</td>\n",
       "      <td>0</td>\n",
       "    </tr>\n",
       "    <tr>\n",
       "      <th>(1, 25)</th>\n",
       "      <td>1</td>\n",
       "      <td>605213</td>\n",
       "      <td>0</td>\n",
       "    </tr>\n",
       "    <tr>\n",
       "      <th>(1, 15)</th>\n",
       "      <td>1</td>\n",
       "      <td>605213</td>\n",
       "      <td>0</td>\n",
       "    </tr>\n",
       "    <tr>\n",
       "      <th>(1, 10)</th>\n",
       "      <td>1</td>\n",
       "      <td>605213</td>\n",
       "      <td>0</td>\n",
       "    </tr>\n",
       "  </tbody>\n",
       "</table>\n",
       "</div>"
      ],
      "text/plain": [
       "          no_clusters  no_noise  Silhoutte Score\n",
       "(1, 100)            1    605213                0\n",
       "(1, 50)             1    605213                0\n",
       "(1, 25)             1    605213                0\n",
       "(1, 15)             1    605213                0\n",
       "(1, 10)             1    605213                0"
      ]
     },
     "execution_count": 21,
     "metadata": {},
     "output_type": "execute_result"
    }
   ],
   "source": [
    "DBSCAN_parameter_search"
   ]
  },
  {
   "cell_type": "code",
   "execution_count": null,
   "id": "2b951256",
   "metadata": {},
   "outputs": [],
   "source": []
  }
 ],
 "metadata": {
  "kernelspec": {
   "display_name": "Python 3",
   "language": "python",
   "name": "python3"
  },
  "language_info": {
   "codemirror_mode": {
    "name": "ipython",
    "version": 3
   },
   "file_extension": ".py",
   "mimetype": "text/x-python",
   "name": "python",
   "nbconvert_exporter": "python",
   "pygments_lexer": "ipython3",
   "version": "3.8.5"
  }
 },
 "nbformat": 4,
 "nbformat_minor": 5
}
