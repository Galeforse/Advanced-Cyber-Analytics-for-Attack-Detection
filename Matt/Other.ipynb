{
 "cells": [
  {
   "cell_type": "code",
   "execution_count": 3,
   "id": "ea8e8e34",
   "metadata": {},
   "outputs": [],
   "source": [
    "import imageio\n",
    "import os\n",
    "from pdf2image import convert_from_path"
   ]
  },
  {
   "cell_type": "code",
   "execution_count": 4,
   "id": "cf674471",
   "metadata": {},
   "outputs": [],
   "source": [
    "files = []\n",
    "for i in range(0,92):\n",
    "    string = 'day {}.pdf'.format(i)\n",
    "    files.append(string)"
   ]
  },
  {
   "cell_type": "code",
   "execution_count": 3,
   "id": "f3594246",
   "metadata": {},
   "outputs": [
    {
     "name": "stdout",
     "output_type": "stream",
     "text": [
      "day 0.pdf\n",
      "day 1.pdf\n",
      "day 2.pdf\n",
      "day 3.pdf\n",
      "day 4.pdf\n",
      "day 5.pdf\n",
      "day 6.pdf\n",
      "day 7.pdf\n",
      "day 8.pdf\n",
      "day 9.pdf\n",
      "day 10.pdf\n",
      "day 11.pdf\n",
      "day 12.pdf\n",
      "day 13.pdf\n",
      "day 14.pdf\n",
      "day 15.pdf\n",
      "day 16.pdf\n",
      "day 17.pdf\n",
      "day 18.pdf\n",
      "day 19.pdf\n",
      "day 20.pdf\n",
      "day 21.pdf\n",
      "day 22.pdf\n",
      "day 23.pdf\n",
      "day 24.pdf\n",
      "day 25.pdf\n",
      "day 26.pdf\n",
      "day 27.pdf\n",
      "day 28.pdf\n",
      "day 29.pdf\n",
      "day 30.pdf\n",
      "day 31.pdf\n",
      "day 32.pdf\n",
      "day 33.pdf\n",
      "day 34.pdf\n",
      "day 35.pdf\n",
      "day 36.pdf\n",
      "day 37.pdf\n",
      "day 38.pdf\n",
      "day 39.pdf\n",
      "day 40.pdf\n",
      "day 41.pdf\n",
      "day 42.pdf\n",
      "day 43.pdf\n",
      "day 44.pdf\n",
      "day 45.pdf\n",
      "day 46.pdf\n",
      "day 47.pdf\n",
      "day 48.pdf\n",
      "day 49.pdf\n",
      "day 50.pdf\n",
      "day 51.pdf\n",
      "day 52.pdf\n",
      "day 53.pdf\n",
      "day 54.pdf\n",
      "day 55.pdf\n",
      "day 56.pdf\n",
      "day 57.pdf\n",
      "day 58.pdf\n",
      "day 59.pdf\n",
      "day 60.pdf\n",
      "day 61.pdf\n",
      "day 62.pdf\n",
      "day 63.pdf\n",
      "day 64.pdf\n",
      "day 65.pdf\n",
      "day 66.pdf\n",
      "day 67.pdf\n",
      "day 68.pdf\n",
      "day 69.pdf\n",
      "day 70.pdf\n",
      "day 71.pdf\n",
      "day 72.pdf\n",
      "day 73.pdf\n",
      "day 74.pdf\n",
      "day 75.pdf\n",
      "day 76.pdf\n",
      "day 77.pdf\n",
      "day 78.pdf\n",
      "day 79.pdf\n",
      "day 80.pdf\n",
      "day 81.pdf\n",
      "day 82.pdf\n",
      "day 83.pdf\n",
      "day 84.pdf\n",
      "day 85.pdf\n",
      "day 86.pdf\n",
      "day 87.pdf\n",
      "day 88.pdf\n",
      "day 89.pdf\n",
      "day 90.pdf\n",
      "day 91.pdf\n"
     ]
    },
    {
     "ename": "TypeError",
     "evalue": "int() argument must be a string, a bytes-like object or a number, not 'PpmImageFile'",
     "output_type": "error",
     "traceback": [
      "\u001b[1;31m---------------------------------------------------------------------------\u001b[0m",
      "\u001b[1;31mTypeError\u001b[0m                                 Traceback (most recent call last)",
      "\u001b[1;32m<ipython-input-3-39a64b940c42>\u001b[0m in \u001b[0;36m<module>\u001b[1;34m\u001b[0m\n\u001b[0;32m      8\u001b[0m     \u001b[1;32mexcept\u001b[0m\u001b[1;33m:\u001b[0m\u001b[1;33m\u001b[0m\u001b[1;33m\u001b[0m\u001b[0m\n\u001b[0;32m      9\u001b[0m         \u001b[1;32mpass\u001b[0m\u001b[1;33m\u001b[0m\u001b[1;33m\u001b[0m\u001b[0m\n\u001b[1;32m---> 10\u001b[1;33m \u001b[0mimageio\u001b[0m\u001b[1;33m.\u001b[0m\u001b[0mmimsave\u001b[0m\u001b[1;33m(\u001b[0m\u001b[1;34m'gifattempt1.gif'\u001b[0m\u001b[1;33m,\u001b[0m \u001b[0mimages\u001b[0m\u001b[1;33m)\u001b[0m\u001b[1;33m\u001b[0m\u001b[1;33m\u001b[0m\u001b[0m\n\u001b[0m",
      "\u001b[1;32m~\\anaconda3\\lib\\site-packages\\imageio\\core\\functions.py\u001b[0m in \u001b[0;36mmimwrite\u001b[1;34m(uri, ims, format, **kwargs)\u001b[0m\n\u001b[0;32m    405\u001b[0m             \u001b[1;31m# Test image\u001b[0m\u001b[1;33m\u001b[0m\u001b[1;33m\u001b[0m\u001b[1;33m\u001b[0m\u001b[0m\n\u001b[0;32m    406\u001b[0m             \u001b[0mimt\u001b[0m \u001b[1;33m=\u001b[0m \u001b[0mtype\u001b[0m\u001b[1;33m(\u001b[0m\u001b[0mim\u001b[0m\u001b[1;33m)\u001b[0m\u001b[1;33m\u001b[0m\u001b[1;33m\u001b[0m\u001b[0m\n\u001b[1;32m--> 407\u001b[1;33m             \u001b[0mim\u001b[0m \u001b[1;33m=\u001b[0m \u001b[0mnp\u001b[0m\u001b[1;33m.\u001b[0m\u001b[0masanyarray\u001b[0m\u001b[1;33m(\u001b[0m\u001b[0mim\u001b[0m\u001b[1;33m)\u001b[0m\u001b[1;33m\u001b[0m\u001b[1;33m\u001b[0m\u001b[0m\n\u001b[0m\u001b[0;32m    408\u001b[0m             \u001b[1;32mif\u001b[0m \u001b[1;32mnot\u001b[0m \u001b[0mnp\u001b[0m\u001b[1;33m.\u001b[0m\u001b[0missubdtype\u001b[0m\u001b[1;33m(\u001b[0m\u001b[0mim\u001b[0m\u001b[1;33m.\u001b[0m\u001b[0mdtype\u001b[0m\u001b[1;33m,\u001b[0m \u001b[0mnp\u001b[0m\u001b[1;33m.\u001b[0m\u001b[0mnumber\u001b[0m\u001b[1;33m)\u001b[0m\u001b[1;33m:\u001b[0m\u001b[1;33m\u001b[0m\u001b[1;33m\u001b[0m\u001b[0m\n\u001b[0;32m    409\u001b[0m                 \u001b[1;32mraise\u001b[0m \u001b[0mValueError\u001b[0m\u001b[1;33m(\u001b[0m\u001b[1;34m\"Image is not numeric, but {}.\"\u001b[0m\u001b[1;33m.\u001b[0m\u001b[0mformat\u001b[0m\u001b[1;33m(\u001b[0m\u001b[0mimt\u001b[0m\u001b[1;33m.\u001b[0m\u001b[0m__name__\u001b[0m\u001b[1;33m)\u001b[0m\u001b[1;33m)\u001b[0m\u001b[1;33m\u001b[0m\u001b[1;33m\u001b[0m\u001b[0m\n",
      "\u001b[1;32m~\\anaconda3\\lib\\site-packages\\numpy\\core\\_asarray.py\u001b[0m in \u001b[0;36masanyarray\u001b[1;34m(a, dtype, order)\u001b[0m\n\u001b[0;32m    134\u001b[0m \u001b[1;33m\u001b[0m\u001b[0m\n\u001b[0;32m    135\u001b[0m     \"\"\"\n\u001b[1;32m--> 136\u001b[1;33m     \u001b[1;32mreturn\u001b[0m \u001b[0marray\u001b[0m\u001b[1;33m(\u001b[0m\u001b[0ma\u001b[0m\u001b[1;33m,\u001b[0m \u001b[0mdtype\u001b[0m\u001b[1;33m,\u001b[0m \u001b[0mcopy\u001b[0m\u001b[1;33m=\u001b[0m\u001b[1;32mFalse\u001b[0m\u001b[1;33m,\u001b[0m \u001b[0morder\u001b[0m\u001b[1;33m=\u001b[0m\u001b[0morder\u001b[0m\u001b[1;33m,\u001b[0m \u001b[0msubok\u001b[0m\u001b[1;33m=\u001b[0m\u001b[1;32mTrue\u001b[0m\u001b[1;33m)\u001b[0m\u001b[1;33m\u001b[0m\u001b[1;33m\u001b[0m\u001b[0m\n\u001b[0m\u001b[0;32m    137\u001b[0m \u001b[1;33m\u001b[0m\u001b[0m\n\u001b[0;32m    138\u001b[0m \u001b[1;33m\u001b[0m\u001b[0m\n",
      "\u001b[1;31mTypeError\u001b[0m: int() argument must be a string, a bytes-like object or a number, not 'PpmImageFile'"
     ]
    }
   ],
   "source": [
    "import imageio\n",
    "images = []\n",
    "for filename in files:\n",
    "    print(filename)\n",
    "    try:\n",
    "        img = convert_from_path(filename, 500)\n",
    "        images.append(img)\n",
    "    except:\n",
    "        pass\n",
    "imageio.mimsave('gifattempt1.gif', images)"
   ]
  },
  {
   "cell_type": "code",
   "execution_count": 4,
   "id": "f0b99e38",
   "metadata": {},
   "outputs": [],
   "source": [
    "from pdf2image import convert_from_path"
   ]
  },
  {
   "cell_type": "code",
   "execution_count": 6,
   "id": "7128e20a",
   "metadata": {
    "scrolled": true
   },
   "outputs": [
    {
     "name": "stdout",
     "output_type": "stream",
     "text": [
      "day 84.pdf\n",
      "day 86.pdf\n",
      "day 90.pdf\n"
     ]
    }
   ],
   "source": [
    "for file in files:\n",
    "\n",
    "    print(file)\n",
    "    pages = convert_from_path(file, 500)\n",
    "    i = file[4:6]\n",
    "    for page in pages:\n",
    "        nm = \"day {}.png\".format(i)\n",
    "        page.save(nm, 'PNG')\n"
   ]
  },
  {
   "cell_type": "code",
   "execution_count": null,
   "id": "5d47c190",
   "metadata": {},
   "outputs": [],
   "source": []
  }
 ],
 "metadata": {
  "kernelspec": {
   "display_name": "Python 3",
   "language": "python",
   "name": "python3"
  },
  "language_info": {
   "codemirror_mode": {
    "name": "ipython",
    "version": 3
   },
   "file_extension": ".py",
   "mimetype": "text/x-python",
   "name": "python",
   "nbconvert_exporter": "python",
   "pygments_lexer": "ipython3",
   "version": "3.8.5"
  }
 },
 "nbformat": 4,
 "nbformat_minor": 5
}
