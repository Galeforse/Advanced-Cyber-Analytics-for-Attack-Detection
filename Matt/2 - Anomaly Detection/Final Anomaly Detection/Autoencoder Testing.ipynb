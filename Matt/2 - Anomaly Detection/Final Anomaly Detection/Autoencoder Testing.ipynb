{
 "cells": [
  {
   "cell_type": "markdown",
   "id": "49d3808e-4091-4a19-8d11-b1822257d724",
   "metadata": {},
   "source": [
    "# Autoencoder Testing"
   ]
  },
  {
   "cell_type": "code",
   "execution_count": 2,
   "id": "7d5ffd0a-56cd-462f-a874-305bc5cefd0c",
   "metadata": {},
   "outputs": [],
   "source": [
    "from pyCP_APR import CP_APR\n",
    "\n",
    "import numpy as np\n",
    "import pandas as pd\n",
    "import matplotlib.pyplot as plt\n",
    "import matplotlib.patches as mpatches\n",
    "import seaborn as sns\n",
    "import os\n",
    "import os.path\n",
    "import gzip\n",
    "import shutil\n",
    "import datetime\n",
    "import networkx as nx\n",
    "import pickle\n",
    "from scipy import stats\n",
    "from scipy import sparse\n",
    "import bz2\n",
    "import random\n",
    "import regex as re\n",
    "from tqdm.notebook import tqdm\n",
    "import scipy\n",
    "\n",
    "from sklearn.preprocessing import Normalizer, StandardScaler, MinMaxScaler\n",
    "from sklearn.ensemble import IsolationForest\n",
    "from sklearn.metrics import silhouette_score, silhouette_samples\n",
    "from sklearn.cluster import KMeans\n",
    "from sklearn.decomposition import PCA\n",
    "from sklearn.neighbors import LocalOutlierFactor\n",
    "from sklearn.pipeline import Pipeline\n",
    "from sklearn.model_selection import train_test_split\n",
    "from sklearn.metrics import confusion_matrix, classification_report, matthews_corrcoef, cohen_kappa_score, accuracy_score, average_precision_score, roc_auc_score\n",
    "\n",
    "from IPython.display import clear_output\n",
    "\n",
    "import tensorflow as tf\n",
    "import keras\n",
    "from tensorflow.keras import layers\n",
    "from tensorflow.keras.models import Model\n",
    "from tensorflow.keras.models import Sequential\n",
    "from tqdm.keras import TqdmCallback"
   ]
  },
  {
   "cell_type": "code",
   "execution_count": 3,
   "id": "350913f5-8a9b-434d-97b6-d787fe8d9aca",
   "metadata": {},
   "outputs": [],
   "source": [
    "os.environ['PYTHONHASHSEED'] = '42'\n",
    "np.random.seed(42)\n",
    "random.seed(42)\n",
    "tf.random.set_seed(42)"
   ]
  },
  {
   "cell_type": "markdown",
   "id": "c23600c8-88ec-4c45-91f8-524416f96a58",
   "metadata": {},
   "source": [
    "Here we'll implement a variety of structures for the autoencoder to ensure that we have an accurate autoencoder."
   ]
  },
  {
   "cell_type": "markdown",
   "id": "d9e0767e-db5e-4b59-9f5e-749c67d086a7",
   "metadata": {},
   "source": [
    "### Feature Creation"
   ]
  },
  {
   "cell_type": "code",
   "execution_count": 4,
   "id": "c4f6767c-b551-42f6-964a-eeddba48e2eb",
   "metadata": {},
   "outputs": [
    {
     "name": "stdout",
     "output_type": "stream",
     "text": [
      "Attempting to read entire data set.\n"
     ]
    },
    {
     "name": "stderr",
     "output_type": "stream",
     "text": [
      "C:\\Users\\corri\\anaconda3\\lib\\site-packages\\numpy\\lib\\arraysetops.py:580: FutureWarning: elementwise comparison failed; returning scalar instead, but in the future will perform elementwise comparison\n",
      "  mask |= (ar1 == a)\n"
     ]
    }
   ],
   "source": [
    "try:\n",
    "    print('Attempting to read entire data set.')\n",
    "    authentication_data = pd.read_csv('../../../Data/Authentication data.gz', compression='gzip', index_col = 0)\n",
    "    process_data = pd.read_csv('../../../Data/Process data.gz', compression='gzip', index_col = 0)\n",
    "except:\n",
    "    clear_output()\n",
    "    print('Unable to read entire data set, reading from original files.')\n",
    "    rootdir = 'C:/Users/corri/OneDrive/Documents/Uni/Postgraduate/Final Project/LANL/ATI Data/Summaries/wls'\n",
    "    unzippeddir = 'C:/Users/corri/OneDrive/Documents/Uni/Postgraduate/Final Project/LANL/ATI Data/Summaries/wls/Unzipped'\n",
    "    frames = []\n",
    "\n",
    "    count = 0\n",
    "    \n",
    "    for subdir, dirs, files in os.walk(rootdir):\n",
    "        for file in files:\n",
    "            if file[-3:] == '.gz':\n",
    "                filedir = rootdir + '/' + file\n",
    "                with gzip.open(filedir) as f:\n",
    "                    df = pd.read_csv(filedir, header=None)\n",
    "                    frames.append(df)\n",
    "                if 'authentications' in str(file):\n",
    "                    count = count + len(df)\n",
    "    \n",
    "    df = pd.concat(frames)\n",
    "\n",
    "    authentication_data = df[:count]\n",
    "    authentication_data.columns = ['UserName', 'SrcDevice','DstDevice', 'Authent Type', 'Failure', 'DailyCount']\n",
    "\n",
    "    process_data = df[count:]\n",
    "    process_data = process_data[[0,1,2,3,4]]\n",
    "    process_data.columns = ['UserName', 'Device', 'ProcessName', 'ParentProcessName', 'DailyCount']\n",
    "\n",
    "    authentication_data.to_csv('../Data/Authentication data.gz', header=True, compression='gzip')\n",
    "    process_data.to_csv('../Data/Process data.gz', header=True, compression='gzip')"
   ]
  },
  {
   "cell_type": "code",
   "execution_count": 5,
   "id": "dcdacd4e-8e24-463f-9816-eedada950267",
   "metadata": {},
   "outputs": [],
   "source": [
    "rt_usernames = list(pd.read_csv('../../../Data/AuthUserNames.txt', header=None)[0])\n",
    "non_rt_users = [un for un in authentication_data['UserName'].unique() if un not in rt_usernames]\n",
    "non_rt_sample = pickle.load (open('Random Sample of Non Red Team Usernames.p','rb'))"
   ]
  },
  {
   "cell_type": "code",
   "execution_count": 6,
   "id": "0fae8c2e-bf75-47be-8a68-94416a1a3a23",
   "metadata": {},
   "outputs": [],
   "source": [
    "a_t = list(authentication_data['Authent Type'].unique())\n",
    "AT_dict = { i : a_t[i] for i in range(0, len(a_t) ) }"
   ]
  },
  {
   "cell_type": "code",
   "execution_count": 7,
   "id": "03363237-490c-41b5-a8a5-7362909fff6d",
   "metadata": {},
   "outputs": [],
   "source": [
    "auth_index_list = authentication_data.index.tolist()\n",
    "auth_start_days = [i for i, e in enumerate(auth_index_list) if e == 0]\n",
    "auth_start_days.append(len(authentication_data))"
   ]
  },
  {
   "cell_type": "code",
   "execution_count": 8,
   "id": "c869face-a1d7-42c2-b971-d4094af359d7",
   "metadata": {},
   "outputs": [],
   "source": [
    "def split_dataframe(df,n):\n",
    "    chunks = list()\n",
    "    chunk_size = int(np.round(df.shape[0]/n))\n",
    "    num_chunks = n\n",
    "    for i in range(num_chunks):\n",
    "        if i != num_chunks-1:\n",
    "            chunks.append(df[i*chunk_size:(i+1)*chunk_size])\n",
    "        else:\n",
    "            chunks.append(df[i*chunk_size:])\n",
    "    return chunks"
   ]
  },
  {
   "cell_type": "code",
   "execution_count": 9,
   "id": "679deb9b-448e-42d8-a3a8-650b4c616319",
   "metadata": {},
   "outputs": [],
   "source": [
    "def feature_generation(user,n):\n",
    "    \n",
    "    auth_type_df = pd.DataFrame(index = list(authentication_data['Authent Type'].unique()))\n",
    "    n = n\n",
    "    auth_type_dict = {}\n",
    "    feat_dict = {}\n",
    "    # for reference (not used)\n",
    "    day_dict = {0:'Monday',1:'Tuesday',2:'Wednesday',3:'Thursday',4:'Friday',5:'Saturday',6:'Sunday'}\n",
    "    \n",
    "    for i in range(len(auth_start_days)-1):\n",
    "        # gives access to a day for the NN - assume start on a monday based on EDA\n",
    "        day = i%7\n",
    "        chunks = split_dataframe(authentication_data[auth_start_days[i]:auth_start_days[i+1]],n)\n",
    "        for j in range(n):\n",
    "                data = chunks[j]\n",
    "                authents = len(data[data['UserName'] == user])\n",
    "                failures = len(data[(data['UserName'] == user) & (data['Failure'] == 1)])\n",
    "                srcunique = len(data[data['UserName'] == user]['SrcDevice'].unique())\n",
    "                dstunique = len(data[data['UserName'] == user]['DstDevice'].unique())\n",
    "                uniquepairs = len(data[data['UserName'] == user].groupby(['SrcDevice','DstDevice']).size())\n",
    "                auth_type_data = data[data['UserName'] == user].groupby('Authent Type')['DailyCount'].sum()\n",
    "                auth_type_dict[i*n + j] = auth_type_df.index.to_series().map(auth_type_data.to_dict())\n",
    "                #feat_dict[i*n + j] = [srcunique,dstunique,authents,failures]\n",
    "                feat_dict[i*n + j] = [day,srcunique,dstunique,uniquepairs,authents,failures]\n",
    "                \n",
    "    #df = pd.DataFrame(data=feat_dict,index =  ['SrcUnique','DstUnique','Authentications','Failures'])\n",
    "    df1 = pd.DataFrame(data=feat_dict,index =  ['Day','SrcUnique','DstUnique','UniquePairs','Authentications','Failures'])\n",
    "    df1 = df1.transpose()\n",
    "    df1 = df1.fillna(0)\n",
    "    \n",
    "    auth_type_df = pd.DataFrame(data=auth_type_dict,index = list(authentication_data['Authent Type'].unique()))\n",
    "    auth_type_df = auth_type_df.transpose()\n",
    "    auth_type_df = auth_type_df.fillna(0)\n",
    "    \n",
    "    df = pd.concat([df1, auth_type_df], axis=1)\n",
    "    \n",
    "    return df"
   ]
  },
  {
   "cell_type": "code",
   "execution_count": 13,
   "id": "41a3925e-02d1-4fba-9b29-a45e609cbe4e",
   "metadata": {},
   "outputs": [
    {
     "data": {
      "application/vnd.jupyter.widget-view+json": {
       "model_id": "ed6c96c107b146eaaaf84be9082570a8",
       "version_major": 2,
       "version_minor": 0
      },
      "text/plain": [
       "0it [00:00, ?it/s]"
      ]
     },
     "metadata": {},
     "output_type": "display_data"
    },
    {
     "data": {
      "application/vnd.jupyter.widget-view+json": {
       "model_id": "eb506a8a68b243e4aa7b0de61544666c",
       "version_major": 2,
       "version_minor": 0
      },
      "text/plain": [
       "0it [00:00, ?it/s]"
      ]
     },
     "metadata": {},
     "output_type": "display_data"
    }
   ],
   "source": [
    "rt_count_dframes = []\n",
    "norm_count_dframes = []\n",
    "\n",
    "for i,un in tqdm(enumerate(set(rt_usernames))):\n",
    "    df = feature_generation(un,24)\n",
    "    rt_count_dframes.append(df)\n",
    "\n",
    "for i,un in tqdm(enumerate(non_rt_sample)):\n",
    "    df = feature_generation(un,24)\n",
    "    norm_count_dframes.append(df)"
   ]
  },
  {
   "cell_type": "markdown",
   "id": "1fa8cdef-c0ab-44dc-bd9c-cd9d9bcf5cf3",
   "metadata": {},
   "source": [
    "### Autoencoder"
   ]
  },
  {
   "cell_type": "code",
   "execution_count": 10,
   "id": "2bd2f5aa-22aa-482d-a291-5212ba15dc0e",
   "metadata": {},
   "outputs": [],
   "source": [
    "def ae_orig_finder(user,n,idx):\n",
    "    \n",
    "    j_idx = idx % n\n",
    "    i_idx = int(idx/n)\n",
    "\n",
    "    chunks = split_dataframe(authentication_data[auth_start_days[i_idx]:auth_start_days[i_idx+1]],n)\n",
    "    data = chunks[j_idx][chunks[j_idx]['UserName'] == user]\n",
    "    data['Hour'] = [j_idx]*len(data)\n",
    "    data['Day'] = [i_idx+1]*len(data)\n",
    "    \n",
    "    return data"
   ]
  },
  {
   "cell_type": "code",
   "execution_count": 11,
   "id": "2123c5b4-0b17-4f39-b12f-571e38b18e04",
   "metadata": {},
   "outputs": [],
   "source": [
    "def simple_ae_eval(anomaly_bools,anomalies,val_losses,usernames,type_un):\n",
    "    \n",
    "    non_anom = []\n",
    "    for i in range(len(anomaly_bools)):\n",
    "        if anomaly_bools[i][0] == 0:    \n",
    "            non_anom.append(anomaly_bools[i][1])\n",
    "\n",
    "    anom = []\n",
    "    for i in range(len(anomaly_bools)):\n",
    "        if anomaly_bools[i][0] != 0:    \n",
    "            anom.append(anomaly_bools[i][1])\n",
    "    \n",
    "    print('{} of the {} usernames were identified to have anomalies out of {} {} usernames. The folloiwng usernames were found to have no anomalies'.\n",
    "          format(len(np.where(np.array([i[0] for i in anomaly_bools]) > 0)[0]),type_un,len(anomaly_bools),type_un))\n",
    "    print('--------------------------------------------------------------------------------------------')        \n",
    "    print(', '.join(map(str,non_anom)))\n",
    "    \n",
    "    perc = 100*len(anomalies)/len(authentication_data[authentication_data['UserName'].isin(usernames)])\n",
    "    print('{:.2f}% of the {} data was identified as anomalous.'.format(perc,type_un))\n",
    "    \n",
    "    final_losses = []\n",
    "    for i in range(len(val_losses)):\n",
    "        final_losses.append(val_losses[i][0][len(val_losses[i][0])-1]) \n",
    "\n",
    "    plt.figure()\n",
    "    sns.boxplot(data = final_losses)\n",
    "    plt.show()\n",
    "    \n",
    "    print(anomalies.groupby('Authent Type').size())\n",
    "    \n",
    "    anomalies.head()\n",
    "    \n",
    "    return"
   ]
  },
  {
   "cell_type": "markdown",
   "id": "ed9b6325-3a41-49b0-a4b8-bc1645240f51",
   "metadata": {},
   "source": [
    "#### Current Autoencoder"
   ]
  },
  {
   "cell_type": "code",
   "execution_count": 14,
   "id": "ac031b84-df73-4bb5-84ce-75bd6e7b7562",
   "metadata": {},
   "outputs": [],
   "source": [
    "def ae_anomaly_finder(user,df,n,BATCH_SIZE=64, EPOCHS=1000):\n",
    "    \n",
    "    clear_output()\n",
    "    \n",
    "    # get the train/test sets\n",
    "    x_train_ae = np.concatenate([np.array(df[0:57*n]),np.array(df[82*n:])])\n",
    "    x_test_ae = np.array(df[57*n:82*n])\n",
    "    \n",
    "    # create our scaling pipeline\n",
    "    pipeline = Pipeline([('normalizer', Normalizer()),\n",
    "                    ('scaler', MinMaxScaler())])\n",
    "    pipeline.fit(x_train_ae)\n",
    "    x_train_ae = pipeline.transform(x_train_ae)\n",
    "    x_test_ae = pipeline.transform(x_test_ae)\n",
    "    \n",
    "    # define neural network parameters\n",
    "    input_dim = x_train_ae.shape[1]\n",
    "    BATCH_SIZE = BATCH_SIZE\n",
    "    EPOCHS = EPOCHS\n",
    "\n",
    "    # define the autoencoder\n",
    "    autoencoder =Sequential([\n",
    "\n",
    "        # deconstruct / encode\n",
    "        tf.keras.layers.Dense(input_dim, activation='elu', input_shape=(input_dim, )),\n",
    "        tf.keras.layers.Dropout(rate=0.1),\n",
    "        tf.keras.layers.Dense(16, activation='elu'),\n",
    "        tf.keras.layers.Dropout(rate=0.1),\n",
    "        tf.keras.layers.Dense(14, activation='elu'),\n",
    "        tf.keras.layers.Dropout(rate=0.1),\n",
    "        tf.keras.layers.Dense(12, activation='elu'),\n",
    "        tf.keras.layers.Dropout(rate=0.1),\n",
    "        tf.keras.layers.Dense(10, activation='elu'),\n",
    "        tf.keras.layers.Dropout(rate=0.1),\n",
    "        tf.keras.layers.Dense(8, activation='elu'),\n",
    "        tf.keras.layers.Dropout(rate=0.1),\n",
    "        tf.keras.layers.Dense(6, activation='elu'),\n",
    "        tf.keras.layers.Dropout(rate=0.1),\n",
    "        tf.keras.layers.Dense(4, activation='elu'),\n",
    "        tf.keras.layers.Dropout(rate=0.1),\n",
    "        tf.keras.layers.Dense(2, activation='elu'),\n",
    "        tf.keras.layers.Dropout(rate=0.1),\n",
    "\n",
    "        # reconstruction / decode\n",
    "        tf.keras.layers.Dense(2, activation='elu'),\n",
    "        tf.keras.layers.Dropout(rate=0.1),\n",
    "        tf.keras.layers.Dense(4, activation='elu'),\n",
    "        tf.keras.layers.Dropout(rate=0.1),\n",
    "        tf.keras.layers.Dense(6, activation='elu'),\n",
    "        tf.keras.layers.Dropout(rate=0.1),\n",
    "        tf.keras.layers.Dense(8, activation='elu'),\n",
    "        tf.keras.layers.Dropout(rate=0.1),\n",
    "        tf.keras.layers.Dense(10, activation='elu'),\n",
    "        tf.keras.layers.Dropout(rate=0.1),\n",
    "        tf.keras.layers.Dense(12, activation='elu'),\n",
    "        tf.keras.layers.Dropout(rate=0.1),\n",
    "        tf.keras.layers.Dense(14, activation='elu'),\n",
    "        tf.keras.layers.Dropout(rate=0.1),\n",
    "        tf.keras.layers.Dense(16, activation='elu'),\n",
    "        tf.keras.layers.Dropout(rate=0.1),\n",
    "        tf.keras.layers.Dense(input_dim, activation='elu')\n",
    "\n",
    "    ])\n",
    "\n",
    "    # compile the autoencoder\n",
    "    autoencoder.compile(optimizer=\"adam\", \n",
    "                        loss=\"mse\",\n",
    "                        metrics=[\"acc\"])\n",
    "    \n",
    "    early_stop = tf.keras.callbacks.EarlyStopping(\n",
    "    monitor='val_loss',\n",
    "    min_delta=0.0001,\n",
    "    patience=10,\n",
    "    verbose=1, \n",
    "    mode='min',\n",
    "    restore_best_weights=True\n",
    "    )\n",
    "    \n",
    "    # allows for early stopping and better visualisation of progress\n",
    "    cb = [early_stop,TqdmCallback(verbose=1)]\n",
    "    \n",
    "    # fit the auto encoder\n",
    "    history = autoencoder.fit(\n",
    "        x_train_ae, x_train_ae,\n",
    "        shuffle=True,\n",
    "        epochs=EPOCHS,\n",
    "        batch_size=BATCH_SIZE,\n",
    "        validation_split=0.1,\n",
    "        verbose=0,\n",
    "        callbacks=cb   \n",
    "    )\n",
    "    \n",
    "    # make predictions on the remaining data\n",
    "    x_test_pred = autoencoder.predict(x_test_ae)\n",
    "    test_mae_loss = np.mean(np.abs(x_test_pred - x_test_ae), axis=1)\n",
    "    \n",
    "    anomalies = np.where(test_mae_loss > np.array(history.history[\"val_loss\"]).min())\n",
    "    anomaly_idx = anomalies[0]\n",
    "    \n",
    "    frame = []\n",
    "    for i in range(len(anomaly_idx)):\n",
    "        anomaly = ae_orig_finder(user,n,57*n+anomaly_idx[i])\n",
    "        \n",
    "        # indicates that an anomaly was found where we have no information i.e. the lack of an event was anomalous\n",
    "        if len(anomaly) == 0:\n",
    "            pass\n",
    "        else:\n",
    "            frame.append(anomaly)\n",
    "        \n",
    "    if len(frame) != 0:\n",
    "        anomaly_df = pd.concat(frame)\n",
    "        return anomaly_df,1,history.history[\"val_loss\"]\n",
    "    else:\n",
    "        print('No anomalies found.')\n",
    "        return pd.DataFrame(test_mae_loss).describe(),0,history.history[\"val_loss\"]"
   ]
  },
  {
   "cell_type": "code",
   "execution_count": 15,
   "id": "d12e7a85-d2c5-4e45-8699-4f44e55f255e",
   "metadata": {},
   "outputs": [
    {
     "data": {
      "application/vnd.jupyter.widget-view+json": {
       "model_id": "3a4f6c4ef2a14501b9c82b690e2a401f",
       "version_major": 2,
       "version_minor": 0
      },
      "text/plain": [
       "0epoch [00:00, ?epoch/s]"
      ]
     },
     "metadata": {},
     "output_type": "display_data"
    },
    {
     "data": {
      "application/vnd.jupyter.widget-view+json": {
       "model_id": "",
       "version_major": 2,
       "version_minor": 0
      },
      "text/plain": [
       "0batch [00:00, ?batch/s]"
      ]
     },
     "metadata": {},
     "output_type": "display_data"
    },
    {
     "name": "stdout",
     "output_type": "stream",
     "text": [
      "Restoring model weights from the end of the best epoch.\n",
      "Epoch 00072: early stopping\n"
     ]
    },
    {
     "name": "stderr",
     "output_type": "stream",
     "text": [
      "C:\\Users\\corri\\anaconda3\\lib\\site-packages\\pandas\\core\\frame.py:3607: SettingWithCopyWarning: \n",
      "A value is trying to be set on a copy of a slice from a DataFrame.\n",
      "Try using .loc[row_indexer,col_indexer] = value instead\n",
      "\n",
      "See the caveats in the documentation: https://pandas.pydata.org/pandas-docs/stable/user_guide/indexing.html#returning-a-view-versus-a-copy\n",
      "  self._set_item(key, value)\n"
     ]
    },
    {
     "name": "stdout",
     "output_type": "stream",
     "text": [
      "0:09:19.942938\n"
     ]
    }
   ],
   "source": [
    "frames_5 = []\n",
    "anomaly_bool_5 = []\n",
    "val_loss_5 = []\n",
    "\n",
    "s_time = datetime.datetime.now()\n",
    "\n",
    "for i,un in enumerate(set(rt_usernames)):\n",
    "    clear_output(wait=True)\n",
    "    print('Working with username {} of {}. {:.2f} percentage complete.'.format(i+1,len(rt_usernames),100*((i+1)/len(rt_usernames))))\n",
    "    df = rt_count_dframes[i]\n",
    "    f,b,val = ae_anomaly_finder(un,df,24)\n",
    "    if b == 1:\n",
    "        frames_5.append(f)\n",
    "        anomaly_bool_5.append((len(f),un))\n",
    "        val_loss_5.append((val,un))\n",
    "    else:\n",
    "        anomaly_bool_5.append((0,un))\n",
    "        val_loss_5.append((val,un))\n",
    "        pass\n",
    "anomalies_ae_5 = pd.concat(frames_5)\n",
    "\n",
    "e_time = datetime.datetime.now()\n",
    "print(e_time-s_time)"
   ]
  },
  {
   "cell_type": "code",
   "execution_count": 16,
   "id": "f54eca0c-d153-4c89-babe-4a42d501dc35",
   "metadata": {},
   "outputs": [
    {
     "data": {
      "application/vnd.jupyter.widget-view+json": {
       "model_id": "5b699a7b575c4f48904c03d7b265a4f2",
       "version_major": 2,
       "version_minor": 0
      },
      "text/plain": [
       "0epoch [00:00, ?epoch/s]"
      ]
     },
     "metadata": {},
     "output_type": "display_data"
    },
    {
     "data": {
      "application/vnd.jupyter.widget-view+json": {
       "model_id": "",
       "version_major": 2,
       "version_minor": 0
      },
      "text/plain": [
       "0batch [00:00, ?batch/s]"
      ]
     },
     "metadata": {},
     "output_type": "display_data"
    },
    {
     "name": "stdout",
     "output_type": "stream",
     "text": [
      "Restoring model weights from the end of the best epoch.\n",
      "Epoch 00122: early stopping\n"
     ]
    },
    {
     "name": "stderr",
     "output_type": "stream",
     "text": [
      "C:\\Users\\corri\\anaconda3\\lib\\site-packages\\pandas\\core\\frame.py:3607: SettingWithCopyWarning: \n",
      "A value is trying to be set on a copy of a slice from a DataFrame.\n",
      "Try using .loc[row_indexer,col_indexer] = value instead\n",
      "\n",
      "See the caveats in the documentation: https://pandas.pydata.org/pandas-docs/stable/user_guide/indexing.html#returning-a-view-versus-a-copy\n",
      "  self._set_item(key, value)\n"
     ]
    },
    {
     "name": "stdout",
     "output_type": "stream",
     "text": [
      "0:16:37.194846\n"
     ]
    }
   ],
   "source": [
    "frames_n_5 = []\n",
    "anomaly_bool_N_5 = []\n",
    "val_loss_n_5 = []\n",
    "bound = 400\n",
    "\n",
    "s_time = datetime.datetime.now()\n",
    "\n",
    "for i,un in enumerate(non_rt_sample):\n",
    "    df = norm_count_dframes[i]\n",
    "    f,b,val = ae_anomaly_finder(un,df,24)\n",
    "    if b == 1:\n",
    "        frames_n_5.append(f)\n",
    "        anomaly_bool_N_5.append((len(f),un))\n",
    "        val_loss_n_5.append((val,un))\n",
    "    else:\n",
    "        anomaly_bool_N_5.append((0,un))\n",
    "        val_loss_n_5.append((val,un))\n",
    "        pass\n",
    "anomalies_ae_n_5 = pd.concat(frames_n_5)\n",
    "e_time = datetime.datetime.now()\n",
    "print(e_time-s_time)"
   ]
  },
  {
   "cell_type": "code",
   "execution_count": 17,
   "id": "11f37b1f-0310-4604-b56a-1fd500ba3604",
   "metadata": {},
   "outputs": [
    {
     "name": "stdout",
     "output_type": "stream",
     "text": [
      "94 of the red team usernames were identified to have anomalies out of 95 red team usernames. The folloiwng usernames were found to have no anomalies\n",
      "--------------------------------------------------------------------------------------------\n",
      "User405399\n",
      "27.77% of the red team data was identified as anomalous.\n"
     ]
    },
    {
     "data": {
      "image/png": "[encoded data removed]",
      "text/plain": [
       "<Figure size 432x288 with 1 Axes>"
      ]
     },
     "metadata": {
      "needs_background": "light"
     },
     "output_type": "display_data"
    },
    {
     "name": "stdout",
     "output_type": "stream",
     "text": [
      "Authent Type\n",
      "Batch                     487\n",
      "CachedInteractive         181\n",
      "InteractiveLogon         1127\n",
      "NetworkLogon            14486\n",
      "RemoteInteractive         364\n",
      "ScreensaverDismissed      479\n",
      "ScreensaverInvoked        475\n",
      "Service                   827\n",
      "TGS                     16867\n",
      "TGT                      4263\n",
      "WorkstationLock          1152\n",
      "WorkstationUnlock        1457\n",
      "dtype: int64\n"
     ]
    }
   ],
   "source": [
    "simple_ae_eval(anomaly_bool_5,anomalies_ae_5,val_loss_5,set(rt_usernames),'red team')"
   ]
  },
  {
   "cell_type": "code",
   "execution_count": 18,
   "id": "cb5e196a-bae2-4c73-a289-1b16f9d83f64",
   "metadata": {},
   "outputs": [
    {
     "name": "stdout",
     "output_type": "stream",
     "text": [
      "179 of the normal usernames were identified to have anomalies out of 200 normal usernames. The folloiwng usernames were found to have no anomalies\n",
      "--------------------------------------------------------------------------------------------\n",
      "Comp792408$, Comp166939$, User835130, Comp982997$, Comp220136$, User034060, Comp421434$, User681533, User658064, User108742, Comp282554$, Comp556020$, Comp834308$, Comp682953$, Comp156369$, User611055, User248771, User924320, Comp722112$, Comp360389$, Comp855953$\n",
      "29.18% of the normal data was identified as anomalous.\n"
     ]
    },
    {
     "data": {
      "image/png": "[encoded data removed]",
      "text/plain": [
       "<Figure size 432x288 with 1 Axes>"
      ]
     },
     "metadata": {
      "needs_background": "light"
     },
     "output_type": "display_data"
    },
    {
     "name": "stdout",
     "output_type": "stream",
     "text": [
      "Authent Type\n",
      "CachedInteractive          20\n",
      "InteractiveLogon          465\n",
      "NetworkLogon             9109\n",
      "RemoteInteractive          60\n",
      "ScreensaverDismissed      259\n",
      "ScreensaverInvoked        252\n",
      "Service                     4\n",
      "TGS                     12631\n",
      "TGT                      3188\n",
      "WorkstationLock           641\n",
      "WorkstationUnlock         864\n",
      "dtype: int64\n"
     ]
    }
   ],
   "source": [
    "simple_ae_eval(anomaly_bool_N_5,anomalies_ae_n_5,val_loss_n_5,non_rt_sample,'normal')"
   ]
  },
  {
   "cell_type": "markdown",
   "id": "ff152029-707a-4f9d-aa60-4a3cc521e7a5",
   "metadata": {},
   "source": [
    "#### Without Dropout"
   ]
  },
  {
   "cell_type": "code",
   "execution_count": 19,
   "id": "5de45774-52a1-4940-a760-f5f2b023f79c",
   "metadata": {},
   "outputs": [],
   "source": [
    "def ae_anomaly_finder_dropremov(user,df,n,BATCH_SIZE=64, EPOCHS=1000):\n",
    "    \n",
    "    clear_output()\n",
    "    \n",
    "    # get the train/test sets\n",
    "    x_train_ae = np.concatenate([np.array(df[0:57*n]),np.array(df[82*n:])])\n",
    "    x_test_ae = np.array(df[57*n:82*n])\n",
    "    \n",
    "    # create our scaling pipeline\n",
    "    pipeline = Pipeline([('normalizer', Normalizer()),\n",
    "                    ('scaler', MinMaxScaler())])\n",
    "    pipeline.fit(x_train_ae)\n",
    "    x_train_ae = pipeline.transform(x_train_ae)\n",
    "    x_test_ae = pipeline.transform(x_test_ae)\n",
    "    \n",
    "    # define neural network parameters\n",
    "    input_dim = x_train_ae.shape[1]\n",
    "    BATCH_SIZE = BATCH_SIZE\n",
    "    EPOCHS = EPOCHS\n",
    "\n",
    "    # define the autoencoder\n",
    "    autoencoder =Sequential([\n",
    "\n",
    "        # deconstruct / encode\n",
    "        tf.keras.layers.Dense(input_dim, activation='elu', input_shape=(input_dim, )),\n",
    "        tf.keras.layers.Dense(16, activation='elu'),\n",
    "        tf.keras.layers.Dense(14, activation='elu'),\n",
    "        tf.keras.layers.Dense(12, activation='elu'),\n",
    "        tf.keras.layers.Dense(10, activation='elu'),\n",
    "        tf.keras.layers.Dense(8, activation='elu'),\n",
    "        tf.keras.layers.Dense(6, activation='elu'),\n",
    "        tf.keras.layers.Dense(4, activation='elu'),\n",
    "        tf.keras.layers.Dense(2, activation='elu'),\n",
    "\n",
    "        # reconstruction / decode\n",
    "        tf.keras.layers.Dense(2, activation='elu'),\n",
    "        tf.keras.layers.Dense(4, activation='elu'),\n",
    "        tf.keras.layers.Dense(6, activation='elu'),\n",
    "        tf.keras.layers.Dense(8, activation='elu'),\n",
    "        tf.keras.layers.Dense(10, activation='elu'),\n",
    "        tf.keras.layers.Dense(12, activation='elu'),\n",
    "        tf.keras.layers.Dense(14, activation='elu'),\n",
    "        tf.keras.layers.Dense(16, activation='elu'),\n",
    "        tf.keras.layers.Dense(input_dim, activation='elu')\n",
    "\n",
    "    ])\n",
    "\n",
    "    # compile the autoencoder\n",
    "    autoencoder.compile(optimizer=\"adam\", \n",
    "                        loss=\"mse\",\n",
    "                        metrics=[\"acc\"])\n",
    "    \n",
    "    early_stop = tf.keras.callbacks.EarlyStopping(\n",
    "    monitor='val_loss',\n",
    "    min_delta=0.0001,\n",
    "    patience=10,\n",
    "    verbose=1, \n",
    "    mode='min',\n",
    "    restore_best_weights=True\n",
    "    )\n",
    "    \n",
    "    # allows for early stopping and better visualisation of progress\n",
    "    cb = [early_stop,TqdmCallback(verbose=1)]\n",
    "    \n",
    "    # fit the auto encoder\n",
    "    history = autoencoder.fit(\n",
    "        x_train_ae, x_train_ae,\n",
    "        shuffle=True,\n",
    "        epochs=EPOCHS,\n",
    "        batch_size=BATCH_SIZE,\n",
    "        validation_split=0.1,\n",
    "        verbose=0,\n",
    "        callbacks=cb   \n",
    "    )\n",
    "    \n",
    "    # make predictions on the remaining data\n",
    "    x_test_pred = autoencoder.predict(x_test_ae)\n",
    "    test_mae_loss = np.mean(np.abs(x_test_pred - x_test_ae), axis=1)\n",
    "    \n",
    "    anomalies = np.where(test_mae_loss > np.array(history.history[\"val_loss\"]).min())\n",
    "    anomaly_idx = anomalies[0]\n",
    "    \n",
    "    frame = []\n",
    "    for i in range(len(anomaly_idx)):\n",
    "        anomaly = ae_orig_finder(user,n,57*n+anomaly_idx[i])\n",
    "        \n",
    "        # indicates that an anomaly was found where we have no information i.e. the lack of an event was anomalous\n",
    "        if len(anomaly) == 0:\n",
    "            pass\n",
    "        else:\n",
    "            frame.append(anomaly)\n",
    "        \n",
    "    if len(frame) != 0:\n",
    "        anomaly_df = pd.concat(frame)\n",
    "        return anomaly_df,1,history.history[\"val_loss\"]\n",
    "    else:\n",
    "        print('No anomalies found.')\n",
    "        return pd.DataFrame(test_mae_loss).describe(),0,history.history[\"val_loss\"]"
   ]
  },
  {
   "cell_type": "code",
   "execution_count": 20,
   "id": "e570cb8e-e666-4c91-a211-587fe8bd1444",
   "metadata": {},
   "outputs": [
    {
     "data": {
      "application/vnd.jupyter.widget-view+json": {
       "model_id": "dbf6b96048b6432bbc6ca1c03e906609",
       "version_major": 2,
       "version_minor": 0
      },
      "text/plain": [
       "0epoch [00:00, ?epoch/s]"
      ]
     },
     "metadata": {},
     "output_type": "display_data"
    },
    {
     "data": {
      "application/vnd.jupyter.widget-view+json": {
       "model_id": "",
       "version_major": 2,
       "version_minor": 0
      },
      "text/plain": [
       "0batch [00:00, ?batch/s]"
      ]
     },
     "metadata": {},
     "output_type": "display_data"
    },
    {
     "name": "stdout",
     "output_type": "stream",
     "text": [
      "Restoring model weights from the end of the best epoch.\n",
      "Epoch 00061: early stopping\n"
     ]
    },
    {
     "name": "stderr",
     "output_type": "stream",
     "text": [
      "C:\\Users\\corri\\anaconda3\\lib\\site-packages\\pandas\\core\\frame.py:3607: SettingWithCopyWarning: \n",
      "A value is trying to be set on a copy of a slice from a DataFrame.\n",
      "Try using .loc[row_indexer,col_indexer] = value instead\n",
      "\n",
      "See the caveats in the documentation: https://pandas.pydata.org/pandas-docs/stable/user_guide/indexing.html#returning-a-view-versus-a-copy\n",
      "  self._set_item(key, value)\n"
     ]
    },
    {
     "name": "stdout",
     "output_type": "stream",
     "text": [
      "0:08:53.390761\n"
     ]
    }
   ],
   "source": [
    "frames_5 = []\n",
    "anomaly_bool_5 = []\n",
    "val_loss_5 = []\n",
    "\n",
    "s_time = datetime.datetime.now()\n",
    "\n",
    "for i,un in enumerate(set(rt_usernames)):\n",
    "    clear_output(wait=True)\n",
    "    print('Working with username {} of {}. {:.2f} percentage complete.'.format(i+1,len(rt_usernames),100*((i+1)/len(rt_usernames))))\n",
    "    df = rt_count_dframes[i]\n",
    "    f,b,val = ae_anomaly_finder_dropremov(un,df,24)\n",
    "    if b == 1:\n",
    "        frames_5.append(f)\n",
    "        anomaly_bool_5.append((len(f),un))\n",
    "        val_loss_5.append((val,un))\n",
    "    else:\n",
    "        anomaly_bool_5.append((0,un))\n",
    "        val_loss_5.append((val,un))\n",
    "        pass\n",
    "anomalies_ae_5 = pd.concat(frames_5)\n",
    "\n",
    "e_time = datetime.datetime.now()\n",
    "print(e_time-s_time)"
   ]
  },
  {
   "cell_type": "code",
   "execution_count": 21,
   "id": "db8a0c44-ba1d-448a-9835-4a4c7f186bda",
   "metadata": {},
   "outputs": [
    {
     "data": {
      "application/vnd.jupyter.widget-view+json": {
       "model_id": "304aabd5116f4bdd818accad204e953f",
       "version_major": 2,
       "version_minor": 0
      },
      "text/plain": [
       "0epoch [00:00, ?epoch/s]"
      ]
     },
     "metadata": {},
     "output_type": "display_data"
    },
    {
     "data": {
      "application/vnd.jupyter.widget-view+json": {
       "model_id": "",
       "version_major": 2,
       "version_minor": 0
      },
      "text/plain": [
       "0batch [00:00, ?batch/s]"
      ]
     },
     "metadata": {},
     "output_type": "display_data"
    },
    {
     "name": "stdout",
     "output_type": "stream",
     "text": [
      "Restoring model weights from the end of the best epoch.\n",
      "Epoch 00111: early stopping\n"
     ]
    },
    {
     "name": "stderr",
     "output_type": "stream",
     "text": [
      "C:\\Users\\corri\\anaconda3\\lib\\site-packages\\pandas\\core\\frame.py:3607: SettingWithCopyWarning: \n",
      "A value is trying to be set on a copy of a slice from a DataFrame.\n",
      "Try using .loc[row_indexer,col_indexer] = value instead\n",
      "\n",
      "See the caveats in the documentation: https://pandas.pydata.org/pandas-docs/stable/user_guide/indexing.html#returning-a-view-versus-a-copy\n",
      "  self._set_item(key, value)\n"
     ]
    },
    {
     "name": "stdout",
     "output_type": "stream",
     "text": [
      "0:16:36.797255\n"
     ]
    }
   ],
   "source": [
    "frames_n_5 = []\n",
    "anomaly_bool_N_5 = []\n",
    "val_loss_n_5 = []\n",
    "bound = 400\n",
    "\n",
    "s_time = datetime.datetime.now()\n",
    "\n",
    "for i,un in enumerate(non_rt_sample):\n",
    "    df = norm_count_dframes[i]\n",
    "    f,b,val = ae_anomaly_finder_dropremov(un,df,24)\n",
    "    if b == 1:\n",
    "        frames_n_5.append(f)\n",
    "        anomaly_bool_N_5.append((len(f),un))\n",
    "        val_loss_n_5.append((val,un))\n",
    "    else:\n",
    "        anomaly_bool_N_5.append((0,un))\n",
    "        val_loss_n_5.append((val,un))\n",
    "        pass\n",
    "anomalies_ae_n_5 = pd.concat(frames_n_5)\n",
    "e_time = datetime.datetime.now()\n",
    "print(e_time-s_time)"
   ]
  },
  {
   "cell_type": "code",
   "execution_count": 22,
   "id": "9f81e840-f1e0-4a2a-a6a3-968a75e86db5",
   "metadata": {},
   "outputs": [
    {
     "name": "stdout",
     "output_type": "stream",
     "text": [
      "94 of the red team usernames were identified to have anomalies out of 95 red team usernames. The folloiwng usernames were found to have no anomalies\n",
      "--------------------------------------------------------------------------------------------\n",
      "User405399\n",
      "29.84% of the red team data was identified as anomalous.\n"
     ]
    },
    {
     "data": {
      "image/png": "[encoded data removed]",
      "text/plain": [
       "<Figure size 432x288 with 1 Axes>"
      ]
     },
     "metadata": {
      "needs_background": "light"
     },
     "output_type": "display_data"
    },
    {
     "name": "stdout",
     "output_type": "stream",
     "text": [
      "Authent Type\n",
      "Batch                     547\n",
      "CachedInteractive         187\n",
      "InteractiveLogon         1185\n",
      "NetworkLogon            15966\n",
      "RemoteInteractive         402\n",
      "ScreensaverDismissed      484\n",
      "ScreensaverInvoked        476\n",
      "Service                  1089\n",
      "TGS                     17602\n",
      "TGT                      4731\n",
      "WorkstationLock          1160\n",
      "WorkstationUnlock        1467\n",
      "dtype: int64\n",
      "179 of the normal usernames were identified to have anomalies out of 200 normal usernames. The folloiwng usernames were found to have no anomalies\n",
      "--------------------------------------------------------------------------------------------\n",
      "Comp792408$, Comp166939$, User835130, Comp982997$, Comp220136$, User034060, Comp421434$, User681533, User658064, User108742, Comp282554$, Comp556020$, Comp834308$, Comp682953$, Comp156369$, User611055, User248771, User924320, Comp722112$, Comp360389$, Comp855953$\n",
      "29.18% of the normal data was identified as anomalous.\n"
     ]
    },
    {
     "data": {
      "image/png": "[encoded data removed]",
      "text/plain": [
       "<Figure size 432x288 with 1 Axes>"
      ]
     },
     "metadata": {
      "needs_background": "light"
     },
     "output_type": "display_data"
    },
    {
     "name": "stdout",
     "output_type": "stream",
     "text": [
      "Authent Type\n",
      "CachedInteractive          20\n",
      "InteractiveLogon          465\n",
      "NetworkLogon             9109\n",
      "RemoteInteractive          60\n",
      "ScreensaverDismissed      259\n",
      "ScreensaverInvoked        252\n",
      "Service                     4\n",
      "TGS                     12631\n",
      "TGT                      3188\n",
      "WorkstationLock           641\n",
      "WorkstationUnlock         864\n",
      "dtype: int64\n"
     ]
    }
   ],
   "source": [
    "simple_ae_eval(anomaly_bool_5,anomalies_ae_5,val_loss_5,set(rt_usernames),'red team')\n",
    "simple_ae_eval(anomaly_bool_N_5,anomalies_ae_n_5,val_loss_n_5,non_rt_sample,'normal')"
   ]
  },
  {
   "cell_type": "markdown",
   "id": "6b0d0b80-2370-420a-8915-4469ed33cef7",
   "metadata": {},
   "source": [
    "#### Only reducing to 6 nodes"
   ]
  },
  {
   "cell_type": "code",
   "execution_count": 23,
   "id": "2d9071b2-ad2f-4196-9f33-7f4aefb2a905",
   "metadata": {},
   "outputs": [],
   "source": [
    "def ae_anomaly_finder_6n(user,df,n,BATCH_SIZE=64, EPOCHS=1000):\n",
    "    \n",
    "    clear_output()\n",
    "    \n",
    "    # get the train/test sets\n",
    "    x_train_ae = np.concatenate([np.array(df[0:57*n]),np.array(df[82*n:])])\n",
    "    x_test_ae = np.array(df[57*n:82*n])\n",
    "    \n",
    "    # create our scaling pipeline\n",
    "    pipeline = Pipeline([('normalizer', Normalizer()),\n",
    "                    ('scaler', MinMaxScaler())])\n",
    "    pipeline.fit(x_train_ae)\n",
    "    x_train_ae = pipeline.transform(x_train_ae)\n",
    "    x_test_ae = pipeline.transform(x_test_ae)\n",
    "    \n",
    "    # define neural network parameters\n",
    "    input_dim = x_train_ae.shape[1]\n",
    "    BATCH_SIZE = BATCH_SIZE\n",
    "    EPOCHS = EPOCHS\n",
    "\n",
    "    # define the autoencoder\n",
    "    autoencoder =Sequential([\n",
    "\n",
    "        # deconstruct / encode\n",
    "        tf.keras.layers.Dense(input_dim, activation='elu', input_shape=(input_dim, )),\n",
    "        tf.keras.layers.Dropout(rate=0.1),\n",
    "        tf.keras.layers.Dense(16, activation='elu'),\n",
    "        tf.keras.layers.Dropout(rate=0.1),\n",
    "        tf.keras.layers.Dense(14, activation='elu'),\n",
    "        tf.keras.layers.Dropout(rate=0.1),\n",
    "        tf.keras.layers.Dense(12, activation='elu'),\n",
    "        tf.keras.layers.Dropout(rate=0.1),\n",
    "        tf.keras.layers.Dense(10, activation='elu'),\n",
    "        tf.keras.layers.Dropout(rate=0.1),\n",
    "        tf.keras.layers.Dense(8, activation='elu'),\n",
    "        tf.keras.layers.Dropout(rate=0.1),\n",
    "        tf.keras.layers.Dense(6, activation='elu'),\n",
    "        tf.keras.layers.Dropout(rate=0.1),\n",
    "\n",
    "        # reconstruction / decode\n",
    "        tf.keras.layers.Dense(6, activation='elu'),\n",
    "        tf.keras.layers.Dropout(rate=0.1),\n",
    "        tf.keras.layers.Dense(8, activation='elu'),\n",
    "        tf.keras.layers.Dropout(rate=0.1),\n",
    "        tf.keras.layers.Dense(10, activation='elu'),\n",
    "        tf.keras.layers.Dropout(rate=0.1),\n",
    "        tf.keras.layers.Dense(12, activation='elu'),\n",
    "        tf.keras.layers.Dropout(rate=0.1),\n",
    "        tf.keras.layers.Dense(14, activation='elu'),\n",
    "        tf.keras.layers.Dropout(rate=0.1),\n",
    "        tf.keras.layers.Dense(16, activation='elu'),\n",
    "        tf.keras.layers.Dropout(rate=0.1),\n",
    "        tf.keras.layers.Dense(input_dim, activation='elu')\n",
    "\n",
    "    ])\n",
    "\n",
    "    # compile the autoencoder\n",
    "    autoencoder.compile(optimizer=\"adam\", \n",
    "                        loss=\"mse\",\n",
    "                        metrics=[\"acc\"])\n",
    "    \n",
    "    early_stop = tf.keras.callbacks.EarlyStopping(\n",
    "    monitor='val_loss',\n",
    "    min_delta=0.0001,\n",
    "    patience=10,\n",
    "    verbose=1, \n",
    "    mode='min',\n",
    "    restore_best_weights=True\n",
    "    )\n",
    "    \n",
    "    # allows for early stopping and better visualisation of progress\n",
    "    cb = [early_stop,TqdmCallback(verbose=1)]\n",
    "    \n",
    "    # fit the auto encoder\n",
    "    history = autoencoder.fit(\n",
    "        x_train_ae, x_train_ae,\n",
    "        shuffle=True,\n",
    "        epochs=EPOCHS,\n",
    "        batch_size=BATCH_SIZE,\n",
    "        validation_split=0.1,\n",
    "        verbose=0,\n",
    "        callbacks=cb   \n",
    "    )\n",
    "    \n",
    "    # make predictions on the remaining data\n",
    "    x_test_pred = autoencoder.predict(x_test_ae)\n",
    "    test_mae_loss = np.mean(np.abs(x_test_pred - x_test_ae), axis=1)\n",
    "    \n",
    "    anomalies = np.where(test_mae_loss > np.array(history.history[\"val_loss\"]).min())\n",
    "    anomaly_idx = anomalies[0]\n",
    "    \n",
    "    frame = []\n",
    "    for i in range(len(anomaly_idx)):\n",
    "        anomaly = ae_orig_finder(user,n,57*n+anomaly_idx[i])\n",
    "        \n",
    "        # indicates that an anomaly was found where we have no information i.e. the lack of an event was anomalous\n",
    "        if len(anomaly) == 0:\n",
    "            pass\n",
    "        else:\n",
    "            frame.append(anomaly)\n",
    "        \n",
    "    if len(frame) != 0:\n",
    "        anomaly_df = pd.concat(frame)\n",
    "        return anomaly_df,1,history.history[\"val_loss\"]\n",
    "    else:\n",
    "        print('No anomalies found.')\n",
    "        return pd.DataFrame(test_mae_loss).describe(),0,history.history[\"val_loss\"]"
   ]
  },
  {
   "cell_type": "code",
   "execution_count": 24,
   "id": "c4796991-48a2-4b2f-b413-52693104db6a",
   "metadata": {},
   "outputs": [
    {
     "data": {
      "application/vnd.jupyter.widget-view+json": {
       "model_id": "6846509865154466a2514ade77018144",
       "version_major": 2,
       "version_minor": 0
      },
      "text/plain": [
       "0epoch [00:00, ?epoch/s]"
      ]
     },
     "metadata": {},
     "output_type": "display_data"
    },
    {
     "data": {
      "application/vnd.jupyter.widget-view+json": {
       "model_id": "",
       "version_major": 2,
       "version_minor": 0
      },
      "text/plain": [
       "0batch [00:00, ?batch/s]"
      ]
     },
     "metadata": {},
     "output_type": "display_data"
    },
    {
     "name": "stdout",
     "output_type": "stream",
     "text": [
      "Restoring model weights from the end of the best epoch.\n",
      "Epoch 00134: early stopping\n"
     ]
    },
    {
     "name": "stderr",
     "output_type": "stream",
     "text": [
      "C:\\Users\\corri\\anaconda3\\lib\\site-packages\\pandas\\core\\frame.py:3607: SettingWithCopyWarning: \n",
      "A value is trying to be set on a copy of a slice from a DataFrame.\n",
      "Try using .loc[row_indexer,col_indexer] = value instead\n",
      "\n",
      "See the caveats in the documentation: https://pandas.pydata.org/pandas-docs/stable/user_guide/indexing.html#returning-a-view-versus-a-copy\n",
      "  self._set_item(key, value)\n"
     ]
    },
    {
     "name": "stdout",
     "output_type": "stream",
     "text": [
      "0:08:32.664567\n"
     ]
    }
   ],
   "source": [
    "frames_5 = []\n",
    "anomaly_bool_5 = []\n",
    "val_loss_5 = []\n",
    "\n",
    "s_time = datetime.datetime.now()\n",
    "\n",
    "for i,un in enumerate(set(rt_usernames)):\n",
    "    clear_output(wait=True)\n",
    "    print('Working with username {} of {}. {:.2f} percentage complete.'.format(i+1,len(rt_usernames),100*((i+1)/len(rt_usernames))))\n",
    "    df = rt_count_dframes[i]\n",
    "    f,b,val = ae_anomaly_finder_6n(un,df,24)\n",
    "    if b == 1:\n",
    "        frames_5.append(f)\n",
    "        anomaly_bool_5.append((len(f),un))\n",
    "        val_loss_5.append((val,un))\n",
    "    else:\n",
    "        anomaly_bool_5.append((0,un))\n",
    "        val_loss_5.append((val,un))\n",
    "        pass\n",
    "anomalies_ae_5 = pd.concat(frames_5)\n",
    "\n",
    "e_time = datetime.datetime.now()\n",
    "print(e_time-s_time)"
   ]
  },
  {
   "cell_type": "code",
   "execution_count": 25,
   "id": "81d1b48a-f1a1-4ac3-8ec7-185753fad525",
   "metadata": {},
   "outputs": [
    {
     "data": {
      "application/vnd.jupyter.widget-view+json": {
       "model_id": "d6f5d3428993446dad95805cc87921e1",
       "version_major": 2,
       "version_minor": 0
      },
      "text/plain": [
       "0epoch [00:00, ?epoch/s]"
      ]
     },
     "metadata": {},
     "output_type": "display_data"
    },
    {
     "data": {
      "application/vnd.jupyter.widget-view+json": {
       "model_id": "",
       "version_major": 2,
       "version_minor": 0
      },
      "text/plain": [
       "0batch [00:00, ?batch/s]"
      ]
     },
     "metadata": {},
     "output_type": "display_data"
    },
    {
     "name": "stdout",
     "output_type": "stream",
     "text": [
      "Restoring model weights from the end of the best epoch.\n",
      "Epoch 00127: early stopping\n"
     ]
    },
    {
     "name": "stderr",
     "output_type": "stream",
     "text": [
      "C:\\Users\\corri\\anaconda3\\lib\\site-packages\\pandas\\core\\frame.py:3607: SettingWithCopyWarning: \n",
      "A value is trying to be set on a copy of a slice from a DataFrame.\n",
      "Try using .loc[row_indexer,col_indexer] = value instead\n",
      "\n",
      "See the caveats in the documentation: https://pandas.pydata.org/pandas-docs/stable/user_guide/indexing.html#returning-a-view-versus-a-copy\n",
      "  self._set_item(key, value)\n"
     ]
    },
    {
     "name": "stdout",
     "output_type": "stream",
     "text": [
      "0:15:13.890547\n"
     ]
    }
   ],
   "source": [
    "frames_n_5 = []\n",
    "anomaly_bool_N_5 = []\n",
    "val_loss_n_5 = []\n",
    "bound = 400\n",
    "\n",
    "s_time = datetime.datetime.now()\n",
    "\n",
    "for i,un in enumerate(non_rt_sample):\n",
    "    df = norm_count_dframes[i]\n",
    "    f,b,val = ae_anomaly_finder_6n(un,df,24)\n",
    "    if b == 1:\n",
    "        frames_n_5.append(f)\n",
    "        anomaly_bool_N_5.append((len(f),un))\n",
    "        val_loss_n_5.append((val,un))\n",
    "    else:\n",
    "        anomaly_bool_N_5.append((0,un))\n",
    "        val_loss_n_5.append((val,un))\n",
    "        pass\n",
    "anomalies_ae_n_5 = pd.concat(frames_n_5)\n",
    "e_time = datetime.datetime.now()\n",
    "print(e_time-s_time)"
   ]
  },
  {
   "cell_type": "code",
   "execution_count": 26,
   "id": "56584b21-e802-437c-80f4-f08568d0ff1c",
   "metadata": {},
   "outputs": [
    {
     "name": "stdout",
     "output_type": "stream",
     "text": [
      "94 of the red team usernames were identified to have anomalies out of 95 red team usernames. The folloiwng usernames were found to have no anomalies\n",
      "--------------------------------------------------------------------------------------------\n",
      "User405399\n",
      "28.04% of the red team data was identified as anomalous.\n"
     ]
    },
    {
     "data": {
      "image/png": "[encoded data removed]",
      "text/plain": [
       "<Figure size 432x288 with 1 Axes>"
      ]
     },
     "metadata": {
      "needs_background": "light"
     },
     "output_type": "display_data"
    },
    {
     "name": "stdout",
     "output_type": "stream",
     "text": [
      "Authent Type\n",
      "Batch                     488\n",
      "CachedInteractive         184\n",
      "InteractiveLogon         1111\n",
      "NetworkLogon            14711\n",
      "RemoteInteractive         370\n",
      "ScreensaverDismissed      484\n",
      "ScreensaverInvoked        476\n",
      "Service                   820\n",
      "TGS                     16988\n",
      "TGT                      4320\n",
      "WorkstationLock          1156\n",
      "WorkstationUnlock        1466\n",
      "dtype: int64\n",
      "179 of the normal usernames were identified to have anomalies out of 200 normal usernames. The folloiwng usernames were found to have no anomalies\n",
      "--------------------------------------------------------------------------------------------\n",
      "Comp792408$, Comp166939$, User835130, Comp982997$, Comp220136$, User034060, Comp421434$, User681533, User658064, User108742, Comp282554$, Comp556020$, Comp834308$, Comp682953$, Comp156369$, User611055, User248771, User924320, Comp722112$, Comp360389$, Comp855953$\n",
      "29.18% of the normal data was identified as anomalous.\n"
     ]
    },
    {
     "data": {
      "image/png": "[encoded data removed]",
      "text/plain": [
       "<Figure size 432x288 with 1 Axes>"
      ]
     },
     "metadata": {
      "needs_background": "light"
     },
     "output_type": "display_data"
    },
    {
     "name": "stdout",
     "output_type": "stream",
     "text": [
      "Authent Type\n",
      "CachedInteractive          20\n",
      "InteractiveLogon          465\n",
      "NetworkLogon             9109\n",
      "RemoteInteractive          60\n",
      "ScreensaverDismissed      259\n",
      "ScreensaverInvoked        252\n",
      "Service                     4\n",
      "TGS                     12631\n",
      "TGT                      3188\n",
      "WorkstationLock           641\n",
      "WorkstationUnlock         864\n",
      "dtype: int64\n"
     ]
    }
   ],
   "source": [
    "simple_ae_eval(anomaly_bool_5,anomalies_ae_5,val_loss_5,set(rt_usernames),'red team')\n",
    "simple_ae_eval(anomaly_bool_N_5,anomalies_ae_n_5,val_loss_n_5,non_rt_sample,'normal')"
   ]
  },
  {
   "cell_type": "markdown",
   "id": "d06507af-d23e-499e-9d96-a2164307714e",
   "metadata": {},
   "source": [
    "#### Reducing by 1 instead of 2"
   ]
  },
  {
   "cell_type": "code",
   "execution_count": 27,
   "id": "bb252758-8d2e-43fa-8463-cedbb9d7e752",
   "metadata": {},
   "outputs": [],
   "source": [
    "def ae_anomaly_finder_1r(user,df,n,BATCH_SIZE=64, EPOCHS=1000):\n",
    "    \n",
    "    clear_output()\n",
    "    \n",
    "    # get the train/test sets\n",
    "    x_train_ae = np.concatenate([np.array(df[0:57*n]),np.array(df[82*n:])])\n",
    "    x_test_ae = np.array(df[57*n:82*n])\n",
    "    \n",
    "    # create our scaling pipeline\n",
    "    pipeline = Pipeline([('normalizer', Normalizer()),\n",
    "                    ('scaler', MinMaxScaler())])\n",
    "    pipeline.fit(x_train_ae)\n",
    "    x_train_ae = pipeline.transform(x_train_ae)\n",
    "    x_test_ae = pipeline.transform(x_test_ae)\n",
    "    \n",
    "    # define neural network parameters\n",
    "    input_dim = x_train_ae.shape[1]\n",
    "    BATCH_SIZE = BATCH_SIZE\n",
    "    EPOCHS = EPOCHS\n",
    "\n",
    "    # define the autoencoder\n",
    "    autoencoder =Sequential([\n",
    "\n",
    "        # deconstruct / encode\n",
    "        tf.keras.layers.Dense(input_dim, activation='elu', input_shape=(input_dim, )),\n",
    "        tf.keras.layers.Dropout(rate=0.1),\n",
    "        tf.keras.layers.Dense(16, activation='elu'),\n",
    "        tf.keras.layers.Dropout(rate=0.1),\n",
    "        tf.keras.layers.Dense(15, activation='elu'),\n",
    "        tf.keras.layers.Dropout(rate=0.1),\n",
    "        tf.keras.layers.Dense(14, activation='elu'),\n",
    "        tf.keras.layers.Dropout(rate=0.1),\n",
    "        tf.keras.layers.Dense(13, activation='elu'),\n",
    "        tf.keras.layers.Dropout(rate=0.1),\n",
    "        tf.keras.layers.Dense(12, activation='elu'),\n",
    "        tf.keras.layers.Dropout(rate=0.1),\n",
    "        tf.keras.layers.Dense(11, activation='elu'),\n",
    "        tf.keras.layers.Dropout(rate=0.1),\n",
    "        tf.keras.layers.Dense(10, activation='elu'),\n",
    "        tf.keras.layers.Dropout(rate=0.1),\n",
    "        tf.keras.layers.Dense(9, activation='elu'),\n",
    "        tf.keras.layers.Dropout(rate=0.1),\n",
    "        tf.keras.layers.Dense(8, activation='elu'),\n",
    "        tf.keras.layers.Dropout(rate=0.1),\n",
    "        tf.keras.layers.Dense(7, activation='elu'),\n",
    "        tf.keras.layers.Dropout(rate=0.1),\n",
    "        tf.keras.layers.Dense(6, activation='elu'),\n",
    "        tf.keras.layers.Dropout(rate=0.1),\n",
    "        tf.keras.layers.Dense(5, activation='elu'),\n",
    "        tf.keras.layers.Dropout(rate=0.1),\n",
    "        tf.keras.layers.Dense(4, activation='elu'),\n",
    "        tf.keras.layers.Dropout(rate=0.1),\n",
    "        tf.keras.layers.Dense(3, activation='elu'),\n",
    "        tf.keras.layers.Dropout(rate=0.1),\n",
    "        tf.keras.layers.Dense(2, activation='elu'),\n",
    "        tf.keras.layers.Dropout(rate=0.1),\n",
    "\n",
    "        # reconstruction / decode\n",
    "        tf.keras.layers.Dense(2, activation='elu'),\n",
    "        tf.keras.layers.Dropout(rate=0.1),\n",
    "        tf.keras.layers.Dense(3, activation='elu'),\n",
    "        tf.keras.layers.Dropout(rate=0.1),\n",
    "        tf.keras.layers.Dense(4, activation='elu'),\n",
    "        tf.keras.layers.Dropout(rate=0.1),\n",
    "        tf.keras.layers.Dense(5, activation='elu'),\n",
    "        tf.keras.layers.Dropout(rate=0.1),\n",
    "        tf.keras.layers.Dense(6, activation='elu'),\n",
    "        tf.keras.layers.Dropout(rate=0.1),\n",
    "        tf.keras.layers.Dense(7, activation='elu'),\n",
    "        tf.keras.layers.Dropout(rate=0.1),\n",
    "        tf.keras.layers.Dense(8, activation='elu'),\n",
    "        tf.keras.layers.Dropout(rate=0.1),\n",
    "        tf.keras.layers.Dense(9, activation='elu'),\n",
    "        tf.keras.layers.Dropout(rate=0.1),\n",
    "        tf.keras.layers.Dense(10, activation='elu'),\n",
    "        tf.keras.layers.Dropout(rate=0.1),\n",
    "        tf.keras.layers.Dense(11, activation='elu'),\n",
    "        tf.keras.layers.Dropout(rate=0.1),\n",
    "        tf.keras.layers.Dense(12, activation='elu'),\n",
    "        tf.keras.layers.Dropout(rate=0.1),\n",
    "        tf.keras.layers.Dense(13, activation='elu'),\n",
    "        tf.keras.layers.Dropout(rate=0.1),\n",
    "        tf.keras.layers.Dense(14, activation='elu'),\n",
    "        tf.keras.layers.Dropout(rate=0.1),\n",
    "        tf.keras.layers.Dense(15, activation='elu'),\n",
    "        tf.keras.layers.Dropout(rate=0.1),\n",
    "        tf.keras.layers.Dense(16, activation='elu'),\n",
    "        tf.keras.layers.Dropout(rate=0.1),\n",
    "        tf.keras.layers.Dense(input_dim, activation='elu')\n",
    "\n",
    "    ])\n",
    "\n",
    "    # compile the autoencoder\n",
    "    autoencoder.compile(optimizer=\"adam\", \n",
    "                        loss=\"mse\",\n",
    "                        metrics=[\"acc\"])\n",
    "    \n",
    "    early_stop = tf.keras.callbacks.EarlyStopping(\n",
    "    monitor='val_loss',\n",
    "    min_delta=0.0001,\n",
    "    patience=10,\n",
    "    verbose=1, \n",
    "    mode='min',\n",
    "    restore_best_weights=True\n",
    "    )\n",
    "    \n",
    "    # allows for early stopping and better visualisation of progress\n",
    "    cb = [early_stop,TqdmCallback(verbose=1)]\n",
    "    \n",
    "    # fit the auto encoder\n",
    "    history = autoencoder.fit(\n",
    "        x_train_ae, x_train_ae,\n",
    "        shuffle=True,\n",
    "        epochs=EPOCHS,\n",
    "        batch_size=BATCH_SIZE,\n",
    "        validation_split=0.1,\n",
    "        verbose=0,\n",
    "        callbacks=cb   \n",
    "    )\n",
    "    \n",
    "    # make predictions on the remaining data\n",
    "    x_test_pred = autoencoder.predict(x_test_ae)\n",
    "    test_mae_loss = np.mean(np.abs(x_test_pred - x_test_ae), axis=1)\n",
    "    \n",
    "    anomalies = np.where(test_mae_loss > np.array(history.history[\"val_loss\"]).min())\n",
    "    anomaly_idx = anomalies[0]\n",
    "    \n",
    "    frame = []\n",
    "    for i in range(len(anomaly_idx)):\n",
    "        anomaly = ae_orig_finder(user,n,57*n+anomaly_idx[i])\n",
    "        \n",
    "        # indicates that an anomaly was found where we have no information i.e. the lack of an event was anomalous\n",
    "        if len(anomaly) == 0:\n",
    "            pass\n",
    "        else:\n",
    "            frame.append(anomaly)\n",
    "        \n",
    "    if len(frame) != 0:\n",
    "        anomaly_df = pd.concat(frame)\n",
    "        return anomaly_df,1,history.history[\"val_loss\"]\n",
    "    else:\n",
    "        print('No anomalies found.')\n",
    "        return pd.DataFrame(test_mae_loss).describe(),0,history.history[\"val_loss\"]"
   ]
  },
  {
   "cell_type": "code",
   "execution_count": 28,
   "id": "5ccb76e2-ed63-432f-b8db-0c91582f76b3",
   "metadata": {},
   "outputs": [
    {
     "data": {
      "application/vnd.jupyter.widget-view+json": {
       "model_id": "50d0987a0a23485cb3e331aad06405e4",
       "version_major": 2,
       "version_minor": 0
      },
      "text/plain": [
       "0epoch [00:00, ?epoch/s]"
      ]
     },
     "metadata": {},
     "output_type": "display_data"
    },
    {
     "data": {
      "application/vnd.jupyter.widget-view+json": {
       "model_id": "",
       "version_major": 2,
       "version_minor": 0
      },
      "text/plain": [
       "0batch [00:00, ?batch/s]"
      ]
     },
     "metadata": {},
     "output_type": "display_data"
    },
    {
     "name": "stdout",
     "output_type": "stream",
     "text": [
      "Restoring model weights from the end of the best epoch.\n",
      "Epoch 00029: early stopping\n"
     ]
    },
    {
     "name": "stderr",
     "output_type": "stream",
     "text": [
      "C:\\Users\\corri\\anaconda3\\lib\\site-packages\\pandas\\core\\frame.py:3607: SettingWithCopyWarning: \n",
      "A value is trying to be set on a copy of a slice from a DataFrame.\n",
      "Try using .loc[row_indexer,col_indexer] = value instead\n",
      "\n",
      "See the caveats in the documentation: https://pandas.pydata.org/pandas-docs/stable/user_guide/indexing.html#returning-a-view-versus-a-copy\n",
      "  self._set_item(key, value)\n"
     ]
    },
    {
     "name": "stdout",
     "output_type": "stream",
     "text": [
      "0:08:30.953750\n"
     ]
    }
   ],
   "source": [
    "frames_5 = []\n",
    "anomaly_bool_5 = []\n",
    "val_loss_5 = []\n",
    "\n",
    "s_time = datetime.datetime.now()\n",
    "\n",
    "for i,un in enumerate(set(rt_usernames)):\n",
    "    clear_output(wait=True)\n",
    "    print('Working with username {} of {}. {:.2f} percentage complete.'.format(i+1,len(rt_usernames),100*((i+1)/len(rt_usernames))))\n",
    "    df = rt_count_dframes[i]\n",
    "    f,b,val = ae_anomaly_finder_1r(un,df,24)\n",
    "    if b == 1:\n",
    "        frames_5.append(f)\n",
    "        anomaly_bool_5.append((len(f),un))\n",
    "        val_loss_5.append((val,un))\n",
    "    else:\n",
    "        anomaly_bool_5.append((0,un))\n",
    "        val_loss_5.append((val,un))\n",
    "        pass\n",
    "anomalies_ae_5 = pd.concat(frames_5)\n",
    "\n",
    "e_time = datetime.datetime.now()\n",
    "print(e_time-s_time)"
   ]
  },
  {
   "cell_type": "code",
   "execution_count": 29,
   "id": "787edbb3-d385-46d7-be2f-35911e146aad",
   "metadata": {},
   "outputs": [
    {
     "data": {
      "application/vnd.jupyter.widget-view+json": {
       "model_id": "845f1f34b11f40828a0550bb2d5960e2",
       "version_major": 2,
       "version_minor": 0
      },
      "text/plain": [
       "0epoch [00:00, ?epoch/s]"
      ]
     },
     "metadata": {},
     "output_type": "display_data"
    },
    {
     "data": {
      "application/vnd.jupyter.widget-view+json": {
       "model_id": "",
       "version_major": 2,
       "version_minor": 0
      },
      "text/plain": [
       "0batch [00:00, ?batch/s]"
      ]
     },
     "metadata": {},
     "output_type": "display_data"
    },
    {
     "name": "stdout",
     "output_type": "stream",
     "text": [
      "Restoring model weights from the end of the best epoch.\n",
      "Epoch 00033: early stopping\n"
     ]
    },
    {
     "name": "stderr",
     "output_type": "stream",
     "text": [
      "C:\\Users\\corri\\anaconda3\\lib\\site-packages\\pandas\\core\\frame.py:3607: SettingWithCopyWarning: \n",
      "A value is trying to be set on a copy of a slice from a DataFrame.\n",
      "Try using .loc[row_indexer,col_indexer] = value instead\n",
      "\n",
      "See the caveats in the documentation: https://pandas.pydata.org/pandas-docs/stable/user_guide/indexing.html#returning-a-view-versus-a-copy\n",
      "  self._set_item(key, value)\n"
     ]
    },
    {
     "name": "stdout",
     "output_type": "stream",
     "text": [
      "0:16:48.375858\n"
     ]
    }
   ],
   "source": [
    "frames_n_5 = []\n",
    "anomaly_bool_N_5 = []\n",
    "val_loss_n_5 = []\n",
    "bound = 400\n",
    "\n",
    "s_time = datetime.datetime.now()\n",
    "\n",
    "for i,un in enumerate(non_rt_sample):\n",
    "    df = norm_count_dframes[i]\n",
    "    f,b,val = ae_anomaly_finder_1r(un,df,24)\n",
    "    if b == 1:\n",
    "        frames_n_5.append(f)\n",
    "        anomaly_bool_N_5.append((len(f),un))\n",
    "        val_loss_n_5.append((val,un))\n",
    "    else:\n",
    "        anomaly_bool_N_5.append((0,un))\n",
    "        val_loss_n_5.append((val,un))\n",
    "        pass\n",
    "anomalies_ae_n_5 = pd.concat(frames_n_5)\n",
    "e_time = datetime.datetime.now()\n",
    "print(e_time-s_time)"
   ]
  },
  {
   "cell_type": "code",
   "execution_count": 30,
   "id": "858ada37-03c3-4081-8062-d505b12315e0",
   "metadata": {},
   "outputs": [
    {
     "name": "stdout",
     "output_type": "stream",
     "text": [
      "94 of the red team usernames were identified to have anomalies out of 95 red team usernames. The folloiwng usernames were found to have no anomalies\n",
      "--------------------------------------------------------------------------------------------\n",
      "User405399\n",
      "29.18% of the red team data was identified as anomalous.\n"
     ]
    },
    {
     "data": {
      "image/png": "[encoded data removed]",
      "text/plain": [
       "<Figure size 432x288 with 1 Axes>"
      ]
     },
     "metadata": {
      "needs_background": "light"
     },
     "output_type": "display_data"
    },
    {
     "name": "stdout",
     "output_type": "stream",
     "text": [
      "Authent Type\n",
      "Batch                     504\n",
      "CachedInteractive         178\n",
      "InteractiveLogon         1137\n",
      "NetworkLogon            15577\n",
      "RemoteInteractive         391\n",
      "ScreensaverDismissed      481\n",
      "ScreensaverInvoked        474\n",
      "Service                  1071\n",
      "TGS                     17302\n",
      "TGT                      4570\n",
      "WorkstationLock          1152\n",
      "WorkstationUnlock        1460\n",
      "dtype: int64\n",
      "179 of the normal usernames were identified to have anomalies out of 200 normal usernames. The folloiwng usernames were found to have no anomalies\n",
      "--------------------------------------------------------------------------------------------\n",
      "Comp792408$, Comp166939$, User835130, Comp982997$, Comp220136$, User034060, Comp421434$, User681533, User658064, User108742, Comp282554$, Comp556020$, Comp834308$, Comp682953$, Comp156369$, User611055, User248771, User924320, Comp722112$, Comp360389$, Comp855953$\n",
      "29.18% of the normal data was identified as anomalous.\n"
     ]
    },
    {
     "data": {
      "image/png": "[encoded data removed]",
      "text/plain": [
       "<Figure size 432x288 with 1 Axes>"
      ]
     },
     "metadata": {
      "needs_background": "light"
     },
     "output_type": "display_data"
    },
    {
     "name": "stdout",
     "output_type": "stream",
     "text": [
      "Authent Type\n",
      "CachedInteractive          20\n",
      "InteractiveLogon          465\n",
      "NetworkLogon             9109\n",
      "RemoteInteractive          60\n",
      "ScreensaverDismissed      259\n",
      "ScreensaverInvoked        252\n",
      "Service                     4\n",
      "TGS                     12631\n",
      "TGT                      3188\n",
      "WorkstationLock           641\n",
      "WorkstationUnlock         864\n",
      "dtype: int64\n"
     ]
    }
   ],
   "source": [
    "simple_ae_eval(anomaly_bool_5,anomalies_ae_5,val_loss_5,set(rt_usernames),'red team')\n",
    "simple_ae_eval(anomaly_bool_N_5,anomalies_ae_n_5,val_loss_n_5,non_rt_sample,'normal')"
   ]
  },
  {
   "cell_type": "markdown",
   "id": "5a0067d7-464c-4066-a670-031ddd13e24c",
   "metadata": {},
   "source": [
    "#### Double Stacked Autoencoder"
   ]
  },
  {
   "cell_type": "code",
   "execution_count": 32,
   "id": "70d42ac3-6101-400b-bbe8-86de13566248",
   "metadata": {},
   "outputs": [],
   "source": [
    "def ae_anomaly_finder_ds(user,df,n,BATCH_SIZE=64, EPOCHS=1000):\n",
    "    \n",
    "    clear_output()\n",
    "    \n",
    "    # get the train/test sets\n",
    "    x_train_ae = np.concatenate([np.array(df[0:57*n]),np.array(df[82*n:])])\n",
    "    x_test_ae = np.array(df[57*n:82*n])\n",
    "    \n",
    "    # create our scaling pipeline\n",
    "    pipeline = Pipeline([('normalizer', Normalizer()),\n",
    "                    ('scaler', MinMaxScaler())])\n",
    "    pipeline.fit(x_train_ae)\n",
    "    x_train_ae = pipeline.transform(x_train_ae)\n",
    "    x_test_ae = pipeline.transform(x_test_ae)\n",
    "    \n",
    "    # define neural network parameters\n",
    "    input_dim = x_train_ae.shape[1]\n",
    "    BATCH_SIZE = BATCH_SIZE\n",
    "    EPOCHS = EPOCHS\n",
    "\n",
    "    # define the autoencoder\n",
    "    autoencoder =Sequential([\n",
    "\n",
    "        # deconstruct / encode\n",
    "        tf.keras.layers.Dense(input_dim, activation='elu', input_shape=(input_dim, )),\n",
    "        tf.keras.layers.Dropout(rate=0.1),\n",
    "        tf.keras.layers.Dense(16, activation='elu'),\n",
    "        tf.keras.layers.Dropout(rate=0.1),\n",
    "        tf.keras.layers.Dense(15, activation='elu'),\n",
    "        tf.keras.layers.Dropout(rate=0.1),\n",
    "        tf.keras.layers.Dense(14, activation='elu'),\n",
    "        tf.keras.layers.Dropout(rate=0.1),\n",
    "        tf.keras.layers.Dense(13, activation='elu'),\n",
    "        tf.keras.layers.Dropout(rate=0.1),\n",
    "        tf.keras.layers.Dense(12, activation='elu'),\n",
    "        tf.keras.layers.Dropout(rate=0.1),\n",
    "        tf.keras.layers.Dense(11, activation='elu'),\n",
    "        tf.keras.layers.Dropout(rate=0.1),\n",
    "        tf.keras.layers.Dense(10, activation='elu'),\n",
    "        tf.keras.layers.Dropout(rate=0.1),\n",
    "        tf.keras.layers.Dense(9, activation='elu'),\n",
    "        tf.keras.layers.Dropout(rate=0.1),\n",
    "        tf.keras.layers.Dense(8, activation='elu'),\n",
    "        tf.keras.layers.Dropout(rate=0.1),\n",
    "        tf.keras.layers.Dense(7, activation='elu'),\n",
    "        tf.keras.layers.Dropout(rate=0.1),\n",
    "        tf.keras.layers.Dense(6, activation='elu'),\n",
    "        tf.keras.layers.Dropout(rate=0.1),\n",
    "        tf.keras.layers.Dense(5, activation='elu'),\n",
    "        tf.keras.layers.Dropout(rate=0.1),\n",
    "        tf.keras.layers.Dense(4, activation='elu'),\n",
    "        tf.keras.layers.Dropout(rate=0.1),\n",
    "        tf.keras.layers.Dense(3, activation='elu'),\n",
    "        tf.keras.layers.Dropout(rate=0.1),\n",
    "        tf.keras.layers.Dense(2, activation='elu'),\n",
    "        tf.keras.layers.Dropout(rate=0.1),\n",
    "\n",
    "        # reconstruction / decode\n",
    "        tf.keras.layers.Dense(2, activation='elu'),\n",
    "        tf.keras.layers.Dropout(rate=0.1),\n",
    "        tf.keras.layers.Dense(3, activation='elu'),\n",
    "        tf.keras.layers.Dropout(rate=0.1),\n",
    "        tf.keras.layers.Dense(4, activation='elu'),\n",
    "        tf.keras.layers.Dropout(rate=0.1),\n",
    "        tf.keras.layers.Dense(5, activation='elu'),\n",
    "        tf.keras.layers.Dropout(rate=0.1),\n",
    "        tf.keras.layers.Dense(6, activation='elu'),\n",
    "        tf.keras.layers.Dropout(rate=0.1),\n",
    "        tf.keras.layers.Dense(7, activation='elu'),\n",
    "        tf.keras.layers.Dropout(rate=0.1),\n",
    "        tf.keras.layers.Dense(8, activation='elu'),\n",
    "        tf.keras.layers.Dropout(rate=0.1),\n",
    "        tf.keras.layers.Dense(9, activation='elu'),\n",
    "        tf.keras.layers.Dropout(rate=0.1),\n",
    "        tf.keras.layers.Dense(10, activation='elu'),\n",
    "        tf.keras.layers.Dropout(rate=0.1),\n",
    "        tf.keras.layers.Dense(11, activation='elu'),\n",
    "        tf.keras.layers.Dropout(rate=0.1),\n",
    "        tf.keras.layers.Dense(12, activation='elu'),\n",
    "        tf.keras.layers.Dropout(rate=0.1),\n",
    "        tf.keras.layers.Dense(13, activation='elu'),\n",
    "        tf.keras.layers.Dropout(rate=0.1),\n",
    "        tf.keras.layers.Dense(14, activation='elu'),\n",
    "        tf.keras.layers.Dropout(rate=0.1),\n",
    "        tf.keras.layers.Dense(15, activation='elu'),\n",
    "        tf.keras.layers.Dropout(rate=0.1),\n",
    "        tf.keras.layers.Dense(16, activation='elu'),\n",
    "        tf.keras.layers.Dropout(rate=0.1),\n",
    "        tf.keras.layers.Dense(input_dim, activation='elu'),\n",
    "        \n",
    "        # deconstruct / encode\n",
    "        tf.keras.layers.Dense(input_dim, activation='elu', input_shape=(input_dim, )),\n",
    "        tf.keras.layers.Dropout(rate=0.1),\n",
    "        tf.keras.layers.Dense(16, activation='elu'),\n",
    "        tf.keras.layers.Dropout(rate=0.1),\n",
    "        tf.keras.layers.Dense(15, activation='elu'),\n",
    "        tf.keras.layers.Dropout(rate=0.1),\n",
    "        tf.keras.layers.Dense(14, activation='elu'),\n",
    "        tf.keras.layers.Dropout(rate=0.1),\n",
    "        tf.keras.layers.Dense(13, activation='elu'),\n",
    "        tf.keras.layers.Dropout(rate=0.1),\n",
    "        tf.keras.layers.Dense(12, activation='elu'),\n",
    "        tf.keras.layers.Dropout(rate=0.1),\n",
    "        tf.keras.layers.Dense(11, activation='elu'),\n",
    "        tf.keras.layers.Dropout(rate=0.1),\n",
    "        tf.keras.layers.Dense(10, activation='elu'),\n",
    "        tf.keras.layers.Dropout(rate=0.1),\n",
    "        tf.keras.layers.Dense(9, activation='elu'),\n",
    "        tf.keras.layers.Dropout(rate=0.1),\n",
    "        tf.keras.layers.Dense(8, activation='elu'),\n",
    "        tf.keras.layers.Dropout(rate=0.1),\n",
    "        tf.keras.layers.Dense(7, activation='elu'),\n",
    "        tf.keras.layers.Dropout(rate=0.1),\n",
    "        tf.keras.layers.Dense(6, activation='elu'),\n",
    "        tf.keras.layers.Dropout(rate=0.1),\n",
    "        tf.keras.layers.Dense(5, activation='elu'),\n",
    "        tf.keras.layers.Dropout(rate=0.1),\n",
    "        tf.keras.layers.Dense(4, activation='elu'),\n",
    "        tf.keras.layers.Dropout(rate=0.1),\n",
    "        tf.keras.layers.Dense(3, activation='elu'),\n",
    "        tf.keras.layers.Dropout(rate=0.1),\n",
    "        tf.keras.layers.Dense(2, activation='elu'),\n",
    "        tf.keras.layers.Dropout(rate=0.1),\n",
    "\n",
    "        # reconstruction / decode\n",
    "        tf.keras.layers.Dense(2, activation='elu'),\n",
    "        tf.keras.layers.Dropout(rate=0.1),\n",
    "        tf.keras.layers.Dense(3, activation='elu'),\n",
    "        tf.keras.layers.Dropout(rate=0.1),\n",
    "        tf.keras.layers.Dense(4, activation='elu'),\n",
    "        tf.keras.layers.Dropout(rate=0.1),\n",
    "        tf.keras.layers.Dense(5, activation='elu'),\n",
    "        tf.keras.layers.Dropout(rate=0.1),\n",
    "        tf.keras.layers.Dense(6, activation='elu'),\n",
    "        tf.keras.layers.Dropout(rate=0.1),\n",
    "        tf.keras.layers.Dense(7, activation='elu'),\n",
    "        tf.keras.layers.Dropout(rate=0.1),\n",
    "        tf.keras.layers.Dense(8, activation='elu'),\n",
    "        tf.keras.layers.Dropout(rate=0.1),\n",
    "        tf.keras.layers.Dense(9, activation='elu'),\n",
    "        tf.keras.layers.Dropout(rate=0.1),\n",
    "        tf.keras.layers.Dense(10, activation='elu'),\n",
    "        tf.keras.layers.Dropout(rate=0.1),\n",
    "        tf.keras.layers.Dense(11, activation='elu'),\n",
    "        tf.keras.layers.Dropout(rate=0.1),\n",
    "        tf.keras.layers.Dense(12, activation='elu'),\n",
    "        tf.keras.layers.Dropout(rate=0.1),\n",
    "        tf.keras.layers.Dense(13, activation='elu'),\n",
    "        tf.keras.layers.Dropout(rate=0.1),\n",
    "        tf.keras.layers.Dense(14, activation='elu'),\n",
    "        tf.keras.layers.Dropout(rate=0.1),\n",
    "        tf.keras.layers.Dense(15, activation='elu'),\n",
    "        tf.keras.layers.Dropout(rate=0.1),\n",
    "        tf.keras.layers.Dense(16, activation='elu'),\n",
    "        tf.keras.layers.Dropout(rate=0.1),\n",
    "        tf.keras.layers.Dense(input_dim, activation='elu')\n",
    "\n",
    "\n",
    "    ])\n",
    "\n",
    "    # compile the autoencoder\n",
    "    autoencoder.compile(optimizer=\"adam\", \n",
    "                        loss=\"mse\",\n",
    "                        metrics=[\"acc\"])\n",
    "    \n",
    "    early_stop = tf.keras.callbacks.EarlyStopping(\n",
    "    monitor='val_loss',\n",
    "    min_delta=0.0001,\n",
    "    patience=10,\n",
    "    verbose=1, \n",
    "    mode='min',\n",
    "    restore_best_weights=True\n",
    "    )\n",
    "    \n",
    "    # allows for early stopping and better visualisation of progress\n",
    "    cb = [early_stop,TqdmCallback(verbose=1)]\n",
    "    \n",
    "    # fit the auto encoder\n",
    "    history = autoencoder.fit(\n",
    "        x_train_ae, x_train_ae,\n",
    "        shuffle=True,\n",
    "        epochs=EPOCHS,\n",
    "        batch_size=BATCH_SIZE,\n",
    "        validation_split=0.1,\n",
    "        verbose=0,\n",
    "        callbacks=cb   \n",
    "    )\n",
    "    \n",
    "    # make predictions on the remaining data\n",
    "    x_test_pred = autoencoder.predict(x_test_ae)\n",
    "    test_mae_loss = np.mean(np.abs(x_test_pred - x_test_ae), axis=1)\n",
    "    \n",
    "    anomalies = np.where(test_mae_loss > np.array(history.history[\"val_loss\"]).min())\n",
    "    anomaly_idx = anomalies[0]\n",
    "    \n",
    "    frame = []\n",
    "    for i in range(len(anomaly_idx)):\n",
    "        anomaly = ae_orig_finder(user,n,57*n+anomaly_idx[i])\n",
    "        \n",
    "        # indicates that an anomaly was found where we have no information i.e. the lack of an event was anomalous\n",
    "        if len(anomaly) == 0:\n",
    "            pass\n",
    "        else:\n",
    "            frame.append(anomaly)\n",
    "        \n",
    "    if len(frame) != 0:\n",
    "        anomaly_df = pd.concat(frame)\n",
    "        return anomaly_df,1,history.history[\"val_loss\"]\n",
    "    else:\n",
    "        print('No anomalies found.')\n",
    "        return pd.DataFrame(test_mae_loss).describe(),0,history.history[\"val_loss\"]"
   ]
  },
  {
   "cell_type": "code",
   "execution_count": 33,
   "id": "00540f95-1bc3-4da8-8a8b-057f3ca217fd",
   "metadata": {},
   "outputs": [
    {
     "data": {
      "application/vnd.jupyter.widget-view+json": {
       "model_id": "a3a67ca73e1a480d8343ec3b1aa3b90d",
       "version_major": 2,
       "version_minor": 0
      },
      "text/plain": [
       "0epoch [00:00, ?epoch/s]"
      ]
     },
     "metadata": {},
     "output_type": "display_data"
    },
    {
     "data": {
      "application/vnd.jupyter.widget-view+json": {
       "model_id": "",
       "version_major": 2,
       "version_minor": 0
      },
      "text/plain": [
       "0batch [00:00, ?batch/s]"
      ]
     },
     "metadata": {},
     "output_type": "display_data"
    },
    {
     "name": "stdout",
     "output_type": "stream",
     "text": [
      "Restoring model weights from the end of the best epoch.\n",
      "Epoch 00022: early stopping\n"
     ]
    },
    {
     "name": "stderr",
     "output_type": "stream",
     "text": [
      "C:\\Users\\corri\\anaconda3\\lib\\site-packages\\pandas\\core\\frame.py:3607: SettingWithCopyWarning: \n",
      "A value is trying to be set on a copy of a slice from a DataFrame.\n",
      "Try using .loc[row_indexer,col_indexer] = value instead\n",
      "\n",
      "See the caveats in the documentation: https://pandas.pydata.org/pandas-docs/stable/user_guide/indexing.html#returning-a-view-versus-a-copy\n",
      "  self._set_item(key, value)\n"
     ]
    },
    {
     "name": "stdout",
     "output_type": "stream",
     "text": [
      "0:11:38.014894\n"
     ]
    }
   ],
   "source": [
    "frames_5 = []\n",
    "anomaly_bool_5 = []\n",
    "val_loss_5 = []\n",
    "\n",
    "s_time = datetime.datetime.now()\n",
    "\n",
    "for i,un in enumerate(set(rt_usernames)):\n",
    "    clear_output(wait=True)\n",
    "    print('Working with username {} of {}. {:.2f} percentage complete.'.format(i+1,len(rt_usernames),100*((i+1)/len(rt_usernames))))\n",
    "    df = rt_count_dframes[i]\n",
    "    f,b,val = ae_anomaly_finder_ds(un,df,24)\n",
    "    if b == 1:\n",
    "        frames_5.append(f)\n",
    "        anomaly_bool_5.append((len(f),un))\n",
    "        val_loss_5.append((val,un))\n",
    "    else:\n",
    "        anomaly_bool_5.append((0,un))\n",
    "        val_loss_5.append((val,un))\n",
    "        pass\n",
    "anomalies_ae_5 = pd.concat(frames_5)\n",
    "\n",
    "e_time = datetime.datetime.now()\n",
    "print(e_time-s_time)"
   ]
  },
  {
   "cell_type": "code",
   "execution_count": 34,
   "id": "d1a9b3e1-9933-4bb6-ab7d-933a26d9f41b",
   "metadata": {},
   "outputs": [
    {
     "data": {
      "application/vnd.jupyter.widget-view+json": {
       "model_id": "86f1e75d60ef46a093cae29a4c837e4a",
       "version_major": 2,
       "version_minor": 0
      },
      "text/plain": [
       "0epoch [00:00, ?epoch/s]"
      ]
     },
     "metadata": {},
     "output_type": "display_data"
    },
    {
     "data": {
      "application/vnd.jupyter.widget-view+json": {
       "model_id": "",
       "version_major": 2,
       "version_minor": 0
      },
      "text/plain": [
       "0batch [00:00, ?batch/s]"
      ]
     },
     "metadata": {},
     "output_type": "display_data"
    },
    {
     "name": "stdout",
     "output_type": "stream",
     "text": [
      "Restoring model weights from the end of the best epoch.\n",
      "Epoch 00024: early stopping\n"
     ]
    },
    {
     "name": "stderr",
     "output_type": "stream",
     "text": [
      "C:\\Users\\corri\\anaconda3\\lib\\site-packages\\pandas\\core\\frame.py:3607: SettingWithCopyWarning: \n",
      "A value is trying to be set on a copy of a slice from a DataFrame.\n",
      "Try using .loc[row_indexer,col_indexer] = value instead\n",
      "\n",
      "See the caveats in the documentation: https://pandas.pydata.org/pandas-docs/stable/user_guide/indexing.html#returning-a-view-versus-a-copy\n",
      "  self._set_item(key, value)\n"
     ]
    },
    {
     "name": "stdout",
     "output_type": "stream",
     "text": [
      "0:24:30.139848\n"
     ]
    }
   ],
   "source": [
    "frames_n_5 = []\n",
    "anomaly_bool_N_5 = []\n",
    "val_loss_n_5 = []\n",
    "bound = 400\n",
    "\n",
    "s_time = datetime.datetime.now()\n",
    "\n",
    "for i,un in enumerate(non_rt_sample):\n",
    "    df = norm_count_dframes[i]\n",
    "    f,b,val = ae_anomaly_finder_ds(un,df,24)\n",
    "    if b == 1:\n",
    "        frames_n_5.append(f)\n",
    "        anomaly_bool_N_5.append((len(f),un))\n",
    "        val_loss_n_5.append((val,un))\n",
    "    else:\n",
    "        anomaly_bool_N_5.append((0,un))\n",
    "        val_loss_n_5.append((val,un))\n",
    "        pass\n",
    "anomalies_ae_n_5 = pd.concat(frames_n_5)\n",
    "e_time = datetime.datetime.now()\n",
    "print(e_time-s_time)"
   ]
  },
  {
   "cell_type": "code",
   "execution_count": 35,
   "id": "76b48d2b-1e46-4f88-a89d-a735d1308c51",
   "metadata": {},
   "outputs": [
    {
     "name": "stdout",
     "output_type": "stream",
     "text": [
      "94 of the red team usernames were identified to have anomalies out of 95 red team usernames. The folloiwng usernames were found to have no anomalies\n",
      "--------------------------------------------------------------------------------------------\n",
      "User405399\n",
      "30.10% of the red team data was identified as anomalous.\n"
     ]
    },
    {
     "data": {
      "image/png": "[encoded data removed]",
      "text/plain": [
       "<Figure size 432x288 with 1 Axes>"
      ]
     },
     "metadata": {
      "needs_background": "light"
     },
     "output_type": "display_data"
    },
    {
     "name": "stdout",
     "output_type": "stream",
     "text": [
      "Authent Type\n",
      "Batch                     562\n",
      "CachedInteractive         187\n",
      "InteractiveLogon         1212\n",
      "NetworkLogon            16135\n",
      "RemoteInteractive         404\n",
      "ScreensaverDismissed      484\n",
      "ScreensaverInvoked        476\n",
      "Service                  1113\n",
      "TGS                     17730\n",
      "TGT                      4760\n",
      "WorkstationLock          1160\n",
      "WorkstationUnlock        1467\n",
      "dtype: int64\n",
      "179 of the normal usernames were identified to have anomalies out of 200 normal usernames. The folloiwng usernames were found to have no anomalies\n",
      "--------------------------------------------------------------------------------------------\n",
      "Comp792408$, Comp166939$, User835130, Comp982997$, Comp220136$, User034060, Comp421434$, User681533, User658064, User108742, Comp282554$, Comp556020$, Comp834308$, Comp682953$, Comp156369$, User611055, User248771, User924320, Comp722112$, Comp360389$, Comp855953$\n",
      "29.18% of the normal data was identified as anomalous.\n"
     ]
    },
    {
     "data": {
      "image/png": "[encoded data removed]",
      "text/plain": [
       "<Figure size 432x288 with 1 Axes>"
      ]
     },
     "metadata": {
      "needs_background": "light"
     },
     "output_type": "display_data"
    },
    {
     "name": "stdout",
     "output_type": "stream",
     "text": [
      "Authent Type\n",
      "CachedInteractive          20\n",
      "InteractiveLogon          465\n",
      "NetworkLogon             9109\n",
      "RemoteInteractive          60\n",
      "ScreensaverDismissed      259\n",
      "ScreensaverInvoked        252\n",
      "Service                     4\n",
      "TGS                     12631\n",
      "TGT                      3188\n",
      "WorkstationLock           641\n",
      "WorkstationUnlock         864\n",
      "dtype: int64\n"
     ]
    }
   ],
   "source": [
    "simple_ae_eval(anomaly_bool_5,anomalies_ae_5,val_loss_5,set(rt_usernames),'red team')\n",
    "simple_ae_eval(anomaly_bool_N_5,anomalies_ae_n_5,val_loss_n_5,non_rt_sample,'normal')"
   ]
  },
  {
   "cell_type": "markdown",
   "id": "5b614d8d-ab3b-4846-b19b-5f00a35ef47c",
   "metadata": {},
   "source": [
    "#### Quadruple Stacked Autoencoder"
   ]
  },
  {
   "cell_type": "code",
   "execution_count": 36,
   "id": "7b7a24da-57cf-4a53-a38d-3496a9658d4c",
   "metadata": {},
   "outputs": [],
   "source": [
    "def ae_anomaly_finder_qs(user,df,n,BATCH_SIZE=64, EPOCHS=1000):\n",
    "    \n",
    "    clear_output()\n",
    "    \n",
    "    # get the train/test sets\n",
    "    x_train_ae = np.concatenate([np.array(df[0:57*n]),np.array(df[82*n:])])\n",
    "    x_test_ae = np.array(df[57*n:82*n])\n",
    "    \n",
    "    # create our scaling pipeline\n",
    "    pipeline = Pipeline([('normalizer', Normalizer()),\n",
    "                    ('scaler', MinMaxScaler())])\n",
    "    pipeline.fit(x_train_ae)\n",
    "    x_train_ae = pipeline.transform(x_train_ae)\n",
    "    x_test_ae = pipeline.transform(x_test_ae)\n",
    "    \n",
    "    # define neural network parameters\n",
    "    input_dim = x_train_ae.shape[1]\n",
    "    BATCH_SIZE = BATCH_SIZE\n",
    "    EPOCHS = EPOCHS\n",
    "\n",
    "    # define the autoencoder\n",
    "    autoencoder =Sequential([\n",
    "\n",
    "        # deconstruct / encode\n",
    "        tf.keras.layers.Dense(input_dim, activation='elu', input_shape=(input_dim, )),\n",
    "        tf.keras.layers.Dropout(rate=0.1),\n",
    "        tf.keras.layers.Dense(16, activation='elu'),\n",
    "        tf.keras.layers.Dropout(rate=0.1),\n",
    "        tf.keras.layers.Dense(15, activation='elu'),\n",
    "        tf.keras.layers.Dropout(rate=0.1),\n",
    "        tf.keras.layers.Dense(14, activation='elu'),\n",
    "        tf.keras.layers.Dropout(rate=0.1),\n",
    "        tf.keras.layers.Dense(13, activation='elu'),\n",
    "        tf.keras.layers.Dropout(rate=0.1),\n",
    "        tf.keras.layers.Dense(12, activation='elu'),\n",
    "        tf.keras.layers.Dropout(rate=0.1),\n",
    "        tf.keras.layers.Dense(11, activation='elu'),\n",
    "        tf.keras.layers.Dropout(rate=0.1),\n",
    "        tf.keras.layers.Dense(10, activation='elu'),\n",
    "        tf.keras.layers.Dropout(rate=0.1),\n",
    "        tf.keras.layers.Dense(9, activation='elu'),\n",
    "        tf.keras.layers.Dropout(rate=0.1),\n",
    "        tf.keras.layers.Dense(8, activation='elu'),\n",
    "        tf.keras.layers.Dropout(rate=0.1),\n",
    "        tf.keras.layers.Dense(7, activation='elu'),\n",
    "        tf.keras.layers.Dropout(rate=0.1),\n",
    "        tf.keras.layers.Dense(6, activation='elu'),\n",
    "        tf.keras.layers.Dropout(rate=0.1),\n",
    "        tf.keras.layers.Dense(5, activation='elu'),\n",
    "        tf.keras.layers.Dropout(rate=0.1),\n",
    "        tf.keras.layers.Dense(4, activation='elu'),\n",
    "        tf.keras.layers.Dropout(rate=0.1),\n",
    "        tf.keras.layers.Dense(3, activation='elu'),\n",
    "        tf.keras.layers.Dropout(rate=0.1),\n",
    "        tf.keras.layers.Dense(2, activation='elu'),\n",
    "        tf.keras.layers.Dropout(rate=0.1),\n",
    "\n",
    "        # reconstruction / decode\n",
    "        tf.keras.layers.Dense(2, activation='elu'),\n",
    "        tf.keras.layers.Dropout(rate=0.1),\n",
    "        tf.keras.layers.Dense(3, activation='elu'),\n",
    "        tf.keras.layers.Dropout(rate=0.1),\n",
    "        tf.keras.layers.Dense(4, activation='elu'),\n",
    "        tf.keras.layers.Dropout(rate=0.1),\n",
    "        tf.keras.layers.Dense(5, activation='elu'),\n",
    "        tf.keras.layers.Dropout(rate=0.1),\n",
    "        tf.keras.layers.Dense(6, activation='elu'),\n",
    "        tf.keras.layers.Dropout(rate=0.1),\n",
    "        tf.keras.layers.Dense(7, activation='elu'),\n",
    "        tf.keras.layers.Dropout(rate=0.1),\n",
    "        tf.keras.layers.Dense(8, activation='elu'),\n",
    "        tf.keras.layers.Dropout(rate=0.1),\n",
    "        tf.keras.layers.Dense(9, activation='elu'),\n",
    "        tf.keras.layers.Dropout(rate=0.1),\n",
    "        tf.keras.layers.Dense(10, activation='elu'),\n",
    "        tf.keras.layers.Dropout(rate=0.1),\n",
    "        tf.keras.layers.Dense(11, activation='elu'),\n",
    "        tf.keras.layers.Dropout(rate=0.1),\n",
    "        tf.keras.layers.Dense(12, activation='elu'),\n",
    "        tf.keras.layers.Dropout(rate=0.1),\n",
    "        tf.keras.layers.Dense(13, activation='elu'),\n",
    "        tf.keras.layers.Dropout(rate=0.1),\n",
    "        tf.keras.layers.Dense(14, activation='elu'),\n",
    "        tf.keras.layers.Dropout(rate=0.1),\n",
    "        tf.keras.layers.Dense(15, activation='elu'),\n",
    "        tf.keras.layers.Dropout(rate=0.1),\n",
    "        tf.keras.layers.Dense(16, activation='elu'),\n",
    "        tf.keras.layers.Dropout(rate=0.1),\n",
    "        tf.keras.layers.Dense(input_dim, activation='elu'),\n",
    "        \n",
    "        # deconstruct / encode\n",
    "        tf.keras.layers.Dense(input_dim, activation='elu', input_shape=(input_dim, )),\n",
    "        tf.keras.layers.Dropout(rate=0.1),\n",
    "        tf.keras.layers.Dense(16, activation='elu'),\n",
    "        tf.keras.layers.Dropout(rate=0.1),\n",
    "        tf.keras.layers.Dense(15, activation='elu'),\n",
    "        tf.keras.layers.Dropout(rate=0.1),\n",
    "        tf.keras.layers.Dense(14, activation='elu'),\n",
    "        tf.keras.layers.Dropout(rate=0.1),\n",
    "        tf.keras.layers.Dense(13, activation='elu'),\n",
    "        tf.keras.layers.Dropout(rate=0.1),\n",
    "        tf.keras.layers.Dense(12, activation='elu'),\n",
    "        tf.keras.layers.Dropout(rate=0.1),\n",
    "        tf.keras.layers.Dense(11, activation='elu'),\n",
    "        tf.keras.layers.Dropout(rate=0.1),\n",
    "        tf.keras.layers.Dense(10, activation='elu'),\n",
    "        tf.keras.layers.Dropout(rate=0.1),\n",
    "        tf.keras.layers.Dense(9, activation='elu'),\n",
    "        tf.keras.layers.Dropout(rate=0.1),\n",
    "        tf.keras.layers.Dense(8, activation='elu'),\n",
    "        tf.keras.layers.Dropout(rate=0.1),\n",
    "        tf.keras.layers.Dense(7, activation='elu'),\n",
    "        tf.keras.layers.Dropout(rate=0.1),\n",
    "        tf.keras.layers.Dense(6, activation='elu'),\n",
    "        tf.keras.layers.Dropout(rate=0.1),\n",
    "        tf.keras.layers.Dense(5, activation='elu'),\n",
    "        tf.keras.layers.Dropout(rate=0.1),\n",
    "        tf.keras.layers.Dense(4, activation='elu'),\n",
    "        tf.keras.layers.Dropout(rate=0.1),\n",
    "        tf.keras.layers.Dense(3, activation='elu'),\n",
    "        tf.keras.layers.Dropout(rate=0.1),\n",
    "        tf.keras.layers.Dense(2, activation='elu'),\n",
    "        tf.keras.layers.Dropout(rate=0.1),\n",
    "\n",
    "        # reconstruction / decode\n",
    "        tf.keras.layers.Dense(2, activation='elu'),\n",
    "        tf.keras.layers.Dropout(rate=0.1),\n",
    "        tf.keras.layers.Dense(3, activation='elu'),\n",
    "        tf.keras.layers.Dropout(rate=0.1),\n",
    "        tf.keras.layers.Dense(4, activation='elu'),\n",
    "        tf.keras.layers.Dropout(rate=0.1),\n",
    "        tf.keras.layers.Dense(5, activation='elu'),\n",
    "        tf.keras.layers.Dropout(rate=0.1),\n",
    "        tf.keras.layers.Dense(6, activation='elu'),\n",
    "        tf.keras.layers.Dropout(rate=0.1),\n",
    "        tf.keras.layers.Dense(7, activation='elu'),\n",
    "        tf.keras.layers.Dropout(rate=0.1),\n",
    "        tf.keras.layers.Dense(8, activation='elu'),\n",
    "        tf.keras.layers.Dropout(rate=0.1),\n",
    "        tf.keras.layers.Dense(9, activation='elu'),\n",
    "        tf.keras.layers.Dropout(rate=0.1),\n",
    "        tf.keras.layers.Dense(10, activation='elu'),\n",
    "        tf.keras.layers.Dropout(rate=0.1),\n",
    "        tf.keras.layers.Dense(11, activation='elu'),\n",
    "        tf.keras.layers.Dropout(rate=0.1),\n",
    "        tf.keras.layers.Dense(12, activation='elu'),\n",
    "        tf.keras.layers.Dropout(rate=0.1),\n",
    "        tf.keras.layers.Dense(13, activation='elu'),\n",
    "        tf.keras.layers.Dropout(rate=0.1),\n",
    "        tf.keras.layers.Dense(14, activation='elu'),\n",
    "        tf.keras.layers.Dropout(rate=0.1),\n",
    "        tf.keras.layers.Dense(15, activation='elu'),\n",
    "        tf.keras.layers.Dropout(rate=0.1),\n",
    "        tf.keras.layers.Dense(16, activation='elu'),\n",
    "        tf.keras.layers.Dropout(rate=0.1),\n",
    "        tf.keras.layers.Dense(input_dim, activation='elu'),\n",
    "        \n",
    "        # deconstruct / encode\n",
    "        tf.keras.layers.Dense(input_dim, activation='elu', input_shape=(input_dim, )),\n",
    "        tf.keras.layers.Dropout(rate=0.1),\n",
    "        tf.keras.layers.Dense(16, activation='elu'),\n",
    "        tf.keras.layers.Dropout(rate=0.1),\n",
    "        tf.keras.layers.Dense(15, activation='elu'),\n",
    "        tf.keras.layers.Dropout(rate=0.1),\n",
    "        tf.keras.layers.Dense(14, activation='elu'),\n",
    "        tf.keras.layers.Dropout(rate=0.1),\n",
    "        tf.keras.layers.Dense(13, activation='elu'),\n",
    "        tf.keras.layers.Dropout(rate=0.1),\n",
    "        tf.keras.layers.Dense(12, activation='elu'),\n",
    "        tf.keras.layers.Dropout(rate=0.1),\n",
    "        tf.keras.layers.Dense(11, activation='elu'),\n",
    "        tf.keras.layers.Dropout(rate=0.1),\n",
    "        tf.keras.layers.Dense(10, activation='elu'),\n",
    "        tf.keras.layers.Dropout(rate=0.1),\n",
    "        tf.keras.layers.Dense(9, activation='elu'),\n",
    "        tf.keras.layers.Dropout(rate=0.1),\n",
    "        tf.keras.layers.Dense(8, activation='elu'),\n",
    "        tf.keras.layers.Dropout(rate=0.1),\n",
    "        tf.keras.layers.Dense(7, activation='elu'),\n",
    "        tf.keras.layers.Dropout(rate=0.1),\n",
    "        tf.keras.layers.Dense(6, activation='elu'),\n",
    "        tf.keras.layers.Dropout(rate=0.1),\n",
    "        tf.keras.layers.Dense(5, activation='elu'),\n",
    "        tf.keras.layers.Dropout(rate=0.1),\n",
    "        tf.keras.layers.Dense(4, activation='elu'),\n",
    "        tf.keras.layers.Dropout(rate=0.1),\n",
    "        tf.keras.layers.Dense(3, activation='elu'),\n",
    "        tf.keras.layers.Dropout(rate=0.1),\n",
    "        tf.keras.layers.Dense(2, activation='elu'),\n",
    "        tf.keras.layers.Dropout(rate=0.1),\n",
    "\n",
    "        # reconstruction / decode\n",
    "        tf.keras.layers.Dense(2, activation='elu'),\n",
    "        tf.keras.layers.Dropout(rate=0.1),\n",
    "        tf.keras.layers.Dense(3, activation='elu'),\n",
    "        tf.keras.layers.Dropout(rate=0.1),\n",
    "        tf.keras.layers.Dense(4, activation='elu'),\n",
    "        tf.keras.layers.Dropout(rate=0.1),\n",
    "        tf.keras.layers.Dense(5, activation='elu'),\n",
    "        tf.keras.layers.Dropout(rate=0.1),\n",
    "        tf.keras.layers.Dense(6, activation='elu'),\n",
    "        tf.keras.layers.Dropout(rate=0.1),\n",
    "        tf.keras.layers.Dense(7, activation='elu'),\n",
    "        tf.keras.layers.Dropout(rate=0.1),\n",
    "        tf.keras.layers.Dense(8, activation='elu'),\n",
    "        tf.keras.layers.Dropout(rate=0.1),\n",
    "        tf.keras.layers.Dense(9, activation='elu'),\n",
    "        tf.keras.layers.Dropout(rate=0.1),\n",
    "        tf.keras.layers.Dense(10, activation='elu'),\n",
    "        tf.keras.layers.Dropout(rate=0.1),\n",
    "        tf.keras.layers.Dense(11, activation='elu'),\n",
    "        tf.keras.layers.Dropout(rate=0.1),\n",
    "        tf.keras.layers.Dense(12, activation='elu'),\n",
    "        tf.keras.layers.Dropout(rate=0.1),\n",
    "        tf.keras.layers.Dense(13, activation='elu'),\n",
    "        tf.keras.layers.Dropout(rate=0.1),\n",
    "        tf.keras.layers.Dense(14, activation='elu'),\n",
    "        tf.keras.layers.Dropout(rate=0.1),\n",
    "        tf.keras.layers.Dense(15, activation='elu'),\n",
    "        tf.keras.layers.Dropout(rate=0.1),\n",
    "        tf.keras.layers.Dense(16, activation='elu'),\n",
    "        tf.keras.layers.Dropout(rate=0.1),\n",
    "        tf.keras.layers.Dense(input_dim, activation='elu'),\n",
    "        \n",
    "        # deconstruct / encode\n",
    "        tf.keras.layers.Dense(input_dim, activation='elu', input_shape=(input_dim, )),\n",
    "        tf.keras.layers.Dropout(rate=0.1),\n",
    "        tf.keras.layers.Dense(16, activation='elu'),\n",
    "        tf.keras.layers.Dropout(rate=0.1),\n",
    "        tf.keras.layers.Dense(15, activation='elu'),\n",
    "        tf.keras.layers.Dropout(rate=0.1),\n",
    "        tf.keras.layers.Dense(14, activation='elu'),\n",
    "        tf.keras.layers.Dropout(rate=0.1),\n",
    "        tf.keras.layers.Dense(13, activation='elu'),\n",
    "        tf.keras.layers.Dropout(rate=0.1),\n",
    "        tf.keras.layers.Dense(12, activation='elu'),\n",
    "        tf.keras.layers.Dropout(rate=0.1),\n",
    "        tf.keras.layers.Dense(11, activation='elu'),\n",
    "        tf.keras.layers.Dropout(rate=0.1),\n",
    "        tf.keras.layers.Dense(10, activation='elu'),\n",
    "        tf.keras.layers.Dropout(rate=0.1),\n",
    "        tf.keras.layers.Dense(9, activation='elu'),\n",
    "        tf.keras.layers.Dropout(rate=0.1),\n",
    "        tf.keras.layers.Dense(8, activation='elu'),\n",
    "        tf.keras.layers.Dropout(rate=0.1),\n",
    "        tf.keras.layers.Dense(7, activation='elu'),\n",
    "        tf.keras.layers.Dropout(rate=0.1),\n",
    "        tf.keras.layers.Dense(6, activation='elu'),\n",
    "        tf.keras.layers.Dropout(rate=0.1),\n",
    "        tf.keras.layers.Dense(5, activation='elu'),\n",
    "        tf.keras.layers.Dropout(rate=0.1),\n",
    "        tf.keras.layers.Dense(4, activation='elu'),\n",
    "        tf.keras.layers.Dropout(rate=0.1),\n",
    "        tf.keras.layers.Dense(3, activation='elu'),\n",
    "        tf.keras.layers.Dropout(rate=0.1),\n",
    "        tf.keras.layers.Dense(2, activation='elu'),\n",
    "        tf.keras.layers.Dropout(rate=0.1),\n",
    "\n",
    "        # reconstruction / decode\n",
    "        tf.keras.layers.Dense(2, activation='elu'),\n",
    "        tf.keras.layers.Dropout(rate=0.1),\n",
    "        tf.keras.layers.Dense(3, activation='elu'),\n",
    "        tf.keras.layers.Dropout(rate=0.1),\n",
    "        tf.keras.layers.Dense(4, activation='elu'),\n",
    "        tf.keras.layers.Dropout(rate=0.1),\n",
    "        tf.keras.layers.Dense(5, activation='elu'),\n",
    "        tf.keras.layers.Dropout(rate=0.1),\n",
    "        tf.keras.layers.Dense(6, activation='elu'),\n",
    "        tf.keras.layers.Dropout(rate=0.1),\n",
    "        tf.keras.layers.Dense(7, activation='elu'),\n",
    "        tf.keras.layers.Dropout(rate=0.1),\n",
    "        tf.keras.layers.Dense(8, activation='elu'),\n",
    "        tf.keras.layers.Dropout(rate=0.1),\n",
    "        tf.keras.layers.Dense(9, activation='elu'),\n",
    "        tf.keras.layers.Dropout(rate=0.1),\n",
    "        tf.keras.layers.Dense(10, activation='elu'),\n",
    "        tf.keras.layers.Dropout(rate=0.1),\n",
    "        tf.keras.layers.Dense(11, activation='elu'),\n",
    "        tf.keras.layers.Dropout(rate=0.1),\n",
    "        tf.keras.layers.Dense(12, activation='elu'),\n",
    "        tf.keras.layers.Dropout(rate=0.1),\n",
    "        tf.keras.layers.Dense(13, activation='elu'),\n",
    "        tf.keras.layers.Dropout(rate=0.1),\n",
    "        tf.keras.layers.Dense(14, activation='elu'),\n",
    "        tf.keras.layers.Dropout(rate=0.1),\n",
    "        tf.keras.layers.Dense(15, activation='elu'),\n",
    "        tf.keras.layers.Dropout(rate=0.1),\n",
    "        tf.keras.layers.Dense(16, activation='elu'),\n",
    "        tf.keras.layers.Dropout(rate=0.1),\n",
    "        tf.keras.layers.Dense(input_dim, activation='elu')\n",
    "\n",
    "    ])\n",
    "\n",
    "    # compile the autoencoder\n",
    "    autoencoder.compile(optimizer=\"adam\", \n",
    "                        loss=\"mse\",\n",
    "                        metrics=[\"acc\"])\n",
    "    \n",
    "    early_stop = tf.keras.callbacks.EarlyStopping(\n",
    "    monitor='val_loss',\n",
    "    min_delta=0.0001,\n",
    "    patience=10,\n",
    "    verbose=1, \n",
    "    mode='min',\n",
    "    restore_best_weights=True\n",
    "    )\n",
    "    \n",
    "    # allows for early stopping and better visualisation of progress\n",
    "    cb = [early_stop,TqdmCallback(verbose=1)]\n",
    "    \n",
    "    # fit the auto encoder\n",
    "    history = autoencoder.fit(\n",
    "        x_train_ae, x_train_ae,\n",
    "        shuffle=True,\n",
    "        epochs=EPOCHS,\n",
    "        batch_size=BATCH_SIZE,\n",
    "        validation_split=0.1,\n",
    "        verbose=0,\n",
    "        callbacks=cb   \n",
    "    )\n",
    "    \n",
    "    # make predictions on the remaining data\n",
    "    x_test_pred = autoencoder.predict(x_test_ae)\n",
    "    test_mae_loss = np.mean(np.abs(x_test_pred - x_test_ae), axis=1)\n",
    "    \n",
    "    anomalies = np.where(test_mae_loss > np.array(history.history[\"val_loss\"]).min())\n",
    "    anomaly_idx = anomalies[0]\n",
    "    \n",
    "    frame = []\n",
    "    for i in range(len(anomaly_idx)):\n",
    "        anomaly = ae_orig_finder(user,n,57*n+anomaly_idx[i])\n",
    "        \n",
    "        # indicates that an anomaly was found where we have no information i.e. the lack of an event was anomalous\n",
    "        if len(anomaly) == 0:\n",
    "            pass\n",
    "        else:\n",
    "            frame.append(anomaly)\n",
    "        \n",
    "    if len(frame) != 0:\n",
    "        anomaly_df = pd.concat(frame)\n",
    "        return anomaly_df,1,history.history[\"val_loss\"]\n",
    "    else:\n",
    "        print('No anomalies found.')\n",
    "        return pd.DataFrame(test_mae_loss).describe(),0,history.history[\"val_loss\"]"
   ]
  },
  {
   "cell_type": "code",
   "execution_count": 37,
   "id": "e1a92281-0dcf-47f9-8073-5cff179296f6",
   "metadata": {},
   "outputs": [
    {
     "data": {
      "application/vnd.jupyter.widget-view+json": {
       "model_id": "5e693d47368f4e28a639e1cfd15b2e4d",
       "version_major": 2,
       "version_minor": 0
      },
      "text/plain": [
       "0epoch [00:00, ?epoch/s]"
      ]
     },
     "metadata": {},
     "output_type": "display_data"
    },
    {
     "data": {
      "application/vnd.jupyter.widget-view+json": {
       "model_id": "",
       "version_major": 2,
       "version_minor": 0
      },
      "text/plain": [
       "0batch [00:00, ?batch/s]"
      ]
     },
     "metadata": {},
     "output_type": "display_data"
    },
    {
     "name": "stdout",
     "output_type": "stream",
     "text": [
      "Restoring model weights from the end of the best epoch.\n",
      "Epoch 00014: early stopping\n"
     ]
    },
    {
     "name": "stderr",
     "output_type": "stream",
     "text": [
      "C:\\Users\\corri\\anaconda3\\lib\\site-packages\\pandas\\core\\frame.py:3607: SettingWithCopyWarning: \n",
      "A value is trying to be set on a copy of a slice from a DataFrame.\n",
      "Try using .loc[row_indexer,col_indexer] = value instead\n",
      "\n",
      "See the caveats in the documentation: https://pandas.pydata.org/pandas-docs/stable/user_guide/indexing.html#returning-a-view-versus-a-copy\n",
      "  self._set_item(key, value)\n"
     ]
    },
    {
     "name": "stdout",
     "output_type": "stream",
     "text": [
      "0:11:49.038798\n"
     ]
    }
   ],
   "source": [
    "frames_5 = []\n",
    "anomaly_bool_5 = []\n",
    "val_loss_5 = []\n",
    "\n",
    "s_time = datetime.datetime.now()\n",
    "\n",
    "for i,un in enumerate(set(rt_usernames)):\n",
    "    clear_output(wait=True)\n",
    "    print('Working with username {} of {}. {:.2f} percentage complete.'.format(i+1,len(rt_usernames),100*((i+1)/len(rt_usernames))))\n",
    "    df = rt_count_dframes[i]\n",
    "    f,b,val = ae_anomaly_finder_ds(un,df,24)\n",
    "    if b == 1:\n",
    "        frames_5.append(f)\n",
    "        anomaly_bool_5.append((len(f),un))\n",
    "        val_loss_5.append((val,un))\n",
    "    else:\n",
    "        anomaly_bool_5.append((0,un))\n",
    "        val_loss_5.append((val,un))\n",
    "        pass\n",
    "anomalies_ae_5 = pd.concat(frames_5)\n",
    "\n",
    "e_time = datetime.datetime.now()\n",
    "print(e_time-s_time)"
   ]
  },
  {
   "cell_type": "code",
   "execution_count": 38,
   "id": "9bde9d0d-8fc6-47b2-af37-2c1b98cdb812",
   "metadata": {},
   "outputs": [
    {
     "data": {
      "application/vnd.jupyter.widget-view+json": {
       "model_id": "e37ca6a137494188a4c7af148d50c125",
       "version_major": 2,
       "version_minor": 0
      },
      "text/plain": [
       "0epoch [00:00, ?epoch/s]"
      ]
     },
     "metadata": {},
     "output_type": "display_data"
    },
    {
     "data": {
      "application/vnd.jupyter.widget-view+json": {
       "model_id": "",
       "version_major": 2,
       "version_minor": 0
      },
      "text/plain": [
       "0batch [00:00, ?batch/s]"
      ]
     },
     "metadata": {},
     "output_type": "display_data"
    },
    {
     "name": "stdout",
     "output_type": "stream",
     "text": [
      "Restoring model weights from the end of the best epoch.\n",
      "Epoch 00024: early stopping\n"
     ]
    },
    {
     "name": "stderr",
     "output_type": "stream",
     "text": [
      "C:\\Users\\corri\\anaconda3\\lib\\site-packages\\pandas\\core\\frame.py:3607: SettingWithCopyWarning: \n",
      "A value is trying to be set on a copy of a slice from a DataFrame.\n",
      "Try using .loc[row_indexer,col_indexer] = value instead\n",
      "\n",
      "See the caveats in the documentation: https://pandas.pydata.org/pandas-docs/stable/user_guide/indexing.html#returning-a-view-versus-a-copy\n",
      "  self._set_item(key, value)\n"
     ]
    },
    {
     "name": "stdout",
     "output_type": "stream",
     "text": [
      "0:24:48.771687\n"
     ]
    }
   ],
   "source": [
    "frames_n_5 = []\n",
    "anomaly_bool_N_5 = []\n",
    "val_loss_n_5 = []\n",
    "bound = 400\n",
    "\n",
    "s_time = datetime.datetime.now()\n",
    "\n",
    "for i,un in enumerate(non_rt_sample):\n",
    "    df = norm_count_dframes[i]\n",
    "    f,b,val = ae_anomaly_finder_ds(un,df,24)\n",
    "    if b == 1:\n",
    "        frames_n_5.append(f)\n",
    "        anomaly_bool_N_5.append((len(f),un))\n",
    "        val_loss_n_5.append((val,un))\n",
    "    else:\n",
    "        anomaly_bool_N_5.append((0,un))\n",
    "        val_loss_n_5.append((val,un))\n",
    "        pass\n",
    "anomalies_ae_n_5 = pd.concat(frames_n_5)\n",
    "e_time = datetime.datetime.now()\n",
    "print(e_time-s_time)"
   ]
  },
  {
   "cell_type": "code",
   "execution_count": 39,
   "id": "5cf47425-eb3a-4913-9310-ae75fa8897a0",
   "metadata": {},
   "outputs": [
    {
     "name": "stdout",
     "output_type": "stream",
     "text": [
      "94 of the red team usernames were identified to have anomalies out of 95 red team usernames. The folloiwng usernames were found to have no anomalies\n",
      "--------------------------------------------------------------------------------------------\n",
      "User405399\n",
      "30.17% of the red team data was identified as anomalous.\n"
     ]
    },
    {
     "data": {
      "image/png": "[encoded data removed]",
      "text/plain": [
       "<Figure size 432x288 with 1 Axes>"
      ]
     },
     "metadata": {
      "needs_background": "light"
     },
     "output_type": "display_data"
    },
    {
     "name": "stdout",
     "output_type": "stream",
     "text": [
      "Authent Type\n",
      "Batch                     566\n",
      "CachedInteractive         187\n",
      "InteractiveLogon         1216\n",
      "NetworkLogon            16182\n",
      "RemoteInteractive         404\n",
      "ScreensaverDismissed      484\n",
      "ScreensaverInvoked        476\n",
      "Service                  1131\n",
      "TGS                     17760\n",
      "TGT                      4772\n",
      "WorkstationLock          1160\n",
      "WorkstationUnlock        1467\n",
      "dtype: int64\n",
      "179 of the normal usernames were identified to have anomalies out of 200 normal usernames. The folloiwng usernames were found to have no anomalies\n",
      "--------------------------------------------------------------------------------------------\n",
      "Comp792408$, Comp166939$, User835130, Comp982997$, Comp220136$, User034060, Comp421434$, User681533, User658064, User108742, Comp282554$, Comp556020$, Comp834308$, Comp682953$, Comp156369$, User611055, User248771, User924320, Comp722112$, Comp360389$, Comp855953$\n",
      "29.18% of the normal data was identified as anomalous.\n"
     ]
    },
    {
     "data": {
      "image/png": "[encoded data removed]",
      "text/plain": [
       "<Figure size 432x288 with 1 Axes>"
      ]
     },
     "metadata": {
      "needs_background": "light"
     },
     "output_type": "display_data"
    },
    {
     "name": "stdout",
     "output_type": "stream",
     "text": [
      "Authent Type\n",
      "CachedInteractive          20\n",
      "InteractiveLogon          465\n",
      "NetworkLogon             9109\n",
      "RemoteInteractive          60\n",
      "ScreensaverDismissed      259\n",
      "ScreensaverInvoked        252\n",
      "Service                     4\n",
      "TGS                     12631\n",
      "TGT                      3188\n",
      "WorkstationLock           641\n",
      "WorkstationUnlock         864\n",
      "dtype: int64\n"
     ]
    }
   ],
   "source": [
    "simple_ae_eval(anomaly_bool_5,anomalies_ae_5,val_loss_5,set(rt_usernames),'red team')\n",
    "simple_ae_eval(anomaly_bool_N_5,anomalies_ae_n_5,val_loss_n_5,non_rt_sample,'normal')"
   ]
  },
  {
   "cell_type": "markdown",
   "id": "69f6cacd-9e6e-40ea-8112-9b6ff5652534",
   "metadata": {},
   "source": [
    "#### RELU activation"
   ]
  },
  {
   "cell_type": "code",
   "execution_count": 41,
   "id": "aeca8151-d487-404f-b77b-99ab9e2eb65b",
   "metadata": {},
   "outputs": [],
   "source": [
    "def ae_anomaly_finder_relu(user,df,n,BATCH_SIZE=64, EPOCHS=1000):\n",
    "    \n",
    "    clear_output()\n",
    "    \n",
    "    # get the train/test sets\n",
    "    x_train_ae = np.concatenate([np.array(df[0:57*n]),np.array(df[82*n:])])\n",
    "    x_test_ae = np.array(df[57*n:82*n])\n",
    "    \n",
    "    # create our scaling pipeline\n",
    "    pipeline = Pipeline([('normalizer', Normalizer()),\n",
    "                    ('scaler', MinMaxScaler())])\n",
    "    pipeline.fit(x_train_ae)\n",
    "    x_train_ae = pipeline.transform(x_train_ae)\n",
    "    x_test_ae = pipeline.transform(x_test_ae)\n",
    "    \n",
    "    # define neural network parameters\n",
    "    input_dim = x_train_ae.shape[1]\n",
    "    BATCH_SIZE = BATCH_SIZE\n",
    "    EPOCHS = EPOCHS\n",
    "\n",
    "    # define the autoencoder\n",
    "    autoencoder =Sequential([\n",
    "\n",
    "        # deconstruct / encode\n",
    "        tf.keras.layers.Dense(input_dim, activation='relu', input_shape=(input_dim, )),\n",
    "        tf.keras.layers.Dropout(rate=0.1),\n",
    "        tf.keras.layers.Dense(16, activation='relu'),\n",
    "        tf.keras.layers.Dropout(rate=0.1),\n",
    "        tf.keras.layers.Dense(14, activation='relu'),\n",
    "        tf.keras.layers.Dropout(rate=0.1),\n",
    "        tf.keras.layers.Dense(12, activation='relu'),\n",
    "        tf.keras.layers.Dropout(rate=0.1),\n",
    "        tf.keras.layers.Dense(10, activation='relu'),\n",
    "        tf.keras.layers.Dropout(rate=0.1),\n",
    "        tf.keras.layers.Dense(8, activation='relu'),\n",
    "        tf.keras.layers.Dropout(rate=0.1),\n",
    "        tf.keras.layers.Dense(6, activation='relu'),\n",
    "        tf.keras.layers.Dropout(rate=0.1),\n",
    "        tf.keras.layers.Dense(4, activation='relu'),\n",
    "        tf.keras.layers.Dropout(rate=0.1),\n",
    "        tf.keras.layers.Dense(2, activation='relu'),\n",
    "        tf.keras.layers.Dropout(rate=0.1),\n",
    "\n",
    "        # reconstruction / decode\n",
    "        tf.keras.layers.Dense(2, activation='relu'),\n",
    "        tf.keras.layers.Dropout(rate=0.1),\n",
    "        tf.keras.layers.Dense(4, activation='relu'),\n",
    "        tf.keras.layers.Dropout(rate=0.1),\n",
    "        tf.keras.layers.Dense(6, activation='relu'),\n",
    "        tf.keras.layers.Dropout(rate=0.1),\n",
    "        tf.keras.layers.Dense(8, activation='relu'),\n",
    "        tf.keras.layers.Dropout(rate=0.1),\n",
    "        tf.keras.layers.Dense(10, activation='relu'),\n",
    "        tf.keras.layers.Dropout(rate=0.1),\n",
    "        tf.keras.layers.Dense(12, activation='relu'),\n",
    "        tf.keras.layers.Dropout(rate=0.1),\n",
    "        tf.keras.layers.Dense(14, activation='relu'),\n",
    "        tf.keras.layers.Dropout(rate=0.1),\n",
    "        tf.keras.layers.Dense(16, activation='relu'),\n",
    "        tf.keras.layers.Dropout(rate=0.1),\n",
    "        tf.keras.layers.Dense(input_dim, activation='relu')\n",
    "\n",
    "    ])\n",
    "\n",
    "    # compile the autoencoder\n",
    "    autoencoder.compile(optimizer=\"adam\", \n",
    "                        loss=\"mse\",\n",
    "                        metrics=[\"acc\"])\n",
    "    \n",
    "    early_stop = tf.keras.callbacks.EarlyStopping(\n",
    "    monitor='val_loss',\n",
    "    min_delta=0.0001,\n",
    "    patience=10,\n",
    "    verbose=1, \n",
    "    mode='min',\n",
    "    restore_best_weights=True\n",
    "    )\n",
    "    \n",
    "    # allows for early stopping and better visualisation of progress\n",
    "    cb = [early_stop,TqdmCallback(verbose=1)]\n",
    "    \n",
    "    # fit the auto encoder\n",
    "    history = autoencoder.fit(\n",
    "        x_train_ae, x_train_ae,\n",
    "        shuffle=True,\n",
    "        epochs=EPOCHS,\n",
    "        batch_size=BATCH_SIZE,\n",
    "        validation_split=0.1,\n",
    "        verbose=0,\n",
    "        callbacks=cb   \n",
    "    )\n",
    "    \n",
    "    # make predictions on the remaining data\n",
    "    x_test_pred = autoencoder.predict(x_test_ae)\n",
    "    test_mae_loss = np.mean(np.abs(x_test_pred - x_test_ae), axis=1)\n",
    "    \n",
    "    anomalies = np.where(test_mae_loss > np.array(history.history[\"val_loss\"]).min())\n",
    "    anomaly_idx = anomalies[0]\n",
    "    \n",
    "    frame = []\n",
    "    for i in range(len(anomaly_idx)):\n",
    "        anomaly = ae_orig_finder(user,n,57*n+anomaly_idx[i])\n",
    "        \n",
    "        # indicates that an anomaly was found where we have no information i.e. the lack of an event was anomalous\n",
    "        if len(anomaly) == 0:\n",
    "            pass\n",
    "        else:\n",
    "            frame.append(anomaly)\n",
    "        \n",
    "    if len(frame) != 0:\n",
    "        anomaly_df = pd.concat(frame)\n",
    "        return anomaly_df,1,history.history[\"val_loss\"]\n",
    "    else:\n",
    "        print('No anomalies found.')\n",
    "        return pd.DataFrame(test_mae_loss).describe(),0,history.history[\"val_loss\"]"
   ]
  },
  {
   "cell_type": "code",
   "execution_count": 42,
   "id": "dae17044-241c-432d-93fc-8f68cedf792d",
   "metadata": {},
   "outputs": [
    {
     "data": {
      "application/vnd.jupyter.widget-view+json": {
       "model_id": "e2c14ce7be6e470c92aac00e90c587b3",
       "version_major": 2,
       "version_minor": 0
      },
      "text/plain": [
       "0epoch [00:00, ?epoch/s]"
      ]
     },
     "metadata": {},
     "output_type": "display_data"
    },
    {
     "data": {
      "application/vnd.jupyter.widget-view+json": {
       "model_id": "",
       "version_major": 2,
       "version_minor": 0
      },
      "text/plain": [
       "0batch [00:00, ?batch/s]"
      ]
     },
     "metadata": {},
     "output_type": "display_data"
    },
    {
     "name": "stdout",
     "output_type": "stream",
     "text": [
      "Restoring model weights from the end of the best epoch.\n",
      "Epoch 00050: early stopping\n"
     ]
    },
    {
     "name": "stderr",
     "output_type": "stream",
     "text": [
      "C:\\Users\\corri\\anaconda3\\lib\\site-packages\\pandas\\core\\frame.py:3607: SettingWithCopyWarning: \n",
      "A value is trying to be set on a copy of a slice from a DataFrame.\n",
      "Try using .loc[row_indexer,col_indexer] = value instead\n",
      "\n",
      "See the caveats in the documentation: https://pandas.pydata.org/pandas-docs/stable/user_guide/indexing.html#returning-a-view-versus-a-copy\n",
      "  self._set_item(key, value)\n"
     ]
    },
    {
     "name": "stdout",
     "output_type": "stream",
     "text": [
      "0:07:30.582269\n"
     ]
    }
   ],
   "source": [
    "frames_5 = []\n",
    "anomaly_bool_5 = []\n",
    "val_loss_5 = []\n",
    "\n",
    "s_time = datetime.datetime.now()\n",
    "\n",
    "for i,un in enumerate(set(rt_usernames)):\n",
    "    clear_output(wait=True)\n",
    "    print('Working with username {} of {}. {:.2f} percentage complete.'.format(i+1,len(rt_usernames),100*((i+1)/len(rt_usernames))))\n",
    "    df = rt_count_dframes[i]\n",
    "    f,b,val = ae_anomaly_finder_relu(un,df,24)\n",
    "    if b == 1:\n",
    "        frames_5.append(f)\n",
    "        anomaly_bool_5.append((len(f),un))\n",
    "        val_loss_5.append((val,un))\n",
    "    else:\n",
    "        anomaly_bool_5.append((0,un))\n",
    "        val_loss_5.append((val,un))\n",
    "        pass\n",
    "anomalies_ae_5 = pd.concat(frames_5)\n",
    "\n",
    "e_time = datetime.datetime.now()\n",
    "print(e_time-s_time)"
   ]
  },
  {
   "cell_type": "code",
   "execution_count": 43,
   "id": "7412f850-7521-410b-af05-22c8850aa182",
   "metadata": {},
   "outputs": [
    {
     "data": {
      "application/vnd.jupyter.widget-view+json": {
       "model_id": "e264c1ecf3524015a61b7b37be00e4e6",
       "version_major": 2,
       "version_minor": 0
      },
      "text/plain": [
       "0epoch [00:00, ?epoch/s]"
      ]
     },
     "metadata": {},
     "output_type": "display_data"
    },
    {
     "data": {
      "application/vnd.jupyter.widget-view+json": {
       "model_id": "",
       "version_major": 2,
       "version_minor": 0
      },
      "text/plain": [
       "0batch [00:00, ?batch/s]"
      ]
     },
     "metadata": {},
     "output_type": "display_data"
    },
    {
     "name": "stdout",
     "output_type": "stream",
     "text": [
      "Restoring model weights from the end of the best epoch.\n",
      "Epoch 00023: early stopping\n"
     ]
    },
    {
     "name": "stderr",
     "output_type": "stream",
     "text": [
      "C:\\Users\\corri\\anaconda3\\lib\\site-packages\\pandas\\core\\frame.py:3607: SettingWithCopyWarning: \n",
      "A value is trying to be set on a copy of a slice from a DataFrame.\n",
      "Try using .loc[row_indexer,col_indexer] = value instead\n",
      "\n",
      "See the caveats in the documentation: https://pandas.pydata.org/pandas-docs/stable/user_guide/indexing.html#returning-a-view-versus-a-copy\n",
      "  self._set_item(key, value)\n"
     ]
    },
    {
     "name": "stdout",
     "output_type": "stream",
     "text": [
      "0:15:17.757949\n"
     ]
    }
   ],
   "source": [
    "frames_n_5 = []\n",
    "anomaly_bool_N_5 = []\n",
    "val_loss_n_5 = []\n",
    "bound = 400\n",
    "\n",
    "s_time = datetime.datetime.now()\n",
    "\n",
    "for i,un in enumerate(non_rt_sample):\n",
    "    df = norm_count_dframes[i]\n",
    "    f,b,val = ae_anomaly_finder_relu(un,df,24)\n",
    "    if b == 1:\n",
    "        frames_n_5.append(f)\n",
    "        anomaly_bool_N_5.append((len(f),un))\n",
    "        val_loss_n_5.append((val,un))\n",
    "    else:\n",
    "        anomaly_bool_N_5.append((0,un))\n",
    "        val_loss_n_5.append((val,un))\n",
    "        pass\n",
    "anomalies_ae_n_5 = pd.concat(frames_n_5)\n",
    "e_time = datetime.datetime.now()\n",
    "print(e_time-s_time)"
   ]
  },
  {
   "cell_type": "code",
   "execution_count": 44,
   "id": "d71088db-949a-4236-a4ff-b8df152f205f",
   "metadata": {},
   "outputs": [
    {
     "name": "stdout",
     "output_type": "stream",
     "text": [
      "94 of the red team usernames were identified to have anomalies out of 95 red team usernames. The folloiwng usernames were found to have no anomalies\n",
      "--------------------------------------------------------------------------------------------\n",
      "User405399\n",
      "29.11% of the red team data was identified as anomalous.\n"
     ]
    },
    {
     "data": {
      "image/png": "[encoded data removed]",
      "text/plain": [
       "<Figure size 432x288 with 1 Axes>"
      ]
     },
     "metadata": {
      "needs_background": "light"
     },
     "output_type": "display_data"
    },
    {
     "name": "stdout",
     "output_type": "stream",
     "text": [
      "Authent Type\n",
      "Batch                     551\n",
      "CachedInteractive         186\n",
      "InteractiveLogon         1183\n",
      "NetworkLogon            15418\n",
      "RemoteInteractive         399\n",
      "ScreensaverDismissed      484\n",
      "ScreensaverInvoked        475\n",
      "Service                   995\n",
      "TGS                     17293\n",
      "TGT                      4594\n",
      "WorkstationLock          1154\n",
      "WorkstationUnlock        1458\n",
      "dtype: int64\n",
      "179 of the normal usernames were identified to have anomalies out of 200 normal usernames. The folloiwng usernames were found to have no anomalies\n",
      "--------------------------------------------------------------------------------------------\n",
      "Comp792408$, Comp166939$, User835130, Comp982997$, Comp220136$, User034060, Comp421434$, User681533, User658064, User108742, Comp282554$, Comp556020$, Comp834308$, Comp682953$, Comp156369$, User611055, User248771, User924320, Comp722112$, Comp360389$, Comp855953$\n",
      "28.97% of the normal data was identified as anomalous.\n"
     ]
    },
    {
     "data": {
      "image/png": "[encoded data removed]",
      "text/plain": [
       "<Figure size 432x288 with 1 Axes>"
      ]
     },
     "metadata": {
      "needs_background": "light"
     },
     "output_type": "display_data"
    },
    {
     "name": "stdout",
     "output_type": "stream",
     "text": [
      "Authent Type\n",
      "CachedInteractive          20\n",
      "InteractiveLogon          465\n",
      "NetworkLogon             8973\n",
      "RemoteInteractive          60\n",
      "ScreensaverDismissed      259\n",
      "ScreensaverInvoked        252\n",
      "Service                     4\n",
      "TGS                     12595\n",
      "TGT                      3167\n",
      "WorkstationLock           641\n",
      "WorkstationUnlock         862\n",
      "dtype: int64\n"
     ]
    }
   ],
   "source": [
    "simple_ae_eval(anomaly_bool_5,anomalies_ae_5,val_loss_5,set(rt_usernames),'red team')\n",
    "simple_ae_eval(anomaly_bool_N_5,anomalies_ae_n_5,val_loss_n_5,non_rt_sample,'normal')"
   ]
  },
  {
   "cell_type": "markdown",
   "id": "f6a88aaf-583b-4c5d-96d6-8873c19c296a",
   "metadata": {},
   "source": [
    "#### Sigmoid activation"
   ]
  },
  {
   "cell_type": "markdown",
   "id": "5d9df799-acbd-4198-aa0e-f6b66b0251e2",
   "metadata": {},
   "source": [
    "This is usable because we transform our data through normalisation and minmax scaling to be within [-1,1]."
   ]
  },
  {
   "cell_type": "code",
   "execution_count": 45,
   "id": "606c50c5-f62e-408c-a3be-4ba957c08f95",
   "metadata": {},
   "outputs": [],
   "source": [
    "def ae_anomaly_finder_sigmoid(user,df,n,BATCH_SIZE=64, EPOCHS=1000):\n",
    "    \n",
    "    clear_output()\n",
    "    \n",
    "    # get the train/test sets\n",
    "    x_train_ae = np.concatenate([np.array(df[0:57*n]),np.array(df[82*n:])])\n",
    "    x_test_ae = np.array(df[57*n:82*n])\n",
    "    \n",
    "    # create our scaling pipeline\n",
    "    pipeline = Pipeline([('normalizer', Normalizer()),\n",
    "                    ('scaler', MinMaxScaler())])\n",
    "    pipeline.fit(x_train_ae)\n",
    "    x_train_ae = pipeline.transform(x_train_ae)\n",
    "    x_test_ae = pipeline.transform(x_test_ae)\n",
    "    \n",
    "    # define neural network parameters\n",
    "    input_dim = x_train_ae.shape[1]\n",
    "    BATCH_SIZE = BATCH_SIZE\n",
    "    EPOCHS = EPOCHS\n",
    "\n",
    "    # define the autoencoder\n",
    "    autoencoder =Sequential([\n",
    "\n",
    "        # deconstruct / encode\n",
    "        tf.keras.layers.Dense(input_dim, activation='sigmoid', input_shape=(input_dim, )),\n",
    "        tf.keras.layers.Dropout(rate=0.1),\n",
    "        tf.keras.layers.Dense(16, activation='sigmoid'),\n",
    "        tf.keras.layers.Dropout(rate=0.1),\n",
    "        tf.keras.layers.Dense(14, activation='sigmoid'),\n",
    "        tf.keras.layers.Dropout(rate=0.1),\n",
    "        tf.keras.layers.Dense(12, activation='sigmoid'),\n",
    "        tf.keras.layers.Dropout(rate=0.1),\n",
    "        tf.keras.layers.Dense(10, activation='sigmoid'),\n",
    "        tf.keras.layers.Dropout(rate=0.1),\n",
    "        tf.keras.layers.Dense(8, activation='sigmoid'),\n",
    "        tf.keras.layers.Dropout(rate=0.1),\n",
    "        tf.keras.layers.Dense(6, activation='sigmoid'),\n",
    "        tf.keras.layers.Dropout(rate=0.1),\n",
    "        tf.keras.layers.Dense(4, activation='sigmoid'),\n",
    "        tf.keras.layers.Dropout(rate=0.1),\n",
    "        tf.keras.layers.Dense(2, activation='sigmoid'),\n",
    "        tf.keras.layers.Dropout(rate=0.1),\n",
    "\n",
    "        # reconstruction / decode\n",
    "        tf.keras.layers.Dense(2, activation='sigmoid'),\n",
    "        tf.keras.layers.Dropout(rate=0.1),\n",
    "        tf.keras.layers.Dense(4, activation='sigmoid'),\n",
    "        tf.keras.layers.Dropout(rate=0.1),\n",
    "        tf.keras.layers.Dense(6, activation='sigmoid'),\n",
    "        tf.keras.layers.Dropout(rate=0.1),\n",
    "        tf.keras.layers.Dense(8, activation='sigmoid'),\n",
    "        tf.keras.layers.Dropout(rate=0.1),\n",
    "        tf.keras.layers.Dense(10, activation='sigmoid'),\n",
    "        tf.keras.layers.Dropout(rate=0.1),\n",
    "        tf.keras.layers.Dense(12, activation='sigmoid'),\n",
    "        tf.keras.layers.Dropout(rate=0.1),\n",
    "        tf.keras.layers.Dense(14, activation='sigmoid'),\n",
    "        tf.keras.layers.Dropout(rate=0.1),\n",
    "        tf.keras.layers.Dense(16, activation='sigmoid'),\n",
    "        tf.keras.layers.Dropout(rate=0.1),\n",
    "        tf.keras.layers.Dense(input_dim, activation='sigmoid')\n",
    "\n",
    "    ])\n",
    "\n",
    "    # compile the autoencoder\n",
    "    autoencoder.compile(optimizer=\"adam\", \n",
    "                        loss=\"mse\",\n",
    "                        metrics=[\"acc\"])\n",
    "    \n",
    "    early_stop = tf.keras.callbacks.EarlyStopping(\n",
    "    monitor='val_loss',\n",
    "    min_delta=0.0001,\n",
    "    patience=10,\n",
    "    verbose=1, \n",
    "    mode='min',\n",
    "    restore_best_weights=True\n",
    "    )\n",
    "    \n",
    "    # allows for early stopping and better visualisation of progress\n",
    "    cb = [early_stop,TqdmCallback(verbose=1)]\n",
    "    \n",
    "    # fit the auto encoder\n",
    "    history = autoencoder.fit(\n",
    "        x_train_ae, x_train_ae,\n",
    "        shuffle=True,\n",
    "        epochs=EPOCHS,\n",
    "        batch_size=BATCH_SIZE,\n",
    "        validation_split=0.1,\n",
    "        verbose=0,\n",
    "        callbacks=cb   \n",
    "    )\n",
    "    \n",
    "    # make predictions on the remaining data\n",
    "    x_test_pred = autoencoder.predict(x_test_ae)\n",
    "    test_mae_loss = np.mean(np.abs(x_test_pred - x_test_ae), axis=1)\n",
    "    \n",
    "    anomalies = np.where(test_mae_loss > np.array(history.history[\"val_loss\"]).min())\n",
    "    anomaly_idx = anomalies[0]\n",
    "    \n",
    "    frame = []\n",
    "    for i in range(len(anomaly_idx)):\n",
    "        anomaly = ae_orig_finder(user,n,57*n+anomaly_idx[i])\n",
    "        \n",
    "        # indicates that an anomaly was found where we have no information i.e. the lack of an event was anomalous\n",
    "        if len(anomaly) == 0:\n",
    "            pass\n",
    "        else:\n",
    "            frame.append(anomaly)\n",
    "        \n",
    "    if len(frame) != 0:\n",
    "        anomaly_df = pd.concat(frame)\n",
    "        return anomaly_df,1,history.history[\"val_loss\"]\n",
    "    else:\n",
    "        print('No anomalies found.')\n",
    "        return pd.DataFrame(test_mae_loss).describe(),0,history.history[\"val_loss\"]"
   ]
  },
  {
   "cell_type": "code",
   "execution_count": 46,
   "id": "7225bc95-71b4-494d-a772-16f03b4a0ec4",
   "metadata": {},
   "outputs": [
    {
     "data": {
      "application/vnd.jupyter.widget-view+json": {
       "model_id": "b8614e4c3b7345419b931338d7b4aadb",
       "version_major": 2,
       "version_minor": 0
      },
      "text/plain": [
       "0epoch [00:00, ?epoch/s]"
      ]
     },
     "metadata": {},
     "output_type": "display_data"
    },
    {
     "data": {
      "application/vnd.jupyter.widget-view+json": {
       "model_id": "",
       "version_major": 2,
       "version_minor": 0
      },
      "text/plain": [
       "0batch [00:00, ?batch/s]"
      ]
     },
     "metadata": {},
     "output_type": "display_data"
    },
    {
     "name": "stdout",
     "output_type": "stream",
     "text": [
      "Restoring model weights from the end of the best epoch.\n",
      "Epoch 00051: early stopping\n"
     ]
    },
    {
     "name": "stderr",
     "output_type": "stream",
     "text": [
      "C:\\Users\\corri\\anaconda3\\lib\\site-packages\\pandas\\core\\frame.py:3607: SettingWithCopyWarning: \n",
      "A value is trying to be set on a copy of a slice from a DataFrame.\n",
      "Try using .loc[row_indexer,col_indexer] = value instead\n",
      "\n",
      "See the caveats in the documentation: https://pandas.pydata.org/pandas-docs/stable/user_guide/indexing.html#returning-a-view-versus-a-copy\n",
      "  self._set_item(key, value)\n"
     ]
    },
    {
     "name": "stdout",
     "output_type": "stream",
     "text": [
      "0:07:43.701484\n"
     ]
    }
   ],
   "source": [
    "frames_5 = []\n",
    "anomaly_bool_5 = []\n",
    "val_loss_5 = []\n",
    "\n",
    "s_time = datetime.datetime.now()\n",
    "\n",
    "for i,un in enumerate(set(rt_usernames)):\n",
    "    clear_output(wait=True)\n",
    "    print('Working with username {} of {}. {:.2f} percentage complete.'.format(i+1,len(rt_usernames),100*((i+1)/len(rt_usernames))))\n",
    "    df = rt_count_dframes[i]\n",
    "    f,b,val = ae_anomaly_finder_relu(un,df,24)\n",
    "    if b == 1:\n",
    "        frames_5.append(f)\n",
    "        anomaly_bool_5.append((len(f),un))\n",
    "        val_loss_5.append((val,un))\n",
    "    else:\n",
    "        anomaly_bool_5.append((0,un))\n",
    "        val_loss_5.append((val,un))\n",
    "        pass\n",
    "anomalies_ae_5 = pd.concat(frames_5)\n",
    "\n",
    "e_time = datetime.datetime.now()\n",
    "print(e_time-s_time)"
   ]
  },
  {
   "cell_type": "code",
   "execution_count": 47,
   "id": "0f9d21f4-463c-4c25-9a27-794c01629aff",
   "metadata": {},
   "outputs": [
    {
     "data": {
      "application/vnd.jupyter.widget-view+json": {
       "model_id": "f9554df97191427da46818b8913564b2",
       "version_major": 2,
       "version_minor": 0
      },
      "text/plain": [
       "0epoch [00:00, ?epoch/s]"
      ]
     },
     "metadata": {},
     "output_type": "display_data"
    },
    {
     "data": {
      "application/vnd.jupyter.widget-view+json": {
       "model_id": "",
       "version_major": 2,
       "version_minor": 0
      },
      "text/plain": [
       "0batch [00:00, ?batch/s]"
      ]
     },
     "metadata": {},
     "output_type": "display_data"
    },
    {
     "name": "stdout",
     "output_type": "stream",
     "text": [
      "Restoring model weights from the end of the best epoch.\n",
      "Epoch 00098: early stopping\n"
     ]
    },
    {
     "name": "stderr",
     "output_type": "stream",
     "text": [
      "C:\\Users\\corri\\anaconda3\\lib\\site-packages\\pandas\\core\\frame.py:3607: SettingWithCopyWarning: \n",
      "A value is trying to be set on a copy of a slice from a DataFrame.\n",
      "Try using .loc[row_indexer,col_indexer] = value instead\n",
      "\n",
      "See the caveats in the documentation: https://pandas.pydata.org/pandas-docs/stable/user_guide/indexing.html#returning-a-view-versus-a-copy\n",
      "  self._set_item(key, value)\n"
     ]
    },
    {
     "name": "stdout",
     "output_type": "stream",
     "text": [
      "0:15:14.154711\n"
     ]
    }
   ],
   "source": [
    "frames_n_5 = []\n",
    "anomaly_bool_N_5 = []\n",
    "val_loss_n_5 = []\n",
    "bound = 400\n",
    "\n",
    "s_time = datetime.datetime.now()\n",
    "\n",
    "for i,un in enumerate(non_rt_sample):\n",
    "    df = norm_count_dframes[i]\n",
    "    f,b,val = ae_anomaly_finder_relu(un,df,24)\n",
    "    if b == 1:\n",
    "        frames_n_5.append(f)\n",
    "        anomaly_bool_N_5.append((len(f),un))\n",
    "        val_loss_n_5.append((val,un))\n",
    "    else:\n",
    "        anomaly_bool_N_5.append((0,un))\n",
    "        val_loss_n_5.append((val,un))\n",
    "        pass\n",
    "anomalies_ae_n_5 = pd.concat(frames_n_5)\n",
    "e_time = datetime.datetime.now()\n",
    "print(e_time-s_time)"
   ]
  },
  {
   "cell_type": "code",
   "execution_count": 48,
   "id": "f4701845-6cee-4bad-aa4f-1324560f30cb",
   "metadata": {},
   "outputs": [
    {
     "name": "stdout",
     "output_type": "stream",
     "text": [
      "94 of the red team usernames were identified to have anomalies out of 95 red team usernames. The folloiwng usernames were found to have no anomalies\n",
      "--------------------------------------------------------------------------------------------\n",
      "User405399\n",
      "27.97% of the red team data was identified as anomalous.\n"
     ]
    },
    {
     "data": {
      "image/png": "[encoded data removed]",
      "text/plain": [
       "<Figure size 432x288 with 1 Axes>"
      ]
     },
     "metadata": {
      "needs_background": "light"
     },
     "output_type": "display_data"
    },
    {
     "name": "stdout",
     "output_type": "stream",
     "text": [
      "Authent Type\n",
      "Batch                     478\n",
      "CachedInteractive         180\n",
      "InteractiveLogon         1115\n",
      "NetworkLogon            14637\n",
      "RemoteInteractive         363\n",
      "ScreensaverDismissed      482\n",
      "ScreensaverInvoked        471\n",
      "Service                   853\n",
      "TGS                     16988\n",
      "TGT                      4284\n",
      "WorkstationLock          1159\n",
      "WorkstationUnlock        1459\n",
      "dtype: int64\n",
      "179 of the normal usernames were identified to have anomalies out of 200 normal usernames. The folloiwng usernames were found to have no anomalies\n",
      "--------------------------------------------------------------------------------------------\n",
      "Comp792408$, Comp166939$, User835130, Comp982997$, Comp220136$, User034060, Comp421434$, User681533, User658064, User108742, Comp282554$, Comp556020$, Comp834308$, Comp682953$, Comp156369$, User611055, User248771, User924320, Comp722112$, Comp360389$, Comp855953$\n",
      "28.92% of the normal data was identified as anomalous.\n"
     ]
    },
    {
     "data": {
      "image/png": "[encoded data removed]",
      "text/plain": [
       "<Figure size 432x288 with 1 Axes>"
      ]
     },
     "metadata": {
      "needs_background": "light"
     },
     "output_type": "display_data"
    },
    {
     "name": "stdout",
     "output_type": "stream",
     "text": [
      "Authent Type\n",
      "CachedInteractive          20\n",
      "InteractiveLogon          465\n",
      "NetworkLogon             8908\n",
      "RemoteInteractive          60\n",
      "ScreensaverDismissed      259\n",
      "ScreensaverInvoked        251\n",
      "Service                     4\n",
      "TGS                     12606\n",
      "TGT                      3179\n",
      "WorkstationLock           641\n",
      "WorkstationUnlock         861\n",
      "dtype: int64\n"
     ]
    }
   ],
   "source": [
    "simple_ae_eval(anomaly_bool_5,anomalies_ae_5,val_loss_5,set(rt_usernames),'red team')\n",
    "simple_ae_eval(anomaly_bool_N_5,anomalies_ae_n_5,val_loss_n_5,non_rt_sample,'normal')"
   ]
  },
  {
   "cell_type": "markdown",
   "id": "e6d047ee-d26d-449f-986a-93aa5010ac13",
   "metadata": {},
   "source": [
    "### Results"
   ]
  },
  {
   "cell_type": "markdown",
   "id": "7e1fe6f9-0c19-42bb-9242-05b5d5ad6c9d",
   "metadata": {},
   "source": [
    "- Currently in use: 27.77/29.18\n",
    "- Dropout: 29.84/29.18\n",
    "- Reducing to 6: 28.04/29.18\n",
    "- Reducing by 1: 29.18/29.18\n",
    "- Double Stacked: 30.10/29.18\n",
    "- Quadruple Stacked: 30.17/29.18\n",
    "- RELU: 29.11/29.18\n",
    "- Sigmoid: 27.97/28.92"
   ]
  }
 ],
 "metadata": {
  "kernelspec": {
   "display_name": "Python 3",
   "language": "python",
   "name": "python3"
  },
  "language_info": {
   "codemirror_mode": {
    "name": "ipython",
    "version": 3
   },
   "file_extension": ".py",
   "mimetype": "text/x-python",
   "name": "python",
   "nbconvert_exporter": "python",
   "pygments_lexer": "ipython3",
   "version": "3.8.5"
  }
 },
 "nbformat": 4,
 "nbformat_minor": 5
}
