{
 "cells": [
  {
   "cell_type": "code",
   "execution_count": 1,
   "id": "cbd0c2b9-b6e8-4757-b565-a305021f3dc6",
   "metadata": {},
   "outputs": [],
   "source": [
    "from pyCP_APR import CP_APR\n",
    "\n",
    "import numpy as np\n",
    "import pandas as pd\n",
    "import matplotlib.pyplot as plt\n",
    "import matplotlib.patches as mpatches\n",
    "import seaborn as sns\n",
    "import os\n",
    "import os.path\n",
    "import gzip\n",
    "import shutil\n",
    "import datetime\n",
    "import networkx as nx\n",
    "import pickle\n",
    "from scipy import stats\n",
    "from scipy import sparse\n",
    "import bz2\n",
    "import random\n",
    "import regex as re\n",
    "from tqdm.notebook import tqdm\n",
    "import scipy\n",
    "\n",
    "from sklearn.preprocessing import Normalizer, StandardScaler, MinMaxScaler\n",
    "from sklearn.ensemble import IsolationForest\n",
    "from sklearn.metrics import silhouette_score, silhouette_samples\n",
    "from sklearn.cluster import KMeans\n",
    "from sklearn.decomposition import PCA\n",
    "from sklearn.neighbors import LocalOutlierFactor\n",
    "from sklearn.pipeline import Pipeline\n",
    "from sklearn.model_selection import train_test_split\n",
    "from sklearn.metrics import confusion_matrix, classification_report, matthews_corrcoef, cohen_kappa_score, accuracy_score, average_precision_score, roc_auc_score\n",
    "\n",
    "from IPython.display import clear_output\n",
    "\n",
    "import tensorflow as tf\n",
    "import keras\n",
    "from tensorflow.keras import layers\n",
    "from tensorflow.keras.models import Model\n",
    "from tensorflow.keras.models import Sequential\n",
    "from tqdm.keras import TqdmCallback"
   ]
  },
  {
   "cell_type": "code",
   "execution_count": 14,
   "id": "d777e35d-a921-4f63-8a26-f4ec0d264951",
   "metadata": {},
   "outputs": [],
   "source": [
    "rt_anoms = pd.read_csv('Final Anomalies (AE IPOIS).gz')\n",
    "rt_anoms = rt_anoms.drop('Unnamed: 0',axis=1)"
   ]
  },
  {
   "cell_type": "code",
   "execution_count": 6,
   "id": "88120776-572c-44e2-8472-66bb2329e295",
   "metadata": {},
   "outputs": [],
   "source": [
    "actual_anoms = pd.read_csv('C:/Users/corri/OneDrive/Documents/Uni/Postgraduate/Final Project/LANL/ATI Data/Summaries/red_team/redteam_authentications_summary.txt',header=None)"
   ]
  },
  {
   "cell_type": "code",
   "execution_count": 52,
   "id": "cc679ea4-6260-4765-b89d-19219570c61c",
   "metadata": {},
   "outputs": [
    {
     "name": "stdout",
     "output_type": "stream",
     "text": [
      "159 184\n"
     ]
    }
   ],
   "source": [
    "j = 0\n",
    "for i in range(len(actual_anoms)):\n",
    "    un = actual_anoms.iloc[i][0]\n",
    "    src = actual_anoms.iloc[i][1]\n",
    "    dst = actual_anoms.iloc[i][2]\n",
    "    at = actual_anoms.iloc[i][3]\n",
    "    fail = actual_anoms.iloc[i][4]\n",
    "    if fail == 'None':\n",
    "        anom = rt_anoms[(rt_anoms['UserName'] == un) & (rt_anoms['SrcDevice'] == src) & (rt_anoms['DstDevice'] == dst) & (rt_anoms['Authent Type'] == at)]\n",
    "    else:\n",
    "        anom = rt_anoms[(rt_anoms['UserName'] == un) & (rt_anoms['SrcDevice'] == src) & (rt_anoms['DstDevice'] == dst) & (rt_anoms['Authent Type'] == at) & (rt_anoms['Failure'] == int(fail))]\n",
    "    if len(anom) >= 1:\n",
    "        j += 1\n",
    "print(j,len(actual_anoms))"
   ]
  },
  {
   "cell_type": "code",
   "execution_count": null,
   "id": "298d8360-58ea-4c66-a5f6-27a6b5820b9e",
   "metadata": {},
   "outputs": [],
   "source": []
  }
 ],
 "metadata": {
  "kernelspec": {
   "display_name": "Python 3",
   "language": "python",
   "name": "python3"
  },
  "language_info": {
   "codemirror_mode": {
    "name": "ipython",
    "version": 3
   },
   "file_extension": ".py",
   "mimetype": "text/x-python",
   "name": "python",
   "nbconvert_exporter": "python",
   "pygments_lexer": "ipython3",
   "version": "3.8.5"
  }
 },
 "nbformat": 4,
 "nbformat_minor": 5
}
