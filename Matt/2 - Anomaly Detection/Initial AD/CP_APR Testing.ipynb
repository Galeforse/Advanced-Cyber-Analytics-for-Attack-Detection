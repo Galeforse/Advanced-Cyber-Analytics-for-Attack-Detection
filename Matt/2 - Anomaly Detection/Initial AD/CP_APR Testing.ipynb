{
 "cells": [
  {
   "cell_type": "markdown",
   "id": "42eb8277-2f73-465f-9859-fb3df0952070",
   "metadata": {},
   "source": [
    "# CP_APR Testing"
   ]
  },
  {
   "cell_type": "markdown",
   "id": "deaaba02-9b39-4cf0-b192-57557f23c09a",
   "metadata": {},
   "source": [
    "We're going to play with a toy example and then try to produce our own example to test with."
   ]
  },
  {
   "cell_type": "code",
   "execution_count": 1,
   "id": "8ada22f1-929e-4256-ac3b-a2697c89d6ae",
   "metadata": {},
   "outputs": [],
   "source": [
    "from pyCP_APR import CP_APR\n",
    "\n",
    "import numpy as np\n",
    "import pandas as pd\n",
    "import matplotlib.pyplot as plt\n",
    "from matplotlib import cm\n",
    "import os\n",
    "import os.path\n",
    "import gzip\n",
    "import shutil\n",
    "import datetime\n",
    "import networkx as nx\n",
    "import pickle\n",
    "import pyclustering\n",
    "from scipy import stats\n",
    "from scipy import sparse\n",
    "import seaborn as sns\n",
    "import bz2\n",
    "import json\n",
    "import random\n",
    "random.seed(1134)\n",
    "\n",
    "from sklearn.preprocessing import StandardScaler\n",
    "from sklearn.ensemble import IsolationForest\n",
    "from sklearn.metrics import silhouette_score, silhouette_samples\n",
    "from sklearn.cluster import KMeans\n",
    "from sklearn.decomposition import PCA\n",
    "from sklearn.neighbors import LocalOutlierFactor\n",
    "\n",
    "from IPython.display import clear_output"
   ]
  },
  {
   "cell_type": "code",
   "execution_count": 2,
   "id": "3b9d768e-6cab-448b-9460-37e54791ff81",
   "metadata": {},
   "outputs": [],
   "source": [
    "# creates a list of train and test co-ordinates, along with train and test counts\n",
    "# the co-ordinates correspond to a sparse matrix which is 0 in most places apart from the locations where we have co-ordinates which correspond to a value\n",
    "\n",
    "train_coords = list()\n",
    "train_count = list()\n",
    "\n",
    "test_coords = list()\n",
    "test_count = list()\n",
    "\n",
    "for ii in range(1000):\n",
    "    train_coords.append(list(np.random.randint(10, size=4)))\n",
    "    train_count.append(random.randint(1, 20))\n",
    "    \n",
    "for ii in range(100):\n",
    "    test_coords.append(list(np.random.randint(10, size=4)))\n",
    "    test_count.append(random.randint(1, 20))"
   ]
  },
  {
   "cell_type": "code",
   "execution_count": 3,
   "id": "bfd7d077-ad9c-4da5-9a8c-07c7daf6e3a2",
   "metadata": {},
   "outputs": [],
   "source": [
    "# we save a dictionary with our co-ordinates and values in\n",
    "\n",
    "tensor = dict()\n",
    "tensor['train_coords'] = train_coords\n",
    "tensor['train_count'] = train_count\n",
    "tensor['test_coords'] = test_coords\n",
    "tensor['test_count'] = test_count"
   ]
  },
  {
   "cell_type": "code",
   "execution_count": 4,
   "id": "0fa0d7a6-1dd0-4ab5-bc14-a8f720835a2a",
   "metadata": {},
   "outputs": [],
   "source": [
    "np.savez_compressed('TOY',**tensor)\n",
    "data = np.load(\"TOY\" + str(\".npz\"), allow_pickle=True)"
   ]
  },
  {
   "cell_type": "code",
   "execution_count": 5,
   "id": "51d65efe-3d94-4c41-a72e-eca62785597c",
   "metadata": {},
   "outputs": [],
   "source": [
    "# Training set\n",
    "coords_train = data['train_coords']\n",
    "nnz_train = data['train_count']\n",
    "\n",
    "# Test set\n",
    "coords_test = data['test_coords']\n",
    "nnz_test = data['test_count']"
   ]
  },
  {
   "cell_type": "code",
   "execution_count": 6,
   "id": "cb85c305-728c-4f87-ba81-dde1660b5b0c",
   "metadata": {},
   "outputs": [
    {
     "data": {
      "text/plain": [
       "array([[6, 2, 9, 4],\n",
       "       [4, 8, 4, 4],\n",
       "       [0, 5, 4, 2],\n",
       "       [3, 3, 7, 5],\n",
       "       [2, 9, 4, 9],\n",
       "       [2, 3, 5, 6],\n",
       "       [2, 4, 4, 7],\n",
       "       [2, 5, 0, 5],\n",
       "       [0, 2, 4, 6],\n",
       "       [2, 5, 6, 6]])"
      ]
     },
     "execution_count": 6,
     "metadata": {},
     "output_type": "execute_result"
    }
   ],
   "source": [
    "# our train co-ordinates - 4D matrix co-ordinates\n",
    "coords_train[:10]"
   ]
  },
  {
   "cell_type": "code",
   "execution_count": 7,
   "id": "705e7e65-c4e5-4c99-9c53-e8e7421e3b34",
   "metadata": {},
   "outputs": [
    {
     "data": {
      "text/plain": [
       "array([ 2, 19,  8, 12, 19,  6,  6, 19, 12,  3])"
      ]
     },
     "execution_count": 7,
     "metadata": {},
     "output_type": "execute_result"
    }
   ],
   "source": [
    "# non zero entries of our 4D matrix\n",
    "nnz_train[:10]"
   ]
  },
  {
   "cell_type": "code",
   "execution_count": 8,
   "id": "61d2934b-ec08-4349-8d0f-5d4cd668f75e",
   "metadata": {},
   "outputs": [
    {
     "data": {
      "text/plain": [
       "array([[1, 9, 5, 8],\n",
       "       [0, 3, 7, 4],\n",
       "       [6, 9, 0, 3],\n",
       "       [6, 7, 2, 9],\n",
       "       [2, 8, 3, 8],\n",
       "       [7, 4, 5, 7],\n",
       "       [1, 1, 5, 8],\n",
       "       [7, 6, 4, 0],\n",
       "       [8, 1, 6, 5],\n",
       "       [6, 5, 7, 4]])"
      ]
     },
     "execution_count": 8,
     "metadata": {},
     "output_type": "execute_result"
    }
   ],
   "source": [
    "coords_test[:10]"
   ]
  },
  {
   "cell_type": "code",
   "execution_count": 9,
   "id": "fc3131fa-ff60-4277-b2a0-b447534424bc",
   "metadata": {},
   "outputs": [
    {
     "data": {
      "text/plain": [
       "array([11, 17,  6, 16, 18, 13, 14, 16,  5, 10])"
      ]
     },
     "execution_count": 9,
     "metadata": {},
     "output_type": "execute_result"
    }
   ],
   "source": [
    "nnz_test[:10]"
   ]
  },
  {
   "cell_type": "code",
   "execution_count": 10,
   "id": "50ff3346-c7a5-4f9d-ad34-21799595533f",
   "metadata": {},
   "outputs": [],
   "source": [
    "# here we create our model\n",
    "\n",
    "cp_apr = CP_APR(n_iters=10, random_state=42, verbose=200, \n",
    "                method='numpy',\n",
    "                return_type='numpy', \n",
    "               )"
   ]
  },
  {
   "cell_type": "code",
   "execution_count": 11,
   "id": "826cb7bf-ed93-4a99-b7e5-438277d25292",
   "metadata": {},
   "outputs": [
    {
     "name": "stdout",
     "output_type": "stream",
     "text": [
      "CP-APR (MU):\n",
      "Iter=1, Inner Iter=8, KKT Violation=0.000000, obj=-9776.389507, nViolations=0\n",
      "Exiting because all subproblems reached KKT tol.\n",
      "===========================================\n",
      " Final log-likelihood = -9776.389507\n",
      " Final least squares fit = 0.040597\n",
      " Final KKT violation = 0.000000\n",
      " Total inner iterations = 12\n",
      " Total execution time = 0.0059 seconds\n",
      "Converting the latent factors to Numpy arrays.\n",
      "CP-APR (MU):\n",
      "Iter=1, Inner Iter=48, KKT Violation=0.280223, obj=-8912.314890, nViolations=0\n",
      "===========================================\n",
      " Final log-likelihood = -7939.122171\n",
      " Final least squares fit = 0.056241\n",
      " Final KKT violation = 0.274241\n",
      " Total inner iterations = 412\n",
      " Total execution time = 0.0495 seconds\n",
      "Converting the latent factors to Numpy arrays.\n"
     ]
    },
    {
     "data": {
      "text/plain": [
       "[{'Factors': {'0': array([0.08883519, 0.07897535, 0.10807153, 0.10990817, 0.1020783 ,\n",
       "          0.1037216 , 0.09550507, 0.09540841, 0.12141131, 0.09608507]),\n",
       "   '1': array([0.08960851, 0.08873852, 0.08883519, 0.11184147, 0.1062349 ,\n",
       "          0.09395843, 0.11512808, 0.09386177, 0.1020783 , 0.10971484]),\n",
       "   '2': array([0.10633156, 0.0959884 , 0.10314161, 0.10826486, 0.09753504,\n",
       "          0.11938134, 0.1120348 , 0.08583857, 0.07907202, 0.09241179]),\n",
       "   '3': array([0.08951184, 0.10584824, 0.11522475, 0.08612856, 0.09695505,\n",
       "          0.0982117 , 0.10082165, 0.10082165, 0.10691155, 0.09956501])},\n",
       "  'Weights': array([10345.])},\n",
       " {'Factors': {'0': array([[3.23011041e-02, 1.43953732e-02, 2.30622819e-01, 6.30473698e-02,\n",
       "           1.69942494e-01],\n",
       "          [8.68690563e-02, 8.79302775e-02, 4.22431104e-02, 2.37846125e-02,\n",
       "           1.76679821e-01],\n",
       "          [2.01842139e-01, 1.40154794e-01, 4.25169183e-02, 1.38912434e-02,\n",
       "           1.86408500e-02],\n",
       "          [1.28219886e-01, 6.83176048e-02, 1.55092868e-01, 1.29456933e-01,\n",
       "           3.56432646e-02],\n",
       "          [7.30166328e-02, 8.55928992e-02, 1.03196936e-01, 1.84120661e-01,\n",
       "           1.12861234e-01],\n",
       "          [5.27441227e-02, 4.09669133e-04, 1.67322017e-01, 1.51542896e-01,\n",
       "           2.83601203e-01],\n",
       "          [8.17753805e-02, 1.46482587e-01, 1.18593306e-01, 8.30019396e-02,\n",
       "           7.28227503e-06],\n",
       "          [7.26391188e-02, 1.25296852e-01, 4.06111859e-02, 1.99571992e-01,\n",
       "           6.86631085e-02],\n",
       "          [1.27541457e-01, 1.21344678e-01, 9.97898629e-02, 1.30481302e-01,\n",
       "           1.33458580e-01],\n",
       "          [1.43051103e-01, 2.10075266e-01, 1.09771848e-05, 2.11010503e-02,\n",
       "           5.02161659e-04]]),\n",
       "   '1': array([[1.17709095e-01, 3.89373849e-02, 1.89457352e-01, 3.51129004e-02,\n",
       "           2.52507060e-09],\n",
       "          [9.24591592e-04, 3.01761850e-01, 3.86092223e-02, 3.84517328e-04,\n",
       "           8.27863224e-02],\n",
       "          [1.19108226e-01, 4.33378740e-02, 5.42761251e-02, 3.67117898e-02,\n",
       "           2.31983494e-01],\n",
       "          [3.01877951e-02, 2.00183575e-01, 1.80920672e-01, 1.29104669e-01,\n",
       "           2.43890358e-06],\n",
       "          [1.52395765e-01, 9.00447508e-02, 1.22925238e-02, 5.95176771e-02,\n",
       "           2.46506645e-01],\n",
       "          [1.23704556e-01, 8.91548162e-02, 1.92551404e-02, 1.41676683e-01,\n",
       "           1.01195652e-01],\n",
       "          [8.79537858e-02, 5.80640888e-02, 2.21922210e-01, 1.71147506e-01,\n",
       "           4.32128164e-02],\n",
       "          [1.12664337e-01, 5.91866416e-02, 7.04848756e-02, 8.28379233e-02,\n",
       "           1.73383478e-01],\n",
       "          [9.81636157e-02, 7.35799046e-02, 1.43473232e-01, 9.54189804e-02,\n",
       "           1.04910418e-01],\n",
       "          [1.57188233e-01, 4.57491140e-02, 6.93086460e-02, 2.48087354e-01,\n",
       "           1.60187327e-02]]),\n",
       "   '2': array([[1.15266361e-01, 1.51479296e-01, 9.28185609e-04, 2.50850219e-01,\n",
       "           4.65698470e-09],\n",
       "          [7.22630566e-02, 1.23047484e-01, 1.66654751e-01, 7.17490909e-02,\n",
       "           2.68524714e-10],\n",
       "          [9.41069164e-02, 3.88831947e-02, 2.20188090e-01, 1.26976332e-06,\n",
       "           1.77420391e-01],\n",
       "          [1.43691975e-01, 3.74752301e-02, 1.17978361e-01, 7.71951583e-03,\n",
       "           2.71352508e-01],\n",
       "          [1.09275920e-01, 1.28592449e-01, 1.52408433e-01, 5.84331268e-04,\n",
       "           1.33552624e-02],\n",
       "          [1.40141979e-01, 1.39809208e-01, 1.16425607e-01, 7.79179428e-12,\n",
       "           1.71419872e-01],\n",
       "          [1.61595904e-01, 9.59541920e-02, 8.64694866e-02, 2.51390169e-02,\n",
       "           1.64345249e-01],\n",
       "          [8.53153202e-02, 6.97130695e-02, 3.05693662e-02, 2.63348766e-01,\n",
       "           4.20435241e-03],\n",
       "          [4.38009611e-02, 1.39157716e-01, 4.53211586e-02, 2.19640045e-02,\n",
       "           1.83891306e-01],\n",
       "          [3.45416069e-02, 7.58881612e-02, 6.30565617e-02, 3.58643786e-01,\n",
       "           1.40110546e-02]]),\n",
       "   '3': array([[2.95466871e-02, 8.10702991e-02, 9.25015424e-02, 1.89653586e-01,\n",
       "           1.48212385e-01],\n",
       "          [1.66160207e-01, 7.83426146e-02, 3.76671725e-02, 1.36929347e-01,\n",
       "           8.60693506e-02],\n",
       "          [7.13421043e-02, 1.30061027e-01, 1.86196808e-01, 6.71427511e-02,\n",
       "           1.32636708e-01],\n",
       "          [1.22621314e-01, 1.37257626e-01, 8.33539469e-05, 1.10469951e-01,\n",
       "           1.50967370e-08],\n",
       "          [7.70902333e-07, 1.06618910e-01, 6.35534029e-02, 2.63648114e-01,\n",
       "           2.06042279e-01],\n",
       "          [2.64607988e-01, 3.06547562e-02, 4.21242741e-02, 4.03114779e-03,\n",
       "           4.58678142e-05],\n",
       "          [7.87525729e-06, 1.24127212e-01, 2.27893698e-01, 6.89341609e-02,\n",
       "           1.34790390e-01],\n",
       "          [5.48723616e-02, 7.65493514e-02, 2.19870313e-01, 1.47954015e-01,\n",
       "           1.45136250e-03],\n",
       "          [2.63710088e-01, 1.58372599e-07, 1.24866465e-01, 1.33997163e-08,\n",
       "           9.33282740e-10],\n",
       "          [2.71306042e-02, 2.35318045e-01, 5.24296951e-03, 1.12369135e-02,\n",
       "           2.90751641e-01]])},\n",
       "  'Weights': array([3189.18595736, 2512.50519111, 2122.09957591, 1402.19512584,\n",
       "         1119.01414979])}]"
      ]
     },
     "execution_count": 11,
     "metadata": {},
     "output_type": "execute_result"
    }
   ],
   "source": [
    "# this is fitting our model - we pass the non-zero co-ordinates and values\n",
    "factors = cp_apr.fit(coords=coords_train, values=nnz_train, rank=[1,5])\n",
    "factors"
   ]
  },
  {
   "cell_type": "code",
   "execution_count": 12,
   "id": "1c0baace-b38e-411f-8aa1-3f9bec363ac5",
   "metadata": {},
   "outputs": [
    {
     "data": {
      "text/plain": [
       "array([1.32841238e-06, 1.11022302e-15, 7.08707788e-03, 0.00000000e+00,\n",
       "       1.65309655e-10, 4.92939023e-13, 0.00000000e+00, 0.00000000e+00,\n",
       "       6.68330681e-05, 1.48771260e-06, 9.53946692e-05, 5.23248112e-13,\n",
       "       1.98292703e-03, 3.36554103e-05, 8.32353913e-01, 0.00000000e+00,\n",
       "       2.63422305e-06, 7.03881398e-14, 4.67959005e-13, 3.07714625e-03,\n",
       "       3.67372122e-03, 5.98803844e-03, 1.37551082e-11, 4.27723721e-02,\n",
       "       2.19867791e-10, 6.46252494e-05, 0.00000000e+00, 0.00000000e+00,\n",
       "       1.87304274e-08, 0.00000000e+00, 4.44415909e-02, 0.00000000e+00,\n",
       "       9.54447734e-06, 0.00000000e+00, 8.75274219e-02, 3.04058667e-10,\n",
       "       2.72968029e-08, 1.40873024e-02, 0.00000000e+00, 2.52369289e-07,\n",
       "       9.16314713e-02, 1.11022302e-16, 6.77236045e-15, 5.66979796e-12,\n",
       "       1.53924329e-08, 0.00000000e+00, 1.68283542e-01, 9.99200722e-16,\n",
       "       3.98570066e-13, 5.57638379e-03, 0.00000000e+00, 2.71609102e-04,\n",
       "       7.23037528e-03, 9.23698046e-05, 1.55407709e-01, 1.49158390e-07,\n",
       "       9.76996262e-15, 2.99398650e-09, 2.58613335e-04, 2.22044605e-16,\n",
       "       7.51476265e-04, 5.55111512e-16, 4.57128530e-05, 9.71924054e-04,\n",
       "       2.72281742e-02, 2.51870202e-06, 7.85005168e-04, 1.02806652e-13,\n",
       "       3.54618841e-04, 2.58274513e-11, 4.43955529e-06, 0.00000000e+00,\n",
       "       8.20651769e-03, 1.31430746e-03, 1.30152272e-01, 1.96713756e-11,\n",
       "       0.00000000e+00, 2.05578887e-10, 1.30795782e-08, 1.91662135e-04,\n",
       "       1.89279316e-05, 1.54719992e-09, 1.13475526e-07, 8.59312621e-14,\n",
       "       2.67462830e-05, 6.22935037e-12, 9.92805838e-12, 1.56319402e-13,\n",
       "       1.80887362e-05, 0.00000000e+00, 1.55219148e-06, 8.10462808e-15,\n",
       "       0.00000000e+00, 8.23371709e-02, 3.11910473e-08, 3.52617935e-12,\n",
       "       0.00000000e+00, 7.30071365e-06, 0.00000000e+00, 1.60795909e-06])"
      ]
     },
     "execution_count": 12,
     "metadata": {},
     "output_type": "execute_result"
    }
   ],
   "source": [
    "# here we make our predictions\n",
    "y_score = cp_apr.predict_scores(coords=coords_test, values=nnz_test)\n",
    "y_score"
   ]
  },
  {
   "cell_type": "markdown",
   "id": "777566a8-f309-4292-8ddb-877625b68b97",
   "metadata": {},
   "source": [
    "### Our Example"
   ]
  },
  {
   "cell_type": "markdown",
   "id": "2113cf63-bcda-462e-aa2e-b65c1c3b57e8",
   "metadata": {},
   "source": [
    "Here we create sparse matrices of our data, representing the authentication types over each hour of each day."
   ]
  },
  {
   "cell_type": "code",
   "execution_count": 13,
   "id": "070b8635-6f57-4803-b29e-9c13e171c6d9",
   "metadata": {},
   "outputs": [
    {
     "name": "stdout",
     "output_type": "stream",
     "text": [
      "Attempting to read entire data set.\n"
     ]
    },
    {
     "name": "stderr",
     "output_type": "stream",
     "text": [
      "C:\\Users\\corri\\anaconda3\\lib\\site-packages\\numpy\\lib\\arraysetops.py:580: FutureWarning: elementwise comparison failed; returning scalar instead, but in the future will perform elementwise comparison\n",
      "  mask |= (ar1 == a)\n"
     ]
    }
   ],
   "source": [
    "try:\n",
    "    print('Attempting to read entire data set.')\n",
    "    authentication_data = pd.read_csv('../Data/Authentication data.gz', compression='gzip', index_col = 0)\n",
    "    process_data = pd.read_csv('../Data/Process data.gz', compression='gzip', index_col = 0)\n",
    "except:\n",
    "    clear_output()\n",
    "    print('Unable to read entire data set, reading from original files.')\n",
    "    rootdir = 'C:/Users/corri/OneDrive/Documents/Uni/Postgraduate/Final Project/LANL/ATI Data/Summaries/wls'\n",
    "    unzippeddir = 'C:/Users/corri/OneDrive/Documents/Uni/Postgraduate/Final Project/LANL/ATI Data/Summaries/wls/Unzipped'\n",
    "    frames = []\n",
    "\n",
    "    count = 0\n",
    "\n",
    "    for subdir, dirs, files in os.walk(rootdir):\n",
    "        for file in files:\n",
    "            if file[-3:] == '.gz':\n",
    "                filedir = rootdir + '/' + file\n",
    "                with gzip.open(filedir) as f:\n",
    "                    df = pd.read_csv(filedir, header=None)\n",
    "                    frames.append(df)\n",
    "                if 'authentications' in str(file):\n",
    "                    count = count + len(df)\n",
    "\n",
    "    df = pd.concat(frames)\n",
    "\n",
    "    authentication_data = df[:count]\n",
    "    authentication_data.columns = ['UserName', 'SrcDevice','DstDevice', 'Authent Type', 'Failure', 'DailyCount']\n",
    "\n",
    "    process_data = df[count:]\n",
    "    process_data = process_data[[0,1,2,3,4]]\n",
    "    process_data.columns = ['UserName', 'Device', 'ProcessName', 'ParentProcessName', 'DailyCount']\n",
    "\n",
    "    authentication_data.to_csv('../Data/Authentication data.gz', header=True, compression='gzip')\n",
    "    process_data.to_csv('../Data/Process data.gz', header=True, compression='gzip')"
   ]
  },
  {
   "cell_type": "code",
   "execution_count": 14,
   "id": "91957364-c765-4eb4-8be4-c7e964f0623b",
   "metadata": {},
   "outputs": [],
   "source": [
    "index_list = process_data.index.tolist()\n",
    "proc_start_days = [i for i, e in enumerate(index_list) if e == 0]\n",
    "proc_start_days.append(len(process_data))\n",
    "\n",
    "auth_index_list = authentication_data.index.tolist()\n",
    "auth_start_days = [i for i, e in enumerate(auth_index_list) if e == 0]\n",
    "auth_start_days.append(len(authentication_data))"
   ]
  },
  {
   "cell_type": "code",
   "execution_count": 15,
   "id": "41b38807-790f-41e9-8010-f6369f19fef6",
   "metadata": {},
   "outputs": [],
   "source": [
    "# splits a dataframe into n chunks\n",
    "def split_dataframe(df,n): \n",
    "    chunks = list()\n",
    "    chunk_size = int(np.round(df.shape[0]/n))\n",
    "    num_chunks = n\n",
    "    for i in range(num_chunks):\n",
    "        if i != num_chunks-1:\n",
    "            chunks.append(df[i*chunk_size:(i+1)*chunk_size])\n",
    "        else:\n",
    "            chunks.append(df[i*chunk_size:])\n",
    "    return chunks"
   ]
  },
  {
   "cell_type": "code",
   "execution_count": 16,
   "id": "cdbaba8c-d352-45f8-9f29-8e895fde5c80",
   "metadata": {},
   "outputs": [],
   "source": [
    "def auth_type_un_sparse(user,n,e):\n",
    "    auth_type_df = pd.DataFrame(index = list(authentication_data['Authent Type'].unique()))\n",
    "    n = n\n",
    "    auth_type_dict = {}\n",
    "\n",
    "    for i in range(len(auth_start_days)-1):\n",
    "        chunks = split_dataframe(authentication_data[auth_start_days[i]:auth_start_days[i+1]],n)\n",
    "        for j in range(n):\n",
    "                data = chunks[j]\n",
    "                auth_type_data = data[data['UserName'] == user].groupby('Authent Type').size()\n",
    "                auth_type_dict[i*n + j] = auth_type_df.index.to_series().map(auth_type_data.to_dict())\n",
    "    \n",
    "    auth_type_df = pd.DataFrame(data=auth_type_dict,index = list(authentication_data['Authent Type'].unique()))\n",
    "    auth_type_df = auth_type_df.transpose()\n",
    "    auth_type_df = auth_type_df.fillna(0)\n",
    "    \n",
    "    s = sparse.coo_matrix(auth_type_df)\n",
    "    \n",
    "    co = []\n",
    "    vals = s.data\n",
    "    for i in range(len(s.row)):\n",
    "        co.append([s.row[i],s.col[i],e])\n",
    "\n",
    "    \n",
    "    return vals, co"
   ]
  },
  {
   "cell_type": "code",
   "execution_count": 17,
   "id": "8550cd74-2d8d-42dd-80e2-9f3fc43737e6",
   "metadata": {},
   "outputs": [],
   "source": [
    "usernames = list(authentication_data['UserName'].unique())"
   ]
  },
  {
   "cell_type": "code",
   "execution_count": 18,
   "id": "0014ec0c-ea17-4609-8602-06c65600ffb0",
   "metadata": {},
   "outputs": [
    {
     "data": {
      "text/plain": [
       "28815"
      ]
     },
     "execution_count": 18,
     "metadata": {},
     "output_type": "execute_result"
    }
   ],
   "source": [
    "len(usernames)"
   ]
  },
  {
   "cell_type": "code",
   "execution_count": 19,
   "id": "81ad410f-7c95-4239-9114-9e3c60a7c842",
   "metadata": {},
   "outputs": [
    {
     "name": "stdout",
     "output_type": "stream",
     "text": [
      "0:00:07.600780\n"
     ]
    }
   ],
   "source": [
    "s_time = datetime.datetime.now()\n",
    "\n",
    "vals, co = auth_type_un_sparse(usernames[0],24,1)\n",
    "\n",
    "e_time = datetime.datetime.now()\n",
    "\n",
    "print(e_time-s_time)"
   ]
  },
  {
   "cell_type": "code",
   "execution_count": 21,
   "id": "dfaa69a3-9345-4ef8-b09a-68548a8c71fa",
   "metadata": {},
   "outputs": [
    {
     "name": "stdout",
     "output_type": "stream",
     "text": [
      "0:01:45.202848\n"
     ]
    }
   ],
   "source": [
    "s_time = datetime.datetime.now()\n",
    "\n",
    "train_coords, train_vals = [], []\n",
    "test_coords, test_vals = [], []\n",
    "\n",
    "for e, un in enumerate(usernames):\n",
    "    if e <= 19:\n",
    "        vals, co = auth_type_un_sparse(un,24,e)\n",
    "        train_coords.append(co)\n",
    "        train_vals.append(vals)\n",
    "    elif e <= 21:\n",
    "        vals, co = auth_type_un_sparse(un,24,e-20)\n",
    "        test_coords.append(co)\n",
    "        test_vals.append(vals)\n",
    "\n",
    "        \n",
    "train_coords = np.array([item for sublist in train_coords for item in sublist])\n",
    "test_coords = np.array([item for sublist in test_coords for item in sublist])\n",
    "\n",
    "train_vals = np.array([item for sublist in train_vals for item in sublist])\n",
    "test_vals = np.array([item for sublist in test_vals for item in sublist])\n",
    "\n",
    "e_time = datetime.datetime.now()\n",
    "\n",
    "print(e_time-s_time)"
   ]
  },
  {
   "cell_type": "code",
   "execution_count": 22,
   "id": "4380ae23-5711-4ff6-af74-562b6ee0022d",
   "metadata": {},
   "outputs": [
    {
     "data": {
      "text/plain": [
       "22841"
      ]
     },
     "execution_count": 22,
     "metadata": {},
     "output_type": "execute_result"
    }
   ],
   "source": [
    "len(train_coords)"
   ]
  },
  {
   "cell_type": "code",
   "execution_count": 23,
   "id": "f1cc2068-de0a-46c6-9cda-74c2d513d3e8",
   "metadata": {},
   "outputs": [],
   "source": [
    "cp_apr_t = CP_APR(n_iters=10, random_state=42, verbose=200, method='numpy', return_type='numpy')"
   ]
  },
  {
   "cell_type": "code",
   "execution_count": 24,
   "id": "ba102380-a469-46b1-bd54-ddb8f9c82863",
   "metadata": {},
   "outputs": [
    {
     "name": "stdout",
     "output_type": "stream",
     "text": [
      "CP-APR (MU):\n",
      "Iter=1, Inner Iter=78, KKT Violation=0.520598, obj=2003446.149262, nViolations=0\n",
      "===========================================\n",
      " Final log-likelihood = 2033143.822212\n",
      " Final least squares fit = 0.985722\n",
      " Final KKT violation = 0.179269\n",
      " Total inner iterations = 685\n",
      " Total execution time = 0.2098 seconds\n",
      "Converting the latent factors to Numpy arrays.\n"
     ]
    },
    {
     "data": {
      "text/plain": [
       "{'Factors': {'0': array([[4.93119206e-04, 1.30120544e-03],\n",
       "         [4.41263156e-04, 5.89090720e-04],\n",
       "         [4.81331018e-04, 5.89057582e-04],\n",
       "         ...,\n",
       "         [3.82350805e-05, 3.17414813e-04],\n",
       "         [3.37400842e-05, 4.62137082e-05],\n",
       "         [4.63926158e-05, 2.31068541e-04]]),\n",
       "  '1': array([[4.06117114e-153, 4.90096336e-001],\n",
       "         [1.00000000e+000, 2.26675448e-001],\n",
       "         [2.57545122e-150, 1.07051602e-001],\n",
       "         [9.89302981e-162, 4.25349241e-002],\n",
       "         [7.89282909e-162, 5.41018428e-002],\n",
       "         [6.61071564e-164, 2.09218370e-002],\n",
       "         [2.28168347e-158, 3.04610887e-002],\n",
       "         [5.23967762e-166, 2.11983371e-002],\n",
       "         [0.00000000e+000, 0.00000000e+000],\n",
       "         [0.00000000e+000, 0.00000000e+000],\n",
       "         [3.02219183e-166, 1.88941700e-003],\n",
       "         [1.33952839e-122, 5.06916756e-003]]),\n",
       "  '2': array([[1.00560759e-04, 4.76881087e-02],\n",
       "         [4.59822414e-05, 2.37087588e-02],\n",
       "         [1.29791864e-04, 7.47275242e-02],\n",
       "         [6.75017386e-05, 4.36545845e-02],\n",
       "         [2.36791260e-04, 5.61099626e-02],\n",
       "         [1.68232846e-04, 4.91916521e-02],\n",
       "         [1.18023964e-05, 6.65045169e-02],\n",
       "         [7.26426532e-04, 1.25150163e-01],\n",
       "         [8.28141936e-05, 5.58806334e-02],\n",
       "         [2.59639399e-05, 5.72023309e-02],\n",
       "         [4.97353530e-05, 4.35824557e-02],\n",
       "         [1.00107007e-04, 4.17616818e-02],\n",
       "         [4.89985265e-05, 1.60176851e-02],\n",
       "         [2.58696054e-04, 5.08868946e-02],\n",
       "         [4.39687035e-05, 2.16061547e-02],\n",
       "         [2.21231173e-04, 6.55337432e-02],\n",
       "         [4.93616005e-11, 3.68960578e-02],\n",
       "         [9.97135490e-01, 8.84650309e-94],\n",
       "         [1.63955729e-04, 5.58597540e-02],\n",
       "         [3.81949515e-04, 6.80373379e-02]])},\n",
       " 'Weights': array([473952.64202642,  21899.35797358])}"
      ]
     },
     "execution_count": 24,
     "metadata": {},
     "output_type": "execute_result"
    }
   ],
   "source": [
    "factors_t = cp_apr.fit(coords=train_coords, values=train_vals)\n",
    "factors_t"
   ]
  },
  {
   "cell_type": "code",
   "execution_count": 25,
   "id": "c35cb1e9-da71-4640-a706-9726e6428db8",
   "metadata": {},
   "outputs": [
    {
     "data": {
      "text/plain": [
       "array([0.00960881, 0.01856548, 0.26831773, ..., 0.00629226, 0.05710278,\n",
       "       0.01276111])"
      ]
     },
     "execution_count": 25,
     "metadata": {},
     "output_type": "execute_result"
    }
   ],
   "source": [
    "p_values = cp_apr.predict_scores(coords=test_coords, values=test_vals)\n",
    "p_values"
   ]
  },
  {
   "cell_type": "code",
   "execution_count": 39,
   "id": "d40c7891-60d8-4a05-a96d-c996242087de",
   "metadata": {},
   "outputs": [],
   "source": [
    "import pylab"
   ]
  },
  {
   "cell_type": "code",
   "execution_count": 40,
   "id": "ab7a4086-1d5b-4b33-9b5a-c86f9aa4888b",
   "metadata": {},
   "outputs": [
    {
     "data": {
      "image/png": "[encoded data removed]",
      "text/plain": [
       "<Figure size 432x288 with 1 Axes>"
      ]
     },
     "metadata": {
      "needs_background": "light"
     },
     "output_type": "display_data"
    }
   ],
   "source": [
    "stats.probplot(p_values, plot=pylab)\n",
    "pylab.show()"
   ]
  },
  {
   "cell_type": "code",
   "execution_count": 26,
   "id": "069a913c-c540-4e94-bc8e-054c8d529c05",
   "metadata": {},
   "outputs": [
    {
     "data": {
      "text/plain": [
       "918"
      ]
     },
     "execution_count": 26,
     "metadata": {},
     "output_type": "execute_result"
    }
   ],
   "source": [
    "len(np.where(p_values < 0.05)[0])"
   ]
  },
  {
   "cell_type": "code",
   "execution_count": 27,
   "id": "bd43f807-9909-4604-a292-ddea2300e7e0",
   "metadata": {},
   "outputs": [
    {
     "data": {
      "text/plain": [
       "2180"
      ]
     },
     "execution_count": 27,
     "metadata": {},
     "output_type": "execute_result"
    }
   ],
   "source": [
    "len(test_vals)"
   ]
  },
  {
   "cell_type": "markdown",
   "id": "c71e7fc6-f8a8-4393-ac15-24e496c669a4",
   "metadata": {},
   "source": [
    "### Returning the original data point"
   ]
  },
  {
   "cell_type": "code",
   "execution_count": 28,
   "id": "ef82a26a-05fd-4091-a842-16f4d03c76dc",
   "metadata": {},
   "outputs": [],
   "source": [
    "def auth_type_un_df(user,n):\n",
    "    auth_type_df = pd.DataFrame(index = list(authentication_data['Authent Type'].unique()))\n",
    "    n = n\n",
    "    auth_type_dict = {}\n",
    "    \n",
    "    for i in range(len(auth_start_days)-1):\n",
    "        chunks = split_dataframe(authentication_data[auth_start_days[i]:auth_start_days[i+1]],n)\n",
    "        for j in range(n):\n",
    "                data = chunks[j]\n",
    "                auth_type_data = data[data['UserName'] == user].groupby('Authent Type').size()\n",
    "                auth_type_dict[i*n + j] = auth_type_df.index.to_series().map(auth_type_data.to_dict())\n",
    "    \n",
    "    auth_type_df = pd.DataFrame(data=auth_type_dict,index = list(authentication_data['Authent Type'].unique()))\n",
    "    auth_type_df = auth_type_df.transpose()\n",
    "    auth_type_df = auth_type_df.fillna(0)\n",
    "    \n",
    "    return auth_type_df"
   ]
  },
  {
   "cell_type": "code",
   "execution_count": 29,
   "id": "7b8a87e8-20f1-4d7f-b0eb-3e84297457f7",
   "metadata": {},
   "outputs": [],
   "source": [
    "a_t = list(authentication_data['Authent Type'].unique())\n",
    "AT_dict = { i : a_t[i] for i in range(0, len(a_t) ) }"
   ]
  },
  {
   "cell_type": "code",
   "execution_count": 30,
   "id": "ebf9d35b-7c4b-4c66-9e48-922dd1d96df0",
   "metadata": {},
   "outputs": [],
   "source": [
    "# needs chunks function, usernames list, authentication data, authentication_start_days list, test-coords, authentication_dictionary\n",
    "\n",
    "def orig_finder(entry_val,n):\n",
    "    \n",
    "    # gets the co-ordinates of the entry where we have the erro\n",
    "    orig_co = test_coords[entry_val]\n",
    "    \n",
    "    # gets the authentication type\n",
    "    authent = AT_dict[orig_co[1]]\n",
    "    \n",
    "    # gets the username of the individual who the anomaly occured with\n",
    "    username = usernames[200+orig_co[2]]\n",
    "    \n",
    "    # gets the day the anomaly occured (n is the number of hours we split the data frame into)\n",
    "    day = int(orig_co[0]/n)\n",
    "    \n",
    "    # gets the hour the anomaly occured in\n",
    "    hour = orig_co[0] - n * day\n",
    "    \n",
    "    # gets the n hour chunks for that day\n",
    "    chunks = split_dataframe(authentication_data[auth_start_days[day]:auth_start_days[day+1]],n)\n",
    "    \n",
    "    # gets the hour\n",
    "    data = chunks[hour]\n",
    "    \n",
    "    # finds the anomaly\n",
    "    anom = data[(data['UserName'] == username) & (data['Authent Type'] == authent)]\n",
    "    \n",
    "    return anom"
   ]
  },
  {
   "cell_type": "code",
   "execution_count": 32,
   "id": "a8ac5465-0b09-421c-a4bd-4f065acb81c1",
   "metadata": {},
   "outputs": [
    {
     "data": {
      "text/html": [
       "<div>\n",
       "<style scoped>\n",
       "    .dataframe tbody tr th:only-of-type {\n",
       "        vertical-align: middle;\n",
       "    }\n",
       "\n",
       "    .dataframe tbody tr th {\n",
       "        vertical-align: top;\n",
       "    }\n",
       "\n",
       "    .dataframe thead th {\n",
       "        text-align: right;\n",
       "    }\n",
       "</style>\n",
       "<table border=\"1\" class=\"dataframe\">\n",
       "  <thead>\n",
       "    <tr style=\"text-align: right;\">\n",
       "      <th></th>\n",
       "      <th>UserName</th>\n",
       "      <th>SrcDevice</th>\n",
       "      <th>DstDevice</th>\n",
       "      <th>Authent Type</th>\n",
       "      <th>Failure</th>\n",
       "      <th>DailyCount</th>\n",
       "    </tr>\n",
       "  </thead>\n",
       "  <tbody>\n",
       "    <tr>\n",
       "      <th>43720</th>\n",
       "      <td>User667501</td>\n",
       "      <td>Comp529760</td>\n",
       "      <td>Comp529760</td>\n",
       "      <td>TGS</td>\n",
       "      <td>0</td>\n",
       "      <td>8.0</td>\n",
       "    </tr>\n",
       "  </tbody>\n",
       "</table>\n",
       "</div>"
      ],
      "text/plain": [
       "         UserName   SrcDevice   DstDevice Authent Type  Failure  DailyCount\n",
       "43720  User667501  Comp529760  Comp529760          TGS        0         8.0"
      ]
     },
     "execution_count": 32,
     "metadata": {},
     "output_type": "execute_result"
    }
   ],
   "source": [
    "frames = []\n",
    "for i in range(2):\n",
    "    df = orig_finder(2000+i,24)\n",
    "    frames.append(df)\n",
    "    \n",
    "pd.concat(frames)"
   ]
  },
  {
   "cell_type": "code",
   "execution_count": 35,
   "id": "2198218c-aec9-4b18-8492-19b07e6d878c",
   "metadata": {},
   "outputs": [],
   "source": [
    "authrt = pd.read_csv('../Data/AuthUserNames.txt', header=None)"
   ]
  },
  {
   "cell_type": "code",
   "execution_count": null,
   "id": "061e842e-5ea0-463b-81e8-b0a1bf32e50a",
   "metadata": {},
   "outputs": [],
   "source": []
  }
 ],
 "metadata": {
  "kernelspec": {
   "display_name": "Python 3",
   "language": "python",
   "name": "python3"
  },
  "language_info": {
   "codemirror_mode": {
    "name": "ipython",
    "version": 3
   },
   "file_extension": ".py",
   "mimetype": "text/x-python",
   "name": "python",
   "nbconvert_exporter": "python",
   "pygments_lexer": "ipython3",
   "version": "3.8.5"
  }
 },
 "nbformat": 4,
 "nbformat_minor": 5
}
