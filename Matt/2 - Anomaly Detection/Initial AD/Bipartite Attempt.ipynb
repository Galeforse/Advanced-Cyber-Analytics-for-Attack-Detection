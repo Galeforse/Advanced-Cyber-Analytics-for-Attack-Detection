{
 "cells": [
  {
   "cell_type": "markdown",
   "id": "5a7a2cf1-25d7-4a6d-92d7-495e057cd695",
   "metadata": {},
   "source": [
    "# Bipartite Attempt at Anomaly Detection (with some last minute final AD updates)"
   ]
  },
  {
   "cell_type": "markdown",
   "id": "a4c729d1-cbb6-4d2f-afe6-adf8ebbd2d49",
   "metadata": {},
   "source": [
    "This is a basic implementation of the algorithm from [this paper](https://faculty.mccombs.utexas.edu/deepayan.chakrabarti/mywww/papers/icdm05.pdf) on toy data to gain an understanding of it."
   ]
  },
  {
   "cell_type": "code",
   "execution_count": 42,
   "id": "adcab7f0-adcd-4e4f-967d-0ece0193e19e",
   "metadata": {},
   "outputs": [],
   "source": [
    "from pyCP_APR import CP_APR\n",
    "\n",
    "import numpy as np\n",
    "import pandas as pd\n",
    "import matplotlib.pyplot as plt\n",
    "import matplotlib.patches as mpatches\n",
    "import seaborn as sns\n",
    "import os\n",
    "import os.path\n",
    "import gzip\n",
    "import shutil\n",
    "import datetime\n",
    "import networkx as nx\n",
    "import pickle\n",
    "from scipy import stats\n",
    "from scipy import sparse\n",
    "import bz2\n",
    "import random\n",
    "import regex as re\n",
    "from tqdm.notebook import tqdm\n",
    "import scipy\n",
    "\n",
    "from sklearn.preprocessing import Normalizer, StandardScaler, MinMaxScaler\n",
    "from sklearn.ensemble import IsolationForest\n",
    "from sklearn.metrics import silhouette_score, silhouette_samples\n",
    "from sklearn.cluster import KMeans\n",
    "from sklearn.decomposition import PCA\n",
    "from sklearn.neighbors import LocalOutlierFactor\n",
    "from sklearn.pipeline import Pipeline\n",
    "from sklearn.model_selection import train_test_split\n",
    "from sklearn.metrics import confusion_matrix, classification_report, matthews_corrcoef, cohen_kappa_score, accuracy_score, average_precision_score, roc_auc_score\n",
    "\n",
    "from IPython.display import clear_output\n",
    "\n",
    "import tensorflow as tf\n",
    "import keras\n",
    "from tensorflow.keras import layers\n",
    "from tensorflow.keras.models import Model\n",
    "from tensorflow.keras.models import Sequential\n",
    "from tqdm.keras import TqdmCallback"
   ]
  },
  {
   "cell_type": "markdown",
   "id": "7077d579-10c1-40ec-a6dc-6864875e91ea",
   "metadata": {},
   "source": [
    "Here we implement a toy example to understand how to implement the model."
   ]
  },
  {
   "cell_type": "code",
   "execution_count": 2,
   "id": "d9584224-74d2-4e27-b6c1-108133fb5683",
   "metadata": {},
   "outputs": [],
   "source": [
    "array = np.random.randint(2, size=(10,15))"
   ]
  },
  {
   "cell_type": "code",
   "execution_count": 3,
   "id": "cf6c03be-3a6e-44d4-94d3-d1db4f0ea5d0",
   "metadata": {},
   "outputs": [],
   "source": [
    "for i in range(array.shape[0]):\n",
    "    array[i] = [1]*15\n",
    "    \n",
    "array[0] = [0,0,0,0,0,0,1,0,0,0,0,0,0,0,0]"
   ]
  },
  {
   "cell_type": "code",
   "execution_count": 4,
   "id": "8136257b-1ed3-4d0a-ae55-19e0a763b045",
   "metadata": {},
   "outputs": [
    {
     "data": {
      "text/plain": [
       "[0.1712653932524548,\n",
       " 0.1712653932524548,\n",
       " 0.1712653932524548,\n",
       " 0.1712653932524548,\n",
       " 0.1712653932524548,\n",
       " 0.1712653932524548,\n",
       " 0.17076019599371497,\n",
       " 0.1712653932524548,\n",
       " 0.1712653932524548,\n",
       " 0.1712653932524548]"
      ]
     },
     "execution_count": 4,
     "metadata": {},
     "output_type": "execute_result"
    }
   ],
   "source": [
    "res_nodes = []\n",
    "\n",
    "for node in range(array.shape[0]):\n",
    "    c = 0.15\n",
    "    eps = 0.001\n",
    "    q_node = np.zeros(array.shape[0]+array.shape[1])\n",
    "    q_node[node] = 1\n",
    "    q_node = q_node.transpose()\n",
    "\n",
    "    u_a = np.array([1/(array.shape[0]+array.shape[1])]*(array.shape[0]+array.shape[1]))\n",
    "    u_a_prev = np.zeros(u_a.shape)\n",
    "\n",
    "    array_normed = array / array.sum(axis=0)\n",
    "    array_transpose_normed = array.transpose() / array.sum(axis=1)\n",
    "    while np.linalg.norm(u_a - u_a_prev) >= eps:\n",
    "        u_a_prev = u_a\n",
    "\n",
    "        a = np.dot(array_transpose_normed,u_a[:array.shape[0]])\n",
    "        b = np.dot(array_normed,u_a[array.shape[0]:array.shape[0]+array.shape[1]])\n",
    "\n",
    "        u_a = (1-c)*(np.concatenate([a,b]))+c*q_node\n",
    "\n",
    "    res_nodes.append(u_a[:array.shape[0]])\n",
    "\n",
    "res_nodes =pd.DataFrame(res_nodes)\n",
    "\n",
    "anom_scores = []\n",
    "\n",
    "for node in range(array.shape[0]):\n",
    "    S_t = np.where(array[:,node] == 1)\n",
    "    r_matrix = np.array(res_nodes.iloc[(S_t[0],S_t[0])])\n",
    "    anom_scores.append(np.mean(np.diagonal(r_matrix)))\n",
    "\n",
    "anom_scores"
   ]
  },
  {
   "cell_type": "markdown",
   "id": "5f5d2470-2d45-4f6d-9cda-c15ab28a0f8a",
   "metadata": {},
   "source": [
    "This didn't seem to work here - doing this very late on in the project so I'm not sure why at the moment."
   ]
  },
  {
   "cell_type": "code",
   "execution_count": 26,
   "id": "e058637e-3c6b-4e83-9099-13bb4a049532",
   "metadata": {},
   "outputs": [
    {
     "name": "stdout",
     "output_type": "stream",
     "text": [
      "Attempting to read entire data set.\n"
     ]
    },
    {
     "name": "stderr",
     "output_type": "stream",
     "text": [
      "C:\\Users\\corri\\anaconda3\\lib\\site-packages\\numpy\\lib\\arraysetops.py:580: FutureWarning: elementwise comparison failed; returning scalar instead, but in the future will perform elementwise comparison\n",
      "  mask |= (ar1 == a)\n"
     ]
    }
   ],
   "source": [
    "try:\n",
    "    print('Attempting to read entire data set.')\n",
    "    authentication_data = pd.read_csv('C:/Users/corri/OneDrive/Documents/GitHub/Advanced-Cyber-Analytics-for-Attack-Detection/Data/Authentication data.gz', compression='gzip', index_col = 0)\n",
    "    process_data = pd.read_csv('C:/Users/corri/OneDrive/Documents/GitHub/Advanced-Cyber-Analytics-for-Attack-Detection/Data/Process data.gz', compression='gzip', index_col = 0)\n",
    "except:\n",
    "    clear_output()\n",
    "    print('Unable to read entire data set, reading from original files.')\n",
    "    rootdir = 'C:/Users/corri/OneDrive/Documents/Uni/Postgraduate/Final Project/LANL/ATI Data/Summaries/wls'\n",
    "    unzippeddir = 'C:/Users/corri/OneDrive/Documents/Uni/Postgraduate/Final Project/LANL/ATI Data/Summaries/wls/Unzipped'\n",
    "    frames = []\n",
    "\n",
    "    count = 0\n",
    "    \n",
    "    for subdir, dirs, files in os.walk(rootdir):\n",
    "        for file in files:\n",
    "            if file[-3:] == '.gz':\n",
    "                filedir = rootdir + '/' + file\n",
    "                with gzip.open(filedir) as f:\n",
    "                    df = pd.read_csv(filedir, header=None)\n",
    "                    frames.append(df)\n",
    "                if 'authentications' in str(file):\n",
    "                    count = count + len(df)\n",
    "    \n",
    "    df = pd.concat(frames)\n",
    "\n",
    "    authentication_data = df[:count]\n",
    "    authentication_data.columns = ['UserName', 'SrcDevice','DstDevice', 'Authent Type', 'Failure', 'DailyCount']\n",
    "\n",
    "    process_data = df[count:]\n",
    "    process_data = process_data[[0,1,2,3,4]]\n",
    "    process_data.columns = ['UserName', 'Device', 'ProcessName', 'ParentProcessName', 'DailyCount']\n",
    "\n",
    "    authentication_data.to_csv('../Data/Authentication data.gz', header=True, compression='gzip')\n",
    "    process_data.to_csv('../Data/Process data.gz', header=True, compression='gzip')"
   ]
  },
  {
   "cell_type": "code",
   "execution_count": 54,
   "id": "e2bdd2cd-7047-409b-9b02-cfeb1770958a",
   "metadata": {},
   "outputs": [],
   "source": [
    "rt_usernames = list(pd.read_csv('../../../Data/AuthUserNames.txt', header=None)[0])\n",
    "non_rt_users = [un for un in authentication_data['UserName'].unique() if un not in rt_usernames]\n",
    "non_rt_sample = pickle.load(open('../Final Anomaly Detection/Random Sample of Non Red Team Usernames.p','rb'))"
   ]
  },
  {
   "cell_type": "code",
   "execution_count": 56,
   "id": "9b6e262a-bb52-4fdf-89d4-4b4ee1189d33",
   "metadata": {},
   "outputs": [],
   "source": [
    "auth_index_list = authentication_data.index.tolist()\n",
    "auth_start_days = [i for i, e in enumerate(auth_index_list) if e == 0]\n",
    "auth_start_days.append(len(authentication_data))"
   ]
  },
  {
   "cell_type": "code",
   "execution_count": 36,
   "id": "3c46a0d6-190b-4ae8-b780-02b1a2b3c6d2",
   "metadata": {},
   "outputs": [],
   "source": [
    "def split_dataframe(df,n):\n",
    "    chunks = list()\n",
    "    chunk_size = int(np.round(df.shape[0]/n))\n",
    "    num_chunks = n\n",
    "    for i in range(num_chunks):\n",
    "        if i != num_chunks-1:\n",
    "            chunks.append(df[i*chunk_size:(i+1)*chunk_size])\n",
    "        else:\n",
    "            chunks.append(df[i*chunk_size:])\n",
    "    return chunks"
   ]
  },
  {
   "cell_type": "code",
   "execution_count": 37,
   "id": "5cc17885-b928-4c1e-9e43-39060484c29f",
   "metadata": {},
   "outputs": [],
   "source": [
    "def auth_type_un_df(user,n):\n",
    "    auth_type_df = pd.DataFrame(index = list(authentication_data['Authent Type'].unique()))\n",
    "    n = n\n",
    "    auth_type_dict = {}\n",
    "    \n",
    "    for i in range(len(auth_start_days)-1):\n",
    "        chunks = split_dataframe(authentication_data[auth_start_days[i]:auth_start_days[i+1]],n)\n",
    "        for j in range(n):\n",
    "                data = chunks[j]\n",
    "                auth_type_data = data[data['UserName'] == user].groupby('Authent Type')['DailyCount'].sum()\n",
    "                auth_type_dict[i*n + j] = auth_type_df.index.to_series().map(auth_type_data.to_dict())\n",
    "    \n",
    "    auth_type_df = pd.DataFrame(data=auth_type_dict,index = list(authentication_data['Authent Type'].unique()))\n",
    "    auth_type_df = auth_type_df.transpose()\n",
    "    auth_type_df = auth_type_df.fillna(0)\n",
    "    \n",
    "    return auth_type_df"
   ]
  },
  {
   "cell_type": "code",
   "execution_count": 38,
   "id": "71b8d11b-9013-43c4-ae07-e53c971faf8f",
   "metadata": {},
   "outputs": [],
   "source": [
    "def feature_generation(user,n):\n",
    "    \n",
    "    feat_dict = {}\n",
    "    # for reference (not used)\n",
    "    day_dict = {0:'Monday',1:'Tuesday',2:'Wednesday',3:'Thursday',4:'Friday',5:'Saturday',6:'Sunday'}\n",
    "    \n",
    "    for i in range(len(auth_start_days)-1):\n",
    "        # gives access to a day for the NN - assume start on a monday based on EDA\n",
    "        day = i%7\n",
    "        chunks = split_dataframe(authentication_data[auth_start_days[i]:auth_start_days[i+1]],n)\n",
    "        for j in range(n):\n",
    "                hour = j\n",
    "                data = chunks[j]\n",
    "                authents = len(data[data['UserName'] == user])\n",
    "                failures = len(data[(data['UserName'] == user) & (data['Failure'] == 1)])\n",
    "                srcunique = len(data[data['UserName'] == user]['SrcDevice'].unique())\n",
    "                dstunique = len(data[data['UserName'] == user]['DstDevice'].unique())\n",
    "                uniquepairs = len(data.groupby(['SrcDevice','DstDevice']).size())\n",
    "                feat_dict[i*n + j] = [srcunique,dstunique,authents,failures]\n",
    "                #feat_dict[i*n + j] = [day,hour,srcunique,dstunique,uniquepairs,authents,failures]\n",
    "                \n",
    "    df = pd.DataFrame(data=feat_dict,index =  ['SrcUnique','DstUnique','Authentications','Failures'])\n",
    "    #df = pd.DataFrame(data=feat_dict,index =  ['Day','Hour','SrcUnique','DstUnique','UniquePairs','Authentications','Failures'])\n",
    "    df = df.transpose()\n",
    "    df = df.fillna(0)\n",
    "    \n",
    "    return df"
   ]
  },
  {
   "cell_type": "code",
   "execution_count": 47,
   "id": "9228dff5-c2c9-4a59-bcbf-07e1f6fb39d4",
   "metadata": {},
   "outputs": [],
   "source": [
    "columns_sparse = pickle.load(open('../Final Anomaly Detection/Columns UASE.p','rb'))"
   ]
  },
  {
   "cell_type": "code",
   "execution_count": 49,
   "id": "19734436-2649-48dc-b330-8a57104437ad",
   "metadata": {},
   "outputs": [
    {
     "name": "stdout",
     "output_type": "stream",
     "text": [
      "Reading Data.\n"
     ]
    }
   ],
   "source": [
    "try:\n",
    "    print('Reading Data.')\n",
    "    data_frame_list_uase = pickle.load(open('C:/Users/corri/OneDrive/Documents/Uni/Postgraduate/Final Project/Data Frame List UASE.p','rb'))\n",
    "    index_sparse = pickle.load(open('../Final Anomaly Detection/Index UASE.p','rb'))\n",
    "    columns_sparse = pickle.load(open('../Final Anomaly Detection/Columns UASE.p','rb'))\n",
    "    \n",
    "except:\n",
    "    clear_output()\n",
    "    print('Creating Data Frames.')\n",
    "    data_frame_list_uase = []\n",
    "\n",
    "    start_time = datetime.datetime.now()\n",
    "\n",
    "    for i in tqdm(range(len(auth_start_days)-1)):\n",
    "\n",
    "        data_frame_ind = pd.DataFrame(index = list(authentication_data['DstDevice'].unique()))\n",
    "\n",
    "        chunk = authentication_data[auth_start_days[i]:auth_start_days[i+1]]\n",
    "        data_un ={}\n",
    "        for user in authentication_data['UserName'].unique():\n",
    "            dstdevice_data = chunk[chunk['UserName'] == user].groupby('DstDevice').size()\n",
    "            data_un[user] = data_frame_ind.index.to_series().map(dstdevice_data.to_dict())\n",
    "\n",
    "        data_frame_ind = pd.DataFrame(data=data_un,index = list(authentication_data['DstDevice'].unique()))\n",
    "        data_frame_ind = data_frame_ind.notnull().astype('int')\n",
    "        data_frame_ind = data_frame_ind.fillna(0)\n",
    "        A = np.array(data_frame_ind)\n",
    "        sA = sparse.csr_matrix(A)\n",
    "        data_frame_list_uase.append(sA)    \n",
    "\n",
    "    index_sparse = data_frame_ind.index\n",
    "    columns_sparse = data_frame_ind.columns\n",
    "    pickle.dump(data_frame_list_uase, open('Data Frame List UASE.p', 'wb'))\n",
    "    pickle.dump(index_sparse, open('Index UASE.p', 'wb'))\n",
    "    pickle.dump(columns_sparse, open('Columns UASE.p', 'wb'))\n",
    "    print(datetime.datetime.now()-start_time)"
   ]
  },
  {
   "cell_type": "code",
   "execution_count": 63,
   "id": "aa998507-f2a5-4dca-a083-0324c9acb1dc",
   "metadata": {},
   "outputs": [],
   "source": [
    "def render_mpl_table(data, col_width=3.0, row_height=0.625, font_size=14,\n",
    "                     header_color='#000000', row_colors=['#f1f1f2', 'w'], edge_color='w',\n",
    "                     bbox=[0, 0, 1, 1], header_columns=0,\n",
    "                     ax=None, **kwargs):\n",
    "    if ax is None:\n",
    "        size = (np.array(data.shape[::-1]) + np.array([0, 1])) * np.array([col_width, row_height])\n",
    "        fig, ax = plt.subplots(figsize=size)\n",
    "        ax.axis('off')\n",
    "    mpl_table = ax.table(cellText=data.values, bbox=bbox, colLabels=data.columns, **kwargs)\n",
    "    mpl_table.auto_set_font_size(False)\n",
    "    mpl_table.set_fontsize(font_size)\n",
    "\n",
    "    for k, cell in mpl_table._cells.items():\n",
    "        cell.set_edgecolor(edge_color)\n",
    "        if k[0] == 0 or k[1] < header_columns:\n",
    "            cell.set_text_props(weight='bold', color='w')\n",
    "            cell.set_facecolor(header_color)\n",
    "        else:\n",
    "            cell.set_facecolor(row_colors[k[0]%len(row_colors) ])\n",
    "    return ax.get_figure(), ax\n",
    "\n",
    "#fig,ax = render_mpl_table(df, header_columns=0, col_width=2.0)\n",
    "#fig.savefig(\"table_mpl.png\")"
   ]
  },
  {
   "cell_type": "code",
   "execution_count": 231,
   "id": "cfc973d7-d0a4-4bf5-a1bf-bf95fb4e9e80",
   "metadata": {},
   "outputs": [
    {
     "data": {
      "image/png": "[encoded data removed]",
      "text/plain": [
       "<Figure size 1296x270 with 1 Axes>"
      ]
     },
     "metadata": {
      "needs_background": "light"
     },
     "output_type": "display_data"
    }
   ],
   "source": [
    "fig,ax = render_mpl_table(authentication_data.head(), header_columns=0, col_width=3.0)\n",
    "fig.savefig(\"authentication data mpl.png\")"
   ]
  },
  {
   "cell_type": "code",
   "execution_count": 233,
   "id": "f1158b84-d4de-4142-a4e6-970307383920",
   "metadata": {},
   "outputs": [
    {
     "data": {
      "image/png": "[encoded data removed]",
      "text/plain": [
       "<Figure size 1080x270 with 1 Axes>"
      ]
     },
     "metadata": {
      "needs_background": "light"
     },
     "output_type": "display_data"
    }
   ],
   "source": [
    "fig,ax = render_mpl_table(process_data.head(), header_columns=0, col_width=3.0)\n",
    "fig.savefig(\"process data mpl.png\")"
   ]
  },
  {
   "cell_type": "code",
   "execution_count": 70,
   "id": "e33d3cc6-5561-404e-a734-4366ba22795e",
   "metadata": {},
   "outputs": [],
   "source": [
    "dt = feature_generation(rt_usernames[0],24)"
   ]
  },
  {
   "cell_type": "code",
   "execution_count": 205,
   "id": "dc4b8f73-712e-4fc7-9d66-49b14dff832b",
   "metadata": {},
   "outputs": [
    {
     "data": {
      "application/vnd.jupyter.widget-view+json": {
       "model_id": "0bb48257a3774937a2d2a4be84cf9549",
       "version_major": 2,
       "version_minor": 0
      },
      "text/plain": [
       "  0%|          | 0/28815 [00:00<?, ?it/s]"
      ]
     },
     "metadata": {},
     "output_type": "display_data"
    }
   ],
   "source": [
    "data_frame_ind = pd.DataFrame(index = list(authentication_data['DstDevice'].unique()))\n",
    "chunk = authentication_data[auth_start_days[1]:auth_start_days[2]]\n",
    "data_un ={}\n",
    "for user in tqdm(authentication_data['UserName'].unique()):\n",
    "    dstdevice_data = chunk[chunk['UserName'] == user].groupby('DstDevice').size()\n",
    "    data_un[user] = data_frame_ind.index.to_series().map(dstdevice_data.to_dict())\n",
    "\n",
    "data_frame_ind = pd.DataFrame(data=data_un,index = list(authentication_data['DstDevice'].unique()))\n",
    "data_frame_ind = data_frame_ind.notnull().astype('int')\n",
    "data_frame_ind = data_frame_ind.fillna(0)"
   ]
  },
  {
   "cell_type": "code",
   "execution_count": 218,
   "id": "7139eb5e-87d2-4003-bcd2-ef843f012442",
   "metadata": {},
   "outputs": [
    {
     "data": {
      "image/png": "[encoded data removed]",
      "text/plain": [
       "<Figure size 1728x270 with 1 Axes>"
      ]
     },
     "metadata": {
      "needs_background": "light"
     },
     "output_type": "display_data"
    }
   ],
   "source": [
    "fig,ax = render_mpl_table(data_frame_ind.iloc[0:5,0:10],col_width=2.4)\n",
    "fig.savefig(\"Graph Adjacency Array Example.png\")"
   ]
  },
  {
   "cell_type": "code",
   "execution_count": 72,
   "id": "0ec4ed47-41ed-4795-b711-379323ae9ce7",
   "metadata": {},
   "outputs": [],
   "source": [
    "def feature_generation_2(user,n):\n",
    "    \n",
    "    feat_dict = {}\n",
    "    # for reference (not used)\n",
    "    day_dict = {0:'Monday',1:'Tuesday',2:'Wednesday',3:'Thursday',4:'Friday',5:'Saturday',6:'Sunday'}\n",
    "    \n",
    "    for i in range(len(auth_start_days)-1):\n",
    "        # gives access to a day for the NN - assume start on a monday based on EDA\n",
    "        day = i%7\n",
    "        chunks = split_dataframe(authentication_data[auth_start_days[i]:auth_start_days[i+1]],n)\n",
    "        for j in range(n):\n",
    "                hour = j\n",
    "                data = chunks[j]\n",
    "                authents = len(data[data['UserName'] == user])\n",
    "                failures = len(data[(data['UserName'] == user) & (data['Failure'] == 1)])\n",
    "                srcunique = len(data[data['UserName'] == user]['SrcDevice'].unique())\n",
    "                dstunique = len(data[data['UserName'] == user]['DstDevice'].unique())\n",
    "                uniquepairs = len(data.groupby(['SrcDevice','DstDevice']).size())\n",
    "                #feat_dict[i*n + j] = [srcunique,dstunique,authents,failures]\n",
    "                feat_dict[i*n + j] = [day,hour,srcunique,dstunique,uniquepairs,authents,failures]\n",
    "                \n",
    "    #df = pd.DataFrame(data=feat_dict,index =  ['SrcUnique','DstUnique','Authentications','Failures'])\n",
    "    df = pd.DataFrame(data=feat_dict,index =  ['Day','Hour','SrcUnique','DstUnique','UniquePairs','Authentications','Failures'])\n",
    "    df = df.transpose()\n",
    "    df = df.fillna(0)\n",
    "    \n",
    "    return df"
   ]
  },
  {
   "cell_type": "code",
   "execution_count": 133,
   "id": "4fe82902-444a-4553-b086-a7991c8eb7cf",
   "metadata": {},
   "outputs": [],
   "source": [
    "def feature_generation_3(user,n):\n",
    "    \n",
    "    auth_type_df = pd.DataFrame(index = list(authentication_data['Authent Type'].unique()))\n",
    "    n = n\n",
    "    auth_type_dict = {}\n",
    "    feat_dict = {}\n",
    "    # for reference (not used)\n",
    "    day_dict = {0:'Monday',1:'Tuesday',2:'Wednesday',3:'Thursday',4:'Friday',5:'Saturday',6:'Sunday'}\n",
    "    \n",
    "    for i in range(len(auth_start_days)-1):\n",
    "        # gives access to a day for the NN - assume start on a monday based on EDA\n",
    "        day = i%7\n",
    "        chunks = split_dataframe(authentication_data[auth_start_days[i]:auth_start_days[i+1]],n)\n",
    "        for j in range(n):\n",
    "                data = chunks[j]\n",
    "                authents = len(data[data['UserName'] == user])\n",
    "                failures = len(data[(data['UserName'] == user) & (data['Failure'] == 1)])\n",
    "                srcunique = len(data[data['UserName'] == user]['SrcDevice'].unique())\n",
    "                dstunique = len(data[data['UserName'] == user]['DstDevice'].unique())\n",
    "                uniquepairs = len(data[data['UserName'] == user].groupby(['SrcDevice','DstDevice']).size())\n",
    "                auth_type_data = data[data['UserName'] == user].groupby('Authent Type')['DailyCount'].sum()\n",
    "                auth_type_dict[i*n + j] = auth_type_df.index.to_series().map(auth_type_data.to_dict())\n",
    "                #feat_dict[i*n + j] = [srcunique,dstunique,authents,failures]\n",
    "                feat_dict[i*n + j] = [day,srcunique,dstunique,uniquepairs,authents,failures]\n",
    "                \n",
    "    #df = pd.DataFrame(data=feat_dict,index =  ['SrcUnique','DstUnique','Authentications','Failures'])\n",
    "    df1 = pd.DataFrame(data=feat_dict,index =  ['Day','SrcUnique','DstUnique','UniquePairs','Authentications','Failures'])\n",
    "    df1 = df1.transpose()\n",
    "    df1 = df1.fillna(0)\n",
    "    \n",
    "    auth_type_df = pd.DataFrame(data=auth_type_dict,index = list(authentication_data['Authent Type'].unique()))\n",
    "    auth_type_df = auth_type_df.transpose()\n",
    "    auth_type_df = auth_type_df.fillna(0)\n",
    "    \n",
    "    df = pd.concat([df1, auth_type_df], axis=1)\n",
    "    \n",
    "    return df"
   ]
  },
  {
   "cell_type": "code",
   "execution_count": 223,
   "id": "ebe6a2ea-b632-412d-bfda-de156d8d6f6f",
   "metadata": {},
   "outputs": [],
   "source": [
    "df = feature_generation_3(rt_usernames[0],24)"
   ]
  },
  {
   "cell_type": "code",
   "execution_count": 227,
   "id": "d0845cea-42c5-4b3e-82de-9e5e07f3542f",
   "metadata": {},
   "outputs": [
    {
     "data": {
      "image/png": "[encoded data removed]",
      "text/plain": [
       "<Figure size 2160x270 with 1 Axes>"
      ]
     },
     "metadata": {
      "needs_background": "light"
     },
     "output_type": "display_data"
    }
   ],
   "source": [
    "fig,ax = render_mpl_table(df.iloc[0:5,0:10])\n",
    "fig.savefig(\"Count Based Array Example.png\")"
   ]
  },
  {
   "cell_type": "code",
   "execution_count": 73,
   "id": "1993a61e-a41d-44a1-aa26-88c8165267fc",
   "metadata": {},
   "outputs": [],
   "source": [
    "def ae_orig_finder(user,n,idx):\n",
    "    \n",
    "    j_idx = idx % n\n",
    "    i_idx = int(idx/n)\n",
    "\n",
    "    chunks = split_dataframe(authentication_data[auth_start_days[i_idx]:auth_start_days[i_idx+1]],n)\n",
    "    data = chunks[j_idx][chunks[j_idx]['UserName'] == user]\n",
    "    \n",
    "    return data"
   ]
  },
  {
   "cell_type": "code",
   "execution_count": 94,
   "id": "30688a18-b34d-4098-8206-8cf2715c8be5",
   "metadata": {},
   "outputs": [],
   "source": [
    "anomalies_ae_5['index'] = anomalies_ae_5.index"
   ]
  },
  {
   "cell_type": "code",
   "execution_count": 161,
   "id": "0e5aa21e-b9f1-4c99-8af2-11c70ba83dfb",
   "metadata": {},
   "outputs": [],
   "source": [
    "def poiss_orig_finder(user,n,idx):\n",
    "    \n",
    "    j_idx = idx % n\n",
    "    i_idx = int(idx/n)\n",
    "\n",
    "    chunks = split_dataframe(authentication_data[auth_start_days[i_idx]:auth_start_days[i_idx+1]],n)\n",
    "    data = chunks[j_idx][chunks[j_idx]['UserName'] == user]\n",
    "    data['Hour'] = [j_idx]*len(data)\n",
    "    data['Day'] = [i_idx+1]*len(data)\n",
    "    \n",
    "    return data"
   ]
  },
  {
   "cell_type": "code",
   "execution_count": 98,
   "id": "69edd927-9107-4604-94d2-64ce3caa5660",
   "metadata": {},
   "outputs": [],
   "source": [
    "def inhom_poiss_ae_detection_2(usernames,n,comb,alpha=1,beta=1):\n",
    "    events_frames = []\n",
    "    \n",
    "    for (un_ct,un) in enumerate(usernames):\n",
    "        \n",
    "        clear_output(wait=True)\n",
    "        print('Working with username {} of {}. {:.2f} percentage complete.'.format(un_ct+1,len(usernames),100*((un_ct+1)/len(usernames))))\n",
    "        pois_df = auth_type_un_df(un,n)\n",
    "        bayes_mean = []\n",
    "        bayes_var = []\n",
    "        alpha = alpha\n",
    "        beta = beta\n",
    "\n",
    "        f_probs = []\n",
    "\n",
    "        for i in range(n):\n",
    "            bayes_mean_hr = []\n",
    "            bayes_var_hr = []\n",
    "            for col in pois_df.columns:\n",
    "                dt = list(pd.concat([pois_df.iloc[:57*n],pois_df.iloc[83*n:]])[col])\n",
    "                dt_hspl = dt[i::n]\n",
    "                bayes_mean_hr.append((alpha+sum(dt_hspl))/(beta+len(dt_hspl)))\n",
    "                bayes_var_hr.append((alpha+sum(dt_hspl))/(beta+len(dt_hspl))**2)\n",
    "\n",
    "            bayes_mean.append(bayes_mean_hr)\n",
    "            bayes_var.append(bayes_var_hr)\n",
    "        \n",
    "        find_prob = []\n",
    "        for i in range(n):\n",
    "            find_prob.append(pd.DataFrame(stats.poisson.pmf(pd.concat([pois_df.iloc[:57*n], pois_df.iloc[83*n:]]).iloc[i::n],bayes_mean[i])).min())\n",
    "                \n",
    "        probabilities = []\n",
    "        \n",
    "        for i in range(n):\n",
    "\n",
    "            probabilities.append(stats.poisson.pmf(pois_df.iloc[57*n:82*n].iloc[i::n],bayes_mean[i]))\n",
    "\n",
    "        for i in range(n):\n",
    "\n",
    "            probs = probabilities[i]\n",
    "\n",
    "            for j in range(len(probs)):\n",
    "\n",
    "                hr_prob = probs[j]\n",
    "                \n",
    "                thresh = find_prob[i]\n",
    "                \n",
    "                if [item1 for item1,item2 in zip(hr_prob,thresh) if item1 <= item2] != []:\n",
    "\n",
    "                    events_frames.append(poiss_orig_finder(un,n,57*n+j*n+i))\n",
    "\n",
    "    events = pd.concat(events_frames)\n",
    "    \n",
    "    return events"
   ]
  },
  {
   "cell_type": "code",
   "execution_count": 100,
   "id": "54c67ef0-5781-4eec-9d4a-1f56cadf13ae",
   "metadata": {},
   "outputs": [],
   "source": [
    "def simple_poiss_eval(anomaly_bools,anomalies,usernames,type_un):\n",
    "    \n",
    "    non_anom = []\n",
    "    for i in range(len(anomaly_bools)):\n",
    "        if anomaly_bools[i][0] == 0:    \n",
    "            non_anom.append(anomaly_bools[i][1])\n",
    "\n",
    "    anom = []\n",
    "    for i in range(len(anomaly_bools)):\n",
    "        if anomaly_bools[i][0] != 0:    \n",
    "            anom.append(anomaly_bools[i][1])\n",
    "    \n",
    "    print('{} of the {} usernames were identified to have anomalies out of {} {} usernames. The folloiwng usernames were found to have no anomalies'.\n",
    "          format(len(np.where(np.array([i[0] for i in anomaly_bools]) > 0)[0]),type_un,len(anomaly_bools),type_un))\n",
    "    print('--------------------------------------------------------------------------------------------')        \n",
    "    print(', '.join(map(str,non_anom)))\n",
    "    \n",
    "    perc = 100*len(anomalies)/len(authentication_data[authentication_data['UserName'].isin(usernames)])\n",
    "    print('{:.2f}% of the {} data was identified as anomalous.'.format(perc,type_un))\n",
    "    \n",
    "    print(anomalies.groupby('Authent Type').size())\n",
    "    \n",
    "    anomalies.head()\n",
    "    \n",
    "    return"
   ]
  },
  {
   "cell_type": "code",
   "execution_count": 162,
   "id": "f731b05a-2de8-411e-aed3-9058ab763e07",
   "metadata": {},
   "outputs": [
    {
     "name": "stdout",
     "output_type": "stream",
     "text": [
      "Working with username 99 of 99. 100.00 percentage complete.\n",
      "0:09:23.963495\n"
     ]
    }
   ],
   "source": [
    "s_time = datetime.datetime.now()\n",
    "poisson_anoms_inhom = inhom_poiss_ae_detection_2(rt_usernames,24,False)\n",
    "\n",
    "poisson_anoms_inhom = poisson_anoms_inhom.drop_duplicates()\n",
    "poiss_anom_bool_inhom = []\n",
    "\n",
    "for un in rt_usernames:\n",
    "    if un in list(poisson_anoms_inhom['UserName']):\n",
    "        poiss_anom_bool_inhom.append((1,un))\n",
    "    else:\n",
    "        poiss_anom_bool_inhom.append((0,un))\n",
    "e_time = datetime.datetime.now()\n",
    "print(e_time-s_time)"
   ]
  },
  {
   "cell_type": "code",
   "execution_count": 163,
   "id": "10503746-3110-4bb3-b539-9e67d65629d7",
   "metadata": {},
   "outputs": [
    {
     "name": "stdout",
     "output_type": "stream",
     "text": [
      "98 of the red team usernames were identified to have anomalies out of 99 red team usernames. The folloiwng usernames were found to have no anomalies\n",
      "--------------------------------------------------------------------------------------------\n",
      "User405399\n",
      "30.20% of the red team data was identified as anomalous.\n",
      "Authent Type\n",
      "Batch                     566\n",
      "CachedInteractive         187\n",
      "InteractiveLogon         1217\n",
      "NetworkLogon            16197\n",
      "RemoteInteractive         404\n",
      "ScreensaverDismissed      484\n",
      "ScreensaverInvoked        476\n",
      "Service                  1136\n",
      "TGS                     17771\n",
      "TGT                      4782\n",
      "WorkstationLock          1160\n",
      "WorkstationUnlock        1467\n",
      "dtype: int64\n"
     ]
    }
   ],
   "source": [
    "simple_poiss_eval(poiss_anom_bool_inhom,poisson_anoms_inhom,rt_usernames,'red team')"
   ]
  },
  {
   "cell_type": "code",
   "execution_count": 199,
   "id": "37b0d6d7-d486-4f5a-bb6e-957f4901e233",
   "metadata": {},
   "outputs": [
    {
     "name": "stdout",
     "output_type": "stream",
     "text": [
      "Working with username 200 of 200. 100.00 percentage complete.\n",
      "0:18:36.448601\n",
      "179 of the normal usernames were identified to have anomalies out of 200 normal usernames. The folloiwng usernames were found to have no anomalies\n",
      "--------------------------------------------------------------------------------------------\n",
      "Comp792408$, Comp166939$, User835130, Comp982997$, Comp220136$, User034060, Comp421434$, User681533, User658064, User108742, Comp282554$, Comp556020$, Comp834308$, Comp682953$, Comp156369$, User611055, User248771, User924320, Comp722112$, Comp360389$, Comp855953$\n",
      "29.18% of the normal data was identified as anomalous.\n",
      "Authent Type\n",
      "CachedInteractive          20\n",
      "InteractiveLogon          465\n",
      "NetworkLogon             9109\n",
      "RemoteInteractive          60\n",
      "ScreensaverDismissed      259\n",
      "ScreensaverInvoked        252\n",
      "Service                     4\n",
      "TGS                     12631\n",
      "TGT                      3188\n",
      "WorkstationLock           641\n",
      "WorkstationUnlock         864\n",
      "dtype: int64\n"
     ]
    }
   ],
   "source": [
    "s_time = datetime.datetime.now()\n",
    "\n",
    "inhom_poisson_anoms_n = inhom_poiss_ae_detection_2(non_rt_sample,24,False)\n",
    "\n",
    "inhom_poisson_anoms_n = inhom_poisson_anoms_n.drop_duplicates()\n",
    "inhom_poiss_anom_bool_n = []\n",
    "\n",
    "for un in non_rt_sample:\n",
    "    if un in list(inhom_poisson_anoms_n['UserName']):\n",
    "        inhom_poiss_anom_bool_n.append((1,un))\n",
    "    else:\n",
    "        inhom_poiss_anom_bool_n.append((0,un))\n",
    "e_time = datetime.datetime.now()\n",
    "print(e_time-s_time)\n",
    "simple_poiss_eval(inhom_poiss_anom_bool_n,inhom_poisson_anoms_n,non_rt_sample,'normal')"
   ]
  },
  {
   "cell_type": "code",
   "execution_count": 74,
   "id": "1601aa6e-0a8e-4cbe-b9c7-45413f578bd6",
   "metadata": {},
   "outputs": [],
   "source": [
    "def simple_ae_eval(anomaly_bools,anomalies,val_losses,usernames,type_un):\n",
    "    \n",
    "    non_anom = []\n",
    "    for i in range(len(anomaly_bools)):\n",
    "        if anomaly_bools[i][0] == 0:    \n",
    "            non_anom.append(anomaly_bools[i][1])\n",
    "\n",
    "    anom = []\n",
    "    for i in range(len(anomaly_bools)):\n",
    "        if anomaly_bools[i][0] != 0:    \n",
    "            anom.append(anomaly_bools[i][1])\n",
    "    \n",
    "    print('{} of the {} usernames were identified to have anomalies out of {} {} usernames. The folloiwng usernames were found to have no anomalies'.\n",
    "          format(len(np.where(np.array([i[0] for i in anomaly_bools]) > 0)[0]),type_un,len(anomaly_bools),type_un))\n",
    "    print('--------------------------------------------------------------------------------------------')        \n",
    "    print(', '.join(map(str,non_anom)))\n",
    "    \n",
    "    perc = 100*len(anomalies)/len(authentication_data[authentication_data['UserName'].isin(usernames)])\n",
    "    print('{:.2f}% of the {} data was identified as anomalous.'.format(perc,type_un))\n",
    "    \n",
    "    final_losses = []\n",
    "    for i in range(len(val_losses)):\n",
    "        final_losses.append(val_losses[i][0][len(val_losses[i][0])-1]) \n",
    "\n",
    "    plt.figure()\n",
    "    sns.boxplot(data = final_losses)\n",
    "    plt.show()\n",
    "    \n",
    "    print(anomalies.groupby('Authent Type').size())\n",
    "    \n",
    "    anomalies.head()\n",
    "    \n",
    "    return"
   ]
  },
  {
   "cell_type": "code",
   "execution_count": 75,
   "id": "36de9812-cf55-41ae-88c3-619769be77a4",
   "metadata": {},
   "outputs": [],
   "source": [
    "def ae_anomaly_finder_2(user,n,BATCH_SIZE=64, EPOCHS=1000):\n",
    "    \n",
    "    clear_output()\n",
    "    \n",
    "    # get the data frame of features\n",
    "    df = feature_generation_2(user,n)\n",
    "    x_train_ae = np.concatenate([np.array(df[0:57*n]),np.array(df[82*n:])])\n",
    "    x_test_ae = np.array(df[57*n:82*n])\n",
    "    \n",
    "    # create our scaling pipeline\n",
    "    pipeline = Pipeline([('normalizer', Normalizer()),\n",
    "                    ('scaler', MinMaxScaler())])\n",
    "    pipeline.fit(x_train_ae)\n",
    "    x_train_ae = pipeline.transform(x_train_ae)\n",
    "    x_test_ae = pipeline.transform(x_test_ae)\n",
    "    \n",
    "    # define neural network parameters\n",
    "    input_dim = x_train_ae.shape[1]\n",
    "    BATCH_SIZE = BATCH_SIZE\n",
    "    EPOCHS = EPOCHS\n",
    "\n",
    "    # define the autoencoder\n",
    "    autoencoder =Sequential([\n",
    "\n",
    "        # deconstruct / encode\n",
    "        tf.keras.layers.Dense(input_dim, activation='elu', input_shape=(input_dim, )),\n",
    "        tf.keras.layers.Dropout(rate=0.1),\n",
    "        tf.keras.layers.Dense(8, activation='elu'),\n",
    "        tf.keras.layers.Dropout(rate=0.1),\n",
    "        tf.keras.layers.Dense(4, activation='elu'),\n",
    "        tf.keras.layers.Dropout(rate=0.1),\n",
    "        tf.keras.layers.Dense(2, activation='elu'),\n",
    "        tf.keras.layers.Dropout(rate=0.1),\n",
    "\n",
    "        # reconstruction / decode\n",
    "        tf.keras.layers.Dense(2, activation='elu'),\n",
    "        tf.keras.layers.Dropout(rate=0.1),\n",
    "        tf.keras.layers.Dense(4, activation='elu'),\n",
    "        tf.keras.layers.Dropout(rate=0.1),\n",
    "        tf.keras.layers.Dense(8, activation='elu'),\n",
    "        tf.keras.layers.Dropout(rate=0.1),\n",
    "        tf.keras.layers.Dense(input_dim, activation='elu')\n",
    "\n",
    "    ])\n",
    "\n",
    "    # compile the autoencoder\n",
    "    autoencoder.compile(optimizer=\"adam\", \n",
    "                        loss=\"mse\",\n",
    "                        metrics=[\"acc\"])\n",
    "    \n",
    "    early_stop = tf.keras.callbacks.EarlyStopping(\n",
    "    monitor='val_loss',\n",
    "    min_delta=0.0001,\n",
    "    patience=10,\n",
    "    verbose=1, \n",
    "    mode='min',\n",
    "    restore_best_weights=True\n",
    "    )\n",
    "    \n",
    "    # allows for early stopping and better visualisation of progress\n",
    "    cb = [early_stop,TqdmCallback(verbose=1)]\n",
    "    \n",
    "    # fit the auto encoder\n",
    "    history = autoencoder.fit(\n",
    "        x_train_ae, x_train_ae,\n",
    "        shuffle=True,\n",
    "        epochs=EPOCHS,\n",
    "        batch_size=BATCH_SIZE,\n",
    "        validation_split=0.1,\n",
    "        verbose=0,\n",
    "        callbacks=cb   \n",
    "    )\n",
    "    \n",
    "    # make predictions on the remaining data\n",
    "    x_test_pred = autoencoder.predict(x_test_ae)\n",
    "    test_mae_loss = np.mean(np.abs(x_test_pred - x_test_ae), axis=1)\n",
    "    \n",
    "    anomalies = np.where(test_mae_loss > np.array(history.history[\"val_loss\"]).min())\n",
    "    anomaly_idx = anomalies[0]\n",
    "    \n",
    "    frame = []\n",
    "    for i in range(len(anomaly_idx)):\n",
    "        anomaly = ae_orig_finder(user,n,anomaly_idx[i])\n",
    "        \n",
    "        # indicates that an anomaly was found where we have no information i.e. the lack of an event was anomalous\n",
    "        if len(anomaly) == 0:\n",
    "            pass\n",
    "        else:\n",
    "            frame.append(anomaly)\n",
    "        \n",
    "    if len(frame) != 0:\n",
    "        anomaly_df = pd.concat(frame)\n",
    "        return anomaly_df,1,history.history[\"val_loss\"]\n",
    "    else:\n",
    "        print('No anomalies found.')\n",
    "        return pd.DataFrame(test_mae_loss).describe(),0,history.history[\"val_loss\"]"
   ]
  },
  {
   "cell_type": "code",
   "execution_count": 80,
   "id": "a7dceafa-c9a8-4c3b-8ec2-23d29ee14a5d",
   "metadata": {},
   "outputs": [
    {
     "data": {
      "application/vnd.jupyter.widget-view+json": {
       "model_id": "fe299fc95fd242adbfbcaf0faa546e0f",
       "version_major": 2,
       "version_minor": 0
      },
      "text/plain": [
       "0epoch [00:00, ?epoch/s]"
      ]
     },
     "metadata": {},
     "output_type": "display_data"
    },
    {
     "data": {
      "application/vnd.jupyter.widget-view+json": {
       "model_id": "",
       "version_major": 2,
       "version_minor": 0
      },
      "text/plain": [
       "0batch [00:00, ?batch/s]"
      ]
     },
     "metadata": {},
     "output_type": "display_data"
    },
    {
     "name": "stdout",
     "output_type": "stream",
     "text": [
      "Restoring model weights from the end of the best epoch.\n",
      "Epoch 00107: early stopping\n",
      "0:32:03.110475\n"
     ]
    }
   ],
   "source": [
    "frames_5 = []\n",
    "anomaly_bool_5 = []\n",
    "val_loss_5 = []\n",
    "\n",
    "s_time = datetime.datetime.now()\n",
    "\n",
    "for i,un in tqdm(enumerate(set(rt_usernames))):\n",
    "    clear_output(wait=True)\n",
    "    print('Working with username {} of {}. {:.2f} percentage complete.'.format(i+1,len(rt_usernames),100*((i+1)/len(rt_usernames))))\n",
    "    f,b,val = ae_anomaly_finder_2(un,24)\n",
    "    if b == 1:\n",
    "        frames_5.append(f)\n",
    "        anomaly_bool_5.append((len(f),un))\n",
    "        val_loss_5.append((val,un))\n",
    "    else:\n",
    "        anomaly_bool_5.append((0,un))\n",
    "        val_loss_5.append((val,un))\n",
    "        pass\n",
    "anomalies_ae_5 = pd.concat(frames_5)\n",
    "\n",
    "e_time = datetime.datetime.now()\n",
    "print(e_time-s_time)"
   ]
  },
  {
   "cell_type": "code",
   "execution_count": 81,
   "id": "11dd1368-962a-4bca-a4ae-18fa8dbd8b89",
   "metadata": {},
   "outputs": [
    {
     "name": "stdout",
     "output_type": "stream",
     "text": [
      "84 of the red team usernames were identified to have anomalies out of 95 red team usernames. The folloiwng usernames were found to have no anomalies\n",
      "--------------------------------------------------------------------------------------------\n",
      "User133028, User222822, User497510, User089536, User457932, User758916, User900703, User409683, User859748, User829941, User630088\n",
      "27.07% of the red team data was identified as anomalous.\n"
     ]
    },
    {
     "data": {
      "image/png": "[encoded data removed]",
      "text/plain": [
       "<Figure size 432x288 with 1 Axes>"
      ]
     },
     "metadata": {
      "needs_background": "light"
     },
     "output_type": "display_data"
    },
    {
     "name": "stdout",
     "output_type": "stream",
     "text": [
      "Authent Type\n",
      "Batch                     539\n",
      "CachedInteractive         139\n",
      "InteractiveLogon         1193\n",
      "NetworkLogon            12278\n",
      "RemoteInteractive         342\n",
      "ScreensaverDismissed      446\n",
      "ScreensaverInvoked        432\n",
      "Service                  1128\n",
      "TGS                     17300\n",
      "TGT                      4843\n",
      "WorkstationLock          1104\n",
      "WorkstationUnlock        1349\n",
      "dtype: int64\n"
     ]
    }
   ],
   "source": [
    "simple_ae_eval(anomaly_bool_5,anomalies_ae_5,val_loss_5,set(rt_usernames),'red team')"
   ]
  },
  {
   "cell_type": "code",
   "execution_count": 118,
   "id": "ea2e63c0-2fe5-4608-961a-83280bb64f6d",
   "metadata": {},
   "outputs": [
    {
     "data": {
      "application/vnd.jupyter.widget-view+json": {
       "model_id": "be68ab49cdd34eb9bdcd4f007fae7c58",
       "version_major": 2,
       "version_minor": 0
      },
      "text/plain": [
       "0epoch [00:00, ?epoch/s]"
      ]
     },
     "metadata": {},
     "output_type": "display_data"
    },
    {
     "data": {
      "application/vnd.jupyter.widget-view+json": {
       "model_id": "",
       "version_major": 2,
       "version_minor": 0
      },
      "text/plain": [
       "0batch [00:00, ?batch/s]"
      ]
     },
     "metadata": {},
     "output_type": "display_data"
    },
    {
     "name": "stdout",
     "output_type": "stream",
     "text": [
      "Restoring model weights from the end of the best epoch.\n",
      "Epoch 00085: early stopping\n",
      "1:06:35.479170\n"
     ]
    }
   ],
   "source": [
    "frames_n_5 = []\n",
    "anomaly_bool_N_5 = []\n",
    "val_loss_n_5 = []\n",
    "bound = 400\n",
    "\n",
    "s_time = datetime.datetime.now()\n",
    "\n",
    "for i,un in tqdm(enumerate(non_rt_sample)):\n",
    "    f,b,val = ae_anomaly_finder_2(un,24)\n",
    "    if b == 1:\n",
    "        frames_n_5.append(f)\n",
    "        anomaly_bool_N_5.append((len(f),un))\n",
    "        val_loss_n_5.append((val,un))\n",
    "    else:\n",
    "        anomaly_bool_N_5.append((0,un))\n",
    "        val_loss_n_5.append((val,un))\n",
    "        pass\n",
    "anomalies_ae_n_5 = pd.concat(frames_n_5)\n",
    "pickle.dump(anomalies_ae_n_5,open('Non RT Anomalies.p','wb'))\n",
    "pickle.dump(val_loss_n_5,open('Non RT VL.p','wb'))\n",
    "pickle.dump(non_rt_sample,open('Random Sample of Non Red Team Usernames.p','wb'))\n",
    "e_time = datetime.datetime.now()\n",
    "print(e_time-s_time)"
   ]
  },
  {
   "cell_type": "code",
   "execution_count": 119,
   "id": "1e559a0a-2fc1-4d54-95b9-b175b1d457e7",
   "metadata": {},
   "outputs": [
    {
     "name": "stdout",
     "output_type": "stream",
     "text": [
      "177 of the normal usernames were identified to have anomalies out of 200 normal usernames. The folloiwng usernames were found to have no anomalies\n",
      "--------------------------------------------------------------------------------------------\n",
      "User401689, Comp362353$, Comp393779$, User319750, Comp740988$, Comp674474$, Comp089988$, User108742, Comp388786$, User184125, Comp498283$, Comp682953$, Comp985400$, User392061, User319181, User924320, User140503, Comp722112$, User569089, User494395, User793668, Comp288826$, Comp120148$\n",
      "26.26% of the normal data was identified as anomalous.\n"
     ]
    },
    {
     "data": {
      "image/png": "[encoded data removed]",
      "text/plain": [
       "<Figure size 432x288 with 1 Axes>"
      ]
     },
     "metadata": {
      "needs_background": "light"
     },
     "output_type": "display_data"
    },
    {
     "name": "stdout",
     "output_type": "stream",
     "text": [
      "Authent Type\n",
      "CachedInteractive          32\n",
      "InteractiveLogon          441\n",
      "NetworkLogon             7247\n",
      "RemoteInteractive          68\n",
      "ScreensaverDismissed      209\n",
      "ScreensaverInvoked        204\n",
      "Service                     2\n",
      "TGS                     12061\n",
      "TGT                      3135\n",
      "WorkstationLock           583\n",
      "WorkstationUnlock         765\n",
      "dtype: int64\n"
     ]
    }
   ],
   "source": [
    "simple_ae_eval(anomaly_bool_N_5,anomalies_ae_n_5,val_loss_n_5,non_rt_sample,'normal')"
   ]
  },
  {
   "cell_type": "code",
   "execution_count": 120,
   "id": "505534b2-fcb2-4be0-a95a-95af4ae13c6e",
   "metadata": {},
   "outputs": [
    {
     "data": {
      "text/plain": [
       "(array([36.27118644, 32.18390805, 88.42105263, 88.5       ]),\n",
       " -0.0011551935261435752)"
      ]
     },
     "execution_count": 120,
     "metadata": {},
     "output_type": "execute_result"
    }
   ],
   "source": [
    "MCC(84,23,177,11)"
   ]
  },
  {
   "cell_type": "code",
   "execution_count": 146,
   "id": "15b427d3-9ca4-489c-a4c3-5f640a2c95a5",
   "metadata": {},
   "outputs": [],
   "source": [
    "def ae_orig_finder_3(user,n,idx):\n",
    "    \n",
    "    j_idx = idx % n\n",
    "    i_idx = int(idx/n)\n",
    "    \n",
    "    chunks = split_dataframe(authentication_data[auth_start_days[i_idx]:auth_start_days[i_idx+1]],n)\n",
    "    data = chunks[j_idx][chunks[j_idx]['UserName'] == user]\n",
    "    data['Hour'] = [j_idx]*len(data)\n",
    "    data['Day'] = [i_idx+1]*len(data)\n",
    "    return data"
   ]
  },
  {
   "cell_type": "code",
   "execution_count": 184,
   "id": "229b31b4-c124-4511-84c5-0bb996756ed8",
   "metadata": {},
   "outputs": [],
   "source": [
    "def ae_anomaly_finder_3(user,n,BATCH_SIZE=64, EPOCHS=1000):\n",
    "    \n",
    "    clear_output()\n",
    "    \n",
    "    # get the data frame of features\n",
    "    df = feature_generation_3(user,n)\n",
    "    x_train_ae = np.concatenate([np.array(df[0:57*n]),np.array(df[82*n:])])\n",
    "    x_test_ae = np.array(df[57*n:82*n])\n",
    "    \n",
    "    # create our scaling pipeline\n",
    "    pipeline = Pipeline([('normalizer', Normalizer()),\n",
    "                    ('scaler', MinMaxScaler())])\n",
    "    pipeline.fit(x_train_ae)\n",
    "    x_train_ae = pipeline.transform(x_train_ae)\n",
    "    x_test_ae = pipeline.transform(x_test_ae)\n",
    "    \n",
    "    # define neural network parameters\n",
    "    input_dim = x_train_ae.shape[1]\n",
    "    BATCH_SIZE = BATCH_SIZE\n",
    "    EPOCHS = EPOCHS\n",
    "\n",
    "    # define the autoencoder\n",
    "    autoencoder =Sequential([\n",
    "\n",
    "        # deconstruct / encode\n",
    "        tf.keras.layers.Dense(input_dim, activation='elu', input_shape=(input_dim, )),\n",
    "        tf.keras.layers.Dropout(rate=0.1),\n",
    "        tf.keras.layers.Dense(16, activation='elu'),\n",
    "        tf.keras.layers.Dropout(rate=0.1),\n",
    "        tf.keras.layers.Dense(14, activation='elu'),\n",
    "        tf.keras.layers.Dropout(rate=0.1),\n",
    "        tf.keras.layers.Dense(12, activation='elu'),\n",
    "        tf.keras.layers.Dropout(rate=0.1),\n",
    "        tf.keras.layers.Dense(10, activation='elu'),\n",
    "        tf.keras.layers.Dropout(rate=0.1),\n",
    "        tf.keras.layers.Dense(8, activation='elu'),\n",
    "        tf.keras.layers.Dropout(rate=0.1),\n",
    "        tf.keras.layers.Dense(6, activation='elu'),\n",
    "        tf.keras.layers.Dropout(rate=0.1),\n",
    "        tf.keras.layers.Dense(4, activation='elu'),\n",
    "        tf.keras.layers.Dropout(rate=0.1),\n",
    "        tf.keras.layers.Dense(2, activation='elu'),\n",
    "        tf.keras.layers.Dropout(rate=0.1),\n",
    "\n",
    "        # reconstruction / decode\n",
    "        tf.keras.layers.Dense(2, activation='elu'),\n",
    "        tf.keras.layers.Dropout(rate=0.1),\n",
    "        tf.keras.layers.Dense(4, activation='elu'),\n",
    "        tf.keras.layers.Dropout(rate=0.1),\n",
    "        tf.keras.layers.Dense(6, activation='elu'),\n",
    "        tf.keras.layers.Dropout(rate=0.1),\n",
    "        tf.keras.layers.Dense(8, activation='elu'),\n",
    "        tf.keras.layers.Dropout(rate=0.1),\n",
    "        tf.keras.layers.Dense(10, activation='elu'),\n",
    "        tf.keras.layers.Dropout(rate=0.1),\n",
    "        tf.keras.layers.Dense(12, activation='elu'),\n",
    "        tf.keras.layers.Dropout(rate=0.1),\n",
    "        tf.keras.layers.Dense(14, activation='elu'),\n",
    "        tf.keras.layers.Dropout(rate=0.1),\n",
    "        tf.keras.layers.Dense(16, activation='elu'),\n",
    "        tf.keras.layers.Dropout(rate=0.1),\n",
    "        tf.keras.layers.Dense(input_dim, activation='elu')\n",
    "\n",
    "    ])\n",
    "\n",
    "    # compile the autoencoder\n",
    "    autoencoder.compile(optimizer=\"adam\", \n",
    "                        loss=\"mse\",\n",
    "                        metrics=[\"acc\"])\n",
    "    \n",
    "    early_stop = tf.keras.callbacks.EarlyStopping(\n",
    "    monitor='val_loss',\n",
    "    min_delta=0.0001,\n",
    "    patience=10,\n",
    "    verbose=1, \n",
    "    mode='min',\n",
    "    restore_best_weights=True\n",
    "    )\n",
    "    \n",
    "    # allows for early stopping and better visualisation of progress\n",
    "    cb = [early_stop,TqdmCallback(verbose=1)]\n",
    "    \n",
    "    # fit the auto encoder\n",
    "    history = autoencoder.fit(\n",
    "        x_train_ae, x_train_ae,\n",
    "        shuffle=True,\n",
    "        epochs=EPOCHS,\n",
    "        batch_size=BATCH_SIZE,\n",
    "        validation_split=0.1,\n",
    "        verbose=0,\n",
    "        callbacks=cb   \n",
    "    )\n",
    "    \n",
    "    # make predictions on the remaining data\n",
    "    x_test_pred = autoencoder.predict(x_test_ae)\n",
    "    test_mae_loss = np.mean(np.abs(x_test_pred - x_test_ae), axis=1)\n",
    "    \n",
    "    anomalies = np.where(test_mae_loss > np.array(history.history[\"val_loss\"]).min())\n",
    "    anomaly_idx = anomalies[0]\n",
    "    print(anomaly_idx)\n",
    "    frame = []\n",
    "    for i in range(len(anomaly_idx)):\n",
    "        anomaly = ae_orig_finder_3(user,n,57*n+anomaly_idx[i])\n",
    "        \n",
    "        # indicates that an anomaly was found where we have no information i.e. the lack of an event was anomalous\n",
    "        if len(anomaly) == 0:\n",
    "            pass\n",
    "        else:\n",
    "            frame.append(anomaly)\n",
    "        \n",
    "    if len(frame) != 0:\n",
    "        anomaly_df = pd.concat(frame)\n",
    "        return anomaly_df,1,history.history[\"val_loss\"]\n",
    "    else:\n",
    "        print('No anomalies found.')\n",
    "        return pd.DataFrame(test_mae_loss).describe(),0,history.history[\"val_loss\"]"
   ]
  },
  {
   "cell_type": "code",
   "execution_count": 186,
   "id": "71e6b4e8-7325-43c6-b704-9648f1983c72",
   "metadata": {},
   "outputs": [
    {
     "data": {
      "application/vnd.jupyter.widget-view+json": {
       "model_id": "dcd32f1069a6458e840c82061fb23848",
       "version_major": 2,
       "version_minor": 0
      },
      "text/plain": [
       "0epoch [00:00, ?epoch/s]"
      ]
     },
     "metadata": {},
     "output_type": "display_data"
    },
    {
     "data": {
      "application/vnd.jupyter.widget-view+json": {
       "model_id": "",
       "version_major": 2,
       "version_minor": 0
      },
      "text/plain": [
       "0batch [00:00, ?batch/s]"
      ]
     },
     "metadata": {},
     "output_type": "display_data"
    },
    {
     "name": "stdout",
     "output_type": "stream",
     "text": [
      "Restoring model weights from the end of the best epoch.\n",
      "Epoch 00040: early stopping\n",
      "[  4   5   6   8  10  13  15  16  28  29  30  32  34  37  39  40  44  48\n",
      "  52  53  54  56  57  58  61  63  64  66  71  74  81  83  84  85  88  89\n",
      "  93 101 107 108 109 114 115 122 126 129 131 137 141 144 145 146 147 148\n",
      " 149 150 151 152 153 154 155 156 157 158 159 160 161 162 163 164 165 166\n",
      " 167 172 173 174 176 178 181 183 184 196 197 198 200 202 205 207 208 209\n",
      " 215 220 221 222 224 226 229 231 232 244 245 246 248 250 253 255 256 266\n",
      " 273 277 280 281 285 290 297 299 301 304 305 309 312 313 314 315 316 317\n",
      " 318 319 320 321 322 323 324 325 326 327 328 329 330 331 332 333 334 335\n",
      " 340 341 342 344 346 349 351 352 364 365 366 368 370 373 375 376 378 383\n",
      " 388 390 392 393 394 397 399 400 412 413 414 416 418 421 423 424 434 438\n",
      " 441 449 453 462 475 480 481 482 483 484 485 486 487 488 489 490 491 492\n",
      " 493 494 495 496 497 498 499 500 501 502 503 508 509 510 512 514 517 519\n",
      " 520 524 525 532 533 534 536 538 541 543 544 556 557 558 560 562 565 567\n",
      " 568 572 580 581 582 584 586 589 591 592]\n"
     ]
    },
    {
     "name": "stderr",
     "output_type": "stream",
     "text": [
      "C:\\Users\\corri\\anaconda3\\lib\\site-packages\\pandas\\core\\frame.py:3607: SettingWithCopyWarning: \n",
      "A value is trying to be set on a copy of a slice from a DataFrame.\n",
      "Try using .loc[row_indexer,col_indexer] = value instead\n",
      "\n",
      "See the caveats in the documentation: https://pandas.pydata.org/pandas-docs/stable/user_guide/indexing.html#returning-a-view-versus-a-copy\n",
      "  self._set_item(key, value)\n"
     ]
    },
    {
     "name": "stdout",
     "output_type": "stream",
     "text": [
      "0:28:47.650311\n"
     ]
    }
   ],
   "source": [
    "frames_5 = []\n",
    "anomaly_bool_5 = []\n",
    "val_loss_5 = []\n",
    "\n",
    "s_time = datetime.datetime.now()\n",
    "\n",
    "for i,un in tqdm(enumerate(set(rt_usernames))):\n",
    "    clear_output(wait=True)\n",
    "    print('Working with username {} of {}. {:.2f} percentage complete.'.format(i+1,len(rt_usernames),100*((i+1)/len(rt_usernames))))\n",
    "    f,b,val = ae_anomaly_finder_3(un,24)\n",
    "    if b == 1:\n",
    "        frames_5.append(f)\n",
    "        anomaly_bool_5.append((len(f),un))\n",
    "        val_loss_5.append((val,un))\n",
    "    else:\n",
    "        anomaly_bool_5.append((0,un))\n",
    "        val_loss_5.append((val,un))\n",
    "        pass\n",
    "anomalies_ae_5 = pd.concat(frames_5)\n",
    "\n",
    "e_time = datetime.datetime.now()\n",
    "print(e_time-s_time)"
   ]
  },
  {
   "cell_type": "code",
   "execution_count": 187,
   "id": "d1e9852e-9ec4-47b3-8db9-e562f618cc64",
   "metadata": {},
   "outputs": [
    {
     "name": "stdout",
     "output_type": "stream",
     "text": [
      "94 of the red team usernames were identified to have anomalies out of 95 red team usernames. The folloiwng usernames were found to have no anomalies\n",
      "--------------------------------------------------------------------------------------------\n",
      "User405399\n",
      "27.77% of the red team data was identified as anomalous.\n"
     ]
    },
    {
     "data": {
      "image/png": "[encoded data removed]",
      "text/plain": [
       "<Figure size 432x288 with 1 Axes>"
      ]
     },
     "metadata": {
      "needs_background": "light"
     },
     "output_type": "display_data"
    },
    {
     "name": "stdout",
     "output_type": "stream",
     "text": [
      "Authent Type\n",
      "Batch                     479\n",
      "CachedInteractive         181\n",
      "InteractiveLogon         1126\n",
      "NetworkLogon            14443\n",
      "RemoteInteractive         365\n",
      "ScreensaverDismissed      483\n",
      "ScreensaverInvoked        475\n",
      "Service                   780\n",
      "TGS                     16932\n",
      "TGT                      4272\n",
      "WorkstationLock          1158\n",
      "WorkstationUnlock        1466\n",
      "dtype: int64\n"
     ]
    }
   ],
   "source": [
    "simple_ae_eval(anomaly_bool_5,anomalies_ae_5,val_loss_5,set(rt_usernames),'red team')"
   ]
  },
  {
   "cell_type": "code",
   "execution_count": 188,
   "id": "a62e566e-ebcb-49d5-bc9d-42b49d9cede7",
   "metadata": {},
   "outputs": [
    {
     "data": {
      "application/vnd.jupyter.widget-view+json": {
       "model_id": "68f222ede32946e2ad61d11bf6f88c0e",
       "version_major": 2,
       "version_minor": 0
      },
      "text/plain": [
       "0epoch [00:00, ?epoch/s]"
      ]
     },
     "metadata": {},
     "output_type": "display_data"
    },
    {
     "data": {
      "application/vnd.jupyter.widget-view+json": {
       "model_id": "",
       "version_major": 2,
       "version_minor": 0
      },
      "text/plain": [
       "0batch [00:00, ?batch/s]"
      ]
     },
     "metadata": {},
     "output_type": "display_data"
    },
    {
     "name": "stdout",
     "output_type": "stream",
     "text": [
      "Restoring model weights from the end of the best epoch.\n",
      "Epoch 00094: early stopping\n",
      "[  0   1   5   6   7  10  11  13  15  16  24  25  30  31  32  34  37  39\n",
      "  40  48  49  53  54  55  56  58  59  61  63  64  70  71 144 145 146 147\n",
      " 148 149 150 151 152 153 154 155 156 157 158 159 160 161 162 163 164 165\n",
      " 166 167 168 169 170 171 173 174 175 176 177 178 179 181 182 183 184 186\n",
      " 187 188 190 191 192 193 197 198 199 200 202 203 205 207 208 211 214 216\n",
      " 217 218 222 223 224 226 227 228 229 231 232 233 238 239 312 313 314 315\n",
      " 316 317 318 319 320 321 322 323 324 325 326 327 328 329 330 331 332 333\n",
      " 334 335 336 337 341 342 343 344 346 347 349 351 352 355 358 360 361 365\n",
      " 366 367 368 370 371 373 375 376 382 383 384 385 389 390 391 392 394 395\n",
      " 396 397 399 400 401 480 481 482 483 484 485 486 487 488 489 490 491 492\n",
      " 493 494 495 496 497 498 499 500 501 502 503 504 505 508 509 510 511 512\n",
      " 514 515 516 517 519 520 521 528 529 533 534 535 536 537 538 539 540 541\n",
      " 543 544 545 553 556 557 558 559 560 562 563 564 565 567 568 569 571 575]\n"
     ]
    },
    {
     "name": "stderr",
     "output_type": "stream",
     "text": [
      "C:\\Users\\corri\\anaconda3\\lib\\site-packages\\pandas\\core\\frame.py:3607: SettingWithCopyWarning: \n",
      "A value is trying to be set on a copy of a slice from a DataFrame.\n",
      "Try using .loc[row_indexer,col_indexer] = value instead\n",
      "\n",
      "See the caveats in the documentation: https://pandas.pydata.org/pandas-docs/stable/user_guide/indexing.html#returning-a-view-versus-a-copy\n",
      "  self._set_item(key, value)\n"
     ]
    },
    {
     "name": "stdout",
     "output_type": "stream",
     "text": [
      "0:56:12.662801\n"
     ]
    }
   ],
   "source": [
    "frames_n_5 = []\n",
    "anomaly_bool_N_5 = []\n",
    "val_loss_n_5 = []\n",
    "bound = 400\n",
    "\n",
    "s_time = datetime.datetime.now()\n",
    "\n",
    "for i,un in tqdm(enumerate(non_rt_sample)):\n",
    "    f,b,val = ae_anomaly_finder_3(un,24)\n",
    "    if b == 1:\n",
    "        frames_n_5.append(f)\n",
    "        anomaly_bool_N_5.append((len(f),un))\n",
    "        val_loss_n_5.append((val,un))\n",
    "    else:\n",
    "        anomaly_bool_N_5.append((0,un))\n",
    "        val_loss_n_5.append((val,un))\n",
    "        pass\n",
    "anomalies_ae_n_5 = pd.concat(frames_n_5)\n",
    "pickle.dump(anomalies_ae_n_5,open('Non RT Anomalies.p','wb'))\n",
    "pickle.dump(val_loss_n_5,open('Non RT VL.p','wb'))\n",
    "pickle.dump(non_rt_sample,open('Random Sample of Non Red Team Usernames.p','wb'))\n",
    "e_time = datetime.datetime.now()\n",
    "print(e_time-s_time)"
   ]
  },
  {
   "cell_type": "code",
   "execution_count": 189,
   "id": "b29b7135-b447-4edf-a6e8-969c52488d36",
   "metadata": {},
   "outputs": [
    {
     "name": "stdout",
     "output_type": "stream",
     "text": [
      "179 of the normal usernames were identified to have anomalies out of 200 normal usernames. The folloiwng usernames were found to have no anomalies\n",
      "--------------------------------------------------------------------------------------------\n",
      "Comp792408$, Comp166939$, User835130, Comp982997$, Comp220136$, User034060, Comp421434$, User681533, User658064, User108742, Comp282554$, Comp556020$, Comp834308$, Comp682953$, Comp156369$, User611055, User248771, User924320, Comp722112$, Comp360389$, Comp855953$\n",
      "29.18% of the normal data was identified as anomalous.\n"
     ]
    },
    {
     "data": {
      "image/png": "[encoded data removed]",
      "text/plain": [
       "<Figure size 432x288 with 1 Axes>"
      ]
     },
     "metadata": {
      "needs_background": "light"
     },
     "output_type": "display_data"
    },
    {
     "name": "stdout",
     "output_type": "stream",
     "text": [
      "Authent Type\n",
      "CachedInteractive          20\n",
      "InteractiveLogon          465\n",
      "NetworkLogon             9109\n",
      "RemoteInteractive          60\n",
      "ScreensaverDismissed      259\n",
      "ScreensaverInvoked        252\n",
      "Service                     4\n",
      "TGS                     12631\n",
      "TGT                      3188\n",
      "WorkstationLock           641\n",
      "WorkstationUnlock         864\n",
      "dtype: int64\n"
     ]
    }
   ],
   "source": [
    "simple_ae_eval(anomaly_bool_N_5,anomalies_ae_n_5,val_loss_n_5,non_rt_sample,'normal')"
   ]
  },
  {
   "cell_type": "code",
   "execution_count": 194,
   "id": "3d44837e-ec59-459e-aa81-e6c8bbb8a0b0",
   "metadata": {},
   "outputs": [
    {
     "data": {
      "text/plain": [
       "(array([38.98305085, 34.43223443, 98.94736842, 89.5       ]),\n",
       " 0.16803315759376639)"
      ]
     },
     "execution_count": 194,
     "metadata": {},
     "output_type": "execute_result"
    }
   ],
   "source": [
    "MCC(94,21,179,1)"
   ]
  },
  {
   "cell_type": "code",
   "execution_count": 191,
   "id": "69c2e99f-203f-4143-a543-3a685219d972",
   "metadata": {},
   "outputs": [],
   "source": [
    "poisson_anoms_inhom[['Hour','Day']] = poisson_anoms_inhom[['Hour','Day']].astype('int')"
   ]
  },
  {
   "cell_type": "code",
   "execution_count": 201,
   "id": "493ff015-7a1e-4775-b4f0-8cf0a4988424",
   "metadata": {},
   "outputs": [],
   "source": [
    "final_anomalies = pd.merge(anomalies_ae_5, poisson_anoms_inhom, how='inner', on=list(poisson_anoms_inhom.columns))\n",
    "final_normal_anomalies = pd.merge(anomalies_ae_n_5, inhom_poisson_anoms_n, how='inner', on=list(inhom_poisson_anoms_n.columns))"
   ]
  },
  {
   "cell_type": "code",
   "execution_count": 203,
   "id": "9f14521d-3051-4898-be90-32151cdf074c",
   "metadata": {},
   "outputs": [
    {
     "name": "stdout",
     "output_type": "stream",
     "text": [
      "94 of the red team usernames were identified to have anomalies out of 95 red team usernames. The folloiwng usernames were found to have no anomalies\n",
      "--------------------------------------------------------------------------------------------\n",
      "User405399\n",
      "27.77% of the red team data was identified as anomalous.\n",
      "Authent Type\n",
      "Batch                     479\n",
      "CachedInteractive         181\n",
      "InteractiveLogon         1126\n",
      "NetworkLogon            14443\n",
      "RemoteInteractive         365\n",
      "ScreensaverDismissed      483\n",
      "ScreensaverInvoked        475\n",
      "Service                   780\n",
      "TGS                     16932\n",
      "TGT                      4272\n",
      "WorkstationLock          1158\n",
      "WorkstationUnlock        1466\n",
      "dtype: int64\n",
      "179 of the normal usernames were identified to have anomalies out of 200 normal usernames. The folloiwng usernames were found to have no anomalies\n",
      "--------------------------------------------------------------------------------------------\n",
      "Comp792408$, Comp166939$, User835130, Comp982997$, Comp220136$, User034060, Comp421434$, User681533, User658064, User108742, Comp282554$, Comp556020$, Comp834308$, Comp682953$, Comp156369$, User611055, User248771, User924320, Comp722112$, Comp360389$, Comp855953$\n",
      "29.18% of the normal data was identified as anomalous.\n",
      "Authent Type\n",
      "CachedInteractive          20\n",
      "InteractiveLogon          465\n",
      "NetworkLogon             9109\n",
      "RemoteInteractive          60\n",
      "ScreensaverDismissed      259\n",
      "ScreensaverInvoked        252\n",
      "Service                     4\n",
      "TGS                     12631\n",
      "TGT                      3188\n",
      "WorkstationLock           641\n",
      "WorkstationUnlock         864\n",
      "dtype: int64\n"
     ]
    }
   ],
   "source": [
    "final_anom_bool_n = []\n",
    "final_anom_bool = []\n",
    "\n",
    "for un in non_rt_sample:\n",
    "    if un in list(final_normal_anomalies['UserName']):\n",
    "        final_anom_bool_n.append((1,un))\n",
    "    else:\n",
    "        final_anom_bool_n.append((0,un))\n",
    "for un in set(rt_usernames):\n",
    "    if un in list(final_anomalies['UserName']):\n",
    "        final_anom_bool.append((1,un))\n",
    "    else:\n",
    "        final_anom_bool.append((0,un))\n",
    "simple_poiss_eval(final_anom_bool,final_anomalies,rt_usernames,'red team')\n",
    "simple_poiss_eval(final_anom_bool_n,final_normal_anomalies,non_rt_sample,'normal')"
   ]
  },
  {
   "cell_type": "code",
   "execution_count": 235,
   "id": "1fcdbe0e-5824-4231-b6a5-a7650955fb26",
   "metadata": {},
   "outputs": [],
   "source": [
    "def feature_generation_4(user,n):\n",
    "    \n",
    "    auth_type_df = pd.DataFrame(index = list(authentication_data['Authent Type'].unique()))\n",
    "    n = n\n",
    "    auth_type_dict = {}\n",
    "    feat_dict = {}\n",
    "    # for reference (not used)\n",
    "    day_dict = {0:'Monday',1:'Tuesday',2:'Wednesday',3:'Thursday',4:'Friday',5:'Saturday',6:'Sunday'}\n",
    "    \n",
    "    for i in range(len(auth_start_days)-1):\n",
    "        # gives access to a day for the NN - assume start on a monday based on EDA\n",
    "        day = i%7\n",
    "        if day <= 4:\n",
    "            weekday = 1\n",
    "            weekend = 0\n",
    "        else:\n",
    "            weekday = 0\n",
    "            weekend = 1\n",
    "        chunks = split_dataframe(authentication_data[auth_start_days[i]:auth_start_days[i+1]],n)\n",
    "        for j in range(n):\n",
    "                data = chunks[j]\n",
    "                authents = len(data[data['UserName'] == user])\n",
    "                failures = len(data[(data['UserName'] == user) & (data['Failure'] == 1)])\n",
    "                srcunique = len(data[data['UserName'] == user]['SrcDevice'].unique())\n",
    "                dstunique = len(data[data['UserName'] == user]['DstDevice'].unique())\n",
    "                uniquepairs = len(data[data['UserName'] == user].groupby(['SrcDevice','DstDevice']).size())\n",
    "                auth_type_data = data[data['UserName'] == user].groupby('Authent Type')['DailyCount'].sum()\n",
    "                auth_type_dict[i*n + j] = auth_type_df.index.to_series().map(auth_type_data.to_dict())\n",
    "                #feat_dict[i*n + j] = [srcunique,dstunique,authents,failures]\n",
    "                feat_dict[i*n + j] = [weekday,weekend,srcunique,dstunique,uniquepairs,authents,failures]\n",
    "                \n",
    "    #df = pd.DataFrame(data=feat_dict,index =  ['SrcUnique','DstUnique','Authentications','Failures'])\n",
    "    df1 = pd.DataFrame(data=feat_dict,index =  ['Weekday','Weekend','SrcUnique','DstUnique','UniquePairs','Authentications','Failures'])\n",
    "    df1 = df1.transpose()\n",
    "    df1 = df1.fillna(0)\n",
    "    \n",
    "    auth_type_df = pd.DataFrame(data=auth_type_dict,index = list(authentication_data['Authent Type'].unique()))\n",
    "    auth_type_df = auth_type_df.transpose()\n",
    "    auth_type_df = auth_type_df.fillna(0)\n",
    "    \n",
    "    df = pd.concat([df1, auth_type_df], axis=1)\n",
    "    \n",
    "    return df"
   ]
  },
  {
   "cell_type": "code",
   "execution_count": 236,
   "id": "eda18626-f7a6-4683-baa8-bf427914cec1",
   "metadata": {},
   "outputs": [],
   "source": [
    "def ae_anomaly_finder_4(user,n,BATCH_SIZE=64, EPOCHS=1000):\n",
    "    \n",
    "    clear_output()\n",
    "    \n",
    "    # get the data frame of features\n",
    "    df = feature_generation_4(user,n)\n",
    "    x_train_ae = np.concatenate([np.array(df[0:57*n]),np.array(df[82*n:])])\n",
    "    x_test_ae = np.array(df[57*n:82*n])\n",
    "    \n",
    "    # create our scaling pipeline\n",
    "    pipeline = Pipeline([('normalizer', Normalizer()),\n",
    "                    ('scaler', MinMaxScaler())])\n",
    "    pipeline.fit(x_train_ae)\n",
    "    x_train_ae = pipeline.transform(x_train_ae)\n",
    "    x_test_ae = pipeline.transform(x_test_ae)\n",
    "    \n",
    "    # define neural network parameters\n",
    "    input_dim = x_train_ae.shape[1]\n",
    "    BATCH_SIZE = BATCH_SIZE\n",
    "    EPOCHS = EPOCHS\n",
    "\n",
    "    # define the autoencoder\n",
    "    autoencoder =Sequential([\n",
    "\n",
    "        # deconstruct / encode\n",
    "        tf.keras.layers.Dense(input_dim, activation='elu', input_shape=(input_dim, )),\n",
    "        tf.keras.layers.Dropout(rate=0.1),\n",
    "        tf.keras.layers.Dense(16, activation='elu'),\n",
    "        tf.keras.layers.Dropout(rate=0.1),\n",
    "        tf.keras.layers.Dense(14, activation='elu'),\n",
    "        tf.keras.layers.Dropout(rate=0.1),\n",
    "        tf.keras.layers.Dense(12, activation='elu'),\n",
    "        tf.keras.layers.Dropout(rate=0.1),\n",
    "        tf.keras.layers.Dense(10, activation='elu'),\n",
    "        tf.keras.layers.Dropout(rate=0.1),\n",
    "        tf.keras.layers.Dense(8, activation='elu'),\n",
    "        tf.keras.layers.Dropout(rate=0.1),\n",
    "        tf.keras.layers.Dense(6, activation='elu'),\n",
    "        tf.keras.layers.Dropout(rate=0.1),\n",
    "        tf.keras.layers.Dense(4, activation='elu'),\n",
    "        tf.keras.layers.Dropout(rate=0.1),\n",
    "        tf.keras.layers.Dense(2, activation='elu'),\n",
    "        tf.keras.layers.Dropout(rate=0.1),\n",
    "\n",
    "        # reconstruction / decode\n",
    "        tf.keras.layers.Dense(2, activation='elu'),\n",
    "        tf.keras.layers.Dropout(rate=0.1),\n",
    "        tf.keras.layers.Dense(4, activation='elu'),\n",
    "        tf.keras.layers.Dropout(rate=0.1),\n",
    "        tf.keras.layers.Dense(6, activation='elu'),\n",
    "        tf.keras.layers.Dropout(rate=0.1),\n",
    "        tf.keras.layers.Dense(8, activation='elu'),\n",
    "        tf.keras.layers.Dropout(rate=0.1),\n",
    "        tf.keras.layers.Dense(10, activation='elu'),\n",
    "        tf.keras.layers.Dropout(rate=0.1),\n",
    "        tf.keras.layers.Dense(12, activation='elu'),\n",
    "        tf.keras.layers.Dropout(rate=0.1),\n",
    "        tf.keras.layers.Dense(14, activation='elu'),\n",
    "        tf.keras.layers.Dropout(rate=0.1),\n",
    "        tf.keras.layers.Dense(16, activation='elu'),\n",
    "        tf.keras.layers.Dropout(rate=0.1),\n",
    "        tf.keras.layers.Dense(input_dim, activation='elu')\n",
    "\n",
    "    ])\n",
    "\n",
    "    # compile the autoencoder\n",
    "    autoencoder.compile(optimizer=\"adam\", \n",
    "                        loss=\"mse\",\n",
    "                        metrics=[\"acc\"])\n",
    "    \n",
    "    early_stop = tf.keras.callbacks.EarlyStopping(\n",
    "    monitor='val_loss',\n",
    "    min_delta=0.0001,\n",
    "    patience=10,\n",
    "    verbose=1, \n",
    "    mode='min',\n",
    "    restore_best_weights=True\n",
    "    )\n",
    "    \n",
    "    # allows for early stopping and better visualisation of progress\n",
    "    cb = [early_stop,TqdmCallback(verbose=1)]\n",
    "    \n",
    "    # fit the auto encoder\n",
    "    history = autoencoder.fit(\n",
    "        x_train_ae, x_train_ae,\n",
    "        shuffle=True,\n",
    "        epochs=EPOCHS,\n",
    "        batch_size=BATCH_SIZE,\n",
    "        validation_split=0.1,\n",
    "        verbose=0,\n",
    "        callbacks=cb   \n",
    "    )\n",
    "    \n",
    "    # make predictions on the remaining data\n",
    "    x_test_pred = autoencoder.predict(x_test_ae)\n",
    "    test_mae_loss = np.mean(np.abs(x_test_pred - x_test_ae), axis=1)\n",
    "    \n",
    "    anomalies = np.where(test_mae_loss > np.array(history.history[\"val_loss\"]).min())\n",
    "    anomaly_idx = anomalies[0]\n",
    "    print(anomaly_idx)\n",
    "    frame = []\n",
    "    for i in range(len(anomaly_idx)):\n",
    "        anomaly = ae_orig_finder_3(user,n,57*n+anomaly_idx[i])\n",
    "        \n",
    "        # indicates that an anomaly was found where we have no information i.e. the lack of an event was anomalous\n",
    "        if len(anomaly) == 0:\n",
    "            pass\n",
    "        else:\n",
    "            frame.append(anomaly)\n",
    "        \n",
    "    if len(frame) != 0:\n",
    "        anomaly_df = pd.concat(frame)\n",
    "        return anomaly_df,1,history.history[\"val_loss\"]\n",
    "    else:\n",
    "        print('No anomalies found.')\n",
    "        return pd.DataFrame(test_mae_loss).describe(),0,history.history[\"val_loss\"]"
   ]
  },
  {
   "cell_type": "code",
   "execution_count": 237,
   "id": "c6becc64-729a-4ed3-8bd0-b0c7db9b0c20",
   "metadata": {},
   "outputs": [
    {
     "data": {
      "application/vnd.jupyter.widget-view+json": {
       "model_id": "0e14889c8f5c469992435a8cb476a56c",
       "version_major": 2,
       "version_minor": 0
      },
      "text/plain": [
       "0epoch [00:00, ?epoch/s]"
      ]
     },
     "metadata": {},
     "output_type": "display_data"
    },
    {
     "data": {
      "application/vnd.jupyter.widget-view+json": {
       "model_id": "",
       "version_major": 2,
       "version_minor": 0
      },
      "text/plain": [
       "0batch [00:00, ?batch/s]"
      ]
     },
     "metadata": {},
     "output_type": "display_data"
    },
    {
     "name": "stdout",
     "output_type": "stream",
     "text": [
      "Restoring model weights from the end of the best epoch.\n",
      "Epoch 00099: early stopping\n",
      "[  4   5   6   8  10  13  15  16  28  29  30  32  34  37  39  40  44  48\n",
      "  52  53  54  56  57  58  61  63  64  66  71  74  81  83  84  85  88  89\n",
      "  93 101 107 108 109 114 115 122 126 129 131 137 141 148 149 150 152 154\n",
      " 157 159 160 172 173 174 176 178 181 183 184 196 197 198 200 202 205 207\n",
      " 208 209 215 220 221 222 224 226 229 231 232 244 245 246 248 250 253 255\n",
      " 256 266 273 277 280 281 285 290 297 299 301 304 305 309 316 318 320 321\n",
      " 322 325 327 328 340 341 342 344 346 349 351 352 364 365 366 368 370 373\n",
      " 375 376 378 383 388 390 392 393 394 397 399 400 412 413 414 416 418 421\n",
      " 423 424 434 438 441 449 453 462 475 484 485 486 488 489 490 493 495 496\n",
      " 500 508 509 510 512 514 517 519 520 524 525 532 533 534 536 538 541 543\n",
      " 544 556 557 558 560 562 565 567 568 572 580 581 582 584 586 589 591 592]\n"
     ]
    },
    {
     "name": "stderr",
     "output_type": "stream",
     "text": [
      "C:\\Users\\corri\\anaconda3\\lib\\site-packages\\pandas\\core\\frame.py:3607: SettingWithCopyWarning: \n",
      "A value is trying to be set on a copy of a slice from a DataFrame.\n",
      "Try using .loc[row_indexer,col_indexer] = value instead\n",
      "\n",
      "See the caveats in the documentation: https://pandas.pydata.org/pandas-docs/stable/user_guide/indexing.html#returning-a-view-versus-a-copy\n",
      "  self._set_item(key, value)\n"
     ]
    },
    {
     "name": "stdout",
     "output_type": "stream",
     "text": [
      "0:34:26.447171\n"
     ]
    }
   ],
   "source": [
    "frames_5 = []\n",
    "anomaly_bool_5 = []\n",
    "val_loss_5 = []\n",
    "\n",
    "s_time = datetime.datetime.now()\n",
    "\n",
    "for i,un in tqdm(enumerate(set(rt_usernames))):\n",
    "    clear_output(wait=True)\n",
    "    print('Working with username {} of {}. {:.2f} percentage complete.'.format(i+1,len(rt_usernames),100*((i+1)/len(rt_usernames))))\n",
    "    f,b,val = ae_anomaly_finder_4(un,24)\n",
    "    if b == 1:\n",
    "        frames_5.append(f)\n",
    "        anomaly_bool_5.append((len(f),un))\n",
    "        val_loss_5.append((val,un))\n",
    "    else:\n",
    "        anomaly_bool_5.append((0,un))\n",
    "        val_loss_5.append((val,un))\n",
    "        pass\n",
    "anomalies_ae_5 = pd.concat(frames_5)\n",
    "\n",
    "e_time = datetime.datetime.now()\n",
    "print(e_time-s_time)"
   ]
  },
  {
   "cell_type": "code",
   "execution_count": 238,
   "id": "4a63567a-c44c-41a5-9596-fa2cc89335d9",
   "metadata": {},
   "outputs": [
    {
     "name": "stdout",
     "output_type": "stream",
     "text": [
      "94 of the red team usernames were identified to have anomalies out of 95 red team usernames. The folloiwng usernames were found to have no anomalies\n",
      "--------------------------------------------------------------------------------------------\n",
      "User405399\n",
      "26.06% of the red team data was identified as anomalous.\n"
     ]
    },
    {
     "data": {
      "image/png": "[encoded data removed]",
      "text/plain": [
       "<Figure size 432x288 with 1 Axes>"
      ]
     },
     "metadata": {
      "needs_background": "light"
     },
     "output_type": "display_data"
    },
    {
     "name": "stdout",
     "output_type": "stream",
     "text": [
      "Authent Type\n",
      "Batch                     359\n",
      "CachedInteractive         167\n",
      "InteractiveLogon         1016\n",
      "NetworkLogon            13380\n",
      "RemoteInteractive         331\n",
      "ScreensaverDismissed      481\n",
      "ScreensaverInvoked        471\n",
      "Service                   632\n",
      "TGS                     16185\n",
      "TGT                      3954\n",
      "WorkstationLock          1147\n",
      "WorkstationUnlock        1446\n",
      "dtype: int64\n"
     ]
    }
   ],
   "source": [
    "simple_ae_eval(anomaly_bool_5,anomalies_ae_5,val_loss_5,set(rt_usernames),'red team')"
   ]
  },
  {
   "cell_type": "code",
   "execution_count": 245,
   "id": "6d25785d-8cb5-44c4-97a6-42f3905a4372",
   "metadata": {},
   "outputs": [
    {
     "data": {
      "text/plain": [
       "['User405399']"
      ]
     },
     "execution_count": 245,
     "metadata": {},
     "output_type": "execute_result"
    }
   ],
   "source": [
    "[anomaly_bool_5[i][1] for i in range(len(anomaly_bool_5)) if anomaly_bool_5[i][0] == 0]"
   ]
  },
  {
   "cell_type": "code",
   "execution_count": 248,
   "id": "096d8fb5-6ad0-480b-a8ad-1f793eef71a4",
   "metadata": {},
   "outputs": [
    {
     "name": "stdout",
     "output_type": "stream",
     "text": [
      "Events occur in day 21.\n"
     ]
    }
   ],
   "source": [
    "for i in range(len(auth_start_days)-1):\n",
    "    data = authentication_data[auth_start_days[i]:auth_start_days[i+1]]\n",
    "    test = data[data['UserName'] == 'User405399']\n",
    "    if len(test) >= 1:\n",
    "        print('Events occur in day {}.'.format(i))"
   ]
  },
  {
   "cell_type": "markdown",
   "id": "dfc037d9-dfac-473e-9d1a-5f428d86b0c7",
   "metadata": {},
   "source": [
    "The reason that this user isnt identified in any events is because no events occur on those days in the summary data during the pen test period."
   ]
  },
  {
   "cell_type": "code",
   "execution_count": 239,
   "id": "f4512ec0-cb5f-448a-8bc7-1928e2b4d11f",
   "metadata": {},
   "outputs": [
    {
     "data": {
      "application/vnd.jupyter.widget-view+json": {
       "model_id": "a2c0a06731e24ce7bd5b204b37b98157",
       "version_major": 2,
       "version_minor": 0
      },
      "text/plain": [
       "0epoch [00:00, ?epoch/s]"
      ]
     },
     "metadata": {},
     "output_type": "display_data"
    },
    {
     "data": {
      "application/vnd.jupyter.widget-view+json": {
       "model_id": "",
       "version_major": 2,
       "version_minor": 0
      },
      "text/plain": [
       "0batch [00:00, ?batch/s]"
      ]
     },
     "metadata": {},
     "output_type": "display_data"
    },
    {
     "name": "stdout",
     "output_type": "stream",
     "text": [
      "Restoring model weights from the end of the best epoch.\n",
      "Epoch 00071: early stopping\n",
      "[  0   1   5   6   7  10  11  13  15  16  24  25  30  31  32  34  37  39\n",
      "  40  48  49  53  54  55  56  58  59  61  63  64  70  71 144 145 149 150\n",
      " 151 152 154 155 157 159 160 161 163 166 167 168 169 170 171 173 174 175\n",
      " 176 177 178 179 181 182 183 184 186 187 188 190 191 192 193 197 198 199\n",
      " 200 202 203 205 207 208 211 214 216 217 218 222 223 224 226 227 228 229\n",
      " 231 232 233 238 239 312 313 317 318 319 320 322 323 325 327 328 329 334\n",
      " 335 336 337 341 342 343 344 346 347 349 351 352 355 358 360 361 365 366\n",
      " 367 368 370 371 373 375 376 382 383 384 385 389 390 391 392 394 395 396\n",
      " 397 399 400 401 480 481 485 486 487 488 490 491 493 495 496 497 502 504\n",
      " 505 508 509 510 511 512 514 515 516 517 519 520 521 528 529 533 534 535\n",
      " 536 537 538 539 540 541 543 544 545 553 556 557 558 559 560 562 563 564\n",
      " 565 567 568 569 571 575]\n"
     ]
    },
    {
     "name": "stderr",
     "output_type": "stream",
     "text": [
      "C:\\Users\\corri\\anaconda3\\lib\\site-packages\\pandas\\core\\frame.py:3607: SettingWithCopyWarning: \n",
      "A value is trying to be set on a copy of a slice from a DataFrame.\n",
      "Try using .loc[row_indexer,col_indexer] = value instead\n",
      "\n",
      "See the caveats in the documentation: https://pandas.pydata.org/pandas-docs/stable/user_guide/indexing.html#returning-a-view-versus-a-copy\n",
      "  self._set_item(key, value)\n"
     ]
    },
    {
     "name": "stdout",
     "output_type": "stream",
     "text": [
      "1:02:26.607031\n"
     ]
    }
   ],
   "source": [
    "frames_n_5 = []\n",
    "anomaly_bool_N_5 = []\n",
    "val_loss_n_5 = []\n",
    "\n",
    "s_time = datetime.datetime.now()\n",
    "\n",
    "for i,un in tqdm(enumerate(non_rt_sample)):\n",
    "    f,b,val = ae_anomaly_finder_4(un,24)\n",
    "    if b == 1:\n",
    "        frames_n_5.append(f)\n",
    "        anomaly_bool_N_5.append((len(f),un))\n",
    "        val_loss_n_5.append((val,un))\n",
    "    else:\n",
    "        anomaly_bool_N_5.append((0,un))\n",
    "        val_loss_n_5.append((val,un))\n",
    "        pass\n",
    "anomalies_ae_n_5 = pd.concat(frames_n_5)\n",
    "pickle.dump(anomalies_ae_n_5,open('Non RT Anomalies.p','wb'))\n",
    "pickle.dump(val_loss_n_5,open('Non RT VL.p','wb'))\n",
    "pickle.dump(non_rt_sample,open('Random Sample of Non Red Team Usernames.p','wb'))\n",
    "e_time = datetime.datetime.now()\n",
    "print(e_time-s_time)"
   ]
  },
  {
   "cell_type": "code",
   "execution_count": 240,
   "id": "764b6c03-b0c6-4e5b-824c-3186ff0ee2cd",
   "metadata": {},
   "outputs": [
    {
     "name": "stdout",
     "output_type": "stream",
     "text": [
      "179 of the normal usernames were identified to have anomalies out of 200 normal usernames. The folloiwng usernames were found to have no anomalies\n",
      "--------------------------------------------------------------------------------------------\n",
      "Comp792408$, Comp166939$, User835130, Comp982997$, Comp220136$, User034060, Comp421434$, User681533, User658064, User108742, Comp282554$, Comp556020$, Comp834308$, Comp682953$, Comp156369$, User611055, User248771, User924320, Comp722112$, Comp360389$, Comp855953$\n",
      "29.18% of the normal data was identified as anomalous.\n"
     ]
    },
    {
     "data": {
      "image/png": "[encoded data removed]",
      "text/plain": [
       "<Figure size 432x288 with 1 Axes>"
      ]
     },
     "metadata": {
      "needs_background": "light"
     },
     "output_type": "display_data"
    },
    {
     "name": "stdout",
     "output_type": "stream",
     "text": [
      "Authent Type\n",
      "CachedInteractive          20\n",
      "InteractiveLogon          465\n",
      "NetworkLogon             9109\n",
      "RemoteInteractive          60\n",
      "ScreensaverDismissed      259\n",
      "ScreensaverInvoked        252\n",
      "Service                     4\n",
      "TGS                     12631\n",
      "TGT                      3188\n",
      "WorkstationLock           641\n",
      "WorkstationUnlock         864\n",
      "dtype: int64\n"
     ]
    }
   ],
   "source": [
    "simple_ae_eval(anomaly_bool_N_5,anomalies_ae_n_5,val_loss_n_5,non_rt_sample,'normal')"
   ]
  },
  {
   "cell_type": "code",
   "execution_count": 251,
   "id": "e6f75359-0e95-49da-85c9-26ee8cb0293e",
   "metadata": {},
   "outputs": [
    {
     "name": "stdout",
     "output_type": "stream",
     "text": [
      "Events for username Comp792408$ occur in day 21.\n",
      "Events for username Comp166939$ occur in day 21.\n",
      "Events for username User835130 occur in day 21.\n",
      "Events for username Comp982997$ occur in day 21.\n",
      "Events for username Comp220136$ occur in day 21.\n",
      "Events for username User034060 occur in day 21.\n",
      "Events for username Comp421434$ occur in day 21.\n",
      "Events for username User681533 occur in day 21.\n",
      "Events for username User658064 occur in day 21.\n",
      "Events for username User108742 occur in day 21.\n",
      "Events for username Comp282554$ occur in day 21.\n",
      "Events for username Comp556020$ occur in day 21.\n",
      "Events for username Comp834308$ occur in day 21.\n",
      "Events for username Comp682953$ occur in day 21.\n",
      "Events for username Comp156369$ occur in day 21.\n",
      "Events for username User611055 occur in day 21.\n",
      "Events for username User248771 occur in day 21.\n",
      "Events for username User924320 occur in day 21.\n",
      "Events for username Comp722112$ occur in day 21.\n",
      "Events for username Comp360389$ occur in day 21.\n",
      "Events for username Comp855953$ occur in day 21.\n"
     ]
    }
   ],
   "source": [
    "for un in [anomaly_bool_N_5[i][1] for i in range(len(anomaly_bool_N_5)) if anomaly_bool_N_5[i][0] == 0]:\n",
    "    for i in range(len(auth_start_days)-1):\n",
    "        data = authentication_data[auth_start_days[i]:auth_start_days[i+1]]\n",
    "        test = data[data['UserName'] == 'User405399']\n",
    "        if len(test) >= 1:\n",
    "            print('Events for username {} occur in day {}.'.format(un,i))"
   ]
  },
  {
   "cell_type": "markdown",
   "id": "e80f8441-f560-42cb-a95a-41c13a88f233",
   "metadata": {},
   "source": [
    "Similarly, those usernames that are not detected to have anomalies have no events during the penetration test. Thus we may assume from this that all usernames identified would have 100% FPR and 100% recall."
   ]
  },
  {
   "cell_type": "code",
   "execution_count": 270,
   "id": "97ccf498-dc3f-418d-a618-e70ff23ff985",
   "metadata": {},
   "outputs": [],
   "source": [
    "cfm = pd.DataFrame(data=[[94,1],[179,21]], columns=['Predicted: Positive','Predicted: Negative'], index=['Actual: Positive','Actual: Negative'])"
   ]
  },
  {
   "cell_type": "code",
   "execution_count": 271,
   "id": "8b531bef-1611-43a8-9375-fa5a24656469",
   "metadata": {},
   "outputs": [
    {
     "data": {
      "image/png": "[encoded data removed]",
      "text/plain": [
       "<Figure size 720x504 with 2 Axes>"
      ]
     },
     "metadata": {
      "needs_background": "light"
     },
     "output_type": "display_data"
    }
   ],
   "source": [
    "fig = plt.figure(figsize = (10,7))\n",
    "sns.heatmap(cfm, annot=True)\n",
    "fig.savefig(\"Conf Mat AE P.png\")"
   ]
  },
  {
   "cell_type": "code",
   "execution_count": null,
   "id": "54c8fcb4-5626-4549-987f-bc3ad99aa351",
   "metadata": {},
   "outputs": [],
   "source": []
  }
 ],
 "metadata": {
  "kernelspec": {
   "display_name": "Python 3",
   "language": "python",
   "name": "python3"
  },
  "language_info": {
   "codemirror_mode": {
    "name": "ipython",
    "version": 3
   },
   "file_extension": ".py",
   "mimetype": "text/x-python",
   "name": "python",
   "nbconvert_exporter": "python",
   "pygments_lexer": "ipython3",
   "version": "3.8.5"
  }
 },
 "nbformat": 4,
 "nbformat_minor": 5
}
