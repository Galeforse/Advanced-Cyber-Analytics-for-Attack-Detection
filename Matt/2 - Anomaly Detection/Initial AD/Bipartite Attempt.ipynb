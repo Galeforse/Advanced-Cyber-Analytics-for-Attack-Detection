{
 "cells": [
  {
   "cell_type": "markdown",
   "id": "5a7a2cf1-25d7-4a6d-92d7-495e057cd695",
   "metadata": {},
   "source": [
    "# Bipartite Attempt at Anomaly Detection"
   ]
  },
  {
   "cell_type": "markdown",
   "id": "a4c729d1-cbb6-4d2f-afe6-adf8ebbd2d49",
   "metadata": {},
   "source": [
    "This is a basic implementation of the algorithm from [this paper](https://faculty.mccombs.utexas.edu/deepayan.chakrabarti/mywww/papers/icdm05.pdf) on toy data to gain an understanding of it."
   ]
  },
  {
   "cell_type": "code",
   "execution_count": 6,
   "id": "adcab7f0-adcd-4e4f-967d-0ece0193e19e",
   "metadata": {},
   "outputs": [],
   "source": [
    "import pandas as pd\n",
    "import numpy as np\n",
    "import scipy \n",
    "import matplotlib.pyplot as plt\n",
    "from sklearn.preprocessing import Normalizer"
   ]
  },
  {
   "cell_type": "code",
   "execution_count": 124,
   "id": "d9584224-74d2-4e27-b6c1-108133fb5683",
   "metadata": {},
   "outputs": [],
   "source": [
    "array = np.random.randint(2, size=(10,15))"
   ]
  },
  {
   "cell_type": "code",
   "execution_count": 130,
   "id": "cf6c03be-3a6e-44d4-94d3-d1db4f0ea5d0",
   "metadata": {},
   "outputs": [],
   "source": [
    "for i in range(array.shape[0]):\n",
    "    array[i] = [1]*15\n",
    "    \n",
    "array[0] = [0,0,0,0,0,0,1,0,0,0,0,0,0,0,0]"
   ]
  },
  {
   "cell_type": "code",
   "execution_count": 131,
   "id": "8136257b-1ed3-4d0a-ae55-19e0a763b045",
   "metadata": {},
   "outputs": [
    {
     "data": {
      "text/plain": [
       "[0.1712653932524548,\n",
       " 0.1712653932524548,\n",
       " 0.1712653932524548,\n",
       " 0.1712653932524548,\n",
       " 0.1712653932524548,\n",
       " 0.1712653932524548,\n",
       " 0.17076019599371497,\n",
       " 0.1712653932524548,\n",
       " 0.1712653932524548,\n",
       " 0.1712653932524548]"
      ]
     },
     "execution_count": 131,
     "metadata": {},
     "output_type": "execute_result"
    }
   ],
   "source": [
    "res_nodes = []\n",
    "\n",
    "for node in range(array.shape[0]):\n",
    "    c = 0.15\n",
    "    eps = 0.001\n",
    "    q_node = np.zeros(array.shape[0]+array.shape[1])\n",
    "    q_node[node] = 1\n",
    "    q_node = q_node.transpose()\n",
    "\n",
    "    u_a = np.array([1/(array.shape[0]+array.shape[1])]*(array.shape[0]+array.shape[1]))\n",
    "    u_a_prev = np.zeros(u_a.shape)\n",
    "\n",
    "    array_normed = array / array.sum(axis=0)\n",
    "    array_transpose_normed = array.transpose() / array.sum(axis=1)\n",
    "    while np.linalg.norm(u_a - u_a_prev) >= eps:\n",
    "        u_a_prev = u_a\n",
    "\n",
    "        a = np.dot(array_transpose_normed,u_a[:array.shape[0]])\n",
    "        b = np.dot(array_normed,u_a[array.shape[0]:array.shape[0]+array.shape[1]])\n",
    "\n",
    "        u_a = (1-c)*(np.concatenate([a,b]))+c*q_node\n",
    "\n",
    "    res_nodes.append(u_a[:array.shape[0]])\n",
    "\n",
    "res_nodes =pd.DataFrame(res_nodes)\n",
    "\n",
    "anom_scores = []\n",
    "\n",
    "for node in range(array.shape[0]):\n",
    "    S_t = np.where(array[:,node] == 1)\n",
    "    r_matrix = np.array(res_nodes.iloc[(S_t[0],S_t[0])])\n",
    "    anom_scores.append(np.mean(np.diagonal(r_matrix)))\n",
    "\n",
    "anom_scores"
   ]
  },
  {
   "cell_type": "code",
   "execution_count": null,
   "id": "1a03e46e-18d0-4eb5-ad6d-e12d94c3a4e3",
   "metadata": {},
   "outputs": [],
   "source": []
  }
 ],
 "metadata": {
  "kernelspec": {
   "display_name": "Python 3",
   "language": "python",
   "name": "python3"
  },
  "language_info": {
   "codemirror_mode": {
    "name": "ipython",
    "version": 3
   },
   "file_extension": ".py",
   "mimetype": "text/x-python",
   "name": "python",
   "nbconvert_exporter": "python",
   "pygments_lexer": "ipython3",
   "version": "3.8.5"
  }
 },
 "nbformat": 4,
 "nbformat_minor": 5
}
