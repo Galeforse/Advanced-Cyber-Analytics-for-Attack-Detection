{
 "cells": [
  {
   "cell_type": "markdown",
   "id": "9a30d921",
   "metadata": {},
   "source": [
    "# Process Data"
   ]
  },
  {
   "cell_type": "markdown",
   "id": "4ce95f88",
   "metadata": {},
   "source": [
    "The intention in this notebook is to look into the process data. We'll perform some EDA such as Data Cleaning, Seperation and Outlier Detection and then start running some anomaly detection models on the data."
   ]
  },
  {
   "cell_type": "code",
   "execution_count": 17,
   "id": "87c144f7",
   "metadata": {},
   "outputs": [],
   "source": [
    "import numpy as np\n",
    "import pandas as pd\n",
    "import matplotlib.pyplot as plt\n",
    "import matplotlib.patches as mpatches\n",
    "from matplotlib import cm\n",
    "import os\n",
    "import os.path\n",
    "import gzip\n",
    "import shutil\n",
    "import datetime\n",
    "import networkx as nx\n",
    "import pickle\n",
    "import pyclustering\n",
    "from scipy import stats\n",
    "import seaborn as sns\n",
    "import bz2\n",
    "import json\n",
    "import random\n",
    "random.seed(1134)\n",
    "\n",
    "from sklearn.preprocessing import StandardScaler\n",
    "from sklearn.ensemble import IsolationForest\n",
    "from sklearn.metrics import silhouette_score, silhouette_samples\n",
    "from sklearn.cluster import KMeans\n",
    "from sklearn.decomposition import PCA\n",
    "from sklearn.neighbors import LocalOutlierFactor\n",
    "\n",
    "from IPython.display import clear_output"
   ]
  },
  {
   "cell_type": "markdown",
   "id": "6c8d8a0d",
   "metadata": {},
   "source": [
    "### Data"
   ]
  },
  {
   "cell_type": "markdown",
   "id": "7c248b18",
   "metadata": {},
   "source": [
    "First we import our data. We import both process and authentication data incase the latter becomes useful down the line."
   ]
  },
  {
   "cell_type": "code",
   "execution_count": 3,
   "id": "bc1a53e3",
   "metadata": {},
   "outputs": [
    {
     "name": "stdout",
     "output_type": "stream",
     "text": [
      "Attempting to read entire data set.\n"
     ]
    },
    {
     "name": "stderr",
     "output_type": "stream",
     "text": [
      "C:\\Users\\corri\\anaconda3\\lib\\site-packages\\numpy\\lib\\arraysetops.py:580: FutureWarning: elementwise comparison failed; returning scalar instead, but in the future will perform elementwise comparison\n",
      "  mask |= (ar1 == a)\n"
     ]
    }
   ],
   "source": [
    "try:\n",
    "    print('Attempting to read entire data set.')\n",
    "    authentication_data = pd.read_csv('../../Data/Authentication data.gz', compression='gzip', index_col = 0)\n",
    "    process_data = pd.read_csv('../../Data/Process data.gz', compression='gzip', index_col = 0)\n",
    "except:\n",
    "    clear_output()\n",
    "    print('Unable to read entire data set, reading from original files.')\n",
    "    rootdir = 'C:/Users/corri/OneDrive/Documents/Uni/Postgraduate/Final Project/LANL/ATI Data/Summaries/wls'\n",
    "    unzippeddir = 'C:/Users/corri/OneDrive/Documents/Uni/Postgraduate/Final Project/LANL/ATI Data/Summaries/wls/Unzipped'\n",
    "    frames = []\n",
    "\n",
    "    count = 0\n",
    "\n",
    "    for subdir, dirs, files in os.walk(rootdir):\n",
    "        for file in files:\n",
    "            if file[-3:] == '.gz':\n",
    "                filedir = rootdir + '/' + file\n",
    "                with gzip.open(filedir) as f:\n",
    "                    df = pd.read_csv(filedir, header=None)\n",
    "                    frames.append(df)\n",
    "                if 'authentications' in str(file):\n",
    "                    count = count + len(df)\n",
    "\n",
    "    df = pd.concat(frames)\n",
    "\n",
    "    authentication_data = df[:count]\n",
    "    authentication_data.columns = ['UserName', 'SrcDevice','DstDevice', 'Authent Type', 'Failure', 'DailyCount']\n",
    "\n",
    "    process_data = df[count:]\n",
    "    process_data = process_data[[0,1,2,3,4]]\n",
    "    process_data.columns = ['UserName', 'Device', 'ProcessName', 'ParentProcessName', 'DailyCount']\n",
    "\n",
    "    authentication_data.to_csv('../Data/Authentication data.gz', header=True, compression='gzip')\n",
    "    process_data.to_csv('../Data/Process data.gz', header=True, compression='gzip')"
   ]
  },
  {
   "cell_type": "code",
   "execution_count": 4,
   "id": "c3e45e3b",
   "metadata": {},
   "outputs": [
    {
     "name": "stdout",
     "output_type": "stream",
     "text": [
      "The process data contains 55981618 rows with 5 features each. Thus we have 279908090 data points.\n"
     ]
    }
   ],
   "source": [
    "rows = process_data.shape[0]\n",
    "features = process_data.shape[1]\n",
    "dp = process_data.shape[0] * process_data.shape[1]\n",
    "\n",
    "print('The process data contains {} rows with {} features each. Thus we have {} data points.'.format(rows, features, dp))"
   ]
  },
  {
   "cell_type": "code",
   "execution_count": 5,
   "id": "dd1a1ed7",
   "metadata": {},
   "outputs": [
    {
     "data": {
      "text/html": [
       "<div>\n",
       "<style scoped>\n",
       "    .dataframe tbody tr th:only-of-type {\n",
       "        vertical-align: middle;\n",
       "    }\n",
       "\n",
       "    .dataframe tbody tr th {\n",
       "        vertical-align: top;\n",
       "    }\n",
       "\n",
       "    .dataframe thead th {\n",
       "        text-align: right;\n",
       "    }\n",
       "</style>\n",
       "<table border=\"1\" class=\"dataframe\">\n",
       "  <thead>\n",
       "    <tr style=\"text-align: right;\">\n",
       "      <th></th>\n",
       "      <th>UserName</th>\n",
       "      <th>Device</th>\n",
       "      <th>ProcessName</th>\n",
       "      <th>ParentProcessName</th>\n",
       "      <th>DailyCount</th>\n",
       "    </tr>\n",
       "  </thead>\n",
       "  <tbody>\n",
       "    <tr>\n",
       "      <th>0</th>\n",
       "      <td>Comp748297$</td>\n",
       "      <td>Comp748297</td>\n",
       "      <td>Proc391839.exe</td>\n",
       "      <td>Proc387473</td>\n",
       "      <td>1</td>\n",
       "    </tr>\n",
       "    <tr>\n",
       "      <th>1</th>\n",
       "      <td>Comp563664$</td>\n",
       "      <td>Comp563664</td>\n",
       "      <td>rundll32.exe</td>\n",
       "      <td>services</td>\n",
       "      <td>1</td>\n",
       "    </tr>\n",
       "    <tr>\n",
       "      <th>2</th>\n",
       "      <td>User607396</td>\n",
       "      <td>Comp609111</td>\n",
       "      <td>Proc417435.exe</td>\n",
       "      <td>Proc417435</td>\n",
       "      <td>1</td>\n",
       "    </tr>\n",
       "    <tr>\n",
       "      <th>3</th>\n",
       "      <td>Comp641702$</td>\n",
       "      <td>Comp641702</td>\n",
       "      <td>Proc249569.exe</td>\n",
       "      <td>services</td>\n",
       "      <td>1</td>\n",
       "    </tr>\n",
       "    <tr>\n",
       "      <th>4</th>\n",
       "      <td>Comp157389$</td>\n",
       "      <td>Comp157389</td>\n",
       "      <td>Proc402696.exe</td>\n",
       "      <td>services</td>\n",
       "      <td>1</td>\n",
       "    </tr>\n",
       "  </tbody>\n",
       "</table>\n",
       "</div>"
      ],
      "text/plain": [
       "      UserName      Device     ProcessName ParentProcessName  DailyCount\n",
       "0  Comp748297$  Comp748297  Proc391839.exe        Proc387473           1\n",
       "1  Comp563664$  Comp563664    rundll32.exe          services           1\n",
       "2   User607396  Comp609111  Proc417435.exe        Proc417435           1\n",
       "3  Comp641702$  Comp641702  Proc249569.exe          services           1\n",
       "4  Comp157389$  Comp157389  Proc402696.exe          services           1"
      ]
     },
     "execution_count": 5,
     "metadata": {},
     "output_type": "execute_result"
    }
   ],
   "source": [
    "process_data.head()"
   ]
  },
  {
   "cell_type": "markdown",
   "id": "eb9ce1b1",
   "metadata": {},
   "source": [
    "### EDA"
   ]
  },
  {
   "cell_type": "code",
   "execution_count": 6,
   "id": "4caeb633",
   "metadata": {},
   "outputs": [
    {
     "data": {
      "text/plain": [
       "UserName\n",
       "Scanner                 255383\n",
       "User272607               73934\n",
       "EnterpriseAppServer$     38552\n",
       "Administrator            29443\n",
       "User414014               18593\n",
       "                         ...  \n",
       "User711040                   1\n",
       "User296343                   1\n",
       "User464715                   1\n",
       "User126086                   1\n",
       "User252033                   1\n",
       "Length: 25320, dtype: int64"
      ]
     },
     "execution_count": 6,
     "metadata": {},
     "output_type": "execute_result"
    }
   ],
   "source": [
    "process_data.groupby('UserName').size().sort_values(ascending=False)"
   ]
  },
  {
   "cell_type": "code",
   "execution_count": 7,
   "id": "16f1c956",
   "metadata": {},
   "outputs": [
    {
     "data": {
      "text/plain": [
       "Device\n",
       "EnterpriseAppServer    451831\n",
       "Comp149394              28007\n",
       "Comp460411              26771\n",
       "Comp978490              25866\n",
       "Comp897269              24757\n",
       "                        ...  \n",
       "Comp576558                  9\n",
       "Comp530268                  8\n",
       "Comp733749                  3\n",
       "Comp772226                  2\n",
       "Comp212946                  1\n",
       "Length: 13476, dtype: int64"
      ]
     },
     "execution_count": 7,
     "metadata": {},
     "output_type": "execute_result"
    }
   ],
   "source": [
    "process_data.groupby('Device').size().sort_values(ascending=False)"
   ]
  },
  {
   "cell_type": "code",
   "execution_count": 8,
   "id": "84797506",
   "metadata": {},
   "outputs": [
    {
     "data": {
      "text/plain": [
       "ProcessName\n",
       "rundll32.exe      2325974\n",
       "cscript.exe       1687233\n",
       "Proc857443.exe    1644561\n",
       "Proc364675.exe    1499525\n",
       "conhost.exe       1231137\n",
       "                   ...   \n",
       "Proc542894.exe          1\n",
       "Proc543189.exe          1\n",
       "Proc543359.tmp          1\n",
       "Proc543374              1\n",
       "Proc000018.exe          1\n",
       "Length: 25373, dtype: int64"
      ]
     },
     "execution_count": 8,
     "metadata": {},
     "output_type": "execute_result"
    }
   ],
   "source": [
    "process_data.groupby('ProcessName').size().sort_values(ascending=False)"
   ]
  },
  {
   "cell_type": "code",
   "execution_count": 9,
   "id": "beacee24",
   "metadata": {},
   "outputs": [
    {
     "data": {
      "text/plain": [
       "ParentProcessName\n",
       "services      12633664\n",
       "svchost        5742175\n",
       "None           4343007\n",
       "Proc089893     3499148\n",
       "taskeng        2496930\n",
       "                ...   \n",
       "Proc452325           1\n",
       "Proc752276           1\n",
       "Proc109173           1\n",
       "Proc223040           1\n",
       "Proc014122           1\n",
       "Length: 12226, dtype: int64"
      ]
     },
     "execution_count": 9,
     "metadata": {},
     "output_type": "execute_result"
    }
   ],
   "source": [
    "process_data.groupby('ParentProcessName').size().sort_values(ascending=False)"
   ]
  },
  {
   "cell_type": "markdown",
   "id": "3845b1c8",
   "metadata": {},
   "source": [
    "We're going to find the index's to seperate out the days. Due to the way we created the large data set, we can search for the index 0 which tells us the start of every day."
   ]
  },
  {
   "cell_type": "code",
   "execution_count": 10,
   "id": "045a58d1",
   "metadata": {},
   "outputs": [],
   "source": [
    "index_list = process_data.index.tolist()\n",
    "proc_start_days = [i for i, e in enumerate(index_list) if e == 0]\n",
    "proc_start_days.append(len(process_data))\n",
    "\n",
    "auth_index_list = authentication_data.index.tolist()\n",
    "auth_start_days = [i for i, e in enumerate(auth_index_list) if e == 0]\n",
    "auth_start_days.append(len(authentication_data))"
   ]
  },
  {
   "cell_type": "markdown",
   "id": "53c775ec",
   "metadata": {},
   "source": [
    "Lets now seperate out day 1 and understand what we can do with the data."
   ]
  },
  {
   "cell_type": "code",
   "execution_count": 11,
   "id": "5ebc5a06",
   "metadata": {},
   "outputs": [
    {
     "data": {
      "text/html": [
       "<div>\n",
       "<style scoped>\n",
       "    .dataframe tbody tr th:only-of-type {\n",
       "        vertical-align: middle;\n",
       "    }\n",
       "\n",
       "    .dataframe tbody tr th {\n",
       "        vertical-align: top;\n",
       "    }\n",
       "\n",
       "    .dataframe thead th {\n",
       "        text-align: right;\n",
       "    }\n",
       "</style>\n",
       "<table border=\"1\" class=\"dataframe\">\n",
       "  <thead>\n",
       "    <tr style=\"text-align: right;\">\n",
       "      <th></th>\n",
       "      <th>UserName</th>\n",
       "      <th>Device</th>\n",
       "      <th>ProcessName</th>\n",
       "      <th>ParentProcessName</th>\n",
       "      <th>DailyCount</th>\n",
       "    </tr>\n",
       "  </thead>\n",
       "  <tbody>\n",
       "    <tr>\n",
       "      <th>0</th>\n",
       "      <td>Comp748297$</td>\n",
       "      <td>Comp748297</td>\n",
       "      <td>Proc391839.exe</td>\n",
       "      <td>Proc387473</td>\n",
       "      <td>1</td>\n",
       "    </tr>\n",
       "    <tr>\n",
       "      <th>1</th>\n",
       "      <td>Comp563664$</td>\n",
       "      <td>Comp563664</td>\n",
       "      <td>rundll32.exe</td>\n",
       "      <td>services</td>\n",
       "      <td>1</td>\n",
       "    </tr>\n",
       "    <tr>\n",
       "      <th>2</th>\n",
       "      <td>User607396</td>\n",
       "      <td>Comp609111</td>\n",
       "      <td>Proc417435.exe</td>\n",
       "      <td>Proc417435</td>\n",
       "      <td>1</td>\n",
       "    </tr>\n",
       "    <tr>\n",
       "      <th>3</th>\n",
       "      <td>Comp641702$</td>\n",
       "      <td>Comp641702</td>\n",
       "      <td>Proc249569.exe</td>\n",
       "      <td>services</td>\n",
       "      <td>1</td>\n",
       "    </tr>\n",
       "    <tr>\n",
       "      <th>4</th>\n",
       "      <td>Comp157389$</td>\n",
       "      <td>Comp157389</td>\n",
       "      <td>Proc402696.exe</td>\n",
       "      <td>services</td>\n",
       "      <td>1</td>\n",
       "    </tr>\n",
       "    <tr>\n",
       "      <th>...</th>\n",
       "      <td>...</td>\n",
       "      <td>...</td>\n",
       "      <td>...</td>\n",
       "      <td>...</td>\n",
       "      <td>...</td>\n",
       "    </tr>\n",
       "    <tr>\n",
       "      <th>605208</th>\n",
       "      <td>Comp267622$</td>\n",
       "      <td>Comp267622</td>\n",
       "      <td>svchost.exe</td>\n",
       "      <td>services</td>\n",
       "      <td>2</td>\n",
       "    </tr>\n",
       "    <tr>\n",
       "      <th>605209</th>\n",
       "      <td>User633443</td>\n",
       "      <td>Comp490773</td>\n",
       "      <td>Proc744059.exe</td>\n",
       "      <td>Proc510632</td>\n",
       "      <td>2</td>\n",
       "    </tr>\n",
       "    <tr>\n",
       "      <th>605210</th>\n",
       "      <td>User860048</td>\n",
       "      <td>Comp925644</td>\n",
       "      <td>Proc946021.exe</td>\n",
       "      <td>Proc442764</td>\n",
       "      <td>1</td>\n",
       "    </tr>\n",
       "    <tr>\n",
       "      <th>605211</th>\n",
       "      <td>User861156</td>\n",
       "      <td>Comp358133</td>\n",
       "      <td>Proc942581.exe</td>\n",
       "      <td>cmd</td>\n",
       "      <td>2</td>\n",
       "    </tr>\n",
       "    <tr>\n",
       "      <th>605212</th>\n",
       "      <td>Comp291230$</td>\n",
       "      <td>Comp291230</td>\n",
       "      <td>Proc428424.exe</td>\n",
       "      <td>Proc318985</td>\n",
       "      <td>3</td>\n",
       "    </tr>\n",
       "  </tbody>\n",
       "</table>\n",
       "<p>605213 rows × 5 columns</p>\n",
       "</div>"
      ],
      "text/plain": [
       "           UserName      Device     ProcessName ParentProcessName  DailyCount\n",
       "0       Comp748297$  Comp748297  Proc391839.exe        Proc387473           1\n",
       "1       Comp563664$  Comp563664    rundll32.exe          services           1\n",
       "2        User607396  Comp609111  Proc417435.exe        Proc417435           1\n",
       "3       Comp641702$  Comp641702  Proc249569.exe          services           1\n",
       "4       Comp157389$  Comp157389  Proc402696.exe          services           1\n",
       "...             ...         ...             ...               ...         ...\n",
       "605208  Comp267622$  Comp267622     svchost.exe          services           2\n",
       "605209   User633443  Comp490773  Proc744059.exe        Proc510632           2\n",
       "605210   User860048  Comp925644  Proc946021.exe        Proc442764           1\n",
       "605211   User861156  Comp358133  Proc942581.exe               cmd           2\n",
       "605212  Comp291230$  Comp291230  Proc428424.exe        Proc318985           3\n",
       "\n",
       "[605213 rows x 5 columns]"
      ]
     },
     "execution_count": 11,
     "metadata": {},
     "output_type": "execute_result"
    }
   ],
   "source": [
    "process_day_1 = process_data[proc_start_days[0]:proc_start_days[1]]\n",
    "process_day_1"
   ]
  },
  {
   "cell_type": "markdown",
   "id": "d1e624e7",
   "metadata": {},
   "source": [
    "#### Isolation Through Red Team User Names List"
   ]
  },
  {
   "cell_type": "code",
   "execution_count": 14,
   "id": "f0584882",
   "metadata": {},
   "outputs": [],
   "source": [
    "rt_users = list(pd.read_csv('../../Data/ProcessUserNames.txt', header=None)[0])"
   ]
  },
  {
   "cell_type": "code",
   "execution_count": 15,
   "id": "897032e6",
   "metadata": {},
   "outputs": [
    {
     "name": "stdout",
     "output_type": "stream",
     "text": [
      "Red team events represent 0.4111867577675229% of the data.\n"
     ]
    }
   ],
   "source": [
    "rt_process = process_data[process_data['UserName'].isin(rt_users)]\n",
    "print('Red team events represent {}% of the data.'.format(100*rt_process.shape[0]/process_data.shape[0]))"
   ]
  },
  {
   "cell_type": "markdown",
   "id": "b25da701",
   "metadata": {},
   "source": [
    "#### Daily Analysis"
   ]
  },
  {
   "cell_type": "code",
   "execution_count": 96,
   "id": "6ba9785d",
   "metadata": {},
   "outputs": [
    {
     "data": {
      "image/png": "[encoded data removed]",
      "text/plain": [
       "<Figure size 1440x576 with 1 Axes>"
      ]
     },
     "metadata": {},
     "output_type": "display_data"
    },
    {
     "data": {
      "image/png": "[encoded data removed]",
      "text/plain": [
       "<Figure size 1440x576 with 1 Axes>"
      ]
     },
     "metadata": {},
     "output_type": "display_data"
    }
   ],
   "source": [
    "daily_process_counts = []\n",
    "daily_auth_counts = []\n",
    "proc_col = []\n",
    "auth_col = []\n",
    "day = []\n",
    "\n",
    "for i in range(len(proc_start_days)-1):\n",
    "    process_day = process_data[proc_start_days[i]:proc_start_days[i+1]]\n",
    "    cnt = process_day.shape[0]\n",
    "    daily_process_counts.append(cnt)\n",
    "    \n",
    "for i in range(len(auth_start_days)-1):\n",
    "    auth_day = authentication_data[auth_start_days[i]:auth_start_days[i+1]]\n",
    "    auth_cnt = auth_day.shape[0]\n",
    "    daily_auth_counts.append(auth_cnt)\n",
    "\n",
    "daily_process_counts = np.array(daily_process_counts)/100_000\n",
    "\n",
    "daily_auth_counts = np.array(daily_auth_counts)/10_000\n",
    "\n",
    "day_dict = {0:'Monday',1:'Tuesday',2:'Wednesday',3:'Thursday',4:'Friday',5:'Saturday',6:'Sunday'}\n",
    "\n",
    "for j,val in enumerate(daily_process_counts):\n",
    "    if val < 3.5:\n",
    "        proc_col.append('green')\n",
    "    elif val >= 8:\n",
    "        proc_col.append('red')\n",
    "    else:\n",
    "        proc_col.append('navajowhite')\n",
    "        \n",
    "    day.append(day_dict[j%7] + str(int(j/7)+1))\n",
    "    \n",
    "for j,val in enumerate(daily_auth_counts):\n",
    "    if val < 10:\n",
    "        auth_col.append('green')\n",
    "    elif val >= 23:\n",
    "        auth_col.append('red')\n",
    "    else:\n",
    "        auth_col.append('navajowhite')\n",
    "\n",
    "    \n",
    "fig = plt.figure(figsize=(20,8))\n",
    "plt.bar(day,daily_process_counts, color=proc_col)\n",
    "plt.ylabel('100,000 events')\n",
    "plt.xlabel('Day')\n",
    "plt.xticks(rotation=90)\n",
    "plt.title('Number of process events in a day')\n",
    "fig.set_facecolor('w')\n",
    "red_patch = mpatches.Patch(color='red', label='< 350,000 events')\n",
    "yellow_patch = mpatches.Patch(color='navajowhite', label='350,000 - 800,000 events ')\n",
    "green_patch = mpatches.Patch(color='green', label='> 800,000 events')\n",
    "plt.legend(handles=[green_patch, yellow_patch, red_patch],loc='upper left')\n",
    "plt.axvline(55.5,color='k',linestyle='--')\n",
    "plt.axvline(82.5,color='k',linestyle='--')\n",
    "plt.savefig('Daily Processes.png')\n",
    "\n",
    "fig = plt.figure(figsize=(20,8))\n",
    "plt.bar(day,daily_auth_counts, color=auth_col)\n",
    "plt.ylabel('100,000 events')\n",
    "plt.xlabel('Day')\n",
    "plt.xticks(rotation=90)\n",
    "plt.title('Number of authentication events in a day')\n",
    "fig.set_facecolor('w')\n",
    "red_patch = mpatches.Patch(color='red', label='< 100,000 events')\n",
    "yellow_patch = mpatches.Patch(color='navajowhite', label='100,000 - 230,000 events ')\n",
    "green_patch = mpatches.Patch(color='green', label='> 230,000 events')\n",
    "plt.legend(handles=[green_patch, yellow_patch, red_patch],loc='upper left')\n",
    "plt.axvline(55.5,color='k',linestyle='--')\n",
    "plt.axvline(82.5,color='k',linestyle='--')\n",
    "plt.savefig('Daily Authentications.png')\n",
    "plt.show()\n",
    "\n",
    "np.savetxt(\"DailyProcessCounts.csv\", daily_process_counts, delimiter=\",\")"
   ]
  },
  {
   "cell_type": "markdown",
   "id": "4e5b35df",
   "metadata": {},
   "source": [
    "- The analysis is based on arbitrarily chosen thresholds and may change depending on how this is chosen. However, e see times of 'normal' during the week and 'low' during the weekend mostly with good regularity. There is a lot of periodicity in the counts here. We find some anomalous periods:\n",
    "    - Week 3: Monday has a low amount of processes, and similarly in the authentication data, we see a low amount of authentications. This we are assuming is due to a day off such as a holiday.\n",
    "    - Spikes often occur on Monday/Tuesday of each week, probably due to more work being done in this time."
   ]
  },
  {
   "cell_type": "markdown",
   "id": "e336500e",
   "metadata": {},
   "source": [
    "We'll assess whether the working week schedule identified in the time off LANL period is shown in this data. We want to see whether there is a difference between every other Friday's values. We use Welch's test and the Kolmogorov Smirnov test to test whether the weeks are different."
   ]
  },
  {
   "cell_type": "code",
   "execution_count": 19,
   "id": "d871fd0c",
   "metadata": {},
   "outputs": [
    {
     "name": "stdout",
     "output_type": "stream",
     "text": [
      "We obtain a p-value for this test of: 0.0036332174085944593. Therefore we reject the null and state that there is a difference when using Welch's Test.\n",
      "We obtain a p-value for this test of: 0.009257758105665117. Therefore we reject the null and state that there is a difference when using the K-S Test.\n"
     ]
    }
   ],
   "source": [
    "fri_process = daily_process_counts[4::7]\n",
    "w1_fri_process = fri_process[::2]\n",
    "w2_fri_process = fri_process[1::2]\n",
    "\n",
    "fri_auth = daily_auth_counts[4::7]\n",
    "w1_fri_auth = fri_auth[::2]\n",
    "w2_fri_auth = fri_auth[1::2]\n",
    "\n",
    "proc_p_value_w = stats.ttest_ind(w1_fri_process,w2_fri_process)[1]\n",
    "auth_p_value_w = stats.ttest_ind(w1_fri_auth,w2_fri_auth)[1]\n",
    "comb_w = stats.combine_pvalues([proc_p_value_w,auth_p_value_w])[1]\n",
    "\n",
    "proc_p_value_k = stats.kstest(w1_fri_process,w2_fri_process)[1]\n",
    "auth_p_value_k = stats.kstest(w1_fri_auth,w2_fri_auth)[1]\n",
    "comb_k = stats.combine_pvalues([proc_p_value_k,auth_p_value_k])[1]\n",
    "\n",
    "print(\"We obtain a p-value for this test of: {}. Therefore we reject the null and state that there is a difference when using Welch's Test.\".format(comb_w))\n",
    "print(\"We obtain a p-value for this test of: {}. Therefore we reject the null and state that there is a difference when using the K-S Test.\".format(comb_k))"
   ]
  },
  {
   "cell_type": "markdown",
   "id": "92ef99e8",
   "metadata": {},
   "source": [
    "From the naked eye it looks like we have no real difference between the two weeks however both Welch's test and the Kolmogorov Smirnov test reject the hypothesis that the distributions of the data are the same. Thus we have a difference between the two weeks and from this data, employees at LANL do often work the 9 day split and have every other Friday off. This is something we will need to account for in our anomaly analysis."
   ]
  },
  {
   "cell_type": "markdown",
   "id": "f1cb3a4a-316c-484d-89f7-e88bdf166b9d",
   "metadata": {},
   "source": [
    "We also look at the number of devices per usernames and the distribution of this."
   ]
  },
  {
   "cell_type": "code",
   "execution_count": 48,
   "id": "28599e22-0327-4299-9895-3d4584384241",
   "metadata": {},
   "outputs": [],
   "source": [
    "group = authentication_data.groupby('UserName')\n",
    "df2 = pd.DataFrame(group.apply(lambda x: x['SrcDevice'].unique()))\n",
    "dis_num_src = list(df2[0].str.len())"
   ]
  },
  {
   "cell_type": "code",
   "execution_count": 246,
   "id": "c3a8d9bb-4e7c-4f92-bc41-0f5b5b737183",
   "metadata": {},
   "outputs": [
    {
     "data": {
      "text/plain": [
       "array(['Comp946166', 'Comp601372', 'Comp897087', 'Comp215429',\n",
       "       'Comp591296'], dtype=object)"
      ]
     },
     "execution_count": 246,
     "metadata": {},
     "output_type": "execute_result"
    }
   ],
   "source": [
    "df2[0][list(df2[0].index).index('User272607')]"
   ]
  },
  {
   "cell_type": "code",
   "execution_count": 248,
   "id": "8549aee8-2043-4053-aa39-02d210422c0c",
   "metadata": {},
   "outputs": [
    {
     "data": {
      "text/plain": [
       "Authent Type\n",
       "NetworkLogon    15767\n",
       "dtype: int64"
      ]
     },
     "execution_count": 248,
     "metadata": {},
     "output_type": "execute_result"
    }
   ],
   "source": [
    "authentication_data[authentication_data['UserName'] == 'User272607'].groupby('Authent Type').size()"
   ]
  },
  {
   "cell_type": "markdown",
   "id": "8bed9499-4bb3-4c5b-839f-da068a800c8c",
   "metadata": {},
   "source": [
    "Thus User272607 is not an outlier when it comes to source devices however the specificity of only network logons being their only authentication type is weird."
   ]
  },
  {
   "cell_type": "code",
   "execution_count": 249,
   "id": "82ca8862-5749-4192-b992-b433c8cb4b6a",
   "metadata": {},
   "outputs": [
    {
     "data": {
      "text/plain": [
       "array(['Comp215429'], dtype=object)"
      ]
     },
     "execution_count": 249,
     "metadata": {},
     "output_type": "execute_result"
    }
   ],
   "source": [
    "df2[0][list(df2[0].index).index('User804758')]"
   ]
  },
  {
   "cell_type": "code",
   "execution_count": 260,
   "id": "3f9b33ec-3f19-49bc-98d0-e76a6b73144f",
   "metadata": {},
   "outputs": [
    {
     "data": {
      "text/plain": [
       "Authent Type\n",
       "NetworkLogon    3068\n",
       "dtype: int64"
      ]
     },
     "execution_count": 260,
     "metadata": {},
     "output_type": "execute_result"
    }
   ],
   "source": [
    "authentication_data[authentication_data['UserName'] == 'User804758'].groupby('Authent Type').size()"
   ]
  },
  {
   "cell_type": "code",
   "execution_count": 82,
   "id": "36f1d069-e6c9-4642-a799-3d6f66a0c8f8",
   "metadata": {},
   "outputs": [
    {
     "data": {
      "text/plain": [
       "0.5571750824223495"
      ]
     },
     "execution_count": 82,
     "metadata": {},
     "output_type": "execute_result"
    }
   ],
   "source": [
    "len([i for i in dis_num_src if i == 1])/len(authentication_data.groupby('UserName'))"
   ]
  },
  {
   "cell_type": "code",
   "execution_count": 90,
   "id": "f7a369c8-5bf1-41e2-9e31-69ccebbfda19",
   "metadata": {},
   "outputs": [
    {
     "data": {
      "image/png": "[encoded data removed]",
      "text/plain": [
       "<Figure size 576x576 with 2 Axes>"
      ]
     },
     "metadata": {
      "needs_background": "light"
     },
     "output_type": "display_data"
    }
   ],
   "source": [
    "fig,ax =plt.subplots(2,1,figsize=(8,8))\n",
    "\n",
    "N, bins, patches = ax[0].hist(dis_num_src,bins=200)\n",
    "ax[0].set_title('The distribution of the number of source devices per username')\n",
    "ax[0].set_xlabel('Number of source devices')\n",
    "ax[0].set_ylabel('Count (log)')\n",
    "ax[0].set_yscale('log')\n",
    "ax[0].annotate('Username: \"Anonymous\"',\n",
    "            xy=(12000, 1), xycoords='data',\n",
    "            xytext=(-15, 25), textcoords='offset points',\n",
    "            arrowprops=dict(facecolor='black', shrink=0.05),\n",
    "            horizontalalignment='right', verticalalignment='bottom')\n",
    "patches[0].set_facecolor('r')\n",
    "\n",
    "N, bins, patches = ax[1].hist([i for i in dis_num_src if i < 1500],bins=200)\n",
    "ax[1].set_title('The distribution of the number of source devices per username (excluding \"anonymous\" username)')\n",
    "ax[1].set_xlabel('Number of source devices')\n",
    "ax[1].set_ylabel('Count (log)')\n",
    "ax[1].set_yscale('log')\n",
    "ax[1].annotate('Username: \"Administrator\"',\n",
    "            xy=(1340, 1), xycoords='data',\n",
    "            xytext=(-15, 25), textcoords='offset points',\n",
    "            arrowprops=dict(facecolor='black', shrink=0.05),\n",
    "            horizontalalignment='right', verticalalignment='bottom')\n",
    "patches[0].set_facecolor('r')\n",
    "plt.tight_layout()\n",
    "plt.show()\n",
    "fig.savefig('Distribution of # of src devices.png')"
   ]
  },
  {
   "cell_type": "markdown",
   "id": "3bdd709d-8a9e-4438-9319-ec633aef08b0",
   "metadata": {},
   "source": [
    "We perform this analysis for destination devices too."
   ]
  },
  {
   "cell_type": "code",
   "execution_count": 226,
   "id": "922fdfcb-b1fd-433c-ba6c-1d08e4d72fc6",
   "metadata": {},
   "outputs": [],
   "source": [
    "group_2 = authentication_data.groupby('UserName')\n",
    "df3 = pd.DataFrame(group_2.apply(lambda x: x['DstDevice'].unique()))\n",
    "dis_num_dst = list(df3[0].str.len())"
   ]
  },
  {
   "cell_type": "code",
   "execution_count": 158,
   "id": "6e5ba943-5575-4194-9941-64418fd4161b",
   "metadata": {},
   "outputs": [
    {
     "data": {
      "text/plain": [
       "[(2, 12987), (14072, 10059), (18135, 9358), (25841, 3066)]"
      ]
     },
     "execution_count": 158,
     "metadata": {},
     "output_type": "execute_result"
    }
   ],
   "source": [
    "[(i,len(df3[0][i])) for i in range(len(df3[0])) if len(df3[0][i]) >= 3000]"
   ]
  },
  {
   "cell_type": "code",
   "execution_count": 159,
   "id": "455abe08-2c5a-4d78-b578-0cce27cd91a8",
   "metadata": {},
   "outputs": [
    {
     "name": "stdout",
     "output_type": "stream",
     "text": [
      "Anonymous\n",
      "Scanner\n",
      "User272607\n",
      "User804758\n"
     ]
    }
   ],
   "source": [
    "print(sorted(authentication_data['UserName'].unique())[2], )\n",
    "print(sorted(authentication_data['UserName'].unique())[14072])\n",
    "print(sorted(authentication_data['UserName'].unique())[18135])\n",
    "print(sorted(authentication_data['UserName'].unique())[25841])"
   ]
  },
  {
   "cell_type": "code",
   "execution_count": 206,
   "id": "52df7e17-23f0-43af-90e7-ce8e08e1ad1a",
   "metadata": {},
   "outputs": [
    {
     "data": {
      "image/png": "[encoded data removed]",
      "text/plain": [
       "<Figure size 576x576 with 2 Axes>"
      ]
     },
     "metadata": {
      "needs_background": "light"
     },
     "output_type": "display_data"
    }
   ],
   "source": [
    "fig,ax =plt.subplots(2,1,figsize=(8,8))\n",
    "\n",
    "N, bins, patches = ax[0].hist(dis_num_dst,bins=200)\n",
    "ax[0].set_title('The distribution of the number of destination devices per username')\n",
    "ax[0].set_xlabel('Number of destination devices')\n",
    "ax[0].set_ylabel('Count')\n",
    "ax[0].set_yscale('log')\n",
    "ax[0].annotate('Username: \"Anonymous\"',\n",
    "             xy=(12900, 1), xycoords='data',\n",
    "             xytext=(15, 25), textcoords='offset points',\n",
    "             arrowprops=dict(facecolor='black', shrink=1, width=0.2,headwidth=6,headlength=6),\n",
    "             horizontalalignment='right', verticalalignment='bottom',fontsize=7)\n",
    "ax[0].annotate('Username: \"Scanner\"',\n",
    "             xy=(10000, 1), xycoords='data',\n",
    "             xytext=(-15, 100), textcoords='offset points',\n",
    "             arrowprops=dict(facecolor='black', shrink=1, width=0.2,headwidth=6,headlength=6),\n",
    "             horizontalalignment='right', verticalalignment='bottom',fontsize=7)\n",
    "ax[0].annotate('Username: \"User272607\"',\n",
    "             xy=(9300, 1), xycoords='data',\n",
    "             xytext=(-15, 25), textcoords='offset points',\n",
    "             arrowprops=dict(facecolor='black', shrink=1, width=0.2,headwidth=6,headlength=6),\n",
    "             horizontalalignment='right', verticalalignment='bottom',fontsize=7)\n",
    "ax[0].annotate('Username: \"User804758\"',\n",
    "             xy=(3100, 1.2), xycoords='data',\n",
    "             xytext=(15, 25), textcoords='offset points',\n",
    "             arrowprops=dict(facecolor='black', shrink=1, width=0.2,headwidth=6,headlength=6),\n",
    "             horizontalalignment='right', verticalalignment='bottom',fontsize=7)\n",
    "\n",
    "N, bins, patches = ax[1].hist([i for i in dis_num_dst if i < 3000],bins=200)\n",
    "ax[1].set_title('The distribution of the number of source devices per username (excluding usernames identified)')\n",
    "ax[1].set_xlabel('Number of source devices')\n",
    "ax[1].set_ylabel('Count (log)')\n",
    "ax[1].set_yscale('log')\n",
    "ax[1].annotate('~8 Destination Devices',\n",
    "             xy=(20, 10**4), xycoords='data',\n",
    "             xytext=(20, -5), textcoords='offset points',\n",
    "             arrowprops=dict(facecolor='black', shrink=1, width=0.2,headwidth=6,headlength=6),\n",
    "             horizontalalignment='left', verticalalignment='bottom',fontsize=7)\n",
    "patches[2].set_facecolor('r')\n",
    "plt.tight_layout()\n",
    "plt.show()\n",
    "fig.savefig('Distribution of # of dst devices.png')"
   ]
  },
  {
   "cell_type": "code",
   "execution_count": 219,
   "id": "186bf7ed-265b-4465-807d-91ad185b7a39",
   "metadata": {},
   "outputs": [
    {
     "data": {
      "text/plain": [
       "28.47782308045397"
      ]
     },
     "execution_count": 219,
     "metadata": {},
     "output_type": "execute_result"
    }
   ],
   "source": [
    "(len(authentication_data[authentication_data['UserName'] == 'User272607'])/len(authentication_data))*100/ (100/28815)"
   ]
  },
  {
   "cell_type": "code",
   "execution_count": 225,
   "id": "ecf467c8-e241-4a39-bc06-145bac780ca0",
   "metadata": {},
   "outputs": [
    {
     "data": {
      "text/plain": [
       "False"
      ]
     },
     "execution_count": 225,
     "metadata": {},
     "output_type": "execute_result"
    }
   ],
   "source": [
    "'User272607' in rt_users"
   ]
  },
  {
   "cell_type": "code",
   "execution_count": 254,
   "id": "f57cf9e5-c95d-4530-8900-f3fc0a1b19d3",
   "metadata": {},
   "outputs": [
    {
     "data": {
      "text/plain": [
       "(5.541318019333596, 3068)"
      ]
     },
     "execution_count": 254,
     "metadata": {},
     "output_type": "execute_result"
    }
   ],
   "source": [
    "(len(authentication_data[authentication_data['UserName'] == 'User804758'])/len(authentication_data))*100/ (100/28815),(len(authentication_data[authentication_data['UserName'] == 'User804758']))"
   ]
  },
  {
   "cell_type": "code",
   "execution_count": 252,
   "id": "739a78d1-2681-43b0-8d98-8063a566f1a0",
   "metadata": {},
   "outputs": [
    {
     "data": {
      "text/html": [
       "<div>\n",
       "<style scoped>\n",
       "    .dataframe tbody tr th:only-of-type {\n",
       "        vertical-align: middle;\n",
       "    }\n",
       "\n",
       "    .dataframe tbody tr th {\n",
       "        vertical-align: top;\n",
       "    }\n",
       "\n",
       "    .dataframe thead th {\n",
       "        text-align: right;\n",
       "    }\n",
       "</style>\n",
       "<table border=\"1\" class=\"dataframe\">\n",
       "  <thead>\n",
       "    <tr style=\"text-align: right;\">\n",
       "      <th></th>\n",
       "      <th>0</th>\n",
       "    </tr>\n",
       "  </thead>\n",
       "  <tbody>\n",
       "    <tr>\n",
       "      <th>count</th>\n",
       "      <td>28815.000000</td>\n",
       "    </tr>\n",
       "    <tr>\n",
       "      <th>mean</th>\n",
       "      <td>553.658893</td>\n",
       "    </tr>\n",
       "    <tr>\n",
       "      <th>std</th>\n",
       "      <td>3049.417149</td>\n",
       "    </tr>\n",
       "    <tr>\n",
       "      <th>min</th>\n",
       "      <td>1.000000</td>\n",
       "    </tr>\n",
       "    <tr>\n",
       "      <th>25%</th>\n",
       "      <td>119.000000</td>\n",
       "    </tr>\n",
       "    <tr>\n",
       "      <th>50%</th>\n",
       "      <td>403.000000</td>\n",
       "    </tr>\n",
       "    <tr>\n",
       "      <th>75%</th>\n",
       "      <td>735.000000</td>\n",
       "    </tr>\n",
       "    <tr>\n",
       "      <th>max</th>\n",
       "      <td>472595.000000</td>\n",
       "    </tr>\n",
       "  </tbody>\n",
       "</table>\n",
       "</div>"
      ],
      "text/plain": [
       "                   0\n",
       "count   28815.000000\n",
       "mean      553.658893\n",
       "std      3049.417149\n",
       "min         1.000000\n",
       "25%       119.000000\n",
       "50%       403.000000\n",
       "75%       735.000000\n",
       "max    472595.000000"
      ]
     },
     "execution_count": 252,
     "metadata": {},
     "output_type": "execute_result"
    }
   ],
   "source": [
    "pd.DataFrame(authentication_data.groupby('UserName').size()).describe()"
   ]
  },
  {
   "cell_type": "code",
   "execution_count": 259,
   "id": "183830e9-8d9b-4f08-bc42-7cf20006f05b",
   "metadata": {},
   "outputs": [
    {
     "data": {
      "text/plain": [
       "0    2658.16\n",
       "Name: 0.995, dtype: float64"
      ]
     },
     "execution_count": 259,
     "metadata": {},
     "output_type": "execute_result"
    }
   ],
   "source": [
    "pd.DataFrame(authentication_data.groupby('UserName').size()).quantile(0.995)"
   ]
  },
  {
   "cell_type": "markdown",
   "id": "53cd5a0e",
   "metadata": {},
   "source": [
    "### Graph Analysis"
   ]
  },
  {
   "cell_type": "code",
   "execution_count": 97,
   "id": "1f215a4c",
   "metadata": {},
   "outputs": [],
   "source": [
    "process_G = nx.from_pandas_edgelist(process_data,source=\"Device\",target=\"UserName\")"
   ]
  },
  {
   "cell_type": "markdown",
   "id": "f5563ded",
   "metadata": {},
   "source": [
    "#### Degrees"
   ]
  },
  {
   "cell_type": "code",
   "execution_count": 98,
   "id": "acc8f6f7",
   "metadata": {},
   "outputs": [
    {
     "data": {
      "text/html": [
       "<div>\n",
       "<style scoped>\n",
       "    .dataframe tbody tr th:only-of-type {\n",
       "        vertical-align: middle;\n",
       "    }\n",
       "\n",
       "    .dataframe tbody tr th {\n",
       "        vertical-align: top;\n",
       "    }\n",
       "\n",
       "    .dataframe thead th {\n",
       "        text-align: right;\n",
       "    }\n",
       "</style>\n",
       "<table border=\"1\" class=\"dataframe\">\n",
       "  <thead>\n",
       "    <tr style=\"text-align: right;\">\n",
       "      <th></th>\n",
       "      <th>Device</th>\n",
       "      <th>Degree</th>\n",
       "    </tr>\n",
       "  </thead>\n",
       "  <tbody>\n",
       "    <tr>\n",
       "      <th>29581</th>\n",
       "      <td>User272607</td>\n",
       "      <td>8946</td>\n",
       "    </tr>\n",
       "    <tr>\n",
       "      <th>848</th>\n",
       "      <td>EnterpriseAppServer</td>\n",
       "      <td>2752</td>\n",
       "    </tr>\n",
       "    <tr>\n",
       "      <th>240</th>\n",
       "      <td>Scanner</td>\n",
       "      <td>2355</td>\n",
       "    </tr>\n",
       "    <tr>\n",
       "      <th>4928</th>\n",
       "      <td>Comp291378</td>\n",
       "      <td>527</td>\n",
       "    </tr>\n",
       "    <tr>\n",
       "      <th>2990</th>\n",
       "      <td>Administrator</td>\n",
       "      <td>437</td>\n",
       "    </tr>\n",
       "    <tr>\n",
       "      <th>...</th>\n",
       "      <td>...</td>\n",
       "      <td>...</td>\n",
       "    </tr>\n",
       "    <tr>\n",
       "      <th>11928</th>\n",
       "      <td>Comp461730$</td>\n",
       "      <td>1</td>\n",
       "    </tr>\n",
       "    <tr>\n",
       "      <th>11931</th>\n",
       "      <td>Comp951154$</td>\n",
       "      <td>1</td>\n",
       "    </tr>\n",
       "    <tr>\n",
       "      <th>11933</th>\n",
       "      <td>Comp375354$</td>\n",
       "      <td>1</td>\n",
       "    </tr>\n",
       "    <tr>\n",
       "      <th>11935</th>\n",
       "      <td>Comp272704$</td>\n",
       "      <td>1</td>\n",
       "    </tr>\n",
       "    <tr>\n",
       "      <th>38795</th>\n",
       "      <td>User609706</td>\n",
       "      <td>1</td>\n",
       "    </tr>\n",
       "  </tbody>\n",
       "</table>\n",
       "<p>38796 rows × 2 columns</p>\n",
       "</div>"
      ],
      "text/plain": [
       "                    Device  Degree\n",
       "29581           User272607    8946\n",
       "848    EnterpriseAppServer    2752\n",
       "240                Scanner    2355\n",
       "4928            Comp291378     527\n",
       "2990         Administrator     437\n",
       "...                    ...     ...\n",
       "11928          Comp461730$       1\n",
       "11931          Comp951154$       1\n",
       "11933          Comp375354$       1\n",
       "11935          Comp272704$       1\n",
       "38795           User609706       1\n",
       "\n",
       "[38796 rows x 2 columns]"
      ]
     },
     "execution_count": 98,
     "metadata": {},
     "output_type": "execute_result"
    }
   ],
   "source": [
    "degrees = pd.DataFrame([(n,d) for n,d in process_G.degree()])\n",
    "degrees.columns = ['Device', 'Degree']\n",
    "degrees = degrees.sort_values(by='Degree',axis=0,ascending=False)\n",
    "degrees"
   ]
  },
  {
   "cell_type": "code",
   "execution_count": 99,
   "id": "624417ff",
   "metadata": {},
   "outputs": [
    {
     "data": {
      "text/html": [
       "<div>\n",
       "<style scoped>\n",
       "    .dataframe tbody tr th:only-of-type {\n",
       "        vertical-align: middle;\n",
       "    }\n",
       "\n",
       "    .dataframe tbody tr th {\n",
       "        vertical-align: top;\n",
       "    }\n",
       "\n",
       "    .dataframe thead th {\n",
       "        text-align: right;\n",
       "    }\n",
       "</style>\n",
       "<table border=\"1\" class=\"dataframe\">\n",
       "  <thead>\n",
       "    <tr style=\"text-align: right;\">\n",
       "      <th></th>\n",
       "      <th>Device</th>\n",
       "      <th>Degree</th>\n",
       "    </tr>\n",
       "  </thead>\n",
       "  <tbody>\n",
       "    <tr>\n",
       "      <th>29581</th>\n",
       "      <td>User272607</td>\n",
       "      <td>8946</td>\n",
       "    </tr>\n",
       "    <tr>\n",
       "      <th>848</th>\n",
       "      <td>EnterpriseAppServer</td>\n",
       "      <td>2752</td>\n",
       "    </tr>\n",
       "    <tr>\n",
       "      <th>240</th>\n",
       "      <td>Scanner</td>\n",
       "      <td>2355</td>\n",
       "    </tr>\n",
       "    <tr>\n",
       "      <th>4928</th>\n",
       "      <td>Comp291378</td>\n",
       "      <td>527</td>\n",
       "    </tr>\n",
       "    <tr>\n",
       "      <th>2990</th>\n",
       "      <td>Administrator</td>\n",
       "      <td>437</td>\n",
       "    </tr>\n",
       "    <tr>\n",
       "      <th>...</th>\n",
       "      <td>...</td>\n",
       "      <td>...</td>\n",
       "    </tr>\n",
       "    <tr>\n",
       "      <th>25688</th>\n",
       "      <td>Comp162069</td>\n",
       "      <td>3</td>\n",
       "    </tr>\n",
       "    <tr>\n",
       "      <th>25875</th>\n",
       "      <td>Comp682438</td>\n",
       "      <td>3</td>\n",
       "    </tr>\n",
       "    <tr>\n",
       "      <th>1021</th>\n",
       "      <td>User001465</td>\n",
       "      <td>3</td>\n",
       "    </tr>\n",
       "    <tr>\n",
       "      <th>28189</th>\n",
       "      <td>User806400</td>\n",
       "      <td>3</td>\n",
       "    </tr>\n",
       "    <tr>\n",
       "      <th>86</th>\n",
       "      <td>Comp596321</td>\n",
       "      <td>3</td>\n",
       "    </tr>\n",
       "  </tbody>\n",
       "</table>\n",
       "<p>16304 rows × 2 columns</p>\n",
       "</div>"
      ],
      "text/plain": [
       "                    Device  Degree\n",
       "29581           User272607    8946\n",
       "848    EnterpriseAppServer    2752\n",
       "240                Scanner    2355\n",
       "4928            Comp291378     527\n",
       "2990         Administrator     437\n",
       "...                    ...     ...\n",
       "25688           Comp162069       3\n",
       "25875           Comp682438       3\n",
       "1021            User001465       3\n",
       "28189           User806400       3\n",
       "86              Comp596321       3\n",
       "\n",
       "[16304 rows x 2 columns]"
      ]
     },
     "execution_count": 99,
     "metadata": {},
     "output_type": "execute_result"
    }
   ],
   "source": [
    "degrees_l2 = degrees[degrees['Degree'] >= 3]\n",
    "degrees_l2"
   ]
  },
  {
   "cell_type": "code",
   "execution_count": 100,
   "id": "694cbd2f",
   "metadata": {},
   "outputs": [
    {
     "data": {
      "image/png": "[encoded data removed]",
      "text/plain": [
       "<Figure size 1440x720 with 1 Axes>"
      ]
     },
     "metadata": {
      "needs_background": "light"
     },
     "output_type": "display_data"
    }
   ],
   "source": [
    "plt.figure(figsize=(20,10))\n",
    "plt.scatter(degrees['Device'][:1000],degrees['Degree'][:1000], color='g', marker='1')\n",
    "plt.tick_params(axis='x', which='both', bottom=False, top=False, labelbottom=False) \n",
    "plt.show()"
   ]
  },
  {
   "cell_type": "code",
   "execution_count": 101,
   "id": "12ae66e9",
   "metadata": {},
   "outputs": [
    {
     "data": {
      "image/png": "[encoded data removed]",
      "text/plain": [
       "<Figure size 1440x720 with 1 Axes>"
      ]
     },
     "metadata": {
      "needs_background": "light"
     },
     "output_type": "display_data"
    }
   ],
   "source": [
    "plt.figure(figsize=(20,10))\n",
    "plt.scatter(degrees['Device'][:2000],degrees['Degree'][:2000], color='g', marker='1')\n",
    "plt.yscale('log')\n",
    "plt.tick_params(axis='x', which='both', bottom=False, top=False, labelbottom=False)\n",
    "plt.show()"
   ]
  },
  {
   "cell_type": "code",
   "execution_count": 102,
   "id": "8d5d9fa3",
   "metadata": {},
   "outputs": [
    {
     "data": {
      "image/png": "[encoded data removed]",
      "text/plain": [
       "<Figure size 1440x720 with 1 Axes>"
      ]
     },
     "metadata": {
      "needs_background": "light"
     },
     "output_type": "display_data"
    }
   ],
   "source": [
    "plt.figure(figsize=(20,10))\n",
    "plt.scatter(degrees_l2['Device'],degrees_l2['Degree'], color='r', marker='2')\n",
    "plt.yscale('log')\n",
    "plt.tick_params(axis='x', which='both', bottom=False, top=False, labelbottom=False)\n",
    "plt.show()"
   ]
  },
  {
   "cell_type": "markdown",
   "id": "392edc50-f555-42de-a2d0-493d59876768",
   "metadata": {},
   "source": [
    "### Further EDA"
   ]
  },
  {
   "cell_type": "code",
   "execution_count": 113,
   "id": "fac818c2-9118-41cd-a5f2-0a05e13796fd",
   "metadata": {},
   "outputs": [
    {
     "data": {
      "text/html": [
       "<div>\n",
       "<style scoped>\n",
       "    .dataframe tbody tr th:only-of-type {\n",
       "        vertical-align: middle;\n",
       "    }\n",
       "\n",
       "    .dataframe tbody tr th {\n",
       "        vertical-align: top;\n",
       "    }\n",
       "\n",
       "    .dataframe thead th {\n",
       "        text-align: right;\n",
       "    }\n",
       "</style>\n",
       "<table border=\"1\" class=\"dataframe\">\n",
       "  <thead>\n",
       "    <tr style=\"text-align: right;\">\n",
       "      <th></th>\n",
       "      <th></th>\n",
       "      <th>0</th>\n",
       "    </tr>\n",
       "    <tr>\n",
       "      <th>Authent Type</th>\n",
       "      <th>Failure</th>\n",
       "      <th></th>\n",
       "    </tr>\n",
       "  </thead>\n",
       "  <tbody>\n",
       "    <tr>\n",
       "      <th rowspan=\"2\" valign=\"top\">Batch</th>\n",
       "      <th>0</th>\n",
       "      <td>7914</td>\n",
       "    </tr>\n",
       "    <tr>\n",
       "      <th>1</th>\n",
       "      <td>3629</td>\n",
       "    </tr>\n",
       "    <tr>\n",
       "      <th rowspan=\"2\" valign=\"top\">CachedInteractive</th>\n",
       "      <th>0</th>\n",
       "      <td>14603</td>\n",
       "    </tr>\n",
       "    <tr>\n",
       "      <th>1</th>\n",
       "      <td>12259</td>\n",
       "    </tr>\n",
       "    <tr>\n",
       "      <th>CachedRemoteInteractive</th>\n",
       "      <th>0</th>\n",
       "      <td>2</td>\n",
       "    </tr>\n",
       "    <tr>\n",
       "      <th rowspan=\"2\" valign=\"top\">InteractiveLogon</th>\n",
       "      <th>0</th>\n",
       "      <td>255249</td>\n",
       "    </tr>\n",
       "    <tr>\n",
       "      <th>1</th>\n",
       "      <td>31382</td>\n",
       "    </tr>\n",
       "    <tr>\n",
       "      <th rowspan=\"2\" valign=\"top\">NetworkLogon</th>\n",
       "      <th>0</th>\n",
       "      <td>5218331</td>\n",
       "    </tr>\n",
       "    <tr>\n",
       "      <th>1</th>\n",
       "      <td>65419</td>\n",
       "    </tr>\n",
       "    <tr>\n",
       "      <th>RemoteInteractive</th>\n",
       "      <th>0</th>\n",
       "      <td>37078</td>\n",
       "    </tr>\n",
       "    <tr>\n",
       "      <th>ScreensaverDismissed</th>\n",
       "      <th>0</th>\n",
       "      <td>173773</td>\n",
       "    </tr>\n",
       "    <tr>\n",
       "      <th>ScreensaverInvoked</th>\n",
       "      <th>0</th>\n",
       "      <td>170415</td>\n",
       "    </tr>\n",
       "    <tr>\n",
       "      <th rowspan=\"2\" valign=\"top\">Service</th>\n",
       "      <th>0</th>\n",
       "      <td>10931</td>\n",
       "    </tr>\n",
       "    <tr>\n",
       "      <th>1</th>\n",
       "      <td>2481</td>\n",
       "    </tr>\n",
       "    <tr>\n",
       "      <th>TGS</th>\n",
       "      <th>0</th>\n",
       "      <td>7201544</td>\n",
       "    </tr>\n",
       "    <tr>\n",
       "      <th>TGT</th>\n",
       "      <th>0</th>\n",
       "      <td>1823393</td>\n",
       "    </tr>\n",
       "    <tr>\n",
       "      <th>WorkstationLock</th>\n",
       "      <th>0</th>\n",
       "      <td>409884</td>\n",
       "    </tr>\n",
       "    <tr>\n",
       "      <th rowspan=\"2\" valign=\"top\">WorkstationUnlock</th>\n",
       "      <th>0</th>\n",
       "      <td>400593</td>\n",
       "    </tr>\n",
       "    <tr>\n",
       "      <th>1</th>\n",
       "      <td>114801</td>\n",
       "    </tr>\n",
       "  </tbody>\n",
       "</table>\n",
       "</div>"
      ],
      "text/plain": [
       "                                       0\n",
       "Authent Type            Failure         \n",
       "Batch                   0           7914\n",
       "                        1           3629\n",
       "CachedInteractive       0          14603\n",
       "                        1          12259\n",
       "CachedRemoteInteractive 0              2\n",
       "InteractiveLogon        0         255249\n",
       "                        1          31382\n",
       "NetworkLogon            0        5218331\n",
       "                        1          65419\n",
       "RemoteInteractive       0          37078\n",
       "ScreensaverDismissed    0         173773\n",
       "ScreensaverInvoked      0         170415\n",
       "Service                 0          10931\n",
       "                        1           2481\n",
       "TGS                     0        7201544\n",
       "TGT                     0        1823393\n",
       "WorkstationLock         0         409884\n",
       "WorkstationUnlock       0         400593\n",
       "                        1         114801"
      ]
     },
     "execution_count": 113,
     "metadata": {},
     "output_type": "execute_result"
    }
   ],
   "source": [
    "pd.DataFrame(authentication_data.groupby(['Authent Type','Failure']).size()"
   ]
  },
  {
   "cell_type": "code",
   "execution_count": 273,
   "id": "3bffd51a-4fd9-475b-bc61-769a297d6ae9",
   "metadata": {},
   "outputs": [
    {
     "data": {
      "text/plain": [
       "Authent Type\n",
       "Batch                        11543\n",
       "CachedInteractive            26862\n",
       "CachedRemoteInteractive          2\n",
       "InteractiveLogon            286631\n",
       "NetworkLogon               5283750\n",
       "RemoteInteractive            37078\n",
       "ScreensaverDismissed        173773\n",
       "ScreensaverInvoked          170415\n",
       "Service                      13412\n",
       "TGS                        7201544\n",
       "TGT                        1823393\n",
       "WorkstationLock             409884\n",
       "WorkstationUnlock           515394\n",
       "dtype: int64"
      ]
     },
     "execution_count": 273,
     "metadata": {},
     "output_type": "execute_result"
    }
   ],
   "source": [
    "authentication_data.groupby('Authent Type').size()"
   ]
  },
  {
   "cell_type": "code",
   "execution_count": 317,
   "id": "a72684f8-6119-4ef1-8dfe-a2a1f270ff1c",
   "metadata": {},
   "outputs": [
    {
     "data": {
      "image/png": "[encoded data removed]",
      "text/plain": [
       "<Figure size 720x288 with 1 Axes>"
      ]
     },
     "metadata": {
      "needs_background": "light"
     },
     "output_type": "display_data"
    },
    {
     "name": "stdout",
     "output_type": "stream",
     "text": [
      "[0.31438967 0.45636959 0.         0.10948572 0.01238117 0.\n",
      " 0.         0.         0.1849836  0.         0.         0.\n",
      " 0.22274415]\n"
     ]
    }
   ],
   "source": [
    "passes = np.array([7914,14603,2,255249,5218331,37078,173773,170415,10931,7201544,1823393,409884,400593]) / np.array(authentication_data.groupby('Authent Type').size())\n",
    "failures = np.array([3629,12259,0,31382,65419,0,0,0,2481,0,0,0,114801]) / np.array(list(authentication_data.groupby('Authent Type').size()))\n",
    "a_t = sorted(authentication_data['Authent Type'].unique())\n",
    "\n",
    "\n",
    "\n",
    "fig = plt.figure(figsize=(10,4))\n",
    "plt.bar(a_t,passes+failures,color='darkgreen')\n",
    "plt.bar(a_t,failures,color='darkred')\n",
    "plt.xlabel('Authentication Type')\n",
    "plt.xticks(rotation=90)\n",
    "plt.ylabel('Percentage of failures and passes')\n",
    "\n",
    "gre_patch = mpatches.Patch(color='g', label='passes')\n",
    "red_patch = mpatches.Patch(color='r', label='Failures')\n",
    "plt.legend(handles=[gre_patch,red_patch],loc='upper left')\n",
    "plt.title('Percentage of passes and failures of each authentication type')\n",
    "plt.tight_layout()\n",
    "plt.show()\n",
    "print(failures)\n",
    "fig.savefig('Stacked pf auth type.png')"
   ]
  },
  {
   "cell_type": "markdown",
   "id": "ed5df0d2-d4e8-497a-9314-8e612b553d20",
   "metadata": {},
   "source": [
    "We'll review whether we had any changes during the pen test."
   ]
  },
  {
   "cell_type": "code",
   "execution_count": 286,
   "id": "ee4963a2-1ddc-43a7-890a-d2b7ff621012",
   "metadata": {},
   "outputs": [
    {
     "data": {
      "text/plain": [
       "Authent Type          Failure\n",
       "Batch                 0             2296\n",
       "                      1             1001\n",
       "CachedInteractive     0             4553\n",
       "                      1             3956\n",
       "InteractiveLogon      0            76552\n",
       "                      1             9554\n",
       "NetworkLogon          0          1741227\n",
       "                      1            27419\n",
       "RemoteInteractive     0            11757\n",
       "ScreensaverDismissed  0            54497\n",
       "ScreensaverInvoked    0            53395\n",
       "Service               0             3214\n",
       "                      1              726\n",
       "TGS                   0          2138251\n",
       "TGT                   0           538616\n",
       "WorkstationLock       0           127303\n",
       "WorkstationUnlock     0           124694\n",
       "                      1            36080\n",
       "dtype: int64"
      ]
     },
     "execution_count": 286,
     "metadata": {},
     "output_type": "execute_result"
    }
   ],
   "source": [
    "pd.DataFrame(authentication_data[auth_start_days[56]:auth_start_days[82]]).groupby(['Authent Type','Failure']).size()"
   ]
  },
  {
   "cell_type": "code",
   "execution_count": 310,
   "id": "93a14eb1-117d-4862-b645-d1b846794fd5",
   "metadata": {},
   "outputs": [
    {
     "data": {
      "text/plain": [
       "array([   3297,    8509,   86106, 1768646,   11757,   54497,   53395,\n",
       "          3940, 2138251,  538616,  127303,  160774])"
      ]
     },
     "execution_count": 310,
     "metadata": {},
     "output_type": "execute_result"
    }
   ],
   "source": [
    "np.array(list(authentication_data[auth_start_days[56]:auth_start_days[82]].groupby('Authent Type').size()))"
   ]
  },
  {
   "cell_type": "code",
   "execution_count": 323,
   "id": "f9ab9be0-8edc-4433-bbd2-29701af5ae16",
   "metadata": {},
   "outputs": [
    {
     "data": {
      "image/png": "[encoded data removed]",
      "text/plain": [
       "<Figure size 720x288 with 1 Axes>"
      ]
     },
     "metadata": {
      "needs_background": "light"
     },
     "output_type": "display_data"
    },
    {
     "name": "stdout",
     "output_type": "stream",
     "text": [
      "[0.30360934 0.4649195  0.11095626 0.01550282 0.         0.\n",
      " 0.         0.18426396 0.         0.         0.         0.2244144 ]\n"
     ]
    }
   ],
   "source": [
    "at_counts = np.array(authentication_data[auth_start_days[56]:auth_start_days[82]].groupby('Authent Type').size())\n",
    "\n",
    "passes = np.array([2296,4553,76552,1741227,11757,54497,53395,3214,2138251,538616,127303,124694]) / at_counts\n",
    "failures_2 = np.array([1001,3956,9554,27419,0,0,0,726,0,0,0,36080]) / at_counts\n",
    "a_t = sorted(authentication_data['Authent Type'].unique())\n",
    "del a_t[2]\n",
    "\n",
    "fig = plt.figure(figsize=(10,4))\n",
    "plt.bar(a_t,passes+failures_2,color='darkgreen')\n",
    "plt.bar(a_t,failures_2,color='darkred')\n",
    "plt.xlabel('Authentication Type')\n",
    "plt.xticks(rotation=90)\n",
    "plt.ylabel('Percentage of failures and passes')\n",
    "\n",
    "gre_patch = mpatches.Patch(color='g', label='passes')\n",
    "red_patch = mpatches.Patch(color='r', label='Failures')\n",
    "plt.legend(handles=[gre_patch,red_patch],loc='upper left')\n",
    "plt.title('Percentage of passes and failures of each authentication type during the penetration test')\n",
    "plt.tight_layout()\n",
    "plt.show()\n",
    "print(failures_2)\n",
    "fig.savefig('Stacked pf auth type pen test.png')"
   ]
  },
  {
   "cell_type": "code",
   "execution_count": 321,
   "id": "389bc5e0-8d9c-46bf-9817-3a762addd763",
   "metadata": {},
   "outputs": [],
   "source": [
    "failures = np.delete(failures,2)"
   ]
  },
  {
   "cell_type": "code",
   "execution_count": 322,
   "id": "dc3ad28f-a570-43aa-8d2f-8454c79618bb",
   "metadata": {},
   "outputs": [
    {
     "data": {
      "text/plain": [
       "array([-0.01078033,  0.0085499 ,  0.00147055,  0.00312165,  0.        ,\n",
       "        0.        ,  0.        , -0.00071964,  0.        ,  0.        ,\n",
       "        0.        ,  0.00167024])"
      ]
     },
     "execution_count": 322,
     "metadata": {},
     "output_type": "execute_result"
    }
   ],
   "source": [
    "failures_2 - failures"
   ]
  },
  {
   "cell_type": "code",
   "execution_count": 339,
   "id": "5e64c947-9fe7-4adc-a387-ba07cfdc72e1",
   "metadata": {},
   "outputs": [],
   "source": [
    "rt_non = authentication_data[:auth_start_days[56]]\n",
    "rt_non = rt_non[rt_non['UserName'].isin(rt_users)]\n",
    "rt_pen = authentication_data[auth_start_days[56]:auth_start_days[82]]\n",
    "rt_pen = rt_pen[rt_pen['UserName'].isin(rt_users)]"
   ]
  },
  {
   "cell_type": "code",
   "execution_count": 340,
   "id": "3f402eed-b49e-4e7c-a027-9655e78c7438",
   "metadata": {},
   "outputs": [],
   "source": [
    "rt_fail_non = rt_non[rt_non['Failure'] == 1]\n",
    "rt_fail_pen = rt_pen[rt_pen['Failure'] == 1]"
   ]
  },
  {
   "cell_type": "code",
   "execution_count": 342,
   "id": "4d16c4f2-88f1-486d-afb5-bc9e7fd9293e",
   "metadata": {},
   "outputs": [],
   "source": [
    "rt_fail_non_perc = rt_fail_non.groupby('Authent Type').size() / rt_non.groupby('Authent Type').size()\n",
    "rt_fail_pen_perc = rt_fail_pen.groupby('Authent Type').size() / rt_non.groupby('Authent Type').size()"
   ]
  },
  {
   "cell_type": "code",
   "execution_count": 346,
   "id": "87b3ee2a-49f6-441d-b052-bd2a987345d0",
   "metadata": {},
   "outputs": [
    {
     "data": {
      "text/html": [
       "<div>\n",
       "<style scoped>\n",
       "    .dataframe tbody tr th:only-of-type {\n",
       "        vertical-align: middle;\n",
       "    }\n",
       "\n",
       "    .dataframe tbody tr th {\n",
       "        vertical-align: top;\n",
       "    }\n",
       "\n",
       "    .dataframe thead th {\n",
       "        text-align: right;\n",
       "    }\n",
       "</style>\n",
       "<table border=\"1\" class=\"dataframe\">\n",
       "  <thead>\n",
       "    <tr style=\"text-align: right;\">\n",
       "      <th></th>\n",
       "      <th>0</th>\n",
       "    </tr>\n",
       "    <tr>\n",
       "      <th>Authent Type</th>\n",
       "      <th></th>\n",
       "    </tr>\n",
       "  </thead>\n",
       "  <tbody>\n",
       "    <tr>\n",
       "      <th>Batch</th>\n",
       "      <td>0.380952</td>\n",
       "    </tr>\n",
       "    <tr>\n",
       "      <th>CachedInteractive</th>\n",
       "      <td>0.428571</td>\n",
       "    </tr>\n",
       "    <tr>\n",
       "      <th>InteractiveLogon</th>\n",
       "      <td>0.193750</td>\n",
       "    </tr>\n",
       "    <tr>\n",
       "      <th>NetworkLogon</th>\n",
       "      <td>0.025194</td>\n",
       "    </tr>\n",
       "    <tr>\n",
       "      <th>RemoteInteractive</th>\n",
       "      <td>NaN</td>\n",
       "    </tr>\n",
       "    <tr>\n",
       "      <th>ScreensaverDismissed</th>\n",
       "      <td>NaN</td>\n",
       "    </tr>\n",
       "    <tr>\n",
       "      <th>ScreensaverInvoked</th>\n",
       "      <td>NaN</td>\n",
       "    </tr>\n",
       "    <tr>\n",
       "      <th>Service</th>\n",
       "      <td>0.013626</td>\n",
       "    </tr>\n",
       "    <tr>\n",
       "      <th>TGS</th>\n",
       "      <td>NaN</td>\n",
       "    </tr>\n",
       "    <tr>\n",
       "      <th>TGT</th>\n",
       "      <td>NaN</td>\n",
       "    </tr>\n",
       "    <tr>\n",
       "      <th>WorkstationLock</th>\n",
       "      <td>NaN</td>\n",
       "    </tr>\n",
       "    <tr>\n",
       "      <th>WorkstationUnlock</th>\n",
       "      <td>0.176978</td>\n",
       "    </tr>\n",
       "  </tbody>\n",
       "</table>\n",
       "</div>"
      ],
      "text/plain": [
       "                             0\n",
       "Authent Type                  \n",
       "Batch                 0.380952\n",
       "CachedInteractive     0.428571\n",
       "InteractiveLogon      0.193750\n",
       "NetworkLogon          0.025194\n",
       "RemoteInteractive          NaN\n",
       "ScreensaverDismissed       NaN\n",
       "ScreensaverInvoked         NaN\n",
       "Service               0.013626\n",
       "TGS                        NaN\n",
       "TGT                        NaN\n",
       "WorkstationLock            NaN\n",
       "WorkstationUnlock     0.176978"
      ]
     },
     "execution_count": 346,
     "metadata": {},
     "output_type": "execute_result"
    }
   ],
   "source": [
    "pd.DataFrame(rt_fail_non_perc)"
   ]
  },
  {
   "cell_type": "code",
   "execution_count": 348,
   "id": "1d9dcba5-49db-458d-8fd4-4b240dca5005",
   "metadata": {},
   "outputs": [
    {
     "data": {
      "text/html": [
       "<div>\n",
       "<style scoped>\n",
       "    .dataframe tbody tr th:only-of-type {\n",
       "        vertical-align: middle;\n",
       "    }\n",
       "\n",
       "    .dataframe tbody tr th {\n",
       "        vertical-align: top;\n",
       "    }\n",
       "\n",
       "    .dataframe thead th {\n",
       "        text-align: right;\n",
       "    }\n",
       "</style>\n",
       "<table border=\"1\" class=\"dataframe\">\n",
       "  <thead>\n",
       "    <tr style=\"text-align: right;\">\n",
       "      <th></th>\n",
       "      <th>0</th>\n",
       "    </tr>\n",
       "    <tr>\n",
       "      <th>Authent Type</th>\n",
       "      <th></th>\n",
       "    </tr>\n",
       "  </thead>\n",
       "  <tbody>\n",
       "    <tr>\n",
       "      <th>Batch</th>\n",
       "      <td>0.225564</td>\n",
       "    </tr>\n",
       "    <tr>\n",
       "      <th>CachedInteractive</th>\n",
       "      <td>0.214286</td>\n",
       "    </tr>\n",
       "    <tr>\n",
       "      <th>InteractiveLogon</th>\n",
       "      <td>0.107031</td>\n",
       "    </tr>\n",
       "    <tr>\n",
       "      <th>NetworkLogon</th>\n",
       "      <td>0.020429</td>\n",
       "    </tr>\n",
       "    <tr>\n",
       "      <th>RemoteInteractive</th>\n",
       "      <td>NaN</td>\n",
       "    </tr>\n",
       "    <tr>\n",
       "      <th>ScreensaverDismissed</th>\n",
       "      <td>NaN</td>\n",
       "    </tr>\n",
       "    <tr>\n",
       "      <th>ScreensaverInvoked</th>\n",
       "      <td>NaN</td>\n",
       "    </tr>\n",
       "    <tr>\n",
       "      <th>Service</th>\n",
       "      <td>0.012869</td>\n",
       "    </tr>\n",
       "    <tr>\n",
       "      <th>TGS</th>\n",
       "      <td>NaN</td>\n",
       "    </tr>\n",
       "    <tr>\n",
       "      <th>TGT</th>\n",
       "      <td>NaN</td>\n",
       "    </tr>\n",
       "    <tr>\n",
       "      <th>WorkstationLock</th>\n",
       "      <td>NaN</td>\n",
       "    </tr>\n",
       "    <tr>\n",
       "      <th>WorkstationUnlock</th>\n",
       "      <td>0.107194</td>\n",
       "    </tr>\n",
       "  </tbody>\n",
       "</table>\n",
       "</div>"
      ],
      "text/plain": [
       "                             0\n",
       "Authent Type                  \n",
       "Batch                 0.225564\n",
       "CachedInteractive     0.214286\n",
       "InteractiveLogon      0.107031\n",
       "NetworkLogon          0.020429\n",
       "RemoteInteractive          NaN\n",
       "ScreensaverDismissed       NaN\n",
       "ScreensaverInvoked         NaN\n",
       "Service               0.012869\n",
       "TGS                        NaN\n",
       "TGT                        NaN\n",
       "WorkstationLock            NaN\n",
       "WorkstationUnlock     0.107194"
      ]
     },
     "execution_count": 348,
     "metadata": {},
     "output_type": "execute_result"
    }
   ],
   "source": [
    "pd.DataFrame(rt_fail_pen_perc)"
   ]
  },
  {
   "cell_type": "markdown",
   "id": "0a98b17f",
   "metadata": {},
   "source": [
    "### Dummy Variables"
   ]
  },
  {
   "cell_type": "markdown",
   "id": "1a24d683",
   "metadata": {},
   "source": [
    "We'll create a quick and dirty dummy variable creation function. We could use the get_dummies function from pandas but this creates rows instead of doing it inplace which would result in a massive amount of features which would essentially be unhandleable when working with the entire data set."
   ]
  },
  {
   "cell_type": "code",
   "execution_count": null,
   "id": "461edd0b",
   "metadata": {},
   "outputs": [],
   "source": [
    "def dummy(row, data):\n",
    "    row_vals = data[row].unique()\n",
    "    row_vals_dict = {}\n",
    "    for i, key in enumerate(row_vals):\n",
    "        row_vals_dict[key] = i\n",
    "    \n",
    "    return row_vals_dict"
   ]
  },
  {
   "cell_type": "code",
   "execution_count": null,
   "id": "5bf979e9",
   "metadata": {},
   "outputs": [],
   "source": [
    "user_names_dict = dummy('UserName', process_day_1)\n",
    "devices_dict = dummy('Device', process_day_1)\n",
    "processes_dict = dummy('ProcessName', process_day_1)\n",
    "parent_processes_dict = dummy('ParentProcessName', process_day_1)\n",
    "\n",
    "dummy_process_day_1 = pd.DataFrame()\n",
    "\n",
    "dummy_process_day_1['UserName'] = process_day_1['UserName'].map(user_names_dict)\n",
    "dummy_process_day_1['Device'] = process_day_1['Device'].map(devices_dict)\n",
    "dummy_process_day_1['ProcessName'] = process_day_1['ProcessName'].map(processes_dict)\n",
    "dummy_process_day_1['ParentProcessName'] = process_day_1['ParentProcessName'].map(parent_processes_dict)\n",
    "dummy_process_day_1['DailyCount'] = process_day_1['DailyCount']"
   ]
  },
  {
   "cell_type": "code",
   "execution_count": null,
   "id": "480745f0",
   "metadata": {},
   "outputs": [],
   "source": [
    "dummy_process_day_1"
   ]
  },
  {
   "cell_type": "markdown",
   "id": "506067e2",
   "metadata": {},
   "source": [
    "So we've converted our object variables into integers successfully!"
   ]
  },
  {
   "cell_type": "markdown",
   "id": "569a066e",
   "metadata": {},
   "source": [
    "### Clustering"
   ]
  },
  {
   "cell_type": "markdown",
   "id": "29e895b2",
   "metadata": {},
   "source": [
    "#### DBSCAN"
   ]
  },
  {
   "cell_type": "markdown",
   "id": "38584c98",
   "metadata": {},
   "source": [
    "We'll attempt to run a DBSCAN clustering on this data set now. This will give us a good indication of whether the data set is useful for anomaly detection or not since DBSCAN is effective at picking up anomalous data from unlabelled data. The below is a snippet of the grid search we perform on the HPC which we will later import."
   ]
  },
  {
   "cell_type": "markdown",
   "id": "b4e061a7",
   "metadata": {},
   "source": [
    "We'll analyse the effectiveness of our parameters through the number of clusters produced, the number of noise points and the silhouette score."
   ]
  },
  {
   "cell_type": "markdown",
   "id": "fecb453b",
   "metadata": {},
   "source": [
    "The silhouette score is defined when the number of labels i.e. clusters produced is $ 2 < clusters < samples - 1 $. It takes values in $ [-1,1] $ with -1 being the worst score and 1 being the best score.  "
   ]
  },
  {
   "cell_type": "code",
   "execution_count": null,
   "id": "a644a14a",
   "metadata": {},
   "outputs": [],
   "source": [
    "from sklearn.cluster import DBSCAN\n",
    "from sklearn import metrics"
   ]
  },
  {
   "cell_type": "code",
   "execution_count": null,
   "id": "4c814f15",
   "metadata": {},
   "outputs": [],
   "source": [
    "# eps = [1,2,5,10,25,50,100]\n",
    "eps = [1]\n",
    "min_samples = [100,50,25,15,10]\n",
    "\n",
    "no_clust = []\n",
    "no_noise = []\n",
    "sil_score = []\n",
    "e_m = []\n",
    "\n",
    "for e in eps:\n",
    "    for ms in min_samples:\n",
    "        \n",
    "        clear_output(wait=True)\n",
    "        print('Working with eps = {} and min_samples = {}'.format(e,ms))\n",
    "        \n",
    "        e_m.append((e,ms))\n",
    "        \n",
    "        db = DBSCAN(eps=e, min_samples=ms).fit(dummy_process_day_1)\n",
    "        labels = db.labels_\n",
    "        no_clust.append(len(np.unique(labels)))\n",
    "        no_noise.append(np.sum(np.array(labels) == -1, axis=0))\n",
    "        \n",
    "        if len(np.unique(labels)) == 1:\n",
    "            sil_score.append(0)\n",
    "        else:\n",
    "            sil_score.append(metrics.silhouette_score(dummy_process_day_1, labels))"
   ]
  },
  {
   "cell_type": "markdown",
   "id": "4bb86b38",
   "metadata": {},
   "source": [
    "From reference [2] from our bibliography, we would expect min_samples=10 to give us our best results since $ 2 * dim = 10 $, however the data set is likely to contain a lot of noise and is a large data set so this may need to be increased. As for $ \\epsilon $, we will use methods such as the elbow method, largest cluster size and noise % to determine this. Silhouette score will also give us a good indicator."
   ]
  },
  {
   "cell_type": "code",
   "execution_count": null,
   "id": "73ddc43b",
   "metadata": {},
   "outputs": [],
   "source": [
    "# DBSCAN_parameter_search = pd.read_csv('/HPC Data/Grid Search HPC.csv', compression='gz')"
   ]
  },
  {
   "cell_type": "code",
   "execution_count": null,
   "id": "1176b188",
   "metadata": {},
   "outputs": [],
   "source": [
    "# DBSCAN_parameter_search"
   ]
  },
  {
   "cell_type": "markdown",
   "id": "91fcc0fe",
   "metadata": {},
   "source": [
    "#### OPTICS"
   ]
  },
  {
   "cell_type": "markdown",
   "id": "83c10c59",
   "metadata": {},
   "source": [
    "We attempt the OPTICS clustering algorithm to find anomalies. This algorithm is supposed to run in $\\Omega(nlog(n))$ time which is the same as DBSCAN but it has the advantage that it can detect clusters of varying density unlike DBSCAN. We'll see how this runs here."
   ]
  },
  {
   "cell_type": "code",
   "execution_count": null,
   "id": "6db1d7b5",
   "metadata": {},
   "outputs": [],
   "source": [
    "from sklearn.cluster import OPTICS"
   ]
  },
  {
   "cell_type": "code",
   "execution_count": null,
   "id": "9b1bbac1",
   "metadata": {},
   "outputs": [],
   "source": [
    "try:\n",
    "    print('Loading Model...')\n",
    "    opt_clust = pickle.load(open('Models/OPTICS_10.p', 'rb'))\n",
    "    clear_output()\n",
    "    print('Model loaded from save.')\n",
    "\n",
    "except:\n",
    "    clear_output()\n",
    "    print('Model not found. Running Model.')\n",
    "    opt_clust = OPTICS(min_samples=10)\n",
    "    opt_clust.fit(dummy_process_day_1)\n",
    "    pickle.dump(opt_clust, open('Models/OPTICS_10.p', 'wb'))"
   ]
  },
  {
   "cell_type": "code",
   "execution_count": null,
   "id": "2a783d93",
   "metadata": {},
   "outputs": [],
   "source": [
    "n_events_1 = dummy_process_day_1.shape[0]\n",
    "opt_labels = opt_clust.labels_[opt_clust.ordering_]\n",
    "opt_no_clust = len(np.unique(opt_labels))\n",
    "opt_no_noise = np.sum(np.array(opt_labels) == -1, axis=0)\n",
    "\n",
    "print('Number of clusters identified: {}. Number of noise points identified: {}.'.format(opt_no_clust,opt_no_noise))\n",
    "\n",
    "print(\"Percentage of points in clusters {}. Percentage of points labelled as noise/outliers {}.\".format(1-(opt_no_noise/n_events_1),\n",
    "                                                                                                        opt_no_noise/n_events_1))"
   ]
  },
  {
   "cell_type": "code",
   "execution_count": null,
   "id": "373f48f2",
   "metadata": {},
   "outputs": [],
   "source": [
    "clust_day_1 = process_day_1\n",
    "clust_day_1['Cluster'] = opt_labels"
   ]
  },
  {
   "cell_type": "code",
   "execution_count": null,
   "id": "2bbad319",
   "metadata": {},
   "outputs": [],
   "source": [
    "anom_day_1 = clust_day_1[clust_day_1['Cluster'] == -1]"
   ]
  },
  {
   "cell_type": "code",
   "execution_count": null,
   "id": "f4c1424b",
   "metadata": {},
   "outputs": [],
   "source": [
    "pp_anom = anom_day_1.groupby(['ProcessName', 'ParentProcessName']).size().sort_values(ascending=False)"
   ]
  },
  {
   "cell_type": "markdown",
   "id": "de4a8b01",
   "metadata": {},
   "source": [
    "Lets assume that the times where the pair, ProcessName and ParentProcessName, appear once are likely to be our actual anomalies."
   ]
  },
  {
   "cell_type": "code",
   "execution_count": null,
   "id": "af093173",
   "metadata": {},
   "outputs": [],
   "source": [
    "pp_anom_1 = pd.DataFrame(pp_anom[pp_anom == 1])\n",
    "pp_anom_1"
   ]
  },
  {
   "cell_type": "code",
   "execution_count": null,
   "id": "5e6eb91f",
   "metadata": {},
   "outputs": [],
   "source": [
    "print('This data set represents {}% of our original data.'.format(len(pp_anom_1)/process_day_1.shape[0]))"
   ]
  },
  {
   "cell_type": "markdown",
   "id": "015a5eb2",
   "metadata": {},
   "source": [
    "### Authentication Data"
   ]
  },
  {
   "cell_type": "code",
   "execution_count": null,
   "id": "c63e5796",
   "metadata": {},
   "outputs": [],
   "source": [
    "authentication_data.head()"
   ]
  },
  {
   "cell_type": "code",
   "execution_count": null,
   "id": "a2d62ee4",
   "metadata": {},
   "outputs": [],
   "source": [
    "authent_type = pd.DataFrame(authentication_data.groupby(['SrcDevice','Authent Type']).size())"
   ]
  },
  {
   "cell_type": "code",
   "execution_count": null,
   "id": "48fbfbd4",
   "metadata": {},
   "outputs": [],
   "source": [
    "authent_type"
   ]
  },
  {
   "cell_type": "code",
   "execution_count": null,
   "id": "2888fbb9",
   "metadata": {},
   "outputs": [],
   "source": [
    "authentication_data.shape"
   ]
  },
  {
   "cell_type": "code",
   "execution_count": null,
   "id": "f1969c79",
   "metadata": {},
   "outputs": [],
   "source": [
    "authentication_data.groupby('Failure').size()"
   ]
  },
  {
   "cell_type": "markdown",
   "id": "d5dafd45",
   "metadata": {},
   "source": [
    "#### Red Team Help"
   ]
  },
  {
   "cell_type": "markdown",
   "id": "5f44d08f",
   "metadata": {},
   "source": [
    "We first get the list provided by Alex of all the usernames that were at some point compromised."
   ]
  },
  {
   "cell_type": "code",
   "execution_count": null,
   "id": "8bee152e-83ed-46d8-878e-e49afe13854e",
   "metadata": {},
   "outputs": [],
   "source": []
  },
  {
   "cell_type": "code",
   "execution_count": null,
   "id": "b69b1029",
   "metadata": {},
   "outputs": [],
   "source": [
    "rt_auth = list(pd.read_csv('../Data/AuthUserNames.txt', header=None)[0])"
   ]
  },
  {
   "cell_type": "markdown",
   "id": "c9133f10",
   "metadata": {},
   "source": [
    "We'd like to isolate all source devices that had a compromised user access them. Obviously all the source devices will not have been compromised whenever a compromised username accessed them but this will give an indicator."
   ]
  },
  {
   "cell_type": "code",
   "execution_count": null,
   "id": "ee92ab31",
   "metadata": {},
   "outputs": [],
   "source": [
    "rt_srcdevices = authentication_data[authentication_data['UserName'].isin(rt_auth)]['SrcDevice'].unique()"
   ]
  },
  {
   "cell_type": "code",
   "execution_count": null,
   "id": "768590a0",
   "metadata": {},
   "outputs": [],
   "source": [
    "event_nums = []\n",
    "for i in range(len(auth_start_days)-1):\n",
    "    authentication_data_day = authentication_data[auth_start_days[i]:auth_start_days[i+1]]\n",
    "    event_nums.append(authentication_data_day.shape[0])"
   ]
  },
  {
   "cell_type": "code",
   "execution_count": null,
   "id": "697c6113",
   "metadata": {},
   "outputs": [],
   "source": [
    "plt.figure(figsize=(14,10))\n",
    "sns.boxplot(event_nums, orient='v')\n",
    "sns.swarmplot(event_nums, color=\".25\")\n",
    "plt.title('Boxplot of the number of events each day')\n",
    "plt.show()\n",
    "stats.describe(np.array(event_nums))"
   ]
  },
  {
   "cell_type": "markdown",
   "id": "888915f8",
   "metadata": {},
   "source": [
    "We're better off graphing between SrcDevice and DstDevice. Anomalous connections between these are likely to represent an anomaly whereas data from the process is hard to determine what we're supposed to be graphing."
   ]
  },
  {
   "cell_type": "code",
   "execution_count": null,
   "id": "900b709f",
   "metadata": {},
   "outputs": [],
   "source": [
    "authentication_G_1 = nx.from_pandas_edgelist(authentication_data[auth_start_days[0]:auth_start_days[1]], source=\"SrcDevice\", target=\"DstDevice\", edge_attr=['DailyCount'])"
   ]
  },
  {
   "cell_type": "markdown",
   "id": "475b6abc",
   "metadata": {},
   "source": [
    "The first thing we'll look at is whether there are any drastic changes in the degree of the nodes each day - this could be an anomalous day. This includes the daily count on the weighting."
   ]
  },
  {
   "cell_type": "code",
   "execution_count": null,
   "id": "a4ed9c7a",
   "metadata": {},
   "outputs": [],
   "source": [
    "a_1_degrees = pd.DataFrame([(n,d) for n,d in authentication_G_1.degree(weight='DailyCount')])\n",
    "a_1_degrees.columns = ['SrcDevice', 'Degree']\n",
    "a_1_degrees = a_1_degrees.sort_values(by='Degree',axis=0,ascending=False)\n",
    "a_1_degrees"
   ]
  },
  {
   "cell_type": "markdown",
   "id": "d2ede749",
   "metadata": {},
   "source": [
    "The HTM Studio analysis requires at least 400 rows. Running with 400 rows doesn't give a long enough time frame to look for anomalies so we'll try to divide the days further. From the above analysis, the data contains an average of $177,263$ events, a minimum of $58,804$ and a maximum of $266,843$. If we divide each day into '1 hour' blocks, we obtain $ 90 * 24 = 2,160 $ events which is enough for the HTM module and also creates an average of $\\frac{177,263}{6} = 29,543$ events per block and a minimum of $\\frac{58,804}{24} = 2450$. The latter is quite a small amount of events but we hope that we can achieve something through this."
   ]
  },
  {
   "cell_type": "code",
   "execution_count": null,
   "id": "bb73eacb",
   "metadata": {},
   "outputs": [],
   "source": [
    "# splits a dataframe into n chunks\n",
    "def split_dataframe(df,n): \n",
    "    chunks = list()\n",
    "    chunk_size = int(np.round(df.shape[0]/n))\n",
    "    num_chunks = n\n",
    "    for i in range(num_chunks):\n",
    "        if i != num_chunks-1:\n",
    "            chunks.append(df[i*chunk_size:(i+1)*chunk_size])\n",
    "        else:\n",
    "            chunks.append(df[i*chunk_size:])\n",
    "    return chunks"
   ]
  },
  {
   "cell_type": "code",
   "execution_count": null,
   "id": "c108f534",
   "metadata": {},
   "outputs": [],
   "source": [
    "def degree_day_splits(data,n):\n",
    "    \n",
    "    SrcDevices = list(authentication_data['SrcDevice'].unique())\n",
    "    degree_days = pd.DataFrame(index=SrcDevices)\n",
    "    \n",
    "    for i in range(len(auth_start_days)-1):\n",
    "        print('Working with day {} of {}.'.format(i+1,len(auth_start_days)-1))\n",
    "        clear_output(wait=True)\n",
    "\n",
    "        chunks = split_dataframe(authentication_data[auth_start_days[i]:auth_start_days[i+1]],n)\n",
    "        \n",
    "        if len(chunks) != n:\n",
    "            print('ERROR: Number of chunks is not {}.'.format(n))\n",
    "            break\n",
    "            \n",
    "        for j in range(n):\n",
    "            data = chunks[j]\n",
    "            # create graph\n",
    "            auth_day_G = nx.from_pandas_edgelist(data,source=\"SrcDevice\",target=\"DstDevice\", edge_attr=['DailyCount'])\n",
    "            # create degree dictionary\n",
    "            dict_degrees = {n:d for n,d in auth_day_G.degree(weight='DailyCount')}\n",
    "            # map dictionary to data frame()\n",
    "            degree_days[i*n+j] = degree_days.index.to_series().map(dict_degrees)\n",
    "    \n",
    "    degree_days = degree_days.fillna(0)\n",
    "    degree_days = degree_days.transpose()\n",
    "    \n",
    "    return degree_days"
   ]
  },
  {
   "cell_type": "markdown",
   "id": "d785d2eb",
   "metadata": {},
   "source": [
    "**NOT uniformly split so unlikly 24 hour splits uniformly.**\n",
    "\n",
    "- Alex's idea is to split by hours of the data based on the los alamos work structure.\n",
    "- First week is the 'free friday' (referring to the 9 day work week that Los Alamos have)."
   ]
  },
  {
   "cell_type": "code",
   "execution_count": null,
   "id": "81e87c76",
   "metadata": {},
   "outputs": [],
   "source": [
    "degree_days_t = degree_day_splits(authentication_data,24)"
   ]
  },
  {
   "cell_type": "code",
   "execution_count": null,
   "id": "c466528b",
   "metadata": {},
   "outputs": [],
   "source": [
    "degree_days_t"
   ]
  },
  {
   "cell_type": "code",
   "execution_count": null,
   "id": "02228288",
   "metadata": {},
   "outputs": [],
   "source": [
    "if os.path.isfile('Authentication Weighted Degree Days.gz'):\n",
    "    pass\n",
    "else:\n",
    "    degree_days_t.to_csv('Authentication Weighted Degree Days.gz', index_label ='Time', compression='gzip')"
   ]
  },
  {
   "cell_type": "markdown",
   "id": "05ab384c",
   "metadata": {},
   "source": [
    "We'll isolate out the source computers that are likely to have been compromised and determine whether the HTM model identifies periods of anomalies."
   ]
  },
  {
   "cell_type": "code",
   "execution_count": null,
   "id": "ae891025",
   "metadata": {},
   "outputs": [],
   "source": [
    "rt_degrees = degree_days_t[rt_srcdevices]\n",
    "comps = ['Comp984253','Comp916004','Comp127959','Comp620222','Comp107130','ActiveDirectory','Comp177326','Comp526669']\n",
    "#rt_degrees.to_csv('Red Team Weighted Degree Days.csv', index_label='Time')\n",
    "rt_degrees[comps].to_csv('Partial Red Team Weighted Degree Days.csv', index_label='Time')"
   ]
  },
  {
   "cell_type": "code",
   "execution_count": null,
   "id": "ed51a84b",
   "metadata": {
    "scrolled": true
   },
   "outputs": [],
   "source": [
    "rt_degrees.iloc[:, 0:10]"
   ]
  },
  {
   "cell_type": "markdown",
   "id": "eb6fa4a5",
   "metadata": {},
   "source": [
    "#### KMeans"
   ]
  },
  {
   "cell_type": "markdown",
   "id": "dd24eeb6",
   "metadata": {},
   "source": [
    "We need to make this data easier to handle. The best way to do this is to isolate out rows that are likely to contain anomalies and remove those that are unlikely to. We first attempt this with K-means to determine if we have any anomalies - we'll run a test with EnterpriseAppServer data."
   ]
  },
  {
   "cell_type": "code",
   "execution_count": null,
   "id": "975dffe9",
   "metadata": {},
   "outputs": [],
   "source": [
    "easrt_degrees = rt_degrees.iloc[:, 0]"
   ]
  },
  {
   "cell_type": "code",
   "execution_count": null,
   "id": "d42979e5",
   "metadata": {
    "scrolled": true
   },
   "outputs": [],
   "source": [
    "no_clusters = [2,3,4,5,6,7,8,10,16,24]\n",
    "\n",
    "for n_c in no_clusters:\n",
    "    fig, (ax1, ax2) = plt.subplots(1, 2)\n",
    "    fig.set_size_inches(18, 7)\n",
    "    \n",
    "    clusterer = KMeans(n_clusters=n_c, random_state=10)\n",
    "    cluster_labels = clusterer.fit_predict(np.array(easrt_degrees).reshape(-1, 1))\n",
    "    \n",
    "    silhouette_avg = silhouette_score(np.array(easrt_degrees).reshape(-1,1), cluster_labels)\n",
    "    print(\"For n_clusters =\", n_c,\n",
    "          \"The average silhouette_score is :\", silhouette_avg)\n",
    "    \n",
    "    sample_silhouette_values = silhouette_samples(np.array(easrt_degrees).reshape(-1,1), cluster_labels)\n",
    "    \n",
    "    y_lower = 10\n",
    "    \n",
    "    for i in range(n_c):\n",
    "        # Aggregate the silhouette scores for samples belonging to\n",
    "        # cluster i, and sort them\n",
    "        ith_cluster_silhouette_values = \\\n",
    "            sample_silhouette_values[cluster_labels == i]\n",
    "\n",
    "        ith_cluster_silhouette_values.sort()\n",
    "\n",
    "        size_cluster_i = ith_cluster_silhouette_values.shape[0]\n",
    "        y_upper = y_lower + size_cluster_i\n",
    "\n",
    "        color = cm.nipy_spectral(float(i) / n_c)\n",
    "        ax1.fill_betweenx(np.arange(y_lower, y_upper),\n",
    "                          0, ith_cluster_silhouette_values,\n",
    "                          facecolor=color, edgecolor=color, alpha=0.7)\n",
    "\n",
    "        # Label the silhouette plots with their cluster numbers at the middle\n",
    "        ax1.text(-0.05, y_lower + 0.5 * size_cluster_i, str(i))\n",
    "\n",
    "        # Compute the new y_lower for next plot\n",
    "        y_lower = y_upper + 10  # 10 for the 0 samples\n",
    "\n",
    "    ax1.set_title(\"The silhouette plot for the various clusters.\")\n",
    "    ax1.set_xlabel(\"The silhouette coefficient values\")\n",
    "    ax1.set_ylabel(\"Cluster label\")\n",
    "\n",
    "    # The vertical line for average silhouette score of all the values\n",
    "    ax1.axvline(x=silhouette_avg, color=\"red\", linestyle=\"--\")\n",
    "\n",
    "    ax1.set_yticks([])  # Clear the yaxis labels / ticks\n",
    "    ax1.set_xticks([-0.1, 0, 0.2, 0.4, 0.6, 0.8, 1])\n",
    "\n",
    "    # 2nd Plot showing the actual clusters formed\n",
    "    colors = cm.nipy_spectral(cluster_labels.astype(float) / n_c)\n",
    "    ax2.scatter(easrt_degrees.index, easrt_degrees, marker='.', s=30, lw=0, alpha=0.7,\n",
    "                c=colors, edgecolor='k')\n",
    "\n",
    "    # Labeling the clusters\n",
    "    centers = clusterer.cluster_centers_\n",
    "    \n",
    "    # Draw white circles at cluster centers\n",
    "    ax2.plot(centers[:, 0],  marker='o',\n",
    "                c=\"white\", alpha=1)\n",
    "\n",
    "    ax2.set_title(\"The visualization of the clustered data.\")\n",
    "    ax2.set_xlabel(\"Time\")\n",
    "    ax2.set_ylabel(\"Number of Events\")\n",
    "\n",
    "    plt.suptitle((\"Silhouette analysis for KMeans clustering on sample data \"\n",
    "                  \"with n_clusters = %d\" % n_c),\n",
    "                 fontsize=14, fontweight='bold')\n",
    "\n",
    "plt.show()"
   ]
  },
  {
   "cell_type": "markdown",
   "id": "6d7e8cdb",
   "metadata": {},
   "source": [
    "We want silhouette score to be closest to 1, thus with this data set, we get the best silhouette score when we use 2 clusters in KMeans. We now attempt this on a random sample of the dataset (without the graphs) and determine how many clusters to use. We use the random sample since performing this for the entire data set would be a very long process - we'll take a sample of 10% which gives us 1820 samples."
   ]
  },
  {
   "cell_type": "code",
   "execution_count": null,
   "id": "17760cf7",
   "metadata": {},
   "outputs": [],
   "source": [
    "def cluster_size_search(data):\n",
    "    \n",
    "    no_clusters = [2,3,4,5,6,7,8,10,16,24]\n",
    "    return_sil = []\n",
    "    \n",
    "    for n_c in no_clusters:\n",
    "\n",
    "        clusterer = KMeans(n_clusters=n_c, random_state=10)\n",
    "        cluster_labels = clusterer.fit_predict(np.array(data).reshape(-1, 1))\n",
    "        \n",
    "        silhouette_avg = silhouette_score(np.array(data).reshape(-1,1), cluster_labels)\n",
    "        return_sil.append(silhouette_avg)\n",
    "    \n",
    "    return return_sil"
   ]
  },
  {
   "cell_type": "code",
   "execution_count": null,
   "id": "71d9014d",
   "metadata": {},
   "outputs": [],
   "source": [
    "try:\n",
    "    sil_scores = pd.read_csv('Sil scores degrees.csv')\n",
    "    print('Time taken for 1819 iterations: 0:31:22.784388')\n",
    "    sil_scores = sil_scores.drop('Unnamed: 0', axis=1)\n",
    "except:\n",
    "    sil_scores = pd.DataFrame(np.empty((0,10)))\n",
    "    sil_scores.columns = [2,3,4,5,6,7,8,10,16,24]\n",
    "\n",
    "    entries = random.sample(range(degree_days_t.shape[1]), int(degree_days_t.shape[1]/10))\n",
    "\n",
    "    s_time = datetime.datetime.now()\n",
    "\n",
    "    for e,i in enumerate(entries):\n",
    "        clear_output(wait=True)\n",
    "        data = degree_days_t.iloc[:, i]\n",
    "        data_scores = cluster_size_search(data)\n",
    "        sil_scores.loc[i] = data_scores\n",
    "\n",
    "    e_time = datetime.datetime.now()\n",
    "\n",
    "    print('Time taken for {} iterations: {}.'.format(len(entries),e_time-s_time))\n",
    "    sil_scores.to_csv('Sil scores degrees.csv')"
   ]
  },
  {
   "cell_type": "code",
   "execution_count": null,
   "id": "f08ce810",
   "metadata": {},
   "outputs": [],
   "source": [
    "plt.figure(figsize=(10,5))\n",
    "sns.boxplot(showmeans=True, data=sil_scores)\n",
    "plt.axhline(y=sil_scores['2'].median(), color='w', linestyle='-',alpha=0.8)\n",
    "plt.xlabel('Number of Clusters')\n",
    "plt.ylabel('Silhouette Score')\n",
    "plt.show()"
   ]
  },
  {
   "cell_type": "code",
   "execution_count": null,
   "id": "8ffe96e5",
   "metadata": {},
   "outputs": [],
   "source": [
    "sil_scores.describe()"
   ]
  },
  {
   "cell_type": "markdown",
   "id": "1127b025",
   "metadata": {},
   "source": [
    "We see that the median and mean for the results decrease as we increase the number of clusters. The scores are stil high, remaining above 0.9 until we reach 10 clusters and therefore using any of these numbers of clusters should work well. In our case however, we will use 2 clusters. This allows us to easily group events into one major cluster with an outlier cluster too that will be called anomalous depending on thresholds we set."
   ]
  },
  {
   "cell_type": "markdown",
   "id": "d6b3895c",
   "metadata": {},
   "source": [
    "We'll plot a clustering for 10 random Source Devices below."
   ]
  },
  {
   "cell_type": "code",
   "execution_count": null,
   "id": "f4bf7360",
   "metadata": {},
   "outputs": [],
   "source": [
    "plot_entries = random.sample(range(degree_days_t.shape[1]), 10)\n",
    "\n",
    "for i in plot_entries:\n",
    "    \n",
    "    fig = plt.plot(figsize=(12,12))\n",
    "    \n",
    "    clusterer = KMeans(n_clusters=2, random_state=10)\n",
    "    cluster_labels = clusterer.fit_predict(np.array(degree_days_t.iloc[:, i]).reshape(-1, 1))\n",
    "\n",
    "    # Plot showing the actual clusters formed\n",
    "    colors = cm.nipy_spectral(cluster_labels.astype(float) / 2)\n",
    "    plt.scatter(degree_days_t.iloc[:, i].index, degree_days_t.iloc[:, i], marker='.', s=30, lw=0, alpha=0.7,\n",
    "                c=colors, edgecolor='k')\n",
    "\n",
    "    # Labeling the clusters\n",
    "    centers = clusterer.cluster_centers_\n",
    "    \n",
    "    # Draw white circles at cluster centers\n",
    "    plt.plot(centers[:, 0],  marker='o',\n",
    "                c=\"white\", alpha=1)\n",
    "\n",
    "    plt.title(\"The visualization of the clustered data.\")\n",
    "    plt.xlabel(\"Time\")\n",
    "    plt.ylabel(\"Number of Events\")\n",
    "\n",
    "    plt.show()"
   ]
  },
  {
   "cell_type": "markdown",
   "id": "65a76148",
   "metadata": {},
   "source": [
    "So we see that KMeans isn't hugely effective in this aspect. Points that we wouldn't likely consider as anomalies are grouped into the anomalous data points by the method due to it not understanding time particularly well - we see periodic increases that are considered anomalies however in the larger scheme of things, they are unlikely to be as they are just periodic increases."
   ]
  },
  {
   "cell_type": "markdown",
   "id": "83427594",
   "metadata": {},
   "source": [
    "One issue we face is that the Euclidean distance isn't particularly well suited for time series data. One recommendation made in reference [9] is to use the dynamic time warping metric. We attempted this below with TimeSeriesKMeans from tslearn however this seems to run for way too long for any effective use within our data."
   ]
  },
  {
   "cell_type": "markdown",
   "id": "b593db80",
   "metadata": {},
   "source": [
    "#### Dynamic Time Warping"
   ]
  },
  {
   "cell_type": "code",
   "execution_count": null,
   "id": "27b84c80",
   "metadata": {},
   "outputs": [],
   "source": [
    "from tslearn.clustering import TimeSeriesKMeans, silhouette_score"
   ]
  },
  {
   "cell_type": "code",
   "execution_count": null,
   "id": "740ee929",
   "metadata": {},
   "outputs": [],
   "source": [
    "eas_scaler = StandardScaler()\n",
    "eas_scaler.fit(np.array(rt_degrees.iloc[:, 0]).reshape(-1,1))\n",
    "eas_scaled = eas_scaler.transform(np.array(rt_degrees.iloc[:, 0]).reshape(-1,1))"
   ]
  },
  {
   "cell_type": "code",
   "execution_count": null,
   "id": "13109bcf",
   "metadata": {},
   "outputs": [],
   "source": [
    "# print(\"Soft-DTW k-means\")\n",
    "# no_clusters = [4,5,6,7,8,10,16,24]\n",
    "\n",
    "# for n_c in no_clusters:\n",
    "#     print(n_c)\n",
    "#     fig, (ax1, ax2) = plt.subplots(1, 2)\n",
    "#     fig.set_size_inches(18, 7)\n",
    "    \n",
    "#     clusterer = TimeSeriesKMeans(n_clusters=n_c, \n",
    "#                                  metric=\"softdtw\",\n",
    "#                                  metric_params={\"gamma\": .},\n",
    "#                                  verbose=True,\n",
    "#                                  random_state=10)\n",
    "#     cluster_labels = clusterer.fit_predict(eas_scaled)\n",
    "    \n",
    "#     silhouette_avg = silhouette_score(eas_scaled, cluster_labels)\n",
    "#     print(\"For n_clusters =\", n_c,\n",
    "#           \"The average silhouette_score is :\", silhouette_avg)\n",
    "    \n",
    "#     sample_silhouette_values = silhouette_samples(eas_scaled, cluster_labels)\n",
    "    \n",
    "#     y_lower = 10\n",
    "    \n",
    "#     for i in range(n_c):\n",
    "#         # Aggregate the silhouette scores for samples belonging to\n",
    "#         # cluster i, and sort them\n",
    "#         ith_cluster_silhouette_values = \\\n",
    "#             sample_silhouette_values[cluster_labels == i]\n",
    "\n",
    "#         ith_cluster_silhouette_values.sort()\n",
    "\n",
    "#         size_cluster_i = ith_cluster_silhouette_values.shape[0]\n",
    "#         y_upper = y_lower + size_cluster_i\n",
    "\n",
    "#         color = cm.nipy_spectral(float(i) / n_c)\n",
    "#         ax1.fill_betweenx(np.arange(y_lower, y_upper),\n",
    "#                           0, ith_cluster_silhouette_values,\n",
    "#                           facecolor=color, edgecolor=color, alpha=0.7)\n",
    "\n",
    "#         # Label the silhouette plots with their cluster numbers at the middle\n",
    "#         ax1.text(-0.05, y_lower + 0.5 * size_cluster_i, str(i))\n",
    "\n",
    "#         # Compute the new y_lower for next plot\n",
    "#         y_lower = y_upper + 10  # 10 for the 0 samples\n",
    "\n",
    "#     ax1.set_title(\"The silhouette plot for the various clusters.\")\n",
    "#     ax1.set_xlabel(\"The silhouette coefficient values\")\n",
    "#     ax1.set_ylabel(\"Cluster label\")\n",
    "\n",
    "#     # The vertical line for average silhouette score of all the values\n",
    "#     ax1.axvline(x=silhouette_avg, color=\"red\", linestyle=\"--\")\n",
    "\n",
    "#     ax1.set_yticks([])  # Clear the yaxis labels / ticks\n",
    "#     ax1.set_xticks([-0.1, 0, 0.2, 0.4, 0.6, 0.8, 1])\n",
    "\n",
    "#     # 2nd Plot showing the actual clusters formed\n",
    "#     colors = cm.nipy_spectral(cluster_labels.astype(float) / n_c)\n",
    "#     ax2.scatter(easrt_degrees.index, rt_degrees.iloc[:, 1000], marker='.', s=30, lw=0, alpha=0.7,\n",
    "#                 c=colors, edgecolor='k')\n",
    "\n",
    "#     # Labeling the clusters\n",
    "#     centers = clusterer.cluster_centers_\n",
    "    \n",
    "#     # Draw white circles at cluster centers\n",
    "#     ax2.plot(centers[:, 0],  marker='o',\n",
    "#                 c=\"white\", alpha=1)\n",
    "\n",
    "#     ax2.set_title(\"The visualization of the clustered data.\")\n",
    "#     ax2.set_xlabel(\"Time\")\n",
    "#     ax2.set_ylabel(\"Number of Events\")\n",
    "\n",
    "#     plt.suptitle((\"Silhouette analysis for KMeans clustering on sample data \"\n",
    "#                   \"with n_clusters = %d\" % n_c),\n",
    "#                  fontsize=14, fontweight='bold')\n",
    "\n",
    "# plt.show()"
   ]
  },
  {
   "cell_type": "markdown",
   "id": "6c11f0ad",
   "metadata": {},
   "source": [
    "#### Isolation Forest"
   ]
  },
  {
   "cell_type": "markdown",
   "id": "644b6d35",
   "metadata": {},
   "source": [
    "We try an isolation forest on this data. For an isolation forest we should to define a contamination level i.e. the % of our data which we assume to be anomalies. This is difficult to do here and will require further research into to determine the correct level."
   ]
  },
  {
   "cell_type": "code",
   "execution_count": null,
   "id": "64de4b7f",
   "metadata": {},
   "outputs": [],
   "source": [
    "eas_scaler = StandardScaler()\n",
    "eas_scaler.fit(np.array(rt_degrees.iloc[:, 0]).reshape(-1,1))\n",
    "eas_scaled = eas_scaler.transform(np.array(rt_degrees.iloc[:, 0]).reshape(-1,1))\n",
    "eas_data = pd.DataFrame(eas_scaled)\n",
    "\n",
    "if_model = IsolationForest(contamination=0.005)\n",
    "if_predictions = if_model.fit_predict(eas_data)\n",
    "fig, ax = plt.subplots(figsize=(10,6))\n",
    "a = eas_data.loc[if_predictions == -1]\n",
    "ax.plot(eas_data.index, eas_data[0], color='black', label='Normal')\n",
    "ax.scatter(a.index, a, color='red', label='Anomaly')\n",
    "ax.set_xlabel(\"Time\")\n",
    "ax.set_ylabel(\"Number of Events\")\n",
    "plt.legend()\n",
    "plt.show()"
   ]
  },
  {
   "cell_type": "code",
   "execution_count": null,
   "id": "1dc69135",
   "metadata": {},
   "outputs": [],
   "source": [
    "for i in plot_entries:\n",
    "    scaler = StandardScaler()\n",
    "    scaler.fit(np.array(degree_days_t.iloc[:, i]).reshape(-1, 1))\n",
    "    scaled = scaler.transform(np.array(degree_days_t.iloc[:, i]).reshape(-1, 1))\n",
    "    data = pd.DataFrame(scaled)\n",
    "\n",
    "    if_model = IsolationForest(contamination=0.005)\n",
    "    if_predictions = if_model.fit_predict(data)\n",
    "    fig, ax = plt.subplots(figsize=(10,6))\n",
    "    a = data.loc[if_predictions == -1]\n",
    "    ax.plot(data.index, data[0], color='black', label='Normal')\n",
    "    ax.scatter(a.index, a, color='red', label='Anomaly')\n",
    "    ax.set_xlabel(\"Time\")\n",
    "    ax.set_ylabel(\"Number of Events\")\n",
    "    plt.legend()\n",
    "    \n",
    "plt.show()"
   ]
  },
  {
   "cell_type": "markdown",
   "id": "45d4f9ba",
   "metadata": {},
   "source": [
    "The issue is that tit's likely a lot of these items getting reported are false positives - we need to find better features to use to detect anomalies along with the basic counts if we are going to use isolation forests."
   ]
  },
  {
   "cell_type": "markdown",
   "id": "2371a0ef",
   "metadata": {},
   "source": [
    "#### Iso Forest & KMeans"
   ]
  },
  {
   "cell_type": "code",
   "execution_count": null,
   "id": "c053cefa",
   "metadata": {
    "scrolled": true
   },
   "outputs": [],
   "source": [
    "for i in plot_entries:\n",
    "    scaler = StandardScaler()\n",
    "    scaler.fit(np.array(degree_days_t.iloc[:, i]).reshape(-1, 1))\n",
    "    scaled = scaler.transform(np.array(degree_days_t.iloc[:, i]).reshape(-1, 1))\n",
    "    data = pd.DataFrame(scaled)\n",
    "\n",
    "    if_model = IsolationForest(contamination=0.005)\n",
    "    if_predictions = if_model.fit_predict(data)\n",
    "    \n",
    "    clusterer = KMeans(n_clusters=2, random_state=10)\n",
    "    cluster_labels = clusterer.fit_predict(np.array(degree_days_t.iloc[:, i]).reshape(-1, 1))\n",
    "    unique, counts = np.unique(cluster_labels, return_counts=True)\n",
    "    \n",
    "    anom_k = data.loc[np.where(cluster_labels == unique[np.where(counts == counts.min())])]\n",
    "    a = data.loc[if_predictions == -1]\n",
    "    \n",
    "    anomalies = data.loc[list(set(anom_k.index) & set(a.index))]\n",
    "    \n",
    "    \n",
    "    fig, ax = plt.subplots(figsize=(20,6))\n",
    "    ax.plot(data.index, data[0], color='black', label='Normal')\n",
    "    ax.scatter(anomalies.index, anomalies, color='red', label='Anomaly')\n",
    "    ax.set_xlabel(\"Time\")\n",
    "    ax.set_ylabel(\"Number of Events\")\n",
    "    ax.text(0,data.max()-2,('Number of combined anomalies found: {}. \\n Number of KMeans anomalies found: {}. \\n Number of IF anomalies found: {}.'.format(len(anomalies), len(anom_k), len(a))))\n",
    "    plt.legend(loc=1)\n",
    "    \n",
    "plt.show()"
   ]
  },
  {
   "cell_type": "markdown",
   "id": "fda1127c",
   "metadata": {},
   "source": [
    "#### FBProphet"
   ]
  },
  {
   "cell_type": "markdown",
   "id": "a7a8fc5a",
   "metadata": {},
   "source": [
    "FBProphet is an anomaly detection tool - its quite difficult to install (!pip install fbprophet shows a requirement for VB Studio) but [this](https://stackoverflow.com/questions/51460318/microsoft-visual-c-14-0-is-required-error-pip-install-fbprophet) stackexchange thread helped."
   ]
  },
  {
   "cell_type": "code",
   "execution_count": null,
   "id": "14db304c",
   "metadata": {},
   "outputs": [],
   "source": [
    "from fbprophet import Prophet\n",
    "import altair as alt"
   ]
  },
  {
   "cell_type": "code",
   "execution_count": null,
   "id": "fece21e6",
   "metadata": {},
   "outputs": [],
   "source": [
    "def fit_predict_model(dataframe, interval_width = 0.9999, changepoint_range = 0.9):\n",
    "    m = Prophet(daily_seasonality = False, yearly_seasonality = False, weekly_seasonality = False,\n",
    "               seasonality_mode = 'additive',\n",
    "               interval_width = interval_width,\n",
    "               changepoint_range = changepoint_range)\n",
    "    m = m.fit(dataframe)\n",
    "    forecast = m.predict(dataframe)\n",
    "    forecast['fact'] = dataframe['y'].reset_index(drop = True)\n",
    "    return forecast"
   ]
  },
  {
   "cell_type": "code",
   "execution_count": null,
   "id": "bac81d60",
   "metadata": {},
   "outputs": [],
   "source": [
    "def detect_anomalies(forecast):\n",
    "    forecasted = forecast[['ds','trend', 'yhat', 'yhat_lower', 'yhat_upper', 'fact']].copy()\n",
    "    forecasted['anomaly'] = 0\n",
    "    forecasted.loc[forecasted['fact'] > forecasted['yhat_upper'], 'anomaly'] = 1\n",
    "    forecasted.loc[forecasted['fact'] < forecasted['yhat_lower'], 'anomaly'] = -1\n",
    "    #anomaly importances\n",
    "    forecasted['importance'] = 0\n",
    "    forecasted.loc[forecasted['anomaly'] ==1, 'importance'] = \\\n",
    "       (forecasted['fact'] - forecasted['yhat_upper'])/forecast['fact']\n",
    "    forecasted.loc[forecasted['anomaly'] ==-1, 'importance'] = \\\n",
    "       (forecasted['yhat_lower'] - forecasted['fact'])/forecast['fact']\n",
    "  \n",
    "    return forecasted"
   ]
  },
  {
   "cell_type": "code",
   "execution_count": null,
   "id": "048b5924",
   "metadata": {},
   "outputs": [],
   "source": [
    "def plot_anomalies(forecasted):\n",
    "    interval = alt.Chart(forecasted).mark_area(interpolate=\"basis\", color = '#7FC97F').encode(\n",
    "    x=alt.X('ds:T',  title ='Time'),\n",
    "    y='yhat_upper',\n",
    "    y2='yhat_lower',\n",
    "    tooltip=['ds', 'fact', 'yhat_lower', 'yhat_upper']\n",
    "    ).interactive().properties(\n",
    "        title='Anomaly Detection'\n",
    "    )\n",
    "\n",
    "    fact = alt.Chart(forecasted[forecasted.anomaly==0]).mark_circle(size=15, opacity=0.7, color = 'Black').encode(\n",
    "        x='ds:T',\n",
    "        y=alt.Y('fact', title='Number of Events'),    \n",
    "        tooltip=['ds', 'fact', 'yhat_lower', 'yhat_upper']\n",
    "    ).interactive()\n",
    "\n",
    "    anomalies = alt.Chart(forecasted[forecasted.anomaly!=0]).mark_circle(size=30, color = 'Red').encode(\n",
    "        x='ds:T',\n",
    "        y=alt.Y('fact', title='Number of Events'),    \n",
    "        tooltip=['ds', 'fact', 'yhat_lower', 'yhat_upper'],\n",
    "        size = alt.Size( 'importance', legend=None)\n",
    "    ).interactive()\n",
    "\n",
    "    return alt.layer(interval, fact, anomalies)\\\n",
    "              .properties(width=870, height=450)\\\n",
    "              .configure_title(fontSize=20)"
   ]
  },
  {
   "cell_type": "code",
   "execution_count": null,
   "id": "8d5ebb33",
   "metadata": {},
   "outputs": [],
   "source": [
    "fbp_data = pd.DataFrame()\n",
    "fbp_data['ds'] = pd.date_range(start='1/1/2014', periods=len(eas_data))\n",
    "fbp_data['y'] = eas_data[0] \n",
    "\n",
    "pred = fit_predict_model(fbp_data)\n",
    "pred = detect_anomalies(pred)\n",
    "plot_anomalies(pred)"
   ]
  },
  {
   "cell_type": "markdown",
   "id": "bf2c78e0",
   "metadata": {},
   "source": [
    "We create an interesting anomaly detection scheme but I really need to look into the effectiveness of this before we assume it's useful."
   ]
  },
  {
   "cell_type": "markdown",
   "id": "297b247b",
   "metadata": {},
   "source": [
    "Having researched the Isolation Forest algorithm on three other data sets, I'm confident that this is a good direction to go in - the issue thus is feature creation."
   ]
  },
  {
   "cell_type": "markdown",
   "id": "06d1cd85",
   "metadata": {},
   "source": [
    "### Feature Creation"
   ]
  },
  {
   "cell_type": "code",
   "execution_count": null,
   "id": "f64c86e2",
   "metadata": {},
   "outputs": [],
   "source": [
    "authentication_data"
   ]
  },
  {
   "cell_type": "markdown",
   "id": "9f72c55b",
   "metadata": {},
   "source": [
    "We first define a function that produces a data frame of the number of each authentication type occuring during the selected time period for an individual computer."
   ]
  },
  {
   "cell_type": "code",
   "execution_count": null,
   "id": "fe0053a6",
   "metadata": {},
   "outputs": [],
   "source": [
    "def auth_type_df(comp,n):\n",
    "    auth_type_df = pd.DataFrame(index = list(authentication_data['Authent Type'].unique()))\n",
    "    n = n\n",
    "\n",
    "    for i in range(len(auth_start_days)-1):\n",
    "        chunks = split_dataframe(authentication_data[auth_start_days[i]:auth_start_days[i+1]],n)\n",
    "        for j in range(n):\n",
    "                data = chunks[j]\n",
    "                auth_type_data = data[data['SrcDevice'] == comp].groupby('Authent Type').size()\n",
    "                auth_type_df[i*n + j] = auth_type_df.index.to_series().map(auth_type_data.to_dict())\n",
    "\n",
    "    auth_type_df = auth_type_df.transpose()\n",
    "    auth_type_df = auth_type_df.fillna(0)\n",
    "    \n",
    "    return auth_type_df"
   ]
  },
  {
   "cell_type": "code",
   "execution_count": null,
   "id": "cea9df56",
   "metadata": {},
   "outputs": [],
   "source": [
    "s_time = datetime.datetime.now()\n",
    "\n",
    "Comp808475_auth_types = auth_type_df('Comp808475',24)\n",
    "\n",
    "e_time = datetime.datetime.now()\n",
    "\n",
    "print('Time taken for {} iterations: {}.'.format(1,e_time-s_time))"
   ]
  },
  {
   "cell_type": "markdown",
   "id": "a00c0e7c",
   "metadata": {},
   "source": [
    "Calculate counts (or failure counts) for each authentication type over 90 days gives us 1170 features for each SrDevice - use this to determine which computers get compromised at any point. Then use this to analyse each computer we determine has been compromised at some point and determine which point they get compromised in."
   ]
  },
  {
   "cell_type": "code",
   "execution_count": null,
   "id": "aa92edb7",
   "metadata": {},
   "outputs": [],
   "source": [
    "Comp808475_auth_types_scaler = StandardScaler()\n",
    "Comp808475_auth_types_scaler.fit(Comp808475_auth_types)\n",
    "Comp808475_auth_types_scaled = Comp808475_auth_types_scaler.transform(Comp808475_auth_types)\n",
    "Comp808475_auth_types_data = pd.DataFrame(Comp808475_auth_types_scaled)\n",
    "\n",
    "if_model = IsolationForest()\n",
    "if_predictions = if_model.fit_predict(Comp808475_auth_types_data)\n",
    "\n",
    "Comp808475_pca = PCA(n_components=2)\n",
    "Comp808475_auth_types_pca = pd.DataFrame(Comp808475_pca.fit_transform(Comp808475_auth_types_data))"
   ]
  },
  {
   "cell_type": "code",
   "execution_count": null,
   "id": "b0368c62",
   "metadata": {},
   "outputs": [],
   "source": [
    "fig, ax = plt.subplots(figsize=(10,6))\n",
    "a = Comp808475_auth_types_pca.loc[if_predictions == -1]\n",
    "ax.plot(Comp808475_auth_types_pca[0], Comp808475_auth_types_pca[1], color='black', label='Normal')\n",
    "ax.scatter(a[0], a[1], color='red', label='Anomaly')\n",
    "ax.set_title(\"PCA Transformed Feature Extraction - Isolation Forest Anomaly Detection\")\n",
    "plt.legend()\n",
    "plt.show()"
   ]
  },
  {
   "cell_type": "code",
   "execution_count": null,
   "id": "7af3c29b",
   "metadata": {},
   "outputs": [],
   "source": [
    "if_predictions"
   ]
  },
  {
   "cell_type": "markdown",
   "id": "40d4d9fa",
   "metadata": {},
   "source": [
    "#### Isolation Forest Analysis"
   ]
  },
  {
   "cell_type": "markdown",
   "id": "e5a0dda7",
   "metadata": {},
   "source": [
    "We first plot this analysis when only using the counts of overall authentications and then plot this with the anomalies from the authentication types data frame."
   ]
  },
  {
   "cell_type": "code",
   "execution_count": null,
   "id": "db4384a1",
   "metadata": {},
   "outputs": [],
   "source": [
    "Comp808475_scaler = StandardScaler()\n",
    "Comp808475_scaler.fit(np.array(degree_days_t['Comp808475']).reshape(-1,1))\n",
    "Comp808475_scaled = eas_scaler.transform(np.array(degree_days_t['Comp808475']).reshape(-1,1))\n",
    "Comp808475_data = pd.DataFrame(Comp808475_scaled)\n",
    "\n",
    "if_model = IsolationForest(contamination=0.005)\n",
    "if_predictions = if_model.fit_predict(Comp808475_data)\n",
    "\n",
    "fig, ax = plt.subplots(figsize=(10,6))\n",
    "a = Comp808475_data.loc[if_predictions == -1]\n",
    "ax.plot(Comp808475_data.index, Comp808475_data[0], color='black', label='Normal')\n",
    "ax.scatter(a.index, a, color='red', label='Anomaly')\n",
    "ax.set_xlabel(\"Time\")\n",
    "ax.set_ylabel(\"Number of Events\")\n",
    "plt.legend()\n",
    "plt.show()"
   ]
  },
  {
   "cell_type": "code",
   "execution_count": null,
   "id": "78f0d51e",
   "metadata": {},
   "outputs": [],
   "source": [
    "Comp808475_auth_types_scaler = StandardScaler()\n",
    "Comp808475_auth_types_scaler.fit(Comp808475_auth_types)\n",
    "Comp808475_auth_types_scaled = Comp808475_auth_types_scaler.transform(Comp808475_auth_types)\n",
    "Comp808475_auth_types_data = pd.DataFrame(Comp808475_auth_types_scaled)\n",
    "\n",
    "if_model = IsolationForest(contamination=0.005)\n",
    "if_predictions_types = if_model.fit_predict(Comp808475_auth_types_data)\n",
    "\n",
    "fig, ax = plt.subplots(figsize=(10,6))\n",
    "a = Comp808475_data.loc[if_predictions_types == -1]\n",
    "ax.plot(Comp808475_data.index, Comp808475_data[0], color='black', label='Normal')\n",
    "ax.scatter(a.index, a, color='red', label='Anomaly')\n",
    "ax.set_xlabel(\"Time\")\n",
    "ax.set_ylabel(\"Number of Events\")\n",
    "plt.legend()\n",
    "plt.show()"
   ]
  },
  {
   "cell_type": "markdown",
   "id": "78a09850",
   "metadata": {},
   "source": [
    "So we identify a completely different set of anomalies here using these features. We create a function to handle this process for us."
   ]
  },
  {
   "cell_type": "markdown",
   "id": "9804232d",
   "metadata": {},
   "source": [
    "#### Isolation Forest/LOF Detection"
   ]
  },
  {
   "cell_type": "markdown",
   "id": "0edbdd1c",
   "metadata": {},
   "source": [
    "The function below finds anomalies using both isolation forests and local outlier factor."
   ]
  },
  {
   "cell_type": "code",
   "execution_count": null,
   "id": "e22f2c58",
   "metadata": {},
   "outputs": [],
   "source": [
    "def scaled_iso_lof(data,plot=False,c='auto'):\n",
    "    \n",
    "    # scaling\n",
    "    scaler = StandardScaler()\n",
    "    scaled_data = pd.DataFrame(scaler.fit_transform(data))\n",
    "    \n",
    "    # isolation forest predictions\n",
    "    if_model = IsolationForest(contamination=c)\n",
    "    if_predictions = if_model.fit_predict(data)\n",
    "    \n",
    "    # local outlier factor predictions\n",
    "    lof = LocalOutlierFactor(n_neighbors=2)\n",
    "    lof_predictions = lof.fit_predict(data)\n",
    "    \n",
    "    if plot == True:\n",
    "        \n",
    "        # PCA reduction for plotting\n",
    "        pca = PCA(n_components=2)\n",
    "        auth_types_pca = pd.DataFrame(pca.fit_transform(data))\n",
    "        \n",
    "        # finding anomaly locations\n",
    "        a_if = auth_types_pca.loc[if_predictions == -1]\n",
    "        a_lof = auth_types_pca.loc[lof_predictions == -1]\n",
    "        \n",
    "        anomalies = auth_types_pca.loc[list(set(a_lof.index) & set(a_if.index))]\n",
    "        \n",
    "        fig, ax = plt.subplots(figsize=(20,6))\n",
    "        ax.plot(auth_types_pca[0], auth_types_pca[1], color='black', label='Normal')\n",
    "        ax.scatter(anomalies[0], anomalies[1], color='red', label='Anomaly')\n",
    "        ax.set_xlabel(\"Time\")\n",
    "        ax.set_ylabel(\"Number of Events\")\n",
    "        ax.text(0,auth_types_pca[1].max()-0.1,('Number of combined anomalies found: {}. \\n Number of LOF anomalies found: {}. \\n Number of IF anomalies found: {}.'.format(len(anomalies), len(a_lof), len(a_if))))\n",
    "        plt.legend(loc=1)\n",
    "        \n",
    "    else:\n",
    "        a_if = data.loc[if_predictions == -1]\n",
    "        a_lof = data.loc[lof_predictions == -1]\n",
    "\n",
    "        anomalies = data.loc[list(set(a_lof.index) & set(a_if.index))]\n",
    "    \n",
    "    return anomalies\n",
    "    "
   ]
  },
  {
   "cell_type": "markdown",
   "id": "142af841",
   "metadata": {},
   "source": [
    "### Red Team Authentications"
   ]
  },
  {
   "cell_type": "code",
   "execution_count": null,
   "id": "d0102277",
   "metadata": {},
   "outputs": [],
   "source": [
    "json_data = []\n",
    "\n",
    "s_time = datetime.datetime.now()\n",
    "\n",
    "with open('C:/Users/corri/OneDrive/Documents/Uni/Postgraduate/Final Project/LANL/ATI Data/red_team_anonymized/authentications/authentication_redteam_wls_entries.txt') as f:\n",
    "    for line in f:\n",
    "        ln = json.loads(line)\n",
    "        json_data.append(ln)\n",
    "    \n",
    "red_team_auths = pd.DataFrame(json_data)\n",
    "\n",
    "e_time = datetime.datetime.now()\n",
    "\n",
    "print('Reading data took: {}.'.format(e_time - s_time))\n",
    "\n",
    "print('{} lines read.'.format(red_team_auths.shape[0]))"
   ]
  },
  {
   "cell_type": "code",
   "execution_count": null,
   "id": "8147e5f8",
   "metadata": {},
   "outputs": [],
   "source": [
    "red_team_auths"
   ]
  },
  {
   "cell_type": "markdown",
   "id": "61c04fbf",
   "metadata": {},
   "source": [
    "### Feature Development"
   ]
  },
  {
   "cell_type": "markdown",
   "id": "d91154b6",
   "metadata": {},
   "source": [
    "We'll use the auth type function to create sparse data sets for analysis although I think we've been looking at this wrong and should instead look at username's for this analysis since this is more likely to show periodicity."
   ]
  },
  {
   "cell_type": "code",
   "execution_count": null,
   "id": "69801338",
   "metadata": {},
   "outputs": [],
   "source": [
    "def auth_type_un_df(user,n):\n",
    "    auth_type_df = pd.DataFrame(index = list(authentication_data['Authent Type'].unique()))\n",
    "    n = n\n",
    "    auth_type_dict = {}\n",
    "    \n",
    "    for i in range(len(auth_start_days)-1):\n",
    "        chunks = split_dataframe(authentication_data[auth_start_days[i]:auth_start_days[i+1]],n)\n",
    "        for j in range(n):\n",
    "                data = chunks[j]\n",
    "                auth_type_data = data[data['UserName'] == user].groupby('Authent Type').size()\n",
    "                auth_type_dict[i*n + j] = auth_type_df.index.to_series().map(auth_type_data.to_dict())\n",
    "    \n",
    "    auth_type_df = pd.DataFrame(data=auth_type_dict,index = list(authentication_data['Authent Type'].unique()))\n",
    "    auth_type_df = auth_type_df.transpose()\n",
    "    auth_type_df = auth_type_df.fillna(0)\n",
    "    \n",
    "    return auth_type_df"
   ]
  },
  {
   "cell_type": "markdown",
   "id": "36e3193b",
   "metadata": {},
   "source": [
    "We'll obtain a list of unique user names in the data."
   ]
  },
  {
   "cell_type": "code",
   "execution_count": null,
   "id": "a02b37cf",
   "metadata": {},
   "outputs": [],
   "source": [
    "usernames = list(authentication_data['UserName'].unique())"
   ]
  },
  {
   "cell_type": "code",
   "execution_count": null,
   "id": "135a8f06",
   "metadata": {},
   "outputs": [],
   "source": [
    "s_time = datetime.datetime.now()\n",
    "\n",
    "anomaly_counts = []\n",
    "\n",
    "for e,un in enumerate(usernames):\n",
    "    if e < 100:\n",
    "        auth_type_data = auth_type_un_df(un,24)\n",
    "        predictions = scaled_iso_lof(auth_type_data)\n",
    "        #print('Username: {} returned {} anomalies.'.format(un,len(predictions)))\n",
    "        anomaly_counts.append(len(predictions))\n",
    "    else:\n",
    "        break\n",
    "    \n",
    "e_time = datetime.datetime.now()\n",
    "\n",
    "print('Time taken for {} iterations: {}.'.format(e,e_time-s_time))"
   ]
  },
  {
   "cell_type": "code",
   "execution_count": null,
   "id": "0ab07517-cd2c-4177-b7fc-597700655855",
   "metadata": {},
   "outputs": [],
   "source": [
    "plt.figure()\n",
    "sns.boxplot(data=anomaly_counts)\n",
    "plt.show()"
   ]
  },
  {
   "cell_type": "code",
   "execution_count": null,
   "id": "9aee2c3e-3326-4b33-b34c-5696ae943815",
   "metadata": {},
   "outputs": [],
   "source": [
    "np.sum(anomaly_counts)"
   ]
  },
  {
   "cell_type": "code",
   "execution_count": null,
   "id": "37fe688c",
   "metadata": {},
   "outputs": [],
   "source": [
    "from scipy import sparse"
   ]
  },
  {
   "cell_type": "markdown",
   "id": "7acc4639",
   "metadata": {},
   "source": [
    "### References"
   ]
  },
  {
   "cell_type": "markdown",
   "id": "9e0ff98d",
   "metadata": {},
   "source": [
    "1. [Read JSON file with pandas](https://pandas.pydata.org/docs/user_guide/io.html#json)\n",
    "2. [Welch's Test](https://docs.scipy.org/doc/scipy/reference/generated/scipy.stats.ttest_ind.html)\n",
    "3. [Combining p-values](https://docs.scipy.org/doc/scipy-0.16.0/reference/generated/scipy.stats.combine_pvalues.html)\n",
    "4. [LANL Work Times](https://www.lanl.gov/careers/employees-retirees/new-hires/benefit-options/time-off.php)\n",
    "5. [LANL Documentation](https://arxiv.org/pdf/1708.07518.pdf)\n",
    "6. [Reading .bz2 JSON](https://stackoverflow.com/questions/48078567/how-to-parse-wikidata-json-bz2-file-using-python)\n",
    "7. [Silhouette Score Plotting](https://scikit-learn.org/stable/auto_examples/cluster/plot_kmeans_silhouette_analysis.html)\n",
    "8. [KMeans](https://scikit-learn.org/stable/modules/generated/sklearn.cluster.KMeans.html)\n",
    "9. [Block Commenting](https://stackoverflow.com/questions/29885371/how-do-i-block-comment-in-jupyter-notebook)\n",
    "10. [Anomaly Detection in Time Series](https://neptune.ai/blog/anomaly-detection-in-time-series)"
   ]
  }
 ],
 "metadata": {
  "kernelspec": {
   "display_name": "Python 3",
   "language": "python",
   "name": "python3"
  },
  "language_info": {
   "codemirror_mode": {
    "name": "ipython",
    "version": 3
   },
   "file_extension": ".py",
   "mimetype": "text/x-python",
   "name": "python",
   "nbconvert_exporter": "python",
   "pygments_lexer": "ipython3",
   "version": "3.8.5"
  }
 },
 "nbformat": 4,
 "nbformat_minor": 5
}
