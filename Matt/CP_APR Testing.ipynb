{
 "cells": [
  {
   "cell_type": "markdown",
   "id": "42eb8277-2f73-465f-9859-fb3df0952070",
   "metadata": {},
   "source": [
    "# CP_APR Testing"
   ]
  },
  {
   "cell_type": "markdown",
   "id": "deaaba02-9b39-4cf0-b192-57557f23c09a",
   "metadata": {},
   "source": [
    "We're going to play with a toy example and then try to produce our own example to test with."
   ]
  },
  {
   "cell_type": "code",
   "execution_count": 20,
   "id": "8ada22f1-929e-4256-ac3b-a2697c89d6ae",
   "metadata": {},
   "outputs": [],
   "source": [
    "from pyCP_APR import CP_APR\n",
    "\n",
    "import numpy as np\n",
    "import pandas as pd\n",
    "import matplotlib.pyplot as plt\n",
    "from matplotlib import cm\n",
    "import os\n",
    "import os.path\n",
    "import gzip\n",
    "import shutil\n",
    "import datetime\n",
    "import networkx as nx\n",
    "import pickle\n",
    "import pyclustering\n",
    "from scipy import stats\n",
    "from scipy import sparse\n",
    "import seaborn as sns\n",
    "import bz2\n",
    "import json\n",
    "import random\n",
    "random.seed(1134)\n",
    "\n",
    "from sklearn.preprocessing import StandardScaler\n",
    "from sklearn.ensemble import IsolationForest\n",
    "from sklearn.metrics import silhouette_score, silhouette_samples\n",
    "from sklearn.cluster import KMeans\n",
    "from sklearn.decomposition import PCA\n",
    "from sklearn.neighbors import LocalOutlierFactor\n",
    "\n",
    "from IPython.display import clear_output"
   ]
  },
  {
   "cell_type": "code",
   "execution_count": 4,
   "id": "3b9d768e-6cab-448b-9460-37e54791ff81",
   "metadata": {},
   "outputs": [],
   "source": [
    "# creates a list of train and test co-ordinates, along with train and test counts\n",
    "# the co-ordinates correspond to a sparse matrix which is 0 in most places apart from the locations where we have co-ordinates which correspond to a value\n",
    "\n",
    "train_coords = list()\n",
    "train_count = list()\n",
    "\n",
    "test_coords = list()\n",
    "test_count = list()\n",
    "\n",
    "for ii in range(1000):\n",
    "    train_coords.append(list(np.random.randint(10, size=4)))\n",
    "    train_count.append(random.randint(1, 20))\n",
    "    \n",
    "for ii in range(100):\n",
    "    test_coords.append(list(np.random.randint(10, size=4)))\n",
    "    test_count.append(random.randint(1, 20))"
   ]
  },
  {
   "cell_type": "code",
   "execution_count": 5,
   "id": "bfd7d077-ad9c-4da5-9a8c-07c7daf6e3a2",
   "metadata": {},
   "outputs": [],
   "source": [
    "# we save a dictionary with our co-ordinates and values in\n",
    "\n",
    "tensor = dict()\n",
    "tensor['train_coords'] = train_coords\n",
    "tensor['train_count'] = train_count\n",
    "tensor['test_coords'] = test_coords\n",
    "tensor['test_count'] = test_count"
   ]
  },
  {
   "cell_type": "code",
   "execution_count": 6,
   "id": "0fa0d7a6-1dd0-4ab5-bc14-a8f720835a2a",
   "metadata": {},
   "outputs": [],
   "source": [
    "np.savez_compressed('TOY',**tensor)\n",
    "data = np.load(\"TOY\" + str(\".npz\"), allow_pickle=True)"
   ]
  },
  {
   "cell_type": "code",
   "execution_count": 7,
   "id": "51d65efe-3d94-4c41-a72e-eca62785597c",
   "metadata": {},
   "outputs": [],
   "source": [
    "# Training set\n",
    "coords_train = data['train_coords']\n",
    "nnz_train = data['train_count']\n",
    "\n",
    "# Test set\n",
    "coords_test = data['test_coords']\n",
    "nnz_test = data['test_count']"
   ]
  },
  {
   "cell_type": "code",
   "execution_count": 8,
   "id": "cb85c305-728c-4f87-ba81-dde1660b5b0c",
   "metadata": {},
   "outputs": [
    {
     "data": {
      "text/plain": [
       "array([[6, 3, 7, 4],\n",
       "       [6, 9, 2, 6],\n",
       "       [7, 4, 3, 7],\n",
       "       [7, 2, 5, 4],\n",
       "       [1, 7, 5, 1],\n",
       "       [4, 0, 9, 5],\n",
       "       [8, 0, 9, 2],\n",
       "       [6, 3, 8, 2],\n",
       "       [4, 2, 6, 4],\n",
       "       [8, 6, 1, 3]])"
      ]
     },
     "execution_count": 8,
     "metadata": {},
     "output_type": "execute_result"
    }
   ],
   "source": [
    "# our train co-ordinates - 4D matrix co-ordinates\n",
    "coords_train[:10]"
   ]
  },
  {
   "cell_type": "code",
   "execution_count": 9,
   "id": "705e7e65-c4e5-4c99-9c53-e8e7421e3b34",
   "metadata": {},
   "outputs": [
    {
     "data": {
      "text/plain": [
       "array([ 4,  1,  9,  8,  8,  5,  4, 18,  3, 19])"
      ]
     },
     "execution_count": 9,
     "metadata": {},
     "output_type": "execute_result"
    }
   ],
   "source": [
    "# non zero entries of our 4D matrix\n",
    "nnz_train[:10]"
   ]
  },
  {
   "cell_type": "code",
   "execution_count": 28,
   "id": "61d2934b-ec08-4349-8d0f-5d4cd668f75e",
   "metadata": {},
   "outputs": [
    {
     "data": {
      "text/plain": [
       "array([[1, 4, 1, 1],\n",
       "       [5, 9, 8, 3],\n",
       "       [5, 6, 5, 7],\n",
       "       [3, 0, 6, 2],\n",
       "       [5, 1, 8, 0],\n",
       "       [5, 5, 4, 4],\n",
       "       [0, 9, 4, 1],\n",
       "       [6, 2, 3, 2],\n",
       "       [2, 3, 4, 0],\n",
       "       [3, 7, 9, 6],\n",
       "       [8, 4, 9, 3],\n",
       "       [7, 8, 6, 6],\n",
       "       [4, 3, 9, 0],\n",
       "       [9, 9, 6, 0],\n",
       "       [0, 4, 8, 5],\n",
       "       [2, 2, 6, 5],\n",
       "       [8, 5, 4, 9],\n",
       "       [6, 0, 6, 2],\n",
       "       [8, 5, 8, 4],\n",
       "       [6, 3, 6, 0],\n",
       "       [6, 7, 4, 1],\n",
       "       [4, 5, 1, 5],\n",
       "       [5, 0, 0, 9],\n",
       "       [2, 9, 9, 2],\n",
       "       [3, 1, 8, 9],\n",
       "       [6, 6, 5, 2],\n",
       "       [5, 7, 7, 8],\n",
       "       [0, 0, 2, 2],\n",
       "       [9, 7, 9, 0],\n",
       "       [1, 1, 2, 5],\n",
       "       [0, 1, 0, 4],\n",
       "       [6, 7, 9, 0],\n",
       "       [6, 4, 9, 0],\n",
       "       [2, 6, 9, 0],\n",
       "       [6, 4, 0, 0],\n",
       "       [0, 8, 2, 4],\n",
       "       [9, 8, 5, 8],\n",
       "       [7, 7, 0, 8],\n",
       "       [5, 8, 2, 2],\n",
       "       [5, 8, 6, 2],\n",
       "       [2, 1, 8, 2],\n",
       "       [4, 8, 7, 1],\n",
       "       [2, 1, 7, 5],\n",
       "       [5, 8, 7, 3],\n",
       "       [3, 8, 0, 1],\n",
       "       [1, 5, 3, 9],\n",
       "       [2, 2, 2, 5],\n",
       "       [7, 6, 3, 3],\n",
       "       [9, 1, 0, 8],\n",
       "       [1, 7, 8, 3],\n",
       "       [7, 8, 9, 9],\n",
       "       [4, 6, 9, 3],\n",
       "       [0, 2, 4, 2],\n",
       "       [6, 8, 5, 9],\n",
       "       [0, 6, 2, 4],\n",
       "       [9, 3, 9, 4],\n",
       "       [4, 5, 9, 9],\n",
       "       [5, 7, 7, 8],\n",
       "       [7, 1, 9, 0],\n",
       "       [9, 1, 1, 2],\n",
       "       [9, 6, 1, 0],\n",
       "       [5, 8, 2, 5],\n",
       "       [2, 0, 4, 9],\n",
       "       [3, 6, 5, 9],\n",
       "       [6, 4, 3, 6],\n",
       "       [6, 5, 7, 3],\n",
       "       [9, 4, 3, 0],\n",
       "       [7, 0, 4, 5],\n",
       "       [5, 4, 2, 4],\n",
       "       [7, 1, 5, 8],\n",
       "       [7, 7, 7, 6],\n",
       "       [7, 5, 1, 1],\n",
       "       [7, 0, 5, 5],\n",
       "       [3, 9, 2, 2],\n",
       "       [0, 2, 3, 4],\n",
       "       [2, 5, 4, 2],\n",
       "       [5, 5, 7, 1],\n",
       "       [0, 3, 6, 9],\n",
       "       [2, 2, 4, 4],\n",
       "       [9, 2, 8, 3],\n",
       "       [2, 1, 9, 8],\n",
       "       [3, 2, 6, 7],\n",
       "       [1, 6, 4, 4],\n",
       "       [2, 4, 1, 3],\n",
       "       [5, 0, 9, 3],\n",
       "       [5, 8, 1, 6],\n",
       "       [5, 1, 7, 6],\n",
       "       [4, 4, 6, 8],\n",
       "       [8, 8, 5, 9],\n",
       "       [5, 2, 0, 6],\n",
       "       [3, 0, 7, 5],\n",
       "       [5, 1, 0, 1],\n",
       "       [3, 1, 0, 6],\n",
       "       [7, 5, 3, 5],\n",
       "       [2, 7, 9, 1],\n",
       "       [4, 0, 5, 1],\n",
       "       [3, 5, 9, 7],\n",
       "       [7, 5, 3, 7],\n",
       "       [7, 9, 0, 3],\n",
       "       [3, 6, 6, 7]])"
      ]
     },
     "execution_count": 28,
     "metadata": {},
     "output_type": "execute_result"
    }
   ],
   "source": [
    "coords_test[:10]"
   ]
  },
  {
   "cell_type": "code",
   "execution_count": 11,
   "id": "fc3131fa-ff60-4277-b2a0-b447534424bc",
   "metadata": {},
   "outputs": [
    {
     "data": {
      "text/plain": [
       "array([10, 10, 19, 19, 16,  5, 15, 18, 16, 12])"
      ]
     },
     "execution_count": 11,
     "metadata": {},
     "output_type": "execute_result"
    }
   ],
   "source": [
    "nnz_test[:10]"
   ]
  },
  {
   "cell_type": "code",
   "execution_count": 12,
   "id": "50ff3346-c7a5-4f9d-ad34-21799595533f",
   "metadata": {},
   "outputs": [],
   "source": [
    "# here we create our model\n",
    "\n",
    "cp_apr = CP_APR(n_iters=10, random_state=42, verbose=200, \n",
    "                method='numpy',\n",
    "                return_type='numpy', \n",
    "               )"
   ]
  },
  {
   "cell_type": "code",
   "execution_count": 13,
   "id": "826cb7bf-ed93-4a99-b7e5-438277d25292",
   "metadata": {},
   "outputs": [
    {
     "name": "stdout",
     "output_type": "stream",
     "text": [
      "CP-APR (MU):\n",
      "Iter=1, Inner Iter=8, KKT Violation=0.000000, obj=-9748.910692, nViolations=0\n",
      "Exiting because all subproblems reached KKT tol.\n",
      "===========================================\n",
      " Final log-likelihood = -9748.910692\n",
      " Final least squares fit = 0.041186\n",
      " Final KKT violation = 0.000000\n",
      " Total inner iterations = 12\n",
      " Total execution time = 0.0030 seconds\n",
      "Converting the latent factors to Numpy arrays.\n",
      "CP-APR (MU):\n",
      "Iter=1, Inner Iter=48, KKT Violation=0.361464, obj=-8970.856452, nViolations=0\n",
      "===========================================\n",
      " Final log-likelihood = -8013.265798\n",
      " Final least squares fit = 0.056443\n",
      " Final KKT violation = 0.125601\n",
      " Total inner iterations = 412\n",
      " Total execution time = 0.0464 seconds\n",
      "Converting the latent factors to Numpy arrays.\n"
     ]
    },
    {
     "data": {
      "text/plain": [
       "[{'Factors': {'0': array([0.10385419, 0.10347446, 0.10005696, 0.09711411, 0.09407632,\n",
       "          0.09379153, 0.11363205, 0.08800076, 0.11638504, 0.08961458]),\n",
       "   '1': array([0.09056389, 0.10632238, 0.0995823 , 0.10091133, 0.11334726,\n",
       "          0.09588001, 0.09720904, 0.11704955, 0.10015189, 0.07898234]),\n",
       "   '2': array([0.10992975, 0.10613252, 0.09758876, 0.11866338, 0.09796848,\n",
       "          0.09625973, 0.07898234, 0.09350674, 0.10176571, 0.09920258]),\n",
       "   '3': array([0.10992975, 0.07442567, 0.11714448, 0.09103854, 0.11334726,\n",
       "          0.09815834, 0.09711411, 0.10461363, 0.10727169, 0.08695652])},\n",
       "  'Weights': array([10534.])},\n",
       " {'Factors': {'0': array([[7.71488774e-02, 2.54918156e-01, 6.88068733e-02, 3.29047079e-03,\n",
       "           2.51335302e-11],\n",
       "          [8.34881700e-02, 4.88943243e-02, 1.98652728e-01, 1.86950067e-01,\n",
       "           1.61173697e-06],\n",
       "          [9.09859045e-02, 2.54992936e-02, 1.16819069e-01, 2.60339839e-01,\n",
       "           1.00834862e-01],\n",
       "          [1.06771051e-01, 4.56575814e-02, 1.21418540e-02, 1.18396478e-01,\n",
       "           3.46224421e-01],\n",
       "          [1.44184962e-01, 3.83006756e-02, 1.15768784e-01, 9.63586202e-02,\n",
       "           4.26326042e-02],\n",
       "          [8.99827414e-02, 1.53480734e-01, 4.55598482e-02, 1.61049579e-01,\n",
       "           1.44475492e-05],\n",
       "          [1.25006239e-01, 7.71536588e-02, 1.66237584e-01, 1.71538473e-01,\n",
       "           3.63649825e-05],\n",
       "          [1.37393773e-02, 1.73191714e-01, 8.63003642e-02, 2.07647336e-03,\n",
       "           1.77179326e-01],\n",
       "          [1.60228674e-01, 8.28466438e-03, 1.89712895e-01, 2.93421687e-24,\n",
       "           2.12527503e-01],\n",
       "          [1.08464003e-01, 1.74619199e-01, 1.18204310e-10, 9.32563968e-10,\n",
       "           1.20548860e-01]]),\n",
       "   '1': array([[4.15973103e-02, 1.19677536e-01, 1.01038348e-01, 9.97027240e-02,\n",
       "           1.22937216e-01],\n",
       "          [2.23564990e-02, 9.05185734e-02, 8.67015281e-02, 3.05243987e-01,\n",
       "           2.09738238e-01],\n",
       "          [7.22057679e-02, 1.33013862e-01, 7.41867361e-02, 2.47908407e-01,\n",
       "           4.17792280e-10],\n",
       "          [1.50582904e-01, 7.66070547e-02, 1.43243035e-01, 5.06982774e-08,\n",
       "           3.58515490e-02],\n",
       "          [1.80451833e-01, 8.44932986e-02, 1.20530298e-01, 7.75445986e-02,\n",
       "           2.10926828e-02],\n",
       "          [7.12397766e-02, 3.83372367e-10, 1.59729042e-01, 2.55528840e-02,\n",
       "           3.19997695e-01],\n",
       "          [1.18763083e-01, 1.42207799e-01, 6.08792377e-02, 2.10426270e-12,\n",
       "           1.09754308e-01],\n",
       "          [1.44920666e-01, 1.50084305e-01, 1.29863634e-01, 2.94640410e-02,\n",
       "           2.65277109e-02],\n",
       "          [5.90472597e-02, 8.69506433e-02, 9.47104787e-02, 2.07797634e-01,\n",
       "           1.44306644e-01],\n",
       "          [1.38834900e-01, 1.16446928e-01, 2.91176626e-02, 6.78567369e-03,\n",
       "           9.79395550e-03]]),\n",
       "   '2': array([[4.85577793e-04, 5.99968223e-02, 1.81624422e-01, 3.87514123e-01,\n",
       "           8.17127122e-02],\n",
       "          [2.57649710e-01, 2.44849250e-02, 3.86670171e-02, 1.32968260e-02,\n",
       "           1.31640115e-01],\n",
       "          [5.90550003e-02, 1.32418167e-01, 8.59853631e-02, 3.18824572e-03,\n",
       "           2.41275798e-01],\n",
       "          [2.00354168e-01, 1.25320193e-01, 6.09917443e-02, 1.10961873e-01,\n",
       "           1.69643965e-02],\n",
       "          [4.55660016e-02, 1.38044524e-01, 7.05038989e-02, 2.46477059e-02,\n",
       "           2.79752797e-01],\n",
       "          [1.20838298e-01, 8.59604098e-02, 1.46361882e-01, 2.51627409e-21,\n",
       "           4.32217904e-02],\n",
       "          [9.08964194e-02, 8.65499710e-02, 8.49533284e-09, 1.87668516e-01,\n",
       "           9.05618252e-02],\n",
       "          [1.00814302e-01, 8.37777859e-02, 1.03976069e-01, 1.65850881e-01,\n",
       "           9.02787985e-10],\n",
       "          [9.84743987e-02, 1.89122189e-01, 9.90726725e-02, 1.54133746e-02,\n",
       "           3.76844323e-23],\n",
       "          [2.58661250e-02, 7.43250135e-02, 2.12816922e-01, 9.14584550e-02,\n",
       "           1.14870564e-01]]),\n",
       "   '3': array([[4.71827898e-04, 2.21343989e-01, 1.85032553e-01, 4.91027510e-02,\n",
       "           3.55034923e-02],\n",
       "          [5.13527367e-02, 7.19804166e-02, 1.69708646e-01, 5.36858975e-28,\n",
       "           5.55053043e-03],\n",
       "          [1.31762485e-01, 1.26912243e-01, 1.02238143e-01, 1.26803847e-01,\n",
       "           7.80684855e-02],\n",
       "          [1.25535793e-01, 1.09391597e-01, 5.24094536e-02, 7.55960601e-09,\n",
       "           1.34211011e-01],\n",
       "          [1.11965573e-01, 6.00521471e-02, 2.08507514e-01, 1.05552913e-01,\n",
       "           3.84475052e-02],\n",
       "          [1.35845288e-01, 6.28801426e-02, 7.12835290e-02, 1.62593103e-01,\n",
       "           7.42303533e-02],\n",
       "          [1.82444949e-02, 1.49640460e-01, 6.15357735e-02, 2.34326049e-01,\n",
       "           1.24368127e-01],\n",
       "          [1.40127071e-01, 7.12159632e-02, 3.08382903e-02, 2.26579919e-01,\n",
       "           1.28050669e-01],\n",
       "          [1.04224065e-01, 4.21801320e-02, 1.18446098e-01, 9.27359509e-09,\n",
       "           3.54420165e-01],\n",
       "          [1.80470665e-01, 8.44029090e-02, 9.02387018e-13, 9.50414011e-02,\n",
       "           2.71496616e-02]])},\n",
       "  'Weights': array([3045.19837558, 2675.11055319, 2526.64100753, 1157.00784452,\n",
       "         1130.04221919])}]"
      ]
     },
     "execution_count": 13,
     "metadata": {},
     "output_type": "execute_result"
    }
   ],
   "source": [
    "# this is fitting our model - we pass the non-zero co-ordinates and values\n",
    "factors = cp_apr.fit(coords=coords_train, values=nnz_train, rank=[1,5])\n",
    "factors"
   ]
  },
  {
   "cell_type": "code",
   "execution_count": 14,
   "id": "1c0baace-b38e-411f-8aa1-3f9bec363ac5",
   "metadata": {},
   "outputs": [
    {
     "data": {
      "text/plain": [
       "array([1.31886094e-07, 2.26864033e-06, 0.00000000e+00, 0.00000000e+00,\n",
       "       5.64723823e-11, 1.05136494e-04, 6.40598685e-14, 6.68931577e-12,\n",
       "       5.55111512e-16, 1.67432734e-12, 1.59183907e-08, 0.00000000e+00,\n",
       "       5.19806420e-13, 7.02117253e-11, 2.76715317e-11, 4.28549482e-05,\n",
       "       3.84667144e-05, 6.53639648e-06, 2.78443935e-13, 3.33066907e-16,\n",
       "       1.80025854e-05, 2.00896078e-10, 2.37112144e-01, 5.12156983e-12,\n",
       "       0.00000000e+00, 3.84396781e-09, 9.24726962e-12, 2.12946753e-02,\n",
       "       2.02282635e-13, 9.37565072e-02, 2.36495301e-03, 2.31732034e-09,\n",
       "       5.29565281e-12, 5.28403743e-09, 1.74232083e-01, 6.17284002e-14,\n",
       "       6.40856340e-03, 6.66133815e-16, 3.97459843e-14, 7.65001936e-01,\n",
       "       9.70373790e-04, 2.65343303e-14, 1.24084621e-01, 2.47718786e-02,\n",
       "       0.00000000e+00, 1.05250429e-07, 3.90421029e-12, 0.00000000e+00,\n",
       "       3.86737309e-11, 1.20131874e-01, 7.87037102e-13, 0.00000000e+00,\n",
       "       4.12089599e-08, 1.38916878e-10, 1.48880908e-13, 0.00000000e+00,\n",
       "       3.23718945e-02, 0.00000000e+00, 2.05219934e-01, 1.07944163e-06,\n",
       "       1.65373937e-10, 1.40996678e-07, 8.54578741e-03, 4.51361171e-12,\n",
       "       3.44518778e-02, 6.82489189e-03, 1.69386727e-12, 8.98998571e-04,\n",
       "       4.02565054e-08, 6.74748708e-01, 2.85809452e-01, 1.95399252e-13,\n",
       "       1.39547481e-01, 3.90977306e-09, 1.05777195e-08, 1.11263396e-08,\n",
       "       1.11022302e-16, 2.84026736e-03, 1.16610455e-06, 7.42517159e-13,\n",
       "       1.98613781e-09, 6.06181771e-14, 1.83559652e-04, 7.74001199e-03,\n",
       "       3.55799197e-05, 9.04905401e-03, 5.72641934e-12, 6.45916653e-12,\n",
       "       0.00000000e+00, 7.91681298e-02, 0.00000000e+00, 0.00000000e+00,\n",
       "       4.48819589e-01, 8.75404071e-09, 4.54997151e-11, 4.61810205e-07,\n",
       "       2.40465303e-09, 2.64508082e-10, 3.72503748e-01, 7.68718422e-13])"
      ]
     },
     "execution_count": 14,
     "metadata": {},
     "output_type": "execute_result"
    }
   ],
   "source": [
    "# here we make our predictions\n",
    "y_score = cp_apr.predict_scores(coords=coords_test, values=nnz_test)\n",
    "y_score"
   ]
  },
  {
   "cell_type": "markdown",
   "id": "777566a8-f309-4292-8ddb-877625b68b97",
   "metadata": {},
   "source": [
    "### Our Example"
   ]
  },
  {
   "cell_type": "markdown",
   "id": "2113cf63-bcda-462e-aa2e-b65c1c3b57e8",
   "metadata": {},
   "source": [
    "Here we create sparse matrices of our data, representing the authentication types over each hour of each day."
   ]
  },
  {
   "cell_type": "code",
   "execution_count": 17,
   "id": "070b8635-6f57-4803-b29e-9c13e171c6d9",
   "metadata": {},
   "outputs": [
    {
     "name": "stdout",
     "output_type": "stream",
     "text": [
      "Attempting to read entire data set.\n"
     ]
    },
    {
     "name": "stderr",
     "output_type": "stream",
     "text": [
      "C:\\Users\\corri\\anaconda3\\lib\\site-packages\\numpy\\lib\\arraysetops.py:580: FutureWarning: elementwise comparison failed; returning scalar instead, but in the future will perform elementwise comparison\n",
      "  mask |= (ar1 == a)\n"
     ]
    }
   ],
   "source": [
    "try:\n",
    "    print('Attempting to read entire data set.')\n",
    "    authentication_data = pd.read_csv('../Data/Authentication data.gz', compression='gzip', index_col = 0)\n",
    "    process_data = pd.read_csv('../Data/Process data.gz', compression='gzip', index_col = 0)\n",
    "except:\n",
    "    clear_output()\n",
    "    print('Unable to read entire data set, reading from original files.')\n",
    "    rootdir = 'C:/Users/corri/OneDrive/Documents/Uni/Postgraduate/Final Project/LANL/ATI Data/Summaries/wls'\n",
    "    unzippeddir = 'C:/Users/corri/OneDrive/Documents/Uni/Postgraduate/Final Project/LANL/ATI Data/Summaries/wls/Unzipped'\n",
    "    frames = []\n",
    "\n",
    "    count = 0\n",
    "\n",
    "    for subdir, dirs, files in os.walk(rootdir):\n",
    "        for file in files:\n",
    "            if file[-3:] == '.gz':\n",
    "                filedir = rootdir + '/' + file\n",
    "                with gzip.open(filedir) as f:\n",
    "                    df = pd.read_csv(filedir, header=None)\n",
    "                    frames.append(df)\n",
    "                if 'authentications' in str(file):\n",
    "                    count = count + len(df)\n",
    "\n",
    "    df = pd.concat(frames)\n",
    "\n",
    "    authentication_data = df[:count]\n",
    "    authentication_data.columns = ['UserName', 'SrcDevice','DstDevice', 'Authent Type', 'Failure', 'DailyCount']\n",
    "\n",
    "    process_data = df[count:]\n",
    "    process_data = process_data[[0,1,2,3,4]]\n",
    "    process_data.columns = ['UserName', 'Device', 'ProcessName', 'ParentProcessName', 'DailyCount']\n",
    "\n",
    "    authentication_data.to_csv('../Data/Authentication data.gz', header=True, compression='gzip')\n",
    "    process_data.to_csv('../Data/Process data.gz', header=True, compression='gzip')"
   ]
  },
  {
   "cell_type": "code",
   "execution_count": 18,
   "id": "91957364-c765-4eb4-8be4-c7e964f0623b",
   "metadata": {},
   "outputs": [],
   "source": [
    "index_list = process_data.index.tolist()\n",
    "proc_start_days = [i for i, e in enumerate(index_list) if e == 0]\n",
    "proc_start_days.append(len(process_data))\n",
    "\n",
    "auth_index_list = authentication_data.index.tolist()\n",
    "auth_start_days = [i for i, e in enumerate(auth_index_list) if e == 0]\n",
    "auth_start_days.append(len(authentication_data))"
   ]
  },
  {
   "cell_type": "code",
   "execution_count": 19,
   "id": "41b38807-790f-41e9-8010-f6369f19fef6",
   "metadata": {},
   "outputs": [],
   "source": [
    "# splits a dataframe into n chunks\n",
    "def split_dataframe(df,n): \n",
    "    chunks = list()\n",
    "    chunk_size = int(np.round(df.shape[0]/n))\n",
    "    num_chunks = n\n",
    "    for i in range(num_chunks):\n",
    "        if i != num_chunks-1:\n",
    "            chunks.append(df[i*chunk_size:(i+1)*chunk_size])\n",
    "        else:\n",
    "            chunks.append(df[i*chunk_size:])\n",
    "    return chunks"
   ]
  },
  {
   "cell_type": "code",
   "execution_count": 21,
   "id": "cdbaba8c-d352-45f8-9f29-8e895fde5c80",
   "metadata": {},
   "outputs": [],
   "source": [
    "def auth_type_un_sparse(user,n,e):\n",
    "    auth_type_df = pd.DataFrame(index = list(authentication_data['Authent Type'].unique()))\n",
    "    n = n\n",
    "    auth_type_dict = {}\n",
    "\n",
    "    for i in range(len(auth_start_days)-1):\n",
    "        chunks = split_dataframe(authentication_data[auth_start_days[i]:auth_start_days[i+1]],n)\n",
    "        for j in range(n):\n",
    "                data = chunks[j]\n",
    "                auth_type_data = data[data['UserName'] == user].groupby('Authent Type').size()\n",
    "                auth_type_dict[i*n + j] = auth_type_df.index.to_series().map(auth_type_data.to_dict())\n",
    "    \n",
    "    auth_type_df = pd.DataFrame(data=auth_type_dict,index = list(authentication_data['Authent Type'].unique()))\n",
    "    auth_type_df = auth_type_df.transpose()\n",
    "    auth_type_df = auth_type_df.fillna(0)\n",
    "    \n",
    "    s = sparse.coo_matrix(auth_type_df)\n",
    "    \n",
    "    co = []\n",
    "    vals = s.data\n",
    "    for i in range(len(s.row)):\n",
    "        co.append([s.row[i],s.col[i],e])\n",
    "\n",
    "    \n",
    "    return vals, co"
   ]
  },
  {
   "cell_type": "code",
   "execution_count": 22,
   "id": "8550cd74-2d8d-42dd-80e2-9f3fc43737e6",
   "metadata": {},
   "outputs": [],
   "source": [
    "usernames = list(authentication_data['UserName'].unique())"
   ]
  },
  {
   "cell_type": "code",
   "execution_count": 58,
   "id": "0014ec0c-ea17-4609-8602-06c65600ffb0",
   "metadata": {},
   "outputs": [
    {
     "data": {
      "text/plain": [
       "28815"
      ]
     },
     "execution_count": 58,
     "metadata": {},
     "output_type": "execute_result"
    }
   ],
   "source": [
    "len(usernames)"
   ]
  },
  {
   "cell_type": "code",
   "execution_count": 24,
   "id": "81ad410f-7c95-4239-9114-9e3c60a7c842",
   "metadata": {},
   "outputs": [
    {
     "name": "stdout",
     "output_type": "stream",
     "text": [
      "0:00:05.173146\n"
     ]
    }
   ],
   "source": [
    "s_time = datetime.datetime.now()\n",
    "\n",
    "vals, co = auth_type_un_sparse(usernames[0],24,1)\n",
    "\n",
    "e_time = datetime.datetime.now()\n",
    "\n",
    "print(e_time-s_time)"
   ]
  },
  {
   "cell_type": "code",
   "execution_count": 53,
   "id": "dfaa69a3-9345-4ef8-b09a-68548a8c71fa",
   "metadata": {},
   "outputs": [
    {
     "name": "stdout",
     "output_type": "stream",
     "text": [
      "0:14:52.999143\n"
     ]
    }
   ],
   "source": [
    "s_time = datetime.datetime.now()\n",
    "\n",
    "train_coords, train_vals = [], []\n",
    "test_coords, test_vals = [], []\n",
    "\n",
    "for e, un in enumerate(usernames):\n",
    "    if e <= 199:\n",
    "        vals, co = auth_type_un_sparse(un,24,e)\n",
    "        train_coords.append(co)\n",
    "        train_vals.append(vals)\n",
    "    elif e <= 219:\n",
    "        vals, co = auth_type_un_sparse(un,24,e-200)\n",
    "        test_coords.append(co)\n",
    "        test_vals.append(vals)\n",
    "\n",
    "        \n",
    "train_coords = np.array([item for sublist in train_coords for item in sublist])\n",
    "test_coords = np.array([item for sublist in test_coords for item in sublist])\n",
    "\n",
    "train_vals = np.array([item for sublist in train_vals for item in sublist])\n",
    "test_vals = np.array([item for sublist in test_vals for item in sublist])\n",
    "\n",
    "e_time = datetime.datetime.now()\n",
    "\n",
    "print(e_time-s_time)"
   ]
  },
  {
   "cell_type": "code",
   "execution_count": 59,
   "id": "4380ae23-5711-4ff6-af74-562b6ee0022d",
   "metadata": {},
   "outputs": [
    {
     "data": {
      "text/plain": [
       "198375"
      ]
     },
     "execution_count": 59,
     "metadata": {},
     "output_type": "execute_result"
    }
   ],
   "source": [
    "len(train_coords)"
   ]
  },
  {
   "cell_type": "code",
   "execution_count": 54,
   "id": "f1cc2068-de0a-46c6-9cda-74c2d513d3e8",
   "metadata": {},
   "outputs": [],
   "source": [
    "cp_apr_t = CP_APR(n_iters=10, random_state=42, verbose=200, method='numpy', return_type='numpy')"
   ]
  },
  {
   "cell_type": "code",
   "execution_count": 55,
   "id": "ba102380-a469-46b1-bd54-ddb8f9c82863",
   "metadata": {},
   "outputs": [
    {
     "name": "stdout",
     "output_type": "stream",
     "text": [
      "CP-APR (MU):\n",
      "Iter=1, Inner Iter=138, KKT Violation=0.476140, obj=2055564.083200, nViolations=0\n",
      "===========================================\n",
      " Final log-likelihood = 2147125.718336\n",
      " Final least squares fit = 0.898651\n",
      " Final KKT violation = 0.210652\n",
      " Total inner iterations = 1221\n",
      " Total execution time = 2.6504 seconds\n",
      "Converting the latent factors to Numpy arrays.\n"
     ]
    },
    {
     "data": {
      "text/plain": [
       "{'Factors': {'0': array([[4.92893590e-04, 1.54202644e-03],\n",
       "         [4.42246858e-04, 5.93090362e-04],\n",
       "         [4.76830540e-04, 6.07807661e-04],\n",
       "         ...,\n",
       "         [3.10619357e-05, 2.31081633e-04],\n",
       "         [2.75302492e-05, 1.69470410e-04],\n",
       "         [3.38502079e-05, 2.42015511e-04]]),\n",
       "  '1': array([[7.27497572e-036, 5.37763732e-001],\n",
       "         [9.99761337e-001, 1.76637256e-001],\n",
       "         [2.33596426e-005, 1.26345355e-001],\n",
       "         [4.98627215e-108, 3.85736137e-002],\n",
       "         [1.97116483e-108, 4.96965530e-002],\n",
       "         [1.85695518e-110, 1.38283763e-002],\n",
       "         [2.15303717e-004, 2.42407250e-002],\n",
       "         [2.03712544e-109, 1.41242835e-002],\n",
       "         [8.20167096e-075, 1.08376002e-002],\n",
       "         [5.43691904e-075, 2.42538201e-003],\n",
       "         [2.21770512e-110, 1.42669530e-003],\n",
       "         [5.30500102e-097, 4.10042798e-003]]),\n",
       "  '2': array([[1.56445343e-004, 5.13086990e-003],\n",
       "         [6.96462679e-005, 2.57051905e-003],\n",
       "         [2.45194908e-004, 7.97120022e-003],\n",
       "         [1.39873911e-004, 4.64829411e-003],\n",
       "         [2.54012695e-004, 6.07579007e-003],\n",
       "         [2.23103208e-004, 5.22778583e-003],\n",
       "         [1.54189434e-004, 7.07027599e-003],\n",
       "         [7.06810547e-004, 1.35322987e-002],\n",
       "         [8.49306236e-005, 6.28340730e-003],\n",
       "         [1.13752382e-004, 6.18905824e-003],\n",
       "         [1.54417037e-004, 4.54322459e-003],\n",
       "         [1.60811425e-004, 4.43646482e-003],\n",
       "         [5.78631297e-005, 1.74170766e-003],\n",
       "         [2.16348353e-004, 5.66990230e-003],\n",
       "         [5.25042569e-005, 2.38752756e-003],\n",
       "         [2.94550854e-004, 6.96707916e-003],\n",
       "         [8.17929346e-006, 4.18759480e-003],\n",
       "         [6.78460463e-001, 2.08655354e-145],\n",
       "         [2.28445142e-004, 5.95996783e-003],\n",
       "         [4.32913569e-004, 7.14778103e-003],\n",
       "         [1.66541975e-004, 6.85834248e-003],\n",
       "         [1.11546032e-004, 4.95484586e-003],\n",
       "         [1.63940514e-004, 2.38427520e-003],\n",
       "         [2.76404318e-004, 7.02261604e-003],\n",
       "         [2.17655062e-004, 6.21319590e-003],\n",
       "         [9.67722334e-005, 3.43227913e-003],\n",
       "         [2.74081796e-004, 3.97766963e-003],\n",
       "         [5.36412618e-005, 1.74139880e-003],\n",
       "         [2.57372884e-005, 1.22173295e-003],\n",
       "         [3.22454165e-004, 6.95958087e-003],\n",
       "         [2.00415889e-004, 5.37812381e-003],\n",
       "         [2.22598156e-004, 2.32237679e-003],\n",
       "         [1.76152772e-004, 5.01224387e-003],\n",
       "         [5.42682967e-004, 8.92520901e-003],\n",
       "         [1.73705823e-004, 2.86027936e-003],\n",
       "         [3.47459879e-004, 6.98349532e-003],\n",
       "         [3.44406569e-004, 4.13954575e-003],\n",
       "         [4.83498845e-004, 7.57976443e-003],\n",
       "         [4.32040081e-005, 4.27947234e-003],\n",
       "         [2.27658788e-004, 5.51917177e-003],\n",
       "         [2.01035104e-004, 6.05962320e-003],\n",
       "         [1.02505152e-004, 9.32187150e-004],\n",
       "         [1.90217893e-004, 8.09800895e-003],\n",
       "         [2.27614610e-004, 9.49134973e-003],\n",
       "         [5.30840506e-004, 1.01165485e-002],\n",
       "         [1.98487742e-004, 6.24634672e-003],\n",
       "         [2.86467578e-004, 5.95779303e-003],\n",
       "         [1.05203228e-004, 6.54374781e-003],\n",
       "         [2.49270024e-004, 4.63158127e-003],\n",
       "         [0.00000000e+000, 6.05458621e-004],\n",
       "         [3.35174828e-004, 5.81202368e-003],\n",
       "         [3.01952082e-004, 6.86709774e-003],\n",
       "         [9.20352659e-005, 3.43384303e-003],\n",
       "         [9.90851077e-005, 2.34343968e-003],\n",
       "         [2.31339570e-004, 5.84505507e-003],\n",
       "         [9.43395055e-005, 4.14575243e-003],\n",
       "         [4.28211569e-004, 6.13664045e-003],\n",
       "         [2.81391856e-006, 5.24030157e-005],\n",
       "         [1.02977317e-004, 3.95776359e-003],\n",
       "         [1.32512220e-004, 2.11229900e-003],\n",
       "         [5.01486294e-004, 6.71578796e-003],\n",
       "         [2.15371922e-004, 4.75482546e-003],\n",
       "         [2.14038696e-005, 1.86382457e-003],\n",
       "         [5.63927517e-004, 1.08209297e-002],\n",
       "         [3.78917873e-004, 1.27906939e-003],\n",
       "         [1.17474679e-004, 3.56578956e-003],\n",
       "         [2.95017139e-004, 5.33690897e-003],\n",
       "         [3.55048469e-006, 4.75246832e-003],\n",
       "         [1.39223197e-004, 2.75077253e-003],\n",
       "         [2.43087775e-004, 5.82321971e-003],\n",
       "         [7.13884038e-004, 1.32873636e-002],\n",
       "         [2.71993172e-001, 2.43122102e-003],\n",
       "         [5.98193086e-005, 1.87030178e-003],\n",
       "         [4.60339931e-005, 2.57807473e-003],\n",
       "         [8.88161918e-006, 3.74827601e-004],\n",
       "         [5.63565683e-005, 1.86201347e-003],\n",
       "         [2.40205142e-005, 4.76370864e-004],\n",
       "         [1.77549768e-004, 1.04928287e-002],\n",
       "         [3.21891514e-004, 6.65889720e-003],\n",
       "         [6.31946530e-005, 1.87890784e-003],\n",
       "         [5.48338388e-005, 4.46162671e-003],\n",
       "         [9.24576256e-006, 3.52625792e-004],\n",
       "         [2.47464597e-007, 1.83635403e-003],\n",
       "         [2.17433059e-004, 3.22324624e-003],\n",
       "         [1.75407616e-004, 2.49394862e-003],\n",
       "         [2.61225900e-004, 4.97957331e-003],\n",
       "         [1.39376096e-004, 2.08212436e-003],\n",
       "         [3.63439694e-004, 6.01720917e-003],\n",
       "         [1.22959224e-005, 2.53893349e-003],\n",
       "         [4.62553237e-005, 6.39792271e-003],\n",
       "         [2.05331754e-004, 2.56783416e-003],\n",
       "         [2.08855408e-005, 5.92158183e-004],\n",
       "         [1.26321501e-004, 5.86672842e-003],\n",
       "         [8.03152243e-005, 1.75924796e-003],\n",
       "         [6.08527863e-007, 1.91333337e-003],\n",
       "         [2.48732050e-004, 4.99890016e-003],\n",
       "         [4.20707086e-004, 7.34352510e-003],\n",
       "         [4.04844324e-004, 5.77794231e-003],\n",
       "         [2.76096496e-004, 6.48612970e-003],\n",
       "         [8.64288645e-005, 1.59087526e-003],\n",
       "         [2.19459217e-004, 4.68255100e-003],\n",
       "         [6.91889352e-005, 4.90006579e-003],\n",
       "         [9.96829436e-005, 2.13770675e-003],\n",
       "         [2.08106437e-004, 7.11956371e-003],\n",
       "         [2.91800032e-004, 4.38300337e-003],\n",
       "         [1.24254013e-004, 3.16012039e-003],\n",
       "         [3.45690311e-005, 3.05297426e-003],\n",
       "         [1.35333708e-004, 1.98199301e-003],\n",
       "         [2.13458654e-005, 1.66047610e-003],\n",
       "         [2.12816789e-004, 5.28606231e-003],\n",
       "         [2.74549176e-005, 1.96709193e-003],\n",
       "         [1.12244867e-004, 2.18598553e-003],\n",
       "         [2.14190731e-004, 2.39469964e-003],\n",
       "         [3.87409328e-004, 5.44465138e-003],\n",
       "         [1.58682163e-004, 5.35239416e-003],\n",
       "         [3.87951493e-004, 5.29131556e-003],\n",
       "         [1.03096413e-004, 2.32363621e-003],\n",
       "         [3.40882621e-004, 6.86126324e-003],\n",
       "         [3.74406493e-004, 5.41363405e-003],\n",
       "         [2.99002291e-004, 1.05940856e-002],\n",
       "         [2.49882098e-004, 5.19827826e-003],\n",
       "         [9.66488309e-005, 2.91600017e-003],\n",
       "         [1.41479113e-004, 4.42324026e-003],\n",
       "         [1.37230267e-004, 2.79977404e-003],\n",
       "         [2.50713197e-004, 5.40925492e-003],\n",
       "         [3.55360924e-004, 8.17612547e-003],\n",
       "         [6.68576048e-003, 5.81130763e-002],\n",
       "         [2.90102101e-004, 7.46866440e-003],\n",
       "         [1.91592742e-004, 2.85266162e-003],\n",
       "         [2.37397681e-004, 5.25410712e-003],\n",
       "         [1.45843436e-004, 6.56301425e-003],\n",
       "         [2.57331759e-004, 6.42908582e-003],\n",
       "         [2.34840599e-004, 4.82496841e-003],\n",
       "         [1.02717258e-004, 3.61422402e-003],\n",
       "         [7.19021625e-005, 2.95377755e-003],\n",
       "         [2.94783633e-004, 3.20299435e-003],\n",
       "         [3.65850853e-004, 8.10145068e-003],\n",
       "         [4.20188586e-005, 1.29824388e-003],\n",
       "         [5.57042195e-005, 6.01908404e-003],\n",
       "         [2.51333820e-004, 5.37046221e-003],\n",
       "         [4.35949493e-005, 1.92928909e-003],\n",
       "         [1.54105142e-004, 5.19679241e-003],\n",
       "         [2.65637437e-004, 5.04182623e-003],\n",
       "         [5.00898945e-004, 5.40783621e-003],\n",
       "         [1.61320452e-004, 3.40637838e-003],\n",
       "         [3.48330039e-004, 6.84984489e-003],\n",
       "         [7.64999233e-005, 2.02887342e-003],\n",
       "         [8.92007755e-005, 1.63821154e-003],\n",
       "         [5.66013375e-004, 6.23065062e-003],\n",
       "         [3.71814934e-004, 5.67881032e-003],\n",
       "         [1.22618929e-004, 2.00212310e-003],\n",
       "         [5.59383773e-005, 1.21110004e-003],\n",
       "         [1.62130138e-004, 2.29690675e-003],\n",
       "         [5.18814010e-004, 1.00036894e-002],\n",
       "         [2.05703625e-004, 8.05736549e-003],\n",
       "         [1.60321556e-003, 1.59624396e-002],\n",
       "         [3.62146464e-004, 6.10542253e-003],\n",
       "         [4.14835271e-004, 7.03082727e-003],\n",
       "         [2.74355928e-004, 5.80870724e-003],\n",
       "         [1.62272724e-004, 2.48950877e-003],\n",
       "         [3.52024976e-004, 5.52110445e-003],\n",
       "         [7.66427557e-005, 2.31020555e-003],\n",
       "         [3.03512945e-004, 5.53567727e-003],\n",
       "         [1.13453402e-005, 1.12791294e-003],\n",
       "         [7.81077595e-004, 1.15920534e-002],\n",
       "         [1.24770701e-004, 1.94732461e-003],\n",
       "         [1.29802944e-004, 8.40639211e-003],\n",
       "         [3.40942360e-004, 8.80268921e-003],\n",
       "         [1.84967755e-004, 4.81317195e-003],\n",
       "         [2.38032174e-004, 4.91253467e-003],\n",
       "         [1.83368886e-004, 7.31911154e-003],\n",
       "         [5.74665051e-004, 8.76195570e-003],\n",
       "         [3.41531307e-004, 5.31916089e-003],\n",
       "         [2.69654219e-004, 6.25901744e-003],\n",
       "         [1.68703956e-004, 2.47134605e-003],\n",
       "         [1.19464722e-004, 5.59414795e-003],\n",
       "         [2.77142913e-004, 5.49062575e-003],\n",
       "         [4.07944333e-005, 1.62108327e-003],\n",
       "         [2.53362226e-004, 6.19298335e-003],\n",
       "         [4.22182012e-004, 3.74194725e-003],\n",
       "         [1.50508596e-004, 2.85066763e-003],\n",
       "         [5.64175330e-004, 6.14338277e-003],\n",
       "         [2.02567733e-004, 2.23861778e-003],\n",
       "         [1.83824061e-004, 2.51032398e-003],\n",
       "         [6.08416113e-005, 2.11711957e-003],\n",
       "         [1.54098792e-004, 2.40961806e-003],\n",
       "         [7.82341649e-005, 5.09161707e-003],\n",
       "         [1.11234366e-004, 2.51848609e-003],\n",
       "         [3.07273387e-004, 5.32366544e-003],\n",
       "         [1.14495226e-004, 5.59655726e-003],\n",
       "         [2.25916210e-005, 3.24981801e-004],\n",
       "         [4.33119161e-004, 5.95699420e-003],\n",
       "         [2.29864663e-004, 7.01957890e-003],\n",
       "         [2.67198430e-004, 6.38799385e-003],\n",
       "         [2.75632120e-004, 4.29564027e-003],\n",
       "         [3.18197199e-004, 6.69842607e-003],\n",
       "         [1.11200188e-004, 1.89227385e-003],\n",
       "         [3.54640638e-004, 6.05441959e-003],\n",
       "         [3.59446585e-004, 5.97431284e-003],\n",
       "         [7.56536748e-005, 1.54653936e-003]])},\n",
       " 'Weights': array([696569.69804131, 191590.30195869])}"
      ]
     },
     "execution_count": 55,
     "metadata": {},
     "output_type": "execute_result"
    }
   ],
   "source": [
    "factors_t = cp_apr.fit(coords=train_coords, values=train_vals)\n",
    "factors_t"
   ]
  },
  {
   "cell_type": "code",
   "execution_count": 56,
   "id": "c35cb1e9-da71-4640-a706-9726e6428db8",
   "metadata": {},
   "outputs": [
    {
     "data": {
      "text/plain": [
       "array([0.27490744, 0.2748005 , 0.14184473, ..., 0.03414956, 0.06444011,\n",
       "       0.05569363])"
      ]
     },
     "execution_count": 56,
     "metadata": {},
     "output_type": "execute_result"
    }
   ],
   "source": [
    "p_values = cp_apr.predict_scores(coords=test_coords, values=test_vals)\n",
    "p_values"
   ]
  },
  {
   "cell_type": "code",
   "execution_count": 61,
   "id": "069a913c-c540-4e94-bc8e-054c8d529c05",
   "metadata": {},
   "outputs": [
    {
     "data": {
      "text/plain": [
       "5418"
      ]
     },
     "execution_count": 61,
     "metadata": {},
     "output_type": "execute_result"
    }
   ],
   "source": [
    "len(np.where(p_values < 0.05)[0])"
   ]
  },
  {
   "cell_type": "code",
   "execution_count": 62,
   "id": "bd43f807-9909-4604-a292-ddea2300e7e0",
   "metadata": {},
   "outputs": [
    {
     "data": {
      "text/plain": [
       "19644"
      ]
     },
     "execution_count": 62,
     "metadata": {},
     "output_type": "execute_result"
    }
   ],
   "source": [
    "len(test_vals)"
   ]
  },
  {
   "cell_type": "markdown",
   "id": "c71e7fc6-f8a8-4393-ac15-24e496c669a4",
   "metadata": {},
   "source": [
    "### Returning the original data point"
   ]
  },
  {
   "cell_type": "code",
   "execution_count": 68,
   "id": "ef82a26a-05fd-4091-a842-16f4d03c76dc",
   "metadata": {},
   "outputs": [],
   "source": [
    "def auth_type_un_df(user,n):\n",
    "    auth_type_df = pd.DataFrame(index = list(authentication_data['Authent Type'].unique()))\n",
    "    n = n\n",
    "    auth_type_dict = {}\n",
    "    \n",
    "    for i in range(len(auth_start_days)-1):\n",
    "        chunks = split_dataframe(authentication_data[auth_start_days[i]:auth_start_days[i+1]],n)\n",
    "        for j in range(n):\n",
    "                data = chunks[j]\n",
    "                auth_type_data = data[data['UserName'] == user].groupby('Authent Type').size()\n",
    "                auth_type_dict[i*n + j] = auth_type_df.index.to_series().map(auth_type_data.to_dict())\n",
    "    \n",
    "    auth_type_df = pd.DataFrame(data=auth_type_dict,index = list(authentication_data['Authent Type'].unique()))\n",
    "    auth_type_df = auth_type_df.transpose()\n",
    "    auth_type_df = auth_type_df.fillna(0)\n",
    "    \n",
    "    return auth_type_df"
   ]
  },
  {
   "cell_type": "code",
   "execution_count": 93,
   "id": "7d125047-f181-434e-b462-69adae66a30a",
   "metadata": {},
   "outputs": [
    {
     "data": {
      "text/plain": [
       "8223"
      ]
     },
     "execution_count": 93,
     "metadata": {},
     "output_type": "execute_result"
    }
   ],
   "source": [
    "np.where(p_values < 0.05)[0][1982]"
   ]
  },
  {
   "cell_type": "code",
   "execution_count": 113,
   "id": "7b8a87e8-20f1-4d7f-b0eb-3e84297457f7",
   "metadata": {},
   "outputs": [],
   "source": [
    "a_t = list(authentication_data['Authent Type'].unique())\n",
    "AT_dict = { i : a_t[i] for i in range(0, len(a_t) ) }"
   ]
  },
  {
   "cell_type": "code",
   "execution_count": 116,
   "id": "0815501d-0042-4b01-9e32-618f61661ea0",
   "metadata": {},
   "outputs": [
    {
     "data": {
      "text/plain": [
       "'TGS'"
      ]
     },
     "execution_count": 116,
     "metadata": {},
     "output_type": "execute_result"
    }
   ],
   "source": [
    "AT_dict[0]"
   ]
  },
  {
   "cell_type": "code",
   "execution_count": 124,
   "id": "ebf9d35b-7c4b-4c66-9e48-922dd1d96df0",
   "metadata": {},
   "outputs": [],
   "source": [
    "# needs chunks function, usernames list, authentication data, authentication_start_days list, test-coords, authentication_dictionary\n",
    "\n",
    "def orig_finder(entry_val,n):\n",
    "    \n",
    "    # gets the co-ordinates of the entry where we have the erro\n",
    "    orig_co = test_coords[entry_val]\n",
    "    \n",
    "    # gets the authentication type\n",
    "    authent = AT_dict[orig_co[1]]\n",
    "    \n",
    "    # gets the username of the individual who the anomaly occured with\n",
    "    username = usernames[200+orig_co[2]]\n",
    "    \n",
    "    # gets the day the anomaly occured (n is the number of hours we split the data frame into)\n",
    "    day = int(orig_co[0]/n)\n",
    "    \n",
    "    # gets the hour the anomaly occured in\n",
    "    hour = orig_co[0] - n * day\n",
    "    \n",
    "    # gets the n hour chunks for that day\n",
    "    chunks = split_dataframe(authentication_data[auth_start_days[day]:auth_start_days[day+1]],n)\n",
    "    \n",
    "    # gets the hour\n",
    "    data = chunks[hour]\n",
    "    \n",
    "    # finds the anomaly\n",
    "    anom = data[(data['UserName'] == username) & (data['Authent Type'] == authent)]\n",
    "    \n",
    "    return anom"
   ]
  },
  {
   "cell_type": "code",
   "execution_count": 172,
   "id": "a8ac5465-0b09-421c-a4bd-4f065acb81c1",
   "metadata": {},
   "outputs": [
    {
     "data": {
      "text/html": [
       "<div>\n",
       "<style scoped>\n",
       "    .dataframe tbody tr th:only-of-type {\n",
       "        vertical-align: middle;\n",
       "    }\n",
       "\n",
       "    .dataframe tbody tr th {\n",
       "        vertical-align: top;\n",
       "    }\n",
       "\n",
       "    .dataframe thead th {\n",
       "        text-align: right;\n",
       "    }\n",
       "</style>\n",
       "<table border=\"1\" class=\"dataframe\">\n",
       "  <thead>\n",
       "    <tr style=\"text-align: right;\">\n",
       "      <th></th>\n",
       "      <th>UserName</th>\n",
       "      <th>SrcDevice</th>\n",
       "      <th>DstDevice</th>\n",
       "      <th>Authent Type</th>\n",
       "      <th>Failure</th>\n",
       "      <th>DailyCount</th>\n",
       "    </tr>\n",
       "  </thead>\n",
       "  <tbody>\n",
       "    <tr>\n",
       "      <th>154489</th>\n",
       "      <td>User148020</td>\n",
       "      <td>Comp691505</td>\n",
       "      <td>None</td>\n",
       "      <td>ScreensaverDismissed</td>\n",
       "      <td>0</td>\n",
       "      <td>6.0</td>\n",
       "    </tr>\n",
       "    <tr>\n",
       "      <th>155821</th>\n",
       "      <td>User148020</td>\n",
       "      <td>Comp691505</td>\n",
       "      <td>Comp370444</td>\n",
       "      <td>TGS</td>\n",
       "      <td>0</td>\n",
       "      <td>8.0</td>\n",
       "    </tr>\n",
       "  </tbody>\n",
       "</table>\n",
       "</div>"
      ],
      "text/plain": [
       "          UserName   SrcDevice   DstDevice          Authent Type  Failure  \\\n",
       "154489  User148020  Comp691505        None  ScreensaverDismissed        0   \n",
       "155821  User148020  Comp691505  Comp370444                   TGS        0   \n",
       "\n",
       "        DailyCount  \n",
       "154489         6.0  \n",
       "155821         8.0  "
      ]
     },
     "execution_count": 172,
     "metadata": {},
     "output_type": "execute_result"
    }
   ],
   "source": [
    "frames = []\n",
    "for i in range(2):\n",
    "    df = orig_finder(8223+i,24)\n",
    "    frames.append(df)\n",
    "    \n",
    "pd.concat(frames)"
   ]
  },
  {
   "cell_type": "code",
   "execution_count": null,
   "id": "2198218c-aec9-4b18-8492-19b07e6d878c",
   "metadata": {},
   "outputs": [],
   "source": []
  }
 ],
 "metadata": {
  "kernelspec": {
   "display_name": "Python 3",
   "language": "python",
   "name": "python3"
  },
  "language_info": {
   "codemirror_mode": {
    "name": "ipython",
    "version": 3
   },
   "file_extension": ".py",
   "mimetype": "text/x-python",
   "name": "python",
   "nbconvert_exporter": "python",
   "pygments_lexer": "ipython3",
   "version": "3.8.5"
  }
 },
 "nbformat": 4,
 "nbformat_minor": 5
}
