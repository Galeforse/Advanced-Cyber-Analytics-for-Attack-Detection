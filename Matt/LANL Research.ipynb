{
 "cells": [
  {
   "cell_type": "markdown",
   "id": "e7e8d9bc",
   "metadata": {},
   "source": [
    "# LANL Research"
   ]
  },
  {
   "cell_type": "code",
   "execution_count": 1,
   "id": "48a85787",
   "metadata": {},
   "outputs": [],
   "source": [
    "import numpy as np\n",
    "import pandas as pd\n",
    "import matplotlib.pyplot as plt\n",
    "import os\n",
    "import gzip\n",
    "import shutil\n",
    "import datetime\n",
    "import networkx as nx"
   ]
  },
  {
   "cell_type": "code",
   "execution_count": 2,
   "id": "17febc4b",
   "metadata": {},
   "outputs": [],
   "source": [
    "pd.options.display.float_format = '{:,}'.format"
   ]
  },
  {
   "cell_type": "markdown",
   "id": "80b013f4",
   "metadata": {},
   "source": [
    "### Authentication and Process Data"
   ]
  },
  {
   "cell_type": "markdown",
   "id": "17397005",
   "metadata": {},
   "source": [
    "We neeed to import the data we will use. Below we import the authentication and process summaries."
   ]
  },
  {
   "cell_type": "code",
   "execution_count": null,
   "id": "1a1ac81f",
   "metadata": {},
   "outputs": [],
   "source": [
    "rootdir = 'C:/Users/corri/OneDrive/Documents/Uni/Postgraduate/Final Project/LANL/ATI Data/Summaries/wls'\n",
    "unzippeddir = 'C:/Users/corri/OneDrive/Documents/Uni/Postgraduate/Final Project/LANL/ATI Data/Summaries/wls/Unzipped'\n",
    "frames = []\n",
    "\n",
    "count = 0\n",
    "\n",
    "for subdir, dirs, files in os.walk(rootdir):\n",
    "    for file in files:\n",
    "        filedir = rootdir + '/' + file\n",
    "        with gzip.open(filedir) as f:\n",
    "            df = pd.read_csv(filedir, header=None)\n",
    "            frames.append(df)\n",
    "        if 'authentications' in str(file):\n",
    "            count = count + len(df)\n",
    "\n",
    "df = pd.concat(frames)"
   ]
  },
  {
   "cell_type": "code",
   "execution_count": null,
   "id": "0e3f57bf",
   "metadata": {},
   "outputs": [],
   "source": [
    "df"
   ]
  },
  {
   "cell_type": "code",
   "execution_count": null,
   "id": "01c70173",
   "metadata": {},
   "outputs": [],
   "source": [
    "authentication_data = df[:count]"
   ]
  },
  {
   "cell_type": "code",
   "execution_count": null,
   "id": "d7b501fa",
   "metadata": {
    "scrolled": true
   },
   "outputs": [],
   "source": [
    "process_data = df[count:]"
   ]
  },
  {
   "cell_type": "code",
   "execution_count": null,
   "id": "05534ade",
   "metadata": {},
   "outputs": [],
   "source": [
    "authentication_data"
   ]
  },
  {
   "cell_type": "code",
   "execution_count": null,
   "id": "75238906",
   "metadata": {},
   "outputs": [],
   "source": [
    "process_data"
   ]
  },
  {
   "cell_type": "code",
   "execution_count": null,
   "id": "e67e6db3",
   "metadata": {},
   "outputs": [],
   "source": [
    "def draw_day(data,i):\n",
    "\n",
    "    # split the data into the selected time period\n",
    "    df_day = data\n",
    "\n",
    "    # print day we're working on\n",
    "    print(i)\n",
    "\n",
    "    # get all unqiue users for that period\n",
    "    userlist_1 = list(list(df_day[0].unique()))\n",
    "    userlist_2 = list(list(df_day[1].unique()))\n",
    "    unique_users = set(userlist_1 + userlist_2)\n",
    "\n",
    "    # get all connections made for that period\n",
    "    connections = zip(df_day[0], df_day[1])\n",
    "\n",
    "    # create the graph\n",
    "    G = nx.DiGraph()\n",
    "\n",
    "    # create the nodes of the graph\n",
    "    for u in unique_users:\n",
    "        G.add_node(u)\n",
    "\n",
    "    # create the edges of the graph\n",
    "    for a in connections:\n",
    "        G.add_edge(*a)\n",
    "\n",
    "    # draw the network\n",
    "    plt.figure(figsize=(15,15), dpi=400)\n",
    "    nx.draw(G, node_size=20, linewidths=0.8)\n",
    "    plt.savefig('day {}.png'.format(i))\n",
    "\n",
    "    return G"
   ]
  },
  {
   "cell_type": "code",
   "execution_count": null,
   "id": "42de6c6a",
   "metadata": {},
   "outputs": [],
   "source": [
    "index_list = authentication_data.index.tolist()\n",
    "start_days = [i for i, e in enumerate(index_list) if e == 0]\n",
    "start_days.append(len(authentication_data))\n",
    "\n",
    "data_ = [(authentication_data[start_days[i]:start_days[i+1]],i) for i in range(len(start_days)-1)]"
   ]
  },
  {
   "cell_type": "code",
   "execution_count": null,
   "id": "dbdc18db",
   "metadata": {},
   "outputs": [],
   "source": [
    "begin_time = datetime.datetime.now()\n",
    "draw_day(data_[0][0], data_[0][1])\n",
    "print(\"Finished creating networks!\")\n",
    "end_time = datetime.datetime.now()\n",
    "print(end_time - begin_time)"
   ]
  },
  {
   "cell_type": "markdown",
   "id": "df058a08",
   "metadata": {},
   "source": [
    "Creating a single network takes about 23 minutes. We do this for all 91 days so this is a large process which takes multiple hours so I would not recommend running the below line of code since this has parallelised this process for 8 cores but will still take hours."
   ]
  },
  {
   "cell_type": "code",
   "execution_count": null,
   "id": "050ac60f",
   "metadata": {},
   "outputs": [],
   "source": [
    "# %run -i Parallelised-Drawing.py"
   ]
  },
  {
   "cell_type": "markdown",
   "id": "81ab02c8",
   "metadata": {},
   "source": [
    "### Netflow Data"
   ]
  },
  {
   "cell_type": "code",
   "execution_count": 3,
   "id": "73fdfc3e",
   "metadata": {},
   "outputs": [],
   "source": [
    "path = 'C:/Users/corri/Downloads'\n",
    "df_netflow = pd.read_csv(path + '/netflow_day-02.bz2', header=None)"
   ]
  },
  {
   "cell_type": "code",
   "execution_count": 4,
   "id": "8d3ec74c",
   "metadata": {},
   "outputs": [],
   "source": [
    "headers = (['Time', 'Duration', 'SrcDevice', 'DstDevice', 'Protocol',\n",
    "            'SrcPort', 'DstPort', 'SrcPackets', 'DstPackets', 'SrcBytes', 'DstBytes'])\n",
    "df_netflow.columns = headers"
   ]
  },
  {
   "cell_type": "code",
   "execution_count": 5,
   "id": "26d4585f",
   "metadata": {},
   "outputs": [
    {
     "data": {
      "text/html": [
       "<div>\n",
       "<style scoped>\n",
       "    .dataframe tbody tr th:only-of-type {\n",
       "        vertical-align: middle;\n",
       "    }\n",
       "\n",
       "    .dataframe tbody tr th {\n",
       "        vertical-align: top;\n",
       "    }\n",
       "\n",
       "    .dataframe thead th {\n",
       "        text-align: right;\n",
       "    }\n",
       "</style>\n",
       "<table border=\"1\" class=\"dataframe\">\n",
       "  <thead>\n",
       "    <tr style=\"text-align: right;\">\n",
       "      <th></th>\n",
       "      <th>Time</th>\n",
       "      <th>Duration</th>\n",
       "      <th>SrcDevice</th>\n",
       "      <th>DstDevice</th>\n",
       "      <th>Protocol</th>\n",
       "      <th>SrcPort</th>\n",
       "      <th>DstPort</th>\n",
       "      <th>SrcPackets</th>\n",
       "      <th>DstPackets</th>\n",
       "      <th>SrcBytes</th>\n",
       "      <th>DstBytes</th>\n",
       "    </tr>\n",
       "  </thead>\n",
       "  <tbody>\n",
       "    <tr>\n",
       "      <th>0</th>\n",
       "      <td>118781</td>\n",
       "      <td>5580</td>\n",
       "      <td>Comp364445</td>\n",
       "      <td>Comp547245</td>\n",
       "      <td>17</td>\n",
       "      <td>Port05507</td>\n",
       "      <td>Port46272</td>\n",
       "      <td>0</td>\n",
       "      <td>755065</td>\n",
       "      <td>0</td>\n",
       "      <td>1042329018</td>\n",
       "    </tr>\n",
       "    <tr>\n",
       "      <th>1</th>\n",
       "      <td>118783</td>\n",
       "      <td>6976</td>\n",
       "      <td>Comp450942</td>\n",
       "      <td>Comp829338</td>\n",
       "      <td>6</td>\n",
       "      <td>Port03137</td>\n",
       "      <td>445</td>\n",
       "      <td>1665</td>\n",
       "      <td>1108</td>\n",
       "      <td>300810</td>\n",
       "      <td>250408</td>\n",
       "    </tr>\n",
       "    <tr>\n",
       "      <th>2</th>\n",
       "      <td>118785</td>\n",
       "      <td>14178</td>\n",
       "      <td>IP564116</td>\n",
       "      <td>Comp141988</td>\n",
       "      <td>17</td>\n",
       "      <td>5060</td>\n",
       "      <td>5060</td>\n",
       "      <td>1866</td>\n",
       "      <td>0</td>\n",
       "      <td>1477041</td>\n",
       "      <td>0</td>\n",
       "    </tr>\n",
       "    <tr>\n",
       "      <th>3</th>\n",
       "      <td>118785</td>\n",
       "      <td>28147</td>\n",
       "      <td>IP564116</td>\n",
       "      <td>Comp141988</td>\n",
       "      <td>17</td>\n",
       "      <td>5060</td>\n",
       "      <td>5060</td>\n",
       "      <td>3326</td>\n",
       "      <td>0</td>\n",
       "      <td>2656305</td>\n",
       "      <td>0</td>\n",
       "    </tr>\n",
       "    <tr>\n",
       "      <th>4</th>\n",
       "      <td>118785</td>\n",
       "      <td>48507</td>\n",
       "      <td>IP564116</td>\n",
       "      <td>Comp141988</td>\n",
       "      <td>17</td>\n",
       "      <td>5060</td>\n",
       "      <td>5060</td>\n",
       "      <td>5423</td>\n",
       "      <td>0</td>\n",
       "      <td>4388449</td>\n",
       "      <td>0</td>\n",
       "    </tr>\n",
       "    <tr>\n",
       "      <th>...</th>\n",
       "      <td>...</td>\n",
       "      <td>...</td>\n",
       "      <td>...</td>\n",
       "      <td>...</td>\n",
       "      <td>...</td>\n",
       "      <td>...</td>\n",
       "      <td>...</td>\n",
       "      <td>...</td>\n",
       "      <td>...</td>\n",
       "      <td>...</td>\n",
       "      <td>...</td>\n",
       "    </tr>\n",
       "    <tr>\n",
       "      <th>115949431</th>\n",
       "      <td>172799</td>\n",
       "      <td>16505</td>\n",
       "      <td>Comp059508</td>\n",
       "      <td>ActiveDirectory</td>\n",
       "      <td>6</td>\n",
       "      <td>Port78245</td>\n",
       "      <td>Port08664</td>\n",
       "      <td>7958</td>\n",
       "      <td>0</td>\n",
       "      <td>8182300</td>\n",
       "      <td>0</td>\n",
       "    </tr>\n",
       "    <tr>\n",
       "      <th>115949432</th>\n",
       "      <td>172799</td>\n",
       "      <td>27496</td>\n",
       "      <td>Comp059508</td>\n",
       "      <td>ActiveDirectory</td>\n",
       "      <td>6</td>\n",
       "      <td>Port78245</td>\n",
       "      <td>Port08664</td>\n",
       "      <td>22893</td>\n",
       "      <td>0</td>\n",
       "      <td>22709439</td>\n",
       "      <td>0</td>\n",
       "    </tr>\n",
       "    <tr>\n",
       "      <th>115949433</th>\n",
       "      <td>172799</td>\n",
       "      <td>27548</td>\n",
       "      <td>Comp107130</td>\n",
       "      <td>Comp097048</td>\n",
       "      <td>6</td>\n",
       "      <td>Port05132</td>\n",
       "      <td>443</td>\n",
       "      <td>895</td>\n",
       "      <td>420</td>\n",
       "      <td>105478</td>\n",
       "      <td>29578</td>\n",
       "    </tr>\n",
       "    <tr>\n",
       "      <th>115949434</th>\n",
       "      <td>172799</td>\n",
       "      <td>42747</td>\n",
       "      <td>Comp107130</td>\n",
       "      <td>Comp097048</td>\n",
       "      <td>6</td>\n",
       "      <td>Port05132</td>\n",
       "      <td>443</td>\n",
       "      <td>1381</td>\n",
       "      <td>682</td>\n",
       "      <td>154756</td>\n",
       "      <td>41630</td>\n",
       "    </tr>\n",
       "    <tr>\n",
       "      <th>115949435</th>\n",
       "      <td>172799</td>\n",
       "      <td>50343</td>\n",
       "      <td>Comp107130</td>\n",
       "      <td>Comp097048</td>\n",
       "      <td>6</td>\n",
       "      <td>Port05132</td>\n",
       "      <td>443</td>\n",
       "      <td>1582</td>\n",
       "      <td>787</td>\n",
       "      <td>175130</td>\n",
       "      <td>46460</td>\n",
       "    </tr>\n",
       "  </tbody>\n",
       "</table>\n",
       "<p>115949436 rows × 11 columns</p>\n",
       "</div>"
      ],
      "text/plain": [
       "             Time  Duration   SrcDevice        DstDevice  Protocol    SrcPort  \\\n",
       "0          118781      5580  Comp364445       Comp547245        17  Port05507   \n",
       "1          118783      6976  Comp450942       Comp829338         6  Port03137   \n",
       "2          118785     14178    IP564116       Comp141988        17       5060   \n",
       "3          118785     28147    IP564116       Comp141988        17       5060   \n",
       "4          118785     48507    IP564116       Comp141988        17       5060   \n",
       "...           ...       ...         ...              ...       ...        ...   \n",
       "115949431  172799     16505  Comp059508  ActiveDirectory         6  Port78245   \n",
       "115949432  172799     27496  Comp059508  ActiveDirectory         6  Port78245   \n",
       "115949433  172799     27548  Comp107130       Comp097048         6  Port05132   \n",
       "115949434  172799     42747  Comp107130       Comp097048         6  Port05132   \n",
       "115949435  172799     50343  Comp107130       Comp097048         6  Port05132   \n",
       "\n",
       "             DstPort  SrcPackets  DstPackets  SrcBytes    DstBytes  \n",
       "0          Port46272           0      755065         0  1042329018  \n",
       "1                445        1665        1108    300810      250408  \n",
       "2               5060        1866           0   1477041           0  \n",
       "3               5060        3326           0   2656305           0  \n",
       "4               5060        5423           0   4388449           0  \n",
       "...              ...         ...         ...       ...         ...  \n",
       "115949431  Port08664        7958           0   8182300           0  \n",
       "115949432  Port08664       22893           0  22709439           0  \n",
       "115949433        443         895         420    105478       29578  \n",
       "115949434        443        1381         682    154756       41630  \n",
       "115949435        443        1582         787    175130       46460  \n",
       "\n",
       "[115949436 rows x 11 columns]"
      ]
     },
     "execution_count": 5,
     "metadata": {},
     "output_type": "execute_result"
    }
   ],
   "source": [
    "df_netflow"
   ]
  },
  {
   "cell_type": "markdown",
   "id": "6ddc0d08",
   "metadata": {},
   "source": [
    "We have over 115 million data points and therefore can't run anything without a massive amount of storage - functions such as pd.describe and pd.get_dummies wont work on this. The first steps are therefore to reduce the size of the data we are obtaining."
   ]
  },
  {
   "cell_type": "markdown",
   "id": "11d0ccc4",
   "metadata": {},
   "source": [
    "### Session Host Data"
   ]
  },
  {
   "cell_type": "markdown",
   "id": "9abbf166",
   "metadata": {},
   "source": [
    "One of the useful pieces of information provided to us by Dan is the session host data. This is a list of computers that were used during the attacks. A first step we can take is to reduce the data set by only keeping the data from these source computers."
   ]
  },
  {
   "cell_type": "code",
   "execution_count": 6,
   "id": "4de78fa5",
   "metadata": {},
   "outputs": [],
   "source": [
    "sh_file = os.getcwd()[:-4] + 'Data\\\\session_hosts.txt'\n",
    "rt_sh = list(pd.read_csv(sh_file, header=None)[0])"
   ]
  },
  {
   "cell_type": "code",
   "execution_count": 7,
   "id": "9c6d2c49",
   "metadata": {},
   "outputs": [],
   "source": [
    "rt_src_sh = df_netflow[df_netflow['SrcDevice'].isin(rt_sh)]\n",
    "#rt_dest_sh = df_netflow[df_netflow['DstDevice'].isin(rt_sh)]\n",
    "#rt_all = pd.concat([rt_src_sh, rt_dest_sh]).drop_duplicates()"
   ]
  },
  {
   "cell_type": "code",
   "execution_count": 8,
   "id": "809248b1",
   "metadata": {},
   "outputs": [
    {
     "data": {
      "text/html": [
       "<div>\n",
       "<style scoped>\n",
       "    .dataframe tbody tr th:only-of-type {\n",
       "        vertical-align: middle;\n",
       "    }\n",
       "\n",
       "    .dataframe tbody tr th {\n",
       "        vertical-align: top;\n",
       "    }\n",
       "\n",
       "    .dataframe thead th {\n",
       "        text-align: right;\n",
       "    }\n",
       "</style>\n",
       "<table border=\"1\" class=\"dataframe\">\n",
       "  <thead>\n",
       "    <tr style=\"text-align: right;\">\n",
       "      <th></th>\n",
       "      <th>Time</th>\n",
       "      <th>Duration</th>\n",
       "      <th>SrcDevice</th>\n",
       "      <th>DstDevice</th>\n",
       "      <th>Protocol</th>\n",
       "      <th>SrcPort</th>\n",
       "      <th>DstPort</th>\n",
       "      <th>SrcPackets</th>\n",
       "      <th>DstPackets</th>\n",
       "      <th>SrcBytes</th>\n",
       "      <th>DstBytes</th>\n",
       "    </tr>\n",
       "  </thead>\n",
       "  <tbody>\n",
       "    <tr>\n",
       "      <th>1083</th>\n",
       "      <td>119484</td>\n",
       "      <td>14156</td>\n",
       "      <td>Comp700191</td>\n",
       "      <td>Comp646861</td>\n",
       "      <td>6</td>\n",
       "      <td>Port42062</td>\n",
       "      <td>443</td>\n",
       "      <td>20491</td>\n",
       "      <td>31292</td>\n",
       "      <td>3935854</td>\n",
       "      <td>41700877</td>\n",
       "    </tr>\n",
       "    <tr>\n",
       "      <th>1088</th>\n",
       "      <td>119484</td>\n",
       "      <td>26759</td>\n",
       "      <td>Comp700191</td>\n",
       "      <td>Comp646861</td>\n",
       "      <td>6</td>\n",
       "      <td>Port42062</td>\n",
       "      <td>443</td>\n",
       "      <td>38483</td>\n",
       "      <td>60707</td>\n",
       "      <td>7413244</td>\n",
       "      <td>80878668</td>\n",
       "    </tr>\n",
       "    <tr>\n",
       "      <th>1092</th>\n",
       "      <td>119484</td>\n",
       "      <td>46142</td>\n",
       "      <td>Comp700191</td>\n",
       "      <td>Comp646861</td>\n",
       "      <td>6</td>\n",
       "      <td>Port42062</td>\n",
       "      <td>443</td>\n",
       "      <td>67032</td>\n",
       "      <td>111459</td>\n",
       "      <td>12619410</td>\n",
       "      <td>149117906</td>\n",
       "    </tr>\n",
       "    <tr>\n",
       "      <th>1095</th>\n",
       "      <td>119484</td>\n",
       "      <td>62707</td>\n",
       "      <td>Comp700191</td>\n",
       "      <td>Comp646861</td>\n",
       "      <td>6</td>\n",
       "      <td>Port42062</td>\n",
       "      <td>443</td>\n",
       "      <td>91147</td>\n",
       "      <td>155143</td>\n",
       "      <td>17091956</td>\n",
       "      <td>207623806</td>\n",
       "    </tr>\n",
       "    <tr>\n",
       "      <th>1100</th>\n",
       "      <td>119484</td>\n",
       "      <td>78632</td>\n",
       "      <td>Comp700191</td>\n",
       "      <td>Comp646861</td>\n",
       "      <td>6</td>\n",
       "      <td>Port42062</td>\n",
       "      <td>443</td>\n",
       "      <td>113631</td>\n",
       "      <td>191512</td>\n",
       "      <td>21373274</td>\n",
       "      <td>256098429</td>\n",
       "    </tr>\n",
       "    <tr>\n",
       "      <th>...</th>\n",
       "      <td>...</td>\n",
       "      <td>...</td>\n",
       "      <td>...</td>\n",
       "      <td>...</td>\n",
       "      <td>...</td>\n",
       "      <td>...</td>\n",
       "      <td>...</td>\n",
       "      <td>...</td>\n",
       "      <td>...</td>\n",
       "      <td>...</td>\n",
       "      <td>...</td>\n",
       "    </tr>\n",
       "    <tr>\n",
       "      <th>115946588</th>\n",
       "      <td>172799</td>\n",
       "      <td>0</td>\n",
       "      <td>Comp939275</td>\n",
       "      <td>Comp275646</td>\n",
       "      <td>17</td>\n",
       "      <td>Port79734</td>\n",
       "      <td>53</td>\n",
       "      <td>1</td>\n",
       "      <td>0</td>\n",
       "      <td>64</td>\n",
       "      <td>0</td>\n",
       "    </tr>\n",
       "    <tr>\n",
       "      <th>115947532</th>\n",
       "      <td>172799</td>\n",
       "      <td>1</td>\n",
       "      <td>Comp700191</td>\n",
       "      <td>Comp707645</td>\n",
       "      <td>6</td>\n",
       "      <td>Port10254</td>\n",
       "      <td>443</td>\n",
       "      <td>21</td>\n",
       "      <td>22</td>\n",
       "      <td>7458</td>\n",
       "      <td>13686</td>\n",
       "    </tr>\n",
       "    <tr>\n",
       "      <th>115948788</th>\n",
       "      <td>172799</td>\n",
       "      <td>2</td>\n",
       "      <td>Comp819296</td>\n",
       "      <td>Comp186884</td>\n",
       "      <td>6</td>\n",
       "      <td>Port56601</td>\n",
       "      <td>443</td>\n",
       "      <td>0</td>\n",
       "      <td>15</td>\n",
       "      <td>0</td>\n",
       "      <td>7895</td>\n",
       "    </tr>\n",
       "    <tr>\n",
       "      <th>115948789</th>\n",
       "      <td>172799</td>\n",
       "      <td>2</td>\n",
       "      <td>Comp819296</td>\n",
       "      <td>Comp186884</td>\n",
       "      <td>6</td>\n",
       "      <td>Port35640</td>\n",
       "      <td>443</td>\n",
       "      <td>0</td>\n",
       "      <td>16</td>\n",
       "      <td>0</td>\n",
       "      <td>8271</td>\n",
       "    </tr>\n",
       "    <tr>\n",
       "      <th>115948918</th>\n",
       "      <td>172799</td>\n",
       "      <td>9</td>\n",
       "      <td>Comp939275</td>\n",
       "      <td>Comp965611</td>\n",
       "      <td>6</td>\n",
       "      <td>Port73802</td>\n",
       "      <td>445</td>\n",
       "      <td>3</td>\n",
       "      <td>0</td>\n",
       "      <td>152</td>\n",
       "      <td>0</td>\n",
       "    </tr>\n",
       "  </tbody>\n",
       "</table>\n",
       "<p>261484 rows × 11 columns</p>\n",
       "</div>"
      ],
      "text/plain": [
       "             Time  Duration   SrcDevice   DstDevice  Protocol    SrcPort  \\\n",
       "1083       119484     14156  Comp700191  Comp646861         6  Port42062   \n",
       "1088       119484     26759  Comp700191  Comp646861         6  Port42062   \n",
       "1092       119484     46142  Comp700191  Comp646861         6  Port42062   \n",
       "1095       119484     62707  Comp700191  Comp646861         6  Port42062   \n",
       "1100       119484     78632  Comp700191  Comp646861         6  Port42062   \n",
       "...           ...       ...         ...         ...       ...        ...   \n",
       "115946588  172799         0  Comp939275  Comp275646        17  Port79734   \n",
       "115947532  172799         1  Comp700191  Comp707645         6  Port10254   \n",
       "115948788  172799         2  Comp819296  Comp186884         6  Port56601   \n",
       "115948789  172799         2  Comp819296  Comp186884         6  Port35640   \n",
       "115948918  172799         9  Comp939275  Comp965611         6  Port73802   \n",
       "\n",
       "          DstPort  SrcPackets  DstPackets  SrcBytes   DstBytes  \n",
       "1083          443       20491       31292   3935854   41700877  \n",
       "1088          443       38483       60707   7413244   80878668  \n",
       "1092          443       67032      111459  12619410  149117906  \n",
       "1095          443       91147      155143  17091956  207623806  \n",
       "1100          443      113631      191512  21373274  256098429  \n",
       "...           ...         ...         ...       ...        ...  \n",
       "115946588      53           1           0        64          0  \n",
       "115947532     443          21          22      7458      13686  \n",
       "115948788     443           0          15         0       7895  \n",
       "115948789     443           0          16         0       8271  \n",
       "115948918     445           3           0       152          0  \n",
       "\n",
       "[261484 rows x 11 columns]"
      ]
     },
     "execution_count": 8,
     "metadata": {},
     "output_type": "execute_result"
    }
   ],
   "source": [
    "rt_src_sh"
   ]
  },
  {
   "cell_type": "code",
   "execution_count": 9,
   "id": "777bfc97",
   "metadata": {},
   "outputs": [
    {
     "data": {
      "text/plain": [
       "'117,667,800'"
      ]
     },
     "execution_count": 9,
     "metadata": {},
     "output_type": "execute_result"
    }
   ],
   "source": [
    "f'{261484 * 5 * 90:,}'"
   ]
  },
  {
   "cell_type": "markdown",
   "id": "92fa41e6",
   "metadata": {},
   "source": [
    "### Clustering Red Team Session Host Data"
   ]
  },
  {
   "cell_type": "code",
   "execution_count": 10,
   "id": "4573bb67",
   "metadata": {},
   "outputs": [],
   "source": [
    "# source computers dictionary\n",
    "src_comps = rt_src_sh['SrcDevice'].unique()\n",
    "src_comps_dict= {}\n",
    "for i, key in enumerate(src_comps):\n",
    "    src_comps_dict[key] = i\n",
    "    \n",
    "# destination computers ditionary\n",
    "dst_comps = rt_src_sh['DstDevice'].unique()\n",
    "dst_comps_dict= {}\n",
    "for i, key in enumerate(dst_comps):\n",
    "    dst_comps_dict[key] = i\n",
    "    \n",
    "# source port dictionary\n",
    "src_port = rt_src_sh['SrcPort'].unique()\n",
    "src_port_dict= {}\n",
    "for i, key in enumerate(src_port):\n",
    "    src_port_dict[key] = i\n",
    "    \n",
    "# destination port dictionary\n",
    "dst_port = rt_src_sh['DstPort'].unique()\n",
    "dst_port_dict= {}\n",
    "for i, key in enumerate(dst_port):\n",
    "    dst_port_dict[key] = i\n",
    "    \n",
    "rt_src_sh['SrcDevice'] = rt_src_sh['SrcDevice'].map(src_comps_dict)\n",
    "rt_src_sh['DstDevice'] = rt_src_sh['DstDevice'].map(dst_comps_dict)\n",
    "rt_src_sh['SrcPort'] = rt_src_sh['SrcPort'].map(src_port_dict)\n",
    "rt_src_sh['DstPort'] = rt_src_sh['DstPort'].map(dst_port_dict)"
   ]
  },
  {
   "cell_type": "code",
   "execution_count": 11,
   "id": "0ab3dbd9",
   "metadata": {},
   "outputs": [
    {
     "name": "stderr",
     "output_type": "stream",
     "text": [
      "<ipython-input-11-d50627209351>:1: SettingWithCopyWarning: \n",
      "A value is trying to be set on a copy of a slice from a DataFrame.\n",
      "Try using .loc[row_indexer,col_indexer] = value instead\n",
      "\n",
      "See the caveats in the documentation: https://pandas.pydata.org/pandas-docs/stable/user_guide/indexing.html#returning-a-view-versus-a-copy\n",
      "  rt_src_sh['SrcDevice'] = rt_src_sh['SrcDevice'].map(src_comps_dict)\n",
      "<ipython-input-11-d50627209351>:2: SettingWithCopyWarning: \n",
      "A value is trying to be set on a copy of a slice from a DataFrame.\n",
      "Try using .loc[row_indexer,col_indexer] = value instead\n",
      "\n",
      "See the caveats in the documentation: https://pandas.pydata.org/pandas-docs/stable/user_guide/indexing.html#returning-a-view-versus-a-copy\n",
      "  rt_src_sh['DstDevice'] = rt_src_sh['DstDevice'].map(dst_comps_dict)\n",
      "<ipython-input-11-d50627209351>:3: SettingWithCopyWarning: \n",
      "A value is trying to be set on a copy of a slice from a DataFrame.\n",
      "Try using .loc[row_indexer,col_indexer] = value instead\n",
      "\n",
      "See the caveats in the documentation: https://pandas.pydata.org/pandas-docs/stable/user_guide/indexing.html#returning-a-view-versus-a-copy\n",
      "  rt_src_sh['SrcPort'] = rt_src_sh['SrcPort'].map(src_port_dict)\n",
      "<ipython-input-11-d50627209351>:4: SettingWithCopyWarning: \n",
      "A value is trying to be set on a copy of a slice from a DataFrame.\n",
      "Try using .loc[row_indexer,col_indexer] = value instead\n",
      "\n",
      "See the caveats in the documentation: https://pandas.pydata.org/pandas-docs/stable/user_guide/indexing.html#returning-a-view-versus-a-copy\n",
      "  rt_src_sh['DstPort'] = rt_src_sh['DstPort'].map(dst_port_dict)\n"
     ]
    }
   ],
   "source": [
    "rt_src_sh['SrcDevice'] = rt_src_sh['SrcDevice'].map(src_comps_dict)\n",
    "rt_src_sh['DstDevice'] = rt_src_sh['DstDevice'].map(dst_comps_dict)\n",
    "rt_src_sh['SrcPort'] = rt_src_sh['SrcPort'].map(src_port_dict)\n",
    "rt_src_sh['DstPort'] = rt_src_sh['DstPort'].map(dst_port_dict)"
   ]
  },
  {
   "cell_type": "code",
   "execution_count": 12,
   "id": "f7ad447c",
   "metadata": {},
   "outputs": [
    {
     "data": {
      "text/plain": [
       "Time          int64\n",
       "Duration      int64\n",
       "SrcDevice     int64\n",
       "DstDevice     int64\n",
       "Protocol      int64\n",
       "SrcPort       int64\n",
       "DstPort       int64\n",
       "SrcPackets    int64\n",
       "DstPackets    int64\n",
       "SrcBytes      int64\n",
       "DstBytes      int64\n",
       "dtype: object"
      ]
     },
     "execution_count": 12,
     "metadata": {},
     "output_type": "execute_result"
    }
   ],
   "source": [
    "rt_src_sh.dtypes"
   ]
  },
  {
   "cell_type": "code",
   "execution_count": 23,
   "id": "38a16619",
   "metadata": {},
   "outputs": [
    {
     "name": "stdout",
     "output_type": "stream",
     "text": [
      "Estimated no. of clusters: 612\n",
      "Estimated no. of noise points: 255038\n"
     ]
    }
   ],
   "source": [
    "from sklearn.cluster import DBSCAN\n",
    "db = DBSCAN(eps=10, min_samples=5).fit(rt_src_sh)\n",
    "labels = db.labels_\n",
    "\n",
    "no_clusters = len(np.unique(labels) )\n",
    "no_noise = np.sum(np.array(labels) == -1, axis=0)\n",
    "\n",
    "print('Estimated no. of clusters: %d' % no_clusters)\n",
    "print('Estimated no. of noise points: %d' % no_noise)"
   ]
  },
  {
   "cell_type": "code",
   "execution_count": 24,
   "id": "cadfd657",
   "metadata": {},
   "outputs": [],
   "source": [
    "from sklearn.decomposition import PCA"
   ]
  },
  {
   "cell_type": "code",
   "execution_count": 25,
   "id": "4285baa7",
   "metadata": {},
   "outputs": [],
   "source": [
    "pca = PCA(n_components=2)"
   ]
  },
  {
   "cell_type": "code",
   "execution_count": 26,
   "id": "5bceb030",
   "metadata": {},
   "outputs": [],
   "source": [
    "pca.fit(rt_src_sh)\n",
    "rt_sh_trans = pca.transform(rt_src_sh)"
   ]
  },
  {
   "cell_type": "code",
   "execution_count": 27,
   "id": "26a5c875",
   "metadata": {},
   "outputs": [
    {
     "data": {
      "image/png": "[encoded data removed]",
      "text/plain": [
       "<Figure size 1080x576 with 1 Axes>"
      ]
     },
     "metadata": {
      "needs_background": "light"
     },
     "output_type": "display_data"
    }
   ],
   "source": [
    "fig = plt.figure(figsize=(15, 8))\n",
    "plt.scatter(rt_sh_trans[:, 0], rt_sh_trans[:, 1])\n",
    "plt.show()"
   ]
  },
  {
   "cell_type": "markdown",
   "id": "c450e74e",
   "metadata": {},
   "source": [
    "#### Source Devices"
   ]
  },
  {
   "cell_type": "code",
   "execution_count": null,
   "id": "8db9f922",
   "metadata": {},
   "outputs": [],
   "source": [
    "src_device_counts = df_netflow.groupby('SrcDevice').size().sort_values(ascending=False)"
   ]
  },
  {
   "cell_type": "code",
   "execution_count": null,
   "id": "0706ac33",
   "metadata": {},
   "outputs": [],
   "source": [
    "src_device_counts.index"
   ]
  },
  {
   "cell_type": "code",
   "execution_count": null,
   "id": "996be26a",
   "metadata": {},
   "outputs": [],
   "source": [
    "src_device_20l = src_device_counts.nlargest(20)"
   ]
  },
  {
   "cell_type": "code",
   "execution_count": null,
   "id": "6795d280",
   "metadata": {},
   "outputs": [],
   "source": [
    "plt.figure(figsize=(12,12))\n",
    "plt.pie(src_device_20l, labels=src_device_20l.index, autopct = '%.2f')\n",
    "plt.title('Pie chart showing the percentage contribution of the top 20 source computers')\n",
    "plt.show()"
   ]
  },
  {
   "cell_type": "markdown",
   "id": "3667ca2b",
   "metadata": {},
   "source": [
    "### Time"
   ]
  },
  {
   "cell_type": "code",
   "execution_count": null,
   "id": "08758efe",
   "metadata": {},
   "outputs": [],
   "source": [
    "duration_data = df_netflow['Duration']\n",
    "fig1, ax1 = plt.subplots()\n",
    "ax1.set_title('Box Plot of Duration data')\n",
    "ax1.boxplot(duration_data)"
   ]
  },
  {
   "cell_type": "code",
   "execution_count": null,
   "id": "cee01ca0",
   "metadata": {},
   "outputs": [],
   "source": [
    "dur_mean = df_netflow['Duration'].mean()\n",
    "dur_75 = np.percentile(df_netflow['Duration'], 75)\n",
    "dur_25 = np.percentile(df_n)"
   ]
  },
  {
   "cell_type": "code",
   "execution_count": null,
   "id": "ac5d80cb",
   "metadata": {},
   "outputs": [],
   "source": []
  }
 ],
 "metadata": {
  "kernelspec": {
   "display_name": "Python 3",
   "language": "python",
   "name": "python3"
  },
  "language_info": {
   "codemirror_mode": {
    "name": "ipython",
    "version": 3
   },
   "file_extension": ".py",
   "mimetype": "text/x-python",
   "name": "python",
   "nbconvert_exporter": "python",
   "pygments_lexer": "ipython3",
   "version": "3.8.5"
  }
 },
 "nbformat": 4,
 "nbformat_minor": 5
}
