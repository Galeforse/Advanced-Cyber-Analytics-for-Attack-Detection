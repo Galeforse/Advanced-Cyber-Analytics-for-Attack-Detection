{
 "cells": [
  {
   "cell_type": "markdown",
   "id": "e7e8d9bc",
   "metadata": {},
   "source": [
    "# LANL Research"
   ]
  },
  {
   "cell_type": "code",
   "execution_count": 1,
   "id": "48a85787",
   "metadata": {},
   "outputs": [],
   "source": [
    "import numpy as np\n",
    "import pandas as pd\n",
    "import matplotlib.pyplot as plt\n",
    "import os\n",
    "import gzip\n",
    "import shutil\n",
    "import datetime\n",
    "import networkx as nx\n",
    "\n",
    "from IPython.display import clear_output"
   ]
  },
  {
   "cell_type": "code",
   "execution_count": 2,
   "id": "17febc4b",
   "metadata": {},
   "outputs": [],
   "source": [
    "pd.options.display.float_format = '{:,}'.format"
   ]
  },
  {
   "cell_type": "markdown",
   "id": "80b013f4",
   "metadata": {},
   "source": [
    "### Authentication and Process Data"
   ]
  },
  {
   "cell_type": "markdown",
   "id": "17397005",
   "metadata": {},
   "source": [
    "We neeed to import the data we will use. Below we import the authentication and process summaries."
   ]
  },
  {
   "cell_type": "code",
   "execution_count": 4,
   "id": "1a1ac81f",
   "metadata": {},
   "outputs": [],
   "source": [
    "rootdir = 'C:/Users/corri/OneDrive/Documents/Uni/Postgraduate/Final Project/LANL/ATI Data/Summaries/wls'\n",
    "unzippeddir = 'C:/Users/corri/OneDrive/Documents/Uni/Postgraduate/Final Project/LANL/ATI Data/Summaries/wls/Unzipped'\n",
    "frames = []\n",
    "\n",
    "count = 0\n",
    "\n",
    "for subdir, dirs, files in os.walk(rootdir):\n",
    "    for file in files:\n",
    "        if file[-3:] == '.gz':\n",
    "            filedir = rootdir + '/' + file\n",
    "            with gzip.open(filedir) as f:\n",
    "                df = pd.read_csv(filedir, header=None)\n",
    "                frames.append(df)\n",
    "            if 'authentications' in str(file):\n",
    "                count = count + len(df)\n",
    "\n",
    "df = pd.concat(frames)\n",
    "\n",
    "authentication_data = df[:count]\n",
    "authentication_data.columns = ['UserName', 'SrcDevice','DstDevice', 'Authent Type', 'Failure', 'DailyCount']\n",
    "\n",
    "process_data = df[count:]\n",
    "process_data = process_data[[0,1,2,3,4]]\n",
    "process_data.columns = ['UserName', 'Device', 'ProcessName', 'ParentProcessName', 'DailyCount']\n",
    "\n",
    "authentication_data.to_csv('../Data/Authentication data.gz', header=True, compression='gzip')\n",
    "process_data.to_csv('../Data/Process data.gz', header=True, compression='gzip')"
   ]
  },
  {
   "cell_type": "code",
   "execution_count": 5,
   "id": "05534ade",
   "metadata": {},
   "outputs": [
    {
     "data": {
      "text/html": [
       "<div>\n",
       "<style scoped>\n",
       "    .dataframe tbody tr th:only-of-type {\n",
       "        vertical-align: middle;\n",
       "    }\n",
       "\n",
       "    .dataframe tbody tr th {\n",
       "        vertical-align: top;\n",
       "    }\n",
       "\n",
       "    .dataframe thead th {\n",
       "        text-align: right;\n",
       "    }\n",
       "</style>\n",
       "<table border=\"1\" class=\"dataframe\">\n",
       "  <thead>\n",
       "    <tr style=\"text-align: right;\">\n",
       "      <th></th>\n",
       "      <th>UserName</th>\n",
       "      <th>SrcDevice</th>\n",
       "      <th>DstDevice</th>\n",
       "      <th>Authent Type</th>\n",
       "      <th>Failure</th>\n",
       "      <th>DailyCount</th>\n",
       "    </tr>\n",
       "  </thead>\n",
       "  <tbody>\n",
       "    <tr>\n",
       "      <th>0</th>\n",
       "      <td>User035855</td>\n",
       "      <td>Comp808475</td>\n",
       "      <td>Comp081330</td>\n",
       "      <td>TGS</td>\n",
       "      <td>0</td>\n",
       "      <td>17.0</td>\n",
       "    </tr>\n",
       "    <tr>\n",
       "      <th>1</th>\n",
       "      <td>Comp655251$</td>\n",
       "      <td>Comp655251</td>\n",
       "      <td>ActiveDirectory</td>\n",
       "      <td>NetworkLogon</td>\n",
       "      <td>0</td>\n",
       "      <td>350.0</td>\n",
       "    </tr>\n",
       "    <tr>\n",
       "      <th>2</th>\n",
       "      <td>User762066</td>\n",
       "      <td>Comp306129</td>\n",
       "      <td>ActiveDirectory</td>\n",
       "      <td>TGS</td>\n",
       "      <td>0</td>\n",
       "      <td>22.0</td>\n",
       "    </tr>\n",
       "    <tr>\n",
       "      <th>3</th>\n",
       "      <td>User384215</td>\n",
       "      <td>Comp095190</td>\n",
       "      <td>EnterpriseAppServer</td>\n",
       "      <td>NetworkLogon</td>\n",
       "      <td>0</td>\n",
       "      <td>35.0</td>\n",
       "    </tr>\n",
       "    <tr>\n",
       "      <th>4</th>\n",
       "      <td>User043263</td>\n",
       "      <td>Comp883307</td>\n",
       "      <td>Comp384394</td>\n",
       "      <td>TGS</td>\n",
       "      <td>0</td>\n",
       "      <td>2.0</td>\n",
       "    </tr>\n",
       "    <tr>\n",
       "      <th>...</th>\n",
       "      <td>...</td>\n",
       "      <td>...</td>\n",
       "      <td>...</td>\n",
       "      <td>...</td>\n",
       "      <td>...</td>\n",
       "      <td>...</td>\n",
       "    </tr>\n",
       "    <tr>\n",
       "      <th>80187</th>\n",
       "      <td>Comp955366$</td>\n",
       "      <td>Comp955366</td>\n",
       "      <td>ActiveDirectory</td>\n",
       "      <td>TGS</td>\n",
       "      <td>0</td>\n",
       "      <td>23.0</td>\n",
       "    </tr>\n",
       "    <tr>\n",
       "      <th>80188</th>\n",
       "      <td>Comp589380$</td>\n",
       "      <td>Comp589380</td>\n",
       "      <td>ActiveDirectory</td>\n",
       "      <td>TGT</td>\n",
       "      <td>0</td>\n",
       "      <td>37.0</td>\n",
       "    </tr>\n",
       "    <tr>\n",
       "      <th>80189</th>\n",
       "      <td>Comp629793$</td>\n",
       "      <td>Comp629793</td>\n",
       "      <td>ActiveDirectory</td>\n",
       "      <td>TGS</td>\n",
       "      <td>0</td>\n",
       "      <td>21.0</td>\n",
       "    </tr>\n",
       "    <tr>\n",
       "      <th>80190</th>\n",
       "      <td>User104387</td>\n",
       "      <td>Comp917362</td>\n",
       "      <td>ActiveDirectory</td>\n",
       "      <td>NetworkLogon</td>\n",
       "      <td>0</td>\n",
       "      <td>387.0</td>\n",
       "    </tr>\n",
       "    <tr>\n",
       "      <th>80191</th>\n",
       "      <td>User992201</td>\n",
       "      <td>Comp487027</td>\n",
       "      <td>Comp915658</td>\n",
       "      <td>NetworkLogon</td>\n",
       "      <td>0</td>\n",
       "      <td>1.0</td>\n",
       "    </tr>\n",
       "  </tbody>\n",
       "</table>\n",
       "<p>15953681 rows × 6 columns</p>\n",
       "</div>"
      ],
      "text/plain": [
       "          UserName   SrcDevice            DstDevice  Authent Type  Failure  \\\n",
       "0       User035855  Comp808475           Comp081330           TGS        0   \n",
       "1      Comp655251$  Comp655251      ActiveDirectory  NetworkLogon        0   \n",
       "2       User762066  Comp306129      ActiveDirectory           TGS        0   \n",
       "3       User384215  Comp095190  EnterpriseAppServer  NetworkLogon        0   \n",
       "4       User043263  Comp883307           Comp384394           TGS        0   \n",
       "...            ...         ...                  ...           ...      ...   \n",
       "80187  Comp955366$  Comp955366      ActiveDirectory           TGS        0   \n",
       "80188  Comp589380$  Comp589380      ActiveDirectory           TGT        0   \n",
       "80189  Comp629793$  Comp629793      ActiveDirectory           TGS        0   \n",
       "80190   User104387  Comp917362      ActiveDirectory  NetworkLogon        0   \n",
       "80191   User992201  Comp487027           Comp915658  NetworkLogon        0   \n",
       "\n",
       "       DailyCount  \n",
       "0            17.0  \n",
       "1           350.0  \n",
       "2            22.0  \n",
       "3            35.0  \n",
       "4             2.0  \n",
       "...           ...  \n",
       "80187        23.0  \n",
       "80188        37.0  \n",
       "80189        21.0  \n",
       "80190       387.0  \n",
       "80191         1.0  \n",
       "\n",
       "[15953681 rows x 6 columns]"
      ]
     },
     "execution_count": 5,
     "metadata": {},
     "output_type": "execute_result"
    }
   ],
   "source": [
    "authentication_data"
   ]
  },
  {
   "cell_type": "code",
   "execution_count": 6,
   "id": "75238906",
   "metadata": {},
   "outputs": [
    {
     "data": {
      "text/html": [
       "<div>\n",
       "<style scoped>\n",
       "    .dataframe tbody tr th:only-of-type {\n",
       "        vertical-align: middle;\n",
       "    }\n",
       "\n",
       "    .dataframe tbody tr th {\n",
       "        vertical-align: top;\n",
       "    }\n",
       "\n",
       "    .dataframe thead th {\n",
       "        text-align: right;\n",
       "    }\n",
       "</style>\n",
       "<table border=\"1\" class=\"dataframe\">\n",
       "  <thead>\n",
       "    <tr style=\"text-align: right;\">\n",
       "      <th></th>\n",
       "      <th>UserName</th>\n",
       "      <th>Device</th>\n",
       "      <th>ProcessName</th>\n",
       "      <th>ParentProcessName</th>\n",
       "      <th>DailyCount</th>\n",
       "    </tr>\n",
       "  </thead>\n",
       "  <tbody>\n",
       "    <tr>\n",
       "      <th>0</th>\n",
       "      <td>Comp748297$</td>\n",
       "      <td>Comp748297</td>\n",
       "      <td>Proc391839.exe</td>\n",
       "      <td>Proc387473</td>\n",
       "      <td>1</td>\n",
       "    </tr>\n",
       "    <tr>\n",
       "      <th>1</th>\n",
       "      <td>Comp563664$</td>\n",
       "      <td>Comp563664</td>\n",
       "      <td>rundll32.exe</td>\n",
       "      <td>services</td>\n",
       "      <td>1</td>\n",
       "    </tr>\n",
       "    <tr>\n",
       "      <th>2</th>\n",
       "      <td>User607396</td>\n",
       "      <td>Comp609111</td>\n",
       "      <td>Proc417435.exe</td>\n",
       "      <td>Proc417435</td>\n",
       "      <td>1</td>\n",
       "    </tr>\n",
       "    <tr>\n",
       "      <th>3</th>\n",
       "      <td>Comp641702$</td>\n",
       "      <td>Comp641702</td>\n",
       "      <td>Proc249569.exe</td>\n",
       "      <td>services</td>\n",
       "      <td>1</td>\n",
       "    </tr>\n",
       "    <tr>\n",
       "      <th>4</th>\n",
       "      <td>Comp157389$</td>\n",
       "      <td>Comp157389</td>\n",
       "      <td>Proc402696.exe</td>\n",
       "      <td>services</td>\n",
       "      <td>1</td>\n",
       "    </tr>\n",
       "    <tr>\n",
       "      <th>...</th>\n",
       "      <td>...</td>\n",
       "      <td>...</td>\n",
       "      <td>...</td>\n",
       "      <td>...</td>\n",
       "      <td>...</td>\n",
       "    </tr>\n",
       "    <tr>\n",
       "      <th>251545</th>\n",
       "      <td>Comp738970$</td>\n",
       "      <td>Comp738970</td>\n",
       "      <td>Proc207472.exe</td>\n",
       "      <td>svchost</td>\n",
       "      <td>2</td>\n",
       "    </tr>\n",
       "    <tr>\n",
       "      <th>251546</th>\n",
       "      <td>User925794</td>\n",
       "      <td>Comp097857</td>\n",
       "      <td>cmd.exe</td>\n",
       "      <td>Proc174492</td>\n",
       "      <td>2</td>\n",
       "    </tr>\n",
       "    <tr>\n",
       "      <th>251547</th>\n",
       "      <td>Comp996714$</td>\n",
       "      <td>Comp996714</td>\n",
       "      <td>Proc612297.exe</td>\n",
       "      <td>services</td>\n",
       "      <td>5</td>\n",
       "    </tr>\n",
       "    <tr>\n",
       "      <th>251548</th>\n",
       "      <td>Comp391736$</td>\n",
       "      <td>Comp391736</td>\n",
       "      <td>rundll32.exe</td>\n",
       "      <td>Proc247259</td>\n",
       "      <td>2</td>\n",
       "    </tr>\n",
       "    <tr>\n",
       "      <th>251549</th>\n",
       "      <td>Comp769777$</td>\n",
       "      <td>Comp769777</td>\n",
       "      <td>rundll32.exe</td>\n",
       "      <td>rundll32</td>\n",
       "      <td>3</td>\n",
       "    </tr>\n",
       "  </tbody>\n",
       "</table>\n",
       "<p>55981618 rows × 5 columns</p>\n",
       "</div>"
      ],
      "text/plain": [
       "           UserName      Device     ProcessName ParentProcessName  DailyCount\n",
       "0       Comp748297$  Comp748297  Proc391839.exe        Proc387473           1\n",
       "1       Comp563664$  Comp563664    rundll32.exe          services           1\n",
       "2        User607396  Comp609111  Proc417435.exe        Proc417435           1\n",
       "3       Comp641702$  Comp641702  Proc249569.exe          services           1\n",
       "4       Comp157389$  Comp157389  Proc402696.exe          services           1\n",
       "...             ...         ...             ...               ...         ...\n",
       "251545  Comp738970$  Comp738970  Proc207472.exe           svchost           2\n",
       "251546   User925794  Comp097857         cmd.exe        Proc174492           2\n",
       "251547  Comp996714$  Comp996714  Proc612297.exe          services           5\n",
       "251548  Comp391736$  Comp391736    rundll32.exe        Proc247259           2\n",
       "251549  Comp769777$  Comp769777    rundll32.exe          rundll32           3\n",
       "\n",
       "[55981618 rows x 5 columns]"
      ]
     },
     "execution_count": 6,
     "metadata": {},
     "output_type": "execute_result"
    }
   ],
   "source": [
    "process_data"
   ]
  },
  {
   "cell_type": "markdown",
   "id": "4e166c67",
   "metadata": {},
   "source": [
    "### Clustering"
   ]
  },
  {
   "cell_type": "markdown",
   "id": "b34c8bb1",
   "metadata": {},
   "source": [
    "UserName, Device, ProcessName, ParentProcessName, DailyCount"
   ]
  },
  {
   "cell_type": "code",
   "execution_count": null,
   "id": "c88fb2f4",
   "metadata": {},
   "outputs": [],
   "source": [
    "# source computers dictionary\n",
    "user_names = process_data[''].unique()\n",
    "user_names_dict = {}\n",
    "for i, key in enumerate(user_names):\n",
    "    user_names_dict[key] = i\n",
    "    \n",
    "# destination computers ditionary\n",
    "devices = process_data[1].unique()\n",
    "devices_dict = {}\n",
    "for i, key in enumerate(devices):\n",
    "    devices_dict[key] = i\n",
    "    \n",
    "# source port dictionary\n",
    "processes = process_data[2].unique()\n",
    "processes_dict = {}\n",
    "for i, key in enumerate(processes):\n",
    "    processes_dict[key] = i\n",
    "    \n",
    "# destination port dictionary\n",
    "parent_processes = process_data[3].unique()\n",
    "parent_processes_dict= {}\n",
    "for i, key in enumerate(parent_processes):\n",
    "    parent_processes_dict[key] = i\n",
    "    \n",
    "process_data[0] = process_data[0].map(user_names_dict)\n",
    "process_data[1] = process_data[1].map(devices_dict)\n",
    "process_data[2] = process_data[2].map(processes_dict)\n",
    "process_data[3] = process_data[3].map(parent_processes_dict)"
   ]
  },
  {
   "cell_type": "code",
   "execution_count": null,
   "id": "4663d633",
   "metadata": {},
   "outputs": [],
   "source": [
    "from sklearn.cluster import DBSCAN\n",
    "from sklearn import metrics\n",
    "\n",
    "db = DBSCAN(eps=1, min_samples=10).fit(process_data)\n",
    "labels = db.labels_\n",
    "no_clust.append(len(np.unique(labels)))\n",
    "no_noise.append(np.sum(np.array(labels) == -1, axis=0))"
   ]
  },
  {
   "cell_type": "markdown",
   "id": "cce415ec",
   "metadata": {},
   "source": [
    "### Graph Drawing"
   ]
  },
  {
   "cell_type": "code",
   "execution_count": null,
   "id": "e67e6db3",
   "metadata": {},
   "outputs": [],
   "source": [
    "def draw_day(data,i):\n",
    "\n",
    "    # split the data into the selected time period\n",
    "    df_day = data\n",
    "\n",
    "    # print day we're working on\n",
    "    print(i)\n",
    "\n",
    "    # get all unqiue users for that period\n",
    "    userlist_1 = list(list(df_day[0].unique()))\n",
    "    userlist_2 = list(list(df_day[1].unique()))\n",
    "    unique_users = set(userlist_1 + userlist_2)\n",
    "\n",
    "    # get all connections made for that period\n",
    "    connections = zip(df_day[0], df_day[1])\n",
    "\n",
    "    # create the graph\n",
    "    G = nx.DiGraph()\n",
    "\n",
    "    # create the nodes of the graph\n",
    "    for u in unique_users:\n",
    "        G.add_node(u)\n",
    "\n",
    "    # create the edges of the graph\n",
    "    for a in connections:\n",
    "        G.add_edge(*a)\n",
    "\n",
    "    # draw the network\n",
    "    plt.figure(figsize=(15,15), dpi=400)\n",
    "    nx.draw(G, node_size=20, linewidths=0.8)\n",
    "    plt.savefig('day {}.png'.format(i))\n",
    "\n",
    "    return G"
   ]
  },
  {
   "cell_type": "code",
   "execution_count": null,
   "id": "42de6c6a",
   "metadata": {},
   "outputs": [],
   "source": [
    "index_list = authentication_data.index.tolist()\n",
    "start_days = [i for i, e in enumerate(index_list) if e == 0]\n",
    "start_days.append(len(authentication_data))\n",
    "\n",
    "data_ = [(authentication_data[start_days[i]:start_days[i+1]],i) for i in range(len(start_days)-1)]"
   ]
  },
  {
   "cell_type": "code",
   "execution_count": null,
   "id": "dbdc18db",
   "metadata": {},
   "outputs": [],
   "source": [
    "begin_time = datetime.datetime.now()\n",
    "draw_day(data_[0][0], data_[0][1])\n",
    "print(\"Finished creating networks!\")\n",
    "end_time = datetime.datetime.now()\n",
    "print(end_time - begin_time)"
   ]
  },
  {
   "cell_type": "markdown",
   "id": "df058a08",
   "metadata": {},
   "source": [
    "Creating a single network takes about 23 minutes. We do this for all 91 days so this is a large process which takes multiple hours so I would not recommend running the below line of code since this has parallelised this process for 8 cores but will still take hours."
   ]
  },
  {
   "cell_type": "code",
   "execution_count": null,
   "id": "050ac60f",
   "metadata": {},
   "outputs": [],
   "source": [
    "# %run -i Parallelised-Drawing.py"
   ]
  },
  {
   "cell_type": "markdown",
   "id": "81ab02c8",
   "metadata": {},
   "source": [
    "### Netflow Data"
   ]
  },
  {
   "cell_type": "markdown",
   "id": "aed086e4",
   "metadata": {},
   "source": [
    "This has currently hit a dead end. The files are hard to work with due to their size and therefore temporal analysis isn't feasible."
   ]
  },
  {
   "cell_type": "code",
   "execution_count": null,
   "id": "5f4c9438",
   "metadata": {},
   "outputs": [],
   "source": [
    "a = 'hihi.gz'\n",
    "a[:3]"
   ]
  },
  {
   "cell_type": "code",
   "execution_count": null,
   "id": "153a5c63",
   "metadata": {},
   "outputs": [],
   "source": [
    "def read_data(day):\n",
    "    path = 'C:\\\\Users\\\\corri\\\\OneDrive\\\\Documents\\\\Uni\\\\Postgraduate\\\\Final Project\\\\LANL\\\\Netflow Data'\n",
    "\n",
    "    sh_file = os.getcwd()[:-4] + 'Data\\\\session_hosts.txt'\n",
    "    rt_sh = list(pd.read_csv(sh_file, header=None)[0])\n",
    "\n",
    "    try:\n",
    "        print('Reading entire data set.')\n",
    "        df_netflow = pd.read_csv(path + '/netflow_day-' + day + '.bz2', header=None)\n",
    "\n",
    "        # adding headers\n",
    "        headers = (['Time', 'Duration', 'SrcDevice', 'DstDevice', 'Protocol',\n",
    "                'SrcPort', 'DstPort', 'SrcPackets', 'DstPackets', 'SrcBytes', 'DstBytes'])\n",
    "        df_netflow.columns = headers\n",
    "\n",
    "        # isolating red team computers\n",
    "        rt_src_sh = df_netflow[df_netflow['SrcDevice'].isin(rt_sh)]\n",
    "        print('The red team session host reduction process reduced the data to: {}%.'.format(rt_src_sh.shape[0]/df_netflow.shape[0]))\n",
    "        pickle.dump(rt_src_sh, open(path + '/Reduced-day' + day + '.p','wb'))\n",
    "\n",
    "    except:\n",
    "        clear_output()\n",
    "        print('Unable to read entire data set, reading iteratively with red team selection.')\n",
    "\n",
    "        # iteratively reading while seperating red team data\n",
    "        iter_csv = pd.read_csv(path + '/netflow_day-' + day + '.bz2', iterator=True, chunksize=1000)\n",
    "        rt_src_sh = pd.concat([chunk[chunk['2'].isin(rt_sh)] for chunk in iter_csv])\n",
    "        print('Reduced data down to {} lines.'.format(rt_src_sh.shape[0]))\n",
    "        pickle.dump(rt_src_sh, open(path + '/Reduced-day' + day + '.p','wb'))"
   ]
  },
  {
   "cell_type": "code",
   "execution_count": null,
   "id": "7089ffb5",
   "metadata": {
    "scrolled": true
   },
   "outputs": [],
   "source": [
    "read_data('02')"
   ]
  },
  {
   "cell_type": "markdown",
   "id": "6ddc0d08",
   "metadata": {},
   "source": [
    "We have over 115 million data points and therefore can't run anything without a massive amount of storage - functions such as pd.describe and pd.get_dummies wont work on this. The first steps are therefore to reduce the size of the data we are obtaining."
   ]
  },
  {
   "cell_type": "markdown",
   "id": "11d0ccc4",
   "metadata": {},
   "source": [
    "### Session Host Data"
   ]
  },
  {
   "cell_type": "markdown",
   "id": "9abbf166",
   "metadata": {},
   "source": [
    "One of the useful pieces of information provided to us by Dan is the session host data. This is a list of computers that were used during the attacks. A first step we can take is to reduce the data set by only keeping the data from these source computers."
   ]
  },
  {
   "cell_type": "code",
   "execution_count": null,
   "id": "4de78fa5",
   "metadata": {},
   "outputs": [],
   "source": [
    "sh_file = os.getcwd()[:-4] + 'Data\\\\session_hosts.txt'\n",
    "rt_sh = list(pd.read_csv(sh_file, header=None)[0])"
   ]
  },
  {
   "cell_type": "code",
   "execution_count": null,
   "id": "9c6d2c49",
   "metadata": {},
   "outputs": [],
   "source": [
    "rt_src_sh = df_netflow[df_netflow['SrcDevice'].isin(rt_sh)]\n",
    "#rt_dest_sh = df_netflow[df_netflow['DstDevice'].isin(rt_sh)]\n",
    "#rt_all = pd.concat([rt_src_sh, rt_dest_sh]).drop_duplicates()"
   ]
  },
  {
   "cell_type": "code",
   "execution_count": null,
   "id": "809248b1",
   "metadata": {},
   "outputs": [],
   "source": [
    "rt_src_sh"
   ]
  },
  {
   "cell_type": "code",
   "execution_count": null,
   "id": "f17e163f",
   "metadata": {},
   "outputs": [],
   "source": [
    "print('The red team session host reduction process reduced the data to: {}%.'.format(rt_src_sh.shape[0]/df_netflow.shape[0])"
   ]
  },
  {
   "cell_type": "code",
   "execution_count": null,
   "id": "0ae61fbf",
   "metadata": {},
   "outputs": [],
   "source": [
    "pickle.dump(rt_src_sh, open(path + '/Reduced-day03.p','wb'))"
   ]
  },
  {
   "cell_type": "markdown",
   "id": "92fa41e6",
   "metadata": {},
   "source": [
    "### Clustering Red Team Session Host Data"
   ]
  },
  {
   "cell_type": "code",
   "execution_count": null,
   "id": "4573bb67",
   "metadata": {},
   "outputs": [],
   "source": [
    "# source computers dictionary\n",
    "src_comps = rt_src_sh['SrcDevice'].unique()\n",
    "src_comps_dict= {}\n",
    "for i, key in enumerate(src_comps):\n",
    "    src_comps_dict[key] = i\n",
    "    \n",
    "# destination computers ditionary\n",
    "dst_comps = rt_src_sh['DstDevice'].unique()\n",
    "dst_comps_dict= {}\n",
    "for i, key in enumerate(dst_comps):\n",
    "    dst_comps_dict[key] = i\n",
    "    \n",
    "# source port dictionary\n",
    "src_port = rt_src_sh['SrcPort'].unique()\n",
    "src_port_dict= {}\n",
    "for i, key in enumerate(src_port):\n",
    "    src_port_dict[key] = i\n",
    "    \n",
    "# destination port dictionary\n",
    "dst_port = rt_src_sh['DstPort'].unique()\n",
    "dst_port_dict= {}\n",
    "for i, key in enumerate(dst_port):\n",
    "    dst_port_dict[key] = i\n",
    "    \n",
    "rt_src_sh['SrcDevice'] = rt_src_sh['SrcDevice'].map(src_comps_dict)\n",
    "rt_src_sh['DstDevice'] = rt_src_sh['DstDevice'].map(dst_comps_dict)\n",
    "rt_src_sh['SrcPort'] = rt_src_sh['SrcPort'].map(src_port_dict)\n",
    "rt_src_sh['DstPort'] = rt_src_sh['DstPort'].map(dst_port_dict)"
   ]
  },
  {
   "cell_type": "code",
   "execution_count": null,
   "id": "f7ad447c",
   "metadata": {},
   "outputs": [],
   "source": [
    "rt_src_sh.dtypes"
   ]
  },
  {
   "cell_type": "code",
   "execution_count": null,
   "id": "38a16619",
   "metadata": {},
   "outputs": [],
   "source": [
    "from sklearn.cluster import DBSCAN\n",
    "from sklearn import metrics\n",
    "\n",
    "eps = [1,5,10,15,20,25,30]\n",
    "min_samples = [1,2,5,10,15,20]\n",
    "\n",
    "no_clust = []\n",
    "no_noise = []\n",
    "sil_co = []\n",
    "grid_vals = []\n",
    "\n",
    "for e in eps:\n",
    "    for ms in min_samples:\n",
    "        \n",
    "        clear_output(wait=True)\n",
    "        print('Working with {} eps and {} min_samples.'.format(e,ms))\n",
    "        \n",
    "        grid_vals.append((e,ms))\n",
    "        db = DBSCAN(eps=e, min_samples=ms).fit(rt_src_sh)\n",
    "        labels = db.labels_\n",
    "        no_clust.append(len(np.unique(labels)))\n",
    "        no_noise.append(np.sum(np.array(labels) == -1, axis=0))\n",
    "        sil_co.append(metrics.silhouette_score(rt_src_sh, labels, metric='euclidean'))"
   ]
  },
  {
   "cell_type": "code",
   "execution_count": null,
   "id": "cadfd657",
   "metadata": {},
   "outputs": [],
   "source": [
    "from sklearn.decomposition import PCA"
   ]
  },
  {
   "cell_type": "code",
   "execution_count": null,
   "id": "4285baa7",
   "metadata": {},
   "outputs": [],
   "source": [
    "pca = PCA(n_components=2)"
   ]
  },
  {
   "cell_type": "code",
   "execution_count": null,
   "id": "5bceb030",
   "metadata": {},
   "outputs": [],
   "source": [
    "pca.fit(rt_src_sh)\n",
    "rt_sh_trans = pca.transform(rt_src_sh)"
   ]
  },
  {
   "cell_type": "code",
   "execution_count": null,
   "id": "26a5c875",
   "metadata": {},
   "outputs": [],
   "source": [
    "fig = plt.figure(figsize=(15, 8))\n",
    "plt.scatter(rt_sh_trans[:, 0], rt_sh_trans[:, 1])\n",
    "plt.show()"
   ]
  },
  {
   "cell_type": "markdown",
   "id": "c450e74e",
   "metadata": {},
   "source": [
    "#### Source Devices"
   ]
  },
  {
   "cell_type": "code",
   "execution_count": null,
   "id": "8db9f922",
   "metadata": {},
   "outputs": [],
   "source": [
    "src_device_counts = df_netflow.groupby('SrcDevice').size().sort_values(ascending=False)"
   ]
  },
  {
   "cell_type": "code",
   "execution_count": null,
   "id": "0706ac33",
   "metadata": {},
   "outputs": [],
   "source": [
    "src_device_counts.index"
   ]
  },
  {
   "cell_type": "code",
   "execution_count": null,
   "id": "996be26a",
   "metadata": {},
   "outputs": [],
   "source": [
    "src_device_20l = src_device_counts.nlargest(20)"
   ]
  },
  {
   "cell_type": "code",
   "execution_count": null,
   "id": "6795d280",
   "metadata": {},
   "outputs": [],
   "source": [
    "plt.figure(figsize=(12,12))\n",
    "plt.pie(src_device_20l, labels=src_device_20l.index, autopct = '%.2f')\n",
    "plt.title('Pie chart showing the percentage contribution of the top 20 source computers')\n",
    "plt.show()"
   ]
  },
  {
   "cell_type": "markdown",
   "id": "3667ca2b",
   "metadata": {},
   "source": [
    "### Time"
   ]
  },
  {
   "cell_type": "code",
   "execution_count": null,
   "id": "08758efe",
   "metadata": {},
   "outputs": [],
   "source": [
    "duration_data = df_netflow['Duration']\n",
    "fig1, ax1 = plt.subplots()\n",
    "ax1.set_title('Box Plot of Duration data')\n",
    "ax1.boxplot(duration_data)"
   ]
  },
  {
   "cell_type": "code",
   "execution_count": null,
   "id": "cee01ca0",
   "metadata": {},
   "outputs": [],
   "source": [
    "dur_mean = df_netflow['Duration'].mean()\n",
    "dur_75 = np.percentile(df_netflow['Duration'], 75)\n",
    "dur_25 = np.percentile(df_n)"
   ]
  },
  {
   "cell_type": "code",
   "execution_count": null,
   "id": "ac5d80cb",
   "metadata": {},
   "outputs": [],
   "source": []
  }
 ],
 "metadata": {
  "kernelspec": {
   "display_name": "Python 3",
   "language": "python",
   "name": "python3"
  },
  "language_info": {
   "codemirror_mode": {
    "name": "ipython",
    "version": 3
   },
   "file_extension": ".py",
   "mimetype": "text/x-python",
   "name": "python",
   "nbconvert_exporter": "python",
   "pygments_lexer": "ipython3",
   "version": "3.8.5"
  }
 },
 "nbformat": 4,
 "nbformat_minor": 5
}
