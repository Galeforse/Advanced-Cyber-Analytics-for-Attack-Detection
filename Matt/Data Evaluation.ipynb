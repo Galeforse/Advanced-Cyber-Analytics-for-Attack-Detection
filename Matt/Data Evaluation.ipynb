{
 "cells": [
  {
   "cell_type": "markdown",
   "id": "9a30d921",
   "metadata": {},
   "source": [
    "# Process Data"
   ]
  },
  {
   "cell_type": "markdown",
   "id": "4ce95f88",
   "metadata": {},
   "source": [
    "The intention in this notebook is to look into the process data. We'll perform some EDA such as Data Cleaning, Seperation and Outlier Detection and then start running some anomaly detection models on the data."
   ]
  },
  {
   "cell_type": "code",
   "execution_count": 2,
   "id": "87c144f7",
   "metadata": {},
   "outputs": [],
   "source": [
    "import numpy as np\n",
    "import pandas as pd\n",
    "import matplotlib.pyplot as plt\n",
    "import os\n",
    "import gzip\n",
    "import shutil\n",
    "import datetime\n",
    "import networkx as nx\n",
    "import pickle\n",
    "import pyclustering\n",
    "from scipy import stats\n",
    "import seaborn as sns\n",
    "\n",
    "from IPython.display import clear_output"
   ]
  },
  {
   "cell_type": "markdown",
   "id": "6c8d8a0d",
   "metadata": {},
   "source": [
    "### Data"
   ]
  },
  {
   "cell_type": "markdown",
   "id": "7c248b18",
   "metadata": {},
   "source": [
    "First we import our data. We import both process and authentication data incase the latter becomes useful down the line."
   ]
  },
  {
   "cell_type": "code",
   "execution_count": 3,
   "id": "bc1a53e3",
   "metadata": {},
   "outputs": [
    {
     "name": "stdout",
     "output_type": "stream",
     "text": [
      "Attempting to read entire data set.\n"
     ]
    },
    {
     "name": "stderr",
     "output_type": "stream",
     "text": [
      "C:\\Users\\corri\\anaconda3\\lib\\site-packages\\numpy\\lib\\arraysetops.py:580: FutureWarning: elementwise comparison failed; returning scalar instead, but in the future will perform elementwise comparison\n",
      "  mask |= (ar1 == a)\n"
     ]
    }
   ],
   "source": [
    "try:\n",
    "    print('Attempting to read entire data set.')\n",
    "    authentication_data = pd.read_csv('../Data/Authentication data.gz', compression='gzip', index_col = 0)\n",
    "    process_data = pd.read_csv('../Data/Process data.gz', compression='gzip', index_col = 0)\n",
    "except:\n",
    "    clear_output()\n",
    "    print('Unable to read entire data set, reading from original files.')\n",
    "    rootdir = 'C:/Users/corri/OneDrive/Documents/Uni/Postgraduate/Final Project/LANL/ATI Data/Summaries/wls'\n",
    "    unzippeddir = 'C:/Users/corri/OneDrive/Documents/Uni/Postgraduate/Final Project/LANL/ATI Data/Summaries/wls/Unzipped'\n",
    "    frames = []\n",
    "\n",
    "    count = 0\n",
    "\n",
    "    for subdir, dirs, files in os.walk(rootdir):\n",
    "        for file in files:\n",
    "            if file[-3:] == '.gz':\n",
    "                filedir = rootdir + '/' + file\n",
    "                with gzip.open(filedir) as f:\n",
    "                    df = pd.read_csv(filedir, header=None)\n",
    "                    frames.append(df)\n",
    "                if 'authentications' in str(file):\n",
    "                    count = count + len(df)\n",
    "\n",
    "    df = pd.concat(frames)\n",
    "\n",
    "    authentication_data = df[:count]\n",
    "    authentication_data.columns = ['UserName', 'SrcDevice','DstDevice', 'Authent Type', 'Failure', 'DailyCount']\n",
    "\n",
    "    process_data = df[count:]\n",
    "    process_data = process_data[[0,1,2,3,4]]\n",
    "    process_data.columns = ['UserName', 'Device', 'ProcessName', 'ParentProcessName', 'DailyCount']\n",
    "\n",
    "    authentication_data.to_csv('../Data/Authentication data.gz', header=True, compression='gzip')\n",
    "    process_data.to_csv('../Data/Process data.gz', header=True, compression='gzip')"
   ]
  },
  {
   "cell_type": "code",
   "execution_count": 4,
   "id": "c3e45e3b",
   "metadata": {},
   "outputs": [
    {
     "name": "stdout",
     "output_type": "stream",
     "text": [
      "The process data contains 55981618 rows with 5 features each. Thus we have 279908090 data points.\n"
     ]
    }
   ],
   "source": [
    "rows = process_data.shape[0]\n",
    "features = process_data.shape[1]\n",
    "dp = process_data.shape[0] * process_data.shape[1]\n",
    "\n",
    "print('The process data contains {} rows with {} features each. Thus we have {} data points.'.format(rows, features, dp))"
   ]
  },
  {
   "cell_type": "code",
   "execution_count": 5,
   "id": "dd1a1ed7",
   "metadata": {},
   "outputs": [
    {
     "data": {
      "text/html": [
       "<div>\n",
       "<style scoped>\n",
       "    .dataframe tbody tr th:only-of-type {\n",
       "        vertical-align: middle;\n",
       "    }\n",
       "\n",
       "    .dataframe tbody tr th {\n",
       "        vertical-align: top;\n",
       "    }\n",
       "\n",
       "    .dataframe thead th {\n",
       "        text-align: right;\n",
       "    }\n",
       "</style>\n",
       "<table border=\"1\" class=\"dataframe\">\n",
       "  <thead>\n",
       "    <tr style=\"text-align: right;\">\n",
       "      <th></th>\n",
       "      <th>UserName</th>\n",
       "      <th>Device</th>\n",
       "      <th>ProcessName</th>\n",
       "      <th>ParentProcessName</th>\n",
       "      <th>DailyCount</th>\n",
       "    </tr>\n",
       "  </thead>\n",
       "  <tbody>\n",
       "    <tr>\n",
       "      <th>0</th>\n",
       "      <td>Comp748297$</td>\n",
       "      <td>Comp748297</td>\n",
       "      <td>Proc391839.exe</td>\n",
       "      <td>Proc387473</td>\n",
       "      <td>1</td>\n",
       "    </tr>\n",
       "    <tr>\n",
       "      <th>1</th>\n",
       "      <td>Comp563664$</td>\n",
       "      <td>Comp563664</td>\n",
       "      <td>rundll32.exe</td>\n",
       "      <td>services</td>\n",
       "      <td>1</td>\n",
       "    </tr>\n",
       "    <tr>\n",
       "      <th>2</th>\n",
       "      <td>User607396</td>\n",
       "      <td>Comp609111</td>\n",
       "      <td>Proc417435.exe</td>\n",
       "      <td>Proc417435</td>\n",
       "      <td>1</td>\n",
       "    </tr>\n",
       "    <tr>\n",
       "      <th>3</th>\n",
       "      <td>Comp641702$</td>\n",
       "      <td>Comp641702</td>\n",
       "      <td>Proc249569.exe</td>\n",
       "      <td>services</td>\n",
       "      <td>1</td>\n",
       "    </tr>\n",
       "    <tr>\n",
       "      <th>4</th>\n",
       "      <td>Comp157389$</td>\n",
       "      <td>Comp157389</td>\n",
       "      <td>Proc402696.exe</td>\n",
       "      <td>services</td>\n",
       "      <td>1</td>\n",
       "    </tr>\n",
       "  </tbody>\n",
       "</table>\n",
       "</div>"
      ],
      "text/plain": [
       "      UserName      Device     ProcessName ParentProcessName  DailyCount\n",
       "0  Comp748297$  Comp748297  Proc391839.exe        Proc387473           1\n",
       "1  Comp563664$  Comp563664    rundll32.exe          services           1\n",
       "2   User607396  Comp609111  Proc417435.exe        Proc417435           1\n",
       "3  Comp641702$  Comp641702  Proc249569.exe          services           1\n",
       "4  Comp157389$  Comp157389  Proc402696.exe          services           1"
      ]
     },
     "execution_count": 5,
     "metadata": {},
     "output_type": "execute_result"
    }
   ],
   "source": [
    "process_data.head()"
   ]
  },
  {
   "cell_type": "markdown",
   "id": "eb9ce1b1",
   "metadata": {},
   "source": [
    "### EDA"
   ]
  },
  {
   "cell_type": "code",
   "execution_count": 6,
   "id": "4caeb633",
   "metadata": {},
   "outputs": [
    {
     "data": {
      "text/plain": [
       "UserName\n",
       "Scanner                 255383\n",
       "User272607               73934\n",
       "EnterpriseAppServer$     38552\n",
       "Administrator            29443\n",
       "User414014               18593\n",
       "                         ...  \n",
       "User711040                   1\n",
       "User296343                   1\n",
       "User464715                   1\n",
       "User126086                   1\n",
       "User252033                   1\n",
       "Length: 25320, dtype: int64"
      ]
     },
     "execution_count": 6,
     "metadata": {},
     "output_type": "execute_result"
    }
   ],
   "source": [
    "process_data.groupby('UserName').size().sort_values(ascending=False)"
   ]
  },
  {
   "cell_type": "code",
   "execution_count": 7,
   "id": "16f1c956",
   "metadata": {},
   "outputs": [
    {
     "data": {
      "text/plain": [
       "Device\n",
       "EnterpriseAppServer    451831\n",
       "Comp149394              28007\n",
       "Comp460411              26771\n",
       "Comp978490              25866\n",
       "Comp897269              24757\n",
       "                        ...  \n",
       "Comp576558                  9\n",
       "Comp530268                  8\n",
       "Comp733749                  3\n",
       "Comp772226                  2\n",
       "Comp212946                  1\n",
       "Length: 13476, dtype: int64"
      ]
     },
     "execution_count": 7,
     "metadata": {},
     "output_type": "execute_result"
    }
   ],
   "source": [
    "process_data.groupby('Device').size().sort_values(ascending=False)"
   ]
  },
  {
   "cell_type": "code",
   "execution_count": 8,
   "id": "84797506",
   "metadata": {},
   "outputs": [
    {
     "data": {
      "text/plain": [
       "ProcessName\n",
       "rundll32.exe      2325974\n",
       "cscript.exe       1687233\n",
       "Proc857443.exe    1644561\n",
       "Proc364675.exe    1499525\n",
       "conhost.exe       1231137\n",
       "                   ...   \n",
       "Proc542894.exe          1\n",
       "Proc543189.exe          1\n",
       "Proc543359.tmp          1\n",
       "Proc543374              1\n",
       "Proc000018.exe          1\n",
       "Length: 25373, dtype: int64"
      ]
     },
     "execution_count": 8,
     "metadata": {},
     "output_type": "execute_result"
    }
   ],
   "source": [
    "process_data.groupby('ProcessName').size().sort_values(ascending=False)"
   ]
  },
  {
   "cell_type": "code",
   "execution_count": 9,
   "id": "beacee24",
   "metadata": {},
   "outputs": [
    {
     "data": {
      "text/plain": [
       "ParentProcessName\n",
       "services      12633664\n",
       "svchost        5742175\n",
       "None           4343007\n",
       "Proc089893     3499148\n",
       "taskeng        2496930\n",
       "                ...   \n",
       "Proc452325           1\n",
       "Proc752276           1\n",
       "Proc109173           1\n",
       "Proc223040           1\n",
       "Proc014122           1\n",
       "Length: 12226, dtype: int64"
      ]
     },
     "execution_count": 9,
     "metadata": {},
     "output_type": "execute_result"
    }
   ],
   "source": [
    "process_data.groupby('ParentProcessName').size().sort_values(ascending=False)"
   ]
  },
  {
   "cell_type": "markdown",
   "id": "3845b1c8",
   "metadata": {},
   "source": [
    "We're going to find the index's to seperate out the days. Due to the way we created the large data set, we can search for the index 0 which tells us the start of every day."
   ]
  },
  {
   "cell_type": "code",
   "execution_count": 109,
   "id": "045a58d1",
   "metadata": {},
   "outputs": [],
   "source": [
    "index_list = process_data.index.tolist()\n",
    "proc_start_days = [i for i, e in enumerate(index_list) if e == 0]\n",
    "proc_start_days.append(len(process_data))\n",
    "\n",
    "auth_index_list = authentication_data.index.tolist()\n",
    "auth_start_days = [i for i, e in enumerate(auth_index_list) if e == 0]\n",
    "auth_start_days.append(len(authentication_data))"
   ]
  },
  {
   "cell_type": "markdown",
   "id": "53c775ec",
   "metadata": {},
   "source": [
    "Lets now seperate out day 1 and understand what we can do with the data."
   ]
  },
  {
   "cell_type": "code",
   "execution_count": 11,
   "id": "5ebc5a06",
   "metadata": {
    "scrolled": false
   },
   "outputs": [
    {
     "data": {
      "text/html": [
       "<div>\n",
       "<style scoped>\n",
       "    .dataframe tbody tr th:only-of-type {\n",
       "        vertical-align: middle;\n",
       "    }\n",
       "\n",
       "    .dataframe tbody tr th {\n",
       "        vertical-align: top;\n",
       "    }\n",
       "\n",
       "    .dataframe thead th {\n",
       "        text-align: right;\n",
       "    }\n",
       "</style>\n",
       "<table border=\"1\" class=\"dataframe\">\n",
       "  <thead>\n",
       "    <tr style=\"text-align: right;\">\n",
       "      <th></th>\n",
       "      <th>UserName</th>\n",
       "      <th>Device</th>\n",
       "      <th>ProcessName</th>\n",
       "      <th>ParentProcessName</th>\n",
       "      <th>DailyCount</th>\n",
       "    </tr>\n",
       "  </thead>\n",
       "  <tbody>\n",
       "    <tr>\n",
       "      <th>0</th>\n",
       "      <td>Comp748297$</td>\n",
       "      <td>Comp748297</td>\n",
       "      <td>Proc391839.exe</td>\n",
       "      <td>Proc387473</td>\n",
       "      <td>1</td>\n",
       "    </tr>\n",
       "    <tr>\n",
       "      <th>1</th>\n",
       "      <td>Comp563664$</td>\n",
       "      <td>Comp563664</td>\n",
       "      <td>rundll32.exe</td>\n",
       "      <td>services</td>\n",
       "      <td>1</td>\n",
       "    </tr>\n",
       "    <tr>\n",
       "      <th>2</th>\n",
       "      <td>User607396</td>\n",
       "      <td>Comp609111</td>\n",
       "      <td>Proc417435.exe</td>\n",
       "      <td>Proc417435</td>\n",
       "      <td>1</td>\n",
       "    </tr>\n",
       "    <tr>\n",
       "      <th>3</th>\n",
       "      <td>Comp641702$</td>\n",
       "      <td>Comp641702</td>\n",
       "      <td>Proc249569.exe</td>\n",
       "      <td>services</td>\n",
       "      <td>1</td>\n",
       "    </tr>\n",
       "    <tr>\n",
       "      <th>4</th>\n",
       "      <td>Comp157389$</td>\n",
       "      <td>Comp157389</td>\n",
       "      <td>Proc402696.exe</td>\n",
       "      <td>services</td>\n",
       "      <td>1</td>\n",
       "    </tr>\n",
       "    <tr>\n",
       "      <th>...</th>\n",
       "      <td>...</td>\n",
       "      <td>...</td>\n",
       "      <td>...</td>\n",
       "      <td>...</td>\n",
       "      <td>...</td>\n",
       "    </tr>\n",
       "    <tr>\n",
       "      <th>605208</th>\n",
       "      <td>Comp267622$</td>\n",
       "      <td>Comp267622</td>\n",
       "      <td>svchost.exe</td>\n",
       "      <td>services</td>\n",
       "      <td>2</td>\n",
       "    </tr>\n",
       "    <tr>\n",
       "      <th>605209</th>\n",
       "      <td>User633443</td>\n",
       "      <td>Comp490773</td>\n",
       "      <td>Proc744059.exe</td>\n",
       "      <td>Proc510632</td>\n",
       "      <td>2</td>\n",
       "    </tr>\n",
       "    <tr>\n",
       "      <th>605210</th>\n",
       "      <td>User860048</td>\n",
       "      <td>Comp925644</td>\n",
       "      <td>Proc946021.exe</td>\n",
       "      <td>Proc442764</td>\n",
       "      <td>1</td>\n",
       "    </tr>\n",
       "    <tr>\n",
       "      <th>605211</th>\n",
       "      <td>User861156</td>\n",
       "      <td>Comp358133</td>\n",
       "      <td>Proc942581.exe</td>\n",
       "      <td>cmd</td>\n",
       "      <td>2</td>\n",
       "    </tr>\n",
       "    <tr>\n",
       "      <th>605212</th>\n",
       "      <td>Comp291230$</td>\n",
       "      <td>Comp291230</td>\n",
       "      <td>Proc428424.exe</td>\n",
       "      <td>Proc318985</td>\n",
       "      <td>3</td>\n",
       "    </tr>\n",
       "  </tbody>\n",
       "</table>\n",
       "<p>605213 rows × 5 columns</p>\n",
       "</div>"
      ],
      "text/plain": [
       "           UserName      Device     ProcessName ParentProcessName  DailyCount\n",
       "0       Comp748297$  Comp748297  Proc391839.exe        Proc387473           1\n",
       "1       Comp563664$  Comp563664    rundll32.exe          services           1\n",
       "2        User607396  Comp609111  Proc417435.exe        Proc417435           1\n",
       "3       Comp641702$  Comp641702  Proc249569.exe          services           1\n",
       "4       Comp157389$  Comp157389  Proc402696.exe          services           1\n",
       "...             ...         ...             ...               ...         ...\n",
       "605208  Comp267622$  Comp267622     svchost.exe          services           2\n",
       "605209   User633443  Comp490773  Proc744059.exe        Proc510632           2\n",
       "605210   User860048  Comp925644  Proc946021.exe        Proc442764           1\n",
       "605211   User861156  Comp358133  Proc942581.exe               cmd           2\n",
       "605212  Comp291230$  Comp291230  Proc428424.exe        Proc318985           3\n",
       "\n",
       "[605213 rows x 5 columns]"
      ]
     },
     "execution_count": 11,
     "metadata": {},
     "output_type": "execute_result"
    }
   ],
   "source": [
    "process_day_1 = process_data[start_days[0]:start_days[1]]\n",
    "process_day_1"
   ]
  },
  {
   "cell_type": "markdown",
   "id": "d1e624e7",
   "metadata": {},
   "source": [
    "#### Isolation Through Red Team User Names List"
   ]
  },
  {
   "cell_type": "code",
   "execution_count": 12,
   "id": "f0584882",
   "metadata": {},
   "outputs": [],
   "source": [
    "rt_users = list(pd.read_csv('../Data/ProcessUserNames.txt', header=None)[0])"
   ]
  },
  {
   "cell_type": "code",
   "execution_count": 13,
   "id": "897032e6",
   "metadata": {},
   "outputs": [
    {
     "name": "stdout",
     "output_type": "stream",
     "text": [
      "Red team events represent 0.4111867577675229% of the data.\n"
     ]
    }
   ],
   "source": [
    "rt_process = process_data[process_data['UserName'].isin(rt_users)]\n",
    "print('Red team events represent {}% of the data.'.format(100*rt_process.shape[0]/process_data.shape[0]))"
   ]
  },
  {
   "cell_type": "markdown",
   "id": "1d51d7d5",
   "metadata": {},
   "source": [
    "#### Daily Analysis"
   ]
  },
  {
   "cell_type": "code",
   "execution_count": 121,
   "id": "11f1ae56",
   "metadata": {},
   "outputs": [
    {
     "data": {
      "image/png": "[encoded data removed]",
      "text/plain": [
       "<Figure size 1440x576 with 1 Axes>"
      ]
     },
     "metadata": {
      "needs_background": "light"
     },
     "output_type": "display_data"
    },
    {
     "data": {
      "image/png": "[encoded data removed]",
      "text/plain": [
       "<Figure size 1440x576 with 1 Axes>"
      ]
     },
     "metadata": {
      "needs_background": "light"
     },
     "output_type": "display_data"
    },
    {
     "ename": "NameError",
     "evalue": "name 'numpy' is not defined",
     "output_type": "error",
     "traceback": [
      "\u001b[1;31m---------------------------------------------------------------------------\u001b[0m",
      "\u001b[1;31mNameError\u001b[0m                                 Traceback (most recent call last)",
      "\u001b[1;32m<ipython-input-121-c736949c0604>\u001b[0m in \u001b[0;36m<module>\u001b[1;34m\u001b[0m\n\u001b[0;32m     55\u001b[0m \u001b[0mplt\u001b[0m\u001b[1;33m.\u001b[0m\u001b[0mshow\u001b[0m\u001b[1;33m(\u001b[0m\u001b[1;33m)\u001b[0m\u001b[1;33m\u001b[0m\u001b[1;33m\u001b[0m\u001b[0m\n\u001b[0;32m     56\u001b[0m \u001b[1;33m\u001b[0m\u001b[0m\n\u001b[1;32m---> 57\u001b[1;33m \u001b[0mnumpy\u001b[0m\u001b[1;33m.\u001b[0m\u001b[0msavetxt\u001b[0m\u001b[1;33m(\u001b[0m\u001b[1;34m\"DailyProcessCounts.csv\"\u001b[0m\u001b[1;33m,\u001b[0m \u001b[0mdaily_process_counts\u001b[0m\u001b[1;33m,\u001b[0m \u001b[0mdelimiter\u001b[0m\u001b[1;33m=\u001b[0m\u001b[1;34m\",\"\u001b[0m\u001b[1;33m)\u001b[0m\u001b[1;33m\u001b[0m\u001b[1;33m\u001b[0m\u001b[0m\n\u001b[0m",
      "\u001b[1;31mNameError\u001b[0m: name 'numpy' is not defined"
     ]
    }
   ],
   "source": [
    "daily_process_counts = []\n",
    "daily_auth_counts = []\n",
    "proc_col = []\n",
    "auth_col = []\n",
    "day = []\n",
    "\n",
    "for i in range(len(proc_start_days)-1):\n",
    "    process_day = process_data[proc_start_days[i]:proc_start_days[i+1]]\n",
    "    cnt = process_day.shape[0]\n",
    "    daily_process_counts.append(cnt)\n",
    "    \n",
    "for i in range(len(auth_start_days)-1):\n",
    "    auth_day = authentication_data[auth_start_days[i]:auth_start_days[i+1]]\n",
    "    auth_cnt = auth_day.shape[0]\n",
    "    daily_auth_counts.append(auth_cnt)\n",
    "\n",
    "daily_process_counts = np.array(daily_process_counts)/100_000\n",
    "\n",
    "daily_auth_counts = np.array(daily_auth_counts)/10_000\n",
    "\n",
    "day_dict = {0:'Monday',1:'Tuesday',2:'Wednesday',3:'Thursday',4:'Friday',5:'Saturday',6:'Sunday'}\n",
    "\n",
    "for j,val in enumerate(daily_process_counts):\n",
    "    if val < 3.5:\n",
    "        proc_col.append('green')\n",
    "    elif val >= 8:\n",
    "        proc_col.append('red')\n",
    "    else:\n",
    "        proc_col.append('navajowhite')\n",
    "        \n",
    "    day.append(day_dict[j%7] + str(int(j/7)+1))\n",
    "    \n",
    "for j,val in enumerate(daily_auth_counts):\n",
    "    if val < 10:\n",
    "        auth_col.append('green')\n",
    "    elif val >= 23:\n",
    "        auth_col.append('red')\n",
    "    else:\n",
    "        auth_col.append('navajowhite')\n",
    "\n",
    "    \n",
    "plt.figure(figsize=(20,8))\n",
    "plt.bar(day,daily_process_counts, color=proc_col)\n",
    "plt.ylabel('100,000 events')\n",
    "plt.xlabel('Day')\n",
    "plt.xticks(rotation=90)\n",
    "plt.title('Number of process events in a day')\n",
    "\n",
    "plt.figure(figsize=(20,8))\n",
    "plt.bar(day,daily_auth_counts, color=auth_col)\n",
    "plt.ylabel('100,000 events')\n",
    "plt.xlabel('Day')\n",
    "plt.xticks(rotation=90)\n",
    "plt.title('Number of authentication events in a day')\n",
    "plt.show()\n",
    "\n",
    "numpy.savetxt(\"DailyProcessCounts.csv\", daily_process_counts, delimiter=\",\")"
   ]
  },
  {
   "cell_type": "markdown",
   "id": "1edd9806",
   "metadata": {},
   "source": [
    "- We see times of 'normal' during the week and 'low' during the weekend mostly. We find some anomalous periods:\n",
    "    - Week 3: Monday has a low amount of processes, and similarly in the authentication data, we "
   ]
  },
  {
   "cell_type": "markdown",
   "id": "53cd5a0e",
   "metadata": {},
   "source": [
    "### Graph Analysis"
   ]
  },
  {
   "cell_type": "code",
   "execution_count": 14,
   "id": "1f215a4c",
   "metadata": {},
   "outputs": [],
   "source": [
    "process_G = nx.from_pandas_edgelist(process_data,source=\"Device\",target=\"UserName\")"
   ]
  },
  {
   "cell_type": "markdown",
   "id": "f5563ded",
   "metadata": {},
   "source": [
    "#### Degrees"
   ]
  },
  {
   "cell_type": "code",
   "execution_count": 15,
   "id": "acc8f6f7",
   "metadata": {},
   "outputs": [
    {
     "data": {
      "text/html": [
       "<div>\n",
       "<style scoped>\n",
       "    .dataframe tbody tr th:only-of-type {\n",
       "        vertical-align: middle;\n",
       "    }\n",
       "\n",
       "    .dataframe tbody tr th {\n",
       "        vertical-align: top;\n",
       "    }\n",
       "\n",
       "    .dataframe thead th {\n",
       "        text-align: right;\n",
       "    }\n",
       "</style>\n",
       "<table border=\"1\" class=\"dataframe\">\n",
       "  <thead>\n",
       "    <tr style=\"text-align: right;\">\n",
       "      <th></th>\n",
       "      <th>Device</th>\n",
       "      <th>Degree</th>\n",
       "    </tr>\n",
       "  </thead>\n",
       "  <tbody>\n",
       "    <tr>\n",
       "      <th>29581</th>\n",
       "      <td>User272607</td>\n",
       "      <td>8946</td>\n",
       "    </tr>\n",
       "    <tr>\n",
       "      <th>848</th>\n",
       "      <td>EnterpriseAppServer</td>\n",
       "      <td>2752</td>\n",
       "    </tr>\n",
       "    <tr>\n",
       "      <th>240</th>\n",
       "      <td>Scanner</td>\n",
       "      <td>2355</td>\n",
       "    </tr>\n",
       "    <tr>\n",
       "      <th>4928</th>\n",
       "      <td>Comp291378</td>\n",
       "      <td>527</td>\n",
       "    </tr>\n",
       "    <tr>\n",
       "      <th>2990</th>\n",
       "      <td>Administrator</td>\n",
       "      <td>437</td>\n",
       "    </tr>\n",
       "    <tr>\n",
       "      <th>...</th>\n",
       "      <td>...</td>\n",
       "      <td>...</td>\n",
       "    </tr>\n",
       "    <tr>\n",
       "      <th>11928</th>\n",
       "      <td>Comp461730$</td>\n",
       "      <td>1</td>\n",
       "    </tr>\n",
       "    <tr>\n",
       "      <th>11931</th>\n",
       "      <td>Comp951154$</td>\n",
       "      <td>1</td>\n",
       "    </tr>\n",
       "    <tr>\n",
       "      <th>11933</th>\n",
       "      <td>Comp375354$</td>\n",
       "      <td>1</td>\n",
       "    </tr>\n",
       "    <tr>\n",
       "      <th>11935</th>\n",
       "      <td>Comp272704$</td>\n",
       "      <td>1</td>\n",
       "    </tr>\n",
       "    <tr>\n",
       "      <th>38795</th>\n",
       "      <td>User609706</td>\n",
       "      <td>1</td>\n",
       "    </tr>\n",
       "  </tbody>\n",
       "</table>\n",
       "<p>38796 rows × 2 columns</p>\n",
       "</div>"
      ],
      "text/plain": [
       "                    Device  Degree\n",
       "29581           User272607    8946\n",
       "848    EnterpriseAppServer    2752\n",
       "240                Scanner    2355\n",
       "4928            Comp291378     527\n",
       "2990         Administrator     437\n",
       "...                    ...     ...\n",
       "11928          Comp461730$       1\n",
       "11931          Comp951154$       1\n",
       "11933          Comp375354$       1\n",
       "11935          Comp272704$       1\n",
       "38795           User609706       1\n",
       "\n",
       "[38796 rows x 2 columns]"
      ]
     },
     "execution_count": 15,
     "metadata": {},
     "output_type": "execute_result"
    }
   ],
   "source": [
    "degrees = pd.DataFrame([(n,d) for n,d in process_G.degree()])\n",
    "degrees.columns = ['Device', 'Degree']\n",
    "degrees = degrees.sort_values(by='Degree',axis=0,ascending=False)\n",
    "degrees"
   ]
  },
  {
   "cell_type": "code",
   "execution_count": 16,
   "id": "624417ff",
   "metadata": {},
   "outputs": [
    {
     "data": {
      "text/html": [
       "<div>\n",
       "<style scoped>\n",
       "    .dataframe tbody tr th:only-of-type {\n",
       "        vertical-align: middle;\n",
       "    }\n",
       "\n",
       "    .dataframe tbody tr th {\n",
       "        vertical-align: top;\n",
       "    }\n",
       "\n",
       "    .dataframe thead th {\n",
       "        text-align: right;\n",
       "    }\n",
       "</style>\n",
       "<table border=\"1\" class=\"dataframe\">\n",
       "  <thead>\n",
       "    <tr style=\"text-align: right;\">\n",
       "      <th></th>\n",
       "      <th>Device</th>\n",
       "      <th>Degree</th>\n",
       "    </tr>\n",
       "  </thead>\n",
       "  <tbody>\n",
       "    <tr>\n",
       "      <th>29581</th>\n",
       "      <td>User272607</td>\n",
       "      <td>8946</td>\n",
       "    </tr>\n",
       "    <tr>\n",
       "      <th>848</th>\n",
       "      <td>EnterpriseAppServer</td>\n",
       "      <td>2752</td>\n",
       "    </tr>\n",
       "    <tr>\n",
       "      <th>240</th>\n",
       "      <td>Scanner</td>\n",
       "      <td>2355</td>\n",
       "    </tr>\n",
       "    <tr>\n",
       "      <th>4928</th>\n",
       "      <td>Comp291378</td>\n",
       "      <td>527</td>\n",
       "    </tr>\n",
       "    <tr>\n",
       "      <th>2990</th>\n",
       "      <td>Administrator</td>\n",
       "      <td>437</td>\n",
       "    </tr>\n",
       "    <tr>\n",
       "      <th>...</th>\n",
       "      <td>...</td>\n",
       "      <td>...</td>\n",
       "    </tr>\n",
       "    <tr>\n",
       "      <th>25688</th>\n",
       "      <td>Comp162069</td>\n",
       "      <td>3</td>\n",
       "    </tr>\n",
       "    <tr>\n",
       "      <th>25875</th>\n",
       "      <td>Comp682438</td>\n",
       "      <td>3</td>\n",
       "    </tr>\n",
       "    <tr>\n",
       "      <th>1021</th>\n",
       "      <td>User001465</td>\n",
       "      <td>3</td>\n",
       "    </tr>\n",
       "    <tr>\n",
       "      <th>28189</th>\n",
       "      <td>User806400</td>\n",
       "      <td>3</td>\n",
       "    </tr>\n",
       "    <tr>\n",
       "      <th>86</th>\n",
       "      <td>Comp596321</td>\n",
       "      <td>3</td>\n",
       "    </tr>\n",
       "  </tbody>\n",
       "</table>\n",
       "<p>16304 rows × 2 columns</p>\n",
       "</div>"
      ],
      "text/plain": [
       "                    Device  Degree\n",
       "29581           User272607    8946\n",
       "848    EnterpriseAppServer    2752\n",
       "240                Scanner    2355\n",
       "4928            Comp291378     527\n",
       "2990         Administrator     437\n",
       "...                    ...     ...\n",
       "25688           Comp162069       3\n",
       "25875           Comp682438       3\n",
       "1021            User001465       3\n",
       "28189           User806400       3\n",
       "86              Comp596321       3\n",
       "\n",
       "[16304 rows x 2 columns]"
      ]
     },
     "execution_count": 16,
     "metadata": {},
     "output_type": "execute_result"
    }
   ],
   "source": [
    "degrees_l2 = degrees[degrees['Degree'] >= 3]\n",
    "degrees_l2"
   ]
  },
  {
   "cell_type": "code",
   "execution_count": 17,
   "id": "694cbd2f",
   "metadata": {},
   "outputs": [
    {
     "data": {
      "image/png": "[encoded data removed]",
      "text/plain": [
       "<Figure size 1440x720 with 1 Axes>"
      ]
     },
     "metadata": {
      "needs_background": "light"
     },
     "output_type": "display_data"
    }
   ],
   "source": [
    "plt.figure(figsize=(20,10))\n",
    "plt.scatter(degrees['Device'][:1000],degrees['Degree'][:1000], color='g', marker='1')\n",
    "plt.xticks(rotation=90)\n",
    "plt.show()"
   ]
  },
  {
   "cell_type": "code",
   "execution_count": 18,
   "id": "12ae66e9",
   "metadata": {},
   "outputs": [
    {
     "data": {
      "image/png": "[encoded data removed]",
      "text/plain": [
       "<Figure size 1440x720 with 1 Axes>"
      ]
     },
     "metadata": {
      "needs_background": "light"
     },
     "output_type": "display_data"
    }
   ],
   "source": [
    "plt.figure(figsize=(20,10))\n",
    "plt.scatter(degrees['Device'][:2000],degrees['Degree'][:2000], color='g', marker='1')\n",
    "plt.yscale('log')\n",
    "plt.xticks(rotation=90)\n",
    "plt.show()"
   ]
  },
  {
   "cell_type": "code",
   "execution_count": 19,
   "id": "8d5d9fa3",
   "metadata": {},
   "outputs": [
    {
     "data": {
      "image/png": "[encoded data removed]",
      "text/plain": [
       "<Figure size 1440x720 with 1 Axes>"
      ]
     },
     "metadata": {
      "needs_background": "light"
     },
     "output_type": "display_data"
    }
   ],
   "source": [
    "plt.figure(figsize=(20,10))\n",
    "plt.scatter(degrees_l2['Device'],degrees_l2['Degree'], color='r', marker='2')\n",
    "plt.yscale('log')\n",
    "plt.xticks(rotation=90)\n",
    "plt.show()"
   ]
  },
  {
   "cell_type": "markdown",
   "id": "0a98b17f",
   "metadata": {},
   "source": [
    "### Dummy Variables"
   ]
  },
  {
   "cell_type": "markdown",
   "id": "1a24d683",
   "metadata": {},
   "source": [
    "We'll create a quick and dirty dummy variable creation function. We could use the get_dummies function from pandas but this creates rows instead of doing it inplace which would result in a massive amount of features which would essentially be unhandleable when working with the entire data set."
   ]
  },
  {
   "cell_type": "code",
   "execution_count": 20,
   "id": "461edd0b",
   "metadata": {},
   "outputs": [],
   "source": [
    "def dummy(row, data):\n",
    "    row_vals = data[row].unique()\n",
    "    row_vals_dict = {}\n",
    "    for i, key in enumerate(row_vals):\n",
    "        row_vals_dict[key] = i\n",
    "    \n",
    "    return row_vals_dict"
   ]
  },
  {
   "cell_type": "code",
   "execution_count": 21,
   "id": "5bf979e9",
   "metadata": {},
   "outputs": [],
   "source": [
    "user_names_dict = dummy('UserName', process_day_1)\n",
    "devices_dict = dummy('Device', process_day_1)\n",
    "processes_dict = dummy('ProcessName', process_day_1)\n",
    "parent_processes_dict = dummy('ParentProcessName', process_day_1)\n",
    "\n",
    "dummy_process_day_1 = pd.DataFrame()\n",
    "\n",
    "dummy_process_day_1['UserName'] = process_day_1['UserName'].map(user_names_dict)\n",
    "dummy_process_day_1['Device'] = process_day_1['Device'].map(devices_dict)\n",
    "dummy_process_day_1['ProcessName'] = process_day_1['ProcessName'].map(processes_dict)\n",
    "dummy_process_day_1['ParentProcessName'] = process_day_1['ParentProcessName'].map(parent_processes_dict)\n",
    "dummy_process_day_1['DailyCount'] = process_day_1['DailyCount']"
   ]
  },
  {
   "cell_type": "code",
   "execution_count": 22,
   "id": "480745f0",
   "metadata": {
    "scrolled": false
   },
   "outputs": [
    {
     "data": {
      "text/html": [
       "<div>\n",
       "<style scoped>\n",
       "    .dataframe tbody tr th:only-of-type {\n",
       "        vertical-align: middle;\n",
       "    }\n",
       "\n",
       "    .dataframe tbody tr th {\n",
       "        vertical-align: top;\n",
       "    }\n",
       "\n",
       "    .dataframe thead th {\n",
       "        text-align: right;\n",
       "    }\n",
       "</style>\n",
       "<table border=\"1\" class=\"dataframe\">\n",
       "  <thead>\n",
       "    <tr style=\"text-align: right;\">\n",
       "      <th></th>\n",
       "      <th>UserName</th>\n",
       "      <th>Device</th>\n",
       "      <th>ProcessName</th>\n",
       "      <th>ParentProcessName</th>\n",
       "      <th>DailyCount</th>\n",
       "    </tr>\n",
       "  </thead>\n",
       "  <tbody>\n",
       "    <tr>\n",
       "      <th>0</th>\n",
       "      <td>0</td>\n",
       "      <td>0</td>\n",
       "      <td>0</td>\n",
       "      <td>0</td>\n",
       "      <td>1</td>\n",
       "    </tr>\n",
       "    <tr>\n",
       "      <th>1</th>\n",
       "      <td>1</td>\n",
       "      <td>1</td>\n",
       "      <td>1</td>\n",
       "      <td>1</td>\n",
       "      <td>1</td>\n",
       "    </tr>\n",
       "    <tr>\n",
       "      <th>2</th>\n",
       "      <td>2</td>\n",
       "      <td>2</td>\n",
       "      <td>2</td>\n",
       "      <td>2</td>\n",
       "      <td>1</td>\n",
       "    </tr>\n",
       "    <tr>\n",
       "      <th>3</th>\n",
       "      <td>3</td>\n",
       "      <td>3</td>\n",
       "      <td>3</td>\n",
       "      <td>1</td>\n",
       "      <td>1</td>\n",
       "    </tr>\n",
       "    <tr>\n",
       "      <th>4</th>\n",
       "      <td>4</td>\n",
       "      <td>4</td>\n",
       "      <td>4</td>\n",
       "      <td>1</td>\n",
       "      <td>1</td>\n",
       "    </tr>\n",
       "    <tr>\n",
       "      <th>...</th>\n",
       "      <td>...</td>\n",
       "      <td>...</td>\n",
       "      <td>...</td>\n",
       "      <td>...</td>\n",
       "      <td>...</td>\n",
       "    </tr>\n",
       "    <tr>\n",
       "      <th>605208</th>\n",
       "      <td>342</td>\n",
       "      <td>340</td>\n",
       "      <td>67</td>\n",
       "      <td>1</td>\n",
       "      <td>2</td>\n",
       "    </tr>\n",
       "    <tr>\n",
       "      <th>605209</th>\n",
       "      <td>11268</td>\n",
       "      <td>1156</td>\n",
       "      <td>159</td>\n",
       "      <td>61</td>\n",
       "      <td>2</td>\n",
       "    </tr>\n",
       "    <tr>\n",
       "      <th>605210</th>\n",
       "      <td>5102</td>\n",
       "      <td>2723</td>\n",
       "      <td>174</td>\n",
       "      <td>15</td>\n",
       "      <td>1</td>\n",
       "    </tr>\n",
       "    <tr>\n",
       "      <th>605211</th>\n",
       "      <td>7743</td>\n",
       "      <td>6290</td>\n",
       "      <td>139</td>\n",
       "      <td>5</td>\n",
       "      <td>2</td>\n",
       "    </tr>\n",
       "    <tr>\n",
       "      <th>605212</th>\n",
       "      <td>655</td>\n",
       "      <td>642</td>\n",
       "      <td>136</td>\n",
       "      <td>8</td>\n",
       "      <td>3</td>\n",
       "    </tr>\n",
       "  </tbody>\n",
       "</table>\n",
       "<p>605213 rows × 5 columns</p>\n",
       "</div>"
      ],
      "text/plain": [
       "        UserName  Device  ProcessName  ParentProcessName  DailyCount\n",
       "0              0       0            0                  0           1\n",
       "1              1       1            1                  1           1\n",
       "2              2       2            2                  2           1\n",
       "3              3       3            3                  1           1\n",
       "4              4       4            4                  1           1\n",
       "...          ...     ...          ...                ...         ...\n",
       "605208       342     340           67                  1           2\n",
       "605209     11268    1156          159                 61           2\n",
       "605210      5102    2723          174                 15           1\n",
       "605211      7743    6290          139                  5           2\n",
       "605212       655     642          136                  8           3\n",
       "\n",
       "[605213 rows x 5 columns]"
      ]
     },
     "execution_count": 22,
     "metadata": {},
     "output_type": "execute_result"
    }
   ],
   "source": [
    "dummy_process_day_1"
   ]
  },
  {
   "cell_type": "markdown",
   "id": "506067e2",
   "metadata": {},
   "source": [
    "So we've converted our object variables into integers successfully!"
   ]
  },
  {
   "cell_type": "markdown",
   "id": "569a066e",
   "metadata": {},
   "source": [
    "### Clustering"
   ]
  },
  {
   "cell_type": "markdown",
   "id": "29e895b2",
   "metadata": {},
   "source": [
    "#### DBSCAN"
   ]
  },
  {
   "cell_type": "markdown",
   "id": "38584c98",
   "metadata": {},
   "source": [
    "We'll attempt to run a DBSCAN clustering on this data set now. This will give us a good indication of whether the data set is useful for anomaly detection or not since DBSCAN is effective at picking up anomalous data from unlabelled data. The below is a snippet of the grid search we perform on the HPC which we will later import."
   ]
  },
  {
   "cell_type": "markdown",
   "id": "b4e061a7",
   "metadata": {},
   "source": [
    "We'll analyse the effectiveness of our parameters through the number of clusters produced, the number of noise points and the silhouette score."
   ]
  },
  {
   "cell_type": "markdown",
   "id": "fecb453b",
   "metadata": {},
   "source": [
    "The silhouette score is defined when the number of labels i.e. clusters produced is $ 2 < clusters < samples - 1 $. It takes values in $ [-1,1] $ with -1 being the worst score and 1 being the best score.  "
   ]
  },
  {
   "cell_type": "code",
   "execution_count": 23,
   "id": "a644a14a",
   "metadata": {},
   "outputs": [],
   "source": [
    "from sklearn.cluster import DBSCAN\n",
    "from sklearn import metrics"
   ]
  },
  {
   "cell_type": "code",
   "execution_count": 24,
   "id": "4c814f15",
   "metadata": {},
   "outputs": [
    {
     "name": "stdout",
     "output_type": "stream",
     "text": [
      "Working with eps = 1 and min_samples = 10\n"
     ]
    }
   ],
   "source": [
    "# eps = [1,2,5,10,25,50,100]\n",
    "eps = [1]\n",
    "min_samples = [100,50,25,15,10]\n",
    "\n",
    "no_clust = []\n",
    "no_noise = []\n",
    "sil_score = []\n",
    "e_m = []\n",
    "\n",
    "for e in eps:\n",
    "    for ms in min_samples:\n",
    "        \n",
    "        clear_output(wait=True)\n",
    "        print('Working with eps = {} and min_samples = {}'.format(e,ms))\n",
    "        \n",
    "        e_m.append((e,ms))\n",
    "        \n",
    "        db = DBSCAN(eps=e, min_samples=ms).fit(dummy_process_day_1)\n",
    "        labels = db.labels_\n",
    "        no_clust.append(len(np.unique(labels)))\n",
    "        no_noise.append(np.sum(np.array(labels) == -1, axis=0))\n",
    "        \n",
    "        if len(np.unique(labels)) == 1:\n",
    "            sil_score.append(0)\n",
    "        else:\n",
    "            sil_score.append(metrics.silhouette_score(dummy_process_day_1, labels))"
   ]
  },
  {
   "cell_type": "markdown",
   "id": "4bb86b38",
   "metadata": {},
   "source": [
    "From reference [2] from our bibliography, we would expect min_samples=10 to give us our best results since $ 2 * dim = 10 $, however the data set is likely to contain a lot of noise and is a large data set so this may need to be increased. As for $ \\epsilon $, we will use methods such as the elbow method, largest cluster size and noise % to determine this. Silhouette score will also give us a good indicator."
   ]
  },
  {
   "cell_type": "code",
   "execution_count": 25,
   "id": "73ddc43b",
   "metadata": {},
   "outputs": [],
   "source": [
    "# DBSCAN_parameter_search = pd.read_csv('/HPC Data/Grid Search HPC.csv', compression='gz')"
   ]
  },
  {
   "cell_type": "code",
   "execution_count": 26,
   "id": "1176b188",
   "metadata": {},
   "outputs": [],
   "source": [
    "# DBSCAN_parameter_search"
   ]
  },
  {
   "cell_type": "markdown",
   "id": "91fcc0fe",
   "metadata": {},
   "source": [
    "#### OPTICS"
   ]
  },
  {
   "cell_type": "markdown",
   "id": "83c10c59",
   "metadata": {},
   "source": [
    "We attempt the OPTICS clustering algorithm to find anomalies. This algorithm is supposed to run in $\\Omega(nlog(n))$ time which is the same as DBSCAN but it has the advantage that it can detect clusters of varying density unlike DBSCAN. We'll see how this runs here."
   ]
  },
  {
   "cell_type": "code",
   "execution_count": 27,
   "id": "6db1d7b5",
   "metadata": {},
   "outputs": [],
   "source": [
    "from sklearn.cluster import OPTICS"
   ]
  },
  {
   "cell_type": "code",
   "execution_count": 28,
   "id": "9b1bbac1",
   "metadata": {},
   "outputs": [
    {
     "name": "stdout",
     "output_type": "stream",
     "text": [
      "Model loaded from save.\n"
     ]
    }
   ],
   "source": [
    "try:\n",
    "    print('Loading Model...')\n",
    "    opt_clust = pickle.load(open('Models/OPTICS_10.p', 'rb'))\n",
    "    clear_output()\n",
    "    print('Model loaded from save.')\n",
    "\n",
    "except:\n",
    "    clear_output()\n",
    "    print('Model not found. Running Model.')\n",
    "    opt_clust = OPTICS(min_samples=10)\n",
    "    opt_clust.fit(dummy_process_day_1)\n",
    "    pickle.dump(opt_clust, open('Models/OPTICS_10.p', 'wb'))"
   ]
  },
  {
   "cell_type": "code",
   "execution_count": 29,
   "id": "2a783d93",
   "metadata": {},
   "outputs": [
    {
     "name": "stdout",
     "output_type": "stream",
     "text": [
      "Number of clusters identified: 12800. Number of noise points identified: 369900.\n",
      "Percentage of points in clusters 0.3888102205339278. Percentage of points labelled as noise/outliers 0.6111897794660722.\n"
     ]
    }
   ],
   "source": [
    "n_events_1 = dummy_process_day_1.shape[0]\n",
    "opt_labels = opt_clust.labels_[opt_clust.ordering_]\n",
    "opt_no_clust = len(np.unique(opt_labels))\n",
    "opt_no_noise = np.sum(np.array(opt_labels) == -1, axis=0)\n",
    "\n",
    "print('Number of clusters identified: {}. Number of noise points identified: {}.'.format(opt_no_clust,opt_no_noise))\n",
    "\n",
    "print(\"Percentage of points in clusters {}. Percentage of points labelled as noise/outliers {}.\".format(1-(opt_no_noise/n_events_1),\n",
    "                                                                                                        opt_no_noise/n_events_1))"
   ]
  },
  {
   "cell_type": "code",
   "execution_count": 30,
   "id": "373f48f2",
   "metadata": {},
   "outputs": [
    {
     "name": "stderr",
     "output_type": "stream",
     "text": [
      "<ipython-input-30-5d6b90906af0>:2: SettingWithCopyWarning: \n",
      "A value is trying to be set on a copy of a slice from a DataFrame.\n",
      "Try using .loc[row_indexer,col_indexer] = value instead\n",
      "\n",
      "See the caveats in the documentation: https://pandas.pydata.org/pandas-docs/stable/user_guide/indexing.html#returning-a-view-versus-a-copy\n",
      "  clust_day_1['Cluster'] = opt_labels\n"
     ]
    }
   ],
   "source": [
    "clust_day_1 = process_day_1\n",
    "clust_day_1['Cluster'] = opt_labels"
   ]
  },
  {
   "cell_type": "code",
   "execution_count": 31,
   "id": "2bbad319",
   "metadata": {},
   "outputs": [],
   "source": [
    "anom_day_1 = clust_day_1[clust_day_1['Cluster'] == -1]"
   ]
  },
  {
   "cell_type": "code",
   "execution_count": 32,
   "id": "f4c1424b",
   "metadata": {},
   "outputs": [],
   "source": [
    "pp_anom = anom_day_1.groupby(['ProcessName', 'ParentProcessName']).size().sort_values(ascending=False)"
   ]
  },
  {
   "cell_type": "markdown",
   "id": "de4a8b01",
   "metadata": {},
   "source": [
    "Lets assume that the times where the pair, ProcessName and ParentProcessName, appear once are likely to be our actual anomalies."
   ]
  },
  {
   "cell_type": "code",
   "execution_count": 33,
   "id": "af093173",
   "metadata": {},
   "outputs": [
    {
     "data": {
      "text/html": [
       "<div>\n",
       "<style scoped>\n",
       "    .dataframe tbody tr th:only-of-type {\n",
       "        vertical-align: middle;\n",
       "    }\n",
       "\n",
       "    .dataframe tbody tr th {\n",
       "        vertical-align: top;\n",
       "    }\n",
       "\n",
       "    .dataframe thead th {\n",
       "        text-align: right;\n",
       "    }\n",
       "</style>\n",
       "<table border=\"1\" class=\"dataframe\">\n",
       "  <thead>\n",
       "    <tr style=\"text-align: right;\">\n",
       "      <th></th>\n",
       "      <th></th>\n",
       "      <th>0</th>\n",
       "    </tr>\n",
       "    <tr>\n",
       "      <th>ProcessName</th>\n",
       "      <th>ParentProcessName</th>\n",
       "      <th></th>\n",
       "    </tr>\n",
       "  </thead>\n",
       "  <tbody>\n",
       "    <tr>\n",
       "      <th>Proc176570.exe</th>\n",
       "      <th>svchost</th>\n",
       "      <td>1</td>\n",
       "    </tr>\n",
       "    <tr>\n",
       "      <th>Proc887334.exe</th>\n",
       "      <th>Proc510963</th>\n",
       "      <td>1</td>\n",
       "    </tr>\n",
       "    <tr>\n",
       "      <th>Proc879348.exe</th>\n",
       "      <th>Proc140712</th>\n",
       "      <td>1</td>\n",
       "    </tr>\n",
       "    <tr>\n",
       "      <th rowspan=\"2\" valign=\"top\">Proc887334.exe</th>\n",
       "      <th>Proc531545</th>\n",
       "      <td>1</td>\n",
       "    </tr>\n",
       "    <tr>\n",
       "      <th>Proc566619</th>\n",
       "      <td>1</td>\n",
       "    </tr>\n",
       "    <tr>\n",
       "      <th>...</th>\n",
       "      <th>...</th>\n",
       "      <td>...</td>\n",
       "    </tr>\n",
       "    <tr>\n",
       "      <th>Proc319629.exe</th>\n",
       "      <th>Proc042360</th>\n",
       "      <td>1</td>\n",
       "    </tr>\n",
       "    <tr>\n",
       "      <th rowspan=\"3\" valign=\"top\">Proc664351.exe</th>\n",
       "      <th>Proc149600.exe</th>\n",
       "      <td>1</td>\n",
       "    </tr>\n",
       "    <tr>\n",
       "      <th>Proc443636</th>\n",
       "      <td>1</td>\n",
       "    </tr>\n",
       "    <tr>\n",
       "      <th>Proc684164</th>\n",
       "      <td>1</td>\n",
       "    </tr>\n",
       "    <tr>\n",
       "      <th>wmiprvse.exe</th>\n",
       "      <th>wmiprvse.exe</th>\n",
       "      <td>1</td>\n",
       "    </tr>\n",
       "  </tbody>\n",
       "</table>\n",
       "<p>3120 rows × 1 columns</p>\n",
       "</div>"
      ],
      "text/plain": [
       "                                  0\n",
       "ProcessName    ParentProcessName   \n",
       "Proc176570.exe svchost            1\n",
       "Proc887334.exe Proc510963         1\n",
       "Proc879348.exe Proc140712         1\n",
       "Proc887334.exe Proc531545         1\n",
       "               Proc566619         1\n",
       "...                              ..\n",
       "Proc319629.exe Proc042360         1\n",
       "Proc664351.exe Proc149600.exe     1\n",
       "               Proc443636         1\n",
       "               Proc684164         1\n",
       "wmiprvse.exe   wmiprvse.exe       1\n",
       "\n",
       "[3120 rows x 1 columns]"
      ]
     },
     "execution_count": 33,
     "metadata": {},
     "output_type": "execute_result"
    }
   ],
   "source": [
    "pp_anom_1 = pd.DataFrame(pp_anom[pp_anom == 1])\n",
    "pp_anom_1"
   ]
  },
  {
   "cell_type": "code",
   "execution_count": 34,
   "id": "5e6eb91f",
   "metadata": {},
   "outputs": [
    {
     "name": "stdout",
     "output_type": "stream",
     "text": [
      "This data set represents 0.005155209818691932% of our original data.\n"
     ]
    }
   ],
   "source": [
    "print('This data set represents {}% of our original data.'.format(len(pp_anom_1)/process_day_1.shape[0]))"
   ]
  },
  {
   "cell_type": "markdown",
   "id": "015a5eb2",
   "metadata": {},
   "source": [
    "### Authentication Data"
   ]
  },
  {
   "cell_type": "code",
   "execution_count": 35,
   "id": "c63e5796",
   "metadata": {},
   "outputs": [
    {
     "data": {
      "text/html": [
       "<div>\n",
       "<style scoped>\n",
       "    .dataframe tbody tr th:only-of-type {\n",
       "        vertical-align: middle;\n",
       "    }\n",
       "\n",
       "    .dataframe tbody tr th {\n",
       "        vertical-align: top;\n",
       "    }\n",
       "\n",
       "    .dataframe thead th {\n",
       "        text-align: right;\n",
       "    }\n",
       "</style>\n",
       "<table border=\"1\" class=\"dataframe\">\n",
       "  <thead>\n",
       "    <tr style=\"text-align: right;\">\n",
       "      <th></th>\n",
       "      <th>UserName</th>\n",
       "      <th>SrcDevice</th>\n",
       "      <th>DstDevice</th>\n",
       "      <th>Authent Type</th>\n",
       "      <th>Failure</th>\n",
       "      <th>DailyCount</th>\n",
       "    </tr>\n",
       "  </thead>\n",
       "  <tbody>\n",
       "    <tr>\n",
       "      <th>0</th>\n",
       "      <td>User035855</td>\n",
       "      <td>Comp808475</td>\n",
       "      <td>Comp081330</td>\n",
       "      <td>TGS</td>\n",
       "      <td>0</td>\n",
       "      <td>17.0</td>\n",
       "    </tr>\n",
       "    <tr>\n",
       "      <th>1</th>\n",
       "      <td>Comp655251$</td>\n",
       "      <td>Comp655251</td>\n",
       "      <td>ActiveDirectory</td>\n",
       "      <td>NetworkLogon</td>\n",
       "      <td>0</td>\n",
       "      <td>350.0</td>\n",
       "    </tr>\n",
       "    <tr>\n",
       "      <th>2</th>\n",
       "      <td>User762066</td>\n",
       "      <td>Comp306129</td>\n",
       "      <td>ActiveDirectory</td>\n",
       "      <td>TGS</td>\n",
       "      <td>0</td>\n",
       "      <td>22.0</td>\n",
       "    </tr>\n",
       "    <tr>\n",
       "      <th>3</th>\n",
       "      <td>User384215</td>\n",
       "      <td>Comp095190</td>\n",
       "      <td>EnterpriseAppServer</td>\n",
       "      <td>NetworkLogon</td>\n",
       "      <td>0</td>\n",
       "      <td>35.0</td>\n",
       "    </tr>\n",
       "    <tr>\n",
       "      <th>4</th>\n",
       "      <td>User043263</td>\n",
       "      <td>Comp883307</td>\n",
       "      <td>Comp384394</td>\n",
       "      <td>TGS</td>\n",
       "      <td>0</td>\n",
       "      <td>2.0</td>\n",
       "    </tr>\n",
       "  </tbody>\n",
       "</table>\n",
       "</div>"
      ],
      "text/plain": [
       "      UserName   SrcDevice            DstDevice  Authent Type  Failure  \\\n",
       "0   User035855  Comp808475           Comp081330           TGS        0   \n",
       "1  Comp655251$  Comp655251      ActiveDirectory  NetworkLogon        0   \n",
       "2   User762066  Comp306129      ActiveDirectory           TGS        0   \n",
       "3   User384215  Comp095190  EnterpriseAppServer  NetworkLogon        0   \n",
       "4   User043263  Comp883307           Comp384394           TGS        0   \n",
       "\n",
       "   DailyCount  \n",
       "0        17.0  \n",
       "1       350.0  \n",
       "2        22.0  \n",
       "3        35.0  \n",
       "4         2.0  "
      ]
     },
     "execution_count": 35,
     "metadata": {},
     "output_type": "execute_result"
    }
   ],
   "source": [
    "authentication_data.head()"
   ]
  },
  {
   "cell_type": "code",
   "execution_count": 36,
   "id": "2888fbb9",
   "metadata": {},
   "outputs": [
    {
     "data": {
      "text/plain": [
       "(15953681, 6)"
      ]
     },
     "execution_count": 36,
     "metadata": {},
     "output_type": "execute_result"
    }
   ],
   "source": [
    "authentication_data.shape"
   ]
  },
  {
   "cell_type": "code",
   "execution_count": 37,
   "id": "a4bb3091",
   "metadata": {},
   "outputs": [],
   "source": [
    "auth_index_list = authentication_data.index.tolist()\n",
    "auth_start_days = [i for i, e in enumerate(auth_index_list) if e == 0]\n",
    "auth_start_days.append(len(authentication_data))"
   ]
  },
  {
   "cell_type": "markdown",
   "id": "d5dafd45",
   "metadata": {},
   "source": [
    "#### Red Team Help"
   ]
  },
  {
   "cell_type": "markdown",
   "id": "5f44d08f",
   "metadata": {},
   "source": [
    "We first get the list provided by Alex of all the usernames that were at some point compromised."
   ]
  },
  {
   "cell_type": "code",
   "execution_count": 38,
   "id": "b69b1029",
   "metadata": {},
   "outputs": [],
   "source": [
    "rt_auth = list(pd.read_csv('../Data/AuthUserNames.txt', header=None)[0])"
   ]
  },
  {
   "cell_type": "markdown",
   "id": "c9133f10",
   "metadata": {},
   "source": [
    "We'd like to isolate all source devices that had a compromised user access them. Obviously all the source devices will not have been compromised whenever a compromised username accessed them but this will give an indicator."
   ]
  },
  {
   "cell_type": "code",
   "execution_count": 39,
   "id": "ee92ab31",
   "metadata": {},
   "outputs": [],
   "source": [
    "rt_srcdevices = authentication_data[authentication_data['UserName'].isin(rt_auth)]['SrcDevice'].unique()"
   ]
  },
  {
   "cell_type": "code",
   "execution_count": 40,
   "id": "768590a0",
   "metadata": {},
   "outputs": [],
   "source": [
    "event_nums = []\n",
    "for i in range(len(auth_start_days)-1):\n",
    "    authentication_data_day = authentication_data[auth_start_days[i]:auth_start_days[i+1]]\n",
    "    event_nums.append(authentication_data_day.shape[0])"
   ]
  },
  {
   "cell_type": "code",
   "execution_count": 41,
   "id": "697c6113",
   "metadata": {},
   "outputs": [
    {
     "name": "stderr",
     "output_type": "stream",
     "text": [
      "C:\\Users\\corri\\anaconda3\\lib\\site-packages\\seaborn\\_decorators.py:36: FutureWarning: Pass the following variable as a keyword arg: x. From version 0.12, the only valid positional argument will be `data`, and passing other arguments without an explicit keyword will result in an error or misinterpretation.\n",
      "  warnings.warn(\n",
      "C:\\Users\\corri\\anaconda3\\lib\\site-packages\\seaborn\\_core.py:1319: UserWarning: Vertical orientation ignored with only `x` specified.\n",
      "  warnings.warn(single_var_warning.format(\"Vertical\", \"x\"))\n",
      "C:\\Users\\corri\\anaconda3\\lib\\site-packages\\seaborn\\_decorators.py:36: FutureWarning: Pass the following variable as a keyword arg: x. From version 0.12, the only valid positional argument will be `data`, and passing other arguments without an explicit keyword will result in an error or misinterpretation.\n",
      "  warnings.warn(\n"
     ]
    },
    {
     "data": {
      "image/png": "[encoded data removed]",
      "text/plain": [
       "<Figure size 1008x720 with 1 Axes>"
      ]
     },
     "metadata": {
      "needs_background": "light"
     },
     "output_type": "display_data"
    },
    {
     "data": {
      "text/plain": [
       "DescribeResult(nobs=90, minmax=(58804, 266843), mean=177263.1222222222, variance=3863358493.726467, skewness=-0.5725685782059318, kurtosis=-1.2383112447309517)"
      ]
     },
     "execution_count": 41,
     "metadata": {},
     "output_type": "execute_result"
    }
   ],
   "source": [
    "plt.figure(figsize=(14,10))\n",
    "sns.boxplot(event_nums, orient='v')\n",
    "sns.swarmplot(event_nums, color=\".25\")\n",
    "plt.title('Boxplot of the number of events each day')\n",
    "plt.show()\n",
    "stats.describe(np.array(event_nums))"
   ]
  },
  {
   "cell_type": "markdown",
   "id": "888915f8",
   "metadata": {},
   "source": [
    "We're better off graphing between SrcDevice and DstDevice. Anomalous connections between these are likely to represent an anomaly whereas data from the process is hard to determine what we're supposed to be graphing."
   ]
  },
  {
   "cell_type": "code",
   "execution_count": 42,
   "id": "900b709f",
   "metadata": {},
   "outputs": [],
   "source": [
    "authentication_G_1 = nx.from_pandas_edgelist(authentication_data[auth_start_days[0]:auth_start_days[1]], source=\"SrcDevice\", target=\"DstDevice\", edge_attr=['DailyCount'])"
   ]
  },
  {
   "cell_type": "markdown",
   "id": "475b6abc",
   "metadata": {},
   "source": [
    "The first thing we'll look at is whether there are any drastic changes in the degree of the nodes each day - this could be an anomalous day. This includes the daily count on the weighting."
   ]
  },
  {
   "cell_type": "code",
   "execution_count": 43,
   "id": "a4ed9c7a",
   "metadata": {},
   "outputs": [
    {
     "data": {
      "text/html": [
       "<div>\n",
       "<style scoped>\n",
       "    .dataframe tbody tr th:only-of-type {\n",
       "        vertical-align: middle;\n",
       "    }\n",
       "\n",
       "    .dataframe tbody tr th {\n",
       "        vertical-align: top;\n",
       "    }\n",
       "\n",
       "    .dataframe thead th {\n",
       "        text-align: right;\n",
       "    }\n",
       "</style>\n",
       "<table border=\"1\" class=\"dataframe\">\n",
       "  <thead>\n",
       "    <tr style=\"text-align: right;\">\n",
       "      <th></th>\n",
       "      <th>SrcDevice</th>\n",
       "      <th>Degree</th>\n",
       "    </tr>\n",
       "  </thead>\n",
       "  <tbody>\n",
       "    <tr>\n",
       "      <th>3</th>\n",
       "      <td>ActiveDirectory</td>\n",
       "      <td>1167710.0</td>\n",
       "    </tr>\n",
       "    <tr>\n",
       "      <th>135</th>\n",
       "      <td>Comp704126</td>\n",
       "      <td>480395.0</td>\n",
       "    </tr>\n",
       "    <tr>\n",
       "      <th>9727</th>\n",
       "      <td>Comp065845</td>\n",
       "      <td>306318.0</td>\n",
       "    </tr>\n",
       "    <tr>\n",
       "      <th>10</th>\n",
       "      <td>Comp915658</td>\n",
       "      <td>263854.0</td>\n",
       "    </tr>\n",
       "    <tr>\n",
       "      <th>4126</th>\n",
       "      <td>Comp807801</td>\n",
       "      <td>221257.0</td>\n",
       "    </tr>\n",
       "    <tr>\n",
       "      <th>...</th>\n",
       "      <td>...</td>\n",
       "      <td>...</td>\n",
       "    </tr>\n",
       "    <tr>\n",
       "      <th>9995</th>\n",
       "      <td>Comp838614</td>\n",
       "      <td>1.0</td>\n",
       "    </tr>\n",
       "    <tr>\n",
       "      <th>8772</th>\n",
       "      <td>Comp948503</td>\n",
       "      <td>1.0</td>\n",
       "    </tr>\n",
       "    <tr>\n",
       "      <th>5705</th>\n",
       "      <td>Comp020600</td>\n",
       "      <td>1.0</td>\n",
       "    </tr>\n",
       "    <tr>\n",
       "      <th>10332</th>\n",
       "      <td>Comp631973</td>\n",
       "      <td>1.0</td>\n",
       "    </tr>\n",
       "    <tr>\n",
       "      <th>1711</th>\n",
       "      <td>Comp553503</td>\n",
       "      <td>1.0</td>\n",
       "    </tr>\n",
       "  </tbody>\n",
       "</table>\n",
       "<p>10496 rows × 2 columns</p>\n",
       "</div>"
      ],
      "text/plain": [
       "             SrcDevice     Degree\n",
       "3      ActiveDirectory  1167710.0\n",
       "135         Comp704126   480395.0\n",
       "9727        Comp065845   306318.0\n",
       "10          Comp915658   263854.0\n",
       "4126        Comp807801   221257.0\n",
       "...                ...        ...\n",
       "9995        Comp838614        1.0\n",
       "8772        Comp948503        1.0\n",
       "5705        Comp020600        1.0\n",
       "10332       Comp631973        1.0\n",
       "1711        Comp553503        1.0\n",
       "\n",
       "[10496 rows x 2 columns]"
      ]
     },
     "execution_count": 43,
     "metadata": {},
     "output_type": "execute_result"
    }
   ],
   "source": [
    "a_1_degrees = pd.DataFrame([(n,d) for n,d in authentication_G_1.degree(weight='DailyCount')])\n",
    "a_1_degrees.columns = ['SrcDevice', 'Degree']\n",
    "a_1_degrees = a_1_degrees.sort_values(by='Degree',axis=0,ascending=False)\n",
    "a_1_degrees"
   ]
  },
  {
   "cell_type": "markdown",
   "id": "d2ede749",
   "metadata": {},
   "source": [
    "The HTM Studio analysis requires at least 400 rows. Running with 400 rows doesn't give a long enough time frame to look for anomalies so we'll try to divide the days further. From the above analysis, the data contains an average of $177,263$ events, a minimum of $58,804$ and a maximum of $266,843$. If we divide each day into '1 hour' blocks, we obtain $ 90 * 24 = 2,160 $ events which is enough for the HTM module and also creates an average of $\\frac{177,263}{6} = 29,543$ events per block and a minimum of $\\frac{58,804}{24} = 2450$. The latter is quite a small amount of events but we hope that we can achieve something through this."
   ]
  },
  {
   "cell_type": "code",
   "execution_count": 44,
   "id": "bb73eacb",
   "metadata": {},
   "outputs": [],
   "source": [
    "# splits a dataframe into n chunks\n",
    "def split_dataframe(df,n): \n",
    "    chunks = list()\n",
    "    chunk_size = int(np.round(df.shape[0]/n))\n",
    "    num_chunks = n\n",
    "    for i in range(num_chunks):\n",
    "        if i != num_chunks-1:\n",
    "            chunks.append(df[i*chunk_size:(i+1)*chunk_size])\n",
    "        else:\n",
    "            chunks.append(df[i*chunk_size:])\n",
    "    return chunks"
   ]
  },
  {
   "cell_type": "code",
   "execution_count": 45,
   "id": "c108f534",
   "metadata": {},
   "outputs": [],
   "source": [
    "def degree_day_splits(data,n):\n",
    "    \n",
    "    SrcDevices = list(authentication_data['SrcDevice'].unique())\n",
    "    degree_days = pd.DataFrame(index=SrcDevices)\n",
    "    \n",
    "    for i in range(len(auth_start_days)-1):\n",
    "        print('Working with day {} of {}.'.format(i,len(auth_start_days)-1))\n",
    "        clear_output(wait=True)\n",
    "\n",
    "        chunks = split_dataframe(authentication_data[auth_start_days[i]:auth_start_days[i+1]],n)\n",
    "        \n",
    "        if len(chunks) != n:\n",
    "            print('ERROR: Number of chunks is not {}.'.format(n))\n",
    "            break\n",
    "            \n",
    "        for j in range(n):\n",
    "            data = chunks[j]\n",
    "            # create graph\n",
    "            auth_day_G = nx.from_pandas_edgelist(data,source=\"SrcDevice\",target=\"DstDevice\", edge_attr=['DailyCount'])\n",
    "            # create degree dictionary\n",
    "            dict_degrees = {n:d for n,d in auth_day_G.degree(weight='DailyCount')}\n",
    "            # map dictionary to data frame()\n",
    "            degree_days[i*n+j] = degree_days.index.to_series().map(dict_degrees)\n",
    "    \n",
    "    degree_days = degree_days.fillna(0)\n",
    "    degree_days = degree_days.transpose()\n",
    "    \n",
    "    return degree_days"
   ]
  },
  {
   "cell_type": "markdown",
   "id": "d785d2eb",
   "metadata": {},
   "source": [
    "**NOT uniformly split so unlikly 24 hour splits uniformly.**\n",
    "\n",
    "- Alex's idea is to split by hours of the data based on the los alamos work structure.\n",
    "- First week is the 'free friday' (referring to the 9 day work week that Los Alamos have)."
   ]
  },
  {
   "cell_type": "code",
   "execution_count": 46,
   "id": "81e87c76",
   "metadata": {},
   "outputs": [
    {
     "name": "stdout",
     "output_type": "stream",
     "text": [
      "Working with day 89 of 90.\n"
     ]
    }
   ],
   "source": [
    "degree_days_t = degree_day_splits(authentication_data,24)"
   ]
  },
  {
   "cell_type": "code",
   "execution_count": 47,
   "id": "c466528b",
   "metadata": {},
   "outputs": [
    {
     "data": {
      "text/html": [
       "<div>\n",
       "<style scoped>\n",
       "    .dataframe tbody tr th:only-of-type {\n",
       "        vertical-align: middle;\n",
       "    }\n",
       "\n",
       "    .dataframe tbody tr th {\n",
       "        vertical-align: top;\n",
       "    }\n",
       "\n",
       "    .dataframe thead th {\n",
       "        text-align: right;\n",
       "    }\n",
       "</style>\n",
       "<table border=\"1\" class=\"dataframe\">\n",
       "  <thead>\n",
       "    <tr style=\"text-align: right;\">\n",
       "      <th></th>\n",
       "      <th>Comp808475</th>\n",
       "      <th>Comp655251</th>\n",
       "      <th>Comp306129</th>\n",
       "      <th>Comp095190</th>\n",
       "      <th>Comp883307</th>\n",
       "      <th>Comp621781</th>\n",
       "      <th>Comp911231</th>\n",
       "      <th>Comp916004</th>\n",
       "      <th>Comp535288</th>\n",
       "      <th>Comp097283</th>\n",
       "      <th>...</th>\n",
       "      <th>Comp970922</th>\n",
       "      <th>Comp621704</th>\n",
       "      <th>Comp738332</th>\n",
       "      <th>Comp895482</th>\n",
       "      <th>Comp639324</th>\n",
       "      <th>Comp232848</th>\n",
       "      <th>Comp702812</th>\n",
       "      <th>Comp726739</th>\n",
       "      <th>Comp850306</th>\n",
       "      <th>Comp369402</th>\n",
       "    </tr>\n",
       "  </thead>\n",
       "  <tbody>\n",
       "    <tr>\n",
       "      <th>0</th>\n",
       "      <td>177.0</td>\n",
       "      <td>352.0</td>\n",
       "      <td>31.0</td>\n",
       "      <td>35.0</td>\n",
       "      <td>2.0</td>\n",
       "      <td>15.0</td>\n",
       "      <td>17.0</td>\n",
       "      <td>1278.0</td>\n",
       "      <td>6.0</td>\n",
       "      <td>4.0</td>\n",
       "      <td>...</td>\n",
       "      <td>0.0</td>\n",
       "      <td>0.0</td>\n",
       "      <td>0.0</td>\n",
       "      <td>0.0</td>\n",
       "      <td>0.0</td>\n",
       "      <td>0.0</td>\n",
       "      <td>0.0</td>\n",
       "      <td>0.0</td>\n",
       "      <td>0.0</td>\n",
       "      <td>0.0</td>\n",
       "    </tr>\n",
       "    <tr>\n",
       "      <th>1</th>\n",
       "      <td>11.0</td>\n",
       "      <td>1.0</td>\n",
       "      <td>1.0</td>\n",
       "      <td>2.0</td>\n",
       "      <td>1.0</td>\n",
       "      <td>0.0</td>\n",
       "      <td>0.0</td>\n",
       "      <td>3231.0</td>\n",
       "      <td>241.0</td>\n",
       "      <td>2.0</td>\n",
       "      <td>...</td>\n",
       "      <td>0.0</td>\n",
       "      <td>0.0</td>\n",
       "      <td>0.0</td>\n",
       "      <td>0.0</td>\n",
       "      <td>0.0</td>\n",
       "      <td>0.0</td>\n",
       "      <td>0.0</td>\n",
       "      <td>0.0</td>\n",
       "      <td>0.0</td>\n",
       "      <td>0.0</td>\n",
       "    </tr>\n",
       "    <tr>\n",
       "      <th>2</th>\n",
       "      <td>106.0</td>\n",
       "      <td>48.0</td>\n",
       "      <td>7.0</td>\n",
       "      <td>321.0</td>\n",
       "      <td>0.0</td>\n",
       "      <td>245.0</td>\n",
       "      <td>13.0</td>\n",
       "      <td>1071.0</td>\n",
       "      <td>6.0</td>\n",
       "      <td>18.0</td>\n",
       "      <td>...</td>\n",
       "      <td>0.0</td>\n",
       "      <td>0.0</td>\n",
       "      <td>0.0</td>\n",
       "      <td>0.0</td>\n",
       "      <td>0.0</td>\n",
       "      <td>0.0</td>\n",
       "      <td>0.0</td>\n",
       "      <td>0.0</td>\n",
       "      <td>0.0</td>\n",
       "      <td>0.0</td>\n",
       "    </tr>\n",
       "    <tr>\n",
       "      <th>3</th>\n",
       "      <td>16.0</td>\n",
       "      <td>4.0</td>\n",
       "      <td>1.0</td>\n",
       "      <td>1.0</td>\n",
       "      <td>0.0</td>\n",
       "      <td>1.0</td>\n",
       "      <td>41.0</td>\n",
       "      <td>443.0</td>\n",
       "      <td>214.0</td>\n",
       "      <td>6.0</td>\n",
       "      <td>...</td>\n",
       "      <td>0.0</td>\n",
       "      <td>0.0</td>\n",
       "      <td>0.0</td>\n",
       "      <td>0.0</td>\n",
       "      <td>0.0</td>\n",
       "      <td>0.0</td>\n",
       "      <td>0.0</td>\n",
       "      <td>0.0</td>\n",
       "      <td>0.0</td>\n",
       "      <td>0.0</td>\n",
       "    </tr>\n",
       "    <tr>\n",
       "      <th>4</th>\n",
       "      <td>0.0</td>\n",
       "      <td>0.0</td>\n",
       "      <td>7.0</td>\n",
       "      <td>0.0</td>\n",
       "      <td>0.0</td>\n",
       "      <td>0.0</td>\n",
       "      <td>1.0</td>\n",
       "      <td>1039.0</td>\n",
       "      <td>1.0</td>\n",
       "      <td>3.0</td>\n",
       "      <td>...</td>\n",
       "      <td>0.0</td>\n",
       "      <td>0.0</td>\n",
       "      <td>0.0</td>\n",
       "      <td>0.0</td>\n",
       "      <td>0.0</td>\n",
       "      <td>0.0</td>\n",
       "      <td>0.0</td>\n",
       "      <td>0.0</td>\n",
       "      <td>0.0</td>\n",
       "      <td>0.0</td>\n",
       "    </tr>\n",
       "    <tr>\n",
       "      <th>...</th>\n",
       "      <td>...</td>\n",
       "      <td>...</td>\n",
       "      <td>...</td>\n",
       "      <td>...</td>\n",
       "      <td>...</td>\n",
       "      <td>...</td>\n",
       "      <td>...</td>\n",
       "      <td>...</td>\n",
       "      <td>...</td>\n",
       "      <td>...</td>\n",
       "      <td>...</td>\n",
       "      <td>...</td>\n",
       "      <td>...</td>\n",
       "      <td>...</td>\n",
       "      <td>...</td>\n",
       "      <td>...</td>\n",
       "      <td>...</td>\n",
       "      <td>...</td>\n",
       "      <td>...</td>\n",
       "      <td>...</td>\n",
       "      <td>...</td>\n",
       "    </tr>\n",
       "    <tr>\n",
       "      <th>2155</th>\n",
       "      <td>362.0</td>\n",
       "      <td>0.0</td>\n",
       "      <td>0.0</td>\n",
       "      <td>40.0</td>\n",
       "      <td>23.0</td>\n",
       "      <td>0.0</td>\n",
       "      <td>0.0</td>\n",
       "      <td>593.0</td>\n",
       "      <td>0.0</td>\n",
       "      <td>0.0</td>\n",
       "      <td>...</td>\n",
       "      <td>0.0</td>\n",
       "      <td>0.0</td>\n",
       "      <td>0.0</td>\n",
       "      <td>0.0</td>\n",
       "      <td>0.0</td>\n",
       "      <td>1.0</td>\n",
       "      <td>0.0</td>\n",
       "      <td>0.0</td>\n",
       "      <td>0.0</td>\n",
       "      <td>0.0</td>\n",
       "    </tr>\n",
       "    <tr>\n",
       "      <th>2156</th>\n",
       "      <td>0.0</td>\n",
       "      <td>2.0</td>\n",
       "      <td>0.0</td>\n",
       "      <td>24.0</td>\n",
       "      <td>0.0</td>\n",
       "      <td>0.0</td>\n",
       "      <td>0.0</td>\n",
       "      <td>315.0</td>\n",
       "      <td>0.0</td>\n",
       "      <td>0.0</td>\n",
       "      <td>...</td>\n",
       "      <td>0.0</td>\n",
       "      <td>0.0</td>\n",
       "      <td>0.0</td>\n",
       "      <td>0.0</td>\n",
       "      <td>0.0</td>\n",
       "      <td>0.0</td>\n",
       "      <td>0.0</td>\n",
       "      <td>0.0</td>\n",
       "      <td>0.0</td>\n",
       "      <td>0.0</td>\n",
       "    </tr>\n",
       "    <tr>\n",
       "      <th>2157</th>\n",
       "      <td>0.0</td>\n",
       "      <td>0.0</td>\n",
       "      <td>0.0</td>\n",
       "      <td>23.0</td>\n",
       "      <td>953.0</td>\n",
       "      <td>2.0</td>\n",
       "      <td>0.0</td>\n",
       "      <td>1059.0</td>\n",
       "      <td>0.0</td>\n",
       "      <td>0.0</td>\n",
       "      <td>...</td>\n",
       "      <td>0.0</td>\n",
       "      <td>0.0</td>\n",
       "      <td>0.0</td>\n",
       "      <td>0.0</td>\n",
       "      <td>0.0</td>\n",
       "      <td>0.0</td>\n",
       "      <td>1.0</td>\n",
       "      <td>0.0</td>\n",
       "      <td>0.0</td>\n",
       "      <td>0.0</td>\n",
       "    </tr>\n",
       "    <tr>\n",
       "      <th>2158</th>\n",
       "      <td>0.0</td>\n",
       "      <td>5816.0</td>\n",
       "      <td>0.0</td>\n",
       "      <td>0.0</td>\n",
       "      <td>0.0</td>\n",
       "      <td>2.0</td>\n",
       "      <td>0.0</td>\n",
       "      <td>538.0</td>\n",
       "      <td>0.0</td>\n",
       "      <td>0.0</td>\n",
       "      <td>...</td>\n",
       "      <td>0.0</td>\n",
       "      <td>0.0</td>\n",
       "      <td>0.0</td>\n",
       "      <td>0.0</td>\n",
       "      <td>0.0</td>\n",
       "      <td>0.0</td>\n",
       "      <td>0.0</td>\n",
       "      <td>1.0</td>\n",
       "      <td>1.0</td>\n",
       "      <td>0.0</td>\n",
       "    </tr>\n",
       "    <tr>\n",
       "      <th>2159</th>\n",
       "      <td>70.0</td>\n",
       "      <td>21.0</td>\n",
       "      <td>0.0</td>\n",
       "      <td>0.0</td>\n",
       "      <td>35.0</td>\n",
       "      <td>0.0</td>\n",
       "      <td>0.0</td>\n",
       "      <td>2728.0</td>\n",
       "      <td>0.0</td>\n",
       "      <td>0.0</td>\n",
       "      <td>...</td>\n",
       "      <td>0.0</td>\n",
       "      <td>0.0</td>\n",
       "      <td>0.0</td>\n",
       "      <td>0.0</td>\n",
       "      <td>0.0</td>\n",
       "      <td>0.0</td>\n",
       "      <td>0.0</td>\n",
       "      <td>0.0</td>\n",
       "      <td>0.0</td>\n",
       "      <td>1.0</td>\n",
       "    </tr>\n",
       "  </tbody>\n",
       "</table>\n",
       "<p>2160 rows × 18199 columns</p>\n",
       "</div>"
      ],
      "text/plain": [
       "      Comp808475  Comp655251  Comp306129  Comp095190  Comp883307  Comp621781  \\\n",
       "0          177.0       352.0        31.0        35.0         2.0        15.0   \n",
       "1           11.0         1.0         1.0         2.0         1.0         0.0   \n",
       "2          106.0        48.0         7.0       321.0         0.0       245.0   \n",
       "3           16.0         4.0         1.0         1.0         0.0         1.0   \n",
       "4            0.0         0.0         7.0         0.0         0.0         0.0   \n",
       "...          ...         ...         ...         ...         ...         ...   \n",
       "2155       362.0         0.0         0.0        40.0        23.0         0.0   \n",
       "2156         0.0         2.0         0.0        24.0         0.0         0.0   \n",
       "2157         0.0         0.0         0.0        23.0       953.0         2.0   \n",
       "2158         0.0      5816.0         0.0         0.0         0.0         2.0   \n",
       "2159        70.0        21.0         0.0         0.0        35.0         0.0   \n",
       "\n",
       "      Comp911231  Comp916004  Comp535288  Comp097283  ...  Comp970922  \\\n",
       "0           17.0      1278.0         6.0         4.0  ...         0.0   \n",
       "1            0.0      3231.0       241.0         2.0  ...         0.0   \n",
       "2           13.0      1071.0         6.0        18.0  ...         0.0   \n",
       "3           41.0       443.0       214.0         6.0  ...         0.0   \n",
       "4            1.0      1039.0         1.0         3.0  ...         0.0   \n",
       "...          ...         ...         ...         ...  ...         ...   \n",
       "2155         0.0       593.0         0.0         0.0  ...         0.0   \n",
       "2156         0.0       315.0         0.0         0.0  ...         0.0   \n",
       "2157         0.0      1059.0         0.0         0.0  ...         0.0   \n",
       "2158         0.0       538.0         0.0         0.0  ...         0.0   \n",
       "2159         0.0      2728.0         0.0         0.0  ...         0.0   \n",
       "\n",
       "      Comp621704  Comp738332  Comp895482  Comp639324  Comp232848  Comp702812  \\\n",
       "0            0.0         0.0         0.0         0.0         0.0         0.0   \n",
       "1            0.0         0.0         0.0         0.0         0.0         0.0   \n",
       "2            0.0         0.0         0.0         0.0         0.0         0.0   \n",
       "3            0.0         0.0         0.0         0.0         0.0         0.0   \n",
       "4            0.0         0.0         0.0         0.0         0.0         0.0   \n",
       "...          ...         ...         ...         ...         ...         ...   \n",
       "2155         0.0         0.0         0.0         0.0         1.0         0.0   \n",
       "2156         0.0         0.0         0.0         0.0         0.0         0.0   \n",
       "2157         0.0         0.0         0.0         0.0         0.0         1.0   \n",
       "2158         0.0         0.0         0.0         0.0         0.0         0.0   \n",
       "2159         0.0         0.0         0.0         0.0         0.0         0.0   \n",
       "\n",
       "      Comp726739  Comp850306  Comp369402  \n",
       "0            0.0         0.0         0.0  \n",
       "1            0.0         0.0         0.0  \n",
       "2            0.0         0.0         0.0  \n",
       "3            0.0         0.0         0.0  \n",
       "4            0.0         0.0         0.0  \n",
       "...          ...         ...         ...  \n",
       "2155         0.0         0.0         0.0  \n",
       "2156         0.0         0.0         0.0  \n",
       "2157         0.0         0.0         0.0  \n",
       "2158         1.0         1.0         0.0  \n",
       "2159         0.0         0.0         1.0  \n",
       "\n",
       "[2160 rows x 18199 columns]"
      ]
     },
     "execution_count": 47,
     "metadata": {},
     "output_type": "execute_result"
    }
   ],
   "source": [
    "degree_days_t"
   ]
  },
  {
   "cell_type": "code",
   "execution_count": 48,
   "id": "02228288",
   "metadata": {},
   "outputs": [],
   "source": [
    "degree_days_t.to_csv('Authentication Weighted Degree Days.gz', index_label ='Time', compression='gzip')"
   ]
  },
  {
   "cell_type": "markdown",
   "id": "05ab384c",
   "metadata": {},
   "source": [
    "We'll isolate out the source computers that are likely to have been compromised and determine whether the HTM model identifies periods of anomalies."
   ]
  },
  {
   "cell_type": "code",
   "execution_count": 49,
   "id": "ae891025",
   "metadata": {},
   "outputs": [],
   "source": [
    "rt_degrees = degree_days_t[rt_srcdevices]\n",
    "comps = ['Comp984253','Comp916004','Comp127959','Comp620222','Comp107130','ActiveDirectory','Comp177326','Comp526669']\n",
    "#rt_degrees.to_csv('Red Team Weighted Degree Days.csv', index_label='Time')\n",
    "rt_degrees[comps].to_csv('Partial Red Team Weighted Degree Days.csv', index_label='Time')"
   ]
  },
  {
   "cell_type": "code",
   "execution_count": 50,
   "id": "ed51a84b",
   "metadata": {},
   "outputs": [
    {
     "data": {
      "text/html": [
       "<div>\n",
       "<style scoped>\n",
       "    .dataframe tbody tr th:only-of-type {\n",
       "        vertical-align: middle;\n",
       "    }\n",
       "\n",
       "    .dataframe tbody tr th {\n",
       "        vertical-align: top;\n",
       "    }\n",
       "\n",
       "    .dataframe thead th {\n",
       "        text-align: right;\n",
       "    }\n",
       "</style>\n",
       "<table border=\"1\" class=\"dataframe\">\n",
       "  <thead>\n",
       "    <tr style=\"text-align: right;\">\n",
       "      <th></th>\n",
       "      <th>EnterpriseAppServer</th>\n",
       "      <th>Comp273168</th>\n",
       "      <th>Comp599337</th>\n",
       "      <th>Comp544870</th>\n",
       "      <th>Comp277798</th>\n",
       "      <th>Comp894088</th>\n",
       "      <th>Comp795424</th>\n",
       "      <th>Comp085042</th>\n",
       "      <th>Comp324282</th>\n",
       "      <th>Comp867735</th>\n",
       "    </tr>\n",
       "  </thead>\n",
       "  <tbody>\n",
       "    <tr>\n",
       "      <th>0</th>\n",
       "      <td>14150.0</td>\n",
       "      <td>399.0</td>\n",
       "      <td>51.0</td>\n",
       "      <td>25.0</td>\n",
       "      <td>1.0</td>\n",
       "      <td>115.0</td>\n",
       "      <td>1.0</td>\n",
       "      <td>1.0</td>\n",
       "      <td>401.0</td>\n",
       "      <td>39.0</td>\n",
       "    </tr>\n",
       "    <tr>\n",
       "      <th>1</th>\n",
       "      <td>1212.0</td>\n",
       "      <td>29.0</td>\n",
       "      <td>6.0</td>\n",
       "      <td>911.0</td>\n",
       "      <td>0.0</td>\n",
       "      <td>22.0</td>\n",
       "      <td>0.0</td>\n",
       "      <td>2.0</td>\n",
       "      <td>27.0</td>\n",
       "      <td>97.0</td>\n",
       "    </tr>\n",
       "    <tr>\n",
       "      <th>2</th>\n",
       "      <td>791.0</td>\n",
       "      <td>105.0</td>\n",
       "      <td>25.0</td>\n",
       "      <td>662.0</td>\n",
       "      <td>170.0</td>\n",
       "      <td>90645.0</td>\n",
       "      <td>1.0</td>\n",
       "      <td>2.0</td>\n",
       "      <td>0.0</td>\n",
       "      <td>64.0</td>\n",
       "    </tr>\n",
       "    <tr>\n",
       "      <th>3</th>\n",
       "      <td>16525.0</td>\n",
       "      <td>8.0</td>\n",
       "      <td>17.0</td>\n",
       "      <td>86.0</td>\n",
       "      <td>0.0</td>\n",
       "      <td>76.0</td>\n",
       "      <td>0.0</td>\n",
       "      <td>0.0</td>\n",
       "      <td>0.0</td>\n",
       "      <td>0.0</td>\n",
       "    </tr>\n",
       "    <tr>\n",
       "      <th>4</th>\n",
       "      <td>19829.0</td>\n",
       "      <td>0.0</td>\n",
       "      <td>3.0</td>\n",
       "      <td>8.0</td>\n",
       "      <td>6.0</td>\n",
       "      <td>47.0</td>\n",
       "      <td>0.0</td>\n",
       "      <td>0.0</td>\n",
       "      <td>90.0</td>\n",
       "      <td>4.0</td>\n",
       "    </tr>\n",
       "    <tr>\n",
       "      <th>...</th>\n",
       "      <td>...</td>\n",
       "      <td>...</td>\n",
       "      <td>...</td>\n",
       "      <td>...</td>\n",
       "      <td>...</td>\n",
       "      <td>...</td>\n",
       "      <td>...</td>\n",
       "      <td>...</td>\n",
       "      <td>...</td>\n",
       "      <td>...</td>\n",
       "    </tr>\n",
       "    <tr>\n",
       "      <th>2155</th>\n",
       "      <td>223.0</td>\n",
       "      <td>0.0</td>\n",
       "      <td>0.0</td>\n",
       "      <td>0.0</td>\n",
       "      <td>44.0</td>\n",
       "      <td>6.0</td>\n",
       "      <td>0.0</td>\n",
       "      <td>0.0</td>\n",
       "      <td>1521.0</td>\n",
       "      <td>0.0</td>\n",
       "    </tr>\n",
       "    <tr>\n",
       "      <th>2156</th>\n",
       "      <td>34.0</td>\n",
       "      <td>0.0</td>\n",
       "      <td>2.0</td>\n",
       "      <td>0.0</td>\n",
       "      <td>16.0</td>\n",
       "      <td>25.0</td>\n",
       "      <td>0.0</td>\n",
       "      <td>22.0</td>\n",
       "      <td>0.0</td>\n",
       "      <td>0.0</td>\n",
       "    </tr>\n",
       "    <tr>\n",
       "      <th>2157</th>\n",
       "      <td>520.0</td>\n",
       "      <td>48.0</td>\n",
       "      <td>0.0</td>\n",
       "      <td>2.0</td>\n",
       "      <td>0.0</td>\n",
       "      <td>7.0</td>\n",
       "      <td>0.0</td>\n",
       "      <td>142.0</td>\n",
       "      <td>0.0</td>\n",
       "      <td>0.0</td>\n",
       "    </tr>\n",
       "    <tr>\n",
       "      <th>2158</th>\n",
       "      <td>445.0</td>\n",
       "      <td>0.0</td>\n",
       "      <td>0.0</td>\n",
       "      <td>0.0</td>\n",
       "      <td>0.0</td>\n",
       "      <td>8.0</td>\n",
       "      <td>0.0</td>\n",
       "      <td>44.0</td>\n",
       "      <td>0.0</td>\n",
       "      <td>0.0</td>\n",
       "    </tr>\n",
       "    <tr>\n",
       "      <th>2159</th>\n",
       "      <td>209.0</td>\n",
       "      <td>0.0</td>\n",
       "      <td>2.0</td>\n",
       "      <td>0.0</td>\n",
       "      <td>0.0</td>\n",
       "      <td>26.0</td>\n",
       "      <td>0.0</td>\n",
       "      <td>0.0</td>\n",
       "      <td>0.0</td>\n",
       "      <td>0.0</td>\n",
       "    </tr>\n",
       "  </tbody>\n",
       "</table>\n",
       "<p>2160 rows × 10 columns</p>\n",
       "</div>"
      ],
      "text/plain": [
       "      EnterpriseAppServer  Comp273168  Comp599337  Comp544870  Comp277798  \\\n",
       "0                 14150.0       399.0        51.0        25.0         1.0   \n",
       "1                  1212.0        29.0         6.0       911.0         0.0   \n",
       "2                   791.0       105.0        25.0       662.0       170.0   \n",
       "3                 16525.0         8.0        17.0        86.0         0.0   \n",
       "4                 19829.0         0.0         3.0         8.0         6.0   \n",
       "...                   ...         ...         ...         ...         ...   \n",
       "2155                223.0         0.0         0.0         0.0        44.0   \n",
       "2156                 34.0         0.0         2.0         0.0        16.0   \n",
       "2157                520.0        48.0         0.0         2.0         0.0   \n",
       "2158                445.0         0.0         0.0         0.0         0.0   \n",
       "2159                209.0         0.0         2.0         0.0         0.0   \n",
       "\n",
       "      Comp894088  Comp795424  Comp085042  Comp324282  Comp867735  \n",
       "0          115.0         1.0         1.0       401.0        39.0  \n",
       "1           22.0         0.0         2.0        27.0        97.0  \n",
       "2        90645.0         1.0         2.0         0.0        64.0  \n",
       "3           76.0         0.0         0.0         0.0         0.0  \n",
       "4           47.0         0.0         0.0        90.0         4.0  \n",
       "...          ...         ...         ...         ...         ...  \n",
       "2155         6.0         0.0         0.0      1521.0         0.0  \n",
       "2156        25.0         0.0        22.0         0.0         0.0  \n",
       "2157         7.0         0.0       142.0         0.0         0.0  \n",
       "2158         8.0         0.0        44.0         0.0         0.0  \n",
       "2159        26.0         0.0         0.0         0.0         0.0  \n",
       "\n",
       "[2160 rows x 10 columns]"
      ]
     },
     "execution_count": 50,
     "metadata": {},
     "output_type": "execute_result"
    }
   ],
   "source": [
    "rt_degrees.iloc[:, 0:10]"
   ]
  },
  {
   "cell_type": "markdown",
   "id": "b9421bde",
   "metadata": {},
   "source": [
    "### WLS Data"
   ]
  },
  {
   "cell_type": "code",
   "execution_count": null,
   "id": "9c956050",
   "metadata": {},
   "outputs": [],
   "source": [
    "wls_62 = pd.read_json('C:\\\\Users\\\\corri\\\\Downloads\\\\wls_day-62.txt', lines=True, chunksize=10000)"
   ]
  },
  {
   "cell_type": "code",
   "execution_count": null,
   "id": "e83f8ce0",
   "metadata": {},
   "outputs": [],
   "source": [
    "wls_62.head()"
   ]
  },
  {
   "cell_type": "code",
   "execution_count": null,
   "id": "5db47133",
   "metadata": {},
   "outputs": [],
   "source": [
    "wls_62.columns"
   ]
  },
  {
   "cell_type": "code",
   "execution_count": null,
   "id": "73964873",
   "metadata": {},
   "outputs": [],
   "source": [
    "wls_62.shape"
   ]
  },
  {
   "cell_type": "code",
   "execution_count": null,
   "id": "a62a2690",
   "metadata": {},
   "outputs": [],
   "source": [
    "auth_62 = wls_62.dropna(subset=['LogonType'])"
   ]
  },
  {
   "cell_type": "code",
   "execution_count": null,
   "id": "bc22c216",
   "metadata": {},
   "outputs": [],
   "source": [
    "auth_62.head()"
   ]
  },
  {
   "cell_type": "code",
   "execution_count": null,
   "id": "faa64fa4",
   "metadata": {},
   "outputs": [],
   "source": [
    "auth_62.shape"
   ]
  },
  {
   "cell_type": "code",
   "execution_count": null,
   "id": "b6af14c0",
   "metadata": {},
   "outputs": [],
   "source": []
  },
  {
   "cell_type": "markdown",
   "id": "675d50e3",
   "metadata": {},
   "source": [
    "### References"
   ]
  },
  {
   "cell_type": "markdown",
   "id": "93bcfaed",
   "metadata": {},
   "source": [
    "1. [Read JSON file with pandas](https://pandas.pydata.org/docs/user_guide/io.html#json)"
   ]
  }
 ],
 "metadata": {
  "kernelspec": {
   "display_name": "Python 3",
   "language": "python",
   "name": "python3"
  },
  "language_info": {
   "codemirror_mode": {
    "name": "ipython",
    "version": 3
   },
   "file_extension": ".py",
   "mimetype": "text/x-python",
   "name": "python",
   "nbconvert_exporter": "python",
   "pygments_lexer": "ipython3",
   "version": "3.8.5"
  }
 },
 "nbformat": 4,
 "nbformat_minor": 5
}
