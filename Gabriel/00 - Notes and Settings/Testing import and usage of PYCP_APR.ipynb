{
 "cells": [
  {
   "cell_type": "code",
   "execution_count": 3,
   "id": "cfd3aa96-323d-476c-b2be-500217fb92b8",
   "metadata": {},
   "outputs": [
    {
     "data": {
      "text/plain": [
       "['G:/Users/Gabriel/Documents/Education/UoB/GitHubDesktop/Advanced-Cyber-Analytics-for-Attack-Detection/Modules/',\n",
       " 'G:\\\\Users\\\\Gabriel\\\\Documents\\\\Education\\\\UoB\\\\GitHubDesktop\\\\Advanced-Cyber-Analytics-for-Attack-Detection\\\\Gabriel\\\\Notes',\n",
       " 'G:\\\\Programs\\\\Anaconda\\\\envs\\\\det\\\\python38.zip',\n",
       " 'G:\\\\Programs\\\\Anaconda\\\\envs\\\\det\\\\DLLs',\n",
       " 'G:\\\\Programs\\\\Anaconda\\\\envs\\\\det\\\\lib',\n",
       " 'G:\\\\Programs\\\\Anaconda\\\\envs\\\\det',\n",
       " '',\n",
       " 'C:\\\\Users\\\\Gabriel\\\\AppData\\\\Roaming\\\\Python\\\\Python38\\\\site-packages',\n",
       " 'G:\\\\Programs\\\\Anaconda\\\\envs\\\\det\\\\lib\\\\site-packages',\n",
       " 'G:\\\\Programs\\\\Anaconda\\\\envs\\\\det\\\\lib\\\\site-packages\\\\win32',\n",
       " 'G:\\\\Programs\\\\Anaconda\\\\envs\\\\det\\\\lib\\\\site-packages\\\\win32\\\\lib',\n",
       " 'G:\\\\Programs\\\\Anaconda\\\\envs\\\\det\\\\lib\\\\site-packages\\\\Pythonwin',\n",
       " 'G:\\\\Programs\\\\Anaconda\\\\envs\\\\det\\\\lib\\\\site-packages\\\\IPython\\\\extensions',\n",
       " 'C:\\\\Users\\\\Gabriel\\\\.ipython']"
      ]
     },
     "execution_count": 3,
     "metadata": {},
     "output_type": "execute_result"
    }
   ],
   "source": [
    "import sys\n",
    "sys.path"
   ]
  },
  {
   "cell_type": "code",
   "execution_count": 2,
   "id": "1cdda5ab-83bc-433c-9ad7-710f031390e5",
   "metadata": {},
   "outputs": [],
   "source": [
    "sys.path.insert(0,'G:/Users/Gabriel/Documents/Education/UoB/GitHubDesktop/Advanced-Cyber-Analytics-for-Attack-Detection/Modules/')"
   ]
  },
  {
   "cell_type": "code",
   "execution_count": 4,
   "id": "45d5d042-a333-4169-b4e0-5de6edf06516",
   "metadata": {},
   "outputs": [],
   "source": [
    "from dt import *"
   ]
  },
  {
   "cell_type": "code",
   "execution_count": 3,
   "id": "b41a82df-4cc1-4057-8c35-0df10d53c0b8",
   "metadata": {},
   "outputs": [],
   "source": [
    "from pyCP_APR import CP_APR\n",
    "from pyCP_APR.datasets import load_dataset"
   ]
  },
  {
   "cell_type": "code",
   "execution_count": 4,
   "id": "25c7a8e9-8fe2-4b87-bd18-db47a37b1409",
   "metadata": {},
   "outputs": [
    {
     "name": "stdout",
     "output_type": "stream",
     "text": [
      "Created: G:\\Programs\\Anaconda\\envs\\pyCP\\lib\\site-packages\\pycp_apr-1.0.0-py3.8.egg\\pyCP_APR\\data/\n",
      "Downloading the dataset: TOY.npz\n"
     ]
    }
   ],
   "source": [
    "data = load_dataset(name=\"TOY\")"
   ]
  },
  {
   "cell_type": "code",
   "execution_count": 15,
   "id": "de5e9320-5aa2-4b5d-8119-597f24cbc51b",
   "metadata": {},
   "outputs": [],
   "source": [
    "coords_train, nnz_train = data['train_coords'], data['train_count']\n",
    "coords_test, nnz_test = data['test_coords'], data['test_count']"
   ]
  },
  {
   "cell_type": "code",
   "execution_count": 17,
   "id": "a0a32adc-6a8c-4f15-b9ea-de9993721e2f",
   "metadata": {},
   "outputs": [],
   "source": [
    "model = CP_APR(n_iters=10,\n",
    "                random_state=42,\n",
    "                verbose=1,\n",
    "                method='torch',\n",
    "                device='cpu',\n",
    "                return_type='numpy')"
   ]
  },
  {
   "cell_type": "code",
   "execution_count": 18,
   "id": "4af1c03d-6b85-42c8-bd65-189c0eee349e",
   "metadata": {},
   "outputs": [
    {
     "name": "stderr",
     "output_type": "stream",
     "text": [
      "G:\\Programs\\Anaconda\\envs\\pyCP\\lib\\site-packages\\pycp_apr-1.0.0-py3.8.egg\\pyCP_APR\\torch_cp\\CP_APR_Torch.py:456: UserWarning: To copy construct from a tensor, it is recommended to use sourceTensor.clone().detach() or sourceTensor.clone().detach().requires_grad_(True), rather than torch.tensor(sourceTensor).\n",
      "  self.epsilon = tr.tensor(self.epsilon).to(self.device)\n"
     ]
    },
    {
     "name": "stdout",
     "output_type": "stream",
     "text": [
      "CP-APR (MU):\n",
      "Iter=1, Inner Iter=40, KKT Violation=0.405414, obj=-5225.952225, nViolations=0\n",
      "Iter=2, Inner Iter=40, KKT Violation=0.802100, obj=-1296.117412, nViolations=0\n",
      "Iter=3, Inner Iter=40, KKT Violation=0.455146, obj=-191.666462, nViolations=0\n",
      "Iter=4, Inner Iter=40, KKT Violation=0.740697, obj=196.801430, nViolations=0\n",
      "Iter=5, Inner Iter=40, KKT Violation=1.216781, obj=357.199101, nViolations=0\n",
      "Iter=6, Inner Iter=40, KKT Violation=0.955929, obj=486.900744, nViolations=3\n",
      "Iter=7, Inner Iter=40, KKT Violation=0.499811, obj=594.321478, nViolations=2\n",
      "Iter=8, Inner Iter=40, KKT Violation=1.001168, obj=646.610126, nViolations=1\n",
      "Iter=9, Inner Iter=40, KKT Violation=0.601016, obj=718.418844, nViolations=3\n",
      "Iter=10, Inner Iter=40, KKT Violation=0.570287, obj=767.452975, nViolations=4\n",
      "===========================================\n",
      " Final log-likelihood = 767.452975\n",
      " Final least squares fit = 0.153542\n",
      " Final KKT violation = 0.570287\n",
      " Total inner iterations = 400\n",
      " Total execution time = 2.5535 seconds\n",
      "Converting the latent factors to Numpy arrays.\n"
     ]
    }
   ],
   "source": [
    "M = model.fit(coords=coords_train, values=nnz_train, rank=45)"
   ]
  },
  {
   "cell_type": "code",
   "execution_count": 19,
   "id": "fbefa02b-e7c5-4cd6-800d-821712b6fa02",
   "metadata": {},
   "outputs": [],
   "source": [
    "y_score = model.predict_scores(coords=coords_test, values=nnz_test)"
   ]
  }
 ],
 "metadata": {
  "kernelspec": {
   "display_name": "Python 3",
   "language": "python",
   "name": "python3"
  },
  "language_info": {
   "codemirror_mode": {
    "name": "ipython",
    "version": 3
   },
   "file_extension": ".py",
   "mimetype": "text/x-python",
   "name": "python",
   "nbconvert_exporter": "python",
   "pygments_lexer": "ipython3",
   "version": "3.8.10"
  }
 },
 "nbformat": 4,
 "nbformat_minor": 5
}
