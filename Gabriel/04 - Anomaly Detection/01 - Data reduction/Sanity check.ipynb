{
 "cells": [
  {
   "cell_type": "code",
   "execution_count": 1,
   "id": "fff0459f-e2bc-4b78-bb0e-560a5a4d77e1",
   "metadata": {},
   "outputs": [],
   "source": [
    "import sys\n",
    "sys.path.insert(0,'G:/Users/Gabriel/Documents/Education/UoB/GitHubDesktop/Advanced-Cyber-Analytics-for-Attack-Detection/Modules/')\n",
    "import pandas as pd\n",
    "from datetime import datetime as dt\n",
    "import time\n",
    "from dt import *\n",
    "from startup_g import *"
   ]
  },
  {
   "cell_type": "code",
   "execution_count": 2,
   "id": "09b6fd1d-89c0-4640-9dfa-602d8785eed7",
   "metadata": {},
   "outputs": [
    {
     "name": "stdout",
     "output_type": "stream",
     "text": [
      "Looking for local copy of Process data...\n"
     ]
    },
    {
     "name": "stderr",
     "output_type": "stream",
     "text": [
      "G:\\Programs\\Anaconda\\envs\\det\\lib\\site-packages\\numpy\\lib\\arraysetops.py:583: FutureWarning: elementwise comparison failed; returning scalar instead, but in the future will perform elementwise comparison\n",
      "  mask |= (ar1 == a)\n"
     ]
    },
    {
     "name": "stdout",
     "output_type": "stream",
     "text": [
      "Process data fetched locally in 0:01:07.293082\n",
      "Looking for local copy of Auth data...\n",
      "Auth data fetched locally in 0:00:19.884663\n"
     ]
    }
   ],
   "source": [
    "df_p = process_import()\n",
    "df_a = auth_import()"
   ]
  },
  {
   "cell_type": "code",
   "execution_count": 11,
   "id": "3d7ebee8-a68b-4520-925a-889ea9496dc9",
   "metadata": {},
   "outputs": [
    {
     "data": {
      "text/html": [
       "<div>\n",
       "<style scoped>\n",
       "    .dataframe tbody tr th:only-of-type {\n",
       "        vertical-align: middle;\n",
       "    }\n",
       "\n",
       "    .dataframe tbody tr th {\n",
       "        vertical-align: top;\n",
       "    }\n",
       "\n",
       "    .dataframe thead th {\n",
       "        text-align: right;\n",
       "    }\n",
       "</style>\n",
       "<table border=\"1\" class=\"dataframe\">\n",
       "  <thead>\n",
       "    <tr style=\"text-align: right;\">\n",
       "      <th></th>\n",
       "      <th>UserName</th>\n",
       "      <th>SrcDevice</th>\n",
       "      <th>DstDevice</th>\n",
       "      <th>Authent Type</th>\n",
       "      <th>Failure</th>\n",
       "      <th>DailyCount</th>\n",
       "    </tr>\n",
       "  </thead>\n",
       "  <tbody>\n",
       "  </tbody>\n",
       "</table>\n",
       "</div>"
      ],
      "text/plain": [
       "Empty DataFrame\n",
       "Columns: [UserName, SrcDevice, DstDevice, Authent Type, Failure, DailyCount]\n",
       "Index: []"
      ]
     },
     "execution_count": 11,
     "metadata": {},
     "output_type": "execute_result"
    }
   ],
   "source": [
    "df_a[df_a[\"UserName\"].isin([\"User794682\"])]"
   ]
  },
  {
   "cell_type": "code",
   "execution_count": 4,
   "id": "0a0c18a4-2f45-4011-a380-f2856ae34da9",
   "metadata": {},
   "outputs": [],
   "source": [
    "x = [\"UserName\",\"Device\"]\n",
    "counts_p = []\n",
    "for i in x:\n",
    "    z = df_p.groupby(i).size().sort_values(ascending=False)\n",
    "    z = pd.DataFrame(z)\n",
    "    z.reset_index(level=0, inplace=True)\n",
    "    z.columns = [i,'Count']\n",
    "    counts_p.append(z)"
   ]
  },
  {
   "cell_type": "code",
   "execution_count": 5,
   "id": "200accb7-8c84-4f35-acc9-d081ce95acd6",
   "metadata": {},
   "outputs": [],
   "source": [
    "x = [\"UserName\",\"SrcDevice\",\"DstDevice\"]\n",
    "counts_a = []\n",
    "for i in x:\n",
    "    z = df_a.groupby(i).size().sort_values(ascending=False)\n",
    "    z = pd.DataFrame(z)\n",
    "    z.reset_index(level=0, inplace=True)\n",
    "    z.columns = [i,'Count']\n",
    "    counts_a.append(z)"
   ]
  },
  {
   "cell_type": "code",
   "execution_count": 7,
   "id": "40d7a04b-d9fe-4a8d-903c-efd006ffaa62",
   "metadata": {},
   "outputs": [
    {
     "data": {
      "text/html": [
       "<div>\n",
       "<style scoped>\n",
       "    .dataframe tbody tr th:only-of-type {\n",
       "        vertical-align: middle;\n",
       "    }\n",
       "\n",
       "    .dataframe tbody tr th {\n",
       "        vertical-align: top;\n",
       "    }\n",
       "\n",
       "    .dataframe thead th {\n",
       "        text-align: right;\n",
       "    }\n",
       "</style>\n",
       "<table border=\"1\" class=\"dataframe\">\n",
       "  <thead>\n",
       "    <tr style=\"text-align: right;\">\n",
       "      <th></th>\n",
       "      <th>UserName</th>\n",
       "      <th>Count</th>\n",
       "    </tr>\n",
       "  </thead>\n",
       "  <tbody>\n",
       "    <tr>\n",
       "      <th>0</th>\n",
       "      <td>Scanner</td>\n",
       "      <td>255383</td>\n",
       "    </tr>\n",
       "    <tr>\n",
       "      <th>1</th>\n",
       "      <td>User272607</td>\n",
       "      <td>73934</td>\n",
       "    </tr>\n",
       "    <tr>\n",
       "      <th>2</th>\n",
       "      <td>EnterpriseAppServer$</td>\n",
       "      <td>38552</td>\n",
       "    </tr>\n",
       "    <tr>\n",
       "      <th>3</th>\n",
       "      <td>Administrator</td>\n",
       "      <td>29443</td>\n",
       "    </tr>\n",
       "    <tr>\n",
       "      <th>4</th>\n",
       "      <td>User414014</td>\n",
       "      <td>18593</td>\n",
       "    </tr>\n",
       "    <tr>\n",
       "      <th>...</th>\n",
       "      <td>...</td>\n",
       "      <td>...</td>\n",
       "    </tr>\n",
       "    <tr>\n",
       "      <th>25315</th>\n",
       "      <td>User711040</td>\n",
       "      <td>1</td>\n",
       "    </tr>\n",
       "    <tr>\n",
       "      <th>25316</th>\n",
       "      <td>User296343</td>\n",
       "      <td>1</td>\n",
       "    </tr>\n",
       "    <tr>\n",
       "      <th>25317</th>\n",
       "      <td>User464715</td>\n",
       "      <td>1</td>\n",
       "    </tr>\n",
       "    <tr>\n",
       "      <th>25318</th>\n",
       "      <td>User126086</td>\n",
       "      <td>1</td>\n",
       "    </tr>\n",
       "    <tr>\n",
       "      <th>25319</th>\n",
       "      <td>User252033</td>\n",
       "      <td>1</td>\n",
       "    </tr>\n",
       "  </tbody>\n",
       "</table>\n",
       "<p>25320 rows × 2 columns</p>\n",
       "</div>"
      ],
      "text/plain": [
       "                   UserName   Count\n",
       "0                   Scanner  255383\n",
       "1                User272607   73934\n",
       "2      EnterpriseAppServer$   38552\n",
       "3             Administrator   29443\n",
       "4                User414014   18593\n",
       "...                     ...     ...\n",
       "25315            User711040       1\n",
       "25316            User296343       1\n",
       "25317            User464715       1\n",
       "25318            User126086       1\n",
       "25319            User252033       1\n",
       "\n",
       "[25320 rows x 2 columns]"
      ]
     },
     "execution_count": 7,
     "metadata": {},
     "output_type": "execute_result"
    }
   ],
   "source": [
    "counts_p[0]"
   ]
  },
  {
   "cell_type": "code",
   "execution_count": 14,
   "id": "716a4cbe-1fc1-4670-a0aa-34adb679e80d",
   "metadata": {},
   "outputs": [],
   "source": [
    "lims = counts_p[0][counts_p[0].Count < 4]"
   ]
  },
  {
   "cell_type": "code",
   "execution_count": 15,
   "id": "0297ce15-0eb9-4493-b6a6-cf53d9f03951",
   "metadata": {},
   "outputs": [
    {
     "name": "stdout",
     "output_type": "stream",
     "text": [
      "25320\n",
      "189\n"
     ]
    }
   ],
   "source": [
    "print(len(counts_p[0]))\n",
    "print(len(lims))"
   ]
  },
  {
   "cell_type": "code",
   "execution_count": 22,
   "id": "9c49ccc3-bb26-47cd-bccc-859072cd8315",
   "metadata": {},
   "outputs": [],
   "source": [
    "x = list(lims[\"UserName\"])\n",
    "y = df_p[df_p[\"UserName\"].isin(x)]"
   ]
  },
  {
   "cell_type": "code",
   "execution_count": 26,
   "id": "f48dddce-1e7b-45af-bc64-e2748972ad42",
   "metadata": {},
   "outputs": [],
   "source": [
    "a = list(y[\"Device\"])\n",
    "b = counts_p[1][counts_p[1][\"Device\"].isin(a)]"
   ]
  },
  {
   "cell_type": "code",
   "execution_count": 27,
   "id": "aa8b7a2d-01b7-4e5f-bbd0-1bdf297d9a9e",
   "metadata": {},
   "outputs": [
    {
     "data": {
      "text/html": [
       "<div>\n",
       "<style scoped>\n",
       "    .dataframe tbody tr th:only-of-type {\n",
       "        vertical-align: middle;\n",
       "    }\n",
       "\n",
       "    .dataframe tbody tr th {\n",
       "        vertical-align: top;\n",
       "    }\n",
       "\n",
       "    .dataframe thead th {\n",
       "        text-align: right;\n",
       "    }\n",
       "</style>\n",
       "<table border=\"1\" class=\"dataframe\">\n",
       "  <thead>\n",
       "    <tr style=\"text-align: right;\">\n",
       "      <th></th>\n",
       "      <th>Device</th>\n",
       "      <th>Count</th>\n",
       "    </tr>\n",
       "  </thead>\n",
       "  <tbody>\n",
       "    <tr>\n",
       "      <th>0</th>\n",
       "      <td>EnterpriseAppServer</td>\n",
       "      <td>451831</td>\n",
       "    </tr>\n",
       "    <tr>\n",
       "      <th>68</th>\n",
       "      <td>Comp558084</td>\n",
       "      <td>11134</td>\n",
       "    </tr>\n",
       "    <tr>\n",
       "      <th>84</th>\n",
       "      <td>Comp679250</td>\n",
       "      <td>10651</td>\n",
       "    </tr>\n",
       "    <tr>\n",
       "      <th>138</th>\n",
       "      <td>Comp130405</td>\n",
       "      <td>9580</td>\n",
       "    </tr>\n",
       "    <tr>\n",
       "      <th>158</th>\n",
       "      <td>Comp613192</td>\n",
       "      <td>9423</td>\n",
       "    </tr>\n",
       "    <tr>\n",
       "      <th>...</th>\n",
       "      <td>...</td>\n",
       "      <td>...</td>\n",
       "    </tr>\n",
       "    <tr>\n",
       "      <th>13238</th>\n",
       "      <td>Comp527282</td>\n",
       "      <td>182</td>\n",
       "    </tr>\n",
       "    <tr>\n",
       "      <th>13447</th>\n",
       "      <td>Comp977186</td>\n",
       "      <td>38</td>\n",
       "    </tr>\n",
       "    <tr>\n",
       "      <th>13473</th>\n",
       "      <td>Comp733749</td>\n",
       "      <td>3</td>\n",
       "    </tr>\n",
       "    <tr>\n",
       "      <th>13474</th>\n",
       "      <td>Comp772226</td>\n",
       "      <td>2</td>\n",
       "    </tr>\n",
       "    <tr>\n",
       "      <th>13475</th>\n",
       "      <td>Comp212946</td>\n",
       "      <td>1</td>\n",
       "    </tr>\n",
       "  </tbody>\n",
       "</table>\n",
       "<p>158 rows × 2 columns</p>\n",
       "</div>"
      ],
      "text/plain": [
       "                    Device   Count\n",
       "0      EnterpriseAppServer  451831\n",
       "68              Comp558084   11134\n",
       "84              Comp679250   10651\n",
       "138             Comp130405    9580\n",
       "158             Comp613192    9423\n",
       "...                    ...     ...\n",
       "13238           Comp527282     182\n",
       "13447           Comp977186      38\n",
       "13473           Comp733749       3\n",
       "13474           Comp772226       2\n",
       "13475           Comp212946       1\n",
       "\n",
       "[158 rows x 2 columns]"
      ]
     },
     "execution_count": 27,
     "metadata": {},
     "output_type": "execute_result"
    }
   ],
   "source": [
    "b"
   ]
  },
  {
   "cell_type": "code",
   "execution_count": null,
   "id": "fa20bbe4-ba7f-43c5-9eda-41afd2f9d8e6",
   "metadata": {},
   "outputs": [],
   "source": [
    "un_discard = []\n",
    "dev_discard = []\n",
    "for i in df_p[\"UserName\"]:\n",
    "    x = counts_p[0][counts_p[0][\"UserName\"] == i][\"Count\"].values[0]\n",
    "    for j in df_p[\"Device\"]:\n",
    "        y = counts_p[1][counts_p[1][\"Device\"] == j][\"Count\"].values[0]\n",
    "        z = x+y\n",
    "        if z < 6:\n",
    "            if i in un_discard:\n",
    "                pass\n",
    "            elif i not in un_discard:\n",
    "                un_discard.append(i)\n",
    "            dev_discard.append(j)"
   ]
  },
  {
   "cell_type": "code",
   "execution_count": 39,
   "id": "75e3ea27-78dd-4dbb-bfe4-32b8d23c75a5",
   "metadata": {},
   "outputs": [
    {
     "data": {
      "text/plain": [
       "255383"
      ]
     },
     "execution_count": 39,
     "metadata": {},
     "output_type": "execute_result"
    }
   ],
   "source": [
    "counts_p[0][counts_p[0][\"UserName\"] == \"Scanner\"][\"Count\"].values[0]"
   ]
  },
  {
   "cell_type": "code",
   "execution_count": 42,
   "id": "14172da4-b6d0-40ab-b9a4-e5b52d6e9637",
   "metadata": {},
   "outputs": [
    {
     "data": {
      "text/plain": [
       "451831"
      ]
     },
     "execution_count": 42,
     "metadata": {},
     "output_type": "execute_result"
    }
   ],
   "source": [
    "counts_p[1][counts_p[1][\"Device\"] == \"EnterpriseAppServer\"][\"Count\"].values[0]"
   ]
  }
 ],
 "metadata": {
  "kernelspec": {
   "display_name": "Python 3",
   "language": "python",
   "name": "python3"
  },
  "language_info": {
   "codemirror_mode": {
    "name": "ipython",
    "version": 3
   },
   "file_extension": ".py",
   "mimetype": "text/x-python",
   "name": "python",
   "nbconvert_exporter": "python",
   "pygments_lexer": "ipython3",
   "version": "3.8.10"
  }
 },
 "nbformat": 4,
 "nbformat_minor": 5
}
