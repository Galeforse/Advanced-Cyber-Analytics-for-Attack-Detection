{
 "cells": [
  {
   "cell_type": "markdown",
   "id": "a5db9298-039c-413c-8c75-070a40a9e53d",
   "metadata": {},
   "source": [
    "## EDA on Process data\n",
    "\n",
    "In this notebook I wil be conducting some Exploratory Data Analysis on the Process Data. I will be primarily focusing on generating interesting visualisations to give us an an alternative and hopefully interesting visual guide to our data to help us identify anything that might be useful during the project that will help us achieve our planned goals."
   ]
  },
  {
   "cell_type": "markdown",
   "id": "db5e7bce-fa67-48a2-b00f-e13d6e34cf33",
   "metadata": {},
   "source": [
    "I will import all packages required for use in the notebook at the beginning rather than when they are required in order to save import time when conducting computations."
   ]
  },
  {
   "cell_type": "code",
   "execution_count": 1,
   "id": "2cd8014c-2205-4c33-9dc3-7585526ba8f8",
   "metadata": {},
   "outputs": [],
   "source": [
    "import pandas as pd\n",
    "from datetime import datetime as dt\n",
    "import time\n",
    "import matplotlib.pyplot as plt\n",
    "import numpy as np\n",
    "from sys import getsizeof as ram\n",
    "import networkx as nx\n",
    "from pyvis.network import Network"
   ]
  },
  {
   "cell_type": "markdown",
   "id": "4b9edc96-6160-4138-855c-49db3cd7f5b6",
   "metadata": {},
   "source": [
    "Here I will define useful functions that I might call back to later in the notebook. This is a quality of life addition that prevents me having to regularly copy and paste chunks of code, or type out large blocks each time. The main functions I define make it simpler for me to implement `datetime` into my code blocks, allowing me to measure how long a computation takes to complete; this is very useful in this exploratory phase to get an idea of what functions are useful and should continue to be used and what might be overly complex and waste of time to run consistently."
   ]
  },
  {
   "cell_type": "code",
   "execution_count": 2,
   "id": "4d6cc6db-85b7-4fea-adfe-a610827e1e32",
   "metadata": {},
   "outputs": [],
   "source": [
    "start = 0\n",
    "def dtn():\n",
    "    \"\"\"Sets start variable to the current date and time\n",
    "    \n",
    "    IMPORTANT: must define global start variable before using\"\"\"\n",
    "    global start\n",
    "    start = dt.now()\n",
    "    \n",
    "def end():\n",
    "    \"\"\"Using in conjunction with dtn() function, returns the time taken between dtn() and this function being called\"\"\"\n",
    "    return str(dt.now()-start)\n",
    "\n",
    "def gen_end():\n",
    "    \"\"\"Generic function that gives a string telling how long it has been since dtn() was called. Can be used instead of end()\"\"\"\n",
    "    stop = end()\n",
    "    print(\"Completed in :\"+stop)"
   ]
  },
  {
   "cell_type": "markdown",
   "id": "395c0ad3-019a-4c94-aa3b-d42f6ad468a7",
   "metadata": {},
   "source": [
    "Next we will read in our Process Data. This block of code first reads to see if the data is found on the local hardrive (eliminating the need for downloading, and therefore speeding up the process) and takes the Error of a file not being found as an exception, and then proceeds to download from data hosted on the web at dropbox. If using this on your own PC and want faster results having already downloaded the data, please change the path to where your copy of the data can be found."
   ]
  },
  {
   "cell_type": "code",
   "execution_count": 3,
   "id": "9556d65a-da3c-47fa-870e-93a9d20debd1",
   "metadata": {},
   "outputs": [
    {
     "name": "stdout",
     "output_type": "stream",
     "text": [
      "Looking for local copy of data...\n",
      "Data fetched locally in 0:01:12.935828\n"
     ]
    }
   ],
   "source": [
    "try:\n",
    "    print(\"Looking for local copy of data...\")\n",
    "    dtn()\n",
    "    df_p = pd.read_csv(\"G:/Users/Gabriel/Documents/Education/UoB/GitHubDesktop/Advanced-Cyber-Analytics-for-Attack-Detection/Data/Process data.gz\",compression=\"gzip\")\n",
    "    stop = end()\n",
    "    print(\"Data fetched locally in \"+stop)\n",
    "except OSError as e:\n",
    "    if e.errno == 2:\n",
    "        print(\"No Local data found. Importing from the web.\")\n",
    "        dtn()\n",
    "        df_p = pd.read_csv(\"https://www.dropbox.com/s/c065rcq72abzm0s/Process_data.gz?dl=1\",compression=\"gzip\")\n",
    "        stop = end()\n",
    "        print(\"Data fetched from web in \"+stop)\n",
    "    else:\n",
    "        print(e)"
   ]
  },
  {
   "cell_type": "markdown",
   "id": "5da2899e-f6a5-4c73-a479-68f1a447ff69",
   "metadata": {},
   "source": [
    "Once the data is imported we take a brief look at what our data looks like."
   ]
  },
  {
   "cell_type": "code",
   "execution_count": 4,
   "id": "3f9ce800-a417-4ec7-9b6e-7daef26783d7",
   "metadata": {},
   "outputs": [
    {
     "data": {
      "text/html": [
       "<div>\n",
       "<style scoped>\n",
       "    .dataframe tbody tr th:only-of-type {\n",
       "        vertical-align: middle;\n",
       "    }\n",
       "\n",
       "    .dataframe tbody tr th {\n",
       "        vertical-align: top;\n",
       "    }\n",
       "\n",
       "    .dataframe thead th {\n",
       "        text-align: right;\n",
       "    }\n",
       "</style>\n",
       "<table border=\"1\" class=\"dataframe\">\n",
       "  <thead>\n",
       "    <tr style=\"text-align: right;\">\n",
       "      <th></th>\n",
       "      <th>Unnamed: 0</th>\n",
       "      <th>UserName</th>\n",
       "      <th>Device</th>\n",
       "      <th>ProcessName</th>\n",
       "      <th>ParentProcessName</th>\n",
       "      <th>DailyCount</th>\n",
       "    </tr>\n",
       "  </thead>\n",
       "  <tbody>\n",
       "    <tr>\n",
       "      <th>0</th>\n",
       "      <td>0</td>\n",
       "      <td>Comp748297$</td>\n",
       "      <td>Comp748297</td>\n",
       "      <td>Proc391839.exe</td>\n",
       "      <td>Proc387473</td>\n",
       "      <td>1</td>\n",
       "    </tr>\n",
       "    <tr>\n",
       "      <th>1</th>\n",
       "      <td>1</td>\n",
       "      <td>Comp563664$</td>\n",
       "      <td>Comp563664</td>\n",
       "      <td>rundll32.exe</td>\n",
       "      <td>services</td>\n",
       "      <td>1</td>\n",
       "    </tr>\n",
       "    <tr>\n",
       "      <th>2</th>\n",
       "      <td>2</td>\n",
       "      <td>User607396</td>\n",
       "      <td>Comp609111</td>\n",
       "      <td>Proc417435.exe</td>\n",
       "      <td>Proc417435</td>\n",
       "      <td>1</td>\n",
       "    </tr>\n",
       "    <tr>\n",
       "      <th>3</th>\n",
       "      <td>3</td>\n",
       "      <td>Comp641702$</td>\n",
       "      <td>Comp641702</td>\n",
       "      <td>Proc249569.exe</td>\n",
       "      <td>services</td>\n",
       "      <td>1</td>\n",
       "    </tr>\n",
       "    <tr>\n",
       "      <th>4</th>\n",
       "      <td>4</td>\n",
       "      <td>Comp157389$</td>\n",
       "      <td>Comp157389</td>\n",
       "      <td>Proc402696.exe</td>\n",
       "      <td>services</td>\n",
       "      <td>1</td>\n",
       "    </tr>\n",
       "  </tbody>\n",
       "</table>\n",
       "</div>"
      ],
      "text/plain": [
       "   Unnamed: 0     UserName      Device     ProcessName ParentProcessName  \\\n",
       "0           0  Comp748297$  Comp748297  Proc391839.exe        Proc387473   \n",
       "1           1  Comp563664$  Comp563664    rundll32.exe          services   \n",
       "2           2   User607396  Comp609111  Proc417435.exe        Proc417435   \n",
       "3           3  Comp641702$  Comp641702  Proc249569.exe          services   \n",
       "4           4  Comp157389$  Comp157389  Proc402696.exe          services   \n",
       "\n",
       "   DailyCount  \n",
       "0           1  \n",
       "1           1  \n",
       "2           1  \n",
       "3           1  \n",
       "4           1  "
      ]
     },
     "execution_count": 4,
     "metadata": {},
     "output_type": "execute_result"
    }
   ],
   "source": [
    "df_p.head()"
   ]
  },
  {
   "cell_type": "code",
   "execution_count": 5,
   "id": "60b8e59c-e113-433c-b11f-385c150f7b54",
   "metadata": {},
   "outputs": [
    {
     "data": {
      "text/html": [
       "<div>\n",
       "<style scoped>\n",
       "    .dataframe tbody tr th:only-of-type {\n",
       "        vertical-align: middle;\n",
       "    }\n",
       "\n",
       "    .dataframe tbody tr th {\n",
       "        vertical-align: top;\n",
       "    }\n",
       "\n",
       "    .dataframe thead th {\n",
       "        text-align: right;\n",
       "    }\n",
       "</style>\n",
       "<table border=\"1\" class=\"dataframe\">\n",
       "  <thead>\n",
       "    <tr style=\"text-align: right;\">\n",
       "      <th></th>\n",
       "      <th>Unnamed: 0</th>\n",
       "      <th>UserName</th>\n",
       "      <th>Device</th>\n",
       "      <th>ProcessName</th>\n",
       "      <th>ParentProcessName</th>\n",
       "      <th>DailyCount</th>\n",
       "    </tr>\n",
       "  </thead>\n",
       "  <tbody>\n",
       "    <tr>\n",
       "      <th>55981613</th>\n",
       "      <td>251545</td>\n",
       "      <td>Comp738970$</td>\n",
       "      <td>Comp738970</td>\n",
       "      <td>Proc207472.exe</td>\n",
       "      <td>svchost</td>\n",
       "      <td>2</td>\n",
       "    </tr>\n",
       "    <tr>\n",
       "      <th>55981614</th>\n",
       "      <td>251546</td>\n",
       "      <td>User925794</td>\n",
       "      <td>Comp097857</td>\n",
       "      <td>cmd.exe</td>\n",
       "      <td>Proc174492</td>\n",
       "      <td>2</td>\n",
       "    </tr>\n",
       "    <tr>\n",
       "      <th>55981615</th>\n",
       "      <td>251547</td>\n",
       "      <td>Comp996714$</td>\n",
       "      <td>Comp996714</td>\n",
       "      <td>Proc612297.exe</td>\n",
       "      <td>services</td>\n",
       "      <td>5</td>\n",
       "    </tr>\n",
       "    <tr>\n",
       "      <th>55981616</th>\n",
       "      <td>251548</td>\n",
       "      <td>Comp391736$</td>\n",
       "      <td>Comp391736</td>\n",
       "      <td>rundll32.exe</td>\n",
       "      <td>Proc247259</td>\n",
       "      <td>2</td>\n",
       "    </tr>\n",
       "    <tr>\n",
       "      <th>55981617</th>\n",
       "      <td>251549</td>\n",
       "      <td>Comp769777$</td>\n",
       "      <td>Comp769777</td>\n",
       "      <td>rundll32.exe</td>\n",
       "      <td>rundll32</td>\n",
       "      <td>3</td>\n",
       "    </tr>\n",
       "  </tbody>\n",
       "</table>\n",
       "</div>"
      ],
      "text/plain": [
       "          Unnamed: 0     UserName      Device     ProcessName  \\\n",
       "55981613      251545  Comp738970$  Comp738970  Proc207472.exe   \n",
       "55981614      251546   User925794  Comp097857         cmd.exe   \n",
       "55981615      251547  Comp996714$  Comp996714  Proc612297.exe   \n",
       "55981616      251548  Comp391736$  Comp391736    rundll32.exe   \n",
       "55981617      251549  Comp769777$  Comp769777    rundll32.exe   \n",
       "\n",
       "         ParentProcessName  DailyCount  \n",
       "55981613           svchost           2  \n",
       "55981614        Proc174492           2  \n",
       "55981615          services           5  \n",
       "55981616        Proc247259           2  \n",
       "55981617          rundll32           3  "
      ]
     },
     "execution_count": 5,
     "metadata": {},
     "output_type": "execute_result"
    }
   ],
   "source": [
    "df_p.tail()"
   ]
  },
  {
   "cell_type": "markdown",
   "id": "3663dabd-9e1c-44a0-8b88-644e15aeaa0f",
   "metadata": {},
   "source": [
    "Here I define the \"Data Quality Report\" that we used back at the beginning of our course, and then in the next block apply it to our imported data. This report tells us how many of each feature is found (hopefully all the same number), how many unique entries there are, and whether there is any missing data in any of these features. In addition it also tells us the data type of each feature, though a lot of features in cybersecurity end up being \"objects\" as they are strings, or they are integers or float values."
   ]
  },
  {
   "cell_type": "code",
   "execution_count": 6,
   "id": "a6651ac4-7be3-4496-b47c-f06f2cda3ebe",
   "metadata": {},
   "outputs": [],
   "source": [
    "def data_qual(df):\n",
    "    global data_quality_report\n",
    "    #DataFrame with columns\n",
    "    columns = pd.DataFrame(list(df.columns.values[1:]))\n",
    "\n",
    "    #DataFrame with data types\n",
    "    data_types = pd.DataFrame(df.dtypes, columns=['Data Type'])\n",
    "\n",
    "    #DataFrame with Count\n",
    "    data_count = pd.DataFrame(df.count(), columns=['Count'])\n",
    "\n",
    "    #DataFrame with unique values\n",
    "    unique_value_counts = pd.DataFrame(columns=['Unique Values'])\n",
    "    for v in list(df.columns.values):\n",
    "        unique_value_counts.loc[v] = [df[v].nunique()]\n",
    "\n",
    "    missing_data_counts = pd.DataFrame(df.isnull().sum(), columns=['Missing Values'])\n",
    "    data_quality_report = data_types.join(data_count).join(unique_value_counts).join(missing_data_counts)\n",
    "    print('Data Quality Report')"
   ]
  },
  {
   "cell_type": "code",
   "execution_count": 7,
   "id": "d352adce-2084-49d8-98b5-4f783e5b5d34",
   "metadata": {},
   "outputs": [
    {
     "name": "stdout",
     "output_type": "stream",
     "text": [
      "Data Quality Report\n",
      "Process Data\n"
     ]
    },
    {
     "data": {
      "text/html": [
       "<div>\n",
       "<style scoped>\n",
       "    .dataframe tbody tr th:only-of-type {\n",
       "        vertical-align: middle;\n",
       "    }\n",
       "\n",
       "    .dataframe tbody tr th {\n",
       "        vertical-align: top;\n",
       "    }\n",
       "\n",
       "    .dataframe thead th {\n",
       "        text-align: right;\n",
       "    }\n",
       "</style>\n",
       "<table border=\"1\" class=\"dataframe\">\n",
       "  <thead>\n",
       "    <tr style=\"text-align: right;\">\n",
       "      <th></th>\n",
       "      <th>Data Type</th>\n",
       "      <th>Count</th>\n",
       "      <th>Unique Values</th>\n",
       "      <th>Missing Values</th>\n",
       "    </tr>\n",
       "  </thead>\n",
       "  <tbody>\n",
       "    <tr>\n",
       "      <th>Unnamed: 0</th>\n",
       "      <td>int64</td>\n",
       "      <td>55981618</td>\n",
       "      <td>1213395</td>\n",
       "      <td>0</td>\n",
       "    </tr>\n",
       "    <tr>\n",
       "      <th>UserName</th>\n",
       "      <td>object</td>\n",
       "      <td>55981618</td>\n",
       "      <td>25320</td>\n",
       "      <td>0</td>\n",
       "    </tr>\n",
       "    <tr>\n",
       "      <th>Device</th>\n",
       "      <td>object</td>\n",
       "      <td>55981618</td>\n",
       "      <td>13476</td>\n",
       "      <td>0</td>\n",
       "    </tr>\n",
       "    <tr>\n",
       "      <th>ProcessName</th>\n",
       "      <td>object</td>\n",
       "      <td>55981618</td>\n",
       "      <td>25373</td>\n",
       "      <td>0</td>\n",
       "    </tr>\n",
       "    <tr>\n",
       "      <th>ParentProcessName</th>\n",
       "      <td>object</td>\n",
       "      <td>55981618</td>\n",
       "      <td>12226</td>\n",
       "      <td>0</td>\n",
       "    </tr>\n",
       "    <tr>\n",
       "      <th>DailyCount</th>\n",
       "      <td>int64</td>\n",
       "      <td>55981618</td>\n",
       "      <td>15374</td>\n",
       "      <td>0</td>\n",
       "    </tr>\n",
       "  </tbody>\n",
       "</table>\n",
       "</div>"
      ],
      "text/plain": [
       "                  Data Type     Count Unique Values  Missing Values\n",
       "Unnamed: 0            int64  55981618       1213395               0\n",
       "UserName             object  55981618         25320               0\n",
       "Device               object  55981618         13476               0\n",
       "ProcessName          object  55981618         25373               0\n",
       "ParentProcessName    object  55981618         12226               0\n",
       "DailyCount            int64  55981618         15374               0"
      ]
     },
     "execution_count": 7,
     "metadata": {},
     "output_type": "execute_result"
    }
   ],
   "source": [
    "data_qual(df_p)\n",
    "print(\"Process Data\")\n",
    "data_quality_report"
   ]
  },
  {
   "cell_type": "markdown",
   "id": "647c833b-f64b-4e8b-bf4e-f6f7da1ee595",
   "metadata": {},
   "source": [
    "We notice that the first column is completely useless and so drop it."
   ]
  },
  {
   "cell_type": "code",
   "execution_count": 4,
   "id": "52b2e882-4357-4b1d-8436-7afbc007bf9f",
   "metadata": {},
   "outputs": [],
   "source": [
    "df_p = df_p.drop(df_p.columns[0],axis=1)"
   ]
  },
  {
   "cell_type": "code",
   "execution_count": 9,
   "id": "0fd91aa4-66ff-43f9-9ee1-d4e2734318ca",
   "metadata": {},
   "outputs": [
    {
     "data": {
      "text/html": [
       "<div>\n",
       "<style scoped>\n",
       "    .dataframe tbody tr th:only-of-type {\n",
       "        vertical-align: middle;\n",
       "    }\n",
       "\n",
       "    .dataframe tbody tr th {\n",
       "        vertical-align: top;\n",
       "    }\n",
       "\n",
       "    .dataframe thead th {\n",
       "        text-align: right;\n",
       "    }\n",
       "</style>\n",
       "<table border=\"1\" class=\"dataframe\">\n",
       "  <thead>\n",
       "    <tr style=\"text-align: right;\">\n",
       "      <th></th>\n",
       "      <th>UserName</th>\n",
       "      <th>Device</th>\n",
       "      <th>ProcessName</th>\n",
       "      <th>ParentProcessName</th>\n",
       "      <th>DailyCount</th>\n",
       "    </tr>\n",
       "  </thead>\n",
       "  <tbody>\n",
       "    <tr>\n",
       "      <th>0</th>\n",
       "      <td>Comp748297$</td>\n",
       "      <td>Comp748297</td>\n",
       "      <td>Proc391839.exe</td>\n",
       "      <td>Proc387473</td>\n",
       "      <td>1</td>\n",
       "    </tr>\n",
       "    <tr>\n",
       "      <th>1</th>\n",
       "      <td>Comp563664$</td>\n",
       "      <td>Comp563664</td>\n",
       "      <td>rundll32.exe</td>\n",
       "      <td>services</td>\n",
       "      <td>1</td>\n",
       "    </tr>\n",
       "    <tr>\n",
       "      <th>2</th>\n",
       "      <td>User607396</td>\n",
       "      <td>Comp609111</td>\n",
       "      <td>Proc417435.exe</td>\n",
       "      <td>Proc417435</td>\n",
       "      <td>1</td>\n",
       "    </tr>\n",
       "    <tr>\n",
       "      <th>3</th>\n",
       "      <td>Comp641702$</td>\n",
       "      <td>Comp641702</td>\n",
       "      <td>Proc249569.exe</td>\n",
       "      <td>services</td>\n",
       "      <td>1</td>\n",
       "    </tr>\n",
       "    <tr>\n",
       "      <th>4</th>\n",
       "      <td>Comp157389$</td>\n",
       "      <td>Comp157389</td>\n",
       "      <td>Proc402696.exe</td>\n",
       "      <td>services</td>\n",
       "      <td>1</td>\n",
       "    </tr>\n",
       "  </tbody>\n",
       "</table>\n",
       "</div>"
      ],
      "text/plain": [
       "      UserName      Device     ProcessName ParentProcessName  DailyCount\n",
       "0  Comp748297$  Comp748297  Proc391839.exe        Proc387473           1\n",
       "1  Comp563664$  Comp563664    rundll32.exe          services           1\n",
       "2   User607396  Comp609111  Proc417435.exe        Proc417435           1\n",
       "3  Comp641702$  Comp641702  Proc249569.exe          services           1\n",
       "4  Comp157389$  Comp157389  Proc402696.exe          services           1"
      ]
     },
     "execution_count": 9,
     "metadata": {},
     "output_type": "execute_result"
    }
   ],
   "source": [
    "df_p.head()"
   ]
  },
  {
   "cell_type": "markdown",
   "id": "52ba4104-ff86-4d60-a091-e1327131c822",
   "metadata": {},
   "source": [
    "The below function is not that useful but gives an alternative representation of what is in the data using the `pd.describe` function. However I had to seperate the `int64` data and the `object` data as they do not look good in a dataframe together."
   ]
  },
  {
   "cell_type": "code",
   "execution_count": 10,
   "id": "a8419b82-5993-4a32-ac1c-1a836c386ff0",
   "metadata": {},
   "outputs": [],
   "source": [
    "x = []\n",
    "for i in df_p.columns:\n",
    "    if i == \"DailyCount\":\n",
    "        global df_int\n",
    "        df_int = df = df_p[str(i)].describe()\n",
    "    else:\n",
    "        df = df_p[str(i)].describe()\n",
    "        x.append(df)\n",
    "df_desc = pd.concat(x,axis=1)"
   ]
  },
  {
   "cell_type": "code",
   "execution_count": 11,
   "id": "a45de4a3-ed34-49e4-ad83-8dc35f5d6f51",
   "metadata": {},
   "outputs": [
    {
     "data": {
      "text/html": [
       "<div>\n",
       "<style scoped>\n",
       "    .dataframe tbody tr th:only-of-type {\n",
       "        vertical-align: middle;\n",
       "    }\n",
       "\n",
       "    .dataframe tbody tr th {\n",
       "        vertical-align: top;\n",
       "    }\n",
       "\n",
       "    .dataframe thead th {\n",
       "        text-align: right;\n",
       "    }\n",
       "</style>\n",
       "<table border=\"1\" class=\"dataframe\">\n",
       "  <thead>\n",
       "    <tr style=\"text-align: right;\">\n",
       "      <th></th>\n",
       "      <th>UserName</th>\n",
       "      <th>Device</th>\n",
       "      <th>ProcessName</th>\n",
       "      <th>ParentProcessName</th>\n",
       "    </tr>\n",
       "  </thead>\n",
       "  <tbody>\n",
       "    <tr>\n",
       "      <th>count</th>\n",
       "      <td>55981618</td>\n",
       "      <td>55981618</td>\n",
       "      <td>55981618</td>\n",
       "      <td>55981618</td>\n",
       "    </tr>\n",
       "    <tr>\n",
       "      <th>unique</th>\n",
       "      <td>25320</td>\n",
       "      <td>13476</td>\n",
       "      <td>25373</td>\n",
       "      <td>12226</td>\n",
       "    </tr>\n",
       "    <tr>\n",
       "      <th>top</th>\n",
       "      <td>Scanner</td>\n",
       "      <td>EnterpriseAppServer</td>\n",
       "      <td>rundll32.exe</td>\n",
       "      <td>services</td>\n",
       "    </tr>\n",
       "    <tr>\n",
       "      <th>freq</th>\n",
       "      <td>255383</td>\n",
       "      <td>451831</td>\n",
       "      <td>2325974</td>\n",
       "      <td>12633664</td>\n",
       "    </tr>\n",
       "  </tbody>\n",
       "</table>\n",
       "</div>"
      ],
      "text/plain": [
       "        UserName               Device   ProcessName ParentProcessName\n",
       "count   55981618             55981618      55981618          55981618\n",
       "unique     25320                13476         25373             12226\n",
       "top      Scanner  EnterpriseAppServer  rundll32.exe          services\n",
       "freq      255383               451831       2325974          12633664"
      ]
     },
     "execution_count": 11,
     "metadata": {},
     "output_type": "execute_result"
    }
   ],
   "source": [
    "df_desc"
   ]
  },
  {
   "cell_type": "code",
   "execution_count": 12,
   "id": "6bcc4d6a-39f3-4ae1-992e-1d32d95810fc",
   "metadata": {},
   "outputs": [
    {
     "data": {
      "text/plain": [
       "count    5.598162e+07\n",
       "mean     2.602635e+01\n",
       "std      1.234955e+03\n",
       "min      1.000000e+00\n",
       "25%      1.000000e+00\n",
       "50%      2.000000e+00\n",
       "75%      5.000000e+00\n",
       "max      9.025670e+05\n",
       "Name: DailyCount, dtype: float64"
      ]
     },
     "execution_count": 12,
     "metadata": {},
     "output_type": "execute_result"
    }
   ],
   "source": [
    "df_int"
   ]
  },
  {
   "cell_type": "markdown",
   "id": "82ee9178-daeb-4283-b970-e9fd6971889c",
   "metadata": {},
   "source": [
    "### Frequencies\n",
    "\n",
    "In this subsection I will mostly be looking at the frequency of various variables to get an impression of not necessarily importance but the most common of various features vfound throughout the data.\n",
    "\n",
    "We start by defining an iterative plock that for each feature counts how many times each different entry appears and adds this to a list which we can then access in order for each variable."
   ]
  },
  {
   "cell_type": "code",
   "execution_count": 9,
   "id": "9d6047bb-5473-4ed8-8f48-ca436dde2f6c",
   "metadata": {},
   "outputs": [],
   "source": [
    "x = [\"UserName\",\"Device\",\"ProcessName\",\"ParentProcessName\"]\n",
    "counts = []\n",
    "for i in x:\n",
    "    z = df_p.groupby(i).size().sort_values(ascending=False)\n",
    "    z = pd.DataFrame(z)\n",
    "    z.reset_index(level=0, inplace=True)\n",
    "    z.columns = [i,'Count']\n",
    "    counts.append(z)"
   ]
  },
  {
   "cell_type": "markdown",
   "id": "192705e5-0b92-4a62-a865-1df54b769443",
   "metadata": {},
   "source": [
    "Top 15 most frequently occuring UserNames of each feature:"
   ]
  },
  {
   "cell_type": "code",
   "execution_count": 14,
   "id": "461017fa-bc01-4814-b9dd-27b11991cc07",
   "metadata": {},
   "outputs": [
    {
     "data": {
      "text/html": [
       "<div>\n",
       "<style scoped>\n",
       "    .dataframe tbody tr th:only-of-type {\n",
       "        vertical-align: middle;\n",
       "    }\n",
       "\n",
       "    .dataframe tbody tr th {\n",
       "        vertical-align: top;\n",
       "    }\n",
       "\n",
       "    .dataframe thead th {\n",
       "        text-align: right;\n",
       "    }\n",
       "</style>\n",
       "<table border=\"1\" class=\"dataframe\">\n",
       "  <thead>\n",
       "    <tr style=\"text-align: right;\">\n",
       "      <th></th>\n",
       "      <th>UserName</th>\n",
       "      <th>Count</th>\n",
       "      <th>Device</th>\n",
       "      <th>Count</th>\n",
       "      <th>ProcessName</th>\n",
       "      <th>Count</th>\n",
       "      <th>ParentProcessName</th>\n",
       "      <th>Count</th>\n",
       "    </tr>\n",
       "  </thead>\n",
       "  <tbody>\n",
       "    <tr>\n",
       "      <th>0</th>\n",
       "      <td>Scanner</td>\n",
       "      <td>255383.0</td>\n",
       "      <td>EnterpriseAppServer</td>\n",
       "      <td>451831.0</td>\n",
       "      <td>rundll32.exe</td>\n",
       "      <td>2325974</td>\n",
       "      <td>services</td>\n",
       "      <td>12633664.0</td>\n",
       "    </tr>\n",
       "    <tr>\n",
       "      <th>1</th>\n",
       "      <td>User272607</td>\n",
       "      <td>73934.0</td>\n",
       "      <td>Comp149394</td>\n",
       "      <td>28007.0</td>\n",
       "      <td>cscript.exe</td>\n",
       "      <td>1687233</td>\n",
       "      <td>svchost</td>\n",
       "      <td>5742175.0</td>\n",
       "    </tr>\n",
       "    <tr>\n",
       "      <th>2</th>\n",
       "      <td>EnterpriseAppServer$</td>\n",
       "      <td>38552.0</td>\n",
       "      <td>Comp460411</td>\n",
       "      <td>26771.0</td>\n",
       "      <td>Proc857443.exe</td>\n",
       "      <td>1644561</td>\n",
       "      <td>None</td>\n",
       "      <td>4343007.0</td>\n",
       "    </tr>\n",
       "    <tr>\n",
       "      <th>3</th>\n",
       "      <td>Administrator</td>\n",
       "      <td>29443.0</td>\n",
       "      <td>Comp978490</td>\n",
       "      <td>25866.0</td>\n",
       "      <td>Proc364675.exe</td>\n",
       "      <td>1499525</td>\n",
       "      <td>Proc089893</td>\n",
       "      <td>3499148.0</td>\n",
       "    </tr>\n",
       "    <tr>\n",
       "      <th>4</th>\n",
       "      <td>User414014</td>\n",
       "      <td>18593.0</td>\n",
       "      <td>Comp897269</td>\n",
       "      <td>24757.0</td>\n",
       "      <td>conhost.exe</td>\n",
       "      <td>1231137</td>\n",
       "      <td>taskeng</td>\n",
       "      <td>2496930.0</td>\n",
       "    </tr>\n",
       "    <tr>\n",
       "      <th>5</th>\n",
       "      <td>AppService</td>\n",
       "      <td>17675.0</td>\n",
       "      <td>Comp291378</td>\n",
       "      <td>24704.0</td>\n",
       "      <td>dllhost.exe</td>\n",
       "      <td>969474</td>\n",
       "      <td>Proc247259</td>\n",
       "      <td>2361635.0</td>\n",
       "    </tr>\n",
       "    <tr>\n",
       "      <th>6</th>\n",
       "      <td>User724397</td>\n",
       "      <td>16334.0</td>\n",
       "      <td>Comp420961</td>\n",
       "      <td>24387.0</td>\n",
       "      <td>wmiprvse.exe</td>\n",
       "      <td>963022</td>\n",
       "      <td>Proc443607</td>\n",
       "      <td>1415832.0</td>\n",
       "    </tr>\n",
       "    <tr>\n",
       "      <th>7</th>\n",
       "      <td>Comp916004$</td>\n",
       "      <td>11648.0</td>\n",
       "      <td>Comp133838</td>\n",
       "      <td>23279.0</td>\n",
       "      <td>taskhost.exe</td>\n",
       "      <td>938684</td>\n",
       "      <td>Proc442764</td>\n",
       "      <td>1336381.0</td>\n",
       "    </tr>\n",
       "    <tr>\n",
       "      <th>8</th>\n",
       "      <td>Comp943585$</td>\n",
       "      <td>10467.0</td>\n",
       "      <td>Comp664214</td>\n",
       "      <td>22566.0</td>\n",
       "      <td>svchost.exe</td>\n",
       "      <td>866240</td>\n",
       "      <td>cmd</td>\n",
       "      <td>1275235.0</td>\n",
       "    </tr>\n",
       "    <tr>\n",
       "      <th>9</th>\n",
       "      <td>User703614</td>\n",
       "      <td>10107.0</td>\n",
       "      <td>Comp354553</td>\n",
       "      <td>21900.0</td>\n",
       "      <td>Proc453954.exe</td>\n",
       "      <td>865180</td>\n",
       "      <td>winlogon</td>\n",
       "      <td>1240798.0</td>\n",
       "    </tr>\n",
       "    <tr>\n",
       "      <th>10</th>\n",
       "      <td>User180900</td>\n",
       "      <td>10044.0</td>\n",
       "      <td>Comp032115</td>\n",
       "      <td>21880.0</td>\n",
       "      <td>cmd.exe</td>\n",
       "      <td>837486</td>\n",
       "      <td>wmiprvse</td>\n",
       "      <td>1095673.0</td>\n",
       "    </tr>\n",
       "    <tr>\n",
       "      <th>11</th>\n",
       "      <td>User936561</td>\n",
       "      <td>9834.0</td>\n",
       "      <td>Comp426835</td>\n",
       "      <td>20205.0</td>\n",
       "      <td>taskeng.exe</td>\n",
       "      <td>829240</td>\n",
       "      <td>Proc364675</td>\n",
       "      <td>1014784.0</td>\n",
       "    </tr>\n",
       "    <tr>\n",
       "      <th>12</th>\n",
       "      <td>User632036</td>\n",
       "      <td>9348.0</td>\n",
       "      <td>Comp525429</td>\n",
       "      <td>20099.0</td>\n",
       "      <td>Proc612297.exe</td>\n",
       "      <td>828793</td>\n",
       "      <td>Proc721583</td>\n",
       "      <td>971399.0</td>\n",
       "    </tr>\n",
       "    <tr>\n",
       "      <th>13</th>\n",
       "      <td>Comp897367$</td>\n",
       "      <td>8693.0</td>\n",
       "      <td>Comp704114</td>\n",
       "      <td>19650.0</td>\n",
       "      <td>Proc782241.exe</td>\n",
       "      <td>816011</td>\n",
       "      <td>Proc387473</td>\n",
       "      <td>851811.0</td>\n",
       "    </tr>\n",
       "    <tr>\n",
       "      <th>14</th>\n",
       "      <td>Comp075349$</td>\n",
       "      <td>8659.0</td>\n",
       "      <td>Comp607016</td>\n",
       "      <td>19213.0</td>\n",
       "      <td>Proc957556.exe</td>\n",
       "      <td>798558</td>\n",
       "      <td>csrss</td>\n",
       "      <td>806975.0</td>\n",
       "    </tr>\n",
       "  </tbody>\n",
       "</table>\n",
       "</div>"
      ],
      "text/plain": [
       "                UserName     Count               Device     Count  \\\n",
       "0                Scanner  255383.0  EnterpriseAppServer  451831.0   \n",
       "1             User272607   73934.0           Comp149394   28007.0   \n",
       "2   EnterpriseAppServer$   38552.0           Comp460411   26771.0   \n",
       "3          Administrator   29443.0           Comp978490   25866.0   \n",
       "4             User414014   18593.0           Comp897269   24757.0   \n",
       "5             AppService   17675.0           Comp291378   24704.0   \n",
       "6             User724397   16334.0           Comp420961   24387.0   \n",
       "7            Comp916004$   11648.0           Comp133838   23279.0   \n",
       "8            Comp943585$   10467.0           Comp664214   22566.0   \n",
       "9             User703614   10107.0           Comp354553   21900.0   \n",
       "10            User180900   10044.0           Comp032115   21880.0   \n",
       "11            User936561    9834.0           Comp426835   20205.0   \n",
       "12            User632036    9348.0           Comp525429   20099.0   \n",
       "13           Comp897367$    8693.0           Comp704114   19650.0   \n",
       "14           Comp075349$    8659.0           Comp607016   19213.0   \n",
       "\n",
       "       ProcessName    Count ParentProcessName       Count  \n",
       "0     rundll32.exe  2325974          services  12633664.0  \n",
       "1      cscript.exe  1687233           svchost   5742175.0  \n",
       "2   Proc857443.exe  1644561              None   4343007.0  \n",
       "3   Proc364675.exe  1499525        Proc089893   3499148.0  \n",
       "4      conhost.exe  1231137           taskeng   2496930.0  \n",
       "5      dllhost.exe   969474        Proc247259   2361635.0  \n",
       "6     wmiprvse.exe   963022        Proc443607   1415832.0  \n",
       "7     taskhost.exe   938684        Proc442764   1336381.0  \n",
       "8      svchost.exe   866240               cmd   1275235.0  \n",
       "9   Proc453954.exe   865180          winlogon   1240798.0  \n",
       "10         cmd.exe   837486          wmiprvse   1095673.0  \n",
       "11     taskeng.exe   829240        Proc364675   1014784.0  \n",
       "12  Proc612297.exe   828793        Proc721583    971399.0  \n",
       "13  Proc782241.exe   816011        Proc387473    851811.0  \n",
       "14  Proc957556.exe   798558             csrss    806975.0  "
      ]
     },
     "execution_count": 14,
     "metadata": {},
     "output_type": "execute_result"
    }
   ],
   "source": [
    "df_counts = pd.concat(counts,axis=1)\n",
    "df_counts.head(15)"
   ]
  },
  {
   "cell_type": "markdown",
   "id": "7b4a2bf7-58b6-4e0e-a9c0-14bf46c150e4",
   "metadata": {},
   "source": [
    "And then another quick check of the unique entries in each feature."
   ]
  },
  {
   "cell_type": "code",
   "execution_count": 15,
   "id": "14abdb4c-a260-4d55-9fa2-6434246ef524",
   "metadata": {},
   "outputs": [
    {
     "name": "stdout",
     "output_type": "stream",
     "text": [
      "UserName\n",
      "Length = 25320\n",
      "\n",
      "Device\n",
      "Length = 13476\n",
      "\n",
      "ProcessName\n",
      "Length = 25373\n",
      "\n",
      "ParentProcessName\n",
      "Length = 12226\n",
      "\n"
     ]
    }
   ],
   "source": [
    "for i in range(0,4):\n",
    "    print(counts[i].columns[0])\n",
    "    print(\"Length = \"+str(len(counts[i])))\n",
    "    print(\"\")"
   ]
  },
  {
   "cell_type": "markdown",
   "id": "ce32a01c-6c47-4c30-a08b-6a4cdcb89f19",
   "metadata": {},
   "source": [
    "In the following functions I was trying to take a look at how many in the `UserName` function had over a certain threshold of counts. It struck me that there seems to be very quick fall off in number of occurences, yet a lot of the `UserNames` still have a considerable number of entries. I see that 17999 of the entries occur more than 1000 times out of the 25320 total unique entries."
   ]
  },
  {
   "cell_type": "code",
   "execution_count": 16,
   "id": "4648d242-0946-42da-a100-70dca8b463a5",
   "metadata": {},
   "outputs": [
    {
     "name": "stdout",
     "output_type": "stream",
     "text": [
      "23047\n"
     ]
    }
   ],
   "source": [
    "counts[0].loc[:,\"Count\"]\n",
    "i = 0\n",
    "x = counts[0].loc[:,\"Count\"][0]\n",
    "while x > 100:\n",
    "    x = counts[0].loc[:,\"Count\"][i]\n",
    "    i = i + 1\n",
    "print(i)"
   ]
  },
  {
   "cell_type": "code",
   "execution_count": 17,
   "id": "91177084-58f8-4d43-b84b-9bd150c5c8a8",
   "metadata": {},
   "outputs": [
    {
     "name": "stdout",
     "output_type": "stream",
     "text": [
      "17999\n"
     ]
    }
   ],
   "source": [
    "counts[0].loc[:,\"Count\"]\n",
    "i = 0\n",
    "x = counts[0].loc[:,\"Count\"][0]\n",
    "while x > 1000:\n",
    "    x = counts[0].loc[:,\"Count\"][i]\n",
    "    i = i + 1\n",
    "print(i)"
   ]
  },
  {
   "cell_type": "markdown",
   "id": "3f4dba6b-7990-453f-8d17-871a89110f79",
   "metadata": {},
   "source": [
    "Following on from the above I decided to plot the fall off of the counts for each feature to get a visual representation. I start off experimenting with the top few where the most dramatic changes happen."
   ]
  },
  {
   "cell_type": "code",
   "execution_count": 21,
   "id": "72f7bfda-ee25-4ba7-9b81-483529507bb4",
   "metadata": {},
   "outputs": [
    {
     "data": {
      "image/png": "[encoded data removed]",
      "text/plain": [
       "<Figure size 1800x576 with 1 Axes>"
      ]
     },
     "metadata": {
      "needs_background": "light"
     },
     "output_type": "display_data"
    }
   ],
   "source": [
    "x=counts[0].loc[:,\"UserName\"].head(150)\n",
    "y=counts[0].loc[:,\"Count\"].head(150)\n",
    "\n",
    "plt.rcParams[\"figure.figsize\"] = (25,8)\n",
    "plt.scatter(x,y,marker=\"1\",c=\"Blue\")\n",
    "plt.xticks(rotation=90)\n",
    "plt.savefig(\"./plots/UserNames_Head_150.png\")\n",
    "plt.show()"
   ]
  },
  {
   "cell_type": "markdown",
   "id": "d1d73dfa-4eb4-48a7-8525-2b2035b2a799",
   "metadata": {},
   "source": [
    "I take a look at the tail end of the counts as well as the general trend in the head is that it looks quite flat, however we see that there is actually a steady decrease in entries, with considerably less variation in the least occurent UserNames."
   ]
  },
  {
   "cell_type": "code",
   "execution_count": 24,
   "id": "a5d5fbba-e859-49a5-a889-9bddd63e661c",
   "metadata": {},
   "outputs": [
    {
     "data": {
      "image/png": "[encoded data removed]",
      "text/plain": [
       "<Figure size 1800x576 with 1 Axes>"
      ]
     },
     "metadata": {
      "needs_background": "light"
     },
     "output_type": "display_data"
    },
    {
     "name": "stdout",
     "output_type": "stream",
     "text": [
      "Completed in :0:00:02.291373\n"
     ]
    }
   ],
   "source": [
    "dtn()\n",
    "x=counts[0].loc[:,\"UserName\"].tail(1000)\n",
    "y=counts[0].loc[:,\"Count\"].tail(1000)\n",
    "\n",
    "plt.rcParams[\"figure.figsize\"] = (25,8)\n",
    "plt.scatter(x,y,marker=\".\",c=\"Blue\")\n",
    "plt.tick_params(axis=\"x\", which=\"both\", bottom=False, top=False, labelbottom=False)\n",
    "plt.savefig(\"./plots/UserNames_Tail_1000.png\")\n",
    "plt.show()\n",
    "gen_end()"
   ]
  },
  {
   "cell_type": "markdown",
   "id": "e62a94f6-32a0-4d74-a474-97db3ad33f53",
   "metadata": {},
   "source": [
    "I then decided it would be worth plotting all of the data to get an impression for the shape, even if it is hard to distinguish individual values - especially as I removed the x-axis labels. The first time I tried to plot this it took a long time but removing the x-axis label decreased the computation time significantly."
   ]
  },
  {
   "cell_type": "code",
   "execution_count": 27,
   "id": "3264841a-53cc-43ac-ba06-8a59d8887958",
   "metadata": {},
   "outputs": [
    {
     "data": {
      "image/png": "[encoded data removed]",
      "text/plain": [
       "<Figure size 1800x576 with 1 Axes>"
      ]
     },
     "metadata": {
      "needs_background": "light"
     },
     "output_type": "display_data"
    },
    {
     "name": "stdout",
     "output_type": "stream",
     "text": [
      "Completed in :0:00:54.714497\n"
     ]
    }
   ],
   "source": [
    "dtn()\n",
    "x=counts[0].loc[:,\"UserName\"]\n",
    "y=counts[0].loc[:,\"Count\"]\n",
    "\n",
    "plt.rcParams[\"figure.figsize\"] = (25,8)\n",
    "plt.scatter(x,y,marker=\"x\",c=\"Blue\")\n",
    "plt.tick_params(axis=\"x\", which=\"both\", bottom=False, top=False, labelbottom=False)\n",
    "plt.savefig(\"./plots/UserNames_Freq.png\")\n",
    "plt.show()\n",
    "gen_end()"
   ]
  },
  {
   "cell_type": "markdown",
   "id": "21b1404c-ae7d-4db5-9738-e779a9a72498",
   "metadata": {},
   "source": [
    "Once again the end of the data looks as if it's a steady decrease so I had a look at the last 25000 entries (baring in mind there is only 25320 total entries) to see if it is as straight as it seems. It is shown that the decrease in frequency is relatively steady but not completely straight, but still quite consistently large counts of each term appearing!"
   ]
  },
  {
   "cell_type": "code",
   "execution_count": 28,
   "id": "873df0c2-c865-4b7e-a37c-c767b7e63b13",
   "metadata": {},
   "outputs": [
    {
     "data": {
      "image/png": "[encoded data removed]",
      "text/plain": [
       "<Figure size 1800x576 with 1 Axes>"
      ]
     },
     "metadata": {
      "needs_background": "light"
     },
     "output_type": "display_data"
    },
    {
     "name": "stdout",
     "output_type": "stream",
     "text": [
      "Completed in :0:00:54.158500\n"
     ]
    }
   ],
   "source": [
    "dtn()\n",
    "x=counts[0].loc[:,\"UserName\"].tail(25000)\n",
    "y=counts[0].loc[:,\"Count\"].tail(25000)\n",
    "\n",
    "plt.rcParams[\"figure.figsize\"] = (25,8)\n",
    "plt.scatter(x,y,marker=\"x\",c=\"Blue\")\n",
    "plt.tick_params(axis=\"x\", which=\"both\", bottom=False, top=False, labelbottom=False)\n",
    "plt.savefig(\"./plots/UserNames_Tail_25000.png\")\n",
    "plt.show()\n",
    "gen_end()"
   ]
  },
  {
   "cell_type": "markdown",
   "id": "8189cdf3-5cdb-4dab-8383-0fe03dedf491",
   "metadata": {},
   "source": [
    "I now proceed to plot the top 150, and then the whole data for the remaining features - each represented by a different colour graph."
   ]
  },
  {
   "cell_type": "code",
   "execution_count": 29,
   "id": "5dbc11cd-1d0a-4b90-b6f6-63184b06dfe8",
   "metadata": {},
   "outputs": [
    {
     "data": {
      "image/png": "[encoded data removed]",
      "text/plain": [
       "<Figure size 1800x576 with 1 Axes>"
      ]
     },
     "metadata": {
      "needs_background": "light"
     },
     "output_type": "display_data"
    }
   ],
   "source": [
    "x=counts[1].loc[:,\"Device\"].head(150)\n",
    "y=counts[1].loc[:,\"Count\"].head(150)\n",
    "\n",
    "plt.rcParams[\"figure.figsize\"] = (25,8)\n",
    "plt.scatter(x,y,marker=\"1\",c=\"Orange\")\n",
    "plt.xticks(rotation=90)\n",
    "plt.savefig(\"./plots/Device_Head_150.png\")\n",
    "plt.show()"
   ]
  },
  {
   "cell_type": "code",
   "execution_count": 36,
   "id": "e6ebb032-a111-4f4f-9073-8fafaffb0b6f",
   "metadata": {},
   "outputs": [
    {
     "data": {
      "image/png": "[encoded data removed]",
      "text/plain": [
       "<Figure size 1800x576 with 1 Axes>"
      ]
     },
     "metadata": {
      "needs_background": "light"
     },
     "output_type": "display_data"
    },
    {
     "name": "stdout",
     "output_type": "stream",
     "text": [
      "Completed in :0:00:29.646611\n"
     ]
    }
   ],
   "source": [
    "dtn()\n",
    "x=counts[1].loc[:,\"Device\"]\n",
    "y=counts[1].loc[:,\"Count\"]\n",
    "\n",
    "plt.rcParams[\"figure.figsize\"] = (25,8)\n",
    "plt.scatter(x,y,marker=\"x\",c=\"Orange\")\n",
    "plt.tick_params(axis=\"x\", which=\"both\", bottom=False, top=False, labelbottom=False)\n",
    "plt.savefig(\"./plots/Device_Freq.png\")\n",
    "plt.show()\n",
    "\n",
    "gen_end()"
   ]
  },
  {
   "cell_type": "code",
   "execution_count": 31,
   "id": "6af24d3a-868e-46c2-ac0d-763a2a557fed",
   "metadata": {},
   "outputs": [
    {
     "data": {
      "image/png": "[encoded data removed]",
      "text/plain": [
       "<Figure size 1800x576 with 1 Axes>"
      ]
     },
     "metadata": {
      "needs_background": "light"
     },
     "output_type": "display_data"
    }
   ],
   "source": [
    "x=counts[2].loc[:,\"ProcessName\"].head(150)\n",
    "y=counts[2].loc[:,\"Count\"].head(150)\n",
    "\n",
    "plt.rcParams[\"figure.figsize\"] = (25,8)\n",
    "plt.scatter(x,y,marker=\"1\",c=\"Green\")\n",
    "plt.xticks(rotation=90)\n",
    "plt.savefig(\"./plots/ProcessName_Head_150.png\")\n",
    "plt.show()"
   ]
  },
  {
   "cell_type": "code",
   "execution_count": 37,
   "id": "3fcd9425-b0cd-4b60-babd-dc79c3963cc4",
   "metadata": {},
   "outputs": [
    {
     "data": {
      "image/png": "[encoded data removed]",
      "text/plain": [
       "<Figure size 1800x576 with 1 Axes>"
      ]
     },
     "metadata": {
      "needs_background": "light"
     },
     "output_type": "display_data"
    },
    {
     "name": "stdout",
     "output_type": "stream",
     "text": [
      "Completed in :0:00:58.066941\n"
     ]
    }
   ],
   "source": [
    "dtn()\n",
    "x=counts[2].loc[:,\"ProcessName\"]\n",
    "y=counts[2].loc[:,\"Count\"]\n",
    "\n",
    "plt.rcParams[\"figure.figsize\"] = (25,8)\n",
    "plt.scatter(x,y,marker=\"x\",c=\"Green\")\n",
    "plt.tick_params(axis=\"x\", which=\"both\", bottom=False, top=False, labelbottom=False)\n",
    "plt.savefig(\"./plots/ProcessName_Freq.png\")\n",
    "plt.show()\n",
    "\n",
    "gen_end()"
   ]
  },
  {
   "cell_type": "code",
   "execution_count": 33,
   "id": "02606edb-92b8-4ad7-9680-93c8bc2ef075",
   "metadata": {},
   "outputs": [
    {
     "data": {
      "image/png": "[encoded data removed]",
      "text/plain": [
       "<Figure size 1800x576 with 1 Axes>"
      ]
     },
     "metadata": {
      "needs_background": "light"
     },
     "output_type": "display_data"
    }
   ],
   "source": [
    "x=counts[3].loc[:,\"ParentProcessName\"].head(150)\n",
    "y=counts[3].loc[:,\"Count\"].head(150)\n",
    "\n",
    "plt.rcParams[\"figure.figsize\"] = (25,8)\n",
    "plt.scatter(x,y,marker=\"1\",c=\"Red\")\n",
    "plt.xticks(rotation=90)\n",
    "plt.savefig(\"./plots/ParentProcessName_Head_150.png\")\n",
    "plt.show()"
   ]
  },
  {
   "cell_type": "code",
   "execution_count": 38,
   "id": "83b16521-6350-4eb3-a943-6d423f3db2ff",
   "metadata": {},
   "outputs": [
    {
     "data": {
      "image/png": "[encoded data removed]",
      "text/plain": [
       "<Figure size 1800x576 with 1 Axes>"
      ]
     },
     "metadata": {
      "needs_background": "light"
     },
     "output_type": "display_data"
    },
    {
     "name": "stdout",
     "output_type": "stream",
     "text": [
      "Completed in :0:00:27.505919\n"
     ]
    }
   ],
   "source": [
    "dtn()\n",
    "\n",
    "x=counts[3].loc[:,\"ParentProcessName\"]\n",
    "y=counts[3].loc[:,\"Count\"]\n",
    "\n",
    "plt.rcParams[\"figure.figsize\"] = (25,8)\n",
    "plt.scatter(x,y,marker=\"x\",c=\"Red\")\n",
    "plt.tick_params(axis=\"x\", which=\"both\", bottom=False, top=False, labelbottom=False)\n",
    "plt.savefig(\"./plots/ParentProcessName_Freq.png\")\n",
    "plt.show()\n",
    "\n",
    "gen_end()"
   ]
  },
  {
   "cell_type": "markdown",
   "id": "7a76e1cc-a973-4862-a4bd-b0ca130a38b7",
   "metadata": {},
   "source": [
    "Beneath is an incomplete small test as I wasn't sure whether computers listed as (using the example below) `Comp304440$` Had accidentally added the dollar sign as an additional character however the small test seems to indicate that that is the intended computer name, though I am not sure if there could be any other issues here right now - perhaps worth further investigation to check that there are not the same UserName being logged as different entries."
   ]
  },
  {
   "cell_type": "code",
   "execution_count": 35,
   "id": "f333b371-462a-41f5-98ad-5ada0e19164d",
   "metadata": {},
   "outputs": [
    {
     "name": "stdout",
     "output_type": "stream",
     "text": [
      "dollar exists\n"
     ]
    }
   ],
   "source": [
    "x=0\n",
    "y=0\n",
    "for i in counts[0][\"UserName\"]:\n",
    "    if x==0:\n",
    "        if i == \"Comp304440$\":\n",
    "            print(\"dollar exists\")\n",
    "            x=1\n",
    "    if y==0:\n",
    "        if i == \"Comp304440\":\n",
    "            print(\"non-dollar exists\")\n",
    "            y=1"
   ]
  },
  {
   "cell_type": "markdown",
   "id": "4b22be00-7207-4622-8602-7ea9940fe36d",
   "metadata": {},
   "source": [
    "## Network plotting\n",
    "\n",
    "The below is an attempt at getting the top 100 most occuring UserNames to try and reduce the strain on creating a network plot, however this didn't seem to drastically effect results and I ended up just using the base data for most of the plots that follow."
   ]
  },
  {
   "cell_type": "code",
   "execution_count": 33,
   "id": "a7398350-944c-4cc6-bc62-35d1308a7ac8",
   "metadata": {},
   "outputs": [],
   "source": [
    "top_100 = counts[0][\"UserName\"].head(100)\n",
    "df_un_top_100 = df_p[df_p.UserName.isin(top_100)]"
   ]
  },
  {
   "cell_type": "code",
   "execution_count": 34,
   "id": "b676d76a-1e8c-4d6e-a1a1-beef0d1bedc1",
   "metadata": {},
   "outputs": [
    {
     "data": {
      "text/html": [
       "<div>\n",
       "<style scoped>\n",
       "    .dataframe tbody tr th:only-of-type {\n",
       "        vertical-align: middle;\n",
       "    }\n",
       "\n",
       "    .dataframe tbody tr th {\n",
       "        vertical-align: top;\n",
       "    }\n",
       "\n",
       "    .dataframe thead th {\n",
       "        text-align: right;\n",
       "    }\n",
       "</style>\n",
       "<table border=\"1\" class=\"dataframe\">\n",
       "  <thead>\n",
       "    <tr style=\"text-align: right;\">\n",
       "      <th></th>\n",
       "      <th>UserName</th>\n",
       "      <th>Device</th>\n",
       "      <th>ProcessName</th>\n",
       "      <th>ParentProcessName</th>\n",
       "      <th>DailyCount</th>\n",
       "    </tr>\n",
       "  </thead>\n",
       "  <tbody>\n",
       "    <tr>\n",
       "      <th>62</th>\n",
       "      <td>ActiveDirectory$</td>\n",
       "      <td>ActiveDirectory</td>\n",
       "      <td>Proc536347.exe</td>\n",
       "      <td>services</td>\n",
       "      <td>7</td>\n",
       "    </tr>\n",
       "    <tr>\n",
       "      <th>89</th>\n",
       "      <td>Comp380437$</td>\n",
       "      <td>Comp380437</td>\n",
       "      <td>searchprotocolhost.exe</td>\n",
       "      <td>Proc443607</td>\n",
       "      <td>73</td>\n",
       "    </tr>\n",
       "    <tr>\n",
       "      <th>122</th>\n",
       "      <td>Scanner</td>\n",
       "      <td>Comp547538</td>\n",
       "      <td>Proc453954.exe</td>\n",
       "      <td>cmd</td>\n",
       "      <td>1</td>\n",
       "    </tr>\n",
       "    <tr>\n",
       "      <th>146</th>\n",
       "      <td>Scanner</td>\n",
       "      <td>Comp373203</td>\n",
       "      <td>Proc168327.exe</td>\n",
       "      <td>cmd</td>\n",
       "      <td>1</td>\n",
       "    </tr>\n",
       "    <tr>\n",
       "      <th>244</th>\n",
       "      <td>Comp948451$</td>\n",
       "      <td>Comp948451</td>\n",
       "      <td>Proc782241.exe</td>\n",
       "      <td>Proc695356</td>\n",
       "      <td>2</td>\n",
       "    </tr>\n",
       "    <tr>\n",
       "      <th>...</th>\n",
       "      <td>...</td>\n",
       "      <td>...</td>\n",
       "      <td>...</td>\n",
       "      <td>...</td>\n",
       "      <td>...</td>\n",
       "    </tr>\n",
       "    <tr>\n",
       "      <th>55981164</th>\n",
       "      <td>Comp075349$</td>\n",
       "      <td>Comp075349</td>\n",
       "      <td>Proc504528.exe</td>\n",
       "      <td>None</td>\n",
       "      <td>2</td>\n",
       "    </tr>\n",
       "    <tr>\n",
       "      <th>55981247</th>\n",
       "      <td>Comp631742$</td>\n",
       "      <td>Comp631742</td>\n",
       "      <td>Proc857443.exe</td>\n",
       "      <td>services</td>\n",
       "      <td>23</td>\n",
       "    </tr>\n",
       "    <tr>\n",
       "      <th>55981313</th>\n",
       "      <td>Comp421464$</td>\n",
       "      <td>Comp421464</td>\n",
       "      <td>Proc863319.exe</td>\n",
       "      <td>None</td>\n",
       "      <td>1</td>\n",
       "    </tr>\n",
       "    <tr>\n",
       "      <th>55981523</th>\n",
       "      <td>Comp852153$</td>\n",
       "      <td>Comp852153</td>\n",
       "      <td>Proc957556.exe</td>\n",
       "      <td>winlogon</td>\n",
       "      <td>2</td>\n",
       "    </tr>\n",
       "    <tr>\n",
       "      <th>55981601</th>\n",
       "      <td>Comp943585$</td>\n",
       "      <td>Comp943585</td>\n",
       "      <td>Proc857443.exe</td>\n",
       "      <td>taskeng</td>\n",
       "      <td>23</td>\n",
       "    </tr>\n",
       "  </tbody>\n",
       "</table>\n",
       "<p>1137756 rows × 5 columns</p>\n",
       "</div>"
      ],
      "text/plain": [
       "                  UserName           Device             ProcessName  \\\n",
       "62        ActiveDirectory$  ActiveDirectory          Proc536347.exe   \n",
       "89             Comp380437$       Comp380437  searchprotocolhost.exe   \n",
       "122                Scanner       Comp547538          Proc453954.exe   \n",
       "146                Scanner       Comp373203          Proc168327.exe   \n",
       "244            Comp948451$       Comp948451          Proc782241.exe   \n",
       "...                    ...              ...                     ...   \n",
       "55981164       Comp075349$       Comp075349          Proc504528.exe   \n",
       "55981247       Comp631742$       Comp631742          Proc857443.exe   \n",
       "55981313       Comp421464$       Comp421464          Proc863319.exe   \n",
       "55981523       Comp852153$       Comp852153          Proc957556.exe   \n",
       "55981601       Comp943585$       Comp943585          Proc857443.exe   \n",
       "\n",
       "         ParentProcessName  DailyCount  \n",
       "62                services           7  \n",
       "89              Proc443607          73  \n",
       "122                    cmd           1  \n",
       "146                    cmd           1  \n",
       "244             Proc695356           2  \n",
       "...                    ...         ...  \n",
       "55981164              None           2  \n",
       "55981247          services          23  \n",
       "55981313              None           1  \n",
       "55981523          winlogon           2  \n",
       "55981601           taskeng          23  \n",
       "\n",
       "[1137756 rows x 5 columns]"
      ]
     },
     "execution_count": 34,
     "metadata": {},
     "output_type": "execute_result"
    }
   ],
   "source": [
    "df_un_top_100"
   ]
  },
  {
   "cell_type": "code",
   "execution_count": 121,
   "id": "1c1a651a-318d-4766-842e-5064bb2591df",
   "metadata": {},
   "outputs": [
    {
     "data": {
      "text/plain": [
       "count     1137756\n",
       "unique        100\n",
       "top       Scanner\n",
       "freq       255383\n",
       "Name: UserName, dtype: object"
      ]
     },
     "execution_count": 121,
     "metadata": {},
     "output_type": "execute_result"
    }
   ],
   "source": [
    "df_un_top_100.UserName.describe()"
   ]
  },
  {
   "cell_type": "markdown",
   "id": "be80248f-7d0a-4a62-8956-c43889b329e2",
   "metadata": {},
   "source": [
    "Here I was attempting to give weight to connections in a network based on how much they occur, again I didn't use this much below but could be worth coming back to. In the `edge_plot` function described below when creating a networkx network, we can add in the `edge_attr` variable alongside `source` and `target` in order to provide weighting to edges based on how frequently they occur."
   ]
  },
  {
   "cell_type": "code",
   "execution_count": 32,
   "id": "0c45e094-e8c1-4d6b-a4d3-79e0768c7f87",
   "metadata": {},
   "outputs": [
    {
     "data": {
      "text/html": [
       "<div>\n",
       "<style scoped>\n",
       "    .dataframe tbody tr th:only-of-type {\n",
       "        vertical-align: middle;\n",
       "    }\n",
       "\n",
       "    .dataframe tbody tr th {\n",
       "        vertical-align: top;\n",
       "    }\n",
       "\n",
       "    .dataframe thead th {\n",
       "        text-align: right;\n",
       "    }\n",
       "</style>\n",
       "<table border=\"1\" class=\"dataframe\">\n",
       "  <thead>\n",
       "    <tr style=\"text-align: right;\">\n",
       "      <th></th>\n",
       "      <th>UserName</th>\n",
       "      <th>Device</th>\n",
       "      <th>Count</th>\n",
       "    </tr>\n",
       "  </thead>\n",
       "  <tbody>\n",
       "  </tbody>\n",
       "</table>\n",
       "</div>"
      ],
      "text/plain": [
       "Empty DataFrame\n",
       "Columns: [UserName, Device, Count]\n",
       "Index: []"
      ]
     },
     "execution_count": 32,
     "metadata": {},
     "output_type": "execute_result"
    }
   ],
   "source": [
    "pd.options.mode.chained_assignment = None\n",
    "df_un_top_100['Count'] = \"\"\n",
    "df_100 = df_un_top_100.groupby(['UserName','Device']).Count.count().reset_index()\n",
    "df_100.head(20)"
   ]
  },
  {
   "cell_type": "markdown",
   "id": "2265f056-3366-4131-a084-b8e0044681e4",
   "metadata": {},
   "source": [
    "Below I define a function that creates a network from a pandas dataframe and allows us to specify various variables to suit our needs which are detailed in the function's docstring. As part of this it then creates a network visual using `pyvis`."
   ]
  },
  {
   "cell_type": "code",
   "execution_count": 66,
   "id": "e2426d99-9747-4e3a-993d-8f9fbcb975d0",
   "metadata": {},
   "outputs": [],
   "source": [
    "top_10000 = counts[0][\"UserName\"].head(10000)\n",
    "df_un_top_10000 = df_p[df_p.UserName.isin(top_10000)]"
   ]
  },
  {
   "cell_type": "code",
   "execution_count": 27,
   "id": "4f171c8d-1dad-4002-9131-f51cfc6ef08d",
   "metadata": {},
   "outputs": [],
   "source": [
    "def edge_plot(dfo,sour,targ,ident,hed=\"complete\",show=True):\n",
    "    \"\"\"This function creates a network in the networkx package and creates and saves an html plot of the network using pyvis: which can also be specified to be shown within the notebook but this could cause slowdown.\n",
    "    \n",
    "    Keyword arguments:\n",
    "    dfo -- the dataframe to work with.\n",
    "    sour -- the source nodes for the network \\(feature to be used from the dataframe\\)\n",
    "    targ -- the target nodes for the network \\(feature to be used from the dataframe\\)\n",
    "    ident -- specifies the name of the plot to be saved, the hed value will also be added afterwards.\n",
    "    hed -- specify a head of the function to use to test with fewer total values. Use \\\"complete\\\" to work on the entire dataframe. DEFAULT = \\\"complete\\\"\n",
    "    show -- specify a boolean for if you want the plot to be shown within the notebook. DEFAULT = False\n",
    "    \"\"\"\n",
    "    dtn()\n",
    "    hed_on = True\n",
    "    if hed == \"complete\":\n",
    "        G = nx.from_pandas_edgelist(dfo,source=sour,target=targ)\n",
    "        hed_on = False\n",
    "    else:\n",
    "        G = nx.from_pandas_edgelist(dfo.head(hed),source=sour,target=targ)\n",
    "        hed_on = True\n",
    "    net = Network(notebook=True)\n",
    "    net.from_nx(G)\n",
    "    if hed_on == True:\n",
    "        if len(dfo.head(hed)) >= 5000:\n",
    "            net.toggle_physics(False)\n",
    "        else:\n",
    "            net.toggle_physics(True)\n",
    "    if hed_on == False:\n",
    "        if len(dfo) >= 5000:\n",
    "            net.toggle_physics(False)\n",
    "        else:\n",
    "            net.toggle_physics(True)\n",
    "    string = \"./plots/netx_graphs/plot_\"+str(ident)+\"_\"+str(hed)+\".html\"\n",
    "    net.show_buttons(filter_=['physics'])\n",
    "    finish = net.show(string)\n",
    "    gen_end()\n",
    "    if show == True:\n",
    "        return finish"
   ]
  },
  {
   "cell_type": "code",
   "execution_count": 59,
   "id": "05450cae-fab6-4efc-bb5e-f1fab99bed1d",
   "metadata": {},
   "outputs": [
    {
     "name": "stdout",
     "output_type": "stream",
     "text": [
      "Completed in :0:00:00.014970\n"
     ]
    },
    {
     "data": {
      "text/html": [
       "\n",
       "        <iframe\n",
       "            width=\"500px\"\n",
       "            height=\"500px\"\n",
       "            src=\"./plots/netx_graphs/plot_df_un_top_100_100.html\"\n",
       "            frameborder=\"0\"\n",
       "            allowfullscreen\n",
       "        ></iframe>\n",
       "        "
      ],
      "text/plain": [
       "<IPython.lib.display.IFrame at 0x228801e1fa0>"
      ]
     },
     "execution_count": 59,
     "metadata": {},
     "output_type": "execute_result"
    }
   ],
   "source": [
    "edge_plot(df_un_top_100,\"UserName\",\"Device\",\"df_un_top_100\",100)"
   ]
  },
  {
   "cell_type": "code",
   "execution_count": 62,
   "id": "dbd0228f-7291-4d8a-b45a-edbc2435b3f2",
   "metadata": {},
   "outputs": [
    {
     "name": "stdout",
     "output_type": "stream",
     "text": [
      "Completed in :0:00:00.146223\n"
     ]
    },
    {
     "data": {
      "text/html": [
       "\n",
       "        <iframe\n",
       "            width=\"500px\"\n",
       "            height=\"500px\"\n",
       "            src=\"./plots/netx_graphs/plot_df_un_top_100_10000.html\"\n",
       "            frameborder=\"0\"\n",
       "            allowfullscreen\n",
       "        ></iframe>\n",
       "        "
      ],
      "text/plain": [
       "<IPython.lib.display.IFrame at 0x22930e20eb0>"
      ]
     },
     "execution_count": 62,
     "metadata": {},
     "output_type": "execute_result"
    }
   ],
   "source": [
    "edge_plot(df_un_top_100,\"UserName\",\"Device\",\"df_un_top_100\",10000)"
   ]
  },
  {
   "cell_type": "code",
   "execution_count": 63,
   "id": "8d6351c8-687c-4024-b7fd-03171bcb8c25",
   "metadata": {},
   "outputs": [
    {
     "name": "stdout",
     "output_type": "stream",
     "text": [
      "Completed in :0:00:01.281561\n"
     ]
    }
   ],
   "source": [
    "edge_plot(df_un_top_100,\"UserName\",\"Device\",\"df_un_top_100\",100000,False)"
   ]
  },
  {
   "cell_type": "markdown",
   "id": "b6432391-1c11-4ba1-8167-fa896db1dfcc",
   "metadata": {},
   "source": [
    "The below plot is a plot of the entire network however when loading the plot it is almost impossible to interpret without the physics to seperate the nodes, however turning the physics on is immensley laggy and is difficult to do anything with."
   ]
  },
  {
   "cell_type": "code",
   "execution_count": 38,
   "id": "4295a14d-744d-4a1b-9c47-3ff9d5e571a7",
   "metadata": {},
   "outputs": [
    {
     "name": "stdout",
     "output_type": "stream",
     "text": [
      "Completed in :0:00:32.504138\n"
     ]
    }
   ],
   "source": [
    "edge_plot(df_un_top_100,\"UserName\",\"Device\",\"df_un_top_100\",\"complete\",False)"
   ]
  },
  {
   "cell_type": "code",
   "execution_count": 39,
   "id": "e6f57b02-0c89-4f9c-8548-745787ee3a68",
   "metadata": {},
   "outputs": [
    {
     "name": "stdout",
     "output_type": "stream",
     "text": [
      "Completed in :0:00:30.299874\n"
     ]
    }
   ],
   "source": [
    "edge_plot(df_un_top_10000,\"UserName\",\"Device\",\"df_un_top_100000\",1000000,False)"
   ]
  },
  {
   "cell_type": "markdown",
   "id": "08dfcf36-eaa4-43ea-927d-ac978660c245",
   "metadata": {},
   "source": [
    "### Above implemented on processes"
   ]
  },
  {
   "cell_type": "code",
   "execution_count": 18,
   "id": "5da6dbb7-0bd5-43c0-ac56-81fa3c831862",
   "metadata": {},
   "outputs": [],
   "source": [
    "top_1000_p = counts[3][\"ParentProcessName\"].head(1000)\n",
    "df_pp_1000 = df_p[df_p.ParentProcessName.isin(top_1000_p)]"
   ]
  },
  {
   "cell_type": "code",
   "execution_count": 19,
   "id": "117d1748-e597-475a-9435-6b4487404766",
   "metadata": {},
   "outputs": [
    {
     "name": "stdout",
     "output_type": "stream",
     "text": [
      "Completed in :0:06:26.855514\n"
     ]
    }
   ],
   "source": [
    "edge_plot(df_pp_1000,\"ParentProcessName\",\"ProcessName\",\"process_network\",\"complete\",False)"
   ]
  },
  {
   "cell_type": "code",
   "execution_count": 28,
   "id": "51c1a497-64d2-4213-9df8-e488f5697993",
   "metadata": {},
   "outputs": [
    {
     "name": "stdout",
     "output_type": "stream",
     "text": [
      "Completed in :0:00:00.154706\n"
     ]
    }
   ],
   "source": [
    "edge_plot(df_pp_1000,\"ParentProcessName\",\"ProcessName\",\"process_network\",10000,False)"
   ]
  },
  {
   "cell_type": "code",
   "execution_count": 29,
   "id": "86dfcc86-d542-40c5-bb83-cd0b746be4a9",
   "metadata": {},
   "outputs": [
    {
     "name": "stdout",
     "output_type": "stream",
     "text": [
      "Completed in :0:00:00.027486\n"
     ]
    }
   ],
   "source": [
    "edge_plot(df_pp_1000,\"ParentProcessName\",\"ProcessName\",\"process_network\",20,False)"
   ]
  },
  {
   "cell_type": "code",
   "execution_count": 30,
   "id": "fc39b7a5-dc42-4005-902c-8f6a1944cea8",
   "metadata": {},
   "outputs": [
    {
     "name": "stdout",
     "output_type": "stream",
     "text": [
      "Completed in :0:00:11.143295\n"
     ]
    }
   ],
   "source": [
    "edge_plot(df_pp_1000,\"ParentProcessName\",\"ProcessName\",\"process_network\",1000000,False)"
   ]
  },
  {
   "cell_type": "markdown",
   "id": "a6e3269d-16b9-4d3f-9df4-1ee8537fa9d9",
   "metadata": {},
   "source": [
    "Below bit is new attempt at reducing trivial connections (only 1 connection)"
   ]
  },
  {
   "cell_type": "code",
   "execution_count": 117,
   "id": "4b62064c-47bf-48e4-8c55-c31b48d5b495",
   "metadata": {},
   "outputs": [],
   "source": [
    "df_un_top_10000_mk2 = df_un_top_10000.drop_duplicates(subset=[\"UserName\",\"Device\"])"
   ]
  },
  {
   "cell_type": "code",
   "execution_count": 124,
   "id": "ea974a4f-aabc-45df-b38b-46c1915796aa",
   "metadata": {},
   "outputs": [
    {
     "data": {
      "text/plain": [
       "(30505, 5)"
      ]
     },
     "execution_count": 124,
     "metadata": {},
     "output_type": "execute_result"
    }
   ],
   "source": [
    "df_un_top_10000_mk2.shape"
   ]
  },
  {
   "cell_type": "code",
   "execution_count": 125,
   "id": "a728eaf1-bb3b-480d-82f4-094fb4db22a6",
   "metadata": {},
   "outputs": [
    {
     "data": {
      "text/plain": [
       "(39339537, 5)"
      ]
     },
     "execution_count": 125,
     "metadata": {},
     "output_type": "execute_result"
    }
   ],
   "source": [
    "df_un_top_10000.shape"
   ]
  },
  {
   "cell_type": "code",
   "execution_count": 128,
   "id": "e14e58e9-67a1-4aa3-bdf4-fc4b9d035968",
   "metadata": {},
   "outputs": [],
   "source": [
    "#counts_2 = df_un_top_10000_mk.groupby(\"UserName\").size().sort_values(ascending=False)\n",
    "#counts_2 = pd.DataFrame(z)\n",
    "#counts_2 = counts_2.drop([\"level_0\",\"index\"],axis=1)\n",
    "#counts_2.reset_index(level=0, inplace=True)\n",
    "#counts_2.columns = [\"UserName\",\"Count\"]"
   ]
  },
  {
   "cell_type": "code",
   "execution_count": 138,
   "id": "08e307a5-dba8-4aea-a869-f0caaf61556a",
   "metadata": {},
   "outputs": [],
   "source": [
    "counts_2 = df_un_top_10000_mk2[\"UserName\"].value_counts()"
   ]
  },
  {
   "cell_type": "code",
   "execution_count": 159,
   "id": "bd773dd3-c619-432b-9d93-5119e30b34ce",
   "metadata": {},
   "outputs": [],
   "source": [
    "counts_3 = counts_2[counts_2 > 1]"
   ]
  },
  {
   "cell_type": "code",
   "execution_count": 160,
   "id": "120a4d26-983a-4a6a-832f-11f6e9bd8c7e",
   "metadata": {},
   "outputs": [],
   "source": [
    "df_un_top_10000_mk3 = df_un_top_10000_mk2[df_un_top_10000_mk2.UserName.isin(counts_3.index)]"
   ]
  },
  {
   "cell_type": "code",
   "execution_count": 161,
   "id": "50c5d4f8-bf01-41e8-a8da-f4a7e4f626c3",
   "metadata": {},
   "outputs": [
    {
     "data": {
      "text/html": [
       "<div>\n",
       "<style scoped>\n",
       "    .dataframe tbody tr th:only-of-type {\n",
       "        vertical-align: middle;\n",
       "    }\n",
       "\n",
       "    .dataframe tbody tr th {\n",
       "        vertical-align: top;\n",
       "    }\n",
       "\n",
       "    .dataframe thead th {\n",
       "        text-align: right;\n",
       "    }\n",
       "</style>\n",
       "<table border=\"1\" class=\"dataframe\">\n",
       "  <thead>\n",
       "    <tr style=\"text-align: right;\">\n",
       "      <th></th>\n",
       "      <th>UserName</th>\n",
       "      <th>Device</th>\n",
       "      <th>ProcessName</th>\n",
       "      <th>ParentProcessName</th>\n",
       "      <th>DailyCount</th>\n",
       "    </tr>\n",
       "  </thead>\n",
       "  <tbody>\n",
       "    <tr>\n",
       "      <th>15</th>\n",
       "      <td>User851869</td>\n",
       "      <td>Comp445233</td>\n",
       "      <td>Proc915692.exe</td>\n",
       "      <td>Proc318985</td>\n",
       "      <td>1</td>\n",
       "    </tr>\n",
       "    <tr>\n",
       "      <th>55</th>\n",
       "      <td>User890930</td>\n",
       "      <td>Comp310787</td>\n",
       "      <td>Proc256172.exe</td>\n",
       "      <td>Proc442764</td>\n",
       "      <td>2</td>\n",
       "    </tr>\n",
       "    <tr>\n",
       "      <th>96</th>\n",
       "      <td>User326831</td>\n",
       "      <td>Comp548737</td>\n",
       "      <td>Proc437783.exe</td>\n",
       "      <td>Proc442764</td>\n",
       "      <td>1</td>\n",
       "    </tr>\n",
       "    <tr>\n",
       "      <th>122</th>\n",
       "      <td>Scanner</td>\n",
       "      <td>Comp547538</td>\n",
       "      <td>Proc453954.exe</td>\n",
       "      <td>cmd</td>\n",
       "      <td>1</td>\n",
       "    </tr>\n",
       "    <tr>\n",
       "      <th>136</th>\n",
       "      <td>User614519</td>\n",
       "      <td>Comp108024</td>\n",
       "      <td>Proc005910.exe</td>\n",
       "      <td>Proc887334</td>\n",
       "      <td>5</td>\n",
       "    </tr>\n",
       "    <tr>\n",
       "      <th>...</th>\n",
       "      <td>...</td>\n",
       "      <td>...</td>\n",
       "      <td>...</td>\n",
       "      <td>...</td>\n",
       "      <td>...</td>\n",
       "    </tr>\n",
       "    <tr>\n",
       "      <th>55732051</th>\n",
       "      <td>User963614</td>\n",
       "      <td>EnterpriseAppServer</td>\n",
       "      <td>Proc451630.exe</td>\n",
       "      <td>Proc471717</td>\n",
       "      <td>1</td>\n",
       "    </tr>\n",
       "    <tr>\n",
       "      <th>55733896</th>\n",
       "      <td>Administrator</td>\n",
       "      <td>Comp833243</td>\n",
       "      <td>Proc208228.exe</td>\n",
       "      <td>Proc208228</td>\n",
       "      <td>1</td>\n",
       "    </tr>\n",
       "    <tr>\n",
       "      <th>55736012</th>\n",
       "      <td>User491325</td>\n",
       "      <td>Comp763951</td>\n",
       "      <td>Proc005910.exe</td>\n",
       "      <td>Proc089893</td>\n",
       "      <td>5</td>\n",
       "    </tr>\n",
       "    <tr>\n",
       "      <th>55739969</th>\n",
       "      <td>User695833</td>\n",
       "      <td>Comp633447</td>\n",
       "      <td>Proc079020.exe</td>\n",
       "      <td>Proc247259</td>\n",
       "      <td>1</td>\n",
       "    </tr>\n",
       "    <tr>\n",
       "      <th>55744141</th>\n",
       "      <td>User423667</td>\n",
       "      <td>Comp309102</td>\n",
       "      <td>Proc342564.exe</td>\n",
       "      <td>Proc599418</td>\n",
       "      <td>1</td>\n",
       "    </tr>\n",
       "  </tbody>\n",
       "</table>\n",
       "<p>21365 rows × 5 columns</p>\n",
       "</div>"
      ],
      "text/plain": [
       "               UserName               Device     ProcessName  \\\n",
       "15           User851869           Comp445233  Proc915692.exe   \n",
       "55           User890930           Comp310787  Proc256172.exe   \n",
       "96           User326831           Comp548737  Proc437783.exe   \n",
       "122             Scanner           Comp547538  Proc453954.exe   \n",
       "136          User614519           Comp108024  Proc005910.exe   \n",
       "...                 ...                  ...             ...   \n",
       "55732051     User963614  EnterpriseAppServer  Proc451630.exe   \n",
       "55733896  Administrator           Comp833243  Proc208228.exe   \n",
       "55736012     User491325           Comp763951  Proc005910.exe   \n",
       "55739969     User695833           Comp633447  Proc079020.exe   \n",
       "55744141     User423667           Comp309102  Proc342564.exe   \n",
       "\n",
       "         ParentProcessName  DailyCount  \n",
       "15              Proc318985           1  \n",
       "55              Proc442764           2  \n",
       "96              Proc442764           1  \n",
       "122                    cmd           1  \n",
       "136             Proc887334           5  \n",
       "...                    ...         ...  \n",
       "55732051        Proc471717           1  \n",
       "55733896        Proc208228           1  \n",
       "55736012        Proc089893           5  \n",
       "55739969        Proc247259           1  \n",
       "55744141        Proc599418           1  \n",
       "\n",
       "[21365 rows x 5 columns]"
      ]
     },
     "execution_count": 161,
     "metadata": {},
     "output_type": "execute_result"
    }
   ],
   "source": [
    "df_un_top_10000_mk3"
   ]
  },
  {
   "cell_type": "code",
   "execution_count": 201,
   "id": "206b1a91-8a38-4f66-8129-049af0103db5",
   "metadata": {},
   "outputs": [],
   "source": [
    "counts4 = df_un_top_10000_mk3[\"Device\"].value_counts()\n",
    "counts4 = counts4[counts4 > 1]\n",
    "df_un_top_10000_mk4 = df_un_top_10000_mk3[df_un_top_10000_mk3.Device.isin(counts4.index)]"
   ]
  },
  {
   "cell_type": "code",
   "execution_count": 202,
   "id": "ca38ced2-7417-4c15-b651-cf7f5cc9992a",
   "metadata": {},
   "outputs": [
    {
     "data": {
      "text/html": [
       "<div>\n",
       "<style scoped>\n",
       "    .dataframe tbody tr th:only-of-type {\n",
       "        vertical-align: middle;\n",
       "    }\n",
       "\n",
       "    .dataframe tbody tr th {\n",
       "        vertical-align: top;\n",
       "    }\n",
       "\n",
       "    .dataframe thead th {\n",
       "        text-align: right;\n",
       "    }\n",
       "</style>\n",
       "<table border=\"1\" class=\"dataframe\">\n",
       "  <thead>\n",
       "    <tr style=\"text-align: right;\">\n",
       "      <th></th>\n",
       "      <th>UserName</th>\n",
       "      <th>Device</th>\n",
       "      <th>ProcessName</th>\n",
       "      <th>ParentProcessName</th>\n",
       "      <th>DailyCount</th>\n",
       "    </tr>\n",
       "  </thead>\n",
       "  <tbody>\n",
       "    <tr>\n",
       "      <th>15</th>\n",
       "      <td>User851869</td>\n",
       "      <td>Comp445233</td>\n",
       "      <td>Proc915692.exe</td>\n",
       "      <td>Proc318985</td>\n",
       "      <td>1</td>\n",
       "    </tr>\n",
       "    <tr>\n",
       "      <th>96</th>\n",
       "      <td>User326831</td>\n",
       "      <td>Comp548737</td>\n",
       "      <td>Proc437783.exe</td>\n",
       "      <td>Proc442764</td>\n",
       "      <td>1</td>\n",
       "    </tr>\n",
       "    <tr>\n",
       "      <th>122</th>\n",
       "      <td>Scanner</td>\n",
       "      <td>Comp547538</td>\n",
       "      <td>Proc453954.exe</td>\n",
       "      <td>cmd</td>\n",
       "      <td>1</td>\n",
       "    </tr>\n",
       "    <tr>\n",
       "      <th>136</th>\n",
       "      <td>User614519</td>\n",
       "      <td>Comp108024</td>\n",
       "      <td>Proc005910.exe</td>\n",
       "      <td>Proc887334</td>\n",
       "      <td>5</td>\n",
       "    </tr>\n",
       "    <tr>\n",
       "      <th>146</th>\n",
       "      <td>Scanner</td>\n",
       "      <td>Comp373203</td>\n",
       "      <td>Proc168327.exe</td>\n",
       "      <td>cmd</td>\n",
       "      <td>1</td>\n",
       "    </tr>\n",
       "    <tr>\n",
       "      <th>...</th>\n",
       "      <td>...</td>\n",
       "      <td>...</td>\n",
       "      <td>...</td>\n",
       "      <td>...</td>\n",
       "      <td>...</td>\n",
       "    </tr>\n",
       "    <tr>\n",
       "      <th>55732051</th>\n",
       "      <td>User963614</td>\n",
       "      <td>EnterpriseAppServer</td>\n",
       "      <td>Proc451630.exe</td>\n",
       "      <td>Proc471717</td>\n",
       "      <td>1</td>\n",
       "    </tr>\n",
       "    <tr>\n",
       "      <th>55733896</th>\n",
       "      <td>Administrator</td>\n",
       "      <td>Comp833243</td>\n",
       "      <td>Proc208228.exe</td>\n",
       "      <td>Proc208228</td>\n",
       "      <td>1</td>\n",
       "    </tr>\n",
       "    <tr>\n",
       "      <th>55736012</th>\n",
       "      <td>User491325</td>\n",
       "      <td>Comp763951</td>\n",
       "      <td>Proc005910.exe</td>\n",
       "      <td>Proc089893</td>\n",
       "      <td>5</td>\n",
       "    </tr>\n",
       "    <tr>\n",
       "      <th>55739969</th>\n",
       "      <td>User695833</td>\n",
       "      <td>Comp633447</td>\n",
       "      <td>Proc079020.exe</td>\n",
       "      <td>Proc247259</td>\n",
       "      <td>1</td>\n",
       "    </tr>\n",
       "    <tr>\n",
       "      <th>55744141</th>\n",
       "      <td>User423667</td>\n",
       "      <td>Comp309102</td>\n",
       "      <td>Proc342564.exe</td>\n",
       "      <td>Proc599418</td>\n",
       "      <td>1</td>\n",
       "    </tr>\n",
       "  </tbody>\n",
       "</table>\n",
       "<p>15600 rows × 5 columns</p>\n",
       "</div>"
      ],
      "text/plain": [
       "               UserName               Device     ProcessName  \\\n",
       "15           User851869           Comp445233  Proc915692.exe   \n",
       "96           User326831           Comp548737  Proc437783.exe   \n",
       "122             Scanner           Comp547538  Proc453954.exe   \n",
       "136          User614519           Comp108024  Proc005910.exe   \n",
       "146             Scanner           Comp373203  Proc168327.exe   \n",
       "...                 ...                  ...             ...   \n",
       "55732051     User963614  EnterpriseAppServer  Proc451630.exe   \n",
       "55733896  Administrator           Comp833243  Proc208228.exe   \n",
       "55736012     User491325           Comp763951  Proc005910.exe   \n",
       "55739969     User695833           Comp633447  Proc079020.exe   \n",
       "55744141     User423667           Comp309102  Proc342564.exe   \n",
       "\n",
       "         ParentProcessName  DailyCount  \n",
       "15              Proc318985           1  \n",
       "96              Proc442764           1  \n",
       "122                    cmd           1  \n",
       "136             Proc887334           5  \n",
       "146                    cmd           1  \n",
       "...                    ...         ...  \n",
       "55732051        Proc471717           1  \n",
       "55733896        Proc208228           1  \n",
       "55736012        Proc089893           5  \n",
       "55739969        Proc247259           1  \n",
       "55744141        Proc599418           1  \n",
       "\n",
       "[15600 rows x 5 columns]"
      ]
     },
     "execution_count": 202,
     "metadata": {},
     "output_type": "execute_result"
    }
   ],
   "source": [
    "df_un_top_10000_mk4"
   ]
  },
  {
   "cell_type": "code",
   "execution_count": 199,
   "id": "bfeb6c17-ca7c-4829-b64d-a9e68d3ea659",
   "metadata": {},
   "outputs": [
    {
     "data": {
      "text/html": [
       "<div>\n",
       "<style scoped>\n",
       "    .dataframe tbody tr th:only-of-type {\n",
       "        vertical-align: middle;\n",
       "    }\n",
       "\n",
       "    .dataframe tbody tr th {\n",
       "        vertical-align: top;\n",
       "    }\n",
       "\n",
       "    .dataframe thead th {\n",
       "        text-align: right;\n",
       "    }\n",
       "</style>\n",
       "<table border=\"1\" class=\"dataframe\">\n",
       "  <thead>\n",
       "    <tr style=\"text-align: right;\">\n",
       "      <th></th>\n",
       "      <th>UserName</th>\n",
       "      <th>Device</th>\n",
       "      <th>ProcessName</th>\n",
       "      <th>ParentProcessName</th>\n",
       "      <th>DailyCount</th>\n",
       "    </tr>\n",
       "  </thead>\n",
       "  <tbody>\n",
       "    <tr>\n",
       "      <th>612382</th>\n",
       "      <td>User751030</td>\n",
       "      <td>EnterpriseAppServer</td>\n",
       "      <td>Proc451630.exe</td>\n",
       "      <td>Proc471717</td>\n",
       "      <td>1</td>\n",
       "    </tr>\n",
       "    <tr>\n",
       "      <th>626041</th>\n",
       "      <td>User751030</td>\n",
       "      <td>Comp686168</td>\n",
       "      <td>Proc319629.exe</td>\n",
       "      <td>Proc763228</td>\n",
       "      <td>1</td>\n",
       "    </tr>\n",
       "  </tbody>\n",
       "</table>\n",
       "</div>"
      ],
      "text/plain": [
       "          UserName               Device     ProcessName ParentProcessName  \\\n",
       "612382  User751030  EnterpriseAppServer  Proc451630.exe        Proc471717   \n",
       "626041  User751030           Comp686168  Proc319629.exe        Proc763228   \n",
       "\n",
       "        DailyCount  \n",
       "612382           1  \n",
       "626041           1  "
      ]
     },
     "execution_count": 199,
     "metadata": {},
     "output_type": "execute_result"
    }
   ],
   "source": [
    "df_un_top_10000_mk3[df_un_top_10000_mk3[\"UserName\"] == \"User751030\"]"
   ]
  },
  {
   "cell_type": "code",
   "execution_count": 200,
   "id": "bb908daf-5fc2-48cd-b162-2e6bee3e6f42",
   "metadata": {},
   "outputs": [
    {
     "name": "stdout",
     "output_type": "stream",
     "text": [
      "Completed in :0:00:00.010980\n"
     ]
    }
   ],
   "source": [
    "edge_plot(df_un_top_10000_mk[df_un_top_10000_mk3[\"UserName\"] == \"User751030\"],\"UserName\",\"Device\",\"test\",\"complete\",False)"
   ]
  },
  {
   "cell_type": "code",
   "execution_count": 192,
   "id": "aa895287-8d16-42e5-8b83-ea04473b4410",
   "metadata": {},
   "outputs": [
    {
     "name": "stdout",
     "output_type": "stream",
     "text": [
      "Completed in :0:00:15.465525\n"
     ]
    }
   ],
   "source": [
    "edge_plot(df_un_top_10000_mk3,\"UserName\",\"Device\",\"df_un_top_10000_reduced\",10000,False)"
   ]
  },
  {
   "cell_type": "code",
   "execution_count": 203,
   "id": "c7b10dd4-fc7e-4c40-a57f-2d4d0fa2fffe",
   "metadata": {},
   "outputs": [
    {
     "name": "stdout",
     "output_type": "stream",
     "text": [
      "Completed in :0:00:36.386096\n"
     ]
    }
   ],
   "source": [
    "edge_plot(df_un_top_10000_mk4,\"UserName\",\"Device\",\"df_un_top_10000_reduced_both\",\"complete\",False)"
   ]
  },
  {
   "cell_type": "code",
   "execution_count": 204,
   "id": "26f6cffa-c873-4be2-8633-0e38d491d8ce",
   "metadata": {},
   "outputs": [
    {
     "name": "stdout",
     "output_type": "stream",
     "text": [
      "Completed in :0:00:00.018465\n"
     ]
    }
   ],
   "source": [
    "edge_plot(df_un_top_10000_mk4,\"UserName\",\"Device\",\"df_un_top_10000_reduced_both\",100,False)"
   ]
  },
  {
   "cell_type": "code",
   "execution_count": 240,
   "id": "265191ac-3893-4542-b17e-319e6e96ab30",
   "metadata": {},
   "outputs": [],
   "source": [
    "def edge_plot_2(dfo,sour,targ,ident,hed=\"complete\",ignore=1,show=True,):\n",
    "    \"\"\"This function creates a network in the networkx package and creates and saves an html plot of the network using pyvis: which can also be specified to be shown within the notebook but this could cause slowdown.\n",
    "    \n",
    "    Keyword arguments:\n",
    "    dfo -- the dataframe to work with.\n",
    "    sour -- the source nodes for the network \\(feature to be used from the dataframe\\)\n",
    "    targ -- the target nodes for the network \\(feature to be used from the dataframe\\)\n",
    "    ident -- specifies the name of the plot to be saved, the hed value will also be added afterwards.\n",
    "    hed -- specify a head of the function to use to test with fewer total values. Use \\\"complete\\\" to work on the entire dataframe. DEFAULT = \\\"complete\\\"\n",
    "    ignore -- don't create a connection for variables that have less than this many connections connection. DEFAULT = 1 \n",
    "    show -- specify a boolean for if you want the plot to be shown within the notebook. DEFAULT = False\n",
    "    \"\"\"\n",
    "    dtn()\n",
    "    hed_on = True\n",
    "    if hed == \"complete\":\n",
    "        #counts = dfo[sour].value_counts()\n",
    "        #counts = counts[counts > ignore]\n",
    "        #dfo = dfo[dfo[sour].isin(counts.index)]\n",
    "        \n",
    "        #counts = dfo[targ].value_counts()\n",
    "        #counts = counts[counts > ignore]\n",
    "        #dfo = dfo[dfo[targ].isin(counts.index)]\n",
    "        \n",
    "        G = nx.from_pandas_edgelist(dfo,source=sour,target=targ)\n",
    "        for component in list(nx.connected_components(G)):\n",
    "            if len(component)<ignore:\n",
    "                for node in component:\n",
    "                    G.remove_node(node)\n",
    "        hed_on = False\n",
    "    else:\n",
    "        #dfo = dfo.head(hed)\n",
    "        #counts = dfo[sour].value_counts()\n",
    "        #counts = counts[counts > ignore]\n",
    "        #dfo = dfo[dfo[sour].isin(counts.index)]\n",
    "        \n",
    "        #counts = dfo[targ].value_counts()\n",
    "        #counts = counts[counts > ignore]\n",
    "        #dfo = dfo[dfo[targ].isin(counts.index)]\n",
    "        \n",
    "        G = nx.from_pandas_edgelist(dfo.head(hed),source=sour,target=targ)\n",
    "        for component in list(nx.connected_components(G)):\n",
    "            if len(component)<ignore:\n",
    "                for node in component:\n",
    "                    G.remove_node(node)\n",
    "        hed_on = True\n",
    "    net = Network(notebook=True)\n",
    "    net.from_nx(G)\n",
    "    if hed_on == True:\n",
    "        if len(dfo.head(hed)) >= 5000:\n",
    "            net.toggle_physics(False)\n",
    "        else:\n",
    "            net.toggle_physics(True)\n",
    "    if hed_on == False:\n",
    "        if len(dfo) >= 5000:\n",
    "            net.toggle_physics(False)\n",
    "        else:\n",
    "            net.toggle_physics(True)\n",
    "    string = \"./plots/netx_graphs/plot_\"+str(ident)+\"_\"+str(hed)+\".html\"\n",
    "    net.show_buttons(filter_=['physics'])\n",
    "    finish = net.show(string)\n",
    "    gen_end()\n",
    "    if show == True:\n",
    "        return finish"
   ]
  },
  {
   "cell_type": "code",
   "execution_count": 190,
   "id": "1b189e0b-9557-425b-b5ec-acd037662a4f",
   "metadata": {},
   "outputs": [
    {
     "name": "stdout",
     "output_type": "stream",
     "text": [
      "Completed in :0:04:40.248037\n"
     ]
    }
   ],
   "source": [
    "edge_plot_2(df_un_top_10000,\"UserName\",\"Device\",\"df_un_top_10000_reduced_1\",\"complete\",1,False)"
   ]
  },
  {
   "cell_type": "code",
   "execution_count": 242,
   "id": "3d3962ee-3d33-44f1-896b-f08f66b2171e",
   "metadata": {},
   "outputs": [
    {
     "name": "stdout",
     "output_type": "stream",
     "text": [
      "Completed in :0:00:00.266992\n"
     ]
    }
   ],
   "source": [
    "edge_plot_2(df_un_top_10000,\"UserName\",\"Device\",\"df_un_top_10000_no_1_edge\",10000,3,False)"
   ]
  },
  {
   "cell_type": "code",
   "execution_count": 243,
   "id": "021e8e16-342b-46e5-9e3a-94d0f54adb9a",
   "metadata": {},
   "outputs": [
    {
     "name": "stdout",
     "output_type": "stream",
     "text": [
      "Completed in :0:04:00.494656\n"
     ]
    }
   ],
   "source": [
    "edge_plot_2(df_un_top_10000,\"UserName\",\"Device\",\"df_un_top_10000_no_1_edge\",\"complete\",3,False)"
   ]
  },
  {
   "cell_type": "code",
   "execution_count": 244,
   "id": "732411bf-c0dc-4946-a2c7-23c94ffd8051",
   "metadata": {},
   "outputs": [
    {
     "ename": "KeyboardInterrupt",
     "evalue": "",
     "output_type": "error",
     "traceback": [
      "\u001b[1;31m---------------------------------------------------------------------------\u001b[0m",
      "\u001b[1;31mKeyboardInterrupt\u001b[0m                         Traceback (most recent call last)",
      "\u001b[1;32m<ipython-input-244-fe3d1540f0ed>\u001b[0m in \u001b[0;36m<module>\u001b[1;34m\u001b[0m\n\u001b[1;32m----> 1\u001b[1;33m \u001b[0medge_plot_2\u001b[0m\u001b[1;33m(\u001b[0m\u001b[0mdf_p\u001b[0m\u001b[1;33m,\u001b[0m\u001b[1;34m\"UserName\"\u001b[0m\u001b[1;33m,\u001b[0m\u001b[1;34m\"Device\"\u001b[0m\u001b[1;33m,\u001b[0m\u001b[1;34m\"df_p_no_1_edge\"\u001b[0m\u001b[1;33m,\u001b[0m\u001b[1;34m\"complete\"\u001b[0m\u001b[1;33m,\u001b[0m\u001b[1;36m3\u001b[0m\u001b[1;33m,\u001b[0m\u001b[1;32mFalse\u001b[0m\u001b[1;33m)\u001b[0m\u001b[1;33m\u001b[0m\u001b[1;33m\u001b[0m\u001b[0m\n\u001b[0m",
      "\u001b[1;32m<ipython-input-240-821b2ebaf076>\u001b[0m in \u001b[0;36medge_plot_2\u001b[1;34m(dfo, sour, targ, ident, hed, ignore, show)\u001b[0m\n\u001b[0;32m     45\u001b[0m         \u001b[0mhed_on\u001b[0m \u001b[1;33m=\u001b[0m \u001b[1;32mTrue\u001b[0m\u001b[1;33m\u001b[0m\u001b[1;33m\u001b[0m\u001b[0m\n\u001b[0;32m     46\u001b[0m     \u001b[0mnet\u001b[0m \u001b[1;33m=\u001b[0m \u001b[0mNetwork\u001b[0m\u001b[1;33m(\u001b[0m\u001b[0mnotebook\u001b[0m\u001b[1;33m=\u001b[0m\u001b[1;32mTrue\u001b[0m\u001b[1;33m)\u001b[0m\u001b[1;33m\u001b[0m\u001b[1;33m\u001b[0m\u001b[0m\n\u001b[1;32m---> 47\u001b[1;33m     \u001b[0mnet\u001b[0m\u001b[1;33m.\u001b[0m\u001b[0mfrom_nx\u001b[0m\u001b[1;33m(\u001b[0m\u001b[0mG\u001b[0m\u001b[1;33m)\u001b[0m\u001b[1;33m\u001b[0m\u001b[1;33m\u001b[0m\u001b[0m\n\u001b[0m\u001b[0;32m     48\u001b[0m     \u001b[1;32mif\u001b[0m \u001b[0mhed_on\u001b[0m \u001b[1;33m==\u001b[0m \u001b[1;32mTrue\u001b[0m\u001b[1;33m:\u001b[0m\u001b[1;33m\u001b[0m\u001b[1;33m\u001b[0m\u001b[0m\n\u001b[0;32m     49\u001b[0m         \u001b[1;32mif\u001b[0m \u001b[0mlen\u001b[0m\u001b[1;33m(\u001b[0m\u001b[0mdfo\u001b[0m\u001b[1;33m.\u001b[0m\u001b[0mhead\u001b[0m\u001b[1;33m(\u001b[0m\u001b[0mhed\u001b[0m\u001b[1;33m)\u001b[0m\u001b[1;33m)\u001b[0m \u001b[1;33m>=\u001b[0m \u001b[1;36m5000\u001b[0m\u001b[1;33m:\u001b[0m\u001b[1;33m\u001b[0m\u001b[1;33m\u001b[0m\u001b[0m\n",
      "\u001b[1;32mG:\\Programs\\Anaconda\\envs\\det\\lib\\site-packages\\pyvis\\network.py\u001b[0m in \u001b[0;36mfrom_nx\u001b[1;34m(self, nx_graph, node_size_transf, edge_weight_transf, default_node_size, default_edge_weight)\u001b[0m\n\u001b[0;32m    616\u001b[0m                     \u001b[0me\u001b[0m\u001b[1;33m[\u001b[0m\u001b[1;36m2\u001b[0m\u001b[1;33m]\u001b[0m\u001b[1;33m[\u001b[0m\u001b[1;34m'weight'\u001b[0m\u001b[1;33m]\u001b[0m \u001b[1;33m=\u001b[0m \u001b[0mdefault_edge_weight\u001b[0m\u001b[1;33m\u001b[0m\u001b[1;33m\u001b[0m\u001b[0m\n\u001b[0;32m    617\u001b[0m                 \u001b[0me\u001b[0m\u001b[1;33m[\u001b[0m\u001b[1;36m2\u001b[0m\u001b[1;33m]\u001b[0m\u001b[1;33m[\u001b[0m\u001b[1;34m'weight'\u001b[0m\u001b[1;33m]\u001b[0m \u001b[1;33m=\u001b[0m \u001b[0medge_weight_transf\u001b[0m\u001b[1;33m(\u001b[0m\u001b[0me\u001b[0m\u001b[1;33m[\u001b[0m\u001b[1;36m2\u001b[0m\u001b[1;33m]\u001b[0m\u001b[1;33m[\u001b[0m\u001b[1;34m'weight'\u001b[0m\u001b[1;33m]\u001b[0m\u001b[1;33m)\u001b[0m\u001b[1;33m\u001b[0m\u001b[1;33m\u001b[0m\u001b[0m\n\u001b[1;32m--> 618\u001b[1;33m                 \u001b[0mself\u001b[0m\u001b[1;33m.\u001b[0m\u001b[0madd_edge\u001b[0m\u001b[1;33m(\u001b[0m\u001b[0me\u001b[0m\u001b[1;33m[\u001b[0m\u001b[1;36m0\u001b[0m\u001b[1;33m]\u001b[0m\u001b[1;33m,\u001b[0m \u001b[0me\u001b[0m\u001b[1;33m[\u001b[0m\u001b[1;36m1\u001b[0m\u001b[1;33m]\u001b[0m\u001b[1;33m,\u001b[0m \u001b[1;33m**\u001b[0m\u001b[0me\u001b[0m\u001b[1;33m[\u001b[0m\u001b[1;36m2\u001b[0m\u001b[1;33m]\u001b[0m\u001b[1;33m)\u001b[0m\u001b[1;33m\u001b[0m\u001b[1;33m\u001b[0m\u001b[0m\n\u001b[0m\u001b[0;32m    619\u001b[0m \u001b[1;33m\u001b[0m\u001b[0m\n\u001b[0;32m    620\u001b[0m         \u001b[1;32mfor\u001b[0m \u001b[0mnode\u001b[0m \u001b[1;32min\u001b[0m \u001b[0mnx\u001b[0m\u001b[1;33m.\u001b[0m\u001b[0misolates\u001b[0m\u001b[1;33m(\u001b[0m\u001b[0mnx_graph\u001b[0m\u001b[1;33m)\u001b[0m\u001b[1;33m:\u001b[0m\u001b[1;33m\u001b[0m\u001b[1;33m\u001b[0m\u001b[0m\n",
      "\u001b[1;32mG:\\Programs\\Anaconda\\envs\\det\\lib\\site-packages\\pyvis\\network.py\u001b[0m in \u001b[0;36madd_edge\u001b[1;34m(self, source, to, **options)\u001b[0m\n\u001b[0;32m    344\u001b[0m             \u001b[1;32mfor\u001b[0m \u001b[0me\u001b[0m \u001b[1;32min\u001b[0m \u001b[0mself\u001b[0m\u001b[1;33m.\u001b[0m\u001b[0medges\u001b[0m\u001b[1;33m:\u001b[0m\u001b[1;33m\u001b[0m\u001b[1;33m\u001b[0m\u001b[0m\n\u001b[0;32m    345\u001b[0m                 \u001b[0mfrm\u001b[0m \u001b[1;33m=\u001b[0m \u001b[0me\u001b[0m\u001b[1;33m[\u001b[0m\u001b[1;34m'from'\u001b[0m\u001b[1;33m]\u001b[0m\u001b[1;33m\u001b[0m\u001b[1;33m\u001b[0m\u001b[0m\n\u001b[1;32m--> 346\u001b[1;33m                 \u001b[0mdest\u001b[0m \u001b[1;33m=\u001b[0m \u001b[0me\u001b[0m\u001b[1;33m[\u001b[0m\u001b[1;34m'to'\u001b[0m\u001b[1;33m]\u001b[0m\u001b[1;33m\u001b[0m\u001b[1;33m\u001b[0m\u001b[0m\n\u001b[0m\u001b[0;32m    347\u001b[0m                 if (\n\u001b[0;32m    348\u001b[0m                     \u001b[1;33m(\u001b[0m\u001b[0msource\u001b[0m \u001b[1;33m==\u001b[0m \u001b[0mdest\u001b[0m \u001b[1;32mand\u001b[0m \u001b[0mto\u001b[0m \u001b[1;33m==\u001b[0m \u001b[0mfrm\u001b[0m\u001b[1;33m)\u001b[0m \u001b[1;32mor\u001b[0m\u001b[1;33m\u001b[0m\u001b[1;33m\u001b[0m\u001b[0m\n",
      "\u001b[1;31mKeyboardInterrupt\u001b[0m: "
     ]
    }
   ],
   "source": [
    "edge_plot_2(df_p,\"UserName\",\"Device\",\"df_p_no_1_edge\",\"complete\",3,False)"
   ]
  },
  {
   "cell_type": "code",
   "execution_count": 249,
   "id": "efbee2bc-bd34-4e4a-852d-10f2126ecbf3",
   "metadata": {},
   "outputs": [
    {
     "name": "stdout",
     "output_type": "stream",
     "text": [
      "Completed in :0:00:30.560294\n"
     ]
    }
   ],
   "source": [
    "edge_plot_2(df_p,\"UserName\",\"Device\",\"df_p_no_1_edge\",100000,3,False)"
   ]
  },
  {
   "cell_type": "code",
   "execution_count": 250,
   "id": "8c6204fa-2b2d-4000-8676-e5c3d575d5c1",
   "metadata": {},
   "outputs": [
    {
     "name": "stdout",
     "output_type": "stream",
     "text": [
      "Completed in :0:00:01.150340\n"
     ]
    }
   ],
   "source": [
    "edge_plot_2(df_p,\"UserName\",\"Device\",\"df_p_no_5_edge\",100000,8,False)"
   ]
  },
  {
   "cell_type": "code",
   "execution_count": 251,
   "id": "d3059070-73ce-456c-8c6a-76ee25c43ee8",
   "metadata": {},
   "outputs": [
    {
     "ename": "KeyboardInterrupt",
     "evalue": "",
     "output_type": "error",
     "traceback": [
      "\u001b[1;31m---------------------------------------------------------------------------\u001b[0m",
      "\u001b[1;31mKeyboardInterrupt\u001b[0m                         Traceback (most recent call last)",
      "\u001b[1;32m<ipython-input-251-54e2d92eeeb9>\u001b[0m in \u001b[0;36m<module>\u001b[1;34m\u001b[0m\n\u001b[1;32m----> 1\u001b[1;33m \u001b[0medge_plot_2\u001b[0m\u001b[1;33m(\u001b[0m\u001b[0mdf_p\u001b[0m\u001b[1;33m,\u001b[0m\u001b[1;34m\"UserName\"\u001b[0m\u001b[1;33m,\u001b[0m\u001b[1;34m\"Device\"\u001b[0m\u001b[1;33m,\u001b[0m\u001b[1;34m\"df_p_no_20_edge\"\u001b[0m\u001b[1;33m,\u001b[0m\u001b[1;34m\"complete\"\u001b[0m\u001b[1;33m,\u001b[0m\u001b[1;36m22\u001b[0m\u001b[1;33m,\u001b[0m\u001b[1;32mFalse\u001b[0m\u001b[1;33m)\u001b[0m\u001b[1;33m\u001b[0m\u001b[1;33m\u001b[0m\u001b[0m\n\u001b[0m",
      "\u001b[1;32m<ipython-input-240-821b2ebaf076>\u001b[0m in \u001b[0;36medge_plot_2\u001b[1;34m(dfo, sour, targ, ident, hed, ignore, show)\u001b[0m\n\u001b[0;32m     22\u001b[0m         \u001b[1;31m#dfo = dfo[dfo[targ].isin(counts.index)]\u001b[0m\u001b[1;33m\u001b[0m\u001b[1;33m\u001b[0m\u001b[1;33m\u001b[0m\u001b[0m\n\u001b[0;32m     23\u001b[0m \u001b[1;33m\u001b[0m\u001b[0m\n\u001b[1;32m---> 24\u001b[1;33m         \u001b[0mG\u001b[0m \u001b[1;33m=\u001b[0m \u001b[0mnx\u001b[0m\u001b[1;33m.\u001b[0m\u001b[0mfrom_pandas_edgelist\u001b[0m\u001b[1;33m(\u001b[0m\u001b[0mdfo\u001b[0m\u001b[1;33m,\u001b[0m\u001b[0msource\u001b[0m\u001b[1;33m=\u001b[0m\u001b[0msour\u001b[0m\u001b[1;33m,\u001b[0m\u001b[0mtarget\u001b[0m\u001b[1;33m=\u001b[0m\u001b[0mtarg\u001b[0m\u001b[1;33m)\u001b[0m\u001b[1;33m\u001b[0m\u001b[1;33m\u001b[0m\u001b[0m\n\u001b[0m\u001b[0;32m     25\u001b[0m         \u001b[1;32mfor\u001b[0m \u001b[0mcomponent\u001b[0m \u001b[1;32min\u001b[0m \u001b[0mlist\u001b[0m\u001b[1;33m(\u001b[0m\u001b[0mnx\u001b[0m\u001b[1;33m.\u001b[0m\u001b[0mconnected_components\u001b[0m\u001b[1;33m(\u001b[0m\u001b[0mG\u001b[0m\u001b[1;33m)\u001b[0m\u001b[1;33m)\u001b[0m\u001b[1;33m:\u001b[0m\u001b[1;33m\u001b[0m\u001b[1;33m\u001b[0m\u001b[0m\n\u001b[0;32m     26\u001b[0m             \u001b[1;32mif\u001b[0m \u001b[0mlen\u001b[0m\u001b[1;33m(\u001b[0m\u001b[0mcomponent\u001b[0m\u001b[1;33m)\u001b[0m\u001b[1;33m<\u001b[0m\u001b[0mignore\u001b[0m\u001b[1;33m:\u001b[0m\u001b[1;33m\u001b[0m\u001b[1;33m\u001b[0m\u001b[0m\n",
      "\u001b[1;32mG:\\Programs\\Anaconda\\envs\\det\\lib\\site-packages\\networkx\\convert_matrix.py\u001b[0m in \u001b[0;36mfrom_pandas_edgelist\u001b[1;34m(df, source, target, edge_attr, create_using, edge_key)\u001b[0m\n\u001b[0;32m    389\u001b[0m \u001b[1;33m\u001b[0m\u001b[0m\n\u001b[0;32m    390\u001b[0m     \u001b[1;32mif\u001b[0m \u001b[0medge_attr\u001b[0m \u001b[1;32mis\u001b[0m \u001b[1;32mNone\u001b[0m\u001b[1;33m:\u001b[0m\u001b[1;33m\u001b[0m\u001b[1;33m\u001b[0m\u001b[0m\n\u001b[1;32m--> 391\u001b[1;33m         \u001b[0mg\u001b[0m\u001b[1;33m.\u001b[0m\u001b[0madd_edges_from\u001b[0m\u001b[1;33m(\u001b[0m\u001b[0mzip\u001b[0m\u001b[1;33m(\u001b[0m\u001b[0mdf\u001b[0m\u001b[1;33m[\u001b[0m\u001b[0msource\u001b[0m\u001b[1;33m]\u001b[0m\u001b[1;33m,\u001b[0m \u001b[0mdf\u001b[0m\u001b[1;33m[\u001b[0m\u001b[0mtarget\u001b[0m\u001b[1;33m]\u001b[0m\u001b[1;33m)\u001b[0m\u001b[1;33m)\u001b[0m\u001b[1;33m\u001b[0m\u001b[1;33m\u001b[0m\u001b[0m\n\u001b[0m\u001b[0;32m    392\u001b[0m         \u001b[1;32mreturn\u001b[0m \u001b[0mg\u001b[0m\u001b[1;33m\u001b[0m\u001b[1;33m\u001b[0m\u001b[0m\n\u001b[0;32m    393\u001b[0m \u001b[1;33m\u001b[0m\u001b[0m\n",
      "\u001b[1;32mG:\\Programs\\Anaconda\\envs\\det\\lib\\site-packages\\networkx\\classes\\graph.py\u001b[0m in \u001b[0;36madd_edges_from\u001b[1;34m(self, ebunch_to_add, **attr)\u001b[0m\n\u001b[0;32m    937\u001b[0m             \u001b[0mdatadict\u001b[0m \u001b[1;33m=\u001b[0m \u001b[0mself\u001b[0m\u001b[1;33m.\u001b[0m\u001b[0m_adj\u001b[0m\u001b[1;33m[\u001b[0m\u001b[0mu\u001b[0m\u001b[1;33m]\u001b[0m\u001b[1;33m.\u001b[0m\u001b[0mget\u001b[0m\u001b[1;33m(\u001b[0m\u001b[0mv\u001b[0m\u001b[1;33m,\u001b[0m \u001b[0mself\u001b[0m\u001b[1;33m.\u001b[0m\u001b[0medge_attr_dict_factory\u001b[0m\u001b[1;33m(\u001b[0m\u001b[1;33m)\u001b[0m\u001b[1;33m)\u001b[0m\u001b[1;33m\u001b[0m\u001b[1;33m\u001b[0m\u001b[0m\n\u001b[0;32m    938\u001b[0m             \u001b[0mdatadict\u001b[0m\u001b[1;33m.\u001b[0m\u001b[0mupdate\u001b[0m\u001b[1;33m(\u001b[0m\u001b[0mattr\u001b[0m\u001b[1;33m)\u001b[0m\u001b[1;33m\u001b[0m\u001b[1;33m\u001b[0m\u001b[0m\n\u001b[1;32m--> 939\u001b[1;33m             \u001b[0mdatadict\u001b[0m\u001b[1;33m.\u001b[0m\u001b[0mupdate\u001b[0m\u001b[1;33m(\u001b[0m\u001b[0mdd\u001b[0m\u001b[1;33m)\u001b[0m\u001b[1;33m\u001b[0m\u001b[1;33m\u001b[0m\u001b[0m\n\u001b[0m\u001b[0;32m    940\u001b[0m             \u001b[0mself\u001b[0m\u001b[1;33m.\u001b[0m\u001b[0m_adj\u001b[0m\u001b[1;33m[\u001b[0m\u001b[0mu\u001b[0m\u001b[1;33m]\u001b[0m\u001b[1;33m[\u001b[0m\u001b[0mv\u001b[0m\u001b[1;33m]\u001b[0m \u001b[1;33m=\u001b[0m \u001b[0mdatadict\u001b[0m\u001b[1;33m\u001b[0m\u001b[1;33m\u001b[0m\u001b[0m\n\u001b[0;32m    941\u001b[0m             \u001b[0mself\u001b[0m\u001b[1;33m.\u001b[0m\u001b[0m_adj\u001b[0m\u001b[1;33m[\u001b[0m\u001b[0mv\u001b[0m\u001b[1;33m]\u001b[0m\u001b[1;33m[\u001b[0m\u001b[0mu\u001b[0m\u001b[1;33m]\u001b[0m \u001b[1;33m=\u001b[0m \u001b[0mdatadict\u001b[0m\u001b[1;33m\u001b[0m\u001b[1;33m\u001b[0m\u001b[0m\n",
      "\u001b[1;31mKeyboardInterrupt\u001b[0m: "
     ]
    }
   ],
   "source": [
    "edge_plot_2(df_p,\"UserName\",\"Device\",\"df_p_no_20_edge\",\"complete\",22,False)"
   ]
  },
  {
   "cell_type": "code",
   "execution_count": null,
   "id": "26a068b2-0c8d-4786-a7e6-e2b474aeb5f2",
   "metadata": {},
   "outputs": [],
   "source": [
    "edge_plot_2(df_un_top_10000,\"UserName\",\"Device\",\"df_top_10000_no_20_edge\",\"complete\",22,False)"
   ]
  },
  {
   "cell_type": "code",
   "execution_count": null,
   "id": "93bec95f-928a-4b70-814f-513fbe0c3693",
   "metadata": {},
   "outputs": [],
   "source": [
    "edge_plot_2(df_un_top_100,\"UserName\",\"Device\",\"df_top_100_no_20_edge\",\"complete\",22,False)"
   ]
  },
  {
   "cell_type": "code",
   "execution_count": 246,
   "id": "3956486a-2295-4a38-b4e2-7718c52c0b1b",
   "metadata": {},
   "outputs": [
    {
     "name": "stdout",
     "output_type": "stream",
     "text": [
      "Completed in :0:00:09.107021\n"
     ]
    }
   ],
   "source": [
    "edge_plot_2(df_un_top_10000,\"UserName\",\"Device\",\"df_top_10000_1_edge\",1000000,3,False)"
   ]
  },
  {
   "cell_type": "code",
   "execution_count": 245,
   "id": "34367806-79c0-44cb-b3c5-4bac6ce0d3e3",
   "metadata": {},
   "outputs": [
    {
     "name": "stdout",
     "output_type": "stream",
     "text": [
      "Completed in :0:00:01.518112\n"
     ]
    }
   ],
   "source": [
    "edge_plot_2(df_un_top_10000,\"UserName\",\"Device\",\"df_un_top_10000_no_1_edge\",100000,3,False)"
   ]
  },
  {
   "cell_type": "code",
   "execution_count": 193,
   "id": "b3bcde97-ec9b-40fe-83a1-b886b0d93928",
   "metadata": {},
   "outputs": [
    {
     "data": {
      "text/plain": [
       "User272607       8946\n",
       "Scanner          2355\n",
       "Administrator     437\n",
       "User583334        165\n",
       "User724397        143\n",
       "                 ... \n",
       "User751030          2\n",
       "User350352          2\n",
       "User667644          2\n",
       "User962712          2\n",
       "User325667          2\n",
       "Name: UserName, Length: 860, dtype: int64"
      ]
     },
     "execution_count": 193,
     "metadata": {},
     "output_type": "execute_result"
    }
   ],
   "source": [
    "counts_3"
   ]
  },
  {
   "cell_type": "code",
   "execution_count": 232,
   "id": "d6d86321-849f-4730-ac13-b74ba671f5d2",
   "metadata": {},
   "outputs": [
    {
     "data": {
      "text/plain": [
       "96"
      ]
     },
     "execution_count": 232,
     "metadata": {},
     "output_type": "execute_result"
    }
   ],
   "source": [
    "G = nx.from_pandas_edgelist(df_un_top_10000.head(100),source=\"UserName\",target=\"Device\")\n",
    "len(list(nx.connected_components(G)))"
   ]
  },
  {
   "cell_type": "code",
   "execution_count": 236,
   "id": "cb8efb72-546c-4c72-9fee-e7a77410053c",
   "metadata": {},
   "outputs": [],
   "source": [
    "for component in list(nx.connected_components(G)):\n",
    "    if len(component)<3:\n",
    "        for node in component:\n",
    "            G.remove_node(node)"
   ]
  },
  {
   "cell_type": "code",
   "execution_count": 237,
   "id": "130f9124-3fd7-4a59-ac87-bb53469752a2",
   "metadata": {},
   "outputs": [
    {
     "data": {
      "text/plain": [
       "1"
      ]
     },
     "execution_count": 237,
     "metadata": {},
     "output_type": "execute_result"
    }
   ],
   "source": [
    "len(list(nx.connected_components(G)))"
   ]
  },
  {
   "cell_type": "markdown",
   "id": "0192e992-6339-4978-a213-20d570e7671a",
   "metadata": {},
   "source": [
    "## Aside into memory usage in Python\n",
    "\n",
    "An interesting function that defines the total memory each defined variable uses, however it doesn't apply properly for pandas dataframes, use the pandas.info() function also used below."
   ]
  },
  {
   "cell_type": "code",
   "execution_count": 94,
   "id": "76956849-c83f-4316-8459-9c536ca43025",
   "metadata": {},
   "outputs": [
    {
     "name": "stdout",
     "output_type": "stream",
     "text": [
      "                          df_p: 14.5 GiB\n",
      "                 df_un_top_100: 372.7 MiB\n",
      "                           _40: 372.7 MiB\n",
      "                     df_counts:  6.5 MiB\n",
      "                        df_100:  1.8 MiB\n",
      "                             z: 899.0 KiB\n",
      "                             y: 95.7 KiB\n",
      "                       top_100:  6.8 KiB\n",
      "                           _14:  4.6 KiB\n",
      "                           _42:  3.0 KiB\n"
     ]
    }
   ],
   "source": [
    "import sys\n",
    "def sizeof_fmt(num, suffix='B'):\n",
    "    ''' by Fred Cirera,  https://stackoverflow.com/a/1094933/1870254, modified'''\n",
    "    for unit in ['','Ki','Mi','Gi','Ti','Pi','Ei','Zi']:\n",
    "        if abs(num) < 1024.0:\n",
    "            return \"%3.1f %s%s\" % (num, unit, suffix)\n",
    "        num /= 1024.0\n",
    "    return \"%.1f %s%s\" % (num, 'Yi', suffix)\n",
    "\n",
    "for name, size in sorted(((name, sys.getsizeof(value)) for name, value in locals().items()),\n",
    "                         key= lambda x: -x[1])[:10]:\n",
    "    print(\"{:>30}: {:>8}\".format(name, sizeof_fmt(size)))"
   ]
  },
  {
   "cell_type": "code",
   "execution_count": 86,
   "id": "c261a34e-8dbe-4b83-93cf-4383fae5a7cc",
   "metadata": {},
   "outputs": [
    {
     "name": "stdout",
     "output_type": "stream",
     "text": [
      "Variable              Type         Data/Info\n",
      "--------------------------------------------\n",
      "data_quality_report   DataFrame                      Data Ty<...>    15374               0\n",
      "df_100                DataFrame                   UserName  <...>n[13228 rows x 3 columns]\n",
      "df_counts             DataFrame                       UserNa<...>n[25373 rows x 8 columns]\n",
      "df_desc               DataFrame            UserName         <...>2325974          12633664\n",
      "df_p                  DataFrame                 UserName    <...>5981618 rows x 5 columns]\n",
      "df_un_top_100         DataFrame                      UserNam<...>1137756 rows x 6 columns]\n",
      "z                     DataFrame          ParentProcessName  <...>n[12226 rows x 2 columns]\n"
     ]
    }
   ],
   "source": [
    "%whos DataFrame"
   ]
  },
  {
   "cell_type": "code",
   "execution_count": 92,
   "id": "40fe4d04-46ee-4fc6-a6b4-df1f90011bfa",
   "metadata": {},
   "outputs": [
    {
     "name": "stdout",
     "output_type": "stream",
     "text": [
      "<class 'pandas.core.frame.DataFrame'>\n",
      "RangeIndex: 55981618 entries, 0 to 55981617\n",
      "Data columns (total 5 columns):\n",
      " #   Column             Dtype \n",
      "---  ------             ----- \n",
      " 0   UserName           object\n",
      " 1   Device             object\n",
      " 2   ProcessName        object\n",
      " 3   ParentProcessName  object\n",
      " 4   DailyCount         int64 \n",
      "dtypes: int64(1), object(4)\n",
      "memory usage: 2.1+ GB\n"
     ]
    }
   ],
   "source": [
    "df_p.info()"
   ]
  },
  {
   "cell_type": "markdown",
   "id": "eb88395d-bad7-4580-b02b-92c865faa892",
   "metadata": {},
   "source": [
    "## References\n",
    "\n",
    "[Visualising Networks in Python](https://towardsdatascience.com/visualizing-networks-in-python-d70f4cbeb259)\n",
    "https://stackoverflow.com/questions/38308865/how-to-remove-small-components-from-a-graph"
   ]
  }
 ],
 "metadata": {
  "kernelspec": {
   "display_name": "Python 3",
   "language": "python",
   "name": "python3"
  },
  "language_info": {
   "codemirror_mode": {
    "name": "ipython",
    "version": 3
   },
   "file_extension": ".py",
   "mimetype": "text/x-python",
   "name": "python",
   "nbconvert_exporter": "python",
   "pygments_lexer": "ipython3",
   "version": "3.8.10"
  }
 },
 "nbformat": 4,
 "nbformat_minor": 5
}
