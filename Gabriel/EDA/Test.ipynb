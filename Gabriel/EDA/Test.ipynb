{
 "cells": [
  {
   "cell_type": "code",
   "execution_count": 2,
   "id": "e2b253b1-f647-4f24-b3f2-4b411d57c695",
   "metadata": {},
   "outputs": [
    {
     "name": "stderr",
     "output_type": "stream",
     "text": [
      "UserWarning: The pandas version installed 1.2.3 does not match the supported pandas version in Modin 1.2.4. This may cause undesired side effects!\n"
     ]
    }
   ],
   "source": [
    "import modin.pandas as mpd\n",
    "from datetime import datetime as dt"
   ]
  },
  {
   "cell_type": "code",
   "execution_count": null,
   "id": "351fe6f1-bc15-4fc8-9aa2-f6b308772ab1",
   "metadata": {},
   "outputs": [],
   "source": [
    "start = dt.now()\n",
    "df_p = mpd.read_csv(\"https://www.dropbox.com/s/c065rcq72abzm0s/Authentication_data.gz?dl=1\",compression=\"gzip\")\n",
    "print(\"Data fetched in \"+str(dt.now()-start))"
   ]
  }
 ],
 "metadata": {
  "kernelspec": {
   "display_name": "Python 3",
   "language": "python",
   "name": "python3"
  },
  "language_info": {
   "codemirror_mode": {
    "name": "ipython",
    "version": 3
   },
   "file_extension": ".py",
   "mimetype": "text/x-python",
   "name": "python",
   "nbconvert_exporter": "python",
   "pygments_lexer": "ipython3",
   "version": "3.8.10"
  }
 },
 "nbformat": 4,
 "nbformat_minor": 5
}
