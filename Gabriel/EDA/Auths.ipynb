{
 "cells": [
  {
   "cell_type": "code",
   "execution_count": 2,
   "id": "2cd8014c-2205-4c33-9dc3-7585526ba8f8",
   "metadata": {},
   "outputs": [],
   "source": [
    "import pandas as pd\n",
    "from datetime import datetime as dt"
   ]
  },
  {
   "cell_type": "code",
   "execution_count": 3,
   "id": "cddba130-6388-44b0-8684-240ac9956211",
   "metadata": {},
   "outputs": [],
   "source": [
    "start = 0\n",
    "def dtn():\n",
    "    \"\"\"Sets start variable to the current date and time\n",
    "    \n",
    "    IMPORTANT: must define global start variable before using\"\"\"\n",
    "    global start\n",
    "    start = dt.now()\n",
    "    \n",
    "def end():\n",
    "    \"\"\"Using in conjunction with dtn() function, returns the time taken between dtn() and this function being called\"\"\"\n",
    "    return str(dt.now()-start)\n",
    "\n",
    "def gen_end():\n",
    "    \"\"\"Generic function that gives a string telling how long it has been since dtn() was called. Can be used instead of end()\"\"\"\n",
    "    stop = end()\n",
    "    print(\"Completed in :\"+stop)"
   ]
  },
  {
   "cell_type": "code",
   "execution_count": 4,
   "id": "9556d65a-da3c-47fa-870e-93a9d20debd1",
   "metadata": {},
   "outputs": [
    {
     "name": "stdout",
     "output_type": "stream",
     "text": [
      "Looking for local copy of data...\n",
      "Data fetched locally in 0:00:21.068418\n"
     ]
    }
   ],
   "source": [
    "try:\n",
    "    print(\"Looking for local copy of data...\")\n",
    "    dtn()\n",
    "    df_a = pd.read_csv(\"G:/Users/Gabriel/Documents/Education/UoB/GitHubDesktop/Advanced-Cyber-Analytics-for-Attack-Detection/Data/Authentication data.gz\",compression=\"gzip\")\n",
    "    stop = end()\n",
    "    print(\"Data fetched locally in \"+stop)\n",
    "except OSError as e:\n",
    "    if e.errno == 2:\n",
    "        print(\"No Local data found. Importing from the web.\")\n",
    "        dtn()\n",
    "        df_a = pd.read_csv(\"https://www.dropbox.com/s/c065rcq72abzm0s/Authentication_data.gz?dl=1\",compression=\"gzip\")\n",
    "        stop = end()\n",
    "        print(\"Data fetched from web in \"+stop)\n",
    "    else:\n",
    "        print(e)"
   ]
  },
  {
   "cell_type": "code",
   "execution_count": 9,
   "id": "3f9ce800-a417-4ec7-9b6e-7daef26783d7",
   "metadata": {},
   "outputs": [
    {
     "ename": "AttributeError",
     "evalue": "'DataFrame' object has no attribute 'get_loc'",
     "output_type": "error",
     "traceback": [
      "\u001b[1;31m---------------------------------------------------------------------------\u001b[0m",
      "\u001b[1;31mAttributeError\u001b[0m                            Traceback (most recent call last)",
      "\u001b[1;32m<ipython-input-9-d45931fb19f7>\u001b[0m in \u001b[0;36m<module>\u001b[1;34m\u001b[0m\n\u001b[1;32m----> 1\u001b[1;33m \u001b[0mdf_a\u001b[0m\u001b[1;33m.\u001b[0m\u001b[0mget_loc\u001b[0m\u001b[1;33m(\u001b[0m\u001b[1;36m20\u001b[0m\u001b[1;33m)\u001b[0m\u001b[1;33m\u001b[0m\u001b[1;33m\u001b[0m\u001b[0m\n\u001b[0m",
      "\u001b[1;32mG:\\Programs\\Anaconda\\envs\\det\\lib\\site-packages\\pandas\\core\\generic.py\u001b[0m in \u001b[0;36m__getattr__\u001b[1;34m(self, name)\u001b[0m\n\u001b[0;32m   5463\u001b[0m             \u001b[1;32mif\u001b[0m \u001b[0mself\u001b[0m\u001b[1;33m.\u001b[0m\u001b[0m_info_axis\u001b[0m\u001b[1;33m.\u001b[0m\u001b[0m_can_hold_identifiers_and_holds_name\u001b[0m\u001b[1;33m(\u001b[0m\u001b[0mname\u001b[0m\u001b[1;33m)\u001b[0m\u001b[1;33m:\u001b[0m\u001b[1;33m\u001b[0m\u001b[1;33m\u001b[0m\u001b[0m\n\u001b[0;32m   5464\u001b[0m                 \u001b[1;32mreturn\u001b[0m \u001b[0mself\u001b[0m\u001b[1;33m[\u001b[0m\u001b[0mname\u001b[0m\u001b[1;33m]\u001b[0m\u001b[1;33m\u001b[0m\u001b[1;33m\u001b[0m\u001b[0m\n\u001b[1;32m-> 5465\u001b[1;33m             \u001b[1;32mreturn\u001b[0m \u001b[0mobject\u001b[0m\u001b[1;33m.\u001b[0m\u001b[0m__getattribute__\u001b[0m\u001b[1;33m(\u001b[0m\u001b[0mself\u001b[0m\u001b[1;33m,\u001b[0m \u001b[0mname\u001b[0m\u001b[1;33m)\u001b[0m\u001b[1;33m\u001b[0m\u001b[1;33m\u001b[0m\u001b[0m\n\u001b[0m\u001b[0;32m   5466\u001b[0m \u001b[1;33m\u001b[0m\u001b[0m\n\u001b[0;32m   5467\u001b[0m     \u001b[1;32mdef\u001b[0m \u001b[0m__setattr__\u001b[0m\u001b[1;33m(\u001b[0m\u001b[0mself\u001b[0m\u001b[1;33m,\u001b[0m \u001b[0mname\u001b[0m\u001b[1;33m:\u001b[0m \u001b[0mstr\u001b[0m\u001b[1;33m,\u001b[0m \u001b[0mvalue\u001b[0m\u001b[1;33m)\u001b[0m \u001b[1;33m->\u001b[0m \u001b[1;32mNone\u001b[0m\u001b[1;33m:\u001b[0m\u001b[1;33m\u001b[0m\u001b[1;33m\u001b[0m\u001b[0m\n",
      "\u001b[1;31mAttributeError\u001b[0m: 'DataFrame' object has no attribute 'get_loc'"
     ]
    }
   ],
   "source": []
  },
  {
   "cell_type": "code",
   "execution_count": 4,
   "id": "60b8e59c-e113-433c-b11f-385c150f7b54",
   "metadata": {},
   "outputs": [
    {
     "data": {
      "text/html": [
       "<div>\n",
       "<style scoped>\n",
       "    .dataframe tbody tr th:only-of-type {\n",
       "        vertical-align: middle;\n",
       "    }\n",
       "\n",
       "    .dataframe tbody tr th {\n",
       "        vertical-align: top;\n",
       "    }\n",
       "\n",
       "    .dataframe thead th {\n",
       "        text-align: right;\n",
       "    }\n",
       "</style>\n",
       "<table border=\"1\" class=\"dataframe\">\n",
       "  <thead>\n",
       "    <tr style=\"text-align: right;\">\n",
       "      <th></th>\n",
       "      <th>Unnamed: 0</th>\n",
       "      <th>UserName</th>\n",
       "      <th>Device</th>\n",
       "      <th>ProcessName</th>\n",
       "      <th>ParentProcessName</th>\n",
       "      <th>DailyCount</th>\n",
       "    </tr>\n",
       "  </thead>\n",
       "  <tbody>\n",
       "    <tr>\n",
       "      <th>55981613</th>\n",
       "      <td>251545</td>\n",
       "      <td>Comp738970$</td>\n",
       "      <td>Comp738970</td>\n",
       "      <td>Proc207472.exe</td>\n",
       "      <td>svchost</td>\n",
       "      <td>2</td>\n",
       "    </tr>\n",
       "    <tr>\n",
       "      <th>55981614</th>\n",
       "      <td>251546</td>\n",
       "      <td>User925794</td>\n",
       "      <td>Comp097857</td>\n",
       "      <td>cmd.exe</td>\n",
       "      <td>Proc174492</td>\n",
       "      <td>2</td>\n",
       "    </tr>\n",
       "    <tr>\n",
       "      <th>55981615</th>\n",
       "      <td>251547</td>\n",
       "      <td>Comp996714$</td>\n",
       "      <td>Comp996714</td>\n",
       "      <td>Proc612297.exe</td>\n",
       "      <td>services</td>\n",
       "      <td>5</td>\n",
       "    </tr>\n",
       "    <tr>\n",
       "      <th>55981616</th>\n",
       "      <td>251548</td>\n",
       "      <td>Comp391736$</td>\n",
       "      <td>Comp391736</td>\n",
       "      <td>rundll32.exe</td>\n",
       "      <td>Proc247259</td>\n",
       "      <td>2</td>\n",
       "    </tr>\n",
       "    <tr>\n",
       "      <th>55981617</th>\n",
       "      <td>251549</td>\n",
       "      <td>Comp769777$</td>\n",
       "      <td>Comp769777</td>\n",
       "      <td>rundll32.exe</td>\n",
       "      <td>rundll32</td>\n",
       "      <td>3</td>\n",
       "    </tr>\n",
       "  </tbody>\n",
       "</table>\n",
       "</div>"
      ],
      "text/plain": [
       "          Unnamed: 0     UserName      Device     ProcessName  \\\n",
       "55981613      251545  Comp738970$  Comp738970  Proc207472.exe   \n",
       "55981614      251546   User925794  Comp097857         cmd.exe   \n",
       "55981615      251547  Comp996714$  Comp996714  Proc612297.exe   \n",
       "55981616      251548  Comp391736$  Comp391736    rundll32.exe   \n",
       "55981617      251549  Comp769777$  Comp769777    rundll32.exe   \n",
       "\n",
       "         ParentProcessName  DailyCount  \n",
       "55981613           svchost           2  \n",
       "55981614        Proc174492           2  \n",
       "55981615          services           5  \n",
       "55981616        Proc247259           2  \n",
       "55981617          rundll32           3  "
      ]
     },
     "execution_count": 4,
     "metadata": {},
     "output_type": "execute_result"
    }
   ],
   "source": [
    "df_p.tail()"
   ]
  },
  {
   "cell_type": "code",
   "execution_count": 5,
   "id": "a6651ac4-7be3-4496-b47c-f06f2cda3ebe",
   "metadata": {},
   "outputs": [],
   "source": [
    "def data_qual(df):\n",
    "    global data_quality_report\n",
    "    #DataFrame with columns\n",
    "    columns = pd.DataFrame(list(df.columns.values[1:]))\n",
    "\n",
    "    #DataFrame with data types\n",
    "    data_types = pd.DataFrame(df.dtypes, columns=['Data Type'])\n",
    "\n",
    "    #DataFrame with Count\n",
    "    data_count = pd.DataFrame(df.count(), columns=['Count'])\n",
    "\n",
    "    #DataFrame with unique values\n",
    "    unique_value_counts = pd.DataFrame(columns=['Unique Values'])\n",
    "    for v in list(df.columns.values):\n",
    "        unique_value_counts.loc[v] = [df[v].nunique()]\n",
    "\n",
    "    missing_data_counts = pd.DataFrame(df.isnull().sum(), columns=['Missing Values'])\n",
    "    data_quality_report = data_types.join(data_count).join(unique_value_counts).join(missing_data_counts)\n",
    "    print('Data Quality Report')"
   ]
  },
  {
   "cell_type": "code",
   "execution_count": 6,
   "id": "d352adce-2084-49d8-98b5-4f783e5b5d34",
   "metadata": {},
   "outputs": [
    {
     "name": "stdout",
     "output_type": "stream",
     "text": [
      "Data Quality Report\n",
      "Process Data\n"
     ]
    },
    {
     "data": {
      "text/html": [
       "<div>\n",
       "<style scoped>\n",
       "    .dataframe tbody tr th:only-of-type {\n",
       "        vertical-align: middle;\n",
       "    }\n",
       "\n",
       "    .dataframe tbody tr th {\n",
       "        vertical-align: top;\n",
       "    }\n",
       "\n",
       "    .dataframe thead th {\n",
       "        text-align: right;\n",
       "    }\n",
       "</style>\n",
       "<table border=\"1\" class=\"dataframe\">\n",
       "  <thead>\n",
       "    <tr style=\"text-align: right;\">\n",
       "      <th></th>\n",
       "      <th>Data Type</th>\n",
       "      <th>Count</th>\n",
       "      <th>Unique Values</th>\n",
       "      <th>Missing Values</th>\n",
       "    </tr>\n",
       "  </thead>\n",
       "  <tbody>\n",
       "    <tr>\n",
       "      <th>Unnamed: 0</th>\n",
       "      <td>int64</td>\n",
       "      <td>55981618</td>\n",
       "      <td>1213395</td>\n",
       "      <td>0</td>\n",
       "    </tr>\n",
       "    <tr>\n",
       "      <th>UserName</th>\n",
       "      <td>object</td>\n",
       "      <td>55981618</td>\n",
       "      <td>25320</td>\n",
       "      <td>0</td>\n",
       "    </tr>\n",
       "    <tr>\n",
       "      <th>Device</th>\n",
       "      <td>object</td>\n",
       "      <td>55981618</td>\n",
       "      <td>13476</td>\n",
       "      <td>0</td>\n",
       "    </tr>\n",
       "    <tr>\n",
       "      <th>ProcessName</th>\n",
       "      <td>object</td>\n",
       "      <td>55981618</td>\n",
       "      <td>25373</td>\n",
       "      <td>0</td>\n",
       "    </tr>\n",
       "    <tr>\n",
       "      <th>ParentProcessName</th>\n",
       "      <td>object</td>\n",
       "      <td>55981618</td>\n",
       "      <td>12226</td>\n",
       "      <td>0</td>\n",
       "    </tr>\n",
       "    <tr>\n",
       "      <th>DailyCount</th>\n",
       "      <td>int64</td>\n",
       "      <td>55981618</td>\n",
       "      <td>15374</td>\n",
       "      <td>0</td>\n",
       "    </tr>\n",
       "  </tbody>\n",
       "</table>\n",
       "</div>"
      ],
      "text/plain": [
       "                  Data Type     Count Unique Values  Missing Values\n",
       "Unnamed: 0            int64  55981618       1213395               0\n",
       "UserName             object  55981618         25320               0\n",
       "Device               object  55981618         13476               0\n",
       "ProcessName          object  55981618         25373               0\n",
       "ParentProcessName    object  55981618         12226               0\n",
       "DailyCount            int64  55981618         15374               0"
      ]
     },
     "execution_count": 6,
     "metadata": {},
     "output_type": "execute_result"
    }
   ],
   "source": [
    "data_qual(df_p)\n",
    "print(\"Process Data\")\n",
    "data_quality_report"
   ]
  }
 ],
 "metadata": {
  "kernelspec": {
   "display_name": "Python 3",
   "language": "python",
   "name": "python3"
  },
  "language_info": {
   "codemirror_mode": {
    "name": "ipython",
    "version": 3
   },
   "file_extension": ".py",
   "mimetype": "text/x-python",
   "name": "python",
   "nbconvert_exporter": "python",
   "pygments_lexer": "ipython3",
   "version": "3.8.10"
  }
 },
 "nbformat": 4,
 "nbformat_minor": 5
}
