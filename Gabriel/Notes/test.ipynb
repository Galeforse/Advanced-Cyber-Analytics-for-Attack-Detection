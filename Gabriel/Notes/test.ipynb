{
 "cells": [
  {
   "cell_type": "code",
   "execution_count": 3,
   "id": "cfd3aa96-323d-476c-b2be-500217fb92b8",
   "metadata": {},
   "outputs": [
    {
     "data": {
      "text/plain": [
       "['G:/Users/Gabriel/Documents/Education/UoB/GitHubDesktop/Advanced-Cyber-Analytics-for-Attack-Detection/Modules/',\n",
       " 'G:\\\\Users\\\\Gabriel\\\\Documents\\\\Education\\\\UoB\\\\GitHubDesktop\\\\Advanced-Cyber-Analytics-for-Attack-Detection\\\\Gabriel\\\\Notes',\n",
       " 'G:\\\\Programs\\\\Anaconda\\\\envs\\\\det\\\\python38.zip',\n",
       " 'G:\\\\Programs\\\\Anaconda\\\\envs\\\\det\\\\DLLs',\n",
       " 'G:\\\\Programs\\\\Anaconda\\\\envs\\\\det\\\\lib',\n",
       " 'G:\\\\Programs\\\\Anaconda\\\\envs\\\\det',\n",
       " '',\n",
       " 'C:\\\\Users\\\\Gabriel\\\\AppData\\\\Roaming\\\\Python\\\\Python38\\\\site-packages',\n",
       " 'G:\\\\Programs\\\\Anaconda\\\\envs\\\\det\\\\lib\\\\site-packages',\n",
       " 'G:\\\\Programs\\\\Anaconda\\\\envs\\\\det\\\\lib\\\\site-packages\\\\win32',\n",
       " 'G:\\\\Programs\\\\Anaconda\\\\envs\\\\det\\\\lib\\\\site-packages\\\\win32\\\\lib',\n",
       " 'G:\\\\Programs\\\\Anaconda\\\\envs\\\\det\\\\lib\\\\site-packages\\\\Pythonwin',\n",
       " 'G:\\\\Programs\\\\Anaconda\\\\envs\\\\det\\\\lib\\\\site-packages\\\\IPython\\\\extensions',\n",
       " 'C:\\\\Users\\\\Gabriel\\\\.ipython']"
      ]
     },
     "execution_count": 3,
     "metadata": {},
     "output_type": "execute_result"
    }
   ],
   "source": [
    "import sys\n",
    "sys.path"
   ]
  },
  {
   "cell_type": "code",
   "execution_count": 2,
   "id": "1cdda5ab-83bc-433c-9ad7-710f031390e5",
   "metadata": {},
   "outputs": [],
   "source": [
    "sys.path.insert(0,'G:/Users/Gabriel/Documents/Education/UoB/GitHubDesktop/Advanced-Cyber-Analytics-for-Attack-Detection/Modules/')"
   ]
  },
  {
   "cell_type": "code",
   "execution_count": 4,
   "id": "45d5d042-a333-4169-b4e0-5de6edf06516",
   "metadata": {},
   "outputs": [],
   "source": [
    "from dt import *"
   ]
  }
 ],
 "metadata": {
  "kernelspec": {
   "display_name": "Python 3",
   "language": "python",
   "name": "python3"
  },
  "language_info": {
   "codemirror_mode": {
    "name": "ipython",
    "version": 3
   },
   "file_extension": ".py",
   "mimetype": "text/x-python",
   "name": "python",
   "nbconvert_exporter": "python",
   "pygments_lexer": "ipython3",
   "version": "3.8.10"
  }
 },
 "nbformat": 4,
 "nbformat_minor": 5
}
