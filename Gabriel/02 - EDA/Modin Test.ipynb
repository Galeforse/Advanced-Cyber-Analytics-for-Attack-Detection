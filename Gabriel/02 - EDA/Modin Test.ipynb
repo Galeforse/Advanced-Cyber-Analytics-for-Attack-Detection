{
 "cells": [
  {
   "cell_type": "markdown",
   "id": "caf911b1-de5c-4b37-9799-98840e3c24a9",
   "metadata": {},
   "source": [
    "# MODIN package testing\n",
    "\n",
    "In this notebook I briefly attempted to us the modin pandas version for paralysed processing to speed up the .csv reading process. The documentation said that by merely importing modin.pandas over normal pandas the parallelisation would take place and should see an increased speed of reading however if we look at the results it is infact slower. I set things up just as they described but it didn't obviously work so I didn't want to waste any extra time on this than I needed to."
   ]
  },
  {
   "cell_type": "code",
   "execution_count": 1,
   "id": "e2b253b1-f647-4f24-b3f2-4b411d57c695",
   "metadata": {},
   "outputs": [],
   "source": [
    "import os\n",
    "os.environ[\"MODIN_ENGINE\"] = \"dask\"  # Modin will use Dask\n",
    "import modin.pandas as mpd\n",
    "import pandas as pd\n",
    "from datetime import datetime as dt"
   ]
  },
  {
   "cell_type": "code",
   "execution_count": 4,
   "id": "351fe6f1-bc15-4fc8-9aa2-f6b308772ab1",
   "metadata": {},
   "outputs": [
    {
     "name": "stdout",
     "output_type": "stream",
     "text": [
      "Data fetched in 0:03:08.777836\n"
     ]
    }
   ],
   "source": [
    "start = dt.now()\n",
    "df_p = mpd.read_csv(\"G:/Users/Gabriel/Documents/Education/UoB/GitHubDesktop/Advanced-Cyber-Analytics-for-Attack-Detection/Data/Process data.gz\")\n",
    "print(\"Data fetched in \"+str(dt.now()-start))"
   ]
  },
  {
   "cell_type": "code",
   "execution_count": 3,
   "id": "70c29c3c-f20b-4592-a89e-9a033361e45b",
   "metadata": {},
   "outputs": [
    {
     "name": "stdout",
     "output_type": "stream",
     "text": [
      "Data fetched in 0:01:16.357370\n"
     ]
    }
   ],
   "source": [
    "start = dt.now()\n",
    "df_p = pd.read_csv(\"G:/Users/Gabriel/Documents/Education/UoB/GitHubDesktop/Advanced-Cyber-Analytics-for-Attack-Detection/Data/Process data.gz\")\n",
    "print(\"Data fetched in \"+str(dt.now()-start))"
   ]
  }
 ],
 "metadata": {
  "kernelspec": {
   "display_name": "Python 3",
   "language": "python",
   "name": "python3"
  },
  "language_info": {
   "codemirror_mode": {
    "name": "ipython",
    "version": 3
   },
   "file_extension": ".py",
   "mimetype": "text/x-python",
   "name": "python",
   "nbconvert_exporter": "python",
   "pygments_lexer": "ipython3",
   "version": "3.8.10"
  }
 },
 "nbformat": 4,
 "nbformat_minor": 5
}
