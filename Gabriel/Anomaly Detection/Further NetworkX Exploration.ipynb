{
 "cells": [
  {
   "cell_type": "markdown",
   "id": "f84a1d75-8e8a-431b-9771-578c115b2de1",
   "metadata": {},
   "source": [
    "# Adjacency Matrix using NetworkX\n",
    "\n",
    "First we import packages as usual:"
   ]
  },
  {
   "cell_type": "code",
   "execution_count": 1,
   "id": "c8a3498b-af74-4cfb-9853-4cf5c7aa8633",
   "metadata": {},
   "outputs": [],
   "source": [
    "import sys\n",
    "sys.path.insert(0,'G:/Users/Gabriel/Documents/Education/UoB/GitHubDesktop/Advanced-Cyber-Analytics-for-Attack-Detection/Modules/')\n",
    "import pandas as pd\n",
    "import numpy as np\n",
    "from dt import *\n",
    "from startup_g import *\n",
    "import networkx as nx\n",
    "from pyvis.network import Network\n",
    "from random import randint"
   ]
  },
  {
   "cell_type": "code",
   "execution_count": 2,
   "id": "43d1d373-3cb8-41e3-857e-7fda858828aa",
   "metadata": {},
   "outputs": [
    {
     "name": "stdout",
     "output_type": "stream",
     "text": [
      "Looking for local copy of Auth data...\n"
     ]
    },
    {
     "name": "stderr",
     "output_type": "stream",
     "text": [
      "G:\\Programs\\Anaconda\\envs\\det\\lib\\site-packages\\numpy\\lib\\arraysetops.py:583: FutureWarning: elementwise comparison failed; returning scalar instead, but in the future will perform elementwise comparison\n",
      "  mask |= (ar1 == a)\n"
     ]
    },
    {
     "name": "stdout",
     "output_type": "stream",
     "text": [
      "Auth data fetched locally in 0:00:21.506681\n"
     ]
    }
   ],
   "source": [
    "df_a = auth_import()"
   ]
  },
  {
   "cell_type": "markdown",
   "id": "a545d68f-d187-45b0-bf10-b85fbe004517",
   "metadata": {},
   "source": [
    "Index by days:"
   ]
  },
  {
   "cell_type": "code",
   "execution_count": 3,
   "id": "f7233f94-fd75-4a11-856c-58a8f19c8dc6",
   "metadata": {},
   "outputs": [
    {
     "data": {
      "text/html": [
       "<div>\n",
       "<style scoped>\n",
       "    .dataframe tbody tr th:only-of-type {\n",
       "        vertical-align: middle;\n",
       "    }\n",
       "\n",
       "    .dataframe tbody tr th {\n",
       "        vertical-align: top;\n",
       "    }\n",
       "\n",
       "    .dataframe thead th {\n",
       "        text-align: right;\n",
       "    }\n",
       "</style>\n",
       "<table border=\"1\" class=\"dataframe\">\n",
       "  <thead>\n",
       "    <tr style=\"text-align: right;\">\n",
       "      <th></th>\n",
       "      <th>UserName</th>\n",
       "      <th>SrcDevice</th>\n",
       "      <th>DstDevice</th>\n",
       "      <th>Authent Type</th>\n",
       "      <th>Failure</th>\n",
       "      <th>DailyCount</th>\n",
       "    </tr>\n",
       "  </thead>\n",
       "  <tbody>\n",
       "    <tr>\n",
       "      <th>0</th>\n",
       "      <td>User035855</td>\n",
       "      <td>Comp808475</td>\n",
       "      <td>Comp081330</td>\n",
       "      <td>TGS</td>\n",
       "      <td>0</td>\n",
       "      <td>17.0</td>\n",
       "    </tr>\n",
       "    <tr>\n",
       "      <th>1</th>\n",
       "      <td>Comp655251$</td>\n",
       "      <td>Comp655251</td>\n",
       "      <td>ActiveDirectory</td>\n",
       "      <td>NetworkLogon</td>\n",
       "      <td>0</td>\n",
       "      <td>350.0</td>\n",
       "    </tr>\n",
       "    <tr>\n",
       "      <th>2</th>\n",
       "      <td>User762066</td>\n",
       "      <td>Comp306129</td>\n",
       "      <td>ActiveDirectory</td>\n",
       "      <td>TGS</td>\n",
       "      <td>0</td>\n",
       "      <td>22.0</td>\n",
       "    </tr>\n",
       "    <tr>\n",
       "      <th>3</th>\n",
       "      <td>User384215</td>\n",
       "      <td>Comp095190</td>\n",
       "      <td>EnterpriseAppServer</td>\n",
       "      <td>NetworkLogon</td>\n",
       "      <td>0</td>\n",
       "      <td>35.0</td>\n",
       "    </tr>\n",
       "    <tr>\n",
       "      <th>4</th>\n",
       "      <td>User043263</td>\n",
       "      <td>Comp883307</td>\n",
       "      <td>Comp384394</td>\n",
       "      <td>TGS</td>\n",
       "      <td>0</td>\n",
       "      <td>2.0</td>\n",
       "    </tr>\n",
       "  </tbody>\n",
       "</table>\n",
       "</div>"
      ],
      "text/plain": [
       "      UserName   SrcDevice            DstDevice  Authent Type  Failure  \\\n",
       "0   User035855  Comp808475           Comp081330           TGS        0   \n",
       "1  Comp655251$  Comp655251      ActiveDirectory  NetworkLogon        0   \n",
       "2   User762066  Comp306129      ActiveDirectory           TGS        0   \n",
       "3   User384215  Comp095190  EnterpriseAppServer  NetworkLogon        0   \n",
       "4   User043263  Comp883307           Comp384394           TGS        0   \n",
       "\n",
       "   DailyCount  \n",
       "0        17.0  \n",
       "1       350.0  \n",
       "2        22.0  \n",
       "3        35.0  \n",
       "4         2.0  "
      ]
     },
     "execution_count": 3,
     "metadata": {},
     "output_type": "execute_result"
    }
   ],
   "source": [
    "index_list = df_a.index.tolist()\n",
    "proc_start_days = [i for i, e in enumerate(index_list) if e == 0]\n",
    "proc_start_days.append(len(df_a))\n",
    "df_a_d1 = df_a[proc_start_days[0]:proc_start_days[1]]\n",
    "df_a_d1.head()"
   ]
  },
  {
   "cell_type": "code",
   "execution_count": 22,
   "id": "316f4dc3-2039-405a-be31-941909b424ab",
   "metadata": {},
   "outputs": [],
   "source": [
    "df_a_d2_4 = df_a[proc_start_days[1]:proc_start_days[4]]"
   ]
  },
  {
   "cell_type": "markdown",
   "id": "3888175b-d2f8-423b-98a0-030ff1247d37",
   "metadata": {},
   "source": [
    "## Create a network - Day 1\n",
    "\n",
    "We create a network from UserName to SrcDevice in the authentication data, using the MulitGraph approach."
   ]
  },
  {
   "cell_type": "code",
   "execution_count": 4,
   "id": "f410c397-1203-4087-bcb8-29f43a1675d9",
   "metadata": {},
   "outputs": [],
   "source": [
    "G = nx.from_pandas_edgelist(df_a_d1,source=\"UserName\",target=\"SrcDevice\",create_using=nx.MultiGraph)"
   ]
  },
  {
   "cell_type": "markdown",
   "id": "0b45a191-4b7c-4b1c-a4c2-c719afb685d7",
   "metadata": {},
   "source": [
    "First attempt gives the adjacency matrix in networkx's own form."
   ]
  },
  {
   "cell_type": "code",
   "execution_count": 5,
   "id": "142ec6b2-5f62-422b-a69e-63b56939a458",
   "metadata": {},
   "outputs": [],
   "source": [
    "G_AM = nx.adjacency_matrix(G)"
   ]
  },
  {
   "cell_type": "code",
   "execution_count": 7,
   "id": "f91b1605-d728-44dd-b9eb-997a5baf8ff8",
   "metadata": {},
   "outputs": [
    {
     "data": {
      "text/plain": [
       "48"
      ]
     },
     "execution_count": 7,
     "metadata": {},
     "output_type": "execute_result"
    }
   ],
   "source": [
    "sys.getsizeof(G_AM)"
   ]
  },
  {
   "cell_type": "markdown",
   "id": "83b2b827-fd66-4719-a1c4-19ceac9deb1f",
   "metadata": {},
   "source": [
    "Next attempt does the same as above but returns a numpy array containing the same information (this is easier for us to look at)."
   ]
  },
  {
   "cell_type": "code",
   "execution_count": 8,
   "id": "85a6a844-208c-40ab-bc92-99d1bb42b7f2",
   "metadata": {},
   "outputs": [
    {
     "name": "stdout",
     "output_type": "stream",
     "text": [
      "Completed in :0:00:07.808682\n"
     ]
    }
   ],
   "source": [
    "dtn()\n",
    "G_amnp = nx.to_numpy_array(G)\n",
    "gen_end()"
   ]
  },
  {
   "cell_type": "code",
   "execution_count": 8,
   "id": "edb9e7bd-da35-47ba-b4ce-619a1b9a26d4",
   "metadata": {},
   "outputs": [
    {
     "name": "stdout",
     "output_type": "stream",
     "text": [
      "Completed in :0:00:00.952690\n"
     ]
    }
   ],
   "source": [
    "dtn()\n",
    "G_amnp = nx.to_scipy_sparse_matrix(G,format=\"csc\")\n",
    "gen_end()"
   ]
  },
  {
   "cell_type": "code",
   "execution_count": 10,
   "id": "b1f09743-8cce-4235-b955-b090165a9cd4",
   "metadata": {},
   "outputs": [
    {
     "data": {
      "text/plain": [
       "array([[ 0, 15,  0, ...,  0,  0,  0],\n",
       "       [15,  0,  0, ...,  0,  0,  0],\n",
       "       [ 0,  0,  0, ...,  0,  0,  0],\n",
       "       ...,\n",
       "       [ 0,  0,  0, ...,  0,  1,  0],\n",
       "       [ 0,  0,  0, ...,  1,  0,  0],\n",
       "       [ 0,  0,  0, ...,  0,  0,  0]], dtype=int32)"
      ]
     },
     "execution_count": 10,
     "metadata": {},
     "output_type": "execute_result"
    }
   ],
   "source": []
  },
  {
   "cell_type": "code",
   "execution_count": 9,
   "id": "a85b98f8-a61d-4163-9b50-d3ccf6e2059e",
   "metadata": {},
   "outputs": [
    {
     "data": {
      "text/plain": [
       "array([[ 0., 15.,  0., ...,  0.,  0.,  0.],\n",
       "       [15.,  0.,  0., ...,  0.,  0.,  0.],\n",
       "       [ 0.,  0.,  0., ...,  0.,  0.,  0.],\n",
       "       ...,\n",
       "       [ 0.,  0.,  0., ...,  0.,  1.,  0.],\n",
       "       [ 0.,  0.,  0., ...,  1.,  0.,  0.],\n",
       "       [ 0.,  0.,  0., ...,  0.,  0.,  0.]])"
      ]
     },
     "execution_count": 9,
     "metadata": {},
     "output_type": "execute_result"
    }
   ],
   "source": [
    "G_amnp"
   ]
  },
  {
   "cell_type": "code",
   "execution_count": 10,
   "id": "e42687bb-c41a-412b-a855-7e132f96a606",
   "metadata": {},
   "outputs": [
    {
     "name": "stdout",
     "output_type": "stream",
     "text": [
      "Completed in :0:00:11.246180\n"
     ]
    }
   ],
   "source": [
    "dtn()\n",
    "G_ampd = nx.to_pandas_adjacency(G)\n",
    "gen_end()"
   ]
  },
  {
   "cell_type": "code",
   "execution_count": 11,
   "id": "55b8f730-139b-46b4-9129-3c55a109a0a8",
   "metadata": {},
   "outputs": [
    {
     "data": {
      "text/html": [
       "<div>\n",
       "<style scoped>\n",
       "    .dataframe tbody tr th:only-of-type {\n",
       "        vertical-align: middle;\n",
       "    }\n",
       "\n",
       "    .dataframe tbody tr th {\n",
       "        vertical-align: top;\n",
       "    }\n",
       "\n",
       "    .dataframe thead th {\n",
       "        text-align: right;\n",
       "    }\n",
       "</style>\n",
       "<table border=\"1\" class=\"dataframe\">\n",
       "  <thead>\n",
       "    <tr style=\"text-align: right;\">\n",
       "      <th></th>\n",
       "      <th>User035855</th>\n",
       "      <th>Comp808475</th>\n",
       "      <th>Comp655251$</th>\n",
       "      <th>Comp655251</th>\n",
       "      <th>User762066</th>\n",
       "      <th>Comp306129</th>\n",
       "      <th>User384215</th>\n",
       "      <th>Comp095190</th>\n",
       "      <th>User043263</th>\n",
       "      <th>Comp883307</th>\n",
       "      <th>...</th>\n",
       "      <th>Comp201153</th>\n",
       "      <th>User869250</th>\n",
       "      <th>User541200</th>\n",
       "      <th>Comp745385$</th>\n",
       "      <th>Comp530167</th>\n",
       "      <th>User188449</th>\n",
       "      <th>User994108</th>\n",
       "      <th>User960568</th>\n",
       "      <th>Comp690114</th>\n",
       "      <th>User642071</th>\n",
       "    </tr>\n",
       "  </thead>\n",
       "  <tbody>\n",
       "    <tr>\n",
       "      <th>User035855</th>\n",
       "      <td>0.0</td>\n",
       "      <td>15.0</td>\n",
       "      <td>0.0</td>\n",
       "      <td>0.0</td>\n",
       "      <td>0.0</td>\n",
       "      <td>0.0</td>\n",
       "      <td>0.0</td>\n",
       "      <td>0.0</td>\n",
       "      <td>0.0</td>\n",
       "      <td>0.0</td>\n",
       "      <td>...</td>\n",
       "      <td>0.0</td>\n",
       "      <td>0.0</td>\n",
       "      <td>0.0</td>\n",
       "      <td>0.0</td>\n",
       "      <td>0.0</td>\n",
       "      <td>0.0</td>\n",
       "      <td>0.0</td>\n",
       "      <td>0.0</td>\n",
       "      <td>0.0</td>\n",
       "      <td>0.0</td>\n",
       "    </tr>\n",
       "    <tr>\n",
       "      <th>Comp808475</th>\n",
       "      <td>15.0</td>\n",
       "      <td>0.0</td>\n",
       "      <td>0.0</td>\n",
       "      <td>0.0</td>\n",
       "      <td>0.0</td>\n",
       "      <td>0.0</td>\n",
       "      <td>0.0</td>\n",
       "      <td>0.0</td>\n",
       "      <td>0.0</td>\n",
       "      <td>0.0</td>\n",
       "      <td>...</td>\n",
       "      <td>0.0</td>\n",
       "      <td>0.0</td>\n",
       "      <td>0.0</td>\n",
       "      <td>0.0</td>\n",
       "      <td>0.0</td>\n",
       "      <td>0.0</td>\n",
       "      <td>0.0</td>\n",
       "      <td>0.0</td>\n",
       "      <td>0.0</td>\n",
       "      <td>0.0</td>\n",
       "    </tr>\n",
       "    <tr>\n",
       "      <th>Comp655251$</th>\n",
       "      <td>0.0</td>\n",
       "      <td>0.0</td>\n",
       "      <td>0.0</td>\n",
       "      <td>6.0</td>\n",
       "      <td>0.0</td>\n",
       "      <td>0.0</td>\n",
       "      <td>0.0</td>\n",
       "      <td>0.0</td>\n",
       "      <td>0.0</td>\n",
       "      <td>0.0</td>\n",
       "      <td>...</td>\n",
       "      <td>0.0</td>\n",
       "      <td>0.0</td>\n",
       "      <td>0.0</td>\n",
       "      <td>0.0</td>\n",
       "      <td>0.0</td>\n",
       "      <td>0.0</td>\n",
       "      <td>0.0</td>\n",
       "      <td>0.0</td>\n",
       "      <td>0.0</td>\n",
       "      <td>0.0</td>\n",
       "    </tr>\n",
       "    <tr>\n",
       "      <th>Comp655251</th>\n",
       "      <td>0.0</td>\n",
       "      <td>0.0</td>\n",
       "      <td>6.0</td>\n",
       "      <td>0.0</td>\n",
       "      <td>0.0</td>\n",
       "      <td>0.0</td>\n",
       "      <td>0.0</td>\n",
       "      <td>0.0</td>\n",
       "      <td>0.0</td>\n",
       "      <td>0.0</td>\n",
       "      <td>...</td>\n",
       "      <td>0.0</td>\n",
       "      <td>0.0</td>\n",
       "      <td>0.0</td>\n",
       "      <td>0.0</td>\n",
       "      <td>0.0</td>\n",
       "      <td>0.0</td>\n",
       "      <td>0.0</td>\n",
       "      <td>0.0</td>\n",
       "      <td>0.0</td>\n",
       "      <td>0.0</td>\n",
       "    </tr>\n",
       "    <tr>\n",
       "      <th>User762066</th>\n",
       "      <td>0.0</td>\n",
       "      <td>0.0</td>\n",
       "      <td>0.0</td>\n",
       "      <td>0.0</td>\n",
       "      <td>0.0</td>\n",
       "      <td>20.0</td>\n",
       "      <td>0.0</td>\n",
       "      <td>0.0</td>\n",
       "      <td>0.0</td>\n",
       "      <td>0.0</td>\n",
       "      <td>...</td>\n",
       "      <td>0.0</td>\n",
       "      <td>0.0</td>\n",
       "      <td>0.0</td>\n",
       "      <td>0.0</td>\n",
       "      <td>0.0</td>\n",
       "      <td>0.0</td>\n",
       "      <td>0.0</td>\n",
       "      <td>0.0</td>\n",
       "      <td>0.0</td>\n",
       "      <td>0.0</td>\n",
       "    </tr>\n",
       "    <tr>\n",
       "      <th>...</th>\n",
       "      <td>...</td>\n",
       "      <td>...</td>\n",
       "      <td>...</td>\n",
       "      <td>...</td>\n",
       "      <td>...</td>\n",
       "      <td>...</td>\n",
       "      <td>...</td>\n",
       "      <td>...</td>\n",
       "      <td>...</td>\n",
       "      <td>...</td>\n",
       "      <td>...</td>\n",
       "      <td>...</td>\n",
       "      <td>...</td>\n",
       "      <td>...</td>\n",
       "      <td>...</td>\n",
       "      <td>...</td>\n",
       "      <td>...</td>\n",
       "      <td>...</td>\n",
       "      <td>...</td>\n",
       "      <td>...</td>\n",
       "      <td>...</td>\n",
       "    </tr>\n",
       "    <tr>\n",
       "      <th>User188449</th>\n",
       "      <td>0.0</td>\n",
       "      <td>0.0</td>\n",
       "      <td>0.0</td>\n",
       "      <td>0.0</td>\n",
       "      <td>0.0</td>\n",
       "      <td>0.0</td>\n",
       "      <td>0.0</td>\n",
       "      <td>0.0</td>\n",
       "      <td>0.0</td>\n",
       "      <td>0.0</td>\n",
       "      <td>...</td>\n",
       "      <td>0.0</td>\n",
       "      <td>0.0</td>\n",
       "      <td>0.0</td>\n",
       "      <td>0.0</td>\n",
       "      <td>0.0</td>\n",
       "      <td>0.0</td>\n",
       "      <td>0.0</td>\n",
       "      <td>0.0</td>\n",
       "      <td>0.0</td>\n",
       "      <td>0.0</td>\n",
       "    </tr>\n",
       "    <tr>\n",
       "      <th>User994108</th>\n",
       "      <td>0.0</td>\n",
       "      <td>0.0</td>\n",
       "      <td>0.0</td>\n",
       "      <td>0.0</td>\n",
       "      <td>0.0</td>\n",
       "      <td>0.0</td>\n",
       "      <td>0.0</td>\n",
       "      <td>0.0</td>\n",
       "      <td>0.0</td>\n",
       "      <td>0.0</td>\n",
       "      <td>...</td>\n",
       "      <td>0.0</td>\n",
       "      <td>0.0</td>\n",
       "      <td>0.0</td>\n",
       "      <td>0.0</td>\n",
       "      <td>0.0</td>\n",
       "      <td>0.0</td>\n",
       "      <td>0.0</td>\n",
       "      <td>0.0</td>\n",
       "      <td>0.0</td>\n",
       "      <td>0.0</td>\n",
       "    </tr>\n",
       "    <tr>\n",
       "      <th>User960568</th>\n",
       "      <td>0.0</td>\n",
       "      <td>0.0</td>\n",
       "      <td>0.0</td>\n",
       "      <td>0.0</td>\n",
       "      <td>0.0</td>\n",
       "      <td>0.0</td>\n",
       "      <td>0.0</td>\n",
       "      <td>0.0</td>\n",
       "      <td>0.0</td>\n",
       "      <td>0.0</td>\n",
       "      <td>...</td>\n",
       "      <td>0.0</td>\n",
       "      <td>0.0</td>\n",
       "      <td>0.0</td>\n",
       "      <td>0.0</td>\n",
       "      <td>0.0</td>\n",
       "      <td>0.0</td>\n",
       "      <td>0.0</td>\n",
       "      <td>0.0</td>\n",
       "      <td>1.0</td>\n",
       "      <td>0.0</td>\n",
       "    </tr>\n",
       "    <tr>\n",
       "      <th>Comp690114</th>\n",
       "      <td>0.0</td>\n",
       "      <td>0.0</td>\n",
       "      <td>0.0</td>\n",
       "      <td>0.0</td>\n",
       "      <td>0.0</td>\n",
       "      <td>0.0</td>\n",
       "      <td>0.0</td>\n",
       "      <td>0.0</td>\n",
       "      <td>0.0</td>\n",
       "      <td>0.0</td>\n",
       "      <td>...</td>\n",
       "      <td>0.0</td>\n",
       "      <td>0.0</td>\n",
       "      <td>0.0</td>\n",
       "      <td>0.0</td>\n",
       "      <td>0.0</td>\n",
       "      <td>0.0</td>\n",
       "      <td>0.0</td>\n",
       "      <td>1.0</td>\n",
       "      <td>0.0</td>\n",
       "      <td>0.0</td>\n",
       "    </tr>\n",
       "    <tr>\n",
       "      <th>User642071</th>\n",
       "      <td>0.0</td>\n",
       "      <td>0.0</td>\n",
       "      <td>0.0</td>\n",
       "      <td>0.0</td>\n",
       "      <td>0.0</td>\n",
       "      <td>0.0</td>\n",
       "      <td>0.0</td>\n",
       "      <td>0.0</td>\n",
       "      <td>0.0</td>\n",
       "      <td>0.0</td>\n",
       "      <td>...</td>\n",
       "      <td>0.0</td>\n",
       "      <td>0.0</td>\n",
       "      <td>0.0</td>\n",
       "      <td>0.0</td>\n",
       "      <td>0.0</td>\n",
       "      <td>0.0</td>\n",
       "      <td>0.0</td>\n",
       "      <td>0.0</td>\n",
       "      <td>0.0</td>\n",
       "      <td>0.0</td>\n",
       "    </tr>\n",
       "  </tbody>\n",
       "</table>\n",
       "<p>28658 rows × 28658 columns</p>\n",
       "</div>"
      ],
      "text/plain": [
       "             User035855  Comp808475  Comp655251$  Comp655251  User762066  \\\n",
       "User035855          0.0        15.0          0.0         0.0         0.0   \n",
       "Comp808475         15.0         0.0          0.0         0.0         0.0   \n",
       "Comp655251$         0.0         0.0          0.0         6.0         0.0   \n",
       "Comp655251          0.0         0.0          6.0         0.0         0.0   \n",
       "User762066          0.0         0.0          0.0         0.0         0.0   \n",
       "...                 ...         ...          ...         ...         ...   \n",
       "User188449          0.0         0.0          0.0         0.0         0.0   \n",
       "User994108          0.0         0.0          0.0         0.0         0.0   \n",
       "User960568          0.0         0.0          0.0         0.0         0.0   \n",
       "Comp690114          0.0         0.0          0.0         0.0         0.0   \n",
       "User642071          0.0         0.0          0.0         0.0         0.0   \n",
       "\n",
       "             Comp306129  User384215  Comp095190  User043263  Comp883307  ...  \\\n",
       "User035855          0.0         0.0         0.0         0.0         0.0  ...   \n",
       "Comp808475          0.0         0.0         0.0         0.0         0.0  ...   \n",
       "Comp655251$         0.0         0.0         0.0         0.0         0.0  ...   \n",
       "Comp655251          0.0         0.0         0.0         0.0         0.0  ...   \n",
       "User762066         20.0         0.0         0.0         0.0         0.0  ...   \n",
       "...                 ...         ...         ...         ...         ...  ...   \n",
       "User188449          0.0         0.0         0.0         0.0         0.0  ...   \n",
       "User994108          0.0         0.0         0.0         0.0         0.0  ...   \n",
       "User960568          0.0         0.0         0.0         0.0         0.0  ...   \n",
       "Comp690114          0.0         0.0         0.0         0.0         0.0  ...   \n",
       "User642071          0.0         0.0         0.0         0.0         0.0  ...   \n",
       "\n",
       "             Comp201153  User869250  User541200  Comp745385$  Comp530167  \\\n",
       "User035855          0.0         0.0         0.0          0.0         0.0   \n",
       "Comp808475          0.0         0.0         0.0          0.0         0.0   \n",
       "Comp655251$         0.0         0.0         0.0          0.0         0.0   \n",
       "Comp655251          0.0         0.0         0.0          0.0         0.0   \n",
       "User762066          0.0         0.0         0.0          0.0         0.0   \n",
       "...                 ...         ...         ...          ...         ...   \n",
       "User188449          0.0         0.0         0.0          0.0         0.0   \n",
       "User994108          0.0         0.0         0.0          0.0         0.0   \n",
       "User960568          0.0         0.0         0.0          0.0         0.0   \n",
       "Comp690114          0.0         0.0         0.0          0.0         0.0   \n",
       "User642071          0.0         0.0         0.0          0.0         0.0   \n",
       "\n",
       "             User188449  User994108  User960568  Comp690114  User642071  \n",
       "User035855          0.0         0.0         0.0         0.0         0.0  \n",
       "Comp808475          0.0         0.0         0.0         0.0         0.0  \n",
       "Comp655251$         0.0         0.0         0.0         0.0         0.0  \n",
       "Comp655251          0.0         0.0         0.0         0.0         0.0  \n",
       "User762066          0.0         0.0         0.0         0.0         0.0  \n",
       "...                 ...         ...         ...         ...         ...  \n",
       "User188449          0.0         0.0         0.0         0.0         0.0  \n",
       "User994108          0.0         0.0         0.0         0.0         0.0  \n",
       "User960568          0.0         0.0         0.0         1.0         0.0  \n",
       "Comp690114          0.0         0.0         1.0         0.0         0.0  \n",
       "User642071          0.0         0.0         0.0         0.0         0.0  \n",
       "\n",
       "[28658 rows x 28658 columns]"
      ]
     },
     "execution_count": 11,
     "metadata": {},
     "output_type": "execute_result"
    }
   ],
   "source": [
    "G_ampd"
   ]
  },
  {
   "cell_type": "code",
   "execution_count": 12,
   "id": "8dbd9295-d3aa-445b-b466-4ebb170dcb30",
   "metadata": {},
   "outputs": [],
   "source": [
    "def sparse_adj(df,day_start,day_end,sourc,targ,sprs):\n",
    "    \"\"\"Creates a sparse adjacency matrix on a specified day range in the data\n",
    "    \n",
    "    Keyword Arguments:\n",
    "    df -- dataframe to use. a for auth or p for process\n",
    "    day_start -- day to start on\n",
    "    df_end -- day to end on\n",
    "    sourc -- source variable for graph\n",
    "    targ -- target variable for graph\n",
    "    sprs -- sparse matrix form to use from scipy\"\"\"\n",
    "    df = str(df)\n",
    "    if df == \"p\":\n",
    "        index_list = df_p.index.tolist()\n",
    "        proc_start_days = [i for i, e in enumerate(index_list) if e == 0]\n",
    "        proc_start_days.append(len(df_p))\n",
    "        df_x = df_p[proc_start_days[day_start-1]:proc_start_days[day_end]]\n",
    "    if df == \"a\":\n",
    "        index_list = df_a.index.tolist()\n",
    "        proc_start_days = [i for i, e in enumerate(index_list) if e == 0]\n",
    "        proc_start_days.append(len(df_a))\n",
    "        df_x = df_a[proc_start_days[day_start-1]:proc_start_days[day_end]]\n",
    "    G = nx.from_pandas_edgelist(df_x,source=sourc,target=targ,create_using=nx.MultiGraph)\n",
    "    Gn = nx.to_scipy_sparse_matrix(G,format=sprs)\n",
    "    return Gn"
   ]
  },
  {
   "cell_type": "code",
   "execution_count": 16,
   "id": "ba2eaba1-9c7b-4ea9-898b-8076a9b25fa1",
   "metadata": {},
   "outputs": [],
   "source": [
    "test = pd_adj(\"a\",1,1,\"UserName\",\"SrcDevice\",\"csc\")"
   ]
  },
  {
   "cell_type": "code",
   "execution_count": 25,
   "id": "acd7823a-f22d-4a0c-88e1-f16a4bc2f131",
   "metadata": {},
   "outputs": [
    {
     "name": "stdout",
     "output_type": "stream",
     "text": [
      "Completed in :0:06:50.853572\n"
     ]
    }
   ],
   "source": [
    "dtn()\n",
    "all_days_adj = []\n",
    "for i in range(1,91):\n",
    "    variable = sparse_adj(\"a\",1,1,\"UserName\",\"SrcDevice\",\"csc\")\n",
    "    all_days_adj.append(variable)\n",
    "gen_end()"
   ]
  },
  {
   "cell_type": "code",
   "execution_count": 29,
   "id": "bf97de87-5ab8-408f-958a-599b7fe3c0d0",
   "metadata": {},
   "outputs": [
    {
     "data": {
      "text/plain": [
       "<28658x28658 sparse matrix of type '<class 'numpy.intc'>'\n",
       "\twith 50974 stored elements in Compressed Sparse Column format>"
      ]
     },
     "execution_count": 29,
     "metadata": {},
     "output_type": "execute_result"
    }
   ],
   "source": [
    "all_days_adj[89]"
   ]
  },
  {
   "cell_type": "markdown",
   "id": "f0088681-0522-4be0-8cb8-154f9a116091",
   "metadata": {},
   "source": [
    "## Create a Network - Whole Data"
   ]
  }
 ],
 "metadata": {
  "kernelspec": {
   "display_name": "Python 3",
   "language": "python",
   "name": "python3"
  },
  "language_info": {
   "codemirror_mode": {
    "name": "ipython",
    "version": 3
   },
   "file_extension": ".py",
   "mimetype": "text/x-python",
   "name": "python",
   "nbconvert_exporter": "python",
   "pygments_lexer": "ipython3",
   "version": "3.8.10"
  }
 },
 "nbformat": 4,
 "nbformat_minor": 5
}
