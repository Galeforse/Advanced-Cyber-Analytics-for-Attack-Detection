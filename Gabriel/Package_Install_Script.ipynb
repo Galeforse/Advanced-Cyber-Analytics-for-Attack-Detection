{
 "cells": [
  {
   "cell_type": "markdown",
   "id": "c47a4911-14aa-48b3-8b31-4e51c2ccdc26",
   "metadata": {},
   "source": [
    "# Package Install\n",
    "\n",
    "Using this notebook to document packags that I have installed and used throughout the other notebooks in my EDA."
   ]
  },
  {
   "cell_type": "code",
   "execution_count": 5,
   "id": "873d6ebb-f5fc-4777-acf4-0e93e1eaa4ca",
   "metadata": {},
   "outputs": [
    {
     "name": "stderr",
     "output_type": "stream",
     "text": [
      "Usage: pip [options]\n",
      "\n",
      "ERROR: Invalid requirement: modin[dask] --user\n",
      "pip: error: no such option: --user\n",
      "\n"
     ]
    }
   ],
   "source": [
    "!pip install -r packages.txt"
   ]
  },
  {
   "cell_type": "code",
   "execution_count": 6,
   "id": "3978696c-6e6a-479f-9c0e-c3a6658824a2",
   "metadata": {
    "collapsed": true,
    "jupyter": {
     "outputs_hidden": true
    },
    "tags": []
   },
   "outputs": [
    {
     "name": "stdout",
     "output_type": "stream",
     "text": [
      "Requirement already satisfied: modin[dask] in g:\\programs\\anaconda\\envs\\det\\lib\\site-packages (0.10.0)\n",
      "Requirement already satisfied: numpy>=1.16.5 in g:\\programs\\anaconda\\envs\\det\\lib\\site-packages (from modin[dask]) (1.20.2)\n",
      "Requirement already satisfied: packaging in g:\\programs\\anaconda\\envs\\det\\lib\\site-packages (from modin[dask]) (20.9)\n",
      "Requirement already satisfied: pandas==1.2.4 in g:\\programs\\anaconda\\envs\\det\\lib\\site-packages (from modin[dask]) (1.2.4)\n",
      "Requirement already satisfied: distributed<=2.19.0,>=2.12.0 in c:\\users\\gabriel\\appdata\\roaming\\python\\python38\\site-packages (from modin[dask]) (2.19.0)\n",
      "Requirement already satisfied: dask<=2.19.0,>=2.12.0 in c:\\users\\gabriel\\appdata\\roaming\\python\\python38\\site-packages (from modin[dask]) (2.19.0)\n",
      "Requirement already satisfied: pytz>=2017.3 in g:\\programs\\anaconda\\envs\\det\\lib\\site-packages (from pandas==1.2.4->modin[dask]) (2021.1)\n",
      "Requirement already satisfied: python-dateutil>=2.7.3 in g:\\programs\\anaconda\\envs\\det\\lib\\site-packages (from pandas==1.2.4->modin[dask]) (2.8.1)\n",
      "Requirement already satisfied: pyyaml in g:\\programs\\anaconda\\envs\\det\\lib\\site-packages (from dask<=2.19.0,>=2.12.0->modin[dask]) (5.4.1)\n",
      "Requirement already satisfied: sortedcontainers!=2.0.0,!=2.0.1 in g:\\programs\\anaconda\\envs\\det\\lib\\site-packages (from distributed<=2.19.0,>=2.12.0->modin[dask]) (2.4.0)\n",
      "Requirement already satisfied: toolz>=0.8.2 in g:\\programs\\anaconda\\envs\\det\\lib\\site-packages (from distributed<=2.19.0,>=2.12.0->modin[dask]) (0.11.1)\n",
      "Requirement already satisfied: setuptools in g:\\programs\\anaconda\\envs\\det\\lib\\site-packages (from distributed<=2.19.0,>=2.12.0->modin[dask]) (52.0.0.post20210125)\n",
      "Requirement already satisfied: click>=6.6 in g:\\programs\\anaconda\\envs\\det\\lib\\site-packages (from distributed<=2.19.0,>=2.12.0->modin[dask]) (8.0.1)\n",
      "Requirement already satisfied: tornado>=6.0.3 in g:\\programs\\anaconda\\envs\\det\\lib\\site-packages (from distributed<=2.19.0,>=2.12.0->modin[dask]) (6.1)\n",
      "Requirement already satisfied: cloudpickle>=1.3.0 in g:\\programs\\anaconda\\envs\\det\\lib\\site-packages (from distributed<=2.19.0,>=2.12.0->modin[dask]) (1.6.0)\n",
      "Requirement already satisfied: msgpack>=0.6.0 in g:\\programs\\anaconda\\envs\\det\\lib\\site-packages (from distributed<=2.19.0,>=2.12.0->modin[dask]) (1.0.2)\n",
      "Requirement already satisfied: psutil>=5.0 in g:\\programs\\anaconda\\envs\\det\\lib\\site-packages (from distributed<=2.19.0,>=2.12.0->modin[dask]) (5.8.0)\n",
      "Requirement already satisfied: tblib>=1.6.0 in g:\\programs\\anaconda\\envs\\det\\lib\\site-packages (from distributed<=2.19.0,>=2.12.0->modin[dask]) (1.7.0)\n",
      "Requirement already satisfied: zict>=0.1.3 in g:\\programs\\anaconda\\envs\\det\\lib\\site-packages (from distributed<=2.19.0,>=2.12.0->modin[dask]) (2.0.0)\n",
      "Requirement already satisfied: colorama in g:\\programs\\anaconda\\envs\\det\\lib\\site-packages (from click>=6.6->distributed<=2.19.0,>=2.12.0->modin[dask]) (0.4.4)\n",
      "Requirement already satisfied: six>=1.5 in g:\\programs\\anaconda\\envs\\det\\lib\\site-packages (from python-dateutil>=2.7.3->pandas==1.2.4->modin[dask]) (1.16.0)\n",
      "Requirement already satisfied: heapdict in g:\\programs\\anaconda\\envs\\det\\lib\\site-packages (from zict>=0.1.3->distributed<=2.19.0,>=2.12.0->modin[dask]) (1.0.1)\n",
      "Requirement already satisfied: pyparsing>=2.0.2 in g:\\programs\\anaconda\\envs\\det\\lib\\site-packages (from packaging->modin[dask]) (2.4.7)\n"
     ]
    }
   ],
   "source": [
    "!pip install modin[dask] --user"
   ]
  },
  {
   "cell_type": "code",
   "execution_count": 1,
   "id": "52a73809-2f12-45e0-bf74-ea61e00268af",
   "metadata": {},
   "outputs": [],
   "source": [
    "#!pip install pandas"
   ]
  },
  {
   "cell_type": "code",
   "execution_count": 2,
   "id": "1c8c5d53-d798-4cc0-89fd-e9e845c9918a",
   "metadata": {},
   "outputs": [],
   "source": [
    "#!pip install matplotlib"
   ]
  },
  {
   "cell_type": "code",
   "execution_count": 3,
   "id": "dc6d23b0-b23a-4b9e-bda6-53a55c8de201",
   "metadata": {},
   "outputs": [],
   "source": [
    "#!pip install networkx"
   ]
  },
  {
   "cell_type": "code",
   "execution_count": 4,
   "id": "c0d824b7-d5d8-4e32-95ba-02c3ee68582e",
   "metadata": {},
   "outputs": [],
   "source": [
    "#!pip install pyvis"
   ]
  }
 ],
 "metadata": {
  "kernelspec": {
   "display_name": "Python 3",
   "language": "python",
   "name": "python3"
  },
  "language_info": {
   "codemirror_mode": {
    "name": "ipython",
    "version": 3
   },
   "file_extension": ".py",
   "mimetype": "text/x-python",
   "name": "python",
   "nbconvert_exporter": "python",
   "pygments_lexer": "ipython3",
   "version": "3.8.10"
  }
 },
 "nbformat": 4,
 "nbformat_minor": 5
}
