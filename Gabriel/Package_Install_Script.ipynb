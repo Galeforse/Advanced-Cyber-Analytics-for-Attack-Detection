{
 "cells": [
  {
   "cell_type": "code",
   "execution_count": 1,
   "id": "52a73809-2f12-45e0-bf74-ea61e00268af",
   "metadata": {},
   "outputs": [
    {
     "name": "stdout",
     "output_type": "stream",
     "text": [
      "Collecting pandas\n",
      "  Downloading pandas-1.2.5-cp38-cp38-win_amd64.whl (9.3 MB)\n",
      "Collecting numpy>=1.16.5\n",
      "  Downloading numpy-1.21.0-cp38-cp38-win_amd64.whl (14.0 MB)\n",
      "Requirement already satisfied: python-dateutil>=2.7.3 in g:\\programs\\anaconda\\envs\\project\\lib\\site-packages (from pandas) (2.8.1)\n",
      "Requirement already satisfied: pytz>=2017.3 in g:\\programs\\anaconda\\envs\\project\\lib\\site-packages (from pandas) (2021.1)\n",
      "Requirement already satisfied: six>=1.5 in g:\\programs\\anaconda\\envs\\project\\lib\\site-packages (from python-dateutil>=2.7.3->pandas) (1.16.0)\n",
      "Installing collected packages: numpy, pandas\n",
      "Successfully installed numpy-1.21.0 pandas-1.2.5\n"
     ]
    }
   ],
   "source": [
    "!pip install pandas"
   ]
  },
  {
   "cell_type": "code",
   "execution_count": 2,
   "id": "3978696c-6e6a-479f-9c0e-c3a6658824a2",
   "metadata": {
    "tags": []
   },
   "outputs": [
    {
     "name": "stdout",
     "output_type": "stream",
     "text": [
      "Requirement already satisfied: modin[dask] in g:\\programs\\anaconda\\envs\\det\\lib\\site-packages (0.10.0)\n",
      "Requirement already satisfied: numpy>=1.16.5 in g:\\programs\\anaconda\\envs\\det\\lib\\site-packages (from modin[dask]) (1.20.2)\n",
      "Requirement already satisfied: pandas==1.2.4 in g:\\programs\\anaconda\\envs\\det\\lib\\site-packages (from modin[dask]) (1.2.4)\n",
      "Requirement already satisfied: packaging in g:\\programs\\anaconda\\envs\\det\\lib\\site-packages (from modin[dask]) (20.9)\n",
      "Collecting dask<=2.19.0,>=2.12.0\n",
      "  Using cached dask-2.19.0-py3-none-any.whl (824 kB)\n",
      "Collecting distributed<=2.19.0,>=2.12.0\n",
      "  Using cached distributed-2.19.0-py3-none-any.whl (643 kB)\n",
      "Requirement already satisfied: pytz>=2017.3 in g:\\programs\\anaconda\\envs\\det\\lib\\site-packages (from pandas==1.2.4->modin[dask]) (2021.1)\n",
      "Requirement already satisfied: python-dateutil>=2.7.3 in g:\\programs\\anaconda\\envs\\det\\lib\\site-packages (from pandas==1.2.4->modin[dask]) (2.8.1)\n",
      "Requirement already satisfied: pyyaml in g:\\programs\\anaconda\\envs\\det\\lib\\site-packages (from dask<=2.19.0,>=2.12.0->modin[dask]) (5.4.1)\n",
      "Requirement already satisfied: tornado>=6.0.3 in g:\\programs\\anaconda\\envs\\det\\lib\\site-packages (from distributed<=2.19.0,>=2.12.0->modin[dask]) (6.1)\n",
      "Requirement already satisfied: toolz>=0.8.2 in g:\\programs\\anaconda\\envs\\det\\lib\\site-packages (from distributed<=2.19.0,>=2.12.0->modin[dask]) (0.11.1)\n",
      "Requirement already satisfied: click>=6.6 in g:\\programs\\anaconda\\envs\\det\\lib\\site-packages (from distributed<=2.19.0,>=2.12.0->modin[dask]) (8.0.1)\n",
      "Requirement already satisfied: msgpack>=0.6.0 in g:\\programs\\anaconda\\envs\\det\\lib\\site-packages (from distributed<=2.19.0,>=2.12.0->modin[dask]) (1.0.2)\n",
      "Requirement already satisfied: zict>=0.1.3 in g:\\programs\\anaconda\\envs\\det\\lib\\site-packages (from distributed<=2.19.0,>=2.12.0->modin[dask]) (2.0.0)\n",
      "Requirement already satisfied: cloudpickle>=1.3.0 in g:\\programs\\anaconda\\envs\\det\\lib\\site-packages (from distributed<=2.19.0,>=2.12.0->modin[dask]) (1.6.0)\n",
      "Requirement already satisfied: psutil>=5.0 in g:\\programs\\anaconda\\envs\\det\\lib\\site-packages (from distributed<=2.19.0,>=2.12.0->modin[dask]) (5.8.0)\n",
      "Requirement already satisfied: setuptools in g:\\programs\\anaconda\\envs\\det\\lib\\site-packages (from distributed<=2.19.0,>=2.12.0->modin[dask]) (52.0.0.post20210125)\n",
      "Requirement already satisfied: tblib>=1.6.0 in g:\\programs\\anaconda\\envs\\det\\lib\\site-packages (from distributed<=2.19.0,>=2.12.0->modin[dask]) (1.7.0)\n",
      "Requirement already satisfied: sortedcontainers!=2.0.0,!=2.0.1 in g:\\programs\\anaconda\\envs\\det\\lib\\site-packages (from distributed<=2.19.0,>=2.12.0->modin[dask]) (2.4.0)\n",
      "Requirement already satisfied: colorama in g:\\programs\\anaconda\\envs\\det\\lib\\site-packages (from click>=6.6->distributed<=2.19.0,>=2.12.0->modin[dask]) (0.4.4)\n",
      "Requirement already satisfied: six>=1.5 in g:\\programs\\anaconda\\envs\\det\\lib\\site-packages (from python-dateutil>=2.7.3->pandas==1.2.4->modin[dask]) (1.16.0)\n",
      "Requirement already satisfied: heapdict in g:\\programs\\anaconda\\envs\\det\\lib\\site-packages (from zict>=0.1.3->distributed<=2.19.0,>=2.12.0->modin[dask]) (1.0.1)\n",
      "Requirement already satisfied: pyparsing>=2.0.2 in g:\\programs\\anaconda\\envs\\det\\lib\\site-packages (from packaging->modin[dask]) (2.4.7)\n",
      "Installing collected packages: dask, distributed\n",
      "Successfully installed dask-2.19.0 distributed-2.19.0\n"
     ]
    },
    {
     "name": "stderr",
     "output_type": "stream",
     "text": [
      "  WARNING: The scripts dask-scheduler.exe, dask-ssh.exe and dask-worker.exe are installed in 'C:\\Users\\Gabriel\\AppData\\Roaming\\Python\\Python38\\Scripts' which is not on PATH.\n",
      "  Consider adding this directory to PATH or, if you prefer to suppress this warning, use --no-warn-script-location.\n"
     ]
    }
   ],
   "source": [
    "!pip install modin[dask] --user"
   ]
  }
 ],
 "metadata": {
  "kernelspec": {
   "display_name": "Python 3",
   "language": "python",
   "name": "python3"
  },
  "language_info": {
   "codemirror_mode": {
    "name": "ipython",
    "version": 3
   },
   "file_extension": ".py",
   "mimetype": "text/x-python",
   "name": "python",
   "nbconvert_exporter": "python",
   "pygments_lexer": "ipython3",
   "version": "3.8.10"
  }
 },
 "nbformat": 4,
 "nbformat_minor": 5
}
