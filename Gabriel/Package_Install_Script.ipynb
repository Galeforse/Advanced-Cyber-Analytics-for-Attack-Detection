{
 "cells": [
  {
   "cell_type": "code",
   "execution_count": 1,
   "id": "52a73809-2f12-45e0-bf74-ea61e00268af",
   "metadata": {},
   "outputs": [
    {
     "name": "stdout",
     "output_type": "stream",
     "text": [
      "Collecting pandas\n",
      "  Downloading pandas-1.2.5-cp38-cp38-win_amd64.whl (9.3 MB)\n",
      "Collecting numpy>=1.16.5\n",
      "  Downloading numpy-1.21.0-cp38-cp38-win_amd64.whl (14.0 MB)\n",
      "Requirement already satisfied: python-dateutil>=2.7.3 in g:\\programs\\anaconda\\envs\\project\\lib\\site-packages (from pandas) (2.8.1)\n",
      "Requirement already satisfied: pytz>=2017.3 in g:\\programs\\anaconda\\envs\\project\\lib\\site-packages (from pandas) (2021.1)\n",
      "Requirement already satisfied: six>=1.5 in g:\\programs\\anaconda\\envs\\project\\lib\\site-packages (from python-dateutil>=2.7.3->pandas) (1.16.0)\n",
      "Installing collected packages: numpy, pandas\n",
      "Successfully installed numpy-1.21.0 pandas-1.2.5\n"
     ]
    }
   ],
   "source": [
    "!pip install pandas"
   ]
  },
  {
   "cell_type": "code",
   "execution_count": 1,
   "id": "3978696c-6e6a-479f-9c0e-c3a6658824a2",
   "metadata": {
    "collapsed": true,
    "jupyter": {
     "outputs_hidden": true
    },
    "tags": []
   },
   "outputs": [
    {
     "name": "stdout",
     "output_type": "stream",
     "text": [
      "Collecting modin[dask]\n",
      "  Downloading modin-0.10.0-py3-none-win_amd64.whl (665 kB)\n",
      "Requirement already satisfied: numpy>=1.16.5 in g:\\programs\\anaconda\\envs\\project\\lib\\site-packages (from modin[dask]) (1.21.0)\n",
      "Requirement already satisfied: packaging in g:\\programs\\anaconda\\envs\\project\\lib\\site-packages (from modin[dask]) (20.9)\n",
      "Collecting pandas==1.2.4\n",
      "  Using cached pandas-1.2.4-cp38-cp38-win_amd64.whl (9.3 MB)\n",
      "Collecting distributed<=2.19.0,>=2.12.0\n",
      "  Downloading distributed-2.19.0-py3-none-any.whl (643 kB)\n",
      "Collecting dask<=2.19.0,>=2.12.0\n",
      "  Downloading dask-2.19.0-py3-none-any.whl (824 kB)\n",
      "Requirement already satisfied: pytz>=2017.3 in g:\\programs\\anaconda\\envs\\project\\lib\\site-packages (from pandas==1.2.4->modin[dask]) (2021.1)\n",
      "Requirement already satisfied: python-dateutil>=2.7.3 in g:\\programs\\anaconda\\envs\\project\\lib\\site-packages (from pandas==1.2.4->modin[dask]) (2.8.1)\n",
      "Collecting pyyaml\n",
      "  Downloading PyYAML-5.4.1-cp38-cp38-win_amd64.whl (213 kB)\n",
      "Collecting toolz>=0.8.2\n",
      "  Downloading toolz-0.11.1-py3-none-any.whl (55 kB)\n",
      "Collecting tblib>=1.6.0\n",
      "  Downloading tblib-1.7.0-py2.py3-none-any.whl (12 kB)\n",
      "Requirement already satisfied: setuptools in g:\\programs\\anaconda\\envs\\project\\lib\\site-packages (from distributed<=2.19.0,>=2.12.0->modin[dask]) (52.0.0.post20210125)\n",
      "Collecting msgpack>=0.6.0\n",
      "  Downloading msgpack-1.0.2-cp38-cp38-win_amd64.whl (69 kB)\n",
      "Requirement already satisfied: tornado>=6.0.3 in g:\\programs\\anaconda\\envs\\project\\lib\\site-packages (from distributed<=2.19.0,>=2.12.0->modin[dask]) (6.1)\n",
      "Collecting sortedcontainers!=2.0.0,!=2.0.1\n",
      "  Downloading sortedcontainers-2.4.0-py2.py3-none-any.whl (29 kB)\n",
      "Collecting zict>=0.1.3\n",
      "  Downloading zict-2.0.0-py3-none-any.whl (10 kB)\n",
      "Collecting click>=6.6\n",
      "  Downloading click-8.0.1-py3-none-any.whl (97 kB)\n",
      "Collecting cloudpickle>=1.3.0\n",
      "  Downloading cloudpickle-1.6.0-py3-none-any.whl (23 kB)\n",
      "Collecting psutil>=5.0\n",
      "  Downloading psutil-5.8.0-cp38-cp38-win_amd64.whl (245 kB)\n",
      "Requirement already satisfied: colorama in g:\\programs\\anaconda\\envs\\project\\lib\\site-packages (from click>=6.6->distributed<=2.19.0,>=2.12.0->modin[dask]) (0.4.4)\n",
      "Requirement already satisfied: six>=1.5 in g:\\programs\\anaconda\\envs\\project\\lib\\site-packages (from python-dateutil>=2.7.3->pandas==1.2.4->modin[dask]) (1.16.0)\n",
      "Collecting heapdict\n",
      "  Downloading HeapDict-1.0.1-py3-none-any.whl (3.9 kB)\n",
      "Requirement already satisfied: pyparsing>=2.0.2 in g:\\programs\\anaconda\\envs\\project\\lib\\site-packages (from packaging->modin[dask]) (2.4.7)\n",
      "Installing collected packages: pyyaml, heapdict, zict, toolz, tblib, sortedcontainers, psutil, pandas, msgpack, dask, cloudpickle, click, modin, distributed\n",
      "  Attempting uninstall: pandas\n",
      "    Found existing installation: pandas 1.2.5\n",
      "    Uninstalling pandas-1.2.5:\n",
      "      Successfully uninstalled pandas-1.2.5\n"
     ]
    },
    {
     "name": "stderr",
     "output_type": "stream",
     "text": [
      "ERROR: Could not install packages due to an OSError: [WinError 5] Access is denied: 'G:\\\\Programs\\\\Anaconda\\\\envs\\\\Project\\\\Lib\\\\site-packages\\\\~andas\\\\_libs\\\\algos.cp38-win_amd64.pyd'\n",
      "Consider using the `--user` option or check the permissions.\n",
      "\n"
     ]
    }
   ],
   "source": [
    "!pip install modin[dask]"
   ]
  }
 ],
 "metadata": {
  "kernelspec": {
   "display_name": "Python 3",
   "language": "python",
   "name": "python3"
  },
  "language_info": {
   "codemirror_mode": {
    "name": "ipython",
    "version": 3
   },
   "file_extension": ".py",
   "mimetype": "text/x-python",
   "name": "python",
   "nbconvert_exporter": "python",
   "pygments_lexer": "ipython3",
   "version": "3.8.10"
  }
 },
 "nbformat": 4,
 "nbformat_minor": 5
}
