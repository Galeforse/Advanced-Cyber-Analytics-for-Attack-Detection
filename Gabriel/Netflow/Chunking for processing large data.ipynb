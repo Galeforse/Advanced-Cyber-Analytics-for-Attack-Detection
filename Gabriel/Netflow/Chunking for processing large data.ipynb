{
 "cells": [
  {
   "cell_type": "code",
   "execution_count": 1,
   "id": "d1d3d8fc-a03f-4649-94b5-2161a9c5abb7",
   "metadata": {},
   "outputs": [],
   "source": [
    "import pandas as pd\n",
    "from datetime import datetime\n",
    "import time"
   ]
  },
  {
   "cell_type": "code",
   "execution_count": 2,
   "id": "de69ea72-18b9-45a7-862e-4eea5c98a066",
   "metadata": {},
   "outputs": [],
   "source": [
    "headers = (['Time', 'Duration', 'SrcDevice', 'DstDevice', 'Protocol',\n",
    "            'SrcPort', 'DstPort', 'SrcPackets', 'DstPackets', 'SrcBytes', 'DstBytes'])"
   ]
  },
  {
   "cell_type": "code",
   "execution_count": null,
   "id": "94f091fb-f961-43ca-9ba2-f74b3fd0c3a0",
   "metadata": {},
   "outputs": [],
   "source": [
    "df = pd.read_csv(\"G:/Project Data/netflow_day-47/netflow_day-47.csv\",names=headers,chunksize=1000000)"
   ]
  },
  {
   "cell_type": "code",
   "execution_count": 54,
   "id": "7fbc66a3-62a6-4d3c-a874-58e2e61833cb",
   "metadata": {},
   "outputs": [],
   "source": [
    "pd.options.display.float_format = '{:,}'.format\n",
    "\n",
    "sh_file = \"G:/Users/Gabriel/Documents/Education/UoB/Project/ATI_Data-20210322T143516Z-001/ATI Data/Summaries/red_team/session_hosts.txt\"\n",
    "rt_sh = list(pd.read_csv(sh_file, header=None)[0])\n",
    "# data\n",
    "## Change path and file as relevant \n",
    "path = 'G:/Project_Data'\n",
    "df_netflow = pd.read_csv(path + \"/netflow_day-47.bz2\", names=headers,chunksize=1000000,nrows=10000000)\n",
    "\n",
    "# session host isolation\n",
    "\n",
    "#rt_src_sh = df_netflow[df_netflow['SrcDevice'].isin(rt_sh)]\n",
    "#rt_src_sh\n",
    "#rt_src_sh.shape[0]/df_netflow.shape[0]    ## This gives out the percentage of space session_host PCs occupy within the given Day"
   ]
  },
  {
   "cell_type": "code",
   "execution_count": 57,
   "id": "e8c9e9d5-7527-4bc7-83f7-450710c42a07",
   "metadata": {
    "collapsed": true,
    "jupyter": {
     "outputs_hidden": true
    },
    "tags": []
   },
   "outputs": [
    {
     "name": "stdout",
     "output_type": "stream",
     "text": [
      "(1000000, 11)\n",
      "(1000000, 7)\n",
      "(1000000, 11)\n",
      "(1000000, 7)\n",
      "(1000000, 11)\n",
      "(1000000, 7)\n"
     ]
    },
    {
     "ename": "KeyboardInterrupt",
     "evalue": "",
     "output_type": "error",
     "traceback": [
      "\u001b[1;31m---------------------------------------------------------------------------\u001b[0m",
      "\u001b[1;31mKeyboardInterrupt\u001b[0m                         Traceback (most recent call last)",
      "\u001b[1;32m<ipython-input-57-1f557b218b65>\u001b[0m in \u001b[0;36m<module>\u001b[1;34m\u001b[0m\n\u001b[1;32m----> 1\u001b[1;33m \u001b[1;32mfor\u001b[0m \u001b[0mchunk\u001b[0m \u001b[1;32min\u001b[0m \u001b[0mdf_netflow\u001b[0m\u001b[1;33m:\u001b[0m\u001b[1;33m\u001b[0m\u001b[1;33m\u001b[0m\u001b[0m\n\u001b[0m\u001b[0;32m      2\u001b[0m     \u001b[0mprint\u001b[0m\u001b[1;33m(\u001b[0m\u001b[0mchunk\u001b[0m\u001b[1;33m.\u001b[0m\u001b[0mshape\u001b[0m\u001b[1;33m)\u001b[0m\u001b[1;33m\u001b[0m\u001b[1;33m\u001b[0m\u001b[0m\n\u001b[0;32m      3\u001b[0m     \u001b[0mchunk2\u001b[0m \u001b[1;33m=\u001b[0m \u001b[0mchunk\u001b[0m\u001b[1;33m.\u001b[0m\u001b[0mdrop\u001b[0m\u001b[1;33m(\u001b[0m\u001b[1;33m[\u001b[0m\u001b[1;34m'SrcPackets'\u001b[0m\u001b[1;33m,\u001b[0m \u001b[1;34m'DstPackets'\u001b[0m\u001b[1;33m,\u001b[0m \u001b[1;34m'SrcBytes'\u001b[0m\u001b[1;33m,\u001b[0m \u001b[1;34m'DstBytes'\u001b[0m\u001b[1;33m]\u001b[0m\u001b[1;33m,\u001b[0m\u001b[1;36m1\u001b[0m\u001b[1;33m)\u001b[0m\u001b[1;33m\u001b[0m\u001b[1;33m\u001b[0m\u001b[0m\n\u001b[0;32m      4\u001b[0m     \u001b[0mprint\u001b[0m\u001b[1;33m(\u001b[0m\u001b[0mchunk2\u001b[0m\u001b[1;33m.\u001b[0m\u001b[0mshape\u001b[0m\u001b[1;33m)\u001b[0m\u001b[1;33m\u001b[0m\u001b[1;33m\u001b[0m\u001b[0m\n",
      "\u001b[1;32mG:\\Programs\\Anaconda\\envs\\Project\\lib\\site-packages\\pandas\\io\\parsers.py\u001b[0m in \u001b[0;36m__next__\u001b[1;34m(self)\u001b[0m\n\u001b[0;32m   1032\u001b[0m     \u001b[1;32mdef\u001b[0m \u001b[0m__next__\u001b[0m\u001b[1;33m(\u001b[0m\u001b[0mself\u001b[0m\u001b[1;33m)\u001b[0m\u001b[1;33m:\u001b[0m\u001b[1;33m\u001b[0m\u001b[1;33m\u001b[0m\u001b[0m\n\u001b[0;32m   1033\u001b[0m         \u001b[1;32mtry\u001b[0m\u001b[1;33m:\u001b[0m\u001b[1;33m\u001b[0m\u001b[1;33m\u001b[0m\u001b[0m\n\u001b[1;32m-> 1034\u001b[1;33m             \u001b[1;32mreturn\u001b[0m \u001b[0mself\u001b[0m\u001b[1;33m.\u001b[0m\u001b[0mget_chunk\u001b[0m\u001b[1;33m(\u001b[0m\u001b[1;33m)\u001b[0m\u001b[1;33m\u001b[0m\u001b[1;33m\u001b[0m\u001b[0m\n\u001b[0m\u001b[0;32m   1035\u001b[0m         \u001b[1;32mexcept\u001b[0m \u001b[0mStopIteration\u001b[0m\u001b[1;33m:\u001b[0m\u001b[1;33m\u001b[0m\u001b[1;33m\u001b[0m\u001b[0m\n\u001b[0;32m   1036\u001b[0m             \u001b[0mself\u001b[0m\u001b[1;33m.\u001b[0m\u001b[0mclose\u001b[0m\u001b[1;33m(\u001b[0m\u001b[1;33m)\u001b[0m\u001b[1;33m\u001b[0m\u001b[1;33m\u001b[0m\u001b[0m\n",
      "\u001b[1;32mG:\\Programs\\Anaconda\\envs\\Project\\lib\\site-packages\\pandas\\io\\parsers.py\u001b[0m in \u001b[0;36mget_chunk\u001b[1;34m(self, size)\u001b[0m\n\u001b[0;32m   1082\u001b[0m                 \u001b[1;32mraise\u001b[0m \u001b[0mStopIteration\u001b[0m\u001b[1;33m\u001b[0m\u001b[1;33m\u001b[0m\u001b[0m\n\u001b[0;32m   1083\u001b[0m             \u001b[0msize\u001b[0m \u001b[1;33m=\u001b[0m \u001b[0mmin\u001b[0m\u001b[1;33m(\u001b[0m\u001b[0msize\u001b[0m\u001b[1;33m,\u001b[0m \u001b[0mself\u001b[0m\u001b[1;33m.\u001b[0m\u001b[0mnrows\u001b[0m \u001b[1;33m-\u001b[0m \u001b[0mself\u001b[0m\u001b[1;33m.\u001b[0m\u001b[0m_currow\u001b[0m\u001b[1;33m)\u001b[0m\u001b[1;33m\u001b[0m\u001b[1;33m\u001b[0m\u001b[0m\n\u001b[1;32m-> 1084\u001b[1;33m         \u001b[1;32mreturn\u001b[0m \u001b[0mself\u001b[0m\u001b[1;33m.\u001b[0m\u001b[0mread\u001b[0m\u001b[1;33m(\u001b[0m\u001b[0mnrows\u001b[0m\u001b[1;33m=\u001b[0m\u001b[0msize\u001b[0m\u001b[1;33m)\u001b[0m\u001b[1;33m\u001b[0m\u001b[1;33m\u001b[0m\u001b[0m\n\u001b[0m\u001b[0;32m   1085\u001b[0m \u001b[1;33m\u001b[0m\u001b[0m\n\u001b[0;32m   1086\u001b[0m     \u001b[1;32mdef\u001b[0m \u001b[0m__enter__\u001b[0m\u001b[1;33m(\u001b[0m\u001b[0mself\u001b[0m\u001b[1;33m)\u001b[0m\u001b[1;33m:\u001b[0m\u001b[1;33m\u001b[0m\u001b[1;33m\u001b[0m\u001b[0m\n",
      "\u001b[1;32mG:\\Programs\\Anaconda\\envs\\Project\\lib\\site-packages\\pandas\\io\\parsers.py\u001b[0m in \u001b[0;36mread\u001b[1;34m(self, nrows)\u001b[0m\n\u001b[0;32m   1055\u001b[0m     \u001b[1;32mdef\u001b[0m \u001b[0mread\u001b[0m\u001b[1;33m(\u001b[0m\u001b[0mself\u001b[0m\u001b[1;33m,\u001b[0m \u001b[0mnrows\u001b[0m\u001b[1;33m=\u001b[0m\u001b[1;32mNone\u001b[0m\u001b[1;33m)\u001b[0m\u001b[1;33m:\u001b[0m\u001b[1;33m\u001b[0m\u001b[1;33m\u001b[0m\u001b[0m\n\u001b[0;32m   1056\u001b[0m         \u001b[0mnrows\u001b[0m \u001b[1;33m=\u001b[0m \u001b[0mvalidate_integer\u001b[0m\u001b[1;33m(\u001b[0m\u001b[1;34m\"nrows\"\u001b[0m\u001b[1;33m,\u001b[0m \u001b[0mnrows\u001b[0m\u001b[1;33m)\u001b[0m\u001b[1;33m\u001b[0m\u001b[1;33m\u001b[0m\u001b[0m\n\u001b[1;32m-> 1057\u001b[1;33m         \u001b[0mindex\u001b[0m\u001b[1;33m,\u001b[0m \u001b[0mcolumns\u001b[0m\u001b[1;33m,\u001b[0m \u001b[0mcol_dict\u001b[0m \u001b[1;33m=\u001b[0m \u001b[0mself\u001b[0m\u001b[1;33m.\u001b[0m\u001b[0m_engine\u001b[0m\u001b[1;33m.\u001b[0m\u001b[0mread\u001b[0m\u001b[1;33m(\u001b[0m\u001b[0mnrows\u001b[0m\u001b[1;33m)\u001b[0m\u001b[1;33m\u001b[0m\u001b[1;33m\u001b[0m\u001b[0m\n\u001b[0m\u001b[0;32m   1058\u001b[0m \u001b[1;33m\u001b[0m\u001b[0m\n\u001b[0;32m   1059\u001b[0m         \u001b[1;32mif\u001b[0m \u001b[0mindex\u001b[0m \u001b[1;32mis\u001b[0m \u001b[1;32mNone\u001b[0m\u001b[1;33m:\u001b[0m\u001b[1;33m\u001b[0m\u001b[1;33m\u001b[0m\u001b[0m\n",
      "\u001b[1;32mG:\\Programs\\Anaconda\\envs\\Project\\lib\\site-packages\\pandas\\io\\parsers.py\u001b[0m in \u001b[0;36mread\u001b[1;34m(self, nrows)\u001b[0m\n\u001b[0;32m   2034\u001b[0m     \u001b[1;32mdef\u001b[0m \u001b[0mread\u001b[0m\u001b[1;33m(\u001b[0m\u001b[0mself\u001b[0m\u001b[1;33m,\u001b[0m \u001b[0mnrows\u001b[0m\u001b[1;33m=\u001b[0m\u001b[1;32mNone\u001b[0m\u001b[1;33m)\u001b[0m\u001b[1;33m:\u001b[0m\u001b[1;33m\u001b[0m\u001b[1;33m\u001b[0m\u001b[0m\n\u001b[0;32m   2035\u001b[0m         \u001b[1;32mtry\u001b[0m\u001b[1;33m:\u001b[0m\u001b[1;33m\u001b[0m\u001b[1;33m\u001b[0m\u001b[0m\n\u001b[1;32m-> 2036\u001b[1;33m             \u001b[0mdata\u001b[0m \u001b[1;33m=\u001b[0m \u001b[0mself\u001b[0m\u001b[1;33m.\u001b[0m\u001b[0m_reader\u001b[0m\u001b[1;33m.\u001b[0m\u001b[0mread\u001b[0m\u001b[1;33m(\u001b[0m\u001b[0mnrows\u001b[0m\u001b[1;33m)\u001b[0m\u001b[1;33m\u001b[0m\u001b[1;33m\u001b[0m\u001b[0m\n\u001b[0m\u001b[0;32m   2037\u001b[0m         \u001b[1;32mexcept\u001b[0m \u001b[0mStopIteration\u001b[0m\u001b[1;33m:\u001b[0m\u001b[1;33m\u001b[0m\u001b[1;33m\u001b[0m\u001b[0m\n\u001b[0;32m   2038\u001b[0m             \u001b[1;32mif\u001b[0m \u001b[0mself\u001b[0m\u001b[1;33m.\u001b[0m\u001b[0m_first_chunk\u001b[0m\u001b[1;33m:\u001b[0m\u001b[1;33m\u001b[0m\u001b[1;33m\u001b[0m\u001b[0m\n",
      "\u001b[1;32mpandas\\_libs\\parsers.pyx\u001b[0m in \u001b[0;36mpandas._libs.parsers.TextReader.read\u001b[1;34m()\u001b[0m\n",
      "\u001b[1;32mpandas\\_libs\\parsers.pyx\u001b[0m in \u001b[0;36mpandas._libs.parsers.TextReader._read_low_memory\u001b[1;34m()\u001b[0m\n",
      "\u001b[1;32mpandas\\_libs\\parsers.pyx\u001b[0m in \u001b[0;36mpandas._libs.parsers.TextReader._read_rows\u001b[1;34m()\u001b[0m\n",
      "\u001b[1;32mpandas\\_libs\\parsers.pyx\u001b[0m in \u001b[0;36mpandas._libs.parsers.TextReader._tokenize_rows\u001b[1;34m()\u001b[0m\n",
      "\u001b[1;32mpandas\\_libs\\parsers.pyx\u001b[0m in \u001b[0;36mpandas._libs.parsers.raise_parser_error\u001b[1;34m()\u001b[0m\n",
      "\u001b[1;32mG:\\Programs\\Anaconda\\envs\\Project\\lib\\bz2.py\u001b[0m in \u001b[0;36mread1\u001b[1;34m(self, size)\u001b[0m\n\u001b[0;32m    193\u001b[0m             \u001b[1;32mif\u001b[0m \u001b[0msize\u001b[0m \u001b[1;33m<\u001b[0m \u001b[1;36m0\u001b[0m\u001b[1;33m:\u001b[0m\u001b[1;33m\u001b[0m\u001b[1;33m\u001b[0m\u001b[0m\n\u001b[0;32m    194\u001b[0m                 \u001b[0msize\u001b[0m \u001b[1;33m=\u001b[0m \u001b[0mio\u001b[0m\u001b[1;33m.\u001b[0m\u001b[0mDEFAULT_BUFFER_SIZE\u001b[0m\u001b[1;33m\u001b[0m\u001b[1;33m\u001b[0m\u001b[0m\n\u001b[1;32m--> 195\u001b[1;33m             \u001b[1;32mreturn\u001b[0m \u001b[0mself\u001b[0m\u001b[1;33m.\u001b[0m\u001b[0m_buffer\u001b[0m\u001b[1;33m.\u001b[0m\u001b[0mread1\u001b[0m\u001b[1;33m(\u001b[0m\u001b[0msize\u001b[0m\u001b[1;33m)\u001b[0m\u001b[1;33m\u001b[0m\u001b[1;33m\u001b[0m\u001b[0m\n\u001b[0m\u001b[0;32m    196\u001b[0m \u001b[1;33m\u001b[0m\u001b[0m\n\u001b[0;32m    197\u001b[0m     \u001b[1;32mdef\u001b[0m \u001b[0mreadinto\u001b[0m\u001b[1;33m(\u001b[0m\u001b[0mself\u001b[0m\u001b[1;33m,\u001b[0m \u001b[0mb\u001b[0m\u001b[1;33m)\u001b[0m\u001b[1;33m:\u001b[0m\u001b[1;33m\u001b[0m\u001b[1;33m\u001b[0m\u001b[0m\n",
      "\u001b[1;32mG:\\Programs\\Anaconda\\envs\\Project\\lib\\_compression.py\u001b[0m in \u001b[0;36mreadinto\u001b[1;34m(self, b)\u001b[0m\n\u001b[0;32m     66\u001b[0m     \u001b[1;32mdef\u001b[0m \u001b[0mreadinto\u001b[0m\u001b[1;33m(\u001b[0m\u001b[0mself\u001b[0m\u001b[1;33m,\u001b[0m \u001b[0mb\u001b[0m\u001b[1;33m)\u001b[0m\u001b[1;33m:\u001b[0m\u001b[1;33m\u001b[0m\u001b[1;33m\u001b[0m\u001b[0m\n\u001b[0;32m     67\u001b[0m         \u001b[1;32mwith\u001b[0m \u001b[0mmemoryview\u001b[0m\u001b[1;33m(\u001b[0m\u001b[0mb\u001b[0m\u001b[1;33m)\u001b[0m \u001b[1;32mas\u001b[0m \u001b[0mview\u001b[0m\u001b[1;33m,\u001b[0m \u001b[0mview\u001b[0m\u001b[1;33m.\u001b[0m\u001b[0mcast\u001b[0m\u001b[1;33m(\u001b[0m\u001b[1;34m\"B\"\u001b[0m\u001b[1;33m)\u001b[0m \u001b[1;32mas\u001b[0m \u001b[0mbyte_view\u001b[0m\u001b[1;33m:\u001b[0m\u001b[1;33m\u001b[0m\u001b[1;33m\u001b[0m\u001b[0m\n\u001b[1;32m---> 68\u001b[1;33m             \u001b[0mdata\u001b[0m \u001b[1;33m=\u001b[0m \u001b[0mself\u001b[0m\u001b[1;33m.\u001b[0m\u001b[0mread\u001b[0m\u001b[1;33m(\u001b[0m\u001b[0mlen\u001b[0m\u001b[1;33m(\u001b[0m\u001b[0mbyte_view\u001b[0m\u001b[1;33m)\u001b[0m\u001b[1;33m)\u001b[0m\u001b[1;33m\u001b[0m\u001b[1;33m\u001b[0m\u001b[0m\n\u001b[0m\u001b[0;32m     69\u001b[0m             \u001b[0mbyte_view\u001b[0m\u001b[1;33m[\u001b[0m\u001b[1;33m:\u001b[0m\u001b[0mlen\u001b[0m\u001b[1;33m(\u001b[0m\u001b[0mdata\u001b[0m\u001b[1;33m)\u001b[0m\u001b[1;33m]\u001b[0m \u001b[1;33m=\u001b[0m \u001b[0mdata\u001b[0m\u001b[1;33m\u001b[0m\u001b[1;33m\u001b[0m\u001b[0m\n\u001b[0;32m     70\u001b[0m         \u001b[1;32mreturn\u001b[0m \u001b[0mlen\u001b[0m\u001b[1;33m(\u001b[0m\u001b[0mdata\u001b[0m\u001b[1;33m)\u001b[0m\u001b[1;33m\u001b[0m\u001b[1;33m\u001b[0m\u001b[0m\n",
      "\u001b[1;32mG:\\Programs\\Anaconda\\envs\\Project\\lib\\_compression.py\u001b[0m in \u001b[0;36mread\u001b[1;34m(self, size)\u001b[0m\n\u001b[0;32m    101\u001b[0m                 \u001b[1;32melse\u001b[0m\u001b[1;33m:\u001b[0m\u001b[1;33m\u001b[0m\u001b[1;33m\u001b[0m\u001b[0m\n\u001b[0;32m    102\u001b[0m                     \u001b[0mrawblock\u001b[0m \u001b[1;33m=\u001b[0m \u001b[1;34mb\"\"\u001b[0m\u001b[1;33m\u001b[0m\u001b[1;33m\u001b[0m\u001b[0m\n\u001b[1;32m--> 103\u001b[1;33m                 \u001b[0mdata\u001b[0m \u001b[1;33m=\u001b[0m \u001b[0mself\u001b[0m\u001b[1;33m.\u001b[0m\u001b[0m_decompressor\u001b[0m\u001b[1;33m.\u001b[0m\u001b[0mdecompress\u001b[0m\u001b[1;33m(\u001b[0m\u001b[0mrawblock\u001b[0m\u001b[1;33m,\u001b[0m \u001b[0msize\u001b[0m\u001b[1;33m)\u001b[0m\u001b[1;33m\u001b[0m\u001b[1;33m\u001b[0m\u001b[0m\n\u001b[0m\u001b[0;32m    104\u001b[0m             \u001b[1;32mif\u001b[0m \u001b[0mdata\u001b[0m\u001b[1;33m:\u001b[0m\u001b[1;33m\u001b[0m\u001b[1;33m\u001b[0m\u001b[0m\n\u001b[0;32m    105\u001b[0m                 \u001b[1;32mbreak\u001b[0m\u001b[1;33m\u001b[0m\u001b[1;33m\u001b[0m\u001b[0m\n",
      "\u001b[1;31mKeyboardInterrupt\u001b[0m: "
     ]
    }
   ],
   "source": [
    "for chunk in df_netflow:\n",
    "    print(chunk.shape)\n",
    "    chunk2 = chunk.drop(['SrcPackets', 'DstPackets', 'SrcBytes', 'DstBytes'],1)\n",
    "    print(chunk2.shape)"
   ]
  },
  {
   "cell_type": "code",
   "execution_count": 46,
   "id": "770c69b7-3352-4c8a-804b-7ec84e904e7f",
   "metadata": {},
   "outputs": [],
   "source": [
    "chunk_list = []\n",
    "\n",
    "for chunk in df_netflow:\n",
    "    chunk_filter = chunk[chunk['SrcDevice'].isin(rt_sh)]\n",
    "    \n",
    "    chunk_list.append(chunk_filter)\n",
    "    \n",
    "df_concat = pd.concat(chunk_list)"
   ]
  },
  {
   "cell_type": "code",
   "execution_count": 47,
   "id": "04796c73-8eb0-460d-9c3a-7aec1c08f844",
   "metadata": {},
   "outputs": [
    {
     "data": {
      "text/html": [
       "<div>\n",
       "<style scoped>\n",
       "    .dataframe tbody tr th:only-of-type {\n",
       "        vertical-align: middle;\n",
       "    }\n",
       "\n",
       "    .dataframe tbody tr th {\n",
       "        vertical-align: top;\n",
       "    }\n",
       "\n",
       "    .dataframe thead th {\n",
       "        text-align: right;\n",
       "    }\n",
       "</style>\n",
       "<table border=\"1\" class=\"dataframe\">\n",
       "  <thead>\n",
       "    <tr style=\"text-align: right;\">\n",
       "      <th></th>\n",
       "      <th>Time</th>\n",
       "      <th>Duration</th>\n",
       "      <th>SrcDevice</th>\n",
       "      <th>DstDevice</th>\n",
       "      <th>Protocol</th>\n",
       "      <th>SrcPort</th>\n",
       "      <th>DstPort</th>\n",
       "      <th>SrcPackets</th>\n",
       "      <th>DstPackets</th>\n",
       "      <th>SrcBytes</th>\n",
       "      <th>DstBytes</th>\n",
       "    </tr>\n",
       "  </thead>\n",
       "  <tbody>\n",
       "    <tr>\n",
       "      <th>154</th>\n",
       "      <td>3974400</td>\n",
       "      <td>0</td>\n",
       "      <td>Comp953804</td>\n",
       "      <td>Comp037766</td>\n",
       "      <td>6</td>\n",
       "      <td>Port91398</td>\n",
       "      <td>Port55663</td>\n",
       "      <td>0</td>\n",
       "      <td>1</td>\n",
       "      <td>0</td>\n",
       "      <td>46</td>\n",
       "    </tr>\n",
       "    <tr>\n",
       "      <th>155</th>\n",
       "      <td>3974400</td>\n",
       "      <td>0</td>\n",
       "      <td>Comp953804</td>\n",
       "      <td>Comp037766</td>\n",
       "      <td>6</td>\n",
       "      <td>Port74411</td>\n",
       "      <td>Port70068</td>\n",
       "      <td>0</td>\n",
       "      <td>1</td>\n",
       "      <td>0</td>\n",
       "      <td>46</td>\n",
       "    </tr>\n",
       "    <tr>\n",
       "      <th>777</th>\n",
       "      <td>3974400</td>\n",
       "      <td>1</td>\n",
       "      <td>Comp261075</td>\n",
       "      <td>Comp275646</td>\n",
       "      <td>17</td>\n",
       "      <td>Port32055</td>\n",
       "      <td>53</td>\n",
       "      <td>2</td>\n",
       "      <td>0</td>\n",
       "      <td>134</td>\n",
       "      <td>0</td>\n",
       "    </tr>\n",
       "    <tr>\n",
       "      <th>951</th>\n",
       "      <td>3974400</td>\n",
       "      <td>1</td>\n",
       "      <td>Comp953804</td>\n",
       "      <td>Comp217420</td>\n",
       "      <td>6</td>\n",
       "      <td>Port93140</td>\n",
       "      <td>445</td>\n",
       "      <td>0</td>\n",
       "      <td>14</td>\n",
       "      <td>0</td>\n",
       "      <td>2618</td>\n",
       "    </tr>\n",
       "    <tr>\n",
       "      <th>952</th>\n",
       "      <td>3974400</td>\n",
       "      <td>1</td>\n",
       "      <td>Comp953804</td>\n",
       "      <td>Comp217420</td>\n",
       "      <td>6</td>\n",
       "      <td>Port70947</td>\n",
       "      <td>445</td>\n",
       "      <td>0</td>\n",
       "      <td>16</td>\n",
       "      <td>0</td>\n",
       "      <td>3050</td>\n",
       "    </tr>\n",
       "  </tbody>\n",
       "</table>\n",
       "</div>"
      ],
      "text/plain": [
       "        Time  Duration   SrcDevice   DstDevice  Protocol    SrcPort  \\\n",
       "154  3974400         0  Comp953804  Comp037766         6  Port91398   \n",
       "155  3974400         0  Comp953804  Comp037766         6  Port74411   \n",
       "777  3974400         1  Comp261075  Comp275646        17  Port32055   \n",
       "951  3974400         1  Comp953804  Comp217420         6  Port93140   \n",
       "952  3974400         1  Comp953804  Comp217420         6  Port70947   \n",
       "\n",
       "       DstPort  SrcPackets  DstPackets  SrcBytes  DstBytes  \n",
       "154  Port55663           0           1         0        46  \n",
       "155  Port70068           0           1         0        46  \n",
       "777         53           2           0       134         0  \n",
       "951        445           0          14         0      2618  \n",
       "952        445           0          16         0      3050  "
      ]
     },
     "execution_count": 47,
     "metadata": {},
     "output_type": "execute_result"
    }
   ],
   "source": [
    "df_concat.head()"
   ]
  },
  {
   "cell_type": "code",
   "execution_count": 49,
   "id": "0abedda5-c07e-40d6-ae05-5209ca3ac513",
   "metadata": {},
   "outputs": [
    {
     "data": {
      "text/plain": [
       "(743806, 11)"
      ]
     },
     "execution_count": 49,
     "metadata": {},
     "output_type": "execute_result"
    }
   ],
   "source": [
    "df_concat.shape"
   ]
  },
  {
   "cell_type": "code",
   "execution_count": 50,
   "id": "05fe0816-7874-429e-ba63-6844c9f3db06",
   "metadata": {},
   "outputs": [
    {
     "data": {
      "text/plain": [
       "0.0743806"
      ]
     },
     "execution_count": 50,
     "metadata": {},
     "output_type": "execute_result"
    }
   ],
   "source": [
    "743806/10000000"
   ]
  },
  {
   "cell_type": "code",
   "execution_count": 8,
   "id": "d8f62dc3-ffdf-4643-8b4b-e87ee9e7e934",
   "metadata": {},
   "outputs": [],
   "source": [
    "cols = ['SrcPackets', 'DstPackets', 'SrcBytes', 'DstBytes']"
   ]
  },
  {
   "cell_type": "code",
   "execution_count": 24,
   "id": "5eb93ea4-e8cd-4314-8f4d-85b1f41c97f2",
   "metadata": {},
   "outputs": [],
   "source": [
    "chunk_list = []\n",
    "\n",
    "def chunk_preproc(chunk):\n",
    "    chunk_filter = chunk[chunk['SrcDevice'].isin(rt_sh)]\n",
    "    chunk_filter = chunk_filter.drop(columns=cols)\n",
    "\n",
    "for chunk in df_netflow:\n",
    "    chunk_filter = chunk_preproc(chunk)    \n",
    "    chunk_list.append(chunk_filter)"
   ]
  },
  {
   "cell_type": "code",
   "execution_count": 64,
   "id": "45c3e258-64eb-486b-9a1a-f92407641a82",
   "metadata": {},
   "outputs": [
    {
     "name": "stdout",
     "output_type": "stream",
     "text": [
      "        Time  Duration   SrcDevice   DstDevice  Protocol    SrcPort    DstPort\n",
      "154  3974400         0  Comp953804  Comp037766         6  Port91398  Port55663\n",
      "155  3974400         0  Comp953804  Comp037766         6  Port74411  Port70068\n",
      "777  3974400         1  Comp261075  Comp275646        17  Port32055         53\n",
      "951  3974400         1  Comp953804  Comp217420         6  Port93140        445\n",
      "952  3974400         1  Comp953804  Comp217420         6  Port70947        445\n",
      "(6932200, 7)\n",
      "Time taken: 0:09:19.679054\n"
     ]
    }
   ],
   "source": [
    "pd.options.display.float_format = '{:,}'.format\n",
    "\n",
    "start = datetime.now()\n",
    "\n",
    "sh_file = \"G:/Users/Gabriel/Documents/Education/UoB/Project/ATI_Data-20210322T143516Z-001/ATI Data/Summaries/red_team/session_hosts.txt\"\n",
    "rt_sh = list(pd.read_csv(sh_file, header=None)[0])\n",
    "\n",
    "## Change path and file as relevant \n",
    "path = 'G:/Project_Data'\n",
    "df_netflow = pd.read_csv(path + \"/netflow_day-47.bz2\",usecols=[0,1,2,3,4,5,6],names=headers,chunksize=1000000)\n",
    "\n",
    "chunk_list = []\n",
    "\n",
    "for chunk in df_netflow:\n",
    "    chunk_filter = chunk[chunk['SrcDevice'].isin(rt_sh)]\n",
    "    #chunk_filter = chunk_filter.drop(['SrcPackets', 'DstPackets', 'SrcBytes', 'DstBytes'],1)\n",
    "    \n",
    "    chunk_list.append(chunk_filter)\n",
    "    \n",
    "df_concat = pd.concat(chunk_list)\n",
    "\n",
    "print(df_concat.head())\n",
    "print(df_concat.shape)\n",
    "print(\"Processing time taken: \" +str(datetime.now()-start))"
   ]
  },
  {
   "cell_type": "code",
   "execution_count": 66,
   "id": "af84ea81-771d-48cc-ac3d-db57118c9d24",
   "metadata": {},
   "outputs": [],
   "source": [
    "start = datetime.now()\n",
    "df_concat.to_csv(\"G:/Project_Data/47_C&C.csv.gz\", index=False, compression=\"gzip\")\n",
    "print(\"Export completed in: \" +str(datetime.now()-start))"
   ]
  },
  {
   "cell_type": "code",
   "execution_count": 71,
   "id": "ee15d073-7a17-4ba5-a768-c5e1beef1a75",
   "metadata": {},
   "outputs": [
    {
     "name": "stdout",
     "output_type": "stream",
     "text": [
      "        Time  Duration   SrcDevice   DstDevice  Protocol    SrcPort    DstPort\n",
      "401  4060800         1  Comp289117  Comp576031        17  Port29551        514\n",
      "496  4060800         9  Comp249659  Comp963933         6  Port74692  Port28904\n",
      "838  4060801         0  Comp953804  Comp876725         6  Port45643        139\n",
      "839  4060801         0  Comp953804  Comp876725         6  Port74532        135\n",
      "840  4060801         0  Comp953804  Comp876725         6  Port57466         22\n",
      "(7324228, 7)\n",
      "Processing time for computer 48 taken: 0:08:32.659294\n",
      "Export completed in: 0:00:59.853735\n",
      "         Time  Duration   SrcDevice   DstDevice  Protocol    SrcPort DstPort\n",
      "1732  4147201         3  Comp992775  Comp611862         6  Port65569      80\n",
      "2069  4147202         2  Comp289117  Comp576031        17  Port49469     514\n",
      "2446  4147203         1  Comp992775  Comp275646        17  Port83264      53\n",
      "2447  4147203         1  Comp992775  Comp275646        17  Port90474      53\n",
      "2448  4147203         1  Comp992775  Comp275646        17  Port66508      53\n",
      "(7352812, 7)\n",
      "Processing time for computer 49 taken: 0:09:18.895023\n",
      "Export completed in: 0:00:59.606057\n"
     ]
    }
   ],
   "source": [
    "pd.options.display.float_format = '{:,}'.format\n",
    "\n",
    "start = datetime.now()\n",
    "\n",
    "sh_file = \"G:/Users/Gabriel/Documents/Education/UoB/Project/ATI_Data-20210322T143516Z-001/ATI Data/Summaries/red_team/session_hosts.txt\"\n",
    "rt_sh = list(pd.read_csv(sh_file, header=None)[0])\n",
    "\n",
    "comps=[48,49]\n",
    "\n",
    "for i in comps:\n",
    "    ## Change path and file as relevant\n",
    "    path = 'G:/Project_Data'\n",
    "    df_netflow = pd.read_csv(path + \"/netflow_day \"+str(i)+\".bz2\",usecols=[0,1,2,3,4,5,6],names=headers,chunksize=1000000)\n",
    "\n",
    "    chunk_list = []\n",
    "\n",
    "    for chunk in df_netflow:\n",
    "        chunk_filter = chunk[chunk['SrcDevice'].isin(rt_sh)]\n",
    "        #chunk_filter = chunk_filter.drop(['SrcPackets', 'DstPackets', 'SrcBytes', 'DstBytes'],1)\n",
    "    \n",
    "        chunk_list.append(chunk_filter)\n",
    "    \n",
    "    df_concat = pd.concat(chunk_list)\n",
    "\n",
    "    print(df_concat.head())\n",
    "    print(df_concat.shape)\n",
    "    print(\"Processing time for computer \"+str(i)+\" taken: \" +str(datetime.now()-start))\n",
    "\n",
    "    start = datetime.now()\n",
    "    df_concat.to_csv(\"G:/Project_Data/\"+str(i)+\"_C&C.csv.gz\", index=False, compression=\"gzip\")\n",
    "    print(\"Export completed in: \" +str(datetime.now()-start))"
   ]
  },
  {
   "cell_type": "code",
   "execution_count": 62,
   "id": "b8a11775-639a-4ddd-ada1-600e403ae9dc",
   "metadata": {},
   "outputs": [],
   "source": [
    "df_netflow = pd.read_csv(path + \"/netflow_day-47.bz2\",usecols=[0,1,2,3,4,5,6],names=headers,nrows=100)"
   ]
  }
 ],
 "metadata": {
  "kernelspec": {
   "display_name": "Python 3",
   "language": "python",
   "name": "python3"
  },
  "language_info": {
   "codemirror_mode": {
    "name": "ipython",
    "version": 3
   },
   "file_extension": ".py",
   "mimetype": "text/x-python",
   "name": "python",
   "nbconvert_exporter": "python",
   "pygments_lexer": "ipython3",
   "version": "3.8.10"
  }
 },
 "nbformat": 4,
 "nbformat_minor": 5
}
