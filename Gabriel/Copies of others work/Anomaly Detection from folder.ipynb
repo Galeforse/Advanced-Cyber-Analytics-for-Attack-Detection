{
 "cells": [
  {
   "cell_type": "markdown",
   "id": "8416ea61-e02e-4905-bf6b-8d96807140e2",
   "metadata": {},
   "source": [
    "# Anomaly Detection"
   ]
  },
  {
   "cell_type": "markdown",
   "id": "f46c8039-eee4-484e-838e-3f8ec42ca268",
   "metadata": {},
   "source": [
    "In this notebook we finally perform our anomaly detection. We perform this in 6 steps:\n",
    "1. Create a data frame for each individual username showing authentication types for 8/24 hours of each day\n",
    "2. Use EDA, Isolation Forest's, Local Outlier Factor and other models to find 'normal' days or 'normal' usernames to allow us to train th CP_APR model\n",
    "3. Train the CP_APR model with the data we've identified in step 2\n",
    "4. Run the trained CP_APR model on the other data to identify anomalies in the 'test' data\n",
    "5. Use a function to return the anomalous entry from the original data frame based on the output of the CP_APR function\n",
    "6. Create a new data frame of anomalies\n",
    "\n",
    "Finally, we may verify this process through other means such as HTM studio for a subset or other anomaly detection techniques. We may also use the original red team authentication data to determine whether the events given there were picked up by the CP_APR method."
   ]
  },
  {
   "cell_type": "markdown",
   "id": "e0ee7621-65db-4fee-8767-ff6fced6f973",
   "metadata": {},
   "source": [
    "First we import our libraries that we need."
   ]
  },
  {
   "cell_type": "code",
   "execution_count": 7,
   "id": "324bf39e-193d-443f-b8aa-f7d38b0ce455",
   "metadata": {},
   "outputs": [
    {
     "ename": "ModuleNotFoundError",
     "evalue": "No module named 'sklearn.ensemble'",
     "output_type": "error",
     "traceback": [
      "\u001b[1;31m---------------------------------------------------------------------------\u001b[0m",
      "\u001b[1;31mModuleNotFoundError\u001b[0m                       Traceback (most recent call last)",
      "\u001b[1;32m<ipython-input-7-9a697bc1c630>\u001b[0m in \u001b[0;36m<module>\u001b[1;34m\u001b[0m\n\u001b[0;32m     19\u001b[0m \u001b[1;33m\u001b[0m\u001b[0m\n\u001b[0;32m     20\u001b[0m \u001b[1;32mfrom\u001b[0m \u001b[0msklearn\u001b[0m\u001b[1;33m.\u001b[0m\u001b[0mpreprocessing\u001b[0m \u001b[1;32mimport\u001b[0m \u001b[0mNormalizer\u001b[0m\u001b[1;33m,\u001b[0m \u001b[0mStandardScaler\u001b[0m\u001b[1;33m,\u001b[0m \u001b[0mMinMaxScaler\u001b[0m\u001b[1;33m\u001b[0m\u001b[1;33m\u001b[0m\u001b[0m\n\u001b[1;32m---> 21\u001b[1;33m \u001b[1;32mfrom\u001b[0m \u001b[0msklearn\u001b[0m\u001b[1;33m.\u001b[0m\u001b[0mensemble\u001b[0m \u001b[1;32mimport\u001b[0m \u001b[0mIsolationForest\u001b[0m\u001b[1;33m\u001b[0m\u001b[1;33m\u001b[0m\u001b[0m\n\u001b[0m\u001b[0;32m     22\u001b[0m \u001b[1;32mfrom\u001b[0m \u001b[0msklearn\u001b[0m\u001b[1;33m.\u001b[0m\u001b[0mmetrics\u001b[0m \u001b[1;32mimport\u001b[0m \u001b[0msilhouette_score\u001b[0m\u001b[1;33m,\u001b[0m \u001b[0msilhouette_samples\u001b[0m\u001b[1;33m\u001b[0m\u001b[1;33m\u001b[0m\u001b[0m\n\u001b[0;32m     23\u001b[0m \u001b[1;32mfrom\u001b[0m \u001b[0msklearn\u001b[0m\u001b[1;33m.\u001b[0m\u001b[0mcluster\u001b[0m \u001b[1;32mimport\u001b[0m \u001b[0mKMeans\u001b[0m\u001b[1;33m\u001b[0m\u001b[1;33m\u001b[0m\u001b[0m\n",
      "\u001b[1;31mModuleNotFoundError\u001b[0m: No module named 'sklearn.ensemble'"
     ]
    }
   ],
   "source": [
    "from pyCP_APR import CP_APR\n",
    "\n",
    "import numpy as np\n",
    "import pandas as pd\n",
    "import matplotlib.pyplot as plt\n",
    "import seaborn as sns\n",
    "import os\n",
    "import os.path\n",
    "import gzip\n",
    "import shutil\n",
    "import datetime\n",
    "import networkx as nx\n",
    "import pickle\n",
    "from scipy import stats\n",
    "from scipy import sparse\n",
    "import bz2\n",
    "import random\n",
    "random.seed(1134)\n",
    "\n",
    "from sklearn.preprocessing import Normalizer, StandardScaler, MinMaxScaler\n",
    "from sklearn.ensemble import IsolationForest\n",
    "from sklearn.metrics import silhouette_score, silhouette_samples\n",
    "from sklearn.cluster import KMeans\n",
    "from sklearn.decomposition import PCA\n",
    "from sklearn.neighbors import LocalOutlierFactor\n",
    "from sklearn.pipeline import Pipeline\n",
    "\n",
    "from IPython.display import clear_output\n",
    "\n",
    "import tensorflow as tf\n",
    "import keras\n",
    "from tensorflow.keras import layers\n",
    "from tensorflow.keras.models import Model\n",
    "from tensorflow.keras.models import Sequential\n",
    "from tqdm.keras import TqdmCallback"
   ]
  },
  {
   "cell_type": "markdown",
   "id": "72bac645-9484-4140-8cd1-fddaad31862d",
   "metadata": {},
   "source": [
    "We want to create reproducibility for our neural networks and doing the following permits this."
   ]
  },
  {
   "cell_type": "code",
   "execution_count": null,
   "id": "ba1ab95c-a310-4eca-aecb-217a3145c344",
   "metadata": {},
   "outputs": [],
   "source": [
    "os.environ['PYTHONHASHSEED'] = '42'\n",
    "np.random.seed(42)\n",
    "random.seed(42)\n",
    "tf.random.set_seed(42)"
   ]
  },
  {
   "cell_type": "markdown",
   "id": "90b403bc-8bf1-4fb1-ada6-bedb07590004",
   "metadata": {},
   "source": [
    "### Original Data"
   ]
  },
  {
   "cell_type": "markdown",
   "id": "12eb2728-63b8-46bb-bfca-d8199e11374c",
   "metadata": {},
   "source": [
    "Now we import the original data."
   ]
  },
  {
   "cell_type": "code",
   "execution_count": 2,
   "id": "35e567a1-389c-4125-a73d-8f100841418b",
   "metadata": {},
   "outputs": [
    {
     "name": "stdout",
     "output_type": "stream",
     "text": [
      "Attempting to read entire data set.\n"
     ]
    },
    {
     "ename": "NameError",
     "evalue": "name 'clear_output' is not defined",
     "output_type": "error",
     "traceback": [
      "\u001b[1;31m---------------------------------------------------------------------------\u001b[0m",
      "\u001b[1;31mNameError\u001b[0m                                 Traceback (most recent call last)",
      "\u001b[1;32m<ipython-input-2-0de84e75a040>\u001b[0m in \u001b[0;36m<module>\u001b[1;34m\u001b[0m\n\u001b[0;32m      2\u001b[0m     \u001b[0mprint\u001b[0m\u001b[1;33m(\u001b[0m\u001b[1;34m'Attempting to read entire data set.'\u001b[0m\u001b[1;33m)\u001b[0m\u001b[1;33m\u001b[0m\u001b[1;33m\u001b[0m\u001b[0m\n\u001b[1;32m----> 3\u001b[1;33m     \u001b[0mauthentication_data\u001b[0m \u001b[1;33m=\u001b[0m \u001b[0mpd\u001b[0m\u001b[1;33m.\u001b[0m\u001b[0mread_csv\u001b[0m\u001b[1;33m(\u001b[0m\u001b[1;34m'G:/Users/Gabriel/Documents/Education/UoB/GitHubDesktop/Advanced-Cyber-Analytics-for-Attack-Detection/Data/Reduced/auth_data_reduced.csv.gz'\u001b[0m\u001b[1;33m,\u001b[0m \u001b[0mcompression\u001b[0m\u001b[1;33m=\u001b[0m\u001b[1;34m'gzip'\u001b[0m\u001b[1;33m,\u001b[0m \u001b[0mindex_col\u001b[0m \u001b[1;33m=\u001b[0m \u001b[1;36m0\u001b[0m\u001b[1;33m)\u001b[0m\u001b[1;33m\u001b[0m\u001b[1;33m\u001b[0m\u001b[0m\n\u001b[0m\u001b[0;32m      4\u001b[0m     \u001b[0mprocess_data\u001b[0m \u001b[1;33m=\u001b[0m \u001b[0mpd\u001b[0m\u001b[1;33m.\u001b[0m\u001b[0mread_csv\u001b[0m\u001b[1;33m(\u001b[0m\u001b[1;34m'G:/Users/Gabriel/Documents/Education/UoB/GitHubDesktop/Advanced-Cyber-Analytics-for-Attack-Detection/Data/Reduced/proc_data_reduced.csv.gz'\u001b[0m\u001b[1;33m,\u001b[0m \u001b[0mcompression\u001b[0m\u001b[1;33m=\u001b[0m\u001b[1;34m'gzip'\u001b[0m\u001b[1;33m,\u001b[0m \u001b[0mindex_col\u001b[0m \u001b[1;33m=\u001b[0m \u001b[1;36m0\u001b[0m\u001b[1;33m)\u001b[0m\u001b[1;33m\u001b[0m\u001b[1;33m\u001b[0m\u001b[0m\n",
      "\u001b[1;31mNameError\u001b[0m: name 'pd' is not defined",
      "\nDuring handling of the above exception, another exception occurred:\n",
      "\u001b[1;31mNameError\u001b[0m                                 Traceback (most recent call last)",
      "\u001b[1;32m<ipython-input-2-0de84e75a040>\u001b[0m in \u001b[0;36m<module>\u001b[1;34m\u001b[0m\n\u001b[0;32m      4\u001b[0m     \u001b[0mprocess_data\u001b[0m \u001b[1;33m=\u001b[0m \u001b[0mpd\u001b[0m\u001b[1;33m.\u001b[0m\u001b[0mread_csv\u001b[0m\u001b[1;33m(\u001b[0m\u001b[1;34m'G:/Users/Gabriel/Documents/Education/UoB/GitHubDesktop/Advanced-Cyber-Analytics-for-Attack-Detection/Data/Reduced/proc_data_reduced.csv.gz'\u001b[0m\u001b[1;33m,\u001b[0m \u001b[0mcompression\u001b[0m\u001b[1;33m=\u001b[0m\u001b[1;34m'gzip'\u001b[0m\u001b[1;33m,\u001b[0m \u001b[0mindex_col\u001b[0m \u001b[1;33m=\u001b[0m \u001b[1;36m0\u001b[0m\u001b[1;33m)\u001b[0m\u001b[1;33m\u001b[0m\u001b[1;33m\u001b[0m\u001b[0m\n\u001b[0;32m      5\u001b[0m \u001b[1;32mexcept\u001b[0m\u001b[1;33m:\u001b[0m\u001b[1;33m\u001b[0m\u001b[1;33m\u001b[0m\u001b[0m\n\u001b[1;32m----> 6\u001b[1;33m     \u001b[0mclear_output\u001b[0m\u001b[1;33m(\u001b[0m\u001b[1;33m)\u001b[0m\u001b[1;33m\u001b[0m\u001b[1;33m\u001b[0m\u001b[0m\n\u001b[0m\u001b[0;32m      7\u001b[0m     \u001b[0mprint\u001b[0m\u001b[1;33m(\u001b[0m\u001b[1;34m'Unable to read entire data set, reading from original files.'\u001b[0m\u001b[1;33m)\u001b[0m\u001b[1;33m\u001b[0m\u001b[1;33m\u001b[0m\u001b[0m\n\u001b[0;32m      8\u001b[0m     \u001b[0mrootdir\u001b[0m \u001b[1;33m=\u001b[0m \u001b[1;34m'C:/Users/corri/OneDrive/Documents/Uni/Postgraduate/Final Project/LANL/ATI Data/Summaries/wls'\u001b[0m\u001b[1;33m\u001b[0m\u001b[1;33m\u001b[0m\u001b[0m\n",
      "\u001b[1;31mNameError\u001b[0m: name 'clear_output' is not defined"
     ]
    }
   ],
   "source": [
    "try:\n",
    "    print('Attempting to read entire data set.')\n",
    "    authentication_data = pd.read_csv('G:/Users/Gabriel/Documents/Education/UoB/GitHubDesktop/Advanced-Cyber-Analytics-for-Attack-Detection/Data/Reduced/auth_data_reduced.csv.gz', compression='gzip', index_col = 0)\n",
    "    process_data = pd.read_csv('G:/Users/Gabriel/Documents/Education/UoB/GitHubDesktop/Advanced-Cyber-Analytics-for-Attack-Detection/Data/Reduced/proc_data_reduced.csv.gz', compression='gzip', index_col = 0)\n",
    "except:\n",
    "    clear_output()\n",
    "    print('Unable to read entire data set, reading from original files.')\n",
    "    rootdir = 'C:/Users/corri/OneDrive/Documents/Uni/Postgraduate/Final Project/LANL/ATI Data/Summaries/wls'\n",
    "    unzippeddir = 'C:/Users/corri/OneDrive/Documents/Uni/Postgraduate/Final Project/LANL/ATI Data/Summaries/wls/Unzipped'\n",
    "    frames = []\n",
    "\n",
    "    count = 0\n",
    "    \n",
    "    for subdir, dirs, files in os.walk(rootdir):\n",
    "        for file in files:\n",
    "            if file[-3:] == '.gz':\n",
    "                filedir = rootdir + '/' + file\n",
    "                with gzip.open(filedir) as f:\n",
    "                    df = pd.read_csv(filedir, header=None)\n",
    "                    frames.append(df)\n",
    "                if 'authentications' in str(file):\n",
    "                    count = count + len(df)\n",
    "    \n",
    "    df = pd.concat(frames)\n",
    "\n",
    "    authentication_data = df[:count]\n",
    "    authentication_data.columns = ['UserName', 'SrcDevice','DstDevice', 'Authent Type', 'Failure', 'DailyCount']\n",
    "\n",
    "    process_data = df[count:]\n",
    "    process_data = process_data[[0,1,2,3,4]]\n",
    "    process_data.columns = ['UserName', 'Device', 'ProcessName', 'ParentProcessName', 'DailyCount']\n",
    "\n",
    "    authentication_data.to_csv('../Data/Authentication data.gz', header=True, compression='gzip')\n",
    "    process_data.to_csv('../Data/Process data.gz', header=True, compression='gzip')"
   ]
  },
  {
   "cell_type": "code",
   "execution_count": 4,
   "id": "6dfd6d06-a9fa-4db5-99c2-426ca02a0a43",
   "metadata": {},
   "outputs": [
    {
     "data": {
      "text/html": [
       "<div>\n",
       "<style scoped>\n",
       "    .dataframe tbody tr th:only-of-type {\n",
       "        vertical-align: middle;\n",
       "    }\n",
       "\n",
       "    .dataframe tbody tr th {\n",
       "        vertical-align: top;\n",
       "    }\n",
       "\n",
       "    .dataframe thead th {\n",
       "        text-align: right;\n",
       "    }\n",
       "</style>\n",
       "<table border=\"1\" class=\"dataframe\">\n",
       "  <thead>\n",
       "    <tr style=\"text-align: right;\">\n",
       "      <th></th>\n",
       "      <th>UserName</th>\n",
       "      <th>SrcDevice</th>\n",
       "      <th>DstDevice</th>\n",
       "      <th>Authent Type</th>\n",
       "      <th>Failure</th>\n",
       "      <th>DailyCount</th>\n",
       "    </tr>\n",
       "  </thead>\n",
       "  <tbody>\n",
       "    <tr>\n",
       "      <th>0</th>\n",
       "      <td>User035855</td>\n",
       "      <td>Comp808475</td>\n",
       "      <td>Comp081330</td>\n",
       "      <td>TGS</td>\n",
       "      <td>0</td>\n",
       "      <td>17.0</td>\n",
       "    </tr>\n",
       "    <tr>\n",
       "      <th>6003</th>\n",
       "      <td>User035855</td>\n",
       "      <td>Comp808475</td>\n",
       "      <td>Comp081330</td>\n",
       "      <td>NetworkLogon</td>\n",
       "      <td>0</td>\n",
       "      <td>177.0</td>\n",
       "    </tr>\n",
       "    <tr>\n",
       "      <th>7915</th>\n",
       "      <td>User035855</td>\n",
       "      <td>Comp808475</td>\n",
       "      <td>Comp370444</td>\n",
       "      <td>NetworkLogon</td>\n",
       "      <td>0</td>\n",
       "      <td>11.0</td>\n",
       "    </tr>\n",
       "    <tr>\n",
       "      <th>20590</th>\n",
       "      <td>User035855</td>\n",
       "      <td>Comp808475</td>\n",
       "      <td>ActiveDirectory</td>\n",
       "      <td>NetworkLogon</td>\n",
       "      <td>0</td>\n",
       "      <td>105.0</td>\n",
       "    </tr>\n",
       "    <tr>\n",
       "      <th>21655</th>\n",
       "      <td>User035855</td>\n",
       "      <td>Comp808475</td>\n",
       "      <td>Comp004340</td>\n",
       "      <td>TGS</td>\n",
       "      <td>0</td>\n",
       "      <td>1.0</td>\n",
       "    </tr>\n",
       "    <tr>\n",
       "      <th>...</th>\n",
       "      <td>...</td>\n",
       "      <td>...</td>\n",
       "      <td>...</td>\n",
       "      <td>...</td>\n",
       "      <td>...</td>\n",
       "      <td>...</td>\n",
       "    </tr>\n",
       "    <tr>\n",
       "      <th>126274</th>\n",
       "      <td>User035855</td>\n",
       "      <td>Comp808475</td>\n",
       "      <td>ActiveDirectory</td>\n",
       "      <td>TGS</td>\n",
       "      <td>0</td>\n",
       "      <td>31.0</td>\n",
       "    </tr>\n",
       "    <tr>\n",
       "      <th>133464</th>\n",
       "      <td>User035855</td>\n",
       "      <td>Comp808475</td>\n",
       "      <td>Comp808475</td>\n",
       "      <td>TGS</td>\n",
       "      <td>0</td>\n",
       "      <td>7.0</td>\n",
       "    </tr>\n",
       "    <tr>\n",
       "      <th>138213</th>\n",
       "      <td>User035855</td>\n",
       "      <td>Comp808475</td>\n",
       "      <td>Comp253429</td>\n",
       "      <td>TGS</td>\n",
       "      <td>0</td>\n",
       "      <td>1.0</td>\n",
       "    </tr>\n",
       "    <tr>\n",
       "      <th>140361</th>\n",
       "      <td>User035855</td>\n",
       "      <td>Comp808475</td>\n",
       "      <td>Comp546675</td>\n",
       "      <td>TGS</td>\n",
       "      <td>0</td>\n",
       "      <td>2.0</td>\n",
       "    </tr>\n",
       "    <tr>\n",
       "      <th>145124</th>\n",
       "      <td>User035855</td>\n",
       "      <td>Comp808475</td>\n",
       "      <td>Comp370444</td>\n",
       "      <td>TGS</td>\n",
       "      <td>0</td>\n",
       "      <td>7.0</td>\n",
       "    </tr>\n",
       "  </tbody>\n",
       "</table>\n",
       "<p>1092 rows × 6 columns</p>\n",
       "</div>"
      ],
      "text/plain": [
       "          UserName   SrcDevice        DstDevice  Authent Type  Failure  \\\n",
       "0       User035855  Comp808475       Comp081330           TGS        0   \n",
       "6003    User035855  Comp808475       Comp081330  NetworkLogon        0   \n",
       "7915    User035855  Comp808475       Comp370444  NetworkLogon        0   \n",
       "20590   User035855  Comp808475  ActiveDirectory  NetworkLogon        0   \n",
       "21655   User035855  Comp808475       Comp004340           TGS        0   \n",
       "...            ...         ...              ...           ...      ...   \n",
       "126274  User035855  Comp808475  ActiveDirectory           TGS        0   \n",
       "133464  User035855  Comp808475       Comp808475           TGS        0   \n",
       "138213  User035855  Comp808475       Comp253429           TGS        0   \n",
       "140361  User035855  Comp808475       Comp546675           TGS        0   \n",
       "145124  User035855  Comp808475       Comp370444           TGS        0   \n",
       "\n",
       "        DailyCount  \n",
       "0             17.0  \n",
       "6003         177.0  \n",
       "7915          11.0  \n",
       "20590        105.0  \n",
       "21655          1.0  \n",
       "...            ...  \n",
       "126274        31.0  \n",
       "133464         7.0  \n",
       "138213         1.0  \n",
       "140361         2.0  \n",
       "145124         7.0  \n",
       "\n",
       "[1092 rows x 6 columns]"
      ]
     },
     "execution_count": 4,
     "metadata": {},
     "output_type": "execute_result"
    }
   ],
   "source": [
    "authentication_data[authentication_data['UserName'] == 'User035855']"
   ]
  },
  {
   "cell_type": "code",
   "execution_count": 5,
   "id": "76cbb5e1-95c0-42de-81db-224622d790d7",
   "metadata": {},
   "outputs": [
    {
     "data": {
      "text/plain": [
       "array(['TGS', 'NetworkLogon', 'TGT', 'WorkstationLock',\n",
       "       'WorkstationUnlock', 'ScreensaverInvoked', 'InteractiveLogon',\n",
       "       'ScreensaverDismissed', 'Service', 'Batch', 'CachedInteractive',\n",
       "       'RemoteInteractive', 'CachedRemoteInteractive'], dtype=object)"
      ]
     },
     "execution_count": 5,
     "metadata": {},
     "output_type": "execute_result"
    }
   ],
   "source": [
    "authentication_data['Authent Type'].unique()"
   ]
  },
  {
   "cell_type": "markdown",
   "id": "d36b2ae0-becb-4d45-b680-eb5867a34fe0",
   "metadata": {},
   "source": [
    "### Other required data"
   ]
  },
  {
   "cell_type": "markdown",
   "id": "c8b2c11b-bca3-4c47-8de9-4134a94e2cf5",
   "metadata": {},
   "source": [
    "#### Possible Username Lists"
   ]
  },
  {
   "cell_type": "markdown",
   "id": "a3966cd5-bf94-4301-ad8d-79b81c856bea",
   "metadata": {},
   "source": [
    "We need a list of usernames we'll consider for training/testing. Currently at the beginning of all this we will consider all usernames for both training and testing and reduce this as we go."
   ]
  },
  {
   "cell_type": "code",
   "execution_count": 6,
   "id": "97df6b7a-8fc0-4814-98bb-05227271c3b7",
   "metadata": {},
   "outputs": [],
   "source": [
    "train_users = list(authentication_data['UserName'].unique())\n",
    "test_users = list(authentication_data['UserName'].unique())"
   ]
  },
  {
   "cell_type": "code",
   "execution_count": 7,
   "id": "9ac116b2-e39f-4e4c-bb81-dd503c0c3097",
   "metadata": {},
   "outputs": [
    {
     "data": {
      "text/plain": [
       "28815"
      ]
     },
     "execution_count": 7,
     "metadata": {},
     "output_type": "execute_result"
    }
   ],
   "source": [
    "len(train_users)"
   ]
  },
  {
   "cell_type": "markdown",
   "id": "397e2983-bb66-4416-8535-5799ba253b0e",
   "metadata": {},
   "source": [
    "#### Authentication Red Team Usernames"
   ]
  },
  {
   "cell_type": "code",
   "execution_count": 8,
   "id": "2593a077-e344-4498-b626-c27d6499c729",
   "metadata": {},
   "outputs": [],
   "source": [
    "rt_usernames = list(pd.read_csv('../Data/AuthUserNames.txt', header=None)[0])"
   ]
  },
  {
   "cell_type": "markdown",
   "id": "ed820446-d320-4774-bc7b-8ebb0b025420",
   "metadata": {},
   "source": [
    "#### Authentication Types"
   ]
  },
  {
   "cell_type": "markdown",
   "id": "cc959f95-cfef-4504-8e99-12ba9e80930c",
   "metadata": {},
   "source": [
    "We'll need a dictionary of authentication types for later use."
   ]
  },
  {
   "cell_type": "code",
   "execution_count": 9,
   "id": "ddd6b3b6-607b-452a-9627-7911413bee6f",
   "metadata": {},
   "outputs": [],
   "source": [
    "a_t = list(authentication_data['Authent Type'].unique())\n",
    "AT_dict = { i : a_t[i] for i in range(0, len(a_t) ) }"
   ]
  },
  {
   "cell_type": "markdown",
   "id": "37cb28cc-fe6c-45e5-8e2f-d32a450dad54",
   "metadata": {},
   "source": [
    "#### Authentication Day Starts"
   ]
  },
  {
   "cell_type": "markdown",
   "id": "e7dc7edb-5462-4328-aadb-9ff165d08a4a",
   "metadata": {},
   "source": [
    "The below code defines the indices where each day begins in the authentiation data."
   ]
  },
  {
   "cell_type": "code",
   "execution_count": 10,
   "id": "f244ce39-dffe-43f3-bb9e-30d2883e29ad",
   "metadata": {},
   "outputs": [],
   "source": [
    "auth_index_list = authentication_data.index.tolist()\n",
    "auth_start_days = [i for i, e in enumerate(auth_index_list) if e == 0]\n",
    "auth_start_days.append(len(authentication_data))"
   ]
  },
  {
   "cell_type": "markdown",
   "id": "9e2c7cea-a0d2-4a09-a9a3-e4a4a1d04f26",
   "metadata": {},
   "source": [
    "### Step 1: DataFrame Creation"
   ]
  },
  {
   "cell_type": "markdown",
   "id": "3a68659e-83da-4900-8f06-658cb8729480",
   "metadata": {},
   "source": [
    "This first function is used to split a data frame into equal chunks. Since we need to split each day into 8/24 hours we use this function to split into equal time periods - this may not be perfectly representitive of the actual hour split but should be a good estimate since we don't have the original time stamps."
   ]
  },
  {
   "cell_type": "code",
   "execution_count": 11,
   "id": "a8cd7347-8165-4a1a-8d48-cfef11033d0e",
   "metadata": {},
   "outputs": [],
   "source": [
    "def split_dataframe(df,n): \n",
    "    chunks = list()\n",
    "    chunk_size = int(np.round(df.shape[0]/n))\n",
    "    num_chunks = n\n",
    "    for i in range(num_chunks):\n",
    "        if i != num_chunks-1:\n",
    "            chunks.append(df[i*chunk_size:(i+1)*chunk_size])\n",
    "        else:\n",
    "            chunks.append(df[i*chunk_size:])\n",
    "    return chunks"
   ]
  },
  {
   "cell_type": "markdown",
   "id": "d2e87e56-af50-43cf-90d8-94a4047db507",
   "metadata": {},
   "source": [
    "This function creates the required data frames. It takes as input a username and a split by number (8/24) and returns a data frame of the user's authentiation events split by type over 90 days, split by 8/24 hours."
   ]
  },
  {
   "cell_type": "code",
   "execution_count": 12,
   "id": "1edb198f-6cbe-4c06-874d-86394c9218ce",
   "metadata": {},
   "outputs": [],
   "source": [
    "def auth_type_un_df(user,n):\n",
    "    auth_type_df = pd.DataFrame(index = list(authentication_data['Authent Type'].unique()))\n",
    "    n = n\n",
    "    auth_type_dict = {}\n",
    "    \n",
    "    for i in range(len(auth_start_days)-1):\n",
    "        chunks = split_dataframe(authentication_data[auth_start_days[i]:auth_start_days[i+1]],n)\n",
    "        for j in range(n):\n",
    "                data = chunks[j]\n",
    "                auth_type_data = data[data['UserName'] == user].groupby('Authent Type').size()\n",
    "                auth_type_dict[i*n + j] = auth_type_df.index.to_series().map(auth_type_data.to_dict())\n",
    "    \n",
    "    auth_type_df = pd.DataFrame(data=auth_type_dict,index = list(authentication_data['Authent Type'].unique()))\n",
    "    auth_type_df = auth_type_df.transpose()\n",
    "    auth_type_df = auth_type_df.fillna(0)\n",
    "    \n",
    "    return auth_type_df"
   ]
  },
  {
   "cell_type": "markdown",
   "id": "bfe9f5ca-df35-4972-a2c6-ca78b6e29283",
   "metadata": {},
   "source": [
    "This function creates the inputs for our CP_APR model. We pass a list of usernames to the function and it returns the set of co-ordinate tuples (i,j,e) where we have non-zero entries in our data matrices, along with the corresponding values for that matrix. i is the row of the matrix i.e. time, j is the column i.e. authentication type and e is the username number. We can instead pass a single username which would return this for just one user but this is optimised to run for all users when required."
   ]
  },
  {
   "cell_type": "code",
   "execution_count": 13,
   "id": "fb4ac08a-4102-4d22-92ca-2e8bff478603",
   "metadata": {},
   "outputs": [],
   "source": [
    "# def sparse_df(usernamelist,n):\n",
    "    \n",
    "#     coords = []\n",
    "#     vals_list = []\n",
    "    \n",
    "#     for e,user in enumerate(usernamelist):\n",
    "#         df = auth_type_un_df(user,n)\n",
    "    \n",
    "#         s = sparse.coo_matrix(df)\n",
    "#         co = [[s.row[i],s.col[i],e] for i in range(len(s.row))]\n",
    "#         vals = s.data\n",
    "        \n",
    "#         coords.append(co)\n",
    "#         vals_list.append(vals)\n",
    "    \n",
    "#     coords = np.array([item for sublist in coords for item in sublist])\n",
    "#     vals_list = np.array([item for sublist in vals_list for item in sublist])\n",
    "    \n",
    "#     return vals_list, coords\n",
    "\n",
    "# the function above does this for a list of usernames - doesn't work atm so needs fixing but the below does what we want for a single username\n",
    "def sparse_df(username,n):\n",
    "    \n",
    "    df = auth_type_un_df(username,n)\n",
    "\n",
    "    s = sparse.coo_matrix(df)\n",
    "    co = [[s.row[i],s.col[i],1] for i in range(len(s.row))]\n",
    "    vals = s.data\n",
    "    \n",
    "    return vals, co"
   ]
  },
  {
   "cell_type": "code",
   "execution_count": 14,
   "id": "1cb064a5-0c91-421f-87aa-aff2ae8142e3",
   "metadata": {},
   "outputs": [],
   "source": [
    "# stime = datetime.datetime.now()\n",
    "\n",
    "# n=10\n",
    "# for i in range(n):\n",
    "#     vals,co = sparse_df(train_users[i],24)\n",
    "\n",
    "# etime = datetime.datetime.now()\n",
    "\n",
    "# print('Time taken for {} iterations: {}.'.format(n,etime-stime))"
   ]
  },
  {
   "cell_type": "code",
   "execution_count": 15,
   "id": "0265acb9-9286-41bc-9454-c5a8eb557129",
   "metadata": {},
   "outputs": [],
   "source": [
    "# stime = datetime.datetime.now()\n",
    "\n",
    "# n=10\n",
    "# for i in range(n):\n",
    "#     vals,co = sparse_df(train_users[i],24)\n",
    "\n",
    "# etime = datetime.datetime.now()\n",
    "\n",
    "# print('Time taken for {} iterations: {}.'.format(n,etime-stime))"
   ]
  },
  {
   "cell_type": "markdown",
   "id": "2a10ecba-3a94-4048-af4a-18f6c7ce59d8",
   "metadata": {},
   "source": [
    "So we take roughly 4 seconds to compute a single username - doing this for 28,815 usernames would take $28,815 * \\frac{4}{86400} = 1.3 $ days. Lets rewrite this with parallelisation."
   ]
  },
  {
   "cell_type": "code",
   "execution_count": 16,
   "id": "fcc0a1b7-ba9e-4f8a-82ab-29f40bfdbacf",
   "metadata": {},
   "outputs": [],
   "source": [
    "#%run -i SparseDataFrameCreation.py 10"
   ]
  },
  {
   "cell_type": "code",
   "execution_count": 17,
   "id": "17d26457-1512-4dc9-a015-7112e9ca61c5",
   "metadata": {},
   "outputs": [],
   "source": [
    "#%run -i SparseDataFrameCreation.py 100"
   ]
  },
  {
   "cell_type": "markdown",
   "id": "84cb8779-e061-4608-a82f-e523b04a7537",
   "metadata": {},
   "source": [
    "We see speed improvements for large numbers of usernames but not for small ones."
   ]
  },
  {
   "cell_type": "markdown",
   "id": "99dfc727-2a73-4090-b22c-884434e3f696",
   "metadata": {},
   "source": [
    "#### Examples"
   ]
  },
  {
   "cell_type": "code",
   "execution_count": 18,
   "id": "b6eb7cb5-eb60-491f-be44-ee341632ee61",
   "metadata": {},
   "outputs": [],
   "source": [
    "# Below is an example of a full matrix of the data we're considering called on a single username over 24 hours\n",
    "#auth_type_un_df(train_users[0],24)"
   ]
  },
  {
   "cell_type": "markdown",
   "id": "b7cfd98b-0772-4f95-9e5b-7e816c1451d7",
   "metadata": {},
   "source": [
    "From the above we see that we obtain a data set of each day split into 24 hours. Each column represents an authentication type and non-zero entries represent an authentication event in that time period."
   ]
  },
  {
   "cell_type": "code",
   "execution_count": 19,
   "id": "c5e30917-564c-4a65-8a0f-de953d22e1ea",
   "metadata": {},
   "outputs": [],
   "source": [
    "# Below is an example of the sparse matrix representation we'll pass to the model - creates a big list so is commented but feel free to uncomment\n",
    "# sparse_df(train_users[1000],24)"
   ]
  },
  {
   "cell_type": "markdown",
   "id": "2d342d13-c398-4787-85c8-d31a4dd99f52",
   "metadata": {},
   "source": [
    "The first list is the non-zero values in the matrix and the second list is the list of co-ordinates where those non-zero values occur."
   ]
  },
  {
   "cell_type": "markdown",
   "id": "b3bed4f4-dc9c-4106-87c9-9dcf3fa129a1",
   "metadata": {},
   "source": [
    "### Step 2: Determining Training Data"
   ]
  },
  {
   "cell_type": "markdown",
   "id": "7d66026c-b492-4cdf-a434-73066e6f4ea8",
   "metadata": {},
   "source": [
    "Days 1-56, and 83-90 are normal activity and therefore are training data whereas days 57-82 contain red team data."
   ]
  },
  {
   "cell_type": "code",
   "execution_count": 20,
   "id": "877b585c-0e92-4f3c-8b6c-dcfbb252d879",
   "metadata": {},
   "outputs": [],
   "source": [
    "def scaled_iso_lof(data,plot=False,c='auto'):\n",
    "    \n",
    "    # scaling\n",
    "    scaler = StandardScaler()\n",
    "    scaled_data = pd.DataFrame(scaler.fit_transform(data))\n",
    "    \n",
    "    # isolation forest predictions\n",
    "    if_model = IsolationForest(contamination=c)\n",
    "    if_predictions = if_model.fit_predict(data)\n",
    "    \n",
    "    # local outlier factor predictions\n",
    "    lof = LocalOutlierFactor(n_neighbors=2)\n",
    "    lof_predictions = lof.fit_predict(data)\n",
    "    \n",
    "    if plot == True:\n",
    "        \n",
    "        # PCA reduction for plotting\n",
    "        pca = PCA(n_components=2)\n",
    "        auth_types_pca = pd.DataFrame(pca.fit_transform(data))\n",
    "        \n",
    "        # finding anomaly locations\n",
    "        a_if = auth_types_pcapca.loc[if_predictions == -1]\n",
    "        a_lof = auth_types_pca.loc[lof_predictions == -1]\n",
    "        \n",
    "        anomalies = auth_types_pca.loc[list(set(a_lof.index) & set(a_if.index))]\n",
    "        \n",
    "        fig, ax = plt.subplots(figsize=(20,6))\n",
    "        ax.plot(auth_types_pca[0], auth_types_pca[1], color='black', label='Normal')\n",
    "        ax.scatter(anomalies[0], anomalies[1], color='red', label='Anomaly')\n",
    "        ax.set_xlabel(\"Time\")\n",
    "        ax.set_ylabel(\"Number of Events\")\n",
    "        ax.text(0,auth_types_pca[1].max()-0.1,('Number of combined anomalies found: {}. \\n Number of LOF anomalies found: {}. \\n Number of IF anomalies found: {}.'.format(len(anomalies), len(a_lof), len(a_if))))\n",
    "        plt.legend(loc=1)\n",
    "        plt.show()\n",
    "        \n",
    "    else:\n",
    "        a_if = data.loc[if_predictions == -1]\n",
    "        a_lof = data.loc[lof_predictions == -1]\n",
    "\n",
    "        anomalies = data.loc[list(set(a_lof.index) & set(a_if.index))]\n",
    "    \n",
    "    return anomalies"
   ]
  },
  {
   "cell_type": "code",
   "execution_count": 21,
   "id": "9b4bfece-4400-488d-9e05-c3e3c14754ff",
   "metadata": {},
   "outputs": [],
   "source": [
    "#%run -i ParallelisedTrainingData.py 22815"
   ]
  },
  {
   "cell_type": "markdown",
   "id": "6548ab1d-922e-438f-8bfd-2bfc013b59f8",
   "metadata": {},
   "source": [
    "### Step 3: Train the CP_APR model"
   ]
  },
  {
   "cell_type": "markdown",
   "id": "8beacb46-1e6f-4d71-8cc4-b47bbdf11fc7",
   "metadata": {},
   "source": [
    "Here we define our CP_APR model. We then train it on the data we have determined to be 'normal' above to teach the model what is likely to be normal activity in the authentication sense."
   ]
  },
  {
   "cell_type": "code",
   "execution_count": 22,
   "id": "5522919e-1210-47f7-af89-8d2fe19d6bd9",
   "metadata": {},
   "outputs": [],
   "source": [
    "cp_apr = CP_APR(n_iters=10, random_state=42, verbose=200, method='numpy', return_type='numpy')"
   ]
  },
  {
   "cell_type": "code",
   "execution_count": 23,
   "id": "f51b7f32-7771-483b-890e-2153b8ca0a24",
   "metadata": {},
   "outputs": [],
   "source": [
    "#factors = cp_apr.fit(coords=train_coords, values=train_vals)\n",
    "#factors"
   ]
  },
  {
   "cell_type": "markdown",
   "id": "32cb2eb9-af37-46fa-a4a2-11cffc038eb9",
   "metadata": {},
   "source": [
    "### Step 4: Apply the CP_APR model to the actual data"
   ]
  },
  {
   "cell_type": "markdown",
   "id": "70bf3137-049f-4aed-bba3-675b8ff7d34d",
   "metadata": {},
   "source": [
    "Here we apply the model to the data we want to find anomalies in. This data will then be used to find the final set of anomalies to pass into the final stage of our project."
   ]
  },
  {
   "cell_type": "code",
   "execution_count": 24,
   "id": "df36cb1d-9ba4-4d4d-8bce-dc8311807add",
   "metadata": {},
   "outputs": [],
   "source": [
    "#p_values = cp_apr.predict_scores(coords=test_coords, values=test_vals)\n",
    "#p_values"
   ]
  },
  {
   "cell_type": "markdown",
   "id": "524c6823-c17a-4e25-9112-ce6f6da2c890",
   "metadata": {},
   "source": [
    "### Step 5: Obtain the data frame of anomalies"
   ]
  },
  {
   "cell_type": "markdown",
   "id": "061cf321-c5f0-4a62-b80f-d43df88c7848",
   "metadata": {},
   "source": [
    "Here we use the p-values found above to retrieve the final set of anomalies from the original data frame."
   ]
  },
  {
   "cell_type": "markdown",
   "id": "58b583dd-abf8-4f3c-9fb7-7ce3908715d4",
   "metadata": {},
   "source": [
    "This function returns a single anomaly based on the test coordinates array we obtain i.e. the actual data we look for anomalies in, the entry value i.e. the position of the anomaly in the array output by our CP_APR model and n, the number of hours we split the data frame by."
   ]
  },
  {
   "cell_type": "code",
   "execution_count": 25,
   "id": "0cad662e-8ad8-4a37-846f-a710f867651a",
   "metadata": {},
   "outputs": [],
   "source": [
    "def orig_finder(test_coords, entry_val, n):\n",
    "    \n",
    "    # gets the co-ordinates of the entry where we have the erro\n",
    "    orig_co = test_coords[entry_val]\n",
    "    \n",
    "    # gets the authentication type\n",
    "    authent = AT_dict[orig_co[1]]\n",
    "    \n",
    "    # gets the username of the individual who the anomaly occured with\n",
    "    username = test_users[orig_co[2]]\n",
    "    \n",
    "    # gets the day the anomaly occured (n is the number of hours we split the data frame into)\n",
    "    day = int(orig_co[0]/n)\n",
    "    \n",
    "    # gets the hour the anomaly occured in\n",
    "    hour = orig_co[0] - n * day\n",
    "    \n",
    "    # gets the n hour chunks for that day\n",
    "    chunks = split_dataframe(authentication_data[auth_start_days[day]:auth_start_days[day+1]],n)\n",
    "    \n",
    "    # gets the hour\n",
    "    data = chunks[hour]\n",
    "    \n",
    "    # finds the anomaly\n",
    "    anom = data[(data['UserName'] == username) & (data['Authent Type'] == authent)]\n",
    "    \n",
    "    return anom"
   ]
  },
  {
   "cell_type": "markdown",
   "id": "7af207da-84f4-45d6-a09e-0d6241f386f7",
   "metadata": {},
   "source": [
    "The p-values array defined below will be the output of the CP_APR function. We then set a threshold for anomaly scores to determine what we will class as an anomaly. Using the np.where function we will find all instances where we are below the threshold and return a data frame of the anomalies that we have found."
   ]
  },
  {
   "cell_type": "code",
   "execution_count": 26,
   "id": "d2f567bd-70ab-4905-b8d1-06e355af5995",
   "metadata": {},
   "outputs": [],
   "source": [
    "#frames = []\n",
    "#threshold = 0.05\n",
    "\n",
    "#for i in range(len(np.where(p_values < threshold)[0])):\n",
    "#    entry = np.where(p_values < threshold)[0][i]\n",
    "#    anom = orig_finder(test_coords, entry_val, 24)\n",
    "#    frames.append(anom)\n",
    "    \n",
    "#anomalies = pd.concat(frames)"
   ]
  },
  {
   "cell_type": "markdown",
   "id": "cd8ec7bc-9f7f-4351-9f0b-4c393e16ccec",
   "metadata": {},
   "source": [
    "#### Examples"
   ]
  },
  {
   "cell_type": "code",
   "execution_count": 27,
   "id": "4fda737e-fe26-4e57-979a-7032b1efb6bd",
   "metadata": {},
   "outputs": [
    {
     "data": {
      "text/html": [
       "<div>\n",
       "<style scoped>\n",
       "    .dataframe tbody tr th:only-of-type {\n",
       "        vertical-align: middle;\n",
       "    }\n",
       "\n",
       "    .dataframe tbody tr th {\n",
       "        vertical-align: top;\n",
       "    }\n",
       "\n",
       "    .dataframe thead th {\n",
       "        text-align: right;\n",
       "    }\n",
       "</style>\n",
       "<table border=\"1\" class=\"dataframe\">\n",
       "  <thead>\n",
       "    <tr style=\"text-align: right;\">\n",
       "      <th></th>\n",
       "      <th>UserName</th>\n",
       "      <th>SrcDevice</th>\n",
       "      <th>DstDevice</th>\n",
       "      <th>Authent Type</th>\n",
       "      <th>Failure</th>\n",
       "      <th>DailyCount</th>\n",
       "    </tr>\n",
       "  </thead>\n",
       "  <tbody>\n",
       "    <tr>\n",
       "      <th>1105</th>\n",
       "      <td>User142760</td>\n",
       "      <td>Comp636379</td>\n",
       "      <td>Comp788417</td>\n",
       "      <td>TGS</td>\n",
       "      <td>0</td>\n",
       "      <td>11.0</td>\n",
       "    </tr>\n",
       "  </tbody>\n",
       "</table>\n",
       "</div>"
      ],
      "text/plain": [
       "        UserName   SrcDevice   DstDevice Authent Type  Failure  DailyCount\n",
       "1105  User142760  Comp636379  Comp788417          TGS        0        11.0"
      ]
     },
     "execution_count": 27,
     "metadata": {},
     "output_type": "execute_result"
    }
   ],
   "source": [
    "# we find the first entry of the first day, where the Authentication type is TGS, for the 1000th user in the list of test_users\n",
    "orig_finder([[0,0,1000]],0,24)"
   ]
  },
  {
   "cell_type": "markdown",
   "id": "9292f89e-ca04-45a9-968b-2a3db3e4fdc0",
   "metadata": {},
   "source": [
    "Dan's Notes:\n",
    "- Possibly hard to work with a single machine since it may change role\n",
    "- Consider with computers, both source and destination computers\n",
    "- Natural extension is to throw more information at the prediction - features et\n",
    "- Plot p-values distribution (assume uniform) q-q plot (should see a gap and then you can set a threshold on them)\n",
    "- Counts over time, days of the week structure\n",
    "- Dismiss Saturdays/Sundays"
   ]
  },
  {
   "cell_type": "markdown",
   "id": "2a314449-486e-42f4-818d-c1de1d2e88d6",
   "metadata": {},
   "source": [
    "### Auto Encoders"
   ]
  },
  {
   "cell_type": "markdown",
   "id": "46bd4f4b-9ddd-49ee-91e7-649d619e9a52",
   "metadata": {},
   "source": [
    "#### Convolutional Auto Encoder"
   ]
  },
  {
   "cell_type": "code",
   "execution_count": 28,
   "id": "9db8b124-2e06-4928-8e20-a9f781d140e1",
   "metadata": {},
   "outputs": [],
   "source": [
    "def cae_feature_generation(user,n):\n",
    "    \n",
    "    feat_dict = {}\n",
    "    # for reference (not used)\n",
    "    day_dict = {0:'Monday',1:'Tuesday',2:'Wednesday',3:'Thursday',4:'Friday',5:'Saturday',6:'Sunday'}\n",
    "    \n",
    "    for i in range(len(auth_start_days)-1):\n",
    "        # gives access to a day for the NN - assume start on a monday based on EDA\n",
    "        day = i%7\n",
    "        chunks = split_dataframe(authentication_data[auth_start_days[i]:auth_start_days[i+1]],n)\n",
    "        for j in range(n):\n",
    "                hour = j\n",
    "                data = chunks[j]\n",
    "                authents = len(data[data['UserName'] == user])\n",
    "                failures = len(data[(data['UserName'] == user) & (data['Failure'] == 1)])\n",
    "                srcunique = len(data[data['UserName'] == user]['SrcDevice'].unique())\n",
    "                dstunique = len(data[data['UserName'] == user]['DstDevice'].unique())\n",
    "                uniquepairs = len(data.groupby(['SrcDevice','DstDevice']).size())\n",
    "                feat_dict[i*n + j] = [day,hour,srcunique,dstunique,uniquepairs,authents,failures]\n",
    "                \n",
    "    df = pd.DataFrame(data=feat_dict,index =  ['Day','Hour','SrcUnique','DstUnique','UniquePairs','Authentications','Failures'])\n",
    "    df = df.transpose()\n",
    "    df = df.fillna(0)\n",
    "    \n",
    "    return df"
   ]
  },
  {
   "cell_type": "code",
   "execution_count": 29,
   "id": "0c65e0f5-4d85-49d6-9dc8-7b6a0e45b8ac",
   "metadata": {},
   "outputs": [],
   "source": [
    "# authentication type data frames - didn't seem to work particularly well - sparse data structures arent particularly successful in neural networks\n",
    "#df = auth_type_un_df(rt_usernames[0],24)\n",
    "#df = df.drop('ScreensaverDismissed',axis=1)"
   ]
  },
  {
   "cell_type": "code",
   "execution_count": 30,
   "id": "4f01c814-9097-4cec-afc0-a37bd3c1a195",
   "metadata": {},
   "outputs": [],
   "source": [
    "df = cae_feature_generation(rt_usernames[0],24)"
   ]
  },
  {
   "cell_type": "code",
   "execution_count": 31,
   "id": "468b2402-8283-4fc0-8653-8df5027bb367",
   "metadata": {},
   "outputs": [
    {
     "name": "stdout",
     "output_type": "stream",
     "text": [
      "Training input shape:  (1365, 4, 8)\n"
     ]
    }
   ],
   "source": [
    "TIME_STEPS = 4\n",
    "\n",
    "# Generated training sequences for use in the model.\n",
    "def create_sequences(values, time_steps=TIME_STEPS):\n",
    "    output = []\n",
    "    for i in range(len(values) - time_steps + 1):\n",
    "        output.append(values[i : (i + time_steps)])\n",
    "    return np.stack(output)\n",
    "\n",
    "\n",
    "x_train = create_sequences(df[:24*57])\n",
    "x_test = create_sequences(df[24*57:])\n",
    "x_train = np.pad(x_train,[(0,0),(0,0),(0,1)], constant_values=0)\n",
    "x_test = np.pad(x_test,[(0,0),(0,0),(0,1)], constant_values=0)\n",
    "print(\"Training input shape: \", x_train.shape)"
   ]
  },
  {
   "cell_type": "code",
   "execution_count": 32,
   "id": "c8965089-e81e-4dac-a49c-474c3318c4be",
   "metadata": {},
   "outputs": [],
   "source": [
    "input_l = layers.Input(shape=(x_train.shape[1], x_train.shape[2],1))\n",
    "x = layers.Conv2D(filters=32, kernel_size=7, padding=\"same\",  activation=\"relu\")(input_l)\n",
    "x = layers.Dropout(rate=0.2)(x)\n",
    "x = layers.MaxPooling2D((2, 2), padding='same')(x)\n",
    "x = layers.Conv2D(filters=16, kernel_size=7, padding=\"same\",  activation=\"relu\")(x)\n",
    "x = layers.Dropout(rate=0.2)(x)\n",
    "encoded = layers.MaxPooling2D((2, 2), padding='same')(x)\n",
    "\n",
    "\n",
    "x = layers.Conv2D(filters=32, kernel_size=7, padding=\"same\", activation=\"relu\")(encoded)\n",
    "x = layers.UpSampling2D((2,2))(x)\n",
    "x = layers.Conv2D(filters=32, kernel_size=7, padding=\"same\", activation=\"relu\")(x)\n",
    "x = layers.UpSampling2D((2,2))(x)\n",
    "decoded = layers.Conv2D(1, (3, 3), activation='sigmoid', padding='same')(x)\n",
    "\n",
    "convo_autoencoder = Model(input_l, decoded)\n",
    "convo_autoencoder.compile(metrics=['accuracy'], optimizer='adam', loss='mse')"
   ]
  },
  {
   "cell_type": "code",
   "execution_count": 33,
   "id": "43484fe0-f386-4d65-9b9b-2ce0d42f732d",
   "metadata": {},
   "outputs": [
    {
     "name": "stdout",
     "output_type": "stream",
     "text": [
      "Model: \"model\"\n",
      "_________________________________________________________________\n",
      "Layer (type)                 Output Shape              Param #   \n",
      "=================================================================\n",
      "input_1 (InputLayer)         [(None, 4, 8, 1)]         0         \n",
      "_________________________________________________________________\n",
      "conv2d (Conv2D)              (None, 4, 8, 32)          1600      \n",
      "_________________________________________________________________\n",
      "dropout (Dropout)            (None, 4, 8, 32)          0         \n",
      "_________________________________________________________________\n",
      "max_pooling2d (MaxPooling2D) (None, 2, 4, 32)          0         \n",
      "_________________________________________________________________\n",
      "conv2d_1 (Conv2D)            (None, 2, 4, 16)          25104     \n",
      "_________________________________________________________________\n",
      "dropout_1 (Dropout)          (None, 2, 4, 16)          0         \n",
      "_________________________________________________________________\n",
      "max_pooling2d_1 (MaxPooling2 (None, 1, 2, 16)          0         \n",
      "_________________________________________________________________\n",
      "conv2d_2 (Conv2D)            (None, 1, 2, 32)          25120     \n",
      "_________________________________________________________________\n",
      "up_sampling2d (UpSampling2D) (None, 2, 4, 32)          0         \n",
      "_________________________________________________________________\n",
      "conv2d_3 (Conv2D)            (None, 2, 4, 32)          50208     \n",
      "_________________________________________________________________\n",
      "up_sampling2d_1 (UpSampling2 (None, 4, 8, 32)          0         \n",
      "_________________________________________________________________\n",
      "conv2d_4 (Conv2D)            (None, 4, 8, 1)           289       \n",
      "=================================================================\n",
      "Total params: 102,321\n",
      "Trainable params: 102,321\n",
      "Non-trainable params: 0\n",
      "_________________________________________________________________\n"
     ]
    }
   ],
   "source": [
    "convo_autoencoder.summary()"
   ]
  },
  {
   "cell_type": "code",
   "execution_count": 34,
   "id": "49a8adc6-5561-489c-b3b1-65388ee7a4cf",
   "metadata": {},
   "outputs": [
    {
     "data": {
      "application/vnd.jupyter.widget-view+json": {
       "model_id": "f9d644a345da4285977fc73a0fbb39af",
       "version_major": 2,
       "version_minor": 0
      },
      "text/plain": [
       "0epoch [00:00, ?epoch/s]"
      ]
     },
     "metadata": {},
     "output_type": "display_data"
    },
    {
     "data": {
      "application/vnd.jupyter.widget-view+json": {
       "model_id": "",
       "version_major": 2,
       "version_minor": 0
      },
      "text/plain": [
       "0batch [00:00, ?batch/s]"
      ]
     },
     "metadata": {},
     "output_type": "display_data"
    }
   ],
   "source": [
    "history = convo_autoencoder.fit(\n",
    "    x_train,\n",
    "    x_train,\n",
    "    epochs=100,\n",
    "    batch_size=128,\n",
    "    validation_split=0.1,\n",
    "    verbose=0,\n",
    "    callbacks=[\n",
    "        keras.callbacks.EarlyStopping(monitor=\"val_loss\", patience=5, mode=\"min\"),\n",
    "        TqdmCallback(verbose=1)\n",
    "    ],)"
   ]
  },
  {
   "cell_type": "code",
   "execution_count": 35,
   "id": "4b3c50a9-3dcd-44cf-8ec2-420b2a3fbc6d",
   "metadata": {},
   "outputs": [
    {
     "data": {
      "image/png": "[encoded data removed]",
      "text/plain": [
       "<Figure size 432x288 with 1 Axes>"
      ]
     },
     "metadata": {
      "needs_background": "light"
     },
     "output_type": "display_data"
    }
   ],
   "source": [
    "plt.plot(history.history[\"loss\"], label=\"Training Loss\")\n",
    "plt.plot(history.history[\"val_loss\"], label=\"Validation Loss\")\n",
    "plt.legend()\n",
    "plt.show()"
   ]
  },
  {
   "cell_type": "code",
   "execution_count": 36,
   "id": "19bd1271-d8c3-4cef-b6b0-ac430bf1665c",
   "metadata": {},
   "outputs": [
    {
     "data": {
      "image/png": "[encoded data removed]",
      "text/plain": [
       "<Figure size 432x288 with 1 Axes>"
      ]
     },
     "metadata": {
      "needs_background": "light"
     },
     "output_type": "display_data"
    }
   ],
   "source": [
    "x_train_pred = convo_autoencoder.predict(x_train)\n",
    "train_mae_loss = np.mean(np.abs(x_train_pred.reshape(x_train_pred.shape[0],x_train_pred.shape[1],x_train_pred.shape[2]) - x_train), axis=1)\n",
    "\n",
    "plt.hist(train_mae_loss, bins=50)\n",
    "plt.xlabel(\"Train MAE loss\")\n",
    "plt.ylabel(\"No of samples\")\n",
    "plt.show()"
   ]
  },
  {
   "cell_type": "code",
   "execution_count": 37,
   "id": "85a3d448-bf25-4c97-974c-e3e7804beaba",
   "metadata": {},
   "outputs": [
    {
     "name": "stdout",
     "output_type": "stream",
     "text": [
      "Reconstruction error threshold:  8722.002499999997\n"
     ]
    }
   ],
   "source": [
    "threshold = np.percentile(train_mae_loss,99)\n",
    "print(\"Reconstruction error threshold: \", threshold)"
   ]
  },
  {
   "cell_type": "code",
   "execution_count": 38,
   "id": "89e38511-372d-4a57-9b4b-7036861ebff0",
   "metadata": {},
   "outputs": [],
   "source": [
    "x_test_pred = convo_autoencoder.predict(x_test)\n",
    "test_mae_loss = np.mean(np.abs(x_test_pred.reshape(x_test_pred.shape[0],x_test_pred.shape[1],x_test_pred.shape[2]) - x_test), axis=1)\n",
    "test_mae_loss = test_mae_loss.reshape((-1))"
   ]
  },
  {
   "cell_type": "code",
   "execution_count": 39,
   "id": "87203328-51c9-41f6-9e01-c51a2e02b29d",
   "metadata": {},
   "outputs": [
    {
     "data": {
      "image/png": "[encoded data removed]",
      "text/plain": [
       "<Figure size 432x288 with 1 Axes>"
      ]
     },
     "metadata": {
      "needs_background": "light"
     },
     "output_type": "display_data"
    }
   ],
   "source": [
    "plt.hist(test_mae_loss, bins=50)\n",
    "plt.xlabel(\"test MAE loss\")\n",
    "plt.ylabel(\"No of samples\")\n",
    "plt.show()"
   ]
  },
  {
   "cell_type": "code",
   "execution_count": 40,
   "id": "ff986e19-2804-4681-bcee-a63cf8aae146",
   "metadata": {},
   "outputs": [
    {
     "name": "stdout",
     "output_type": "stream",
     "text": [
      "Number of anomaly samples:  72\n",
      "Indices of anomaly samples:  (array([2676, 2684, 2692, 2700, 2708, 2716, 2724, 2732, 2740, 2748, 2756,\n",
      "       2764, 2772, 2780, 2788, 2796, 2804, 2812, 2820, 2828, 2836, 2844,\n",
      "       2852, 2860, 3060, 3068, 3076, 3084, 3092, 3100, 3108, 3116, 3124,\n",
      "       3132, 3140, 3148, 3156, 3164, 3172, 3180, 3188, 3196, 3204, 3212,\n",
      "       3220, 3228, 3236, 3244, 5372, 5380, 5388, 5396, 5404, 5412, 5420,\n",
      "       5428, 5436, 5444, 5452, 5460, 5468, 5476, 5484, 5492, 5500, 5508,\n",
      "       5516, 5524, 5532, 5540, 5548, 5556], dtype=int64),)\n"
     ]
    }
   ],
   "source": [
    "anomalies = test_mae_loss > threshold\n",
    "print(\"Number of anomaly samples: \", np.sum(anomalies))\n",
    "print(\"Indices of anomaly samples: \", np.where(anomalies))"
   ]
  },
  {
   "cell_type": "code",
   "execution_count": 41,
   "id": "cd686e6e-a49d-4310-87ed-8223681ffbd3",
   "metadata": {},
   "outputs": [],
   "source": [
    "anomalous_data_indices = []\n",
    "for idx in range(TIME_STEPS - 1, len(df) - TIME_STEPS + 1):\n",
    "    if np.all(anomalies[idx - TIME_STEPS + 1 : idx]):\n",
    "        anomalous_data_indices.append(idx)"
   ]
  },
  {
   "cell_type": "code",
   "execution_count": 42,
   "id": "778efcfb-ec6c-4ff8-b4aa-d3fcd58f759b",
   "metadata": {},
   "outputs": [
    {
     "name": "stderr",
     "output_type": "stream",
     "text": [
      "<ipython-input-42-9e630cea70da>:1: DeprecationWarning: The default dtype for empty Series will be 'object' instead of 'float64' in a future version. Specify a dtype explicitly to silence this warning.\n",
      "  df_anomalies = df.iloc[pd.Series(anomalous_data_indices).unique()]\n"
     ]
    }
   ],
   "source": [
    "df_anomalies = df.iloc[pd.Series(anomalous_data_indices).unique()]"
   ]
  },
  {
   "cell_type": "code",
   "execution_count": 43,
   "id": "92264a57-49ca-47d3-bcd1-de5e9c9c66ff",
   "metadata": {},
   "outputs": [
    {
     "data": {
      "text/html": [
       "<div>\n",
       "<style scoped>\n",
       "    .dataframe tbody tr th:only-of-type {\n",
       "        vertical-align: middle;\n",
       "    }\n",
       "\n",
       "    .dataframe tbody tr th {\n",
       "        vertical-align: top;\n",
       "    }\n",
       "\n",
       "    .dataframe thead th {\n",
       "        text-align: right;\n",
       "    }\n",
       "</style>\n",
       "<table border=\"1\" class=\"dataframe\">\n",
       "  <thead>\n",
       "    <tr style=\"text-align: right;\">\n",
       "      <th></th>\n",
       "      <th>Day</th>\n",
       "      <th>Hour</th>\n",
       "      <th>SrcUnique</th>\n",
       "      <th>DstUnique</th>\n",
       "      <th>UniquePairs</th>\n",
       "      <th>Authentications</th>\n",
       "      <th>Failures</th>\n",
       "    </tr>\n",
       "  </thead>\n",
       "  <tbody>\n",
       "  </tbody>\n",
       "</table>\n",
       "</div>"
      ],
      "text/plain": [
       "Empty DataFrame\n",
       "Columns: [Day, Hour, SrcUnique, DstUnique, UniquePairs, Authentications, Failures]\n",
       "Index: []"
      ]
     },
     "execution_count": 43,
     "metadata": {},
     "output_type": "execute_result"
    }
   ],
   "source": [
    "df_anomalies"
   ]
  },
  {
   "cell_type": "markdown",
   "id": "e0ebdb50-fa77-4b85-abba-6610399edbc3",
   "metadata": {},
   "source": [
    "#### AutoEncoder"
   ]
  },
  {
   "cell_type": "markdown",
   "id": "c6edb78a-724b-4dd3-94ea-b8716c087a88",
   "metadata": {},
   "source": [
    "Here we produce an auto encoder. This is semi-supervised learning since the NN is attempting to approximate the input data and then using mean squared error to determine the error in the prediction. High error indicates an anomalous entry since we couldn't predict this well."
   ]
  },
  {
   "cell_type": "markdown",
   "id": "df31ca41-87dd-4c00-9044-6d7075239cae",
   "metadata": {},
   "source": [
    "The first set of cells is a proof of concept allowing us to visualise the neural network before we define a full anomaly detecction function."
   ]
  },
  {
   "cell_type": "markdown",
   "id": "28c2e4b8-9cac-43b1-adf8-46d60eef914b",
   "metadata": {},
   "source": [
    "We first get our data."
   ]
  },
  {
   "cell_type": "code",
   "execution_count": 44,
   "id": "54e524b6-d2e8-4b9f-8fa5-eb68099d0b0f",
   "metadata": {},
   "outputs": [],
   "source": [
    "def feature_generation(user,n):\n",
    "    \n",
    "    feat_dict = {}\n",
    "    # for reference (not used)\n",
    "    day_dict = {0:'Monday',1:'Tuesday',2:'Wednesday',3:'Thursday',4:'Friday',5:'Saturday',6:'Sunday'}\n",
    "    \n",
    "    for i in range(len(auth_start_days)-1):\n",
    "        # gives access to a day for the NN - assume start on a monday based on EDA\n",
    "        day = i%7\n",
    "        chunks = split_dataframe(authentication_data[auth_start_days[i]:auth_start_days[i+1]],n)\n",
    "        for j in range(n):\n",
    "                hour = j\n",
    "                data = chunks[j]\n",
    "                authents = len(data[data['UserName'] == user])\n",
    "                failures = len(data[(data['UserName'] == user) & (data['Failure'] == 1)])\n",
    "                srcunique = len(data[data['UserName'] == user]['SrcDevice'].unique())\n",
    "                dstunique = len(data[data['UserName'] == user]['DstDevice'].unique())\n",
    "                uniquepairs = len(data.groupby(['SrcDevice','DstDevice']).size())\n",
    "                feat_dict[i*n + j] = [srcunique,dstunique,authents,failures]\n",
    "                #feat_dict[i*n + j] = [day,hour,srcunique,dstunique,uniquepairs,authents,failures]\n",
    "                \n",
    "    df = pd.DataFrame(data=feat_dict,index =  ['SrcUnique','DstUnique','Authentications','Failures'])\n",
    "    #df = pd.DataFrame(data=feat_dict,index =  ['Day','Hour','SrcUnique','DstUnique','UniquePairs','Authentications','Failures'])\n",
    "    df = df.transpose()\n",
    "    df = df.fillna(0)\n",
    "    \n",
    "    return df"
   ]
  },
  {
   "cell_type": "code",
   "execution_count": 45,
   "id": "1296c65a-aef2-459f-a04c-43c126d25dc1",
   "metadata": {},
   "outputs": [],
   "source": [
    "df = feature_generation(rt_usernames[0],24)\n",
    "x_train_ae = np.array(df[0:57*24])\n",
    "x_test_ae = np.array(df[57*24:])"
   ]
  },
  {
   "cell_type": "markdown",
   "id": "cda5bd74-c90e-4120-a46c-df7bfde9d8ef",
   "metadata": {},
   "source": [
    "We define a pipeline to rescale and normalize our data. This means the data will be optimised for our neural network since large values will be scaled down and small values will be scaled up. "
   ]
  },
  {
   "cell_type": "code",
   "execution_count": 46,
   "id": "1a672438-6d18-4ac5-8176-e795b7dfa0b4",
   "metadata": {},
   "outputs": [],
   "source": [
    "pipeline = Pipeline([('normalizer', Normalizer()),\n",
    "                    ('scaler', StandardScaler())])"
   ]
  },
  {
   "cell_type": "code",
   "execution_count": 47,
   "id": "6309ea99-d8df-46e0-97e5-0346fd935c2a",
   "metadata": {},
   "outputs": [],
   "source": [
    "pipeline.fit(x_train_ae)\n",
    "x_train_ae = pipeline.transform(x_train_ae)\n",
    "x_test_ae = pipeline.transform(x_test_ae)"
   ]
  },
  {
   "cell_type": "markdown",
   "id": "d6d2fe4f-e245-4b80-876e-d24e9bb1074b",
   "metadata": {},
   "source": [
    "We define our autoencoder. The architecture is:"
   ]
  },
  {
   "cell_type": "code",
   "execution_count": 48,
   "id": "b3d682af-33af-421d-86dd-6edbe5ad03e4",
   "metadata": {},
   "outputs": [
    {
     "name": "stdout",
     "output_type": "stream",
     "text": [
      "Model: \"sequential\"\n",
      "_________________________________________________________________\n",
      "Layer (type)                 Output Shape              Param #   \n",
      "=================================================================\n",
      "dense (Dense)                (None, 4)                 20        \n",
      "_________________________________________________________________\n",
      "dropout_2 (Dropout)          (None, 4)                 0         \n",
      "_________________________________________________________________\n",
      "dense_1 (Dense)              (None, 16)                80        \n",
      "_________________________________________________________________\n",
      "dropout_3 (Dropout)          (None, 16)                0         \n",
      "_________________________________________________________________\n",
      "dense_2 (Dense)              (None, 8)                 136       \n",
      "_________________________________________________________________\n",
      "dropout_4 (Dropout)          (None, 8)                 0         \n",
      "_________________________________________________________________\n",
      "dense_3 (Dense)              (None, 4)                 36        \n",
      "_________________________________________________________________\n",
      "dropout_5 (Dropout)          (None, 4)                 0         \n",
      "_________________________________________________________________\n",
      "dense_4 (Dense)              (None, 2)                 10        \n",
      "_________________________________________________________________\n",
      "dropout_6 (Dropout)          (None, 2)                 0         \n",
      "_________________________________________________________________\n",
      "dense_5 (Dense)              (None, 2)                 6         \n",
      "_________________________________________________________________\n",
      "dropout_7 (Dropout)          (None, 2)                 0         \n",
      "_________________________________________________________________\n",
      "dense_6 (Dense)              (None, 4)                 12        \n",
      "_________________________________________________________________\n",
      "dropout_8 (Dropout)          (None, 4)                 0         \n",
      "_________________________________________________________________\n",
      "dense_7 (Dense)              (None, 8)                 40        \n",
      "_________________________________________________________________\n",
      "dropout_9 (Dropout)          (None, 8)                 0         \n",
      "_________________________________________________________________\n",
      "dense_8 (Dense)              (None, 16)                144       \n",
      "_________________________________________________________________\n",
      "dropout_10 (Dropout)         (None, 16)                0         \n",
      "_________________________________________________________________\n",
      "dense_9 (Dense)              (None, 4)                 68        \n",
      "=================================================================\n",
      "Total params: 552\n",
      "Trainable params: 552\n",
      "Non-trainable params: 0\n",
      "_________________________________________________________________\n"
     ]
    }
   ],
   "source": [
    "input_dim = x_train_ae.shape[1]\n",
    "BATCH_SIZE = 120\n",
    "EPOCHS = 50\n",
    "\n",
    "autoencoder =Sequential([\n",
    "\n",
    "    # deconstruct / encode\n",
    "    tf.keras.layers.Dense(input_dim, activation='elu', input_shape=(input_dim, )),\n",
    "    tf.keras.layers.Dropout(rate=0.1),\n",
    "    tf.keras.layers.Dense(16, activation='elu'),\n",
    "    tf.keras.layers.Dropout(rate=0.1),\n",
    "    tf.keras.layers.Dense(8, activation='elu'),\n",
    "    tf.keras.layers.Dropout(rate=0.1),\n",
    "    tf.keras.layers.Dense(4, activation='elu'),\n",
    "    tf.keras.layers.Dropout(rate=0.1),\n",
    "    tf.keras.layers.Dense(2, activation='elu'),\n",
    "    tf.keras.layers.Dropout(rate=0.1),\n",
    "\n",
    "    # reconstruction / decode\n",
    "    tf.keras.layers.Dense(2, activation='elu'),\n",
    "    tf.keras.layers.Dropout(rate=0.1),\n",
    "    tf.keras.layers.Dense(4, activation='elu'),\n",
    "    tf.keras.layers.Dropout(rate=0.1),\n",
    "    tf.keras.layers.Dense(8, activation='elu'),\n",
    "    tf.keras.layers.Dropout(rate=0.1),\n",
    "    tf.keras.layers.Dense(16, activation='elu'),\n",
    "    tf.keras.layers.Dropout(rate=0.1),\n",
    "    tf.keras.layers.Dense(input_dim, activation='elu')\n",
    "\n",
    "])\n",
    "\n",
    "autoencoder.compile(optimizer=\"adam\", \n",
    "                    loss=\"mse\",\n",
    "                    metrics=[\"acc\"])\n",
    "\n",
    "\n",
    "autoencoder.summary();"
   ]
  },
  {
   "cell_type": "code",
   "execution_count": 49,
   "id": "6e164584-1fac-4c63-b224-1587cbd01025",
   "metadata": {},
   "outputs": [
    {
     "data": {
      "application/vnd.jupyter.widget-view+json": {
       "model_id": "3a2d2918582845da86ebd2ce0bc624af",
       "version_major": 2,
       "version_minor": 0
      },
      "text/plain": [
       "0epoch [00:00, ?epoch/s]"
      ]
     },
     "metadata": {},
     "output_type": "display_data"
    },
    {
     "data": {
      "application/vnd.jupyter.widget-view+json": {
       "model_id": "",
       "version_major": 2,
       "version_minor": 0
      },
      "text/plain": [
       "0batch [00:00, ?batch/s]"
      ]
     },
     "metadata": {},
     "output_type": "display_data"
    },
    {
     "name": "stdout",
     "output_type": "stream",
     "text": [
      "Restoring model weights from the end of the best epoch.\n",
      "Epoch 00042: early stopping\n"
     ]
    }
   ],
   "source": [
    "early_stop = tf.keras.callbacks.EarlyStopping(\n",
    "    monitor='val_loss',\n",
    "    min_delta=0.0001,\n",
    "    patience=10,\n",
    "    verbose=1, \n",
    "    mode='min',\n",
    "    restore_best_weights=True\n",
    ")\n",
    "\n",
    "cb = [early_stop,TqdmCallback(verbose=1)]\n",
    "\n",
    "history = autoencoder.fit(\n",
    "    x_train_ae, x_train_ae,\n",
    "    shuffle=True,\n",
    "    epochs=EPOCHS,\n",
    "    batch_size=BATCH_SIZE,\n",
    "    validation_split=0.1,\n",
    "    verbose=0,\n",
    "    callbacks=cb   \n",
    ")"
   ]
  },
  {
   "cell_type": "code",
   "execution_count": 50,
   "id": "c8c32a94-aef6-4e4e-8388-86c7969f8be6",
   "metadata": {},
   "outputs": [
    {
     "data": {
      "image/png": "[encoded data removed]",
      "text/plain": [
       "<Figure size 432x288 with 1 Axes>"
      ]
     },
     "metadata": {
      "needs_background": "light"
     },
     "output_type": "display_data"
    }
   ],
   "source": [
    "plt.plot(history.history[\"loss\"], label=\"Training Loss\")\n",
    "plt.plot(history.history[\"val_loss\"], label=\"Validation Loss\")\n",
    "plt.legend()\n",
    "plt.show()"
   ]
  },
  {
   "cell_type": "code",
   "execution_count": 51,
   "id": "a4e70033-f21e-45a4-9c8a-a686f28ea3ad",
   "metadata": {},
   "outputs": [
    {
     "data": {
      "image/png": "[encoded data removed]",
      "text/plain": [
       "<Figure size 432x288 with 1 Axes>"
      ]
     },
     "metadata": {
      "needs_background": "light"
     },
     "output_type": "display_data"
    }
   ],
   "source": [
    "x_train_pred = autoencoder.predict(x_train_ae)\n",
    "train_mae_loss = np.mean(np.abs(x_train_pred - x_train_ae), axis=1)\n",
    "\n",
    "mmscaler = MinMaxScaler()\n",
    "train_mae_loss = mmscaler.fit_transform(train_mae_loss.reshape(-1,1))\n",
    "\n",
    "plt.hist(train_mae_loss, bins=50)\n",
    "plt.xlabel(\"Train MAE loss\")\n",
    "plt.ylabel(\"No of samples\")\n",
    "plt.show()"
   ]
  },
  {
   "cell_type": "code",
   "execution_count": 52,
   "id": "dc614ea6-28dc-4da7-adc0-7e9f5a0788ff",
   "metadata": {},
   "outputs": [],
   "source": [
    "x_test_pred = autoencoder.predict(x_test_ae)\n",
    "test_mae_loss = np.mean(np.abs(x_test_pred - x_test_ae), axis=1)"
   ]
  },
  {
   "cell_type": "code",
   "execution_count": 53,
   "id": "252ac353-ea13-47b0-807b-995fcaed41a0",
   "metadata": {},
   "outputs": [
    {
     "data": {
      "image/png": "[encoded data removed]",
      "text/plain": [
       "<Figure size 432x288 with 1 Axes>"
      ]
     },
     "metadata": {
      "needs_background": "light"
     },
     "output_type": "display_data"
    }
   ],
   "source": [
    "mmscaler = MinMaxScaler()\n",
    "test_mae_loss = mmscaler.fit_transform(test_mae_loss.reshape(-1,1))\n",
    "\n",
    "plt.hist(test_mae_loss, bins=50)\n",
    "plt.xlabel(\"test MAE loss\")\n",
    "plt.ylabel(\"No of samples\")\n",
    "plt.show()"
   ]
  },
  {
   "cell_type": "code",
   "execution_count": 54,
   "id": "b52e79e9-d7c2-4203-a983-5399dbfcc660",
   "metadata": {},
   "outputs": [
    {
     "name": "stdout",
     "output_type": "stream",
     "text": [
      "Number of anomaly samples:  13\n",
      "Indices of anomaly samples:  (array([ 21,  45,  91, 165, 175, 213, 237, 381, 429, 501, 549, 573, 693],\n",
      "      dtype=int64), array([0, 0, 0, 0, 0, 0, 0, 0, 0, 0, 0, 0, 0], dtype=int64))\n"
     ]
    }
   ],
   "source": [
    "anomalies = test_mae_loss > 0.95\n",
    "print(\"Number of anomaly samples: \", np.sum(anomalies))\n",
    "print(\"Indices of anomaly samples: \", np.where(anomalies))"
   ]
  },
  {
   "cell_type": "code",
   "execution_count": 55,
   "id": "9f3cfb14-1faa-4af3-a2c1-273b8e87a1a0",
   "metadata": {},
   "outputs": [],
   "source": [
    "df_anomalies = df.iloc[pd.Series(np.where(anomalies)[0]).unique()]"
   ]
  },
  {
   "cell_type": "code",
   "execution_count": 56,
   "id": "3c0cff01-a745-44ee-9f37-69cc68b92217",
   "metadata": {},
   "outputs": [
    {
     "data": {
      "text/html": [
       "<div>\n",
       "<style scoped>\n",
       "    .dataframe tbody tr th:only-of-type {\n",
       "        vertical-align: middle;\n",
       "    }\n",
       "\n",
       "    .dataframe tbody tr th {\n",
       "        vertical-align: top;\n",
       "    }\n",
       "\n",
       "    .dataframe thead th {\n",
       "        text-align: right;\n",
       "    }\n",
       "</style>\n",
       "<table border=\"1\" class=\"dataframe\">\n",
       "  <thead>\n",
       "    <tr style=\"text-align: right;\">\n",
       "      <th></th>\n",
       "      <th>SrcUnique</th>\n",
       "      <th>DstUnique</th>\n",
       "      <th>Authentications</th>\n",
       "      <th>Failures</th>\n",
       "    </tr>\n",
       "  </thead>\n",
       "  <tbody>\n",
       "    <tr>\n",
       "      <th>21</th>\n",
       "      <td>0</td>\n",
       "      <td>0</td>\n",
       "      <td>0</td>\n",
       "      <td>0</td>\n",
       "    </tr>\n",
       "    <tr>\n",
       "      <th>45</th>\n",
       "      <td>1</td>\n",
       "      <td>1</td>\n",
       "      <td>1</td>\n",
       "      <td>1</td>\n",
       "    </tr>\n",
       "    <tr>\n",
       "      <th>91</th>\n",
       "      <td>0</td>\n",
       "      <td>0</td>\n",
       "      <td>0</td>\n",
       "      <td>0</td>\n",
       "    </tr>\n",
       "    <tr>\n",
       "      <th>165</th>\n",
       "      <td>0</td>\n",
       "      <td>0</td>\n",
       "      <td>0</td>\n",
       "      <td>0</td>\n",
       "    </tr>\n",
       "    <tr>\n",
       "      <th>175</th>\n",
       "      <td>1</td>\n",
       "      <td>1</td>\n",
       "      <td>1</td>\n",
       "      <td>0</td>\n",
       "    </tr>\n",
       "    <tr>\n",
       "      <th>213</th>\n",
       "      <td>0</td>\n",
       "      <td>0</td>\n",
       "      <td>0</td>\n",
       "      <td>0</td>\n",
       "    </tr>\n",
       "    <tr>\n",
       "      <th>237</th>\n",
       "      <td>0</td>\n",
       "      <td>0</td>\n",
       "      <td>0</td>\n",
       "      <td>0</td>\n",
       "    </tr>\n",
       "    <tr>\n",
       "      <th>381</th>\n",
       "      <td>0</td>\n",
       "      <td>0</td>\n",
       "      <td>0</td>\n",
       "      <td>0</td>\n",
       "    </tr>\n",
       "    <tr>\n",
       "      <th>429</th>\n",
       "      <td>1</td>\n",
       "      <td>1</td>\n",
       "      <td>1</td>\n",
       "      <td>1</td>\n",
       "    </tr>\n",
       "    <tr>\n",
       "      <th>501</th>\n",
       "      <td>0</td>\n",
       "      <td>0</td>\n",
       "      <td>0</td>\n",
       "      <td>0</td>\n",
       "    </tr>\n",
       "    <tr>\n",
       "      <th>549</th>\n",
       "      <td>0</td>\n",
       "      <td>0</td>\n",
       "      <td>0</td>\n",
       "      <td>0</td>\n",
       "    </tr>\n",
       "    <tr>\n",
       "      <th>573</th>\n",
       "      <td>0</td>\n",
       "      <td>0</td>\n",
       "      <td>0</td>\n",
       "      <td>0</td>\n",
       "    </tr>\n",
       "    <tr>\n",
       "      <th>693</th>\n",
       "      <td>1</td>\n",
       "      <td>1</td>\n",
       "      <td>1</td>\n",
       "      <td>1</td>\n",
       "    </tr>\n",
       "  </tbody>\n",
       "</table>\n",
       "</div>"
      ],
      "text/plain": [
       "     SrcUnique  DstUnique  Authentications  Failures\n",
       "21           0          0                0         0\n",
       "45           1          1                1         1\n",
       "91           0          0                0         0\n",
       "165          0          0                0         0\n",
       "175          1          1                1         0\n",
       "213          0          0                0         0\n",
       "237          0          0                0         0\n",
       "381          0          0                0         0\n",
       "429          1          1                1         1\n",
       "501          0          0                0         0\n",
       "549          0          0                0         0\n",
       "573          0          0                0         0\n",
       "693          1          1                1         1"
      ]
     },
     "execution_count": 56,
     "metadata": {},
     "output_type": "execute_result"
    }
   ],
   "source": [
    "df_anomalies"
   ]
  },
  {
   "cell_type": "code",
   "execution_count": 57,
   "id": "0029f5f1-bab1-4d95-918a-c110474a7bc7",
   "metadata": {},
   "outputs": [],
   "source": [
    "def ae_orig_finder(user,n,idx):\n",
    "    \n",
    "    j_idx = idx % n\n",
    "    i_idx = int(idx/n)\n",
    "\n",
    "    chunks = split_dataframe(authentication_data[auth_start_days[i_idx]:auth_start_days[i_idx+1]],n)\n",
    "    data = chunks[j_idx][chunks[j_idx]['UserName'] == user]\n",
    "    \n",
    "    return data"
   ]
  },
  {
   "cell_type": "code",
   "execution_count": 58,
   "id": "57d38bda-9cc3-4bb6-851c-47a8cf4daf56",
   "metadata": {},
   "outputs": [
    {
     "data": {
      "text/html": [
       "<div>\n",
       "<style scoped>\n",
       "    .dataframe tbody tr th:only-of-type {\n",
       "        vertical-align: middle;\n",
       "    }\n",
       "\n",
       "    .dataframe tbody tr th {\n",
       "        vertical-align: top;\n",
       "    }\n",
       "\n",
       "    .dataframe thead th {\n",
       "        text-align: right;\n",
       "    }\n",
       "</style>\n",
       "<table border=\"1\" class=\"dataframe\">\n",
       "  <thead>\n",
       "    <tr style=\"text-align: right;\">\n",
       "      <th></th>\n",
       "      <th>UserName</th>\n",
       "      <th>SrcDevice</th>\n",
       "      <th>DstDevice</th>\n",
       "      <th>Authent Type</th>\n",
       "      <th>Failure</th>\n",
       "      <th>DailyCount</th>\n",
       "    </tr>\n",
       "  </thead>\n",
       "  <tbody>\n",
       "    <tr>\n",
       "      <th>195820</th>\n",
       "      <td>User024511</td>\n",
       "      <td>Comp526669</td>\n",
       "      <td>None</td>\n",
       "      <td>WorkstationUnlock</td>\n",
       "      <td>1</td>\n",
       "      <td>1.0</td>\n",
       "    </tr>\n",
       "  </tbody>\n",
       "</table>\n",
       "</div>"
      ],
      "text/plain": [
       "          UserName   SrcDevice DstDevice       Authent Type  Failure  \\\n",
       "195820  User024511  Comp526669      None  WorkstationUnlock        1   \n",
       "\n",
       "        DailyCount  \n",
       "195820         1.0  "
      ]
     },
     "execution_count": 58,
     "metadata": {},
     "output_type": "execute_result"
    }
   ],
   "source": [
    "ae_orig_finder(rt_usernames[0],24,45)"
   ]
  },
  {
   "cell_type": "code",
   "execution_count": 59,
   "id": "95537a5b-f55b-471b-9256-9eeb7c7fc357",
   "metadata": {},
   "outputs": [],
   "source": [
    "def ae_anomaly_finder(user,n,BATCH_SIZE=64, EPOCHS=1000):\n",
    "    \n",
    "    # get the data frame of features\n",
    "    df = feature_generation(user,n)\n",
    "    x_train_ae = np.concatenate([np.array(df[0:57*n]),np.array(df[82*n:])])\n",
    "    x_test_ae = np.array(df[57*n:82*n])\n",
    "    \n",
    "    # create our scaling pipeline\n",
    "    pipeline = Pipeline([('normalizer', Normalizer()),\n",
    "                    ('scaler', StandardScaler())])\n",
    "    pipeline.fit(x_train_ae)\n",
    "    x_train_ae = pipeline.transform(x_train_ae)\n",
    "    x_test_ae = pipeline.transform(x_test_ae)\n",
    "    \n",
    "    # define neural network parameters\n",
    "    input_dim = x_train_ae.shape[1]\n",
    "    BATCH_SIZE = BATCH_SIZE\n",
    "    EPOCHS = EPOCHS\n",
    "\n",
    "    # define the autoencoder\n",
    "    autoencoder =Sequential([\n",
    "\n",
    "        # deconstruct / encode\n",
    "        tf.keras.layers.Dense(input_dim, activation='elu', input_shape=(input_dim, )),\n",
    "        tf.keras.layers.Dropout(rate=0.1),\n",
    "        tf.keras.layers.Dense(16, activation='elu'),\n",
    "        tf.keras.layers.Dropout(rate=0.1),\n",
    "        tf.keras.layers.Dense(8, activation='elu'),\n",
    "        tf.keras.layers.Dropout(rate=0.1),\n",
    "        tf.keras.layers.Dense(4, activation='elu'),\n",
    "        tf.keras.layers.Dropout(rate=0.1),\n",
    "        tf.keras.layers.Dense(2, activation='elu'),\n",
    "        tf.keras.layers.Dropout(rate=0.1),\n",
    "\n",
    "        # reconstruction / decode\n",
    "        tf.keras.layers.Dense(2, activation='elu'),\n",
    "        tf.keras.layers.Dropout(rate=0.1),\n",
    "        tf.keras.layers.Dense(4, activation='elu'),\n",
    "        tf.keras.layers.Dropout(rate=0.1),\n",
    "        tf.keras.layers.Dense(8, activation='elu'),\n",
    "        tf.keras.layers.Dropout(rate=0.1),\n",
    "        tf.keras.layers.Dense(16, activation='elu'),\n",
    "        tf.keras.layers.Dropout(rate=0.1),\n",
    "        tf.keras.layers.Dense(input_dim, activation='elu')\n",
    "\n",
    "    ])\n",
    "\n",
    "    # compile the autoencoder\n",
    "    autoencoder.compile(optimizer=\"adam\", \n",
    "                        loss=\"mse\",\n",
    "                        metrics=[\"acc\"])\n",
    "    \n",
    "    early_stop = tf.keras.callbacks.EarlyStopping(\n",
    "    monitor='val_loss',\n",
    "    min_delta=0.0001,\n",
    "    patience=10,\n",
    "    verbose=1, \n",
    "    mode='min',\n",
    "    restore_best_weights=True\n",
    "    )\n",
    "    \n",
    "    # allows for early stopping and better visualisation of progress\n",
    "    cb = [early_stop,TqdmCallback(verbose=1)]\n",
    "    \n",
    "    # fit the auto encoder\n",
    "    history = autoencoder.fit(\n",
    "        x_train_ae, x_train_ae,\n",
    "        shuffle=True,\n",
    "        epochs=EPOCHS,\n",
    "        batch_size=BATCH_SIZE,\n",
    "        validation_split=0.1,\n",
    "        verbose=0,\n",
    "        callbacks=cb   \n",
    "    )\n",
    "    \n",
    "    # make predictions on the remaining data\n",
    "    x_test_pred = autoencoder.predict(x_test_ae)\n",
    "    test_mae_loss = np.mean(np.abs(x_test_pred - x_test_ae), axis=1)\n",
    "    \n",
    "    # min max scaler to transform to 0-1 so that we have 'p-values'\n",
    "    mmscaler = MinMaxScaler()\n",
    "    test_mae_loss = mmscaler.fit_transform(test_mae_loss.reshape(-1,1))\n",
    "    \n",
    "    anomalies = np.where(test_mae_loss > 0.95)\n",
    "    anomaly_idx = anomalies[0]\n",
    "    \n",
    "    frame = []\n",
    "    for i in range(len(anomaly_idx)):\n",
    "        anomaly = ae_orig_finder(user,n,anomaly_idx[i])\n",
    "        \n",
    "        # indicates that an anomaly was found where we have no information i.e. the lack of an event was anomalous\n",
    "        if len(anomaly) == 0:\n",
    "            pass\n",
    "        else:\n",
    "            frame.append(anomaly)\n",
    "        \n",
    "    if len(frame) != 0:\n",
    "        anomaly_df = pd.concat(frame)\n",
    "        return anomaly_df,1,history.history[\"val_loss\"]\n",
    "    else:\n",
    "        print('No anomalies found.')\n",
    "        return pd.DataFrame(test_mae_loss).describe(),0,history.history[\"val_loss\"]"
   ]
  },
  {
   "cell_type": "markdown",
   "id": "2ca2653e-4e1c-49df-abab-adcaebf6fde4",
   "metadata": {},
   "source": [
    "This cell is just a quick test, as well as determining timings."
   ]
  },
  {
   "cell_type": "code",
   "execution_count": 60,
   "id": "0f2c5e1f-273e-4be7-b39d-a302f0eac371",
   "metadata": {},
   "outputs": [
    {
     "data": {
      "application/vnd.jupyter.widget-view+json": {
       "model_id": "af239732c9e24aa99a205f3f4effc8c4",
       "version_major": 2,
       "version_minor": 0
      },
      "text/plain": [
       "0epoch [00:00, ?epoch/s]"
      ]
     },
     "metadata": {},
     "output_type": "display_data"
    },
    {
     "data": {
      "application/vnd.jupyter.widget-view+json": {
       "model_id": "",
       "version_major": 2,
       "version_minor": 0
      },
      "text/plain": [
       "0batch [00:00, ?batch/s]"
      ]
     },
     "metadata": {},
     "output_type": "display_data"
    },
    {
     "name": "stdout",
     "output_type": "stream",
     "text": [
      "Restoring model weights from the end of the best epoch.\n",
      "Epoch 00017: early stopping\n",
      "0:00:17.302868\n"
     ]
    }
   ],
   "source": [
    "s_time = datetime.datetime.now()\n",
    "anomalies = ae_anomaly_finder(rt_usernames[0],24)\n",
    "e_time=datetime.datetime.now()\n",
    "print(e_time-s_time)"
   ]
  },
  {
   "cell_type": "markdown",
   "id": "9548abf7-72f3-443e-8d2d-b59a939b981f",
   "metadata": {},
   "source": [
    "In this cell we run the model over all the red team usernames to identify the anomalies in the defined period."
   ]
  },
  {
   "cell_type": "code",
   "execution_count": 61,
   "id": "02b0ba80-bb13-491b-b0cc-75fd568c30f3",
   "metadata": {},
   "outputs": [
    {
     "name": "stdout",
     "output_type": "stream",
     "text": [
      "Data available.\n"
     ]
    }
   ],
   "source": [
    "try:\n",
    "    print('Reading Data.')\n",
    "    anomalies_ae = pickle.load(open('Anomalies AE.p','rb'))\n",
    "    val_loss = pickle.load(open('Validation Loss.p','rb'))\n",
    "    anomaly_bool = []\n",
    "    \n",
    "    for un in rt_usernames:\n",
    "        try:\n",
    "            anomaly_bool.append((len(anomalies_ae[anomalies_ae['UserName'] == un]),un))\n",
    "        except KeyError:\n",
    "            anomaly_bool.append((0,un))\n",
    "    clear_output()\n",
    "    print('Data available.')\n",
    "except:\n",
    "    clear_output()\n",
    "    print('Running AutoEncoder')\n",
    "    frames = []\n",
    "    anomaly_bool = []\n",
    "    val_loss = []\n",
    "\n",
    "    s_time = datetime.datetime.now()\n",
    "\n",
    "    for i in range(len(rt_usernames)):\n",
    "        clear_output(wait=True)\n",
    "        print('Working with username {} of {}. {:.2f} percentage complete.'.format(i+1,len(rt_usernames),100*((i+1)/len(rt_usernames))))\n",
    "        f,b,val = ae_anomaly_finder(rt_usernames[i],24)\n",
    "        if b == 1:\n",
    "            frames.append(f)\n",
    "            anomaly_bool.append((len(f),rt_usernames[i]))\n",
    "            val_loss.append((val,rt_usernames[i]))\n",
    "        else:\n",
    "            anomaly_bool.append((0,rt_usernames[i]))\n",
    "            val_loss.append((val,rt_usernames[i]))\n",
    "            pass\n",
    "    anomalies_ae = pd.concat(frames)\n",
    "    \n",
    "    pickle.dump(anomalies_ae, open('Anomalies AE.p','wb'))\n",
    "    pickle.dump(val_loss, open('Validation Loss.p','wb'))\n",
    "    \n",
    "    e_time = datetime.datetime.now()\n",
    "    print(e_time-s_time)"
   ]
  },
  {
   "cell_type": "markdown",
   "id": "f013eb7b-cca2-4a05-bfe5-0ab9d9aafbab",
   "metadata": {},
   "source": [
    "Here we analyse the output of our auto encoder and review the amount of anomalies identified."
   ]
  },
  {
   "cell_type": "code",
   "execution_count": 62,
   "id": "23106732-16db-4bf9-92ba-66fff31d6bfe",
   "metadata": {},
   "outputs": [
    {
     "name": "stdout",
     "output_type": "stream",
     "text": [
      "55 of the red team usernames were identified to have anomalies out of 99 red team usernames. The folloiwng usernames were found to have no anomalies\n",
      "--------------------------------------------------------------------------------------------\n",
      "User409683, User876240, User179746, User370789, User133028, User882755, User576476, User917056, User902575, User970135, User680875, User110290, User490979, User325977, User284127, User860122, User110290, User702833, User089536, User225859, User284127, User859748, User630088, User787491, User766454, User457932, User447167, User758916, User637808, User415148, winservice, User829941, User717387, User417775, User405399, Comp289117$, User735240, User900703, User925048, User160566, User497510, User222822, User525118, User091297\n"
     ]
    }
   ],
   "source": [
    "non_anom = []\n",
    "for i in range(len(anomaly_bool)):\n",
    "    if anomaly_bool[i][0] == 0:    \n",
    "        non_anom.append(anomaly_bool[i][1])\n",
    "        \n",
    "print('{} of the red team usernames were identified to have anomalies out of {} red team usernames. The folloiwng usernames were found to have no anomalies'.\n",
    "      format(len(np.where(np.array([i[0] for i in anomaly_bool]) > 0)[0]),len(anomaly_bool)))\n",
    "print('--------------------------------------------------------------------------------------------')        \n",
    "print(', '.join(map(str,non_anom)))\n"
   ]
  },
  {
   "cell_type": "code",
   "execution_count": 63,
   "id": "f8e0f188-54cf-4a32-89d6-5d1dd269a874",
   "metadata": {},
   "outputs": [],
   "source": [
    "non_rt_users = [un for un in authentication_data['UserName'].unique() if un not in rt_usernames]"
   ]
  },
  {
   "cell_type": "code",
   "execution_count": 64,
   "id": "5f3a857e-84db-4963-8a0f-235698664c11",
   "metadata": {},
   "outputs": [
    {
     "name": "stdout",
     "output_type": "stream",
     "text": [
      "Working with username 20 of 20. 100.0 percentage complete.\n"
     ]
    },
    {
     "data": {
      "application/vnd.jupyter.widget-view+json": {
       "model_id": "f8d7138f7eaf4a5285c2ef18f492660f",
       "version_major": 2,
       "version_minor": 0
      },
      "text/plain": [
       "0epoch [00:00, ?epoch/s]"
      ]
     },
     "metadata": {},
     "output_type": "display_data"
    },
    {
     "data": {
      "application/vnd.jupyter.widget-view+json": {
       "model_id": "",
       "version_major": 2,
       "version_minor": 0
      },
      "text/plain": [
       "0batch [00:00, ?batch/s]"
      ]
     },
     "metadata": {},
     "output_type": "display_data"
    },
    {
     "name": "stdout",
     "output_type": "stream",
     "text": [
      "Restoring model weights from the end of the best epoch.\n",
      "Epoch 00022: early stopping\n",
      "No anomalies found.\n",
      "0:05:59.898876\n"
     ]
    }
   ],
   "source": [
    "frames_n = []\n",
    "anomaly_bool_N = []\n",
    "val_loss_n = []\n",
    "bound = 20\n",
    "rand_non_rt = random.sample(non_rt_users,bound)\n",
    "\n",
    "s_time = datetime.datetime.now()\n",
    "\n",
    "for i,un in enumerate(rand_non_rt):\n",
    "    clear_output(wait=True)\n",
    "    print('Working with username {} of {}. {} percentage complete.'.format(i+1,bound,100*((i+1)/bound)))\n",
    "    f,b,val = ae_anomaly_finder(un,24)\n",
    "    if b == 1:\n",
    "        frames_n.append(f)\n",
    "        anomaly_bool_N.append((len(f),un))\n",
    "        val_loss_n.append(val)\n",
    "    else:\n",
    "        anomaly_bool_N.append((0,un))\n",
    "        val_loss_n.append(val)\n",
    "        pass\n",
    "anomalies_ae_n = pd.concat(frames_n)\n",
    "\n",
    "e_time = datetime.datetime.now()\n",
    "print(e_time-s_time)"
   ]
  },
  {
   "cell_type": "code",
   "execution_count": 65,
   "id": "c3ddd5f5-1372-465d-8ccf-3a977df89072",
   "metadata": {},
   "outputs": [
    {
     "name": "stdout",
     "output_type": "stream",
     "text": [
      "14 of the non red team usernames analysed were identified to have anomalies out of 20 non red team usernames analysed. The folloiwng usernames were found to have no anomalies\n",
      "--------------------------------------------------------------------------------------------\n",
      "User260905, User235682, User760004, Comp330279$, User740419, User912477\n"
     ]
    }
   ],
   "source": [
    "non_anom_n = []\n",
    "for i in range(len(anomaly_bool_N)):\n",
    "    if anomaly_bool_N[i][0] == 0:    \n",
    "        non_anom_n.append(anomaly_bool_N[i][1])\n",
    "        \n",
    "print('{} of the non red team usernames analysed were identified to have anomalies out of {} non red team usernames analysed. The folloiwng usernames were found to have no anomalies'.\n",
    "      format(len(np.where(np.array([i[0] for i in anomaly_bool_N]) > 0)[0]),len(anomaly_bool_N)))\n",
    "print('--------------------------------------------------------------------------------------------')        \n",
    "print(', '.join(map(str,non_anom_n)))"
   ]
  },
  {
   "cell_type": "code",
   "execution_count": 66,
   "id": "a1805581-d900-4b5a-9766-ce21b17ca047",
   "metadata": {},
   "outputs": [
    {
     "data": {
      "text/html": [
       "<div>\n",
       "<style scoped>\n",
       "    .dataframe tbody tr th:only-of-type {\n",
       "        vertical-align: middle;\n",
       "    }\n",
       "\n",
       "    .dataframe tbody tr th {\n",
       "        vertical-align: top;\n",
       "    }\n",
       "\n",
       "    .dataframe thead th {\n",
       "        text-align: right;\n",
       "    }\n",
       "</style>\n",
       "<table border=\"1\" class=\"dataframe\">\n",
       "  <thead>\n",
       "    <tr style=\"text-align: right;\">\n",
       "      <th></th>\n",
       "      <th>UserName</th>\n",
       "      <th>SrcDevice</th>\n",
       "      <th>DstDevice</th>\n",
       "      <th>Authent Type</th>\n",
       "      <th>Failure</th>\n",
       "      <th>DailyCount</th>\n",
       "    </tr>\n",
       "  </thead>\n",
       "  <tbody>\n",
       "    <tr>\n",
       "      <th>70579</th>\n",
       "      <td>Comp066842$</td>\n",
       "      <td>Comp066842</td>\n",
       "      <td>ActiveDirectory</td>\n",
       "      <td>NetworkLogon</td>\n",
       "      <td>0</td>\n",
       "      <td>412.0</td>\n",
       "    </tr>\n",
       "    <tr>\n",
       "      <th>72572</th>\n",
       "      <td>Comp066842$</td>\n",
       "      <td>Comp066842</td>\n",
       "      <td>Comp066842</td>\n",
       "      <td>TGS</td>\n",
       "      <td>0</td>\n",
       "      <td>21.0</td>\n",
       "    </tr>\n",
       "    <tr>\n",
       "      <th>75043</th>\n",
       "      <td>Comp066842$</td>\n",
       "      <td>Comp066842</td>\n",
       "      <td>ActiveDirectory</td>\n",
       "      <td>TGS</td>\n",
       "      <td>0</td>\n",
       "      <td>36.0</td>\n",
       "    </tr>\n",
       "    <tr>\n",
       "      <th>71098</th>\n",
       "      <td>Comp066842$</td>\n",
       "      <td>Comp066842</td>\n",
       "      <td>ActiveDirectory</td>\n",
       "      <td>NetworkLogon</td>\n",
       "      <td>0</td>\n",
       "      <td>302.0</td>\n",
       "    </tr>\n",
       "    <tr>\n",
       "      <th>73103</th>\n",
       "      <td>Comp066842$</td>\n",
       "      <td>Comp066842</td>\n",
       "      <td>Comp066842</td>\n",
       "      <td>TGS</td>\n",
       "      <td>0</td>\n",
       "      <td>14.0</td>\n",
       "    </tr>\n",
       "    <tr>\n",
       "      <th>75549</th>\n",
       "      <td>Comp066842$</td>\n",
       "      <td>Comp066842</td>\n",
       "      <td>ActiveDirectory</td>\n",
       "      <td>TGS</td>\n",
       "      <td>0</td>\n",
       "      <td>21.0</td>\n",
       "    </tr>\n",
       "    <tr>\n",
       "      <th>98548</th>\n",
       "      <td>User388965</td>\n",
       "      <td>Comp189708</td>\n",
       "      <td>None</td>\n",
       "      <td>WorkstationUnlock</td>\n",
       "      <td>1</td>\n",
       "      <td>1.0</td>\n",
       "    </tr>\n",
       "    <tr>\n",
       "      <th>64781</th>\n",
       "      <td>Comp155833$</td>\n",
       "      <td>Comp155833</td>\n",
       "      <td>ActiveDirectory</td>\n",
       "      <td>NetworkLogon</td>\n",
       "      <td>0</td>\n",
       "      <td>410.0</td>\n",
       "    </tr>\n",
       "    <tr>\n",
       "      <th>1158</th>\n",
       "      <td>Comp155833$</td>\n",
       "      <td>Comp155833</td>\n",
       "      <td>ActiveDirectory</td>\n",
       "      <td>TGS</td>\n",
       "      <td>0</td>\n",
       "      <td>25.0</td>\n",
       "    </tr>\n",
       "    <tr>\n",
       "      <th>71585</th>\n",
       "      <td>Comp863030$</td>\n",
       "      <td>Comp863030</td>\n",
       "      <td>Comp908480</td>\n",
       "      <td>TGS</td>\n",
       "      <td>0</td>\n",
       "      <td>2.0</td>\n",
       "    </tr>\n",
       "    <tr>\n",
       "      <th>15466</th>\n",
       "      <td>Comp322197$</td>\n",
       "      <td>Comp322197</td>\n",
       "      <td>Comp063824</td>\n",
       "      <td>NetworkLogon</td>\n",
       "      <td>0</td>\n",
       "      <td>22.0</td>\n",
       "    </tr>\n",
       "    <tr>\n",
       "      <th>17723</th>\n",
       "      <td>User312736</td>\n",
       "      <td>Comp107115</td>\n",
       "      <td>Comp805594</td>\n",
       "      <td>TGS</td>\n",
       "      <td>0</td>\n",
       "      <td>9.0</td>\n",
       "    </tr>\n",
       "    <tr>\n",
       "      <th>23576</th>\n",
       "      <td>User312736</td>\n",
       "      <td>Comp107115</td>\n",
       "      <td>EnterpriseAppServer</td>\n",
       "      <td>NetworkLogon</td>\n",
       "      <td>0</td>\n",
       "      <td>144.0</td>\n",
       "    </tr>\n",
       "    <tr>\n",
       "      <th>24171</th>\n",
       "      <td>User312736</td>\n",
       "      <td>Comp107115</td>\n",
       "      <td>None</td>\n",
       "      <td>WorkstationUnlock</td>\n",
       "      <td>1</td>\n",
       "      <td>1.0</td>\n",
       "    </tr>\n",
       "    <tr>\n",
       "      <th>109744</th>\n",
       "      <td>User561686</td>\n",
       "      <td>Comp185231</td>\n",
       "      <td>ActiveDirectory</td>\n",
       "      <td>NetworkLogon</td>\n",
       "      <td>0</td>\n",
       "      <td>38.0</td>\n",
       "    </tr>\n",
       "    <tr>\n",
       "      <th>111084</th>\n",
       "      <td>User561686</td>\n",
       "      <td>Comp185231</td>\n",
       "      <td>Comp156925</td>\n",
       "      <td>TGS</td>\n",
       "      <td>0</td>\n",
       "      <td>4.0</td>\n",
       "    </tr>\n",
       "    <tr>\n",
       "      <th>113664</th>\n",
       "      <td>User561686</td>\n",
       "      <td>Comp185231</td>\n",
       "      <td>Comp915658</td>\n",
       "      <td>NetworkLogon</td>\n",
       "      <td>0</td>\n",
       "      <td>1.0</td>\n",
       "    </tr>\n",
       "    <tr>\n",
       "      <th>116843</th>\n",
       "      <td>User561686</td>\n",
       "      <td>Comp943179</td>\n",
       "      <td>Comp943179</td>\n",
       "      <td>TGS</td>\n",
       "      <td>0</td>\n",
       "      <td>2.0</td>\n",
       "    </tr>\n",
       "    <tr>\n",
       "      <th>63878</th>\n",
       "      <td>User940649</td>\n",
       "      <td>Comp916004</td>\n",
       "      <td>ActiveDirectory</td>\n",
       "      <td>TGT</td>\n",
       "      <td>0</td>\n",
       "      <td>1.0</td>\n",
       "    </tr>\n",
       "    <tr>\n",
       "      <th>151321</th>\n",
       "      <td>Comp807454$</td>\n",
       "      <td>Comp807454</td>\n",
       "      <td>Comp661433</td>\n",
       "      <td>TGS</td>\n",
       "      <td>0</td>\n",
       "      <td>1.0</td>\n",
       "    </tr>\n",
       "    <tr>\n",
       "      <th>154785</th>\n",
       "      <td>Comp807454$</td>\n",
       "      <td>Comp807454</td>\n",
       "      <td>Comp807454</td>\n",
       "      <td>TGS</td>\n",
       "      <td>0</td>\n",
       "      <td>19.0</td>\n",
       "    </tr>\n",
       "    <tr>\n",
       "      <th>147687</th>\n",
       "      <td>Comp479333$</td>\n",
       "      <td>Comp479333</td>\n",
       "      <td>Comp479333</td>\n",
       "      <td>TGS</td>\n",
       "      <td>0</td>\n",
       "      <td>9.0</td>\n",
       "    </tr>\n",
       "    <tr>\n",
       "      <th>148623</th>\n",
       "      <td>Comp479333$</td>\n",
       "      <td>Comp479333</td>\n",
       "      <td>Comp704126</td>\n",
       "      <td>NetworkLogon</td>\n",
       "      <td>0</td>\n",
       "      <td>37.0</td>\n",
       "    </tr>\n",
       "    <tr>\n",
       "      <th>158204</th>\n",
       "      <td>Comp479333$</td>\n",
       "      <td>Comp479333</td>\n",
       "      <td>ActiveDirectory</td>\n",
       "      <td>NetworkLogon</td>\n",
       "      <td>0</td>\n",
       "      <td>146.0</td>\n",
       "    </tr>\n",
       "    <tr>\n",
       "      <th>180237</th>\n",
       "      <td>Comp596078$</td>\n",
       "      <td>Comp596078</td>\n",
       "      <td>ActiveDirectory</td>\n",
       "      <td>TGT</td>\n",
       "      <td>0</td>\n",
       "      <td>8.0</td>\n",
       "    </tr>\n",
       "    <tr>\n",
       "      <th>180482</th>\n",
       "      <td>Comp596078$</td>\n",
       "      <td>Comp596078</td>\n",
       "      <td>ActiveDirectory</td>\n",
       "      <td>TGS</td>\n",
       "      <td>0</td>\n",
       "      <td>27.0</td>\n",
       "    </tr>\n",
       "    <tr>\n",
       "      <th>184052</th>\n",
       "      <td>Comp596078$</td>\n",
       "      <td>Comp596078</td>\n",
       "      <td>ActiveDirectory</td>\n",
       "      <td>NetworkLogon</td>\n",
       "      <td>0</td>\n",
       "      <td>387.0</td>\n",
       "    </tr>\n",
       "    <tr>\n",
       "      <th>166337</th>\n",
       "      <td>User319164</td>\n",
       "      <td>Comp484824</td>\n",
       "      <td>Comp484824</td>\n",
       "      <td>NetworkLogon</td>\n",
       "      <td>0</td>\n",
       "      <td>1.0</td>\n",
       "    </tr>\n",
       "    <tr>\n",
       "      <th>52751</th>\n",
       "      <td>User319164</td>\n",
       "      <td>EnterpriseAppServer</td>\n",
       "      <td>ActiveDirectory</td>\n",
       "      <td>TGS</td>\n",
       "      <td>0</td>\n",
       "      <td>10.0</td>\n",
       "    </tr>\n",
       "    <tr>\n",
       "      <th>179898</th>\n",
       "      <td>User319164</td>\n",
       "      <td>Comp770219</td>\n",
       "      <td>None</td>\n",
       "      <td>WorkstationUnlock</td>\n",
       "      <td>0</td>\n",
       "      <td>3.0</td>\n",
       "    </tr>\n",
       "    <tr>\n",
       "      <th>99636</th>\n",
       "      <td>Comp865563$</td>\n",
       "      <td>Comp865563</td>\n",
       "      <td>ActiveDirectory</td>\n",
       "      <td>TGT</td>\n",
       "      <td>0</td>\n",
       "      <td>5.0</td>\n",
       "    </tr>\n",
       "    <tr>\n",
       "      <th>91426</th>\n",
       "      <td>Comp865563$</td>\n",
       "      <td>Comp865563</td>\n",
       "      <td>ActiveDirectory</td>\n",
       "      <td>TGT</td>\n",
       "      <td>0</td>\n",
       "      <td>2.0</td>\n",
       "    </tr>\n",
       "    <tr>\n",
       "      <th>95728</th>\n",
       "      <td>Comp865563$</td>\n",
       "      <td>Comp865563</td>\n",
       "      <td>Comp939275</td>\n",
       "      <td>TGS</td>\n",
       "      <td>0</td>\n",
       "      <td>1.0</td>\n",
       "    </tr>\n",
       "    <tr>\n",
       "      <th>58215</th>\n",
       "      <td>User245837</td>\n",
       "      <td>Comp787790</td>\n",
       "      <td>None</td>\n",
       "      <td>WorkstationUnlock</td>\n",
       "      <td>1</td>\n",
       "      <td>1.0</td>\n",
       "    </tr>\n",
       "    <tr>\n",
       "      <th>71132</th>\n",
       "      <td>User245837</td>\n",
       "      <td>Comp787790</td>\n",
       "      <td>None</td>\n",
       "      <td>WorkstationUnlock</td>\n",
       "      <td>1</td>\n",
       "      <td>1.0</td>\n",
       "    </tr>\n",
       "    <tr>\n",
       "      <th>210275</th>\n",
       "      <td>User245837</td>\n",
       "      <td>Comp787790</td>\n",
       "      <td>Comp546675</td>\n",
       "      <td>NetworkLogon</td>\n",
       "      <td>0</td>\n",
       "      <td>2.0</td>\n",
       "    </tr>\n",
       "    <tr>\n",
       "      <th>212553</th>\n",
       "      <td>User245837</td>\n",
       "      <td>Comp787790</td>\n",
       "      <td>Comp787790</td>\n",
       "      <td>TGS</td>\n",
       "      <td>0</td>\n",
       "      <td>11.0</td>\n",
       "    </tr>\n",
       "  </tbody>\n",
       "</table>\n",
       "</div>"
      ],
      "text/plain": [
       "           UserName            SrcDevice            DstDevice  \\\n",
       "70579   Comp066842$           Comp066842      ActiveDirectory   \n",
       "72572   Comp066842$           Comp066842           Comp066842   \n",
       "75043   Comp066842$           Comp066842      ActiveDirectory   \n",
       "71098   Comp066842$           Comp066842      ActiveDirectory   \n",
       "73103   Comp066842$           Comp066842           Comp066842   \n",
       "75549   Comp066842$           Comp066842      ActiveDirectory   \n",
       "98548    User388965           Comp189708                 None   \n",
       "64781   Comp155833$           Comp155833      ActiveDirectory   \n",
       "1158    Comp155833$           Comp155833      ActiveDirectory   \n",
       "71585   Comp863030$           Comp863030           Comp908480   \n",
       "15466   Comp322197$           Comp322197           Comp063824   \n",
       "17723    User312736           Comp107115           Comp805594   \n",
       "23576    User312736           Comp107115  EnterpriseAppServer   \n",
       "24171    User312736           Comp107115                 None   \n",
       "109744   User561686           Comp185231      ActiveDirectory   \n",
       "111084   User561686           Comp185231           Comp156925   \n",
       "113664   User561686           Comp185231           Comp915658   \n",
       "116843   User561686           Comp943179           Comp943179   \n",
       "63878    User940649           Comp916004      ActiveDirectory   \n",
       "151321  Comp807454$           Comp807454           Comp661433   \n",
       "154785  Comp807454$           Comp807454           Comp807454   \n",
       "147687  Comp479333$           Comp479333           Comp479333   \n",
       "148623  Comp479333$           Comp479333           Comp704126   \n",
       "158204  Comp479333$           Comp479333      ActiveDirectory   \n",
       "180237  Comp596078$           Comp596078      ActiveDirectory   \n",
       "180482  Comp596078$           Comp596078      ActiveDirectory   \n",
       "184052  Comp596078$           Comp596078      ActiveDirectory   \n",
       "166337   User319164           Comp484824           Comp484824   \n",
       "52751    User319164  EnterpriseAppServer      ActiveDirectory   \n",
       "179898   User319164           Comp770219                 None   \n",
       "99636   Comp865563$           Comp865563      ActiveDirectory   \n",
       "91426   Comp865563$           Comp865563      ActiveDirectory   \n",
       "95728   Comp865563$           Comp865563           Comp939275   \n",
       "58215    User245837           Comp787790                 None   \n",
       "71132    User245837           Comp787790                 None   \n",
       "210275   User245837           Comp787790           Comp546675   \n",
       "212553   User245837           Comp787790           Comp787790   \n",
       "\n",
       "             Authent Type  Failure  DailyCount  \n",
       "70579        NetworkLogon        0       412.0  \n",
       "72572                 TGS        0        21.0  \n",
       "75043                 TGS        0        36.0  \n",
       "71098        NetworkLogon        0       302.0  \n",
       "73103                 TGS        0        14.0  \n",
       "75549                 TGS        0        21.0  \n",
       "98548   WorkstationUnlock        1         1.0  \n",
       "64781        NetworkLogon        0       410.0  \n",
       "1158                  TGS        0        25.0  \n",
       "71585                 TGS        0         2.0  \n",
       "15466        NetworkLogon        0        22.0  \n",
       "17723                 TGS        0         9.0  \n",
       "23576        NetworkLogon        0       144.0  \n",
       "24171   WorkstationUnlock        1         1.0  \n",
       "109744       NetworkLogon        0        38.0  \n",
       "111084                TGS        0         4.0  \n",
       "113664       NetworkLogon        0         1.0  \n",
       "116843                TGS        0         2.0  \n",
       "63878                 TGT        0         1.0  \n",
       "151321                TGS        0         1.0  \n",
       "154785                TGS        0        19.0  \n",
       "147687                TGS        0         9.0  \n",
       "148623       NetworkLogon        0        37.0  \n",
       "158204       NetworkLogon        0       146.0  \n",
       "180237                TGT        0         8.0  \n",
       "180482                TGS        0        27.0  \n",
       "184052       NetworkLogon        0       387.0  \n",
       "166337       NetworkLogon        0         1.0  \n",
       "52751                 TGS        0        10.0  \n",
       "179898  WorkstationUnlock        0         3.0  \n",
       "99636                 TGT        0         5.0  \n",
       "91426                 TGT        0         2.0  \n",
       "95728                 TGS        0         1.0  \n",
       "58215   WorkstationUnlock        1         1.0  \n",
       "71132   WorkstationUnlock        1         1.0  \n",
       "210275       NetworkLogon        0         2.0  \n",
       "212553                TGS        0        11.0  "
      ]
     },
     "execution_count": 66,
     "metadata": {},
     "output_type": "execute_result"
    }
   ],
   "source": [
    "anomalies_ae_n"
   ]
  },
  {
   "cell_type": "code",
   "execution_count": 67,
   "id": "43ea2131-5971-40ce-9dd0-efed635d6122",
   "metadata": {},
   "outputs": [
    {
     "name": "stdout",
     "output_type": "stream",
     "text": [
      "0.27% of the \"normal\" data was identified as anomalous.\n"
     ]
    }
   ],
   "source": [
    "perc = 100*len(anomalies_ae_n)/len(authentication_data[authentication_data['UserName'].isin(rand_non_rt)])\n",
    "print('{:.2f}% of the \"normal\" data was identified as anomalous.'.format(perc))"
   ]
  },
  {
   "cell_type": "code",
   "execution_count": 68,
   "id": "33aeb233-9800-4d5f-8670-8c2a2fbcc4ac",
   "metadata": {},
   "outputs": [
    {
     "name": "stdout",
     "output_type": "stream",
     "text": [
      "0.12% of the red team data was identified as anomalous.\n"
     ]
    }
   ],
   "source": [
    "perc = 100*len(anomalies_ae)/len(authentication_data[authentication_data['UserName'].isin(rt_usernames)])\n",
    "print('{:.2f}% of the red team data was identified as anomalous.'.format(perc))"
   ]
  },
  {
   "cell_type": "markdown",
   "id": "451f59bb-44e9-4075-a45e-4f510ec32dba",
   "metadata": {},
   "source": [
    "Analysing validation losses across both red team and non-red team usernames."
   ]
  },
  {
   "cell_type": "code",
   "execution_count": 69,
   "id": "4d15fa17-2f2d-466a-856f-9b7b6be3c52c",
   "metadata": {},
   "outputs": [
    {
     "name": "stderr",
     "output_type": "stream",
     "text": [
      "C:\\Users\\corri\\anaconda3\\lib\\site-packages\\seaborn\\_decorators.py:36: FutureWarning: Pass the following variable as a keyword arg: x. From version 0.12, the only valid positional argument will be `data`, and passing other arguments without an explicit keyword will result in an error or misinterpretation.\n",
      "  warnings.warn(\n"
     ]
    },
    {
     "data": {
      "image/png": "[encoded data removed]",
      "text/plain": [
       "<Figure size 432x288 with 1 Axes>"
      ]
     },
     "metadata": {
      "needs_background": "light"
     },
     "output_type": "display_data"
    }
   ],
   "source": [
    "final_loss = []\n",
    "for i in range(len(val_loss)):\n",
    "    final_loss.append(val_loss[i][0][len(val_loss[i][0])-1])\n",
    "    \n",
    "plt.figure()\n",
    "sns.boxplot(final_loss)\n",
    "plt.show()"
   ]
  },
  {
   "cell_type": "code",
   "execution_count": 70,
   "id": "cdd220a9-d00b-40fa-9349-b64b96bfd9d7",
   "metadata": {},
   "outputs": [
    {
     "name": "stderr",
     "output_type": "stream",
     "text": [
      "C:\\Users\\corri\\anaconda3\\lib\\site-packages\\seaborn\\_decorators.py:36: FutureWarning: Pass the following variable as a keyword arg: x. From version 0.12, the only valid positional argument will be `data`, and passing other arguments without an explicit keyword will result in an error or misinterpretation.\n",
      "  warnings.warn(\n"
     ]
    },
    {
     "data": {
      "image/png": "[encoded data removed]",
      "text/plain": [
       "<Figure size 432x288 with 1 Axes>"
      ]
     },
     "metadata": {
      "needs_background": "light"
     },
     "output_type": "display_data"
    }
   ],
   "source": [
    "final_loss_n = []\n",
    "for i in range(len(val_loss_n)):\n",
    "    final_loss_n.append(val_loss_n[i][len(val_loss_n[i])-1])\n",
    "    \n",
    "plt.figure()\n",
    "sns.boxplot(final_loss_n)\n",
    "plt.show()"
   ]
  },
  {
   "cell_type": "markdown",
   "id": "8f5d5c06-d9ed-4b23-9212-399c72d514e5",
   "metadata": {},
   "source": [
    "#### AE2"
   ]
  },
  {
   "cell_type": "markdown",
   "id": "85c185f3-665d-4c4e-bbcf-94d5d791ceb8",
   "metadata": {},
   "source": [
    "We add more features - giving both timing and day entries to the auto encoder to determine if this has an impact on the anomalies detected. We also change our scaling to MinMaxScaling."
   ]
  },
  {
   "cell_type": "code",
   "execution_count": 71,
   "id": "bf7d22c7-baf3-4ee4-9691-1348746b9eca",
   "metadata": {},
   "outputs": [],
   "source": [
    "def feature_generation_2(user,n):\n",
    "    \n",
    "    feat_dict = {}\n",
    "    # for reference (not used)\n",
    "    day_dict = {0:'Monday',1:'Tuesday',2:'Wednesday',3:'Thursday',4:'Friday',5:'Saturday',6:'Sunday'}\n",
    "    \n",
    "    for i in range(len(auth_start_days)-1):\n",
    "        # gives access to a day for the NN - assume start on a monday based on EDA\n",
    "        day = i%7\n",
    "        chunks = split_dataframe(authentication_data[auth_start_days[i]:auth_start_days[i+1]],n)\n",
    "        for j in range(n):\n",
    "                hour = j\n",
    "                data = chunks[j]\n",
    "                authents = len(data[data['UserName'] == user])\n",
    "                failures = len(data[(data['UserName'] == user) & (data['Failure'] == 1)])\n",
    "                srcunique = len(data[data['UserName'] == user]['SrcDevice'].unique())\n",
    "                dstunique = len(data[data['UserName'] == user]['DstDevice'].unique())\n",
    "                uniquepairs = len(data.groupby(['SrcDevice','DstDevice']).size())\n",
    "                #feat_dict[i*n + j] = [srcunique,dstunique,authents,failures]\n",
    "                feat_dict[i*n + j] = [hour,srcunique,dstunique,uniquepairs,authents,failures]\n",
    "                \n",
    "    #df = pd.DataFrame(data=feat_dict,index =  ['SrcUnique','DstUnique','Authentications','Failures'])\n",
    "    df = pd.DataFrame(data=feat_dict,index =  ['Hour','SrcUnique','DstUnique','UniquePairs','Authentications','Failures'])\n",
    "    df = df.transpose()\n",
    "    df = df.fillna(0)\n",
    "    \n",
    "    return df"
   ]
  },
  {
   "cell_type": "code",
   "execution_count": 72,
   "id": "3a82ef30-ac14-451c-a908-422eecc7f55d",
   "metadata": {},
   "outputs": [],
   "source": [
    "def ae_anomaly_finder_2(user,n,BATCH_SIZE=64, EPOCHS=1000):\n",
    "    \n",
    "    # get the data frame of features\n",
    "    df = feature_generation_2(user,n)\n",
    "    x_train_ae = np.concatenate([np.array(df[0:57*n]),np.array(df[82*n:])])\n",
    "    x_test_ae = np.array(df[57*n:82*n])\n",
    "    \n",
    "    # create our scaling pipeline\n",
    "    pipeline = Pipeline([('normalizer', Normalizer()),\n",
    "                    ('scaler', MinMaxScaler())])\n",
    "    pipeline.fit(x_train_ae)\n",
    "    x_train_ae = pipeline.transform(x_train_ae)\n",
    "    x_test_ae = pipeline.transform(x_test_ae)\n",
    "    \n",
    "    # define neural network parameters\n",
    "    input_dim = x_train_ae.shape[1]\n",
    "    BATCH_SIZE = BATCH_SIZE\n",
    "    EPOCHS = EPOCHS\n",
    "\n",
    "    # define the autoencoder\n",
    "    autoencoder =Sequential([\n",
    "\n",
    "        # deconstruct / encode\n",
    "        tf.keras.layers.Dense(input_dim, activation='elu', input_shape=(input_dim, )),\n",
    "        tf.keras.layers.Dropout(rate=0.1),\n",
    "        tf.keras.layers.Dense(16, activation='elu'),\n",
    "        tf.keras.layers.Dropout(rate=0.1),\n",
    "        tf.keras.layers.Dense(8, activation='elu'),\n",
    "        tf.keras.layers.Dropout(rate=0.1),\n",
    "        tf.keras.layers.Dense(4, activation='elu'),\n",
    "        tf.keras.layers.Dropout(rate=0.1),\n",
    "        tf.keras.layers.Dense(2, activation='elu'),\n",
    "        tf.keras.layers.Dropout(rate=0.1),\n",
    "\n",
    "        # reconstruction / decode\n",
    "        tf.keras.layers.Dense(2, activation='elu'),\n",
    "        tf.keras.layers.Dropout(rate=0.1),\n",
    "        tf.keras.layers.Dense(4, activation='elu'),\n",
    "        tf.keras.layers.Dropout(rate=0.1),\n",
    "        tf.keras.layers.Dense(8, activation='elu'),\n",
    "        tf.keras.layers.Dropout(rate=0.1),\n",
    "        tf.keras.layers.Dense(16, activation='elu'),\n",
    "        tf.keras.layers.Dropout(rate=0.1),\n",
    "        tf.keras.layers.Dense(input_dim, activation='elu')\n",
    "\n",
    "    ])\n",
    "\n",
    "    # compile the autoencoder\n",
    "    autoencoder.compile(optimizer=\"adam\", \n",
    "                        loss=\"mse\",\n",
    "                        metrics=[\"acc\"])\n",
    "    \n",
    "    early_stop = tf.keras.callbacks.EarlyStopping(\n",
    "    monitor='val_loss',\n",
    "    min_delta=0.0001,\n",
    "    patience=10,\n",
    "    verbose=1, \n",
    "    mode='min',\n",
    "    restore_best_weights=True\n",
    "    )\n",
    "    \n",
    "    # allows for early stopping and better visualisation of progress\n",
    "    cb = [early_stop,TqdmCallback(verbose=1)]\n",
    "    \n",
    "    # fit the auto encoder\n",
    "    history = autoencoder.fit(\n",
    "        x_train_ae, x_train_ae,\n",
    "        shuffle=True,\n",
    "        epochs=EPOCHS,\n",
    "        batch_size=BATCH_SIZE,\n",
    "        validation_split=0.1,\n",
    "        verbose=0,\n",
    "        callbacks=cb   \n",
    "    )\n",
    "    \n",
    "    # make predictions on the remaining data\n",
    "    x_test_pred = autoencoder.predict(x_test_ae)\n",
    "    test_mae_loss = np.mean(np.abs(x_test_pred - x_test_ae), axis=1)\n",
    "    \n",
    "    # min max scaler to transform to 0-1 so that we have 'p-values'\n",
    "    mmscaler = MinMaxScaler()\n",
    "    test_mae_loss = mmscaler.fit_transform(test_mae_loss.reshape(-1,1))\n",
    "    \n",
    "    anomalies = np.where(test_mae_loss > 0.95)\n",
    "    anomaly_idx = anomalies[0]\n",
    "    \n",
    "    frame = []\n",
    "    for i in range(len(anomaly_idx)):\n",
    "        anomaly = ae_orig_finder(user,n,anomaly_idx[i])\n",
    "        \n",
    "        # indicates that an anomaly was found where we have no information i.e. the lack of an event was anomalous\n",
    "        if len(anomaly) == 0:\n",
    "            pass\n",
    "        else:\n",
    "            frame.append(anomaly)\n",
    "        \n",
    "    if len(frame) != 0:\n",
    "        anomaly_df = pd.concat(frame)\n",
    "        return anomaly_df,1,history.history[\"val_loss\"]\n",
    "    else:\n",
    "        print('No anomalies found.')\n",
    "        return pd.DataFrame(test_mae_loss).describe(),0,history.history[\"val_loss\"]"
   ]
  },
  {
   "cell_type": "code",
   "execution_count": 73,
   "id": "23719dcb-aeb2-4a3c-bc1d-c218e7fbabc5",
   "metadata": {},
   "outputs": [
    {
     "name": "stdout",
     "output_type": "stream",
     "text": [
      "Data available.\n"
     ]
    }
   ],
   "source": [
    "try:\n",
    "    print('Reading Data.')\n",
    "    anomalies_ae_2 = pickle.load(open('Anomalies AE Time.p','rb'))\n",
    "    val_loss_2 = pickle.load(open('Validation Loss Time.p','rb'))\n",
    "    anomaly_bool_2 = []\n",
    "    \n",
    "    for un in rt_usernames:\n",
    "        try:\n",
    "            anomaly_bool_2.append((len(anomalies_ae_2[anomalies_ae_2['UserName'] == un]),un))\n",
    "        except KeyError:\n",
    "            anomaly_bool_2.append((0,un))\n",
    "    clear_output()\n",
    "    print('Data available.')\n",
    "except:\n",
    "    clear_output()\n",
    "    print('Running AutoEncoder')\n",
    "    frames_2 = []\n",
    "    anomaly_bool_2 = []\n",
    "    val_loss_2 = []\n",
    "\n",
    "    s_time = datetime.datetime.now()\n",
    "\n",
    "    for i in range(len(rt_usernames)):\n",
    "        clear_output(wait=True)\n",
    "        print('Working with username {} of {}. {:.2f} percentage complete.'.format(i+1,len(rt_usernames),100*((i+1)/len(rt_usernames))))\n",
    "        f,b,val = ae_anomaly_finder_2(rt_usernames[i],24)\n",
    "        if b == 1:\n",
    "            frames_2.append(f)\n",
    "            anomaly_bool_2.append((len(f),rt_usernames[i]))\n",
    "            val_loss_2.append((val,rt_usernames[i]))\n",
    "        else:\n",
    "            anomaly_bool_2.append((0,rt_usernames[i]))\n",
    "            val_loss_2.append((val,rt_usernames[i]))\n",
    "            pass\n",
    "    anomalies_ae_2 = pd.concat(frames_2)\n",
    "    \n",
    "    pickle.dump(anomalies_ae_2, open('Anomalies AE Time.p','wb'))\n",
    "    pickle.dump(val_loss_2, open('Validation Loss Time.p','wb'))\n",
    "    \n",
    "    e_time = datetime.datetime.now()\n",
    "    print(e_time-s_time)"
   ]
  },
  {
   "cell_type": "code",
   "execution_count": 74,
   "id": "124a935f-075f-4d0b-9506-e1dbd923be89",
   "metadata": {},
   "outputs": [
    {
     "name": "stdout",
     "output_type": "stream",
     "text": [
      "46 of the red team usernames were identified to have anomalies out of 99 red team usernames. The folloiwng usernames were found to have no anomalies\n",
      "--------------------------------------------------------------------------------------------\n",
      "User024511, User203147, User409683, User876240, User317732, User179746, User370789, User318050, User690241, User831727, User569202, User445325, User133028, User546407, User054634, User917056, User341813, User902575, User680875, User490979, User865513, User702833, User604330, User089536, User111804, User859748, User630088, User887454, User913978, User457932, User758916, User637808, User415148, winservice, User087542, User871458, User829941, User717387, User417775, User405399, Comp289117$, User751631, User140362, User900703, User654587, User256610, User160566, User497510, User621241, User257227, User222822, User525118, User091297\n"
     ]
    }
   ],
   "source": [
    "non_anom_2 = []\n",
    "for i in range(len(anomaly_bool_2)):\n",
    "    if anomaly_bool_2[i][0] == 0:    \n",
    "        non_anom_2.append(anomaly_bool_2[i][1])\n",
    "        \n",
    "print('{} of the red team usernames were identified to have anomalies out of {} red team usernames. The folloiwng usernames were found to have no anomalies'.\n",
    "      format(len(np.where(np.array([i[0] for i in anomaly_bool_2]) > 0)[0]),len(anomaly_bool_2)))\n",
    "print('--------------------------------------------------------------------------------------------')        \n",
    "print(', '.join(map(str,non_anom_2)))\n"
   ]
  },
  {
   "cell_type": "code",
   "execution_count": 75,
   "id": "493806bd-38ce-4cb6-9bf1-c75c728069ce",
   "metadata": {},
   "outputs": [
    {
     "name": "stdout",
     "output_type": "stream",
     "text": [
      "0.06% of the red team data was identified as anomalous.\n"
     ]
    }
   ],
   "source": [
    "perc_2 = 100*len(anomalies_ae_2)/len(authentication_data[authentication_data['UserName'].isin(rt_usernames)])\n",
    "print('{:.2f}% of the red team data was identified as anomalous.'.format(perc_2))"
   ]
  },
  {
   "cell_type": "code",
   "execution_count": 76,
   "id": "f37e8776-8df2-48c6-bfd2-f6bea176ed91",
   "metadata": {},
   "outputs": [
    {
     "data": {
      "image/png": "[encoded data removed]",
      "text/plain": [
       "<Figure size 432x288 with 1 Axes>"
      ]
     },
     "metadata": {
      "needs_background": "light"
     },
     "output_type": "display_data"
    }
   ],
   "source": [
    "final_loss_2 = []\n",
    "for i in range(len(val_loss_2)):\n",
    "    final_loss_2.append(val_loss_2[i][0][len(val_loss_2[i][0])-1]) \n",
    "    \n",
    "plt.figure()\n",
    "sns.boxplot(data = final_loss_2)\n",
    "plt.show()"
   ]
  },
  {
   "cell_type": "markdown",
   "id": "2f61a928-e609-4f8b-a55c-512a256e2a4a",
   "metadata": {},
   "source": [
    "So this reduced the number of usernames identified as anamolous but did also reduce the error - I think this is likely due to the min max scaling so I'll implement this without the additional features and see what impact it has."
   ]
  },
  {
   "cell_type": "markdown",
   "id": "0d57846e-c3ae-4655-8099-64e950bf1a66",
   "metadata": {},
   "source": [
    "#### AE3"
   ]
  },
  {
   "cell_type": "markdown",
   "id": "9c173102-497c-41f7-aef5-466aed8b20e7",
   "metadata": {},
   "source": [
    "This autoencoder runs under the MinMaxScaling to determine the impact of this."
   ]
  },
  {
   "cell_type": "code",
   "execution_count": 77,
   "id": "cdc48033-3437-4bf1-96a7-1bbbd6b3cf07",
   "metadata": {},
   "outputs": [],
   "source": [
    "def ae_anomaly_finder_3(user,n,BATCH_SIZE=64, EPOCHS=1000):\n",
    "    \n",
    "    # get the data frame of features\n",
    "    df = feature_generation(user,n)\n",
    "    x_train_ae = np.concatenate([np.array(df[0:57*n]),np.array(df[82*n:])])\n",
    "    x_test_ae = np.array(df[57*n:82*n])\n",
    "    \n",
    "    # create our scaling pipeline\n",
    "    pipeline = Pipeline([('normalizer', Normalizer()),\n",
    "                    ('scaler', MinMaxScaler())])\n",
    "    pipeline.fit(x_train_ae)\n",
    "    x_train_ae = pipeline.transform(x_train_ae)\n",
    "    x_test_ae = pipeline.transform(x_test_ae)\n",
    "    \n",
    "    # define neural network parameters\n",
    "    input_dim = x_train_ae.shape[1]\n",
    "    BATCH_SIZE = BATCH_SIZE\n",
    "    EPOCHS = EPOCHS\n",
    "\n",
    "    # define the autoencoder\n",
    "    autoencoder =Sequential([\n",
    "\n",
    "        # deconstruct / encode\n",
    "        tf.keras.layers.Dense(input_dim, activation='elu', input_shape=(input_dim, )),\n",
    "        tf.keras.layers.Dropout(rate=0.1),\n",
    "        tf.keras.layers.Dense(16, activation='elu'),\n",
    "        tf.keras.layers.Dropout(rate=0.1),\n",
    "        tf.keras.layers.Dense(8, activation='elu'),\n",
    "        tf.keras.layers.Dropout(rate=0.1),\n",
    "        tf.keras.layers.Dense(4, activation='elu'),\n",
    "        tf.keras.layers.Dropout(rate=0.1),\n",
    "        tf.keras.layers.Dense(2, activation='elu'),\n",
    "        tf.keras.layers.Dropout(rate=0.1),\n",
    "\n",
    "        # reconstruction / decode\n",
    "        tf.keras.layers.Dense(2, activation='elu'),\n",
    "        tf.keras.layers.Dropout(rate=0.1),\n",
    "        tf.keras.layers.Dense(4, activation='elu'),\n",
    "        tf.keras.layers.Dropout(rate=0.1),\n",
    "        tf.keras.layers.Dense(8, activation='elu'),\n",
    "        tf.keras.layers.Dropout(rate=0.1),\n",
    "        tf.keras.layers.Dense(16, activation='elu'),\n",
    "        tf.keras.layers.Dropout(rate=0.1),\n",
    "        tf.keras.layers.Dense(input_dim, activation='elu')\n",
    "\n",
    "    ])\n",
    "\n",
    "    # compile the autoencoder\n",
    "    autoencoder.compile(optimizer=\"adam\", \n",
    "                        loss=\"mse\",\n",
    "                        metrics=[\"acc\"])\n",
    "    \n",
    "    early_stop = tf.keras.callbacks.EarlyStopping(\n",
    "    monitor='val_loss',\n",
    "    min_delta=0.0001,\n",
    "    patience=10,\n",
    "    verbose=1, \n",
    "    mode='min',\n",
    "    restore_best_weights=True\n",
    "    )\n",
    "    \n",
    "    # allows for early stopping and better visualisation of progress\n",
    "    cb = [early_stop,TqdmCallback(verbose=1)]\n",
    "    \n",
    "    # fit the auto encoder\n",
    "    history = autoencoder.fit(\n",
    "        x_train_ae, x_train_ae,\n",
    "        shuffle=True,\n",
    "        epochs=EPOCHS,\n",
    "        batch_size=BATCH_SIZE,\n",
    "        validation_split=0.1,\n",
    "        verbose=0,\n",
    "        callbacks=cb   \n",
    "    )\n",
    "    \n",
    "    # make predictions on the remaining data\n",
    "    x_test_pred = autoencoder.predict(x_test_ae)\n",
    "    test_mae_loss = np.mean(np.abs(x_test_pred - x_test_ae), axis=1)\n",
    "    \n",
    "    # min max scaler to transform to 0-1 so that we have 'p-values'\n",
    "    mmscaler = MinMaxScaler()\n",
    "    test_mae_loss = mmscaler.fit_transform(test_mae_loss.reshape(-1,1))\n",
    "    \n",
    "    anomalies = np.where(test_mae_loss > 0.95)\n",
    "    anomaly_idx = anomalies[0]\n",
    "    \n",
    "    frame = []\n",
    "    for i in range(len(anomaly_idx)):\n",
    "        anomaly = ae_orig_finder(user,n,anomaly_idx[i])\n",
    "        \n",
    "        # indicates that an anomaly was found where we have no information i.e. the lack of an event was anomalous\n",
    "        if len(anomaly) == 0:\n",
    "            pass\n",
    "        else:\n",
    "            frame.append(anomaly)\n",
    "        \n",
    "    if len(frame) != 0:\n",
    "        anomaly_df = pd.concat(frame)\n",
    "        return anomaly_df,1,history.history[\"val_loss\"]\n",
    "    else:\n",
    "        print('No anomalies found.')\n",
    "        return pd.DataFrame(test_mae_loss).describe(),0,history.history[\"val_loss\"]"
   ]
  },
  {
   "cell_type": "code",
   "execution_count": 78,
   "id": "34ff8d51-763d-4ec9-ab9d-8bc4167d0487",
   "metadata": {},
   "outputs": [
    {
     "name": "stdout",
     "output_type": "stream",
     "text": [
      "Data available.\n"
     ]
    }
   ],
   "source": [
    "try:\n",
    "    print('Reading Data.')\n",
    "    anomalies_ae_3 = pickle.load(open('Anomalies AE MMS.p','rb'))\n",
    "    val_loss_3 = pickle.load(open('Validation Loss MMS.p','rb'))\n",
    "    anomaly_bool_3 = []\n",
    "    \n",
    "    for un in rt_usernames:\n",
    "        try:\n",
    "            anomaly_bool_3.append((len(anomalies_ae_3[anomalies_ae_3['UserName'] == un]),un))\n",
    "        except KeyError:\n",
    "            anomaly_bool_3.append((0,un))\n",
    "    clear_output()\n",
    "    print('Data available.')\n",
    "except:\n",
    "    clear_output()\n",
    "    print('Running AutoEncoder')\n",
    "    frames_3 = []\n",
    "    anomaly_bool_3 = []\n",
    "    val_loss_3 = []\n",
    "\n",
    "    s_time = datetime.datetime.now()\n",
    "\n",
    "    for i in range(len(rt_usernames)):\n",
    "        clear_output(wait=True)\n",
    "        print('Working with username {} of {}. {:.2f} percentage complete.'.format(i+1,len(rt_usernames),100*((i+1)/len(rt_usernames))))\n",
    "        f,b,val = ae_anomaly_finder_3(rt_usernames[i],24)\n",
    "        if b == 1:\n",
    "            frames_3.append(f)\n",
    "            anomaly_bool_3.append((len(f),rt_usernames[i]))\n",
    "            val_loss_3.append((val,rt_usernames[i]))\n",
    "        else:\n",
    "            anomaly_bool_3.append((0,rt_usernames[i]))\n",
    "            val_loss_3.append((val,rt_usernames[i]))\n",
    "            pass\n",
    "    anomalies_ae_3 = pd.concat(frames_3)\n",
    "    \n",
    "    pickle.dump(anomalies_ae_3, open('Anomalies AE MMS.p','wb'))\n",
    "    pickle.dump(val_loss_3, open('Validation Loss MMS.p','wb'))\n",
    "    \n",
    "    e_time = datetime.datetime.now()\n",
    "    print(e_time-s_time)"
   ]
  },
  {
   "cell_type": "code",
   "execution_count": 79,
   "id": "6f67cde3-cfd6-421b-928d-1e3e1fc8d251",
   "metadata": {},
   "outputs": [
    {
     "name": "stdout",
     "output_type": "stream",
     "text": [
      "54 of the red team usernames were identified to have anomalies out of 99 red team usernames. The folloiwng usernames were found to have no anomalies\n",
      "--------------------------------------------------------------------------------------------\n",
      "User203147, User365588, User409683, User876240, User179746, User370789, User831727, User133028, User882755, User576476, User546407, User917056, User902575, User970135, User680875, User110290, User490979, User325977, User860122, User110290, User702833, User089536, User859748, User630088, User787491, User913978, User766454, User457932, User447167, User758916, User637808, User415148, winservice, User829941, User717387, User405399, Comp289117$, User735240, User900703, User925048, User160566, User497510, User222822, User525118, User091297\n"
     ]
    }
   ],
   "source": [
    "non_anom_3 = []\n",
    "for i in range(len(anomaly_bool_3)):\n",
    "    if anomaly_bool_3[i][0] == 0:    \n",
    "        non_anom_3.append(anomaly_bool_3[i][1])\n",
    "        \n",
    "print('{} of the red team usernames were identified to have anomalies out of {} red team usernames. The folloiwng usernames were found to have no anomalies'.\n",
    "      format(len(np.where(np.array([i[0] for i in anomaly_bool_3]) > 0)[0]),len(anomaly_bool_3)))\n",
    "print('--------------------------------------------------------------------------------------------')        \n",
    "print(', '.join(map(str,non_anom_3)))\n"
   ]
  },
  {
   "cell_type": "code",
   "execution_count": 80,
   "id": "962591c7-c80d-46ae-ae45-1cb9ed0361c4",
   "metadata": {},
   "outputs": [
    {
     "name": "stdout",
     "output_type": "stream",
     "text": [
      "0.11% of the red team data was identified as anomalous.\n"
     ]
    }
   ],
   "source": [
    "perc_3 = 100*len(anomalies_ae_3)/len(authentication_data[authentication_data['UserName'].isin(rt_usernames)])\n",
    "print('{:.2f}% of the red team data was identified as anomalous.'.format(perc_3))"
   ]
  },
  {
   "cell_type": "code",
   "execution_count": 81,
   "id": "c58b63fb-3752-4fff-a219-f20ec4049ba8",
   "metadata": {},
   "outputs": [
    {
     "data": {
      "image/png": "[encoded data removed]",
      "text/plain": [
       "<Figure size 432x288 with 1 Axes>"
      ]
     },
     "metadata": {
      "needs_background": "light"
     },
     "output_type": "display_data"
    }
   ],
   "source": [
    "final_loss_3 = []\n",
    "for i in range(len(val_loss_3)):\n",
    "    final_loss_3.append(val_loss_3[i][0][len(val_loss_3[i][0])-1]) \n",
    "    \n",
    "plt.figure()\n",
    "sns.boxplot(data = final_loss_3)\n",
    "plt.show()"
   ]
  },
  {
   "cell_type": "markdown",
   "id": "16c7e3bb-7e93-4da6-97a3-ae71f1e2bfc5",
   "metadata": {},
   "source": [
    " A similar amount of data is identified as anomalous and the validation error is much lower while still avoiding overfitting so we'll stick with this for now."
   ]
  },
  {
   "cell_type": "markdown",
   "id": "63d49576-6a2c-4f3c-961f-683509757679",
   "metadata": {},
   "source": [
    "#### Analysis of 3rd DataFrame"
   ]
  },
  {
   "cell_type": "code",
   "execution_count": 82,
   "id": "77de1849-306c-4330-9582-21ba4b91e7ec",
   "metadata": {},
   "outputs": [
    {
     "data": {
      "text/html": [
       "<div>\n",
       "<style scoped>\n",
       "    .dataframe tbody tr th:only-of-type {\n",
       "        vertical-align: middle;\n",
       "    }\n",
       "\n",
       "    .dataframe tbody tr th {\n",
       "        vertical-align: top;\n",
       "    }\n",
       "\n",
       "    .dataframe thead th {\n",
       "        text-align: right;\n",
       "    }\n",
       "</style>\n",
       "<table border=\"1\" class=\"dataframe\">\n",
       "  <thead>\n",
       "    <tr style=\"text-align: right;\">\n",
       "      <th></th>\n",
       "      <th>UserName</th>\n",
       "      <th>SrcDevice</th>\n",
       "      <th>DstDevice</th>\n",
       "      <th>Authent Type</th>\n",
       "      <th>Failure</th>\n",
       "      <th>DailyCount</th>\n",
       "    </tr>\n",
       "  </thead>\n",
       "  <tbody>\n",
       "    <tr>\n",
       "      <th>195820</th>\n",
       "      <td>User024511</td>\n",
       "      <td>Comp526669</td>\n",
       "      <td>None</td>\n",
       "      <td>WorkstationUnlock</td>\n",
       "      <td>1</td>\n",
       "      <td>1.0</td>\n",
       "    </tr>\n",
       "    <tr>\n",
       "      <th>69700</th>\n",
       "      <td>User024511</td>\n",
       "      <td>Comp526669</td>\n",
       "      <td>Comp253429</td>\n",
       "      <td>TGS</td>\n",
       "      <td>0</td>\n",
       "      <td>1.0</td>\n",
       "    </tr>\n",
       "    <tr>\n",
       "      <th>189387</th>\n",
       "      <td>User024511</td>\n",
       "      <td>Comp526669</td>\n",
       "      <td>None</td>\n",
       "      <td>WorkstationUnlock</td>\n",
       "      <td>1</td>\n",
       "      <td>3.0</td>\n",
       "    </tr>\n",
       "    <tr>\n",
       "      <th>33366</th>\n",
       "      <td>User063197</td>\n",
       "      <td>Comp215835</td>\n",
       "      <td>None</td>\n",
       "      <td>WorkstationUnlock</td>\n",
       "      <td>1</td>\n",
       "      <td>1.0</td>\n",
       "    </tr>\n",
       "    <tr>\n",
       "      <th>35039</th>\n",
       "      <td>User063197</td>\n",
       "      <td>Comp391885</td>\n",
       "      <td>Comp546675</td>\n",
       "      <td>NetworkLogon</td>\n",
       "      <td>0</td>\n",
       "      <td>3.0</td>\n",
       "    </tr>\n",
       "    <tr>\n",
       "      <th>...</th>\n",
       "      <td>...</td>\n",
       "      <td>...</td>\n",
       "      <td>...</td>\n",
       "      <td>...</td>\n",
       "      <td>...</td>\n",
       "      <td>...</td>\n",
       "    </tr>\n",
       "    <tr>\n",
       "      <th>53996</th>\n",
       "      <td>User612423</td>\n",
       "      <td>Comp333992</td>\n",
       "      <td>None</td>\n",
       "      <td>WorkstationUnlock</td>\n",
       "      <td>0</td>\n",
       "      <td>3.0</td>\n",
       "    </tr>\n",
       "    <tr>\n",
       "      <th>56269</th>\n",
       "      <td>User612423</td>\n",
       "      <td>Comp834923</td>\n",
       "      <td>Comp364152</td>\n",
       "      <td>TGS</td>\n",
       "      <td>0</td>\n",
       "      <td>6.0</td>\n",
       "    </tr>\n",
       "    <tr>\n",
       "      <th>57683</th>\n",
       "      <td>User612423</td>\n",
       "      <td>Comp395209</td>\n",
       "      <td>ActiveDirectory</td>\n",
       "      <td>NetworkLogon</td>\n",
       "      <td>0</td>\n",
       "      <td>13.0</td>\n",
       "    </tr>\n",
       "    <tr>\n",
       "      <th>39705</th>\n",
       "      <td>User612423</td>\n",
       "      <td>Comp468350</td>\n",
       "      <td>Comp882989</td>\n",
       "      <td>NetworkLogon</td>\n",
       "      <td>0</td>\n",
       "      <td>6.0</td>\n",
       "    </tr>\n",
       "    <tr>\n",
       "      <th>40961</th>\n",
       "      <td>User612423</td>\n",
       "      <td>Comp834923</td>\n",
       "      <td>Comp788417</td>\n",
       "      <td>TGS</td>\n",
       "      <td>0</td>\n",
       "      <td>4.0</td>\n",
       "    </tr>\n",
       "  </tbody>\n",
       "</table>\n",
       "<p>166 rows × 6 columns</p>\n",
       "</div>"
      ],
      "text/plain": [
       "          UserName   SrcDevice        DstDevice       Authent Type  Failure  \\\n",
       "195820  User024511  Comp526669             None  WorkstationUnlock        1   \n",
       "69700   User024511  Comp526669       Comp253429                TGS        0   \n",
       "189387  User024511  Comp526669             None  WorkstationUnlock        1   \n",
       "33366   User063197  Comp215835             None  WorkstationUnlock        1   \n",
       "35039   User063197  Comp391885       Comp546675       NetworkLogon        0   \n",
       "...            ...         ...              ...                ...      ...   \n",
       "53996   User612423  Comp333992             None  WorkstationUnlock        0   \n",
       "56269   User612423  Comp834923       Comp364152                TGS        0   \n",
       "57683   User612423  Comp395209  ActiveDirectory       NetworkLogon        0   \n",
       "39705   User612423  Comp468350       Comp882989       NetworkLogon        0   \n",
       "40961   User612423  Comp834923       Comp788417                TGS        0   \n",
       "\n",
       "        DailyCount  \n",
       "195820         1.0  \n",
       "69700          1.0  \n",
       "189387         3.0  \n",
       "33366          1.0  \n",
       "35039          3.0  \n",
       "...            ...  \n",
       "53996          3.0  \n",
       "56269          6.0  \n",
       "57683         13.0  \n",
       "39705          6.0  \n",
       "40961          4.0  \n",
       "\n",
       "[166 rows x 6 columns]"
      ]
     },
     "execution_count": 82,
     "metadata": {},
     "output_type": "execute_result"
    }
   ],
   "source": [
    "anomalies_ae_3"
   ]
  },
  {
   "cell_type": "code",
   "execution_count": 83,
   "id": "8f336563-c9c5-4f7b-bf44-34c3be19a975",
   "metadata": {},
   "outputs": [
    {
     "data": {
      "text/plain": [
       "Authent Type\n",
       "TGS                   62\n",
       "NetworkLogon          47\n",
       "WorkstationUnlock     26\n",
       "TGT                   20\n",
       "InteractiveLogon       3\n",
       "RemoteInteractive      3\n",
       "Service                2\n",
       "CachedInteractive      1\n",
       "ScreensaverInvoked     1\n",
       "WorkstationLock        1\n",
       "dtype: int64"
      ]
     },
     "execution_count": 83,
     "metadata": {},
     "output_type": "execute_result"
    }
   ],
   "source": [
    "anomalies_ae_3.groupby('Authent Type').size().sort_values(ascending=False)"
   ]
  },
  {
   "cell_type": "markdown",
   "id": "06f921dd-5703-42d0-a8b5-c07f3aadb7b9",
   "metadata": {},
   "source": [
    "Some of these authentications are unlikely to be anomalies - for example, ScreensaverInvoked is most likely not a malicious anomaly since the attacker wouldn't gain anything from this, whereas NetworkLogons may be malicious."
   ]
  },
  {
   "cell_type": "markdown",
   "id": "5eb18f6c-c97a-4bd5-9d19-281d2dd0c684",
   "metadata": {},
   "source": [
    "#### AE4"
   ]
  },
  {
   "cell_type": "markdown",
   "id": "56fb732f-d152-4896-98c8-c0254ac66e33",
   "metadata": {},
   "source": [
    "We'll work with an autoencoder where we also pass the number of network logons."
   ]
  },
  {
   "cell_type": "code",
   "execution_count": 84,
   "id": "838094f4-76d9-4868-b8f5-d17c41f9609c",
   "metadata": {},
   "outputs": [],
   "source": [
    "from sklearn.preprocessing import LabelEncoder"
   ]
  },
  {
   "cell_type": "code",
   "execution_count": 113,
   "id": "92f0840a-69aa-4601-ba26-f8ef19fb259e",
   "metadata": {},
   "outputs": [],
   "source": [
    "def feature_generation_CAT(user,n):\n",
    "    \n",
    "    feat_dict = {}\n",
    "    # for reference (not used)\n",
    "    day_dict = {0:'Monday',1:'Tuesday',2:'Wednesday',3:'Thursday',4:'Friday',5:'Saturday',6:'Sunday'}\n",
    "    auth_type_df = pd.DataFrame(index = list(authentication_data['Authent Type'].unique()))\n",
    "    \n",
    "    for i in range(len(auth_start_days)-1):\n",
    "        # gives access to a day for the NN - assume start on a monday based on EDA\n",
    "        day = i%7\n",
    "        chunks = split_dataframe(authentication_data[auth_start_days[i]:auth_start_days[i+1]],n)\n",
    "        for j in range(n):\n",
    "                hour = j\n",
    "                data = chunks[j]\n",
    "                authents = len(data[data['UserName'] == user])\n",
    "                failures = len(data[(data['UserName'] == user) & (data['Failure'] == 1)])\n",
    "                srcunique = len(data[data['UserName'] == user]['SrcDevice'].unique())\n",
    "                dstunique = len(data[data['UserName'] == user]['DstDevice'].unique())\n",
    "                \n",
    "                feat_dict[i*n + j] = [srcunique,dstunique,authents,failures]\n",
    "                #feat_dict[i*n + j] = [day,hour,srcunique,dstunique,uniquepairs,authents,failures]\n",
    "                \n",
    "    df = pd.DataFrame(data=feat_dict,index =  ['SrcUnique','DstUnique','Authentications','Failures'])\n",
    "    #df = pd.DataFrame(data=feat_dict,index =  ['Day','Hour','SrcUnique','DstUnique','UniquePairs','Authentications','Failures'])\n",
    "    df = df.transpose()\n",
    "    df = df.fillna(0)\n",
    "    \n",
    "    auth_df = auth_type_un_df(user,n)\n",
    "    df = pd.concat([df,auth_df])\n",
    "    df = df.fillna(0)\n",
    "    \n",
    "    return df"
   ]
  },
  {
   "cell_type": "code",
   "execution_count": 115,
   "id": "216f9bc6-8ddd-43b7-a723-7315a5ffd664",
   "metadata": {},
   "outputs": [],
   "source": [
    "def ae_anomaly_finder_4(user,n,BATCH_SIZE=64, EPOCHS=1000):\n",
    "    \n",
    "    # get the data frame of features\n",
    "    df = feature_generation_CAT(user,n)\n",
    "    x_train_ae = np.concatenate([np.array(df[0:57*n]),np.array(df[82*n:])])\n",
    "    x_test_ae = np.array(df[57*n:82*n])\n",
    "    \n",
    "    # create our scaling pipeline\n",
    "    pipeline = Pipeline([('normalizer', Normalizer()),\n",
    "                    ('scaler', MinMaxScaler())])\n",
    "    pipeline.fit(x_train_ae)\n",
    "    x_train_ae = pipeline.transform(x_train_ae)\n",
    "    x_test_ae = pipeline.transform(x_test_ae)\n",
    "    \n",
    "    # define neural network parameters\n",
    "    input_dim = x_train_ae.shape[1]\n",
    "    BATCH_SIZE = BATCH_SIZE\n",
    "    EPOCHS = EPOCHS\n",
    "    \n",
    "    # define the autoencoder\n",
    "    autoencoder =Sequential([\n",
    "\n",
    "        # deconstruct / encode\n",
    "        tf.keras.layers.Dense(input_dim, activation='elu', input_shape=(input_dim, )),\n",
    "        tf.keras.layers.Dropout(rate=0.1),\n",
    "        tf.keras.layers.Dense(16, activation='elu'),\n",
    "        tf.keras.layers.Dropout(rate=0.1),\n",
    "        tf.keras.layers.Dense(8, activation='elu'),\n",
    "        tf.keras.layers.Dropout(rate=0.1),\n",
    "        tf.keras.layers.Dense(4, activation='elu'),\n",
    "        tf.keras.layers.Dropout(rate=0.1),\n",
    "        tf.keras.layers.Dense(2, activation='elu'),\n",
    "        tf.keras.layers.Dropout(rate=0.1),\n",
    "\n",
    "        # reconstruction / decode\n",
    "        tf.keras.layers.Dense(2, activation='elu'),\n",
    "        tf.keras.layers.Dropout(rate=0.1),\n",
    "        tf.keras.layers.Dense(4, activation='elu'),\n",
    "        tf.keras.layers.Dropout(rate=0.1),\n",
    "        tf.keras.layers.Dense(8, activation='elu'),\n",
    "        tf.keras.layers.Dropout(rate=0.1),\n",
    "        tf.keras.layers.Dense(16, activation='elu'),\n",
    "        tf.keras.layers.Dropout(rate=0.1),\n",
    "        tf.keras.layers.Dense(input_dim, activation='elu')\n",
    "\n",
    "    ])\n",
    "\n",
    "    # compile the autoencoder\n",
    "    autoencoder.compile(optimizer=\"adam\", \n",
    "                        loss=\"mse\",\n",
    "                        metrics=[\"acc\"])\n",
    "    \n",
    "    early_stop = tf.keras.callbacks.EarlyStopping(\n",
    "    monitor='val_loss',\n",
    "    min_delta=0.0001,\n",
    "    patience=10,\n",
    "    verbose=1, \n",
    "    mode='min',\n",
    "    restore_best_weights=True\n",
    "    )\n",
    "    \n",
    "    # allows for early stopping and better visualisation of progress\n",
    "    cb = [early_stop,TqdmCallback(verbose=1)]\n",
    "    \n",
    "    # fit the auto encoder\n",
    "    history = autoencoder.fit(\n",
    "        x_train_ae, x_train_ae,\n",
    "        shuffle=True,\n",
    "        epochs=EPOCHS,\n",
    "        batch_size=BATCH_SIZE,\n",
    "        validation_split=0.1,\n",
    "        verbose=0,\n",
    "        callbacks=cb   \n",
    "    )\n",
    "    \n",
    "    # make predictions on the remaining data\n",
    "    x_test_pred = autoencoder.predict(x_test_ae)\n",
    "    test_mae_loss = np.mean(np.abs(x_test_pred - x_test_ae), axis=1)\n",
    "    \n",
    "    # min max scaler to transform to 0-1 so that we have 'p-values'\n",
    "    mmscaler = MinMaxScaler()\n",
    "    test_mae_loss = mmscaler.fit_transform(test_mae_loss.reshape(-1,1))\n",
    "    \n",
    "    anomalies = np.where(test_mae_loss > 0.95)\n",
    "    anomaly_idx = anomalies[0]\n",
    "    \n",
    "    frame = []\n",
    "    for i in range(len(anomaly_idx)):\n",
    "        anomaly = ae_orig_finder(user,n,anomaly_idx[i])\n",
    "        \n",
    "        # indicates that an anomaly was found where we have no information i.e. the lack of an event was anomalous\n",
    "        if len(anomaly) == 0:\n",
    "            pass\n",
    "        else:\n",
    "            frame.append(anomaly)\n",
    "        \n",
    "    if len(frame) != 0:\n",
    "        anomaly_df = pd.concat(frame)\n",
    "        return anomaly_df,1,history.history[\"val_loss\"]\n",
    "    else:\n",
    "        print('No anomalies found.')\n",
    "        return pd.DataFrame(test_mae_loss).describe(),0,history.history[\"val_loss\"]"
   ]
  },
  {
   "cell_type": "code",
   "execution_count": 116,
   "id": "7bb60713-3fd1-4fed-85d6-ee2a3cd593e0",
   "metadata": {},
   "outputs": [
    {
     "name": "stdout",
     "output_type": "stream",
     "text": [
      "Working with username 99 of 99. 100.00 percentage complete.\n"
     ]
    },
    {
     "data": {
      "application/vnd.jupyter.widget-view+json": {
       "model_id": "5d599e3dfd1c4871a2cd955f53274e22",
       "version_major": 2,
       "version_minor": 0
      },
      "text/plain": [
       "0epoch [00:00, ?epoch/s]"
      ]
     },
     "metadata": {},
     "output_type": "display_data"
    },
    {
     "data": {
      "application/vnd.jupyter.widget-view+json": {
       "model_id": "",
       "version_major": 2,
       "version_minor": 0
      },
      "text/plain": [
       "0batch [00:00, ?batch/s]"
      ]
     },
     "metadata": {},
     "output_type": "display_data"
    },
    {
     "name": "stdout",
     "output_type": "stream",
     "text": [
      "Restoring model weights from the end of the best epoch.\n",
      "Epoch 00045: early stopping\n",
      "0:23:54.106371\n"
     ]
    }
   ],
   "source": [
    "try:\n",
    "    print('Reading Data.')\n",
    "    anomalies_ae_4 = pickle.load(open('Anomalies AE CAT.p','rb'))\n",
    "    val_loss_4 = pickle.load(open('Validation Loss CAT.p','rb'))\n",
    "    anomaly_bool_4 = []\n",
    "    \n",
    "    for un in rt_usernames:\n",
    "        try:\n",
    "            anomaly_bool_4.append((len(anomalies_ae_4[anomalies_ae_4['UserName'] == un]),un))\n",
    "        except KeyError:\n",
    "            anomaly_bool_4.append((0,un))\n",
    "    clear_output()\n",
    "    print('Data available.')\n",
    "except:\n",
    "    clear_output()\n",
    "    print('Running AutoEncoder')\n",
    "    frames_4 = []\n",
    "    anomaly_bool_4 = []\n",
    "    val_loss_4 = []\n",
    "\n",
    "    s_time = datetime.datetime.now()\n",
    "\n",
    "    for i in range(len(rt_usernames)):\n",
    "        clear_output(wait=True)\n",
    "        print('Working with username {} of {}. {:.2f} percentage complete.'.format(i+1,len(rt_usernames),100*((i+1)/len(rt_usernames))))\n",
    "        f,b,val = ae_anomaly_finder_4(rt_usernames[i],24)\n",
    "        if b == 1:\n",
    "            frames_4.append(f)\n",
    "            anomaly_bool_4.append((len(f),rt_usernames[i]))\n",
    "            val_loss_4.append((val,rt_usernames[i]))\n",
    "        else:\n",
    "            anomaly_bool_4.append((0,rt_usernames[i]))\n",
    "            val_loss_4.append((val,rt_usernames[i]))\n",
    "            pass\n",
    "    anomalies_ae_4 = pd.concat(frames_4)\n",
    "    \n",
    "    pickle.dump(anomalies_ae_4, open('Anomalies AE CAT.p','wb'))\n",
    "    pickle.dump(val_loss_4, open('Validation Loss CAT.p','wb'))\n",
    "    \n",
    "    e_time = datetime.datetime.now()\n",
    "    print(e_time-s_time)"
   ]
  },
  {
   "cell_type": "code",
   "execution_count": 117,
   "id": "ee06e93e-0e3a-479b-a525-b9e4adc96b8d",
   "metadata": {},
   "outputs": [
    {
     "name": "stdout",
     "output_type": "stream",
     "text": [
      "55 of the red team usernames were identified to have anomalies out of 99 red team usernames. The folloiwng usernames were found to have no anomalies\n",
      "--------------------------------------------------------------------------------------------\n",
      "User203147, User365588, User409683, User876240, User179746, User370789, User831727, User133028, User882755, User576476, User546407, User917056, User902575, User970135, User680875, User110290, User490979, User571646, User860122, User110290, User702833, User089536, User225859, User859748, User630088, User787491, User913978, User766454, User457932, User447167, User758916, User637808, User415148, winservice, User829941, User717387, Comp289117$, User735240, User900703, User925048, User160566, User497510, User222822, User525118\n"
     ]
    }
   ],
   "source": [
    "non_anom_4 = []\n",
    "for i in range(len(anomaly_bool_4)):\n",
    "    if anomaly_bool_4[i][0] == 0:    \n",
    "        non_anom_4.append(anomaly_bool_4[i][1])\n",
    "        \n",
    "print('{} of the red team usernames were identified to have anomalies out of {} red team usernames. The folloiwng usernames were found to have no anomalies'.\n",
    "      format(len(np.where(np.array([i[0] for i in anomaly_bool_4]) > 0)[0]),len(anomaly_bool_4)))\n",
    "print('--------------------------------------------------------------------------------------------')        \n",
    "print(', '.join(map(str,non_anom_4)))\n"
   ]
  },
  {
   "cell_type": "code",
   "execution_count": 118,
   "id": "1110b5ae-cf8f-444a-ba45-c7a3b3a4dfc3",
   "metadata": {},
   "outputs": [
    {
     "name": "stdout",
     "output_type": "stream",
     "text": [
      "0.12% of the red team data was identified as anomalous.\n"
     ]
    }
   ],
   "source": [
    "perc_4 = 100*len(anomalies_ae_4)/len(authentication_data[authentication_data['UserName'].isin(rt_usernames)])\n",
    "print('{:.2f}% of the red team data was identified as anomalous.'.format(perc_4))"
   ]
  },
  {
   "cell_type": "code",
   "execution_count": 120,
   "id": "130a4e95-132b-481a-90f3-e01e13193052",
   "metadata": {},
   "outputs": [
    {
     "data": {
      "image/png": "[encoded data removed]",
      "text/plain": [
       "<Figure size 432x288 with 1 Axes>"
      ]
     },
     "metadata": {
      "needs_background": "light"
     },
     "output_type": "display_data"
    }
   ],
   "source": [
    "final_loss_4 = []\n",
    "for i in range(len(val_loss_4)):\n",
    "    final_loss_4.append(val_loss_4[i][0][len(val_loss_4[i][0])-1]) \n",
    "    \n",
    "plt.figure()\n",
    "sns.boxplot(data = final_loss_4)\n",
    "plt.show()"
   ]
  },
  {
   "cell_type": "code",
   "execution_count": 121,
   "id": "f3b087ac-613f-4fe3-bfec-40495fcf25c4",
   "metadata": {},
   "outputs": [
    {
     "data": {
      "text/html": [
       "<div>\n",
       "<style scoped>\n",
       "    .dataframe tbody tr th:only-of-type {\n",
       "        vertical-align: middle;\n",
       "    }\n",
       "\n",
       "    .dataframe tbody tr th {\n",
       "        vertical-align: top;\n",
       "    }\n",
       "\n",
       "    .dataframe thead th {\n",
       "        text-align: right;\n",
       "    }\n",
       "</style>\n",
       "<table border=\"1\" class=\"dataframe\">\n",
       "  <thead>\n",
       "    <tr style=\"text-align: right;\">\n",
       "      <th></th>\n",
       "      <th>UserName</th>\n",
       "      <th>SrcDevice</th>\n",
       "      <th>DstDevice</th>\n",
       "      <th>Authent Type</th>\n",
       "      <th>Failure</th>\n",
       "      <th>DailyCount</th>\n",
       "    </tr>\n",
       "  </thead>\n",
       "  <tbody>\n",
       "    <tr>\n",
       "      <th>195820</th>\n",
       "      <td>User024511</td>\n",
       "      <td>Comp526669</td>\n",
       "      <td>None</td>\n",
       "      <td>WorkstationUnlock</td>\n",
       "      <td>1</td>\n",
       "      <td>1.0</td>\n",
       "    </tr>\n",
       "    <tr>\n",
       "      <th>69700</th>\n",
       "      <td>User024511</td>\n",
       "      <td>Comp526669</td>\n",
       "      <td>Comp253429</td>\n",
       "      <td>TGS</td>\n",
       "      <td>0</td>\n",
       "      <td>1.0</td>\n",
       "    </tr>\n",
       "    <tr>\n",
       "      <th>189387</th>\n",
       "      <td>User024511</td>\n",
       "      <td>Comp526669</td>\n",
       "      <td>None</td>\n",
       "      <td>WorkstationUnlock</td>\n",
       "      <td>1</td>\n",
       "      <td>3.0</td>\n",
       "    </tr>\n",
       "    <tr>\n",
       "      <th>33366</th>\n",
       "      <td>User063197</td>\n",
       "      <td>Comp215835</td>\n",
       "      <td>None</td>\n",
       "      <td>WorkstationUnlock</td>\n",
       "      <td>1</td>\n",
       "      <td>1.0</td>\n",
       "    </tr>\n",
       "    <tr>\n",
       "      <th>35039</th>\n",
       "      <td>User063197</td>\n",
       "      <td>Comp391885</td>\n",
       "      <td>Comp546675</td>\n",
       "      <td>NetworkLogon</td>\n",
       "      <td>0</td>\n",
       "      <td>3.0</td>\n",
       "    </tr>\n",
       "    <tr>\n",
       "      <th>...</th>\n",
       "      <td>...</td>\n",
       "      <td>...</td>\n",
       "      <td>...</td>\n",
       "      <td>...</td>\n",
       "      <td>...</td>\n",
       "      <td>...</td>\n",
       "    </tr>\n",
       "    <tr>\n",
       "      <th>175213</th>\n",
       "      <td>User091297</td>\n",
       "      <td>Comp955934</td>\n",
       "      <td>None</td>\n",
       "      <td>InteractiveLogon</td>\n",
       "      <td>0</td>\n",
       "      <td>2.0</td>\n",
       "    </tr>\n",
       "    <tr>\n",
       "      <th>57154</th>\n",
       "      <td>User091297</td>\n",
       "      <td>Comp955934</td>\n",
       "      <td>None</td>\n",
       "      <td>CachedInteractive</td>\n",
       "      <td>1</td>\n",
       "      <td>8.0</td>\n",
       "    </tr>\n",
       "    <tr>\n",
       "      <th>142316</th>\n",
       "      <td>User939252</td>\n",
       "      <td>Comp848203</td>\n",
       "      <td>Comp546675</td>\n",
       "      <td>TGS</td>\n",
       "      <td>0</td>\n",
       "      <td>1.0</td>\n",
       "    </tr>\n",
       "    <tr>\n",
       "      <th>222326</th>\n",
       "      <td>User939252</td>\n",
       "      <td>Comp249659</td>\n",
       "      <td>None</td>\n",
       "      <td>InteractiveLogon</td>\n",
       "      <td>1</td>\n",
       "      <td>1.0</td>\n",
       "    </tr>\n",
       "    <tr>\n",
       "      <th>27281</th>\n",
       "      <td>User612423</td>\n",
       "      <td>Comp834923</td>\n",
       "      <td>None</td>\n",
       "      <td>InteractiveLogon</td>\n",
       "      <td>0</td>\n",
       "      <td>1.0</td>\n",
       "    </tr>\n",
       "  </tbody>\n",
       "</table>\n",
       "<p>183 rows × 6 columns</p>\n",
       "</div>"
      ],
      "text/plain": [
       "          UserName   SrcDevice   DstDevice       Authent Type  Failure  \\\n",
       "195820  User024511  Comp526669        None  WorkstationUnlock        1   \n",
       "69700   User024511  Comp526669  Comp253429                TGS        0   \n",
       "189387  User024511  Comp526669        None  WorkstationUnlock        1   \n",
       "33366   User063197  Comp215835        None  WorkstationUnlock        1   \n",
       "35039   User063197  Comp391885  Comp546675       NetworkLogon        0   \n",
       "...            ...         ...         ...                ...      ...   \n",
       "175213  User091297  Comp955934        None   InteractiveLogon        0   \n",
       "57154   User091297  Comp955934        None  CachedInteractive        1   \n",
       "142316  User939252  Comp848203  Comp546675                TGS        0   \n",
       "222326  User939252  Comp249659        None   InteractiveLogon        1   \n",
       "27281   User612423  Comp834923        None   InteractiveLogon        0   \n",
       "\n",
       "        DailyCount  \n",
       "195820         1.0  \n",
       "69700          1.0  \n",
       "189387         3.0  \n",
       "33366          1.0  \n",
       "35039          3.0  \n",
       "...            ...  \n",
       "175213         2.0  \n",
       "57154          8.0  \n",
       "142316         1.0  \n",
       "222326         1.0  \n",
       "27281          1.0  \n",
       "\n",
       "[183 rows x 6 columns]"
      ]
     },
     "execution_count": 121,
     "metadata": {},
     "output_type": "execute_result"
    }
   ],
   "source": [
    "anomalies_ae_4"
   ]
  },
  {
   "cell_type": "code",
   "execution_count": 127,
   "id": "e785df5f-43e3-4e05-bd77-2c152784d5e8",
   "metadata": {},
   "outputs": [
    {
     "data": {
      "text/html": [
       "<div>\n",
       "<style scoped>\n",
       "    .dataframe tbody tr th:only-of-type {\n",
       "        vertical-align: middle;\n",
       "    }\n",
       "\n",
       "    .dataframe tbody tr th {\n",
       "        vertical-align: top;\n",
       "    }\n",
       "\n",
       "    .dataframe thead th {\n",
       "        text-align: right;\n",
       "    }\n",
       "</style>\n",
       "<table border=\"1\" class=\"dataframe\">\n",
       "  <thead>\n",
       "    <tr style=\"text-align: right;\">\n",
       "      <th></th>\n",
       "      <th>UserName</th>\n",
       "      <th>SrcDevice</th>\n",
       "      <th>DstDevice</th>\n",
       "      <th>Authent Type</th>\n",
       "      <th>Failure</th>\n",
       "      <th>DailyCount</th>\n",
       "    </tr>\n",
       "  </thead>\n",
       "  <tbody>\n",
       "    <tr>\n",
       "      <th>0</th>\n",
       "      <td>User024511</td>\n",
       "      <td>Comp526669</td>\n",
       "      <td>None</td>\n",
       "      <td>WorkstationUnlock</td>\n",
       "      <td>1</td>\n",
       "      <td>1.0</td>\n",
       "    </tr>\n",
       "    <tr>\n",
       "      <th>1</th>\n",
       "      <td>User024511</td>\n",
       "      <td>Comp526669</td>\n",
       "      <td>Comp253429</td>\n",
       "      <td>TGS</td>\n",
       "      <td>0</td>\n",
       "      <td>1.0</td>\n",
       "    </tr>\n",
       "    <tr>\n",
       "      <th>2</th>\n",
       "      <td>User024511</td>\n",
       "      <td>Comp526669</td>\n",
       "      <td>None</td>\n",
       "      <td>WorkstationUnlock</td>\n",
       "      <td>1</td>\n",
       "      <td>3.0</td>\n",
       "    </tr>\n",
       "    <tr>\n",
       "      <th>3</th>\n",
       "      <td>User063197</td>\n",
       "      <td>Comp215835</td>\n",
       "      <td>None</td>\n",
       "      <td>WorkstationUnlock</td>\n",
       "      <td>1</td>\n",
       "      <td>1.0</td>\n",
       "    </tr>\n",
       "    <tr>\n",
       "      <th>4</th>\n",
       "      <td>User063197</td>\n",
       "      <td>Comp215835</td>\n",
       "      <td>None</td>\n",
       "      <td>WorkstationUnlock</td>\n",
       "      <td>1</td>\n",
       "      <td>1.0</td>\n",
       "    </tr>\n",
       "    <tr>\n",
       "      <th>...</th>\n",
       "      <td>...</td>\n",
       "      <td>...</td>\n",
       "      <td>...</td>\n",
       "      <td>...</td>\n",
       "      <td>...</td>\n",
       "      <td>...</td>\n",
       "    </tr>\n",
       "    <tr>\n",
       "      <th>156</th>\n",
       "      <td>User621241</td>\n",
       "      <td>EnterpriseAppServer</td>\n",
       "      <td>EnterpriseAppServer</td>\n",
       "      <td>NetworkLogon</td>\n",
       "      <td>0</td>\n",
       "      <td>18.0</td>\n",
       "    </tr>\n",
       "    <tr>\n",
       "      <th>157</th>\n",
       "      <td>User257227</td>\n",
       "      <td>Comp277495</td>\n",
       "      <td>Comp158828</td>\n",
       "      <td>NetworkLogon</td>\n",
       "      <td>0</td>\n",
       "      <td>2.0</td>\n",
       "    </tr>\n",
       "    <tr>\n",
       "      <th>158</th>\n",
       "      <td>User257227</td>\n",
       "      <td>Comp955279</td>\n",
       "      <td>ActiveDirectory</td>\n",
       "      <td>NetworkLogon</td>\n",
       "      <td>1</td>\n",
       "      <td>139.0</td>\n",
       "    </tr>\n",
       "    <tr>\n",
       "      <th>159</th>\n",
       "      <td>User939252</td>\n",
       "      <td>Comp848203</td>\n",
       "      <td>Comp546675</td>\n",
       "      <td>TGS</td>\n",
       "      <td>0</td>\n",
       "      <td>1.0</td>\n",
       "    </tr>\n",
       "    <tr>\n",
       "      <th>160</th>\n",
       "      <td>User939252</td>\n",
       "      <td>Comp249659</td>\n",
       "      <td>None</td>\n",
       "      <td>InteractiveLogon</td>\n",
       "      <td>1</td>\n",
       "      <td>1.0</td>\n",
       "    </tr>\n",
       "  </tbody>\n",
       "</table>\n",
       "<p>161 rows × 6 columns</p>\n",
       "</div>"
      ],
      "text/plain": [
       "       UserName            SrcDevice            DstDevice       Authent Type  \\\n",
       "0    User024511           Comp526669                 None  WorkstationUnlock   \n",
       "1    User024511           Comp526669           Comp253429                TGS   \n",
       "2    User024511           Comp526669                 None  WorkstationUnlock   \n",
       "3    User063197           Comp215835                 None  WorkstationUnlock   \n",
       "4    User063197           Comp215835                 None  WorkstationUnlock   \n",
       "..          ...                  ...                  ...                ...   \n",
       "156  User621241  EnterpriseAppServer  EnterpriseAppServer       NetworkLogon   \n",
       "157  User257227           Comp277495           Comp158828       NetworkLogon   \n",
       "158  User257227           Comp955279      ActiveDirectory       NetworkLogon   \n",
       "159  User939252           Comp848203           Comp546675                TGS   \n",
       "160  User939252           Comp249659                 None   InteractiveLogon   \n",
       "\n",
       "     Failure  DailyCount  \n",
       "0          1         1.0  \n",
       "1          0         1.0  \n",
       "2          1         3.0  \n",
       "3          1         1.0  \n",
       "4          1         1.0  \n",
       "..       ...         ...  \n",
       "156        0        18.0  \n",
       "157        0         2.0  \n",
       "158        1       139.0  \n",
       "159        0         1.0  \n",
       "160        1         1.0  \n",
       "\n",
       "[161 rows x 6 columns]"
      ]
     },
     "execution_count": 127,
     "metadata": {},
     "output_type": "execute_result"
    }
   ],
   "source": [
    "pd.merge(anomalies_ae_3,anomalies_ae_4,how='inner',on=list(anomalies_ae_4.columns))"
   ]
  },
  {
   "cell_type": "markdown",
   "id": "376bafc2-a7c6-418e-a9a8-a0ba5d725605",
   "metadata": {},
   "source": [
    "So we find all (we miss 5) anomalies from the original auto encoder when including authentication type as a feature as well as finding an extra 22. The extra 22 are given below."
   ]
  },
  {
   "cell_type": "code",
   "execution_count": 131,
   "id": "7458687e-e90c-4030-880d-23eb48412015",
   "metadata": {},
   "outputs": [
    {
     "data": {
      "text/html": [
       "<div>\n",
       "<style scoped>\n",
       "    .dataframe tbody tr th:only-of-type {\n",
       "        vertical-align: middle;\n",
       "    }\n",
       "\n",
       "    .dataframe tbody tr th {\n",
       "        vertical-align: top;\n",
       "    }\n",
       "\n",
       "    .dataframe thead th {\n",
       "        text-align: right;\n",
       "    }\n",
       "</style>\n",
       "<table border=\"1\" class=\"dataframe\">\n",
       "  <thead>\n",
       "    <tr style=\"text-align: right;\">\n",
       "      <th></th>\n",
       "      <th>UserName</th>\n",
       "      <th>SrcDevice</th>\n",
       "      <th>DstDevice</th>\n",
       "      <th>Authent Type</th>\n",
       "      <th>Failure</th>\n",
       "      <th>DailyCount</th>\n",
       "    </tr>\n",
       "  </thead>\n",
       "  <tbody>\n",
       "    <tr>\n",
       "      <th>166634</th>\n",
       "      <td>User417114</td>\n",
       "      <td>Comp085788</td>\n",
       "      <td>Comp915658</td>\n",
       "      <td>TGS</td>\n",
       "      <td>0</td>\n",
       "      <td>3.0</td>\n",
       "    </tr>\n",
       "    <tr>\n",
       "      <th>202436</th>\n",
       "      <td>User417114</td>\n",
       "      <td>Comp085788</td>\n",
       "      <td>Comp915658</td>\n",
       "      <td>TGS</td>\n",
       "      <td>0</td>\n",
       "      <td>5.0</td>\n",
       "    </tr>\n",
       "    <tr>\n",
       "      <th>201391</th>\n",
       "      <td>User417114</td>\n",
       "      <td>Comp085788</td>\n",
       "      <td>None</td>\n",
       "      <td>WorkstationUnlock</td>\n",
       "      <td>1</td>\n",
       "      <td>1.0</td>\n",
       "    </tr>\n",
       "    <tr>\n",
       "      <th>129718</th>\n",
       "      <td>User325977</td>\n",
       "      <td>Comp607167</td>\n",
       "      <td>Comp876177</td>\n",
       "      <td>TGS</td>\n",
       "      <td>0</td>\n",
       "      <td>14.0</td>\n",
       "    </tr>\n",
       "    <tr>\n",
       "      <th>131157</th>\n",
       "      <td>User325977</td>\n",
       "      <td>Comp607167</td>\n",
       "      <td>Comp915658</td>\n",
       "      <td>NetworkLogon</td>\n",
       "      <td>0</td>\n",
       "      <td>6.0</td>\n",
       "    </tr>\n",
       "    <tr>\n",
       "      <th>132543</th>\n",
       "      <td>User325977</td>\n",
       "      <td>Comp607167</td>\n",
       "      <td>Comp364152</td>\n",
       "      <td>TGS</td>\n",
       "      <td>0</td>\n",
       "      <td>1.0</td>\n",
       "    </tr>\n",
       "    <tr>\n",
       "      <th>184688</th>\n",
       "      <td>User325977</td>\n",
       "      <td>Comp607167</td>\n",
       "      <td>None</td>\n",
       "      <td>WorkstationUnlock</td>\n",
       "      <td>1</td>\n",
       "      <td>3.0</td>\n",
       "    </tr>\n",
       "    <tr>\n",
       "      <th>186467</th>\n",
       "      <td>User325977</td>\n",
       "      <td>Comp607167</td>\n",
       "      <td>Comp546675</td>\n",
       "      <td>NetworkLogon</td>\n",
       "      <td>0</td>\n",
       "      <td>12.0</td>\n",
       "    </tr>\n",
       "    <tr>\n",
       "      <th>204340</th>\n",
       "      <td>User325977</td>\n",
       "      <td>Comp607167</td>\n",
       "      <td>None</td>\n",
       "      <td>WorkstationUnlock</td>\n",
       "      <td>1</td>\n",
       "      <td>4.0</td>\n",
       "    </tr>\n",
       "    <tr>\n",
       "      <th>157937</th>\n",
       "      <td>User111804</td>\n",
       "      <td>Comp529813</td>\n",
       "      <td>Comp829338</td>\n",
       "      <td>TGS</td>\n",
       "      <td>0</td>\n",
       "      <td>3.0</td>\n",
       "    </tr>\n",
       "    <tr>\n",
       "      <th>22649</th>\n",
       "      <td>User284127</td>\n",
       "      <td>Comp867735</td>\n",
       "      <td>Comp395285</td>\n",
       "      <td>TGS</td>\n",
       "      <td>0</td>\n",
       "      <td>1.0</td>\n",
       "    </tr>\n",
       "    <tr>\n",
       "      <th>192843</th>\n",
       "      <td>AppService</td>\n",
       "      <td>Comp395935</td>\n",
       "      <td>ActiveDirectory</td>\n",
       "      <td>TGT</td>\n",
       "      <td>0</td>\n",
       "      <td>13.0</td>\n",
       "    </tr>\n",
       "    <tr>\n",
       "      <th>195283</th>\n",
       "      <td>AppService</td>\n",
       "      <td>Comp658570</td>\n",
       "      <td>None</td>\n",
       "      <td>Service</td>\n",
       "      <td>0</td>\n",
       "      <td>1.0</td>\n",
       "    </tr>\n",
       "    <tr>\n",
       "      <th>197247</th>\n",
       "      <td>AppService</td>\n",
       "      <td>Comp139547</td>\n",
       "      <td>EnterpriseAppServer</td>\n",
       "      <td>NetworkLogon</td>\n",
       "      <td>0</td>\n",
       "      <td>1405.0</td>\n",
       "    </tr>\n",
       "    <tr>\n",
       "      <th>198863</th>\n",
       "      <td>AppService</td>\n",
       "      <td>EnterpriseAppServer</td>\n",
       "      <td>Comp581624</td>\n",
       "      <td>NetworkLogon</td>\n",
       "      <td>0</td>\n",
       "      <td>88.0</td>\n",
       "    </tr>\n",
       "    <tr>\n",
       "      <th>199559</th>\n",
       "      <td>AppService</td>\n",
       "      <td>Comp060940</td>\n",
       "      <td>None</td>\n",
       "      <td>Service</td>\n",
       "      <td>0</td>\n",
       "      <td>1.0</td>\n",
       "    </tr>\n",
       "    <tr>\n",
       "      <th>23518</th>\n",
       "      <td>User405399</td>\n",
       "      <td>Comp521896</td>\n",
       "      <td>Comp370444</td>\n",
       "      <td>NetworkLogon</td>\n",
       "      <td>1</td>\n",
       "      <td>9.0</td>\n",
       "    </tr>\n",
       "    <tr>\n",
       "      <th>80343</th>\n",
       "      <td>User405399</td>\n",
       "      <td>Comp521896</td>\n",
       "      <td>ActiveDirectory</td>\n",
       "      <td>TGS</td>\n",
       "      <td>0</td>\n",
       "      <td>12.0</td>\n",
       "    </tr>\n",
       "    <tr>\n",
       "      <th>87722</th>\n",
       "      <td>User405399</td>\n",
       "      <td>Comp521896</td>\n",
       "      <td>ActiveDirectory</td>\n",
       "      <td>NetworkLogon</td>\n",
       "      <td>0</td>\n",
       "      <td>23.0</td>\n",
       "    </tr>\n",
       "    <tr>\n",
       "      <th>119438</th>\n",
       "      <td>User405399</td>\n",
       "      <td>Comp521896</td>\n",
       "      <td>Comp661433</td>\n",
       "      <td>TGS</td>\n",
       "      <td>0</td>\n",
       "      <td>2.0</td>\n",
       "    </tr>\n",
       "    <tr>\n",
       "      <th>145560</th>\n",
       "      <td>User405399</td>\n",
       "      <td>Comp521896</td>\n",
       "      <td>Comp370444</td>\n",
       "      <td>NetworkLogon</td>\n",
       "      <td>0</td>\n",
       "      <td>67.0</td>\n",
       "    </tr>\n",
       "    <tr>\n",
       "      <th>160074</th>\n",
       "      <td>User405399</td>\n",
       "      <td>Comp521896</td>\n",
       "      <td>Comp521896</td>\n",
       "      <td>TGS</td>\n",
       "      <td>0</td>\n",
       "      <td>2.0</td>\n",
       "    </tr>\n",
       "    <tr>\n",
       "      <th>214549</th>\n",
       "      <td>User405399</td>\n",
       "      <td>Comp521896</td>\n",
       "      <td>Comp507769</td>\n",
       "      <td>TGS</td>\n",
       "      <td>0</td>\n",
       "      <td>2.0</td>\n",
       "    </tr>\n",
       "    <tr>\n",
       "      <th>222131</th>\n",
       "      <td>User405399</td>\n",
       "      <td>Comp521896</td>\n",
       "      <td>Comp457448</td>\n",
       "      <td>TGS</td>\n",
       "      <td>0</td>\n",
       "      <td>2.0</td>\n",
       "    </tr>\n",
       "    <tr>\n",
       "      <th>80071</th>\n",
       "      <td>User396223</td>\n",
       "      <td>Comp640603</td>\n",
       "      <td>Comp788417</td>\n",
       "      <td>TGS</td>\n",
       "      <td>0</td>\n",
       "      <td>4.0</td>\n",
       "    </tr>\n",
       "    <tr>\n",
       "      <th>81761</th>\n",
       "      <td>User396223</td>\n",
       "      <td>Comp640603</td>\n",
       "      <td>None</td>\n",
       "      <td>WorkstationLock</td>\n",
       "      <td>0</td>\n",
       "      <td>2.0</td>\n",
       "    </tr>\n",
       "    <tr>\n",
       "      <th>10417</th>\n",
       "      <td>User257227</td>\n",
       "      <td>Comp277495</td>\n",
       "      <td>Comp955279</td>\n",
       "      <td>RemoteInteractive</td>\n",
       "      <td>0</td>\n",
       "      <td>8.0</td>\n",
       "    </tr>\n",
       "    <tr>\n",
       "      <th>17465</th>\n",
       "      <td>User257227</td>\n",
       "      <td>Comp277495</td>\n",
       "      <td>Comp370444</td>\n",
       "      <td>RemoteInteractive</td>\n",
       "      <td>0</td>\n",
       "      <td>4.0</td>\n",
       "    </tr>\n",
       "    <tr>\n",
       "      <th>46865</th>\n",
       "      <td>User091297</td>\n",
       "      <td>Comp955934</td>\n",
       "      <td>Comp939275</td>\n",
       "      <td>RemoteInteractive</td>\n",
       "      <td>0</td>\n",
       "      <td>2.0</td>\n",
       "    </tr>\n",
       "    <tr>\n",
       "      <th>51651</th>\n",
       "      <td>User091297</td>\n",
       "      <td>Comp714092</td>\n",
       "      <td>None</td>\n",
       "      <td>InteractiveLogon</td>\n",
       "      <td>0</td>\n",
       "      <td>8.0</td>\n",
       "    </tr>\n",
       "    <tr>\n",
       "      <th>160551</th>\n",
       "      <td>User091297</td>\n",
       "      <td>Comp714092</td>\n",
       "      <td>ActiveDirectory</td>\n",
       "      <td>NetworkLogon</td>\n",
       "      <td>1</td>\n",
       "      <td>8.0</td>\n",
       "    </tr>\n",
       "    <tr>\n",
       "      <th>162000</th>\n",
       "      <td>User091297</td>\n",
       "      <td>Comp714092</td>\n",
       "      <td>None</td>\n",
       "      <td>CachedInteractive</td>\n",
       "      <td>1</td>\n",
       "      <td>5.0</td>\n",
       "    </tr>\n",
       "    <tr>\n",
       "      <th>54069</th>\n",
       "      <td>User091297</td>\n",
       "      <td>Comp955934</td>\n",
       "      <td>None</td>\n",
       "      <td>CachedInteractive</td>\n",
       "      <td>1</td>\n",
       "      <td>2.0</td>\n",
       "    </tr>\n",
       "    <tr>\n",
       "      <th>3489</th>\n",
       "      <td>User091297</td>\n",
       "      <td>Comp712828</td>\n",
       "      <td>None</td>\n",
       "      <td>WorkstationUnlock</td>\n",
       "      <td>0</td>\n",
       "      <td>3.0</td>\n",
       "    </tr>\n",
       "    <tr>\n",
       "      <th>6201</th>\n",
       "      <td>User091297</td>\n",
       "      <td>Comp955934</td>\n",
       "      <td>ActiveDirectory</td>\n",
       "      <td>NetworkLogon</td>\n",
       "      <td>1</td>\n",
       "      <td>130.0</td>\n",
       "    </tr>\n",
       "    <tr>\n",
       "      <th>82968</th>\n",
       "      <td>User091297</td>\n",
       "      <td>Comp955934</td>\n",
       "      <td>Comp370444</td>\n",
       "      <td>NetworkLogon</td>\n",
       "      <td>0</td>\n",
       "      <td>6.0</td>\n",
       "    </tr>\n",
       "    <tr>\n",
       "      <th>99516</th>\n",
       "      <td>User091297</td>\n",
       "      <td>Comp955934</td>\n",
       "      <td>Comp955279</td>\n",
       "      <td>NetworkLogon</td>\n",
       "      <td>0</td>\n",
       "      <td>12.0</td>\n",
       "    </tr>\n",
       "    <tr>\n",
       "      <th>57154</th>\n",
       "      <td>User091297</td>\n",
       "      <td>Comp955934</td>\n",
       "      <td>None</td>\n",
       "      <td>CachedInteractive</td>\n",
       "      <td>1</td>\n",
       "      <td>8.0</td>\n",
       "    </tr>\n",
       "    <tr>\n",
       "      <th>27281</th>\n",
       "      <td>User612423</td>\n",
       "      <td>Comp834923</td>\n",
       "      <td>None</td>\n",
       "      <td>InteractiveLogon</td>\n",
       "      <td>0</td>\n",
       "      <td>1.0</td>\n",
       "    </tr>\n",
       "  </tbody>\n",
       "</table>\n",
       "</div>"
      ],
      "text/plain": [
       "          UserName            SrcDevice            DstDevice  \\\n",
       "166634  User417114           Comp085788           Comp915658   \n",
       "202436  User417114           Comp085788           Comp915658   \n",
       "201391  User417114           Comp085788                 None   \n",
       "129718  User325977           Comp607167           Comp876177   \n",
       "131157  User325977           Comp607167           Comp915658   \n",
       "132543  User325977           Comp607167           Comp364152   \n",
       "184688  User325977           Comp607167                 None   \n",
       "186467  User325977           Comp607167           Comp546675   \n",
       "204340  User325977           Comp607167                 None   \n",
       "157937  User111804           Comp529813           Comp829338   \n",
       "22649   User284127           Comp867735           Comp395285   \n",
       "192843  AppService           Comp395935      ActiveDirectory   \n",
       "195283  AppService           Comp658570                 None   \n",
       "197247  AppService           Comp139547  EnterpriseAppServer   \n",
       "198863  AppService  EnterpriseAppServer           Comp581624   \n",
       "199559  AppService           Comp060940                 None   \n",
       "23518   User405399           Comp521896           Comp370444   \n",
       "80343   User405399           Comp521896      ActiveDirectory   \n",
       "87722   User405399           Comp521896      ActiveDirectory   \n",
       "119438  User405399           Comp521896           Comp661433   \n",
       "145560  User405399           Comp521896           Comp370444   \n",
       "160074  User405399           Comp521896           Comp521896   \n",
       "214549  User405399           Comp521896           Comp507769   \n",
       "222131  User405399           Comp521896           Comp457448   \n",
       "80071   User396223           Comp640603           Comp788417   \n",
       "81761   User396223           Comp640603                 None   \n",
       "10417   User257227           Comp277495           Comp955279   \n",
       "17465   User257227           Comp277495           Comp370444   \n",
       "46865   User091297           Comp955934           Comp939275   \n",
       "51651   User091297           Comp714092                 None   \n",
       "160551  User091297           Comp714092      ActiveDirectory   \n",
       "162000  User091297           Comp714092                 None   \n",
       "54069   User091297           Comp955934                 None   \n",
       "3489    User091297           Comp712828                 None   \n",
       "6201    User091297           Comp955934      ActiveDirectory   \n",
       "82968   User091297           Comp955934           Comp370444   \n",
       "99516   User091297           Comp955934           Comp955279   \n",
       "57154   User091297           Comp955934                 None   \n",
       "27281   User612423           Comp834923                 None   \n",
       "\n",
       "             Authent Type  Failure  DailyCount  \n",
       "166634                TGS        0         3.0  \n",
       "202436                TGS        0         5.0  \n",
       "201391  WorkstationUnlock        1         1.0  \n",
       "129718                TGS        0        14.0  \n",
       "131157       NetworkLogon        0         6.0  \n",
       "132543                TGS        0         1.0  \n",
       "184688  WorkstationUnlock        1         3.0  \n",
       "186467       NetworkLogon        0        12.0  \n",
       "204340  WorkstationUnlock        1         4.0  \n",
       "157937                TGS        0         3.0  \n",
       "22649                 TGS        0         1.0  \n",
       "192843                TGT        0        13.0  \n",
       "195283            Service        0         1.0  \n",
       "197247       NetworkLogon        0      1405.0  \n",
       "198863       NetworkLogon        0        88.0  \n",
       "199559            Service        0         1.0  \n",
       "23518        NetworkLogon        1         9.0  \n",
       "80343                 TGS        0        12.0  \n",
       "87722        NetworkLogon        0        23.0  \n",
       "119438                TGS        0         2.0  \n",
       "145560       NetworkLogon        0        67.0  \n",
       "160074                TGS        0         2.0  \n",
       "214549                TGS        0         2.0  \n",
       "222131                TGS        0         2.0  \n",
       "80071                 TGS        0         4.0  \n",
       "81761     WorkstationLock        0         2.0  \n",
       "10417   RemoteInteractive        0         8.0  \n",
       "17465   RemoteInteractive        0         4.0  \n",
       "46865   RemoteInteractive        0         2.0  \n",
       "51651    InteractiveLogon        0         8.0  \n",
       "160551       NetworkLogon        1         8.0  \n",
       "162000  CachedInteractive        1         5.0  \n",
       "54069   CachedInteractive        1         2.0  \n",
       "3489    WorkstationUnlock        0         3.0  \n",
       "6201         NetworkLogon        1       130.0  \n",
       "82968        NetworkLogon        0         6.0  \n",
       "99516        NetworkLogon        0        12.0  \n",
       "57154   CachedInteractive        1         8.0  \n",
       "27281    InteractiveLogon        0         1.0  "
      ]
     },
     "execution_count": 131,
     "metadata": {},
     "output_type": "execute_result"
    }
   ],
   "source": [
    "pd.concat([anomalies_ae_4, anomalies_ae_3, anomalies_ae_3]).drop_duplicates(keep=False)"
   ]
  },
  {
   "cell_type": "markdown",
   "id": "75c30d55-9ab8-4d14-8e6e-7511ff4a5f15",
   "metadata": {},
   "source": [
    "Reviewing these shows that they are 'interesting' authentiations - they are mostly authentication types that are of interest and are likely to be compromisable such as a network logon."
   ]
  },
  {
   "cell_type": "markdown",
   "id": "a67b6fdc-b22d-45fe-8c0c-b3c073843ab0",
   "metadata": {},
   "source": [
    "We'll test this algorithm to see how many anomalies it picks up in a random subset of non-red team usernames."
   ]
  },
  {
   "cell_type": "code",
   "execution_count": 134,
   "id": "0e8521e5-8c9c-453a-9f90-91e866a94949",
   "metadata": {},
   "outputs": [
    {
     "name": "stdout",
     "output_type": "stream",
     "text": [
      "Working with username 200 of 200. 100.0 percentage complete.\n"
     ]
    },
    {
     "data": {
      "application/vnd.jupyter.widget-view+json": {
       "model_id": "4b21a9f9341041b9b54a2db24d5fde55",
       "version_major": 2,
       "version_minor": 0
      },
      "text/plain": [
       "0epoch [00:00, ?epoch/s]"
      ]
     },
     "metadata": {},
     "output_type": "display_data"
    },
    {
     "data": {
      "application/vnd.jupyter.widget-view+json": {
       "model_id": "",
       "version_major": 2,
       "version_minor": 0
      },
      "text/plain": [
       "0batch [00:00, ?batch/s]"
      ]
     },
     "metadata": {},
     "output_type": "display_data"
    },
    {
     "name": "stdout",
     "output_type": "stream",
     "text": [
      "Restoring model weights from the end of the best epoch.\n",
      "Epoch 00144: early stopping\n",
      "No anomalies found.\n",
      "0:48:05.225451\n"
     ]
    }
   ],
   "source": [
    "frames_n_4 = []\n",
    "anomaly_bool_N_4 = []\n",
    "val_loss_n_4 = []\n",
    "bound = 200\n",
    "rand_non_rt = random.sample(non_rt_users,bound)\n",
    "\n",
    "s_time = datetime.datetime.now()\n",
    "\n",
    "for i,un in enumerate(rand_non_rt):\n",
    "    clear_output(wait=True)\n",
    "    print('Working with username {} of {}. {} percentage complete.'.format(i+1,bound,100*((i+1)/bound)))\n",
    "    f,b,val = ae_anomaly_finder_4(un,24)\n",
    "    if b == 1:\n",
    "        frames_n_4.append(f)\n",
    "        anomaly_bool_N_4.append((len(f),un))\n",
    "        val_loss_n_4.append(val)\n",
    "    else:\n",
    "        anomaly_bool_N_4.append((0,un))\n",
    "        val_loss_n_4.append(val)\n",
    "        pass\n",
    "anomalies_ae_n_4 = pd.concat(frames_n_4)\n",
    "\n",
    "e_time = datetime.datetime.now()\n",
    "print(e_time-s_time)"
   ]
  },
  {
   "cell_type": "code",
   "execution_count": 136,
   "id": "a04612f1-7d50-431d-9b48-c542e02b4a84",
   "metadata": {},
   "outputs": [
    {
     "name": "stdout",
     "output_type": "stream",
     "text": [
      "1.44% of the \"normal\" data was identified as anomalous.\n"
     ]
    }
   ],
   "source": [
    "perc = 100*len(anomalies_ae_n_4)/len(authentication_data[authentication_data['UserName'].isin(rand_non_rt)])\n",
    "print('{:.2f}% of the \"normal\" data was identified as anomalous.'.format(perc))"
   ]
  },
  {
   "cell_type": "markdown",
   "id": "e722694c-64a1-492f-b7b0-158f1a38d33f",
   "metadata": {},
   "source": [
    "Worryingly, we have a large amount of anomalies found in the 'normal' data."
   ]
  },
  {
   "cell_type": "markdown",
   "id": "be209556-b6f7-4761-9d07-0afc5c0cb234",
   "metadata": {},
   "source": [
    "#### AE5"
   ]
  },
  {
   "cell_type": "markdown",
   "id": "a4ae4aa4-c5e0-4f86-92ce-5845b09b44c0",
   "metadata": {},
   "source": [
    "I'm not 100% sure but I think minmax scaling the output data is having adverse affects on our results - the third auto encoder seemed to do the 'best' so we'll use that as a basis but we'll remove scaling of the 'anomaly scores' and instead use the validation loss as our threshold."
   ]
  },
  {
   "cell_type": "code",
   "execution_count": 146,
   "id": "9ead163e-796b-48c3-844c-26bdc1aa0749",
   "metadata": {},
   "outputs": [],
   "source": [
    "def ae_anomaly_finder_5(user,n,BATCH_SIZE=64, EPOCHS=1000):\n",
    "    \n",
    "    # get the data frame of features\n",
    "    df = feature_generation(user,n)\n",
    "    x_train_ae = np.concatenate([np.array(df[0:57*n]),np.array(df[82*n:])])\n",
    "    x_test_ae = np.array(df[57*n:82*n])\n",
    "    \n",
    "    # create our scaling pipeline\n",
    "    pipeline = Pipeline([('normalizer', Normalizer()),\n",
    "                    ('scaler', MinMaxScaler())])\n",
    "    pipeline.fit(x_train_ae)\n",
    "    x_train_ae = pipeline.transform(x_train_ae)\n",
    "    x_test_ae = pipeline.transform(x_test_ae)\n",
    "    \n",
    "    # define neural network parameters\n",
    "    input_dim = x_train_ae.shape[1]\n",
    "    BATCH_SIZE = BATCH_SIZE\n",
    "    EPOCHS = EPOCHS\n",
    "\n",
    "    # define the autoencoder\n",
    "    autoencoder =Sequential([\n",
    "\n",
    "        # deconstruct / encode\n",
    "        tf.keras.layers.Dense(input_dim, activation='elu', input_shape=(input_dim, )),\n",
    "        tf.keras.layers.Dropout(rate=0.1),\n",
    "        tf.keras.layers.Dense(16, activation='elu'),\n",
    "        tf.keras.layers.Dropout(rate=0.1),\n",
    "        tf.keras.layers.Dense(8, activation='elu'),\n",
    "        tf.keras.layers.Dropout(rate=0.1),\n",
    "        tf.keras.layers.Dense(4, activation='elu'),\n",
    "        tf.keras.layers.Dropout(rate=0.1),\n",
    "        tf.keras.layers.Dense(2, activation='elu'),\n",
    "        tf.keras.layers.Dropout(rate=0.1),\n",
    "\n",
    "        # reconstruction / decode\n",
    "        tf.keras.layers.Dense(2, activation='elu'),\n",
    "        tf.keras.layers.Dropout(rate=0.1),\n",
    "        tf.keras.layers.Dense(4, activation='elu'),\n",
    "        tf.keras.layers.Dropout(rate=0.1),\n",
    "        tf.keras.layers.Dense(8, activation='elu'),\n",
    "        tf.keras.layers.Dropout(rate=0.1),\n",
    "        tf.keras.layers.Dense(16, activation='elu'),\n",
    "        tf.keras.layers.Dropout(rate=0.1),\n",
    "        tf.keras.layers.Dense(input_dim, activation='elu')\n",
    "\n",
    "    ])\n",
    "\n",
    "    # compile the autoencoder\n",
    "    autoencoder.compile(optimizer=\"adam\", \n",
    "                        loss=\"mse\",\n",
    "                        metrics=[\"acc\"])\n",
    "    \n",
    "    early_stop = tf.keras.callbacks.EarlyStopping(\n",
    "    monitor='val_loss',\n",
    "    min_delta=0.0001,\n",
    "    patience=10,\n",
    "    verbose=1, \n",
    "    mode='min',\n",
    "    restore_best_weights=True\n",
    "    )\n",
    "    \n",
    "    # allows for early stopping and better visualisation of progress\n",
    "    cb = [early_stop,TqdmCallback(verbose=1)]\n",
    "    \n",
    "    # fit the auto encoder\n",
    "    history = autoencoder.fit(\n",
    "        x_train_ae, x_train_ae,\n",
    "        shuffle=True,\n",
    "        epochs=EPOCHS,\n",
    "        batch_size=BATCH_SIZE,\n",
    "        validation_split=0.1,\n",
    "        verbose=0,\n",
    "        callbacks=cb   \n",
    "    )\n",
    "    \n",
    "    # make predictions on the remaining data\n",
    "    x_test_pred = autoencoder.predict(x_test_ae)\n",
    "    test_mae_loss = np.mean(np.abs(x_test_pred - x_test_ae), axis=1)\n",
    "    \n",
    "    anomalies = np.where(test_mae_loss > np.array(history.history[\"val_loss\"]).min())\n",
    "    anomaly_idx = anomalies[0]\n",
    "    \n",
    "    frame = []\n",
    "    for i in range(len(anomaly_idx)):\n",
    "        anomaly = ae_orig_finder(user,n,anomaly_idx[i])\n",
    "        \n",
    "        # indicates that an anomaly was found where we have no information i.e. the lack of an event was anomalous\n",
    "        if len(anomaly) == 0:\n",
    "            pass\n",
    "        else:\n",
    "            frame.append(anomaly)\n",
    "        \n",
    "    if len(frame) != 0:\n",
    "        anomaly_df = pd.concat(frame)\n",
    "        return anomaly_df,1,history.history[\"val_loss\"]\n",
    "    else:\n",
    "        print('No anomalies found.')\n",
    "        return pd.DataFrame(test_mae_loss).describe(),0,history.history[\"val_loss\"]"
   ]
  },
  {
   "cell_type": "code",
   "execution_count": 147,
   "id": "31e05ddf-935f-49b2-980e-5ac7cc5ba795",
   "metadata": {},
   "outputs": [
    {
     "name": "stdout",
     "output_type": "stream",
     "text": [
      "Working with username 99 of 99. 100.00 percentage complete.\n"
     ]
    },
    {
     "data": {
      "application/vnd.jupyter.widget-view+json": {
       "model_id": "63457265a77e49298caf350d5a06fe08",
       "version_major": 2,
       "version_minor": 0
      },
      "text/plain": [
       "0epoch [00:00, ?epoch/s]"
      ]
     },
     "metadata": {},
     "output_type": "display_data"
    },
    {
     "data": {
      "application/vnd.jupyter.widget-view+json": {
       "model_id": "",
       "version_major": 2,
       "version_minor": 0
      },
      "text/plain": [
       "0batch [00:00, ?batch/s]"
      ]
     },
     "metadata": {},
     "output_type": "display_data"
    },
    {
     "name": "stdout",
     "output_type": "stream",
     "text": [
      "Restoring model weights from the end of the best epoch.\n",
      "Epoch 00042: early stopping\n",
      "0:28:53.176618\n"
     ]
    }
   ],
   "source": [
    "try:\n",
    "    print('Reading Data.')\n",
    "    anomalies_ae_5 = pickle.load(open('Anomalies AE VL.p','rb'))\n",
    "    val_loss_5 = pickle.load(open('Validation Loss VL.p','rb'))\n",
    "    anomaly_bool_5 = []\n",
    "    \n",
    "    for un in rt_usernames:\n",
    "        try:\n",
    "            anomaly_bool_5.append((len(anomalies_ae_5[anomalies_ae_5['UserName'] == un]),un))\n",
    "        except KeyError:\n",
    "            anomaly_bool_5.append((0,un))\n",
    "    clear_output()\n",
    "    print('Data available.')\n",
    "except:\n",
    "    clear_output()\n",
    "    print('Running AutoEncoder')\n",
    "    frames_5 = []\n",
    "    anomaly_bool_5 = []\n",
    "    val_loss_5 = []\n",
    "\n",
    "    s_time = datetime.datetime.now()\n",
    "\n",
    "    for i in range(len(rt_usernames)):\n",
    "        clear_output(wait=True)\n",
    "        print('Working with username {} of {}. {:.2f} percentage complete.'.format(i+1,len(rt_usernames),100*((i+1)/len(rt_usernames))))\n",
    "        f,b,val = ae_anomaly_finder_5(rt_usernames[i],24)\n",
    "        if b == 1:\n",
    "            frames_5.append(f)\n",
    "            anomaly_bool_5.append((len(f),rt_usernames[i]))\n",
    "            val_loss_5.append((val,rt_usernames[i]))\n",
    "        else:\n",
    "            anomaly_bool_5.append((0,rt_usernames[i]))\n",
    "            val_loss_5.append((val,rt_usernames[i]))\n",
    "            pass\n",
    "    anomalies_ae_5 = pd.concat(frames_5)\n",
    "    \n",
    "    pickle.dump(anomalies_ae_5, open('Anomalies AE VL.p','wb'))\n",
    "    pickle.dump(val_loss_5, open('Validation Loss VL.p','wb'))\n",
    "    \n",
    "    e_time = datetime.datetime.now()\n",
    "    print(e_time-s_time)"
   ]
  },
  {
   "cell_type": "code",
   "execution_count": 148,
   "id": "c7452fdf-098e-408b-8fa6-999204c7ec04",
   "metadata": {},
   "outputs": [],
   "source": [
    "def simple_ae_eval(anomaly_bools,anomalies, val_losses):\n",
    "    \n",
    "    non_anom = []\n",
    "    for i in range(len(anomaly_bools)):\n",
    "        if anomaly_bools[i][0] == 0:    \n",
    "            non_anom.append(anomaly_bools[i][1])\n",
    "\n",
    "    print('{} of the red team usernames were identified to have anomalies out of {} red team usernames. The folloiwng usernames were found to have no anomalies'.\n",
    "          format(len(np.where(np.array([i[0] for i in anomaly_bools]) > 0)[0]),len(anomaly_bools)))\n",
    "    print('--------------------------------------------------------------------------------------------')        \n",
    "    print(', '.join(map(str,non_anom)))\n",
    "    \n",
    "    perc = 100*len(anomalies)/len(authentication_data[authentication_data['UserName'].isin(rt_usernames)])\n",
    "    print('{:.2f}% of the red team data was identified as anomalous.'.format(perc))\n",
    "    \n",
    "    final_losses = []\n",
    "    for i in range(len(val_losses)):\n",
    "        final_losses.append(val_losses[i][0][len(val_losses[i][0])-1]) \n",
    "\n",
    "    plt.figure()\n",
    "    sns.boxplot(data = final_losses)\n",
    "    plt.show()\n",
    "    \n",
    "    print(anomalies.groupby('Authent Type').size())\n",
    "    \n",
    "    anomalies.head()\n",
    "    \n",
    "    return"
   ]
  },
  {
   "cell_type": "code",
   "execution_count": 149,
   "id": "8788fc59-9443-40ca-8a72-0d17dc824a2c",
   "metadata": {},
   "outputs": [
    {
     "name": "stdout",
     "output_type": "stream",
     "text": [
      "88 of the red team usernames were identified to have anomalies out of 99 red team usernames. The folloiwng usernames were found to have no anomalies\n",
      "--------------------------------------------------------------------------------------------\n",
      "User409683, User133028, User089536, User859748, User630088, User457932, User758916, User829941, User900703, User497510, User222822\n",
      "27.20% of the red team data was identified as anomalous.\n"
     ]
    },
    {
     "data": {
      "image/png": "[encoded data removed]",
      "text/plain": [
       "<Figure size 432x288 with 1 Axes>"
      ]
     },
     "metadata": {
      "needs_background": "light"
     },
     "output_type": "display_data"
    },
    {
     "name": "stdout",
     "output_type": "stream",
     "text": [
      "Authent Type\n",
      "Batch                     534\n",
      "CachedInteractive         102\n",
      "InteractiveLogon         1157\n",
      "NetworkLogon            12366\n",
      "RemoteInteractive         335\n",
      "ScreensaverDismissed      476\n",
      "ScreensaverInvoked        463\n",
      "Service                  1128\n",
      "TGS                     17434\n",
      "TGT                      4843\n",
      "WorkstationLock          1104\n",
      "WorkstationUnlock        1355\n",
      "dtype: int64\n"
     ]
    }
   ],
   "source": [
    "simple_ae_eval(anomaly_bool_5,anomalies_ae_5,val_loss_5)"
   ]
  },
  {
   "cell_type": "code",
   "execution_count": 163,
   "id": "e588045b-55d4-4e78-8f40-cc2fe22f46d5",
   "metadata": {},
   "outputs": [
    {
     "name": "stdout",
     "output_type": "stream",
     "text": [
      "Working with username 50 of 50. 100.0 percentage complete.\n"
     ]
    },
    {
     "data": {
      "application/vnd.jupyter.widget-view+json": {
       "model_id": "4eaea1b1ef064d10b53c5dbe73edaf7a",
       "version_major": 2,
       "version_minor": 0
      },
      "text/plain": [
       "0epoch [00:00, ?epoch/s]"
      ]
     },
     "metadata": {},
     "output_type": "display_data"
    },
    {
     "data": {
      "application/vnd.jupyter.widget-view+json": {
       "model_id": "",
       "version_major": 2,
       "version_minor": 0
      },
      "text/plain": [
       "0batch [00:00, ?batch/s]"
      ]
     },
     "metadata": {},
     "output_type": "display_data"
    },
    {
     "name": "stdout",
     "output_type": "stream",
     "text": [
      "Restoring model weights from the end of the best epoch.\n",
      "Epoch 00044: early stopping\n",
      "0:15:19.743197\n"
     ]
    }
   ],
   "source": [
    "frames_n_5 = []\n",
    "anomaly_bool_N_5 = []\n",
    "val_loss_n_5 = []\n",
    "bound = 50\n",
    "rand_non_rt = random.sample(non_rt_users,bound)\n",
    "\n",
    "s_time = datetime.datetime.now()\n",
    "\n",
    "for i,un in enumerate(rand_non_rt):\n",
    "    clear_output(wait=True)\n",
    "    print('Working with username {} of {}. {} percentage complete.'.format(i+1,bound,100*((i+1)/bound)))\n",
    "    f,b,val = ae_anomaly_finder_5(un,24)\n",
    "    if b == 1:\n",
    "        frames_n_5.append(f)\n",
    "        anomaly_bool_N_5.append((len(f),un))\n",
    "        val_loss_n_5.append((val,un))\n",
    "    else:\n",
    "        anomaly_bool_N_5.append((0,un))\n",
    "        val_loss_n_5.append((val,un))\n",
    "        pass\n",
    "anomalies_ae_n_5 = pd.concat(frames_n_5)\n",
    "\n",
    "e_time = datetime.datetime.now()\n",
    "print(e_time-s_time)"
   ]
  },
  {
   "cell_type": "code",
   "execution_count": 164,
   "id": "847a59b9-58ce-4910-979b-ca0a044b0b4f",
   "metadata": {},
   "outputs": [
    {
     "name": "stdout",
     "output_type": "stream",
     "text": [
      "46 of the red team usernames were identified to have anomalies out of 50 red team usernames. The folloiwng usernames were found to have no anomalies\n",
      "--------------------------------------------------------------------------------------------\n",
      "User461727, User006798, User874392, User927652\n",
      "4.54% of the red team data was identified as anomalous.\n"
     ]
    },
    {
     "data": {
      "image/png": "[encoded data removed]",
      "text/plain": [
       "<Figure size 432x288 with 1 Axes>"
      ]
     },
     "metadata": {
      "needs_background": "light"
     },
     "output_type": "display_data"
    },
    {
     "name": "stdout",
     "output_type": "stream",
     "text": [
      "Authent Type\n",
      "Batch                      6\n",
      "CachedInteractive         18\n",
      "InteractiveLogon         105\n",
      "NetworkLogon            1949\n",
      "RemoteInteractive         14\n",
      "ScreensaverDismissed      82\n",
      "ScreensaverInvoked        77\n",
      "TGS                     3352\n",
      "TGT                      861\n",
      "WorkstationLock          194\n",
      "WorkstationUnlock        231\n",
      "dtype: int64\n"
     ]
    }
   ],
   "source": [
    "simple_ae_eval(anomaly_bool_N_5,anomalies_ae_n_5,val_loss_n_5)"
   ]
  },
  {
   "cell_type": "code",
   "execution_count": null,
   "id": "35ccbe5b-2546-4fdb-87c1-543f98c0f221",
   "metadata": {},
   "outputs": [],
   "source": []
  }
 ],
 "metadata": {
  "kernelspec": {
   "display_name": "Python 3",
   "language": "python",
   "name": "python3"
  },
  "language_info": {
   "codemirror_mode": {
    "name": "ipython",
    "version": 3
   },
   "file_extension": ".py",
   "mimetype": "text/x-python",
   "name": "python",
   "nbconvert_exporter": "python",
   "pygments_lexer": "ipython3",
   "version": "3.8.5"
  }
 },
 "nbformat": 4,
 "nbformat_minor": 5
}
