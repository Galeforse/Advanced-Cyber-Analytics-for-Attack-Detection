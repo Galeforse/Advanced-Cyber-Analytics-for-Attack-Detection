{
 "cells": [
  {
   "cell_type": "markdown",
   "id": "34b14d2b",
   "metadata": {},
   "source": [
    "### Section 1: Data Reading"
   ]
  },
  {
   "cell_type": "markdown",
   "id": "fd914844",
   "metadata": {},
   "source": [
    "We need the following libraries:"
   ]
  },
  {
   "cell_type": "code",
   "execution_count": 2,
   "id": "f5409056",
   "metadata": {},
   "outputs": [
    {
     "name": "stdout",
     "output_type": "stream",
     "text": [
      "package 'plotrix' successfully unpacked and MD5 sums checked\n",
      "package 'dplyr' successfully unpacked and MD5 sums checked\n",
      "\n",
      "The downloaded binary packages are in\n",
      "\tC:\\Users\\Gabriel\\AppData\\Local\\Temp\\RtmpEztSog\\downloaded_packages\n"
     ]
    }
   ],
   "source": [
    "install.packages(c(\"plotrix\", \"dplyr\"))"
   ]
  },
  {
   "cell_type": "code",
   "execution_count": 4,
   "id": "584c6bc3",
   "metadata": {},
   "outputs": [],
   "source": [
    "library(dplyr)\n",
    "library(plotrix)"
   ]
  },
  {
   "cell_type": "markdown",
   "id": "2a29a6eb",
   "metadata": {},
   "source": [
    "I'm loading both the Auth and the Proc lists of compromised usernames locally. They can be found [here for the Auth](https://github.com/Galeforse/Advanced-Cyber-Analytics-for-Attack-Detection/blob/main/Data/AuthUserNames.txt), respectively [here for the Proc](https://github.com/Galeforse/Advanced-Cyber-Analytics-for-Attack-Detection/blob/main/Data/ProcessUserNames.txt)."
   ]
  },
  {
   "cell_type": "code",
   "execution_count": 5,
   "id": "fb42122c",
   "metadata": {},
   "outputs": [],
   "source": [
    "#setwd(\"D://LA//ATI Data\")\n",
    "setwd(\"G://Users//Gabriel//Documents//Education//UoB//GitHubDesktop//Advanced-Cyber-Analytics-for-Attack-Detection//Data\")"
   ]
  },
  {
   "cell_type": "code",
   "execution_count": 6,
   "id": "3d242f9d",
   "metadata": {},
   "outputs": [],
   "source": [
    "AU <- read.table(file=\"AuthUserNames.txt\", header=F)\n",
    "PU <- read.table(file=\"ProcessUserNames.txt\", header=F)"
   ]
  },
  {
   "cell_type": "markdown",
   "id": "53480fd8",
   "metadata": {},
   "source": [
    "We'll read them as vectors and have a look at them. It's likely they contain duplicate usernames, so that will too be addressed."
   ]
  },
  {
   "cell_type": "code",
   "execution_count": 7,
   "id": "7cb9a8d7",
   "metadata": {},
   "outputs": [
    {
     "data": {
      "text/html": [
       "<style>\n",
       ".list-inline {list-style: none; margin:0; padding: 0}\n",
       ".list-inline>li {display: inline-block}\n",
       ".list-inline>li:not(:last-child)::after {content: \"\\00b7\"; padding: 0 .5ex}\n",
       "</style>\n",
       "<ol class=list-inline><li>'User024511'</li><li>'User063197'</li><li>'User203147'</li><li>'User365588'</li><li>'User409683'</li><li>'User538831'</li></ol>\n"
      ],
      "text/latex": [
       "\\begin{enumerate*}\n",
       "\\item 'User024511'\n",
       "\\item 'User063197'\n",
       "\\item 'User203147'\n",
       "\\item 'User365588'\n",
       "\\item 'User409683'\n",
       "\\item 'User538831'\n",
       "\\end{enumerate*}\n"
      ],
      "text/markdown": [
       "1. 'User024511'\n",
       "2. 'User063197'\n",
       "3. 'User203147'\n",
       "4. 'User365588'\n",
       "5. 'User409683'\n",
       "6. 'User538831'\n",
       "\n",
       "\n"
      ],
      "text/plain": [
       "[1] \"User024511\" \"User063197\" \"User203147\" \"User365588\" \"User409683\"\n",
       "[6] \"User538831\""
      ]
     },
     "metadata": {},
     "output_type": "display_data"
    },
    {
     "data": {
      "text/html": [
       "99"
      ],
      "text/latex": [
       "99"
      ],
      "text/markdown": [
       "99"
      ],
      "text/plain": [
       "[1] 99"
      ]
     },
     "metadata": {},
     "output_type": "display_data"
    },
    {
     "data": {
      "text/html": [
       "<style>\n",
       ".list-inline {list-style: none; margin:0; padding: 0}\n",
       ".list-inline>li {display: inline-block}\n",
       ".list-inline>li:not(:last-child)::after {content: \"\\00b7\"; padding: 0 .5ex}\n",
       "</style>\n",
       "<ol class=list-inline><li>'User179746'</li><li>'Comp599155$'</li><li>'User317732'</li><li>'AppService'</li><li>'Comp931233$'</li><li>'User553613'</li></ol>\n"
      ],
      "text/latex": [
       "\\begin{enumerate*}\n",
       "\\item 'User179746'\n",
       "\\item 'Comp599155\\$'\n",
       "\\item 'User317732'\n",
       "\\item 'AppService'\n",
       "\\item 'Comp931233\\$'\n",
       "\\item 'User553613'\n",
       "\\end{enumerate*}\n"
      ],
      "text/markdown": [
       "1. 'User179746'\n",
       "2. 'Comp599155$'\n",
       "3. 'User317732'\n",
       "4. 'AppService'\n",
       "5. 'Comp931233$'\n",
       "6. 'User553613'\n",
       "\n",
       "\n"
      ],
      "text/plain": [
       "[1] \"User179746\"  \"Comp599155$\" \"User317732\"  \"AppService\"  \"Comp931233$\"\n",
       "[6] \"User553613\" "
      ]
     },
     "metadata": {},
     "output_type": "display_data"
    },
    {
     "data": {
      "text/html": [
       "71"
      ],
      "text/latex": [
       "71"
      ],
      "text/markdown": [
       "71"
      ],
      "text/plain": [
       "[1] 71"
      ]
     },
     "metadata": {},
     "output_type": "display_data"
    }
   ],
   "source": [
    "AU <- as.vector(AU$V1)\n",
    "PU <- as.vector(PU$V1)\n",
    "\n",
    "head(AU)\n",
    "length(AU)\n",
    "head(PU)\n",
    "length(PU)"
   ]
  },
  {
   "cell_type": "code",
   "execution_count": 8,
   "id": "e9aaad0f",
   "metadata": {},
   "outputs": [
    {
     "data": {
      "text/html": [
       "95"
      ],
      "text/latex": [
       "95"
      ],
      "text/markdown": [
       "95"
      ],
      "text/plain": [
       "[1] 95"
      ]
     },
     "metadata": {},
     "output_type": "display_data"
    },
    {
     "data": {
      "text/html": [
       "66"
      ],
      "text/latex": [
       "66"
      ],
      "text/markdown": [
       "66"
      ],
      "text/plain": [
       "[1] 66"
      ]
     },
     "metadata": {},
     "output_type": "display_data"
    }
   ],
   "source": [
    "AU <- unique(AU)\n",
    "PU <- unique(PU)\n",
    "\n",
    "length(AU)\n",
    "length(PU)"
   ]
  },
  {
   "cell_type": "markdown",
   "id": "d340ebdf",
   "metadata": {},
   "source": [
    "We now read the interesction and union of these lists, viewed as sets of usernames:"
   ]
  },
  {
   "cell_type": "code",
   "execution_count": 9,
   "id": "f28116d8",
   "metadata": {},
   "outputs": [
    {
     "data": {
      "text/html": [
       "'There are 87 usernames present in Auth that do not feature in Proc'"
      ],
      "text/latex": [
       "'There are 87 usernames present in Auth that do not feature in Proc'"
      ],
      "text/markdown": [
       "'There are 87 usernames present in Auth that do not feature in Proc'"
      ],
      "text/plain": [
       "[1] \"There are 87 usernames present in Auth that do not feature in Proc\""
      ]
     },
     "metadata": {},
     "output_type": "display_data"
    },
    {
     "name": "stdout",
     "output_type": "stream",
     "text": [
      "\n",
      "Such as:\n",
      "[1] \"User024511\" \"User063197\" \"User365588\" \"User409683\" \"User538831\"\n",
      "[6] \"User768610\"\n"
     ]
    },
    {
     "data": {
      "text/html": [
       "'There are 58 usernames present in Proc that do not feature in Auth'"
      ],
      "text/latex": [
       "'There are 58 usernames present in Proc that do not feature in Auth'"
      ],
      "text/markdown": [
       "'There are 58 usernames present in Proc that do not feature in Auth'"
      ],
      "text/plain": [
       "[1] \"There are 58 usernames present in Proc that do not feature in Auth\""
      ]
     },
     "metadata": {},
     "output_type": "display_data"
    },
    {
     "name": "stdout",
     "output_type": "stream",
     "text": [
      "\n",
      "Such as:\n",
      "[1] \"Comp599155$\" \"Comp931233$\" \"User553613\"  \"Comp513140$\" \"Comp591296$\"\n",
      "[6] \"Comp123959$\"\n"
     ]
    }
   ],
   "source": [
    "OnlyAuth <- AU[AU%in%PU==FALSE]\n",
    "paste(\"There are\", length(OnlyAuth), \"usernames present in Auth that do not feature in Proc\")\n",
    "cat(\"\\nSuch as:\\n\")\n",
    "print(head(OnlyAuth))\n",
    "\n",
    "OnlyProc <- PU[PU%in%AU==FALSE]\n",
    "paste(\"There are\", length(OnlyProc), \"usernames present in Proc that do not feature in Auth\")\n",
    "cat(\"\\nSuch as:\\n\")\n",
    "print(head(OnlyProc))"
   ]
  },
  {
   "cell_type": "markdown",
   "id": "4e788b49",
   "metadata": {},
   "source": [
    "We print the intersection, which is what we'll be using for our analysis:"
   ]
  },
  {
   "cell_type": "code",
   "execution_count": 10,
   "id": "b8632086",
   "metadata": {},
   "outputs": [
    {
     "data": {
      "text/html": [
       "TRUE"
      ],
      "text/latex": [
       "TRUE"
      ],
      "text/markdown": [
       "TRUE"
      ],
      "text/plain": [
       "[1] TRUE"
      ]
     },
     "metadata": {},
     "output_type": "display_data"
    },
    {
     "name": "stdout",
     "output_type": "stream",
     "text": [
      "[1] \"User203147\"  \"User794682\"  \"User317732\"  \"User179746\"  \"User110290\" \n",
      "[6] \"AppService\"  \"Comp289117$\" \"Comp939275$\"\n"
     ]
    }
   ],
   "source": [
    "Common <- AU[AU%in%PU==TRUE]\n",
    "identical(Common[order(Common)], PU[PU%in%AU==TRUE][order(PU[PU%in%AU==TRUE])], attrib.as.set = TRUE)\n",
    "\n",
    "print(Common)"
   ]
  },
  {
   "cell_type": "markdown",
   "id": "451bb55f",
   "metadata": {},
   "source": [
    "_Note:_ Anything that does NOT feature within the interesction set, i.e. 'Common', seems harder to approach. However, I strongly believe it's the other way around. That is because Proc is mostly made up of anonymized usernames as CompX$ acting on CompX - so following which of the usernames within the list 'AU' acted on CompX should easily clarify the link between the two datasets in this case.\n",
    "\n",
    "We'll now read the full Authentication and Processes datasets, which can be found [here for Auth](https://github.com/Galeforse/Advanced-Cyber-Analytics-for-Attack-Detection/blob/main/Data/Authentication%20data.gz), respectively [here for Proc](https://github.com/Galeforse/Advanced-Cyber-Analytics-for-Attack-Detection/blob/main/Data/Process%20data.gz)."
   ]
  },
  {
   "cell_type": "code",
   "execution_count": 11,
   "id": "cfe06dc7",
   "metadata": {},
   "outputs": [],
   "source": [
    "#Auth <- read.table(file=\"Summaries//Just_Auth//LA.txt\", header=T, sep=\",\")\n",
    "Auth <- read.table(file=\"Authentication data.gz\", header=T, sep=\",\")"
   ]
  },
  {
   "cell_type": "code",
   "execution_count": 12,
   "id": "a8378676",
   "metadata": {},
   "outputs": [],
   "source": [
    "#Proc <- read.table(file=\"Summaries//Just_Process//ProcessData.txt\", header=T, sep=\",\")\n",
    "Proc <- read.table(file=\"Process data.gz\", header=T, sep=\",\")"
   ]
  },
  {
   "cell_type": "markdown",
   "id": "9b062f71",
   "metadata": {},
   "source": [
    "The following line might not apply to you, depending on whether the editing tool added an extra counting column or not. Please verify using head() before running:"
   ]
  },
  {
   "cell_type": "code",
   "execution_count": 13,
   "id": "5478779a-a63c-45f2-9c57-42884e23dc16",
   "metadata": {},
   "outputs": [
    {
     "data": {
      "text/html": [
       "<table class=\"dataframe\">\n",
       "<caption>A data.frame: 6 × 6</caption>\n",
       "<thead>\n",
       "\t<tr><th></th><th scope=col>X</th><th scope=col>UserName</th><th scope=col>Device</th><th scope=col>ProcessName</th><th scope=col>ParentProcessName</th><th scope=col>DailyCount</th></tr>\n",
       "\t<tr><th></th><th scope=col>&lt;int&gt;</th><th scope=col>&lt;chr&gt;</th><th scope=col>&lt;chr&gt;</th><th scope=col>&lt;chr&gt;</th><th scope=col>&lt;chr&gt;</th><th scope=col>&lt;int&gt;</th></tr>\n",
       "</thead>\n",
       "<tbody>\n",
       "\t<tr><th scope=row>1</th><td>0</td><td>Comp748297$</td><td>Comp748297</td><td>Proc391839.exe</td><td>Proc387473</td><td>1</td></tr>\n",
       "\t<tr><th scope=row>2</th><td>1</td><td>Comp563664$</td><td>Comp563664</td><td>rundll32.exe  </td><td>services  </td><td>1</td></tr>\n",
       "\t<tr><th scope=row>3</th><td>2</td><td>User607396 </td><td>Comp609111</td><td>Proc417435.exe</td><td>Proc417435</td><td>1</td></tr>\n",
       "\t<tr><th scope=row>4</th><td>3</td><td>Comp641702$</td><td>Comp641702</td><td>Proc249569.exe</td><td>services  </td><td>1</td></tr>\n",
       "\t<tr><th scope=row>5</th><td>4</td><td>Comp157389$</td><td>Comp157389</td><td>Proc402696.exe</td><td>services  </td><td>1</td></tr>\n",
       "\t<tr><th scope=row>6</th><td>5</td><td>Comp664825$</td><td>Comp664825</td><td>Proc402696.exe</td><td>services  </td><td>1</td></tr>\n",
       "</tbody>\n",
       "</table>\n"
      ],
      "text/latex": [
       "A data.frame: 6 × 6\n",
       "\\begin{tabular}{r|llllll}\n",
       "  & X & UserName & Device & ProcessName & ParentProcessName & DailyCount\\\\\n",
       "  & <int> & <chr> & <chr> & <chr> & <chr> & <int>\\\\\n",
       "\\hline\n",
       "\t1 & 0 & Comp748297\\$ & Comp748297 & Proc391839.exe & Proc387473 & 1\\\\\n",
       "\t2 & 1 & Comp563664\\$ & Comp563664 & rundll32.exe   & services   & 1\\\\\n",
       "\t3 & 2 & User607396  & Comp609111 & Proc417435.exe & Proc417435 & 1\\\\\n",
       "\t4 & 3 & Comp641702\\$ & Comp641702 & Proc249569.exe & services   & 1\\\\\n",
       "\t5 & 4 & Comp157389\\$ & Comp157389 & Proc402696.exe & services   & 1\\\\\n",
       "\t6 & 5 & Comp664825\\$ & Comp664825 & Proc402696.exe & services   & 1\\\\\n",
       "\\end{tabular}\n"
      ],
      "text/markdown": [
       "\n",
       "A data.frame: 6 × 6\n",
       "\n",
       "| <!--/--> | X &lt;int&gt; | UserName &lt;chr&gt; | Device &lt;chr&gt; | ProcessName &lt;chr&gt; | ParentProcessName &lt;chr&gt; | DailyCount &lt;int&gt; |\n",
       "|---|---|---|---|---|---|---|\n",
       "| 1 | 0 | Comp748297$ | Comp748297 | Proc391839.exe | Proc387473 | 1 |\n",
       "| 2 | 1 | Comp563664$ | Comp563664 | rundll32.exe   | services   | 1 |\n",
       "| 3 | 2 | User607396  | Comp609111 | Proc417435.exe | Proc417435 | 1 |\n",
       "| 4 | 3 | Comp641702$ | Comp641702 | Proc249569.exe | services   | 1 |\n",
       "| 5 | 4 | Comp157389$ | Comp157389 | Proc402696.exe | services   | 1 |\n",
       "| 6 | 5 | Comp664825$ | Comp664825 | Proc402696.exe | services   | 1 |\n",
       "\n"
      ],
      "text/plain": [
       "  X UserName    Device     ProcessName    ParentProcessName DailyCount\n",
       "1 0 Comp748297$ Comp748297 Proc391839.exe Proc387473        1         \n",
       "2 1 Comp563664$ Comp563664 rundll32.exe   services          1         \n",
       "3 2 User607396  Comp609111 Proc417435.exe Proc417435        1         \n",
       "4 3 Comp641702$ Comp641702 Proc249569.exe services          1         \n",
       "5 4 Comp157389$ Comp157389 Proc402696.exe services          1         \n",
       "6 5 Comp664825$ Comp664825 Proc402696.exe services          1         "
      ]
     },
     "metadata": {},
     "output_type": "display_data"
    },
    {
     "data": {
      "text/html": [
       "<table class=\"dataframe\">\n",
       "<caption>A data.frame: 6 × 7</caption>\n",
       "<thead>\n",
       "\t<tr><th></th><th scope=col>X</th><th scope=col>UserName</th><th scope=col>SrcDevice</th><th scope=col>DstDevice</th><th scope=col>Authent.Type</th><th scope=col>Failure</th><th scope=col>DailyCount</th></tr>\n",
       "\t<tr><th></th><th scope=col>&lt;int&gt;</th><th scope=col>&lt;chr&gt;</th><th scope=col>&lt;chr&gt;</th><th scope=col>&lt;chr&gt;</th><th scope=col>&lt;chr&gt;</th><th scope=col>&lt;int&gt;</th><th scope=col>&lt;dbl&gt;</th></tr>\n",
       "</thead>\n",
       "<tbody>\n",
       "\t<tr><th scope=row>1</th><td>0</td><td>User035855 </td><td>Comp808475</td><td>Comp081330         </td><td>TGS         </td><td>0</td><td> 17</td></tr>\n",
       "\t<tr><th scope=row>2</th><td>1</td><td>Comp655251$</td><td>Comp655251</td><td>ActiveDirectory    </td><td>NetworkLogon</td><td>0</td><td>350</td></tr>\n",
       "\t<tr><th scope=row>3</th><td>2</td><td>User762066 </td><td>Comp306129</td><td>ActiveDirectory    </td><td>TGS         </td><td>0</td><td> 22</td></tr>\n",
       "\t<tr><th scope=row>4</th><td>3</td><td>User384215 </td><td>Comp095190</td><td>EnterpriseAppServer</td><td>NetworkLogon</td><td>0</td><td> 35</td></tr>\n",
       "\t<tr><th scope=row>5</th><td>4</td><td>User043263 </td><td>Comp883307</td><td>Comp384394         </td><td>TGS         </td><td>0</td><td>  2</td></tr>\n",
       "\t<tr><th scope=row>6</th><td>5</td><td>User631552 </td><td>Comp621781</td><td>Comp915658         </td><td>NetworkLogon</td><td>0</td><td>  1</td></tr>\n",
       "</tbody>\n",
       "</table>\n"
      ],
      "text/latex": [
       "A data.frame: 6 × 7\n",
       "\\begin{tabular}{r|lllllll}\n",
       "  & X & UserName & SrcDevice & DstDevice & Authent.Type & Failure & DailyCount\\\\\n",
       "  & <int> & <chr> & <chr> & <chr> & <chr> & <int> & <dbl>\\\\\n",
       "\\hline\n",
       "\t1 & 0 & User035855  & Comp808475 & Comp081330          & TGS          & 0 &  17\\\\\n",
       "\t2 & 1 & Comp655251\\$ & Comp655251 & ActiveDirectory     & NetworkLogon & 0 & 350\\\\\n",
       "\t3 & 2 & User762066  & Comp306129 & ActiveDirectory     & TGS          & 0 &  22\\\\\n",
       "\t4 & 3 & User384215  & Comp095190 & EnterpriseAppServer & NetworkLogon & 0 &  35\\\\\n",
       "\t5 & 4 & User043263  & Comp883307 & Comp384394          & TGS          & 0 &   2\\\\\n",
       "\t6 & 5 & User631552  & Comp621781 & Comp915658          & NetworkLogon & 0 &   1\\\\\n",
       "\\end{tabular}\n"
      ],
      "text/markdown": [
       "\n",
       "A data.frame: 6 × 7\n",
       "\n",
       "| <!--/--> | X &lt;int&gt; | UserName &lt;chr&gt; | SrcDevice &lt;chr&gt; | DstDevice &lt;chr&gt; | Authent.Type &lt;chr&gt; | Failure &lt;int&gt; | DailyCount &lt;dbl&gt; |\n",
       "|---|---|---|---|---|---|---|---|\n",
       "| 1 | 0 | User035855  | Comp808475 | Comp081330          | TGS          | 0 |  17 |\n",
       "| 2 | 1 | Comp655251$ | Comp655251 | ActiveDirectory     | NetworkLogon | 0 | 350 |\n",
       "| 3 | 2 | User762066  | Comp306129 | ActiveDirectory     | TGS          | 0 |  22 |\n",
       "| 4 | 3 | User384215  | Comp095190 | EnterpriseAppServer | NetworkLogon | 0 |  35 |\n",
       "| 5 | 4 | User043263  | Comp883307 | Comp384394          | TGS          | 0 |   2 |\n",
       "| 6 | 5 | User631552  | Comp621781 | Comp915658          | NetworkLogon | 0 |   1 |\n",
       "\n"
      ],
      "text/plain": [
       "  X UserName    SrcDevice  DstDevice           Authent.Type Failure DailyCount\n",
       "1 0 User035855  Comp808475 Comp081330          TGS          0        17       \n",
       "2 1 Comp655251$ Comp655251 ActiveDirectory     NetworkLogon 0       350       \n",
       "3 2 User762066  Comp306129 ActiveDirectory     TGS          0        22       \n",
       "4 3 User384215  Comp095190 EnterpriseAppServer NetworkLogon 0        35       \n",
       "5 4 User043263  Comp883307 Comp384394          TGS          0         2       \n",
       "6 5 User631552  Comp621781 Comp915658          NetworkLogon 0         1       "
      ]
     },
     "metadata": {},
     "output_type": "display_data"
    }
   ],
   "source": [
    "head(Proc)\n",
    "head(Auth)"
   ]
  },
  {
   "cell_type": "code",
   "execution_count": 14,
   "id": "866631c8",
   "metadata": {},
   "outputs": [],
   "source": [
    "Proc <- Proc[, -1]\n",
    "Auth <- Auth[, -1]"
   ]
  },
  {
   "cell_type": "code",
   "execution_count": 15,
   "id": "59e0070b",
   "metadata": {},
   "outputs": [
    {
     "data": {
      "text/html": [
       "<table class=\"dataframe\">\n",
       "<caption>A data.frame: 6 × 6</caption>\n",
       "<thead>\n",
       "\t<tr><th></th><th scope=col>UserName</th><th scope=col>SrcDevice</th><th scope=col>DstDevice</th><th scope=col>Authent.Type</th><th scope=col>Failure</th><th scope=col>DailyCount</th></tr>\n",
       "\t<tr><th></th><th scope=col>&lt;chr&gt;</th><th scope=col>&lt;chr&gt;</th><th scope=col>&lt;chr&gt;</th><th scope=col>&lt;chr&gt;</th><th scope=col>&lt;int&gt;</th><th scope=col>&lt;dbl&gt;</th></tr>\n",
       "</thead>\n",
       "<tbody>\n",
       "\t<tr><th scope=row>1</th><td>User035855 </td><td>Comp808475</td><td>Comp081330         </td><td>TGS         </td><td>0</td><td> 17</td></tr>\n",
       "\t<tr><th scope=row>2</th><td>Comp655251$</td><td>Comp655251</td><td>ActiveDirectory    </td><td>NetworkLogon</td><td>0</td><td>350</td></tr>\n",
       "\t<tr><th scope=row>3</th><td>User762066 </td><td>Comp306129</td><td>ActiveDirectory    </td><td>TGS         </td><td>0</td><td> 22</td></tr>\n",
       "\t<tr><th scope=row>4</th><td>User384215 </td><td>Comp095190</td><td>EnterpriseAppServer</td><td>NetworkLogon</td><td>0</td><td> 35</td></tr>\n",
       "\t<tr><th scope=row>5</th><td>User043263 </td><td>Comp883307</td><td>Comp384394         </td><td>TGS         </td><td>0</td><td>  2</td></tr>\n",
       "\t<tr><th scope=row>6</th><td>User631552 </td><td>Comp621781</td><td>Comp915658         </td><td>NetworkLogon</td><td>0</td><td>  1</td></tr>\n",
       "</tbody>\n",
       "</table>\n"
      ],
      "text/latex": [
       "A data.frame: 6 × 6\n",
       "\\begin{tabular}{r|llllll}\n",
       "  & UserName & SrcDevice & DstDevice & Authent.Type & Failure & DailyCount\\\\\n",
       "  & <chr> & <chr> & <chr> & <chr> & <int> & <dbl>\\\\\n",
       "\\hline\n",
       "\t1 & User035855  & Comp808475 & Comp081330          & TGS          & 0 &  17\\\\\n",
       "\t2 & Comp655251\\$ & Comp655251 & ActiveDirectory     & NetworkLogon & 0 & 350\\\\\n",
       "\t3 & User762066  & Comp306129 & ActiveDirectory     & TGS          & 0 &  22\\\\\n",
       "\t4 & User384215  & Comp095190 & EnterpriseAppServer & NetworkLogon & 0 &  35\\\\\n",
       "\t5 & User043263  & Comp883307 & Comp384394          & TGS          & 0 &   2\\\\\n",
       "\t6 & User631552  & Comp621781 & Comp915658          & NetworkLogon & 0 &   1\\\\\n",
       "\\end{tabular}\n"
      ],
      "text/markdown": [
       "\n",
       "A data.frame: 6 × 6\n",
       "\n",
       "| <!--/--> | UserName &lt;chr&gt; | SrcDevice &lt;chr&gt; | DstDevice &lt;chr&gt; | Authent.Type &lt;chr&gt; | Failure &lt;int&gt; | DailyCount &lt;dbl&gt; |\n",
       "|---|---|---|---|---|---|---|\n",
       "| 1 | User035855  | Comp808475 | Comp081330          | TGS          | 0 |  17 |\n",
       "| 2 | Comp655251$ | Comp655251 | ActiveDirectory     | NetworkLogon | 0 | 350 |\n",
       "| 3 | User762066  | Comp306129 | ActiveDirectory     | TGS          | 0 |  22 |\n",
       "| 4 | User384215  | Comp095190 | EnterpriseAppServer | NetworkLogon | 0 |  35 |\n",
       "| 5 | User043263  | Comp883307 | Comp384394          | TGS          | 0 |   2 |\n",
       "| 6 | User631552  | Comp621781 | Comp915658          | NetworkLogon | 0 |   1 |\n",
       "\n"
      ],
      "text/plain": [
       "  UserName    SrcDevice  DstDevice           Authent.Type Failure DailyCount\n",
       "1 User035855  Comp808475 Comp081330          TGS          0        17       \n",
       "2 Comp655251$ Comp655251 ActiveDirectory     NetworkLogon 0       350       \n",
       "3 User762066  Comp306129 ActiveDirectory     TGS          0        22       \n",
       "4 User384215  Comp095190 EnterpriseAppServer NetworkLogon 0        35       \n",
       "5 User043263  Comp883307 Comp384394          TGS          0         2       \n",
       "6 User631552  Comp621781 Comp915658          NetworkLogon 0         1       "
      ]
     },
     "metadata": {},
     "output_type": "display_data"
    },
    {
     "data": {
      "text/html": [
       "<table class=\"dataframe\">\n",
       "<caption>A data.frame: 6 × 5</caption>\n",
       "<thead>\n",
       "\t<tr><th></th><th scope=col>UserName</th><th scope=col>Device</th><th scope=col>ProcessName</th><th scope=col>ParentProcessName</th><th scope=col>DailyCount</th></tr>\n",
       "\t<tr><th></th><th scope=col>&lt;chr&gt;</th><th scope=col>&lt;chr&gt;</th><th scope=col>&lt;chr&gt;</th><th scope=col>&lt;chr&gt;</th><th scope=col>&lt;int&gt;</th></tr>\n",
       "</thead>\n",
       "<tbody>\n",
       "\t<tr><th scope=row>1</th><td>Comp748297$</td><td>Comp748297</td><td>Proc391839.exe</td><td>Proc387473</td><td>1</td></tr>\n",
       "\t<tr><th scope=row>2</th><td>Comp563664$</td><td>Comp563664</td><td>rundll32.exe  </td><td>services  </td><td>1</td></tr>\n",
       "\t<tr><th scope=row>3</th><td>User607396 </td><td>Comp609111</td><td>Proc417435.exe</td><td>Proc417435</td><td>1</td></tr>\n",
       "\t<tr><th scope=row>4</th><td>Comp641702$</td><td>Comp641702</td><td>Proc249569.exe</td><td>services  </td><td>1</td></tr>\n",
       "\t<tr><th scope=row>5</th><td>Comp157389$</td><td>Comp157389</td><td>Proc402696.exe</td><td>services  </td><td>1</td></tr>\n",
       "\t<tr><th scope=row>6</th><td>Comp664825$</td><td>Comp664825</td><td>Proc402696.exe</td><td>services  </td><td>1</td></tr>\n",
       "</tbody>\n",
       "</table>\n"
      ],
      "text/latex": [
       "A data.frame: 6 × 5\n",
       "\\begin{tabular}{r|lllll}\n",
       "  & UserName & Device & ProcessName & ParentProcessName & DailyCount\\\\\n",
       "  & <chr> & <chr> & <chr> & <chr> & <int>\\\\\n",
       "\\hline\n",
       "\t1 & Comp748297\\$ & Comp748297 & Proc391839.exe & Proc387473 & 1\\\\\n",
       "\t2 & Comp563664\\$ & Comp563664 & rundll32.exe   & services   & 1\\\\\n",
       "\t3 & User607396  & Comp609111 & Proc417435.exe & Proc417435 & 1\\\\\n",
       "\t4 & Comp641702\\$ & Comp641702 & Proc249569.exe & services   & 1\\\\\n",
       "\t5 & Comp157389\\$ & Comp157389 & Proc402696.exe & services   & 1\\\\\n",
       "\t6 & Comp664825\\$ & Comp664825 & Proc402696.exe & services   & 1\\\\\n",
       "\\end{tabular}\n"
      ],
      "text/markdown": [
       "\n",
       "A data.frame: 6 × 5\n",
       "\n",
       "| <!--/--> | UserName &lt;chr&gt; | Device &lt;chr&gt; | ProcessName &lt;chr&gt; | ParentProcessName &lt;chr&gt; | DailyCount &lt;int&gt; |\n",
       "|---|---|---|---|---|---|\n",
       "| 1 | Comp748297$ | Comp748297 | Proc391839.exe | Proc387473 | 1 |\n",
       "| 2 | Comp563664$ | Comp563664 | rundll32.exe   | services   | 1 |\n",
       "| 3 | User607396  | Comp609111 | Proc417435.exe | Proc417435 | 1 |\n",
       "| 4 | Comp641702$ | Comp641702 | Proc249569.exe | services   | 1 |\n",
       "| 5 | Comp157389$ | Comp157389 | Proc402696.exe | services   | 1 |\n",
       "| 6 | Comp664825$ | Comp664825 | Proc402696.exe | services   | 1 |\n",
       "\n"
      ],
      "text/plain": [
       "  UserName    Device     ProcessName    ParentProcessName DailyCount\n",
       "1 Comp748297$ Comp748297 Proc391839.exe Proc387473        1         \n",
       "2 Comp563664$ Comp563664 rundll32.exe   services          1         \n",
       "3 User607396  Comp609111 Proc417435.exe Proc417435        1         \n",
       "4 Comp641702$ Comp641702 Proc249569.exe services          1         \n",
       "5 Comp157389$ Comp157389 Proc402696.exe services          1         \n",
       "6 Comp664825$ Comp664825 Proc402696.exe services          1         "
      ]
     },
     "metadata": {},
     "output_type": "display_data"
    }
   ],
   "source": [
    "head(Auth)\n",
    "head(Proc)"
   ]
  },
  {
   "cell_type": "markdown",
   "id": "75662c57",
   "metadata": {},
   "source": [
    "We now isolate the 'Malicious' data by referring only to those usernames which feature in the AU, and the PU lists respectively."
   ]
  },
  {
   "cell_type": "code",
   "execution_count": 16,
   "id": "20ba4cc6",
   "metadata": {},
   "outputs": [
    {
     "data": {
      "text/html": [
       "<style>\n",
       ".list-inline {list-style: none; margin:0; padding: 0}\n",
       ".list-inline>li {display: inline-block}\n",
       ".list-inline>li:not(:last-child)::after {content: \"\\00b7\"; padding: 0 .5ex}\n",
       "</style>\n",
       "<ol class=list-inline><li>151819</li><li>6</li></ol>\n"
      ],
      "text/latex": [
       "\\begin{enumerate*}\n",
       "\\item 151819\n",
       "\\item 6\n",
       "\\end{enumerate*}\n"
      ],
      "text/markdown": [
       "1. 151819\n",
       "2. 6\n",
       "\n",
       "\n"
      ],
      "text/plain": [
       "[1] 151819      6"
      ]
     },
     "metadata": {},
     "output_type": "display_data"
    },
    {
     "data": {
      "text/html": [
       "<style>\n",
       ".list-inline {list-style: none; margin:0; padding: 0}\n",
       ".list-inline>li {display: inline-block}\n",
       ".list-inline>li:not(:last-child)::after {content: \"\\00b7\"; padding: 0 .5ex}\n",
       "</style>\n",
       "<ol class=list-inline><li>230189</li><li>5</li></ol>\n"
      ],
      "text/latex": [
       "\\begin{enumerate*}\n",
       "\\item 230189\n",
       "\\item 5\n",
       "\\end{enumerate*}\n"
      ],
      "text/markdown": [
       "1. 230189\n",
       "2. 5\n",
       "\n",
       "\n"
      ],
      "text/plain": [
       "[1] 230189      5"
      ]
     },
     "metadata": {},
     "output_type": "display_data"
    }
   ],
   "source": [
    "MalAuth <- Auth[Auth$UserName%in%AU, ]\n",
    "MalProc <- Proc[Proc$UserName%in%PU, ]\n",
    "\n",
    "dim(MalAuth)\n",
    "dim(MalProc)"
   ]
  },
  {
   "cell_type": "markdown",
   "id": "0ac29c78",
   "metadata": {},
   "source": [
    "Lastly, we make use of the 'Common' list to identify those actors which move from Auth to Proc carrying on the same credentials:"
   ]
  },
  {
   "cell_type": "code",
   "execution_count": 17,
   "id": "5e6887cb",
   "metadata": {},
   "outputs": [
    {
     "data": {
      "text/html": [
       "<style>\n",
       ".list-inline {list-style: none; margin:0; padding: 0}\n",
       ".list-inline>li {display: inline-block}\n",
       ".list-inline>li:not(:last-child)::after {content: \"\\00b7\"; padding: 0 .5ex}\n",
       "</style>\n",
       "<ol class=list-inline><li>24269</li><li>6</li></ol>\n"
      ],
      "text/latex": [
       "\\begin{enumerate*}\n",
       "\\item 24269\n",
       "\\item 6\n",
       "\\end{enumerate*}\n"
      ],
      "text/markdown": [
       "1. 24269\n",
       "2. 6\n",
       "\n",
       "\n"
      ],
      "text/plain": [
       "[1] 24269     6"
      ]
     },
     "metadata": {},
     "output_type": "display_data"
    },
    {
     "data": {
      "text/html": [
       "<style>\n",
       ".list-inline {list-style: none; margin:0; padding: 0}\n",
       ".list-inline>li {display: inline-block}\n",
       ".list-inline>li:not(:last-child)::after {content: \"\\00b7\"; padding: 0 .5ex}\n",
       "</style>\n",
       "<ol class=list-inline><li>35092</li><li>5</li></ol>\n"
      ],
      "text/latex": [
       "\\begin{enumerate*}\n",
       "\\item 35092\n",
       "\\item 5\n",
       "\\end{enumerate*}\n"
      ],
      "text/markdown": [
       "1. 35092\n",
       "2. 5\n",
       "\n",
       "\n"
      ],
      "text/plain": [
       "[1] 35092     5"
      ]
     },
     "metadata": {},
     "output_type": "display_data"
    }
   ],
   "source": [
    "CommAuth <- Auth[Auth$UserName%in%Common, ]\n",
    "CommProc <- Proc[Proc$UserName%in%Common, ]\n",
    "\n",
    "dim(CommAuth)\n",
    "dim(CommProc)"
   ]
  },
  {
   "cell_type": "code",
   "execution_count": 19,
   "id": "d608023b-3c2d-4757-86a1-1be4ae3ae72d",
   "metadata": {},
   "outputs": [
    {
     "data": {
      "text/html": [
       "<table class=\"dataframe\">\n",
       "<caption>A data.frame: 6 × 6</caption>\n",
       "<thead>\n",
       "\t<tr><th></th><th scope=col>UserName</th><th scope=col>SrcDevice</th><th scope=col>DstDevice</th><th scope=col>Authent.Type</th><th scope=col>Failure</th><th scope=col>DailyCount</th></tr>\n",
       "\t<tr><th></th><th scope=col>&lt;chr&gt;</th><th scope=col>&lt;chr&gt;</th><th scope=col>&lt;chr&gt;</th><th scope=col>&lt;chr&gt;</th><th scope=col>&lt;int&gt;</th><th scope=col>&lt;dbl&gt;</th></tr>\n",
       "</thead>\n",
       "<tbody>\n",
       "\t<tr><th scope=row>129</th><td>AppService</td><td>EnterpriseAppServer</td><td>Comp947445     </td><td>TGS            </td><td>0</td><td>     2</td></tr>\n",
       "\t<tr><th scope=row>468</th><td>User871458</td><td>Comp273168         </td><td>Comp273168     </td><td>TGS            </td><td>0</td><td>     6</td></tr>\n",
       "\t<tr><th scope=row>584</th><td>User882755</td><td>Comp599337         </td><td>ActiveDirectory</td><td>TGS            </td><td>0</td><td>    51</td></tr>\n",
       "\t<tr><th scope=row>764</th><td>User718825</td><td>Comp544870         </td><td>Comp370444     </td><td>NetworkLogon   </td><td>0</td><td>    25</td></tr>\n",
       "\t<tr><th scope=row>903</th><td>User538831</td><td>Comp277798         </td><td>None           </td><td>WorkstationLock</td><td>0</td><td>     1</td></tr>\n",
       "\t<tr><th scope=row>1018</th><td>AppService</td><td>Comp894088         </td><td>Comp698972     </td><td>NetworkLogon   </td><td>0</td><td>110063</td></tr>\n",
       "</tbody>\n",
       "</table>\n"
      ],
      "text/latex": [
       "A data.frame: 6 × 6\n",
       "\\begin{tabular}{r|llllll}\n",
       "  & UserName & SrcDevice & DstDevice & Authent.Type & Failure & DailyCount\\\\\n",
       "  & <chr> & <chr> & <chr> & <chr> & <int> & <dbl>\\\\\n",
       "\\hline\n",
       "\t129 & AppService & EnterpriseAppServer & Comp947445      & TGS             & 0 &      2\\\\\n",
       "\t468 & User871458 & Comp273168          & Comp273168      & TGS             & 0 &      6\\\\\n",
       "\t584 & User882755 & Comp599337          & ActiveDirectory & TGS             & 0 &     51\\\\\n",
       "\t764 & User718825 & Comp544870          & Comp370444      & NetworkLogon    & 0 &     25\\\\\n",
       "\t903 & User538831 & Comp277798          & None            & WorkstationLock & 0 &      1\\\\\n",
       "\t1018 & AppService & Comp894088          & Comp698972      & NetworkLogon    & 0 & 110063\\\\\n",
       "\\end{tabular}\n"
      ],
      "text/markdown": [
       "\n",
       "A data.frame: 6 × 6\n",
       "\n",
       "| <!--/--> | UserName &lt;chr&gt; | SrcDevice &lt;chr&gt; | DstDevice &lt;chr&gt; | Authent.Type &lt;chr&gt; | Failure &lt;int&gt; | DailyCount &lt;dbl&gt; |\n",
       "|---|---|---|---|---|---|---|\n",
       "| 129 | AppService | EnterpriseAppServer | Comp947445      | TGS             | 0 |      2 |\n",
       "| 468 | User871458 | Comp273168          | Comp273168      | TGS             | 0 |      6 |\n",
       "| 584 | User882755 | Comp599337          | ActiveDirectory | TGS             | 0 |     51 |\n",
       "| 764 | User718825 | Comp544870          | Comp370444      | NetworkLogon    | 0 |     25 |\n",
       "| 903 | User538831 | Comp277798          | None            | WorkstationLock | 0 |      1 |\n",
       "| 1018 | AppService | Comp894088          | Comp698972      | NetworkLogon    | 0 | 110063 |\n",
       "\n"
      ],
      "text/plain": [
       "     UserName   SrcDevice           DstDevice       Authent.Type    Failure\n",
       "129  AppService EnterpriseAppServer Comp947445      TGS             0      \n",
       "468  User871458 Comp273168          Comp273168      TGS             0      \n",
       "584  User882755 Comp599337          ActiveDirectory TGS             0      \n",
       "764  User718825 Comp544870          Comp370444      NetworkLogon    0      \n",
       "903  User538831 Comp277798          None            WorkstationLock 0      \n",
       "1018 AppService Comp894088          Comp698972      NetworkLogon    0      \n",
       "     DailyCount\n",
       "129       2    \n",
       "468       6    \n",
       "584      51    \n",
       "764      25    \n",
       "903       1    \n",
       "1018 110063    "
      ]
     },
     "metadata": {},
     "output_type": "display_data"
    },
    {
     "data": {
      "text/html": [
       "<table class=\"dataframe\">\n",
       "<caption>A data.frame: 6 × 5</caption>\n",
       "<thead>\n",
       "\t<tr><th></th><th scope=col>UserName</th><th scope=col>Device</th><th scope=col>ProcessName</th><th scope=col>ParentProcessName</th><th scope=col>DailyCount</th></tr>\n",
       "\t<tr><th></th><th scope=col>&lt;chr&gt;</th><th scope=col>&lt;chr&gt;</th><th scope=col>&lt;chr&gt;</th><th scope=col>&lt;chr&gt;</th><th scope=col>&lt;int&gt;</th></tr>\n",
       "</thead>\n",
       "<tbody>\n",
       "\t<tr><th scope=row>63</th><td>ActiveDirectory$    </td><td>ActiveDirectory    </td><td>Proc536347.exe</td><td>services  </td><td>  7</td></tr>\n",
       "\t<tr><th scope=row>263</th><td>User200830          </td><td>Comp258078         </td><td>Proc363817.exe</td><td>Proc363817</td><td>  6</td></tr>\n",
       "\t<tr><th scope=row>628</th><td>EnterpriseAppServer$</td><td>EnterpriseAppServer</td><td>Proc266252.exe</td><td>services  </td><td>  2</td></tr>\n",
       "\t<tr><th scope=row>1114</th><td>Comp697805$         </td><td>Comp697805         </td><td>wmiprvse.exe  </td><td>svchost   </td><td>219</td></tr>\n",
       "\t<tr><th scope=row>1787</th><td>EnterpriseAppServer$</td><td>EnterpriseAppServer</td><td>Proc595451.exe</td><td>svchost   </td><td> 14</td></tr>\n",
       "\t<tr><th scope=row>2126</th><td>Comp939275$         </td><td>Comp939275         </td><td>Proc676117.exe</td><td>svchost   </td><td>  3</td></tr>\n",
       "</tbody>\n",
       "</table>\n"
      ],
      "text/latex": [
       "A data.frame: 6 × 5\n",
       "\\begin{tabular}{r|lllll}\n",
       "  & UserName & Device & ProcessName & ParentProcessName & DailyCount\\\\\n",
       "  & <chr> & <chr> & <chr> & <chr> & <int>\\\\\n",
       "\\hline\n",
       "\t63 & ActiveDirectory\\$     & ActiveDirectory     & Proc536347.exe & services   &   7\\\\\n",
       "\t263 & User200830           & Comp258078          & Proc363817.exe & Proc363817 &   6\\\\\n",
       "\t628 & EnterpriseAppServer\\$ & EnterpriseAppServer & Proc266252.exe & services   &   2\\\\\n",
       "\t1114 & Comp697805\\$          & Comp697805          & wmiprvse.exe   & svchost    & 219\\\\\n",
       "\t1787 & EnterpriseAppServer\\$ & EnterpriseAppServer & Proc595451.exe & svchost    &  14\\\\\n",
       "\t2126 & Comp939275\\$          & Comp939275          & Proc676117.exe & svchost    &   3\\\\\n",
       "\\end{tabular}\n"
      ],
      "text/markdown": [
       "\n",
       "A data.frame: 6 × 5\n",
       "\n",
       "| <!--/--> | UserName &lt;chr&gt; | Device &lt;chr&gt; | ProcessName &lt;chr&gt; | ParentProcessName &lt;chr&gt; | DailyCount &lt;int&gt; |\n",
       "|---|---|---|---|---|---|\n",
       "| 63 | ActiveDirectory$     | ActiveDirectory     | Proc536347.exe | services   |   7 |\n",
       "| 263 | User200830           | Comp258078          | Proc363817.exe | Proc363817 |   6 |\n",
       "| 628 | EnterpriseAppServer$ | EnterpriseAppServer | Proc266252.exe | services   |   2 |\n",
       "| 1114 | Comp697805$          | Comp697805          | wmiprvse.exe   | svchost    | 219 |\n",
       "| 1787 | EnterpriseAppServer$ | EnterpriseAppServer | Proc595451.exe | svchost    |  14 |\n",
       "| 2126 | Comp939275$          | Comp939275          | Proc676117.exe | svchost    |   3 |\n",
       "\n"
      ],
      "text/plain": [
       "     UserName             Device              ProcessName    ParentProcessName\n",
       "63   ActiveDirectory$     ActiveDirectory     Proc536347.exe services         \n",
       "263  User200830           Comp258078          Proc363817.exe Proc363817       \n",
       "628  EnterpriseAppServer$ EnterpriseAppServer Proc266252.exe services         \n",
       "1114 Comp697805$          Comp697805          wmiprvse.exe   svchost          \n",
       "1787 EnterpriseAppServer$ EnterpriseAppServer Proc595451.exe svchost          \n",
       "2126 Comp939275$          Comp939275          Proc676117.exe svchost          \n",
       "     DailyCount\n",
       "63     7       \n",
       "263    6       \n",
       "628    2       \n",
       "1114 219       \n",
       "1787  14       \n",
       "2126   3       "
      ]
     },
     "metadata": {},
     "output_type": "display_data"
    }
   ],
   "source": [
    "head(MalAuth)\n",
    "head(MalProc)"
   ]
  },
  {
   "cell_type": "code",
   "execution_count": 20,
   "id": "317a600b-adf1-4cfb-b40c-c3ad4a3f9047",
   "metadata": {},
   "outputs": [
    {
     "data": {
      "text/html": [
       "<table class=\"dataframe\">\n",
       "<caption>A data.frame: 6 × 6</caption>\n",
       "<thead>\n",
       "\t<tr><th></th><th scope=col>UserName</th><th scope=col>SrcDevice</th><th scope=col>DstDevice</th><th scope=col>Authent.Type</th><th scope=col>Failure</th><th scope=col>DailyCount</th></tr>\n",
       "\t<tr><th></th><th scope=col>&lt;chr&gt;</th><th scope=col>&lt;chr&gt;</th><th scope=col>&lt;chr&gt;</th><th scope=col>&lt;chr&gt;</th><th scope=col>&lt;int&gt;</th><th scope=col>&lt;dbl&gt;</th></tr>\n",
       "</thead>\n",
       "<tbody>\n",
       "\t<tr><th scope=row>129</th><td>AppService </td><td>EnterpriseAppServer</td><td>Comp947445     </td><td>TGS         </td><td>0</td><td>     2</td></tr>\n",
       "\t<tr><th scope=row>1018</th><td>AppService </td><td>Comp894088         </td><td>Comp698972     </td><td>NetworkLogon</td><td>0</td><td>110063</td></tr>\n",
       "\t<tr><th scope=row>2602</th><td>AppService </td><td>Comp154659         </td><td>None           </td><td>Batch       </td><td>0</td><td>     2</td></tr>\n",
       "\t<tr><th scope=row>2831</th><td>AppService </td><td>Comp093748         </td><td>ActiveDirectory</td><td>TGS         </td><td>0</td><td>     4</td></tr>\n",
       "\t<tr><th scope=row>4573</th><td>User317732 </td><td>Comp380829         </td><td>Comp995183     </td><td>NetworkLogon</td><td>0</td><td>     1</td></tr>\n",
       "\t<tr><th scope=row>4810</th><td>Comp939275$</td><td>Comp939275         </td><td>Comp239094     </td><td>TGS         </td><td>0</td><td>     3</td></tr>\n",
       "</tbody>\n",
       "</table>\n"
      ],
      "text/latex": [
       "A data.frame: 6 × 6\n",
       "\\begin{tabular}{r|llllll}\n",
       "  & UserName & SrcDevice & DstDevice & Authent.Type & Failure & DailyCount\\\\\n",
       "  & <chr> & <chr> & <chr> & <chr> & <int> & <dbl>\\\\\n",
       "\\hline\n",
       "\t129 & AppService  & EnterpriseAppServer & Comp947445      & TGS          & 0 &      2\\\\\n",
       "\t1018 & AppService  & Comp894088          & Comp698972      & NetworkLogon & 0 & 110063\\\\\n",
       "\t2602 & AppService  & Comp154659          & None            & Batch        & 0 &      2\\\\\n",
       "\t2831 & AppService  & Comp093748          & ActiveDirectory & TGS          & 0 &      4\\\\\n",
       "\t4573 & User317732  & Comp380829          & Comp995183      & NetworkLogon & 0 &      1\\\\\n",
       "\t4810 & Comp939275\\$ & Comp939275          & Comp239094      & TGS          & 0 &      3\\\\\n",
       "\\end{tabular}\n"
      ],
      "text/markdown": [
       "\n",
       "A data.frame: 6 × 6\n",
       "\n",
       "| <!--/--> | UserName &lt;chr&gt; | SrcDevice &lt;chr&gt; | DstDevice &lt;chr&gt; | Authent.Type &lt;chr&gt; | Failure &lt;int&gt; | DailyCount &lt;dbl&gt; |\n",
       "|---|---|---|---|---|---|---|\n",
       "| 129 | AppService  | EnterpriseAppServer | Comp947445      | TGS          | 0 |      2 |\n",
       "| 1018 | AppService  | Comp894088          | Comp698972      | NetworkLogon | 0 | 110063 |\n",
       "| 2602 | AppService  | Comp154659          | None            | Batch        | 0 |      2 |\n",
       "| 2831 | AppService  | Comp093748          | ActiveDirectory | TGS          | 0 |      4 |\n",
       "| 4573 | User317732  | Comp380829          | Comp995183      | NetworkLogon | 0 |      1 |\n",
       "| 4810 | Comp939275$ | Comp939275          | Comp239094      | TGS          | 0 |      3 |\n",
       "\n"
      ],
      "text/plain": [
       "     UserName    SrcDevice           DstDevice       Authent.Type Failure\n",
       "129  AppService  EnterpriseAppServer Comp947445      TGS          0      \n",
       "1018 AppService  Comp894088          Comp698972      NetworkLogon 0      \n",
       "2602 AppService  Comp154659          None            Batch        0      \n",
       "2831 AppService  Comp093748          ActiveDirectory TGS          0      \n",
       "4573 User317732  Comp380829          Comp995183      NetworkLogon 0      \n",
       "4810 Comp939275$ Comp939275          Comp239094      TGS          0      \n",
       "     DailyCount\n",
       "129       2    \n",
       "1018 110063    \n",
       "2602      2    \n",
       "2831      4    \n",
       "4573      1    \n",
       "4810      3    "
      ]
     },
     "metadata": {},
     "output_type": "display_data"
    },
    {
     "data": {
      "text/html": [
       "<table class=\"dataframe\">\n",
       "<caption>A data.frame: 6 × 5</caption>\n",
       "<thead>\n",
       "\t<tr><th></th><th scope=col>UserName</th><th scope=col>Device</th><th scope=col>ProcessName</th><th scope=col>ParentProcessName</th><th scope=col>DailyCount</th></tr>\n",
       "\t<tr><th></th><th scope=col>&lt;chr&gt;</th><th scope=col>&lt;chr&gt;</th><th scope=col>&lt;chr&gt;</th><th scope=col>&lt;chr&gt;</th><th scope=col>&lt;int&gt;</th></tr>\n",
       "</thead>\n",
       "<tbody>\n",
       "\t<tr><th scope=row>2126</th><td>Comp939275$</td><td>Comp939275         </td><td>Proc676117.exe</td><td>svchost   </td><td> 3</td></tr>\n",
       "\t<tr><th scope=row>2991</th><td>Comp939275$</td><td>Comp939275         </td><td>Proc955947.exe</td><td>services  </td><td> 1</td></tr>\n",
       "\t<tr><th scope=row>7325</th><td>AppService </td><td>Comp888702         </td><td>Proc412499.exe</td><td>Proc811977</td><td> 1</td></tr>\n",
       "\t<tr><th scope=row>8502</th><td>User317732 </td><td>Comp380829         </td><td>Proc412499.exe</td><td>Proc003494</td><td>14</td></tr>\n",
       "\t<tr><th scope=row>8965</th><td>Comp289117$</td><td>Comp289117         </td><td>conhost.exe   </td><td>csrss     </td><td>58</td></tr>\n",
       "\t<tr><th scope=row>9154</th><td>AppService </td><td>EnterpriseAppServer</td><td>Proc412499.exe</td><td>Proc796467</td><td> 4</td></tr>\n",
       "</tbody>\n",
       "</table>\n"
      ],
      "text/latex": [
       "A data.frame: 6 × 5\n",
       "\\begin{tabular}{r|lllll}\n",
       "  & UserName & Device & ProcessName & ParentProcessName & DailyCount\\\\\n",
       "  & <chr> & <chr> & <chr> & <chr> & <int>\\\\\n",
       "\\hline\n",
       "\t2126 & Comp939275\\$ & Comp939275          & Proc676117.exe & svchost    &  3\\\\\n",
       "\t2991 & Comp939275\\$ & Comp939275          & Proc955947.exe & services   &  1\\\\\n",
       "\t7325 & AppService  & Comp888702          & Proc412499.exe & Proc811977 &  1\\\\\n",
       "\t8502 & User317732  & Comp380829          & Proc412499.exe & Proc003494 & 14\\\\\n",
       "\t8965 & Comp289117\\$ & Comp289117          & conhost.exe    & csrss      & 58\\\\\n",
       "\t9154 & AppService  & EnterpriseAppServer & Proc412499.exe & Proc796467 &  4\\\\\n",
       "\\end{tabular}\n"
      ],
      "text/markdown": [
       "\n",
       "A data.frame: 6 × 5\n",
       "\n",
       "| <!--/--> | UserName &lt;chr&gt; | Device &lt;chr&gt; | ProcessName &lt;chr&gt; | ParentProcessName &lt;chr&gt; | DailyCount &lt;int&gt; |\n",
       "|---|---|---|---|---|---|\n",
       "| 2126 | Comp939275$ | Comp939275          | Proc676117.exe | svchost    |  3 |\n",
       "| 2991 | Comp939275$ | Comp939275          | Proc955947.exe | services   |  1 |\n",
       "| 7325 | AppService  | Comp888702          | Proc412499.exe | Proc811977 |  1 |\n",
       "| 8502 | User317732  | Comp380829          | Proc412499.exe | Proc003494 | 14 |\n",
       "| 8965 | Comp289117$ | Comp289117          | conhost.exe    | csrss      | 58 |\n",
       "| 9154 | AppService  | EnterpriseAppServer | Proc412499.exe | Proc796467 |  4 |\n",
       "\n"
      ],
      "text/plain": [
       "     UserName    Device              ProcessName    ParentProcessName\n",
       "2126 Comp939275$ Comp939275          Proc676117.exe svchost          \n",
       "2991 Comp939275$ Comp939275          Proc955947.exe services         \n",
       "7325 AppService  Comp888702          Proc412499.exe Proc811977       \n",
       "8502 User317732  Comp380829          Proc412499.exe Proc003494       \n",
       "8965 Comp289117$ Comp289117          conhost.exe    csrss            \n",
       "9154 AppService  EnterpriseAppServer Proc412499.exe Proc796467       \n",
       "     DailyCount\n",
       "2126  3        \n",
       "2991  1        \n",
       "7325  1        \n",
       "8502 14        \n",
       "8965 58        \n",
       "9154  4        "
      ]
     },
     "metadata": {},
     "output_type": "display_data"
    }
   ],
   "source": [
    "head(CommAuth)\n",
    "head(CommProc)"
   ]
  },
  {
   "cell_type": "markdown",
   "id": "1d30cf02",
   "metadata": {},
   "source": [
    "We'll change all factors to characters so that we can work with them, and then evaluate the tables of our results regarding the common usernames between the two datasets:"
   ]
  },
  {
   "cell_type": "code",
   "execution_count": 21,
   "id": "c69d2d14",
   "metadata": {},
   "outputs": [],
   "source": [
    "CommAuth %>% mutate(across(where(is.factor), as.character)) -> CommAuth\n",
    "CommProc %>% mutate(across(where(is.factor), as.character)) -> CommProc\n",
    "MalAuth %>% mutate(across(where(is.factor), as.character)) -> MalAuth\n",
    "MalProc %>% mutate(across(where(is.factor), as.character)) -> MalProc"
   ]
  },
  {
   "cell_type": "code",
   "execution_count": 22,
   "id": "4e6e67a2-6304-413d-bc42-d59f5c732436",
   "metadata": {},
   "outputs": [
    {
     "data": {
      "text/html": [
       "<table class=\"dataframe\">\n",
       "<caption>A data.frame: 6 × 6</caption>\n",
       "<thead>\n",
       "\t<tr><th></th><th scope=col>UserName</th><th scope=col>SrcDevice</th><th scope=col>DstDevice</th><th scope=col>Authent.Type</th><th scope=col>Failure</th><th scope=col>DailyCount</th></tr>\n",
       "\t<tr><th></th><th scope=col>&lt;chr&gt;</th><th scope=col>&lt;chr&gt;</th><th scope=col>&lt;chr&gt;</th><th scope=col>&lt;chr&gt;</th><th scope=col>&lt;int&gt;</th><th scope=col>&lt;dbl&gt;</th></tr>\n",
       "</thead>\n",
       "<tbody>\n",
       "\t<tr><th scope=row>129</th><td>AppService </td><td>EnterpriseAppServer</td><td>Comp947445     </td><td>TGS         </td><td>0</td><td>     2</td></tr>\n",
       "\t<tr><th scope=row>1018</th><td>AppService </td><td>Comp894088         </td><td>Comp698972     </td><td>NetworkLogon</td><td>0</td><td>110063</td></tr>\n",
       "\t<tr><th scope=row>2602</th><td>AppService </td><td>Comp154659         </td><td>None           </td><td>Batch       </td><td>0</td><td>     2</td></tr>\n",
       "\t<tr><th scope=row>2831</th><td>AppService </td><td>Comp093748         </td><td>ActiveDirectory</td><td>TGS         </td><td>0</td><td>     4</td></tr>\n",
       "\t<tr><th scope=row>4573</th><td>User317732 </td><td>Comp380829         </td><td>Comp995183     </td><td>NetworkLogon</td><td>0</td><td>     1</td></tr>\n",
       "\t<tr><th scope=row>4810</th><td>Comp939275$</td><td>Comp939275         </td><td>Comp239094     </td><td>TGS         </td><td>0</td><td>     3</td></tr>\n",
       "</tbody>\n",
       "</table>\n"
      ],
      "text/latex": [
       "A data.frame: 6 × 6\n",
       "\\begin{tabular}{r|llllll}\n",
       "  & UserName & SrcDevice & DstDevice & Authent.Type & Failure & DailyCount\\\\\n",
       "  & <chr> & <chr> & <chr> & <chr> & <int> & <dbl>\\\\\n",
       "\\hline\n",
       "\t129 & AppService  & EnterpriseAppServer & Comp947445      & TGS          & 0 &      2\\\\\n",
       "\t1018 & AppService  & Comp894088          & Comp698972      & NetworkLogon & 0 & 110063\\\\\n",
       "\t2602 & AppService  & Comp154659          & None            & Batch        & 0 &      2\\\\\n",
       "\t2831 & AppService  & Comp093748          & ActiveDirectory & TGS          & 0 &      4\\\\\n",
       "\t4573 & User317732  & Comp380829          & Comp995183      & NetworkLogon & 0 &      1\\\\\n",
       "\t4810 & Comp939275\\$ & Comp939275          & Comp239094      & TGS          & 0 &      3\\\\\n",
       "\\end{tabular}\n"
      ],
      "text/markdown": [
       "\n",
       "A data.frame: 6 × 6\n",
       "\n",
       "| <!--/--> | UserName &lt;chr&gt; | SrcDevice &lt;chr&gt; | DstDevice &lt;chr&gt; | Authent.Type &lt;chr&gt; | Failure &lt;int&gt; | DailyCount &lt;dbl&gt; |\n",
       "|---|---|---|---|---|---|---|\n",
       "| 129 | AppService  | EnterpriseAppServer | Comp947445      | TGS          | 0 |      2 |\n",
       "| 1018 | AppService  | Comp894088          | Comp698972      | NetworkLogon | 0 | 110063 |\n",
       "| 2602 | AppService  | Comp154659          | None            | Batch        | 0 |      2 |\n",
       "| 2831 | AppService  | Comp093748          | ActiveDirectory | TGS          | 0 |      4 |\n",
       "| 4573 | User317732  | Comp380829          | Comp995183      | NetworkLogon | 0 |      1 |\n",
       "| 4810 | Comp939275$ | Comp939275          | Comp239094      | TGS          | 0 |      3 |\n",
       "\n"
      ],
      "text/plain": [
       "     UserName    SrcDevice           DstDevice       Authent.Type Failure\n",
       "129  AppService  EnterpriseAppServer Comp947445      TGS          0      \n",
       "1018 AppService  Comp894088          Comp698972      NetworkLogon 0      \n",
       "2602 AppService  Comp154659          None            Batch        0      \n",
       "2831 AppService  Comp093748          ActiveDirectory TGS          0      \n",
       "4573 User317732  Comp380829          Comp995183      NetworkLogon 0      \n",
       "4810 Comp939275$ Comp939275          Comp239094      TGS          0      \n",
       "     DailyCount\n",
       "129       2    \n",
       "1018 110063    \n",
       "2602      2    \n",
       "2831      4    \n",
       "4573      1    \n",
       "4810      3    "
      ]
     },
     "metadata": {},
     "output_type": "display_data"
    }
   ],
   "source": [
    "head(CommAuth)"
   ]
  },
  {
   "cell_type": "code",
   "execution_count": 23,
   "id": "03e1b23e",
   "metadata": {},
   "outputs": [
    {
     "data": {
      "text/plain": [
       "\n",
       " User179746  User794682 Comp289117$  User317732  User203147 Comp939275$ \n",
       "         57         165         488        1328        1414        2072 \n",
       " User110290  AppService \n",
       "       2954       15791 "
      ]
     },
     "metadata": {},
     "output_type": "display_data"
    },
    {
     "name": "stdout",
     "output_type": "stream",
     "text": [
      "\n"
     ]
    },
    {
     "data": {
      "text/plain": [
       "\n",
       " User179746  User794682  User317732  User110290 Comp289117$  User203147 \n",
       "        188         582        1437        2423        3224        4672 \n",
       "Comp939275$  AppService \n",
       "       4891       17675 "
      ]
     },
     "metadata": {},
     "output_type": "display_data"
    }
   ],
   "source": [
    "table(CommAuth$UserName)[order(table(CommAuth$UserName))]\n",
    "cat(\"\\n\")\n",
    "table(CommProc$UserName)[order(table(CommProc$UserName))]"
   ]
  },
  {
   "cell_type": "markdown",
   "id": "b6b672c0",
   "metadata": {},
   "source": [
    "Lastly, let's visualise our results:"
   ]
  },
  {
   "cell_type": "code",
   "execution_count": 24,
   "id": "48ec40e1",
   "metadata": {},
   "outputs": [
    {
     "data": {
      "image/png": "[encoded data removed]",
      "text/plain": [
       "Plot with title \"Common Proc Users\""
      ]
     },
     "metadata": {
      "image/png": {
       "height": 420,
       "width": 420
      }
     },
     "output_type": "display_data"
    }
   ],
   "source": [
    "op <- par(mfrow=c(1,2))\n",
    "pie3D(table(CommAuth$UserName)[order(table(CommAuth$UserName), decreasing=TRUE)], col=rainbow(8), main=\"Common Auth Users\", explode=0.7)\n",
    "pie3D(table(CommProc$UserName)[order(table(CommProc$UserName), decreasing=TRUE)], col=rainbow(8), main=\"Common Proc Users\", explode=0.7)\n",
    "par(op)"
   ]
  },
  {
   "cell_type": "markdown",
   "id": "f43d39cd",
   "metadata": {},
   "source": [
    "### Section 2: Case-by-case analysis of common usernames"
   ]
  },
  {
   "cell_type": "markdown",
   "id": "c9ac1838",
   "metadata": {},
   "source": [
    "## User179746"
   ]
  },
  {
   "cell_type": "markdown",
   "id": "a0dbbd13",
   "metadata": {},
   "source": [
    "We'll use this username as our testing ground for developing a method for analysis. We do know what we want to obtain off it, which is identifying to some degree of confidence what stage of the kill chain would the attacks be placed into. We note that we'll have to accept some degree of false positives in the process, but hopefully not so much so that they'll hinder our conclusions. The verdict placing the attack into one or more potential stages of the killchain is expressed at the end of each analysis with the following degrees of certainty:\n",
    "\n",
    "- _Very likely_: I strongly believe this is the case, though there is no path to absolute certainty yet.\n",
    "\n",
    "- _Quite likely_: I believe this is the case, though some doubts based on lack of sufficient data or competing views emerged.\n",
    "\n",
    "- _Somewhat likely_: There is a chance that this is the case provided our analysis, though more work is encouraged.\n",
    "\n",
    "- _Little likely_: It's hopefully better than guessing that this is the case, though a vast amount of speculation is involved in drawing this conclusion.\n",
    "\n"
   ]
  },
  {
   "cell_type": "code",
   "execution_count": 25,
   "id": "539546e2",
   "metadata": {},
   "outputs": [
    {
     "data": {
      "text/html": [
       "<table class=\"dataframe\">\n",
       "<caption>A data.frame: 6 × 6</caption>\n",
       "<thead>\n",
       "\t<tr><th></th><th scope=col>UserName</th><th scope=col>SrcDevice</th><th scope=col>DstDevice</th><th scope=col>Authent.Type</th><th scope=col>Failure</th><th scope=col>DailyCount</th></tr>\n",
       "\t<tr><th></th><th scope=col>&lt;chr&gt;</th><th scope=col>&lt;chr&gt;</th><th scope=col>&lt;chr&gt;</th><th scope=col>&lt;chr&gt;</th><th scope=col>&lt;int&gt;</th><th scope=col>&lt;dbl&gt;</th></tr>\n",
       "</thead>\n",
       "<tbody>\n",
       "\t<tr><th scope=row>2309303</th><td>User179746</td><td>Comp599155</td><td>None           </td><td>InteractiveLogon </td><td>0</td><td>2</td></tr>\n",
       "\t<tr><th scope=row>6027757</th><td>User179746</td><td>Comp599155</td><td>None           </td><td>InteractiveLogon </td><td>0</td><td>2</td></tr>\n",
       "\t<tr><th scope=row>6889517</th><td>User179746</td><td>Comp599155</td><td>None           </td><td>InteractiveLogon </td><td>0</td><td>2</td></tr>\n",
       "\t<tr><th scope=row>9667214</th><td>User179746</td><td>Comp679250</td><td>Comp599155     </td><td>NetworkLogon     </td><td>0</td><td>8</td></tr>\n",
       "\t<tr><th scope=row>9672243</th><td>User179746</td><td>Comp547871</td><td>ActiveDirectory</td><td>NetworkLogon     </td><td>1</td><td>1</td></tr>\n",
       "\t<tr><th scope=row>9727819</th><td>User179746</td><td>Comp679250</td><td>Comp599155     </td><td>RemoteInteractive</td><td>0</td><td>8</td></tr>\n",
       "</tbody>\n",
       "</table>\n"
      ],
      "text/latex": [
       "A data.frame: 6 × 6\n",
       "\\begin{tabular}{r|llllll}\n",
       "  & UserName & SrcDevice & DstDevice & Authent.Type & Failure & DailyCount\\\\\n",
       "  & <chr> & <chr> & <chr> & <chr> & <int> & <dbl>\\\\\n",
       "\\hline\n",
       "\t2309303 & User179746 & Comp599155 & None            & InteractiveLogon  & 0 & 2\\\\\n",
       "\t6027757 & User179746 & Comp599155 & None            & InteractiveLogon  & 0 & 2\\\\\n",
       "\t6889517 & User179746 & Comp599155 & None            & InteractiveLogon  & 0 & 2\\\\\n",
       "\t9667214 & User179746 & Comp679250 & Comp599155      & NetworkLogon      & 0 & 8\\\\\n",
       "\t9672243 & User179746 & Comp547871 & ActiveDirectory & NetworkLogon      & 1 & 1\\\\\n",
       "\t9727819 & User179746 & Comp679250 & Comp599155      & RemoteInteractive & 0 & 8\\\\\n",
       "\\end{tabular}\n"
      ],
      "text/markdown": [
       "\n",
       "A data.frame: 6 × 6\n",
       "\n",
       "| <!--/--> | UserName &lt;chr&gt; | SrcDevice &lt;chr&gt; | DstDevice &lt;chr&gt; | Authent.Type &lt;chr&gt; | Failure &lt;int&gt; | DailyCount &lt;dbl&gt; |\n",
       "|---|---|---|---|---|---|---|\n",
       "| 2309303 | User179746 | Comp599155 | None            | InteractiveLogon  | 0 | 2 |\n",
       "| 6027757 | User179746 | Comp599155 | None            | InteractiveLogon  | 0 | 2 |\n",
       "| 6889517 | User179746 | Comp599155 | None            | InteractiveLogon  | 0 | 2 |\n",
       "| 9667214 | User179746 | Comp679250 | Comp599155      | NetworkLogon      | 0 | 8 |\n",
       "| 9672243 | User179746 | Comp547871 | ActiveDirectory | NetworkLogon      | 1 | 1 |\n",
       "| 9727819 | User179746 | Comp679250 | Comp599155      | RemoteInteractive | 0 | 8 |\n",
       "\n"
      ],
      "text/plain": [
       "        UserName   SrcDevice  DstDevice       Authent.Type      Failure\n",
       "2309303 User179746 Comp599155 None            InteractiveLogon  0      \n",
       "6027757 User179746 Comp599155 None            InteractiveLogon  0      \n",
       "6889517 User179746 Comp599155 None            InteractiveLogon  0      \n",
       "9667214 User179746 Comp679250 Comp599155      NetworkLogon      0      \n",
       "9672243 User179746 Comp547871 ActiveDirectory NetworkLogon      1      \n",
       "9727819 User179746 Comp679250 Comp599155      RemoteInteractive 0      \n",
       "        DailyCount\n",
       "2309303 2         \n",
       "6027757 2         \n",
       "6889517 2         \n",
       "9667214 8         \n",
       "9672243 1         \n",
       "9727819 8         "
      ]
     },
     "metadata": {},
     "output_type": "display_data"
    },
    {
     "data": {
      "text/html": [
       "<table class=\"dataframe\">\n",
       "<caption>A data.frame: 6 × 5</caption>\n",
       "<thead>\n",
       "\t<tr><th></th><th scope=col>UserName</th><th scope=col>Device</th><th scope=col>ProcessName</th><th scope=col>ParentProcessName</th><th scope=col>DailyCount</th></tr>\n",
       "\t<tr><th></th><th scope=col>&lt;chr&gt;</th><th scope=col>&lt;chr&gt;</th><th scope=col>&lt;chr&gt;</th><th scope=col>&lt;chr&gt;</th><th scope=col>&lt;int&gt;</th></tr>\n",
       "</thead>\n",
       "<tbody>\n",
       "\t<tr><th scope=row>3642629</th><td>User179746</td><td>Comp599155</td><td>Proc706548.exe</td><td>Proc444602</td><td>2</td></tr>\n",
       "\t<tr><th scope=row>3709166</th><td>User179746</td><td>Comp599155</td><td>Proc604969.exe</td><td>Proc444602</td><td>1</td></tr>\n",
       "\t<tr><th scope=row>3841198</th><td>User179746</td><td>Comp599155</td><td>Proc412499.exe</td><td>Proc444602</td><td>2</td></tr>\n",
       "\t<tr><th scope=row>3852765</th><td>User179746</td><td>Comp599155</td><td>Proc407594.exe</td><td>Proc412499</td><td>2</td></tr>\n",
       "\t<tr><th scope=row>7683119</th><td>User179746</td><td>Comp599155</td><td>Proc447231.exe</td><td>Proc442764</td><td>1</td></tr>\n",
       "\t<tr><th scope=row>7742208</th><td>User179746</td><td>Comp599155</td><td>Proc690950.exe</td><td>Proc089893</td><td>1</td></tr>\n",
       "</tbody>\n",
       "</table>\n"
      ],
      "text/latex": [
       "A data.frame: 6 × 5\n",
       "\\begin{tabular}{r|lllll}\n",
       "  & UserName & Device & ProcessName & ParentProcessName & DailyCount\\\\\n",
       "  & <chr> & <chr> & <chr> & <chr> & <int>\\\\\n",
       "\\hline\n",
       "\t3642629 & User179746 & Comp599155 & Proc706548.exe & Proc444602 & 2\\\\\n",
       "\t3709166 & User179746 & Comp599155 & Proc604969.exe & Proc444602 & 1\\\\\n",
       "\t3841198 & User179746 & Comp599155 & Proc412499.exe & Proc444602 & 2\\\\\n",
       "\t3852765 & User179746 & Comp599155 & Proc407594.exe & Proc412499 & 2\\\\\n",
       "\t7683119 & User179746 & Comp599155 & Proc447231.exe & Proc442764 & 1\\\\\n",
       "\t7742208 & User179746 & Comp599155 & Proc690950.exe & Proc089893 & 1\\\\\n",
       "\\end{tabular}\n"
      ],
      "text/markdown": [
       "\n",
       "A data.frame: 6 × 5\n",
       "\n",
       "| <!--/--> | UserName &lt;chr&gt; | Device &lt;chr&gt; | ProcessName &lt;chr&gt; | ParentProcessName &lt;chr&gt; | DailyCount &lt;int&gt; |\n",
       "|---|---|---|---|---|---|\n",
       "| 3642629 | User179746 | Comp599155 | Proc706548.exe | Proc444602 | 2 |\n",
       "| 3709166 | User179746 | Comp599155 | Proc604969.exe | Proc444602 | 1 |\n",
       "| 3841198 | User179746 | Comp599155 | Proc412499.exe | Proc444602 | 2 |\n",
       "| 3852765 | User179746 | Comp599155 | Proc407594.exe | Proc412499 | 2 |\n",
       "| 7683119 | User179746 | Comp599155 | Proc447231.exe | Proc442764 | 1 |\n",
       "| 7742208 | User179746 | Comp599155 | Proc690950.exe | Proc089893 | 1 |\n",
       "\n"
      ],
      "text/plain": [
       "        UserName   Device     ProcessName    ParentProcessName DailyCount\n",
       "3642629 User179746 Comp599155 Proc706548.exe Proc444602        2         \n",
       "3709166 User179746 Comp599155 Proc604969.exe Proc444602        1         \n",
       "3841198 User179746 Comp599155 Proc412499.exe Proc444602        2         \n",
       "3852765 User179746 Comp599155 Proc407594.exe Proc412499        2         \n",
       "7683119 User179746 Comp599155 Proc447231.exe Proc442764        1         \n",
       "7742208 User179746 Comp599155 Proc690950.exe Proc089893        1         "
      ]
     },
     "metadata": {},
     "output_type": "display_data"
    }
   ],
   "source": [
    "U1<- CommAuth[CommAuth$UserName=='User179746', ]\n",
    "U2<- CommProc[CommProc$UserName=='User179746', ]\n",
    "\n",
    "head(U1)\n",
    "head(U2)"
   ]
  },
  {
   "cell_type": "code",
   "execution_count": 26,
   "id": "6fdfbbde",
   "metadata": {},
   "outputs": [
    {
     "data": {
      "text/html": [
       "<table class=\"dataframe\">\n",
       "<caption>A data.frame: 6 × 6</caption>\n",
       "<thead>\n",
       "\t<tr><th></th><th scope=col>UserName</th><th scope=col>SrcDevice</th><th scope=col>DstDevice</th><th scope=col>Authent.Type</th><th scope=col>Failure</th><th scope=col>DailyCount</th></tr>\n",
       "\t<tr><th></th><th scope=col>&lt;chr&gt;</th><th scope=col>&lt;chr&gt;</th><th scope=col>&lt;chr&gt;</th><th scope=col>&lt;chr&gt;</th><th scope=col>&lt;int&gt;</th><th scope=col>&lt;dbl&gt;</th></tr>\n",
       "</thead>\n",
       "<tbody>\n",
       "\t<tr><th scope=row>9672243</th><td>User179746</td><td>Comp547871</td><td>ActiveDirectory    </td><td>NetworkLogon</td><td>1</td><td> 1</td></tr>\n",
       "\t<tr><th scope=row>9779940</th><td>User179746</td><td>Comp679250</td><td>Comp599155         </td><td>NetworkLogon</td><td>1</td><td> 3</td></tr>\n",
       "\t<tr><th scope=row>9866675</th><td>User179746</td><td>Comp599155</td><td>Comp936659         </td><td>NetworkLogon</td><td>1</td><td> 6</td></tr>\n",
       "\t<tr><th scope=row>9884093</th><td>User179746</td><td>Comp599155</td><td>Comp422203         </td><td>NetworkLogon</td><td>1</td><td> 3</td></tr>\n",
       "\t<tr><th scope=row>9884731</th><td>User179746</td><td>Comp599155</td><td>EnterpriseAppServer</td><td>NetworkLogon</td><td>1</td><td>12</td></tr>\n",
       "\t<tr><th scope=row>9885162</th><td>User179746</td><td>Comp599155</td><td>Comp312245         </td><td>NetworkLogon</td><td>1</td><td> 6</td></tr>\n",
       "</tbody>\n",
       "</table>\n"
      ],
      "text/latex": [
       "A data.frame: 6 × 6\n",
       "\\begin{tabular}{r|llllll}\n",
       "  & UserName & SrcDevice & DstDevice & Authent.Type & Failure & DailyCount\\\\\n",
       "  & <chr> & <chr> & <chr> & <chr> & <int> & <dbl>\\\\\n",
       "\\hline\n",
       "\t9672243 & User179746 & Comp547871 & ActiveDirectory     & NetworkLogon & 1 &  1\\\\\n",
       "\t9779940 & User179746 & Comp679250 & Comp599155          & NetworkLogon & 1 &  3\\\\\n",
       "\t9866675 & User179746 & Comp599155 & Comp936659          & NetworkLogon & 1 &  6\\\\\n",
       "\t9884093 & User179746 & Comp599155 & Comp422203          & NetworkLogon & 1 &  3\\\\\n",
       "\t9884731 & User179746 & Comp599155 & EnterpriseAppServer & NetworkLogon & 1 & 12\\\\\n",
       "\t9885162 & User179746 & Comp599155 & Comp312245          & NetworkLogon & 1 &  6\\\\\n",
       "\\end{tabular}\n"
      ],
      "text/markdown": [
       "\n",
       "A data.frame: 6 × 6\n",
       "\n",
       "| <!--/--> | UserName &lt;chr&gt; | SrcDevice &lt;chr&gt; | DstDevice &lt;chr&gt; | Authent.Type &lt;chr&gt; | Failure &lt;int&gt; | DailyCount &lt;dbl&gt; |\n",
       "|---|---|---|---|---|---|---|\n",
       "| 9672243 | User179746 | Comp547871 | ActiveDirectory     | NetworkLogon | 1 |  1 |\n",
       "| 9779940 | User179746 | Comp679250 | Comp599155          | NetworkLogon | 1 |  3 |\n",
       "| 9866675 | User179746 | Comp599155 | Comp936659          | NetworkLogon | 1 |  6 |\n",
       "| 9884093 | User179746 | Comp599155 | Comp422203          | NetworkLogon | 1 |  3 |\n",
       "| 9884731 | User179746 | Comp599155 | EnterpriseAppServer | NetworkLogon | 1 | 12 |\n",
       "| 9885162 | User179746 | Comp599155 | Comp312245          | NetworkLogon | 1 |  6 |\n",
       "\n"
      ],
      "text/plain": [
       "        UserName   SrcDevice  DstDevice           Authent.Type Failure\n",
       "9672243 User179746 Comp547871 ActiveDirectory     NetworkLogon 1      \n",
       "9779940 User179746 Comp679250 Comp599155          NetworkLogon 1      \n",
       "9866675 User179746 Comp599155 Comp936659          NetworkLogon 1      \n",
       "9884093 User179746 Comp599155 Comp422203          NetworkLogon 1      \n",
       "9884731 User179746 Comp599155 EnterpriseAppServer NetworkLogon 1      \n",
       "9885162 User179746 Comp599155 Comp312245          NetworkLogon 1      \n",
       "        DailyCount\n",
       "9672243  1        \n",
       "9779940  3        \n",
       "9866675  6        \n",
       "9884093  3        \n",
       "9884731 12        \n",
       "9885162  6        "
      ]
     },
     "metadata": {},
     "output_type": "display_data"
    }
   ],
   "source": [
    "U1F <- U1[U1$Failure==1, ]\n",
    "head(U1F)   ## Note: Assign really large weight to Failure!"
   ]
  },
  {
   "cell_type": "code",
   "execution_count": 27,
   "id": "e78f9b6e",
   "metadata": {},
   "outputs": [
    {
     "data": {
      "text/plain": [
       "\n",
       "Comp215429 Comp547871 Comp599155 Comp679250 \n",
       "         1          3         45          8 "
      ]
     },
     "metadata": {},
     "output_type": "display_data"
    },
    {
     "data": {
      "text/plain": [
       "\n",
       "Comp547871 Comp599155 \n",
       "        18        170 "
      ]
     },
     "metadata": {},
     "output_type": "display_data"
    }
   ],
   "source": [
    "table(U1$SrcDevice)\n",
    "table(U2$Device)"
   ]
  },
  {
   "cell_type": "code",
   "execution_count": 28,
   "id": "cded2dbf",
   "metadata": {},
   "outputs": [],
   "source": [
    "U1Src <- as.vector(unique(U1$SrcDevice))\n",
    "U2Src<- as.vector(unique(U2$Device))\n",
    "\n",
    "CommDev <- U1Src[U1Src%in%U2Src]\n",
    "U1_investig <- U1[U1$SrcDevice%in%CommDev, ]\n",
    "U2_investig <- U2[U2$Device%in%CommDev, ]"
   ]
  },
  {
   "cell_type": "code",
   "execution_count": 29,
   "id": "1f39d8f3",
   "metadata": {},
   "outputs": [
    {
     "data": {
      "text/html": [
       "<table class=\"dataframe\">\n",
       "<caption>A data.frame: 6 × 6</caption>\n",
       "<thead>\n",
       "\t<tr><th></th><th scope=col>UserName</th><th scope=col>SrcDevice</th><th scope=col>DstDevice</th><th scope=col>Authent.Type</th><th scope=col>Failure</th><th scope=col>DailyCount</th></tr>\n",
       "\t<tr><th></th><th scope=col>&lt;chr&gt;</th><th scope=col>&lt;chr&gt;</th><th scope=col>&lt;chr&gt;</th><th scope=col>&lt;chr&gt;</th><th scope=col>&lt;int&gt;</th><th scope=col>&lt;dbl&gt;</th></tr>\n",
       "</thead>\n",
       "<tbody>\n",
       "\t<tr><th scope=row>2309303</th><td>User179746</td><td>Comp599155</td><td>None           </td><td>InteractiveLogon</td><td>0</td><td>2</td></tr>\n",
       "\t<tr><th scope=row>6027757</th><td>User179746</td><td>Comp599155</td><td>None           </td><td>InteractiveLogon</td><td>0</td><td>2</td></tr>\n",
       "\t<tr><th scope=row>6889517</th><td>User179746</td><td>Comp599155</td><td>None           </td><td>InteractiveLogon</td><td>0</td><td>2</td></tr>\n",
       "\t<tr><th scope=row>9672243</th><td>User179746</td><td>Comp547871</td><td>ActiveDirectory</td><td>NetworkLogon    </td><td>1</td><td>1</td></tr>\n",
       "\t<tr><th scope=row>9866675</th><td>User179746</td><td>Comp599155</td><td>Comp936659     </td><td>NetworkLogon    </td><td>1</td><td>6</td></tr>\n",
       "\t<tr><th scope=row>9884093</th><td>User179746</td><td>Comp599155</td><td>Comp422203     </td><td>NetworkLogon    </td><td>1</td><td>3</td></tr>\n",
       "</tbody>\n",
       "</table>\n"
      ],
      "text/latex": [
       "A data.frame: 6 × 6\n",
       "\\begin{tabular}{r|llllll}\n",
       "  & UserName & SrcDevice & DstDevice & Authent.Type & Failure & DailyCount\\\\\n",
       "  & <chr> & <chr> & <chr> & <chr> & <int> & <dbl>\\\\\n",
       "\\hline\n",
       "\t2309303 & User179746 & Comp599155 & None            & InteractiveLogon & 0 & 2\\\\\n",
       "\t6027757 & User179746 & Comp599155 & None            & InteractiveLogon & 0 & 2\\\\\n",
       "\t6889517 & User179746 & Comp599155 & None            & InteractiveLogon & 0 & 2\\\\\n",
       "\t9672243 & User179746 & Comp547871 & ActiveDirectory & NetworkLogon     & 1 & 1\\\\\n",
       "\t9866675 & User179746 & Comp599155 & Comp936659      & NetworkLogon     & 1 & 6\\\\\n",
       "\t9884093 & User179746 & Comp599155 & Comp422203      & NetworkLogon     & 1 & 3\\\\\n",
       "\\end{tabular}\n"
      ],
      "text/markdown": [
       "\n",
       "A data.frame: 6 × 6\n",
       "\n",
       "| <!--/--> | UserName &lt;chr&gt; | SrcDevice &lt;chr&gt; | DstDevice &lt;chr&gt; | Authent.Type &lt;chr&gt; | Failure &lt;int&gt; | DailyCount &lt;dbl&gt; |\n",
       "|---|---|---|---|---|---|---|\n",
       "| 2309303 | User179746 | Comp599155 | None            | InteractiveLogon | 0 | 2 |\n",
       "| 6027757 | User179746 | Comp599155 | None            | InteractiveLogon | 0 | 2 |\n",
       "| 6889517 | User179746 | Comp599155 | None            | InteractiveLogon | 0 | 2 |\n",
       "| 9672243 | User179746 | Comp547871 | ActiveDirectory | NetworkLogon     | 1 | 1 |\n",
       "| 9866675 | User179746 | Comp599155 | Comp936659      | NetworkLogon     | 1 | 6 |\n",
       "| 9884093 | User179746 | Comp599155 | Comp422203      | NetworkLogon     | 1 | 3 |\n",
       "\n"
      ],
      "text/plain": [
       "        UserName   SrcDevice  DstDevice       Authent.Type     Failure\n",
       "2309303 User179746 Comp599155 None            InteractiveLogon 0      \n",
       "6027757 User179746 Comp599155 None            InteractiveLogon 0      \n",
       "6889517 User179746 Comp599155 None            InteractiveLogon 0      \n",
       "9672243 User179746 Comp547871 ActiveDirectory NetworkLogon     1      \n",
       "9866675 User179746 Comp599155 Comp936659      NetworkLogon     1      \n",
       "9884093 User179746 Comp599155 Comp422203      NetworkLogon     1      \n",
       "        DailyCount\n",
       "2309303 2         \n",
       "6027757 2         \n",
       "6889517 2         \n",
       "9672243 1         \n",
       "9866675 6         \n",
       "9884093 3         "
      ]
     },
     "metadata": {},
     "output_type": "display_data"
    },
    {
     "data": {
      "text/html": [
       "<style>\n",
       ".list-inline {list-style: none; margin:0; padding: 0}\n",
       ".list-inline>li {display: inline-block}\n",
       ".list-inline>li:not(:last-child)::after {content: \"\\00b7\"; padding: 0 .5ex}\n",
       "</style>\n",
       "<ol class=list-inline><li>48</li><li>6</li></ol>\n"
      ],
      "text/latex": [
       "\\begin{enumerate*}\n",
       "\\item 48\n",
       "\\item 6\n",
       "\\end{enumerate*}\n"
      ],
      "text/markdown": [
       "1. 48\n",
       "2. 6\n",
       "\n",
       "\n"
      ],
      "text/plain": [
       "[1] 48  6"
      ]
     },
     "metadata": {},
     "output_type": "display_data"
    },
    {
     "data": {
      "text/html": [
       "<table class=\"dataframe\">\n",
       "<caption>A data.frame: 6 × 5</caption>\n",
       "<thead>\n",
       "\t<tr><th></th><th scope=col>UserName</th><th scope=col>Device</th><th scope=col>ProcessName</th><th scope=col>ParentProcessName</th><th scope=col>DailyCount</th></tr>\n",
       "\t<tr><th></th><th scope=col>&lt;chr&gt;</th><th scope=col>&lt;chr&gt;</th><th scope=col>&lt;chr&gt;</th><th scope=col>&lt;chr&gt;</th><th scope=col>&lt;int&gt;</th></tr>\n",
       "</thead>\n",
       "<tbody>\n",
       "\t<tr><th scope=row>3642629</th><td>User179746</td><td>Comp599155</td><td>Proc706548.exe</td><td>Proc444602</td><td>2</td></tr>\n",
       "\t<tr><th scope=row>3709166</th><td>User179746</td><td>Comp599155</td><td>Proc604969.exe</td><td>Proc444602</td><td>1</td></tr>\n",
       "\t<tr><th scope=row>3841198</th><td>User179746</td><td>Comp599155</td><td>Proc412499.exe</td><td>Proc444602</td><td>2</td></tr>\n",
       "\t<tr><th scope=row>3852765</th><td>User179746</td><td>Comp599155</td><td>Proc407594.exe</td><td>Proc412499</td><td>2</td></tr>\n",
       "\t<tr><th scope=row>7683119</th><td>User179746</td><td>Comp599155</td><td>Proc447231.exe</td><td>Proc442764</td><td>1</td></tr>\n",
       "\t<tr><th scope=row>7742208</th><td>User179746</td><td>Comp599155</td><td>Proc690950.exe</td><td>Proc089893</td><td>1</td></tr>\n",
       "</tbody>\n",
       "</table>\n"
      ],
      "text/latex": [
       "A data.frame: 6 × 5\n",
       "\\begin{tabular}{r|lllll}\n",
       "  & UserName & Device & ProcessName & ParentProcessName & DailyCount\\\\\n",
       "  & <chr> & <chr> & <chr> & <chr> & <int>\\\\\n",
       "\\hline\n",
       "\t3642629 & User179746 & Comp599155 & Proc706548.exe & Proc444602 & 2\\\\\n",
       "\t3709166 & User179746 & Comp599155 & Proc604969.exe & Proc444602 & 1\\\\\n",
       "\t3841198 & User179746 & Comp599155 & Proc412499.exe & Proc444602 & 2\\\\\n",
       "\t3852765 & User179746 & Comp599155 & Proc407594.exe & Proc412499 & 2\\\\\n",
       "\t7683119 & User179746 & Comp599155 & Proc447231.exe & Proc442764 & 1\\\\\n",
       "\t7742208 & User179746 & Comp599155 & Proc690950.exe & Proc089893 & 1\\\\\n",
       "\\end{tabular}\n"
      ],
      "text/markdown": [
       "\n",
       "A data.frame: 6 × 5\n",
       "\n",
       "| <!--/--> | UserName &lt;chr&gt; | Device &lt;chr&gt; | ProcessName &lt;chr&gt; | ParentProcessName &lt;chr&gt; | DailyCount &lt;int&gt; |\n",
       "|---|---|---|---|---|---|\n",
       "| 3642629 | User179746 | Comp599155 | Proc706548.exe | Proc444602 | 2 |\n",
       "| 3709166 | User179746 | Comp599155 | Proc604969.exe | Proc444602 | 1 |\n",
       "| 3841198 | User179746 | Comp599155 | Proc412499.exe | Proc444602 | 2 |\n",
       "| 3852765 | User179746 | Comp599155 | Proc407594.exe | Proc412499 | 2 |\n",
       "| 7683119 | User179746 | Comp599155 | Proc447231.exe | Proc442764 | 1 |\n",
       "| 7742208 | User179746 | Comp599155 | Proc690950.exe | Proc089893 | 1 |\n",
       "\n"
      ],
      "text/plain": [
       "        UserName   Device     ProcessName    ParentProcessName DailyCount\n",
       "3642629 User179746 Comp599155 Proc706548.exe Proc444602        2         \n",
       "3709166 User179746 Comp599155 Proc604969.exe Proc444602        1         \n",
       "3841198 User179746 Comp599155 Proc412499.exe Proc444602        2         \n",
       "3852765 User179746 Comp599155 Proc407594.exe Proc412499        2         \n",
       "7683119 User179746 Comp599155 Proc447231.exe Proc442764        1         \n",
       "7742208 User179746 Comp599155 Proc690950.exe Proc089893        1         "
      ]
     },
     "metadata": {},
     "output_type": "display_data"
    },
    {
     "data": {
      "text/html": [
       "<style>\n",
       ".list-inline {list-style: none; margin:0; padding: 0}\n",
       ".list-inline>li {display: inline-block}\n",
       ".list-inline>li:not(:last-child)::after {content: \"\\00b7\"; padding: 0 .5ex}\n",
       "</style>\n",
       "<ol class=list-inline><li>188</li><li>5</li></ol>\n"
      ],
      "text/latex": [
       "\\begin{enumerate*}\n",
       "\\item 188\n",
       "\\item 5\n",
       "\\end{enumerate*}\n"
      ],
      "text/markdown": [
       "1. 188\n",
       "2. 5\n",
       "\n",
       "\n"
      ],
      "text/plain": [
       "[1] 188   5"
      ]
     },
     "metadata": {},
     "output_type": "display_data"
    }
   ],
   "source": [
    "head(U1_investig)\n",
    "dim(U1_investig)\n",
    "head(U2_investig)\n",
    "dim(U2_investig)"
   ]
  },
  {
   "cell_type": "code",
   "execution_count": 30,
   "id": "69a10c3c",
   "metadata": {
    "scrolled": true
   },
   "outputs": [
    {
     "data": {
      "text/html": [
       "<style>\n",
       ".list-inline {list-style: none; margin:0; padding: 0}\n",
       ".list-inline>li {display: inline-block}\n",
       ".list-inline>li:not(:last-child)::after {content: \"\\00b7\"; padding: 0 .5ex}\n",
       "</style>\n",
       "<ol class=list-inline><li>0</li><li>6</li></ol>\n"
      ],
      "text/latex": [
       "\\begin{enumerate*}\n",
       "\\item 0\n",
       "\\item 6\n",
       "\\end{enumerate*}\n"
      ],
      "text/markdown": [
       "1. 0\n",
       "2. 6\n",
       "\n",
       "\n"
      ],
      "text/plain": [
       "[1] 0 6"
      ]
     },
     "metadata": {},
     "output_type": "display_data"
    },
    {
     "data": {
      "text/html": [
       "<style>\n",
       ".list-inline {list-style: none; margin:0; padding: 0}\n",
       ".list-inline>li {display: inline-block}\n",
       ".list-inline>li:not(:last-child)::after {content: \"\\00b7\"; padding: 0 .5ex}\n",
       "</style>\n",
       "<ol class=list-inline><li>0</li><li>6</li></ol>\n"
      ],
      "text/latex": [
       "\\begin{enumerate*}\n",
       "\\item 0\n",
       "\\item 6\n",
       "\\end{enumerate*}\n"
      ],
      "text/markdown": [
       "1. 0\n",
       "2. 6\n",
       "\n",
       "\n"
      ],
      "text/plain": [
       "[1] 0 6"
      ]
     },
     "metadata": {},
     "output_type": "display_data"
    },
    {
     "data": {
      "text/html": [
       "<style>\n",
       ".list-inline {list-style: none; margin:0; padding: 0}\n",
       ".list-inline>li {display: inline-block}\n",
       ".list-inline>li:not(:last-child)::after {content: \"\\00b7\"; padding: 0 .5ex}\n",
       "</style>\n",
       "<ol class=list-inline><li>0</li><li>6</li></ol>\n"
      ],
      "text/latex": [
       "\\begin{enumerate*}\n",
       "\\item 0\n",
       "\\item 6\n",
       "\\end{enumerate*}\n"
      ],
      "text/markdown": [
       "1. 0\n",
       "2. 6\n",
       "\n",
       "\n"
      ],
      "text/plain": [
       "[1] 0 6"
      ]
     },
     "metadata": {},
     "output_type": "display_data"
    }
   ],
   "source": [
    "dim(Auth[Auth$AuthType=='InteractiveLogon' & Auth$DstDevice!='None', ]) ## So InteractiveLogon=='None' DstDevice\n",
    "dim(Auth[Auth$AuthType!='InteractiveLogon' & Auth$DstDevice=='None', ])\n",
    "\n",
    "dim(Auth[Auth$AuthType!='InteractiveLogon' & Auth$DstDevice=='None' & Auth$UserName%in%AU,])"
   ]
  },
  {
   "cell_type": "code",
   "execution_count": 31,
   "id": "c6e31673",
   "metadata": {},
   "outputs": [
    {
     "data": {
      "text/html": [
       "<style>\n",
       ".list-inline {list-style: none; margin:0; padding: 0}\n",
       ".list-inline>li {display: inline-block}\n",
       ".list-inline>li:not(:last-child)::after {content: \"\\00b7\"; padding: 0 .5ex}\n",
       "</style>\n",
       "<ol class=list-inline><li>0</li><li>6</li></ol>\n"
      ],
      "text/latex": [
       "\\begin{enumerate*}\n",
       "\\item 0\n",
       "\\item 6\n",
       "\\end{enumerate*}\n"
      ],
      "text/markdown": [
       "1. 0\n",
       "2. 6\n",
       "\n",
       "\n"
      ],
      "text/plain": [
       "[1] 0 6"
      ]
     },
     "metadata": {},
     "output_type": "display_data"
    },
    {
     "data": {
      "text/html": [
       "<style>\n",
       ".list-inline {list-style: none; margin:0; padding: 0}\n",
       ".list-inline>li {display: inline-block}\n",
       ".list-inline>li:not(:last-child)::after {content: \"\\00b7\"; padding: 0 .5ex}\n",
       "</style>\n",
       "<ol class=list-inline><li>0</li><li>6</li></ol>\n"
      ],
      "text/latex": [
       "\\begin{enumerate*}\n",
       "\\item 0\n",
       "\\item 6\n",
       "\\end{enumerate*}\n"
      ],
      "text/markdown": [
       "1. 0\n",
       "2. 6\n",
       "\n",
       "\n"
      ],
      "text/plain": [
       "[1] 0 6"
      ]
     },
     "metadata": {},
     "output_type": "display_data"
    }
   ],
   "source": [
    "dim(Auth[Auth$AuthType=='InteractiveLogon' & Auth$Failure==1, ])\n",
    "dim(Auth[Auth$AuthType=='InteractiveLogon' & Auth$Failure==1 & Auth$UserName%in%AU, ]) ## Some local logons are from the Mal list but most are not "
   ]
  },
  {
   "cell_type": "code",
   "execution_count": 33,
   "id": "ed66afd8",
   "metadata": {},
   "outputs": [],
   "source": [
    "# U1_investig <- U1_investig[if(U1_investig$Failure==0) {U1_investig$AuthType!='Interactive Logon'}, ]\n",
    "        ## Trying to remove the instances of successfull interactive logon\n",
    "        ### Don't want to remove if it failed!"
   ]
  },
  {
   "cell_type": "code",
   "execution_count": 32,
   "id": "7e35445d",
   "metadata": {},
   "outputs": [
    {
     "data": {
      "text/html": [
       "<table class=\"dataframe\">\n",
       "<caption>A data.frame: 48 × 6</caption>\n",
       "<thead>\n",
       "\t<tr><th></th><th scope=col>UserName</th><th scope=col>SrcDevice</th><th scope=col>DstDevice</th><th scope=col>Authent.Type</th><th scope=col>Failure</th><th scope=col>DailyCount</th></tr>\n",
       "\t<tr><th></th><th scope=col>&lt;chr&gt;</th><th scope=col>&lt;chr&gt;</th><th scope=col>&lt;chr&gt;</th><th scope=col>&lt;chr&gt;</th><th scope=col>&lt;int&gt;</th><th scope=col>&lt;dbl&gt;</th></tr>\n",
       "</thead>\n",
       "<tbody>\n",
       "\t<tr><th scope=row>2309303</th><td>User179746</td><td>Comp599155</td><td>None               </td><td>InteractiveLogon</td><td>0</td><td> 2</td></tr>\n",
       "\t<tr><th scope=row>6027757</th><td>User179746</td><td>Comp599155</td><td>None               </td><td>InteractiveLogon</td><td>0</td><td> 2</td></tr>\n",
       "\t<tr><th scope=row>6889517</th><td>User179746</td><td>Comp599155</td><td>None               </td><td>InteractiveLogon</td><td>0</td><td> 2</td></tr>\n",
       "\t<tr><th scope=row>9672243</th><td>User179746</td><td>Comp547871</td><td>ActiveDirectory    </td><td>NetworkLogon    </td><td>1</td><td> 1</td></tr>\n",
       "\t<tr><th scope=row>9866675</th><td>User179746</td><td>Comp599155</td><td>Comp936659         </td><td>NetworkLogon    </td><td>1</td><td> 6</td></tr>\n",
       "\t<tr><th scope=row>9884093</th><td>User179746</td><td>Comp599155</td><td>Comp422203         </td><td>NetworkLogon    </td><td>1</td><td> 3</td></tr>\n",
       "\t<tr><th scope=row>9884731</th><td>User179746</td><td>Comp599155</td><td>EnterpriseAppServer</td><td>NetworkLogon    </td><td>1</td><td>12</td></tr>\n",
       "\t<tr><th scope=row>9885162</th><td>User179746</td><td>Comp599155</td><td>Comp312245         </td><td>NetworkLogon    </td><td>1</td><td> 6</td></tr>\n",
       "\t<tr><th scope=row>9892426</th><td>User179746</td><td>Comp599155</td><td>Comp979071         </td><td>NetworkLogon    </td><td>1</td><td>12</td></tr>\n",
       "\t<tr><th scope=row>9901016</th><td>User179746</td><td>Comp599155</td><td>Comp931233         </td><td>NetworkLogon    </td><td>1</td><td> 6</td></tr>\n",
       "\t<tr><th scope=row>9903195</th><td>User179746</td><td>Comp599155</td><td>Comp093285         </td><td>NetworkLogon    </td><td>1</td><td> 3</td></tr>\n",
       "\t<tr><th scope=row>9905117</th><td>User179746</td><td>Comp599155</td><td>Comp137295         </td><td>NetworkLogon    </td><td>1</td><td> 3</td></tr>\n",
       "\t<tr><th scope=row>9918821</th><td>User179746</td><td>Comp599155</td><td>Comp317953         </td><td>NetworkLogon    </td><td>1</td><td> 3</td></tr>\n",
       "\t<tr><th scope=row>9963539</th><td>User179746</td><td>Comp599155</td><td>Comp547492         </td><td>NetworkLogon    </td><td>1</td><td> 6</td></tr>\n",
       "\t<tr><th scope=row>9998670</th><td>User179746</td><td>Comp599155</td><td>Comp817431         </td><td>NetworkLogon    </td><td>1</td><td> 3</td></tr>\n",
       "\t<tr><th scope=row>10002999</th><td>User179746</td><td>Comp599155</td><td>Comp939275         </td><td>NetworkLogon    </td><td>1</td><td> 3</td></tr>\n",
       "\t<tr><th scope=row>10007283</th><td>User179746</td><td>Comp599155</td><td>Comp008372         </td><td>NetworkLogon    </td><td>1</td><td> 3</td></tr>\n",
       "\t<tr><th scope=row>10014539</th><td>User179746</td><td>Comp599155</td><td>Comp836450         </td><td>NetworkLogon    </td><td>1</td><td> 3</td></tr>\n",
       "\t<tr><th scope=row>10064443</th><td>User179746</td><td>Comp599155</td><td>Comp004340         </td><td>NetworkLogon    </td><td>1</td><td> 3</td></tr>\n",
       "\t<tr><th scope=row>10066370</th><td>User179746</td><td>Comp599155</td><td>Comp661188         </td><td>NetworkLogon    </td><td>1</td><td>12</td></tr>\n",
       "\t<tr><th scope=row>10110160</th><td>User179746</td><td>Comp599155</td><td>EnterpriseAppServer</td><td>NetworkLogon    </td><td>1</td><td>21</td></tr>\n",
       "\t<tr><th scope=row>10110887</th><td>User179746</td><td>Comp599155</td><td>Comp756996         </td><td>NetworkLogon    </td><td>1</td><td> 9</td></tr>\n",
       "\t<tr><th scope=row>10121774</th><td>User179746</td><td>Comp599155</td><td>Comp836450         </td><td>NetworkLogon    </td><td>1</td><td> 4</td></tr>\n",
       "\t<tr><th scope=row>10126230</th><td>User179746</td><td>Comp599155</td><td>Comp931233         </td><td>NetworkLogon    </td><td>1</td><td> 2</td></tr>\n",
       "\t<tr><th scope=row>10130103</th><td>User179746</td><td>Comp599155</td><td>Comp137295         </td><td>NetworkLogon    </td><td>1</td><td> 4</td></tr>\n",
       "\t<tr><th scope=row>10143521</th><td>User179746</td><td>Comp599155</td><td>Comp317953         </td><td>NetworkLogon    </td><td>1</td><td> 4</td></tr>\n",
       "\t<tr><th scope=row>10187808</th><td>User179746</td><td>Comp599155</td><td>Comp547492         </td><td>NetworkLogon    </td><td>1</td><td> 4</td></tr>\n",
       "\t<tr><th scope=row>10217272</th><td>User179746</td><td>Comp599155</td><td>Comp381393         </td><td>NetworkLogon    </td><td>1</td><td> 3</td></tr>\n",
       "\t<tr><th scope=row>10224895</th><td>User179746</td><td>Comp599155</td><td>Comp794515         </td><td>NetworkLogon    </td><td>1</td><td> 3</td></tr>\n",
       "\t<tr><th scope=row>10226683</th><td>User179746</td><td>Comp599155</td><td>Comp939275         </td><td>NetworkLogon    </td><td>1</td><td> 4</td></tr>\n",
       "\t<tr><th scope=row>10252426</th><td>User179746</td><td>Comp599155</td><td>Comp194808         </td><td>NetworkLogon    </td><td>1</td><td> 3</td></tr>\n",
       "\t<tr><th scope=row>10258998</th><td>User179746</td><td>Comp599155</td><td>Comp817431         </td><td>NetworkLogon    </td><td>1</td><td> 4</td></tr>\n",
       "\t<tr><th scope=row>10287128</th><td>User179746</td><td>Comp599155</td><td>Comp004340         </td><td>NetworkLogon    </td><td>1</td><td> 8</td></tr>\n",
       "\t<tr><th scope=row>10289047</th><td>User179746</td><td>Comp599155</td><td>Comp661188         </td><td>NetworkLogon    </td><td>1</td><td>16</td></tr>\n",
       "\t<tr><th scope=row>10298259</th><td>User179746</td><td>Comp599155</td><td>Comp510565         </td><td>NetworkLogon    </td><td>1</td><td> 7</td></tr>\n",
       "\t<tr><th scope=row>10332049</th><td>User179746</td><td>Comp599155</td><td>EnterpriseAppServer</td><td>NetworkLogon    </td><td>1</td><td> 4</td></tr>\n",
       "\t<tr><th scope=row>10708386</th><td>User179746</td><td>Comp599155</td><td>Comp756996         </td><td>NetworkLogon    </td><td>1</td><td> 4</td></tr>\n",
       "\t<tr><th scope=row>10762778</th><td>User179746</td><td>Comp599155</td><td>EnterpriseAppServer</td><td>NetworkLogon    </td><td>1</td><td> 4</td></tr>\n",
       "\t<tr><th scope=row>10763451</th><td>User179746</td><td>Comp599155</td><td>Comp756996         </td><td>NetworkLogon    </td><td>1</td><td> 4</td></tr>\n",
       "\t<tr><th scope=row>10869373</th><td>User179746</td><td>Comp599155</td><td>EnterpriseAppServer</td><td>NetworkLogon    </td><td>1</td><td> 4</td></tr>\n",
       "\t<tr><th scope=row>11327855</th><td>User179746</td><td>Comp599155</td><td>EnterpriseAppServer</td><td>NetworkLogon    </td><td>1</td><td> 8</td></tr>\n",
       "\t<tr><th scope=row>11328632</th><td>User179746</td><td>Comp599155</td><td>Comp756996         </td><td>NetworkLogon    </td><td>1</td><td>12</td></tr>\n",
       "\t<tr><th scope=row>11562415</th><td>User179746</td><td>Comp599155</td><td>EnterpriseAppServer</td><td>NetworkLogon    </td><td>1</td><td> 4</td></tr>\n",
       "\t<tr><th scope=row>11563174</th><td>User179746</td><td>Comp599155</td><td>Comp756996         </td><td>NetworkLogon    </td><td>1</td><td> 8</td></tr>\n",
       "\t<tr><th scope=row>11787589</th><td>User179746</td><td>Comp599155</td><td>Comp756996         </td><td>NetworkLogon    </td><td>1</td><td> 4</td></tr>\n",
       "\t<tr><th scope=row>12198488</th><td>User179746</td><td>Comp547871</td><td>ActiveDirectory    </td><td>NetworkLogon    </td><td>1</td><td> 1</td></tr>\n",
       "\t<tr><th scope=row>12216648</th><td>User179746</td><td>Comp599155</td><td>None               </td><td>InteractiveLogon</td><td>0</td><td> 2</td></tr>\n",
       "\t<tr><th scope=row>12259344</th><td>User179746</td><td>Comp547871</td><td>None               </td><td>InteractiveLogon</td><td>0</td><td> 2</td></tr>\n",
       "</tbody>\n",
       "</table>\n"
      ],
      "text/latex": [
       "A data.frame: 48 × 6\n",
       "\\begin{tabular}{r|llllll}\n",
       "  & UserName & SrcDevice & DstDevice & Authent.Type & Failure & DailyCount\\\\\n",
       "  & <chr> & <chr> & <chr> & <chr> & <int> & <dbl>\\\\\n",
       "\\hline\n",
       "\t2309303 & User179746 & Comp599155 & None                & InteractiveLogon & 0 &  2\\\\\n",
       "\t6027757 & User179746 & Comp599155 & None                & InteractiveLogon & 0 &  2\\\\\n",
       "\t6889517 & User179746 & Comp599155 & None                & InteractiveLogon & 0 &  2\\\\\n",
       "\t9672243 & User179746 & Comp547871 & ActiveDirectory     & NetworkLogon     & 1 &  1\\\\\n",
       "\t9866675 & User179746 & Comp599155 & Comp936659          & NetworkLogon     & 1 &  6\\\\\n",
       "\t9884093 & User179746 & Comp599155 & Comp422203          & NetworkLogon     & 1 &  3\\\\\n",
       "\t9884731 & User179746 & Comp599155 & EnterpriseAppServer & NetworkLogon     & 1 & 12\\\\\n",
       "\t9885162 & User179746 & Comp599155 & Comp312245          & NetworkLogon     & 1 &  6\\\\\n",
       "\t9892426 & User179746 & Comp599155 & Comp979071          & NetworkLogon     & 1 & 12\\\\\n",
       "\t9901016 & User179746 & Comp599155 & Comp931233          & NetworkLogon     & 1 &  6\\\\\n",
       "\t9903195 & User179746 & Comp599155 & Comp093285          & NetworkLogon     & 1 &  3\\\\\n",
       "\t9905117 & User179746 & Comp599155 & Comp137295          & NetworkLogon     & 1 &  3\\\\\n",
       "\t9918821 & User179746 & Comp599155 & Comp317953          & NetworkLogon     & 1 &  3\\\\\n",
       "\t9963539 & User179746 & Comp599155 & Comp547492          & NetworkLogon     & 1 &  6\\\\\n",
       "\t9998670 & User179746 & Comp599155 & Comp817431          & NetworkLogon     & 1 &  3\\\\\n",
       "\t10002999 & User179746 & Comp599155 & Comp939275          & NetworkLogon     & 1 &  3\\\\\n",
       "\t10007283 & User179746 & Comp599155 & Comp008372          & NetworkLogon     & 1 &  3\\\\\n",
       "\t10014539 & User179746 & Comp599155 & Comp836450          & NetworkLogon     & 1 &  3\\\\\n",
       "\t10064443 & User179746 & Comp599155 & Comp004340          & NetworkLogon     & 1 &  3\\\\\n",
       "\t10066370 & User179746 & Comp599155 & Comp661188          & NetworkLogon     & 1 & 12\\\\\n",
       "\t10110160 & User179746 & Comp599155 & EnterpriseAppServer & NetworkLogon     & 1 & 21\\\\\n",
       "\t10110887 & User179746 & Comp599155 & Comp756996          & NetworkLogon     & 1 &  9\\\\\n",
       "\t10121774 & User179746 & Comp599155 & Comp836450          & NetworkLogon     & 1 &  4\\\\\n",
       "\t10126230 & User179746 & Comp599155 & Comp931233          & NetworkLogon     & 1 &  2\\\\\n",
       "\t10130103 & User179746 & Comp599155 & Comp137295          & NetworkLogon     & 1 &  4\\\\\n",
       "\t10143521 & User179746 & Comp599155 & Comp317953          & NetworkLogon     & 1 &  4\\\\\n",
       "\t10187808 & User179746 & Comp599155 & Comp547492          & NetworkLogon     & 1 &  4\\\\\n",
       "\t10217272 & User179746 & Comp599155 & Comp381393          & NetworkLogon     & 1 &  3\\\\\n",
       "\t10224895 & User179746 & Comp599155 & Comp794515          & NetworkLogon     & 1 &  3\\\\\n",
       "\t10226683 & User179746 & Comp599155 & Comp939275          & NetworkLogon     & 1 &  4\\\\\n",
       "\t10252426 & User179746 & Comp599155 & Comp194808          & NetworkLogon     & 1 &  3\\\\\n",
       "\t10258998 & User179746 & Comp599155 & Comp817431          & NetworkLogon     & 1 &  4\\\\\n",
       "\t10287128 & User179746 & Comp599155 & Comp004340          & NetworkLogon     & 1 &  8\\\\\n",
       "\t10289047 & User179746 & Comp599155 & Comp661188          & NetworkLogon     & 1 & 16\\\\\n",
       "\t10298259 & User179746 & Comp599155 & Comp510565          & NetworkLogon     & 1 &  7\\\\\n",
       "\t10332049 & User179746 & Comp599155 & EnterpriseAppServer & NetworkLogon     & 1 &  4\\\\\n",
       "\t10708386 & User179746 & Comp599155 & Comp756996          & NetworkLogon     & 1 &  4\\\\\n",
       "\t10762778 & User179746 & Comp599155 & EnterpriseAppServer & NetworkLogon     & 1 &  4\\\\\n",
       "\t10763451 & User179746 & Comp599155 & Comp756996          & NetworkLogon     & 1 &  4\\\\\n",
       "\t10869373 & User179746 & Comp599155 & EnterpriseAppServer & NetworkLogon     & 1 &  4\\\\\n",
       "\t11327855 & User179746 & Comp599155 & EnterpriseAppServer & NetworkLogon     & 1 &  8\\\\\n",
       "\t11328632 & User179746 & Comp599155 & Comp756996          & NetworkLogon     & 1 & 12\\\\\n",
       "\t11562415 & User179746 & Comp599155 & EnterpriseAppServer & NetworkLogon     & 1 &  4\\\\\n",
       "\t11563174 & User179746 & Comp599155 & Comp756996          & NetworkLogon     & 1 &  8\\\\\n",
       "\t11787589 & User179746 & Comp599155 & Comp756996          & NetworkLogon     & 1 &  4\\\\\n",
       "\t12198488 & User179746 & Comp547871 & ActiveDirectory     & NetworkLogon     & 1 &  1\\\\\n",
       "\t12216648 & User179746 & Comp599155 & None                & InteractiveLogon & 0 &  2\\\\\n",
       "\t12259344 & User179746 & Comp547871 & None                & InteractiveLogon & 0 &  2\\\\\n",
       "\\end{tabular}\n"
      ],
      "text/markdown": [
       "\n",
       "A data.frame: 48 × 6\n",
       "\n",
       "| <!--/--> | UserName &lt;chr&gt; | SrcDevice &lt;chr&gt; | DstDevice &lt;chr&gt; | Authent.Type &lt;chr&gt; | Failure &lt;int&gt; | DailyCount &lt;dbl&gt; |\n",
       "|---|---|---|---|---|---|---|\n",
       "| 2309303 | User179746 | Comp599155 | None                | InteractiveLogon | 0 |  2 |\n",
       "| 6027757 | User179746 | Comp599155 | None                | InteractiveLogon | 0 |  2 |\n",
       "| 6889517 | User179746 | Comp599155 | None                | InteractiveLogon | 0 |  2 |\n",
       "| 9672243 | User179746 | Comp547871 | ActiveDirectory     | NetworkLogon     | 1 |  1 |\n",
       "| 9866675 | User179746 | Comp599155 | Comp936659          | NetworkLogon     | 1 |  6 |\n",
       "| 9884093 | User179746 | Comp599155 | Comp422203          | NetworkLogon     | 1 |  3 |\n",
       "| 9884731 | User179746 | Comp599155 | EnterpriseAppServer | NetworkLogon     | 1 | 12 |\n",
       "| 9885162 | User179746 | Comp599155 | Comp312245          | NetworkLogon     | 1 |  6 |\n",
       "| 9892426 | User179746 | Comp599155 | Comp979071          | NetworkLogon     | 1 | 12 |\n",
       "| 9901016 | User179746 | Comp599155 | Comp931233          | NetworkLogon     | 1 |  6 |\n",
       "| 9903195 | User179746 | Comp599155 | Comp093285          | NetworkLogon     | 1 |  3 |\n",
       "| 9905117 | User179746 | Comp599155 | Comp137295          | NetworkLogon     | 1 |  3 |\n",
       "| 9918821 | User179746 | Comp599155 | Comp317953          | NetworkLogon     | 1 |  3 |\n",
       "| 9963539 | User179746 | Comp599155 | Comp547492          | NetworkLogon     | 1 |  6 |\n",
       "| 9998670 | User179746 | Comp599155 | Comp817431          | NetworkLogon     | 1 |  3 |\n",
       "| 10002999 | User179746 | Comp599155 | Comp939275          | NetworkLogon     | 1 |  3 |\n",
       "| 10007283 | User179746 | Comp599155 | Comp008372          | NetworkLogon     | 1 |  3 |\n",
       "| 10014539 | User179746 | Comp599155 | Comp836450          | NetworkLogon     | 1 |  3 |\n",
       "| 10064443 | User179746 | Comp599155 | Comp004340          | NetworkLogon     | 1 |  3 |\n",
       "| 10066370 | User179746 | Comp599155 | Comp661188          | NetworkLogon     | 1 | 12 |\n",
       "| 10110160 | User179746 | Comp599155 | EnterpriseAppServer | NetworkLogon     | 1 | 21 |\n",
       "| 10110887 | User179746 | Comp599155 | Comp756996          | NetworkLogon     | 1 |  9 |\n",
       "| 10121774 | User179746 | Comp599155 | Comp836450          | NetworkLogon     | 1 |  4 |\n",
       "| 10126230 | User179746 | Comp599155 | Comp931233          | NetworkLogon     | 1 |  2 |\n",
       "| 10130103 | User179746 | Comp599155 | Comp137295          | NetworkLogon     | 1 |  4 |\n",
       "| 10143521 | User179746 | Comp599155 | Comp317953          | NetworkLogon     | 1 |  4 |\n",
       "| 10187808 | User179746 | Comp599155 | Comp547492          | NetworkLogon     | 1 |  4 |\n",
       "| 10217272 | User179746 | Comp599155 | Comp381393          | NetworkLogon     | 1 |  3 |\n",
       "| 10224895 | User179746 | Comp599155 | Comp794515          | NetworkLogon     | 1 |  3 |\n",
       "| 10226683 | User179746 | Comp599155 | Comp939275          | NetworkLogon     | 1 |  4 |\n",
       "| 10252426 | User179746 | Comp599155 | Comp194808          | NetworkLogon     | 1 |  3 |\n",
       "| 10258998 | User179746 | Comp599155 | Comp817431          | NetworkLogon     | 1 |  4 |\n",
       "| 10287128 | User179746 | Comp599155 | Comp004340          | NetworkLogon     | 1 |  8 |\n",
       "| 10289047 | User179746 | Comp599155 | Comp661188          | NetworkLogon     | 1 | 16 |\n",
       "| 10298259 | User179746 | Comp599155 | Comp510565          | NetworkLogon     | 1 |  7 |\n",
       "| 10332049 | User179746 | Comp599155 | EnterpriseAppServer | NetworkLogon     | 1 |  4 |\n",
       "| 10708386 | User179746 | Comp599155 | Comp756996          | NetworkLogon     | 1 |  4 |\n",
       "| 10762778 | User179746 | Comp599155 | EnterpriseAppServer | NetworkLogon     | 1 |  4 |\n",
       "| 10763451 | User179746 | Comp599155 | Comp756996          | NetworkLogon     | 1 |  4 |\n",
       "| 10869373 | User179746 | Comp599155 | EnterpriseAppServer | NetworkLogon     | 1 |  4 |\n",
       "| 11327855 | User179746 | Comp599155 | EnterpriseAppServer | NetworkLogon     | 1 |  8 |\n",
       "| 11328632 | User179746 | Comp599155 | Comp756996          | NetworkLogon     | 1 | 12 |\n",
       "| 11562415 | User179746 | Comp599155 | EnterpriseAppServer | NetworkLogon     | 1 |  4 |\n",
       "| 11563174 | User179746 | Comp599155 | Comp756996          | NetworkLogon     | 1 |  8 |\n",
       "| 11787589 | User179746 | Comp599155 | Comp756996          | NetworkLogon     | 1 |  4 |\n",
       "| 12198488 | User179746 | Comp547871 | ActiveDirectory     | NetworkLogon     | 1 |  1 |\n",
       "| 12216648 | User179746 | Comp599155 | None                | InteractiveLogon | 0 |  2 |\n",
       "| 12259344 | User179746 | Comp547871 | None                | InteractiveLogon | 0 |  2 |\n",
       "\n"
      ],
      "text/plain": [
       "         UserName   SrcDevice  DstDevice           Authent.Type     Failure\n",
       "2309303  User179746 Comp599155 None                InteractiveLogon 0      \n",
       "6027757  User179746 Comp599155 None                InteractiveLogon 0      \n",
       "6889517  User179746 Comp599155 None                InteractiveLogon 0      \n",
       "9672243  User179746 Comp547871 ActiveDirectory     NetworkLogon     1      \n",
       "9866675  User179746 Comp599155 Comp936659          NetworkLogon     1      \n",
       "9884093  User179746 Comp599155 Comp422203          NetworkLogon     1      \n",
       "9884731  User179746 Comp599155 EnterpriseAppServer NetworkLogon     1      \n",
       "9885162  User179746 Comp599155 Comp312245          NetworkLogon     1      \n",
       "9892426  User179746 Comp599155 Comp979071          NetworkLogon     1      \n",
       "9901016  User179746 Comp599155 Comp931233          NetworkLogon     1      \n",
       "9903195  User179746 Comp599155 Comp093285          NetworkLogon     1      \n",
       "9905117  User179746 Comp599155 Comp137295          NetworkLogon     1      \n",
       "9918821  User179746 Comp599155 Comp317953          NetworkLogon     1      \n",
       "9963539  User179746 Comp599155 Comp547492          NetworkLogon     1      \n",
       "9998670  User179746 Comp599155 Comp817431          NetworkLogon     1      \n",
       "10002999 User179746 Comp599155 Comp939275          NetworkLogon     1      \n",
       "10007283 User179746 Comp599155 Comp008372          NetworkLogon     1      \n",
       "10014539 User179746 Comp599155 Comp836450          NetworkLogon     1      \n",
       "10064443 User179746 Comp599155 Comp004340          NetworkLogon     1      \n",
       "10066370 User179746 Comp599155 Comp661188          NetworkLogon     1      \n",
       "10110160 User179746 Comp599155 EnterpriseAppServer NetworkLogon     1      \n",
       "10110887 User179746 Comp599155 Comp756996          NetworkLogon     1      \n",
       "10121774 User179746 Comp599155 Comp836450          NetworkLogon     1      \n",
       "10126230 User179746 Comp599155 Comp931233          NetworkLogon     1      \n",
       "10130103 User179746 Comp599155 Comp137295          NetworkLogon     1      \n",
       "10143521 User179746 Comp599155 Comp317953          NetworkLogon     1      \n",
       "10187808 User179746 Comp599155 Comp547492          NetworkLogon     1      \n",
       "10217272 User179746 Comp599155 Comp381393          NetworkLogon     1      \n",
       "10224895 User179746 Comp599155 Comp794515          NetworkLogon     1      \n",
       "10226683 User179746 Comp599155 Comp939275          NetworkLogon     1      \n",
       "10252426 User179746 Comp599155 Comp194808          NetworkLogon     1      \n",
       "10258998 User179746 Comp599155 Comp817431          NetworkLogon     1      \n",
       "10287128 User179746 Comp599155 Comp004340          NetworkLogon     1      \n",
       "10289047 User179746 Comp599155 Comp661188          NetworkLogon     1      \n",
       "10298259 User179746 Comp599155 Comp510565          NetworkLogon     1      \n",
       "10332049 User179746 Comp599155 EnterpriseAppServer NetworkLogon     1      \n",
       "10708386 User179746 Comp599155 Comp756996          NetworkLogon     1      \n",
       "10762778 User179746 Comp599155 EnterpriseAppServer NetworkLogon     1      \n",
       "10763451 User179746 Comp599155 Comp756996          NetworkLogon     1      \n",
       "10869373 User179746 Comp599155 EnterpriseAppServer NetworkLogon     1      \n",
       "11327855 User179746 Comp599155 EnterpriseAppServer NetworkLogon     1      \n",
       "11328632 User179746 Comp599155 Comp756996          NetworkLogon     1      \n",
       "11562415 User179746 Comp599155 EnterpriseAppServer NetworkLogon     1      \n",
       "11563174 User179746 Comp599155 Comp756996          NetworkLogon     1      \n",
       "11787589 User179746 Comp599155 Comp756996          NetworkLogon     1      \n",
       "12198488 User179746 Comp547871 ActiveDirectory     NetworkLogon     1      \n",
       "12216648 User179746 Comp599155 None                InteractiveLogon 0      \n",
       "12259344 User179746 Comp547871 None                InteractiveLogon 0      \n",
       "         DailyCount\n",
       "2309303   2        \n",
       "6027757   2        \n",
       "6889517   2        \n",
       "9672243   1        \n",
       "9866675   6        \n",
       "9884093   3        \n",
       "9884731  12        \n",
       "9885162   6        \n",
       "9892426  12        \n",
       "9901016   6        \n",
       "9903195   3        \n",
       "9905117   3        \n",
       "9918821   3        \n",
       "9963539   6        \n",
       "9998670   3        \n",
       "10002999  3        \n",
       "10007283  3        \n",
       "10014539  3        \n",
       "10064443  3        \n",
       "10066370 12        \n",
       "10110160 21        \n",
       "10110887  9        \n",
       "10121774  4        \n",
       "10126230  2        \n",
       "10130103  4        \n",
       "10143521  4        \n",
       "10187808  4        \n",
       "10217272  3        \n",
       "10224895  3        \n",
       "10226683  4        \n",
       "10252426  3        \n",
       "10258998  4        \n",
       "10287128  8        \n",
       "10289047 16        \n",
       "10298259  7        \n",
       "10332049  4        \n",
       "10708386  4        \n",
       "10762778  4        \n",
       "10763451  4        \n",
       "10869373  4        \n",
       "11327855  8        \n",
       "11328632 12        \n",
       "11562415  4        \n",
       "11563174  8        \n",
       "11787589  4        \n",
       "12198488  1        \n",
       "12216648  2        \n",
       "12259344  2        "
      ]
     },
     "metadata": {},
     "output_type": "display_data"
    }
   ],
   "source": [
    "U1_investig"
   ]
  },
  {
   "cell_type": "markdown",
   "id": "b3a092c3",
   "metadata": {},
   "source": [
    "Conclusions: This one will easily be picked up based entirely off Failure. The only AuthType which presents itself as part of the attack is 'NetworkLogon'.\n",
    "\n",
    "Verdict: _Somewhat likely_ the attacks correspond to **Stage 1: Reconnaissance** and also _somewhat likely_ the attacks correspond to **Stage 7: Lateral movement**"
   ]
  },
  {
   "cell_type": "code",
   "execution_count": 38,
   "id": "14dde6c1-369d-47c9-a93b-72c06383af9b",
   "metadata": {},
   "outputs": [],
   "source": [
    "options(\"width\"=200)"
   ]
  },
  {
   "cell_type": "markdown",
   "id": "05675248",
   "metadata": {},
   "source": [
    "## User794682"
   ]
  },
  {
   "cell_type": "code",
   "execution_count": 42,
   "id": "93ed3a2a",
   "metadata": {},
   "outputs": [],
   "source": [
    "IsolatingMal <- function(x='User794682', n=5) {\n",
    "    options(\"width\"=200) \n",
    "    U1<- CommAuth[CommAuth$UserName==x, ]\n",
    "    U2<- CommProc[CommProc$UserName==x, ]\n",
    "\n",
    "    table(U1$SrcDevice)\n",
    "    table(U2$Device)\n",
    "\n",
    "    U1Src <- as.vector(unique(U1$SrcDevice))\n",
    "    U2Src<- as.vector(unique(U2$Device))\n",
    "    CommDev <- U1Src[U1Src%in%U2Src]\n",
    "    U1_investig <- U1[U1$SrcDevice%in%CommDev, ]\n",
    "    U2_investig <- U2[U2$Device%in%CommDev, ]\n",
    "    \n",
    "     if(n>min(c(nrow(U1_investig), nrow(U2_investig)))) {\n",
    "        print(warning(\"Requested amount exceeds available size.\"))\n",
    "    }\n",
    "\n",
    "    print(head(U1_investig, n))\n",
    "    print(paste(\"The number of suspect Auths is\", nrow(U1_investig)))\n",
    "    cat(\"\\n\")\n",
    "    print(head(U2_investig, n))\n",
    "    cat(\"\\n\")\n",
    "    print(paste(\"The number of suspect Procs is\", nrow(U2_investig)))\n",
    "    cat(\"\\n\")\n",
    "    cat(\"The common devices are:\\n\") \n",
    "    print(unique(U1_investig$SrcDevice))\n",
    "    cat(\"\\n\")\n",
    "    options(\"width\"=100)\n",
    "    cat(\"With Auth frequencies:\\n\")\n",
    "    print(table(U1_investig$SrcDevice)[order(table(U1_investig$SrcDevice), decreasing=TRUE)])\n",
    "    cat(\"\\n\")\n",
    "    cat(\"And Proc frequencies:\\n\")\n",
    "    print(table(U2_investig$Device)[order(table(U2_investig$Device), decreasing=TRUE)])\n",
    "    \n",
    "    t<- readline(prompt=\"Is the information sufficient? Y/N:  \")\n",
    "    if(t=='N')\n",
    "        {\n",
    "        print(head(U1_investig[U1_investig$Failure==1, ], n))\n",
    "        cat(\"\\n\")\n",
    "        print(paste(\"The number of times Auth fails is\", nrow(U1_investig[U1_investig$Failure==1, ])))\n",
    "        \n",
    "        t<- readline(prompt=\"Is the information sufficient? Y/N:  \")\n",
    "        if(t=='N') {\n",
    "            df<- U1_investig[U1_investig$Failure==1, ]\n",
    "            print(table(df$AuthType[order(df$AuthType, decreasing=FALSE)]))\n",
    "        }\n",
    "    }\n",
    "    if(t=='Y')\n",
    "        cat(\"\\nEnd of analysis.\")\n",
    "    }"
   ]
  },
  {
   "cell_type": "code",
   "execution_count": 34,
   "id": "6fc05eb3",
   "metadata": {},
   "outputs": [
    {
     "name": "stdin",
     "output_type": "stream",
     "text": [
      "Is the information sufficient? Y/N:   n\n"
     ]
    },
    {
     "name": "stdout",
     "output_type": "stream",
     "text": [
      "         UserName  SrcDevice       DstDevice      Authent.Type Failure\n",
      "759822 User794682 Comp679250      Comp679250               TGS       0\n",
      "761120 User794682 Comp679250 ActiveDirectory               TGS       0\n",
      "789856 User794682 Comp679250            None  InteractiveLogon       0\n",
      "797499 User794682 Comp679250            None CachedInteractive       1\n",
      "830442 User794682 Comp679250 ActiveDirectory      NetworkLogon       0\n",
      "       DailyCount\n",
      "759822         11\n",
      "761120          3\n",
      "789856         20\n",
      "797499         10\n",
      "830442          1\n",
      "[1] \"The number of suspect Auths is 124\"\n",
      "\n",
      "          UserName     Device    ProcessName ParentProcessName DailyCount\n",
      "2124311 User794682 Comp679250 Proc312464.exe    Proc312464.exe          2\n",
      "2126077 User794682 Comp679250    conhost.exe           cmd.exe          1\n",
      "2128223 User794682 Comp679250 Proc318550.exe    Proc900938.exe          1\n",
      "2137400 User794682 Comp679250 Proc916175.exe    Proc318550.exe          1\n",
      "2181229 User794682 Comp679250 Proc028520.exe    Proc028520.exe          1\n",
      "\n",
      "[1] \"The number of suspect Procs is 582\"\n",
      "\n",
      "The common devices are:\n",
      "[1] \"Comp679250\"\n",
      "\n",
      "With Auth frequencies:\n",
      "Comp679250 \n",
      "       124 \n",
      "\n",
      "And Proc frequencies:\n",
      "Comp679250 \n",
      "       582 \n"
     ]
    }
   ],
   "source": [
    "IsolatingMal()"
   ]
  },
  {
   "cell_type": "code",
   "execution_count": 40,
   "id": "60689ed6",
   "metadata": {},
   "outputs": [
    {
     "name": "stdin",
     "output_type": "stream",
     "text": [
      "Is the information sufficient? Y/N:   N\n",
      "Is the information sufficient? Y/N:   N\n"
     ]
    },
    {
     "name": "stdout",
     "output_type": "stream",
     "text": [
      "          UserName  SrcDevice       DstDevice      Authent.Type Failure DailyCount\n",
      "759822  User794682 Comp679250      Comp679250               TGS       0         11\n",
      "761120  User794682 Comp679250 ActiveDirectory               TGS       0          3\n",
      "789856  User794682 Comp679250            None  InteractiveLogon       0         20\n",
      "797499  User794682 Comp679250            None CachedInteractive       1         10\n",
      "830442  User794682 Comp679250 ActiveDirectory      NetworkLogon       0          1\n",
      "1246255 User794682 Comp679250      Comp056180               TGS       0          1\n",
      "1273517 User794682 Comp679250            None  InteractiveLogon       1          1\n",
      "1377390 User794682 Comp679250            None  InteractiveLogon       0         10\n",
      "1382536 User794682 Comp679250      Comp056180      NetworkLogon       0          1\n",
      "1385389 User794682 Comp679250            None CachedInteractive       1          6\n",
      "1418265 User794682 Comp679250      Comp679250               TGS       0          6\n",
      "1440137 User794682 Comp679250            None  InteractiveLogon       0          4\n",
      "1567703 User794682 Comp679250      Comp679250               TGS       0          2\n",
      "1604200 User794682 Comp679250            None CachedInteractive       1          2\n",
      "1721241 User794682 Comp679250            None  InteractiveLogon       1          1\n",
      "1739328 User794682 Comp679250 ActiveDirectory      NetworkLogon       0          9\n",
      "1794753 User794682 Comp679250 ActiveDirectory               TGS       0          5\n",
      "1828270 User794682 Comp679250            None  InteractiveLogon       0         30\n",
      "1832590 User794682 Comp679250            None CachedInteractive       1         16\n",
      "1865390 User794682 Comp679250      Comp679250               TGS       0         17\n",
      "2040545 User794682 Comp679250      Comp679250               TGS       0          2\n",
      "2075003 User794682 Comp679250            None  InteractiveLogon       0          4\n",
      "2083737 User794682 Comp679250            None CachedInteractive       1          2\n",
      "2926884 User794682 Comp679250            None  InteractiveLogon       0         12\n",
      "2930982 User794682 Comp679250            None CachedInteractive       1          6\n",
      "[1] \"The number of suspect Auths is 124\"\n",
      "\n",
      "          UserName     Device    ProcessName ParentProcessName DailyCount\n",
      "2124311 User794682 Comp679250 Proc312464.exe    Proc312464.exe          2\n",
      "2126077 User794682 Comp679250    conhost.exe           cmd.exe          1\n",
      "2128223 User794682 Comp679250 Proc318550.exe    Proc900938.exe          1\n",
      "2137400 User794682 Comp679250 Proc916175.exe    Proc318550.exe          1\n",
      "2181229 User794682 Comp679250 Proc028520.exe    Proc028520.exe          1\n",
      "2254655 User794682 Comp679250 Proc510464.exe       svchost.exe          1\n",
      "2264393 User794682 Comp679250 Proc099163.exe    Proc900938.exe          1\n",
      "2349079 User794682 Comp679250    conhost.exe    Proc099163.exe          1\n",
      "2354425 User794682 Comp679250 Proc025542.exe    Proc887334.exe          1\n",
      "2414703 User794682 Comp679250 Proc514518.exe    Proc318550.exe          4\n",
      "2469295 User794682 Comp679250    dllhost.exe       svchost.exe          3\n",
      "2484306 User794682 Comp679250   mscorsvw.exe    Proc935281.exe          2\n",
      "2499020 User794682 Comp679250 Proc312464.exe    Proc089893.exe          1\n",
      "2518197 User794682 Comp679250 Proc318550.exe    Proc960852.exe          1\n",
      "2528972 User794682 Comp679250    conhost.exe    Proc025542.exe          1\n",
      "2529295 User794682 Comp679250 Proc900938.exe    Proc887334.exe          1\n",
      "2547628 User794682 Comp679250 Proc935281.exe    Proc434377.exe          2\n",
      "2565629 User794682 Comp679250 Proc028520.exe    Proc312464.exe          1\n",
      "2583073 User794682 Comp679250 Proc642841.exe    Proc642841.exe          6\n",
      "2592316 User794682 Comp679250 Proc318550.exe    Proc318550.exe          1\n",
      "2599001 User794682 Comp679250 Proc960852.exe    Proc887334.exe          1\n",
      "2664213 User794682 Comp679250    conhost.exe    Proc935281.exe          2\n",
      "2677782 User794682 Comp679250 Proc642841.exe    Proc025542.exe          2\n",
      "2693077 User794682 Comp679250 Proc877351.exe    Proc312464.exe          1\n",
      "2698662 User794682 Comp679250 Proc827793.exe    Proc192919.exe          1\n",
      "\n",
      "[1] \"The number of suspect Procs is 582\"\n",
      "\n",
      "The common devices are:\n",
      "[1] \"Comp679250\"\n",
      "\n",
      "With Auth frequencies:\n",
      "Comp679250 \n",
      "       124 \n",
      "\n",
      "And Proc frequencies:\n",
      "Comp679250 \n",
      "       582 \n",
      "          UserName  SrcDevice  DstDevice      Authent.Type Failure DailyCount\n",
      "797499  User794682 Comp679250       None CachedInteractive       1         10\n",
      "1273517 User794682 Comp679250       None  InteractiveLogon       1          1\n",
      "1385389 User794682 Comp679250       None CachedInteractive       1          6\n",
      "1604200 User794682 Comp679250       None CachedInteractive       1          2\n",
      "1721241 User794682 Comp679250       None  InteractiveLogon       1          1\n",
      "1832590 User794682 Comp679250       None CachedInteractive       1         16\n",
      "2083737 User794682 Comp679250       None CachedInteractive       1          2\n",
      "2930982 User794682 Comp679250       None CachedInteractive       1          6\n",
      "3143882 User794682 Comp679250       None CachedInteractive       1          8\n",
      "3310912 User794682 Comp679250       None CachedInteractive       1          1\n",
      "4260883 User794682 Comp679250       None CachedInteractive       1          2\n",
      "4402757 User794682 Comp679250       None CachedInteractive       1          1\n",
      "5221251 User794682 Comp679250       None CachedInteractive       1          4\n",
      "6200752 User794682 Comp679250       None CachedInteractive       1          1\n",
      "6311820 User794682 Comp679250       None  InteractiveLogon       1          1\n",
      "6412654 User794682 Comp679250       None CachedInteractive       1         13\n",
      "7228796 User794682 Comp679250       None CachedInteractive       1          2\n",
      "8730324 User794682 Comp679250       None CachedInteractive       1          2\n",
      "8851246 User794682 Comp679250       None  InteractiveLogon       1          3\n",
      "8942864 User794682 Comp679250       None WorkstationUnlock       1          2\n",
      "8963718 User794682 Comp679250       None CachedInteractive       1         18\n",
      "8987932 User794682 Comp679250 Comp154413      NetworkLogon       1         11\n",
      "9086570 User794682 Comp679250       None  InteractiveLogon       1          1\n",
      "9202423 User794682 Comp679250       None CachedInteractive       1          9\n",
      "9389940 User794682 Comp679250       None CachedInteractive       1          5\n",
      "\n",
      "[1] \"The number of times Auth fails is 38\"\n"
     ]
    },
    {
     "ename": "ERROR",
     "evalue": "Error in order(df$AuthType, decreasing = FALSE): argument 1 is not a vector\n",
     "output_type": "error",
     "traceback": [
      "Error in order(df$AuthType, decreasing = FALSE): argument 1 is not a vector\nTraceback:\n",
      "1. IsolatingMal(n = 25)",
      "2. print(table(df$AuthType[order(df$AuthType, decreasing = FALSE)]))   # at line 45 of file <text>",
      "3. table(df$AuthType[order(df$AuthType, decreasing = FALSE)])   # at line 45 of file <text>",
      "4. order(df$AuthType, decreasing = FALSE)   # at line 45 of file <text>"
     ]
    }
   ],
   "source": [
    "IsolatingMal(n=25)"
   ]
  },
  {
   "cell_type": "markdown",
   "id": "3a6abe09",
   "metadata": {},
   "source": [
    "Conclusions: The user uses a single device for authentication as well as for processes. Within Auth, they send TGS requests without prior ticket granting (TGT), which is suspicious. However, those never fail. They always fail the CachedInteractive authentication however, which is explained in the Data description as \" logging on when away from the network, uses cached credentials.\" The user seems to be attempting all sorts of processes for later use.\n",
    "\n",
    "Verdict: _Somewhat likely_ the attacks correspond to **Stage 1: Reconnaisance**. _Little likely_ the attacks correspond to **Stage 7: Lateral movement** (Because not many distinct DstDevices)"
   ]
  },
  {
   "cell_type": "markdown",
   "id": "da9e2123",
   "metadata": {},
   "source": [
    "## Comp289117$"
   ]
  },
  {
   "cell_type": "code",
   "execution_count": 38,
   "id": "28761fd4",
   "metadata": {},
   "outputs": [
    {
     "name": "stdout",
     "output_type": "stream",
     "text": [
      "Is the information sufficient? Y/N:  Y\n",
      "           UserName  SrcDevice       DstDevice Authent.Type Failure DailyCount\n",
      "48214   Comp289117$ Comp289117      Comp289117          TGS       0         20\n",
      "119144  Comp289117$ Comp289117 ActiveDirectory NetworkLogon       0        271\n",
      "120901  Comp289117$ Comp289117 ActiveDirectory          TGS       0         40\n",
      "156569  Comp289117$ Comp289117 ActiveDirectory          TGT       0          9\n",
      "298649  Comp289117$ Comp289117      Comp289117          TGS       0         23\n",
      "325110  Comp289117$ Comp289117 ActiveDirectory NetworkLogon       0        265\n",
      "327191  Comp289117$ Comp289117 ActiveDirectory          TGS       0         39\n",
      "370251  Comp289117$ Comp289117 ActiveDirectory          TGT       0          7\n",
      "427834  Comp289117$ Comp289117      Comp289117          TGS       0         20\n",
      "543453  Comp289117$ Comp289117 ActiveDirectory NetworkLogon       0        274\n",
      "545553  Comp289117$ Comp289117 ActiveDirectory          TGS       0         37\n",
      "588758  Comp289117$ Comp289117 ActiveDirectory          TGT       0          8\n",
      "737680  Comp289117$ Comp289117      Comp289117          TGS       0         22\n",
      "764680  Comp289117$ Comp289117 ActiveDirectory NetworkLogon       0        271\n",
      "766801  Comp289117$ Comp289117 ActiveDirectory          TGS       0         38\n",
      "810833  Comp289117$ Comp289117 ActiveDirectory          TGT       0          8\n",
      "893156  Comp289117$ Comp289117 ActiveDirectory NetworkLogon       0        286\n",
      "896317  Comp289117$ Comp289117 ActiveDirectory          TGS       0         36\n",
      "927722  Comp289117$ Comp289117      Comp289117          TGS       0         21\n",
      "960001  Comp289117$ Comp289117 ActiveDirectory          TGT       0          8\n",
      "1009606 Comp289117$ Comp289117      Comp289117          TGS       0         19\n",
      "1033475 Comp289117$ Comp289117 ActiveDirectory NetworkLogon       0        259\n",
      "1035462 Comp289117$ Comp289117 ActiveDirectory          TGS       0         30\n",
      "1074446 Comp289117$ Comp289117 ActiveDirectory          TGT       0          7\n",
      "1131897 Comp289117$ Comp289117 ActiveDirectory NetworkLogon       0        275\n",
      "1133825 Comp289117$ Comp289117 ActiveDirectory          TGS       0         42\n",
      "1152777 Comp289117$ Comp289117      Comp289117          TGS       0         21\n",
      "1172069 Comp289117$ Comp289117 ActiveDirectory          TGT       0          9\n",
      "1287873 Comp289117$ Comp289117      Comp370444          TGS       0          1\n",
      "1323123 Comp289117$ Comp289117      Comp289117          TGS       0         22\n",
      "1325413 Comp289117$ Comp289117      Comp370444 NetworkLogon       0         20\n",
      "1351216 Comp289117$ Comp289117 ActiveDirectory NetworkLogon       0        288\n",
      "1353449 Comp289117$ Comp289117 ActiveDirectory          TGS       0         36\n",
      "1399229 Comp289117$ Comp289117 ActiveDirectory          TGT       0          7\n",
      "1546439 Comp289117$ Comp289117      Comp289117          TGS       0         22\n",
      "1572386 Comp289117$ Comp289117 ActiveDirectory NetworkLogon       0        287\n",
      "1574460 Comp289117$ Comp289117 ActiveDirectory          TGS       0         33\n",
      "1617055 Comp289117$ Comp289117 ActiveDirectory          TGT       0          8\n",
      "1735458 Comp289117$ Comp289117      Comp370444          TGS       0          2\n",
      "1770544 Comp289117$ Comp289117      Comp289117          TGS       0         22\n",
      "1772841 Comp289117$ Comp289117      Comp370444 NetworkLogon       0        189\n",
      "1798405 Comp289117$ Comp289117 ActiveDirectory NetworkLogon       0        269\n",
      "1800654 Comp289117$ Comp289117 ActiveDirectory          TGS       0         40\n",
      "1846390 Comp289117$ Comp289117 ActiveDirectory          TGT       0          8\n",
      "1896985 Comp289117$ Comp289117      Comp661433          TGS       0          1\n",
      "1971743 Comp289117$ Comp289117      Comp939275          TGS       0          1\n",
      "2015204 Comp289117$ Comp289117      Comp908480          TGS       0          2\n",
      "2015224 Comp289117$ Comp289117      Comp289117          TGS       0         19\n",
      "2017783 Comp289117$ Comp289117      Comp370444 NetworkLogon       0        299\n",
      "2046167 Comp289117$ Comp289117 ActiveDirectory NetworkLogon       0        277\n",
      "[1] \"The number of suspect Auths is 487\"\n",
      "\n",
      "          UserName     Device            ProcessName ParentProcessName\n",
      "8965   Comp289117$ Comp289117            conhost.exe             csrss\n",
      "49105  Comp289117$ Comp289117         Proc556285.exe          services\n",
      "91293  Comp289117$ Comp289117         Proc782241.exe        Proc695356\n",
      "92967  Comp289117$ Comp289117         Proc113251.exe           svchost\n",
      "115225 Comp289117$ Comp289117   searchfilterhost.exe        Proc443607\n",
      "123121 Comp289117$ Comp289117           winlogon.exe        Proc721583\n",
      "138725 Comp289117$ Comp289117            svchost.exe          services\n",
      "139428 Comp289117$ Comp289117         Proc404963.exe          services\n",
      "144575 Comp289117$ Comp289117              csrss.exe        Proc721583\n",
      "159523 Comp289117$ Comp289117         Proc591093.exe          services\n",
      "160453 Comp289117$ Comp289117         Proc857443.exe          services\n",
      "168679 Comp289117$ Comp289117         Proc642841.exe          services\n",
      "179435 Comp289117$ Comp289117            cscript.exe          wmiprvse\n",
      "191288 Comp289117$ Comp289117         Proc493135.exe          services\n",
      "207075 Comp289117$ Comp289117         Proc453954.exe        Proc397204\n",
      "242496 Comp289117$ Comp289117         Proc397204.exe          services\n",
      "263779 Comp289117$ Comp289117         Proc721583.exe        Proc721583\n",
      "293266 Comp289117$ Comp289117            dllhost.exe           svchost\n",
      "317438 Comp289117$ Comp289117         Proc774171.exe          services\n",
      "321463 Comp289117$ Comp289117           rundll32.exe        Proc247259\n",
      "325138 Comp289117$ Comp289117         Proc364675.exe        Proc364675\n",
      "326330 Comp289117$ Comp289117           wmiprvse.exe           svchost\n",
      "329756 Comp289117$ Comp289117         Proc364675.exe          services\n",
      "330271 Comp289117$ Comp289117         Proc857443.exe           taskeng\n",
      "335590 Comp289117$ Comp289117         Proc957556.exe          winlogon\n",
      "374017 Comp289117$ Comp289117            taskeng.exe           svchost\n",
      "396344 Comp289117$ Comp289117         Proc695356.exe           taskeng\n",
      "418820 Comp289117$ Comp289117           rundll32.exe          services\n",
      "439809 Comp289117$ Comp289117              vssvc.exe          services\n",
      "447517 Comp289117$ Comp289117            cscript.exe        Proc247259\n",
      "484465 Comp289117$ Comp289117         Proc391839.exe        Proc387473\n",
      "536826 Comp289117$ Comp289117           taskhost.exe          services\n",
      "558723 Comp289117$ Comp289117         Proc612297.exe          services\n",
      "573827 Comp289117$ Comp289117         Proc079946.exe        Proc123913\n",
      "587003 Comp289117$ Comp289117 searchprotocolhost.exe        Proc443607\n",
      "610571 Comp289117$ Comp289117            conhost.exe             csrss\n",
      "701826 Comp289117$ Comp289117         Proc857443.exe          services\n",
      "745119 Comp289117$ Comp289117         Proc397204.exe          services\n",
      "781350 Comp289117$ Comp289117            dllhost.exe           svchost\n",
      "796007 Comp289117$ Comp289117         Proc774171.exe          services\n",
      "798502 Comp289117$ Comp289117           rundll32.exe        Proc247259\n",
      "800745 Comp289117$ Comp289117         Proc364675.exe        Proc364675\n",
      "803626 Comp289117$ Comp289117         Proc364675.exe          services\n",
      "830731 Comp289117$ Comp289117            taskeng.exe           svchost\n",
      "844559 Comp289117$ Comp289117         Proc695356.exe           taskeng\n",
      "875842 Comp289117$ Comp289117            cscript.exe        Proc247259\n",
      "884348 Comp289117$ Comp289117         Proc168519.exe          services\n",
      "915127 Comp289117$ Comp289117         Proc556285.exe          services\n",
      "930740 Comp289117$ Comp289117           taskhost.exe          services\n",
      "961599 Comp289117$ Comp289117 searchprotocolhost.exe        Proc443607\n",
      "       DailyCount\n",
      "8965           58\n",
      "49105           1\n",
      "91293           2\n",
      "92967          24\n",
      "115225         24\n",
      "123121          1\n",
      "138725          1\n",
      "139428          1\n",
      "144575          2\n",
      "159523          1\n",
      "160453         24\n",
      "168679         20\n",
      "179435          3\n",
      "191288          2\n",
      "207075          1\n",
      "242496          1\n",
      "263779          2\n",
      "293266        288\n",
      "317438          1\n",
      "321463          2\n",
      "325138          4\n",
      "326330        308\n",
      "329756          2\n",
      "330271         24\n",
      "335590          1\n",
      "374017         25\n",
      "396344          1\n",
      "418820          1\n",
      "439809          1\n",
      "447517         25\n",
      "484465          1\n",
      "536826         28\n",
      "558723          6\n",
      "573827          1\n",
      "587003         24\n",
      "610571         59\n",
      "701826         24\n",
      "745119          1\n",
      "781350        285\n",
      "796007          1\n",
      "798502          2\n",
      "800745          4\n",
      "803626          2\n",
      "830731         26\n",
      "844559          1\n",
      "875842         26\n",
      "884348          1\n",
      "915127          1\n",
      "930740         27\n",
      "961599         23\n",
      "\n",
      "[1] \"The number of suspect Procs is 3224\"\n",
      "\n",
      "The common devices are:\n",
      "[1] \"Comp289117\"\n",
      "\n",
      "With Auth frequencies:\n",
      "Comp289117 \n",
      "       487 \n",
      "\n",
      "And Proc frequencies:\n",
      "Comp289117 \n",
      "      3224 \n",
      "\n",
      "End of analysis."
     ]
    }
   ],
   "source": [
    "IsolatingMal(x='Comp289117$', n=50)"
   ]
  },
  {
   "cell_type": "markdown",
   "id": "d1744841",
   "metadata": {},
   "source": [
    "Interestingly, the base analysis isn't fruitful in this case. We'll have to use the in-depth approach of identifying failures:"
   ]
  },
  {
   "cell_type": "code",
   "execution_count": 40,
   "id": "341b4a8f",
   "metadata": {},
   "outputs": [
    {
     "name": "stdout",
     "output_type": "stream",
     "text": [
      "Is the information sufficient? Y/N:  N\n",
      "Is the information sufficient? Y/N:  N\n",
      "          UserName  SrcDevice       DstDevice Authent.Type Failure DailyCount\n",
      "48214  Comp289117$ Comp289117      Comp289117          TGS       0         20\n",
      "119144 Comp289117$ Comp289117 ActiveDirectory NetworkLogon       0        271\n",
      "120901 Comp289117$ Comp289117 ActiveDirectory          TGS       0         40\n",
      "156569 Comp289117$ Comp289117 ActiveDirectory          TGT       0          9\n",
      "298649 Comp289117$ Comp289117      Comp289117          TGS       0         23\n",
      "325110 Comp289117$ Comp289117 ActiveDirectory NetworkLogon       0        265\n",
      "327191 Comp289117$ Comp289117 ActiveDirectory          TGS       0         39\n",
      "370251 Comp289117$ Comp289117 ActiveDirectory          TGT       0          7\n",
      "427834 Comp289117$ Comp289117      Comp289117          TGS       0         20\n",
      "543453 Comp289117$ Comp289117 ActiveDirectory NetworkLogon       0        274\n",
      "545553 Comp289117$ Comp289117 ActiveDirectory          TGS       0         37\n",
      "588758 Comp289117$ Comp289117 ActiveDirectory          TGT       0          8\n",
      "737680 Comp289117$ Comp289117      Comp289117          TGS       0         22\n",
      "764680 Comp289117$ Comp289117 ActiveDirectory NetworkLogon       0        271\n",
      "766801 Comp289117$ Comp289117 ActiveDirectory          TGS       0         38\n",
      "810833 Comp289117$ Comp289117 ActiveDirectory          TGT       0          8\n",
      "893156 Comp289117$ Comp289117 ActiveDirectory NetworkLogon       0        286\n",
      "896317 Comp289117$ Comp289117 ActiveDirectory          TGS       0         36\n",
      "927722 Comp289117$ Comp289117      Comp289117          TGS       0         21\n",
      "960001 Comp289117$ Comp289117 ActiveDirectory          TGT       0          8\n",
      "[1] \"The number of suspect Auths is 487\"\n",
      "\n",
      "          UserName     Device          ProcessName ParentProcessName DailyCount\n",
      "8965   Comp289117$ Comp289117          conhost.exe             csrss         58\n",
      "49105  Comp289117$ Comp289117       Proc556285.exe          services          1\n",
      "91293  Comp289117$ Comp289117       Proc782241.exe        Proc695356          2\n",
      "92967  Comp289117$ Comp289117       Proc113251.exe           svchost         24\n",
      "115225 Comp289117$ Comp289117 searchfilterhost.exe        Proc443607         24\n",
      "123121 Comp289117$ Comp289117         winlogon.exe        Proc721583          1\n",
      "138725 Comp289117$ Comp289117          svchost.exe          services          1\n",
      "139428 Comp289117$ Comp289117       Proc404963.exe          services          1\n",
      "144575 Comp289117$ Comp289117            csrss.exe        Proc721583          2\n",
      "159523 Comp289117$ Comp289117       Proc591093.exe          services          1\n",
      "160453 Comp289117$ Comp289117       Proc857443.exe          services         24\n",
      "168679 Comp289117$ Comp289117       Proc642841.exe          services         20\n",
      "179435 Comp289117$ Comp289117          cscript.exe          wmiprvse          3\n",
      "191288 Comp289117$ Comp289117       Proc493135.exe          services          2\n",
      "207075 Comp289117$ Comp289117       Proc453954.exe        Proc397204          1\n",
      "242496 Comp289117$ Comp289117       Proc397204.exe          services          1\n",
      "263779 Comp289117$ Comp289117       Proc721583.exe        Proc721583          2\n",
      "293266 Comp289117$ Comp289117          dllhost.exe           svchost        288\n",
      "317438 Comp289117$ Comp289117       Proc774171.exe          services          1\n",
      "321463 Comp289117$ Comp289117         rundll32.exe        Proc247259          2\n",
      "\n",
      "[1] \"The number of suspect Procs is 3224\"\n",
      "\n",
      "The common devices are:\n",
      "[1] \"Comp289117\"\n",
      "\n",
      "With Auth frequencies:\n",
      "Comp289117 \n",
      "       487 \n",
      "\n",
      "And Proc frequencies:\n",
      "Comp289117 \n",
      "      3224 \n",
      "            UserName  SrcDevice  DstDevice Authent.Type Failure DailyCount\n",
      "11315460 Comp289117$ Comp289117 Comp958719 NetworkLogon       1          1\n",
      "11316439 Comp289117$ Comp289117 Comp924289 NetworkLogon       1          1\n",
      "11320870 Comp289117$ Comp289117 Comp252234 NetworkLogon       1          1\n",
      "11330284 Comp289117$ Comp289117 Comp266805 NetworkLogon       1          1\n",
      "11339162 Comp289117$ Comp289117 Comp605523 NetworkLogon       1          3\n",
      "11349477 Comp289117$ Comp289117 Comp145232 NetworkLogon       1          1\n",
      "11366402 Comp289117$ Comp289117 Comp161061 NetworkLogon       1          1\n",
      "11367573 Comp289117$ Comp289117 Comp708346 NetworkLogon       1          1\n",
      "11372020 Comp289117$ Comp289117 Comp626798 NetworkLogon       1          1\n",
      "11417539 Comp289117$ Comp289117 Comp106284 NetworkLogon       1          1\n",
      "11425470 Comp289117$ Comp289117 Comp460249 NetworkLogon       1          1\n",
      "11495243 Comp289117$ Comp289117 Comp514928 NetworkLogon       1          1\n",
      "11531810 Comp289117$ Comp289117 Comp537384 NetworkLogon       1          1\n",
      "\n",
      "[1] \"The number of times Auth fails is 13\"\n"
     ]
    },
    {
     "ename": "ERROR",
     "evalue": "Error in order(df$AuthType, decreasing = FALSE): argument 1 is not a vector\n",
     "output_type": "error",
     "traceback": [
      "Error in order(df$AuthType, decreasing = FALSE): argument 1 is not a vector\nTraceback:\n",
      "1. IsolatingMal(x = \"Comp289117$\", n = 20)",
      "2. print(table(df$AuthType[order(df$AuthType, decreasing = FALSE)]))   # at line 46 of file <text>",
      "3. table(df$AuthType[order(df$AuthType, decreasing = FALSE)])   # at line 46 of file <text>",
      "4. order(df$AuthType, decreasing = FALSE)   # at line 46 of file <text>"
     ]
    }
   ],
   "source": [
    "IsolatingMal(x='Comp289117$', n=20)"
   ]
  },
  {
   "cell_type": "markdown",
   "id": "b90d8031",
   "metadata": {},
   "source": [
    "Conclusions: This username was likely not conducting any malicious activity for the most part. Notably, all failures start at timestamp 11315460 and end at timestamp 11531810 (based on the failures indicated by the IDS in place). Logins however start as early as 48214. It's fairly reasonable to conclude that this username has become corrupted in the second half of the 90 days period, and possibly acted as a non-primary attempt of an attacker (eg. other means failed or were detected, so the attacker resorted to this). This is also backed by the fact that within the failures, there are 13 entries with as many distinct DstDevices - indicating lateral movement rather than a first attempt at infiltration. \n",
    "\n",
    "Verdict: _Very likely_ the attacker was conducting **Stage 7: Lateral Movement**. "
   ]
  },
  {
   "cell_type": "markdown",
   "id": "1548684c",
   "metadata": {},
   "source": [
    "## User317732"
   ]
  },
  {
   "cell_type": "code",
   "execution_count": 41,
   "id": "54a28d61",
   "metadata": {},
   "outputs": [
    {
     "name": "stdout",
     "output_type": "stream",
     "text": [
      "Is the information sufficient? Y/N:  Y\n",
      "         UserName  SrcDevice       DstDevice Authent.Type Failure DailyCount\n",
      "4573   User317732 Comp380829      Comp995183 NetworkLogon       0          1\n",
      "26326  User317732 Comp380829      Comp370444          TGS       0          3\n",
      "31493  User317732 Comp380829 ActiveDirectory          TGS       0         40\n",
      "75002  User317732 Comp380829      Comp303229          TGS       0          1\n",
      "77830  User317732 Comp380829 ActiveDirectory          TGT       0          6\n",
      "91379  User317732 Comp380829 ActiveDirectory NetworkLogon       0        599\n",
      "92828  User317732 Comp380829      Comp384394          TGS       0          1\n",
      "124889 User317732 Comp380829      Comp370444 NetworkLogon       0         24\n",
      "139814 User317732 Comp380829      Comp380829          TGS       0          1\n",
      "143787 User317732 Comp380829      Comp788417          TGS       0          6\n",
      "174269 User317732 Comp380829      Comp995183          TGS       0          3\n",
      "198348 User317732 Comp380829 ActiveDirectory NetworkLogon       0        503\n",
      "218613 User317732 Comp380829 ActiveDirectory          TGS       0         27\n",
      "271552 User317732 Comp380829      Comp303229          TGS       0          3\n",
      "274984 User317732 Comp380829 ActiveDirectory          TGT       0          4\n",
      "293134 User317732 Comp380829      Comp384394          TGS       0          3\n",
      "332063 User317732 Comp380829      Comp370444 NetworkLogon       0         24\n",
      "354847 User317732 Comp380829      Comp788417          TGS       0          4\n",
      "366635 User317732 Comp380829      Comp370444          TGS       0          2\n",
      "391439 User317732 Comp380829      Comp995183          TGS       0          1\n",
      "[1] \"The number of suspect Auths is 967\"\n",
      "\n",
      "          UserName     Device    ProcessName ParentProcessName DailyCount\n",
      "8502    User317732 Comp380829 Proc412499.exe        Proc003494         14\n",
      "75530   User317732 Comp380829 Proc864251.exe        Proc887334          3\n",
      "161831  User317732 Comp380829 Proc407594.exe        Proc412499         14\n",
      "350804  User317732 Comp380829 Proc468959.exe        Proc887334          1\n",
      "363865  User317732 Comp380829 Proc887334.exe        Proc658859          1\n",
      "375128  User317732 Comp380829 Proc003494.exe        Proc089893          2\n",
      "485063  User317732 Comp380829 Proc887334.exe        Proc089893          2\n",
      "603338  User317732 Comp380829 Proc898900.exe        Proc003494          3\n",
      "1377201 User317732 Comp380829 Proc442764.exe        Proc089893          1\n",
      "1382835 User317732 Comp380829 Proc532400.exe               cmd          1\n",
      "1434789 User317732 Comp380829 Proc407594.exe        Proc412499          6\n",
      "1440214 User317732 Comp380829 Proc597577.exe        Proc447231          1\n",
      "1451806 User317732 Comp380829 Proc131669.exe        Proc089893          1\n",
      "1471078 User317732 Comp380829        cmd.exe        Proc174492          2\n",
      "1487712 User317732 Comp380829 Proc230840.exe        Proc442764          1\n",
      "1512113 User317732 Comp380829 Proc412499.exe        Proc003494          6\n",
      "1513972 User317732 Comp380829 Proc744059.exe        Proc510632          1\n",
      "1522972 User317732 Comp380829 Proc982936.exe               cmd          2\n",
      "1529637 User317732 Comp380829 Proc687718.exe        Proc442764          1\n",
      "1537780 User317732 Comp380829 Proc658859.exe        Proc089893          1\n",
      "\n",
      "[1] \"The number of suspect Procs is 1437\"\n",
      "\n",
      "The common devices are:\n",
      "[1] \"Comp380829\"          \"EnterpriseAppServer\" \"Comp305428\"         \n",
      "[4] \"Comp154413\"         \n",
      "\n",
      "With Auth frequencies:\n",
      "\n",
      "         Comp380829 EnterpriseAppServer          Comp154413          Comp305428 \n",
      "                895                  38                  17                  17 \n",
      "\n",
      "And Proc frequencies:\n",
      "\n",
      "         Comp380829          Comp305428 EnterpriseAppServer          Comp154413 \n",
      "               1154                 140                  73                  70 \n",
      "\n",
      "End of analysis."
     ]
    }
   ],
   "source": [
    "IsolatingMal(x='User317732', n=20)"
   ]
  },
  {
   "cell_type": "markdown",
   "id": "e1a3ea86",
   "metadata": {},
   "source": [
    "Although the connections aren't massively interesting, Comp380829 clearly features more than any other within these connections. It's clear we require the in-depth analysis:"
   ]
  },
  {
   "cell_type": "code",
   "execution_count": 43,
   "id": "f03f472e",
   "metadata": {},
   "outputs": [
    {
     "name": "stdout",
     "output_type": "stream",
     "text": [
      "Is the information sufficient? Y/N:  N\n",
      "Is the information sufficient? Y/N:  Y\n",
      "         UserName  SrcDevice       DstDevice Authent.Type Failure DailyCount\n",
      "4573   User317732 Comp380829      Comp995183 NetworkLogon       0          1\n",
      "26326  User317732 Comp380829      Comp370444          TGS       0          3\n",
      "31493  User317732 Comp380829 ActiveDirectory          TGS       0         40\n",
      "75002  User317732 Comp380829      Comp303229          TGS       0          1\n",
      "77830  User317732 Comp380829 ActiveDirectory          TGT       0          6\n",
      "91379  User317732 Comp380829 ActiveDirectory NetworkLogon       0        599\n",
      "92828  User317732 Comp380829      Comp384394          TGS       0          1\n",
      "124889 User317732 Comp380829      Comp370444 NetworkLogon       0         24\n",
      "139814 User317732 Comp380829      Comp380829          TGS       0          1\n",
      "143787 User317732 Comp380829      Comp788417          TGS       0          6\n",
      "[1] \"The number of suspect Auths is 967\"\n",
      "\n",
      "          UserName     Device    ProcessName ParentProcessName DailyCount\n",
      "8502    User317732 Comp380829 Proc412499.exe        Proc003494         14\n",
      "75530   User317732 Comp380829 Proc864251.exe        Proc887334          3\n",
      "161831  User317732 Comp380829 Proc407594.exe        Proc412499         14\n",
      "350804  User317732 Comp380829 Proc468959.exe        Proc887334          1\n",
      "363865  User317732 Comp380829 Proc887334.exe        Proc658859          1\n",
      "375128  User317732 Comp380829 Proc003494.exe        Proc089893          2\n",
      "485063  User317732 Comp380829 Proc887334.exe        Proc089893          2\n",
      "603338  User317732 Comp380829 Proc898900.exe        Proc003494          3\n",
      "1377201 User317732 Comp380829 Proc442764.exe        Proc089893          1\n",
      "1382835 User317732 Comp380829 Proc532400.exe               cmd          1\n",
      "\n",
      "[1] \"The number of suspect Procs is 1437\"\n",
      "\n",
      "The common devices are:\n",
      "[1] \"Comp380829\"          \"EnterpriseAppServer\" \"Comp305428\"         \n",
      "[4] \"Comp154413\"         \n",
      "\n",
      "With Auth frequencies:\n",
      "\n",
      "         Comp380829 EnterpriseAppServer          Comp154413          Comp305428 \n",
      "                895                  38                  17                  17 \n",
      "\n",
      "And Proc frequencies:\n",
      "\n",
      "         Comp380829          Comp305428 EnterpriseAppServer          Comp154413 \n",
      "               1154                 140                  73                  70 \n",
      "           UserName           SrcDevice       DstDevice      Authent.Type\n",
      "3042279  User317732 EnterpriseAppServer ActiveDirectory      NetworkLogon\n",
      "10199007 User317732          Comp380829      Comp395285      NetworkLogon\n",
      "10346956 User317732          Comp380829            None CachedInteractive\n",
      "10433958 User317732          Comp380829      Comp395285      NetworkLogon\n",
      "10644874 User317732 EnterpriseAppServer ActiveDirectory      NetworkLogon\n",
      "10918938 User317732 EnterpriseAppServer ActiveDirectory      NetworkLogon\n",
      "11432288 User317732          Comp380829      Comp995183      NetworkLogon\n",
      "         Failure DailyCount\n",
      "3042279        1          1\n",
      "10199007       1          4\n",
      "10346956       1          1\n",
      "10433958       1          2\n",
      "10644874       1          1\n",
      "10918938       1          1\n",
      "11432288       1          2\n",
      "\n",
      "[1] \"The number of times Auth fails is 7\"\n",
      "\n",
      "End of analysis."
     ]
    }
   ],
   "source": [
    "IsolatingMal(x='User317732', n=10)"
   ]
  },
  {
   "cell_type": "markdown",
   "id": "80378d0a",
   "metadata": {},
   "source": [
    "Interestingly enough, there were very few failures in these exchanges. Comp380829 and 'EnterpriseAppServer' are the actors involved in them, and they're also the most frequent authenticators.\n",
    "\n",
    "Conclusions: This is the most complicated case so far, where nothing seems to be indicating anomalous events. Apart from the first failure, all others take place between timestamps 10199007 and 11432288 which form a somewhat restrained interval. These may or may not be indicative of an attack, though I'm personally inclined to believe the former. Event 10346956 is particularly interesting in this sense, where it seems like the user was attempting to cache to an unknown device (See start notes to understand why we know it is unknown).\n",
    "\n",
    "Verdict: _Somewhat likely_ the attacker was conducting **Stage 6: Command & Control**. Needs further study."
   ]
  },
  {
   "cell_type": "markdown",
   "id": "90d95f8c",
   "metadata": {},
   "source": [
    "## User203147"
   ]
  },
  {
   "cell_type": "code",
   "execution_count": 45,
   "id": "57503243",
   "metadata": {},
   "outputs": [
    {
     "name": "stdout",
     "output_type": "stream",
     "text": [
      "Is the information sufficient? Y/N:  Y\n",
      "          UserName  SrcDevice       DstDevice      Authent.Type Failure\n",
      "660070  User203147 Comp679250 ActiveDirectory      NetworkLogon       0\n",
      "673275  User203147 Comp679250            None  InteractiveLogon       0\n",
      "673619  User203147 Comp679250      Comp661433               TGS       0\n",
      "694776  User203147 Comp679250      Comp056180               TGS       0\n",
      "696466  User203147 Comp679250      Comp457448               TGS       0\n",
      "718596  User203147 Comp679250 ActiveDirectory               TGT       0\n",
      "732888  User203147 Comp679250      Comp679250               TGS       0\n",
      "763187  User203147 Comp679250      Comp788417               TGS       0\n",
      "774390  User203147 Comp679250            None   WorkstationLock       0\n",
      "794942  User203147 Comp679250            None WorkstationUnlock       0\n",
      "799523  User203147 Comp679250      Comp056180      NetworkLogon       0\n",
      "801322  User203147 Comp679250      Comp004340               TGS       0\n",
      "802560  User203147 Comp679250            None WorkstationUnlock       1\n",
      "816413  User203147 Comp679250 ActiveDirectory               TGS       0\n",
      "823831  User203147 Comp679250      Comp004340      NetworkLogon       0\n",
      "1232731 User203147 Comp679250      Comp370444               TGS       0\n",
      "1242199 User203147 Comp679250 ActiveDirectory      NetworkLogon       0\n",
      "1255978 User203147 Comp679250            None  InteractiveLogon       0\n",
      "1265930 User203147 Comp679250            None WorkstationUnlock       0\n",
      "1271862 User203147 Comp679250            None  InteractiveLogon       1\n",
      "        DailyCount\n",
      "660070         118\n",
      "673275           5\n",
      "673619           1\n",
      "694776           1\n",
      "696466          14\n",
      "718596          15\n",
      "732888          14\n",
      "763187          13\n",
      "774390          10\n",
      "794942          27\n",
      "799523           1\n",
      "801322           4\n",
      "802560           2\n",
      "816413          38\n",
      "823831           4\n",
      "1232731          5\n",
      "1242199        147\n",
      "1255978          3\n",
      "1265930         27\n",
      "1271862          4\n",
      "[1] \"The number of suspect Auths is 1247\"\n",
      "\n",
      "          UserName     Device            ProcessName ParentProcessName\n",
      "2055489 User203147 Comp679250         Proc751725.exe    Proc174492.exe\n",
      "2062098 User203147 Comp679250         Proc575117.exe    Proc536198.exe\n",
      "2063438 User203147 Comp679250         Proc843827.exe       svchost.exe\n",
      "2068542 User203147 Comp679250         Proc876508.exe       svchost.exe\n",
      "2071614 User203147 Comp679250            conhost.exe    Proc444602.exe\n",
      "2073918 User203147 Comp679250         Proc524518.exe    Proc089893.exe\n",
      "2080967 User203147 Comp679250            conhost.exe    Proc321387.exe\n",
      "2087565 User203147 Comp679250                cmd.exe    Proc581243.exe\n",
      "2089490 User203147 Comp679250         Proc575117.exe    Proc089893.exe\n",
      "2091196 User203147 Comp679250         Proc439156.exe       svchost.exe\n",
      "2105499 User203147 Comp679250         Proc321387.exe    Proc321387.exe\n",
      "2109865 User203147 Comp679250         Proc809840.exe    Proc161795.exe\n",
      "2117712 User203147 Comp679250            svchost.exe      services.exe\n",
      "2124571 User203147 Comp679250 searchprotocolhost.exe    Proc443607.exe\n",
      "2135684 User203147 Comp679250         Proc321387.exe    Proc575117.exe\n",
      "2135988 User203147 Comp679250         Proc089893.exe    Proc471717.exe\n",
      "2137043 User203147 Comp679250         Proc468298.exe    Proc123913.exe\n",
      "2143604 User203147 Comp679250         Proc154475.exe    Proc387473.exe\n",
      "2143673 User203147 Comp679250           werfault.exe    Proc089893.exe\n",
      "2150158 User203147 Comp679250         Proc864251.exe    Proc887334.exe\n",
      "        DailyCount\n",
      "2055489          4\n",
      "2062098          5\n",
      "2063438          5\n",
      "2068542          3\n",
      "2071614          2\n",
      "2073918          5\n",
      "2080967          5\n",
      "2087565          5\n",
      "2089490          5\n",
      "2091196          1\n",
      "2105499          5\n",
      "2109865          2\n",
      "2117712          6\n",
      "2124571         37\n",
      "2135684          5\n",
      "2135988          5\n",
      "2137043          5\n",
      "2143604          7\n",
      "2143673          1\n",
      "2150158          7\n",
      "\n",
      "[1] \"The number of suspect Procs is 4672\"\n",
      "\n",
      "The common devices are:\n",
      "[1] \"Comp679250\" \"Comp233708\" \"Comp154413\"\n",
      "\n",
      "With Auth frequencies:\n",
      "\n",
      "Comp679250 Comp154413 Comp233708 \n",
      "      1177         46         24 \n",
      "\n",
      "And Proc frequencies:\n",
      "\n",
      "Comp679250 Comp154413 Comp233708 \n",
      "      4265        312         95 \n",
      "\n",
      "End of analysis."
     ]
    }
   ],
   "source": [
    "IsolatingMal(x='User203147', n=20)"
   ]
  },
  {
   "cell_type": "markdown",
   "id": "ee996cab",
   "metadata": {},
   "source": [
    "Comp679250 is making dubious requests to (un)lock workstation after TGS'ing. The Dst's feature as 'None' since the requests are likely done locally. It seems like User203147 typed their password incorrectly both locally and logging in to the platform so far. Needs investigation:"
   ]
  },
  {
   "cell_type": "code",
   "execution_count": 46,
   "id": "ec8b2bdc",
   "metadata": {},
   "outputs": [
    {
     "name": "stdout",
     "output_type": "stream",
     "text": [
      "Is the information sufficient? Y/N:  N\n",
      "Is the information sufficient? Y/N:  N\n",
      "          UserName  SrcDevice           DstDevice      Authent.Type Failure\n",
      "660070  User203147 Comp679250     ActiveDirectory      NetworkLogon       0\n",
      "673275  User203147 Comp679250                None  InteractiveLogon       0\n",
      "673619  User203147 Comp679250          Comp661433               TGS       0\n",
      "694776  User203147 Comp679250          Comp056180               TGS       0\n",
      "696466  User203147 Comp679250          Comp457448               TGS       0\n",
      "718596  User203147 Comp679250     ActiveDirectory               TGT       0\n",
      "732888  User203147 Comp679250          Comp679250               TGS       0\n",
      "763187  User203147 Comp679250          Comp788417               TGS       0\n",
      "774390  User203147 Comp679250                None   WorkstationLock       0\n",
      "794942  User203147 Comp679250                None WorkstationUnlock       0\n",
      "799523  User203147 Comp679250          Comp056180      NetworkLogon       0\n",
      "801322  User203147 Comp679250          Comp004340               TGS       0\n",
      "802560  User203147 Comp679250                None WorkstationUnlock       1\n",
      "816413  User203147 Comp679250     ActiveDirectory               TGS       0\n",
      "823831  User203147 Comp679250          Comp004340      NetworkLogon       0\n",
      "1232731 User203147 Comp679250          Comp370444               TGS       0\n",
      "1242199 User203147 Comp679250     ActiveDirectory      NetworkLogon       0\n",
      "1255978 User203147 Comp679250                None  InteractiveLogon       0\n",
      "1265930 User203147 Comp679250                None WorkstationUnlock       0\n",
      "1271862 User203147 Comp679250                None  InteractiveLogon       1\n",
      "1280174 User203147 Comp679250          Comp457448               TGS       0\n",
      "1303183 User203147 Comp679250     ActiveDirectory               TGT       0\n",
      "1318065 User203147 Comp679250          Comp679250               TGS       0\n",
      "1338231 User203147 Comp679250          Comp370444      NetworkLogon       0\n",
      "1349672 User203147 Comp679250          Comp788417               TGS       0\n",
      "1361279 User203147 Comp679250                None   WorkstationLock       0\n",
      "1387462 User203147 Comp679250          Comp056180      NetworkLogon       0\n",
      "1389302 User203147 Comp679250          Comp004340               TGS       0\n",
      "1390553 User203147 Comp679250                None WorkstationUnlock       1\n",
      "1392413 User203147 Comp679250          Comp056180               TGS       0\n",
      "1405087 User203147 Comp679250     ActiveDirectory               TGS       0\n",
      "1407943 User203147 Comp679250          Comp004340      NetworkLogon       0\n",
      "1444683 User203147 Comp679250 EnterpriseAppServer      NetworkLogon       0\n",
      "1471076 User203147 Comp679250     ActiveDirectory      NetworkLogon       0\n",
      "1480634 User203147 Comp679250          Comp154413 RemoteInteractive       0\n",
      "1504714 User203147 Comp679250          Comp056180               TGS       0\n",
      "1527917 User203147 Comp679250     ActiveDirectory               TGT       0\n",
      "1541728 User203147 Comp679250          Comp679250               TGS       0\n",
      "1542202 User203147 Comp679250          Comp370444               TGS       0\n",
      "1556896 User203147 Comp679250          Comp370444      NetworkLogon       0\n",
      "1570958 User203147 Comp679250          Comp788417               TGS       0\n",
      "1581815 User203147 Comp679250                None   WorkstationLock       0\n",
      "1601735 User203147 Comp679250                None WorkstationUnlock       0\n",
      "1622553 User203147 Comp679250     ActiveDirectory               TGS       0\n",
      "1638415 User203147 Comp679250          Comp056180      NetworkLogon       0\n",
      "1689803 User203147 Comp679250     ActiveDirectory      NetworkLogon       0\n",
      "1700105 User203147 Comp679250          Comp154413 RemoteInteractive       0\n",
      "1703643 User203147 Comp679250                None  InteractiveLogon       0\n",
      "1713616 User203147 Comp679250                None WorkstationUnlock       0\n",
      "1726032 User203147 Comp679250          Comp056180               TGS       0\n",
      "1750767 User203147 Comp679250     ActiveDirectory               TGT       0\n",
      "1765516 User203147 Comp679250          Comp679250               TGS       0\n",
      "1766025 User203147 Comp679250          Comp370444               TGS       0\n",
      "1781708 User203147 Comp679250          Comp370444      NetworkLogon       0\n",
      "1796885 User203147 Comp679250          Comp788417               TGS       0\n",
      "1808523 User203147 Comp679250                None   WorkstationLock       0\n",
      "1834650 User203147 Comp679250          Comp056180      NetworkLogon       0\n",
      "1836504 User203147 Comp679250          Comp004340               TGS       0\n",
      "1852194 User203147 Comp679250     ActiveDirectory               TGS       0\n",
      "1855076 User203147 Comp679250          Comp004340      NetworkLogon       0\n",
      "1925952 User203147 Comp679250     ActiveDirectory      NetworkLogon       0\n",
      "1967933 User203147 Comp679250          Comp457448               TGS       0\n",
      "1993269 User203147 Comp679250     ActiveDirectory               TGT       0\n",
      "2006595 User203147 Comp679250          Comp679250               TGS       0\n",
      "2010239 User203147 Comp679250          Comp370444               TGS       0\n",
      "2027570 User203147 Comp679250          Comp370444      NetworkLogon       0\n",
      "2044450 User203147 Comp679250          Comp788417               TGS       0\n",
      "2057314 User203147 Comp679250                None   WorkstationLock       0\n",
      "2080814 User203147 Comp679250                None WorkstationUnlock       0\n",
      "2086063 User203147 Comp679250          Comp056180      NetworkLogon       0\n",
      "2089479 User203147 Comp679250                None WorkstationUnlock       1\n",
      "2091481 User203147 Comp679250          Comp056180               TGS       0\n",
      "2105293 User203147 Comp679250     ActiveDirectory               TGS       0\n",
      "2768193 User203147 Comp679250 EnterpriseAppServer      NetworkLogon       0\n",
      "2774598 User203147 Comp233708     ActiveDirectory               TGS       0\n",
      "2795063 User203147 Comp679250     ActiveDirectory      NetworkLogon       0\n",
      "2799883 User203147 Comp233708                None  InteractiveLogon       0\n",
      "2808107 User203147 Comp679250                None  InteractiveLogon       0\n",
      "2817557 User203147 Comp679250                None WorkstationUnlock       0\n",
      "2829483 User203147 Comp679250          Comp056180               TGS       0\n",
      "2839005 User203147 Comp233708          Comp457448               TGS       0\n",
      "2839191 User203147 Comp233708          Comp233708               TGS       0\n",
      "2844650 User203147 Comp233708          Comp004340      NetworkLogon       0\n",
      "2853107 User203147 Comp679250     ActiveDirectory               TGT       0\n",
      "2861938 User203147 Comp233708                None   WorkstationLock       0\n",
      "2864658 User203147 Comp679250          Comp679250               TGS       0\n",
      "2867765 User203147 Comp679250          Comp370444               TGS       0\n",
      "2882729 User203147 Comp679250          Comp370444      NetworkLogon       0\n",
      "2897155 User203147 Comp679250          Comp788417               TGS       0\n",
      "2908176 User203147 Comp679250                None   WorkstationLock       0\n",
      "2932974 User203147 Comp679250          Comp056180      NetworkLogon       0\n",
      "2936642 User203147 Comp233708          Comp004340               TGS       0\n",
      "2937717 User203147 Comp233708     ActiveDirectory               TGT       0\n",
      "2944868 User203147 Comp233708                None WorkstationUnlock       0\n",
      "2949680 User203147 Comp679250     ActiveDirectory               TGS       0\n",
      "2962766 User203147 Comp233708     ActiveDirectory      NetworkLogon       0\n",
      "2987746 User203147 Comp679250 EnterpriseAppServer      NetworkLogon       0\n",
      "3013545 User203147 Comp679250     ActiveDirectory      NetworkLogon       0\n",
      "3026003 User203147 Comp679250                None  InteractiveLogon       0\n",
      "3034786 User203147 Comp679250                None   WorkstationLock       0\n",
      "        DailyCount\n",
      "660070         118\n",
      "673275           5\n",
      "673619           1\n",
      "694776           1\n",
      "696466          14\n",
      "718596          15\n",
      "732888          14\n",
      "763187          13\n",
      "774390          10\n",
      "794942          27\n",
      "799523           1\n",
      "801322           4\n",
      "802560           2\n",
      "816413          38\n",
      "823831           4\n",
      "1232731          5\n",
      "1242199        147\n",
      "1255978          3\n",
      "1265930         27\n",
      "1271862          4\n",
      "1280174          9\n",
      "1303183         14\n",
      "1318065         12\n",
      "1338231         43\n",
      "1349672         12\n",
      "1361279          9\n",
      "1387462          5\n",
      "1389302          3\n",
      "1390553          1\n",
      "1392413          4\n",
      "1405087         42\n",
      "1407943          3\n",
      "1444683         30\n",
      "1471076         89\n",
      "1480634          1\n",
      "1504714          2\n",
      "1527917          8\n",
      "1541728          7\n",
      "1542202          7\n",
      "1556896         17\n",
      "1570958          8\n",
      "1581815          7\n",
      "1601735         21\n",
      "1622553         19\n",
      "1638415          2\n",
      "1689803        139\n",
      "1700105          1\n",
      "1703643          1\n",
      "1713616         24\n",
      "1726032          3\n",
      "1750767         11\n",
      "1765516          9\n",
      "1766025          9\n",
      "1781708         15\n",
      "1796885         10\n",
      "1808523          7\n",
      "1834650          3\n",
      "1836504          1\n",
      "1852194         29\n",
      "1855076          1\n",
      "1925952        159\n",
      "1967933          2\n",
      "1993269         11\n",
      "2006595          9\n",
      "2010239          8\n",
      "2027570          5\n",
      "2044450         11\n",
      "2057314         10\n",
      "2080814         27\n",
      "2086063          1\n",
      "2089479          1\n",
      "2091481          1\n",
      "2105293         26\n",
      "2768193         49\n",
      "2774598          8\n",
      "2795063        109\n",
      "2799883          1\n",
      "2808107          1\n",
      "2817557         33\n",
      "2829483          2\n",
      "2839005          2\n",
      "2839191          2\n",
      "2844650          1\n",
      "2853107         15\n",
      "2861938          1\n",
      "2864658         12\n",
      "2867765         12\n",
      "2882729         20\n",
      "2897155         15\n",
      "2908176         10\n",
      "2932974          2\n",
      "2936642          1\n",
      "2937717          2\n",
      "2944868          3\n",
      "2949680         34\n",
      "2962766         19\n",
      "2987746          7\n",
      "3013545         98\n",
      "3026003          2\n",
      "3034786          9\n",
      "[1] \"The number of suspect Auths is 1247\"\n",
      "\n",
      "          UserName     Device            ProcessName ParentProcessName\n",
      "2055489 User203147 Comp679250         Proc751725.exe    Proc174492.exe\n",
      "2062098 User203147 Comp679250         Proc575117.exe    Proc536198.exe\n",
      "2063438 User203147 Comp679250         Proc843827.exe       svchost.exe\n",
      "2068542 User203147 Comp679250         Proc876508.exe       svchost.exe\n",
      "2071614 User203147 Comp679250            conhost.exe    Proc444602.exe\n",
      "2073918 User203147 Comp679250         Proc524518.exe    Proc089893.exe\n",
      "2080967 User203147 Comp679250            conhost.exe    Proc321387.exe\n",
      "2087565 User203147 Comp679250                cmd.exe    Proc581243.exe\n",
      "2089490 User203147 Comp679250         Proc575117.exe    Proc089893.exe\n",
      "2091196 User203147 Comp679250         Proc439156.exe       svchost.exe\n",
      "2105499 User203147 Comp679250         Proc321387.exe    Proc321387.exe\n",
      "2109865 User203147 Comp679250         Proc809840.exe    Proc161795.exe\n",
      "2117712 User203147 Comp679250            svchost.exe      services.exe\n",
      "2124571 User203147 Comp679250 searchprotocolhost.exe    Proc443607.exe\n",
      "2135684 User203147 Comp679250         Proc321387.exe    Proc575117.exe\n",
      "2135988 User203147 Comp679250         Proc089893.exe    Proc471717.exe\n",
      "2137043 User203147 Comp679250         Proc468298.exe    Proc123913.exe\n",
      "2143604 User203147 Comp679250         Proc154475.exe    Proc387473.exe\n",
      "2143673 User203147 Comp679250           werfault.exe    Proc089893.exe\n",
      "2150158 User203147 Comp679250         Proc864251.exe    Proc887334.exe\n",
      "2156034 User203147 Comp679250            conhost.exe    Proc757224.exe\n",
      "2156082 User203147 Comp679250         Proc402629.exe       svchost.exe\n",
      "2161701 User203147 Comp679250         Proc247259.exe    Proc247259.exe\n",
      "2165002 User203147 Comp679250           rundll32.exe      rundll32.exe\n",
      "2173187 User203147 Comp679250         Proc163003.exe       svchost.exe\n",
      "2178547 User203147 Comp679250         Proc161795.exe    Proc272643.exe\n",
      "2180019 User203147 Comp679250         Proc443099.exe       svchost.exe\n",
      "2186664 User203147 Comp679250            cscript.exe           cmd.exe\n",
      "2200191 User203147 Comp679250           werfault.exe    Proc230433.exe\n",
      "2205033 User203147 Comp679250         Proc403010.exe       svchost.exe\n",
      "2211750 User203147 Comp679250         Proc979187.exe    Proc732050.tmp\n",
      "2216379 User203147 Comp679250         Proc582773.exe       svchost.exe\n",
      "2219490 User203147 Comp679250         Proc809840.exe    Proc800372.exe\n",
      "2221297 User203147 Comp679250         Proc781677.exe       svchost.exe\n",
      "2222334 User203147 Comp679250         Proc996405.exe           cmd.exe\n",
      "2223653 User203147 Comp679250         Proc397288.exe    Proc575117.exe\n",
      "2234384 User203147 Comp679250         Proc084690.exe    Proc089893.exe\n",
      "2241167 User203147 Comp679250         Proc169026.exe       svchost.exe\n",
      "2242202 User203147 Comp679250         Proc028520.exe    Proc089893.exe\n",
      "2247952 User203147 Comp679250         Proc887334.exe    Proc658859.exe\n",
      "2253388 User203147 Comp679250         Proc960852.exe    Proc887334.exe\n",
      "2258845 User203147 Comp679250         Proc471717.exe      winlogon.exe\n",
      "2269369 User203147 Comp679250         Proc807415.exe           cmd.exe\n",
      "2270129 User203147 Comp679250         Proc230433.exe       svchost.exe\n",
      "2283191 User203147 Comp679250         Proc144564.exe    Proc089893.exe\n",
      "2288271 User203147 Comp679250         Proc494867.exe           cmd.exe\n",
      "2293557 User203147 Comp679250           rundll32.exe       svchost.exe\n",
      "2298381 User203147 Comp679250         Proc494867.exe    Proc839886.exe\n",
      "2300937 User203147 Comp679250         Proc800372.exe    Proc442764.exe\n",
      "2338193 User203147 Comp679250         Proc647302.exe    Proc005910.exe\n",
      "2342233 User203147 Comp679250         Proc299670.exe       svchost.exe\n",
      "2351402 User203147 Comp679250         Proc161842.exe       svchost.exe\n",
      "2352525 User203147 Comp679250         Proc249526.scr      winlogon.exe\n",
      "2353340 User203147 Comp679250         Proc602744.exe       cscript.exe\n",
      "2360907 User203147 Comp679250         Proc622694.exe    Proc622694.exe\n",
      "2365989 User203147 Comp679250         Proc161924.exe       svchost.exe\n",
      "2373442 User203147 Comp679250         Proc294632.exe    Proc575117.exe\n",
      "2387461 User203147 Comp679250         Proc839886.exe           cmd.exe\n",
      "2393737 User203147 Comp679250         Proc161144.exe       svchost.exe\n",
      "2398788 User203147 Comp679250         Proc662861.exe    Proc089893.exe\n",
      "2403509 User203147 Comp679250         Proc899467.exe       svchost.exe\n",
      "2427650 User203147 Comp679250           rundll32.exe    Proc089893.exe\n",
      "2438480 User203147 Comp679250         Proc161795.exe    Proc089893.exe\n",
      "2445705 User203147 Comp679250         Proc621927.exe    Proc621927.exe\n",
      "2445931 User203147 Comp679250         Proc391839.exe    Proc387473.exe\n",
      "2452501 User203147 Comp679250         Proc089893.exe    Proc089893.exe\n",
      "2456024 User203147 Comp679250            conhost.exe    Proc621927.exe\n",
      "2456083 User203147 Comp679250         Proc152830.exe       svchost.exe\n",
      "2466669 User203147 Comp679250         Proc887334.exe    Proc084690.exe\n",
      "2468456 User203147 Comp679250         Proc789691.exe       svchost.exe\n",
      "2471966 User203147 Comp679250         Proc972731.exe    Proc247259.exe\n",
      "2474332 User203147 Comp679250         Proc827793.exe    Proc192919.exe\n",
      "2478654 User203147 Comp679250         Proc192919.exe    Proc780195.exe\n",
      "2485222 User203147 Comp679250         Proc982936.exe           cmd.exe\n",
      "2488357 User203147 Comp679250         Proc887334.exe    Proc028520.exe\n",
      "2491515 User203147 Comp679250         Proc023414.exe      winlogon.exe\n",
      "2508580 User203147 Comp679250            conhost.exe    Proc602744.exe\n",
      "2518868 User203147 Comp679250         Proc578694.exe    Proc089893.exe\n",
      "2527786 User203147 Comp679250            conhost.exe    Proc751725.exe\n",
      "2535874 User203147 Comp679250         Proc303506.exe    Proc144564.exe\n",
      "2540565 User203147 Comp679250         Proc315473.exe    Proc662861.exe\n",
      "2545249 User203147 Comp679250           werfault.exe       svchost.exe\n",
      "2547152 User203147 Comp679250         Proc900938.exe    Proc887334.exe\n",
      "2555332 User203147 Comp679250         Proc152713.exe       svchost.exe\n",
      "2582709 User203147 Comp679250         Proc005910.exe    Proc084690.exe\n",
      "2583579 User203147 Comp679250         Proc174492.exe       svchost.exe\n",
      "2591984 User203147 Comp679250         Proc622694.exe    Proc864251.exe\n",
      "2621662 User203147 Comp679250         Proc025542.exe    Proc887334.exe\n",
      "2622308 User203147 Comp679250         Proc392607.exe       svchost.exe\n",
      "2622585 User203147 Comp679250         Proc175320.exe    Proc163003.exe\n",
      "2628289 User203147 Comp679250            dllhost.exe       svchost.exe\n",
      "2631030 User203147 Comp679250         Proc887334.exe    Proc089893.exe\n",
      "2633409 User203147 Comp679250         Proc272643.exe    Proc809840.exe\n",
      "2636539 User203147 Comp679250                cmd.exe    Proc210680.exe\n",
      "2638360 User203147 Comp679250         Proc843827.exe    Proc089893.exe\n",
      "2639720 User203147 Comp679250            conhost.exe           cmd.exe\n",
      "2653498 User203147 Comp679250         Proc364435.exe       svchost.exe\n",
      "2654875 User203147 Comp679250         Proc908852.exe       svchost.exe\n",
      "2657921 User203147 Comp679250         Proc497377.exe    Proc154475.exe\n",
      "2661095 User203147 Comp679250         Proc757224.exe    Proc028520.exe\n",
      "        DailyCount\n",
      "2055489          4\n",
      "2062098          5\n",
      "2063438          5\n",
      "2068542          3\n",
      "2071614          2\n",
      "2073918          5\n",
      "2080967          5\n",
      "2087565          5\n",
      "2089490          5\n",
      "2091196          1\n",
      "2105499          5\n",
      "2109865          2\n",
      "2117712          6\n",
      "2124571         37\n",
      "2135684          5\n",
      "2135988          5\n",
      "2137043          5\n",
      "2143604          7\n",
      "2143673          1\n",
      "2150158          7\n",
      "2156034          2\n",
      "2156082         48\n",
      "2161701          5\n",
      "2165002          1\n",
      "2173187          1\n",
      "2178547          2\n",
      "2180019          6\n",
      "2186664          1\n",
      "2200191          1\n",
      "2205033        101\n",
      "2211750          1\n",
      "2216379          5\n",
      "2219490          1\n",
      "2221297          4\n",
      "2222334          3\n",
      "2223653         10\n",
      "2234384          4\n",
      "2241167          5\n",
      "2242202          2\n",
      "2247952          1\n",
      "2253388          1\n",
      "2258845          5\n",
      "2269369          5\n",
      "2270129          8\n",
      "2283191          1\n",
      "2288271          5\n",
      "2293557          4\n",
      "2298381         18\n",
      "2300937          3\n",
      "2338193          1\n",
      "2342233          1\n",
      "2351402          3\n",
      "2352525          1\n",
      "2353340          1\n",
      "2360907          1\n",
      "2365989          6\n",
      "2373442          5\n",
      "2387461          5\n",
      "2393737          5\n",
      "2398788          2\n",
      "2403509         15\n",
      "2427650          4\n",
      "2438480          9\n",
      "2445705          2\n",
      "2445931         34\n",
      "2452501          1\n",
      "2456024          2\n",
      "2456083          4\n",
      "2466669          1\n",
      "2468456          7\n",
      "2471966          1\n",
      "2474332          1\n",
      "2478654          1\n",
      "2485222          8\n",
      "2488357          1\n",
      "2491515          1\n",
      "2508580          1\n",
      "2518868          5\n",
      "2527786          4\n",
      "2535874          1\n",
      "2540565          1\n",
      "2545249          2\n",
      "2547152          1\n",
      "2555332          8\n",
      "2582709          1\n",
      "2583579         10\n",
      "2591984          1\n",
      "2621662          1\n",
      "2622308          1\n",
      "2622585          1\n",
      "2628289         64\n",
      "2631030          4\n",
      "2633409          3\n",
      "2636539          1\n",
      "2638360          5\n",
      "2639720         14\n",
      "2653498          3\n",
      "2654875          5\n",
      "2657921          8\n",
      "2661095          2\n",
      "\n",
      "[1] \"The number of suspect Procs is 4672\"\n",
      "\n",
      "The common devices are:\n",
      "[1] \"Comp679250\" \"Comp233708\" \"Comp154413\"\n",
      "\n",
      "With Auth frequencies:\n",
      "\n",
      "Comp679250 Comp154413 Comp233708 \n",
      "      1177         46         24 \n",
      "\n",
      "And Proc frequencies:\n",
      "\n",
      "Comp679250 Comp154413 Comp233708 \n",
      "      4265        312         95 \n",
      "           UserName  SrcDevice           DstDevice      Authent.Type Failure\n",
      "802560   User203147 Comp679250                None WorkstationUnlock       1\n",
      "1271862  User203147 Comp679250                None  InteractiveLogon       1\n",
      "1390553  User203147 Comp679250                None WorkstationUnlock       1\n",
      "2089479  User203147 Comp679250                None WorkstationUnlock       1\n",
      "4808739  User203147 Comp679250                None WorkstationUnlock       1\n",
      "5225893  User203147 Comp679250                None WorkstationUnlock       1\n",
      "6205729  User203147 Comp679250                None WorkstationUnlock       1\n",
      "6657311  User203147 Comp679250                None WorkstationUnlock       1\n",
      "7234078  User203147 Comp679250                None WorkstationUnlock       1\n",
      "7480106  User203147 Comp679250                None WorkstationUnlock       1\n",
      "8615470  User203147 Comp679250                None  InteractiveLogon       1\n",
      "8808587  User203147 Comp679250          Comp154413      NetworkLogon       1\n",
      "8919126  User203147 Comp679250                None WorkstationUnlock       1\n",
      "9156638  User203147 Comp679250                None WorkstationUnlock       1\n",
      "9393926  User203147 Comp679250                None WorkstationUnlock       1\n",
      "10458609 User203147 Comp679250          Comp342410      NetworkLogon       1\n",
      "10507761 User203147 Comp679250          Comp599337      NetworkLogon       1\n",
      "11035624 User203147 Comp679250                None WorkstationUnlock       1\n",
      "11194814 User203147 Comp679250 EnterpriseAppServer      NetworkLogon       1\n",
      "11262747 User203147 Comp679250                None WorkstationUnlock       1\n",
      "12541819 User203147 Comp679250          Comp896516      NetworkLogon       1\n",
      "13623614 User203147 Comp679250                None WorkstationUnlock       1\n",
      "13646367 User203147 Comp679250                None  InteractiveLogon       1\n",
      "13679419 User203147 Comp679250          Comp679250      NetworkLogon       1\n",
      "13770372 User203147 Comp679250                None             Batch       1\n",
      "13787496 User203147 Comp679250                None  InteractiveLogon       1\n",
      "13864575 User203147 Comp679250                None           Service       1\n",
      "13910115 User203147 Comp679250          Comp679250      NetworkLogon       1\n",
      "15265425 User203147 Comp679250                None WorkstationUnlock       1\n",
      "         DailyCount\n",
      "802560            2\n",
      "1271862           4\n",
      "1390553           1\n",
      "2089479           1\n",
      "4808739           1\n",
      "5225893           1\n",
      "6205729           2\n",
      "6657311           1\n",
      "7234078           1\n",
      "7480106           1\n",
      "8615470           1\n",
      "8808587           3\n",
      "8919126           1\n",
      "9156638           1\n",
      "9393926           2\n",
      "10458609          1\n",
      "10507761          1\n",
      "11035624          2\n",
      "11194814          7\n",
      "11262747          2\n",
      "12541819         13\n",
      "13623614          1\n",
      "13646367          1\n",
      "13679419         25\n",
      "13770372          3\n",
      "13787496          1\n",
      "13864575          3\n",
      "13910115          1\n",
      "15265425          2\n",
      "\n",
      "[1] \"The number of times Auth fails is 29\"\n"
     ]
    },
    {
     "ename": "ERROR",
     "evalue": "Error in order(df$AuthType, decreasing = FALSE): argument 1 is not a vector\n",
     "output_type": "error",
     "traceback": [
      "Error in order(df$AuthType, decreasing = FALSE): argument 1 is not a vector\nTraceback:\n",
      "1. IsolatingMal(x = \"User203147\", n = 100)",
      "2. print(table(df$AuthType[order(df$AuthType, decreasing = FALSE)]))   # at line 46 of file <text>",
      "3. table(df$AuthType[order(df$AuthType, decreasing = FALSE)])   # at line 46 of file <text>",
      "4. order(df$AuthType, decreasing = FALSE)   # at line 46 of file <text>"
     ]
    }
   ],
   "source": [
    "IsolatingMal(x='User203147', n=100)"
   ]
  },
  {
   "cell_type": "markdown",
   "id": "be477db1",
   "metadata": {},
   "source": [
    "Conclusions: The red_team tester seems to have been tasked with locally cracking the password of a device with the aid of others connected. A few network logons are attempted at various devices after numerous local attempts. These are closely followed by more attempts at unlocking the work station locally (i.e. dst=='None'). This all indicates a more 'hands-on' approach at Reconnaissance. \n",
    "\n",
    "Verdict: _Quite likely_ the attacker is conducting **Stage 1: Reconnaissance**"
   ]
  },
  {
   "cell_type": "markdown",
   "id": "5061a060",
   "metadata": {},
   "source": [
    "## Comp939275$"
   ]
  },
  {
   "cell_type": "code",
   "execution_count": 47,
   "id": "5260a227",
   "metadata": {},
   "outputs": [
    {
     "name": "stdout",
     "output_type": "stream",
     "text": [
      "Is the information sufficient? Y/N:  Y\n",
      "         UserName  SrcDevice       DstDevice Authent.Type Failure DailyCount\n",
      "4810  Comp939275$ Comp939275      Comp239094          TGS       0          3\n",
      "5253  Comp939275$ Comp939275      Comp544398 NetworkLogon       0         21\n",
      "12298 Comp939275$ Comp939275 ActiveDirectory NetworkLogon       0       7415\n",
      "23106 Comp939275$ Comp939275      Comp913178          TGS       0          3\n",
      "27373 Comp939275$ Comp939275      Comp047992          TGS       0          1\n",
      "30625 Comp939275$ Comp939275      Comp308313          TGS       0          3\n",
      "35328 Comp939275$ Comp939275      Comp957702 NetworkLogon       0          5\n",
      "37176 Comp939275$ Comp939275      Comp746826          TGS       0          3\n",
      "45754 Comp939275$ Comp939275      Comp909534          TGS       0          3\n",
      "46517 Comp939275$ Comp939275      Comp947445          TGS       0          3\n",
      "47565 Comp939275$ Comp939275      Comp957702          TGS       0          3\n",
      "50737 Comp939275$ Comp939275 ActiveDirectory          TGT       0         12\n",
      "52496 Comp939275$ Comp939275      Comp544398          TGS       0          3\n",
      "56015 Comp939275$ Comp939275      Comp801485 NetworkLogon       1         63\n",
      "60155 Comp939275$ Comp939275      Comp955279 NetworkLogon       0       3579\n",
      "65247 Comp939275$ Comp939275      Comp370444          TGS       0          9\n",
      "67869 Comp939275$ Comp939275      Comp964162          TGS       0          2\n",
      "68402 Comp939275$ Comp939275      Comp592584          TGS       0          3\n",
      "71616 Comp939275$ Comp939275      Comp661433          TGS       0         10\n",
      "83208 Comp939275$ Comp939275      Comp661433 NetworkLogon       0       1299\n",
      "[1] \"The number of suspect Auths is 2057\"\n",
      "\n",
      "          UserName     Device    ProcessName ParentProcessName DailyCount\n",
      "2126   Comp939275$ Comp939275 Proc676117.exe           svchost          3\n",
      "2991   Comp939275$ Comp939275 Proc955947.exe          services          1\n",
      "34267  Comp939275$ Comp939275 Proc207472.exe           svchost          4\n",
      "46665  Comp939275$ Comp939275 Proc935281.exe        Proc621927          4\n",
      "48017  Comp939275$ Comp939275 Proc811977.exe           svchost         12\n",
      "55704  Comp939275$ Comp939275 Proc391839.exe        Proc387473          3\n",
      "83076  Comp939275$ Comp939275 Proc642841.exe          services         24\n",
      "92939  Comp939275$ Comp939275 Proc166182.exe           svchost          1\n",
      "111103 Comp939275$ Comp939275 Proc721583.exe        Proc721583          2\n",
      "114205 Comp939275$ Comp939275 Proc858929.exe           svchost          2\n",
      "130439 Comp939275$ Comp939275 Proc477442.exe        Proc286800          2\n",
      "130513 Comp939275$ Comp939275 Proc154475.exe        Proc387473          2\n",
      "146805 Comp939275$ Comp939275 Proc286800.exe           svchost          2\n",
      "161146 Comp939275$ Comp939275 Proc038289.exe           svchost          2\n",
      "186559 Comp939275$ Comp939275    dllhost.exe           svchost          2\n",
      "186825 Comp939275$ Comp939275 Proc957556.exe          winlogon          4\n",
      "193103 Comp939275$ Comp939275    conhost.exe        Proc774171          1\n",
      "209480 Comp939275$ Comp939275 Proc695356.exe           svchost          1\n",
      "210981 Comp939275$ Comp939275    conhost.exe        Proc166182          1\n",
      "221675 Comp939275$ Comp939275    cscript.exe        Proc247259         24\n",
      "\n",
      "[1] \"The number of suspect Procs is 4881\"\n",
      "\n",
      "The common devices are:\n",
      "[1] \"Comp939275\"\n",
      "\n",
      "With Auth frequencies:\n",
      "Comp939275 \n",
      "      2057 \n",
      "\n",
      "And Proc frequencies:\n",
      "Comp939275 \n",
      "      4881 \n",
      "\n",
      "End of analysis."
     ]
    }
   ],
   "source": [
    "IsolatingMal(x='Comp939275$', n=20)"
   ]
  },
  {
   "cell_type": "markdown",
   "id": "5c89f9f8",
   "metadata": {},
   "source": [
    "There is only one device being used, which seems to be conducting normal activity so far. We need more information:"
   ]
  },
  {
   "cell_type": "code",
   "execution_count": 48,
   "id": "4a8b99fc",
   "metadata": {},
   "outputs": [
    {
     "name": "stdout",
     "output_type": "stream",
     "text": [
      "Is the information sufficient? Y/N:  N\n",
      "Is the information sufficient? Y/N:  N\n",
      "         UserName  SrcDevice       DstDevice Authent.Type Failure DailyCount\n",
      "4810  Comp939275$ Comp939275      Comp239094          TGS       0          3\n",
      "5253  Comp939275$ Comp939275      Comp544398 NetworkLogon       0         21\n",
      "12298 Comp939275$ Comp939275 ActiveDirectory NetworkLogon       0       7415\n",
      "23106 Comp939275$ Comp939275      Comp913178          TGS       0          3\n",
      "27373 Comp939275$ Comp939275      Comp047992          TGS       0          1\n",
      "30625 Comp939275$ Comp939275      Comp308313          TGS       0          3\n",
      "35328 Comp939275$ Comp939275      Comp957702 NetworkLogon       0          5\n",
      "37176 Comp939275$ Comp939275      Comp746826          TGS       0          3\n",
      "45754 Comp939275$ Comp939275      Comp909534          TGS       0          3\n",
      "46517 Comp939275$ Comp939275      Comp947445          TGS       0          3\n",
      "[1] \"The number of suspect Auths is 2057\"\n",
      "\n",
      "          UserName     Device    ProcessName ParentProcessName DailyCount\n",
      "2126   Comp939275$ Comp939275 Proc676117.exe           svchost          3\n",
      "2991   Comp939275$ Comp939275 Proc955947.exe          services          1\n",
      "34267  Comp939275$ Comp939275 Proc207472.exe           svchost          4\n",
      "46665  Comp939275$ Comp939275 Proc935281.exe        Proc621927          4\n",
      "48017  Comp939275$ Comp939275 Proc811977.exe           svchost         12\n",
      "55704  Comp939275$ Comp939275 Proc391839.exe        Proc387473          3\n",
      "83076  Comp939275$ Comp939275 Proc642841.exe          services         24\n",
      "92939  Comp939275$ Comp939275 Proc166182.exe           svchost          1\n",
      "111103 Comp939275$ Comp939275 Proc721583.exe        Proc721583          2\n",
      "114205 Comp939275$ Comp939275 Proc858929.exe           svchost          2\n",
      "\n",
      "[1] \"The number of suspect Procs is 4881\"\n",
      "\n",
      "The common devices are:\n",
      "[1] \"Comp939275\"\n",
      "\n",
      "With Auth frequencies:\n",
      "Comp939275 \n",
      "      2057 \n",
      "\n",
      "And Proc frequencies:\n",
      "Comp939275 \n",
      "      4881 \n",
      "          UserName  SrcDevice  DstDevice Authent.Type Failure DailyCount\n",
      "56015  Comp939275$ Comp939275 Comp801485 NetworkLogon       1         63\n",
      "119989 Comp939275$ Comp939275 Comp521608 NetworkLogon       1         63\n",
      "150827 Comp939275$ Comp939275 Comp566645 NetworkLogon       1         63\n",
      "248472 Comp939275$ Comp939275 Comp801485 NetworkLogon       1         63\n",
      "326089 Comp939275$ Comp939275 Comp521608 NetworkLogon       1         63\n",
      "363223 Comp939275$ Comp939275 Comp566645 NetworkLogon       1         63\n",
      "466700 Comp939275$ Comp939275 Comp801485 NetworkLogon       1         27\n",
      "544460 Comp939275$ Comp939275 Comp521608 NetworkLogon       1         27\n",
      "554810 Comp939275$ Comp939275 Comp014708 NetworkLogon       1          3\n",
      "581692 Comp939275$ Comp939275 Comp566645 NetworkLogon       1         27\n",
      "\n",
      "[1] \"The number of times Auth fails is 13\"\n"
     ]
    },
    {
     "ename": "ERROR",
     "evalue": "Error in order(df$AuthType, decreasing = FALSE): argument 1 is not a vector\n",
     "output_type": "error",
     "traceback": [
      "Error in order(df$AuthType, decreasing = FALSE): argument 1 is not a vector\nTraceback:\n",
      "1. IsolatingMal(x = \"Comp939275$\", n = 10)",
      "2. print(table(df$AuthType[order(df$AuthType, decreasing = FALSE)]))   # at line 46 of file <text>",
      "3. table(df$AuthType[order(df$AuthType, decreasing = FALSE)])   # at line 46 of file <text>",
      "4. order(df$AuthType, decreasing = FALSE)   # at line 46 of file <text>"
     ]
    }
   ],
   "source": [
    "IsolatingMal(x='Comp939275$', n=10)"
   ]
  },
  {
   "cell_type": "markdown",
   "id": "b30aaae1",
   "metadata": {},
   "source": [
    "Interestingly, the failed NetworkLogon attempts exhibit very evident periodicity. Though there is little to say about this attack per se, we can infer that it's part of a greater scheme and likely being used as a hopping point. The corruption likely took place before timestamp 56015, which makes it easy to identify. We ought to look within the Auth dataset for a username featuring within the AU list, which sends logon type requests to DstDevice 'Comp939275'. If no such username is identified, it means the attacker started his plot incognito rather than becoming so in the process. Through this computer, they are likely looking to trigger an event or hop to others, carrying the attack with them. \n",
    "\n",
    "Verdict: _Very likely_ the attacker is conducting **Stage 4: Exploitation**"
   ]
  },
  {
   "cell_type": "markdown",
   "id": "b088a460",
   "metadata": {},
   "source": [
    "##  User110290"
   ]
  },
  {
   "cell_type": "code",
   "execution_count": 50,
   "id": "80737027",
   "metadata": {},
   "outputs": [
    {
     "name": "stdout",
     "output_type": "stream",
     "text": [
      "Is the information sufficient? Y/N:  Y\n",
      "        UserName  SrcDevice       DstDevice         Authent.Type Failure\n",
      "14145 User110290 Comp235274 ActiveDirectory         NetworkLogon       0\n",
      "16800 User110290 Comp235274      Comp223644         NetworkLogon       0\n",
      "22424 User110290 Comp815676      Comp123959         NetworkLogon       0\n",
      "23490 User110290 Comp235274            None    WorkstationUnlock       0\n",
      "29165 User110290 Comp235274 ActiveDirectory                  TGS       0\n",
      "35210 User110290 Comp815676      Comp370444         NetworkLogon       0\n",
      "37560 User110290 Comp815676      Comp915658         NetworkLogon       0\n",
      "46426 User110290 Comp235274            None ScreensaverDismissed       0\n",
      "46541 User110290 Comp815676      Comp370444                  TGS       0\n",
      "46591 User110290 Comp815676      Comp330510         NetworkLogon       0\n",
      "48011 User110290 Comp815676      Comp915658                  TGS       0\n",
      "49061 User110290 Comp235274      Comp815676         NetworkLogon       1\n",
      "58306 User110290 Comp815676      Comp123959                  TGS       0\n",
      "77372 User110290 Comp235274      Comp477044                  TGS       0\n",
      "79178 User110290 Comp815676      Comp788417                  TGS       0\n",
      "80291 User110290 Comp815676 ActiveDirectory                  TGT       0\n",
      "80844 User110290 Comp815676      Comp815676                  TGS       0\n",
      "84361 User110290 Comp235274      Comp477044         NetworkLogon       0\n",
      "86020 User110290 Comp235274      Comp788417                  TGS       0\n",
      "88143 User110290 Comp815676      Comp060940                  TGS       0\n",
      "      DailyCount\n",
      "14145        320\n",
      "16800        113\n",
      "22424          1\n",
      "23490         12\n",
      "29165         39\n",
      "35210         25\n",
      "37560          1\n",
      "46426          4\n",
      "46541          3\n",
      "46591          1\n",
      "48011          1\n",
      "49061          1\n",
      "58306          1\n",
      "77372          9\n",
      "79178          3\n",
      "80291          3\n",
      "80844          1\n",
      "84361         30\n",
      "86020          5\n",
      "88143          1\n",
      "[1] \"The number of suspect Auths is 2541\"\n",
      "\n",
      "         UserName     Device    ProcessName ParentProcessName DailyCount\n",
      "12343  User110290 Comp235274 Proc506687.exe              None          1\n",
      "27579  User110290 Comp235274 Proc890894.exe              None          1\n",
      "60357  User110290 Comp235274     wermgr.exe              None          1\n",
      "68387  User110290 Comp235274 Proc417435.exe        Proc089893          1\n",
      "78408  User110290 Comp235274 Proc474417.exe              None          1\n",
      "85430  User110290 Comp235274 Proc887334.exe        Proc089893          1\n",
      "87313  User110290 Comp235274 Proc005910.exe        Proc084690          2\n",
      "92830  User110290 Comp235274 Proc510632.exe              None          1\n",
      "102804 User110290 Comp235274 Proc066286.exe              None          1\n",
      "123890 User110290 Comp235274 Proc597577.exe              None          2\n",
      "130303 User110290 Comp235274 Proc447231.exe              None          1\n",
      "138812 User110290 Comp235274     wermgr.exe          rundll32          1\n",
      "139325 User110290 Comp235274 Proc359820.exe              None          1\n",
      "175660 User110290 Comp235274 Proc319629.exe        Proc005910          1\n",
      "179260 User110290 Comp815676 Proc178918.exe        Proc084690          2\n",
      "179611 User110290 Comp815676 Proc533503.exe        Proc089893          1\n",
      "183493 User110290 Comp815676 Proc533503.exe        Proc084690          1\n",
      "194459 User110290 Comp235274 Proc690950.exe              None          1\n",
      "211467 User110290 Comp235274 Proc178918.exe        Proc178918          1\n",
      "215312 User110290 Comp815676 Proc178918.exe        Proc472972          1\n",
      "\n",
      "[1] \"The number of suspect Procs is 2423\"\n",
      "\n",
      "The common devices are:\n",
      "[1] \"Comp235274\"          \"Comp815676\"          \"Comp256731\"         \n",
      "[4] \"EnterpriseAppServer\" \"Comp291378\"          \"Comp123959\"         \n",
      "[7] \"Comp957702\"         \n",
      "\n",
      "With Auth frequencies:\n",
      "\n",
      "         Comp815676          Comp235274          Comp256731          Comp291378 \n",
      "               1549                 700                 153                  47 \n",
      "EnterpriseAppServer          Comp123959          Comp957702 \n",
      "                 43                  42                   7 \n",
      "\n",
      "And Proc frequencies:\n",
      "\n",
      "         Comp815676          Comp235274          Comp256731          Comp291378 \n",
      "               1200                 766                 171                 135 \n",
      "EnterpriseAppServer          Comp123959          Comp957702 \n",
      "                 70                  45                  36 \n",
      "\n",
      "End of analysis."
     ]
    }
   ],
   "source": [
    "IsolatingMal(x='User110290', n=20)"
   ]
  },
  {
   "cell_type": "code",
   "execution_count": 52,
   "id": "a7f0f3c6",
   "metadata": {},
   "outputs": [
    {
     "name": "stdout",
     "output_type": "stream",
     "text": [
      "Is the information sufficient? Y/N:  N\n",
      "Is the information sufficient? Y/N:  Y\n",
      "        UserName  SrcDevice       DstDevice         Authent.Type Failure\n",
      "14145 User110290 Comp235274 ActiveDirectory         NetworkLogon       0\n",
      "16800 User110290 Comp235274      Comp223644         NetworkLogon       0\n",
      "22424 User110290 Comp815676      Comp123959         NetworkLogon       0\n",
      "23490 User110290 Comp235274            None    WorkstationUnlock       0\n",
      "29165 User110290 Comp235274 ActiveDirectory                  TGS       0\n",
      "35210 User110290 Comp815676      Comp370444         NetworkLogon       0\n",
      "37560 User110290 Comp815676      Comp915658         NetworkLogon       0\n",
      "46426 User110290 Comp235274            None ScreensaverDismissed       0\n",
      "46541 User110290 Comp815676      Comp370444                  TGS       0\n",
      "46591 User110290 Comp815676      Comp330510         NetworkLogon       0\n",
      "      DailyCount\n",
      "14145        320\n",
      "16800        113\n",
      "22424          1\n",
      "23490         12\n",
      "29165         39\n",
      "35210         25\n",
      "37560          1\n",
      "46426          4\n",
      "46541          3\n",
      "46591          1\n",
      "[1] \"The number of suspect Auths is 2541\"\n",
      "\n",
      "         UserName     Device    ProcessName ParentProcessName DailyCount\n",
      "12343  User110290 Comp235274 Proc506687.exe              None          1\n",
      "27579  User110290 Comp235274 Proc890894.exe              None          1\n",
      "60357  User110290 Comp235274     wermgr.exe              None          1\n",
      "68387  User110290 Comp235274 Proc417435.exe        Proc089893          1\n",
      "78408  User110290 Comp235274 Proc474417.exe              None          1\n",
      "85430  User110290 Comp235274 Proc887334.exe        Proc089893          1\n",
      "87313  User110290 Comp235274 Proc005910.exe        Proc084690          2\n",
      "92830  User110290 Comp235274 Proc510632.exe              None          1\n",
      "102804 User110290 Comp235274 Proc066286.exe              None          1\n",
      "123890 User110290 Comp235274 Proc597577.exe              None          2\n",
      "\n",
      "[1] \"The number of suspect Procs is 2423\"\n",
      "\n",
      "The common devices are:\n",
      "[1] \"Comp235274\"          \"Comp815676\"          \"Comp256731\"         \n",
      "[4] \"EnterpriseAppServer\" \"Comp291378\"          \"Comp123959\"         \n",
      "[7] \"Comp957702\"         \n",
      "\n",
      "With Auth frequencies:\n",
      "\n",
      "         Comp815676          Comp235274          Comp256731          Comp291378 \n",
      "               1549                 700                 153                  47 \n",
      "EnterpriseAppServer          Comp123959          Comp957702 \n",
      "                 43                  42                   7 \n",
      "\n",
      "And Proc frequencies:\n",
      "\n",
      "         Comp815676          Comp235274          Comp256731          Comp291378 \n",
      "               1200                 766                 171                 135 \n",
      "EnterpriseAppServer          Comp123959          Comp957702 \n",
      "                 70                  45                  36 \n",
      "          UserName  SrcDevice  DstDevice      Authent.Type Failure DailyCount\n",
      "49061   User110290 Comp235274 Comp815676      NetworkLogon       1          1\n",
      "183915  User110290 Comp256731 Comp815676      NetworkLogon       1          3\n",
      "458225  User110290 Comp235274 Comp815676      NetworkLogon       1          2\n",
      "575018  User110290 Comp235274       None WorkstationUnlock       1          1\n",
      "677996  User110290 Comp235274 Comp815676      NetworkLogon       1          2\n",
      "1384725 User110290 Comp235274       None WorkstationUnlock       1          1\n",
      "1649025 User110290 Comp256731 Comp815676      NetworkLogon       1          1\n",
      "1946535 User110290 Comp235274 Comp815676      NetworkLogon       1          1\n",
      "2949486 User110290 Comp815676 Comp244393      NetworkLogon       1          1\n",
      "4673266 User110290 Comp815676       None WorkstationUnlock       1          2\n",
      "\n",
      "[1] \"The number of times Auth fails is 19\"\n",
      "\n",
      "End of analysis."
     ]
    }
   ],
   "source": [
    "IsolatingMal(x='User110290', n=10)"
   ]
  },
  {
   "cell_type": "code",
   "execution_count": 36,
   "id": "f72dbe89",
   "metadata": {},
   "outputs": [
    {
     "name": "stdout",
     "output_type": "stream",
     "text": [
      "           UserName     Device ProcessName ParentProcessName DailyCount\n",
      "42988270 User179746 Comp547871  wermgr.exe              None          1\n"
     ]
    }
   ],
   "source": [
    "print(U2_investig[U2_investig$ProcessName=='wermgr.exe', ])"
   ]
  },
  {
   "cell_type": "markdown",
   "id": "d0fa7d65",
   "metadata": {},
   "source": [
    "Conclusions: ...\n",
    "\n",
    "Verdict: ..."
   ]
  },
  {
   "cell_type": "markdown",
   "id": "0f6da852",
   "metadata": {},
   "source": [
    "## AppService"
   ]
  },
  {
   "cell_type": "code",
   "execution_count": 57,
   "id": "3c6231c9",
   "metadata": {},
   "outputs": [
    {
     "name": "stdout",
     "output_type": "stream",
     "text": [
      "Is the information sufficient? Y/N:  Y\n",
      "        UserName           SrcDevice       DstDevice Authent.Type Failure\n",
      "129   AppService EnterpriseAppServer      Comp947445          TGS       0\n",
      "1018  AppService          Comp894088      Comp698972 NetworkLogon       0\n",
      "2602  AppService          Comp154659            None        Batch       0\n",
      "2831  AppService          Comp093748 ActiveDirectory          TGS       0\n",
      "6464  AppService EnterpriseAppServer            None        Batch       0\n",
      "8804  AppService          Comp367857            None        Batch       0\n",
      "15138 AppService          Comp542689            None      Service       0\n",
      "16042 AppService          Comp698972      Comp894088 NetworkLogon       0\n",
      "16394 AppService          Comp894088      Comp894088 NetworkLogon       0\n",
      "16940 AppService          Comp093748      Comp395935 NetworkLogon       0\n",
      "17810 AppService          Comp484824 ActiveDirectory          TGT       0\n",
      "18521 AppService          Comp581624 ActiveDirectory          TGT       0\n",
      "19448 AppService          Comp484824            None      Service       0\n",
      "23084 AppService          Comp474112      Comp474112          TGS       0\n",
      "23442 AppService EnterpriseAppServer      Comp829338          TGS       0\n",
      "24155 AppService          Comp843020 ActiveDirectory NetworkLogon       0\n",
      "24945 AppService          Comp571028 ActiveDirectory          TGT       0\n",
      "25028 AppService          Comp044849 ActiveDirectory          TGT       0\n",
      "25945 AppService          Comp698972      Comp698972 NetworkLogon       0\n",
      "29335 AppService          Comp093748      Comp093748          TGS       0\n",
      "      DailyCount\n",
      "129            2\n",
      "1018      110063\n",
      "2602           2\n",
      "2831           4\n",
      "6464        1383\n",
      "8804           1\n",
      "15138          2\n",
      "16042      90573\n",
      "16394         20\n",
      "16940       7072\n",
      "17810         15\n",
      "18521         22\n",
      "19448          1\n",
      "23084          6\n",
      "23442          1\n",
      "24155          2\n",
      "24945          2\n",
      "25028          5\n",
      "25945         20\n",
      "29335          3\n",
      "[1] \"The number of suspect Auths is 10715\"\n",
      "\n",
      "        UserName              Device    ProcessName ParentProcessName\n",
      "7325  AppService          Comp888702 Proc412499.exe        Proc811977\n",
      "9154  AppService EnterpriseAppServer Proc412499.exe        Proc796467\n",
      "14982 AppService          Comp044849 Proc407594.exe        Proc729264\n",
      "15029 AppService          Comp542689 Proc232870.exe        Proc777795\n",
      "15318 AppService          Comp484824    conhost.exe        Proc412499\n",
      "16672 AppService          Comp894088 Proc407594.exe        Proc412499\n",
      "18653 AppService EnterpriseAppServer Proc802615.exe        Proc802615\n",
      "21352 AppService EnterpriseAppServer Proc996405.exe               cmd\n",
      "26680 AppService EnterpriseAppServer        net.exe               cmd\n",
      "52817 AppService          Comp484824 Proc811977.exe        Proc811977\n",
      "53019 AppService EnterpriseAppServer Proc433920.exe        Proc416764\n",
      "53750 AppService EnterpriseAppServer Proc590593.exe           taskeng\n",
      "56130 AppService          Comp367857 Proc407594.exe        Proc412499\n",
      "64276 AppService          Comp367857 Proc412499.exe        Proc811977\n",
      "66361 AppService          Comp484824 Proc729264.exe        Proc811977\n",
      "75527 AppService EnterpriseAppServer       net1.exe               net\n",
      "78081 AppService          Comp843020 Proc508485.exe        Proc363817\n",
      "79003 AppService          Comp843020 Proc676410.exe        Proc363817\n",
      "82771 AppService EnterpriseAppServer Proc140724.com               cmd\n",
      "86136 AppService EnterpriseAppServer        cmd.exe           taskeng\n",
      "      DailyCount\n",
      "7325           1\n",
      "9154           4\n",
      "14982          6\n",
      "15029          5\n",
      "15318         16\n",
      "16672         34\n",
      "18653       2812\n",
      "21352         34\n",
      "26680        194\n",
      "52817          1\n",
      "53019          4\n",
      "53750        329\n",
      "56130          1\n",
      "64276          1\n",
      "66361          1\n",
      "75527        194\n",
      "78081         29\n",
      "79003          6\n",
      "82771        457\n",
      "86136         46\n",
      "\n",
      "[1] \"The number of suspect Procs is 17666\"\n",
      "\n",
      "The common devices are:\n",
      " [1] \"EnterpriseAppServer\" \"Comp894088\"          \"Comp154659\"         \n",
      " [4] \"Comp093748\"          \"Comp367857\"          \"Comp542689\"         \n",
      " [7] \"Comp698972\"          \"Comp484824\"          \"Comp581624\"         \n",
      "[10] \"Comp474112\"          \"Comp843020\"          \"Comp571028\"         \n",
      "[13] \"Comp044849\"          \"Comp395935\"          \"Comp807801\"         \n",
      "[16] \"Comp661097\"          \"Comp761044\"          \"Comp617405\"         \n",
      "[19] \"Comp217088\"          \"Comp415540\"          \"Comp162943\"         \n",
      "[22] \"Comp350505\"          \"Comp668537\"          \"Comp194808\"         \n",
      "[25] \"Comp335359\"          \"Comp244768\"          \"Comp682831\"         \n",
      "[28] \"Comp384732\"          \"Comp457448\"          \"Comp817431\"         \n",
      "[31] \"Comp510565\"          \"Comp939065\"          \"Comp888702\"         \n",
      "[34] \"Comp447558\"          \"Comp726354\"          \"Comp104511\"         \n",
      "[37] \"Comp685945\"          \"Comp956432\"          \"Comp562816\"         \n",
      "[40] \"Comp425438\"          \"Comp100724\"          \"Comp906583\"         \n",
      "[43] \"Comp055001\"          \"Comp962930\"          \"Comp342705\"         \n",
      "[46] \"Comp266023\"          \"Comp679250\"          \"Comp199388\"         \n",
      "\n",
      "With Auth frequencies:\n",
      "\n",
      "EnterpriseAppServer          Comp807801          Comp484824          Comp093748 \n",
      "               2899                 702                 699                 582 \n",
      "         Comp395935          Comp542689          Comp367857          Comp581624 \n",
      "                570                 556                 524                 475 \n",
      "         Comp474112          Comp044849          Comp154659          Comp217088 \n",
      "                437                 406                 385                 366 \n",
      "         Comp162943          Comp571028          Comp661097          Comp698972 \n",
      "                301                 240                 226                 222 \n",
      "         Comp894088          Comp415540          Comp843020          Comp617405 \n",
      "                221                 215                 186                 184 \n",
      "         Comp350505          Comp668537          Comp244768          Comp194808 \n",
      "                 82                  78                  26                  21 \n",
      "         Comp761044          Comp384732          Comp104511          Comp817431 \n",
      "                 14                  10                   9                   8 \n",
      "         Comp055001          Comp447558          Comp562816          Comp726354 \n",
      "                  7                   6                   6                   6 \n",
      "         Comp335359          Comp425438          Comp510565          Comp939065 \n",
      "                  5                   5                   5                   5 \n",
      "         Comp956432          Comp457448          Comp685945          Comp888702 \n",
      "                  5                   4                   4                   3 \n",
      "         Comp266023          Comp679250          Comp100724          Comp199388 \n",
      "                  2                   2                   1                   1 \n",
      "         Comp342705          Comp682831          Comp906583          Comp962930 \n",
      "                  1                   1                   1                   1 \n",
      "\n",
      "And Proc frequencies:\n",
      "\n",
      "EnterpriseAppServer          Comp894088          Comp581624          Comp698972 \n",
      "               9840                 872                 865                 861 \n",
      "         Comp542689          Comp367857          Comp484824          Comp807801 \n",
      "                689                 679                 491                 380 \n",
      "         Comp093748          Comp162943          Comp474112          Comp617405 \n",
      "                377                 364                 313                 225 \n",
      "         Comp384732          Comp217088          Comp761044          Comp044849 \n",
      "                200                 171                 156                 125 \n",
      "         Comp962930          Comp350505          Comp843020          Comp562816 \n",
      "                121                  97                  90                  80 \n",
      "         Comp939065          Comp154659          Comp395935          Comp510565 \n",
      "                 74                  73                  72                  69 \n",
      "         Comp104511          Comp194808          Comp817431          Comp425438 \n",
      "                 59                  49                  49                  39 \n",
      "         Comp571028          Comp447558          Comp679250          Comp100724 \n",
      "                 39                  30                  17                  12 \n",
      "         Comp335359          Comp342705          Comp685945          Comp668537 \n",
      "                 12                  12                  12                  11 \n",
      "         Comp055001          Comp888702          Comp415540          Comp906583 \n",
      "                  9                   8                   6                   4 \n",
      "         Comp244768          Comp266023          Comp457448          Comp682831 \n",
      "                  2                   2                   2                   2 \n",
      "         Comp726354          Comp956432          Comp199388          Comp661097 \n",
      "                  2                   2                   1                   1 \n",
      "\n",
      "End of analysis."
     ]
    }
   ],
   "source": [
    "IsolatingMal(x='AppService', n=20)"
   ]
  },
  {
   "cell_type": "code",
   "execution_count": 44,
   "id": "b45180d5",
   "metadata": {},
   "outputs": [
    {
     "name": "stdin",
     "output_type": "stream",
     "text": [
      "Is the information sufficient? Y/N:   N\n",
      "Is the information sufficient? Y/N:   N\n"
     ]
    },
    {
     "name": "stdout",
     "output_type": "stream",
     "text": [
      "        UserName           SrcDevice       DstDevice Authent.Type Failure DailyCount\n",
      "129   AppService EnterpriseAppServer      Comp947445          TGS       0          2\n",
      "1018  AppService          Comp894088      Comp698972 NetworkLogon       0     110063\n",
      "2602  AppService          Comp154659            None        Batch       0          2\n",
      "2831  AppService          Comp093748 ActiveDirectory          TGS       0          4\n",
      "6464  AppService EnterpriseAppServer            None        Batch       0       1383\n",
      "8804  AppService          Comp367857            None        Batch       0          1\n",
      "15138 AppService          Comp542689            None      Service       0          2\n",
      "16042 AppService          Comp698972      Comp894088 NetworkLogon       0      90573\n",
      "16394 AppService          Comp894088      Comp894088 NetworkLogon       0         20\n",
      "16940 AppService          Comp093748      Comp395935 NetworkLogon       0       7072\n",
      "[1] \"The number of suspect Auths is 10715\"\n",
      "\n",
      "        UserName              Device    ProcessName ParentProcessName DailyCount\n",
      "7325  AppService          Comp888702 Proc412499.exe        Proc811977          1\n",
      "9154  AppService EnterpriseAppServer Proc412499.exe        Proc796467          4\n",
      "14982 AppService          Comp044849 Proc407594.exe        Proc729264          6\n",
      "15029 AppService          Comp542689 Proc232870.exe        Proc777795          5\n",
      "15318 AppService          Comp484824    conhost.exe        Proc412499         16\n",
      "16672 AppService          Comp894088 Proc407594.exe        Proc412499         34\n",
      "18653 AppService EnterpriseAppServer Proc802615.exe        Proc802615       2812\n",
      "21352 AppService EnterpriseAppServer Proc996405.exe               cmd         34\n",
      "26680 AppService EnterpriseAppServer        net.exe               cmd        194\n",
      "52817 AppService          Comp484824 Proc811977.exe        Proc811977          1\n",
      "\n",
      "[1] \"The number of suspect Procs is 17666\"\n",
      "\n",
      "The common devices are:\n",
      " [1] \"EnterpriseAppServer\" \"Comp894088\"          \"Comp154659\"          \"Comp093748\"          \"Comp367857\"          \"Comp542689\"          \"Comp698972\"          \"Comp484824\"         \n",
      " [9] \"Comp581624\"          \"Comp474112\"          \"Comp843020\"          \"Comp571028\"          \"Comp044849\"          \"Comp395935\"          \"Comp807801\"          \"Comp661097\"         \n",
      "[17] \"Comp761044\"          \"Comp617405\"          \"Comp217088\"          \"Comp415540\"          \"Comp162943\"          \"Comp350505\"          \"Comp668537\"          \"Comp194808\"         \n",
      "[25] \"Comp335359\"          \"Comp244768\"          \"Comp682831\"          \"Comp384732\"          \"Comp457448\"          \"Comp817431\"          \"Comp510565\"          \"Comp939065\"         \n",
      "[33] \"Comp888702\"          \"Comp447558\"          \"Comp726354\"          \"Comp104511\"          \"Comp685945\"          \"Comp956432\"          \"Comp562816\"          \"Comp425438\"         \n",
      "[41] \"Comp100724\"          \"Comp906583\"          \"Comp055001\"          \"Comp962930\"          \"Comp342705\"          \"Comp266023\"          \"Comp679250\"          \"Comp199388\"         \n",
      "\n",
      "With Auth frequencies:\n",
      "\n",
      "EnterpriseAppServer          Comp807801          Comp484824          Comp093748          Comp395935 \n",
      "               2899                 702                 699                 582                 570 \n",
      "         Comp542689          Comp367857          Comp581624          Comp474112          Comp044849 \n",
      "                556                 524                 475                 437                 406 \n",
      "         Comp154659          Comp217088          Comp162943          Comp571028          Comp661097 \n",
      "                385                 366                 301                 240                 226 \n",
      "         Comp698972          Comp894088          Comp415540          Comp843020          Comp617405 \n",
      "                222                 221                 215                 186                 184 \n",
      "         Comp350505          Comp668537          Comp244768          Comp194808          Comp761044 \n",
      "                 82                  78                  26                  21                  14 \n",
      "         Comp384732          Comp104511          Comp817431          Comp055001          Comp447558 \n",
      "                 10                   9                   8                   7                   6 \n",
      "         Comp562816          Comp726354          Comp335359          Comp425438          Comp510565 \n",
      "                  6                   6                   5                   5                   5 \n",
      "         Comp939065          Comp956432          Comp457448          Comp685945          Comp888702 \n",
      "                  5                   5                   4                   4                   3 \n",
      "         Comp266023          Comp679250          Comp100724          Comp199388          Comp342705 \n",
      "                  2                   2                   1                   1                   1 \n",
      "         Comp682831          Comp906583          Comp962930 \n",
      "                  1                   1                   1 \n",
      "\n",
      "And Proc frequencies:\n",
      "\n",
      "EnterpriseAppServer          Comp894088          Comp581624          Comp698972          Comp542689 \n",
      "               9840                 872                 865                 861                 689 \n",
      "         Comp367857          Comp484824          Comp807801          Comp093748          Comp162943 \n",
      "                679                 491                 380                 377                 364 \n",
      "         Comp474112          Comp617405          Comp384732          Comp217088          Comp761044 \n",
      "                313                 225                 200                 171                 156 \n",
      "         Comp044849          Comp962930          Comp350505          Comp843020          Comp562816 \n",
      "                125                 121                  97                  90                  80 \n",
      "         Comp939065          Comp154659          Comp395935          Comp510565          Comp104511 \n",
      "                 74                  73                  72                  69                  59 \n",
      "         Comp194808          Comp817431          Comp425438          Comp571028          Comp447558 \n",
      "                 49                  49                  39                  39                  30 \n",
      "         Comp679250          Comp100724          Comp335359          Comp342705          Comp685945 \n",
      "                 17                  12                  12                  12                  12 \n",
      "         Comp668537          Comp055001          Comp888702          Comp415540          Comp906583 \n",
      "                 11                   9                   8                   6                   4 \n",
      "         Comp244768          Comp266023          Comp457448          Comp682831          Comp726354 \n",
      "                  2                   2                   2                   2                   2 \n",
      "         Comp956432          Comp199388          Comp661097 \n",
      "                  2                   1                   1 \n",
      "         UserName           SrcDevice           DstDevice      Authent.Type Failure DailyCount\n",
      "73665  AppService EnterpriseAppServer                None             Batch       1          3\n",
      "113948 AppService EnterpriseAppServer EnterpriseAppServer      NetworkLogon       1        310\n",
      "161788 AppService EnterpriseAppServer                None           Service       1          1\n",
      "167298 AppService EnterpriseAppServer                None  InteractiveLogon       1      44275\n",
      "269938 AppService EnterpriseAppServer                None             Batch       1          1\n",
      "300330 AppService          Comp843020                None  InteractiveLogon       1          1\n",
      "317290 AppService          Comp843020                None CachedInteractive       1          2\n",
      "318851 AppService EnterpriseAppServer EnterpriseAppServer      NetworkLogon       1        308\n",
      "383059 AppService EnterpriseAppServer                None  InteractiveLogon       1      43119\n",
      "488199 AppService EnterpriseAppServer                None             Batch       1          2\n",
      "\n",
      "[1] \"The number of times Auth fails is 324\"\n"
     ]
    },
    {
     "ename": "ERROR",
     "evalue": "Error in order(df$AuthType, decreasing = FALSE): argument 1 is not a vector\n",
     "output_type": "error",
     "traceback": [
      "Error in order(df$AuthType, decreasing = FALSE): argument 1 is not a vector\nTraceback:\n",
      "1. IsolatingMal(x = \"AppService\", n = 10)",
      "2. print(table(df$AuthType[order(df$AuthType, decreasing = FALSE)]))   # at line 46 of file <text>",
      "3. table(df$AuthType[order(df$AuthType, decreasing = FALSE)])   # at line 46 of file <text>",
      "4. order(df$AuthType, decreasing = FALSE)   # at line 46 of file <text>"
     ]
    }
   ],
   "source": [
    "IsolatingMal(x='AppService', n=10)"
   ]
  },
  {
   "cell_type": "code",
   "execution_count": 43,
   "id": "56e076cb-dd2e-4f00-9643-4bc6a198c201",
   "metadata": {},
   "outputs": [
    {
     "name": "stdin",
     "output_type": "stream",
     "text": [
      "Is the information sufficient? Y/N:   N\n",
      "Is the information sufficient? Y/N:   N\n"
     ]
    },
    {
     "name": "stdout",
     "output_type": "stream",
     "text": [
      "        UserName           SrcDevice           DstDevice Authent.Type Failure DailyCount\n",
      "129   AppService EnterpriseAppServer          Comp947445          TGS       0          2\n",
      "1018  AppService          Comp894088          Comp698972 NetworkLogon       0     110063\n",
      "2602  AppService          Comp154659                None        Batch       0          2\n",
      "2831  AppService          Comp093748     ActiveDirectory          TGS       0          4\n",
      "6464  AppService EnterpriseAppServer                None        Batch       0       1383\n",
      "8804  AppService          Comp367857                None        Batch       0          1\n",
      "15138 AppService          Comp542689                None      Service       0          2\n",
      "16042 AppService          Comp698972          Comp894088 NetworkLogon       0      90573\n",
      "16394 AppService          Comp894088          Comp894088 NetworkLogon       0         20\n",
      "16940 AppService          Comp093748          Comp395935 NetworkLogon       0       7072\n",
      "17810 AppService          Comp484824     ActiveDirectory          TGT       0         15\n",
      "18521 AppService          Comp581624     ActiveDirectory          TGT       0         22\n",
      "19448 AppService          Comp484824                None      Service       0          1\n",
      "23084 AppService          Comp474112          Comp474112          TGS       0          6\n",
      "23442 AppService EnterpriseAppServer          Comp829338          TGS       0          1\n",
      "24155 AppService          Comp843020     ActiveDirectory NetworkLogon       0          2\n",
      "24945 AppService          Comp571028     ActiveDirectory          TGT       0          2\n",
      "25028 AppService          Comp044849     ActiveDirectory          TGT       0          5\n",
      "25945 AppService          Comp698972          Comp698972 NetworkLogon       0         20\n",
      "29335 AppService          Comp093748          Comp093748          TGS       0          3\n",
      "29647 AppService          Comp474112     ActiveDirectory NetworkLogon       0        165\n",
      "30755 AppService EnterpriseAppServer EnterpriseAppServer NetworkLogon       0     270884\n",
      "35447 AppService          Comp395935          Comp093748 NetworkLogon       0       3580\n",
      "36228 AppService          Comp807801     ActiveDirectory          TGT       0         38\n",
      "36526 AppService EnterpriseAppServer          Comp970123 NetworkLogon       0         95\n",
      "37013 AppService EnterpriseAppServer          Comp364152          TGS       0          1\n",
      "40818 AppService EnterpriseAppServer          Comp257894          TGS       0         28\n",
      "42014 AppService EnterpriseAppServer          Comp700191 NetworkLogon       0         47\n",
      "42448 AppService          Comp044849     ActiveDirectory NetworkLogon       0          2\n",
      "44512 AppService          Comp484824          Comp894088 NetworkLogon       0        139\n",
      "47435 AppService EnterpriseAppServer          Comp332420          TGS       0         36\n",
      "51115 AppService          Comp661097     ActiveDirectory          TGT       0          4\n",
      "52631 AppService EnterpriseAppServer          Comp550312 NetworkLogon       0         49\n",
      "54770 AppService          Comp093748                None      Service       0          2\n",
      "55017 AppService          Comp581624          Comp581624 NetworkLogon       0         13\n",
      "55560 AppService          Comp761044                None      Service       0          1\n",
      "55874 AppService          Comp843020     ActiveDirectory          TGS       0          1\n",
      "56280 AppService          Comp395935          Comp395935          TGS       0          2\n",
      "60251 AppService          Comp044849          Comp044849 NetworkLogon       0         20\n",
      "61038 AppService          Comp617405     ActiveDirectory          TGT       0          3\n",
      "62503 AppService          Comp661097          Comp661097          TGS       0          2\n",
      "64456 AppService          Comp395935 EnterpriseAppServer          TGS       0          2\n",
      "64558 AppService EnterpriseAppServer                None      Service       0        139\n",
      "66083 AppService EnterpriseAppServer          Comp915658          TGS       0          1\n",
      "66099 AppService          Comp617405          Comp010804 NetworkLogon       0         24\n",
      "66425 AppService EnterpriseAppServer     ActiveDirectory          TGS       0        626\n",
      "69601 AppService EnterpriseAppServer          Comp970123          TGS       0          1\n",
      "69657 AppService          Comp474112                None      Service       0          3\n",
      "71088 AppService          Comp044849     ActiveDirectory          TGS       0          2\n",
      "71300 AppService EnterpriseAppServer          Comp617405 NetworkLogon       0        131\n",
      "[1] \"The number of suspect Auths is 10715\"\n",
      "\n",
      "         UserName              Device    ProcessName ParentProcessName DailyCount\n",
      "7325   AppService          Comp888702 Proc412499.exe        Proc811977          1\n",
      "9154   AppService EnterpriseAppServer Proc412499.exe        Proc796467          4\n",
      "14982  AppService          Comp044849 Proc407594.exe        Proc729264          6\n",
      "15029  AppService          Comp542689 Proc232870.exe        Proc777795          5\n",
      "15318  AppService          Comp484824    conhost.exe        Proc412499         16\n",
      "16672  AppService          Comp894088 Proc407594.exe        Proc412499         34\n",
      "18653  AppService EnterpriseAppServer Proc802615.exe        Proc802615       2812\n",
      "21352  AppService EnterpriseAppServer Proc996405.exe               cmd         34\n",
      "26680  AppService EnterpriseAppServer        net.exe               cmd        194\n",
      "52817  AppService          Comp484824 Proc811977.exe        Proc811977          1\n",
      "53019  AppService EnterpriseAppServer Proc433920.exe        Proc416764          4\n",
      "53750  AppService EnterpriseAppServer Proc590593.exe           taskeng        329\n",
      "56130  AppService          Comp367857 Proc407594.exe        Proc412499          1\n",
      "64276  AppService          Comp367857 Proc412499.exe        Proc811977          1\n",
      "66361  AppService          Comp484824 Proc729264.exe        Proc811977          1\n",
      "75527  AppService EnterpriseAppServer       net1.exe               net        194\n",
      "78081  AppService          Comp843020 Proc508485.exe        Proc363817         29\n",
      "79003  AppService          Comp843020 Proc676410.exe        Proc363817          6\n",
      "82771  AppService EnterpriseAppServer Proc140724.com               cmd        457\n",
      "86136  AppService EnterpriseAppServer        cmd.exe           taskeng         46\n",
      "86379  AppService          Comp474112 Proc424698.exe        Proc777795          5\n",
      "90099  AppService EnterpriseAppServer Proc444011.exe        Proc483247         20\n",
      "91460  AppService EnterpriseAppServer Proc407594.exe        Proc729264          1\n",
      "94529  AppService          Comp367857 Proc232870.exe        Proc777795          5\n",
      "103691 AppService          Comp542689    conhost.exe        Proc424698          5\n",
      "107619 AppService          Comp154659   werfault.exe        Proc811977          2\n",
      "111995 AppService EnterpriseAppServer Proc709192.exe        Proc641217         17\n",
      "118488 AppService EnterpriseAppServer    cscript.exe           taskeng          8\n",
      "122686 AppService EnterpriseAppServer Proc640309.exe        Proc237961       5472\n",
      "124737 AppService EnterpriseAppServer Proc200672.exe        Proc433920         19\n",
      "126528 AppService EnterpriseAppServer Proc885298.exe        Proc728279          1\n",
      "130830 AppService          Comp162943    conhost.exe        Proc412499         18\n",
      "131481 AppService EnterpriseAppServer Proc934992.exe               cmd        226\n",
      "136824 AppService          Comp617405 Proc585356.exe        Proc483247         23\n",
      "144013 AppService          Comp581624 Proc412499.exe        Proc811977         15\n",
      "144721 AppService EnterpriseAppServer Proc412499.exe        Proc746489       1189\n",
      "145297 AppService EnterpriseAppServer        cmd.exe        Proc433920        160\n",
      "153149 AppService EnterpriseAppServer Proc412499.exe        Proc811977       1580\n",
      "158989 AppService          Comp093748 Proc424698.exe        Proc777795          5\n",
      "160837 AppService EnterpriseAppServer Proc433920.exe        Proc377869          4\n",
      "161456 AppService          Comp962930 Proc412499.exe        Proc811977          1\n",
      "161822 AppService EnterpriseAppServer Proc237961.exe        Proc429983        105\n",
      "168097 AppService          Comp384732 Proc412499.exe        Proc811977         10\n",
      "173199 AppService          Comp484824    conhost.exe        Proc729264          1\n",
      "173944 AppService EnterpriseAppServer Proc568080.exe        Proc483247          3\n",
      "179411 AppService EnterpriseAppServer Proc433920.exe        Proc367006         16\n",
      "179703 AppService EnterpriseAppServer        cmd.exe        Proc530247         83\n",
      "179830 AppService EnterpriseAppServer Proc865473.exe        Proc746489         32\n",
      "182345 AppService          Comp894088    conhost.exe        Proc424698          8\n",
      "190446 AppService EnterpriseAppServer        cmd.exe        Proc600142         10\n",
      "\n",
      "[1] \"The number of suspect Procs is 17666\"\n",
      "\n",
      "The common devices are:\n",
      " [1] \"EnterpriseAppServer\" \"Comp894088\"          \"Comp154659\"          \"Comp093748\"          \"Comp367857\"          \"Comp542689\"          \"Comp698972\"          \"Comp484824\"         \n",
      " [9] \"Comp581624\"          \"Comp474112\"          \"Comp843020\"          \"Comp571028\"          \"Comp044849\"          \"Comp395935\"          \"Comp807801\"          \"Comp661097\"         \n",
      "[17] \"Comp761044\"          \"Comp617405\"          \"Comp217088\"          \"Comp415540\"          \"Comp162943\"          \"Comp350505\"          \"Comp668537\"          \"Comp194808\"         \n",
      "[25] \"Comp335359\"          \"Comp244768\"          \"Comp682831\"          \"Comp384732\"          \"Comp457448\"          \"Comp817431\"          \"Comp510565\"          \"Comp939065\"         \n",
      "[33] \"Comp888702\"          \"Comp447558\"          \"Comp726354\"          \"Comp104511\"          \"Comp685945\"          \"Comp956432\"          \"Comp562816\"          \"Comp425438\"         \n",
      "[41] \"Comp100724\"          \"Comp906583\"          \"Comp055001\"          \"Comp962930\"          \"Comp342705\"          \"Comp266023\"          \"Comp679250\"          \"Comp199388\"         \n",
      "\n",
      "With Auth frequencies:\n",
      "\n",
      "EnterpriseAppServer          Comp807801          Comp484824          Comp093748          Comp395935 \n",
      "               2899                 702                 699                 582                 570 \n",
      "         Comp542689          Comp367857          Comp581624          Comp474112          Comp044849 \n",
      "                556                 524                 475                 437                 406 \n",
      "         Comp154659          Comp217088          Comp162943          Comp571028          Comp661097 \n",
      "                385                 366                 301                 240                 226 \n",
      "         Comp698972          Comp894088          Comp415540          Comp843020          Comp617405 \n",
      "                222                 221                 215                 186                 184 \n",
      "         Comp350505          Comp668537          Comp244768          Comp194808          Comp761044 \n",
      "                 82                  78                  26                  21                  14 \n",
      "         Comp384732          Comp104511          Comp817431          Comp055001          Comp447558 \n",
      "                 10                   9                   8                   7                   6 \n",
      "         Comp562816          Comp726354          Comp335359          Comp425438          Comp510565 \n",
      "                  6                   6                   5                   5                   5 \n",
      "         Comp939065          Comp956432          Comp457448          Comp685945          Comp888702 \n",
      "                  5                   5                   4                   4                   3 \n",
      "         Comp266023          Comp679250          Comp100724          Comp199388          Comp342705 \n",
      "                  2                   2                   1                   1                   1 \n",
      "         Comp682831          Comp906583          Comp962930 \n",
      "                  1                   1                   1 \n",
      "\n",
      "And Proc frequencies:\n",
      "\n",
      "EnterpriseAppServer          Comp894088          Comp581624          Comp698972          Comp542689 \n",
      "               9840                 872                 865                 861                 689 \n",
      "         Comp367857          Comp484824          Comp807801          Comp093748          Comp162943 \n",
      "                679                 491                 380                 377                 364 \n",
      "         Comp474112          Comp617405          Comp384732          Comp217088          Comp761044 \n",
      "                313                 225                 200                 171                 156 \n",
      "         Comp044849          Comp962930          Comp350505          Comp843020          Comp562816 \n",
      "                125                 121                  97                  90                  80 \n",
      "         Comp939065          Comp154659          Comp395935          Comp510565          Comp104511 \n",
      "                 74                  73                  72                  69                  59 \n",
      "         Comp194808          Comp817431          Comp425438          Comp571028          Comp447558 \n",
      "                 49                  49                  39                  39                  30 \n",
      "         Comp679250          Comp100724          Comp335359          Comp342705          Comp685945 \n",
      "                 17                  12                  12                  12                  12 \n",
      "         Comp668537          Comp055001          Comp888702          Comp415540          Comp906583 \n",
      "                 11                   9                   8                   6                   4 \n",
      "         Comp244768          Comp266023          Comp457448          Comp682831          Comp726354 \n",
      "                  2                   2                   2                   2                   2 \n",
      "         Comp956432          Comp199388          Comp661097 \n",
      "                  2                   1                   1 \n",
      "          UserName           SrcDevice           DstDevice      Authent.Type Failure DailyCount\n",
      "73665   AppService EnterpriseAppServer                None             Batch       1          3\n",
      "113948  AppService EnterpriseAppServer EnterpriseAppServer      NetworkLogon       1        310\n",
      "161788  AppService EnterpriseAppServer                None           Service       1          1\n",
      "167298  AppService EnterpriseAppServer                None  InteractiveLogon       1      44275\n",
      "269938  AppService EnterpriseAppServer                None             Batch       1          1\n",
      "300330  AppService          Comp843020                None  InteractiveLogon       1          1\n",
      "317290  AppService          Comp843020                None CachedInteractive       1          2\n",
      "318851  AppService EnterpriseAppServer EnterpriseAppServer      NetworkLogon       1        308\n",
      "383059  AppService EnterpriseAppServer                None  InteractiveLogon       1      43119\n",
      "488199  AppService EnterpriseAppServer                None             Batch       1          2\n",
      "518674  AppService          Comp843020                None  InteractiveLogon       1          2\n",
      "537132  AppService EnterpriseAppServer EnterpriseAppServer      NetworkLogon       1        318\n",
      "601611  AppService EnterpriseAppServer                None  InteractiveLogon       1      41647\n",
      "708436  AppService EnterpriseAppServer                None             Batch       1         12\n",
      "758232  AppService EnterpriseAppServer EnterpriseAppServer      NetworkLogon       1        319\n",
      "817142  AppService EnterpriseAppServer                None           Service       1          1\n",
      "823897  AppService EnterpriseAppServer                None  InteractiveLogon       1      25061\n",
      "883860  AppService EnterpriseAppServer EnterpriseAppServer      NetworkLogon       1        307\n",
      "973224  AppService EnterpriseAppServer                None             Batch       1          2\n",
      "978738  AppService EnterpriseAppServer                None  InteractiveLogon       1      17102\n",
      "1000638 AppService EnterpriseAppServer     ActiveDirectory      NetworkLogon       1         12\n",
      "1027727 AppService EnterpriseAppServer EnterpriseAppServer      NetworkLogon       1        303\n",
      "1086095 AppService EnterpriseAppServer                None  InteractiveLogon       1      17112\n",
      "1126252 AppService EnterpriseAppServer EnterpriseAppServer      NetworkLogon       1        302\n",
      "1180039 AppService EnterpriseAppServer                None             Batch       1         10\n",
      "1183407 AppService EnterpriseAppServer                None  InteractiveLogon       1      17108\n",
      "1292597 AppService EnterpriseAppServer                None             Batch       1          5\n",
      "1344534 AppService EnterpriseAppServer EnterpriseAppServer      NetworkLogon       1        295\n",
      "1412842 AppService EnterpriseAppServer                None  InteractiveLogon       1      17078\n",
      "1428896 AppService EnterpriseAppServer     ActiveDirectory      NetworkLogon       1         61\n",
      "1517997 AppService EnterpriseAppServer                None             Batch       1          1\n",
      "1566191 AppService EnterpriseAppServer EnterpriseAppServer      NetworkLogon       1        308\n",
      "1629822 AppService EnterpriseAppServer                None  InteractiveLogon       1      17087\n",
      "1644782 AppService EnterpriseAppServer     ActiveDirectory      NetworkLogon       1         35\n",
      "1740253 AppService EnterpriseAppServer                None             Batch       1          1\n",
      "1791766 AppService EnterpriseAppServer EnterpriseAppServer      NetworkLogon       1        301\n",
      "1859975 AppService EnterpriseAppServer                None  InteractiveLogon       1      17091\n",
      "1944715 AppService          Comp217088          Comp484824      NetworkLogon       1          1\n",
      "2038764 AppService EnterpriseAppServer EnterpriseAppServer      NetworkLogon       1        313\n",
      "2106161 AppService EnterpriseAppServer                None           Service       1          1\n",
      "2113887 AppService EnterpriseAppServer                None  InteractiveLogon       1      17092\n",
      "2178561 AppService EnterpriseAppServer EnterpriseAppServer      NetworkLogon       1        399\n",
      "2220111 AppService          Comp162943          Comp542689      NetworkLogon       1          5\n",
      "2227214 AppService          Comp093748          Comp395935      NetworkLogon       1          3\n",
      "2238491 AppService          Comp894088          Comp698972      NetworkLogon       1          5\n",
      "2271854 AppService          Comp367857          Comp542689      NetworkLogon       1          8\n",
      "2272667 AppService EnterpriseAppServer                None             Batch       1          1\n",
      "2278478 AppService EnterpriseAppServer                None  InteractiveLogon       1      17080\n",
      "2297611 AppService          Comp542689          Comp367857      NetworkLogon       1          5\n",
      "2326249 AppService EnterpriseAppServer EnterpriseAppServer      NetworkLogon       1        299\n",
      "\n",
      "[1] \"The number of times Auth fails is 324\"\n"
     ]
    },
    {
     "ename": "ERROR",
     "evalue": "Error in order(df$AuthType, decreasing = FALSE): argument 1 is not a vector\n",
     "output_type": "error",
     "traceback": [
      "Error in order(df$AuthType, decreasing = FALSE): argument 1 is not a vector\nTraceback:\n",
      "1. IsolatingMal(x = \"AppService\", n = 50)",
      "2. print(table(df$AuthType[order(df$AuthType, decreasing = FALSE)]))   # at line 46 of file <text>",
      "3. table(df$AuthType[order(df$AuthType, decreasing = FALSE)])   # at line 46 of file <text>",
      "4. order(df$AuthType, decreasing = FALSE)   # at line 46 of file <text>"
     ]
    }
   ],
   "source": [
    "IsolatingMal(x='AppService', n=50)"
   ]
  },
  {
   "cell_type": "markdown",
   "id": "51fe132e",
   "metadata": {},
   "source": [
    "Conclusions: ...\n",
    "\n",
    "Verdict: ..."
   ]
  }
 ],
 "metadata": {
  "kernelspec": {
   "display_name": "R",
   "language": "R",
   "name": "ir"
  },
  "language_info": {
   "codemirror_mode": "r",
   "file_extension": ".r",
   "mimetype": "text/x-r-source",
   "name": "R",
   "pygments_lexer": "r",
   "version": "4.1.0"
  }
 },
 "nbformat": 4,
 "nbformat_minor": 5
}
