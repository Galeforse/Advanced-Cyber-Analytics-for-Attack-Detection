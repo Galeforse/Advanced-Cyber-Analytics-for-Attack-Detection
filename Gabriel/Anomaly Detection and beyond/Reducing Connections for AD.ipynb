{
 "cells": [
  {
   "cell_type": "markdown",
   "id": "20628e95-d4c8-46b7-a52d-244141a5f1df",
   "metadata": {},
   "source": [
    "# Reducing connections\n",
    "\n",
    "In this workbook I am working on reducing the data in the process and authentication data for further use in anomaly detection and analysis to place attacks within the kill chain. Through our discussion and analysis of the \"Networks\" associated with this data we know that within the whole dataset there is a whole variety of different \"connections\". For the most part when we talk about connections we refer to a more genuine interpretation of the word - a link between a source and destination or a person interacting with a device. For this reason we are mostly going to be focusing on the variables `UserName` and `Device` in the process data, and the `UserName`, `SrcDevice` and `DstDevice` variables in the authentication data.\n",
    "\n",
    "In previous EDA work (particularly noted with the use of visualisation) we found that there were a large amount of data points with far too many connections to draw any meaningful conclusions/recognise any interesting structural pattern in the connections. These are most easily observed in another way by looking at the scatter plots found in [this folder](https://github.com/Galeforse/Advanced-Cyber-Analytics-for-Attack-Detection/tree/main/Gabriel/EDA/plots), observing those which tower above the others in frequency. When talking to Dan, we thought that it would be worth removing this data, and additionally might want to remove those single path connections (and possibly slightly higher) that occur in the data.\n",
    "\n",
    "To do this the main aims of this workbook are to analyse these connections through use of counting and then create new reduced data dropping extra values to get a more feasibly usable dataset. This workbook is linked to some brief experimentation that I conducted into the data distribution in the other workbook in this folder [Plotting Boxplots](https://github.com/Galeforse/Advanced-Cyber-Analytics-for-Attack-Detection/blob/main/Gabriel/Anomaly%20Detection%20and%20beyond/Plotting%20Boxplots.ipynb)."
   ]
  },
  {
   "cell_type": "markdown",
   "id": "fffbd619-28ff-43c0-90b6-ca8ac1da86af",
   "metadata": {},
   "source": [
    "We start by importing our modules as usual. To understand what some of what I'm doing here relates to please refer to [Using Modules](https://github.com/Galeforse/Advanced-Cyber-Analytics-for-Attack-Detection/blob/main/Modules/01%20-%20Using%20Modules.ipynb)."
   ]
  },
  {
   "cell_type": "code",
   "execution_count": 1,
   "id": "5f183556-90e0-48eb-92be-4e739dd85dba",
   "metadata": {},
   "outputs": [],
   "source": [
    "import sys\n",
    "sys.path.insert(0,'G:/Users/Gabriel/Documents/Education/UoB/GitHubDesktop/Advanced-Cyber-Analytics-for-Attack-Detection/Modules/')\n",
    "import pandas as pd\n",
    "import numpy as np\n",
    "from dt import *\n",
    "from startup_g import *\n",
    "import seaborn as sns"
   ]
  },
  {
   "cell_type": "code",
   "execution_count": 2,
   "id": "3b37b133-1090-4312-92d6-76520618eb9e",
   "metadata": {},
   "outputs": [
    {
     "name": "stdout",
     "output_type": "stream",
     "text": [
      "Looking for local copy of Process data...\n"
     ]
    },
    {
     "name": "stderr",
     "output_type": "stream",
     "text": [
      "G:\\Programs\\Anaconda\\envs\\det\\lib\\site-packages\\numpy\\lib\\arraysetops.py:583: FutureWarning: elementwise comparison failed; returning scalar instead, but in the future will perform elementwise comparison\n",
      "  mask |= (ar1 == a)\n"
     ]
    },
    {
     "name": "stdout",
     "output_type": "stream",
     "text": [
      "Process data fetched locally in 0:01:09.162751\n",
      "Looking for local copy of Auth data...\n",
      "Auth data fetched locally in 0:00:20.999779\n"
     ]
    }
   ],
   "source": [
    "df_p = process_import()\n",
    "df_a = auth_import()"
   ]
  },
  {
   "cell_type": "code",
   "execution_count": 3,
   "id": "30781eee-97fa-49d7-bde4-646862cc059a",
   "metadata": {},
   "outputs": [
    {
     "data": {
      "text/html": [
       "<div>\n",
       "<style scoped>\n",
       "    .dataframe tbody tr th:only-of-type {\n",
       "        vertical-align: middle;\n",
       "    }\n",
       "\n",
       "    .dataframe tbody tr th {\n",
       "        vertical-align: top;\n",
       "    }\n",
       "\n",
       "    .dataframe thead th {\n",
       "        text-align: right;\n",
       "    }\n",
       "</style>\n",
       "<table border=\"1\" class=\"dataframe\">\n",
       "  <thead>\n",
       "    <tr style=\"text-align: right;\">\n",
       "      <th></th>\n",
       "      <th>UserName</th>\n",
       "      <th>Device</th>\n",
       "      <th>ProcessName</th>\n",
       "      <th>ParentProcessName</th>\n",
       "      <th>DailyCount</th>\n",
       "    </tr>\n",
       "  </thead>\n",
       "  <tbody>\n",
       "    <tr>\n",
       "      <th>0</th>\n",
       "      <td>Comp748297$</td>\n",
       "      <td>Comp748297</td>\n",
       "      <td>Proc391839.exe</td>\n",
       "      <td>Proc387473</td>\n",
       "      <td>1</td>\n",
       "    </tr>\n",
       "    <tr>\n",
       "      <th>1</th>\n",
       "      <td>Comp563664$</td>\n",
       "      <td>Comp563664</td>\n",
       "      <td>rundll32.exe</td>\n",
       "      <td>services</td>\n",
       "      <td>1</td>\n",
       "    </tr>\n",
       "    <tr>\n",
       "      <th>2</th>\n",
       "      <td>User607396</td>\n",
       "      <td>Comp609111</td>\n",
       "      <td>Proc417435.exe</td>\n",
       "      <td>Proc417435</td>\n",
       "      <td>1</td>\n",
       "    </tr>\n",
       "    <tr>\n",
       "      <th>3</th>\n",
       "      <td>Comp641702$</td>\n",
       "      <td>Comp641702</td>\n",
       "      <td>Proc249569.exe</td>\n",
       "      <td>services</td>\n",
       "      <td>1</td>\n",
       "    </tr>\n",
       "    <tr>\n",
       "      <th>4</th>\n",
       "      <td>Comp157389$</td>\n",
       "      <td>Comp157389</td>\n",
       "      <td>Proc402696.exe</td>\n",
       "      <td>services</td>\n",
       "      <td>1</td>\n",
       "    </tr>\n",
       "  </tbody>\n",
       "</table>\n",
       "</div>"
      ],
      "text/plain": [
       "      UserName      Device     ProcessName ParentProcessName  DailyCount\n",
       "0  Comp748297$  Comp748297  Proc391839.exe        Proc387473           1\n",
       "1  Comp563664$  Comp563664    rundll32.exe          services           1\n",
       "2   User607396  Comp609111  Proc417435.exe        Proc417435           1\n",
       "3  Comp641702$  Comp641702  Proc249569.exe          services           1\n",
       "4  Comp157389$  Comp157389  Proc402696.exe          services           1"
      ]
     },
     "execution_count": 3,
     "metadata": {},
     "output_type": "execute_result"
    }
   ],
   "source": [
    "df_p.head()"
   ]
  },
  {
   "cell_type": "code",
   "execution_count": 4,
   "id": "5b164d4f-9a9a-4f21-8612-7f4ed57df5a6",
   "metadata": {},
   "outputs": [
    {
     "data": {
      "text/html": [
       "<div>\n",
       "<style scoped>\n",
       "    .dataframe tbody tr th:only-of-type {\n",
       "        vertical-align: middle;\n",
       "    }\n",
       "\n",
       "    .dataframe tbody tr th {\n",
       "        vertical-align: top;\n",
       "    }\n",
       "\n",
       "    .dataframe thead th {\n",
       "        text-align: right;\n",
       "    }\n",
       "</style>\n",
       "<table border=\"1\" class=\"dataframe\">\n",
       "  <thead>\n",
       "    <tr style=\"text-align: right;\">\n",
       "      <th></th>\n",
       "      <th>UserName</th>\n",
       "      <th>SrcDevice</th>\n",
       "      <th>DstDevice</th>\n",
       "      <th>Authent Type</th>\n",
       "      <th>Failure</th>\n",
       "      <th>DailyCount</th>\n",
       "    </tr>\n",
       "  </thead>\n",
       "  <tbody>\n",
       "    <tr>\n",
       "      <th>0</th>\n",
       "      <td>User035855</td>\n",
       "      <td>Comp808475</td>\n",
       "      <td>Comp081330</td>\n",
       "      <td>TGS</td>\n",
       "      <td>0</td>\n",
       "      <td>17.0</td>\n",
       "    </tr>\n",
       "    <tr>\n",
       "      <th>1</th>\n",
       "      <td>Comp655251$</td>\n",
       "      <td>Comp655251</td>\n",
       "      <td>ActiveDirectory</td>\n",
       "      <td>NetworkLogon</td>\n",
       "      <td>0</td>\n",
       "      <td>350.0</td>\n",
       "    </tr>\n",
       "    <tr>\n",
       "      <th>2</th>\n",
       "      <td>User762066</td>\n",
       "      <td>Comp306129</td>\n",
       "      <td>ActiveDirectory</td>\n",
       "      <td>TGS</td>\n",
       "      <td>0</td>\n",
       "      <td>22.0</td>\n",
       "    </tr>\n",
       "    <tr>\n",
       "      <th>3</th>\n",
       "      <td>User384215</td>\n",
       "      <td>Comp095190</td>\n",
       "      <td>EnterpriseAppServer</td>\n",
       "      <td>NetworkLogon</td>\n",
       "      <td>0</td>\n",
       "      <td>35.0</td>\n",
       "    </tr>\n",
       "    <tr>\n",
       "      <th>4</th>\n",
       "      <td>User043263</td>\n",
       "      <td>Comp883307</td>\n",
       "      <td>Comp384394</td>\n",
       "      <td>TGS</td>\n",
       "      <td>0</td>\n",
       "      <td>2.0</td>\n",
       "    </tr>\n",
       "  </tbody>\n",
       "</table>\n",
       "</div>"
      ],
      "text/plain": [
       "      UserName   SrcDevice            DstDevice  Authent Type  Failure  \\\n",
       "0   User035855  Comp808475           Comp081330           TGS        0   \n",
       "1  Comp655251$  Comp655251      ActiveDirectory  NetworkLogon        0   \n",
       "2   User762066  Comp306129      ActiveDirectory           TGS        0   \n",
       "3   User384215  Comp095190  EnterpriseAppServer  NetworkLogon        0   \n",
       "4   User043263  Comp883307           Comp384394           TGS        0   \n",
       "\n",
       "   DailyCount  \n",
       "0        17.0  \n",
       "1       350.0  \n",
       "2        22.0  \n",
       "3        35.0  \n",
       "4         2.0  "
      ]
     },
     "execution_count": 4,
     "metadata": {},
     "output_type": "execute_result"
    }
   ],
   "source": [
    "df_a.head()"
   ]
  },
  {
   "cell_type": "markdown",
   "id": "551ab637-a2c5-4a1d-b045-6c374ab729ee",
   "metadata": {},
   "source": [
    "Simple counting of the values as we are used to for both sets of data."
   ]
  },
  {
   "cell_type": "code",
   "execution_count": 5,
   "id": "3af62f48-31bd-4704-997e-eed7b18c001e",
   "metadata": {},
   "outputs": [],
   "source": [
    "x = [\"UserName\",\"Device\"]\n",
    "counts_p = []\n",
    "for i in x:\n",
    "    z = df_p.groupby(i).size().sort_values(ascending=False)\n",
    "    z = pd.DataFrame(z)\n",
    "    z.reset_index(level=0, inplace=True)\n",
    "    z.columns = [i,'Count']\n",
    "    counts_p.append(z)"
   ]
  },
  {
   "cell_type": "code",
   "execution_count": 6,
   "id": "90f0cc40-82da-442c-88c9-6c645dff92b7",
   "metadata": {},
   "outputs": [],
   "source": [
    "x = [\"UserName\",\"SrcDevice\",\"DstDevice\"]\n",
    "counts_a = []\n",
    "for i in x:\n",
    "    z = df_a.groupby(i).size().sort_values(ascending=False)\n",
    "    z = pd.DataFrame(z)\n",
    "    z.reset_index(level=0, inplace=True)\n",
    "    z.columns = [i,'Count']\n",
    "    counts_a.append(z)"
   ]
  },
  {
   "cell_type": "markdown",
   "id": "e9c9d07d-dec5-4123-8696-f517d01cb370",
   "metadata": {},
   "source": [
    "Here I count the code and discard the top 10% and bottom 10% of the entries in the counts list and return a new counts list with these removed, as well as a list combining the discarded counts (which we will use later)"
   ]
  },
  {
   "cell_type": "code",
   "execution_count": 21,
   "id": "ca7c829a-59f8-4143-a40c-54c2a8d25d9e",
   "metadata": {},
   "outputs": [],
   "source": [
    "x = [\"UserName\",\"Device\"]\n",
    "counts_p_mid_80 = []\n",
    "counts_p_mid_80_discard = []\n",
    "for i in x:\n",
    "    z = df_p.groupby(i).size().sort_values(ascending=False)\n",
    "    z = pd.DataFrame(z)\n",
    "    z.reset_index(level=0, inplace=True)\n",
    "    z.columns = [i,'Count']\n",
    "    l = len(z)\n",
    "    l_low = int(l*0.1)\n",
    "    l_high = int(l*0.9)\n",
    "    y = z[(z[\"Count\"] <= z[\"Count\"][l_low]) & (z[\"Count\"] >= z[\"Count\"][l_high])]\n",
    "    x = z[z[\"Count\"] > z[\"Count\"][l_low]]\n",
    "    v = z[z[\"Count\"] < z[\"Count\"][l_high]]\n",
    "    counts_p_mid_80.append(y)\n",
    "    temp = []\n",
    "    temp.append(x)\n",
    "    temp.append(v)\n",
    "    b = pd.concat(temp,axis=0)\n",
    "    counts_p_mid_80_discard.append(b)"
   ]
  },
  {
   "cell_type": "code",
   "execution_count": 164,
   "id": "323cbdba-af75-4544-b550-3c6e2f5204cf",
   "metadata": {},
   "outputs": [
    {
     "name": "stdout",
     "output_type": "stream",
     "text": [
      "25320\n"
     ]
    }
   ],
   "source": [
    "print(len(counts_p_mid_80[0])+len(counts_p_mid_80_discard[0]))"
   ]
  },
  {
   "cell_type": "code",
   "execution_count": 170,
   "id": "b55d0669-377f-4690-9c58-9500a37a29b7",
   "metadata": {},
   "outputs": [
    {
     "name": "stdout",
     "output_type": "stream",
     "text": [
      "Process - UserName - First 5\n",
      "         UserName  Count\n",
      "2532  Comp459452$   4272\n",
      "2533  Comp819519$   4272\n",
      "2534   User202994   4272\n",
      "2535  Comp509630$   4272\n",
      "2536  Comp416250$   4272\n",
      "\n",
      "Process - UserName - Last 5\n",
      "          UserName  Count\n",
      "22784  Comp324186$    121\n",
      "22785   User781308    121\n",
      "22786  Comp748227$    121\n",
      "22787   User847942    121\n",
      "22788   User520063    121\n",
      "\n",
      "Process - Device - First 5\n",
      "          Device  Count\n",
      "1347  Comp412116   6584\n",
      "1348  Comp878158   6584\n",
      "1349  Comp702752   6584\n",
      "1350  Comp543700   6582\n",
      "1351  Comp815841   6582\n",
      "\n",
      "Process - Device - Last 5\n",
      "           Device  Count\n",
      "12124  Comp504154   1092\n",
      "12125  Comp514047   1090\n",
      "12126  Comp793786   1089\n",
      "12127  Comp595745   1089\n",
      "12128  Comp852830   1087\n"
     ]
    }
   ],
   "source": [
    "print(\"Process - UserName - First 5\")\n",
    "print(counts_p_mid_80[0].head())\n",
    "print(\"\")\n",
    "print(\"Process - UserName - Last 5\")\n",
    "print(counts_p_mid_80[0].tail())\n",
    "print(\"\")\n",
    "print(\"Process - Device - First 5\")\n",
    "print(counts_p_mid_80[1].head())\n",
    "print(\"\")\n",
    "print(\"Process - Device - Last 5\")\n",
    "print(counts_p_mid_80[1].tail())"
   ]
  },
  {
   "cell_type": "markdown",
   "id": "df74b62a-3c80-47e7-b5f5-41d1933e1766",
   "metadata": {},
   "source": [
    "In the next block of code we are taking our discarded lists to new list variables to be used later to manipulate the original data."
   ]
  },
  {
   "cell_type": "code",
   "execution_count": 17,
   "id": "8fe720b2-3072-4c53-b442-b14765a2f17c",
   "metadata": {},
   "outputs": [],
   "source": [
    "pun_discard = counts_p_mid_80_discard[0][\"UserName\"].tolist()\n",
    "pd_discard = counts_p_mid_80_discard[1][\"Device\"].tolist()"
   ]
  },
  {
   "cell_type": "code",
   "execution_count": 18,
   "id": "e5ac75f1-3c0b-4a8b-9764-a5de896f02ea",
   "metadata": {},
   "outputs": [
    {
     "data": {
      "text/plain": [
       "<AxesSubplot:xlabel='Count'>"
      ]
     },
     "execution_count": 18,
     "metadata": {},
     "output_type": "execute_result"
    },
    {
     "data": {
      "image/png": "[encoded data removed]",
      "text/plain": [
       "<Figure size 1440x720 with 1 Axes>"
      ]
     },
     "metadata": {},
     "output_type": "display_data"
    }
   ],
   "source": [
    "sns.set(rc={'figure.figsize':(20,10)})\n",
    "sns.boxplot(x=counts_p_mid_80[0][\"Count\"])"
   ]
  },
  {
   "cell_type": "markdown",
   "id": "d2fc39df-ed6c-4b84-88ff-4e233e16f1f5",
   "metadata": {},
   "source": [
    "## Above for Authentication data"
   ]
  },
  {
   "cell_type": "code",
   "execution_count": 20,
   "id": "27671d08-fa8e-4907-838f-a307ed9821fa",
   "metadata": {},
   "outputs": [],
   "source": [
    "x = [\"UserName\",\"SrcDevice\",\"DstDevice\"]\n",
    "counts_a_mid_80 = []\n",
    "counts_a_mid_80_discard = []\n",
    "for i in x:\n",
    "    z = df_a.groupby(i).size().sort_values(ascending=False)\n",
    "    z = pd.DataFrame(z)\n",
    "    z.reset_index(level=0, inplace=True)\n",
    "    z.columns = [i,'Count']\n",
    "    l = len(z)\n",
    "    l_low = int(l*0.1)\n",
    "    l_high = int(l*0.9)\n",
    "    y = z[(z[\"Count\"] <= z[\"Count\"][l_low]) & (z[\"Count\"] >= z[\"Count\"][l_high])]\n",
    "    x = z[z[\"Count\"] > z[\"Count\"][l_low]]\n",
    "    v = z[z[\"Count\"] < z[\"Count\"][l_high]]\n",
    "    counts_a_mid_80.append(y)\n",
    "    temp = []\n",
    "    temp.append(x)\n",
    "    temp.append(v)\n",
    "    b = pd.concat(temp,axis=0)\n",
    "    counts_a_mid_80_discard.append(b)"
   ]
  },
  {
   "cell_type": "code",
   "execution_count": 22,
   "id": "c5d31113-4b94-4d38-9de6-373fb8bab26e",
   "metadata": {},
   "outputs": [],
   "source": [
    "aun_discard = counts_a_mid_80_discard[0][\"UserName\"].tolist()\n",
    "asd_discard = counts_a_mid_80_discard[1][\"SrcDevice\"].tolist()\n",
    "add_discard = counts_a_mid_80_discard[2][\"DstDevice\"].tolist()"
   ]
  },
  {
   "cell_type": "markdown",
   "id": "837af78f-b4b7-4385-ab4e-35d3d3ef6c92",
   "metadata": {},
   "source": [
    "## Applying the above cuts to our original data\n",
    "\n",
    "In the following code we use the \"discard\" variables accordingly to cut out those Usernames etc. which we discarded regarding their counts from our original data sets. As we see with this 10% margin we reduce the data significantly."
   ]
  },
  {
   "cell_type": "code",
   "execution_count": 34,
   "id": "3d6917b3-8acd-401f-aa15-f74cb3579799",
   "metadata": {},
   "outputs": [
    {
     "name": "stdout",
     "output_type": "stream",
     "text": [
      "Starting length of dataframe: 55981618\n",
      "1st drop length of dataframe: 42964407\n",
      "Final length of dataframe: 38137080\n"
     ]
    }
   ],
   "source": [
    "print(\"Starting length of dataframe: \"+str(len(df_p)))\n",
    "df_p_cut = df_p[~df_p[\"UserName\"].isin(pun_discard)]\n",
    "print(\"1st drop length of dataframe: \"+str(len(df_p_cut)))\n",
    "df_p_cut = df_p_cut[~df_p_cut[\"Device\"].isin(pd_discard)]\n",
    "print(\"Final length of dataframe: \"+str(len(df_p_cut)))"
   ]
  },
  {
   "cell_type": "code",
   "execution_count": 36,
   "id": "c52c0a42-8c78-447c-940b-3df776351eb7",
   "metadata": {},
   "outputs": [
    {
     "name": "stdout",
     "output_type": "stream",
     "text": [
      "Starting length of dataframe: 15953681\n",
      "1st drop length of dataframe: 10422898\n",
      "2nd drop length of dataframe: 8007794\n",
      "Final length of dataframe: 851237\n"
     ]
    }
   ],
   "source": [
    "print(\"Starting length of dataframe: \"+str(len(df_a)))\n",
    "df_a_cut = df_a[~df_a[\"UserName\"].isin(aun_discard)]\n",
    "print(\"1st drop length of dataframe: \"+str(len(df_a_cut)))\n",
    "df_a_cut = df_a_cut[~df_a_cut[\"SrcDevice\"].isin(asd_discard)]\n",
    "print(\"2nd drop length of dataframe: \"+str(len(df_a_cut)))\n",
    "df_a_cut = df_a_cut[~df_a_cut[\"DstDevice\"].isin(add_discard)]\n",
    "print(\"Final length of dataframe: \"+str(len(df_a_cut)))"
   ]
  },
  {
   "cell_type": "markdown",
   "id": "c52dfee6-1e84-4f15-8968-79f6cb7d212f",
   "metadata": {},
   "source": [
    "## Further investigation - from BoxPlots Whiskers\n",
    "\n"
   ]
  },
  {
   "cell_type": "markdown",
   "id": "8e81fd35-6b59-42e4-a477-6310dac928e6",
   "metadata": {},
   "source": [
    "Following is done by observation of boxplots"
   ]
  },
  {
   "cell_type": "code",
   "execution_count": 66,
   "id": "18d40d34-77c9-474e-92e1-716f2afa6758",
   "metadata": {},
   "outputs": [
    {
     "data": {
      "text/plain": [
       "12"
      ]
     },
     "execution_count": 66,
     "metadata": {},
     "output_type": "execute_result"
    }
   ],
   "source": [
    "counts_p_un = counts_p[0][counts_p[0].Count < 9500]\n",
    "counts_p_un.head(1).index.values.astype(int)[0]"
   ]
  },
  {
   "cell_type": "code",
   "execution_count": 67,
   "id": "f459ff05-ecce-468e-8430-a9fb2db87997",
   "metadata": {},
   "outputs": [
    {
     "data": {
      "text/plain": [
       "25228"
      ]
     },
     "execution_count": 67,
     "metadata": {},
     "output_type": "execute_result"
    }
   ],
   "source": [
    "counts_p_un = counts_p_un[counts_p_un.Count > 1]\n",
    "counts_p_un.tail(1).index.values.astype(int)[0]"
   ]
  },
  {
   "cell_type": "code",
   "execution_count": null,
   "id": "900712f1-734d-4b3f-8f29-4b3cdd9a2591",
   "metadata": {},
   "outputs": [],
   "source": [
    "def counter_p():\n",
    "    x = [\"UserName\",\"Device\"]\n",
    "    counts_p = []\n",
    "    for i in x:\n",
    "        z = df_p.groupby(i).size().sort_values(ascending=False)\n",
    "        z = pd.DataFrame(z)\n",
    "        z.reset_index(level=0, inplace=True)\n",
    "        z.columns = [i,'Count']\n",
    "        counts_p.append(z)\n",
    "    return counts_p"
   ]
  },
  {
   "cell_type": "code",
   "execution_count": 80,
   "id": "13725237-cfa3-409b-b4f9-5e3d551f40cb",
   "metadata": {},
   "outputs": [],
   "source": [
    "def data_slicer(dataset,variable,upper_value,lower_value):\n",
    "    if dataset == \"p\":\n",
    "        z = df_p.groupby(variable).size().sort_values(ascending=False)\n",
    "        z = pd.DataFrame(z)\n",
    "        z.reset_index(level=0, inplace=True)\n",
    "        z.columns = [variable,'Count']\n",
    "        lims = z[z.Count < upper_value]\n",
    "        lims = lims[lims.Count > lower_value]\n",
    "        upper_lim = lims.head(1).index.values.astype(int)[0]\n",
    "        lower_lim = lims.tail(1).index.values.astype(int)[0]\n",
    "        y = z[(z[\"Count\"] <= z[\"Count\"][upper_lim]) & (z[\"Count\"] >= z[\"Count\"][lower_lim])]\n",
    "        x = z[z[\"Count\"] > z[\"Count\"][upper_lim]]\n",
    "        v = z[z[\"Count\"] < z[\"Count\"][lower_lim]]\n",
    "        counts_p_reduced = y\n",
    "        temp = []\n",
    "        temp.append(x)\n",
    "        temp.append(v)\n",
    "        counts_p_discard = pd.concat(temp,axis=0)\n",
    "        return counts_p_reduced, counts_p_discard\n",
    "    if dataset == \"a\":\n",
    "        z = df_a.groupby(variable).size().sort_values(ascending=False)\n",
    "        z = pd.DataFrame(z)\n",
    "        z.reset_index(level=0, inplace=True)\n",
    "        z.columns = [variable,'Count']\n",
    "        lims = z[z.Count < upper_value]\n",
    "        lims = lims[lims.Count > lower_value]\n",
    "        upper_lim = lims.head(1).index.values.astype(int)[0]\n",
    "        lower_lim = lims.tail(1).index.values.astype(int)[0]\n",
    "        y = z[(z[\"Count\"] <= z[\"Count\"][upper_lim]) & (z[\"Count\"] >= z[\"Count\"][lower_lim])]\n",
    "        x = z[z[\"Count\"] > z[\"Count\"][upper_lim]]\n",
    "        v = z[z[\"Count\"] < z[\"Count\"][lower_lim]]\n",
    "        counts_a_reduced = y\n",
    "        temp = []\n",
    "        temp.append(x)\n",
    "        temp.append(v)\n",
    "        counts_a_discard = pd.concat(temp,axis=0)\n",
    "        return counts_a_reduced, counts_a_discard"
   ]
  },
  {
   "cell_type": "code",
   "execution_count": 82,
   "id": "52a0fc2f-cf1b-4df6-8203-29ace9230621",
   "metadata": {},
   "outputs": [],
   "source": [
    "counts_p_reduced_un, counts_p_discard_un = data_slicer(\"p\",\"UserName\",7600,1)"
   ]
  },
  {
   "cell_type": "code",
   "execution_count": 83,
   "id": "069bd585-5957-43fa-a0b2-86e51843941e",
   "metadata": {},
   "outputs": [],
   "source": [
    "pun_discard = counts_p_discard_un[\"UserName\"].tolist()"
   ]
  },
  {
   "cell_type": "code",
   "execution_count": 99,
   "id": "562a7966-2f7d-4d9e-8c52-67f976f42831",
   "metadata": {},
   "outputs": [],
   "source": [
    "def total_data_reducer(dataset):\n",
    "    if dataset == \"p\":\n",
    "        counts_p_reduced_un, counts_p_discard_un = data_slicer(\"p\",\"UserName\",7600,3)\n",
    "        counts_p_reduced_d, counts_p_discard_d = data_slicer(\"p\",\"Device\",9500,3)\n",
    "        counts_p_discard_un = counts_p_discard_un[\"UserName\"].tolist()\n",
    "        counts_p_discard_d = counts_p_discard_d[\"Device\"].tolist()\n",
    "        print(\"Starting length of dataframe: \"+str(len(df_p)))\n",
    "        df_p_cut = df_p[~df_p[\"UserName\"].isin(counts_p_discard_un)]\n",
    "        print(\"1st drop length of dataframe: \"+str(len(df_p_cut)))\n",
    "        df_p_cut = df_p_cut[~df_p_cut[\"Device\"].isin(counts_p_discard_d)]\n",
    "        print(\"Final length of dataframe: \"+str(len(df_p_cut)))\n",
    "        return df_p_cut\n",
    "    elif dataset == \"a\":\n",
    "        counts_a_reduced_un, counts_a_discard_un = data_slicer(\"a\",\"UserName\",1600,3)\n",
    "        counts_a_reduced_sd, counts_a_discard_sd = data_slicer(\"a\",\"SrcDevice\",3300,3)\n",
    "        counts_a_reduced_dd, counts_a_discard_dd = data_slicer(\"a\",\"DstDevice\",350,3)\n",
    "        counts_a_discard_un = counts_a_discard_un[\"UserName\"].tolist()\n",
    "        counts_a_discard_sd = counts_a_discard_sd[\"SrcDevice\"].tolist()\n",
    "        counts_a_discard_dd = counts_a_discard_dd[\"DstDevice\"].tolist()\n",
    "        print(\"Starting length of dataframe: \"+str(len(df_a)))\n",
    "        df_a_cut = df_a[~df_a[\"UserName\"].isin(counts_a_discard_un)]\n",
    "        print(\"1st drop length of dataframe: \"+str(len(df_a_cut)))\n",
    "        df_a_cut = df_a_cut[~df_a_cut[\"SrcDevice\"].isin(counts_a_discard_sd)]\n",
    "        print(\"2nd drop length of dataframe: \"+str(len(df_a_cut)))\n",
    "        df_a_cut = df_a_cut[~df_a_cut[\"DstDevice\"].isin(counts_a_discard_dd)]\n",
    "        print(\"Final length of dataframe: \"+str(len(df_a_cut)))\n",
    "        return df_a_cut"
   ]
  },
  {
   "cell_type": "code",
   "execution_count": 100,
   "id": "9dbbcd0c-ebe1-4c4f-9947-1f41fd01326a",
   "metadata": {},
   "outputs": [
    {
     "name": "stdout",
     "output_type": "stream",
     "text": [
      "Starting length of dataframe: 55981618\n",
      "1st drop length of dataframe: 55333680\n",
      "Final length of dataframe: 53171476\n",
      "Starting length of dataframe: 15953681\n",
      "1st drop length of dataframe: 12938396\n",
      "2nd drop length of dataframe: 11790126\n",
      "Final length of dataframe: 1218541\n"
     ]
    }
   ],
   "source": [
    "df_p_cut = total_data_reducer(\"p\")\n",
    "df_a_cut = total_data_reducer(\"a\")"
   ]
  },
  {
   "cell_type": "code",
   "execution_count": 105,
   "id": "612a279e-950a-45ab-9225-9f257426e239",
   "metadata": {},
   "outputs": [
    {
     "data": {
      "text/html": [
       "<div>\n",
       "<style scoped>\n",
       "    .dataframe tbody tr th:only-of-type {\n",
       "        vertical-align: middle;\n",
       "    }\n",
       "\n",
       "    .dataframe tbody tr th {\n",
       "        vertical-align: top;\n",
       "    }\n",
       "\n",
       "    .dataframe thead th {\n",
       "        text-align: right;\n",
       "    }\n",
       "</style>\n",
       "<table border=\"1\" class=\"dataframe\">\n",
       "  <thead>\n",
       "    <tr style=\"text-align: right;\">\n",
       "      <th></th>\n",
       "      <th>UserName</th>\n",
       "      <th>SrcDevice</th>\n",
       "      <th>DstDevice</th>\n",
       "      <th>Authent Type</th>\n",
       "      <th>Failure</th>\n",
       "      <th>DailyCount</th>\n",
       "    </tr>\n",
       "  </thead>\n",
       "  <tbody>\n",
       "    <tr>\n",
       "      <th>11</th>\n",
       "      <td>User486765</td>\n",
       "      <td>Comp521945</td>\n",
       "      <td>Comp521945</td>\n",
       "      <td>TGS</td>\n",
       "      <td>0</td>\n",
       "      <td>6.0</td>\n",
       "    </tr>\n",
       "    <tr>\n",
       "      <th>59</th>\n",
       "      <td>Comp276690$</td>\n",
       "      <td>Comp276690</td>\n",
       "      <td>Comp276690</td>\n",
       "      <td>TGS</td>\n",
       "      <td>0</td>\n",
       "      <td>22.0</td>\n",
       "    </tr>\n",
       "    <tr>\n",
       "      <th>78</th>\n",
       "      <td>User661508</td>\n",
       "      <td>Comp751272</td>\n",
       "      <td>Comp751272</td>\n",
       "      <td>TGS</td>\n",
       "      <td>0</td>\n",
       "      <td>4.0</td>\n",
       "    </tr>\n",
       "    <tr>\n",
       "      <th>86</th>\n",
       "      <td>Comp540578$</td>\n",
       "      <td>Comp540578</td>\n",
       "      <td>Comp540578</td>\n",
       "      <td>TGS</td>\n",
       "      <td>0</td>\n",
       "      <td>17.0</td>\n",
       "    </tr>\n",
       "    <tr>\n",
       "      <th>91</th>\n",
       "      <td>Comp886109$</td>\n",
       "      <td>Comp886109</td>\n",
       "      <td>Comp886109</td>\n",
       "      <td>TGS</td>\n",
       "      <td>0</td>\n",
       "      <td>22.0</td>\n",
       "    </tr>\n",
       "  </tbody>\n",
       "</table>\n",
       "</div>"
      ],
      "text/plain": [
       "       UserName   SrcDevice   DstDevice Authent Type  Failure  DailyCount\n",
       "11   User486765  Comp521945  Comp521945          TGS        0         6.0\n",
       "59  Comp276690$  Comp276690  Comp276690          TGS        0        22.0\n",
       "78   User661508  Comp751272  Comp751272          TGS        0         4.0\n",
       "86  Comp540578$  Comp540578  Comp540578          TGS        0        17.0\n",
       "91  Comp886109$  Comp886109  Comp886109          TGS        0        22.0"
      ]
     },
     "execution_count": 105,
     "metadata": {},
     "output_type": "execute_result"
    }
   ],
   "source": [
    "df_a_cut.head()"
   ]
  },
  {
   "cell_type": "code",
   "execution_count": 109,
   "id": "b585ea37-c9bd-4096-a419-5e7a84e12e78",
   "metadata": {},
   "outputs": [
    {
     "data": {
      "text/html": [
       "<div>\n",
       "<style scoped>\n",
       "    .dataframe tbody tr th:only-of-type {\n",
       "        vertical-align: middle;\n",
       "    }\n",
       "\n",
       "    .dataframe tbody tr th {\n",
       "        vertical-align: top;\n",
       "    }\n",
       "\n",
       "    .dataframe thead th {\n",
       "        text-align: right;\n",
       "    }\n",
       "</style>\n",
       "<table border=\"1\" class=\"dataframe\">\n",
       "  <thead>\n",
       "    <tr style=\"text-align: right;\">\n",
       "      <th></th>\n",
       "      <th>UserName</th>\n",
       "      <th>Device</th>\n",
       "      <th>ProcessName</th>\n",
       "      <th>ParentProcessName</th>\n",
       "      <th>DailyCount</th>\n",
       "    </tr>\n",
       "  </thead>\n",
       "  <tbody>\n",
       "    <tr>\n",
       "      <th>0</th>\n",
       "      <td>Comp748297$</td>\n",
       "      <td>Comp748297</td>\n",
       "      <td>Proc391839.exe</td>\n",
       "      <td>Proc387473</td>\n",
       "      <td>1</td>\n",
       "    </tr>\n",
       "    <tr>\n",
       "      <th>1</th>\n",
       "      <td>Comp563664$</td>\n",
       "      <td>Comp563664</td>\n",
       "      <td>rundll32.exe</td>\n",
       "      <td>services</td>\n",
       "      <td>1</td>\n",
       "    </tr>\n",
       "    <tr>\n",
       "      <th>2</th>\n",
       "      <td>User607396</td>\n",
       "      <td>Comp609111</td>\n",
       "      <td>Proc417435.exe</td>\n",
       "      <td>Proc417435</td>\n",
       "      <td>1</td>\n",
       "    </tr>\n",
       "    <tr>\n",
       "      <th>3</th>\n",
       "      <td>Comp641702$</td>\n",
       "      <td>Comp641702</td>\n",
       "      <td>Proc249569.exe</td>\n",
       "      <td>services</td>\n",
       "      <td>1</td>\n",
       "    </tr>\n",
       "    <tr>\n",
       "      <th>4</th>\n",
       "      <td>Comp157389$</td>\n",
       "      <td>Comp157389</td>\n",
       "      <td>Proc402696.exe</td>\n",
       "      <td>services</td>\n",
       "      <td>1</td>\n",
       "    </tr>\n",
       "    <tr>\n",
       "      <th>5</th>\n",
       "      <td>Comp664825$</td>\n",
       "      <td>Comp664825</td>\n",
       "      <td>Proc402696.exe</td>\n",
       "      <td>services</td>\n",
       "      <td>1</td>\n",
       "    </tr>\n",
       "    <tr>\n",
       "      <th>6</th>\n",
       "      <td>Comp105747$</td>\n",
       "      <td>Comp105747</td>\n",
       "      <td>csrss.exe</td>\n",
       "      <td>Proc721583</td>\n",
       "      <td>1</td>\n",
       "    </tr>\n",
       "    <tr>\n",
       "      <th>7</th>\n",
       "      <td>Comp532565$</td>\n",
       "      <td>Comp532565</td>\n",
       "      <td>Proc556285.exe</td>\n",
       "      <td>services</td>\n",
       "      <td>1</td>\n",
       "    </tr>\n",
       "    <tr>\n",
       "      <th>8</th>\n",
       "      <td>Comp824319$</td>\n",
       "      <td>Comp824319</td>\n",
       "      <td>dllhost.exe</td>\n",
       "      <td>svchost</td>\n",
       "      <td>284</td>\n",
       "    </tr>\n",
       "    <tr>\n",
       "      <th>9</th>\n",
       "      <td>Comp265993$</td>\n",
       "      <td>Comp265993</td>\n",
       "      <td>Proc299293.exe</td>\n",
       "      <td>cmd</td>\n",
       "      <td>1</td>\n",
       "    </tr>\n",
       "    <tr>\n",
       "      <th>10</th>\n",
       "      <td>Comp511123$</td>\n",
       "      <td>Comp511123</td>\n",
       "      <td>Proc391839.exe</td>\n",
       "      <td>Proc387473</td>\n",
       "      <td>2</td>\n",
       "    </tr>\n",
       "    <tr>\n",
       "      <th>11</th>\n",
       "      <td>Comp824929$</td>\n",
       "      <td>Comp824929</td>\n",
       "      <td>cscript.exe</td>\n",
       "      <td>wmiprvse</td>\n",
       "      <td>2</td>\n",
       "    </tr>\n",
       "    <tr>\n",
       "      <th>12</th>\n",
       "      <td>Comp957545$</td>\n",
       "      <td>Comp957545</td>\n",
       "      <td>Proc307031.exe</td>\n",
       "      <td>services</td>\n",
       "      <td>1</td>\n",
       "    </tr>\n",
       "    <tr>\n",
       "      <th>13</th>\n",
       "      <td>Comp512730$</td>\n",
       "      <td>Comp512730</td>\n",
       "      <td>Proc453954.exe</td>\n",
       "      <td>Proc397204</td>\n",
       "      <td>1</td>\n",
       "    </tr>\n",
       "    <tr>\n",
       "      <th>14</th>\n",
       "      <td>Comp698292$</td>\n",
       "      <td>Comp698292</td>\n",
       "      <td>Proc174492.exe</td>\n",
       "      <td>svchost</td>\n",
       "      <td>3</td>\n",
       "    </tr>\n",
       "    <tr>\n",
       "      <th>15</th>\n",
       "      <td>User851869</td>\n",
       "      <td>Comp445233</td>\n",
       "      <td>Proc915692.exe</td>\n",
       "      <td>Proc318985</td>\n",
       "      <td>1</td>\n",
       "    </tr>\n",
       "    <tr>\n",
       "      <th>16</th>\n",
       "      <td>Comp833841$</td>\n",
       "      <td>Comp833841</td>\n",
       "      <td>Proc332633.exe</td>\n",
       "      <td>Proc318985</td>\n",
       "      <td>1</td>\n",
       "    </tr>\n",
       "    <tr>\n",
       "      <th>17</th>\n",
       "      <td>Comp793844$</td>\n",
       "      <td>Comp793844</td>\n",
       "      <td>Proc695356.exe</td>\n",
       "      <td>taskeng</td>\n",
       "      <td>1</td>\n",
       "    </tr>\n",
       "    <tr>\n",
       "      <th>18</th>\n",
       "      <td>Comp145968$</td>\n",
       "      <td>Comp145968</td>\n",
       "      <td>rundll32.exe</td>\n",
       "      <td>Proc247259</td>\n",
       "      <td>2</td>\n",
       "    </tr>\n",
       "    <tr>\n",
       "      <th>20</th>\n",
       "      <td>Comp804871$</td>\n",
       "      <td>Comp804871</td>\n",
       "      <td>Proc657476.exe</td>\n",
       "      <td>None</td>\n",
       "      <td>2</td>\n",
       "    </tr>\n",
       "  </tbody>\n",
       "</table>\n",
       "</div>"
      ],
      "text/plain": [
       "       UserName      Device     ProcessName ParentProcessName  DailyCount\n",
       "0   Comp748297$  Comp748297  Proc391839.exe        Proc387473           1\n",
       "1   Comp563664$  Comp563664    rundll32.exe          services           1\n",
       "2    User607396  Comp609111  Proc417435.exe        Proc417435           1\n",
       "3   Comp641702$  Comp641702  Proc249569.exe          services           1\n",
       "4   Comp157389$  Comp157389  Proc402696.exe          services           1\n",
       "5   Comp664825$  Comp664825  Proc402696.exe          services           1\n",
       "6   Comp105747$  Comp105747       csrss.exe        Proc721583           1\n",
       "7   Comp532565$  Comp532565  Proc556285.exe          services           1\n",
       "8   Comp824319$  Comp824319     dllhost.exe           svchost         284\n",
       "9   Comp265993$  Comp265993  Proc299293.exe               cmd           1\n",
       "10  Comp511123$  Comp511123  Proc391839.exe        Proc387473           2\n",
       "11  Comp824929$  Comp824929     cscript.exe          wmiprvse           2\n",
       "12  Comp957545$  Comp957545  Proc307031.exe          services           1\n",
       "13  Comp512730$  Comp512730  Proc453954.exe        Proc397204           1\n",
       "14  Comp698292$  Comp698292  Proc174492.exe           svchost           3\n",
       "15   User851869  Comp445233  Proc915692.exe        Proc318985           1\n",
       "16  Comp833841$  Comp833841  Proc332633.exe        Proc318985           1\n",
       "17  Comp793844$  Comp793844  Proc695356.exe           taskeng           1\n",
       "18  Comp145968$  Comp145968    rundll32.exe        Proc247259           2\n",
       "20  Comp804871$  Comp804871  Proc657476.exe              None           2"
      ]
     },
     "execution_count": 109,
     "metadata": {},
     "output_type": "execute_result"
    }
   ],
   "source": [
    "df_p_cut.head(20)"
   ]
  }
 ],
 "metadata": {
  "kernelspec": {
   "display_name": "Python 3",
   "language": "python",
   "name": "python3"
  },
  "language_info": {
   "codemirror_mode": {
    "name": "ipython",
    "version": 3
   },
   "file_extension": ".py",
   "mimetype": "text/x-python",
   "name": "python",
   "nbconvert_exporter": "python",
   "pygments_lexer": "ipython3",
   "version": "3.8.5"
  }
 },
 "nbformat": 4,
 "nbformat_minor": 5
}
