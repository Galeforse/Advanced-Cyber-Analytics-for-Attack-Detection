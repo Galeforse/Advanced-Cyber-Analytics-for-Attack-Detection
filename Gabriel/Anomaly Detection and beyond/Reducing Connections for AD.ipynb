{
 "cells": [
  {
   "cell_type": "markdown",
   "id": "cfa7ecb0-5f7b-4a25-aa1d-1fd60c67aa86",
   "metadata": {},
   "source": [
    "# Reducing data for use in anomaly detection\n",
    "\n",
    "Based on work I previously did in the EDA section of my folder.\n",
    "\n",
    "As always we first import packages we are going to use."
   ]
  },
  {
   "cell_type": "code",
   "execution_count": 34,
   "id": "2667b1ae-1906-4e82-a17c-4205a4059cce",
   "metadata": {},
   "outputs": [],
   "source": [
    "import sys\n",
    "sys.path.insert(0,'G:/Users/Gabriel/Documents/Education/UoB/GitHubDesktop/Advanced-Cyber-Analytics-for-Attack-Detection/Modules/')\n",
    "\n",
    "import pandas as pd\n",
    "import numpy as np\n",
    "import seaborn as sns"
   ]
  },
  {
   "cell_type": "code",
   "execution_count": 17,
   "id": "0c4953bd-b9d4-47b0-920c-1a52b45aa670",
   "metadata": {},
   "outputs": [],
   "source": [
    "from dt import *"
   ]
  },
  {
   "cell_type": "code",
   "execution_count": 22,
   "id": "0232cff2-c318-4529-a9a6-4fd2b9e8bdb7",
   "metadata": {},
   "outputs": [
    {
     "name": "stdout",
     "output_type": "stream",
     "text": [
      "Looking for local copy of data...\n",
      "Data fetched locally in 0:01:06.744264\n"
     ]
    }
   ],
   "source": [
    "try:\n",
    "    print(\"Looking for local copy of data...\")\n",
    "    dtn()\n",
    "    df_p = pd.read_csv(\"G:/Users/Gabriel/Documents/Education/UoB/GitHubDesktop/Advanced-Cyber-Analytics-for-Attack-Detection/Data/Process data.gz\",compression=\"gzip\",index_col=0)\n",
    "    stop = end()\n",
    "    print(\"Data fetched locally in \"+stop)\n",
    "except OSError as e:\n",
    "    if e.errno == 2:\n",
    "        print(\"No Local data found. Importing from the web.\")\n",
    "        dtn()\n",
    "        df_p = pd.read_csv(\"https://www.dropbox.com/s/c065rcq72abzm0s/Process_data.gz?dl=1\",compression=\"gzip\")\n",
    "        stop = end()\n",
    "        print(\"Data fetched from web in \"+stop)\n",
    "    else:\n",
    "        print(e)"
   ]
  },
  {
   "cell_type": "code",
   "execution_count": 23,
   "id": "167e696c-e56c-4485-82bf-d1b0eb50c11e",
   "metadata": {},
   "outputs": [
    {
     "name": "stdout",
     "output_type": "stream",
     "text": [
      "Looking for local copy of data...\n",
      "Data fetched locally in 0:00:20.048408\n"
     ]
    }
   ],
   "source": [
    "try:\n",
    "    print(\"Looking for local copy of data...\")\n",
    "    dtn()\n",
    "    df_a = pd.read_csv(\"G:/Users/Gabriel/Documents/Education/UoB/GitHubDesktop/Advanced-Cyber-Analytics-for-Attack-Detection/Data/Authentication data.gz\",compression=\"gzip\",index_col=0)\n",
    "    stop = end()\n",
    "    print(\"Data fetched locally in \"+stop)\n",
    "except OSError as e:\n",
    "    if e.errno == 2:\n",
    "        print(\"No Local data found. Importing from the web.\")\n",
    "        dtn()\n",
    "        df_a = pd.read_csv(\"https://www.dropbox.com/s/c065rcq72abzm0s/Authentication_data.gz?dl=1\",compression=\"gzip\")\n",
    "        stop = end()\n",
    "        print(\"Data fetched from web in \"+stop)\n",
    "    else:\n",
    "        print(e)"
   ]
  },
  {
   "cell_type": "code",
   "execution_count": 25,
   "id": "fda40a04-078a-4f05-a99f-38d313036774",
   "metadata": {},
   "outputs": [
    {
     "data": {
      "text/html": [
       "<div>\n",
       "<style scoped>\n",
       "    .dataframe tbody tr th:only-of-type {\n",
       "        vertical-align: middle;\n",
       "    }\n",
       "\n",
       "    .dataframe tbody tr th {\n",
       "        vertical-align: top;\n",
       "    }\n",
       "\n",
       "    .dataframe thead th {\n",
       "        text-align: right;\n",
       "    }\n",
       "</style>\n",
       "<table border=\"1\" class=\"dataframe\">\n",
       "  <thead>\n",
       "    <tr style=\"text-align: right;\">\n",
       "      <th></th>\n",
       "      <th>UserName</th>\n",
       "      <th>Device</th>\n",
       "      <th>ProcessName</th>\n",
       "      <th>ParentProcessName</th>\n",
       "      <th>DailyCount</th>\n",
       "    </tr>\n",
       "  </thead>\n",
       "  <tbody>\n",
       "    <tr>\n",
       "      <th>0</th>\n",
       "      <td>Comp748297$</td>\n",
       "      <td>Comp748297</td>\n",
       "      <td>Proc391839.exe</td>\n",
       "      <td>Proc387473</td>\n",
       "      <td>1</td>\n",
       "    </tr>\n",
       "    <tr>\n",
       "      <th>1</th>\n",
       "      <td>Comp563664$</td>\n",
       "      <td>Comp563664</td>\n",
       "      <td>rundll32.exe</td>\n",
       "      <td>services</td>\n",
       "      <td>1</td>\n",
       "    </tr>\n",
       "    <tr>\n",
       "      <th>2</th>\n",
       "      <td>User607396</td>\n",
       "      <td>Comp609111</td>\n",
       "      <td>Proc417435.exe</td>\n",
       "      <td>Proc417435</td>\n",
       "      <td>1</td>\n",
       "    </tr>\n",
       "    <tr>\n",
       "      <th>3</th>\n",
       "      <td>Comp641702$</td>\n",
       "      <td>Comp641702</td>\n",
       "      <td>Proc249569.exe</td>\n",
       "      <td>services</td>\n",
       "      <td>1</td>\n",
       "    </tr>\n",
       "    <tr>\n",
       "      <th>4</th>\n",
       "      <td>Comp157389$</td>\n",
       "      <td>Comp157389</td>\n",
       "      <td>Proc402696.exe</td>\n",
       "      <td>services</td>\n",
       "      <td>1</td>\n",
       "    </tr>\n",
       "  </tbody>\n",
       "</table>\n",
       "</div>"
      ],
      "text/plain": [
       "      UserName      Device     ProcessName ParentProcessName  DailyCount\n",
       "0  Comp748297$  Comp748297  Proc391839.exe        Proc387473           1\n",
       "1  Comp563664$  Comp563664    rundll32.exe          services           1\n",
       "2   User607396  Comp609111  Proc417435.exe        Proc417435           1\n",
       "3  Comp641702$  Comp641702  Proc249569.exe          services           1\n",
       "4  Comp157389$  Comp157389  Proc402696.exe          services           1"
      ]
     },
     "execution_count": 25,
     "metadata": {},
     "output_type": "execute_result"
    }
   ],
   "source": [
    "df_p.head()"
   ]
  },
  {
   "cell_type": "code",
   "execution_count": 26,
   "id": "60bf8919-f50a-4617-abbd-8b68d48b2790",
   "metadata": {},
   "outputs": [
    {
     "data": {
      "text/html": [
       "<div>\n",
       "<style scoped>\n",
       "    .dataframe tbody tr th:only-of-type {\n",
       "        vertical-align: middle;\n",
       "    }\n",
       "\n",
       "    .dataframe tbody tr th {\n",
       "        vertical-align: top;\n",
       "    }\n",
       "\n",
       "    .dataframe thead th {\n",
       "        text-align: right;\n",
       "    }\n",
       "</style>\n",
       "<table border=\"1\" class=\"dataframe\">\n",
       "  <thead>\n",
       "    <tr style=\"text-align: right;\">\n",
       "      <th></th>\n",
       "      <th>UserName</th>\n",
       "      <th>SrcDevice</th>\n",
       "      <th>DstDevice</th>\n",
       "      <th>Authent Type</th>\n",
       "      <th>Failure</th>\n",
       "      <th>DailyCount</th>\n",
       "    </tr>\n",
       "  </thead>\n",
       "  <tbody>\n",
       "    <tr>\n",
       "      <th>0</th>\n",
       "      <td>User035855</td>\n",
       "      <td>Comp808475</td>\n",
       "      <td>Comp081330</td>\n",
       "      <td>TGS</td>\n",
       "      <td>0</td>\n",
       "      <td>17.0</td>\n",
       "    </tr>\n",
       "    <tr>\n",
       "      <th>1</th>\n",
       "      <td>Comp655251$</td>\n",
       "      <td>Comp655251</td>\n",
       "      <td>ActiveDirectory</td>\n",
       "      <td>NetworkLogon</td>\n",
       "      <td>0</td>\n",
       "      <td>350.0</td>\n",
       "    </tr>\n",
       "    <tr>\n",
       "      <th>2</th>\n",
       "      <td>User762066</td>\n",
       "      <td>Comp306129</td>\n",
       "      <td>ActiveDirectory</td>\n",
       "      <td>TGS</td>\n",
       "      <td>0</td>\n",
       "      <td>22.0</td>\n",
       "    </tr>\n",
       "    <tr>\n",
       "      <th>3</th>\n",
       "      <td>User384215</td>\n",
       "      <td>Comp095190</td>\n",
       "      <td>EnterpriseAppServer</td>\n",
       "      <td>NetworkLogon</td>\n",
       "      <td>0</td>\n",
       "      <td>35.0</td>\n",
       "    </tr>\n",
       "    <tr>\n",
       "      <th>4</th>\n",
       "      <td>User043263</td>\n",
       "      <td>Comp883307</td>\n",
       "      <td>Comp384394</td>\n",
       "      <td>TGS</td>\n",
       "      <td>0</td>\n",
       "      <td>2.0</td>\n",
       "    </tr>\n",
       "  </tbody>\n",
       "</table>\n",
       "</div>"
      ],
      "text/plain": [
       "      UserName   SrcDevice            DstDevice  Authent Type  Failure  \\\n",
       "0   User035855  Comp808475           Comp081330           TGS        0   \n",
       "1  Comp655251$  Comp655251      ActiveDirectory  NetworkLogon        0   \n",
       "2   User762066  Comp306129      ActiveDirectory           TGS        0   \n",
       "3   User384215  Comp095190  EnterpriseAppServer  NetworkLogon        0   \n",
       "4   User043263  Comp883307           Comp384394           TGS        0   \n",
       "\n",
       "   DailyCount  \n",
       "0        17.0  \n",
       "1       350.0  \n",
       "2        22.0  \n",
       "3        35.0  \n",
       "4         2.0  "
      ]
     },
     "execution_count": 26,
     "metadata": {},
     "output_type": "execute_result"
    }
   ],
   "source": [
    "df_a.head()"
   ]
  },
  {
   "cell_type": "code",
   "execution_count": 105,
   "id": "0d26021f-3dbc-476e-bdc2-d6ce60dc1f5b",
   "metadata": {},
   "outputs": [],
   "source": [
    "x = [\"UserName\",\"Device\"]\n",
    "counts_p = []\n",
    "for i in x:\n",
    "    z = df_p.groupby(i).size().sort_values(ascending=False)\n",
    "    z = pd.DataFrame(z)\n",
    "    z.reset_index(level=0, inplace=True)\n",
    "    z.columns = [i,'Count']\n",
    "    counts_p.append(z)"
   ]
  },
  {
   "cell_type": "code",
   "execution_count": 106,
   "id": "980b9650-26c0-4cb9-a08d-24db541a6224",
   "metadata": {},
   "outputs": [],
   "source": [
    "x = [\"UserName\",\"SrcDevice\",\"DstDevice\"]\n",
    "counts_a = []\n",
    "for i in x:\n",
    "    z = df_a.groupby(i).size().sort_values(ascending=False)\n",
    "    z = pd.DataFrame(z)\n",
    "    z.reset_index(level=0, inplace=True)\n",
    "    z.columns = [i,'Count']\n",
    "    counts_a.append(z)"
   ]
  },
  {
   "cell_type": "code",
   "execution_count": 32,
   "id": "8cc5953d-7c90-4d56-91af-6c7ad5d5c04e",
   "metadata": {},
   "outputs": [
    {
     "data": {
      "text/html": [
       "<div>\n",
       "<style scoped>\n",
       "    .dataframe tbody tr th:only-of-type {\n",
       "        vertical-align: middle;\n",
       "    }\n",
       "\n",
       "    .dataframe tbody tr th {\n",
       "        vertical-align: top;\n",
       "    }\n",
       "\n",
       "    .dataframe thead th {\n",
       "        text-align: right;\n",
       "    }\n",
       "</style>\n",
       "<table border=\"1\" class=\"dataframe\">\n",
       "  <thead>\n",
       "    <tr style=\"text-align: right;\">\n",
       "      <th></th>\n",
       "      <th>UserName</th>\n",
       "      <th>Count</th>\n",
       "    </tr>\n",
       "  </thead>\n",
       "  <tbody>\n",
       "    <tr>\n",
       "      <th>0</th>\n",
       "      <td>Scanner</td>\n",
       "      <td>255383</td>\n",
       "    </tr>\n",
       "    <tr>\n",
       "      <th>1</th>\n",
       "      <td>User272607</td>\n",
       "      <td>73934</td>\n",
       "    </tr>\n",
       "    <tr>\n",
       "      <th>2</th>\n",
       "      <td>EnterpriseAppServer$</td>\n",
       "      <td>38552</td>\n",
       "    </tr>\n",
       "    <tr>\n",
       "      <th>3</th>\n",
       "      <td>Administrator</td>\n",
       "      <td>29443</td>\n",
       "    </tr>\n",
       "    <tr>\n",
       "      <th>4</th>\n",
       "      <td>User414014</td>\n",
       "      <td>18593</td>\n",
       "    </tr>\n",
       "    <tr>\n",
       "      <th>...</th>\n",
       "      <td>...</td>\n",
       "      <td>...</td>\n",
       "    </tr>\n",
       "    <tr>\n",
       "      <th>25315</th>\n",
       "      <td>User711040</td>\n",
       "      <td>1</td>\n",
       "    </tr>\n",
       "    <tr>\n",
       "      <th>25316</th>\n",
       "      <td>User296343</td>\n",
       "      <td>1</td>\n",
       "    </tr>\n",
       "    <tr>\n",
       "      <th>25317</th>\n",
       "      <td>User464715</td>\n",
       "      <td>1</td>\n",
       "    </tr>\n",
       "    <tr>\n",
       "      <th>25318</th>\n",
       "      <td>User126086</td>\n",
       "      <td>1</td>\n",
       "    </tr>\n",
       "    <tr>\n",
       "      <th>25319</th>\n",
       "      <td>User252033</td>\n",
       "      <td>1</td>\n",
       "    </tr>\n",
       "  </tbody>\n",
       "</table>\n",
       "<p>25320 rows × 2 columns</p>\n",
       "</div>"
      ],
      "text/plain": [
       "                   UserName   Count\n",
       "0                   Scanner  255383\n",
       "1                User272607   73934\n",
       "2      EnterpriseAppServer$   38552\n",
       "3             Administrator   29443\n",
       "4                User414014   18593\n",
       "...                     ...     ...\n",
       "25315            User711040       1\n",
       "25316            User296343       1\n",
       "25317            User464715       1\n",
       "25318            User126086       1\n",
       "25319            User252033       1\n",
       "\n",
       "[25320 rows x 2 columns]"
      ]
     },
     "execution_count": 32,
     "metadata": {},
     "output_type": "execute_result"
    }
   ],
   "source": [
    "counts_p[0]"
   ]
  },
  {
   "cell_type": "markdown",
   "id": "17e35a5c-074a-415c-9a7a-bf8a0112bfcb",
   "metadata": {},
   "source": [
    "## Boxplots of Process Data - UserName"
   ]
  },
  {
   "cell_type": "code",
   "execution_count": 56,
   "id": "ecd2d13e-d1d1-4555-ba9a-deee65786a25",
   "metadata": {},
   "outputs": [
    {
     "data": {
      "text/plain": [
       "<AxesSubplot:xlabel='Count'>"
      ]
     },
     "execution_count": 56,
     "metadata": {},
     "output_type": "execute_result"
    },
    {
     "data": {
      "image/png": "[encoded data removed]",
      "text/plain": [
       "<Figure size 1440x720 with 1 Axes>"
      ]
     },
     "metadata": {},
     "output_type": "display_data"
    }
   ],
   "source": [
    "sns.set(rc={'figure.figsize':(20,10)})\n",
    "sns.boxplot(x=counts_p[0][\"Count\"])"
   ]
  },
  {
   "cell_type": "code",
   "execution_count": 57,
   "id": "1ca78537-ca5b-4909-bce3-daac8425cc78",
   "metadata": {},
   "outputs": [
    {
     "data": {
      "text/plain": [
       "<AxesSubplot:xlabel='Count'>"
      ]
     },
     "execution_count": 57,
     "metadata": {},
     "output_type": "execute_result"
    },
    {
     "data": {
      "image/png": "[encoded data removed]",
      "text/plain": [
       "<Figure size 1440x720 with 1 Axes>"
      ]
     },
     "metadata": {},
     "output_type": "display_data"
    }
   ],
   "source": [
    "sns.set(rc={'figure.figsize':(20,10)})\n",
    "sns.boxplot(x=counts_p[0][\"Count\"][1:])"
   ]
  },
  {
   "cell_type": "code",
   "execution_count": 58,
   "id": "c3d7169b-12e2-48ab-b7bc-f11d1e1db1d5",
   "metadata": {},
   "outputs": [
    {
     "data": {
      "text/plain": [
       "<AxesSubplot:xlabel='Count'>"
      ]
     },
     "execution_count": 58,
     "metadata": {},
     "output_type": "execute_result"
    },
    {
     "data": {
      "image/png": "[encoded data removed]",
      "text/plain": [
       "<Figure size 1440x720 with 1 Axes>"
      ]
     },
     "metadata": {},
     "output_type": "display_data"
    }
   ],
   "source": [
    "sns.set(rc={'figure.figsize':(20,10)})\n",
    "sns.boxplot(x=counts_p[0][\"Count\"][2:])"
   ]
  },
  {
   "cell_type": "markdown",
   "id": "357d2af2-b316-4049-8100-55fea2e7f501",
   "metadata": {},
   "source": [
    "## Boxplots of Process Data - Device"
   ]
  },
  {
   "cell_type": "code",
   "execution_count": 59,
   "id": "48fa9ae6-9299-424a-91ec-ca6b83d4707c",
   "metadata": {},
   "outputs": [
    {
     "data": {
      "text/plain": [
       "<AxesSubplot:xlabel='Count'>"
      ]
     },
     "execution_count": 59,
     "metadata": {},
     "output_type": "execute_result"
    },
    {
     "data": {
      "image/png": "[encoded data removed]",
      "text/plain": [
       "<Figure size 1440x720 with 1 Axes>"
      ]
     },
     "metadata": {},
     "output_type": "display_data"
    }
   ],
   "source": [
    "sns.set(rc={'figure.figsize':(20,10)})\n",
    "sns.boxplot(x=counts_p[1][\"Count\"])"
   ]
  },
  {
   "cell_type": "code",
   "execution_count": 60,
   "id": "58e0fa2c-e44d-4a10-9413-63070ef59879",
   "metadata": {},
   "outputs": [
    {
     "data": {
      "text/plain": [
       "<AxesSubplot:xlabel='Count'>"
      ]
     },
     "execution_count": 60,
     "metadata": {},
     "output_type": "execute_result"
    },
    {
     "data": {
      "image/png": "[encoded data removed]",
      "text/plain": [
       "<Figure size 1440x720 with 1 Axes>"
      ]
     },
     "metadata": {},
     "output_type": "display_data"
    }
   ],
   "source": [
    "sns.set(rc={'figure.figsize':(20,10)})\n",
    "sns.boxplot(x=counts_p[1][\"Count\"][1:])"
   ]
  },
  {
   "cell_type": "code",
   "execution_count": 61,
   "id": "7657c085-5920-42d2-9766-f425ad34c21c",
   "metadata": {},
   "outputs": [
    {
     "data": {
      "text/plain": [
       "<AxesSubplot:xlabel='Count'>"
      ]
     },
     "execution_count": 61,
     "metadata": {},
     "output_type": "execute_result"
    },
    {
     "data": {
      "image/png": "[encoded data removed]",
      "text/plain": [
       "<Figure size 1440x720 with 1 Axes>"
      ]
     },
     "metadata": {},
     "output_type": "display_data"
    }
   ],
   "source": [
    "sns.set(rc={'figure.figsize':(20,10)})\n",
    "sns.boxplot(x=counts_p[0][\"Count\"][20:])"
   ]
  },
  {
   "cell_type": "markdown",
   "id": "0d3916a7-c198-462f-bc98-017c0d883140",
   "metadata": {},
   "source": [
    "## Boxplots of Auth Data - UserName"
   ]
  },
  {
   "cell_type": "code",
   "execution_count": 62,
   "id": "089cbb72-12e1-4c99-96b5-2fe124a236c2",
   "metadata": {},
   "outputs": [
    {
     "data": {
      "text/plain": [
       "<AxesSubplot:xlabel='Count'>"
      ]
     },
     "execution_count": 62,
     "metadata": {},
     "output_type": "execute_result"
    },
    {
     "data": {
      "image/png": "[encoded data removed]",
      "text/plain": [
       "<Figure size 1440x720 with 1 Axes>"
      ]
     },
     "metadata": {},
     "output_type": "display_data"
    }
   ],
   "source": [
    "sns.set(rc={'figure.figsize':(20,10)})\n",
    "sns.boxplot(x=counts_a[0][\"Count\"])"
   ]
  },
  {
   "cell_type": "code",
   "execution_count": 63,
   "id": "148909e2-ad89-4ce5-a2a3-0e5419c3cb92",
   "metadata": {},
   "outputs": [
    {
     "data": {
      "text/plain": [
       "<AxesSubplot:xlabel='Count'>"
      ]
     },
     "execution_count": 63,
     "metadata": {},
     "output_type": "execute_result"
    },
    {
     "data": {
      "image/png": "[encoded data removed]",
      "text/plain": [
       "<Figure size 1440x720 with 1 Axes>"
      ]
     },
     "metadata": {},
     "output_type": "display_data"
    }
   ],
   "source": [
    "sns.set(rc={'figure.figsize':(20,10)})\n",
    "sns.boxplot(x=counts_a[0][\"Count\"][2:])"
   ]
  },
  {
   "cell_type": "code",
   "execution_count": 64,
   "id": "c7f4f7f8-a012-49a4-a0f3-654ecc0915a3",
   "metadata": {},
   "outputs": [
    {
     "data": {
      "text/plain": [
       "<AxesSubplot:xlabel='Count'>"
      ]
     },
     "execution_count": 64,
     "metadata": {},
     "output_type": "execute_result"
    },
    {
     "data": {
      "image/png": "[encoded data removed]",
      "text/plain": [
       "<Figure size 1440x720 with 1 Axes>"
      ]
     },
     "metadata": {},
     "output_type": "display_data"
    }
   ],
   "source": [
    "sns.set(rc={'figure.figsize':(20,10)})\n",
    "sns.boxplot(x=counts_a[0][\"Count\"][6:])"
   ]
  },
  {
   "cell_type": "code",
   "execution_count": 65,
   "id": "e93708d7-30c3-42c4-9760-7c5ec94968f2",
   "metadata": {},
   "outputs": [
    {
     "data": {
      "text/plain": [
       "<AxesSubplot:xlabel='Count'>"
      ]
     },
     "execution_count": 65,
     "metadata": {},
     "output_type": "execute_result"
    },
    {
     "data": {
      "image/png": "[encoded data removed]",
      "text/plain": [
       "<Figure size 1440x720 with 1 Axes>"
      ]
     },
     "metadata": {},
     "output_type": "display_data"
    }
   ],
   "source": [
    "sns.set(rc={'figure.figsize':(20,10)})\n",
    "sns.boxplot(x=counts_a[0][\"Count\"][30:])"
   ]
  },
  {
   "cell_type": "markdown",
   "id": "9ee3f055-31a1-48e4-8e5c-3743da50dc46",
   "metadata": {},
   "source": [
    "## Boxplots of Auth Data - SrcDevice"
   ]
  },
  {
   "cell_type": "code",
   "execution_count": 71,
   "id": "f89c373d-211b-41eb-a0d1-d27604485881",
   "metadata": {},
   "outputs": [
    {
     "data": {
      "text/plain": [
       "<AxesSubplot:xlabel='Count'>"
      ]
     },
     "execution_count": 71,
     "metadata": {},
     "output_type": "execute_result"
    },
    {
     "data": {
      "image/png": "[encoded data removed]",
      "text/plain": [
       "<Figure size 1440x720 with 1 Axes>"
      ]
     },
     "metadata": {},
     "output_type": "display_data"
    }
   ],
   "source": [
    "sns.set(rc={'figure.figsize':(20,10)})\n",
    "sns.boxplot(x=counts_a[1][\"Count\"])"
   ]
  },
  {
   "cell_type": "code",
   "execution_count": 72,
   "id": "40c9571e-7db9-4f3a-89af-f9944de65855",
   "metadata": {},
   "outputs": [
    {
     "data": {
      "text/plain": [
       "<AxesSubplot:xlabel='Count'>"
      ]
     },
     "execution_count": 72,
     "metadata": {},
     "output_type": "execute_result"
    },
    {
     "data": {
      "image/png": "[encoded data removed]",
      "text/plain": [
       "<Figure size 1440x720 with 1 Axes>"
      ]
     },
     "metadata": {},
     "output_type": "display_data"
    }
   ],
   "source": [
    "sns.set(rc={'figure.figsize':(20,10)})\n",
    "sns.boxplot(x=counts_a[1][\"Count\"][5:])"
   ]
  },
  {
   "cell_type": "code",
   "execution_count": 73,
   "id": "cdc61886-7aa7-43c3-969c-2082e330cd73",
   "metadata": {},
   "outputs": [
    {
     "data": {
      "text/plain": [
       "<AxesSubplot:xlabel='Count'>"
      ]
     },
     "execution_count": 73,
     "metadata": {},
     "output_type": "execute_result"
    },
    {
     "data": {
      "image/png": "[encoded data removed]",
      "text/plain": [
       "<Figure size 1440x720 with 1 Axes>"
      ]
     },
     "metadata": {},
     "output_type": "display_data"
    }
   ],
   "source": [
    "sns.set(rc={'figure.figsize':(20,10)})\n",
    "sns.boxplot(x=counts_a[1][\"Count\"][10:])"
   ]
  },
  {
   "cell_type": "markdown",
   "id": "770af9cc-41d9-4db3-a50c-7dc6a1da1b85",
   "metadata": {},
   "source": [
    "## Boxplots of Auth Data - DstDevice"
   ]
  },
  {
   "cell_type": "code",
   "execution_count": 74,
   "id": "e0ea688a-abbe-4813-a8c5-e065b49314d6",
   "metadata": {},
   "outputs": [
    {
     "data": {
      "text/plain": [
       "<AxesSubplot:xlabel='Count'>"
      ]
     },
     "execution_count": 74,
     "metadata": {},
     "output_type": "execute_result"
    },
    {
     "data": {
      "image/png": "[encoded data removed]",
      "text/plain": [
       "<Figure size 1440x720 with 1 Axes>"
      ]
     },
     "metadata": {},
     "output_type": "display_data"
    }
   ],
   "source": [
    "sns.set(rc={'figure.figsize':(20,10)})\n",
    "sns.boxplot(x=counts_a[2][\"Count\"])"
   ]
  },
  {
   "cell_type": "code",
   "execution_count": 76,
   "id": "404c3aad-cb11-47f7-94b4-06f1622cd25d",
   "metadata": {},
   "outputs": [
    {
     "data": {
      "text/plain": [
       "<AxesSubplot:xlabel='Count'>"
      ]
     },
     "execution_count": 76,
     "metadata": {},
     "output_type": "execute_result"
    },
    {
     "data": {
      "image/png": "[encoded data removed]",
      "text/plain": [
       "<Figure size 1440x720 with 1 Axes>"
      ]
     },
     "metadata": {},
     "output_type": "display_data"
    }
   ],
   "source": [
    "sns.set(rc={'figure.figsize':(20,10)})\n",
    "sns.boxplot(x=counts_p[0][\"Count\"][3:])"
   ]
  },
  {
   "cell_type": "code",
   "execution_count": 77,
   "id": "e1607c32-fb7d-4e0c-a5a1-39a9e150b974",
   "metadata": {},
   "outputs": [
    {
     "data": {
      "text/plain": [
       "<AxesSubplot:xlabel='Count'>"
      ]
     },
     "execution_count": 77,
     "metadata": {},
     "output_type": "execute_result"
    },
    {
     "data": {
      "image/png": "[encoded data removed]",
      "text/plain": [
       "<Figure size 1440x720 with 1 Axes>"
      ]
     },
     "metadata": {},
     "output_type": "display_data"
    }
   ],
   "source": [
    "sns.set(rc={'figure.figsize':(20,10)})\n",
    "sns.boxplot(x=counts_p[0][\"Count\"][15:])"
   ]
  },
  {
   "cell_type": "code",
   "execution_count": 89,
   "id": "9b621323-42fe-4676-a992-91a157dd9d16",
   "metadata": {},
   "outputs": [],
   "source": [
    "x = [\"UserName\",\"Device\"]\n",
    "counts_p_reduced = []\n",
    "for i in x:\n",
    "    z = df_p.groupby(i).size().sort_values(ascending=False)\n",
    "    z = pd.DataFrame(z)\n",
    "    z.reset_index(level=0, inplace=True)\n",
    "    z.columns = [i,'Count']\n",
    "    z = z[z[\"Count\"] > 1]\n",
    "    z = z[z[\"Count\"] < z[\"Count\"][0]]\n",
    "    counts_p_reduced.append(z)"
   ]
  },
  {
   "cell_type": "code",
   "execution_count": 87,
   "id": "1a0ae71e-cc17-4aa8-9a44-c537423d448c",
   "metadata": {},
   "outputs": [
    {
     "data": {
      "text/plain": [
       "255382"
      ]
     },
     "execution_count": 87,
     "metadata": {},
     "output_type": "execute_result"
    }
   ],
   "source": [
    "x = [\"UserName\",\"Device\"]\n",
    "counts_p_mid_80 = []\n",
    "for i in x:\n",
    "    z = df_p.groupby(i).size().sort_values(ascending=False)\n",
    "    z = pd.DataFrame(z)\n",
    "    z.reset_index(level=0, inplace=True)\n",
    "    z.columns = [i,'Count']\n",
    "    l = len(z)\n",
    "    l_low = \n",
    "    l_high =\n",
    "    z = z[z[\"Count\"] > ]\n",
    "    z = z[z[\"Count\"] < ]\n",
    "    counts_p_mid_80.append(z)"
   ]
  },
  {
   "cell_type": "code",
   "execution_count": 160,
   "id": "9f138ede-8aee-455d-a72a-2f509fed7cbd",
   "metadata": {},
   "outputs": [
    {
     "name": "stdout",
     "output_type": "stream",
     "text": [
      "25320\n",
      "13476\n"
     ]
    }
   ],
   "source": [
    "x = [\"UserName\",\"Device\"]\n",
    "counts_p_mid_80 = []\n",
    "counts_p_mid_80_discard = []\n",
    "for i in x:\n",
    "    z = df_p.groupby(i).size().sort_values(ascending=False)\n",
    "    z = pd.DataFrame(z)\n",
    "    z.reset_index(level=0, inplace=True)\n",
    "    z.columns = [i,'Count']\n",
    "    l = len(z)\n",
    "    print(l)\n",
    "    l_low = int(l*0.1)\n",
    "    l_high = int(l*0.9)\n",
    "    y = z[(z[\"Count\"] <= z[\"Count\"][l_low]) & (z[\"Count\"] >= z[\"Count\"][l_high])]\n",
    "    x = z[z[\"Count\"] > z[\"Count\"][l_low]]\n",
    "    v = z[z[\"Count\"] < z[\"Count\"][l_high]]\n",
    "    counts_p_mid_80.append(y)\n",
    "    temp = []\n",
    "    temp.append(x)\n",
    "    temp.append(v)\n",
    "    b = pd.concat(temp,axis=0)\n",
    "    counts_p_mid_80_discard.append(b)"
   ]
  },
  {
   "cell_type": "code",
   "execution_count": 164,
   "id": "8ce8e4d4-e8a0-4d27-8500-8093ce5d3d15",
   "metadata": {},
   "outputs": [
    {
     "name": "stdout",
     "output_type": "stream",
     "text": [
      "25320\n"
     ]
    }
   ],
   "source": [
    "print(len(counts_p_mid_80[0])+len(counts_p_mid_80_discard[0]))"
   ]
  },
  {
   "cell_type": "code",
   "execution_count": 170,
   "id": "8a13bcd3-10c8-417f-9d6c-d815ad0126e1",
   "metadata": {},
   "outputs": [
    {
     "name": "stdout",
     "output_type": "stream",
     "text": [
      "Process - UserName - First 5\n",
      "         UserName  Count\n",
      "2532  Comp459452$   4272\n",
      "2533  Comp819519$   4272\n",
      "2534   User202994   4272\n",
      "2535  Comp509630$   4272\n",
      "2536  Comp416250$   4272\n",
      "\n",
      "Process - UserName - Last 5\n",
      "          UserName  Count\n",
      "22784  Comp324186$    121\n",
      "22785   User781308    121\n",
      "22786  Comp748227$    121\n",
      "22787   User847942    121\n",
      "22788   User520063    121\n",
      "\n",
      "Process - Device - First 5\n",
      "          Device  Count\n",
      "1347  Comp412116   6584\n",
      "1348  Comp878158   6584\n",
      "1349  Comp702752   6584\n",
      "1350  Comp543700   6582\n",
      "1351  Comp815841   6582\n",
      "\n",
      "Process - Device - Last 5\n",
      "           Device  Count\n",
      "12124  Comp504154   1092\n",
      "12125  Comp514047   1090\n",
      "12126  Comp793786   1089\n",
      "12127  Comp595745   1089\n",
      "12128  Comp852830   1087\n"
     ]
    }
   ],
   "source": [
    "print(\"Process - UserName - First 5\")\n",
    "print(counts_p_mid_80[0].head())\n",
    "print(\"\")\n",
    "print(\"Process - UserName - Last 5\")\n",
    "print(counts_p_mid_80[0].tail())\n",
    "print(\"\")\n",
    "print(\"Process - Device - First 5\")\n",
    "print(counts_p_mid_80[1].head())\n",
    "print(\"\")\n",
    "print(\"Process - Device - Last 5\")\n",
    "print(counts_p_mid_80[1].tail())"
   ]
  },
  {
   "cell_type": "code",
   "execution_count": 131,
   "id": "ca38d16f-15a6-489e-bcbe-2ffa96dd5cce",
   "metadata": {},
   "outputs": [
    {
     "data": {
      "text/plain": [
       "<AxesSubplot:xlabel='Count'>"
      ]
     },
     "execution_count": 131,
     "metadata": {},
     "output_type": "execute_result"
    },
    {
     "data": {
      "image/png": "[encoded data removed]",
      "text/plain": [
       "<Figure size 1440x720 with 1 Axes>"
      ]
     },
     "metadata": {},
     "output_type": "display_data"
    }
   ],
   "source": [
    "sns.set(rc={'figure.figsize':(20,10)})\n",
    "sns.boxplot(x=counts_p_mid_80[0][\"Count\"]:])\n"
   ]
  },
  {
   "cell_type": "code",
   "execution_count": 93,
   "id": "8798d4b7-4f5b-4adb-867f-c1003d92fe87",
   "metadata": {},
   "outputs": [
    {
     "data": {
      "text/plain": [
       "Index(['UserName', 'Device', 'ProcessName', 'ParentProcessName', 'DailyCount'], dtype='object')"
      ]
     },
     "execution_count": 93,
     "metadata": {},
     "output_type": "execute_result"
    }
   ],
   "source": [
    "counts_p_mid_80[0]"
   ]
  }
 ],
 "metadata": {
  "kernelspec": {
   "display_name": "Python 3",
   "language": "python",
   "name": "python3"
  },
  "language_info": {
   "codemirror_mode": {
    "name": "ipython",
    "version": 3
   },
   "file_extension": ".py",
   "mimetype": "text/x-python",
   "name": "python",
   "nbconvert_exporter": "python",
   "pygments_lexer": "ipython3",
   "version": "3.8.10"
  }
 },
 "nbformat": 4,
 "nbformat_minor": 5
}
