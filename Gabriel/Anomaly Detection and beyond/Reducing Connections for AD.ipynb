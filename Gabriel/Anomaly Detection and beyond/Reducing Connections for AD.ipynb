{
 "cells": [
  {
   "cell_type": "code",
   "execution_count": 7,
   "id": "5f183556-90e0-48eb-92be-4e739dd85dba",
   "metadata": {},
   "outputs": [],
   "source": [
    "import sys\n",
    "import pandas as pd\n",
    "sys.path.insert(0,'G:/Users/Gabriel/Documents/Education/UoB/GitHubDesktop/Advanced-Cyber-Analytics-for-Attack-Detection/Modules/')\n",
    "from startup_g import *"
   ]
  },
  {
   "cell_type": "code",
   "execution_count": 13,
   "id": "3b37b133-1090-4312-92d6-76520618eb9e",
   "metadata": {},
   "outputs": [
    {
     "name": "stdout",
     "output_type": "stream",
     "text": [
      "Looking for local copy of Process data...\n",
      "Process data fetched locally in 0:01:09.160749\n",
      "Looking for local copy of Auth data...\n",
      "Auth data fetched locally in 0:00:20.344108\n"
     ]
    }
   ],
   "source": [
    "df_p = process_import()\n",
    "df_a = auth_import()"
   ]
  },
  {
   "cell_type": "code",
   "execution_count": 6,
   "id": "12049f53-a79e-42cf-a05e-92dd396b51c8",
   "metadata": {},
   "outputs": [
    {
     "ename": "ImportError",
     "evalue": "cannot import name 'adding' from 'test' (G:\\Programs\\Anaconda\\envs\\det\\lib\\test\\__init__.py)",
     "output_type": "error",
     "traceback": [
      "\u001b[1;31m---------------------------------------------------------------------------\u001b[0m",
      "\u001b[1;31mImportError\u001b[0m                               Traceback (most recent call last)",
      "\u001b[1;32m<ipython-input-6-9a87e021f587>\u001b[0m in \u001b[0;36m<module>\u001b[1;34m\u001b[0m\n\u001b[1;32m----> 1\u001b[1;33m \u001b[1;32mfrom\u001b[0m \u001b[0mtest\u001b[0m \u001b[1;32mimport\u001b[0m \u001b[0madding\u001b[0m\u001b[1;33m\u001b[0m\u001b[1;33m\u001b[0m\u001b[0m\n\u001b[0m",
      "\u001b[1;31mImportError\u001b[0m: cannot import name 'adding' from 'test' (G:\\Programs\\Anaconda\\envs\\det\\lib\\test\\__init__.py)"
     ]
    }
   ],
   "source": [
    "from test import adding"
   ]
  },
  {
   "cell_type": "code",
   "execution_count": 2,
   "id": "686d06be-e50d-4671-a8bb-5f1bbda5de1b",
   "metadata": {},
   "outputs": [
    {
     "ename": "NameError",
     "evalue": "name 'adding' is not defined",
     "output_type": "error",
     "traceback": [
      "\u001b[1;31m---------------------------------------------------------------------------\u001b[0m",
      "\u001b[1;31mNameError\u001b[0m                                 Traceback (most recent call last)",
      "\u001b[1;32m<ipython-input-2-8f4f9f86c558>\u001b[0m in \u001b[0;36m<module>\u001b[1;34m\u001b[0m\n\u001b[1;32m----> 1\u001b[1;33m \u001b[0madding\u001b[0m\u001b[1;33m(\u001b[0m\u001b[1;33m)\u001b[0m\u001b[1;33m\u001b[0m\u001b[1;33m\u001b[0m\u001b[0m\n\u001b[0m",
      "\u001b[1;31mNameError\u001b[0m: name 'adding' is not defined"
     ]
    }
   ],
   "source": [
    "adding()"
   ]
  },
  {
   "cell_type": "code",
   "execution_count": 23,
   "id": "e6f72445-6d09-4527-aecf-dcb9544772e5",
   "metadata": {},
   "outputs": [
    {
     "data": {
      "text/plain": [
       "4"
      ]
     },
     "execution_count": 23,
     "metadata": {},
     "output_type": "execute_result"
    }
   ],
   "source": [
    "adding()"
   ]
  },
  {
   "cell_type": "code",
   "execution_count": 17,
   "id": "30781eee-97fa-49d7-bde4-646862cc059a",
   "metadata": {},
   "outputs": [
    {
     "ename": "AttributeError",
     "evalue": "'NoneType' object has no attribute 'head'",
     "output_type": "error",
     "traceback": [
      "\u001b[1;31m---------------------------------------------------------------------------\u001b[0m",
      "\u001b[1;31mAttributeError\u001b[0m                            Traceback (most recent call last)",
      "\u001b[1;32m<ipython-input-17-cc9c50c5bd43>\u001b[0m in \u001b[0;36m<module>\u001b[1;34m\u001b[0m\n\u001b[1;32m----> 1\u001b[1;33m \u001b[0mprint\u001b[0m\u001b[1;33m(\u001b[0m\u001b[0mdf_p\u001b[0m\u001b[1;33m.\u001b[0m\u001b[0mhead\u001b[0m\u001b[1;33m(\u001b[0m\u001b[1;33m)\u001b[0m\u001b[1;33m)\u001b[0m\u001b[1;33m\u001b[0m\u001b[1;33m\u001b[0m\u001b[0m\n\u001b[0m\u001b[0;32m      2\u001b[0m \u001b[0mprint\u001b[0m\u001b[1;33m(\u001b[0m\u001b[0mdf_a\u001b[0m\u001b[1;33m.\u001b[0m\u001b[0mhead\u001b[0m\u001b[1;33m(\u001b[0m\u001b[1;33m)\u001b[0m\u001b[1;33m)\u001b[0m\u001b[1;33m\u001b[0m\u001b[1;33m\u001b[0m\u001b[0m\n",
      "\u001b[1;31mAttributeError\u001b[0m: 'NoneType' object has no attribute 'head'"
     ]
    }
   ],
   "source": [
    "print(df_p.head())\n",
    "print(df_a.head())"
   ]
  },
  {
   "cell_type": "code",
   "execution_count": 19,
   "id": "9eb1c582-4ac5-407a-bb4d-c75fc9434c00",
   "metadata": {},
   "outputs": [
    {
     "data": {
      "text/plain": [
       "NoneType"
      ]
     },
     "execution_count": 19,
     "metadata": {},
     "output_type": "execute_result"
    }
   ],
   "source": []
  },
  {
   "cell_type": "code",
   "execution_count": 89,
   "id": "3af62f48-31bd-4704-997e-eed7b18c001e",
   "metadata": {},
   "outputs": [],
   "source": [
    "x = [\"UserName\",\"Device\"]\n",
    "counts_p_reduced = []\n",
    "for i in x:\n",
    "    z = df_p.groupby(i).size().sort_values(ascending=False)\n",
    "    z = pd.DataFrame(z)\n",
    "    z.reset_index(level=0, inplace=True)\n",
    "    z.columns = [i,'Count']\n",
    "    z = z[z[\"Count\"] > 1]\n",
    "    z = z[z[\"Count\"] < z[\"Count\"][0]]\n",
    "    counts_p_reduced.append(z)"
   ]
  },
  {
   "cell_type": "code",
   "execution_count": 87,
   "id": "d2e42940-aea5-43c8-b9fb-05e543e33576",
   "metadata": {},
   "outputs": [
    {
     "data": {
      "text/plain": [
       "255382"
      ]
     },
     "execution_count": 87,
     "metadata": {},
     "output_type": "execute_result"
    }
   ],
   "source": [
    "x = [\"UserName\",\"Device\"]\n",
    "counts_p_mid_80 = []\n",
    "for i in x:\n",
    "    z = df_p.groupby(i).size().sort_values(ascending=False)\n",
    "    z = pd.DataFrame(z)\n",
    "    z.reset_index(level=0, inplace=True)\n",
    "    z.columns = [i,'Count']\n",
    "    l = len(z)\n",
    "    l_low = \n",
    "    l_high =\n",
    "    z = z[z[\"Count\"] > ]\n",
    "    z = z[z[\"Count\"] < ]\n",
    "    counts_p_mid_80.append(z)"
   ]
  },
  {
   "cell_type": "code",
   "execution_count": 160,
   "id": "ca7c829a-59f8-4143-a40c-54c2a8d25d9e",
   "metadata": {},
   "outputs": [
    {
     "name": "stdout",
     "output_type": "stream",
     "text": [
      "25320\n",
      "13476\n"
     ]
    }
   ],
   "source": [
    "x = [\"UserName\",\"Device\"]\n",
    "counts_p_mid_80 = []\n",
    "counts_p_mid_80_discard = []\n",
    "for i in x:\n",
    "    z = df_p.groupby(i).size().sort_values(ascending=False)\n",
    "    z = pd.DataFrame(z)\n",
    "    z.reset_index(level=0, inplace=True)\n",
    "    z.columns = [i,'Count']\n",
    "    l = len(z)\n",
    "    print(l)\n",
    "    l_low = int(l*0.1)\n",
    "    l_high = int(l*0.9)\n",
    "    y = z[(z[\"Count\"] <= z[\"Count\"][l_low]) & (z[\"Count\"] >= z[\"Count\"][l_high])]\n",
    "    x = z[z[\"Count\"] > z[\"Count\"][l_low]]\n",
    "    v = z[z[\"Count\"] < z[\"Count\"][l_high]]\n",
    "    counts_p_mid_80.append(y)\n",
    "    temp = []\n",
    "    temp.append(x)\n",
    "    temp.append(v)\n",
    "    b = pd.concat(temp,axis=0)\n",
    "    counts_p_mid_80_discard.append(b)"
   ]
  },
  {
   "cell_type": "code",
   "execution_count": 164,
   "id": "323cbdba-af75-4544-b550-3c6e2f5204cf",
   "metadata": {},
   "outputs": [
    {
     "name": "stdout",
     "output_type": "stream",
     "text": [
      "25320\n"
     ]
    }
   ],
   "source": [
    "print(len(counts_p_mid_80[0])+len(counts_p_mid_80_discard[0]))"
   ]
  },
  {
   "cell_type": "code",
   "execution_count": 170,
   "id": "b55d0669-377f-4690-9c58-9500a37a29b7",
   "metadata": {},
   "outputs": [
    {
     "name": "stdout",
     "output_type": "stream",
     "text": [
      "Process - UserName - First 5\n",
      "         UserName  Count\n",
      "2532  Comp459452$   4272\n",
      "2533  Comp819519$   4272\n",
      "2534   User202994   4272\n",
      "2535  Comp509630$   4272\n",
      "2536  Comp416250$   4272\n",
      "\n",
      "Process - UserName - Last 5\n",
      "          UserName  Count\n",
      "22784  Comp324186$    121\n",
      "22785   User781308    121\n",
      "22786  Comp748227$    121\n",
      "22787   User847942    121\n",
      "22788   User520063    121\n",
      "\n",
      "Process - Device - First 5\n",
      "          Device  Count\n",
      "1347  Comp412116   6584\n",
      "1348  Comp878158   6584\n",
      "1349  Comp702752   6584\n",
      "1350  Comp543700   6582\n",
      "1351  Comp815841   6582\n",
      "\n",
      "Process - Device - Last 5\n",
      "           Device  Count\n",
      "12124  Comp504154   1092\n",
      "12125  Comp514047   1090\n",
      "12126  Comp793786   1089\n",
      "12127  Comp595745   1089\n",
      "12128  Comp852830   1087\n"
     ]
    }
   ],
   "source": [
    "print(\"Process - UserName - First 5\")\n",
    "print(counts_p_mid_80[0].head())\n",
    "print(\"\")\n",
    "print(\"Process - UserName - Last 5\")\n",
    "print(counts_p_mid_80[0].tail())\n",
    "print(\"\")\n",
    "print(\"Process - Device - First 5\")\n",
    "print(counts_p_mid_80[1].head())\n",
    "print(\"\")\n",
    "print(\"Process - Device - Last 5\")\n",
    "print(counts_p_mid_80[1].tail())"
   ]
  },
  {
   "cell_type": "code",
   "execution_count": 131,
   "id": "e5ac75f1-3c0b-4a8b-9764-a5de896f02ea",
   "metadata": {},
   "outputs": [
    {
     "data": {
      "text/plain": [
       "<AxesSubplot:xlabel='Count'>"
      ]
     },
     "execution_count": 131,
     "metadata": {},
     "output_type": "execute_result"
    },
    {
     "data": {
      "image/png": "[encoded data removed]",
      "text/plain": [
       "<Figure size 1440x720 with 1 Axes>"
      ]
     },
     "metadata": {},
     "output_type": "display_data"
    }
   ],
   "source": [
    "sns.set(rc={'figure.figsize':(20,10)})\n",
    "sns.boxplot(x=counts_p_mid_80[0][\"Count\"]:])"
   ]
  },
  {
   "cell_type": "code",
   "execution_count": 93,
   "id": "f4057d30-626e-49a7-9be1-2aa83d9d40a2",
   "metadata": {},
   "outputs": [
    {
     "data": {
      "text/plain": [
       "Index(['UserName', 'Device', 'ProcessName', 'ParentProcessName', 'DailyCount'], dtype='object')"
      ]
     },
     "execution_count": 93,
     "metadata": {},
     "output_type": "execute_result"
    }
   ],
   "source": [
    "counts_p_mid_80[0]"
   ]
  }
 ],
 "metadata": {
  "kernelspec": {
   "display_name": "Python 3",
   "language": "python",
   "name": "python3"
  },
  "language_info": {
   "codemirror_mode": {
    "name": "ipython",
    "version": 3
   },
   "file_extension": ".py",
   "mimetype": "text/x-python",
   "name": "python",
   "nbconvert_exporter": "python",
   "pygments_lexer": "ipython3",
   "version": "3.8.10"
  }
 },
 "nbformat": 4,
 "nbformat_minor": 5
}
