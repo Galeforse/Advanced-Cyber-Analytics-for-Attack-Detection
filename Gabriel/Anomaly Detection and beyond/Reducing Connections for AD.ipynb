{
 "cells": [
  {
   "cell_type": "markdown",
   "id": "20628e95-d4c8-46b7-a52d-244141a5f1df",
   "metadata": {},
   "source": [
    "# Reducing connections\n",
    "\n",
    "In this workbook I am working on reducing the data in the process and authentication data for further use in anomaly detection and analysis to place attacks within the kill chain. Through our discussion and analysis of the \"Networks\" associated with this data we know that within the whole dataset there is a whole variety of different \"connections\". For the most part when we talk about connections we refer to a more genuine interpretation of the word - a link between a source and destination or a person interacting with a device. For this reason we are mostly going to be focusing on the variables `UserName` and `Device` in the process data, and the `UserName`, `SrcDevice` and `DstDevice` variables in the authentication data.\n",
    "\n",
    "In previous EDA work (particularly noted with the use of visualisation) we found that there were a large amount of data points with far too many connections to draw any meaningful conclusions/recognise any interesting structural pattern in the connections. These are most easily observed in another way by looking at the scatter plots found in [this folder](https://github.com/Galeforse/Advanced-Cyber-Analytics-for-Attack-Detection/tree/main/Gabriel/EDA/plots), observing those which tower above the others in frequency. When talking to Dan, we thought that it would be worth removing this data, and additionally might want to remove those single path connections (and possibly slightly higher) that occur in the data.\n",
    "\n",
    "To do this the main aims of this workbook are to analyse these connections through use of counting and then create new reduced data dropping extra values to get a more feasibly usable dataset. This workbook is linked to some brief experimentation that I conducted into the data distribution in the other workbook in this folder [Plotting Boxplots](https://github.com/Galeforse/Advanced-Cyber-Analytics-for-Attack-Detection/blob/main/Gabriel/Anomaly%20Detection%20and%20beyond/Plotting%20Boxplots.ipynb)."
   ]
  },
  {
   "cell_type": "markdown",
   "id": "fffbd619-28ff-43c0-90b6-ca8ac1da86af",
   "metadata": {},
   "source": [
    "We start by importing our modules as usual. To understand what some of what I'm doing here relates to please refer to [Using Modules]()."
   ]
  },
  {
   "cell_type": "code",
   "execution_count": 1,
   "id": "5f183556-90e0-48eb-92be-4e739dd85dba",
   "metadata": {},
   "outputs": [],
   "source": [
    "import sys\n",
    "sys.path.insert(0,'G:/Users/Gabriel/Documents/Education/UoB/GitHubDesktop/Advanced-Cyber-Analytics-for-Attack-Detection/Modules/')\n",
    "import pandas as pd\n",
    "import numpy as np\n",
    "from dt import *\n",
    "from startup_g import *\n",
    "import seaborn as sns"
   ]
  },
  {
   "cell_type": "code",
   "execution_count": 2,
   "id": "3b37b133-1090-4312-92d6-76520618eb9e",
   "metadata": {},
   "outputs": [
    {
     "name": "stdout",
     "output_type": "stream",
     "text": [
      "Looking for local copy of Process data...\n"
     ]
    },
    {
     "name": "stderr",
     "output_type": "stream",
     "text": [
      "G:\\Programs\\Anaconda\\envs\\det\\lib\\site-packages\\numpy\\lib\\arraysetops.py:583: FutureWarning: elementwise comparison failed; returning scalar instead, but in the future will perform elementwise comparison\n",
      "  mask |= (ar1 == a)\n"
     ]
    },
    {
     "name": "stdout",
     "output_type": "stream",
     "text": [
      "Process data fetched locally in 0:01:09.162751\n",
      "Looking for local copy of Auth data...\n",
      "Auth data fetched locally in 0:00:20.999779\n"
     ]
    }
   ],
   "source": [
    "df_p = process_import()\n",
    "df_a = auth_import()"
   ]
  },
  {
   "cell_type": "code",
   "execution_count": 3,
   "id": "30781eee-97fa-49d7-bde4-646862cc059a",
   "metadata": {},
   "outputs": [
    {
     "data": {
      "text/html": [
       "<div>\n",
       "<style scoped>\n",
       "    .dataframe tbody tr th:only-of-type {\n",
       "        vertical-align: middle;\n",
       "    }\n",
       "\n",
       "    .dataframe tbody tr th {\n",
       "        vertical-align: top;\n",
       "    }\n",
       "\n",
       "    .dataframe thead th {\n",
       "        text-align: right;\n",
       "    }\n",
       "</style>\n",
       "<table border=\"1\" class=\"dataframe\">\n",
       "  <thead>\n",
       "    <tr style=\"text-align: right;\">\n",
       "      <th></th>\n",
       "      <th>UserName</th>\n",
       "      <th>Device</th>\n",
       "      <th>ProcessName</th>\n",
       "      <th>ParentProcessName</th>\n",
       "      <th>DailyCount</th>\n",
       "    </tr>\n",
       "  </thead>\n",
       "  <tbody>\n",
       "    <tr>\n",
       "      <th>0</th>\n",
       "      <td>Comp748297$</td>\n",
       "      <td>Comp748297</td>\n",
       "      <td>Proc391839.exe</td>\n",
       "      <td>Proc387473</td>\n",
       "      <td>1</td>\n",
       "    </tr>\n",
       "    <tr>\n",
       "      <th>1</th>\n",
       "      <td>Comp563664$</td>\n",
       "      <td>Comp563664</td>\n",
       "      <td>rundll32.exe</td>\n",
       "      <td>services</td>\n",
       "      <td>1</td>\n",
       "    </tr>\n",
       "    <tr>\n",
       "      <th>2</th>\n",
       "      <td>User607396</td>\n",
       "      <td>Comp609111</td>\n",
       "      <td>Proc417435.exe</td>\n",
       "      <td>Proc417435</td>\n",
       "      <td>1</td>\n",
       "    </tr>\n",
       "    <tr>\n",
       "      <th>3</th>\n",
       "      <td>Comp641702$</td>\n",
       "      <td>Comp641702</td>\n",
       "      <td>Proc249569.exe</td>\n",
       "      <td>services</td>\n",
       "      <td>1</td>\n",
       "    </tr>\n",
       "    <tr>\n",
       "      <th>4</th>\n",
       "      <td>Comp157389$</td>\n",
       "      <td>Comp157389</td>\n",
       "      <td>Proc402696.exe</td>\n",
       "      <td>services</td>\n",
       "      <td>1</td>\n",
       "    </tr>\n",
       "  </tbody>\n",
       "</table>\n",
       "</div>"
      ],
      "text/plain": [
       "      UserName      Device     ProcessName ParentProcessName  DailyCount\n",
       "0  Comp748297$  Comp748297  Proc391839.exe        Proc387473           1\n",
       "1  Comp563664$  Comp563664    rundll32.exe          services           1\n",
       "2   User607396  Comp609111  Proc417435.exe        Proc417435           1\n",
       "3  Comp641702$  Comp641702  Proc249569.exe          services           1\n",
       "4  Comp157389$  Comp157389  Proc402696.exe          services           1"
      ]
     },
     "execution_count": 3,
     "metadata": {},
     "output_type": "execute_result"
    }
   ],
   "source": [
    "df_p.head()"
   ]
  },
  {
   "cell_type": "code",
   "execution_count": 4,
   "id": "5b164d4f-9a9a-4f21-8612-7f4ed57df5a6",
   "metadata": {},
   "outputs": [
    {
     "data": {
      "text/html": [
       "<div>\n",
       "<style scoped>\n",
       "    .dataframe tbody tr th:only-of-type {\n",
       "        vertical-align: middle;\n",
       "    }\n",
       "\n",
       "    .dataframe tbody tr th {\n",
       "        vertical-align: top;\n",
       "    }\n",
       "\n",
       "    .dataframe thead th {\n",
       "        text-align: right;\n",
       "    }\n",
       "</style>\n",
       "<table border=\"1\" class=\"dataframe\">\n",
       "  <thead>\n",
       "    <tr style=\"text-align: right;\">\n",
       "      <th></th>\n",
       "      <th>UserName</th>\n",
       "      <th>SrcDevice</th>\n",
       "      <th>DstDevice</th>\n",
       "      <th>Authent Type</th>\n",
       "      <th>Failure</th>\n",
       "      <th>DailyCount</th>\n",
       "    </tr>\n",
       "  </thead>\n",
       "  <tbody>\n",
       "    <tr>\n",
       "      <th>0</th>\n",
       "      <td>User035855</td>\n",
       "      <td>Comp808475</td>\n",
       "      <td>Comp081330</td>\n",
       "      <td>TGS</td>\n",
       "      <td>0</td>\n",
       "      <td>17.0</td>\n",
       "    </tr>\n",
       "    <tr>\n",
       "      <th>1</th>\n",
       "      <td>Comp655251$</td>\n",
       "      <td>Comp655251</td>\n",
       "      <td>ActiveDirectory</td>\n",
       "      <td>NetworkLogon</td>\n",
       "      <td>0</td>\n",
       "      <td>350.0</td>\n",
       "    </tr>\n",
       "    <tr>\n",
       "      <th>2</th>\n",
       "      <td>User762066</td>\n",
       "      <td>Comp306129</td>\n",
       "      <td>ActiveDirectory</td>\n",
       "      <td>TGS</td>\n",
       "      <td>0</td>\n",
       "      <td>22.0</td>\n",
       "    </tr>\n",
       "    <tr>\n",
       "      <th>3</th>\n",
       "      <td>User384215</td>\n",
       "      <td>Comp095190</td>\n",
       "      <td>EnterpriseAppServer</td>\n",
       "      <td>NetworkLogon</td>\n",
       "      <td>0</td>\n",
       "      <td>35.0</td>\n",
       "    </tr>\n",
       "    <tr>\n",
       "      <th>4</th>\n",
       "      <td>User043263</td>\n",
       "      <td>Comp883307</td>\n",
       "      <td>Comp384394</td>\n",
       "      <td>TGS</td>\n",
       "      <td>0</td>\n",
       "      <td>2.0</td>\n",
       "    </tr>\n",
       "  </tbody>\n",
       "</table>\n",
       "</div>"
      ],
      "text/plain": [
       "      UserName   SrcDevice            DstDevice  Authent Type  Failure  \\\n",
       "0   User035855  Comp808475           Comp081330           TGS        0   \n",
       "1  Comp655251$  Comp655251      ActiveDirectory  NetworkLogon        0   \n",
       "2   User762066  Comp306129      ActiveDirectory           TGS        0   \n",
       "3   User384215  Comp095190  EnterpriseAppServer  NetworkLogon        0   \n",
       "4   User043263  Comp883307           Comp384394           TGS        0   \n",
       "\n",
       "   DailyCount  \n",
       "0        17.0  \n",
       "1       350.0  \n",
       "2        22.0  \n",
       "3        35.0  \n",
       "4         2.0  "
      ]
     },
     "execution_count": 4,
     "metadata": {},
     "output_type": "execute_result"
    }
   ],
   "source": [
    "df_a.head()"
   ]
  },
  {
   "cell_type": "code",
   "execution_count": 5,
   "id": "3af62f48-31bd-4704-997e-eed7b18c001e",
   "metadata": {},
   "outputs": [],
   "source": [
    "x = [\"UserName\",\"Device\"]\n",
    "counts_p = []\n",
    "for i in x:\n",
    "    z = df_p.groupby(i).size().sort_values(ascending=False)\n",
    "    z = pd.DataFrame(z)\n",
    "    z.reset_index(level=0, inplace=True)\n",
    "    z.columns = [i,'Count']\n",
    "    counts_p.append(z)"
   ]
  },
  {
   "cell_type": "code",
   "execution_count": 6,
   "id": "90f0cc40-82da-442c-88c9-6c645dff92b7",
   "metadata": {},
   "outputs": [],
   "source": [
    "x = [\"UserName\",\"SrcDevice\",\"DstDevice\"]\n",
    "counts_a = []\n",
    "for i in x:\n",
    "    z = df_a.groupby(i).size().sort_values(ascending=False)\n",
    "    z = pd.DataFrame(z)\n",
    "    z.reset_index(level=0, inplace=True)\n",
    "    z.columns = [i,'Count']\n",
    "    counts_a.append(z)"
   ]
  },
  {
   "cell_type": "code",
   "execution_count": 21,
   "id": "ca7c829a-59f8-4143-a40c-54c2a8d25d9e",
   "metadata": {},
   "outputs": [],
   "source": [
    "x = [\"UserName\",\"Device\"]\n",
    "counts_p_mid_80 = []\n",
    "counts_p_mid_80_discard = []\n",
    "for i in x:\n",
    "    z = df_p.groupby(i).size().sort_values(ascending=False)\n",
    "    z = pd.DataFrame(z)\n",
    "    z.reset_index(level=0, inplace=True)\n",
    "    z.columns = [i,'Count']\n",
    "    l = len(z)\n",
    "    l_low = int(l*0.1)\n",
    "    l_high = int(l*0.9)\n",
    "    y = z[(z[\"Count\"] <= z[\"Count\"][l_low]) & (z[\"Count\"] >= z[\"Count\"][l_high])]\n",
    "    x = z[z[\"Count\"] > z[\"Count\"][l_low]]\n",
    "    v = z[z[\"Count\"] < z[\"Count\"][l_high]]\n",
    "    counts_p_mid_80.append(y)\n",
    "    temp = []\n",
    "    temp.append(x)\n",
    "    temp.append(v)\n",
    "    b = pd.concat(temp,axis=0)\n",
    "    counts_p_mid_80_discard.append(b)"
   ]
  },
  {
   "cell_type": "code",
   "execution_count": 164,
   "id": "323cbdba-af75-4544-b550-3c6e2f5204cf",
   "metadata": {},
   "outputs": [
    {
     "name": "stdout",
     "output_type": "stream",
     "text": [
      "25320\n"
     ]
    }
   ],
   "source": [
    "print(len(counts_p_mid_80[0])+len(counts_p_mid_80_discard[0]))"
   ]
  },
  {
   "cell_type": "code",
   "execution_count": 170,
   "id": "b55d0669-377f-4690-9c58-9500a37a29b7",
   "metadata": {},
   "outputs": [
    {
     "name": "stdout",
     "output_type": "stream",
     "text": [
      "Process - UserName - First 5\n",
      "         UserName  Count\n",
      "2532  Comp459452$   4272\n",
      "2533  Comp819519$   4272\n",
      "2534   User202994   4272\n",
      "2535  Comp509630$   4272\n",
      "2536  Comp416250$   4272\n",
      "\n",
      "Process - UserName - Last 5\n",
      "          UserName  Count\n",
      "22784  Comp324186$    121\n",
      "22785   User781308    121\n",
      "22786  Comp748227$    121\n",
      "22787   User847942    121\n",
      "22788   User520063    121\n",
      "\n",
      "Process - Device - First 5\n",
      "          Device  Count\n",
      "1347  Comp412116   6584\n",
      "1348  Comp878158   6584\n",
      "1349  Comp702752   6584\n",
      "1350  Comp543700   6582\n",
      "1351  Comp815841   6582\n",
      "\n",
      "Process - Device - Last 5\n",
      "           Device  Count\n",
      "12124  Comp504154   1092\n",
      "12125  Comp514047   1090\n",
      "12126  Comp793786   1089\n",
      "12127  Comp595745   1089\n",
      "12128  Comp852830   1087\n"
     ]
    }
   ],
   "source": [
    "print(\"Process - UserName - First 5\")\n",
    "print(counts_p_mid_80[0].head())\n",
    "print(\"\")\n",
    "print(\"Process - UserName - Last 5\")\n",
    "print(counts_p_mid_80[0].tail())\n",
    "print(\"\")\n",
    "print(\"Process - Device - First 5\")\n",
    "print(counts_p_mid_80[1].head())\n",
    "print(\"\")\n",
    "print(\"Process - Device - Last 5\")\n",
    "print(counts_p_mid_80[1].tail())"
   ]
  },
  {
   "cell_type": "code",
   "execution_count": 17,
   "id": "8fe720b2-3072-4c53-b442-b14765a2f17c",
   "metadata": {},
   "outputs": [],
   "source": [
    "pun_discard = counts_p_mid_80_discard[0][\"UserName\"].tolist()\n",
    "pd_discard = counts_p_mid_80_discard[1][\"Device\"].tolist()"
   ]
  },
  {
   "cell_type": "code",
   "execution_count": 18,
   "id": "e5ac75f1-3c0b-4a8b-9764-a5de896f02ea",
   "metadata": {},
   "outputs": [
    {
     "data": {
      "text/plain": [
       "<AxesSubplot:xlabel='Count'>"
      ]
     },
     "execution_count": 18,
     "metadata": {},
     "output_type": "execute_result"
    },
    {
     "data": {
      "image/png": "[encoded data removed]",
      "text/plain": [
       "<Figure size 1440x720 with 1 Axes>"
      ]
     },
     "metadata": {},
     "output_type": "display_data"
    }
   ],
   "source": [
    "sns.set(rc={'figure.figsize':(20,10)})\n",
    "sns.boxplot(x=counts_p_mid_80[0][\"Count\"])"
   ]
  },
  {
   "cell_type": "code",
   "execution_count": 93,
   "id": "f4057d30-626e-49a7-9be1-2aa83d9d40a2",
   "metadata": {},
   "outputs": [
    {
     "data": {
      "text/plain": [
       "Index(['UserName', 'Device', 'ProcessName', 'ParentProcessName', 'DailyCount'], dtype='object')"
      ]
     },
     "execution_count": 93,
     "metadata": {},
     "output_type": "execute_result"
    }
   ],
   "source": [
    "counts_p_mid_80[0]"
   ]
  },
  {
   "cell_type": "markdown",
   "id": "d2fc39df-ed6c-4b84-88ff-4e233e16f1f5",
   "metadata": {},
   "source": [
    "## Above for Authentication data"
   ]
  },
  {
   "cell_type": "code",
   "execution_count": 20,
   "id": "27671d08-fa8e-4907-838f-a307ed9821fa",
   "metadata": {},
   "outputs": [],
   "source": [
    "x = [\"UserName\",\"SrcDevice\",\"DstDevice\"]\n",
    "counts_a_mid_80 = []\n",
    "counts_a_mid_80_discard = []\n",
    "for i in x:\n",
    "    z = df_a.groupby(i).size().sort_values(ascending=False)\n",
    "    z = pd.DataFrame(z)\n",
    "    z.reset_index(level=0, inplace=True)\n",
    "    z.columns = [i,'Count']\n",
    "    l = len(z)\n",
    "    l_low = int(l*0.1)\n",
    "    l_high = int(l*0.9)\n",
    "    y = z[(z[\"Count\"] <= z[\"Count\"][l_low]) & (z[\"Count\"] >= z[\"Count\"][l_high])]\n",
    "    x = z[z[\"Count\"] > z[\"Count\"][l_low]]\n",
    "    v = z[z[\"Count\"] < z[\"Count\"][l_high]]\n",
    "    counts_a_mid_80.append(y)\n",
    "    temp = []\n",
    "    temp.append(x)\n",
    "    temp.append(v)\n",
    "    b = pd.concat(temp,axis=0)\n",
    "    counts_a_mid_80_discard.append(b)"
   ]
  },
  {
   "cell_type": "code",
   "execution_count": 22,
   "id": "c5d31113-4b94-4d38-9de6-373fb8bab26e",
   "metadata": {},
   "outputs": [],
   "source": [
    "aun_discard = counts_a_mid_80_discard[0][\"UserName\"].tolist()\n",
    "asd_discard = counts_a_mid_80_discard[1][\"SrcDevice\"].tolist()\n",
    "add_discard = counts_a_mid_80_discard[2][\"DstDevice\"].tolist()"
   ]
  },
  {
   "cell_type": "code",
   "execution_count": 24,
   "id": "c0773cb4-2d5c-4505-b951-b9019ee9a485",
   "metadata": {},
   "outputs": [
    {
     "data": {
      "text/html": [
       "<div>\n",
       "<style scoped>\n",
       "    .dataframe tbody tr th:only-of-type {\n",
       "        vertical-align: middle;\n",
       "    }\n",
       "\n",
       "    .dataframe tbody tr th {\n",
       "        vertical-align: top;\n",
       "    }\n",
       "\n",
       "    .dataframe thead th {\n",
       "        text-align: right;\n",
       "    }\n",
       "</style>\n",
       "<table border=\"1\" class=\"dataframe\">\n",
       "  <thead>\n",
       "    <tr style=\"text-align: right;\">\n",
       "      <th></th>\n",
       "      <th>UserName</th>\n",
       "      <th>Device</th>\n",
       "      <th>ProcessName</th>\n",
       "      <th>ParentProcessName</th>\n",
       "      <th>DailyCount</th>\n",
       "    </tr>\n",
       "  </thead>\n",
       "  <tbody>\n",
       "    <tr>\n",
       "      <th>0</th>\n",
       "      <td>Comp748297$</td>\n",
       "      <td>Comp748297</td>\n",
       "      <td>Proc391839.exe</td>\n",
       "      <td>Proc387473</td>\n",
       "      <td>1</td>\n",
       "    </tr>\n",
       "    <tr>\n",
       "      <th>1</th>\n",
       "      <td>Comp563664$</td>\n",
       "      <td>Comp563664</td>\n",
       "      <td>rundll32.exe</td>\n",
       "      <td>services</td>\n",
       "      <td>1</td>\n",
       "    </tr>\n",
       "    <tr>\n",
       "      <th>2</th>\n",
       "      <td>User607396</td>\n",
       "      <td>Comp609111</td>\n",
       "      <td>Proc417435.exe</td>\n",
       "      <td>Proc417435</td>\n",
       "      <td>1</td>\n",
       "    </tr>\n",
       "    <tr>\n",
       "      <th>3</th>\n",
       "      <td>Comp641702$</td>\n",
       "      <td>Comp641702</td>\n",
       "      <td>Proc249569.exe</td>\n",
       "      <td>services</td>\n",
       "      <td>1</td>\n",
       "    </tr>\n",
       "    <tr>\n",
       "      <th>4</th>\n",
       "      <td>Comp157389$</td>\n",
       "      <td>Comp157389</td>\n",
       "      <td>Proc402696.exe</td>\n",
       "      <td>services</td>\n",
       "      <td>1</td>\n",
       "    </tr>\n",
       "    <tr>\n",
       "      <th>...</th>\n",
       "      <td>...</td>\n",
       "      <td>...</td>\n",
       "      <td>...</td>\n",
       "      <td>...</td>\n",
       "      <td>...</td>\n",
       "    </tr>\n",
       "    <tr>\n",
       "      <th>251545</th>\n",
       "      <td>Comp738970$</td>\n",
       "      <td>Comp738970</td>\n",
       "      <td>Proc207472.exe</td>\n",
       "      <td>svchost</td>\n",
       "      <td>2</td>\n",
       "    </tr>\n",
       "    <tr>\n",
       "      <th>251546</th>\n",
       "      <td>User925794</td>\n",
       "      <td>Comp097857</td>\n",
       "      <td>cmd.exe</td>\n",
       "      <td>Proc174492</td>\n",
       "      <td>2</td>\n",
       "    </tr>\n",
       "    <tr>\n",
       "      <th>251547</th>\n",
       "      <td>Comp996714$</td>\n",
       "      <td>Comp996714</td>\n",
       "      <td>Proc612297.exe</td>\n",
       "      <td>services</td>\n",
       "      <td>5</td>\n",
       "    </tr>\n",
       "    <tr>\n",
       "      <th>251548</th>\n",
       "      <td>Comp391736$</td>\n",
       "      <td>Comp391736</td>\n",
       "      <td>rundll32.exe</td>\n",
       "      <td>Proc247259</td>\n",
       "      <td>2</td>\n",
       "    </tr>\n",
       "    <tr>\n",
       "      <th>251549</th>\n",
       "      <td>Comp769777$</td>\n",
       "      <td>Comp769777</td>\n",
       "      <td>rundll32.exe</td>\n",
       "      <td>rundll32</td>\n",
       "      <td>3</td>\n",
       "    </tr>\n",
       "  </tbody>\n",
       "</table>\n",
       "<p>55981618 rows × 5 columns</p>\n",
       "</div>"
      ],
      "text/plain": [
       "           UserName      Device     ProcessName ParentProcessName  DailyCount\n",
       "0       Comp748297$  Comp748297  Proc391839.exe        Proc387473           1\n",
       "1       Comp563664$  Comp563664    rundll32.exe          services           1\n",
       "2        User607396  Comp609111  Proc417435.exe        Proc417435           1\n",
       "3       Comp641702$  Comp641702  Proc249569.exe          services           1\n",
       "4       Comp157389$  Comp157389  Proc402696.exe          services           1\n",
       "...             ...         ...             ...               ...         ...\n",
       "251545  Comp738970$  Comp738970  Proc207472.exe           svchost           2\n",
       "251546   User925794  Comp097857         cmd.exe        Proc174492           2\n",
       "251547  Comp996714$  Comp996714  Proc612297.exe          services           5\n",
       "251548  Comp391736$  Comp391736    rundll32.exe        Proc247259           2\n",
       "251549  Comp769777$  Comp769777    rundll32.exe          rundll32           3\n",
       "\n",
       "[55981618 rows x 5 columns]"
      ]
     },
     "execution_count": 24,
     "metadata": {},
     "output_type": "execute_result"
    }
   ],
   "source": [
    "df_p"
   ]
  },
  {
   "cell_type": "code",
   "execution_count": 34,
   "id": "3d6917b3-8acd-401f-aa15-f74cb3579799",
   "metadata": {},
   "outputs": [
    {
     "name": "stdout",
     "output_type": "stream",
     "text": [
      "Starting length of dataframe: 55981618\n",
      "1st drop length of dataframe: 42964407\n",
      "Final length of dataframe: 38137080\n"
     ]
    }
   ],
   "source": [
    "print(\"Starting length of dataframe: \"+str(len(df_p)))\n",
    "df_p_cut = df_p[~df_p[\"UserName\"].isin(pun_discard)]\n",
    "print(\"1st drop length of dataframe: \"+str(len(df_p_cut)))\n",
    "df_p_cut = df_p_cut[~df_p_cut[\"Device\"].isin(pd_discard)]\n",
    "print(\"Final length of dataframe: \"+str(len(df_p_cut)))"
   ]
  },
  {
   "cell_type": "code",
   "execution_count": 36,
   "id": "c52c0a42-8c78-447c-940b-3df776351eb7",
   "metadata": {},
   "outputs": [
    {
     "name": "stdout",
     "output_type": "stream",
     "text": [
      "Starting length of dataframe: 15953681\n",
      "1st drop length of dataframe: 10422898\n",
      "2nd drop length of dataframe: 8007794\n",
      "Final length of dataframe: 851237\n"
     ]
    }
   ],
   "source": [
    "print(\"Starting length of dataframe: \"+str(len(df_a)))\n",
    "df_a_cut = df_a[~df_a[\"UserName\"].isin(aun_discard)]\n",
    "print(\"1st drop length of dataframe: \"+str(len(df_a_cut)))\n",
    "df_a_cut = df_a_cut[~df_a_cut[\"SrcDevice\"].isin(asd_discard)]\n",
    "print(\"2nd drop length of dataframe: \"+str(len(df_a_cut)))\n",
    "df_a_cut = df_a_cut[~df_a_cut[\"DstDevice\"].isin(add_discard)]\n",
    "print(\"Final length of dataframe: \"+str(len(df_a_cut)))"
   ]
  }
 ],
 "metadata": {
  "kernelspec": {
   "display_name": "Python 3",
   "language": "python",
   "name": "python3"
  },
  "language_info": {
   "codemirror_mode": {
    "name": "ipython",
    "version": 3
   },
   "file_extension": ".py",
   "mimetype": "text/x-python",
   "name": "python",
   "nbconvert_exporter": "python",
   "pygments_lexer": "ipython3",
   "version": "3.8.10"
  }
 },
 "nbformat": 4,
 "nbformat_minor": 5
}
