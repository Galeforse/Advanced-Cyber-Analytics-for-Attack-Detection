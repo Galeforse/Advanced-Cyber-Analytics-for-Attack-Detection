{
 "cells": [
  {
   "cell_type": "markdown",
   "id": "096b9fbd",
   "metadata": {},
   "source": [
    "## A runtime analysis"
   ]
  },
  {
   "cell_type": "code",
   "execution_count": 9,
   "id": "5a8f4c58",
   "metadata": {},
   "outputs": [],
   "source": [
    "library(ggplot2)\n",
    "library(ggpubr)"
   ]
  },
  {
   "cell_type": "markdown",
   "id": "9f8d098c",
   "metadata": {},
   "source": [
    "We read the observed times, which can be found [here](https://github.com/Galeforse/Advanced-Cyber-Analytics-for-Attack-Detection/blob/main/Alex/Optimizing%20data%20reading.ipynb), in section 2 on 'Time complexity'."
   ]
  },
  {
   "cell_type": "code",
   "execution_count": 10,
   "id": "f96d7f44",
   "metadata": {},
   "outputs": [],
   "source": [
    "x<- data.frame(\"1mil\"=c(2.297, 2.513, 2.463), \"9mil\"=c(25.837, 23.488, 19.584),\"25mil\" = c(74.518, 79.681, 74.617))\n",
    "colnames(x) <- c(\"V1\", \"V9\", \"V25\")"
   ]
  },
  {
   "cell_type": "code",
   "execution_count": 11,
   "id": "d28ffe0d",
   "metadata": {},
   "outputs": [
    {
     "data": {
      "text/html": [
       "<table>\n",
       "<thead><tr><th scope=col>V1</th><th scope=col>V9</th><th scope=col>V25</th></tr></thead>\n",
       "<tbody>\n",
       "\t<tr><td>2.297 </td><td>25.837</td><td>74.518</td></tr>\n",
       "\t<tr><td>2.513 </td><td>23.488</td><td>79.681</td></tr>\n",
       "\t<tr><td>2.463 </td><td>19.584</td><td>74.617</td></tr>\n",
       "</tbody>\n",
       "</table>\n"
      ],
      "text/latex": [
       "\\begin{tabular}{r|lll}\n",
       " V1 & V9 & V25\\\\\n",
       "\\hline\n",
       "\t 2.297  & 25.837 & 74.518\\\\\n",
       "\t 2.513  & 23.488 & 79.681\\\\\n",
       "\t 2.463  & 19.584 & 74.617\\\\\n",
       "\\end{tabular}\n"
      ],
      "text/markdown": [
       "\n",
       "| V1 | V9 | V25 |\n",
       "|---|---|---|\n",
       "| 2.297  | 25.837 | 74.518 |\n",
       "| 2.513  | 23.488 | 79.681 |\n",
       "| 2.463  | 19.584 | 74.617 |\n",
       "\n"
      ],
      "text/plain": [
       "  V1    V9     V25   \n",
       "1 2.297 25.837 74.518\n",
       "2 2.513 23.488 79.681\n",
       "3 2.463 19.584 74.617"
      ]
     },
     "metadata": {},
     "output_type": "display_data"
    }
   ],
   "source": [
    "x"
   ]
  },
  {
   "cell_type": "markdown",
   "id": "0d268fef",
   "metadata": {},
   "source": [
    "A summary and a Q-plot analysis are sufficient to already make note of the main concern: "
   ]
  },
  {
   "cell_type": "code",
   "execution_count": 12,
   "id": "f8a6b497",
   "metadata": {},
   "outputs": [
    {
     "data": {
      "text/plain": [
       "       V1              V9             V25       \n",
       " Min.   :2.297   Min.   :19.58   Min.   :74.52  \n",
       " 1st Qu.:2.380   1st Qu.:21.54   1st Qu.:74.57  \n",
       " Median :2.463   Median :23.49   Median :74.62  \n",
       " Mean   :2.424   Mean   :22.97   Mean   :76.27  \n",
       " 3rd Qu.:2.488   3rd Qu.:24.66   3rd Qu.:77.15  \n",
       " Max.   :2.513   Max.   :25.84   Max.   :79.68  "
      ]
     },
     "metadata": {},
     "output_type": "display_data"
    }
   ],
   "source": [
    "summary(x)"
   ]
  },
  {
   "cell_type": "code",
   "execution_count": 38,
   "id": "1fe31eb0",
   "metadata": {},
   "outputs": [
    {
     "data": {
      "image/png": "[encoded data removed]",
      "text/plain": [
       "plot without title"
      ]
     },
     "metadata": {},
     "output_type": "display_data"
    }
   ],
   "source": [
    "op <- par(mfrow=c(1,3))\n",
    "boxplot(x$V1)\n",
    "boxplot(x$V9)\n",
    "boxplot(x$V25)\n",
    "par(op)"
   ]
  },
  {
   "cell_type": "markdown",
   "id": "e15acec1",
   "metadata": {},
   "source": [
    "Indeed, the proposed methods seem to hinder more than they help. In two of the three cases the times when using the na_filter are greater than the default time, and in one case it takes more time to read 7/11 selected features than it does to read the entire dataframe.\n",
    "\n",
    "One explanation for this unusual result is that perhaps the 'usecols' command implicitly proposes some form of sequential approach in the reading. It might be the case that the program is iterating through the range and reading the 7 columns one-by-one, whereas its default version uses an implicit matrix reading technique. This is, however, just a hypothesis, and we chose not to test it any further."
   ]
  },
  {
   "cell_type": "code",
   "execution_count": 16,
   "id": "b8171eae",
   "metadata": {},
   "outputs": [],
   "source": [
    "y<- as.data.frame(t(x))\n",
    "colnames(y) <- c(\"V1\", \"V9\", \"V25\")\n",
    "y<- cbind(y, lines=c(1,9,25))"
   ]
  },
  {
   "cell_type": "code",
   "execution_count": 17,
   "id": "cbe1464c",
   "metadata": {},
   "outputs": [
    {
     "data": {
      "text/html": [
       "<table>\n",
       "<thead><tr><th></th><th scope=col>V1</th><th scope=col>V9</th><th scope=col>V25</th><th scope=col>lines</th></tr></thead>\n",
       "<tbody>\n",
       "\t<tr><th scope=row>V1</th><td> 2.297</td><td> 2.513</td><td> 2.463</td><td> 1    </td></tr>\n",
       "\t<tr><th scope=row>V9</th><td>25.837</td><td>23.488</td><td>19.584</td><td> 9    </td></tr>\n",
       "\t<tr><th scope=row>V25</th><td>74.518</td><td>79.681</td><td>74.617</td><td>25    </td></tr>\n",
       "</tbody>\n",
       "</table>\n"
      ],
      "text/latex": [
       "\\begin{tabular}{r|llll}\n",
       "  & V1 & V9 & V25 & lines\\\\\n",
       "\\hline\n",
       "\tV1 &  2.297 &  2.513 &  2.463 &  1    \\\\\n",
       "\tV9 & 25.837 & 23.488 & 19.584 &  9    \\\\\n",
       "\tV25 & 74.518 & 79.681 & 74.617 & 25    \\\\\n",
       "\\end{tabular}\n"
      ],
      "text/markdown": [
       "\n",
       "| <!--/--> | V1 | V9 | V25 | lines |\n",
       "|---|---|---|---|---|\n",
       "| V1 |  2.297 |  2.513 |  2.463 |  1     |\n",
       "| V9 | 25.837 | 23.488 | 19.584 |  9     |\n",
       "| V25 | 74.518 | 79.681 | 74.617 | 25     |\n",
       "\n"
      ],
      "text/plain": [
       "    V1     V9     V25    lines\n",
       "V1   2.297  2.513  2.463  1   \n",
       "V9  25.837 23.488 19.584  9   \n",
       "V25 74.518 79.681 74.617 25   "
      ]
     },
     "metadata": {},
     "output_type": "display_data"
    }
   ],
   "source": [
    "y"
   ]
  },
  {
   "cell_type": "markdown",
   "id": "f9fc89ea",
   "metadata": {},
   "source": [
    "The next step is to look at how increases behave in each of the 3 presented scenarios. We will do so by developing a mathematical algorithm for comparing increases, and then using some visualisations to back up the results. We start expecting a roughly linear increase."
   ]
  },
  {
   "cell_type": "code",
   "execution_count": 20,
   "id": "521e806e",
   "metadata": {},
   "outputs": [
    {
     "data": {
      "text/plain": [
       "       V1               V9              V25        \n",
       " Min.   : 2.297   Min.   : 2.513   Min.   : 2.463  \n",
       " 1st Qu.:14.067   1st Qu.:13.001   1st Qu.:11.024  \n",
       " Median :25.837   Median :23.488   Median :19.584  \n",
       " Mean   :34.217   Mean   :35.227   Mean   :32.221  \n",
       " 3rd Qu.:50.178   3rd Qu.:51.584   3rd Qu.:47.100  \n",
       " Max.   :74.518   Max.   :79.681   Max.   :74.617  "
      ]
     },
     "metadata": {},
     "output_type": "display_data"
    }
   ],
   "source": [
    "summary(y[,-4])"
   ]
  },
  {
   "cell_type": "markdown",
   "id": "ef01e751",
   "metadata": {},
   "source": [
    "One thing to crucially note from the summary is that the mean value is always greater than the respective V9 value. We can use this fact to compute the N-increase tendency as follows: "
   ]
  },
  {
   "cell_type": "code",
   "execution_count": 32,
   "id": "53ec3805",
   "metadata": {},
   "outputs": [
    {
     "name": "stdout",
     "output_type": "stream",
     "text": [
      "[1]  2.4843304 -0.6593096 -2.4724267\n"
     ]
    }
   ],
   "source": [
    "z<- y[,-4]\n",
    "m<- vector()\n",
    "weight_av<- vector()\n",
    "n<- vector()\n",
    "\n",
    "for(i in 1:ncol(z)) {\n",
    "    m[i]<- mean(z[,i])\n",
    "    weight_av[i]<- (sum(z[,i]/y[,4]))/ncol(z)\n",
    "    n[i]<- z[2,i] + 4*weight_av[i] - m[i]\n",
    "}\n",
    "\n",
    "print(n)"
   ]
  },
  {
   "cell_type": "markdown",
   "id": "e0d3ef20",
   "metadata": {},
   "source": [
    "The cases where n is positive represent the 'good' outcome, and the n negative ones the 'bad' outcome. Indeed, judging from the limited sample presented, we can notice a pattern of worsening as the datasize increases. Negative values of n entail that the difference between the mean value and what the mean value should have been is shifting favouring the former quantity. An increase in the average is positively correlated with larger jumps between values, as we can see:"
   ]
  },
  {
   "cell_type": "code",
   "execution_count": 39,
   "id": "225af278",
   "metadata": {},
   "outputs": [
    {
     "data": {
      "text/html": [
       "<table>\n",
       "<thead><tr><th></th><th scope=col>V1</th><th scope=col>V9</th><th scope=col>V25</th></tr></thead>\n",
       "<tbody>\n",
       "\t<tr><th scope=row>V1</th><td>1.0000000</td><td>0.9982425</td><td>0.9953769</td></tr>\n",
       "\t<tr><th scope=row>V9</th><td>0.9982425</td><td>1.0000000</td><td>0.9993193</td></tr>\n",
       "\t<tr><th scope=row>V25</th><td>0.9953769</td><td>0.9993193</td><td>1.0000000</td></tr>\n",
       "</tbody>\n",
       "</table>\n"
      ],
      "text/latex": [
       "\\begin{tabular}{r|lll}\n",
       "  & V1 & V9 & V25\\\\\n",
       "\\hline\n",
       "\tV1 & 1.0000000 & 0.9982425 & 0.9953769\\\\\n",
       "\tV9 & 0.9982425 & 1.0000000 & 0.9993193\\\\\n",
       "\tV25 & 0.9953769 & 0.9993193 & 1.0000000\\\\\n",
       "\\end{tabular}\n"
      ],
      "text/markdown": [
       "\n",
       "| <!--/--> | V1 | V9 | V25 |\n",
       "|---|---|---|---|\n",
       "| V1 | 1.0000000 | 0.9982425 | 0.9953769 |\n",
       "| V9 | 0.9982425 | 1.0000000 | 0.9993193 |\n",
       "| V25 | 0.9953769 | 0.9993193 | 1.0000000 |\n",
       "\n"
      ],
      "text/plain": [
       "    V1        V9        V25      \n",
       "V1  1.0000000 0.9982425 0.9953769\n",
       "V9  0.9982425 1.0000000 0.9993193\n",
       "V25 0.9953769 0.9993193 1.0000000"
      ]
     },
     "metadata": {},
     "output_type": "display_data"
    }
   ],
   "source": [
    "cor(z)"
   ]
  },
  {
   "cell_type": "code",
   "execution_count": 34,
   "id": "753b9261",
   "metadata": {},
   "outputs": [
    {
     "data": {
      "text/html": [
       "<ol class=list-inline>\n",
       "\t<li>0.419165925925926</li>\n",
       "\t<li>0.473005925925925</li>\n",
       "\t<li>0.244226666666667</li>\n",
       "</ol>\n"
      ],
      "text/latex": [
       "\\begin{enumerate*}\n",
       "\\item 0.419165925925926\n",
       "\\item 0.473005925925925\n",
       "\\item 0.244226666666667\n",
       "\\end{enumerate*}\n"
      ],
      "text/markdown": [
       "1. 0.419165925925926\n",
       "2. 0.473005925925925\n",
       "3. 0.244226666666667\n",
       "\n",
       "\n"
      ],
      "text/plain": [
       "[1] 0.4191659 0.4730059 0.2442267"
      ]
     },
     "metadata": {},
     "output_type": "display_data"
    }
   ],
   "source": [
    "weight_av - min(z)"
   ]
  },
  {
   "cell_type": "markdown",
   "id": "c01a1bda",
   "metadata": {},
   "source": [
    "The weighted average compared to the V1 values of the 3 cases follows a weird stabilization pattern, inverse in effect to the implemented methods (eg. inverse to the performance of the NA_filter). This phenomena suggests that the stable development as N increases is closer to what we experience later in the process, i.e. at V25. Unfortunately, that's the least desirable scenario, where our alternative methods perform in fact worse than the default reading. "
   ]
  },
  {
   "cell_type": "code",
   "execution_count": 18,
   "id": "9a123753",
   "metadata": {},
   "outputs": [
    {
     "data": {
      "image/png": "[encoded data removed]",
      "text/plain": [
       "plot without title"
      ]
     },
     "metadata": {},
     "output_type": "display_data"
    }
   ],
   "source": [
    "g1<- ggplot(y, aes(V1, lines)) + geom_line()\n",
    "g2<- ggplot(y, aes(V9, lines)) + geom_line()\n",
    "g3<- ggplot(y, aes(V25, lines)) + geom_line()\n",
    "\n",
    "ggpubr::ggarrange(g1, g2, g3)"
   ]
  },
  {
   "cell_type": "markdown",
   "id": "d1239f65",
   "metadata": {},
   "source": [
    "All increases are arbitrarily close to linear. However, we can observe that as N increases, the jump from small to medium sized data (V1 to V9) becomes harsher. This tendency disappears in the medium to large (V9 to V25) case. "
   ]
  },
  {
   "cell_type": "markdown",
   "id": "b30dcd70",
   "metadata": {},
   "source": [
    "**Conclusions**\n",
    "\n",
    "While the time complexity seems to mostly scale linearily with the data, there are two pressing issues in the way. The first is that the constant seems much higher in the short to medium datasize range, as seen in the transition from V1 to V9 in two of the cases, particularly in the last one. This also resulted in my personal device being unable to process the filtered version of V25 and crashing, whereas it could process the default version of V25 reading. We've drawn this conclusion both from visualisations, as well as from our weighted_average comparison across sectors. This is also somewhat seen in the Q-plots. The second, perhaps harsher, problem is that our attempts at filtering and selecting not only failed to reduce the time in two cases, it significantly increased. The analysis shows that the increase is in fact what we'd expect to happen as a trend - meaning that the methods are likely to fail as we attempt reading more data. This is highly problematic, since the alternatives were deployed precisely to combat greater masses of data, but perform notably worse as data increases, effectively undermining their initial purpose."
   ]
  }
 ],
 "metadata": {
  "kernelspec": {
   "display_name": "R",
   "language": "R",
   "name": "ir"
  },
  "language_info": {
   "codemirror_mode": "r",
   "file_extension": ".r",
   "mimetype": "text/x-r-source",
   "name": "R",
   "pygments_lexer": "r",
   "version": "3.6.1"
  }
 },
 "nbformat": 4,
 "nbformat_minor": 5
}
