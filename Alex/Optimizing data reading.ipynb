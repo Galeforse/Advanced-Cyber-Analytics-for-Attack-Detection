{
 "cells": [
  {
   "cell_type": "markdown",
   "id": "07d45281",
   "metadata": {},
   "source": [
    "## Attempt at data reading optimization\n",
    "\n",
    "Our team is looking into using the NetFlow events from Los Alamos as the main dataset for our purposes, since the previously provided ATI data lacks in features (eg. Time, Ports, Protocols etc.). However, the data is outstandingly large, so we ought to look into ways of cutting down on it to even make it accessible.\n",
    "\n",
    "We thought of looking into the Command&Control sessions exclusively to begin with, and see what the data on those only would look like. We made use of [this file](https://github.com/Galeforse/Advanced-Cyber-Analytics-for-Attack-Detection/blob/main/Data/session_hosts.txt), which contains all the C&C session hosts. The chosen procedure was to exclusively read the data having those hosts in place of 'SrcDevices'. The reading power was still limited, so data had to be partitioned:"
   ]
  },
  {
   "cell_type": "code",
   "execution_count": 1,
   "id": "c9ecc5bc",
   "metadata": {},
   "outputs": [],
   "source": [
    "import pandas as pd\n",
    "import os \n",
    "from dbscan2 import dbscan2\n",
    "from sklearn.datasets import make_moons\n",
    "import time\n",
    "from datetime import datetime\n",
    "import numpy as np\n",
    "import gzip"
   ]
  },
  {
   "cell_type": "markdown",
   "id": "cd2791ab",
   "metadata": {},
   "source": [
    "## 1. Memory complexity\n",
    "\n",
    "We'll first look at how much we can downsize our data memory-wise. This is directly linked to computational power. Time complexity (i.e. time to run) is discussed later in this paper."
   ]
  },
  {
   "cell_type": "code",
   "execution_count": 2,
   "id": "cf5bebd8",
   "metadata": {},
   "outputs": [],
   "source": [
    "pd.options.display.float_format = '{:,}'.format"
   ]
  },
  {
   "cell_type": "markdown",
   "id": "841fbd03",
   "metadata": {},
   "source": [
    "Here we read the session hosts list:"
   ]
  },
  {
   "cell_type": "code",
   "execution_count": 3,
   "id": "4f654bf2",
   "metadata": {},
   "outputs": [],
   "source": [
    "sh_file = os.getcwd()[:-4] + 'Data\\\\session_hosts.txt'\n",
    "rt_sh = list(pd.read_csv(sh_file, header=None)[0])"
   ]
  },
  {
   "cell_type": "markdown",
   "id": "b43bf5cd",
   "metadata": {},
   "source": [
    "Here we read a chunk of the data from Day70, and read the first 9mil lines:"
   ]
  },
  {
   "cell_type": "code",
   "execution_count": 4,
   "id": "e98f5642",
   "metadata": {},
   "outputs": [],
   "source": [
    "path = 'D://LA//NetFlow//'\n",
    "df_netflow = pd.read_csv(path + 'N70.bz2', header=None, nrows=9000000)"
   ]
  },
  {
   "cell_type": "code",
   "execution_count": 5,
   "id": "715367dd",
   "metadata": {},
   "outputs": [],
   "source": [
    "headers = (['Time', 'Duration', 'SrcDevice', 'DstDevice', 'Protocol',\n",
    "            'SrcPort', 'DstPort', 'SrcPackets', 'DstPackets', 'SrcBytes', 'DstBytes'])\n",
    "df_netflow.columns = headers"
   ]
  },
  {
   "cell_type": "markdown",
   "id": "b5e6c388",
   "metadata": {},
   "source": [
    "We then deploy the matching procedure:"
   ]
  },
  {
   "cell_type": "code",
   "execution_count": 6,
   "id": "aa3e9653",
   "metadata": {},
   "outputs": [],
   "source": [
    "rt_src_sh = df_netflow[df_netflow['SrcDevice'].isin(rt_sh)]"
   ]
  },
  {
   "cell_type": "code",
   "execution_count": 7,
   "id": "78298382",
   "metadata": {},
   "outputs": [
    {
     "data": {
      "text/html": [
       "<div>\n",
       "<style scoped>\n",
       "    .dataframe tbody tr th:only-of-type {\n",
       "        vertical-align: middle;\n",
       "    }\n",
       "\n",
       "    .dataframe tbody tr th {\n",
       "        vertical-align: top;\n",
       "    }\n",
       "\n",
       "    .dataframe thead th {\n",
       "        text-align: right;\n",
       "    }\n",
       "</style>\n",
       "<table border=\"1\" class=\"dataframe\">\n",
       "  <thead>\n",
       "    <tr style=\"text-align: right;\">\n",
       "      <th></th>\n",
       "      <th>Time</th>\n",
       "      <th>Duration</th>\n",
       "      <th>SrcDevice</th>\n",
       "      <th>DstDevice</th>\n",
       "      <th>Protocol</th>\n",
       "      <th>SrcPort</th>\n",
       "      <th>DstPort</th>\n",
       "      <th>SrcPackets</th>\n",
       "      <th>DstPackets</th>\n",
       "      <th>SrcBytes</th>\n",
       "      <th>DstBytes</th>\n",
       "    </tr>\n",
       "  </thead>\n",
       "  <tbody>\n",
       "    <tr>\n",
       "      <th>31</th>\n",
       "      <td>5961600</td>\n",
       "      <td>0</td>\n",
       "      <td>Comp700191</td>\n",
       "      <td>Comp960080</td>\n",
       "      <td>6</td>\n",
       "      <td>Port39411</td>\n",
       "      <td>443</td>\n",
       "      <td>34</td>\n",
       "      <td>47</td>\n",
       "      <td>8964</td>\n",
       "      <td>46413</td>\n",
       "    </tr>\n",
       "    <tr>\n",
       "      <th>84</th>\n",
       "      <td>5961600</td>\n",
       "      <td>0</td>\n",
       "      <td>Comp939275</td>\n",
       "      <td>Comp275646</td>\n",
       "      <td>17</td>\n",
       "      <td>Port90094</td>\n",
       "      <td>53</td>\n",
       "      <td>1</td>\n",
       "      <td>0</td>\n",
       "      <td>80</td>\n",
       "      <td>0</td>\n",
       "    </tr>\n",
       "    <tr>\n",
       "      <th>85</th>\n",
       "      <td>5961600</td>\n",
       "      <td>0</td>\n",
       "      <td>Comp939275</td>\n",
       "      <td>Comp275646</td>\n",
       "      <td>17</td>\n",
       "      <td>Port93126</td>\n",
       "      <td>53</td>\n",
       "      <td>1</td>\n",
       "      <td>0</td>\n",
       "      <td>80</td>\n",
       "      <td>0</td>\n",
       "    </tr>\n",
       "    <tr>\n",
       "      <th>86</th>\n",
       "      <td>5961600</td>\n",
       "      <td>0</td>\n",
       "      <td>Comp939275</td>\n",
       "      <td>Comp275646</td>\n",
       "      <td>17</td>\n",
       "      <td>Port18069</td>\n",
       "      <td>53</td>\n",
       "      <td>1</td>\n",
       "      <td>0</td>\n",
       "      <td>80</td>\n",
       "      <td>0</td>\n",
       "    </tr>\n",
       "    <tr>\n",
       "      <th>87</th>\n",
       "      <td>5961600</td>\n",
       "      <td>0</td>\n",
       "      <td>Comp939275</td>\n",
       "      <td>Comp275646</td>\n",
       "      <td>17</td>\n",
       "      <td>Port28502</td>\n",
       "      <td>53</td>\n",
       "      <td>1</td>\n",
       "      <td>0</td>\n",
       "      <td>80</td>\n",
       "      <td>0</td>\n",
       "    </tr>\n",
       "    <tr>\n",
       "      <th>...</th>\n",
       "      <td>...</td>\n",
       "      <td>...</td>\n",
       "      <td>...</td>\n",
       "      <td>...</td>\n",
       "      <td>...</td>\n",
       "      <td>...</td>\n",
       "      <td>...</td>\n",
       "      <td>...</td>\n",
       "      <td>...</td>\n",
       "      <td>...</td>\n",
       "      <td>...</td>\n",
       "    </tr>\n",
       "    <tr>\n",
       "      <th>8998385</th>\n",
       "      <td>5966106</td>\n",
       "      <td>1</td>\n",
       "      <td>Comp953804</td>\n",
       "      <td>Comp607039</td>\n",
       "      <td>6</td>\n",
       "      <td>Port66686</td>\n",
       "      <td>Port34623</td>\n",
       "      <td>0</td>\n",
       "      <td>1</td>\n",
       "      <td>0</td>\n",
       "      <td>46</td>\n",
       "    </tr>\n",
       "    <tr>\n",
       "      <th>8998386</th>\n",
       "      <td>5966106</td>\n",
       "      <td>1</td>\n",
       "      <td>Comp953804</td>\n",
       "      <td>Comp607039</td>\n",
       "      <td>6</td>\n",
       "      <td>Port44186</td>\n",
       "      <td>Port17392</td>\n",
       "      <td>0</td>\n",
       "      <td>1</td>\n",
       "      <td>0</td>\n",
       "      <td>46</td>\n",
       "    </tr>\n",
       "    <tr>\n",
       "      <th>8998387</th>\n",
       "      <td>5966106</td>\n",
       "      <td>1</td>\n",
       "      <td>Comp953804</td>\n",
       "      <td>Comp607039</td>\n",
       "      <td>6</td>\n",
       "      <td>Port66307</td>\n",
       "      <td>Port37891</td>\n",
       "      <td>0</td>\n",
       "      <td>1</td>\n",
       "      <td>0</td>\n",
       "      <td>46</td>\n",
       "    </tr>\n",
       "    <tr>\n",
       "      <th>8999165</th>\n",
       "      <td>5966107</td>\n",
       "      <td>0</td>\n",
       "      <td>Comp679250</td>\n",
       "      <td>Comp576031</td>\n",
       "      <td>17</td>\n",
       "      <td>Port95250</td>\n",
       "      <td>514</td>\n",
       "      <td>1</td>\n",
       "      <td>0</td>\n",
       "      <td>1500</td>\n",
       "      <td>0</td>\n",
       "    </tr>\n",
       "    <tr>\n",
       "      <th>8999522</th>\n",
       "      <td>5966107</td>\n",
       "      <td>0</td>\n",
       "      <td>Comp100143</td>\n",
       "      <td>Comp576031</td>\n",
       "      <td>17</td>\n",
       "      <td>Port84879</td>\n",
       "      <td>514</td>\n",
       "      <td>2</td>\n",
       "      <td>0</td>\n",
       "      <td>1192</td>\n",
       "      <td>0</td>\n",
       "    </tr>\n",
       "  </tbody>\n",
       "</table>\n",
       "<p>337035 rows × 11 columns</p>\n",
       "</div>"
      ],
      "text/plain": [
       "            Time  Duration   SrcDevice   DstDevice  Protocol    SrcPort  \\\n",
       "31       5961600         0  Comp700191  Comp960080         6  Port39411   \n",
       "84       5961600         0  Comp939275  Comp275646        17  Port90094   \n",
       "85       5961600         0  Comp939275  Comp275646        17  Port93126   \n",
       "86       5961600         0  Comp939275  Comp275646        17  Port18069   \n",
       "87       5961600         0  Comp939275  Comp275646        17  Port28502   \n",
       "...          ...       ...         ...         ...       ...        ...   \n",
       "8998385  5966106         1  Comp953804  Comp607039         6  Port66686   \n",
       "8998386  5966106         1  Comp953804  Comp607039         6  Port44186   \n",
       "8998387  5966106         1  Comp953804  Comp607039         6  Port66307   \n",
       "8999165  5966107         0  Comp679250  Comp576031        17  Port95250   \n",
       "8999522  5966107         0  Comp100143  Comp576031        17  Port84879   \n",
       "\n",
       "           DstPort  SrcPackets  DstPackets  SrcBytes  DstBytes  \n",
       "31             443          34          47      8964     46413  \n",
       "84              53           1           0        80         0  \n",
       "85              53           1           0        80         0  \n",
       "86              53           1           0        80         0  \n",
       "87              53           1           0        80         0  \n",
       "...            ...         ...         ...       ...       ...  \n",
       "8998385  Port34623           0           1         0        46  \n",
       "8998386  Port17392           0           1         0        46  \n",
       "8998387  Port37891           0           1         0        46  \n",
       "8999165        514           1           0      1500         0  \n",
       "8999522        514           2           0      1192         0  \n",
       "\n",
       "[337035 rows x 11 columns]"
      ]
     },
     "execution_count": 7,
     "metadata": {},
     "output_type": "execute_result"
    }
   ],
   "source": [
    "rt_src_sh"
   ]
  },
  {
   "cell_type": "markdown",
   "id": "16c617c4",
   "metadata": {},
   "source": [
    "We're interested, in percentages, how much we've managed to cut down on data. The result is the following:"
   ]
  },
  {
   "cell_type": "code",
   "execution_count": 8,
   "id": "7ed5ed6e",
   "metadata": {},
   "outputs": [
    {
     "name": "stdout",
     "output_type": "stream",
     "text": [
      "We are using 3.7448333333333332 % of the data\n"
     ]
    }
   ],
   "source": [
    "print('We are using {} % of the data'.format(rt_src_sh.shape[0]/df_netflow.shape[0]*100))"
   ]
  },
  {
   "cell_type": "markdown",
   "id": "438097c6",
   "metadata": {},
   "source": [
    "The result isn't great. We're aiming to a reduction of at least up to 1% of the initial data. \n",
    "\n",
    "We'll try the same procedure on Day71, on 9 million lines as well. However, we ought to keep in mind that Day71 is a weekend day:"
   ]
  },
  {
   "cell_type": "code",
   "execution_count": 9,
   "id": "ece1961e",
   "metadata": {},
   "outputs": [],
   "source": [
    "path = 'D://LA//NetFlow//'\n",
    "df_netflow = pd.read_csv(path + 'N71.bz2', header=None, nrows=9000000)"
   ]
  },
  {
   "cell_type": "code",
   "execution_count": 10,
   "id": "82f23fc0",
   "metadata": {},
   "outputs": [],
   "source": [
    "headers = (['Time', 'Duration', 'SrcDevice', 'DstDevice', 'Protocol',\n",
    "            'SrcPort', 'DstPort', 'SrcPackets', 'DstPackets', 'SrcBytes', 'DstBytes'])\n",
    "df_netflow.columns = headers"
   ]
  },
  {
   "cell_type": "code",
   "execution_count": 11,
   "id": "3da89301",
   "metadata": {},
   "outputs": [],
   "source": [
    "rt_src_sh = df_netflow[df_netflow['SrcDevice'].isin(rt_sh)]"
   ]
  },
  {
   "cell_type": "code",
   "execution_count": 13,
   "id": "2bb85aef",
   "metadata": {},
   "outputs": [
    {
     "data": {
      "text/html": [
       "<div>\n",
       "<style scoped>\n",
       "    .dataframe tbody tr th:only-of-type {\n",
       "        vertical-align: middle;\n",
       "    }\n",
       "\n",
       "    .dataframe tbody tr th {\n",
       "        vertical-align: top;\n",
       "    }\n",
       "\n",
       "    .dataframe thead th {\n",
       "        text-align: right;\n",
       "    }\n",
       "</style>\n",
       "<table border=\"1\" class=\"dataframe\">\n",
       "  <thead>\n",
       "    <tr style=\"text-align: right;\">\n",
       "      <th></th>\n",
       "      <th>Time</th>\n",
       "      <th>Duration</th>\n",
       "      <th>SrcDevice</th>\n",
       "      <th>DstDevice</th>\n",
       "      <th>Protocol</th>\n",
       "      <th>SrcPort</th>\n",
       "      <th>DstPort</th>\n",
       "      <th>SrcPackets</th>\n",
       "      <th>DstPackets</th>\n",
       "      <th>SrcBytes</th>\n",
       "      <th>DstBytes</th>\n",
       "    </tr>\n",
       "  </thead>\n",
       "  <tbody>\n",
       "    <tr>\n",
       "      <th>56</th>\n",
       "      <td>6048000</td>\n",
       "      <td>0</td>\n",
       "      <td>Comp700191</td>\n",
       "      <td>Comp005591</td>\n",
       "      <td>6</td>\n",
       "      <td>Port38876</td>\n",
       "      <td>443</td>\n",
       "      <td>21</td>\n",
       "      <td>25</td>\n",
       "      <td>6786</td>\n",
       "      <td>19902</td>\n",
       "    </tr>\n",
       "    <tr>\n",
       "      <th>1482</th>\n",
       "      <td>6048000</td>\n",
       "      <td>1</td>\n",
       "      <td>Comp697805</td>\n",
       "      <td>Comp275646</td>\n",
       "      <td>17</td>\n",
       "      <td>Port54145</td>\n",
       "      <td>53</td>\n",
       "      <td>1</td>\n",
       "      <td>0</td>\n",
       "      <td>60</td>\n",
       "      <td>0</td>\n",
       "    </tr>\n",
       "    <tr>\n",
       "      <th>2153</th>\n",
       "      <td>6048000</td>\n",
       "      <td>115</td>\n",
       "      <td>Comp274254</td>\n",
       "      <td>ActiveDirectory</td>\n",
       "      <td>17</td>\n",
       "      <td>Port33855</td>\n",
       "      <td>53</td>\n",
       "      <td>1</td>\n",
       "      <td>1</td>\n",
       "      <td>69</td>\n",
       "      <td>69</td>\n",
       "    </tr>\n",
       "    <tr>\n",
       "      <th>2762</th>\n",
       "      <td>6048001</td>\n",
       "      <td>0</td>\n",
       "      <td>Comp511892</td>\n",
       "      <td>Comp576031</td>\n",
       "      <td>17</td>\n",
       "      <td>Port07887</td>\n",
       "      <td>514</td>\n",
       "      <td>1</td>\n",
       "      <td>0</td>\n",
       "      <td>308</td>\n",
       "      <td>0</td>\n",
       "    </tr>\n",
       "    <tr>\n",
       "      <th>3598</th>\n",
       "      <td>6048001</td>\n",
       "      <td>1</td>\n",
       "      <td>Comp700191</td>\n",
       "      <td>Comp886995</td>\n",
       "      <td>6</td>\n",
       "      <td>Port78592</td>\n",
       "      <td>443</td>\n",
       "      <td>21</td>\n",
       "      <td>22</td>\n",
       "      <td>7522</td>\n",
       "      <td>13750</td>\n",
       "    </tr>\n",
       "    <tr>\n",
       "      <th>...</th>\n",
       "      <td>...</td>\n",
       "      <td>...</td>\n",
       "      <td>...</td>\n",
       "      <td>...</td>\n",
       "      <td>...</td>\n",
       "      <td>...</td>\n",
       "      <td>...</td>\n",
       "      <td>...</td>\n",
       "      <td>...</td>\n",
       "      <td>...</td>\n",
       "      <td>...</td>\n",
       "    </tr>\n",
       "    <tr>\n",
       "      <th>8999188</th>\n",
       "      <td>6053433</td>\n",
       "      <td>1</td>\n",
       "      <td>Comp267441</td>\n",
       "      <td>Comp576031</td>\n",
       "      <td>17</td>\n",
       "      <td>Port99160</td>\n",
       "      <td>514</td>\n",
       "      <td>4</td>\n",
       "      <td>0</td>\n",
       "      <td>4923</td>\n",
       "      <td>0</td>\n",
       "    </tr>\n",
       "    <tr>\n",
       "      <th>8999363</th>\n",
       "      <td>6053433</td>\n",
       "      <td>2</td>\n",
       "      <td>Comp700191</td>\n",
       "      <td>Comp324742</td>\n",
       "      <td>6</td>\n",
       "      <td>Port25507</td>\n",
       "      <td>Port59938</td>\n",
       "      <td>185</td>\n",
       "      <td>292</td>\n",
       "      <td>22614</td>\n",
       "      <td>339101</td>\n",
       "    </tr>\n",
       "    <tr>\n",
       "      <th>8999794</th>\n",
       "      <td>6053434</td>\n",
       "      <td>0</td>\n",
       "      <td>Comp274254</td>\n",
       "      <td>Comp576031</td>\n",
       "      <td>17</td>\n",
       "      <td>Port14258</td>\n",
       "      <td>514</td>\n",
       "      <td>11</td>\n",
       "      <td>0</td>\n",
       "      <td>9445</td>\n",
       "      <td>0</td>\n",
       "    </tr>\n",
       "    <tr>\n",
       "      <th>8999858</th>\n",
       "      <td>6053434</td>\n",
       "      <td>0</td>\n",
       "      <td>Comp256041</td>\n",
       "      <td>Comp760873</td>\n",
       "      <td>17</td>\n",
       "      <td>Port72566</td>\n",
       "      <td>427</td>\n",
       "      <td>0</td>\n",
       "      <td>1</td>\n",
       "      <td>0</td>\n",
       "      <td>422</td>\n",
       "    </tr>\n",
       "    <tr>\n",
       "      <th>8999886</th>\n",
       "      <td>6053434</td>\n",
       "      <td>0</td>\n",
       "      <td>Comp021706</td>\n",
       "      <td>Comp576031</td>\n",
       "      <td>17</td>\n",
       "      <td>Port48836</td>\n",
       "      <td>514</td>\n",
       "      <td>1</td>\n",
       "      <td>0</td>\n",
       "      <td>1396</td>\n",
       "      <td>0</td>\n",
       "    </tr>\n",
       "  </tbody>\n",
       "</table>\n",
       "<p>40062 rows × 11 columns</p>\n",
       "</div>"
      ],
      "text/plain": [
       "            Time  Duration   SrcDevice        DstDevice  Protocol    SrcPort  \\\n",
       "56       6048000         0  Comp700191       Comp005591         6  Port38876   \n",
       "1482     6048000         1  Comp697805       Comp275646        17  Port54145   \n",
       "2153     6048000       115  Comp274254  ActiveDirectory        17  Port33855   \n",
       "2762     6048001         0  Comp511892       Comp576031        17  Port07887   \n",
       "3598     6048001         1  Comp700191       Comp886995         6  Port78592   \n",
       "...          ...       ...         ...              ...       ...        ...   \n",
       "8999188  6053433         1  Comp267441       Comp576031        17  Port99160   \n",
       "8999363  6053433         2  Comp700191       Comp324742         6  Port25507   \n",
       "8999794  6053434         0  Comp274254       Comp576031        17  Port14258   \n",
       "8999858  6053434         0  Comp256041       Comp760873        17  Port72566   \n",
       "8999886  6053434         0  Comp021706       Comp576031        17  Port48836   \n",
       "\n",
       "           DstPort  SrcPackets  DstPackets  SrcBytes  DstBytes  \n",
       "56             443          21          25      6786     19902  \n",
       "1482            53           1           0        60         0  \n",
       "2153            53           1           1        69        69  \n",
       "2762           514           1           0       308         0  \n",
       "3598           443          21          22      7522     13750  \n",
       "...            ...         ...         ...       ...       ...  \n",
       "8999188        514           4           0      4923         0  \n",
       "8999363  Port59938         185         292     22614    339101  \n",
       "8999794        514          11           0      9445         0  \n",
       "8999858        427           0           1         0       422  \n",
       "8999886        514           1           0      1396         0  \n",
       "\n",
       "[40062 rows x 11 columns]"
      ]
     },
     "execution_count": 13,
     "metadata": {},
     "output_type": "execute_result"
    }
   ],
   "source": [
    "rt_src_sh"
   ]
  },
  {
   "cell_type": "code",
   "execution_count": 14,
   "id": "08e06718",
   "metadata": {},
   "outputs": [
    {
     "name": "stdout",
     "output_type": "stream",
     "text": [
      "We are using 0.4451333333333333 % of the data\n"
     ]
    }
   ],
   "source": [
    "print('We are using {} % of the data'.format(rt_src_sh.shape[0]/df_netflow.shape[0]*100))"
   ]
  },
  {
   "cell_type": "markdown",
   "id": "36976dc5",
   "metadata": {},
   "source": [
    "Day 71 turned out much better. However, as mentioned, this was to be expected, given it's either a Saturday or Sunday (NetFlow data starts from Day2 so we can't be sure which)."
   ]
  },
  {
   "cell_type": "markdown",
   "id": "0e56baee",
   "metadata": {},
   "source": [
    "**Implementing DBSCAN**\n",
    "\n",
    "We cannot hope to visualise on the whole dataset too well, but we can try to implement a form of clustering approach to verify the tendencies of our partitioned data. We'll be using Day71 for that:"
   ]
  },
  {
   "cell_type": "code",
   "execution_count": 15,
   "id": "ad7ad918",
   "metadata": {},
   "outputs": [
    {
     "name": "stderr",
     "output_type": "stream",
     "text": [
      "<ipython-input-15-24ddb5661f10>:25: SettingWithCopyWarning: \n",
      "A value is trying to be set on a copy of a slice from a DataFrame.\n",
      "Try using .loc[row_indexer,col_indexer] = value instead\n",
      "\n",
      "See the caveats in the documentation: https://pandas.pydata.org/pandas-docs/stable/user_guide/indexing.html#returning-a-view-versus-a-copy\n",
      "  rt_src_sh['SrcDevice'] = rt_src_sh['SrcDevice'].map(src_comps_dict)\n",
      "<ipython-input-15-24ddb5661f10>:26: SettingWithCopyWarning: \n",
      "A value is trying to be set on a copy of a slice from a DataFrame.\n",
      "Try using .loc[row_indexer,col_indexer] = value instead\n",
      "\n",
      "See the caveats in the documentation: https://pandas.pydata.org/pandas-docs/stable/user_guide/indexing.html#returning-a-view-versus-a-copy\n",
      "  rt_src_sh['DstDevice'] = rt_src_sh['DstDevice'].map(dst_comps_dict)\n",
      "<ipython-input-15-24ddb5661f10>:27: SettingWithCopyWarning: \n",
      "A value is trying to be set on a copy of a slice from a DataFrame.\n",
      "Try using .loc[row_indexer,col_indexer] = value instead\n",
      "\n",
      "See the caveats in the documentation: https://pandas.pydata.org/pandas-docs/stable/user_guide/indexing.html#returning-a-view-versus-a-copy\n",
      "  rt_src_sh['SrcPort'] = rt_src_sh['SrcPort'].map(src_port_dict)\n",
      "<ipython-input-15-24ddb5661f10>:28: SettingWithCopyWarning: \n",
      "A value is trying to be set on a copy of a slice from a DataFrame.\n",
      "Try using .loc[row_indexer,col_indexer] = value instead\n",
      "\n",
      "See the caveats in the documentation: https://pandas.pydata.org/pandas-docs/stable/user_guide/indexing.html#returning-a-view-versus-a-copy\n",
      "  rt_src_sh['DstPort'] = rt_src_sh['DstPort'].map(dst_port_dict)\n"
     ]
    }
   ],
   "source": [
    "# source computers dictionary\n",
    "src_comps = rt_src_sh['SrcDevice'].unique()\n",
    "src_comps_dict= {}\n",
    "for i, key in enumerate(src_comps):\n",
    "    src_comps_dict[key] = i\n",
    "    \n",
    "# destination computers ditionary\n",
    "dst_comps = rt_src_sh['DstDevice'].unique()\n",
    "dst_comps_dict= {}\n",
    "for i, key in enumerate(dst_comps):\n",
    "    dst_comps_dict[key] = i\n",
    "    \n",
    "# source port dictionary\n",
    "src_port = rt_src_sh['SrcPort'].unique()\n",
    "src_port_dict= {}\n",
    "for i, key in enumerate(src_port):\n",
    "    src_port_dict[key] = i\n",
    "    \n",
    "# destination port dictionary\n",
    "dst_port = rt_src_sh['DstPort'].unique()\n",
    "dst_port_dict= {}\n",
    "for i, key in enumerate(dst_port):\n",
    "    dst_port_dict[key] = i\n",
    "    \n",
    "rt_src_sh['SrcDevice'] = rt_src_sh['SrcDevice'].map(src_comps_dict)\n",
    "rt_src_sh['DstDevice'] = rt_src_sh['DstDevice'].map(dst_comps_dict)\n",
    "rt_src_sh['SrcPort'] = rt_src_sh['SrcPort'].map(src_port_dict)\n",
    "rt_src_sh['DstPort'] = rt_src_sh['DstPort'].map(dst_port_dict)"
   ]
  },
  {
   "cell_type": "code",
   "execution_count": 16,
   "id": "65f33761",
   "metadata": {},
   "outputs": [
    {
     "name": "stdout",
     "output_type": "stream",
     "text": [
      "Estimated no. of clusters: 1\n",
      "Estimated no. of noise points: 40062\n"
     ]
    }
   ],
   "source": [
    "from sklearn.cluster import DBSCAN\n",
    "db = DBSCAN(eps=0.1, min_samples=10).fit(rt_src_sh)\n",
    "labels = db.labels_\n",
    "\n",
    "no_clusters = len(np.unique(labels) )\n",
    "no_noise = np.sum(np.array(labels) == -1, axis=0)\n",
    "\n",
    "print('Estimated no. of clusters: %d' % no_clusters)\n",
    "print('Estimated no. of noise points: %d' % no_noise)"
   ]
  },
  {
   "cell_type": "markdown",
   "id": "fd32be97",
   "metadata": {},
   "source": [
    "The results are good, estimating a single cluster.\n",
    "\n",
    "We're left with the major problem of further data reduction. So far, not even the C&C set delivered from our succint observations. A thorough analysis of our attempt can be found [here](https://github.com/Galeforse/Advanced-Cyber-Analytics-for-Attack-Detection/blob/main/Alex/DataRed1.pdf) - where we refer to the 'procedure' as the attempt presented in this paper. The document tackles memory complexity."
   ]
  },
  {
   "cell_type": "markdown",
   "id": "b426920d",
   "metadata": {},
   "source": [
    "## 2. Time complexity/Runtime\n",
    "\n",
    "We'll now look at what we can draw from the runtime of our procedures. We'll look at 3 different situations: Once we read the data as we normally would, once we use an na_filter which aims at reducing reading time innately, and in the last case we'll tackle the problem of size complexity by only reading 7 of the 11 data features - hopefully reducing time complexity in the process as well.\n",
    "\n",
    "We make 3 attempts: First on 9 million lines, second on just 1 million, and last on 25 million. The latter presented too much computational force for my device to handle, so thanks to [Gab](https://github.com/Galeforse) for running it for me instead. "
   ]
  },
  {
   "cell_type": "markdown",
   "id": "d862ab08",
   "metadata": {},
   "source": [
    "_Attempt 1 - 9 mil. lines_"
   ]
  },
  {
   "cell_type": "code",
   "execution_count": 17,
   "id": "1f7f9fb5",
   "metadata": {},
   "outputs": [
    {
     "name": "stdout",
     "output_type": "stream",
     "text": [
      "Duration: 0:00:25.837372\n",
      "Duration: 0:00:23.488007\n",
      "Duration: 0:00:19.584288\n"
     ]
    }
   ],
   "source": [
    "start_time = datetime.now()\n",
    "df_netflow = pd.read_csv(path + 'N70.bz2', header=None, nrows=9000000)\n",
    "end_time = datetime.now()\n",
    "print('Duration: {}'.format(end_time - start_time))\n",
    "\n",
    "start_time = datetime.now()\n",
    "df_netflow = pd.read_csv(path + 'N70.bz2', header=None, nrows=9000000, na_filter=False)\n",
    "end_time = datetime.now()\n",
    "print('Duration: {}'.format(end_time - start_time))\n",
    "\n",
    "start_time = datetime.now()\n",
    "df_netflow = pd.read_csv(path + 'N70.bz2', header=None, nrows=9000000, na_filter=False, usecols=range(0,7))\n",
    "end_time = datetime.now()\n",
    "print('Duration: {}'.format(end_time - start_time))"
   ]
  },
  {
   "cell_type": "markdown",
   "id": "953b3cc2",
   "metadata": {},
   "source": [
    "_Attempt 2 - 1 mil. lines_"
   ]
  },
  {
   "cell_type": "code",
   "execution_count": 19,
   "id": "3cf930a5",
   "metadata": {},
   "outputs": [
    {
     "name": "stdout",
     "output_type": "stream",
     "text": [
      "Duration: 0:00:02.297687\n",
      "Duration: 0:00:02.513907\n",
      "Duration: 0:00:02.463302\n"
     ]
    }
   ],
   "source": [
    "start_time = datetime.now()\n",
    "df_netflow = pd.read_csv(path + 'N70.bz2', header=None, nrows=1000000)\n",
    "end_time = datetime.now()\n",
    "F1 = end_time - start_time\n",
    "print('Duration: {}'.format((F1)))\n",
    "\n",
    "start_time = datetime.now()\n",
    "df_netflow = pd.read_csv(path + 'N70.bz2', header=None, nrows=1000000, na_filter=False)\n",
    "end_time = datetime.now()\n",
    "F2 = end_time - start_time\n",
    "print('Duration: {}'.format(F2))\n",
    "\n",
    "start_time = datetime.now()\n",
    "df_netflow = pd.read_csv(path + 'N70.bz2', header=None, nrows=1000000, na_filter=False, usecols=range(0,7))\n",
    "end_time = datetime.now()\n",
    "F3 = end_time - start_time\n",
    "print('Duration: {}'.format(F3))"
   ]
  },
  {
   "cell_type": "markdown",
   "id": "d6dcf052",
   "metadata": {},
   "source": [
    "_Attempt 3 - 25 mil. lines_"
   ]
  },
  {
   "cell_type": "code",
   "execution_count": null,
   "id": "d3580550",
   "metadata": {},
   "outputs": [
    {
     "name": "stdout",
     "output_type": "stream",
     "text": [
      "Duration: 0:01:57.264834\n"
     ]
    }
   ],
   "source": [
    "# start_time = datetime.now()\n",
    "# df_netflow = pd.read_csv(path + 'N70.bz2', header=None, nrows=25000000)\n",
    "# end_time = datetime.now()\n",
    "# F1 = end_time - start_time\n",
    "# print('Duration: {}'.format((F1)))\n",
    "\n",
    "# start_time = datetime.now()\n",
    "# df_netflow = pd.read_csv(path + 'N70.bz2', header=None, nrows=25000000, na_filter=False)\n",
    "# end_time = datetime.now()\n",
    "# F2 = end_time - start_time\n",
    "# print('Duration: {}'.format(F2))\n",
    "\n",
    "# start_time = datetime.now()\n",
    "# df_netflow = pd.read_csv(path + 'N70.bz2', header=None, nrows=25000000, na_filter=False, usecols=range(0,7))\n",
    "# end_time = datetime.now()\n",
    "# F3 = end_time - start_time\n",
    "# print('Duration: {}'.format(F3))"
   ]
  },
  {
   "attachments": {
    "image.png": {
     "image/png": "[encoded data removed]"
    }
   },
   "cell_type": "markdown",
   "id": "6d6a960d",
   "metadata": {},
   "source": [
    "![image.png](attachment:image.png)"
   ]
  },
  {
   "cell_type": "markdown",
   "id": "b20dc607",
   "metadata": {},
   "source": [
    "The results became increasingly underwhelming, much like the memory complexity case, as we attempted to read more lines of the dataset. We've also looked into other reading techniques, undocumented here, which were mostly unsuccessfull. \n",
    "\n",
    "The mathematical analyis of temporal complexity reduction can be found [here](), similarly to the memory complexity one."
   ]
  },
  {
   "cell_type": "markdown",
   "id": "9e92aaec",
   "metadata": {},
   "source": [
    "## Conclusions\n",
    "\n",
    "The results achieved by our team with the NetFlow dataset presented potential of being much more elaborate than the ATI dataset. However, the enormous total size of roughly 1TB is proving itself too difficult to work around. The compressed size of each file can be found [here](https://github.com/Galeforse/Advanced-Cyber-Analytics-for-Attack-Detection/blob/main/Alex/NetFlow/Size.txt), and the average uncompressed size assuming a good observed compression rate of ~15% can be found [here](https://github.com/Galeforse/Advanced-Cyber-Analytics-for-Attack-Detection/blob/main/Alex/NetFlow/AverageSize.txt). The numbers for the compressed sizes are copied [directly from the NetFlow dir](https://csr.lanl.gov/data-fence/1624810951/vDF2KGOyk2BVpCsasFqDIxkbUvA=/unified-host-network-dataset-2017/netflow.html).\n",
    "\n",
    "As seen in the [memory complexity](https://github.com/Galeforse/Advanced-Cyber-Analytics-for-Attack-Detection/blob/main/Alex/NetFlow/DataRed1.pdf) and [time complexity]() analysis' respectively, our attempts to remediate the costs have been vastly unsuccessful. These concerns, coupled with the difficulty of running models on such large scale and interpret results, led our team to ultimately abandon this path and refocus all our task force on the [ATI Dataset](https://github.com/Galeforse/Advanced-Cyber-Analytics-for-Attack-Detection/tree/main/Data) instead. "
   ]
  },
  {
   "cell_type": "markdown",
   "id": "3306f6f7",
   "metadata": {},
   "source": [
    "**References**"
   ]
  }
 ],
 "metadata": {
  "kernelspec": {
   "display_name": "Python 3",
   "language": "python",
   "name": "python3"
  },
  "language_info": {
   "codemirror_mode": {
    "name": "ipython",
    "version": 3
   },
   "file_extension": ".py",
   "mimetype": "text/x-python",
   "name": "python",
   "nbconvert_exporter": "python",
   "pygments_lexer": "ipython3",
   "version": "3.9.5"
  }
 },
 "nbformat": 4,
 "nbformat_minor": 5
}
