{
 "cells": [
  {
   "cell_type": "code",
   "execution_count": 3,
   "id": "2892353c",
   "metadata": {},
   "outputs": [
    {
     "name": "stderr",
     "output_type": "stream",
     "text": [
      "Warning message:\n",
      "\"package 'dplyr' was built under R version 3.6.3\"\n",
      "Attaching package: 'dplyr'\n",
      "\n",
      "The following objects are masked from 'package:stats':\n",
      "\n",
      "    filter, lag\n",
      "\n",
      "The following objects are masked from 'package:base':\n",
      "\n",
      "    intersect, setdiff, setequal, union\n",
      "\n"
     ]
    }
   ],
   "source": [
    "# install.packages(c(\"RDFTensor\", \"dplyr\"))\n",
    "\n",
    "library(dplyr)\n",
    "library(RDFTensor)"
   ]
  },
  {
   "cell_type": "code",
   "execution_count": 1,
   "id": "a87ce659",
   "metadata": {},
   "outputs": [],
   "source": [
    "setwd(\"D://LA//ATI Data\")"
   ]
  },
  {
   "cell_type": "code",
   "execution_count": 4,
   "id": "2017609f",
   "metadata": {},
   "outputs": [],
   "source": [
    "Auth <- read.table(file=\"Summaries//Just_Auth//LA.txt\", header=T, sep=\",\")\n",
    "Auth <- Auth[, -1]"
   ]
  },
  {
   "cell_type": "code",
   "execution_count": 6,
   "id": "ca983660",
   "metadata": {},
   "outputs": [
    {
     "data": {
      "text/html": [
       "<table>\n",
       "<thead><tr><th scope=col>UserName</th><th scope=col>SrcDevice</th><th scope=col>DstDevice</th><th scope=col>AuthType</th><th scope=col>Failure</th><th scope=col>DailyCount</th></tr></thead>\n",
       "<tbody>\n",
       "\t<tr><td>User035855         </td><td>Comp808475         </td><td>Comp081330         </td><td>TGS                </td><td>0                  </td><td> 17                </td></tr>\n",
       "\t<tr><td>Comp655251$        </td><td>Comp655251         </td><td>ActiveDirectory    </td><td>NetworkLogon       </td><td>0                  </td><td>350                </td></tr>\n",
       "\t<tr><td>User762066         </td><td>Comp306129         </td><td>ActiveDirectory    </td><td>TGS                </td><td>0                  </td><td> 22                </td></tr>\n",
       "\t<tr><td>User384215         </td><td>Comp095190         </td><td>EnterpriseAppServer</td><td>NetworkLogon       </td><td>0                  </td><td> 35                </td></tr>\n",
       "\t<tr><td>User043263         </td><td>Comp883307         </td><td>Comp384394         </td><td>TGS                </td><td>0                  </td><td>  2                </td></tr>\n",
       "\t<tr><td>User631552         </td><td>Comp621781         </td><td>Comp915658         </td><td>NetworkLogon       </td><td>0                  </td><td>  1                </td></tr>\n",
       "</tbody>\n",
       "</table>\n"
      ],
      "text/latex": [
       "\\begin{tabular}{r|llllll}\n",
       " UserName & SrcDevice & DstDevice & AuthType & Failure & DailyCount\\\\\n",
       "\\hline\n",
       "\t User035855          & Comp808475          & Comp081330          & TGS                 & 0                   &  17                \\\\\n",
       "\t Comp655251\\$       & Comp655251          & ActiveDirectory     & NetworkLogon        & 0                   & 350                \\\\\n",
       "\t User762066          & Comp306129          & ActiveDirectory     & TGS                 & 0                   &  22                \\\\\n",
       "\t User384215          & Comp095190          & EnterpriseAppServer & NetworkLogon        & 0                   &  35                \\\\\n",
       "\t User043263          & Comp883307          & Comp384394          & TGS                 & 0                   &   2                \\\\\n",
       "\t User631552          & Comp621781          & Comp915658          & NetworkLogon        & 0                   &   1                \\\\\n",
       "\\end{tabular}\n"
      ],
      "text/markdown": [
       "\n",
       "| UserName | SrcDevice | DstDevice | AuthType | Failure | DailyCount |\n",
       "|---|---|---|---|---|---|\n",
       "| User035855          | Comp808475          | Comp081330          | TGS                 | 0                   |  17                 |\n",
       "| Comp655251$         | Comp655251          | ActiveDirectory     | NetworkLogon        | 0                   | 350                 |\n",
       "| User762066          | Comp306129          | ActiveDirectory     | TGS                 | 0                   |  22                 |\n",
       "| User384215          | Comp095190          | EnterpriseAppServer | NetworkLogon        | 0                   |  35                 |\n",
       "| User043263          | Comp883307          | Comp384394          | TGS                 | 0                   |   2                 |\n",
       "| User631552          | Comp621781          | Comp915658          | NetworkLogon        | 0                   |   1                 |\n",
       "\n"
      ],
      "text/plain": [
       "  UserName    SrcDevice  DstDevice           AuthType     Failure DailyCount\n",
       "1 User035855  Comp808475 Comp081330          TGS          0        17       \n",
       "2 Comp655251$ Comp655251 ActiveDirectory     NetworkLogon 0       350       \n",
       "3 User762066  Comp306129 ActiveDirectory     TGS          0        22       \n",
       "4 User384215  Comp095190 EnterpriseAppServer NetworkLogon 0        35       \n",
       "5 User043263  Comp883307 Comp384394          TGS          0         2       \n",
       "6 User631552  Comp621781 Comp915658          NetworkLogon 0         1       "
      ]
     },
     "metadata": {},
     "output_type": "display_data"
    },
    {
     "data": {
      "text/html": [
       "<ol class=list-inline>\n",
       "\t<li>15953681</li>\n",
       "\t<li>6</li>\n",
       "</ol>\n"
      ],
      "text/latex": [
       "\\begin{enumerate*}\n",
       "\\item 15953681\n",
       "\\item 6\n",
       "\\end{enumerate*}\n"
      ],
      "text/markdown": [
       "1. 15953681\n",
       "2. 6\n",
       "\n",
       "\n"
      ],
      "text/plain": [
       "[1] 15953681        6"
      ]
     },
     "metadata": {},
     "output_type": "display_data"
    },
    {
     "name": "stdout",
     "output_type": "stream",
     "text": [
      "'data.frame':\t15953681 obs. of  6 variables:\n",
      " $ UserName  : chr  \"User035855\" \"Comp655251$\" \"User762066\" \"User384215\" ...\n",
      " $ SrcDevice : chr  \"Comp808475\" \"Comp655251\" \"Comp306129\" \"Comp095190\" ...\n",
      " $ DstDevice : chr  \"Comp081330\" \"ActiveDirectory\" \"ActiveDirectory\" \"EnterpriseAppServer\" ...\n",
      " $ AuthType  : chr  \"TGS\" \"NetworkLogon\" \"TGS\" \"NetworkLogon\" ...\n",
      " $ Failure   : int  0 0 0 0 0 0 0 0 0 0 ...\n",
      " $ DailyCount: int  17 350 22 35 2 1 14 78 2 4 ...\n"
     ]
    }
   ],
   "source": [
    "head(Auth)\n",
    "dim(Auth)\n",
    "Auth %>% mutate(across(where(is.factor), as.character)) -> Auth\n",
    "\n",
    "str(Auth)"
   ]
  },
  {
   "cell_type": "markdown",
   "id": "f09593af",
   "metadata": {},
   "source": [
    "### User179746"
   ]
  },
  {
   "cell_type": "code",
   "execution_count": 7,
   "id": "0b840a7a",
   "metadata": {},
   "outputs": [],
   "source": [
    "U17 <- Auth[Auth$UserName=='User179746', ]"
   ]
  },
  {
   "cell_type": "code",
   "execution_count": 35,
   "id": "36f935eb",
   "metadata": {},
   "outputs": [],
   "source": [
    "df<- as.data.frame(cbind(Src=U17$SrcDevice, Dst=U17$DstDevice, Fail=U17$Failure))"
   ]
  },
  {
   "cell_type": "code",
   "execution_count": 36,
   "id": "39becb83",
   "metadata": {},
   "outputs": [
    {
     "data": {
      "text/html": [
       "<table>\n",
       "<thead><tr><th scope=col>Src</th><th scope=col>Dst</th><th scope=col>Fail</th></tr></thead>\n",
       "<tbody>\n",
       "\t<tr><td>Comp599155     </td><td>None           </td><td>0              </td></tr>\n",
       "\t<tr><td>Comp599155     </td><td>None           </td><td>0              </td></tr>\n",
       "\t<tr><td>Comp599155     </td><td>None           </td><td>0              </td></tr>\n",
       "\t<tr><td>Comp679250     </td><td>Comp599155     </td><td>0              </td></tr>\n",
       "\t<tr><td>Comp547871     </td><td>ActiveDirectory</td><td>1              </td></tr>\n",
       "\t<tr><td>Comp679250     </td><td>Comp599155     </td><td>0              </td></tr>\n",
       "</tbody>\n",
       "</table>\n"
      ],
      "text/latex": [
       "\\begin{tabular}{r|lll}\n",
       " Src & Dst & Fail\\\\\n",
       "\\hline\n",
       "\t Comp599155      & None            & 0              \\\\\n",
       "\t Comp599155      & None            & 0              \\\\\n",
       "\t Comp599155      & None            & 0              \\\\\n",
       "\t Comp679250      & Comp599155      & 0              \\\\\n",
       "\t Comp547871      & ActiveDirectory & 1              \\\\\n",
       "\t Comp679250      & Comp599155      & 0              \\\\\n",
       "\\end{tabular}\n"
      ],
      "text/markdown": [
       "\n",
       "| Src | Dst | Fail |\n",
       "|---|---|---|\n",
       "| Comp599155      | None            | 0               |\n",
       "| Comp599155      | None            | 0               |\n",
       "| Comp599155      | None            | 0               |\n",
       "| Comp679250      | Comp599155      | 0               |\n",
       "| Comp547871      | ActiveDirectory | 1               |\n",
       "| Comp679250      | Comp599155      | 0               |\n",
       "\n"
      ],
      "text/plain": [
       "  Src        Dst             Fail\n",
       "1 Comp599155 None            0   \n",
       "2 Comp599155 None            0   \n",
       "3 Comp599155 None            0   \n",
       "4 Comp679250 Comp599155      0   \n",
       "5 Comp547871 ActiveDirectory 1   \n",
       "6 Comp679250 Comp599155      0   "
      ]
     },
     "metadata": {},
     "output_type": "display_data"
    },
    {
     "data": {
      "text/html": [
       "<ol class=list-inline>\n",
       "\t<li>57</li>\n",
       "\t<li>3</li>\n",
       "</ol>\n"
      ],
      "text/latex": [
       "\\begin{enumerate*}\n",
       "\\item 57\n",
       "\\item 3\n",
       "\\end{enumerate*}\n"
      ],
      "text/markdown": [
       "1. 57\n",
       "2. 3\n",
       "\n",
       "\n"
      ],
      "text/plain": [
       "[1] 57  3"
      ]
     },
     "metadata": {},
     "output_type": "display_data"
    }
   ],
   "source": [
    "head(df)\n",
    "dim(df)"
   ]
  },
  {
   "cell_type": "code",
   "execution_count": 37,
   "id": "1c0c0bb6",
   "metadata": {},
   "outputs": [],
   "source": [
    "SrcT <- tapply(df$Src, df$Src)\n",
    "DstT <- tapply(df$Dst, df$Dst)\n",
    "\n",
    "dm <- as.matrix(cbind(SrcT, DstT, df$Fail))"
   ]
  },
  {
   "cell_type": "code",
   "execution_count": 54,
   "id": "6027943e",
   "metadata": {},
   "outputs": [
    {
     "data": {
      "text/html": [
       "<table>\n",
       "<thead><tr><th scope=col>SrcT</th><th scope=col>DstT</th><th scope=col></th></tr></thead>\n",
       "<tbody>\n",
       "\t<tr><td>3 </td><td>25</td><td>1 </td></tr>\n",
       "\t<tr><td>3 </td><td>25</td><td>1 </td></tr>\n",
       "\t<tr><td>3 </td><td>25</td><td>1 </td></tr>\n",
       "\t<tr><td>4 </td><td>14</td><td>1 </td></tr>\n",
       "\t<tr><td>2 </td><td> 1</td><td>2 </td></tr>\n",
       "\t<tr><td>4 </td><td>14</td><td>1 </td></tr>\n",
       "</tbody>\n",
       "</table>\n"
      ],
      "text/latex": [
       "\\begin{tabular}{lll}\n",
       " SrcT & DstT & \\\\\n",
       "\\hline\n",
       "\t 3  & 25 & 1 \\\\\n",
       "\t 3  & 25 & 1 \\\\\n",
       "\t 3  & 25 & 1 \\\\\n",
       "\t 4  & 14 & 1 \\\\\n",
       "\t 2  &  1 & 2 \\\\\n",
       "\t 4  & 14 & 1 \\\\\n",
       "\\end{tabular}\n"
      ],
      "text/markdown": [
       "\n",
       "| SrcT | DstT |  |\n",
       "|---|---|---|\n",
       "| 3  | 25 | 1  |\n",
       "| 3  | 25 | 1  |\n",
       "| 3  | 25 | 1  |\n",
       "| 4  | 14 | 1  |\n",
       "| 2  |  1 | 2  |\n",
       "| 4  | 14 | 1  |\n",
       "\n"
      ],
      "text/plain": [
       "     SrcT DstT  \n",
       "[1,] 3    25   1\n",
       "[2,] 3    25   1\n",
       "[3,] 3    25   1\n",
       "[4,] 4    14   1\n",
       "[5,] 2     1   2\n",
       "[6,] 4    14   1"
      ]
     },
     "metadata": {},
     "output_type": "display_data"
    },
    {
     "data": {
      "text/html": [
       "<table>\n",
       "<thead><tr><th scope=col>Src</th><th scope=col>Dst</th><th scope=col>Fail</th></tr></thead>\n",
       "<tbody>\n",
       "\t<tr><td>Comp599155     </td><td>None           </td><td>0              </td></tr>\n",
       "\t<tr><td>Comp599155     </td><td>None           </td><td>0              </td></tr>\n",
       "\t<tr><td>Comp599155     </td><td>None           </td><td>0              </td></tr>\n",
       "\t<tr><td>Comp679250     </td><td>Comp599155     </td><td>0              </td></tr>\n",
       "\t<tr><td>Comp547871     </td><td>ActiveDirectory</td><td>1              </td></tr>\n",
       "\t<tr><td>Comp679250     </td><td>Comp599155     </td><td>0              </td></tr>\n",
       "</tbody>\n",
       "</table>\n"
      ],
      "text/latex": [
       "\\begin{tabular}{r|lll}\n",
       " Src & Dst & Fail\\\\\n",
       "\\hline\n",
       "\t Comp599155      & None            & 0              \\\\\n",
       "\t Comp599155      & None            & 0              \\\\\n",
       "\t Comp599155      & None            & 0              \\\\\n",
       "\t Comp679250      & Comp599155      & 0              \\\\\n",
       "\t Comp547871      & ActiveDirectory & 1              \\\\\n",
       "\t Comp679250      & Comp599155      & 0              \\\\\n",
       "\\end{tabular}\n"
      ],
      "text/markdown": [
       "\n",
       "| Src | Dst | Fail |\n",
       "|---|---|---|\n",
       "| Comp599155      | None            | 0               |\n",
       "| Comp599155      | None            | 0               |\n",
       "| Comp599155      | None            | 0               |\n",
       "| Comp679250      | Comp599155      | 0               |\n",
       "| Comp547871      | ActiveDirectory | 1               |\n",
       "| Comp679250      | Comp599155      | 0               |\n",
       "\n"
      ],
      "text/plain": [
       "  Src        Dst             Fail\n",
       "1 Comp599155 None            0   \n",
       "2 Comp599155 None            0   \n",
       "3 Comp599155 None            0   \n",
       "4 Comp679250 Comp599155      0   \n",
       "5 Comp547871 ActiveDirectory 1   \n",
       "6 Comp679250 Comp599155      0   "
      ]
     },
     "metadata": {},
     "output_type": "display_data"
    }
   ],
   "source": [
    "head(dm)\n",
    "\n",
    "head(df)"
   ]
  },
  {
   "cell_type": "code",
   "execution_count": 53,
   "id": "dafc6315",
   "metadata": {},
   "outputs": [
    {
     "data": {
      "text/html": [
       "<table>\n",
       "<tbody>\n",
       "\t<tr><td>5</td><td>1</td><td>1</td></tr>\n",
       "\t<tr><td>3</td><td>1</td><td>2</td></tr>\n",
       "\t<tr><td>1</td><td>1</td><td>3</td></tr>\n",
       "\t<tr><td>2</td><td>1</td><td>3</td></tr>\n",
       "\t<tr><td>4</td><td>1</td><td>3</td></tr>\n",
       "\t<tr><td>6</td><td>1</td><td>3</td></tr>\n",
       "\t<tr><td>1</td><td>1</td><td>4</td></tr>\n",
       "\t<tr><td>2</td><td>1</td><td>4</td></tr>\n",
       "\t<tr><td>4</td><td>1</td><td>4</td></tr>\n",
       "\t<tr><td>6</td><td>1</td><td>4</td></tr>\n",
       "\t<tr><td>1</td><td>2</td><td>1</td></tr>\n",
       "\t<tr><td>3</td><td>2</td><td>1</td></tr>\n",
       "\t<tr><td>5</td><td>2</td><td>1</td></tr>\n",
       "</tbody>\n",
       "</table>\n"
      ],
      "text/latex": [
       "\\begin{tabular}{lll}\n",
       "\t 5 & 1 & 1\\\\\n",
       "\t 3 & 1 & 2\\\\\n",
       "\t 1 & 1 & 3\\\\\n",
       "\t 2 & 1 & 3\\\\\n",
       "\t 4 & 1 & 3\\\\\n",
       "\t 6 & 1 & 3\\\\\n",
       "\t 1 & 1 & 4\\\\\n",
       "\t 2 & 1 & 4\\\\\n",
       "\t 4 & 1 & 4\\\\\n",
       "\t 6 & 1 & 4\\\\\n",
       "\t 1 & 2 & 1\\\\\n",
       "\t 3 & 2 & 1\\\\\n",
       "\t 5 & 2 & 1\\\\\n",
       "\\end{tabular}\n"
      ],
      "text/markdown": [
       "\n",
       "| 5 | 1 | 1 |\n",
       "| 3 | 1 | 2 |\n",
       "| 1 | 1 | 3 |\n",
       "| 2 | 1 | 3 |\n",
       "| 4 | 1 | 3 |\n",
       "| 6 | 1 | 3 |\n",
       "| 1 | 1 | 4 |\n",
       "| 2 | 1 | 4 |\n",
       "| 4 | 1 | 4 |\n",
       "| 6 | 1 | 4 |\n",
       "| 1 | 2 | 1 |\n",
       "| 3 | 2 | 1 |\n",
       "| 5 | 2 | 1 |\n",
       "\n"
      ],
      "text/plain": [
       "      [,1] [,2] [,3]\n",
       " [1,] 5    1    1   \n",
       " [2,] 3    1    2   \n",
       " [3,] 1    1    3   \n",
       " [4,] 2    1    3   \n",
       " [5,] 4    1    3   \n",
       " [6,] 6    1    3   \n",
       " [7,] 1    1    4   \n",
       " [8,] 2    1    4   \n",
       " [9,] 4    1    4   \n",
       "[10,] 6    1    4   \n",
       "[11,] 1    2    1   \n",
       "[12,] 3    2    1   \n",
       "[13,] 5    2    1   "
      ]
     },
     "metadata": {},
     "output_type": "display_data"
    },
    {
     "data": {
      "text/html": [
       "<dl>\n",
       "\t<dt>$subs</dt>\n",
       "\t\t<dd><table>\n",
       "<tbody>\n",
       "\t<tr><td>5</td><td>1</td><td>1</td></tr>\n",
       "\t<tr><td>3</td><td>1</td><td>2</td></tr>\n",
       "\t<tr><td>1</td><td>1</td><td>3</td></tr>\n",
       "\t<tr><td>2</td><td>1</td><td>3</td></tr>\n",
       "\t<tr><td>4</td><td>1</td><td>3</td></tr>\n",
       "\t<tr><td>6</td><td>1</td><td>3</td></tr>\n",
       "\t<tr><td>1</td><td>1</td><td>4</td></tr>\n",
       "\t<tr><td>2</td><td>1</td><td>4</td></tr>\n",
       "\t<tr><td>4</td><td>1</td><td>4</td></tr>\n",
       "\t<tr><td>6</td><td>1</td><td>4</td></tr>\n",
       "\t<tr><td>1</td><td>2</td><td>1</td></tr>\n",
       "\t<tr><td>3</td><td>2</td><td>1</td></tr>\n",
       "\t<tr><td>5</td><td>2</td><td>1</td></tr>\n",
       "</tbody>\n",
       "</table>\n",
       "</dd>\n",
       "\t<dt>$vals</dt>\n",
       "\t\t<dd><ol class=list-inline>\n",
       "\t<li>1</li>\n",
       "\t<li>1</li>\n",
       "\t<li>1</li>\n",
       "\t<li>1</li>\n",
       "\t<li>1</li>\n",
       "\t<li>1</li>\n",
       "\t<li>1</li>\n",
       "\t<li>1</li>\n",
       "\t<li>1</li>\n",
       "\t<li>1</li>\n",
       "\t<li>1</li>\n",
       "\t<li>1</li>\n",
       "\t<li>1</li>\n",
       "</ol>\n",
       "</dd>\n",
       "\t<dt>$size</dt>\n",
       "\t\t<dd><ol class=list-inline>\n",
       "\t<li>6</li>\n",
       "\t<li>2</li>\n",
       "\t<li>4</li>\n",
       "</ol>\n",
       "</dd>\n",
       "</dl>\n"
      ],
      "text/latex": [
       "\\begin{description}\n",
       "\\item[\\$subs] \\begin{tabular}{lll}\n",
       "\t 5 & 1 & 1\\\\\n",
       "\t 3 & 1 & 2\\\\\n",
       "\t 1 & 1 & 3\\\\\n",
       "\t 2 & 1 & 3\\\\\n",
       "\t 4 & 1 & 3\\\\\n",
       "\t 6 & 1 & 3\\\\\n",
       "\t 1 & 1 & 4\\\\\n",
       "\t 2 & 1 & 4\\\\\n",
       "\t 4 & 1 & 4\\\\\n",
       "\t 6 & 1 & 4\\\\\n",
       "\t 1 & 2 & 1\\\\\n",
       "\t 3 & 2 & 1\\\\\n",
       "\t 5 & 2 & 1\\\\\n",
       "\\end{tabular}\n",
       "\n",
       "\\item[\\$vals] \\begin{enumerate*}\n",
       "\\item 1\n",
       "\\item 1\n",
       "\\item 1\n",
       "\\item 1\n",
       "\\item 1\n",
       "\\item 1\n",
       "\\item 1\n",
       "\\item 1\n",
       "\\item 1\n",
       "\\item 1\n",
       "\\item 1\n",
       "\\item 1\n",
       "\\item 1\n",
       "\\end{enumerate*}\n",
       "\n",
       "\\item[\\$size] \\begin{enumerate*}\n",
       "\\item 6\n",
       "\\item 2\n",
       "\\item 4\n",
       "\\end{enumerate*}\n",
       "\n",
       "\\end{description}\n"
      ],
      "text/markdown": [
       "$subs\n",
       ":   \n",
       "| 5 | 1 | 1 |\n",
       "| 3 | 1 | 2 |\n",
       "| 1 | 1 | 3 |\n",
       "| 2 | 1 | 3 |\n",
       "| 4 | 1 | 3 |\n",
       "| 6 | 1 | 3 |\n",
       "| 1 | 1 | 4 |\n",
       "| 2 | 1 | 4 |\n",
       "| 4 | 1 | 4 |\n",
       "| 6 | 1 | 4 |\n",
       "| 1 | 2 | 1 |\n",
       "| 3 | 2 | 1 |\n",
       "| 5 | 2 | 1 |\n",
       "\n",
       "\n",
       "$vals\n",
       ":   1. 1\n",
       "2. 1\n",
       "3. 1\n",
       "4. 1\n",
       "5. 1\n",
       "6. 1\n",
       "7. 1\n",
       "8. 1\n",
       "9. 1\n",
       "10. 1\n",
       "11. 1\n",
       "12. 1\n",
       "13. 1\n",
       "\n",
       "\n",
       "\n",
       "$size\n",
       ":   1. 6\n",
       "2. 2\n",
       "3. 4\n",
       "\n",
       "\n",
       "\n",
       "\n",
       "\n"
      ],
      "text/plain": [
       "$subs\n",
       "      [,1] [,2] [,3]\n",
       " [1,]    5    1    1\n",
       " [2,]    3    1    2\n",
       " [3,]    1    1    3\n",
       " [4,]    2    1    3\n",
       " [5,]    4    1    3\n",
       " [6,]    6    1    3\n",
       " [7,]    1    1    4\n",
       " [8,]    2    1    4\n",
       " [9,]    4    1    4\n",
       "[10,]    6    1    4\n",
       "[11,]    1    2    1\n",
       "[12,]    3    2    1\n",
       "[13,]    5    2    1\n",
       "\n",
       "$vals\n",
       " [1] 1 1 1 1 1 1 1 1 1 1 1 1 1\n",
       "\n",
       "$size\n",
       "[1] 6 2 4\n"
      ]
     },
     "metadata": {},
     "output_type": "display_data"
    }
   ],
   "source": [
    "subs=matrix(c(5,1,1,\n",
    "              3,1,2,\n",
    "              1,1,3,\n",
    "              2,1,3,\n",
    "              4,1,3,\n",
    "              6,1,3,\n",
    "              1,1,4,\n",
    "              2,1,4,\n",
    "              4,1,4,\n",
    "              6,1,4,\n",
    "              1,2,1,\n",
    "              3,2,1,\n",
    "              5,2,1),byrow=TRUE,ncol=3)\n",
    "X=list(subs=subs,vals=rep(1,nrow(subs)),size=c(6,2,4))\n",
    "\n",
    "subs\n",
    "X"
   ]
  },
  {
   "cell_type": "code",
   "execution_count": 50,
   "id": "7c8a7d32",
   "metadata": {},
   "outputs": [],
   "source": [
    "M <- list(subs=dm, vals=rep(1, nrow(dm)), size=c(length(unique(SrcT)), length(unique(DstT)), 2))\n",
    "invisible(M)\n",
    "\n",
    "tfm<- getTensor(trp=dm)"
   ]
  },
  {
   "cell_type": "code",
   "execution_count": 56,
   "id": "e70487c2",
   "metadata": {},
   "outputs": [
    {
     "name": "stdout",
     "output_type": "stream",
     "text": [
      "[1] \"CP_APR: mu\"\n",
      "[1] \" Iter    1: Inner Its = 23 KKT violation = 1.335418e-01, nViolations =  0\"\n",
      "[1] \" Iter    2: Inner Its =  8 KKT violation = 6.241433e-07, nViolations =  0\"\n",
      "[1] \" Iter    3: Inner Its =  3 KKT violation = 6.241433e-07, nViolations =  0\"\n",
      "[1] \"Exiting because all subproblems reached KKT tol.\"\n"
     ]
    },
    {
     "name": "stderr",
     "output_type": "stream",
     "text": [
      "Warning message in sqrt(normX^2 + ktensor_norm(M)^2 - 2 * tt_innerprod(M, X)):\n",
      "\"NaNs produced\""
     ]
    },
    {
     "name": "stdout",
     "output_type": "stream",
     "text": [
      "[1] \"===========================================\"\n",
      "[1] \" Final log-likelihood = -2.925011e+01 \"\n",
      "[1] \" Final least squares fit = NaN \"\n",
      "[1] \" Final KKT violation = 6.2414330e-07\"\n",
      "[1] \" Total inner iterations = 34\"\n",
      "[1] \" Total execution time = 0.21 secs\"\n",
      "$lambda\n",
      "[1] 48  9\n",
      "\n",
      "$u\n",
      "$u[[1]]\n",
      "              [,1]         [,2]\n",
      "[1,] 2.600441e-128 1.111111e-01\n",
      "[2,]  6.250000e-02 3.213536e-09\n",
      "[3,]  9.375000e-01 6.934926e-08\n",
      "[4,] 9.044691e-118 8.888888e-01\n",
      "\n",
      "$u[[2]]\n",
      "               [,1]         [,2]\n",
      " [1,]  4.166667e-02 3.470756e-34\n",
      " [2,]  4.166667e-02 2.555932e-14\n",
      " [3,]  2.083333e-02 1.272722e-14\n",
      " [4,]  2.083333e-02 6.725709e-15\n",
      " [5,]  4.166667e-02 3.273877e-14\n",
      " [6,]  2.083333e-02 1.162181e-14\n",
      " [7,]  2.083333e-02 6.695594e-15\n",
      " [8,]  4.166667e-02 1.690307e-14\n",
      " [9,]  2.083333e-02 1.952144e-14\n",
      "[10,]  2.083333e-02 1.602380e-14\n",
      "[11,]  2.083333e-02 3.523004e-14\n",
      "[12,]  4.166667e-02 4.726771e-15\n",
      "[13,] 3.393511e-156 2.222222e-01\n",
      "[14,] 9.979302e-156 7.777778e-01\n",
      "[15,]  4.166667e-02 1.621977e-14\n",
      "[16,]  1.250000e-01 4.838814e-14\n",
      "[17,]  2.083333e-02 2.955977e-15\n",
      "[18,]  4.166667e-02 1.104260e-14\n",
      "[19,]  4.166667e-02 1.020341e-14\n",
      "[20,]  4.166667e-02 3.165300e-15\n",
      "[21,]  2.083333e-02 6.624758e-15\n",
      "[22,]  4.166667e-02 2.221516e-14\n",
      "[23,]  2.083333e-02 8.504449e-15\n",
      "[24,]  1.458333e-01 2.633938e-14\n",
      "[25,]  1.041667e-01 4.461592e-10\n",
      "\n",
      "$u[[3]]\n",
      "          [,1]      [,2]\n",
      "[1,] 0.1041667 0.8888889\n",
      "[2,] 0.8958333 0.1111111\n",
      "\n",
      "\n"
     ]
    }
   ],
   "source": [
    "set.seed(5)\n",
    "P1 <- cp_apr(M,2,opts=list(alg='mu'))\n",
    "\n",
    "print(P1$M)"
   ]
  },
  {
   "cell_type": "code",
   "execution_count": 67,
   "id": "8d78dd11",
   "metadata": {},
   "outputs": [
    {
     "name": "stdout",
     "output_type": "stream",
     "text": [
      "[1] 0\n",
      "[1] \"CP_PDNR (alternating Poisson regression using damped Newton)\"\n",
      "[1] \"  Precomputing sparse index sets...\"\n",
      "[1] \"done\"\n",
      "[1] \"   1. Ttl Inner Its: 62, KKT viol = 2.76e+00, obj = -5.71527178e+01, nz: 7, time:0.58\"\n",
      "[1] \"   2. Ttl Inner Its: 134, KKT viol = 2.63e+00, obj = -3.39026314e+01, nz: 11, time:0.75\"\n",
      "[1] \"   3. Ttl Inner Its: 42, KKT viol = 9.96e-01, obj = -2.95267136e+01, nz: 12, time:0.76\"\n",
      "[1] \"   4. Ttl Inner Its: 53, KKT viol = 3.13e-02, obj = -2.92786951e+01, nz: 26, time:0.80\"\n",
      "[1] \"   5. Ttl Inner Its: 62, KKT viol = 9.74e-03, obj = -2.92501049e+01, nz: 29, time:0.83\"\n",
      "[1] \"   6. Ttl Inner Its: 31, KKT viol = 6.77e-05, obj = -2.92501049e+01, nz: 29, time:0.84\"\n"
     ]
    },
    {
     "name": "stderr",
     "output_type": "stream",
     "text": [
      "Warning message in sqrt(normX^2 + ktensor_norm(M)^2 - 2 * tt_innerprod(M, X)):\n",
      "\"NaNs produced\""
     ]
    },
    {
     "name": "stdout",
     "output_type": "stream",
     "text": [
      "[1] \"===========================================\"\n",
      "[1] \" Final log-likelihood = -2.925010e+01 \"\n",
      "[1] \" Final least squares fit = NaN \"\n",
      "[1] \" Final KKT violation = 6.7709872e-05\"\n",
      "[1] \" Total inner iterations = 384\"\n",
      "[1] \" Total execution time = 0.84 secs\"\n",
      "$lambda\n",
      "[1]  8.999972 47.999815\n",
      "\n",
      "$u\n",
      "$u[[1]]\n",
      "          [,1]       [,2]\n",
      "[1,] 0.1111111 0.00000000\n",
      "[2,] 0.0000000 0.06249999\n",
      "[3,] 0.0000000 0.93750001\n",
      "[4,] 0.8888889 0.00000000\n",
      "\n",
      "$u[[2]]\n",
      "           [,1]       [,2]\n",
      " [1,] 0.0000000 0.04166741\n",
      " [2,] 0.0000000 0.04166740\n",
      " [3,] 0.0000000 0.02083371\n",
      " [4,] 0.0000000 0.02083370\n",
      " [5,] 0.0000000 0.04166401\n",
      " [6,] 0.0000000 0.02083370\n",
      " [7,] 0.0000000 0.02083370\n",
      " [8,] 0.0000000 0.04166740\n",
      " [9,] 0.0000000 0.02083370\n",
      "[10,] 0.0000000 0.02083351\n",
      "[11,] 0.0000000 0.02083371\n",
      "[12,] 0.0000000 0.04166740\n",
      "[13,] 0.2222223 0.00000000\n",
      "[14,] 0.7777777 0.00000000\n",
      "[15,] 0.0000000 0.04166676\n",
      "[16,] 0.0000000 0.12499877\n",
      "[17,] 0.0000000 0.02083347\n",
      "[18,] 0.0000000 0.04166741\n",
      "[19,] 0.0000000 0.04166740\n",
      "[20,] 0.0000000 0.04166740\n",
      "[21,] 0.0000000 0.02083370\n",
      "[22,] 0.0000000 0.04166740\n",
      "[23,] 0.0000000 0.02083370\n",
      "[24,] 0.0000000 0.14582913\n",
      "[25,] 0.0000000 0.10416549\n",
      "\n",
      "$u[[3]]\n",
      "          [,1]      [,2]\n",
      "[1,] 0.8888913 0.1041634\n",
      "[2,] 0.1111087 0.8958366\n",
      "\n",
      "\n"
     ]
    }
   ],
   "source": [
    "P1_2<- cp_apr(M,2,opts=list(alg='pdnr'))\n",
    "\n",
    "print(P1_2$M)"
   ]
  },
  {
   "cell_type": "code",
   "execution_count": 92,
   "id": "57897f3c",
   "metadata": {},
   "outputs": [
    {
     "name": "stdout",
     "output_type": "stream",
     "text": [
      "[1] \"CP_PQNR (alternating Poisson regression using quasi-Newton)\"\n",
      "[1] \"  Precomputing sparse index sets...\"\n",
      "[1] \"done\"\n",
      "[1] \"-lno=1-i=1--jj:1----tmp_rho:381.795996,lbfgsPos:1,nSizeLBFGS:3, kkt_violation:0.991961\"\n",
      "[1] \"-lno=2-i=2--jj:1----tmp_rho:0.064525,lbfgsPos:2,nSizeLBFGS:3, kkt_violation:0.187459\"\n",
      "[1] \"-lno=3-i=3--jj:1----tmp_rho:13.185215,lbfgsPos:3,nSizeLBFGS:3, kkt_violation:0.069235\"\n",
      "[1] \"-lno=4-i=4--jj:1----tmp_rho:69.083059,lbfgsPos:1,nSizeLBFGS:3, kkt_violation:0.051902\"\n",
      "[1] \"-lno=5-i=5--jj:1----tmp_rho:262.168948,lbfgsPos:2,nSizeLBFGS:3, kkt_violation:0.008489\"\n",
      "[1] \"-lno=6-i=6--jj:1----tmp_rho:11892.169051,lbfgsPos:3,nSizeLBFGS:3, kkt_violation:0.000717\"\n",
      "[1] \"-lno=7-i=1--jj:2----tmp_rho:44.607092,lbfgsPos:1,nSizeLBFGS:3, kkt_violation:0.870445\"\n",
      "[1] \"-lno=8-i=2--jj:2----tmp_rho:0.001608,lbfgsPos:2,nSizeLBFGS:3, kkt_violation:37.633855\"\n",
      "[1] \"-lno=9-i=3--jj:2----tmp_rho:0.003312,lbfgsPos:3,nSizeLBFGS:3, kkt_violation:0.735006\"\n",
      "[1] \"-lno=10-i=4--jj:2----tmp_rho:274.045753,lbfgsPos:1,nSizeLBFGS:3, kkt_violation:0.727903\"\n",
      "[1] \"-lno=11-i=5--jj:2----tmp_rho:22.368381,lbfgsPos:2,nSizeLBFGS:3, kkt_violation:0.636049\"\n",
      "[1] \"-lno=12-i=6--jj:2----tmp_rho:0.674435,lbfgsPos:3,nSizeLBFGS:3, kkt_violation:0.274897\"\n",
      "[1] \"-lno=13-i=7--jj:2----tmp_rho:1.107097,lbfgsPos:1,nSizeLBFGS:3, kkt_violation:0.246840\"\n",
      "[1] \"-lno=14-i=8--jj:2----tmp_rho:2.237730,lbfgsPos:2,nSizeLBFGS:3, kkt_violation:0.150396\"\n",
      "[1] \"-lno=15-i=9--jj:2----tmp_rho:10.463819,lbfgsPos:3,nSizeLBFGS:3, kkt_violation:0.015378\"\n",
      "[1] \"-lno=16-i=10--jj:2----tmp_rho:568.985898,lbfgsPos:1,nSizeLBFGS:3, kkt_violation:0.008903\"\n",
      "[1] \"-lno=17-i=1--jj:3----tmp_rho:4.289493,lbfgsPos:1,nSizeLBFGS:3, kkt_violation:0.873636\"\n",
      "[1] \"-lno=18-i=2--jj:3----tmp_rho:0.191402,lbfgsPos:2,nSizeLBFGS:3, kkt_violation:0.336735\"\n",
      "[1] \"-lno=19-i=3--jj:3----tmp_rho:1.104655,lbfgsPos:3,nSizeLBFGS:3, kkt_violation:0.157765\"\n",
      "[1] \"-lno=20-i=4--jj:3----tmp_rho:2.555767,lbfgsPos:1,nSizeLBFGS:3, kkt_violation:0.065767\"\n",
      "[1] \"-lno=21-i=5--jj:3----tmp_rho:6.494717,lbfgsPos:2,nSizeLBFGS:3, kkt_violation:0.085240\"\n",
      "[1] \"-lno=22-i=6--jj:3----tmp_rho:2.746936,lbfgsPos:3,nSizeLBFGS:3, kkt_violation:0.038616\"\n",
      "[1] \"-lno=23-i=7--jj:3----tmp_rho:9.611029,lbfgsPos:1,nSizeLBFGS:3, kkt_violation:0.019303\"\n",
      "[1] \"-lno=24-i=8--jj:3----tmp_rho:85.188332,lbfgsPos:2,nSizeLBFGS:3, kkt_violation:0.001039\"\n",
      "[1] \"-lno=25-i=1--jj:4----tmp_rho:19.043424,lbfgsPos:1,nSizeLBFGS:3, kkt_violation:0.602634\"\n",
      "[1] \"-lno=26-i=2--jj:4----tmp_rho:0.092312,lbfgsPos:2,nSizeLBFGS:3, kkt_violation:0.250124\"\n",
      "[1] \"-lno=27-i=3--jj:4----tmp_rho:1.618167,lbfgsPos:3,nSizeLBFGS:3, kkt_violation:0.223142\"\n",
      "[1] \"-lno=28-i=4--jj:4----tmp_rho:14.188977,lbfgsPos:1,nSizeLBFGS:3, kkt_violation:0.087298\"\n",
      "[1] \"-lno=29-i=5--jj:4----tmp_rho:19.721352,lbfgsPos:2,nSizeLBFGS:3, kkt_violation:0.032819\"\n",
      "[1] \"-lno=30-i=6--jj:4----tmp_rho:171.881128,lbfgsPos:3,nSizeLBFGS:3, kkt_violation:0.012359\"\n",
      "[1] \"-lno=31-i=7--jj:4----tmp_rho:524.599130,lbfgsPos:1,nSizeLBFGS:3, kkt_violation:0.000604\"\n",
      "[1] \"-lno=32-i=1--jj:1----tmp_rho:5068.824290,lbfgsPos:1,nSizeLBFGS:3, kkt_violation:0.010392\"\n",
      "[1] \"-lno=33-i=2--jj:1----tmp_rho:4397.591698,lbfgsPos:2,nSizeLBFGS:3, kkt_violation:0.000216\"\n",
      "[1] \"-lno=34-i=1--jj:2----tmp_rho:17.458727,lbfgsPos:1,nSizeLBFGS:3, kkt_violation:0.102537\"\n",
      "[1] \"-lno=35-i=2--jj:2----tmp_rho:76.175853,lbfgsPos:2,nSizeLBFGS:3, kkt_violation:0.026822\"\n",
      "[1] \"-lno=36-i=3--jj:2----tmp_rho:257.263302,lbfgsPos:3,nSizeLBFGS:3, kkt_violation:0.017037\"\n",
      "[1] \"-lno=37-i=4--jj:2----tmp_rho:772.617361,lbfgsPos:1,nSizeLBFGS:3, kkt_violation:0.008508\"\n",
      "[1] \"-lno=38-i=5--jj:2----tmp_rho:4009.845418,lbfgsPos:2,nSizeLBFGS:3, kkt_violation:0.002625\"\n",
      "[1] \"-lno=39-i=6--jj:2----tmp_rho:40624.582488,lbfgsPos:3,nSizeLBFGS:3, kkt_violation:0.000886\"\n",
      "[1] \"-lno=40-i=7--jj:2----tmp_rho:362890.404539,lbfgsPos:1,nSizeLBFGS:3, kkt_violation:0.000287\"\n",
      "[1] \"-lno=41-i=1--jj:3----tmp_rho:8.584708,lbfgsPos:1,nSizeLBFGS:3, kkt_violation:0.312098\"\n",
      "[1] \"-lno=42-i=2--jj:3----tmp_rho:6.530843,lbfgsPos:2,nSizeLBFGS:3, kkt_violation:0.014850\"\n",
      "[1] \"-lno=43-i=3--jj:3----tmp_rho:1316.276336,lbfgsPos:3,nSizeLBFGS:3, kkt_violation:0.012739\"\n",
      "[1] \"-lno=44-i=4--jj:3----tmp_rho:3635.769036,lbfgsPos:1,nSizeLBFGS:3, kkt_violation:0.003770\"\n",
      "[1] \"-lno=45-i=5--jj:3----tmp_rho:39112.342748,lbfgsPos:2,nSizeLBFGS:3, kkt_violation:0.001292\"\n",
      "[1] \"-lno=46-i=6--jj:3----tmp_rho:341867.812842,lbfgsPos:3,nSizeLBFGS:3, kkt_violation:0.000417\"\n",
      "[1] \"-lno=47-i=7--jj:3----tmp_rho:3252963.133697,lbfgsPos:1,nSizeLBFGS:3, kkt_violation:0.000137\"\n",
      "[1] \"-lno=48-i=1--jj:4----tmp_rho:22.634068,lbfgsPos:1,nSizeLBFGS:3, kkt_violation:0.018483\"\n",
      "[1] \"-lno=49-i=2--jj:4----tmp_rho:3127.625798,lbfgsPos:2,nSizeLBFGS:3, kkt_violation:0.000433\"\n",
      "[1] \"-lno=50-i=3--jj:4----tmp_rho:3280890.890932,lbfgsPos:3,nSizeLBFGS:3, kkt_violation:0.000119\"\n",
      "[1] \"-lno=51-i=1--jj:5----tmp_rho:11.591408,lbfgsPos:1,nSizeLBFGS:3, kkt_violation:0.218900\"\n",
      "[1] \"-lno=52-i=2--jj:5----tmp_rho:9.049720,lbfgsPos:2,nSizeLBFGS:3, kkt_violation:0.012457\"\n",
      "[1] \"-lno=53-i=3--jj:5----tmp_rho:914.821825,lbfgsPos:3,nSizeLBFGS:3, kkt_violation:0.010901\"\n",
      "[1] \"-lno=54-i=4--jj:5----tmp_rho:1817.038553,lbfgsPos:1,nSizeLBFGS:3, kkt_violation:0.005729\"\n",
      "[1] \"-lno=55-i=5--jj:5----tmp_rho:8768.379716,lbfgsPos:2,nSizeLBFGS:3, kkt_violation:0.001807\"\n",
      "[1] \"-lno=56-i=6--jj:5----tmp_rho:86118.653225,lbfgsPos:3,nSizeLBFGS:3, kkt_violation:0.000604\"\n",
      "[1] \"-lno=57-i=7--jj:5----tmp_rho:780327.209289,lbfgsPos:1,nSizeLBFGS:3, kkt_violation:0.000196\"\n",
      "[1] \"-lno=58-i=1--jj:6----tmp_rho:7.576317,lbfgsPos:1,nSizeLBFGS:3, kkt_violation:0.492697\"\n",
      "[1] \"-lno=59-i=2--jj:6----tmp_rho:1.454706,lbfgsPos:2,nSizeLBFGS:3, kkt_violation:0.136989\"\n",
      "[1] \"-lno=60-i=3--jj:6----tmp_rho:32.333713,lbfgsPos:3,nSizeLBFGS:3, kkt_violation:0.046153\"\n",
      "[1] \"-lno=61-i=4--jj:6----tmp_rho:223.395579,lbfgsPos:1,nSizeLBFGS:3, kkt_violation:0.019835\"\n",
      "[1] \"-lno=62-i=5--jj:6----tmp_rho:1348.802860,lbfgsPos:2,nSizeLBFGS:3, kkt_violation:0.007558\"\n",
      "[1] \"-lno=63-i=6--jj:6----tmp_rho:10231.942448,lbfgsPos:3,nSizeLBFGS:3, kkt_violation:0.002302\"\n",
      "[1] \"-lno=64-i=7--jj:6----tmp_rho:105848.760516,lbfgsPos:1,nSizeLBFGS:3, kkt_violation:0.000774\"\n",
      "[1] \"-lno=65-i=8--jj:6----tmp_rho:950010.505363,lbfgsPos:2,nSizeLBFGS:3, kkt_violation:0.000251\"\n",
      "[1] \"-lno=66-i=1--jj:7----tmp_rho:8.043825,lbfgsPos:1,nSizeLBFGS:3, kkt_violation:0.496113\"\n",
      "[1] \"-lno=67-i=2--jj:7----tmp_rho:1.251295,lbfgsPos:2,nSizeLBFGS:3, kkt_violation:0.198642\"\n",
      "[1] \"-lno=68-i=3--jj:7----tmp_rho:16.683710,lbfgsPos:3,nSizeLBFGS:3, kkt_violation:0.061082\"\n",
      "[1] \"-lno=69-i=4--jj:7----tmp_rho:147.083278,lbfgsPos:1,nSizeLBFGS:3, kkt_violation:0.019594\"\n",
      "[1] \"-lno=70-i=5--jj:7----tmp_rho:1339.351841,lbfgsPos:2,nSizeLBFGS:3, kkt_violation:0.007888\"\n",
      "[1] \"-lno=71-i=6--jj:7----tmp_rho:9386.643156,lbfgsPos:3,nSizeLBFGS:3, kkt_violation:0.002405\"\n",
      "[1] \"-lno=72-i=7--jj:7----tmp_rho:96859.309111,lbfgsPos:1,nSizeLBFGS:3, kkt_violation:0.000810\"\n",
      "[1] \"-lno=73-i=8--jj:7----tmp_rho:867880.657536,lbfgsPos:2,nSizeLBFGS:3, kkt_violation:0.000263\"\n",
      "[1] \"-lno=74-i=1--jj:8----tmp_rho:59.995090,lbfgsPos:1,nSizeLBFGS:3, kkt_violation:0.136538\"\n",
      "[1] \"-lno=75-i=2--jj:8----tmp_rho:12.729340,lbfgsPos:2,nSizeLBFGS:3, kkt_violation:0.067494\"\n",
      "[1] \"-lno=76-i=3--jj:8----tmp_rho:95.526294,lbfgsPos:3,nSizeLBFGS:3, kkt_violation:0.002455\"\n",
      "[1] \"-lno=77-i=4--jj:8----tmp_rho:54487.394085,lbfgsPos:1,nSizeLBFGS:3, kkt_violation:0.000577\"\n",
      "[1] \"-lno=78-i=5--jj:8----tmp_rho:848822.155206,lbfgsPos:2,nSizeLBFGS:3, kkt_violation:0.000190\"\n",
      "[1] \"-lno=79-i=1--jj:9----tmp_rho:9.930710,lbfgsPos:1,nSizeLBFGS:3, kkt_violation:0.404927\"\n",
      "[1] \"-lno=80-i=2--jj:9----tmp_rho:1.863834,lbfgsPos:2,nSizeLBFGS:3, kkt_violation:0.218902\"\n",
      "[1] \"-lno=81-i=3--jj:9----tmp_rho:21.690171,lbfgsPos:3,nSizeLBFGS:3, kkt_violation:0.016224\"\n",
      "[1] \"-lno=82-i=4--jj:9----tmp_rho:3204.683439,lbfgsPos:1,nSizeLBFGS:3, kkt_violation:0.001308\"\n",
      "[1] \"-lno=83-i=5--jj:9----tmp_rho:321505.539790,lbfgsPos:2,nSizeLBFGS:3, kkt_violation:0.000456\"\n",
      "[1] \"-lno=84-i=6--jj:9----tmp_rho:2733974.701340,lbfgsPos:3,nSizeLBFGS:3, kkt_violation:0.000149\"\n",
      "[1] \"-lno=85-i=1--jj:10----tmp_rho:7.233900,lbfgsPos:1,nSizeLBFGS:3, kkt_violation:0.047866\"\n",
      "[1] \"-lno=86-i=2--jj:10----tmp_rho:584.212751,lbfgsPos:2,nSizeLBFGS:3, kkt_violation:0.005400\"\n",
      "[1] \"-lno=87-i=3--jj:10----tmp_rho:19506.061166,lbfgsPos:3,nSizeLBFGS:3, kkt_violation:0.001773\"\n",
      "[1] \"-lno=88-i=4--jj:10----tmp_rho:166967.330618,lbfgsPos:1,nSizeLBFGS:3, kkt_violation:0.000673\"\n",
      "[1] \"-lno=89-i=5--jj:10----tmp_rho:1249678.904521,lbfgsPos:2,nSizeLBFGS:3, kkt_violation:0.000222\"\n",
      "[1] \"-lno=90-i=1--jj:11----tmp_rho:10.026428,lbfgsPos:1,nSizeLBFGS:3, kkt_violation:0.555140\"\n",
      "[1] \"-lno=91-i=2--jj:11----tmp_rho:0.389731,lbfgsPos:2,nSizeLBFGS:3, kkt_violation:0.928556\"\n",
      "[1] \"-lno=92-i=3--jj:11----tmp_rho:1.420318,lbfgsPos:3,nSizeLBFGS:3, kkt_violation:0.147402\"\n",
      "[1] \"-lno=93-i=4--jj:11----tmp_rho:55.737151,lbfgsPos:1,nSizeLBFGS:3, kkt_violation:0.025297\"\n",
      "[1] \"-lno=94-i=5--jj:11----tmp_rho:619.361244,lbfgsPos:2,nSizeLBFGS:3, kkt_violation:0.014663\"\n",
      "[1] \"-lno=95-i=6--jj:11----tmp_rho:2557.982837,lbfgsPos:3,nSizeLBFGS:3, kkt_violation:0.005201\"\n",
      "[1] \"-lno=96-i=7--jj:11----tmp_rho:21453.162592,lbfgsPos:1,nSizeLBFGS:3, kkt_violation:0.001614\"\n",
      "[1] \"-lno=97-i=8--jj:11----tmp_rho:216132.816064,lbfgsPos:2,nSizeLBFGS:3, kkt_violation:0.000538\"\n",
      "[1] \"-lno=98-i=9--jj:11----tmp_rho:1963525.028358,lbfgsPos:3,nSizeLBFGS:3, kkt_violation:0.000175\"\n",
      "[1] \"-lno=99-i=1--jj:12----tmp_rho:24.955285,lbfgsPos:1,nSizeLBFGS:3, kkt_violation:0.146640\"\n",
      "[1] \"-lno=100-i=2--jj:12----tmp_rho:19.143353,lbfgsPos:2,nSizeLBFGS:3, kkt_violation:0.002868\"\n",
      "[1] \"-lno=101-i=3--jj:12----tmp_rho:25380.128850,lbfgsPos:3,nSizeLBFGS:3, kkt_violation:0.001573\"\n",
      "[1] \"-lno=102-i=4--jj:12----tmp_rho:112858.451304,lbfgsPos:1,nSizeLBFGS:3, kkt_violation:0.000531\"\n",
      "[1] \"-lno=103-i=5--jj:12----tmp_rho:1005258.878352,lbfgsPos:2,nSizeLBFGS:3, kkt_violation:0.000175\"\n",
      "[1] \"-lno=104-i=1--jj:13----tmp_rho:0.504557,lbfgsPos:1,nSizeLBFGS:3, kkt_violation:0.429369\"\n",
      "[1] \"-lno=105-i=2--jj:13----tmp_rho:26.834537,lbfgsPos:2,nSizeLBFGS:3, kkt_violation:0.345979\"\n",
      "[1] \"-lno=106-i=3--jj:13----tmp_rho:2.498298,lbfgsPos:3,nSizeLBFGS:3, kkt_violation:0.476275\"\n",
      "[1] \"-lno=107-i=4--jj:13----tmp_rho:7.342778,lbfgsPos:1,nSizeLBFGS:3, kkt_violation:0.138041\"\n",
      "[1] \"-lno=108-i=5--jj:13----tmp_rho:8.917733,lbfgsPos:2,nSizeLBFGS:3, kkt_violation:0.101410\"\n",
      "[1] \"-lno=109-i=6--jj:13----tmp_rho:38.597052,lbfgsPos:3,nSizeLBFGS:3, kkt_violation:0.006851\"\n",
      "[1] \"-lno=110-i=7--jj:13----tmp_rho:4965.935059,lbfgsPos:1,nSizeLBFGS:3, kkt_violation:0.003202\"\n",
      "[1] \"-lno=111-i=8--jj:13----tmp_rho:28135.530190,lbfgsPos:2,nSizeLBFGS:3, kkt_violation:0.001009\"\n",
      "[1] \"-lno=112-i=9--jj:13----tmp_rho:279209.440886,lbfgsPos:3,nSizeLBFGS:3, kkt_violation:0.000330\"\n",
      "[1] \"-lno=113-i=10--jj:13----tmp_rho:2634541.312328,lbfgsPos:1,nSizeLBFGS:3, kkt_violation:0.000106\"\n",
      "[1] \"-lno=114-i=1--jj:14----tmp_rho:0.095656,lbfgsPos:1,nSizeLBFGS:3, kkt_violation:0.036206\"\n",
      "[1] \"-lno=115-i=2--jj:14----tmp_rho:2741.869606,lbfgsPos:2,nSizeLBFGS:3, kkt_violation:0.028187\"\n",
      "[1] \"-lno=116-i=3--jj:14----tmp_rho:312.883634,lbfgsPos:3,nSizeLBFGS:3, kkt_violation:0.012701\"\n",
      "[1] \"-lno=117-i=4--jj:14----tmp_rho:3350.313488,lbfgsPos:1,nSizeLBFGS:3, kkt_violation:0.013847\"\n",
      "[1] \"-lno=118-i=5--jj:14----tmp_rho:463.514768,lbfgsPos:2,nSizeLBFGS:3, kkt_violation:0.004965\"\n",
      "[1] \"-lno=119-i=6--jj:14----tmp_rho:4695.733384,lbfgsPos:3,nSizeLBFGS:3, kkt_violation:0.000798\"\n",
      "[1] \"-lno=120-i=1--jj:15----tmp_rho:13.380628,lbfgsPos:1,nSizeLBFGS:3, kkt_violation:0.150740\"\n",
      "[1] \"-lno=121-i=2--jj:15----tmp_rho:27.720278,lbfgsPos:2,nSizeLBFGS:3, kkt_violation:0.028766\"\n",
      "[1] \"-lno=122-i=3--jj:15----tmp_rho:197.114187,lbfgsPos:3,nSizeLBFGS:3, kkt_violation:0.021397\"\n",
      "[1] \"-lno=123-i=4--jj:15----tmp_rho:475.866233,lbfgsPos:1,nSizeLBFGS:3, kkt_violation:0.011179\"\n",
      "[1] \"-lno=124-i=5--jj:15----tmp_rho:2334.687860,lbfgsPos:2,nSizeLBFGS:3, kkt_violation:0.003398\"\n",
      "[1] \"-lno=125-i=6--jj:15----tmp_rho:24142.633158,lbfgsPos:3,nSizeLBFGS:3, kkt_violation:0.001158\"\n",
      "[1] \"-lno=126-i=7--jj:15----tmp_rho:212744.252632,lbfgsPos:1,nSizeLBFGS:3, kkt_violation:0.000374\"\n",
      "[1] \"-lno=127-i=8--jj:15----tmp_rho:2020451.595157,lbfgsPos:2,nSizeLBFGS:3, kkt_violation:0.000123\"\n",
      "[1] \"-lno=128-i=1--jj:16----tmp_rho:0.649431,lbfgsPos:1,nSizeLBFGS:3, kkt_violation:0.386738\"\n",
      "[1] \"-lno=129-i=2--jj:16----tmp_rho:12.429413,lbfgsPos:2,nSizeLBFGS:3, kkt_violation:0.235186\"\n",
      "[1] \"-lno=130-i=3--jj:16----tmp_rho:4.383990,lbfgsPos:3,nSizeLBFGS:3, kkt_violation:0.016687\"\n",
      "[1] \"-lno=131-i=4--jj:16----tmp_rho:577.506063,lbfgsPos:1,nSizeLBFGS:3, kkt_violation:0.000439\"\n",
      "[1] \"-lno=132-i=5--jj:16----tmp_rho:322183.560529,lbfgsPos:2,nSizeLBFGS:3, kkt_violation:0.000281\"\n",
      "[1] \"-lno=133-i=1--jj:17----tmp_rho:6.336019,lbfgsPos:1,nSizeLBFGS:3, kkt_violation:0.228991\"\n",
      "[1] \"-lno=134-i=2--jj:17----tmp_rho:4.972103,lbfgsPos:2,nSizeLBFGS:3, kkt_violation:0.202901\"\n",
      "[1] \"-lno=135-i=3--jj:17----tmp_rho:10.652399,lbfgsPos:3,nSizeLBFGS:3, kkt_violation:0.113496\"\n",
      "[1] \"-lno=136-i=4--jj:17----tmp_rho:51.683009,lbfgsPos:1,nSizeLBFGS:3, kkt_violation:0.018691\"\n",
      "[1] \"-lno=137-i=5--jj:17----tmp_rho:1312.538370,lbfgsPos:2,nSizeLBFGS:3, kkt_violation:0.009042\"\n",
      "[1] \"-lno=138-i=6--jj:17----tmp_rho:7119.839271,lbfgsPos:3,nSizeLBFGS:3, kkt_violation:0.002772\"\n",
      "[1] \"-lno=139-i=7--jj:17----tmp_rho:72793.855081,lbfgsPos:1,nSizeLBFGS:3, kkt_violation:0.000938\"\n",
      "[1] \"-lno=140-i=8--jj:17----tmp_rho:648465.917259,lbfgsPos:2,nSizeLBFGS:3, kkt_violation:0.000304\"\n",
      "[1] \"-lno=141-i=1--jj:18----tmp_rho:19.662902,lbfgsPos:1,nSizeLBFGS:3, kkt_violation:0.227004\"\n",
      "[1] \"-lno=142-i=2--jj:18----tmp_rho:4.629863,lbfgsPos:2,nSizeLBFGS:3, kkt_violation:0.072169\"\n",
      "[1] \"-lno=143-i=3--jj:18----tmp_rho:36.989014,lbfgsPos:3,nSizeLBFGS:3, kkt_violation:0.045451\"\n",
      "[1] \"-lno=144-i=4--jj:18----tmp_rho:145.860829,lbfgsPos:1,nSizeLBFGS:3, kkt_violation:0.012096\"\n",
      "[1] \"-lno=145-i=5--jj:18----tmp_rho:1796.908123,lbfgsPos:2,nSizeLBFGS:3, kkt_violation:0.004646\"\n",
      "[1] \"-lno=146-i=6--jj:18----tmp_rho:13384.830634,lbfgsPos:3,nSizeLBFGS:3, kkt_violation:0.001456\"\n",
      "[1] \"-lno=147-i=7--jj:18----tmp_rho:132875.397308,lbfgsPos:1,nSizeLBFGS:3, kkt_violation:0.000485\"\n",
      "[1] \"-lno=148-i=8--jj:18----tmp_rho:1210636.749487,lbfgsPos:2,nSizeLBFGS:3, kkt_violation:0.000158\"\n",
      "[1] \"-lno=149-i=1--jj:19----tmp_rho:149.024677,lbfgsPos:1,nSizeLBFGS:3, kkt_violation:0.057103\"\n",
      "[1] \"-lno=150-i=2--jj:19----tmp_rho:380.203593,lbfgsPos:2,nSizeLBFGS:3, kkt_violation:0.019456\"\n",
      "[1] \"-lno=151-i=3--jj:19----tmp_rho:878.213956,lbfgsPos:3,nSizeLBFGS:3, kkt_violation:0.004580\"\n",
      "[1] \"-lno=152-i=4--jj:19----tmp_rho:14953.082301,lbfgsPos:1,nSizeLBFGS:3, kkt_violation:0.001193\"\n",
      "[1] \"-lno=153-i=5--jj:19----tmp_rho:198010.628128,lbfgsPos:2,nSizeLBFGS:3, kkt_violation:0.000397\"\n",
      "[1] \"-lno=154-i=6--jj:19----tmp_rho:1803433.249007,lbfgsPos:3,nSizeLBFGS:3, kkt_violation:0.000129\"\n",
      "[1] \"-lno=155-i=1--jj:20----tmp_rho:62.842550,lbfgsPos:1,nSizeLBFGS:3, kkt_violation:0.063451\"\n",
      "[1] \"-lno=156-i=2--jj:20----tmp_rho:157.125837,lbfgsPos:2,nSizeLBFGS:3, kkt_violation:0.009109\"\n",
      "[1] \"-lno=157-i=3--jj:20----tmp_rho:3025.575709,lbfgsPos:3,nSizeLBFGS:3, kkt_violation:0.003711\"\n",
      "[1] \"-lno=158-i=4--jj:20----tmp_rho:20562.908244,lbfgsPos:1,nSizeLBFGS:3, kkt_violation:0.001226\"\n",
      "[1] \"-lno=159-i=5--jj:20----tmp_rho:189962.555879,lbfgsPos:2,nSizeLBFGS:3, kkt_violation:0.000396\"\n",
      "[1] \"-lno=160-i=6--jj:20----tmp_rho:1807232.944024,lbfgsPos:3,nSizeLBFGS:3, kkt_violation:0.000130\"\n",
      "[1] \"-lno=161-i=1--jj:21----tmp_rho:6.193058,lbfgsPos:1,nSizeLBFGS:3, kkt_violation:0.154145\"\n",
      "[1] \"-lno=162-i=2--jj:21----tmp_rho:102.137060,lbfgsPos:2,nSizeLBFGS:3, kkt_violation:0.045455\"\n",
      "[1] \"-lno=163-i=3--jj:21----tmp_rho:289.333508,lbfgsPos:3,nSizeLBFGS:3, kkt_violation:0.014227\"\n",
      "[1] \"-lno=164-i=4--jj:21----tmp_rho:2370.415211,lbfgsPos:1,nSizeLBFGS:3, kkt_violation:0.006229\"\n",
      "[1] \"-lno=165-i=5--jj:21----tmp_rho:14332.283884,lbfgsPos:2,nSizeLBFGS:3, kkt_violation:0.002141\"\n",
      "[1] \"-lno=166-i=6--jj:21----tmp_rho:125066.298704,lbfgsPos:3,nSizeLBFGS:3, kkt_violation:0.000685\"\n",
      "[1] \"-lno=167-i=7--jj:21----tmp_rho:1205365.348255,lbfgsPos:1,nSizeLBFGS:3, kkt_violation:0.000226\"\n",
      "[1] \"-lno=168-i=1--jj:22----tmp_rho:24.883353,lbfgsPos:1,nSizeLBFGS:3, kkt_violation:0.202934\"\n",
      "[1] \"-lno=169-i=2--jj:22----tmp_rho:5.421425,lbfgsPos:2,nSizeLBFGS:3, kkt_violation:0.078656\"\n",
      "[1] \"-lno=170-i=3--jj:22----tmp_rho:34.466604,lbfgsPos:3,nSizeLBFGS:3, kkt_violation:0.043673\"\n",
      "[1] \"-lno=171-i=4--jj:22----tmp_rho:168.885720,lbfgsPos:1,nSizeLBFGS:3, kkt_violation:0.009797\"\n",
      "[1] \"-lno=172-i=5--jj:22----tmp_rho:2740.954460,lbfgsPos:2,nSizeLBFGS:3, kkt_violation:0.003750\"\n",
      "[1] \"-lno=173-i=6--jj:22----tmp_rho:20478.367767,lbfgsPos:3,nSizeLBFGS:3, kkt_violation:0.001185\"\n",
      "[1] \"-lno=174-i=7--jj:22----tmp_rho:200884.819623,lbfgsPos:1,nSizeLBFGS:3, kkt_violation:0.000393\"\n",
      "[1] \"-lno=175-i=8--jj:22----tmp_rho:1838758.480603,lbfgsPos:2,nSizeLBFGS:3, kkt_violation:0.000128\"\n",
      "[1] \"-lno=176-i=1--jj:23----tmp_rho:10.479431,lbfgsPos:1,nSizeLBFGS:3, kkt_violation:0.421871\"\n",
      "[1] \"-lno=177-i=2--jj:23----tmp_rho:1.380164,lbfgsPos:2,nSizeLBFGS:3, kkt_violation:0.322394\"\n",
      "[1] \"-lno=178-i=3--jj:23----tmp_rho:10.351902,lbfgsPos:3,nSizeLBFGS:3, kkt_violation:0.029675\"\n",
      "[1] \"-lno=179-i=4--jj:23----tmp_rho:1116.308348,lbfgsPos:1,nSizeLBFGS:3, kkt_violation:0.000196\"\n",
      "[1] \"-lno=180-i=1--jj:24----tmp_rho:0.005854,lbfgsPos:1,nSizeLBFGS:3, kkt_violation:0.695334\"\n",
      "[1] \"-lno=181-i=2--jj:24----tmp_rho:36.177417,lbfgsPos:2,nSizeLBFGS:3, kkt_violation:0.675577\"\n",
      "[1] \"-lno=182-i=3--jj:24----tmp_rho:0.116513,lbfgsPos:3,nSizeLBFGS:3, kkt_violation:0.338762\"\n",
      "[1] \"-lno=183-i=4--jj:24----tmp_rho:1.435727,lbfgsPos:1,nSizeLBFGS:3, kkt_violation:0.022151\"\n",
      "[1] \"-lno=184-i=5--jj:24----tmp_rho:176.126910,lbfgsPos:2,nSizeLBFGS:3, kkt_violation:0.006097\"\n",
      "[1] \"-lno=185-i=6--jj:24----tmp_rho:1476.705469,lbfgsPos:3,nSizeLBFGS:3, kkt_violation:0.003750\"\n",
      "[1] \"-lno=186-i=7--jj:24----tmp_rho:5808.435115,lbfgsPos:1,nSizeLBFGS:3, kkt_violation:0.001203\"\n",
      "[1] \"-lno=187-i=8--jj:24----tmp_rho:55674.062122,lbfgsPos:2,nSizeLBFGS:3, kkt_violation:0.000399\"\n",
      "[1] \"-lno=188-i=9--jj:24----tmp_rho:509628.403663,lbfgsPos:3,nSizeLBFGS:3, kkt_violation:0.000130\"\n",
      "[1] \"-lno=189-i=1--jj:25----tmp_rho:0.630474,lbfgsPos:1,nSizeLBFGS:3, kkt_violation:0.176852\"\n",
      "[1] \"-lno=190-i=2--jj:25----tmp_rho:63.495733,lbfgsPos:2,nSizeLBFGS:3, kkt_violation:0.112182\"\n",
      "[1] \"-lno=191-i=3--jj:25----tmp_rho:31.455929,lbfgsPos:3,nSizeLBFGS:3, kkt_violation:0.082345\"\n",
      "[1] \"-lno=192-i=4--jj:25----tmp_rho:65.234560,lbfgsPos:1,nSizeLBFGS:3, kkt_violation:0.101632\"\n",
      "[1] \"-lno=193-i=5--jj:25----tmp_rho:22.398534,lbfgsPos:2,nSizeLBFGS:3, kkt_violation:0.081290\"\n",
      "[1] \"-lno=194-i=6--jj:25----tmp_rho:22.919969,lbfgsPos:3,nSizeLBFGS:3, kkt_violation:0.008632\"\n",
      "[1] \"-lno=195-i=7--jj:25----tmp_rho:2159.882037,lbfgsPos:1,nSizeLBFGS:3, kkt_violation:0.001027\"\n",
      "[1] \"-lno=196-i=1--jj:1----tmp_rho:199.242233,lbfgsPos:1,nSizeLBFGS:3, kkt_violation:0.771977\"\n",
      "[1] \"-lno=197-i=2--jj:1----tmp_rho:0.142857,lbfgsPos:2,nSizeLBFGS:3, kkt_violation:0.467919\"\n",
      "[1] \"-lno=198-i=3--jj:1----tmp_rho:0.058109,lbfgsPos:3,nSizeLBFGS:3, kkt_violation:1.089485\"\n",
      "[1] \"-lno=199-i=4--jj:1----tmp_rho:0.094975,lbfgsPos:1,nSizeLBFGS:3, kkt_violation:0.350420\"\n",
      "[1] \"-lno=200-i=5--jj:1----tmp_rho:4.202271,lbfgsPos:2,nSizeLBFGS:3, kkt_violation:0.225414\"\n",
      "[1] \"-lno=201-i=6--jj:1----tmp_rho:0.583045,lbfgsPos:3,nSizeLBFGS:3, kkt_violation:0.257037\"\n",
      "[1] \"-lno=202-i=7--jj:1----tmp_rho:1.610047,lbfgsPos:1,nSizeLBFGS:3, kkt_violation:0.060906\"\n",
      "[1] \"-lno=203-i=8--jj:1----tmp_rho:61.479653,lbfgsPos:2,nSizeLBFGS:3, kkt_violation:0.014476\"\n",
      "[1] \"-lno=204-i=9--jj:1----tmp_rho:590.090477,lbfgsPos:3,nSizeLBFGS:3, kkt_violation:0.001036\"\n",
      "[1] \"-lno=205-i=1--jj:2----tmp_rho:1.362942,lbfgsPos:1,nSizeLBFGS:3, kkt_violation:1.643891\"\n",
      "[1] \"-lno=206-i=2--jj:2----tmp_rho:0.110441,lbfgsPos:2,nSizeLBFGS:3, kkt_violation:0.686964\"\n",
      "[1] \"-lno=207-i=3--jj:2----tmp_rho:0.405019,lbfgsPos:3,nSizeLBFGS:3, kkt_violation:0.331887\"\n",
      "[1] \"-lno=208-i=4--jj:2----tmp_rho:0.645513,lbfgsPos:1,nSizeLBFGS:3, kkt_violation:0.104323\"\n",
      "[1] \"-lno=209-i=5--jj:2----tmp_rho:3.649997,lbfgsPos:2,nSizeLBFGS:3, kkt_violation:0.020552\"\n",
      "[1] \"-lno=210-i=6--jj:2----tmp_rho:60.971653,lbfgsPos:3,nSizeLBFGS:3, kkt_violation:0.001038\"\n",
      "[1] \"   1. Ttl Inner Its: 239, KKT viol = 1.64e+00, obj = -5.61089258e+01, nz: 27\"\n",
      "[1] \"-lno=211-i=1--jj:1----tmp_rho:0.004214,lbfgsPos:1,nSizeLBFGS:3, kkt_violation:0.964611\"\n",
      "[1] \"-lno=212-i=2--jj:1----tmp_rho:6982.279389,lbfgsPos:2,nSizeLBFGS:3, kkt_violation:0.903876\"\n",
      "[1] \"-lno=213-i=3--jj:1----tmp_rho:0.048403,lbfgsPos:3,nSizeLBFGS:3, kkt_violation:4.954224\"\n",
      "[1] \"-lno=214-i=4--jj:1----tmp_rho:0.117650,lbfgsPos:1,nSizeLBFGS:3, kkt_violation:0.427681\"\n",
      "[1] \"-lno=215-i=5--jj:1----tmp_rho:173.727320,lbfgsPos:2,nSizeLBFGS:3, kkt_violation:0.382582\"\n",
      "[1] \"-lno=216-i=6--jj:1----tmp_rho:5.955019,lbfgsPos:3,nSizeLBFGS:3, kkt_violation:0.072475\"\n",
      "[1] \"-lno=217-i=7--jj:1----tmp_rho:64.017252,lbfgsPos:1,nSizeLBFGS:3, kkt_violation:0.050921\"\n",
      "[1] \"-lno=218-i=8--jj:1----tmp_rho:349.816890,lbfgsPos:2,nSizeLBFGS:3, kkt_violation:0.003786\"\n",
      "[1] \"-lno=219-i=9--jj:1----tmp_rho:76722.040380,lbfgsPos:3,nSizeLBFGS:3, kkt_violation:0.000183\"\n",
      "[1] \"-lno=220-i=1--jj:2----tmp_rho:1555.334626,lbfgsPos:1,nSizeLBFGS:3, kkt_violation:0.027291\"\n",
      "[1] \"-lno=221-i=2--jj:2----tmp_rho:499.090529,lbfgsPos:2,nSizeLBFGS:3, kkt_violation:0.001083\"\n",
      "[1] \"-lno=222-i=1--jj:3----tmp_rho:1962.620173,lbfgsPos:1,nSizeLBFGS:3, kkt_violation:1.000000\"\n",
      "[1] \"-lno=223-i=2--jj:3----tmp_rho:0.179450,lbfgsPos:2,nSizeLBFGS:3, kkt_violation:0.203811\"\n",
      "[1] \"-lno=224-i=3--jj:3----tmp_rho:0.559865,lbfgsPos:3,nSizeLBFGS:3, kkt_violation:0.028602\"\n",
      "[1] \"-lno=225-i=4--jj:3----tmp_rho:16.601697,lbfgsPos:1,nSizeLBFGS:3, kkt_violation:0.007594\"\n",
      "[1] \"-lno=226-i=5--jj:3----tmp_rho:366.423995,lbfgsPos:2,nSizeLBFGS:3, kkt_violation:0.000222\"\n",
      "[1] \"-lno=227-i=1--jj:4----tmp_rho:0.047526,lbfgsPos:1,nSizeLBFGS:3, kkt_violation:0.823012\"\n",
      "[1] \"-lno=228-i=2--jj:4----tmp_rho:20.497388,lbfgsPos:2,nSizeLBFGS:3, kkt_violation:0.794260\"\n",
      "[1] \"-lno=229-i=3--jj:4----tmp_rho:0.198911,lbfgsPos:3,nSizeLBFGS:3, kkt_violation:0.301860\"\n",
      "[1] \"-lno=230-i=4--jj:4----tmp_rho:9.009855,lbfgsPos:1,nSizeLBFGS:3, kkt_violation:0.061320\"\n",
      "[1] \"-lno=231-i=5--jj:4----tmp_rho:526.539802,lbfgsPos:2,nSizeLBFGS:3, kkt_violation:0.028528\"\n",
      "[1] \"-lno=232-i=6--jj:4----tmp_rho:678.396260,lbfgsPos:3,nSizeLBFGS:3, kkt_violation:0.020971\"\n",
      "[1] \"-lno=233-i=7--jj:4----tmp_rho:1217.860072,lbfgsPos:1,nSizeLBFGS:3, kkt_violation:0.018338\"\n",
      "[1] \"-lno=234-i=8--jj:4----tmp_rho:882.776821,lbfgsPos:2,nSizeLBFGS:3, kkt_violation:0.000879\"\n",
      "[1] \"-lno=235-i=1--jj:1----tmp_rho:477.192902,lbfgsPos:1,nSizeLBFGS:3, kkt_violation:0.028134\"\n",
      "[1] \"-lno=236-i=2--jj:1----tmp_rho:731.288932,lbfgsPos:2,nSizeLBFGS:3, kkt_violation:0.001599\"\n",
      "[1] \"-lno=237-i=1--jj:2----tmp_rho:478.765599,lbfgsPos:1,nSizeLBFGS:3, kkt_violation:0.028094\"\n",
      "[1] \"-lno=238-i=2--jj:2----tmp_rho:733.211772,lbfgsPos:2,nSizeLBFGS:3, kkt_violation:0.001594\"\n",
      "[1] \"-lno=239-i=1--jj:3----tmp_rho:245.788294,lbfgsPos:1,nSizeLBFGS:3, kkt_violation:0.003607\"\n",
      "[1] \"-lno=240-i=2--jj:3----tmp_rho:86379.143807,lbfgsPos:2,nSizeLBFGS:3, kkt_violation:0.000211\"\n",
      "[1] \"-lno=241-i=1--jj:4----tmp_rho:245.872650,lbfgsPos:1,nSizeLBFGS:3, kkt_violation:0.003606\"\n",
      "[1] \"-lno=242-i=2--jj:4----tmp_rho:86433.473277,lbfgsPos:2,nSizeLBFGS:3, kkt_violation:0.000211\"\n",
      "[1] \"-lno=243-i=1--jj:5----tmp_rho:478.253670,lbfgsPos:1,nSizeLBFGS:3, kkt_violation:0.028107\"\n",
      "[1] \"-lno=244-i=2--jj:5----tmp_rho:732.585929,lbfgsPos:2,nSizeLBFGS:3, kkt_violation:0.001596\"\n",
      "[1] \"-lno=245-i=1--jj:6----tmp_rho:246.891846,lbfgsPos:1,nSizeLBFGS:3, kkt_violation:0.003592\"\n",
      "[1] \"-lno=246-i=2--jj:6----tmp_rho:87091.172733,lbfgsPos:2,nSizeLBFGS:3, kkt_violation:0.000210\"\n",
      "[1] \"-lno=247-i=1--jj:7----tmp_rho:246.924897,lbfgsPos:1,nSizeLBFGS:3, kkt_violation:0.003592\"\n",
      "[1] \"-lno=248-i=2--jj:7----tmp_rho:87112.540842,lbfgsPos:2,nSizeLBFGS:3, kkt_violation:0.000210\"\n",
      "[1] \"-lno=249-i=1--jj:8----tmp_rho:478.217687,lbfgsPos:1,nSizeLBFGS:3, kkt_violation:0.028108\"\n",
      "[1] \"-lno=250-i=2--jj:8----tmp_rho:732.541936,lbfgsPos:2,nSizeLBFGS:3, kkt_violation:0.001596\"\n",
      "[1] \"-lno=251-i=1--jj:9----tmp_rho:246.598355,lbfgsPos:1,nSizeLBFGS:3, kkt_violation:0.003596\"\n",
      "[1] \"-lno=252-i=2--jj:9----tmp_rho:86901.536269,lbfgsPos:2,nSizeLBFGS:3, kkt_violation:0.000210\"\n",
      "[1] \"-lno=253-i=1--jj:10----tmp_rho:245.550638,lbfgsPos:1,nSizeLBFGS:3, kkt_violation:0.003611\"\n",
      "[1] \"-lno=254-i=2--jj:10----tmp_rho:86226.168978,lbfgsPos:2,nSizeLBFGS:3, kkt_violation:0.000212\"\n",
      "[1] \"-lno=255-i=1--jj:11----tmp_rho:246.674180,lbfgsPos:1,nSizeLBFGS:3, kkt_violation:0.003595\"\n",
      "[1] \"-lno=256-i=2--jj:11----tmp_rho:86950.511144,lbfgsPos:2,nSizeLBFGS:3, kkt_violation:0.000210\"\n",
      "[1] \"-lno=257-i=1--jj:12----tmp_rho:476.183333,lbfgsPos:1,nSizeLBFGS:3, kkt_violation:0.028159\"\n",
      "[1] \"-lno=258-i=2--jj:12----tmp_rho:730.054301,lbfgsPos:2,nSizeLBFGS:3, kkt_violation:0.001602\"\n",
      "[1] \"-lno=259-i=1--jj:13----tmp_rho:31.777822,lbfgsPos:1,nSizeLBFGS:3, kkt_violation:0.297346\"\n",
      "[1] \"-lno=260-i=2--jj:13----tmp_rho:1.130568,lbfgsPos:2,nSizeLBFGS:3, kkt_violation:0.350466\"\n",
      "[1] \"-lno=261-i=3--jj:13----tmp_rho:3.012248,lbfgsPos:3,nSizeLBFGS:3, kkt_violation:0.098956\"\n",
      "[1] \"-lno=262-i=4--jj:13----tmp_rho:86.296829,lbfgsPos:1,nSizeLBFGS:3, kkt_violation:0.027710\"\n",
      "[1] \"-lno=263-i=5--jj:13----tmp_rho:512.391388,lbfgsPos:2,nSizeLBFGS:3, kkt_violation:0.003140\"\n",
      "[1] \"-lno=264-i=1--jj:14----tmp_rho:16.039839,lbfgsPos:1,nSizeLBFGS:3, kkt_violation:0.672078\"\n",
      "[1] \"-lno=265-i=2--jj:14----tmp_rho:0.555761,lbfgsPos:2,nSizeLBFGS:3, kkt_violation:0.200970\"\n",
      "[1] \"-lno=266-i=3--jj:14----tmp_rho:4.896172,lbfgsPos:3,nSizeLBFGS:3, kkt_violation:0.208426\"\n",
      "[1] \"-lno=267-i=4--jj:14----tmp_rho:13.195178,lbfgsPos:1,nSizeLBFGS:3, kkt_violation:0.021845\"\n",
      "[1] \"-lno=268-i=5--jj:14----tmp_rho:953.730213,lbfgsPos:2,nSizeLBFGS:3, kkt_violation:0.005649\"\n",
      "[1] \"-lno=269-i=6--jj:14----tmp_rho:33506.593834,lbfgsPos:3,nSizeLBFGS:3, kkt_violation:0.000226\"\n",
      "[1] \"-lno=270-i=1--jj:15----tmp_rho:476.469495,lbfgsPos:1,nSizeLBFGS:3, kkt_violation:0.028152\"\n",
      "[1] \"-lno=271-i=2--jj:15----tmp_rho:730.404280,lbfgsPos:2,nSizeLBFGS:3, kkt_violation:0.001601\"\n",
      "[1] \"-lno=272-i=1--jj:16----tmp_rho:1401.312377,lbfgsPos:1,nSizeLBFGS:3, kkt_violation:0.050436\"\n",
      "[1] \"-lno=273-i=2--jj:16----tmp_rho:77.399003,lbfgsPos:2,nSizeLBFGS:3, kkt_violation:0.002809\"\n",
      "[1] \"-lno=274-i=3--jj:16----tmp_rho:23369.226408,lbfgsPos:3,nSizeLBFGS:3, kkt_violation:0.000135\"\n",
      "[1] \"-lno=275-i=1--jj:17----tmp_rho:247.042163,lbfgsPos:1,nSizeLBFGS:3, kkt_violation:0.003590\"\n",
      "[1] \"-lno=276-i=2--jj:17----tmp_rho:87188.375547,lbfgsPos:2,nSizeLBFGS:3, kkt_violation:0.000210\"\n",
      "[1] \"-lno=277-i=1--jj:18----tmp_rho:478.037116,lbfgsPos:1,nSizeLBFGS:3, kkt_violation:0.028112\"\n",
      "[1] \"-lno=278-i=2--jj:18----tmp_rho:732.321170,lbfgsPos:2,nSizeLBFGS:3, kkt_violation:0.001597\"\n",
      "[1] \"-lno=279-i=1--jj:19----tmp_rho:477.877737,lbfgsPos:1,nSizeLBFGS:3, kkt_violation:0.028116\"\n",
      "[1] \"-lno=280-i=2--jj:19----tmp_rho:732.126306,lbfgsPos:2,nSizeLBFGS:3, kkt_violation:0.001597\"\n",
      "[1] \"-lno=281-i=1--jj:20----tmp_rho:476.430189,lbfgsPos:1,nSizeLBFGS:3, kkt_violation:0.028153\"\n",
      "[1] \"-lno=282-i=2--jj:20----tmp_rho:730.356210,lbfgsPos:2,nSizeLBFGS:3, kkt_violation:0.001601\"\n",
      "[1] \"-lno=283-i=1--jj:21----tmp_rho:245.538589,lbfgsPos:1,nSizeLBFGS:3, kkt_violation:0.003611\"\n",
      "[1] \"-lno=284-i=2--jj:21----tmp_rho:86218.416751,lbfgsPos:2,nSizeLBFGS:3, kkt_violation:0.000212\"\n",
      "[1] \"-lno=285-i=1--jj:22----tmp_rho:477.870751,lbfgsPos:1,nSizeLBFGS:3, kkt_violation:0.028116\"\n",
      "[1] \"-lno=286-i=2--jj:22----tmp_rho:732.117764,lbfgsPos:2,nSizeLBFGS:3, kkt_violation:0.001597\"\n",
      "[1] \"-lno=287-i=1--jj:23----tmp_rho:245.553849,lbfgsPos:1,nSizeLBFGS:3, kkt_violation:0.003611\"\n",
      "[1] \"-lno=288-i=2--jj:23----tmp_rho:86228.234834,lbfgsPos:2,nSizeLBFGS:3, kkt_violation:0.000212\"\n",
      "[1] \"-lno=289-i=1--jj:24----tmp_rho:1634.561673,lbfgsPos:1,nSizeLBFGS:3, kkt_violation:0.052033\"\n",
      "[1] \"-lno=290-i=2--jj:24----tmp_rho:62.416722,lbfgsPos:2,nSizeLBFGS:3, kkt_violation:0.002892\"\n",
      "[1] \"-lno=291-i=3--jj:24----tmp_rho:18956.091762,lbfgsPos:3,nSizeLBFGS:3, kkt_violation:0.000143\"\n",
      "[1] \"-lno=292-i=1--jj:25----tmp_rho:1166.172095,lbfgsPos:1,nSizeLBFGS:3, kkt_violation:0.048240\"\n",
      "[1] \"-lno=293-i=2--jj:25----tmp_rho:101.343568,lbfgsPos:2,nSizeLBFGS:3, kkt_violation:0.002696\"\n",
      "[1] \"-lno=294-i=3--jj:25----tmp_rho:30305.885550,lbfgsPos:3,nSizeLBFGS:3, kkt_violation:0.000124\"\n",
      "[1] \"-lno=295-i=1--jj:1----tmp_rho:186.161171,lbfgsPos:1,nSizeLBFGS:3, kkt_violation:0.175611\"\n",
      "[1] \"-lno=296-i=2--jj:1----tmp_rho:3.215660,lbfgsPos:2,nSizeLBFGS:3, kkt_violation:0.057099\"\n",
      "[1] \"-lno=297-i=3--jj:1----tmp_rho:44.535296,lbfgsPos:3,nSizeLBFGS:3, kkt_violation:0.011381\"\n",
      "[1] \"-lno=298-i=4--jj:1----tmp_rho:1705.686261,lbfgsPos:1,nSizeLBFGS:3, kkt_violation:0.000622\"\n",
      "[1] \"-lno=299-i=1--jj:2----tmp_rho:0.006268,lbfgsPos:1,nSizeLBFGS:3, kkt_violation:0.775022\"\n",
      "[1] \"-lno=300-i=2--jj:2----tmp_rho:2151.519876,lbfgsPos:2,nSizeLBFGS:3, kkt_violation:0.770119\"\n",
      "[1] \"-lno=301-i=3--jj:2----tmp_rho:0.196904,lbfgsPos:3,nSizeLBFGS:3, kkt_violation:0.594074\"\n",
      "[1] \"-lno=302-i=4--jj:2----tmp_rho:1.373107,lbfgsPos:1,nSizeLBFGS:3, kkt_violation:0.304496\"\n",
      "[1] \"-lno=303-i=5--jj:2----tmp_rho:22.168491,lbfgsPos:2,nSizeLBFGS:3, kkt_violation:0.140263\"\n",
      "[1] \"-lno=304-i=6--jj:2----tmp_rho:19.591571,lbfgsPos:3,nSizeLBFGS:3, kkt_violation:0.077140\"\n",
      "[1] \"-lno=305-i=7--jj:2----tmp_rho:136.431367,lbfgsPos:1,nSizeLBFGS:3, kkt_violation:0.011215\"\n",
      "[1] \"-lno=306-i=8--jj:2----tmp_rho:9162.504576,lbfgsPos:2,nSizeLBFGS:3, kkt_violation:0.005115\"\n",
      "[1] \"-lno=307-i=9--jj:2----tmp_rho:86645.167522,lbfgsPos:3,nSizeLBFGS:3, kkt_violation:0.004936\"\n",
      "[1] \"-lno=308-i=10--jj:2----tmp_rho:10583.855984,lbfgsPos:1,nSizeLBFGS:3, kkt_violation:0.009728\"\n",
      "[1] \"   2. Ttl Inner Its: 128, KKT viol = 1.00e+00, obj = -3.12419336e+01, nz: 27\"\n",
      "[1] \"-lno=309-i=1--jj:1----tmp_rho:96.992523,lbfgsPos:1,nSizeLBFGS:3, kkt_violation:0.012964\"\n",
      "[1] \"-lno=310-i=2--jj:1----tmp_rho:4662.643192,lbfgsPos:2,nSizeLBFGS:3, kkt_violation:0.001597\"\n",
      "[1] \"-lno=311-i=1--jj:2----tmp_rho:5665.233084,lbfgsPos:1,nSizeLBFGS:3, kkt_violation:0.014776\"\n",
      "[1] \"-lno=312-i=2--jj:2----tmp_rho:1619.542194,lbfgsPos:2,nSizeLBFGS:3, kkt_violation:0.000322\"\n",
      "[1] \"-lno=313-i=1--jj:3----tmp_rho:84610.256216,lbfgsPos:1,nSizeLBFGS:3, kkt_violation:0.022035\"\n",
      "[1] \"-lno=314-i=2--jj:3----tmp_rho:48.887533,lbfgsPos:2,nSizeLBFGS:3, kkt_violation:0.000476\"\n",
      "[1] \"-lno=315-i=1--jj:4----tmp_rho:1463.765651,lbfgsPos:1,nSizeLBFGS:3, kkt_violation:0.020062\"\n",
      "[1] \"-lno=316-i=2--jj:4----tmp_rho:370.200565,lbfgsPos:2,nSizeLBFGS:3, kkt_violation:0.000623\"\n",
      "[1] \"-lno=317-i=3--jj:4----tmp_rho:1213.457791,lbfgsPos:3,nSizeLBFGS:3, kkt_violation:0.010023\"\n",
      "[1] \"-lno=318-i=4--jj:4----tmp_rho:909.342256,lbfgsPos:1,nSizeLBFGS:3, kkt_violation:0.001652\"\n",
      "[1] \"-lno=319-i=1--jj:1----tmp_rho:4430.295768,lbfgsPos:1,nSizeLBFGS:3, kkt_violation:0.010134\"\n",
      "[1] \"-lno=320-i=2--jj:1----tmp_rho:5124.754129,lbfgsPos:2,nSizeLBFGS:3, kkt_violation:0.000206\"\n",
      "[1] \"-lno=321-i=1--jj:2----tmp_rho:4430.377165,lbfgsPos:1,nSizeLBFGS:3, kkt_violation:0.010134\"\n",
      "[1] \"-lno=322-i=2--jj:2----tmp_rho:5124.841569,lbfgsPos:2,nSizeLBFGS:3, kkt_violation:0.000206\"\n",
      "[1] \"-lno=323-i=1--jj:3----tmp_rho:2248.054350,lbfgsPos:1,nSizeLBFGS:3, kkt_violation:0.000427\"\n",
      "[1] \"-lno=324-i=1--jj:4----tmp_rho:2248.054487,lbfgsPos:1,nSizeLBFGS:3, kkt_violation:0.000427\"\n",
      "[1] \"-lno=325-i=1--jj:5----tmp_rho:4430.350734,lbfgsPos:1,nSizeLBFGS:3, kkt_violation:0.010134\"\n",
      "[1] \"-lno=326-i=2--jj:5----tmp_rho:5124.813176,lbfgsPos:2,nSizeLBFGS:3, kkt_violation:0.000206\"\n",
      "[1] \"-lno=327-i=1--jj:6----tmp_rho:2248.056131,lbfgsPos:1,nSizeLBFGS:3, kkt_violation:0.000427\"\n",
      "[1] \"-lno=328-i=1--jj:7----tmp_rho:2248.056184,lbfgsPos:1,nSizeLBFGS:3, kkt_violation:0.000427\"\n",
      "[1] \"-lno=329-i=1--jj:8----tmp_rho:4430.348874,lbfgsPos:1,nSizeLBFGS:3, kkt_violation:0.010134\"\n",
      "[1] \"-lno=330-i=2--jj:8----tmp_rho:5124.811178,lbfgsPos:2,nSizeLBFGS:3, kkt_violation:0.000206\"\n",
      "[1] \"-lno=331-i=1--jj:9----tmp_rho:2248.055660,lbfgsPos:1,nSizeLBFGS:3, kkt_violation:0.000427\"\n",
      "[1] \"-lno=332-i=1--jj:10----tmp_rho:2248.053963,lbfgsPos:1,nSizeLBFGS:3, kkt_violation:0.000427\"\n",
      "[1] \"-lno=333-i=1--jj:11----tmp_rho:2248.055782,lbfgsPos:1,nSizeLBFGS:3, kkt_violation:0.000427\"\n",
      "[1] \"-lno=334-i=1--jj:12----tmp_rho:4430.243203,lbfgsPos:1,nSizeLBFGS:3, kkt_violation:0.010134\"\n",
      "[1] \"-lno=335-i=2--jj:12----tmp_rho:5124.697661,lbfgsPos:2,nSizeLBFGS:3, kkt_violation:0.000206\"\n",
      "[1] \"-lno=336-i=1--jj:13----tmp_rho:193.618418,lbfgsPos:1,nSizeLBFGS:3, kkt_violation:0.065210\"\n",
      "[1] \"-lno=337-i=2--jj:13----tmp_rho:86.004991,lbfgsPos:2,nSizeLBFGS:3, kkt_violation:0.008834\"\n",
      "[1] \"-lno=338-i=3--jj:13----tmp_rho:5652.070461,lbfgsPos:3,nSizeLBFGS:3, kkt_violation:0.000610\"\n",
      "[1] \"-lno=339-i=1--jj:14----tmp_rho:4735.515773,lbfgsPos:1,nSizeLBFGS:3, kkt_violation:0.031490\"\n",
      "[1] \"-lno=340-i=2--jj:14----tmp_rho:159.675985,lbfgsPos:2,nSizeLBFGS:3, kkt_violation:0.001095\"\n",
      "[1] \"-lno=341-i=1--jj:15----tmp_rho:4430.258127,lbfgsPos:1,nSizeLBFGS:3, kkt_violation:0.010134\"\n",
      "[1] \"-lno=342-i=2--jj:15----tmp_rho:5124.713694,lbfgsPos:2,nSizeLBFGS:3, kkt_violation:0.000206\"\n",
      "[1] \"-lno=343-i=1--jj:16----tmp_rho:13254.257664,lbfgsPos:1,nSizeLBFGS:3, kkt_violation:0.017265\"\n",
      "[1] \"-lno=344-i=2--jj:16----tmp_rho:592.609892,lbfgsPos:2,nSizeLBFGS:3, kkt_violation:0.000347\"\n",
      "[1] \"-lno=345-i=1--jj:17----tmp_rho:2248.056372,lbfgsPos:1,nSizeLBFGS:3, kkt_violation:0.000427\"\n",
      "[1] \"-lno=346-i=1--jj:18----tmp_rho:4430.339535,lbfgsPos:1,nSizeLBFGS:3, kkt_violation:0.010134\"\n",
      "[1] \"-lno=347-i=2--jj:18----tmp_rho:5124.801146,lbfgsPos:2,nSizeLBFGS:3, kkt_violation:0.000206\"\n",
      "[1] \"-lno=348-i=1--jj:19----tmp_rho:4430.331285,lbfgsPos:1,nSizeLBFGS:3, kkt_violation:0.010134\"\n",
      "[1] \"-lno=349-i=2--jj:19----tmp_rho:5124.792283,lbfgsPos:2,nSizeLBFGS:3, kkt_violation:0.000206\"\n",
      "[1] \"-lno=350-i=1--jj:20----tmp_rho:4430.256079,lbfgsPos:1,nSizeLBFGS:3, kkt_violation:0.010134\"\n",
      "[1] \"-lno=351-i=2--jj:20----tmp_rho:5124.711493,lbfgsPos:2,nSizeLBFGS:3, kkt_violation:0.000206\"\n",
      "[1] \"-lno=352-i=1--jj:21----tmp_rho:2248.053944,lbfgsPos:1,nSizeLBFGS:3, kkt_violation:0.000427\"\n",
      "[1] \"-lno=353-i=1--jj:22----tmp_rho:4430.330923,lbfgsPos:1,nSizeLBFGS:3, kkt_violation:0.010134\"\n",
      "[1] \"-lno=354-i=2--jj:22----tmp_rho:5124.791895,lbfgsPos:2,nSizeLBFGS:3, kkt_violation:0.000206\"\n",
      "[1] \"-lno=355-i=1--jj:23----tmp_rho:2248.053969,lbfgsPos:1,nSizeLBFGS:3, kkt_violation:0.000427\"\n",
      "[1] \"-lno=356-i=1--jj:24----tmp_rho:15455.427865,lbfgsPos:1,nSizeLBFGS:3, kkt_violation:0.017779\"\n",
      "[1] \"-lno=357-i=2--jj:24----tmp_rho:479.204493,lbfgsPos:2,nSizeLBFGS:3, kkt_violation:0.000357\"\n",
      "[1] \"-lno=358-i=1--jj:25----tmp_rho:11053.082637,lbfgsPos:1,nSizeLBFGS:3, kkt_violation:0.016545\"\n",
      "[1] \"-lno=359-i=2--jj:25----tmp_rho:773.809433,lbfgsPos:2,nSizeLBFGS:3, kkt_violation:0.000333\"\n",
      "[1] \"-lno=360-i=1--jj:1----tmp_rho:319070.346668,lbfgsPos:1,nSizeLBFGS:3, kkt_violation:0.003904\"\n",
      "[1] \"-lno=361-i=2--jj:1----tmp_rho:7252.633944,lbfgsPos:2,nSizeLBFGS:3, kkt_violation:0.000267\"\n",
      "[1] \"-lno=362-i=3--jj:1----tmp_rho:1082186.001575,lbfgsPos:3,nSizeLBFGS:3, kkt_violation:0.000117\"\n",
      "[1] \"-lno=363-i=1--jj:2----tmp_rho:690.916419,lbfgsPos:1,nSizeLBFGS:3, kkt_violation:0.001345\"\n",
      "[1] \"-lno=364-i=2--jj:2----tmp_rho:594902.887457,lbfgsPos:2,nSizeLBFGS:3, kkt_violation:0.000206\"\n",
      "[1] \"-lno=365-i=3--jj:2----tmp_rho:132108302.770565,lbfgsPos:3,nSizeLBFGS:3, kkt_violation:0.000201\"\n",
      "[1] \"-lno=366-i=4--jj:2----tmp_rho:3632377.476782,lbfgsPos:1,nSizeLBFGS:3, kkt_violation:0.000401\"\n",
      "[1] \"-lno=367-i=5--jj:2----tmp_rho:4433043.989156,lbfgsPos:2,nSizeLBFGS:3, kkt_violation:0.000476\"\n",
      "[1] \"-lno=368-i=6--jj:2----tmp_rho:2013486.810659,lbfgsPos:3,nSizeLBFGS:3, kkt_violation:0.000161\"\n",
      "[1] \"   3. Ttl Inner Its: 91, KKT viol = 6.52e-02, obj = -2.92501049e+01, nz: 29\"\n",
      "[1] \"   4. Ttl Inner Its: 31, KKT viol = 1.51e-05, obj = -2.92501049e+01, nz: 29\"\n"
     ]
    },
    {
     "name": "stderr",
     "output_type": "stream",
     "text": [
      "Warning message in sqrt(normX^2 + ktensor_norm(M)^2 - 2 * tt_innerprod(M, X)):\n",
      "\"NaNs produced\""
     ]
    },
    {
     "name": "stdout",
     "output_type": "stream",
     "text": [
      "[1] \"===========================================\"\n",
      "[1] \" Final log-likelihood = -2.925010e+01 \"\n",
      "[1] \" Final least squares fit = NaN \"\n",
      "[1] \" Final KKT violation = 1.5062234e-05\"\n",
      "[1] \" Total inner iterations = 489\"\n",
      "[1] \" Total execution time = 0.75 secs\"\n",
      "$lambda\n",
      "[1]  8.999982 47.999910\n",
      "\n",
      "$u\n",
      "$u[[1]]\n",
      "          [,1]       [,2]\n",
      "[1,] 0.1111111 0.00000000\n",
      "[2,] 0.0000000 0.06250023\n",
      "[3,] 0.0000000 0.93749977\n",
      "[4,] 0.8888889 0.00000000\n",
      "\n",
      "$u[[2]]\n",
      "           [,1]       [,2]\n",
      " [1,] 0.0000000 0.04166672\n",
      " [2,] 0.0000000 0.04166672\n",
      " [3,] 0.0000000 0.02083337\n",
      " [4,] 0.0000000 0.02083337\n",
      " [5,] 0.0000000 0.04166672\n",
      " [6,] 0.0000000 0.02083337\n",
      " [7,] 0.0000000 0.02083337\n",
      " [8,] 0.0000000 0.04166672\n",
      " [9,] 0.0000000 0.02083337\n",
      "[10,] 0.0000000 0.02083337\n",
      "[11,] 0.0000000 0.02083337\n",
      "[12,] 0.0000000 0.04166672\n",
      "[13,] 0.2222261 0.00000000\n",
      "[14,] 0.7777739 0.00000000\n",
      "[15,] 0.0000000 0.04166672\n",
      "[16,] 0.0000000 0.12499970\n",
      "[17,] 0.0000000 0.02083337\n",
      "[18,] 0.0000000 0.04166672\n",
      "[19,] 0.0000000 0.04166672\n",
      "[20,] 0.0000000 0.04166672\n",
      "[21,] 0.0000000 0.02083337\n",
      "[22,] 0.0000000 0.04166672\n",
      "[23,] 0.0000000 0.02083337\n",
      "[24,] 0.0000000 0.14583292\n",
      "[25,] 0.0000000 0.10416647\n",
      "\n",
      "$u[[3]]\n",
      "          [,1]      [,2]\n",
      "[1,] 0.8888887 0.1041668\n",
      "[2,] 0.1111113 0.8958332\n",
      "\n",
      "\n"
     ]
    }
   ],
   "source": [
    "P1_3<- cp_apr(M,2,opts=list(alg='pqnr'))\n",
    "\n",
    "print(P1_3$M)"
   ]
  },
  {
   "cell_type": "code",
   "execution_count": 95,
   "id": "8e1a996d",
   "metadata": {},
   "outputs": [
    {
     "ename": "ERROR",
     "evalue": "Error in cp_apr(M, 2, opts = list(alg = \"kappatol\")): invalid alg:kappatol, possible values are mu,pdnr,pqnr\n",
     "output_type": "error",
     "traceback": [
      "Error in cp_apr(M, 2, opts = list(alg = \"kappatol\")): invalid alg:kappatol, possible values are mu,pdnr,pqnr\nTraceback:\n",
      "1. cp_apr(M, 2, opts = list(alg = \"kappatol\"))",
      "2. stop(sprintf(\"invalid alg:%s, possible values are mu,pdnr,pqnr\", \n .     opts[[\"alg\"]]))"
     ]
    }
   ],
   "source": [
    "P1_4<- cp_apr(M,2,opts=list(alg='kappatol'))\n",
    "\n",
    "print(P1_4$M)\n",
    "\n",
    "            ## The alg is available in the doc but not yet supported as of current R -v"
   ]
  },
  {
   "cell_type": "markdown",
   "id": "168cc466",
   "metadata": {},
   "source": [
    "**CP_NMU implementation [ Fail ]**"
   ]
  },
  {
   "cell_type": "code",
   "execution_count": 66,
   "id": "8caeb747",
   "metadata": {},
   "outputs": [
    {
     "name": "stdout",
     "output_type": "stream",
     "text": [
      "[1] 1 2 3\n",
      "[1] \"Nonnegative PARAFAC:\"\n",
      "[1] \"n:1, calc spt_mttkrp...\"\n",
      "[1] \"n:2, calc spt_mttkrp...\"\n",
      "[1] \"n:3, calc spt_mttkrp...\"\n"
     ]
    },
    {
     "name": "stderr",
     "output_type": "stream",
     "text": [
      "Warning message in sqrt(normX^2 + ktensor_norm(P)^2 - 2 * tt_innerprod(P, X)):\n",
      "\"NaNs produced\""
     ]
    },
    {
     "name": "stdout",
     "output_type": "stream",
     "text": [
      "[1] \" Iter  1: fit = NaN fitdelta =     NaN, itime=0.00\"\n",
      "[1] \"n:1, calc spt_mttkrp...\"\n",
      "[1] \"n:2, calc spt_mttkrp...\"\n",
      "[1] \"n:3, calc spt_mttkrp...\"\n"
     ]
    },
    {
     "name": "stderr",
     "output_type": "stream",
     "text": [
      "Warning message in sqrt(normX^2 + ktensor_norm(P)^2 - 2 * tt_innerprod(P, X)):\n",
      "\"NaNs produced\""
     ]
    },
    {
     "name": "stdout",
     "output_type": "stream",
     "text": [
      "[1] \" Iter  2: fit = NaN fitdelta =     NaN, itime=0.01\"\n"
     ]
    },
    {
     "ename": "ERROR",
     "evalue": "Error in if ((iter > 1) && (fitchange < fitchangetol)) {: missing value where TRUE/FALSE needed\n",
     "output_type": "error",
     "traceback": [
      "Error in if ((iter > 1) && (fitchange < fitchangetol)) {: missing value where TRUE/FALSE needed\nTraceback:\n",
      "1. cp_nmu(M, R = 2, opts = list(alg = \"pdnr\"))"
     ]
    }
   ],
   "source": [
    "set.seed(15)\n",
    "\n",
    "P2 <- cp_nmu(M, R=2, opts=list(alg='pdnr'))"
   ]
  },
  {
   "cell_type": "code",
   "execution_count": 73,
   "id": "cb78a6f3",
   "metadata": {},
   "outputs": [
    {
     "name": "stdout",
     "output_type": "stream",
     "text": [
      "[1] \"The modes:\"\n",
      "[1]  4  4 25\n"
     ]
    }
   ],
   "source": [
    "tnsr=getTensor(dm)"
   ]
  },
  {
   "cell_type": "markdown",
   "id": "0cd6db4f",
   "metadata": {},
   "source": [
    "**CP_01 implementation [ Fail ]**"
   ]
  },
  {
   "cell_type": "code",
   "execution_count": 87,
   "id": "f30f4578",
   "metadata": {},
   "outputs": [
    {
     "data": {
      "text/html": [
       "<table>\n",
       "<thead><tr><th scope=col>Src</th><th scope=col>Dst</th><th scope=col>Auth</th></tr></thead>\n",
       "<tbody>\n",
       "\t<tr><td>Comp599155       </td><td>None             </td><td>InteractiveLogon </td></tr>\n",
       "\t<tr><td>Comp599155       </td><td>None             </td><td>InteractiveLogon </td></tr>\n",
       "\t<tr><td>Comp599155       </td><td>None             </td><td>InteractiveLogon </td></tr>\n",
       "\t<tr><td>Comp679250       </td><td>Comp599155       </td><td>NetworkLogon     </td></tr>\n",
       "\t<tr><td>Comp547871       </td><td>ActiveDirectory  </td><td>NetworkLogon     </td></tr>\n",
       "\t<tr><td>Comp679250       </td><td>Comp599155       </td><td>RemoteInteractive</td></tr>\n",
       "\t<tr><td>Comp679250       </td><td>Comp599155       </td><td>NetworkLogon     </td></tr>\n",
       "\t<tr><td>Comp215429       </td><td>Comp599155       </td><td>NetworkLogon     </td></tr>\n",
       "\t<tr><td>Comp599155       </td><td>Comp936659       </td><td>NetworkLogon     </td></tr>\n",
       "\t<tr><td>Comp599155       </td><td>Comp422203       </td><td>NetworkLogon     </td></tr>\n",
       "</tbody>\n",
       "</table>\n"
      ],
      "text/latex": [
       "\\begin{tabular}{lll}\n",
       " Src & Dst & Auth\\\\\n",
       "\\hline\n",
       "\t Comp599155        & None              & InteractiveLogon \\\\\n",
       "\t Comp599155        & None              & InteractiveLogon \\\\\n",
       "\t Comp599155        & None              & InteractiveLogon \\\\\n",
       "\t Comp679250        & Comp599155        & NetworkLogon     \\\\\n",
       "\t Comp547871        & ActiveDirectory   & NetworkLogon     \\\\\n",
       "\t Comp679250        & Comp599155        & RemoteInteractive\\\\\n",
       "\t Comp679250        & Comp599155        & NetworkLogon     \\\\\n",
       "\t Comp215429        & Comp599155        & NetworkLogon     \\\\\n",
       "\t Comp599155        & Comp936659        & NetworkLogon     \\\\\n",
       "\t Comp599155        & Comp422203        & NetworkLogon     \\\\\n",
       "\\end{tabular}\n"
      ],
      "text/markdown": [
       "\n",
       "| Src | Dst | Auth |\n",
       "|---|---|---|\n",
       "| Comp599155        | None              | InteractiveLogon  |\n",
       "| Comp599155        | None              | InteractiveLogon  |\n",
       "| Comp599155        | None              | InteractiveLogon  |\n",
       "| Comp679250        | Comp599155        | NetworkLogon      |\n",
       "| Comp547871        | ActiveDirectory   | NetworkLogon      |\n",
       "| Comp679250        | Comp599155        | RemoteInteractive |\n",
       "| Comp679250        | Comp599155        | NetworkLogon      |\n",
       "| Comp215429        | Comp599155        | NetworkLogon      |\n",
       "| Comp599155        | Comp936659        | NetworkLogon      |\n",
       "| Comp599155        | Comp422203        | NetworkLogon      |\n",
       "\n"
      ],
      "text/plain": [
       "      Src        Dst             Auth             \n",
       " [1,] Comp599155 None            InteractiveLogon \n",
       " [2,] Comp599155 None            InteractiveLogon \n",
       " [3,] Comp599155 None            InteractiveLogon \n",
       " [4,] Comp679250 Comp599155      NetworkLogon     \n",
       " [5,] Comp547871 ActiveDirectory NetworkLogon     \n",
       " [6,] Comp679250 Comp599155      RemoteInteractive\n",
       " [7,] Comp679250 Comp599155      NetworkLogon     \n",
       " [8,] Comp215429 Comp599155      NetworkLogon     \n",
       " [9,] Comp599155 Comp936659      NetworkLogon     \n",
       "[10,] Comp599155 Comp422203      NetworkLogon     "
      ]
     },
     "metadata": {},
     "output_type": "display_data"
    },
    {
     "data": {
      "text/html": [
       "'matrix'"
      ],
      "text/latex": [
       "'matrix'"
      ],
      "text/markdown": [
       "'matrix'"
      ],
      "text/plain": [
       "[1] \"matrix\""
      ]
     },
     "metadata": {},
     "output_type": "display_data"
    }
   ],
   "source": [
    "df<- as.matrix(as.data.frame(cbind(Src=U17$SrcDevice, Dst=U17$DstDevice, Auth=U17$AuthType)))\n",
    "\n",
    "head(df, 10)\n",
    "class(df) "
   ]
  },
  {
   "cell_type": "code",
   "execution_count": 91,
   "id": "948f5417",
   "metadata": {},
   "outputs": [
    {
     "name": "stdout",
     "output_type": "stream",
     "text": [
      "[1] \"The modes:\"\n",
      "[1]  7  7 25\n",
      "[1] 1 2 3\n",
      "[1] \"Nonnegative PARAFAC:\"\n",
      "[1] \"n:1, calc spt_mttkrp...\"\n",
      "[1] \"n:2, calc spt_mttkrp...\"\n",
      "[1] \"n:3, calc spt_mttkrp...\"\n"
     ]
    },
    {
     "ename": "ERROR",
     "evalue": "Error in pracma::accumarray(newsubs, newvals, sz = newsiz): Argument 'sz' does not fit with 'subs'.\n",
     "output_type": "error",
     "traceback": [
      "Error in pracma::accumarray(newsubs, newvals, sz = newsiz): Argument 'sz' does not fit with 'subs'.\nTraceback:\n",
      "1. cp_nmu(T, R = 2)",
      "2. spt_mttkrp(X, U, n)",
      "3. spt_ttv(X, Z, -n)",
      "4. pracma::accumarray(newsubs, newvals, sz = newsiz)",
      "5. stop(\"Argument 'sz' does not fit with 'subs'.\")"
     ]
    }
   ],
   "source": [
    "tnsr=getTensor(df)\n",
    "subs=getTnsrijk(tnsr$X)\n",
    "T<- list(subs=subs,vals=rep(1,nrow(subs)),size=c(length(unique(df[,1])), length(unique(df[,2])), length(unique(df[,3]))))\n",
    "normT=sqrt(sum(T$vals))\n",
    "\n",
    "set.seed(555)\n",
    "P1<- cp_nmu(T, R=2)\n",
    "res<- CP_R01(T, P1[[1]])"
   ]
  },
  {
   "cell_type": "code",
   "execution_count": 99,
   "id": "13f622d5",
   "metadata": {},
   "outputs": [
    {
     "data": {
      "text/html": [
       "<table>\n",
       "<thead><tr><th scope=col>t1</th><th scope=col>t2</th><th scope=col>t3</th></tr></thead>\n",
       "<tbody>\n",
       "\t<tr><td>3 </td><td>25</td><td>1 </td></tr>\n",
       "\t<tr><td>3 </td><td>25</td><td>1 </td></tr>\n",
       "\t<tr><td>3 </td><td>25</td><td>1 </td></tr>\n",
       "\t<tr><td>4 </td><td>14</td><td>2 </td></tr>\n",
       "\t<tr><td>2 </td><td> 1</td><td>2 </td></tr>\n",
       "\t<tr><td>4 </td><td>14</td><td>3 </td></tr>\n",
       "\t<tr><td>4 </td><td>14</td><td>2 </td></tr>\n",
       "\t<tr><td>1 </td><td>14</td><td>2 </td></tr>\n",
       "\t<tr><td>3 </td><td>21</td><td>2 </td></tr>\n",
       "\t<tr><td>3 </td><td>10</td><td>2 </td></tr>\n",
       "</tbody>\n",
       "</table>\n"
      ],
      "text/latex": [
       "\\begin{tabular}{lll}\n",
       " t1 & t2 & t3\\\\\n",
       "\\hline\n",
       "\t 3  & 25 & 1 \\\\\n",
       "\t 3  & 25 & 1 \\\\\n",
       "\t 3  & 25 & 1 \\\\\n",
       "\t 4  & 14 & 2 \\\\\n",
       "\t 2  &  1 & 2 \\\\\n",
       "\t 4  & 14 & 3 \\\\\n",
       "\t 4  & 14 & 2 \\\\\n",
       "\t 1  & 14 & 2 \\\\\n",
       "\t 3  & 21 & 2 \\\\\n",
       "\t 3  & 10 & 2 \\\\\n",
       "\\end{tabular}\n"
      ],
      "text/markdown": [
       "\n",
       "| t1 | t2 | t3 |\n",
       "|---|---|---|\n",
       "| 3  | 25 | 1  |\n",
       "| 3  | 25 | 1  |\n",
       "| 3  | 25 | 1  |\n",
       "| 4  | 14 | 2  |\n",
       "| 2  |  1 | 2  |\n",
       "| 4  | 14 | 3  |\n",
       "| 4  | 14 | 2  |\n",
       "| 1  | 14 | 2  |\n",
       "| 3  | 21 | 2  |\n",
       "| 3  | 10 | 2  |\n",
       "\n"
      ],
      "text/plain": [
       "      t1 t2 t3\n",
       " [1,] 3  25 1 \n",
       " [2,] 3  25 1 \n",
       " [3,] 3  25 1 \n",
       " [4,] 4  14 2 \n",
       " [5,] 2   1 2 \n",
       " [6,] 4  14 3 \n",
       " [7,] 4  14 2 \n",
       " [8,] 1  14 2 \n",
       " [9,] 3  21 2 \n",
       "[10,] 3  10 2 "
      ]
     },
     "metadata": {},
     "output_type": "display_data"
    },
    {
     "data": {
      "text/html": [
       "<table>\n",
       "<thead><tr><th scope=col>Src</th><th scope=col>Dst</th><th scope=col>Auth</th></tr></thead>\n",
       "<tbody>\n",
       "\t<tr><td>Comp599155       </td><td>None             </td><td>InteractiveLogon </td></tr>\n",
       "\t<tr><td>Comp599155       </td><td>None             </td><td>InteractiveLogon </td></tr>\n",
       "\t<tr><td>Comp599155       </td><td>None             </td><td>InteractiveLogon </td></tr>\n",
       "\t<tr><td>Comp679250       </td><td>Comp599155       </td><td>NetworkLogon     </td></tr>\n",
       "\t<tr><td>Comp547871       </td><td>ActiveDirectory  </td><td>NetworkLogon     </td></tr>\n",
       "\t<tr><td>Comp679250       </td><td>Comp599155       </td><td>RemoteInteractive</td></tr>\n",
       "\t<tr><td>Comp679250       </td><td>Comp599155       </td><td>NetworkLogon     </td></tr>\n",
       "\t<tr><td>Comp215429       </td><td>Comp599155       </td><td>NetworkLogon     </td></tr>\n",
       "\t<tr><td>Comp599155       </td><td>Comp936659       </td><td>NetworkLogon     </td></tr>\n",
       "\t<tr><td>Comp599155       </td><td>Comp422203       </td><td>NetworkLogon     </td></tr>\n",
       "</tbody>\n",
       "</table>\n"
      ],
      "text/latex": [
       "\\begin{tabular}{lll}\n",
       " Src & Dst & Auth\\\\\n",
       "\\hline\n",
       "\t Comp599155        & None              & InteractiveLogon \\\\\n",
       "\t Comp599155        & None              & InteractiveLogon \\\\\n",
       "\t Comp599155        & None              & InteractiveLogon \\\\\n",
       "\t Comp679250        & Comp599155        & NetworkLogon     \\\\\n",
       "\t Comp547871        & ActiveDirectory   & NetworkLogon     \\\\\n",
       "\t Comp679250        & Comp599155        & RemoteInteractive\\\\\n",
       "\t Comp679250        & Comp599155        & NetworkLogon     \\\\\n",
       "\t Comp215429        & Comp599155        & NetworkLogon     \\\\\n",
       "\t Comp599155        & Comp936659        & NetworkLogon     \\\\\n",
       "\t Comp599155        & Comp422203        & NetworkLogon     \\\\\n",
       "\\end{tabular}\n"
      ],
      "text/markdown": [
       "\n",
       "| Src | Dst | Auth |\n",
       "|---|---|---|\n",
       "| Comp599155        | None              | InteractiveLogon  |\n",
       "| Comp599155        | None              | InteractiveLogon  |\n",
       "| Comp599155        | None              | InteractiveLogon  |\n",
       "| Comp679250        | Comp599155        | NetworkLogon      |\n",
       "| Comp547871        | ActiveDirectory   | NetworkLogon      |\n",
       "| Comp679250        | Comp599155        | RemoteInteractive |\n",
       "| Comp679250        | Comp599155        | NetworkLogon      |\n",
       "| Comp215429        | Comp599155        | NetworkLogon      |\n",
       "| Comp599155        | Comp936659        | NetworkLogon      |\n",
       "| Comp599155        | Comp422203        | NetworkLogon      |\n",
       "\n"
      ],
      "text/plain": [
       "      Src        Dst             Auth             \n",
       " [1,] Comp599155 None            InteractiveLogon \n",
       " [2,] Comp599155 None            InteractiveLogon \n",
       " [3,] Comp599155 None            InteractiveLogon \n",
       " [4,] Comp679250 Comp599155      NetworkLogon     \n",
       " [5,] Comp547871 ActiveDirectory NetworkLogon     \n",
       " [6,] Comp679250 Comp599155      RemoteInteractive\n",
       " [7,] Comp679250 Comp599155      NetworkLogon     \n",
       " [8,] Comp215429 Comp599155      NetworkLogon     \n",
       " [9,] Comp599155 Comp936659      NetworkLogon     \n",
       "[10,] Comp599155 Comp422203      NetworkLogon     "
      ]
     },
     "metadata": {},
     "output_type": "display_data"
    }
   ],
   "source": [
    "df<- as.matrix(as.data.frame(cbind(Src=U17$SrcDevice, Dst=U17$DstDevice, Auth=U17$AuthType)))\n",
    "\n",
    "t1<- tapply(df[,1], df[,1])\n",
    "t2<- tapply(df[,2], df[,2])\n",
    "t3<- tapply(df[,3], df[,3])\n",
    "\n",
    "dt<- as.matrix(cbind(t1,t2,t3))\n",
    "\n",
    "head(dt, 10)\n",
    "head(df, 10)"
   ]
  },
  {
   "cell_type": "code",
   "execution_count": 97,
   "id": "0afe9b9d",
   "metadata": {},
   "outputs": [
    {
     "name": "stdout",
     "output_type": "stream",
     "text": [
      "[1] 0\n",
      "[1] \"CP_PDNR (alternating Poisson regression using damped Newton)\"\n",
      "[1] \"  Precomputing sparse index sets...\"\n",
      "[1] \"done\"\n",
      "[1] \"   1. Ttl Inner Its: 64, KKT viol = 7.56e+00, obj = -4.49466047e+01, nz: 7, time:0.10\"\n",
      "[1] \"   2. Ttl Inner Its: 63, KKT viol = 2.58e+00, obj = -3.17956079e+01, nz: 9, time:0.13\"\n",
      "[1] \"   3. Ttl Inner Its: 50, KKT viol = 3.64e-01, obj = -3.11874805e+01, nz: 9, time:0.16\"\n",
      "[1] \"   4. Ttl Inner Its: 62, KKT viol = 2.53e-02, obj = -3.10041318e+01, nz: 9, time:0.21\"\n",
      "[1] \"   5. Ttl Inner Its: 68, KKT viol = 4.14e-03, obj = -3.09800666e+01, nz: 9, time:0.25\"\n",
      "[1] \"   6. Ttl Inner Its: 51, KKT viol = 6.20e-04, obj = -3.09787069e+01, nz: 9, time:0.28\"\n",
      "[1] \"   7. Ttl Inner Its: 32, KKT viol = 9.45e-05, obj = -3.09787069e+01, nz: 9, time:0.30\"\n"
     ]
    },
    {
     "name": "stderr",
     "output_type": "stream",
     "text": [
      "Warning message in sqrt(normX^2 + ktensor_norm(M)^2 - 2 * tt_innerprod(M, X)):\n",
      "\"NaNs produced\""
     ]
    },
    {
     "name": "stdout",
     "output_type": "stream",
     "text": [
      "[1] \"===========================================\"\n",
      "[1] \" Final log-likelihood = -3.097871e+01 \"\n",
      "[1] \" Final least squares fit = NaN \"\n",
      "[1] \" Final KKT violation = 9.4468094e-05\"\n",
      "[1] \" Total inner iterations = 390\"\n",
      "[1] \" Total execution time = 0.30 secs\"\n",
      "$lambda\n",
      "[1] 40.9999 16.0008\n",
      "\n",
      "$u\n",
      "$u[[1]]\n",
      "     [,1]       [,2]\n",
      "[1,]    0 0.06249886\n",
      "[2,]    0 0.18749657\n",
      "[3,]    1 0.25001373\n",
      "[4,]    0 0.49999085\n",
      "\n",
      "$u[[2]]\n",
      "            [,1]         [,2]\n",
      " [1,] 0.00000000 1.249938e-01\n",
      " [2,] 0.04878163 3.635095e-06\n",
      " [3,] 0.02439072 2.058409e-06\n",
      " [4,] 0.02439058 2.428417e-06\n",
      " [5,] 0.04877999 1.566669e-06\n",
      " [6,] 0.02438953 5.107033e-06\n",
      " [7,] 0.02438984 1.189445e-06\n",
      " [8,] 0.04878026 8.901282e-07\n",
      " [9,] 0.02438975 1.417697e-06\n",
      "[10,] 0.02438995 9.128863e-07\n",
      "[11,] 0.02439049 2.647400e-06\n",
      "[12,] 0.04878162 3.668213e-06\n",
      "[13,] 0.00000000 1.249938e-01\n",
      "[14,] 0.00000000 4.374781e-01\n",
      "[15,] 0.04878017 1.116548e-06\n",
      "[16,] 0.14634121 1.536954e-06\n",
      "[17,] 0.02438937 5.512389e-06\n",
      "[18,] 0.04878004 1.441325e-06\n",
      "[19,] 0.04878011 1.268201e-06\n",
      "[20,] 0.04878227 2.007706e-06\n",
      "[21,] 0.02438995 8.905369e-07\n",
      "[22,] 0.04878183 3.136889e-06\n",
      "[23,] 0.02438922 5.903961e-06\n",
      "[24,] 0.17073147 1.633332e-06\n",
      "[25,] 0.00000000 3.124844e-01\n",
      "\n",
      "$u[[3]]\n",
      "     [,1]      [,2]\n",
      "[1,]    0 0.3124859\n",
      "[2,]    1 0.5000153\n",
      "[3,]    0 0.1874988\n",
      "\n",
      "\n"
     ]
    }
   ],
   "source": [
    "MT <- list(subs=dt, vals=rep(1, nrow(dt)), size=c(length(unique(dt[,1])), length(unique(dt[,2])), length(unique(dt[,3]))))\n",
    "\n",
    "P<- cp_apr(MT,2,opts=list(alg='pdnr'))\n",
    "\n",
    "print(P$M)"
   ]
  },
  {
   "cell_type": "code",
   "execution_count": null,
   "id": "42ec43aa",
   "metadata": {},
   "outputs": [],
   "source": []
  }
 ],
 "metadata": {
  "kernelspec": {
   "display_name": "R",
   "language": "R",
   "name": "ir"
  },
  "language_info": {
   "codemirror_mode": "r",
   "file_extension": ".r",
   "mimetype": "text/x-r-source",
   "name": "R",
   "pygments_lexer": "r",
   "version": "3.6.1"
  }
 },
 "nbformat": 4,
 "nbformat_minor": 5
}
