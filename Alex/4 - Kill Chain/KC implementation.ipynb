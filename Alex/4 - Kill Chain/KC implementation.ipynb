{
 "cells": [
  {
   "cell_type": "code",
   "execution_count": 4,
   "id": "f9e0644e",
   "metadata": {},
   "outputs": [],
   "source": [
    "# install.packages(c(\"factoextra\", \"ggpubr\", \"dplyr\", \"qqman\", \"svMisc\", \"qlcMatrix\"))\n",
    "library(qlcMatrix)\n",
    "library(ggpubr)\n",
    "library(factoextra)\n",
    "library(dplyr)\n",
    "library(qqman)\n",
    "library(svMisc)"
   ]
  },
  {
   "cell_type": "code",
   "execution_count": 2,
   "id": "dc5231a1",
   "metadata": {},
   "outputs": [
    {
     "data": {
      "text/html": [
       "<table>\n",
       "<thead><tr><th scope=col>UserName</th><th scope=col>SrcDevice</th><th scope=col>DstDevice</th><th scope=col>Authent.Type</th><th scope=col>Failure</th><th scope=col>DailyCount</th></tr></thead>\n",
       "<tbody>\n",
       "\t<tr><td>User341813  </td><td>Comp948451  </td><td>Comp915658  </td><td>NetworkLogon</td><td>0           </td><td>1           </td></tr>\n",
       "\t<tr><td>User341813  </td><td>Comp948451  </td><td>Comp915658  </td><td>NetworkLogon</td><td>0           </td><td>1           </td></tr>\n",
       "\t<tr><td>User341813  </td><td>Comp948451  </td><td>Comp915658  </td><td>NetworkLogon</td><td>0           </td><td>1           </td></tr>\n",
       "\t<tr><td>User341813  </td><td>Comp948451  </td><td>Comp915658  </td><td>NetworkLogon</td><td>0           </td><td>1           </td></tr>\n",
       "\t<tr><td>User341813  </td><td>Comp948451  </td><td>Comp915658  </td><td>NetworkLogon</td><td>0           </td><td>1           </td></tr>\n",
       "\t<tr><td>User341813  </td><td>Comp948451  </td><td>Comp915658  </td><td>NetworkLogon</td><td>0           </td><td>1           </td></tr>\n",
       "\t<tr><td>User341813  </td><td>Comp948451  </td><td>Comp915658  </td><td>NetworkLogon</td><td>0           </td><td>1           </td></tr>\n",
       "\t<tr><td>User341813  </td><td>Comp948451  </td><td>Comp915658  </td><td>NetworkLogon</td><td>0           </td><td>1           </td></tr>\n",
       "\t<tr><td>User341813  </td><td>Comp948451  </td><td>Comp004340  </td><td>TGS         </td><td>0           </td><td>1           </td></tr>\n",
       "\t<tr><td>User341813  </td><td>Comp948451  </td><td>Comp004340  </td><td>TGS         </td><td>0           </td><td>1           </td></tr>\n",
       "</tbody>\n",
       "</table>\n"
      ],
      "text/latex": [
       "\\begin{tabular}{r|llllll}\n",
       " UserName & SrcDevice & DstDevice & Authent.Type & Failure & DailyCount\\\\\n",
       "\\hline\n",
       "\t User341813   & Comp948451   & Comp915658   & NetworkLogon & 0            & 1           \\\\\n",
       "\t User341813   & Comp948451   & Comp915658   & NetworkLogon & 0            & 1           \\\\\n",
       "\t User341813   & Comp948451   & Comp915658   & NetworkLogon & 0            & 1           \\\\\n",
       "\t User341813   & Comp948451   & Comp915658   & NetworkLogon & 0            & 1           \\\\\n",
       "\t User341813   & Comp948451   & Comp915658   & NetworkLogon & 0            & 1           \\\\\n",
       "\t User341813   & Comp948451   & Comp915658   & NetworkLogon & 0            & 1           \\\\\n",
       "\t User341813   & Comp948451   & Comp915658   & NetworkLogon & 0            & 1           \\\\\n",
       "\t User341813   & Comp948451   & Comp915658   & NetworkLogon & 0            & 1           \\\\\n",
       "\t User341813   & Comp948451   & Comp004340   & TGS          & 0            & 1           \\\\\n",
       "\t User341813   & Comp948451   & Comp004340   & TGS          & 0            & 1           \\\\\n",
       "\\end{tabular}\n"
      ],
      "text/markdown": [
       "\n",
       "| UserName | SrcDevice | DstDevice | Authent.Type | Failure | DailyCount |\n",
       "|---|---|---|---|---|---|\n",
       "| User341813   | Comp948451   | Comp915658   | NetworkLogon | 0            | 1            |\n",
       "| User341813   | Comp948451   | Comp915658   | NetworkLogon | 0            | 1            |\n",
       "| User341813   | Comp948451   | Comp915658   | NetworkLogon | 0            | 1            |\n",
       "| User341813   | Comp948451   | Comp915658   | NetworkLogon | 0            | 1            |\n",
       "| User341813   | Comp948451   | Comp915658   | NetworkLogon | 0            | 1            |\n",
       "| User341813   | Comp948451   | Comp915658   | NetworkLogon | 0            | 1            |\n",
       "| User341813   | Comp948451   | Comp915658   | NetworkLogon | 0            | 1            |\n",
       "| User341813   | Comp948451   | Comp915658   | NetworkLogon | 0            | 1            |\n",
       "| User341813   | Comp948451   | Comp004340   | TGS          | 0            | 1            |\n",
       "| User341813   | Comp948451   | Comp004340   | TGS          | 0            | 1            |\n",
       "\n"
      ],
      "text/plain": [
       "   UserName   SrcDevice  DstDevice  Authent.Type Failure DailyCount\n",
       "1  User341813 Comp948451 Comp915658 NetworkLogon 0       1         \n",
       "2  User341813 Comp948451 Comp915658 NetworkLogon 0       1         \n",
       "3  User341813 Comp948451 Comp915658 NetworkLogon 0       1         \n",
       "4  User341813 Comp948451 Comp915658 NetworkLogon 0       1         \n",
       "5  User341813 Comp948451 Comp915658 NetworkLogon 0       1         \n",
       "6  User341813 Comp948451 Comp915658 NetworkLogon 0       1         \n",
       "7  User341813 Comp948451 Comp915658 NetworkLogon 0       1         \n",
       "8  User341813 Comp948451 Comp915658 NetworkLogon 0       1         \n",
       "9  User341813 Comp948451 Comp004340 TGS          0       1         \n",
       "10 User341813 Comp948451 Comp004340 TGS          0       1         "
      ]
     },
     "metadata": {},
     "output_type": "display_data"
    },
    {
     "data": {
      "text/html": [
       "<ol class=list-inline>\n",
       "\t<li>20412</li>\n",
       "\t<li>6</li>\n",
       "</ol>\n"
      ],
      "text/latex": [
       "\\begin{enumerate*}\n",
       "\\item 20412\n",
       "\\item 6\n",
       "\\end{enumerate*}\n"
      ],
      "text/markdown": [
       "1. 20412\n",
       "2. 6\n",
       "\n",
       "\n"
      ],
      "text/plain": [
       "[1] 20412     6"
      ]
     },
     "metadata": {},
     "output_type": "display_data"
    },
    {
     "name": "stdout",
     "output_type": "stream",
     "text": [
      "'data.frame':\t20412 obs. of  6 variables:\n",
      " $ UserName    : Factor w/ 81 levels \"Administrator\",..: 30 30 30 30 30 30 30 30 30 30 ...\n",
      " $ SrcDevice   : Factor w/ 489 levels \"ActiveDirectory\",..: 460 460 460 460 460 460 460 460 460 460 ...\n",
      " $ DstDevice   : Factor w/ 288 levels \"ActiveDirectory\",..: 258 258 258 258 258 258 258 258 2 2 ...\n",
      " $ Authent.Type: Factor w/ 12 levels \"Batch\",\"CachedInteractive\",..: 4 4 4 4 4 4 4 4 9 9 ...\n",
      " $ Failure     : int  0 0 0 0 0 0 0 0 0 0 ...\n",
      " $ DailyCount  : num  1 1 1 1 1 1 1 1 1 1 ...\n"
     ]
    }
   ],
   "source": [
    "setwd(\"D://LA//ATI Data\")\n",
    "df <- read.table(file=\"Anomalies.txt\", header=T, sep=\",\")\n",
    "df<- df[,-1]\n",
    "\n",
    "head(df, 10)\n",
    "dim(df)\n",
    "str(df)"
   ]
  },
  {
   "cell_type": "code",
   "execution_count": 3,
   "id": "0457d4f5",
   "metadata": {},
   "outputs": [
    {
     "name": "stdout",
     "output_type": "stream",
     "text": [
      "'data.frame':\t20412 obs. of  6 variables:\n",
      " $ UserName    : chr  \"User341813\" \"User341813\" \"User341813\" \"User341813\" ...\n",
      " $ SrcDevice   : chr  \"Comp948451\" \"Comp948451\" \"Comp948451\" \"Comp948451\" ...\n",
      " $ DstDevice   : chr  \"Comp915658\" \"Comp915658\" \"Comp915658\" \"Comp915658\" ...\n",
      " $ Authent.Type: chr  \"NetworkLogon\" \"NetworkLogon\" \"NetworkLogon\" \"NetworkLogon\" ...\n",
      " $ Failure     : int  0 0 0 0 0 0 0 0 0 0 ...\n",
      " $ DailyCount  : num  1 1 1 1 1 1 1 1 1 1 ...\n"
     ]
    }
   ],
   "source": [
    "df %>% mutate(across(where(is.factor), as.character)) -> df\n",
    "\n",
    "str(df)"
   ]
  },
  {
   "cell_type": "code",
   "execution_count": 4,
   "id": "310da583",
   "metadata": {},
   "outputs": [
    {
     "data": {
      "text/html": [
       "<table>\n",
       "<thead><tr><th scope=col>t1</th><th scope=col>t2</th><th scope=col>t3</th><th scope=col>t4</th><th scope=col>t5</th><th scope=col>t6</th></tr></thead>\n",
       "<tbody>\n",
       "\t<tr><td>30 </td><td>460</td><td>258</td><td>4  </td><td>0  </td><td>1  </td></tr>\n",
       "\t<tr><td>30 </td><td>460</td><td>258</td><td>4  </td><td>0  </td><td>1  </td></tr>\n",
       "\t<tr><td>30 </td><td>460</td><td>258</td><td>4  </td><td>0  </td><td>1  </td></tr>\n",
       "\t<tr><td>30 </td><td>460</td><td>258</td><td>4  </td><td>0  </td><td>1  </td></tr>\n",
       "\t<tr><td>30 </td><td>460</td><td>258</td><td>4  </td><td>0  </td><td>1  </td></tr>\n",
       "\t<tr><td>30 </td><td>460</td><td>258</td><td>4  </td><td>0  </td><td>1  </td></tr>\n",
       "</tbody>\n",
       "</table>\n"
      ],
      "text/latex": [
       "\\begin{tabular}{llllll}\n",
       " t1 & t2 & t3 & t4 & t5 & t6\\\\\n",
       "\\hline\n",
       "\t 30  & 460 & 258 & 4   & 0   & 1  \\\\\n",
       "\t 30  & 460 & 258 & 4   & 0   & 1  \\\\\n",
       "\t 30  & 460 & 258 & 4   & 0   & 1  \\\\\n",
       "\t 30  & 460 & 258 & 4   & 0   & 1  \\\\\n",
       "\t 30  & 460 & 258 & 4   & 0   & 1  \\\\\n",
       "\t 30  & 460 & 258 & 4   & 0   & 1  \\\\\n",
       "\\end{tabular}\n"
      ],
      "text/markdown": [
       "\n",
       "| t1 | t2 | t3 | t4 | t5 | t6 |\n",
       "|---|---|---|---|---|---|\n",
       "| 30  | 460 | 258 | 4   | 0   | 1   |\n",
       "| 30  | 460 | 258 | 4   | 0   | 1   |\n",
       "| 30  | 460 | 258 | 4   | 0   | 1   |\n",
       "| 30  | 460 | 258 | 4   | 0   | 1   |\n",
       "| 30  | 460 | 258 | 4   | 0   | 1   |\n",
       "| 30  | 460 | 258 | 4   | 0   | 1   |\n",
       "\n"
      ],
      "text/plain": [
       "     t1 t2  t3  t4 t5 t6\n",
       "[1,] 30 460 258 4  0  1 \n",
       "[2,] 30 460 258 4  0  1 \n",
       "[3,] 30 460 258 4  0  1 \n",
       "[4,] 30 460 258 4  0  1 \n",
       "[5,] 30 460 258 4  0  1 \n",
       "[6,] 30 460 258 4  0  1 "
      ]
     },
     "metadata": {},
     "output_type": "display_data"
    }
   ],
   "source": [
    "t1<- tapply(df[,1], df[,1])\n",
    "t2<- tapply(df[,2], df[,2])\n",
    "t3<- tapply(df[,3], df[,3])\n",
    "t4<- tapply(df[,4], df[,4])\n",
    "\n",
    "Anom <- cbind(t1,t2,t3,t4, t5=df$Failure, t6=df$DailyCount)\n",
    "\n",
    "head(Anom)"
   ]
  },
  {
   "cell_type": "code",
   "execution_count": 5,
   "id": "a4455d90",
   "metadata": {},
   "outputs": [],
   "source": [
    "set.seed(123)\n",
    "K <- kmeans(Anom, centers=5, nstart = 25, algorithm=\"Lloyd\", iter.max = 10^4)"
   ]
  },
  {
   "cell_type": "code",
   "execution_count": 6,
   "id": "02597428",
   "metadata": {},
   "outputs": [
    {
     "data": {
      "image/png": "[encoded data removed]",
      "text/plain": [
       "plot without title"
      ]
     },
     "metadata": {},
     "output_type": "display_data"
    }
   ],
   "source": [
    "fviz_cluster(K, data = Anom, geom = \"point\",\n",
    "             ellipse.type = \"convex\", \n",
    "             ggtheme = theme_bw()\n",
    "             )"
   ]
  },
  {
   "cell_type": "code",
   "execution_count": 7,
   "id": "b562c651",
   "metadata": {},
   "outputs": [
    {
     "data": {
      "text/plain": [
       "\n",
       "   1    2    3    4    5 \n",
       "5076 6160    8 4938 4230 "
      ]
     },
     "metadata": {},
     "output_type": "display_data"
    }
   ],
   "source": [
    "table(K$cluster)"
   ]
  },
  {
   "cell_type": "code",
   "execution_count": 8,
   "id": "33522e85",
   "metadata": {},
   "outputs": [
    {
     "data": {
      "text/html": [
       "<table>\n",
       "<thead><tr><th scope=col>UserName</th><th scope=col>SrcDevice</th><th scope=col>DstDevice</th><th scope=col>Authent.Type</th><th scope=col>Failure</th><th scope=col>DailyCount</th><th scope=col>Cluster</th></tr></thead>\n",
       "<tbody>\n",
       "\t<tr><td>User341813  </td><td>Comp948451  </td><td>Comp915658  </td><td>NetworkLogon</td><td>0           </td><td>1           </td><td>2           </td></tr>\n",
       "\t<tr><td>User341813  </td><td>Comp948451  </td><td>Comp915658  </td><td>NetworkLogon</td><td>0           </td><td>1           </td><td>2           </td></tr>\n",
       "\t<tr><td>User341813  </td><td>Comp948451  </td><td>Comp915658  </td><td>NetworkLogon</td><td>0           </td><td>1           </td><td>2           </td></tr>\n",
       "\t<tr><td>User341813  </td><td>Comp948451  </td><td>Comp915658  </td><td>NetworkLogon</td><td>0           </td><td>1           </td><td>2           </td></tr>\n",
       "\t<tr><td>User341813  </td><td>Comp948451  </td><td>Comp915658  </td><td>NetworkLogon</td><td>0           </td><td>1           </td><td>2           </td></tr>\n",
       "\t<tr><td>User341813  </td><td>Comp948451  </td><td>Comp915658  </td><td>NetworkLogon</td><td>0           </td><td>1           </td><td>2           </td></tr>\n",
       "</tbody>\n",
       "</table>\n"
      ],
      "text/latex": [
       "\\begin{tabular}{r|lllllll}\n",
       " UserName & SrcDevice & DstDevice & Authent.Type & Failure & DailyCount & Cluster\\\\\n",
       "\\hline\n",
       "\t User341813   & Comp948451   & Comp915658   & NetworkLogon & 0            & 1            & 2           \\\\\n",
       "\t User341813   & Comp948451   & Comp915658   & NetworkLogon & 0            & 1            & 2           \\\\\n",
       "\t User341813   & Comp948451   & Comp915658   & NetworkLogon & 0            & 1            & 2           \\\\\n",
       "\t User341813   & Comp948451   & Comp915658   & NetworkLogon & 0            & 1            & 2           \\\\\n",
       "\t User341813   & Comp948451   & Comp915658   & NetworkLogon & 0            & 1            & 2           \\\\\n",
       "\t User341813   & Comp948451   & Comp915658   & NetworkLogon & 0            & 1            & 2           \\\\\n",
       "\\end{tabular}\n"
      ],
      "text/markdown": [
       "\n",
       "| UserName | SrcDevice | DstDevice | Authent.Type | Failure | DailyCount | Cluster |\n",
       "|---|---|---|---|---|---|---|\n",
       "| User341813   | Comp948451   | Comp915658   | NetworkLogon | 0            | 1            | 2            |\n",
       "| User341813   | Comp948451   | Comp915658   | NetworkLogon | 0            | 1            | 2            |\n",
       "| User341813   | Comp948451   | Comp915658   | NetworkLogon | 0            | 1            | 2            |\n",
       "| User341813   | Comp948451   | Comp915658   | NetworkLogon | 0            | 1            | 2            |\n",
       "| User341813   | Comp948451   | Comp915658   | NetworkLogon | 0            | 1            | 2            |\n",
       "| User341813   | Comp948451   | Comp915658   | NetworkLogon | 0            | 1            | 2            |\n",
       "\n"
      ],
      "text/plain": [
       "  UserName   SrcDevice  DstDevice  Authent.Type Failure DailyCount Cluster\n",
       "1 User341813 Comp948451 Comp915658 NetworkLogon 0       1          2      \n",
       "2 User341813 Comp948451 Comp915658 NetworkLogon 0       1          2      \n",
       "3 User341813 Comp948451 Comp915658 NetworkLogon 0       1          2      \n",
       "4 User341813 Comp948451 Comp915658 NetworkLogon 0       1          2      \n",
       "5 User341813 Comp948451 Comp915658 NetworkLogon 0       1          2      \n",
       "6 User341813 Comp948451 Comp915658 NetworkLogon 0       1          2      "
      ]
     },
     "metadata": {},
     "output_type": "display_data"
    }
   ],
   "source": [
    "data <- cbind(df, Cluster = K$cluster)\n",
    "\n",
    "head(data)"
   ]
  },
  {
   "cell_type": "code",
   "execution_count": 9,
   "id": "5053050a",
   "metadata": {},
   "outputs": [
    {
     "data": {
      "text/html": [
       "<table>\n",
       "<thead><tr><th></th><th scope=col>UserName</th><th scope=col>SrcDevice</th><th scope=col>DstDevice</th><th scope=col>Authent.Type</th><th scope=col>Failure</th><th scope=col>DailyCount</th><th scope=col>Cluster</th></tr></thead>\n",
       "<tbody>\n",
       "\t<tr><th scope=row>13024</th><td>AppService         </td><td>EnterpriseAppServer</td><td>None               </td><td>InteractiveLogon   </td><td>1                  </td><td>17102              </td><td>3                  </td></tr>\n",
       "\t<tr><th scope=row>13117</th><td>AppService         </td><td>EnterpriseAppServer</td><td>None               </td><td>InteractiveLogon   </td><td>1                  </td><td>17112              </td><td>3                  </td></tr>\n",
       "\t<tr><th scope=row>13218</th><td>AppService         </td><td>EnterpriseAppServer</td><td>None               </td><td>InteractiveLogon   </td><td>1                  </td><td>17078              </td><td>3                  </td></tr>\n",
       "\t<tr><th scope=row>13219</th><td>AppService         </td><td>EnterpriseAppServer</td><td>None               </td><td>InteractiveLogon   </td><td>1                  </td><td>17078              </td><td>3                  </td></tr>\n",
       "\t<tr><th scope=row>13340</th><td>AppService         </td><td>EnterpriseAppServer</td><td>None               </td><td>InteractiveLogon   </td><td>1                  </td><td>17091              </td><td>3                  </td></tr>\n",
       "\t<tr><th scope=row>13395</th><td>AppService         </td><td>EnterpriseAppServer</td><td>None               </td><td>InteractiveLogon   </td><td>1                  </td><td>17092              </td><td>3                  </td></tr>\n",
       "\t<tr><th scope=row>13438</th><td>AppService         </td><td>EnterpriseAppServer</td><td>None               </td><td>InteractiveLogon   </td><td>1                  </td><td>17080              </td><td>3                  </td></tr>\n",
       "\t<tr><th scope=row>13663</th><td>AppService         </td><td>EnterpriseAppServer</td><td>None               </td><td>InteractiveLogon   </td><td>1                  </td><td>17104              </td><td>3                  </td></tr>\n",
       "</tbody>\n",
       "</table>\n"
      ],
      "text/latex": [
       "\\begin{tabular}{r|lllllll}\n",
       "  & UserName & SrcDevice & DstDevice & Authent.Type & Failure & DailyCount & Cluster\\\\\n",
       "\\hline\n",
       "\t13024 & AppService          & EnterpriseAppServer & None                & InteractiveLogon    & 1                   & 17102               & 3                  \\\\\n",
       "\t13117 & AppService          & EnterpriseAppServer & None                & InteractiveLogon    & 1                   & 17112               & 3                  \\\\\n",
       "\t13218 & AppService          & EnterpriseAppServer & None                & InteractiveLogon    & 1                   & 17078               & 3                  \\\\\n",
       "\t13219 & AppService          & EnterpriseAppServer & None                & InteractiveLogon    & 1                   & 17078               & 3                  \\\\\n",
       "\t13340 & AppService          & EnterpriseAppServer & None                & InteractiveLogon    & 1                   & 17091               & 3                  \\\\\n",
       "\t13395 & AppService          & EnterpriseAppServer & None                & InteractiveLogon    & 1                   & 17092               & 3                  \\\\\n",
       "\t13438 & AppService          & EnterpriseAppServer & None                & InteractiveLogon    & 1                   & 17080               & 3                  \\\\\n",
       "\t13663 & AppService          & EnterpriseAppServer & None                & InteractiveLogon    & 1                   & 17104               & 3                  \\\\\n",
       "\\end{tabular}\n"
      ],
      "text/markdown": [
       "\n",
       "| <!--/--> | UserName | SrcDevice | DstDevice | Authent.Type | Failure | DailyCount | Cluster |\n",
       "|---|---|---|---|---|---|---|---|\n",
       "| 13024 | AppService          | EnterpriseAppServer | None                | InteractiveLogon    | 1                   | 17102               | 3                   |\n",
       "| 13117 | AppService          | EnterpriseAppServer | None                | InteractiveLogon    | 1                   | 17112               | 3                   |\n",
       "| 13218 | AppService          | EnterpriseAppServer | None                | InteractiveLogon    | 1                   | 17078               | 3                   |\n",
       "| 13219 | AppService          | EnterpriseAppServer | None                | InteractiveLogon    | 1                   | 17078               | 3                   |\n",
       "| 13340 | AppService          | EnterpriseAppServer | None                | InteractiveLogon    | 1                   | 17091               | 3                   |\n",
       "| 13395 | AppService          | EnterpriseAppServer | None                | InteractiveLogon    | 1                   | 17092               | 3                   |\n",
       "| 13438 | AppService          | EnterpriseAppServer | None                | InteractiveLogon    | 1                   | 17080               | 3                   |\n",
       "| 13663 | AppService          | EnterpriseAppServer | None                | InteractiveLogon    | 1                   | 17104               | 3                   |\n",
       "\n"
      ],
      "text/plain": [
       "      UserName   SrcDevice           DstDevice Authent.Type     Failure\n",
       "13024 AppService EnterpriseAppServer None      InteractiveLogon 1      \n",
       "13117 AppService EnterpriseAppServer None      InteractiveLogon 1      \n",
       "13218 AppService EnterpriseAppServer None      InteractiveLogon 1      \n",
       "13219 AppService EnterpriseAppServer None      InteractiveLogon 1      \n",
       "13340 AppService EnterpriseAppServer None      InteractiveLogon 1      \n",
       "13395 AppService EnterpriseAppServer None      InteractiveLogon 1      \n",
       "13438 AppService EnterpriseAppServer None      InteractiveLogon 1      \n",
       "13663 AppService EnterpriseAppServer None      InteractiveLogon 1      \n",
       "      DailyCount Cluster\n",
       "13024 17102      3      \n",
       "13117 17112      3      \n",
       "13218 17078      3      \n",
       "13219 17078      3      \n",
       "13340 17091      3      \n",
       "13395 17092      3      \n",
       "13438 17080      3      \n",
       "13663 17104      3      "
      ]
     },
     "metadata": {},
     "output_type": "display_data"
    }
   ],
   "source": [
    "data[data$Cluster==3, ]"
   ]
  },
  {
   "cell_type": "code",
   "execution_count": 10,
   "id": "c79909f8",
   "metadata": {},
   "outputs": [
    {
     "data": {
      "image/png": "[encoded data removed]",
      "text/plain": [
       "plot without title"
      ]
     },
     "metadata": {},
     "output_type": "display_data"
    }
   ],
   "source": [
    "fviz_nbclust(Anom, FUNcluster=kmeans, method='silhouette') + labs(subtitle = \"Silhouette method\")\n",
    "                    ## Gap static and elbow methods were also attempted, with poor results or no results at all.\n",
    "                    ## Undocummented due to extensive computational length."
   ]
  },
  {
   "cell_type": "code",
   "execution_count": 11,
   "id": "33eca4c2",
   "metadata": {},
   "outputs": [
    {
     "data": {
      "text/plain": [
       "\n",
       "   1    2    3    4    5 \n",
       "5003 4165 5051    8 6185 "
      ]
     },
     "metadata": {},
     "output_type": "display_data"
    },
    {
     "data": {
      "text/plain": [
       "\n",
       "   1    2    3    4    5 \n",
       "4165    8 5002 5072 6165 "
      ]
     },
     "metadata": {},
     "output_type": "display_data"
    }
   ],
   "source": [
    "set.seed(123)\n",
    "K2 <- kmeans(Anom, centers=5, nstart = 25, algorithm=\"Hartigan-Wong\", iter.max = 10^4)\n",
    "K3 <- kmeans(Anom, centers=5, nstart = 25, algorithm=\"MacQueen\", iter.max = 10^4)\n",
    "\n",
    "table(K2$cluster)\n",
    "table(K3$cluster)\n",
    "                ## Similar results to 'Lloyd'"
   ]
  },
  {
   "cell_type": "code",
   "execution_count": 23,
   "id": "e7a5c607",
   "metadata": {},
   "outputs": [],
   "source": [
    "set.seed(55)\n",
    "options(warn=-1)\n",
    "Km <- vector(len=50)\n",
    "for(i in 1:50) {\n",
    "    Km[i] <- kmeans(Anom, centers=5, nstart=i, algorithm=\"Lloyd\", iter.max=10^4)\n",
    "}"
   ]
  },
  {
   "cell_type": "code",
   "execution_count": 24,
   "id": "c160b846",
   "metadata": {},
   "outputs": [],
   "source": [
    "options(warn=1)"
   ]
  },
  {
   "cell_type": "code",
   "execution_count": 25,
   "id": "1c947904",
   "metadata": {},
   "outputs": [
    {
     "data": {
      "text/plain": [
       "\n",
       "   1    2    3    4    5 \n",
       "4176 5051    8 6174 5003 "
      ]
     },
     "metadata": {},
     "output_type": "display_data"
    },
    {
     "data": {
      "text/plain": [
       "\n",
       "   1    2    3    4    5 \n",
       "2835 4814 3727 4243 4793 "
      ]
     },
     "metadata": {},
     "output_type": "display_data"
    },
    {
     "data": {
      "text/plain": [
       "\n",
       "   1    2    3    4    5 \n",
       "6174    8 5051 4176 5003 "
      ]
     },
     "metadata": {},
     "output_type": "display_data"
    }
   ],
   "source": [
    "table(Km[50])\n",
    "table(Km[1])\n",
    "table(Km[25])"
   ]
  },
  {
   "cell_type": "code",
   "execution_count": 50,
   "id": "7bc58985",
   "metadata": {},
   "outputs": [],
   "source": [
    "t1<- vector(len=50)\n",
    "t2<- vector(len=50)\n",
    "t3<- vector(len=50)\n",
    "t4<- vector(len=50)\n",
    "t5<- vector(len=50)\n",
    "for(i in 1:50) {\n",
    "    t1[i] <- as.vector(table(Km[i]))[1]\n",
    "    t2[i] <- as.vector(table(Km[i]))[2]\n",
    "    t3[i] <- as.vector(table(Km[i]))[3]\n",
    "    t4[i] <- as.vector(table(Km[i]))[4]\n",
    "    t5[i] <- as.vector(table(Km[i]))[5]\n",
    "}\n",
    "\n",
    "t1<- t1[order(t1, decreasing=FALSE)]\n",
    "t2<- t2[order(t2, decreasing=FALSE)]\n",
    "t3<- t3[order(t3, decreasing=FALSE)]\n",
    "t4<- t4[order(t4, decreasing=FALSE)]\n",
    "t5<- t5[order(t5, decreasing=FALSE)]\n",
    "\n",
    "s1<- scale(t1)\n",
    "s2<- scale(t2)\n",
    "s3<- scale(t3)\n",
    "s4<- scale(t4)\n",
    "s5<- scale(t5)"
   ]
  },
  {
   "cell_type": "code",
   "execution_count": 53,
   "id": "d336fda7",
   "metadata": {},
   "outputs": [],
   "source": [
    "manhattan_dist <- function(a, b){\n",
    "     dist <- abs(a-b)\n",
    "     dist <- sum(dist)\n",
    "     return(dist)\n",
    "}"
   ]
  },
  {
   "cell_type": "code",
   "execution_count": 56,
   "id": "2f922052",
   "metadata": {},
   "outputs": [
    {
     "data": {
      "text/html": [
       "22.1865854239351"
      ],
      "text/latex": [
       "22.1865854239351"
      ],
      "text/markdown": [
       "22.1865854239351"
      ],
      "text/plain": [
       "[1] 22.18659"
      ]
     },
     "metadata": {},
     "output_type": "display_data"
    },
    {
     "data": {
      "text/html": [
       "22.0776882431162"
      ],
      "text/latex": [
       "22.0776882431162"
      ],
      "text/markdown": [
       "22.0776882431162"
      ],
      "text/plain": [
       "[1] 22.07769"
      ]
     },
     "metadata": {},
     "output_type": "display_data"
    },
    {
     "data": {
      "text/html": [
       "25.1381842375239"
      ],
      "text/latex": [
       "25.1381842375239"
      ],
      "text/markdown": [
       "25.1381842375239"
      ],
      "text/plain": [
       "[1] 25.13818"
      ]
     },
     "metadata": {},
     "output_type": "display_data"
    },
    {
     "data": {
      "text/html": [
       "17.9979685860642"
      ],
      "text/latex": [
       "17.9979685860642"
      ],
      "text/markdown": [
       "17.9979685860642"
      ],
      "text/plain": [
       "[1] 17.99797"
      ]
     },
     "metadata": {},
     "output_type": "display_data"
    },
    {
     "name": "stdout",
     "output_type": "stream",
     "text": [
      "\n"
     ]
    },
    {
     "data": {
      "text/html": [
       "5.80843585499567"
      ],
      "text/latex": [
       "5.80843585499567"
      ],
      "text/markdown": [
       "5.80843585499567"
      ],
      "text/plain": [
       "[1] 5.808436"
      ]
     },
     "metadata": {},
     "output_type": "display_data"
    },
    {
     "data": {
      "text/html": [
       "6.60847343910569"
      ],
      "text/latex": [
       "6.60847343910569"
      ],
      "text/markdown": [
       "6.60847343910569"
      ],
      "text/plain": [
       "[1] 6.608473"
      ]
     },
     "metadata": {},
     "output_type": "display_data"
    },
    {
     "data": {
      "text/html": [
       "13.9567179883742"
      ],
      "text/latex": [
       "13.9567179883742"
      ],
      "text/markdown": [
       "13.9567179883742"
      ],
      "text/plain": [
       "[1] 13.95672"
      ]
     },
     "metadata": {},
     "output_type": "display_data"
    },
    {
     "name": "stdout",
     "output_type": "stream",
     "text": [
      "\n"
     ]
    },
    {
     "data": {
      "text/html": [
       "9.62185003236696"
      ],
      "text/latex": [
       "9.62185003236696"
      ],
      "text/markdown": [
       "9.62185003236696"
      ],
      "text/plain": [
       "[1] 9.62185"
      ]
     },
     "metadata": {},
     "output_type": "display_data"
    },
    {
     "data": {
      "text/html": [
       "11.7332147121662"
      ],
      "text/latex": [
       "11.7332147121662"
      ],
      "text/markdown": [
       "11.7332147121662"
      ],
      "text/plain": [
       "[1] 11.73321"
      ]
     },
     "metadata": {},
     "output_type": "display_data"
    },
    {
     "name": "stdout",
     "output_type": "stream",
     "text": [
      "\n"
     ]
    },
    {
     "data": {
      "text/html": [
       "17.0101762430085"
      ],
      "text/latex": [
       "17.0101762430085"
      ],
      "text/markdown": [
       "17.0101762430085"
      ],
      "text/plain": [
       "[1] 17.01018"
      ]
     },
     "metadata": {},
     "output_type": "display_data"
    }
   ],
   "source": [
    "manhattan_dist(s1, s2)\n",
    "manhattan_dist(s1, s3)\n",
    "manhattan_dist(s1, s4)\n",
    "manhattan_dist(s1, s5)\n",
    "cat(\"\\n\")\n",
    "manhattan_dist(s2, s3)\n",
    "manhattan_dist(s2, s4)\n",
    "manhattan_dist(s2, s5)\n",
    "cat(\"\\n\")\n",
    "manhattan_dist(s3, s4)\n",
    "manhattan_dist(s3, s5)\n",
    "cat(\"\\n\")\n",
    "manhattan_dist(s4, s5)"
   ]
  },
  {
   "cell_type": "markdown",
   "id": "6aa82831",
   "metadata": {},
   "source": [
    "#### Setting up each of the 5 stages' properties\n",
    "\n",
    "_Idea: All events start with a score of 0 to belong to StageN, N from 1 to 5. They get assigned +0.25, +0.5, +1 or +2 based on certain properties. This happens for all 5 stages, at which point they get shifted by a +5% of the total for each event (to avoid probabilities of 0) and numbers get transformed to probabilities (0 to 1). These 5 become features for clustering afterwards._"
   ]
  },
  {
   "cell_type": "markdown",
   "id": "cbfd44a0",
   "metadata": {},
   "source": [
    "#### Recon"
   ]
  },
  {
   "cell_type": "code",
   "execution_count": 5,
   "id": "41e6195d",
   "metadata": {},
   "outputs": [
    {
     "data": {
      "text/html": [
       "<table>\n",
       "<thead><tr><th scope=col>UserName</th><th scope=col>SrcDevice</th><th scope=col>DstDevice</th><th scope=col>Authent.Type</th><th scope=col>Failure</th></tr></thead>\n",
       "<tbody>\n",
       "\t<tr><td>User341813  </td><td>Comp948451  </td><td>Comp915658  </td><td>NetworkLogon</td><td>0           </td></tr>\n",
       "</tbody>\n",
       "</table>\n"
      ],
      "text/latex": [
       "\\begin{tabular}{r|lllll}\n",
       " UserName & SrcDevice & DstDevice & Authent.Type & Failure\\\\\n",
       "\\hline\n",
       "\t User341813   & Comp948451   & Comp915658   & NetworkLogon & 0           \\\\\n",
       "\\end{tabular}\n"
      ],
      "text/markdown": [
       "\n",
       "| UserName | SrcDevice | DstDevice | Authent.Type | Failure |\n",
       "|---|---|---|---|---|\n",
       "| User341813   | Comp948451   | Comp915658   | NetworkLogon | 0            |\n",
       "\n"
      ],
      "text/plain": [
       "  UserName   SrcDevice  DstDevice  Authent.Type Failure\n",
       "1 User341813 Comp948451 Comp915658 NetworkLogon 0      "
      ]
     },
     "metadata": {},
     "output_type": "display_data"
    }
   ],
   "source": [
    "df<- df[,-ncol(df)]\n",
    "df[1,]"
   ]
  },
  {
   "cell_type": "code",
   "execution_count": 6,
   "id": "4714d675",
   "metadata": {},
   "outputs": [
    {
     "data": {
      "text/html": [
       "<ol class=list-inline>\n",
       "\t<li>'Administrator'</li>\n",
       "\t<li>'AppService'</li>\n",
       "\t<li>'winservice'</li>\n",
       "</ol>\n"
      ],
      "text/latex": [
       "\\begin{enumerate*}\n",
       "\\item 'Administrator'\n",
       "\\item 'AppService'\n",
       "\\item 'winservice'\n",
       "\\end{enumerate*}\n"
      ],
      "text/markdown": [
       "1. 'Administrator'\n",
       "2. 'AppService'\n",
       "3. 'winservice'\n",
       "\n",
       "\n"
      ],
      "text/plain": [
       "[1] \"Administrator\" \"AppService\"    \"winservice\"   "
      ]
     },
     "metadata": {},
     "output_type": "display_data"
    }
   ],
   "source": [
    "g<- grep(pattern='User', x=df$UserName)\n",
    "Special <- unique(df$UserName[-g])\n",
    "g<- grep(pattern='Comp', x=Special)\n",
    "Special <- Special[-g]\n",
    "Special"
   ]
  },
  {
   "cell_type": "code",
   "execution_count": 7,
   "id": "c2b59cd3",
   "metadata": {},
   "outputs": [
    {
     "name": "stdout",
     "output_type": "stream",
     "text": [
      "Progress:   1%Progress:   2%Progress:   3%Progress:   4%Progress:   5%Progress:   6%Progress:   7%Progress:   8%Progress:   9%Progress:  10%Progress:  11%Progress:  12%Progress:  13%Progress:  14%Progress:  15%Progress:  16%Progress:  17%Progress:  18%Progress:  19%Progress:  20%Progress:  21%Progress:  22%Progress:  23%Progress:  24%Progress:  25%Progress:  26%Progress:  27%Progress:  28%Progress:  29%Progress:  30%Progress:  31%Progress:  32%Progress:  33%Progress:  34%Progress:  35%Progress:  36%Progress:  37%Progress:  38%Progress:  39%Progress:  40%Progress:  41%Progress:  42%Progress:  43%Progress:  44%Progress:  45%Progress:  46%Progress:  47%Progress:  48%Progress:  49%Progress:  50%Progress:  51%Progress:  52%Progress:  53%Progress:  54%Progress:  55%Progress:  56%Progress:  57%Progress:  58%Progress:  59%Progress:  60%Progress:  61%Progress:  62%Progress:  63%Progress:  64%Progress:  65%Progress:  66%Progress:  67%Progress:  68%Progress:  69%Progress:  70%Progress:  71%Progress:  72%Progress:  73%Progress:  74%Progress:  75%Progress:  76%Progress:  77%Progress:  78%Progress:  79%Progress:  80%Progress:  81%Progress:  82%Progress:  83%Progress:  84%Progress:  85%Progress:  86%Progress:  87%Progress:  88%Progress:  89%Progress:  90%Progress:  91%Progress:  92%Progress:  93%Progress:  94%Progress:  95%Progress:  96%Progress:  97%Progress:  98%Progress:  99%Progress: 100%              "
     ]
    }
   ],
   "source": [
    "Reconnaissance <- as.vector(rep(0, times=nrow(df)))\n",
    "Delivery <- Reconnaissance\n",
    "LateralMovement <- Delivery\n",
    "PrivilegeEscalation <- LateralMovement\n",
    "Exfiltration <- PrivilegeEscalation\n",
    "\n",
    "for(i in 1:nrow(df)) {\n",
    "    \n",
    "    \n",
    "    User <- df[i,]$UserName\n",
    "    Src <- df[i,]$SrcDevice\n",
    "    Dst <- df[i,]$DstDevice\n",
    "    AT <- df[i,]$Authent.Type\n",
    "    FA <- df[i,]$Failure\n",
    "    \n",
    "        # Reconnaissance[i] <- Reconnaissance[i] + 0\n",
    "        # Delivery[i] <- Delivery[i] + 0\n",
    "        # LateralMovement[i] <- LateralMovement[i] + 0\n",
    "        # PrivilegeEscalation[i] <- PrivilegeEscalation[i] + 0\n",
    "        # Exfiltration[i] <- Exfiltration[i] + 0\n",
    "    \n",
    "    SourceFrequency <- df[df$SrcDevice==Src, ]\n",
    "    UserFrequency <- df[df$UserName==User, ]\n",
    "    UserAndSourceFrequency <- UserFrequency[UserFrequency$SrcDevice==Src, ]\n",
    "    DestinationFrequency <- df[df$DstDevice==Dst, ]\n",
    "    \n",
    "    NSF <- nrow(SourceFrequency)\n",
    "    t<- table(df$SrcDevice)\n",
    "    M<- mean(t)\n",
    "    S<- sd(t)\n",
    "    if(NSF>= M + 2*S) {\n",
    "        Reconnaissance[i] <- Reconnaissance[i] +2\n",
    "        Delivery[i] <- Delivery[i] + 0.5\n",
    "        # LateralMovement[i] <- LateralMovement[i] + 0\n",
    "        # PrivilegeEscalation[i] <- PrivilegeEscalation[i] + 0\n",
    "        # Exfiltration[i] <- Exfiltration[i] + 0\n",
    "    }\n",
    "     if(NSF/nrow(df)>=M+S & NSF/nrow(df)<M+2*S) {\n",
    "        Reconnaissance[i] <- Reconnaissance[i] + 1.75\n",
    "        Delivery[i] <- Delivery[i] + 0.75\n",
    "        # LateralMovement[i] <- LateralMovement[i] + 0\n",
    "        # PrivilegeEscalation[i] <- PrivilegeEscalation[i] + 0\n",
    "        # Exfiltration[i] <- Exfiltration[i] + 0\n",
    "    }\n",
    "     if(NSF/nrow(df)>=M & NSF/nrow(df)<M+S) {\n",
    "        Reconnaissance[i] <- Reconnaissance[i] + 1.5\n",
    "        Delivery[i] <- Delivery[i] + 0.75\n",
    "        # LateralMovement[i] <- LateralMovement[i] + 0\n",
    "        if(User%in%Special==TRUE) {\n",
    "            PrivilegeEscalation[i] <- PrivilegeEscalation[i] + 0.25\n",
    "            }\n",
    "        # Exfiltration[i] <- Exfiltration[i] + 0\n",
    "    }\n",
    "     if(NSF/nrow(df)>=M/6 & NSF/nrow(df)<M) {\n",
    "        Reconnaissance[i] <- Reconnaissance[i] + 0.5\n",
    "        Delivery[i] <- Delivery[i] + 0.5\n",
    "        # LateralMovement[i] <- LateralMovement[i] + 0\n",
    "        if(User%in%Special==TRUE) {\n",
    "            PrivilegeEscalation[i] <- PrivilegeEscalation[i] + 0.25\n",
    "            }\n",
    "        Exfiltration[i] <- Exfiltration[i] + 0.25\n",
    "    }\n",
    "     if(NSF/nrow(df)<M/6) {\n",
    "        # Reconnaissance[i] <- Reconnaissance[i] +0\n",
    "        Delivery[i] <- Delivery[i] + 0.25\n",
    "        LateralMovement[i] <- LateralMovement[i] + 0.5\n",
    "        PrivilegeEscalation[i] <- PrivilegeEscalation[i] + 0.5\n",
    "        Exfiltration[i] <- Exfiltration[i] + 0.25\n",
    "    }\n",
    "     L <- length(unique(SourceFrequency$UserName))\n",
    "     if(L>=12) {\n",
    "        # Reconnaissance[i] <- Reconnaissance[i] + 0\n",
    "        # Delivery[i] <- Delivery[i] + 0\n",
    "        # LateralMovement[i] <- LateralMovement[i] + 0\n",
    "        PrivilegeEscalation[i] <- PrivilegeEscalation[i] + 1\n",
    "        Exfiltration[i] <- Exfiltration[i] + 0.5\n",
    "         }\n",
    "     if(L>=9 & L<12) {\n",
    "        # Reconnaissance[i] <- Reconnaissance[i] + 0\n",
    "        # Delivery[i] <- Delivery[i] + 0\n",
    "        # LateralMovement[i] <- LateralMovement[i] + 0\n",
    "        PrivilegeEscalation[i] <- PrivilegeEscalation[i] + 0.75\n",
    "        Exfiltration[i] <- Exfiltration[i] + 0.25 \n",
    "     }\n",
    "     if(L>=5 & L<9) {\n",
    "        # Reconnaissance[i] <- Reconnaissance[i] + 0\n",
    "        # Delivery[i] <- Delivery[i] + 0\n",
    "        # LateralMovement[i] <- LateralMovement[i] + 0\n",
    "        PrivilegeEscalation[i] <- PrivilegeEscalation[i] + 0.5\n",
    "        Exfiltration[i] <- Exfiltration[i] + 0.25\n",
    "     }\n",
    "     if(L>=2 & L<5) {\n",
    "        # Reconnaissance[i] <- Reconnaissance[i] + 0\n",
    "        Delivery[i] <- Delivery[i] + 0.25\n",
    "        LateralMovement[i] <- LateralMovement[i] + 0.25\n",
    "        # PrivilegeEscalation[i] <- PrivilegeEscalation[i] + 0\n",
    "        # Exfiltration[i] <- Exfiltration[i] + 0\n",
    "     }\n",
    "    if(L==1) {\n",
    "        # Reconnaissance[i] <- Reconnaissance[i] + 0\n",
    "        # Delivery[i] <- Delivery[i] + 0\n",
    "        LateralMovement[i] <- LateralMovement[i] + 0.5\n",
    "        # PrivilegeEscalation[i] <- PrivilegeEscalation[i] + 0\n",
    "        # Exfiltration[i] <- Exfiltration[i] + 0\n",
    "    }\n",
    "    if(User%in%Special==TRUE) {\n",
    "        # Reconnaissance[i] <- Reconnaissance[i] + 0\n",
    "        # Delivery[i] <- Delivery[i] + 0\n",
    "        LateralMovement[i] <- LateralMovement[i] + 0.25\n",
    "        PrivilegeEscalation[i] <- PrivilegeEscalation[i] + 0.75\n",
    "        Exfiltration[i] <- Exfiltration[i] + 1.5 \n",
    "    }\n",
    "    if(User%in%Special==FALSE) {\n",
    "        Reconnaissance[i] <- Reconnaissance[i] + 1\n",
    "        Delivery[i] <- Delivery[i] + 1\n",
    "        LateralMovement[i] <- LateralMovement[i] + 0.5\n",
    "        PrivilegeEscalation[i] <- PrivilegeEscalation[i] + 0.25\n",
    "        # Exfiltration[i] <- Exfiltration[i] + 0\n",
    "    }\n",
    "\n",
    "    L <- length(unique(UserAndSourceFrequency$DstDevice))\n",
    "    l <- length(unique(df$DstDevice))\n",
    "    if(L/l>=0.4) {\n",
    "        Reconnaissance[i] <- Reconnaissance[i] + 2\n",
    "        # Delivery[i] <- Delivery[i] + 0\n",
    "        # LateralMovement[i] <- LateralMovement[i] + 0\n",
    "        # PrivilegeEscalation[i] <- PrivilegeEscalation[i] + 0\n",
    "        # Exfiltration[i] <- Exfiltration[i] + 0 \n",
    "    }\n",
    "    if(L/l>=0.2 & L/l<0.4) {\n",
    "        Reconnaissance[i] <- Reconnaissance[i] + 1.75\n",
    "        # Delivery[i] <- Delivery[i] + 0\n",
    "        # LateralMovement[i] <- LateralMovement[i] + 0\n",
    "        # PrivilegeEscalation[i] <- PrivilegeEscalation[i] + 0\n",
    "        # Exfiltration[i] <- Exfiltration[i] + 0\n",
    "    }\n",
    "    if(L/l>=0.1 & L/l<0.2) {\n",
    "        Reconnaissance[i] <- Reconnaissance[i] + 1.5\n",
    "        # Delivery[i] <- Delivery[i] + 0\n",
    "        # LateralMovement[i] <- LateralMovement[i] + 0\n",
    "        # PrivilegeEscalation[i] <- PrivilegeEscalation[i] + 0\n",
    "        # Exfiltration[i] <- Exfiltration[i] + 0\n",
    "    }\n",
    "    if(L/l>=0.05 & L/l<0.1) {\n",
    "        Reconnaissance[i] <- Reconnaissance[i] + 1.25\n",
    "        Delivery[i] <- Delivery[i] + 0.25\n",
    "        # LateralMovement[i] <- LateralMovement[i] + 0\n",
    "        # PrivilegeEscalation[i] <- PrivilegeEscalation[i] + 0\n",
    "        # Exfiltration[i] <- Exfiltration[i] + 0\n",
    "    }\n",
    "    if(L>=5 & L<14) {\n",
    "        Reconnaissance[i] <- Reconnaissance[i] + 1\n",
    "        Delivery[i] <- Delivery[i] + 0.5\n",
    "        # LateralMovement[i] <- LateralMovement[i] + 0\n",
    "        # PrivilegeEscalation[i] <- PrivilegeEscalation[i] + 0\n",
    "        # Exfiltration[i] <- Exfiltration[i] + 0\n",
    "    }\n",
    "    if(L>=2 & L<5) {\n",
    "        Reconnaissance[i] <- Reconnaissance[i] + 0.5\n",
    "        Delivery[i] <- Delivery[i] + 0.75\n",
    "        LateralMovement[i] <- LateralMovement[i] + 0.25\n",
    "        PrivilegeEscalation[i] <- PrivilegeEscalation[i] + 0.5\n",
    "        Exfiltration[i] <- Exfiltration[i] + 0.5\n",
    "    }\n",
    "    if(L==1) {\n",
    "        # Reconnaissance[i] <- Reconnaissance[i] + 0\n",
    "        Delivery[i] <- Delivery[i] + 0.25\n",
    "        LateralMovement[i] <- LateralMovement[i] + 0.75\n",
    "        PrivilegeEscalation[i] <- PrivilegeEscalation[i] + 1\n",
    "        Exfiltration[i] <- Exfiltration[i] + 1\n",
    "    }\n",
    "    Destinations <- unique(UserFrequency$DstDevice)\n",
    "    if(Src%in%Destinations==TRUE){\n",
    "        # Reconnaissance[i] <- Reconnaissance[i] + 0\n",
    "        # Delivery[i] <- Delivery[i] + 0\n",
    "        LateralMovement[i] <- LateralMovement[i] + 2\n",
    "        PrivilegeEscalation[i] <- PrivilegeEscalation[i] + 1.5\n",
    "        # Exfiltration[i] <- Exfiltration[i] + 0\n",
    "    }\n",
    "    \n",
    "    D<- table(df$DstDevice)\n",
    "    M<- mean(D)\n",
    "    S<- sd(D)\n",
    "    N<- nrow(df[df$DstDevice==Dst, ])\n",
    "    if(N>=M+2*S){\n",
    "        Reconnaissance[i] <- Reconnaissance[i] + 1.25\n",
    "        # Delivery[i] <- Delivery[i] + 0\n",
    "        LateralMovement[i] <- LateralMovement[i] + 0.25\n",
    "        # PrivilegeEscalation[i] <- PrivilegeEscalation[i] + 0\n",
    "        if(User%in%Special==TRUE) {\n",
    "            Exfiltration[i] <- Exfiltration[i] + 1.5  \n",
    "        }\n",
    "        if(User%in%Special==FALSE) {\n",
    "            Exfiltration[i] <- Exfiltration[i] + 0.5  \n",
    "        }\n",
    "    }\n",
    "    if(N>=M+S & N<M+2*S) {\n",
    "        Reconnaissance[i] <- Reconnaissance[i] + 1\n",
    "        # Delivery[i] <- Delivery[i] + 0\n",
    "        LateralMovement[i] <- LateralMovement[i] + 0.25\n",
    "        # PrivilegeEscalation[i] <- PrivilegeEscalation[i] + 0\n",
    "        if(User%in%Special==TRUE) {\n",
    "            Exfiltration[i] <- Exfiltration[i] + 1.5  \n",
    "        }\n",
    "        if(User%in%Special==FALSE) {\n",
    "            Exfiltration[i] <- Exfiltration[i] + 0.25  \n",
    "        }\n",
    "    }\n",
    "    if(N>=M & N<M+S) {\n",
    "        Reconnaissance[i] <- Reconnaissance[i] + 0.75\n",
    "        Delivery[i] <- Delivery[i] + 0.25\n",
    "        # LateralMovement[i] <- LateralMovement[i] + 0\n",
    "        # PrivilegeEscalation[i] <- PrivilegeEscalation[i] + 0\n",
    "        if(User%in%Special==TRUE) {\n",
    "            Exfiltration[i] <- Exfiltration[i] + 0.75  \n",
    "        }\n",
    "        if(User%in%Special==FALSE) {\n",
    "            Exfiltration[i] <- Exfiltration[i] + 0.25  \n",
    "        }\n",
    "    }\n",
    "    if(N>=M/4 & N<M) {\n",
    "        Reconnaissance[i] <- Reconnaissance[i] + 0.5\n",
    "        Delivery[i] <- Delivery[i] + 0.75\n",
    "        LateralMovement[i] <- LateralMovement[i] + 0.25\n",
    "        # PrivilegeEscalation[i] <- PrivilegeEscalation[i] + 0\n",
    "        # Exfiltration[i] <- Exfiltration[i] + 0\n",
    "    }\n",
    "    if(N>=4 & N<M/4) {\n",
    "        Reconnaissance[i] <- Reconnaissance[i] + 0.25\n",
    "        Delivery[i] <- Delivery[i] + 1\n",
    "        LateralMovement[i] <- LateralMovement[i] + 0.25\n",
    "        # PrivilegeEscalation[i] <- PrivilegeEscalation[i] + 0\n",
    "        # Exfiltration[i] <- Exfiltration[i] + 0\n",
    "    }\n",
    "    if(N<4) {\n",
    "        # Reconnaissance[i] <- Reconnaissance[i] + 0\n",
    "        Delivery[i] <- Delivery[i] + 0.75\n",
    "        LateralMovement[i] <- LateralMovement[i] + 0.25\n",
    "        # PrivilegeEscalation[i] <- PrivilegeEscalation[i] + 0\n",
    "        # Exfiltration[i] <- Exfiltration[i] + 0\n",
    "    }\n",
    "    \n",
    "    U<- length(unique(DestinationFrequency$UserName))\n",
    "    L<- length(unique(df$UserName))\n",
    "    if(U>=L/5) {\n",
    "        Reconnaissance[i] <- Reconnaissance[i] + 1\n",
    "        # Delivery[i] <- Delivery[i] + 0\n",
    "        # LateralMovement[i] <- LateralMovement[i] + 0\n",
    "        # PrivilegeEscalation[i] <- PrivilegeEscalation[i] + 0\n",
    "        if(User%in%Special==TRUE) {\n",
    "            Exfiltration[i] <- Exfiltration[i] + 0.5\n",
    "        }\n",
    "    }\n",
    "    if(U>=L/10 & U<L/5) {\n",
    "        Reconnaissance[i] <- Reconnaissance[i] + 0.75\n",
    "        Delivery[i] <- Delivery[i] + 0.25\n",
    "        # LateralMovement[i] <- LateralMovement[i] + 0\n",
    "        # PrivilegeEscalation[i] <- PrivilegeEscalation[i] + 0\n",
    "        if(User%in%Special==TRUE) {\n",
    "            Exfiltration[i] <- Exfiltration[i] + 0.5\n",
    "        }\n",
    "    }\n",
    "    if(U>=L/20 & U<L/10) {\n",
    "        Reconnaissance[i] <- Reconnaissance[i] + 0.5\n",
    "        Delivery[i] <- Delivery[i] + 0.25\n",
    "        # LateralMovement[i] <- LateralMovement[i] + 0\n",
    "        # PrivilegeEscalation[i] <- PrivilegeEscalation[i] + 0\n",
    "        if(User%in%Special==TRUE) {\n",
    "            Exfiltration[i] <- Exfiltration[i] + 0.75\n",
    "        }\n",
    "    }\n",
    "    if(U<L/20) {\n",
    "        Reconnaissance[i] <- Reconnaissance[i] + 0.25\n",
    "        # Delivery[i] <- Delivery[i] + 0\n",
    "        # LateralMovement[i] <- LateralMovement[i] + 0\n",
    "        # PrivilegeEscalation[i] <- PrivilegeEscalation[i] + 0\n",
    "        if(User%in%Special==TRUE) {\n",
    "            Exfiltration[i] <- Exfiltration[i] + 1.25\n",
    "        }\n",
    "    }\n",
    "    \n",
    "    S<- length(unique(DestinationFrequency$SrcDevice))\n",
    "    L<- length(unique(df$SrcDevice))\n",
    "    if(S/L>=0.2) {\n",
    "        Reconnaissance[i] <- Reconnaissance[i] + 1.75\n",
    "        # Delivery[i] <- Delivery[i] + 0\n",
    "        # LateralMovement[i] <- LateralMovement[i] + 0\n",
    "        # PrivilegeEscalation[i] <- PrivilegeEscalation[i] + 0\n",
    "        Exfiltration[i] <- Exfiltration[i] + 0.5 \n",
    "    }\n",
    "    if(S/L>=0.1 & S/L<0.2) {\n",
    "        Reconnaissance[i] <- Reconnaissance[i] + 1.25\n",
    "        # Delivery[i] <- Delivery[i] + 0\n",
    "        # LateralMovement[i] <- LateralMovement[i] + 0\n",
    "        # PrivilegeEscalation[i] <- PrivilegeEscalation[i] + 0\n",
    "        Exfiltration[i] <- Exfiltration[i] + 0.25\n",
    "    }\n",
    "    if(S/L>=0.05 & S/L<0.1) {\n",
    "        Reconnaissance[i] <- Reconnaissance[i] + 1\n",
    "        # Delivery[i] <- Delivery[i] + 0\n",
    "        # LateralMovement[i] <- LateralMovement[i] + 0\n",
    "        # PrivilegeEscalation[i] <- PrivilegeEscalation[i] + 0\n",
    "        Exfiltration[i] <- Exfiltration[i] + 0.25\n",
    "    }\n",
    "    if(S>=5 & S<24) {\n",
    "        Reconnaissance[i] <- Reconnaissance[i] + 0.75\n",
    "        Delivery[i] <- Delivery[i] + 0.25\n",
    "        LateralMovement[i] <- LateralMovement[i] + 0.25\n",
    "        # PrivilegeEscalation[i] <- PrivilegeEscalation[i] + 0\n",
    "        Exfiltration[i] <- Exfiltration[i] + 0.25\n",
    "    }\n",
    "    if(S>=2 & S<5) {\n",
    "        Reconnaissance[i] <- Reconnaissance[i] + 0.5\n",
    "        Delivery[i] <- Delivery[i] + 0.5\n",
    "        # LateralMovement[i] <- LateralMovement[i] + 0\n",
    "        PrivilegeEscalation[i] <- PrivilegeEscalation[i] + 0.25\n",
    "        Exfiltration[i] <- Exfiltration[i] + 0.25\n",
    "    }\n",
    "    if(S==1) {\n",
    "        # Reconnaissance[i] <- Reconnaissance[i] + 0\n",
    "        Delivery[i] <- Delivery[i] + 1\n",
    "        LateralMovement[i] <- LateralMovement[i] + 0.75\n",
    "        # PrivilegeEscalation[i] <- PrivilegeEscalation[i] + 0\n",
    "        Exfiltration[i] <- Exfiltration[i] + 0.25\n",
    "    }\n",
    "    \n",
    "    Identical <- UserAndSourceFrequency[UserAndSourceFrequency$DstDevice==Dst, ]\n",
    "    I <- nrow(Identical)\n",
    "    if(I>12) {\n",
    "        Reconnaissance[i] <- Reconnaissance[i] + 1.25\n",
    "        # Delivery[i] <- Delivery[i] + 0\n",
    "        # LateralMovement[i] <- LateralMovement[i] + 0\n",
    "        # PrivilegeEscalation[i] <- PrivilegeEscalation[i] + 0\n",
    "        # Exfiltration[i] <- Exfiltration[i] + 0\n",
    "    }\n",
    "    if(I>9 & I<=12) {\n",
    "        Reconnaissance[i] <- Reconnaissance[i] + 0.75\n",
    "        # Delivery[i] <- Delivery[i] + 0\n",
    "        # LateralMovement[i] <- LateralMovement[i] + 0\n",
    "        PrivilegeEscalation[i] <- PrivilegeEscalation[i] + 0.25\n",
    "        # Exfiltration[i] <- Exfiltration[i] + 0\n",
    "    }\n",
    "    if(I>6 & I<=9) {\n",
    "        Reconnaissance[i] <- Reconnaissance[i] + 0.5\n",
    "        # Delivery[i] <- Delivery[i] + 0\n",
    "        LateralMovement[i] <- LateralMovement[i] + 0.25\n",
    "        PrivilegeEscalation[i] <- PrivilegeEscalation[i] + 0.25\n",
    "        Exfiltration[i] <- Exfiltration[i] + 0.25\n",
    "    }\n",
    "    if(I>3 & I<=6) {\n",
    "        Reconnaissance[i] <- Reconnaissance[i] + 0.25\n",
    "        Delivery[i] <- Delivery[i] + 0.25\n",
    "        LateralMovement[i] <- LateralMovement[i] + 0.25\n",
    "        PrivilegeEscalation[i] <- PrivilegeEscalation[i] + 0.25\n",
    "        Exfiltration[i] <- Exfiltration[i] + 0.25\n",
    "    }\n",
    "    if(I>1 & I<=3) {\n",
    "        if(sum(Identical$Failure)==nrow(Identical)) {\n",
    "            Reconnaissance[i] <- Reconnaissance[i] + 0.25\n",
    "            }\n",
    "        Delivery[i] <- Delivery[i] + 0.5\n",
    "        LateralMovement[i] <- LateralMovement[i] + 0.5\n",
    "        PrivilegeEscalation[i] <- PrivilegeEscalation[i] + 0.25\n",
    "        Exfiltration[i] <- Exfiltration[i] + 0.5\n",
    "    }\n",
    "    if(I==1) {\n",
    "        if(Identical$Failure==1) {\n",
    "            Reconnaissance[i] <- Reconnaissance[i] + 0.25\n",
    "        }\n",
    "        Delivery[i] <- Delivery[i] + 1.25\n",
    "        LateralMovement[i] <- LateralMovement[i] + 0.5\n",
    "        PrivilegeEscalation[i] <- PrivilegeEscalation[i] + 0.25\n",
    "        Exfiltration[i] <- Exfiltration[i] + 0.75\n",
    "    }\n",
    "    \n",
    "    A<- length(unique(UserAndSourceFrequency$Authent.Type))\n",
    "    if(A>3) {\n",
    "        Reconnaissance[i] <- Reconnaissance[i] + 1.25\n",
    "        Delivery[i] <- Delivery[i] + 1.5\n",
    "        # LateralMovement[i] <- LateralMovement[i] + 0\n",
    "        PrivilegeEscalation[i] <- PrivilegeEscalation[i] + 0.25\n",
    "        # Exfiltration[i] <- Exfiltration[i] + 0  \n",
    "    }\n",
    "    if(A==3) {\n",
    "        Reconnaissance[i] <- Reconnaissance[i] + 1\n",
    "        Delivery[i] <- Delivery[i] + 1.25\n",
    "        LateralMovement[i] <- LateralMovement[i] + 0.25\n",
    "        PrivilegeEscalation[i] <- PrivilegeEscalation[i] + 0.5\n",
    "        Exfiltration[i] <- Exfiltration[i] + 0.25\n",
    "    }\n",
    "    if(A==2) {\n",
    "        Reconnaissance[i] <- Reconnaissance[i] + 0.75\n",
    "        Delivery[i] <- Delivery[i] + 1\n",
    "        LateralMovement[i] <- LateralMovement[i] + 1\n",
    "        PrivilegeEscalation[i] <- PrivilegeEscalation[i] + 0.5\n",
    "        Exfiltration[i] <- Exfiltration[i] + 1\n",
    "    }\n",
    "    if(A==1) {\n",
    "        Reconnaissance[i] <- Reconnaissance[i] + 0.25\n",
    "        Delivery[i] <- Delivery[i] + 0.25\n",
    "        LateralMovement[i] <- LateralMovement[i] + 1.25\n",
    "        PrivilegeEscalation[i] <- PrivilegeEscalation[i] + 0.5\n",
    "        Exfiltration[i] <- Exfiltration[i] + 1.25\n",
    "    }\n",
    "    \n",
    "    Identical <- Identical[Identical$Authent.Type==AT, ]\n",
    "    I <- nrow(Identical)\n",
    "    if(I>=2) {\n",
    "        Reconnaissance[i] <- Reconnaissance[i] + 2\n",
    "        Delivery[i] <- Delivery[i] + 1\n",
    "        LateralMovement[i] <- LateralMovement[i] + 0.5\n",
    "        PrivilegeEscalation[i] <- PrivilegeEscalation[i] + 0.25\n",
    "        Exfiltration[i] <- Exfiltration[i] + 0.25  \n",
    "    }\n",
    "    if(I==1) {\n",
    "        # Reconnaissance[i] <- Reconnaissance[i] + 0\n",
    "        Delivery[i] <- Delivery[i] + 0.25\n",
    "        LateralMovement[i] <- LateralMovement[i] + 0.5\n",
    "        PrivilegeEscalation[i] <- PrivilegeEscalation[i] + 0.75\n",
    "        Exfiltration[i] <- Exfiltration[i] + 1\n",
    "    }\n",
    "    \n",
    "    Identical <- UserAndSourceFrequency[UserAndSourceFrequency$DstDevice==Dst, ]\n",
    "    AuthTypes <- length(unique(Identical$Authent.Types))\n",
    "    if(AuthTypes>=2) {\n",
    "        Reconnaissance[i] <- Reconnaissance[i] + 1.75\n",
    "        Delivery[i] <- Delivery[i] + 1.5\n",
    "        LateralMovement[i] <- LateralMovement[i] + 1.25\n",
    "        PrivilegeEscalation[i] <- PrivilegeEscalation[i] + 0.5\n",
    "        # Exfiltration[i] <- Exfiltration[i] + 0\n",
    "    }\n",
    "    if(AuthTypes==1) {\n",
    "        # Reconnaissance[i] <- Reconnaissance[i] + 0\n",
    "        Delivery[i] <- Delivery[i] + 0.25\n",
    "        LateralMovement[i] <- LateralMovement[i] + 0.25\n",
    "        PrivilegeEscalation[i] <- PrivilegeEscalation[i] + 0.5\n",
    "        # Exfiltration[i] <- Exfiltration[i] + 0\n",
    "    }\n",
    "    \n",
    "    if(FA==1) {\n",
    "        Reconnaissance[i] <- Reconnaissance[i] + 2\n",
    "        Delivery[i] <- Delivery[i] + 1.5\n",
    "        LateralMovement[i] <- LateralMovement[i] + 0.75\n",
    "        PrivilegeEscalation[i] <- PrivilegeEscalation[i] + 0.25\n",
    "        # Exfiltration[i] <- Exfiltration[i] + 0 \n",
    "    }\n",
    "    if(FA==0) {\n",
    "        # Reconnaissance[i] <- Reconnaissance[i] + 0\n",
    "        Delivery[i] <- Delivery[i] + 0.25\n",
    "        LateralMovement[i] <- LateralMovement[i] + 0.5\n",
    "        PrivilegeEscalation[i] <- PrivilegeEscalation[i] + 1.5\n",
    "        Exfiltration[i] <- Exfiltration[i] + 2\n",
    "    }\n",
    "    \n",
    "    OF <- sum(UserAndSourceFrequency$Failure)\n",
    "    SF <- nrow(UserAndSourceFrequency)\n",
    "    if(OF/SF>=0.8) {\n",
    "        Reconnaissance[i] <- Reconnaissance[i] + 2\n",
    "        Delivery[i] <- Delivery[i] + 0.25\n",
    "        # LateralMovement[i] <- LateralMovement[i] + 0\n",
    "        # PrivilegeEscalation[i] <- PrivilegeEscalation[i] + 0\n",
    "        # Exfiltration[i] <- Exfiltration[i] + 0\n",
    "    }\n",
    "    if(OF/SF>=0.5 & OF/SF<0.8) {\n",
    "        Reconnaissance[i] <- Reconnaissance[i] + 1.75\n",
    "        Delivery[i] <- Delivery[i] + 0.5\n",
    "        # LateralMovement[i] <- LateralMovement[i] + 0\n",
    "        # PrivilegeEscalation[i] <- PrivilegeEscalation[i] + 0\n",
    "        # Exfiltration[i] <- Exfiltration[i] + 0\n",
    "    }\n",
    "    if(OF/SF>=0.2 & OF/SF<0.5) {\n",
    "        Reconnaissance[i] <- Reconnaissance[i] + 1.25\n",
    "        Delivery[i] <- Delivery[i] + 1\n",
    "        LateralMovement[i] <- LateralMovement[i] + 0.5\n",
    "        # PrivilegeEscalation[i] <- PrivilegeEscalation[i] + 0\n",
    "        # Exfiltration[i] <- Exfiltration[i] + 0\n",
    "    }\n",
    "    if(OF/SF>=0.1 & OF/SF<0.2) {\n",
    "        Reconnaissance[i] <- Reconnaissance[i] + 0.5\n",
    "        Delivery[i] <- Delivery[i] + 1.25\n",
    "        LateralMovement[i] <- LateralMovement[i] + 0.75\n",
    "        # PrivilegeEscalation[i] <- PrivilegeEscalation[i] + 0\n",
    "        # Exfiltration[i] <- Exfiltration[i] + 0\n",
    "    }\n",
    "    if(OF/SF>=0.02 & OF/SF<0.1) {\n",
    "        Reconnaissance[i] <- Reconnaissance[i] + 0.25\n",
    "        Delivery[i] <- Delivery[i] + 1\n",
    "        LateralMovement[i] <- LateralMovement[i] + 0.5\n",
    "        PrivilegeEscalation[i] <- PrivilegeEscalation[i] + 0.5\n",
    "        Exfiltration[i] <- Exfiltration[i] + 0.25\n",
    "    }\n",
    "    if(OF/SF<0.02) {\n",
    "        # Reconnaissance[i] <- Reconnaissance[i] + 0\n",
    "        Delivery[i] <- Delivery[i] + 0.5\n",
    "        LateralMovement[i] <- LateralMovement[i] + 0.25\n",
    "        PrivilegeEscalation[i] <- PrivilegeEscalation[i] + 1.5\n",
    "        Exfiltration[i] <- Exfiltration[i] + 2\n",
    "    }\n",
    "    \n",
    "    Identical <- Identical[Identical$Authent.Type==AT, ]\n",
    "    FI <- length(unique(Identical$Failure))\n",
    "    if(FI>=2) {\n",
    "        Reconnaissance[i] <- Reconnaissance[i] + 0.5\n",
    "        Delivery[i] <- Delivery[i] + 0.25\n",
    "        LateralMovement[i] <- LateralMovement[i] + 0.5\n",
    "        # PrivilegeEscalation[i] <- PrivilegeEscalation[i] + 0\n",
    "        # Exfiltration[i] <- Exfiltration[i] + 0\n",
    "    }\n",
    "    if(FI==1) {\n",
    "        Reconnaissance[i] <- Reconnaissance[i] + 0.25\n",
    "        Delivery[i] <- Delivery[i] + 0.75\n",
    "        LateralMovement[i] <- LateralMovement[i] + 0.5\n",
    "        PrivilegeEscalation[i] <- PrivilegeEscalation[i] + 1.75\n",
    "        Exfiltration[i] <- Exfiltration[i] + 2\n",
    "    }\n",
    "    \n",
    "    if(AT=='TGT') {\n",
    "        # Reconnaissance[i] <- Reconnaissance[i] + 0\n",
    "        Delivery[i] <- Delivery[i] + 0.75\n",
    "        LateralMovement[i] <- LateralMovement[i] + 0.5\n",
    "        PrivilegeEscalation[i] <- PrivilegeEscalation[i] + 1.5\n",
    "        Exfiltration[i] <- Exfiltration[i] + 1.75\n",
    "    }\n",
    "    if(AT=='TGS') {\n",
    "        # Reconnaissance[i] <- Reconnaissance[i] + 0\n",
    "        Delivery[i] <- Delivery[i] + 1\n",
    "        LateralMovement[i] <- LateralMovement[i] + 0.5\n",
    "        PrivilegeEscalation[i] <- PrivilegeEscalation[i] + 1.5\n",
    "        Exfiltration[i] <- Exfiltration[i] + 1.75\n",
    "    }\n",
    "    if(AT=='InteractiveLogon' | AT=='RemoteInteractive') {\n",
    "        Reconnaissance[i] <- Reconnaissance[i] + 1.5\n",
    "        Delivery[i] <- Delivery[i] + 0.25\n",
    "        LateralMovement[i] <- LateralMovement[i] + 1\n",
    "        PrivilegeEscalation[i] <- PrivilegeEscalation[i] + 0.25\n",
    "        # Exfiltration[i] <- Exfiltration[i] + 0 \n",
    "    }\n",
    "    if(AT=='NetworkLogon') {\n",
    "        Reconnaissance[i] <- Reconnaissance[i] + 1.75\n",
    "        Delivery[i] <- Delivery[i] + 0.25\n",
    "        LateralMovement[i] <- LateralMovement[i] + 0.5\n",
    "        PrivilegeEscalation[i] <- PrivilegeEscalation[i] + 0.25\n",
    "        # Exfiltration[i] <- Exfiltration[i] + 0 \n",
    "    }\n",
    "    if(AT=='Batch') {\n",
    "        # Reconnaissance[i] <- Reconnaissance[i] + 0\n",
    "        Delivery[i] <- Delivery[i] + 1.5\n",
    "        LateralMovement[i] <- LateralMovement[i] + 0.25\n",
    "        PrivilegeEscalation[i] <- PrivilegeEscalation[i] + 0.5\n",
    "        Exfiltration[i] <- Exfiltration[i] + 1.25 \n",
    "    }\n",
    "    if(AT=='Service') {\n",
    "        # Reconnaissance[i] <- Reconnaissance[i] + 0\n",
    "        Delivery[i] <- Delivery[i] + 1.5\n",
    "        LateralMovement[i] <- LateralMovement[i] + 0.5\n",
    "        PrivilegeEscalation[i] <- PrivilegeEscalation[i] + 1.75\n",
    "        Exfiltration[i] <- Exfiltration[i] + 1.25 \n",
    "    }\n",
    "    if(AT=='WorkstationLock') {\n",
    "        # Reconnaissance[i] <- Reconnaissance[i] + 0\n",
    "        Delivery[i] <- Delivery[i] + 0.75\n",
    "        # LateralMovement[i] <- LateralMovement[i] + 0\n",
    "        PrivilegeEscalation[i] <- PrivilegeEscalation[i] + 0.25\n",
    "        Exfiltration[i] <- Exfiltration[i] + 2 \n",
    "    }\n",
    "    if(AT=='WorkstationUnlock') {\n",
    "        Reconnaissance[i] <- Reconnaissance[i] + 0.75\n",
    "        Delivery[i] <- Delivery[i] + 0.25\n",
    "        LateralMovement[i] <- LateralMovement[i] + 0.25\n",
    "        PrivilegeEscalation[i] <- PrivilegeEscalation[i] + 1\n",
    "        Exfiltration[i] <- Exfiltration[i] + 0.25 \n",
    "    }\n",
    "    if(AT=='ScreensaverInvoked') {\n",
    "        # Reconnaissance[i] <- Reconnaissance[i] + 0\n",
    "        Delivery[i] <- Delivery[i] + 0.75\n",
    "        # LateralMovement[i] <- LateralMovement[i] + 0\n",
    "        # PrivilegeEscalation[i] <- PrivilegeEscalation[i] + 0\n",
    "        # Exfiltration[i] <- Exfiltration[i] + 0\n",
    "    }\n",
    "    if(AT=='ScreensaverDismissed') {\n",
    "        # Reconnaissance[i] <- Reconnaissance[i] + 0\n",
    "        Delivery[i] <- Delivery[i] + 0.5\n",
    "        LateralMovement[i] <- LateralMovement[i] + 0.25\n",
    "        # PrivilegeEscalation[i] <- PrivilegeEscalation[i] + 0\n",
    "        # Exfiltration[i] <- Exfiltration[i] + 0\n",
    "    }\n",
    "    if(AT=='CachedInteractive') {\n",
    "        Reconnaissance[i] <- Reconnaissance[i] + 0.75\n",
    "        Delivery[i] <- Delivery[i] + 0.5\n",
    "        LateralMovement[i] <- LateralMovement[i] + 0.25\n",
    "        PrivilegeEscalation[i] <- PrivilegeEscalation[i] + 0.25\n",
    "        # Exfiltration[i] <- Exfiltration[i] + 0\n",
    "    }\n",
    "    progress(i)\n",
    "    # Sys.sleep(0.01)\n",
    "}"
   ]
  },
  {
   "cell_type": "code",
   "execution_count": 8,
   "id": "2b86a5bb",
   "metadata": {},
   "outputs": [
    {
     "data": {
      "text/html": [
       "<table>\n",
       "<thead><tr><th scope=col>Reconnaissance</th><th scope=col>Delivery</th><th scope=col>LateralMovement</th><th scope=col>PrivilegeEscalation</th><th scope=col>Exfiltration</th></tr></thead>\n",
       "<tbody>\n",
       "\t<tr><td>14.25</td><td>7.00 </td><td>6.25 </td><td>6.75 </td><td>5.50 </td></tr>\n",
       "\t<tr><td>14.25</td><td>7.00 </td><td>6.25 </td><td>6.75 </td><td>5.50 </td></tr>\n",
       "\t<tr><td>14.25</td><td>7.00 </td><td>6.25 </td><td>6.75 </td><td>5.50 </td></tr>\n",
       "\t<tr><td>14.25</td><td>7.00 </td><td>6.25 </td><td>6.75 </td><td>5.50 </td></tr>\n",
       "\t<tr><td>14.25</td><td>7.00 </td><td>6.25 </td><td>6.75 </td><td>5.50 </td></tr>\n",
       "\t<tr><td>14.25</td><td>7.00 </td><td>6.25 </td><td>6.75 </td><td>5.50 </td></tr>\n",
       "\t<tr><td>14.25</td><td>7.00 </td><td>6.25 </td><td>6.75 </td><td>5.50 </td></tr>\n",
       "\t<tr><td>14.25</td><td>7.00 </td><td>6.25 </td><td>6.75 </td><td>5.50 </td></tr>\n",
       "\t<tr><td>12.25</td><td>7.75 </td><td>6.25 </td><td>8.00 </td><td>7.00 </td></tr>\n",
       "\t<tr><td>12.25</td><td>7.75 </td><td>6.25 </td><td>8.00 </td><td>7.00 </td></tr>\n",
       "\t<tr><td>12.25</td><td>7.75 </td><td>6.25 </td><td>8.00 </td><td>7.00 </td></tr>\n",
       "\t<tr><td>12.25</td><td>7.75 </td><td>6.25 </td><td>8.00 </td><td>7.00 </td></tr>\n",
       "\t<tr><td>12.25</td><td>7.75 </td><td>6.25 </td><td>8.00 </td><td>7.00 </td></tr>\n",
       "\t<tr><td>12.25</td><td>7.75 </td><td>6.25 </td><td>8.00 </td><td>7.00 </td></tr>\n",
       "\t<tr><td>12.25</td><td>7.75 </td><td>6.25 </td><td>8.00 </td><td>7.00 </td></tr>\n",
       "\t<tr><td>12.25</td><td>7.75 </td><td>6.25 </td><td>8.00 </td><td>7.00 </td></tr>\n",
       "\t<tr><td>12.25</td><td>7.75 </td><td>6.25 </td><td>8.00 </td><td>7.00 </td></tr>\n",
       "\t<tr><td>12.25</td><td>7.75 </td><td>6.25 </td><td>8.00 </td><td>7.00 </td></tr>\n",
       "\t<tr><td>12.25</td><td>7.75 </td><td>6.25 </td><td>8.00 </td><td>7.00 </td></tr>\n",
       "\t<tr><td>13.00</td><td>7.50 </td><td>5.75 </td><td>6.75 </td><td>7.75 </td></tr>\n",
       "\t<tr><td>13.00</td><td>7.50 </td><td>5.75 </td><td>6.75 </td><td>7.75 </td></tr>\n",
       "\t<tr><td>14.00</td><td>7.00 </td><td>6.25 </td><td>6.75 </td><td>5.25 </td></tr>\n",
       "\t<tr><td>14.00</td><td>7.00 </td><td>6.25 </td><td>6.75 </td><td>5.25 </td></tr>\n",
       "\t<tr><td>14.00</td><td>7.00 </td><td>6.25 </td><td>6.75 </td><td>5.25 </td></tr>\n",
       "\t<tr><td>14.00</td><td>7.00 </td><td>6.25 </td><td>6.75 </td><td>5.25 </td></tr>\n",
       "</tbody>\n",
       "</table>\n"
      ],
      "text/latex": [
       "\\begin{tabular}{r|lllll}\n",
       " Reconnaissance & Delivery & LateralMovement & PrivilegeEscalation & Exfiltration\\\\\n",
       "\\hline\n",
       "\t 14.25 & 7.00  & 6.25  & 6.75  & 5.50 \\\\\n",
       "\t 14.25 & 7.00  & 6.25  & 6.75  & 5.50 \\\\\n",
       "\t 14.25 & 7.00  & 6.25  & 6.75  & 5.50 \\\\\n",
       "\t 14.25 & 7.00  & 6.25  & 6.75  & 5.50 \\\\\n",
       "\t 14.25 & 7.00  & 6.25  & 6.75  & 5.50 \\\\\n",
       "\t 14.25 & 7.00  & 6.25  & 6.75  & 5.50 \\\\\n",
       "\t 14.25 & 7.00  & 6.25  & 6.75  & 5.50 \\\\\n",
       "\t 14.25 & 7.00  & 6.25  & 6.75  & 5.50 \\\\\n",
       "\t 12.25 & 7.75  & 6.25  & 8.00  & 7.00 \\\\\n",
       "\t 12.25 & 7.75  & 6.25  & 8.00  & 7.00 \\\\\n",
       "\t 12.25 & 7.75  & 6.25  & 8.00  & 7.00 \\\\\n",
       "\t 12.25 & 7.75  & 6.25  & 8.00  & 7.00 \\\\\n",
       "\t 12.25 & 7.75  & 6.25  & 8.00  & 7.00 \\\\\n",
       "\t 12.25 & 7.75  & 6.25  & 8.00  & 7.00 \\\\\n",
       "\t 12.25 & 7.75  & 6.25  & 8.00  & 7.00 \\\\\n",
       "\t 12.25 & 7.75  & 6.25  & 8.00  & 7.00 \\\\\n",
       "\t 12.25 & 7.75  & 6.25  & 8.00  & 7.00 \\\\\n",
       "\t 12.25 & 7.75  & 6.25  & 8.00  & 7.00 \\\\\n",
       "\t 12.25 & 7.75  & 6.25  & 8.00  & 7.00 \\\\\n",
       "\t 13.00 & 7.50  & 5.75  & 6.75  & 7.75 \\\\\n",
       "\t 13.00 & 7.50  & 5.75  & 6.75  & 7.75 \\\\\n",
       "\t 14.00 & 7.00  & 6.25  & 6.75  & 5.25 \\\\\n",
       "\t 14.00 & 7.00  & 6.25  & 6.75  & 5.25 \\\\\n",
       "\t 14.00 & 7.00  & 6.25  & 6.75  & 5.25 \\\\\n",
       "\t 14.00 & 7.00  & 6.25  & 6.75  & 5.25 \\\\\n",
       "\\end{tabular}\n"
      ],
      "text/markdown": [
       "\n",
       "| Reconnaissance | Delivery | LateralMovement | PrivilegeEscalation | Exfiltration |\n",
       "|---|---|---|---|---|\n",
       "| 14.25 | 7.00  | 6.25  | 6.75  | 5.50  |\n",
       "| 14.25 | 7.00  | 6.25  | 6.75  | 5.50  |\n",
       "| 14.25 | 7.00  | 6.25  | 6.75  | 5.50  |\n",
       "| 14.25 | 7.00  | 6.25  | 6.75  | 5.50  |\n",
       "| 14.25 | 7.00  | 6.25  | 6.75  | 5.50  |\n",
       "| 14.25 | 7.00  | 6.25  | 6.75  | 5.50  |\n",
       "| 14.25 | 7.00  | 6.25  | 6.75  | 5.50  |\n",
       "| 14.25 | 7.00  | 6.25  | 6.75  | 5.50  |\n",
       "| 12.25 | 7.75  | 6.25  | 8.00  | 7.00  |\n",
       "| 12.25 | 7.75  | 6.25  | 8.00  | 7.00  |\n",
       "| 12.25 | 7.75  | 6.25  | 8.00  | 7.00  |\n",
       "| 12.25 | 7.75  | 6.25  | 8.00  | 7.00  |\n",
       "| 12.25 | 7.75  | 6.25  | 8.00  | 7.00  |\n",
       "| 12.25 | 7.75  | 6.25  | 8.00  | 7.00  |\n",
       "| 12.25 | 7.75  | 6.25  | 8.00  | 7.00  |\n",
       "| 12.25 | 7.75  | 6.25  | 8.00  | 7.00  |\n",
       "| 12.25 | 7.75  | 6.25  | 8.00  | 7.00  |\n",
       "| 12.25 | 7.75  | 6.25  | 8.00  | 7.00  |\n",
       "| 12.25 | 7.75  | 6.25  | 8.00  | 7.00  |\n",
       "| 13.00 | 7.50  | 5.75  | 6.75  | 7.75  |\n",
       "| 13.00 | 7.50  | 5.75  | 6.75  | 7.75  |\n",
       "| 14.00 | 7.00  | 6.25  | 6.75  | 5.25  |\n",
       "| 14.00 | 7.00  | 6.25  | 6.75  | 5.25  |\n",
       "| 14.00 | 7.00  | 6.25  | 6.75  | 5.25  |\n",
       "| 14.00 | 7.00  | 6.25  | 6.75  | 5.25  |\n",
       "\n"
      ],
      "text/plain": [
       "   Reconnaissance Delivery LateralMovement PrivilegeEscalation Exfiltration\n",
       "1  14.25          7.00     6.25            6.75                5.50        \n",
       "2  14.25          7.00     6.25            6.75                5.50        \n",
       "3  14.25          7.00     6.25            6.75                5.50        \n",
       "4  14.25          7.00     6.25            6.75                5.50        \n",
       "5  14.25          7.00     6.25            6.75                5.50        \n",
       "6  14.25          7.00     6.25            6.75                5.50        \n",
       "7  14.25          7.00     6.25            6.75                5.50        \n",
       "8  14.25          7.00     6.25            6.75                5.50        \n",
       "9  12.25          7.75     6.25            8.00                7.00        \n",
       "10 12.25          7.75     6.25            8.00                7.00        \n",
       "11 12.25          7.75     6.25            8.00                7.00        \n",
       "12 12.25          7.75     6.25            8.00                7.00        \n",
       "13 12.25          7.75     6.25            8.00                7.00        \n",
       "14 12.25          7.75     6.25            8.00                7.00        \n",
       "15 12.25          7.75     6.25            8.00                7.00        \n",
       "16 12.25          7.75     6.25            8.00                7.00        \n",
       "17 12.25          7.75     6.25            8.00                7.00        \n",
       "18 12.25          7.75     6.25            8.00                7.00        \n",
       "19 12.25          7.75     6.25            8.00                7.00        \n",
       "20 13.00          7.50     5.75            6.75                7.75        \n",
       "21 13.00          7.50     5.75            6.75                7.75        \n",
       "22 14.00          7.00     6.25            6.75                5.25        \n",
       "23 14.00          7.00     6.25            6.75                5.25        \n",
       "24 14.00          7.00     6.25            6.75                5.25        \n",
       "25 14.00          7.00     6.25            6.75                5.25        "
      ]
     },
     "metadata": {},
     "output_type": "display_data"
    }
   ],
   "source": [
    "Stages <- as.data.frame(cbind(Reconnaissance, Delivery, LateralMovement, PrivilegeEscalation, Exfiltration))\n",
    "head(Stages, 25)"
   ]
  },
  {
   "cell_type": "code",
   "execution_count": 9,
   "id": "9e3fa0fa",
   "metadata": {},
   "outputs": [
    {
     "data": {
      "image/png": "[encoded data removed]",
      "text/plain": [
       "plot without title"
      ]
     },
     "metadata": {},
     "output_type": "display_data"
    }
   ],
   "source": [
    "fviz_nbclust(Stages, FUNcluster=kmeans, method='silhouette') + labs(subtitle = \"Silhouette method\")"
   ]
  },
  {
   "cell_type": "code",
   "execution_count": 11,
   "id": "254d6c63",
   "metadata": {},
   "outputs": [
    {
     "data": {
      "text/plain": [
       "\n",
       "   1    2    3    4    5 \n",
       "5286 4997 4962 2053 3114 "
      ]
     },
     "metadata": {},
     "output_type": "display_data"
    },
    {
     "data": {
      "text/plain": [
       "\n",
       "   1    2    3    4    5 \n",
       "2053 3114 4997 5286 4962 "
      ]
     },
     "metadata": {},
     "output_type": "display_data"
    }
   ],
   "source": [
    "K1 <- kmeans(Stages, centers=5, nstart = sample(1:nrow(Stages), size=1), algorithm=\"Lloyd\", iter.max = 10^4)\n",
    "K2 <- kmeans(Stages, centers=5, nstart = sample(1:nrow(Stages), size=1), algorithm=\"Hartigan-Wong\", iter.max = 10^4)\n",
    "\n",
    "table(K1$cluster)\n",
    "table(K2$cluster)"
   ]
  },
  {
   "cell_type": "code",
   "execution_count": 13,
   "id": "e1db7208",
   "metadata": {},
   "outputs": [
    {
     "data": {
      "image/png": "[encoded data removed]",
      "text/plain": [
       "plot without title"
      ]
     },
     "metadata": {},
     "output_type": "display_data"
    }
   ],
   "source": [
    "fviz_cluster(K1, data = Stages, geom = \"point\",\n",
    "             ellipse.type = \"convex\", \n",
    "             ggtheme = theme_bw()\n",
    "             )"
   ]
  },
  {
   "cell_type": "code",
   "execution_count": 17,
   "id": "6ad3377e",
   "metadata": {},
   "outputs": [
    {
     "data": {
      "text/html": [
       "<ol class=list-inline>\n",
       "\t<li>39.75</li>\n",
       "\t<li>39.75</li>\n",
       "\t<li>39.75</li>\n",
       "\t<li>39.75</li>\n",
       "\t<li>39.75</li>\n",
       "\t<li>39.75</li>\n",
       "</ol>\n"
      ],
      "text/latex": [
       "\\begin{enumerate*}\n",
       "\\item 39.75\n",
       "\\item 39.75\n",
       "\\item 39.75\n",
       "\\item 39.75\n",
       "\\item 39.75\n",
       "\\item 39.75\n",
       "\\end{enumerate*}\n"
      ],
      "text/markdown": [
       "1. 39.75\n",
       "2. 39.75\n",
       "3. 39.75\n",
       "4. 39.75\n",
       "5. 39.75\n",
       "6. 39.75\n",
       "\n",
       "\n"
      ],
      "text/plain": [
       "[1] 39.75 39.75 39.75 39.75 39.75 39.75"
      ]
     },
     "metadata": {},
     "output_type": "display_data"
    }
   ],
   "source": [
    "R <- rowSums(Stages)\n",
    "head(R)"
   ]
  },
  {
   "cell_type": "code",
   "execution_count": 22,
   "id": "cdfc7090",
   "metadata": {},
   "outputs": [],
   "source": [
    "Probs <- Stages/R"
   ]
  },
  {
   "cell_type": "code",
   "execution_count": 23,
   "id": "d5c9e3d0",
   "metadata": {},
   "outputs": [
    {
     "data": {
      "text/html": [
       "<table>\n",
       "<thead><tr><th scope=col>Reconnaissance</th><th scope=col>Delivery</th><th scope=col>LateralMovement</th><th scope=col>PrivilegeEscalation</th><th scope=col>Exfiltration</th></tr></thead>\n",
       "<tbody>\n",
       "\t<tr><td>0.3584906</td><td>0.1761006</td><td>0.1572327</td><td>0.1698113</td><td>0.1383648</td></tr>\n",
       "\t<tr><td>0.3584906</td><td>0.1761006</td><td>0.1572327</td><td>0.1698113</td><td>0.1383648</td></tr>\n",
       "\t<tr><td>0.3584906</td><td>0.1761006</td><td>0.1572327</td><td>0.1698113</td><td>0.1383648</td></tr>\n",
       "\t<tr><td>0.3584906</td><td>0.1761006</td><td>0.1572327</td><td>0.1698113</td><td>0.1383648</td></tr>\n",
       "\t<tr><td>0.3584906</td><td>0.1761006</td><td>0.1572327</td><td>0.1698113</td><td>0.1383648</td></tr>\n",
       "\t<tr><td>0.3584906</td><td>0.1761006</td><td>0.1572327</td><td>0.1698113</td><td>0.1383648</td></tr>\n",
       "</tbody>\n",
       "</table>\n"
      ],
      "text/latex": [
       "\\begin{tabular}{r|lllll}\n",
       " Reconnaissance & Delivery & LateralMovement & PrivilegeEscalation & Exfiltration\\\\\n",
       "\\hline\n",
       "\t 0.3584906 & 0.1761006 & 0.1572327 & 0.1698113 & 0.1383648\\\\\n",
       "\t 0.3584906 & 0.1761006 & 0.1572327 & 0.1698113 & 0.1383648\\\\\n",
       "\t 0.3584906 & 0.1761006 & 0.1572327 & 0.1698113 & 0.1383648\\\\\n",
       "\t 0.3584906 & 0.1761006 & 0.1572327 & 0.1698113 & 0.1383648\\\\\n",
       "\t 0.3584906 & 0.1761006 & 0.1572327 & 0.1698113 & 0.1383648\\\\\n",
       "\t 0.3584906 & 0.1761006 & 0.1572327 & 0.1698113 & 0.1383648\\\\\n",
       "\\end{tabular}\n"
      ],
      "text/markdown": [
       "\n",
       "| Reconnaissance | Delivery | LateralMovement | PrivilegeEscalation | Exfiltration |\n",
       "|---|---|---|---|---|\n",
       "| 0.3584906 | 0.1761006 | 0.1572327 | 0.1698113 | 0.1383648 |\n",
       "| 0.3584906 | 0.1761006 | 0.1572327 | 0.1698113 | 0.1383648 |\n",
       "| 0.3584906 | 0.1761006 | 0.1572327 | 0.1698113 | 0.1383648 |\n",
       "| 0.3584906 | 0.1761006 | 0.1572327 | 0.1698113 | 0.1383648 |\n",
       "| 0.3584906 | 0.1761006 | 0.1572327 | 0.1698113 | 0.1383648 |\n",
       "| 0.3584906 | 0.1761006 | 0.1572327 | 0.1698113 | 0.1383648 |\n",
       "\n"
      ],
      "text/plain": [
       "  Reconnaissance Delivery  LateralMovement PrivilegeEscalation Exfiltration\n",
       "1 0.3584906      0.1761006 0.1572327       0.1698113           0.1383648   \n",
       "2 0.3584906      0.1761006 0.1572327       0.1698113           0.1383648   \n",
       "3 0.3584906      0.1761006 0.1572327       0.1698113           0.1383648   \n",
       "4 0.3584906      0.1761006 0.1572327       0.1698113           0.1383648   \n",
       "5 0.3584906      0.1761006 0.1572327       0.1698113           0.1383648   \n",
       "6 0.3584906      0.1761006 0.1572327       0.1698113           0.1383648   "
      ]
     },
     "metadata": {},
     "output_type": "display_data"
    }
   ],
   "source": [
    "head(Probs)"
   ]
  },
  {
   "cell_type": "code",
   "execution_count": 24,
   "id": "38593cda",
   "metadata": {},
   "outputs": [
    {
     "data": {
      "text/plain": [
       "\n",
       "   1    2    3    4    5 \n",
       "1922 3122 6467 4089 4812 "
      ]
     },
     "metadata": {},
     "output_type": "display_data"
    }
   ],
   "source": [
    "K3 <- kmeans(Probs, centers=5, nstart = sample(1:nrow(Probs), size=1), algorithm=\"Lloyd\", iter.max = 10^4)\n",
    "table(K3$cluster)"
   ]
  },
  {
   "cell_type": "code",
   "execution_count": 25,
   "id": "60deab6a",
   "metadata": {},
   "outputs": [
    {
     "data": {
      "image/png": "[encoded data removed]",
      "text/plain": [
       "plot without title"
      ]
     },
     "metadata": {},
     "output_type": "display_data"
    }
   ],
   "source": [
    "fviz_cluster(K3, data = Probs, geom = \"point\",\n",
    "             ellipse.type = \"convex\", \n",
    "             ggtheme = theme_bw()\n",
    "             )"
   ]
  },
  {
   "cell_type": "code",
   "execution_count": 38,
   "id": "197e4d8a",
   "metadata": {},
   "outputs": [
    {
     "data": {
      "text/html": [
       "<table>\n",
       "<thead><tr><th scope=col>Reconnaissance</th><th scope=col>Delivery</th><th scope=col>LateralMovement</th><th scope=col>PrivilegeEscalation</th><th scope=col>Exfiltration</th><th scope=col>Maximum</th></tr></thead>\n",
       "<tbody>\n",
       "\t<tr><td>0.3584906</td><td>0.1761006</td><td>0.1572327</td><td>0.1698113</td><td>0.1383648</td><td>0.3584906</td></tr>\n",
       "\t<tr><td>0.3584906</td><td>0.1761006</td><td>0.1572327</td><td>0.1698113</td><td>0.1383648</td><td>0.3584906</td></tr>\n",
       "\t<tr><td>0.3584906</td><td>0.1761006</td><td>0.1572327</td><td>0.1698113</td><td>0.1383648</td><td>0.3584906</td></tr>\n",
       "\t<tr><td>0.3584906</td><td>0.1761006</td><td>0.1572327</td><td>0.1698113</td><td>0.1383648</td><td>0.3584906</td></tr>\n",
       "\t<tr><td>0.3584906</td><td>0.1761006</td><td>0.1572327</td><td>0.1698113</td><td>0.1383648</td><td>0.3584906</td></tr>\n",
       "\t<tr><td>0.3584906</td><td>0.1761006</td><td>0.1572327</td><td>0.1698113</td><td>0.1383648</td><td>0.3584906</td></tr>\n",
       "\t<tr><td>0.3584906</td><td>0.1761006</td><td>0.1572327</td><td>0.1698113</td><td>0.1383648</td><td>0.3584906</td></tr>\n",
       "\t<tr><td>0.3584906</td><td>0.1761006</td><td>0.1572327</td><td>0.1698113</td><td>0.1383648</td><td>0.3584906</td></tr>\n",
       "\t<tr><td>0.2969697</td><td>0.1878788</td><td>0.1515152</td><td>0.1939394</td><td>0.1696970</td><td>0.2969697</td></tr>\n",
       "\t<tr><td>0.2969697</td><td>0.1878788</td><td>0.1515152</td><td>0.1939394</td><td>0.1696970</td><td>0.2969697</td></tr>\n",
       "</tbody>\n",
       "</table>\n"
      ],
      "text/latex": [
       "\\begin{tabular}{r|llllll}\n",
       " Reconnaissance & Delivery & LateralMovement & PrivilegeEscalation & Exfiltration & Maximum\\\\\n",
       "\\hline\n",
       "\t 0.3584906 & 0.1761006 & 0.1572327 & 0.1698113 & 0.1383648 & 0.3584906\\\\\n",
       "\t 0.3584906 & 0.1761006 & 0.1572327 & 0.1698113 & 0.1383648 & 0.3584906\\\\\n",
       "\t 0.3584906 & 0.1761006 & 0.1572327 & 0.1698113 & 0.1383648 & 0.3584906\\\\\n",
       "\t 0.3584906 & 0.1761006 & 0.1572327 & 0.1698113 & 0.1383648 & 0.3584906\\\\\n",
       "\t 0.3584906 & 0.1761006 & 0.1572327 & 0.1698113 & 0.1383648 & 0.3584906\\\\\n",
       "\t 0.3584906 & 0.1761006 & 0.1572327 & 0.1698113 & 0.1383648 & 0.3584906\\\\\n",
       "\t 0.3584906 & 0.1761006 & 0.1572327 & 0.1698113 & 0.1383648 & 0.3584906\\\\\n",
       "\t 0.3584906 & 0.1761006 & 0.1572327 & 0.1698113 & 0.1383648 & 0.3584906\\\\\n",
       "\t 0.2969697 & 0.1878788 & 0.1515152 & 0.1939394 & 0.1696970 & 0.2969697\\\\\n",
       "\t 0.2969697 & 0.1878788 & 0.1515152 & 0.1939394 & 0.1696970 & 0.2969697\\\\\n",
       "\\end{tabular}\n"
      ],
      "text/markdown": [
       "\n",
       "| Reconnaissance | Delivery | LateralMovement | PrivilegeEscalation | Exfiltration | Maximum |\n",
       "|---|---|---|---|---|---|\n",
       "| 0.3584906 | 0.1761006 | 0.1572327 | 0.1698113 | 0.1383648 | 0.3584906 |\n",
       "| 0.3584906 | 0.1761006 | 0.1572327 | 0.1698113 | 0.1383648 | 0.3584906 |\n",
       "| 0.3584906 | 0.1761006 | 0.1572327 | 0.1698113 | 0.1383648 | 0.3584906 |\n",
       "| 0.3584906 | 0.1761006 | 0.1572327 | 0.1698113 | 0.1383648 | 0.3584906 |\n",
       "| 0.3584906 | 0.1761006 | 0.1572327 | 0.1698113 | 0.1383648 | 0.3584906 |\n",
       "| 0.3584906 | 0.1761006 | 0.1572327 | 0.1698113 | 0.1383648 | 0.3584906 |\n",
       "| 0.3584906 | 0.1761006 | 0.1572327 | 0.1698113 | 0.1383648 | 0.3584906 |\n",
       "| 0.3584906 | 0.1761006 | 0.1572327 | 0.1698113 | 0.1383648 | 0.3584906 |\n",
       "| 0.2969697 | 0.1878788 | 0.1515152 | 0.1939394 | 0.1696970 | 0.2969697 |\n",
       "| 0.2969697 | 0.1878788 | 0.1515152 | 0.1939394 | 0.1696970 | 0.2969697 |\n",
       "\n"
      ],
      "text/plain": [
       "   Reconnaissance Delivery  LateralMovement PrivilegeEscalation Exfiltration\n",
       "1  0.3584906      0.1761006 0.1572327       0.1698113           0.1383648   \n",
       "2  0.3584906      0.1761006 0.1572327       0.1698113           0.1383648   \n",
       "3  0.3584906      0.1761006 0.1572327       0.1698113           0.1383648   \n",
       "4  0.3584906      0.1761006 0.1572327       0.1698113           0.1383648   \n",
       "5  0.3584906      0.1761006 0.1572327       0.1698113           0.1383648   \n",
       "6  0.3584906      0.1761006 0.1572327       0.1698113           0.1383648   \n",
       "7  0.3584906      0.1761006 0.1572327       0.1698113           0.1383648   \n",
       "8  0.3584906      0.1761006 0.1572327       0.1698113           0.1383648   \n",
       "9  0.2969697      0.1878788 0.1515152       0.1939394           0.1696970   \n",
       "10 0.2969697      0.1878788 0.1515152       0.1939394           0.1696970   \n",
       "   Maximum  \n",
       "1  0.3584906\n",
       "2  0.3584906\n",
       "3  0.3584906\n",
       "4  0.3584906\n",
       "5  0.3584906\n",
       "6  0.3584906\n",
       "7  0.3584906\n",
       "8  0.3584906\n",
       "9  0.2969697\n",
       "10 0.2969697"
      ]
     },
     "metadata": {},
     "output_type": "display_data"
    }
   ],
   "source": [
    "Maximum <- pmax(Probs$Reconnaissance,Probs$Delivery,Probs$LateralMovement,Probs$PrivilegeEscalation,Probs$Exfiltration)\n",
    "Probs_with_clusters <- cbind(Probs, Maximum)\n",
    "\n",
    "head(Probs_with_clusters, 10)"
   ]
  },
  {
   "cell_type": "code",
   "execution_count": 39,
   "id": "70970166",
   "metadata": {},
   "outputs": [
    {
     "data": {
      "text/html": [
       "<table>\n",
       "<thead><tr><th scope=col>UserName</th><th scope=col>Reconnaissance</th><th scope=col>Delivery</th><th scope=col>LateralMovement</th><th scope=col>PrivilegeEscalation</th><th scope=col>Exfiltration</th><th scope=col>Maximum</th><th scope=col>Cluster</th></tr></thead>\n",
       "<tbody>\n",
       "\t<tr><td>User341813</td><td>0.3584906 </td><td>0.1761006 </td><td>0.1572327 </td><td>0.1698113 </td><td>0.1383648 </td><td>0.3584906 </td><td>R         </td></tr>\n",
       "\t<tr><td>User341813</td><td>0.3584906 </td><td>0.1761006 </td><td>0.1572327 </td><td>0.1698113 </td><td>0.1383648 </td><td>0.3584906 </td><td>R         </td></tr>\n",
       "\t<tr><td>User341813</td><td>0.3584906 </td><td>0.1761006 </td><td>0.1572327 </td><td>0.1698113 </td><td>0.1383648 </td><td>0.3584906 </td><td>R         </td></tr>\n",
       "\t<tr><td>User341813</td><td>0.3584906 </td><td>0.1761006 </td><td>0.1572327 </td><td>0.1698113 </td><td>0.1383648 </td><td>0.3584906 </td><td>R         </td></tr>\n",
       "\t<tr><td>User341813</td><td>0.3584906 </td><td>0.1761006 </td><td>0.1572327 </td><td>0.1698113 </td><td>0.1383648 </td><td>0.3584906 </td><td>R         </td></tr>\n",
       "\t<tr><td>User341813</td><td>0.3584906 </td><td>0.1761006 </td><td>0.1572327 </td><td>0.1698113 </td><td>0.1383648 </td><td>0.3584906 </td><td>R         </td></tr>\n",
       "\t<tr><td>User341813</td><td>0.3584906 </td><td>0.1761006 </td><td>0.1572327 </td><td>0.1698113 </td><td>0.1383648 </td><td>0.3584906 </td><td>R         </td></tr>\n",
       "\t<tr><td>User341813</td><td>0.3584906 </td><td>0.1761006 </td><td>0.1572327 </td><td>0.1698113 </td><td>0.1383648 </td><td>0.3584906 </td><td>R         </td></tr>\n",
       "\t<tr><td>User341813</td><td>0.2969697 </td><td>0.1878788 </td><td>0.1515152 </td><td>0.1939394 </td><td>0.1696970 </td><td>0.2969697 </td><td>R         </td></tr>\n",
       "\t<tr><td>User341813</td><td>0.2969697 </td><td>0.1878788 </td><td>0.1515152 </td><td>0.1939394 </td><td>0.1696970 </td><td>0.2969697 </td><td>R         </td></tr>\n",
       "</tbody>\n",
       "</table>\n"
      ],
      "text/latex": [
       "\\begin{tabular}{r|llllllll}\n",
       " UserName & Reconnaissance & Delivery & LateralMovement & PrivilegeEscalation & Exfiltration & Maximum & Cluster\\\\\n",
       "\\hline\n",
       "\t User341813 & 0.3584906  & 0.1761006  & 0.1572327  & 0.1698113  & 0.1383648  & 0.3584906  & R         \\\\\n",
       "\t User341813 & 0.3584906  & 0.1761006  & 0.1572327  & 0.1698113  & 0.1383648  & 0.3584906  & R         \\\\\n",
       "\t User341813 & 0.3584906  & 0.1761006  & 0.1572327  & 0.1698113  & 0.1383648  & 0.3584906  & R         \\\\\n",
       "\t User341813 & 0.3584906  & 0.1761006  & 0.1572327  & 0.1698113  & 0.1383648  & 0.3584906  & R         \\\\\n",
       "\t User341813 & 0.3584906  & 0.1761006  & 0.1572327  & 0.1698113  & 0.1383648  & 0.3584906  & R         \\\\\n",
       "\t User341813 & 0.3584906  & 0.1761006  & 0.1572327  & 0.1698113  & 0.1383648  & 0.3584906  & R         \\\\\n",
       "\t User341813 & 0.3584906  & 0.1761006  & 0.1572327  & 0.1698113  & 0.1383648  & 0.3584906  & R         \\\\\n",
       "\t User341813 & 0.3584906  & 0.1761006  & 0.1572327  & 0.1698113  & 0.1383648  & 0.3584906  & R         \\\\\n",
       "\t User341813 & 0.2969697  & 0.1878788  & 0.1515152  & 0.1939394  & 0.1696970  & 0.2969697  & R         \\\\\n",
       "\t User341813 & 0.2969697  & 0.1878788  & 0.1515152  & 0.1939394  & 0.1696970  & 0.2969697  & R         \\\\\n",
       "\\end{tabular}\n"
      ],
      "text/markdown": [
       "\n",
       "| UserName | Reconnaissance | Delivery | LateralMovement | PrivilegeEscalation | Exfiltration | Maximum | Cluster |\n",
       "|---|---|---|---|---|---|---|---|\n",
       "| User341813 | 0.3584906  | 0.1761006  | 0.1572327  | 0.1698113  | 0.1383648  | 0.3584906  | R          |\n",
       "| User341813 | 0.3584906  | 0.1761006  | 0.1572327  | 0.1698113  | 0.1383648  | 0.3584906  | R          |\n",
       "| User341813 | 0.3584906  | 0.1761006  | 0.1572327  | 0.1698113  | 0.1383648  | 0.3584906  | R          |\n",
       "| User341813 | 0.3584906  | 0.1761006  | 0.1572327  | 0.1698113  | 0.1383648  | 0.3584906  | R          |\n",
       "| User341813 | 0.3584906  | 0.1761006  | 0.1572327  | 0.1698113  | 0.1383648  | 0.3584906  | R          |\n",
       "| User341813 | 0.3584906  | 0.1761006  | 0.1572327  | 0.1698113  | 0.1383648  | 0.3584906  | R          |\n",
       "| User341813 | 0.3584906  | 0.1761006  | 0.1572327  | 0.1698113  | 0.1383648  | 0.3584906  | R          |\n",
       "| User341813 | 0.3584906  | 0.1761006  | 0.1572327  | 0.1698113  | 0.1383648  | 0.3584906  | R          |\n",
       "| User341813 | 0.2969697  | 0.1878788  | 0.1515152  | 0.1939394  | 0.1696970  | 0.2969697  | R          |\n",
       "| User341813 | 0.2969697  | 0.1878788  | 0.1515152  | 0.1939394  | 0.1696970  | 0.2969697  | R          |\n",
       "\n"
      ],
      "text/plain": [
       "   UserName   Reconnaissance Delivery  LateralMovement PrivilegeEscalation\n",
       "1  User341813 0.3584906      0.1761006 0.1572327       0.1698113          \n",
       "2  User341813 0.3584906      0.1761006 0.1572327       0.1698113          \n",
       "3  User341813 0.3584906      0.1761006 0.1572327       0.1698113          \n",
       "4  User341813 0.3584906      0.1761006 0.1572327       0.1698113          \n",
       "5  User341813 0.3584906      0.1761006 0.1572327       0.1698113          \n",
       "6  User341813 0.3584906      0.1761006 0.1572327       0.1698113          \n",
       "7  User341813 0.3584906      0.1761006 0.1572327       0.1698113          \n",
       "8  User341813 0.3584906      0.1761006 0.1572327       0.1698113          \n",
       "9  User341813 0.2969697      0.1878788 0.1515152       0.1939394          \n",
       "10 User341813 0.2969697      0.1878788 0.1515152       0.1939394          \n",
       "   Exfiltration Maximum   Cluster\n",
       "1  0.1383648    0.3584906 R      \n",
       "2  0.1383648    0.3584906 R      \n",
       "3  0.1383648    0.3584906 R      \n",
       "4  0.1383648    0.3584906 R      \n",
       "5  0.1383648    0.3584906 R      \n",
       "6  0.1383648    0.3584906 R      \n",
       "7  0.1383648    0.3584906 R      \n",
       "8  0.1383648    0.3584906 R      \n",
       "9  0.1696970    0.2969697 R      \n",
       "10 0.1696970    0.2969697 R      "
      ]
     },
     "metadata": {},
     "output_type": "display_data"
    }
   ],
   "source": [
    "Cluster <- vector(len=nrow(Probs_with_clusters))\n",
    "for(i in 1:nrow(Probs_with_clusters)) {\n",
    "    if(Probs_with_clusters$Maximum[i]==Probs_with_clusters$Reconnaissance[i]) {\n",
    "        Cluster[i] <- \"R\"\n",
    "    }\n",
    "    if(Probs_with_clusters$Maximum[i]==Probs_with_clusters$Delivery[i]) {\n",
    "        Cluster[i] <- \"D\"\n",
    "    }\n",
    "    if(Probs_with_clusters$Maximum[i]==Probs_with_clusters$LateralMovement[i]) {\n",
    "        Cluster[i] <- \"LM\"\n",
    "    }\n",
    "    if(Probs_with_clusters$Maximum[i]==Probs_with_clusters$PrivilegeEscalation[i]) {\n",
    "        Cluster[i] <- \"PE\"\n",
    "    }\n",
    "    if(Probs_with_clusters$Maximum[i]==Probs_with_clusters$Exfiltration[i]) {\n",
    "        Cluster[i] <- \"E\"\n",
    "    }\n",
    "}\n",
    "\n",
    "Probs_with_clusters <- cbind(UserName = df$UserName, Probs_with_clusters, Cluster)\n",
    "head(Probs_with_clusters, 10)"
   ]
  },
  {
   "cell_type": "code",
   "execution_count": 40,
   "id": "54042db3",
   "metadata": {},
   "outputs": [
    {
     "data": {
      "text/plain": [
       "\n",
       "    D     E    LM    PE     R \n",
       "  457  6333     8  1492 12122 "
      ]
     },
     "metadata": {},
     "output_type": "display_data"
    }
   ],
   "source": [
    "table(Probs_with_clusters$Cluster)"
   ]
  },
  {
   "cell_type": "code",
   "execution_count": 46,
   "id": "01523212",
   "metadata": {},
   "outputs": [
    {
     "data": {
      "text/html": [
       "<table>\n",
       "<thead><tr><th></th><th scope=col>UserName</th><th scope=col>Reconnaissance</th><th scope=col>Delivery</th><th scope=col>LateralMovement</th><th scope=col>PrivilegeEscalation</th><th scope=col>Exfiltration</th><th scope=col>Maximum</th><th scope=col>Cluster</th></tr></thead>\n",
       "<tbody>\n",
       "\t<tr><th scope=row>8683</th><td>Administrator</td><td>0.2201258    </td><td>0.1698113    </td><td>0.2264151    </td><td>0.1761006    </td><td>0.2075472    </td><td>0.2264151    </td><td>LM           </td></tr>\n",
       "\t<tr><th scope=row>8694</th><td>Administrator</td><td>0.2201258    </td><td>0.1698113    </td><td>0.2264151    </td><td>0.1761006    </td><td>0.2075472    </td><td>0.2264151    </td><td>LM           </td></tr>\n",
       "\t<tr><th scope=row>8695</th><td>Administrator</td><td>0.2201258    </td><td>0.1698113    </td><td>0.2264151    </td><td>0.1761006    </td><td>0.2075472    </td><td>0.2264151    </td><td>LM           </td></tr>\n",
       "\t<tr><th scope=row>8840</th><td>Administrator</td><td>0.2201258    </td><td>0.1698113    </td><td>0.2264151    </td><td>0.1761006    </td><td>0.2075472    </td><td>0.2264151    </td><td>LM           </td></tr>\n",
       "\t<tr><th scope=row>8841</th><td>Administrator</td><td>0.2201258    </td><td>0.1698113    </td><td>0.2264151    </td><td>0.1761006    </td><td>0.2075472    </td><td>0.2264151    </td><td>LM           </td></tr>\n",
       "\t<tr><th scope=row>9246</th><td>Administrator</td><td>0.2201258    </td><td>0.1698113    </td><td>0.2264151    </td><td>0.1761006    </td><td>0.2075472    </td><td>0.2264151    </td><td>LM           </td></tr>\n",
       "\t<tr><th scope=row>9247</th><td>Administrator</td><td>0.2201258    </td><td>0.1698113    </td><td>0.2264151    </td><td>0.1761006    </td><td>0.2075472    </td><td>0.2264151    </td><td>LM           </td></tr>\n",
       "\t<tr><th scope=row>9502</th><td>Administrator</td><td>0.2201258    </td><td>0.1698113    </td><td>0.2264151    </td><td>0.1761006    </td><td>0.2075472    </td><td>0.2264151    </td><td>LM           </td></tr>\n",
       "</tbody>\n",
       "</table>\n"
      ],
      "text/latex": [
       "\\begin{tabular}{r|llllllll}\n",
       "  & UserName & Reconnaissance & Delivery & LateralMovement & PrivilegeEscalation & Exfiltration & Maximum & Cluster\\\\\n",
       "\\hline\n",
       "\t8683 & Administrator & 0.2201258     & 0.1698113     & 0.2264151     & 0.1761006     & 0.2075472     & 0.2264151     & LM           \\\\\n",
       "\t8694 & Administrator & 0.2201258     & 0.1698113     & 0.2264151     & 0.1761006     & 0.2075472     & 0.2264151     & LM           \\\\\n",
       "\t8695 & Administrator & 0.2201258     & 0.1698113     & 0.2264151     & 0.1761006     & 0.2075472     & 0.2264151     & LM           \\\\\n",
       "\t8840 & Administrator & 0.2201258     & 0.1698113     & 0.2264151     & 0.1761006     & 0.2075472     & 0.2264151     & LM           \\\\\n",
       "\t8841 & Administrator & 0.2201258     & 0.1698113     & 0.2264151     & 0.1761006     & 0.2075472     & 0.2264151     & LM           \\\\\n",
       "\t9246 & Administrator & 0.2201258     & 0.1698113     & 0.2264151     & 0.1761006     & 0.2075472     & 0.2264151     & LM           \\\\\n",
       "\t9247 & Administrator & 0.2201258     & 0.1698113     & 0.2264151     & 0.1761006     & 0.2075472     & 0.2264151     & LM           \\\\\n",
       "\t9502 & Administrator & 0.2201258     & 0.1698113     & 0.2264151     & 0.1761006     & 0.2075472     & 0.2264151     & LM           \\\\\n",
       "\\end{tabular}\n"
      ],
      "text/markdown": [
       "\n",
       "| <!--/--> | UserName | Reconnaissance | Delivery | LateralMovement | PrivilegeEscalation | Exfiltration | Maximum | Cluster |\n",
       "|---|---|---|---|---|---|---|---|---|\n",
       "| 8683 | Administrator | 0.2201258     | 0.1698113     | 0.2264151     | 0.1761006     | 0.2075472     | 0.2264151     | LM            |\n",
       "| 8694 | Administrator | 0.2201258     | 0.1698113     | 0.2264151     | 0.1761006     | 0.2075472     | 0.2264151     | LM            |\n",
       "| 8695 | Administrator | 0.2201258     | 0.1698113     | 0.2264151     | 0.1761006     | 0.2075472     | 0.2264151     | LM            |\n",
       "| 8840 | Administrator | 0.2201258     | 0.1698113     | 0.2264151     | 0.1761006     | 0.2075472     | 0.2264151     | LM            |\n",
       "| 8841 | Administrator | 0.2201258     | 0.1698113     | 0.2264151     | 0.1761006     | 0.2075472     | 0.2264151     | LM            |\n",
       "| 9246 | Administrator | 0.2201258     | 0.1698113     | 0.2264151     | 0.1761006     | 0.2075472     | 0.2264151     | LM            |\n",
       "| 9247 | Administrator | 0.2201258     | 0.1698113     | 0.2264151     | 0.1761006     | 0.2075472     | 0.2264151     | LM            |\n",
       "| 9502 | Administrator | 0.2201258     | 0.1698113     | 0.2264151     | 0.1761006     | 0.2075472     | 0.2264151     | LM            |\n",
       "\n"
      ],
      "text/plain": [
       "     UserName      Reconnaissance Delivery  LateralMovement PrivilegeEscalation\n",
       "8683 Administrator 0.2201258      0.1698113 0.2264151       0.1761006          \n",
       "8694 Administrator 0.2201258      0.1698113 0.2264151       0.1761006          \n",
       "8695 Administrator 0.2201258      0.1698113 0.2264151       0.1761006          \n",
       "8840 Administrator 0.2201258      0.1698113 0.2264151       0.1761006          \n",
       "8841 Administrator 0.2201258      0.1698113 0.2264151       0.1761006          \n",
       "9246 Administrator 0.2201258      0.1698113 0.2264151       0.1761006          \n",
       "9247 Administrator 0.2201258      0.1698113 0.2264151       0.1761006          \n",
       "9502 Administrator 0.2201258      0.1698113 0.2264151       0.1761006          \n",
       "     Exfiltration Maximum   Cluster\n",
       "8683 0.2075472    0.2264151 LM     \n",
       "8694 0.2075472    0.2264151 LM     \n",
       "8695 0.2075472    0.2264151 LM     \n",
       "8840 0.2075472    0.2264151 LM     \n",
       "8841 0.2075472    0.2264151 LM     \n",
       "9246 0.2075472    0.2264151 LM     \n",
       "9247 0.2075472    0.2264151 LM     \n",
       "9502 0.2075472    0.2264151 LM     "
      ]
     },
     "metadata": {},
     "output_type": "display_data"
    }
   ],
   "source": [
    "Probs_with_clusters[Probs_with_clusters$Cluster=='LM', ]"
   ]
  },
  {
   "cell_type": "code",
   "execution_count": 44,
   "id": "c159d651",
   "metadata": {},
   "outputs": [
    {
     "data": {
      "text/html": [
       "<table>\n",
       "<thead><tr><th></th><th scope=col>UserName</th><th scope=col>Reconnaissance</th><th scope=col>Delivery</th><th scope=col>LateralMovement</th><th scope=col>PrivilegeEscalation</th><th scope=col>Exfiltration</th><th scope=col>Maximum</th><th scope=col>Cluster</th></tr></thead>\n",
       "<tbody>\n",
       "\t<tr><th scope=row>17374</th><td>User160259</td><td>0.2816092 </td><td>0.1666667 </td><td>0.1379310 </td><td>0.2068966 </td><td>0.2068966 </td><td>0.2816092 </td><td>R         </td></tr>\n",
       "\t<tr><th scope=row>17375</th><td>User160259</td><td>0.2816092 </td><td>0.1666667 </td><td>0.1379310 </td><td>0.2068966 </td><td>0.2068966 </td><td>0.2816092 </td><td>R         </td></tr>\n",
       "\t<tr><th scope=row>17376</th><td>User160259</td><td>0.2816092 </td><td>0.1666667 </td><td>0.1379310 </td><td>0.2068966 </td><td>0.2068966 </td><td>0.2816092 </td><td>R         </td></tr>\n",
       "\t<tr><th scope=row>17377</th><td>User160259</td><td>0.2816092 </td><td>0.1666667 </td><td>0.1379310 </td><td>0.2068966 </td><td>0.2068966 </td><td>0.2816092 </td><td>R         </td></tr>\n",
       "\t<tr><th scope=row>17378</th><td>User160259</td><td>0.3373494 </td><td>0.1566265 </td><td>0.1445783 </td><td>0.1867470 </td><td>0.1746988 </td><td>0.3373494 </td><td>R         </td></tr>\n",
       "\t<tr><th scope=row>17379</th><td>User160259</td><td>0.3373494 </td><td>0.1566265 </td><td>0.1445783 </td><td>0.1867470 </td><td>0.1746988 </td><td>0.3373494 </td><td>R         </td></tr>\n",
       "\t<tr><th scope=row>17380</th><td>User160259</td><td>0.3373494 </td><td>0.1566265 </td><td>0.1445783 </td><td>0.1867470 </td><td>0.1746988 </td><td>0.3373494 </td><td>R         </td></tr>\n",
       "\t<tr><th scope=row>17381</th><td>User160259</td><td>0.3373494 </td><td>0.1566265 </td><td>0.1445783 </td><td>0.1867470 </td><td>0.1746988 </td><td>0.3373494 </td><td>R         </td></tr>\n",
       "\t<tr><th scope=row>17382</th><td>User160259</td><td>0.3373494 </td><td>0.1566265 </td><td>0.1445783 </td><td>0.1867470 </td><td>0.1746988 </td><td>0.3373494 </td><td>R         </td></tr>\n",
       "\t<tr><th scope=row>17383</th><td>User160259</td><td>0.3373494 </td><td>0.1566265 </td><td>0.1445783 </td><td>0.1867470 </td><td>0.1746988 </td><td>0.3373494 </td><td>R         </td></tr>\n",
       "\t<tr><th scope=row>17384</th><td>User160259</td><td>0.3373494 </td><td>0.1566265 </td><td>0.1445783 </td><td>0.1867470 </td><td>0.1746988 </td><td>0.3373494 </td><td>R         </td></tr>\n",
       "\t<tr><th scope=row>17385</th><td>User160259</td><td>0.3373494 </td><td>0.1566265 </td><td>0.1445783 </td><td>0.1867470 </td><td>0.1746988 </td><td>0.3373494 </td><td>R         </td></tr>\n",
       "\t<tr><th scope=row>17386</th><td>User160259</td><td>0.3373494 </td><td>0.1566265 </td><td>0.1445783 </td><td>0.1867470 </td><td>0.1746988 </td><td>0.3373494 </td><td>R         </td></tr>\n",
       "\t<tr><th scope=row>17387</th><td>User160259</td><td>0.3373494 </td><td>0.1566265 </td><td>0.1445783 </td><td>0.1867470 </td><td>0.1746988 </td><td>0.3373494 </td><td>R         </td></tr>\n",
       "\t<tr><th scope=row>17388</th><td>User160259</td><td>0.3373494 </td><td>0.1566265 </td><td>0.1445783 </td><td>0.1867470 </td><td>0.1746988 </td><td>0.3373494 </td><td>R         </td></tr>\n",
       "\t<tr><th scope=row>17389</th><td>User160259</td><td>0.3373494 </td><td>0.1566265 </td><td>0.1445783 </td><td>0.1867470 </td><td>0.1746988 </td><td>0.3373494 </td><td>R         </td></tr>\n",
       "\t<tr><th scope=row>17390</th><td>User160259</td><td>0.3373494 </td><td>0.1566265 </td><td>0.1445783 </td><td>0.1867470 </td><td>0.1746988 </td><td>0.3373494 </td><td>R         </td></tr>\n",
       "\t<tr><th scope=row>17391</th><td>User160259</td><td>0.3373494 </td><td>0.1566265 </td><td>0.1445783 </td><td>0.1867470 </td><td>0.1746988 </td><td>0.3373494 </td><td>R         </td></tr>\n",
       "\t<tr><th scope=row>17392</th><td>User160259</td><td>0.2881356 </td><td>0.1638418 </td><td>0.1355932 </td><td>0.2033898 </td><td>0.2090395 </td><td>0.2881356 </td><td>R         </td></tr>\n",
       "\t<tr><th scope=row>17393</th><td>User160259</td><td>0.2705882 </td><td>0.1764706 </td><td>0.1352941 </td><td>0.2117647 </td><td>0.2058824 </td><td>0.2705882 </td><td>R         </td></tr>\n",
       "\t<tr><th scope=row>17394</th><td>User160259</td><td>0.2705882 </td><td>0.1764706 </td><td>0.1352941 </td><td>0.2117647 </td><td>0.2058824 </td><td>0.2705882 </td><td>R         </td></tr>\n",
       "\t<tr><th scope=row>17395</th><td>User160259</td><td>0.2705882 </td><td>0.1764706 </td><td>0.1352941 </td><td>0.2117647 </td><td>0.2058824 </td><td>0.2705882 </td><td>R         </td></tr>\n",
       "\t<tr><th scope=row>17396</th><td>User160259</td><td>0.2705882 </td><td>0.1764706 </td><td>0.1352941 </td><td>0.2117647 </td><td>0.2058824 </td><td>0.2705882 </td><td>R         </td></tr>\n",
       "\t<tr><th scope=row>17397</th><td>User160259</td><td>0.2705882 </td><td>0.1764706 </td><td>0.1352941 </td><td>0.2117647 </td><td>0.2058824 </td><td>0.2705882 </td><td>R         </td></tr>\n",
       "\t<tr><th scope=row>17398</th><td>User160259</td><td>0.2705882 </td><td>0.1764706 </td><td>0.1352941 </td><td>0.2117647 </td><td>0.2058824 </td><td>0.2705882 </td><td>R         </td></tr>\n",
       "\t<tr><th scope=row>17399</th><td>User160259</td><td>0.2705882 </td><td>0.1764706 </td><td>0.1352941 </td><td>0.2117647 </td><td>0.2058824 </td><td>0.2705882 </td><td>R         </td></tr>\n",
       "\t<tr><th scope=row>17400</th><td>User160259</td><td>0.2705882 </td><td>0.1764706 </td><td>0.1352941 </td><td>0.2117647 </td><td>0.2058824 </td><td>0.2705882 </td><td>R         </td></tr>\n",
       "\t<tr><th scope=row>17401</th><td>User160259</td><td>0.2705882 </td><td>0.1764706 </td><td>0.1352941 </td><td>0.2117647 </td><td>0.2058824 </td><td>0.2705882 </td><td>R         </td></tr>\n",
       "\t<tr><th scope=row>17402</th><td>User160259</td><td>0.2705882 </td><td>0.1764706 </td><td>0.1352941 </td><td>0.2117647 </td><td>0.2058824 </td><td>0.2705882 </td><td>R         </td></tr>\n",
       "\t<tr><th scope=row>17403</th><td>User160259</td><td>0.2705882 </td><td>0.1764706 </td><td>0.1352941 </td><td>0.2117647 </td><td>0.2058824 </td><td>0.2705882 </td><td>R         </td></tr>\n",
       "\t<tr><th scope=row>...</th><td>...</td><td>...</td><td>...</td><td>...</td><td>...</td><td>...</td><td>...</td><td>...</td></tr>\n",
       "\t<tr><th scope=row>17683</th><td>User160259</td><td>0.2163743 </td><td>0.2163743 </td><td>0.1578947 </td><td>0.2105263 </td><td>0.1988304 </td><td>0.2163743 </td><td>D         </td></tr>\n",
       "\t<tr><th scope=row>17684</th><td>User160259</td><td>0.3352941 </td><td>0.1529412 </td><td>0.1529412 </td><td>0.1823529 </td><td>0.1764706 </td><td>0.3352941 </td><td>R         </td></tr>\n",
       "\t<tr><th scope=row>17685</th><td>User160259</td><td>0.3352941 </td><td>0.1529412 </td><td>0.1529412 </td><td>0.1823529 </td><td>0.1764706 </td><td>0.3352941 </td><td>R         </td></tr>\n",
       "\t<tr><th scope=row>17686</th><td>User160259</td><td>0.3109756 </td><td>0.1646341 </td><td>0.1524390 </td><td>0.1951220 </td><td>0.1768293 </td><td>0.3109756 </td><td>R         </td></tr>\n",
       "\t<tr><th scope=row>17687</th><td>User160259</td><td>0.3109756 </td><td>0.1646341 </td><td>0.1524390 </td><td>0.1951220 </td><td>0.1768293 </td><td>0.3109756 </td><td>R         </td></tr>\n",
       "\t<tr><th scope=row>17688</th><td>User160259</td><td>0.2897727 </td><td>0.1590909 </td><td>0.1363636 </td><td>0.2045455 </td><td>0.2102273 </td><td>0.2897727 </td><td>R         </td></tr>\n",
       "\t<tr><th scope=row>17689</th><td>User160259</td><td>0.2897727 </td><td>0.1590909 </td><td>0.1363636 </td><td>0.2045455 </td><td>0.2102273 </td><td>0.2897727 </td><td>R         </td></tr>\n",
       "\t<tr><th scope=row>17690</th><td>User160259</td><td>0.2558140 </td><td>0.1744186 </td><td>0.1453488 </td><td>0.2151163 </td><td>0.2093023 </td><td>0.2558140 </td><td>R         </td></tr>\n",
       "\t<tr><th scope=row>17691</th><td>User160259</td><td>0.2558140 </td><td>0.1744186 </td><td>0.1453488 </td><td>0.2151163 </td><td>0.2093023 </td><td>0.2558140 </td><td>R         </td></tr>\n",
       "\t<tr><th scope=row>17692</th><td>User160259</td><td>0.2010870 </td><td>0.1684783 </td><td>0.1521739 </td><td>0.2391304 </td><td>0.2391304 </td><td>0.2391304 </td><td>E         </td></tr>\n",
       "\t<tr><th scope=row>17693</th><td>User160259</td><td>0.2275132 </td><td>0.1481481 </td><td>0.1481481 </td><td>0.2328042 </td><td>0.2433862 </td><td>0.2433862 </td><td>E         </td></tr>\n",
       "\t<tr><th scope=row>17694</th><td>User160259</td><td>0.2897727 </td><td>0.1590909 </td><td>0.1363636 </td><td>0.2045455 </td><td>0.2102273 </td><td>0.2897727 </td><td>R         </td></tr>\n",
       "\t<tr><th scope=row>17695</th><td>User160259</td><td>0.2760736 </td><td>0.2024540 </td><td>0.1656442 </td><td>0.1901840 </td><td>0.1656442 </td><td>0.2760736 </td><td>R         </td></tr>\n",
       "\t<tr><th scope=row>17696</th><td>User160259</td><td>0.3618421 </td><td>0.1578947 </td><td>0.1513158 </td><td>0.1776316 </td><td>0.1513158 </td><td>0.3618421 </td><td>R         </td></tr>\n",
       "\t<tr><th scope=row>17697</th><td>User160259</td><td>0.2392638 </td><td>0.1472393 </td><td>0.1472393 </td><td>0.2147239 </td><td>0.2515337 </td><td>0.2515337 </td><td>E         </td></tr>\n",
       "\t<tr><th scope=row>17698</th><td>User160259</td><td>0.2392638 </td><td>0.1472393 </td><td>0.1472393 </td><td>0.2147239 </td><td>0.2515337 </td><td>0.2515337 </td><td>E         </td></tr>\n",
       "\t<tr><th scope=row>17699</th><td>User160259</td><td>0.2469880 </td><td>0.1626506 </td><td>0.1445783 </td><td>0.2228916 </td><td>0.2228916 </td><td>0.2469880 </td><td>R         </td></tr>\n",
       "\t<tr><th scope=row>17700</th><td>User160259</td><td>0.2222222 </td><td>0.2105263 </td><td>0.1578947 </td><td>0.2105263 </td><td>0.1988304 </td><td>0.2222222 </td><td>R         </td></tr>\n",
       "\t<tr><th scope=row>17701</th><td>User160259</td><td>0.2981366 </td><td>0.1863354 </td><td>0.1552795 </td><td>0.1925466 </td><td>0.1677019 </td><td>0.2981366 </td><td>R         </td></tr>\n",
       "\t<tr><th scope=row>17702</th><td>User160259</td><td>0.2881356 </td><td>0.1638418 </td><td>0.1355932 </td><td>0.2033898 </td><td>0.2090395 </td><td>0.2881356 </td><td>R         </td></tr>\n",
       "\t<tr><th scope=row>17703</th><td>User160259</td><td>0.2897727 </td><td>0.1590909 </td><td>0.1363636 </td><td>0.2045455 </td><td>0.2102273 </td><td>0.2897727 </td><td>R         </td></tr>\n",
       "\t<tr><th scope=row>17704</th><td>User160259</td><td>0.2392638 </td><td>0.1472393 </td><td>0.1472393 </td><td>0.2147239 </td><td>0.2515337 </td><td>0.2515337 </td><td>E         </td></tr>\n",
       "\t<tr><th scope=row>17705</th><td>User160259</td><td>0.2881356 </td><td>0.1638418 </td><td>0.1355932 </td><td>0.2033898 </td><td>0.2090395 </td><td>0.2881356 </td><td>R         </td></tr>\n",
       "\t<tr><th scope=row>17706</th><td>User160259</td><td>0.2881356 </td><td>0.1638418 </td><td>0.1355932 </td><td>0.2033898 </td><td>0.2090395 </td><td>0.2881356 </td><td>R         </td></tr>\n",
       "\t<tr><th scope=row>17707</th><td>User160259</td><td>0.3067485 </td><td>0.1411043 </td><td>0.1472393 </td><td>0.2024540 </td><td>0.2024540 </td><td>0.3067485 </td><td>R         </td></tr>\n",
       "\t<tr><th scope=row>17708</th><td>User160259</td><td>0.3000000 </td><td>0.1647059 </td><td>0.1294118 </td><td>0.1823529 </td><td>0.2235294 </td><td>0.3000000 </td><td>R         </td></tr>\n",
       "\t<tr><th scope=row>17709</th><td>User160259</td><td>0.2881356 </td><td>0.1638418 </td><td>0.1355932 </td><td>0.2033898 </td><td>0.2090395 </td><td>0.2881356 </td><td>R         </td></tr>\n",
       "\t<tr><th scope=row>17710</th><td>User160259</td><td>0.2010870 </td><td>0.1684783 </td><td>0.1521739 </td><td>0.2391304 </td><td>0.2391304 </td><td>0.2391304 </td><td>E         </td></tr>\n",
       "\t<tr><th scope=row>17711</th><td>User160259</td><td>0.2163743 </td><td>0.2163743 </td><td>0.1578947 </td><td>0.2105263 </td><td>0.1988304 </td><td>0.2163743 </td><td>D         </td></tr>\n",
       "\t<tr><th scope=row>17712</th><td>User160259</td><td>0.2275132 </td><td>0.1481481 </td><td>0.1481481 </td><td>0.2328042 </td><td>0.2433862 </td><td>0.2433862 </td><td>E         </td></tr>\n",
       "</tbody>\n",
       "</table>\n"
      ],
      "text/latex": [
       "\\begin{tabular}{r|llllllll}\n",
       "  & UserName & Reconnaissance & Delivery & LateralMovement & PrivilegeEscalation & Exfiltration & Maximum & Cluster\\\\\n",
       "\\hline\n",
       "\t17374 & User160259 & 0.2816092  & 0.1666667  & 0.1379310  & 0.2068966  & 0.2068966  & 0.2816092  & R         \\\\\n",
       "\t17375 & User160259 & 0.2816092  & 0.1666667  & 0.1379310  & 0.2068966  & 0.2068966  & 0.2816092  & R         \\\\\n",
       "\t17376 & User160259 & 0.2816092  & 0.1666667  & 0.1379310  & 0.2068966  & 0.2068966  & 0.2816092  & R         \\\\\n",
       "\t17377 & User160259 & 0.2816092  & 0.1666667  & 0.1379310  & 0.2068966  & 0.2068966  & 0.2816092  & R         \\\\\n",
       "\t17378 & User160259 & 0.3373494  & 0.1566265  & 0.1445783  & 0.1867470  & 0.1746988  & 0.3373494  & R         \\\\\n",
       "\t17379 & User160259 & 0.3373494  & 0.1566265  & 0.1445783  & 0.1867470  & 0.1746988  & 0.3373494  & R         \\\\\n",
       "\t17380 & User160259 & 0.3373494  & 0.1566265  & 0.1445783  & 0.1867470  & 0.1746988  & 0.3373494  & R         \\\\\n",
       "\t17381 & User160259 & 0.3373494  & 0.1566265  & 0.1445783  & 0.1867470  & 0.1746988  & 0.3373494  & R         \\\\\n",
       "\t17382 & User160259 & 0.3373494  & 0.1566265  & 0.1445783  & 0.1867470  & 0.1746988  & 0.3373494  & R         \\\\\n",
       "\t17383 & User160259 & 0.3373494  & 0.1566265  & 0.1445783  & 0.1867470  & 0.1746988  & 0.3373494  & R         \\\\\n",
       "\t17384 & User160259 & 0.3373494  & 0.1566265  & 0.1445783  & 0.1867470  & 0.1746988  & 0.3373494  & R         \\\\\n",
       "\t17385 & User160259 & 0.3373494  & 0.1566265  & 0.1445783  & 0.1867470  & 0.1746988  & 0.3373494  & R         \\\\\n",
       "\t17386 & User160259 & 0.3373494  & 0.1566265  & 0.1445783  & 0.1867470  & 0.1746988  & 0.3373494  & R         \\\\\n",
       "\t17387 & User160259 & 0.3373494  & 0.1566265  & 0.1445783  & 0.1867470  & 0.1746988  & 0.3373494  & R         \\\\\n",
       "\t17388 & User160259 & 0.3373494  & 0.1566265  & 0.1445783  & 0.1867470  & 0.1746988  & 0.3373494  & R         \\\\\n",
       "\t17389 & User160259 & 0.3373494  & 0.1566265  & 0.1445783  & 0.1867470  & 0.1746988  & 0.3373494  & R         \\\\\n",
       "\t17390 & User160259 & 0.3373494  & 0.1566265  & 0.1445783  & 0.1867470  & 0.1746988  & 0.3373494  & R         \\\\\n",
       "\t17391 & User160259 & 0.3373494  & 0.1566265  & 0.1445783  & 0.1867470  & 0.1746988  & 0.3373494  & R         \\\\\n",
       "\t17392 & User160259 & 0.2881356  & 0.1638418  & 0.1355932  & 0.2033898  & 0.2090395  & 0.2881356  & R         \\\\\n",
       "\t17393 & User160259 & 0.2705882  & 0.1764706  & 0.1352941  & 0.2117647  & 0.2058824  & 0.2705882  & R         \\\\\n",
       "\t17394 & User160259 & 0.2705882  & 0.1764706  & 0.1352941  & 0.2117647  & 0.2058824  & 0.2705882  & R         \\\\\n",
       "\t17395 & User160259 & 0.2705882  & 0.1764706  & 0.1352941  & 0.2117647  & 0.2058824  & 0.2705882  & R         \\\\\n",
       "\t17396 & User160259 & 0.2705882  & 0.1764706  & 0.1352941  & 0.2117647  & 0.2058824  & 0.2705882  & R         \\\\\n",
       "\t17397 & User160259 & 0.2705882  & 0.1764706  & 0.1352941  & 0.2117647  & 0.2058824  & 0.2705882  & R         \\\\\n",
       "\t17398 & User160259 & 0.2705882  & 0.1764706  & 0.1352941  & 0.2117647  & 0.2058824  & 0.2705882  & R         \\\\\n",
       "\t17399 & User160259 & 0.2705882  & 0.1764706  & 0.1352941  & 0.2117647  & 0.2058824  & 0.2705882  & R         \\\\\n",
       "\t17400 & User160259 & 0.2705882  & 0.1764706  & 0.1352941  & 0.2117647  & 0.2058824  & 0.2705882  & R         \\\\\n",
       "\t17401 & User160259 & 0.2705882  & 0.1764706  & 0.1352941  & 0.2117647  & 0.2058824  & 0.2705882  & R         \\\\\n",
       "\t17402 & User160259 & 0.2705882  & 0.1764706  & 0.1352941  & 0.2117647  & 0.2058824  & 0.2705882  & R         \\\\\n",
       "\t17403 & User160259 & 0.2705882  & 0.1764706  & 0.1352941  & 0.2117647  & 0.2058824  & 0.2705882  & R         \\\\\n",
       "\t... & ... & ... & ... & ... & ... & ... & ... & ...\\\\\n",
       "\t17683 & User160259 & 0.2163743  & 0.2163743  & 0.1578947  & 0.2105263  & 0.1988304  & 0.2163743  & D         \\\\\n",
       "\t17684 & User160259 & 0.3352941  & 0.1529412  & 0.1529412  & 0.1823529  & 0.1764706  & 0.3352941  & R         \\\\\n",
       "\t17685 & User160259 & 0.3352941  & 0.1529412  & 0.1529412  & 0.1823529  & 0.1764706  & 0.3352941  & R         \\\\\n",
       "\t17686 & User160259 & 0.3109756  & 0.1646341  & 0.1524390  & 0.1951220  & 0.1768293  & 0.3109756  & R         \\\\\n",
       "\t17687 & User160259 & 0.3109756  & 0.1646341  & 0.1524390  & 0.1951220  & 0.1768293  & 0.3109756  & R         \\\\\n",
       "\t17688 & User160259 & 0.2897727  & 0.1590909  & 0.1363636  & 0.2045455  & 0.2102273  & 0.2897727  & R         \\\\\n",
       "\t17689 & User160259 & 0.2897727  & 0.1590909  & 0.1363636  & 0.2045455  & 0.2102273  & 0.2897727  & R         \\\\\n",
       "\t17690 & User160259 & 0.2558140  & 0.1744186  & 0.1453488  & 0.2151163  & 0.2093023  & 0.2558140  & R         \\\\\n",
       "\t17691 & User160259 & 0.2558140  & 0.1744186  & 0.1453488  & 0.2151163  & 0.2093023  & 0.2558140  & R         \\\\\n",
       "\t17692 & User160259 & 0.2010870  & 0.1684783  & 0.1521739  & 0.2391304  & 0.2391304  & 0.2391304  & E         \\\\\n",
       "\t17693 & User160259 & 0.2275132  & 0.1481481  & 0.1481481  & 0.2328042  & 0.2433862  & 0.2433862  & E         \\\\\n",
       "\t17694 & User160259 & 0.2897727  & 0.1590909  & 0.1363636  & 0.2045455  & 0.2102273  & 0.2897727  & R         \\\\\n",
       "\t17695 & User160259 & 0.2760736  & 0.2024540  & 0.1656442  & 0.1901840  & 0.1656442  & 0.2760736  & R         \\\\\n",
       "\t17696 & User160259 & 0.3618421  & 0.1578947  & 0.1513158  & 0.1776316  & 0.1513158  & 0.3618421  & R         \\\\\n",
       "\t17697 & User160259 & 0.2392638  & 0.1472393  & 0.1472393  & 0.2147239  & 0.2515337  & 0.2515337  & E         \\\\\n",
       "\t17698 & User160259 & 0.2392638  & 0.1472393  & 0.1472393  & 0.2147239  & 0.2515337  & 0.2515337  & E         \\\\\n",
       "\t17699 & User160259 & 0.2469880  & 0.1626506  & 0.1445783  & 0.2228916  & 0.2228916  & 0.2469880  & R         \\\\\n",
       "\t17700 & User160259 & 0.2222222  & 0.2105263  & 0.1578947  & 0.2105263  & 0.1988304  & 0.2222222  & R         \\\\\n",
       "\t17701 & User160259 & 0.2981366  & 0.1863354  & 0.1552795  & 0.1925466  & 0.1677019  & 0.2981366  & R         \\\\\n",
       "\t17702 & User160259 & 0.2881356  & 0.1638418  & 0.1355932  & 0.2033898  & 0.2090395  & 0.2881356  & R         \\\\\n",
       "\t17703 & User160259 & 0.2897727  & 0.1590909  & 0.1363636  & 0.2045455  & 0.2102273  & 0.2897727  & R         \\\\\n",
       "\t17704 & User160259 & 0.2392638  & 0.1472393  & 0.1472393  & 0.2147239  & 0.2515337  & 0.2515337  & E         \\\\\n",
       "\t17705 & User160259 & 0.2881356  & 0.1638418  & 0.1355932  & 0.2033898  & 0.2090395  & 0.2881356  & R         \\\\\n",
       "\t17706 & User160259 & 0.2881356  & 0.1638418  & 0.1355932  & 0.2033898  & 0.2090395  & 0.2881356  & R         \\\\\n",
       "\t17707 & User160259 & 0.3067485  & 0.1411043  & 0.1472393  & 0.2024540  & 0.2024540  & 0.3067485  & R         \\\\\n",
       "\t17708 & User160259 & 0.3000000  & 0.1647059  & 0.1294118  & 0.1823529  & 0.2235294  & 0.3000000  & R         \\\\\n",
       "\t17709 & User160259 & 0.2881356  & 0.1638418  & 0.1355932  & 0.2033898  & 0.2090395  & 0.2881356  & R         \\\\\n",
       "\t17710 & User160259 & 0.2010870  & 0.1684783  & 0.1521739  & 0.2391304  & 0.2391304  & 0.2391304  & E         \\\\\n",
       "\t17711 & User160259 & 0.2163743  & 0.2163743  & 0.1578947  & 0.2105263  & 0.1988304  & 0.2163743  & D         \\\\\n",
       "\t17712 & User160259 & 0.2275132  & 0.1481481  & 0.1481481  & 0.2328042  & 0.2433862  & 0.2433862  & E         \\\\\n",
       "\\end{tabular}\n"
      ],
      "text/markdown": [
       "\n",
       "| <!--/--> | UserName | Reconnaissance | Delivery | LateralMovement | PrivilegeEscalation | Exfiltration | Maximum | Cluster |\n",
       "|---|---|---|---|---|---|---|---|---|\n",
       "| 17374 | User160259 | 0.2816092  | 0.1666667  | 0.1379310  | 0.2068966  | 0.2068966  | 0.2816092  | R          |\n",
       "| 17375 | User160259 | 0.2816092  | 0.1666667  | 0.1379310  | 0.2068966  | 0.2068966  | 0.2816092  | R          |\n",
       "| 17376 | User160259 | 0.2816092  | 0.1666667  | 0.1379310  | 0.2068966  | 0.2068966  | 0.2816092  | R          |\n",
       "| 17377 | User160259 | 0.2816092  | 0.1666667  | 0.1379310  | 0.2068966  | 0.2068966  | 0.2816092  | R          |\n",
       "| 17378 | User160259 | 0.3373494  | 0.1566265  | 0.1445783  | 0.1867470  | 0.1746988  | 0.3373494  | R          |\n",
       "| 17379 | User160259 | 0.3373494  | 0.1566265  | 0.1445783  | 0.1867470  | 0.1746988  | 0.3373494  | R          |\n",
       "| 17380 | User160259 | 0.3373494  | 0.1566265  | 0.1445783  | 0.1867470  | 0.1746988  | 0.3373494  | R          |\n",
       "| 17381 | User160259 | 0.3373494  | 0.1566265  | 0.1445783  | 0.1867470  | 0.1746988  | 0.3373494  | R          |\n",
       "| 17382 | User160259 | 0.3373494  | 0.1566265  | 0.1445783  | 0.1867470  | 0.1746988  | 0.3373494  | R          |\n",
       "| 17383 | User160259 | 0.3373494  | 0.1566265  | 0.1445783  | 0.1867470  | 0.1746988  | 0.3373494  | R          |\n",
       "| 17384 | User160259 | 0.3373494  | 0.1566265  | 0.1445783  | 0.1867470  | 0.1746988  | 0.3373494  | R          |\n",
       "| 17385 | User160259 | 0.3373494  | 0.1566265  | 0.1445783  | 0.1867470  | 0.1746988  | 0.3373494  | R          |\n",
       "| 17386 | User160259 | 0.3373494  | 0.1566265  | 0.1445783  | 0.1867470  | 0.1746988  | 0.3373494  | R          |\n",
       "| 17387 | User160259 | 0.3373494  | 0.1566265  | 0.1445783  | 0.1867470  | 0.1746988  | 0.3373494  | R          |\n",
       "| 17388 | User160259 | 0.3373494  | 0.1566265  | 0.1445783  | 0.1867470  | 0.1746988  | 0.3373494  | R          |\n",
       "| 17389 | User160259 | 0.3373494  | 0.1566265  | 0.1445783  | 0.1867470  | 0.1746988  | 0.3373494  | R          |\n",
       "| 17390 | User160259 | 0.3373494  | 0.1566265  | 0.1445783  | 0.1867470  | 0.1746988  | 0.3373494  | R          |\n",
       "| 17391 | User160259 | 0.3373494  | 0.1566265  | 0.1445783  | 0.1867470  | 0.1746988  | 0.3373494  | R          |\n",
       "| 17392 | User160259 | 0.2881356  | 0.1638418  | 0.1355932  | 0.2033898  | 0.2090395  | 0.2881356  | R          |\n",
       "| 17393 | User160259 | 0.2705882  | 0.1764706  | 0.1352941  | 0.2117647  | 0.2058824  | 0.2705882  | R          |\n",
       "| 17394 | User160259 | 0.2705882  | 0.1764706  | 0.1352941  | 0.2117647  | 0.2058824  | 0.2705882  | R          |\n",
       "| 17395 | User160259 | 0.2705882  | 0.1764706  | 0.1352941  | 0.2117647  | 0.2058824  | 0.2705882  | R          |\n",
       "| 17396 | User160259 | 0.2705882  | 0.1764706  | 0.1352941  | 0.2117647  | 0.2058824  | 0.2705882  | R          |\n",
       "| 17397 | User160259 | 0.2705882  | 0.1764706  | 0.1352941  | 0.2117647  | 0.2058824  | 0.2705882  | R          |\n",
       "| 17398 | User160259 | 0.2705882  | 0.1764706  | 0.1352941  | 0.2117647  | 0.2058824  | 0.2705882  | R          |\n",
       "| 17399 | User160259 | 0.2705882  | 0.1764706  | 0.1352941  | 0.2117647  | 0.2058824  | 0.2705882  | R          |\n",
       "| 17400 | User160259 | 0.2705882  | 0.1764706  | 0.1352941  | 0.2117647  | 0.2058824  | 0.2705882  | R          |\n",
       "| 17401 | User160259 | 0.2705882  | 0.1764706  | 0.1352941  | 0.2117647  | 0.2058824  | 0.2705882  | R          |\n",
       "| 17402 | User160259 | 0.2705882  | 0.1764706  | 0.1352941  | 0.2117647  | 0.2058824  | 0.2705882  | R          |\n",
       "| 17403 | User160259 | 0.2705882  | 0.1764706  | 0.1352941  | 0.2117647  | 0.2058824  | 0.2705882  | R          |\n",
       "| ... | ... | ... | ... | ... | ... | ... | ... | ... |\n",
       "| 17683 | User160259 | 0.2163743  | 0.2163743  | 0.1578947  | 0.2105263  | 0.1988304  | 0.2163743  | D          |\n",
       "| 17684 | User160259 | 0.3352941  | 0.1529412  | 0.1529412  | 0.1823529  | 0.1764706  | 0.3352941  | R          |\n",
       "| 17685 | User160259 | 0.3352941  | 0.1529412  | 0.1529412  | 0.1823529  | 0.1764706  | 0.3352941  | R          |\n",
       "| 17686 | User160259 | 0.3109756  | 0.1646341  | 0.1524390  | 0.1951220  | 0.1768293  | 0.3109756  | R          |\n",
       "| 17687 | User160259 | 0.3109756  | 0.1646341  | 0.1524390  | 0.1951220  | 0.1768293  | 0.3109756  | R          |\n",
       "| 17688 | User160259 | 0.2897727  | 0.1590909  | 0.1363636  | 0.2045455  | 0.2102273  | 0.2897727  | R          |\n",
       "| 17689 | User160259 | 0.2897727  | 0.1590909  | 0.1363636  | 0.2045455  | 0.2102273  | 0.2897727  | R          |\n",
       "| 17690 | User160259 | 0.2558140  | 0.1744186  | 0.1453488  | 0.2151163  | 0.2093023  | 0.2558140  | R          |\n",
       "| 17691 | User160259 | 0.2558140  | 0.1744186  | 0.1453488  | 0.2151163  | 0.2093023  | 0.2558140  | R          |\n",
       "| 17692 | User160259 | 0.2010870  | 0.1684783  | 0.1521739  | 0.2391304  | 0.2391304  | 0.2391304  | E          |\n",
       "| 17693 | User160259 | 0.2275132  | 0.1481481  | 0.1481481  | 0.2328042  | 0.2433862  | 0.2433862  | E          |\n",
       "| 17694 | User160259 | 0.2897727  | 0.1590909  | 0.1363636  | 0.2045455  | 0.2102273  | 0.2897727  | R          |\n",
       "| 17695 | User160259 | 0.2760736  | 0.2024540  | 0.1656442  | 0.1901840  | 0.1656442  | 0.2760736  | R          |\n",
       "| 17696 | User160259 | 0.3618421  | 0.1578947  | 0.1513158  | 0.1776316  | 0.1513158  | 0.3618421  | R          |\n",
       "| 17697 | User160259 | 0.2392638  | 0.1472393  | 0.1472393  | 0.2147239  | 0.2515337  | 0.2515337  | E          |\n",
       "| 17698 | User160259 | 0.2392638  | 0.1472393  | 0.1472393  | 0.2147239  | 0.2515337  | 0.2515337  | E          |\n",
       "| 17699 | User160259 | 0.2469880  | 0.1626506  | 0.1445783  | 0.2228916  | 0.2228916  | 0.2469880  | R          |\n",
       "| 17700 | User160259 | 0.2222222  | 0.2105263  | 0.1578947  | 0.2105263  | 0.1988304  | 0.2222222  | R          |\n",
       "| 17701 | User160259 | 0.2981366  | 0.1863354  | 0.1552795  | 0.1925466  | 0.1677019  | 0.2981366  | R          |\n",
       "| 17702 | User160259 | 0.2881356  | 0.1638418  | 0.1355932  | 0.2033898  | 0.2090395  | 0.2881356  | R          |\n",
       "| 17703 | User160259 | 0.2897727  | 0.1590909  | 0.1363636  | 0.2045455  | 0.2102273  | 0.2897727  | R          |\n",
       "| 17704 | User160259 | 0.2392638  | 0.1472393  | 0.1472393  | 0.2147239  | 0.2515337  | 0.2515337  | E          |\n",
       "| 17705 | User160259 | 0.2881356  | 0.1638418  | 0.1355932  | 0.2033898  | 0.2090395  | 0.2881356  | R          |\n",
       "| 17706 | User160259 | 0.2881356  | 0.1638418  | 0.1355932  | 0.2033898  | 0.2090395  | 0.2881356  | R          |\n",
       "| 17707 | User160259 | 0.3067485  | 0.1411043  | 0.1472393  | 0.2024540  | 0.2024540  | 0.3067485  | R          |\n",
       "| 17708 | User160259 | 0.3000000  | 0.1647059  | 0.1294118  | 0.1823529  | 0.2235294  | 0.3000000  | R          |\n",
       "| 17709 | User160259 | 0.2881356  | 0.1638418  | 0.1355932  | 0.2033898  | 0.2090395  | 0.2881356  | R          |\n",
       "| 17710 | User160259 | 0.2010870  | 0.1684783  | 0.1521739  | 0.2391304  | 0.2391304  | 0.2391304  | E          |\n",
       "| 17711 | User160259 | 0.2163743  | 0.2163743  | 0.1578947  | 0.2105263  | 0.1988304  | 0.2163743  | D          |\n",
       "| 17712 | User160259 | 0.2275132  | 0.1481481  | 0.1481481  | 0.2328042  | 0.2433862  | 0.2433862  | E          |\n",
       "\n"
      ],
      "text/plain": [
       "      UserName   Reconnaissance Delivery  LateralMovement PrivilegeEscalation\n",
       "17374 User160259 0.2816092      0.1666667 0.1379310       0.2068966          \n",
       "17375 User160259 0.2816092      0.1666667 0.1379310       0.2068966          \n",
       "17376 User160259 0.2816092      0.1666667 0.1379310       0.2068966          \n",
       "17377 User160259 0.2816092      0.1666667 0.1379310       0.2068966          \n",
       "17378 User160259 0.3373494      0.1566265 0.1445783       0.1867470          \n",
       "17379 User160259 0.3373494      0.1566265 0.1445783       0.1867470          \n",
       "17380 User160259 0.3373494      0.1566265 0.1445783       0.1867470          \n",
       "17381 User160259 0.3373494      0.1566265 0.1445783       0.1867470          \n",
       "17382 User160259 0.3373494      0.1566265 0.1445783       0.1867470          \n",
       "17383 User160259 0.3373494      0.1566265 0.1445783       0.1867470          \n",
       "17384 User160259 0.3373494      0.1566265 0.1445783       0.1867470          \n",
       "17385 User160259 0.3373494      0.1566265 0.1445783       0.1867470          \n",
       "17386 User160259 0.3373494      0.1566265 0.1445783       0.1867470          \n",
       "17387 User160259 0.3373494      0.1566265 0.1445783       0.1867470          \n",
       "17388 User160259 0.3373494      0.1566265 0.1445783       0.1867470          \n",
       "17389 User160259 0.3373494      0.1566265 0.1445783       0.1867470          \n",
       "17390 User160259 0.3373494      0.1566265 0.1445783       0.1867470          \n",
       "17391 User160259 0.3373494      0.1566265 0.1445783       0.1867470          \n",
       "17392 User160259 0.2881356      0.1638418 0.1355932       0.2033898          \n",
       "17393 User160259 0.2705882      0.1764706 0.1352941       0.2117647          \n",
       "17394 User160259 0.2705882      0.1764706 0.1352941       0.2117647          \n",
       "17395 User160259 0.2705882      0.1764706 0.1352941       0.2117647          \n",
       "17396 User160259 0.2705882      0.1764706 0.1352941       0.2117647          \n",
       "17397 User160259 0.2705882      0.1764706 0.1352941       0.2117647          \n",
       "17398 User160259 0.2705882      0.1764706 0.1352941       0.2117647          \n",
       "17399 User160259 0.2705882      0.1764706 0.1352941       0.2117647          \n",
       "17400 User160259 0.2705882      0.1764706 0.1352941       0.2117647          \n",
       "17401 User160259 0.2705882      0.1764706 0.1352941       0.2117647          \n",
       "17402 User160259 0.2705882      0.1764706 0.1352941       0.2117647          \n",
       "17403 User160259 0.2705882      0.1764706 0.1352941       0.2117647          \n",
       "...   ...        ...            ...       ...             ...                \n",
       "17683 User160259 0.2163743      0.2163743 0.1578947       0.2105263          \n",
       "17684 User160259 0.3352941      0.1529412 0.1529412       0.1823529          \n",
       "17685 User160259 0.3352941      0.1529412 0.1529412       0.1823529          \n",
       "17686 User160259 0.3109756      0.1646341 0.1524390       0.1951220          \n",
       "17687 User160259 0.3109756      0.1646341 0.1524390       0.1951220          \n",
       "17688 User160259 0.2897727      0.1590909 0.1363636       0.2045455          \n",
       "17689 User160259 0.2897727      0.1590909 0.1363636       0.2045455          \n",
       "17690 User160259 0.2558140      0.1744186 0.1453488       0.2151163          \n",
       "17691 User160259 0.2558140      0.1744186 0.1453488       0.2151163          \n",
       "17692 User160259 0.2010870      0.1684783 0.1521739       0.2391304          \n",
       "17693 User160259 0.2275132      0.1481481 0.1481481       0.2328042          \n",
       "17694 User160259 0.2897727      0.1590909 0.1363636       0.2045455          \n",
       "17695 User160259 0.2760736      0.2024540 0.1656442       0.1901840          \n",
       "17696 User160259 0.3618421      0.1578947 0.1513158       0.1776316          \n",
       "17697 User160259 0.2392638      0.1472393 0.1472393       0.2147239          \n",
       "17698 User160259 0.2392638      0.1472393 0.1472393       0.2147239          \n",
       "17699 User160259 0.2469880      0.1626506 0.1445783       0.2228916          \n",
       "17700 User160259 0.2222222      0.2105263 0.1578947       0.2105263          \n",
       "17701 User160259 0.2981366      0.1863354 0.1552795       0.1925466          \n",
       "17702 User160259 0.2881356      0.1638418 0.1355932       0.2033898          \n",
       "17703 User160259 0.2897727      0.1590909 0.1363636       0.2045455          \n",
       "17704 User160259 0.2392638      0.1472393 0.1472393       0.2147239          \n",
       "17705 User160259 0.2881356      0.1638418 0.1355932       0.2033898          \n",
       "17706 User160259 0.2881356      0.1638418 0.1355932       0.2033898          \n",
       "17707 User160259 0.3067485      0.1411043 0.1472393       0.2024540          \n",
       "17708 User160259 0.3000000      0.1647059 0.1294118       0.1823529          \n",
       "17709 User160259 0.2881356      0.1638418 0.1355932       0.2033898          \n",
       "17710 User160259 0.2010870      0.1684783 0.1521739       0.2391304          \n",
       "17711 User160259 0.2163743      0.2163743 0.1578947       0.2105263          \n",
       "17712 User160259 0.2275132      0.1481481 0.1481481       0.2328042          \n",
       "      Exfiltration Maximum   Cluster\n",
       "17374 0.2068966    0.2816092 R      \n",
       "17375 0.2068966    0.2816092 R      \n",
       "17376 0.2068966    0.2816092 R      \n",
       "17377 0.2068966    0.2816092 R      \n",
       "17378 0.1746988    0.3373494 R      \n",
       "17379 0.1746988    0.3373494 R      \n",
       "17380 0.1746988    0.3373494 R      \n",
       "17381 0.1746988    0.3373494 R      \n",
       "17382 0.1746988    0.3373494 R      \n",
       "17383 0.1746988    0.3373494 R      \n",
       "17384 0.1746988    0.3373494 R      \n",
       "17385 0.1746988    0.3373494 R      \n",
       "17386 0.1746988    0.3373494 R      \n",
       "17387 0.1746988    0.3373494 R      \n",
       "17388 0.1746988    0.3373494 R      \n",
       "17389 0.1746988    0.3373494 R      \n",
       "17390 0.1746988    0.3373494 R      \n",
       "17391 0.1746988    0.3373494 R      \n",
       "17392 0.2090395    0.2881356 R      \n",
       "17393 0.2058824    0.2705882 R      \n",
       "17394 0.2058824    0.2705882 R      \n",
       "17395 0.2058824    0.2705882 R      \n",
       "17396 0.2058824    0.2705882 R      \n",
       "17397 0.2058824    0.2705882 R      \n",
       "17398 0.2058824    0.2705882 R      \n",
       "17399 0.2058824    0.2705882 R      \n",
       "17400 0.2058824    0.2705882 R      \n",
       "17401 0.2058824    0.2705882 R      \n",
       "17402 0.2058824    0.2705882 R      \n",
       "17403 0.2058824    0.2705882 R      \n",
       "...   ...          ...       ...    \n",
       "17683 0.1988304    0.2163743 D      \n",
       "17684 0.1764706    0.3352941 R      \n",
       "17685 0.1764706    0.3352941 R      \n",
       "17686 0.1768293    0.3109756 R      \n",
       "17687 0.1768293    0.3109756 R      \n",
       "17688 0.2102273    0.2897727 R      \n",
       "17689 0.2102273    0.2897727 R      \n",
       "17690 0.2093023    0.2558140 R      \n",
       "17691 0.2093023    0.2558140 R      \n",
       "17692 0.2391304    0.2391304 E      \n",
       "17693 0.2433862    0.2433862 E      \n",
       "17694 0.2102273    0.2897727 R      \n",
       "17695 0.1656442    0.2760736 R      \n",
       "17696 0.1513158    0.3618421 R      \n",
       "17697 0.2515337    0.2515337 E      \n",
       "17698 0.2515337    0.2515337 E      \n",
       "17699 0.2228916    0.2469880 R      \n",
       "17700 0.1988304    0.2222222 R      \n",
       "17701 0.1677019    0.2981366 R      \n",
       "17702 0.2090395    0.2881356 R      \n",
       "17703 0.2102273    0.2897727 R      \n",
       "17704 0.2515337    0.2515337 E      \n",
       "17705 0.2090395    0.2881356 R      \n",
       "17706 0.2090395    0.2881356 R      \n",
       "17707 0.2024540    0.3067485 R      \n",
       "17708 0.2235294    0.3000000 R      \n",
       "17709 0.2090395    0.2881356 R      \n",
       "17710 0.2391304    0.2391304 E      \n",
       "17711 0.1988304    0.2163743 D      \n",
       "17712 0.2433862    0.2433862 E      "
      ]
     },
     "metadata": {},
     "output_type": "display_data"
    }
   ],
   "source": [
    "set.seed(1)\n",
    "Probs_with_clusters[Probs_with_clusters$UserName==sample(df$UserName, size=1), ]"
   ]
  }
 ],
 "metadata": {
  "kernelspec": {
   "display_name": "R",
   "language": "R",
   "name": "ir"
  },
  "language_info": {
   "codemirror_mode": "r",
   "file_extension": ".r",
   "mimetype": "text/x-r-source",
   "name": "R",
   "pygments_lexer": "r",
   "version": "3.6.1"
  }
 },
 "nbformat": 4,
 "nbformat_minor": 5
}
