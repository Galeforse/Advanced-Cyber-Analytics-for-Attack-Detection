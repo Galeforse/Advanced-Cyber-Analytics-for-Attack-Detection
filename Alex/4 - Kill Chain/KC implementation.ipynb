{
 "cells": [
  {
   "cell_type": "code",
   "execution_count": 9,
   "id": "f9e0644e",
   "metadata": {},
   "outputs": [],
   "source": [
    "# install.packages(c(\"factoextra\", \"ggpubr\", \"dplyr\"))\n",
    "library(ggpubr)\n",
    "library(factoextra)\n",
    "library(dplyr)"
   ]
  },
  {
   "cell_type": "code",
   "execution_count": 5,
   "id": "dc5231a1",
   "metadata": {},
   "outputs": [
    {
     "data": {
      "text/html": [
       "<table>\n",
       "<thead><tr><th scope=col>UserName</th><th scope=col>SrcDevice</th><th scope=col>DstDevice</th><th scope=col>Authent.Type</th><th scope=col>Failure</th><th scope=col>DailyCount</th></tr></thead>\n",
       "<tbody>\n",
       "\t<tr><td>User341813  </td><td>Comp948451  </td><td>Comp915658  </td><td>NetworkLogon</td><td>0           </td><td>1           </td></tr>\n",
       "\t<tr><td>User341813  </td><td>Comp948451  </td><td>Comp915658  </td><td>NetworkLogon</td><td>0           </td><td>1           </td></tr>\n",
       "\t<tr><td>User341813  </td><td>Comp948451  </td><td>Comp915658  </td><td>NetworkLogon</td><td>0           </td><td>1           </td></tr>\n",
       "\t<tr><td>User341813  </td><td>Comp948451  </td><td>Comp915658  </td><td>NetworkLogon</td><td>0           </td><td>1           </td></tr>\n",
       "\t<tr><td>User341813  </td><td>Comp948451  </td><td>Comp915658  </td><td>NetworkLogon</td><td>0           </td><td>1           </td></tr>\n",
       "\t<tr><td>User341813  </td><td>Comp948451  </td><td>Comp915658  </td><td>NetworkLogon</td><td>0           </td><td>1           </td></tr>\n",
       "\t<tr><td>User341813  </td><td>Comp948451  </td><td>Comp915658  </td><td>NetworkLogon</td><td>0           </td><td>1           </td></tr>\n",
       "\t<tr><td>User341813  </td><td>Comp948451  </td><td>Comp915658  </td><td>NetworkLogon</td><td>0           </td><td>1           </td></tr>\n",
       "\t<tr><td>User341813  </td><td>Comp948451  </td><td>Comp004340  </td><td>TGS         </td><td>0           </td><td>1           </td></tr>\n",
       "\t<tr><td>User341813  </td><td>Comp948451  </td><td>Comp004340  </td><td>TGS         </td><td>0           </td><td>1           </td></tr>\n",
       "</tbody>\n",
       "</table>\n"
      ],
      "text/latex": [
       "\\begin{tabular}{r|llllll}\n",
       " UserName & SrcDevice & DstDevice & Authent.Type & Failure & DailyCount\\\\\n",
       "\\hline\n",
       "\t User341813   & Comp948451   & Comp915658   & NetworkLogon & 0            & 1           \\\\\n",
       "\t User341813   & Comp948451   & Comp915658   & NetworkLogon & 0            & 1           \\\\\n",
       "\t User341813   & Comp948451   & Comp915658   & NetworkLogon & 0            & 1           \\\\\n",
       "\t User341813   & Comp948451   & Comp915658   & NetworkLogon & 0            & 1           \\\\\n",
       "\t User341813   & Comp948451   & Comp915658   & NetworkLogon & 0            & 1           \\\\\n",
       "\t User341813   & Comp948451   & Comp915658   & NetworkLogon & 0            & 1           \\\\\n",
       "\t User341813   & Comp948451   & Comp915658   & NetworkLogon & 0            & 1           \\\\\n",
       "\t User341813   & Comp948451   & Comp915658   & NetworkLogon & 0            & 1           \\\\\n",
       "\t User341813   & Comp948451   & Comp004340   & TGS          & 0            & 1           \\\\\n",
       "\t User341813   & Comp948451   & Comp004340   & TGS          & 0            & 1           \\\\\n",
       "\\end{tabular}\n"
      ],
      "text/markdown": [
       "\n",
       "| UserName | SrcDevice | DstDevice | Authent.Type | Failure | DailyCount |\n",
       "|---|---|---|---|---|---|\n",
       "| User341813   | Comp948451   | Comp915658   | NetworkLogon | 0            | 1            |\n",
       "| User341813   | Comp948451   | Comp915658   | NetworkLogon | 0            | 1            |\n",
       "| User341813   | Comp948451   | Comp915658   | NetworkLogon | 0            | 1            |\n",
       "| User341813   | Comp948451   | Comp915658   | NetworkLogon | 0            | 1            |\n",
       "| User341813   | Comp948451   | Comp915658   | NetworkLogon | 0            | 1            |\n",
       "| User341813   | Comp948451   | Comp915658   | NetworkLogon | 0            | 1            |\n",
       "| User341813   | Comp948451   | Comp915658   | NetworkLogon | 0            | 1            |\n",
       "| User341813   | Comp948451   | Comp915658   | NetworkLogon | 0            | 1            |\n",
       "| User341813   | Comp948451   | Comp004340   | TGS          | 0            | 1            |\n",
       "| User341813   | Comp948451   | Comp004340   | TGS          | 0            | 1            |\n",
       "\n"
      ],
      "text/plain": [
       "   UserName   SrcDevice  DstDevice  Authent.Type Failure DailyCount\n",
       "1  User341813 Comp948451 Comp915658 NetworkLogon 0       1         \n",
       "2  User341813 Comp948451 Comp915658 NetworkLogon 0       1         \n",
       "3  User341813 Comp948451 Comp915658 NetworkLogon 0       1         \n",
       "4  User341813 Comp948451 Comp915658 NetworkLogon 0       1         \n",
       "5  User341813 Comp948451 Comp915658 NetworkLogon 0       1         \n",
       "6  User341813 Comp948451 Comp915658 NetworkLogon 0       1         \n",
       "7  User341813 Comp948451 Comp915658 NetworkLogon 0       1         \n",
       "8  User341813 Comp948451 Comp915658 NetworkLogon 0       1         \n",
       "9  User341813 Comp948451 Comp004340 TGS          0       1         \n",
       "10 User341813 Comp948451 Comp004340 TGS          0       1         "
      ]
     },
     "metadata": {},
     "output_type": "display_data"
    },
    {
     "data": {
      "text/html": [
       "<ol class=list-inline>\n",
       "\t<li>20412</li>\n",
       "\t<li>6</li>\n",
       "</ol>\n"
      ],
      "text/latex": [
       "\\begin{enumerate*}\n",
       "\\item 20412\n",
       "\\item 6\n",
       "\\end{enumerate*}\n"
      ],
      "text/markdown": [
       "1. 20412\n",
       "2. 6\n",
       "\n",
       "\n"
      ],
      "text/plain": [
       "[1] 20412     6"
      ]
     },
     "metadata": {},
     "output_type": "display_data"
    },
    {
     "name": "stdout",
     "output_type": "stream",
     "text": [
      "'data.frame':\t20412 obs. of  6 variables:\n",
      " $ UserName    : Factor w/ 81 levels \"Administrator\",..: 30 30 30 30 30 30 30 30 30 30 ...\n",
      " $ SrcDevice   : Factor w/ 489 levels \"ActiveDirectory\",..: 460 460 460 460 460 460 460 460 460 460 ...\n",
      " $ DstDevice   : Factor w/ 288 levels \"ActiveDirectory\",..: 258 258 258 258 258 258 258 258 2 2 ...\n",
      " $ Authent.Type: Factor w/ 12 levels \"Batch\",\"CachedInteractive\",..: 4 4 4 4 4 4 4 4 9 9 ...\n",
      " $ Failure     : int  0 0 0 0 0 0 0 0 0 0 ...\n",
      " $ DailyCount  : num  1 1 1 1 1 1 1 1 1 1 ...\n"
     ]
    }
   ],
   "source": [
    "setwd(\"D://LA//ATI Data\")\n",
    "df <- read.table(file=\"Anomalies.txt\", header=T, sep=\",\")\n",
    "df<- df[,-1]\n",
    "\n",
    "head(df, 10)\n",
    "dim(df)\n",
    "str(df)"
   ]
  },
  {
   "cell_type": "code",
   "execution_count": 8,
   "id": "0457d4f5",
   "metadata": {},
   "outputs": [
    {
     "name": "stdout",
     "output_type": "stream",
     "text": [
      "'data.frame':\t20412 obs. of  6 variables:\n",
      " $ UserName    : chr  \"User341813\" \"User341813\" \"User341813\" \"User341813\" ...\n",
      " $ SrcDevice   : chr  \"Comp948451\" \"Comp948451\" \"Comp948451\" \"Comp948451\" ...\n",
      " $ DstDevice   : chr  \"Comp915658\" \"Comp915658\" \"Comp915658\" \"Comp915658\" ...\n",
      " $ Authent.Type: chr  \"NetworkLogon\" \"NetworkLogon\" \"NetworkLogon\" \"NetworkLogon\" ...\n",
      " $ Failure     : int  0 0 0 0 0 0 0 0 0 0 ...\n",
      " $ DailyCount  : num  1 1 1 1 1 1 1 1 1 1 ...\n"
     ]
    }
   ],
   "source": [
    "df %>% mutate(across(where(is.factor), as.character)) -> df\n",
    "\n",
    "str(df)"
   ]
  },
  {
   "cell_type": "code",
   "execution_count": 13,
   "id": "310da583",
   "metadata": {},
   "outputs": [
    {
     "data": {
      "text/html": [
       "<table>\n",
       "<thead><tr><th scope=col>t1</th><th scope=col>t2</th><th scope=col>t3</th><th scope=col>t4</th><th scope=col>t5</th><th scope=col>t6</th></tr></thead>\n",
       "<tbody>\n",
       "\t<tr><td>30 </td><td>460</td><td>258</td><td>4  </td><td>0  </td><td>1  </td></tr>\n",
       "\t<tr><td>30 </td><td>460</td><td>258</td><td>4  </td><td>0  </td><td>1  </td></tr>\n",
       "\t<tr><td>30 </td><td>460</td><td>258</td><td>4  </td><td>0  </td><td>1  </td></tr>\n",
       "\t<tr><td>30 </td><td>460</td><td>258</td><td>4  </td><td>0  </td><td>1  </td></tr>\n",
       "\t<tr><td>30 </td><td>460</td><td>258</td><td>4  </td><td>0  </td><td>1  </td></tr>\n",
       "\t<tr><td>30 </td><td>460</td><td>258</td><td>4  </td><td>0  </td><td>1  </td></tr>\n",
       "</tbody>\n",
       "</table>\n"
      ],
      "text/latex": [
       "\\begin{tabular}{llllll}\n",
       " t1 & t2 & t3 & t4 & t5 & t6\\\\\n",
       "\\hline\n",
       "\t 30  & 460 & 258 & 4   & 0   & 1  \\\\\n",
       "\t 30  & 460 & 258 & 4   & 0   & 1  \\\\\n",
       "\t 30  & 460 & 258 & 4   & 0   & 1  \\\\\n",
       "\t 30  & 460 & 258 & 4   & 0   & 1  \\\\\n",
       "\t 30  & 460 & 258 & 4   & 0   & 1  \\\\\n",
       "\t 30  & 460 & 258 & 4   & 0   & 1  \\\\\n",
       "\\end{tabular}\n"
      ],
      "text/markdown": [
       "\n",
       "| t1 | t2 | t3 | t4 | t5 | t6 |\n",
       "|---|---|---|---|---|---|\n",
       "| 30  | 460 | 258 | 4   | 0   | 1   |\n",
       "| 30  | 460 | 258 | 4   | 0   | 1   |\n",
       "| 30  | 460 | 258 | 4   | 0   | 1   |\n",
       "| 30  | 460 | 258 | 4   | 0   | 1   |\n",
       "| 30  | 460 | 258 | 4   | 0   | 1   |\n",
       "| 30  | 460 | 258 | 4   | 0   | 1   |\n",
       "\n"
      ],
      "text/plain": [
       "     t1 t2  t3  t4 t5 t6\n",
       "[1,] 30 460 258 4  0  1 \n",
       "[2,] 30 460 258 4  0  1 \n",
       "[3,] 30 460 258 4  0  1 \n",
       "[4,] 30 460 258 4  0  1 \n",
       "[5,] 30 460 258 4  0  1 \n",
       "[6,] 30 460 258 4  0  1 "
      ]
     },
     "metadata": {},
     "output_type": "display_data"
    }
   ],
   "source": [
    "t1<- tapply(df[,1], df[,1])\n",
    "t2<- tapply(df[,2], df[,2])\n",
    "t3<- tapply(df[,3], df[,3])\n",
    "t4<- tapply(df[,4], df[,4])\n",
    "\n",
    "Anom <- cbind(t1,t2,t3,t4, t5=df$Failure, t6=df$DailyCount)\n",
    "\n",
    "head(Anom)"
   ]
  },
  {
   "cell_type": "code",
   "execution_count": 16,
   "id": "a4455d90",
   "metadata": {},
   "outputs": [],
   "source": [
    "set.seed(123)\n",
    "K <- kmeans(Anom, centers=5, nstart = 25, algorithm=\"Lloyd\", iter.max = 10^4)"
   ]
  },
  {
   "cell_type": "code",
   "execution_count": 18,
   "id": "02597428",
   "metadata": {},
   "outputs": [
    {
     "data": {
      "image/png": "[encoded data removed]",
      "text/plain": [
       "plot without title"
      ]
     },
     "metadata": {},
     "output_type": "display_data"
    }
   ],
   "source": [
    "fviz_cluster(K, data = Anom, geom = \"point\",\n",
    "             ellipse.type = \"convex\", \n",
    "             ggtheme = theme_bw()\n",
    "             )"
   ]
  },
  {
   "cell_type": "code",
   "execution_count": 21,
   "id": "b562c651",
   "metadata": {},
   "outputs": [
    {
     "data": {
      "text/plain": [
       "\n",
       "   1    2    3    4    5 \n",
       "5076 6160    8 4938 4230 "
      ]
     },
     "metadata": {},
     "output_type": "display_data"
    }
   ],
   "source": [
    "table(K$cluster)"
   ]
  },
  {
   "cell_type": "code",
   "execution_count": 22,
   "id": "33522e85",
   "metadata": {},
   "outputs": [
    {
     "data": {
      "text/html": [
       "<table>\n",
       "<thead><tr><th scope=col>UserName</th><th scope=col>SrcDevice</th><th scope=col>DstDevice</th><th scope=col>Authent.Type</th><th scope=col>Failure</th><th scope=col>DailyCount</th><th scope=col>Cluster</th></tr></thead>\n",
       "<tbody>\n",
       "\t<tr><td>User341813  </td><td>Comp948451  </td><td>Comp915658  </td><td>NetworkLogon</td><td>0           </td><td>1           </td><td>2           </td></tr>\n",
       "\t<tr><td>User341813  </td><td>Comp948451  </td><td>Comp915658  </td><td>NetworkLogon</td><td>0           </td><td>1           </td><td>2           </td></tr>\n",
       "\t<tr><td>User341813  </td><td>Comp948451  </td><td>Comp915658  </td><td>NetworkLogon</td><td>0           </td><td>1           </td><td>2           </td></tr>\n",
       "\t<tr><td>User341813  </td><td>Comp948451  </td><td>Comp915658  </td><td>NetworkLogon</td><td>0           </td><td>1           </td><td>2           </td></tr>\n",
       "\t<tr><td>User341813  </td><td>Comp948451  </td><td>Comp915658  </td><td>NetworkLogon</td><td>0           </td><td>1           </td><td>2           </td></tr>\n",
       "\t<tr><td>User341813  </td><td>Comp948451  </td><td>Comp915658  </td><td>NetworkLogon</td><td>0           </td><td>1           </td><td>2           </td></tr>\n",
       "</tbody>\n",
       "</table>\n"
      ],
      "text/latex": [
       "\\begin{tabular}{r|lllllll}\n",
       " UserName & SrcDevice & DstDevice & Authent.Type & Failure & DailyCount & Cluster\\\\\n",
       "\\hline\n",
       "\t User341813   & Comp948451   & Comp915658   & NetworkLogon & 0            & 1            & 2           \\\\\n",
       "\t User341813   & Comp948451   & Comp915658   & NetworkLogon & 0            & 1            & 2           \\\\\n",
       "\t User341813   & Comp948451   & Comp915658   & NetworkLogon & 0            & 1            & 2           \\\\\n",
       "\t User341813   & Comp948451   & Comp915658   & NetworkLogon & 0            & 1            & 2           \\\\\n",
       "\t User341813   & Comp948451   & Comp915658   & NetworkLogon & 0            & 1            & 2           \\\\\n",
       "\t User341813   & Comp948451   & Comp915658   & NetworkLogon & 0            & 1            & 2           \\\\\n",
       "\\end{tabular}\n"
      ],
      "text/markdown": [
       "\n",
       "| UserName | SrcDevice | DstDevice | Authent.Type | Failure | DailyCount | Cluster |\n",
       "|---|---|---|---|---|---|---|\n",
       "| User341813   | Comp948451   | Comp915658   | NetworkLogon | 0            | 1            | 2            |\n",
       "| User341813   | Comp948451   | Comp915658   | NetworkLogon | 0            | 1            | 2            |\n",
       "| User341813   | Comp948451   | Comp915658   | NetworkLogon | 0            | 1            | 2            |\n",
       "| User341813   | Comp948451   | Comp915658   | NetworkLogon | 0            | 1            | 2            |\n",
       "| User341813   | Comp948451   | Comp915658   | NetworkLogon | 0            | 1            | 2            |\n",
       "| User341813   | Comp948451   | Comp915658   | NetworkLogon | 0            | 1            | 2            |\n",
       "\n"
      ],
      "text/plain": [
       "  UserName   SrcDevice  DstDevice  Authent.Type Failure DailyCount Cluster\n",
       "1 User341813 Comp948451 Comp915658 NetworkLogon 0       1          2      \n",
       "2 User341813 Comp948451 Comp915658 NetworkLogon 0       1          2      \n",
       "3 User341813 Comp948451 Comp915658 NetworkLogon 0       1          2      \n",
       "4 User341813 Comp948451 Comp915658 NetworkLogon 0       1          2      \n",
       "5 User341813 Comp948451 Comp915658 NetworkLogon 0       1          2      \n",
       "6 User341813 Comp948451 Comp915658 NetworkLogon 0       1          2      "
      ]
     },
     "metadata": {},
     "output_type": "display_data"
    }
   ],
   "source": [
    "data <- cbind(df, Cluster = K$cluster)\n",
    "\n",
    "head(data)"
   ]
  },
  {
   "cell_type": "code",
   "execution_count": 23,
   "id": "5053050a",
   "metadata": {},
   "outputs": [
    {
     "data": {
      "text/html": [
       "<table>\n",
       "<thead><tr><th></th><th scope=col>UserName</th><th scope=col>SrcDevice</th><th scope=col>DstDevice</th><th scope=col>Authent.Type</th><th scope=col>Failure</th><th scope=col>DailyCount</th><th scope=col>Cluster</th></tr></thead>\n",
       "<tbody>\n",
       "\t<tr><th scope=row>13024</th><td>AppService         </td><td>EnterpriseAppServer</td><td>None               </td><td>InteractiveLogon   </td><td>1                  </td><td>17102              </td><td>3                  </td></tr>\n",
       "\t<tr><th scope=row>13117</th><td>AppService         </td><td>EnterpriseAppServer</td><td>None               </td><td>InteractiveLogon   </td><td>1                  </td><td>17112              </td><td>3                  </td></tr>\n",
       "\t<tr><th scope=row>13218</th><td>AppService         </td><td>EnterpriseAppServer</td><td>None               </td><td>InteractiveLogon   </td><td>1                  </td><td>17078              </td><td>3                  </td></tr>\n",
       "\t<tr><th scope=row>13219</th><td>AppService         </td><td>EnterpriseAppServer</td><td>None               </td><td>InteractiveLogon   </td><td>1                  </td><td>17078              </td><td>3                  </td></tr>\n",
       "\t<tr><th scope=row>13340</th><td>AppService         </td><td>EnterpriseAppServer</td><td>None               </td><td>InteractiveLogon   </td><td>1                  </td><td>17091              </td><td>3                  </td></tr>\n",
       "\t<tr><th scope=row>13395</th><td>AppService         </td><td>EnterpriseAppServer</td><td>None               </td><td>InteractiveLogon   </td><td>1                  </td><td>17092              </td><td>3                  </td></tr>\n",
       "\t<tr><th scope=row>13438</th><td>AppService         </td><td>EnterpriseAppServer</td><td>None               </td><td>InteractiveLogon   </td><td>1                  </td><td>17080              </td><td>3                  </td></tr>\n",
       "\t<tr><th scope=row>13663</th><td>AppService         </td><td>EnterpriseAppServer</td><td>None               </td><td>InteractiveLogon   </td><td>1                  </td><td>17104              </td><td>3                  </td></tr>\n",
       "</tbody>\n",
       "</table>\n"
      ],
      "text/latex": [
       "\\begin{tabular}{r|lllllll}\n",
       "  & UserName & SrcDevice & DstDevice & Authent.Type & Failure & DailyCount & Cluster\\\\\n",
       "\\hline\n",
       "\t13024 & AppService          & EnterpriseAppServer & None                & InteractiveLogon    & 1                   & 17102               & 3                  \\\\\n",
       "\t13117 & AppService          & EnterpriseAppServer & None                & InteractiveLogon    & 1                   & 17112               & 3                  \\\\\n",
       "\t13218 & AppService          & EnterpriseAppServer & None                & InteractiveLogon    & 1                   & 17078               & 3                  \\\\\n",
       "\t13219 & AppService          & EnterpriseAppServer & None                & InteractiveLogon    & 1                   & 17078               & 3                  \\\\\n",
       "\t13340 & AppService          & EnterpriseAppServer & None                & InteractiveLogon    & 1                   & 17091               & 3                  \\\\\n",
       "\t13395 & AppService          & EnterpriseAppServer & None                & InteractiveLogon    & 1                   & 17092               & 3                  \\\\\n",
       "\t13438 & AppService          & EnterpriseAppServer & None                & InteractiveLogon    & 1                   & 17080               & 3                  \\\\\n",
       "\t13663 & AppService          & EnterpriseAppServer & None                & InteractiveLogon    & 1                   & 17104               & 3                  \\\\\n",
       "\\end{tabular}\n"
      ],
      "text/markdown": [
       "\n",
       "| <!--/--> | UserName | SrcDevice | DstDevice | Authent.Type | Failure | DailyCount | Cluster |\n",
       "|---|---|---|---|---|---|---|---|\n",
       "| 13024 | AppService          | EnterpriseAppServer | None                | InteractiveLogon    | 1                   | 17102               | 3                   |\n",
       "| 13117 | AppService          | EnterpriseAppServer | None                | InteractiveLogon    | 1                   | 17112               | 3                   |\n",
       "| 13218 | AppService          | EnterpriseAppServer | None                | InteractiveLogon    | 1                   | 17078               | 3                   |\n",
       "| 13219 | AppService          | EnterpriseAppServer | None                | InteractiveLogon    | 1                   | 17078               | 3                   |\n",
       "| 13340 | AppService          | EnterpriseAppServer | None                | InteractiveLogon    | 1                   | 17091               | 3                   |\n",
       "| 13395 | AppService          | EnterpriseAppServer | None                | InteractiveLogon    | 1                   | 17092               | 3                   |\n",
       "| 13438 | AppService          | EnterpriseAppServer | None                | InteractiveLogon    | 1                   | 17080               | 3                   |\n",
       "| 13663 | AppService          | EnterpriseAppServer | None                | InteractiveLogon    | 1                   | 17104               | 3                   |\n",
       "\n"
      ],
      "text/plain": [
       "      UserName   SrcDevice           DstDevice Authent.Type     Failure\n",
       "13024 AppService EnterpriseAppServer None      InteractiveLogon 1      \n",
       "13117 AppService EnterpriseAppServer None      InteractiveLogon 1      \n",
       "13218 AppService EnterpriseAppServer None      InteractiveLogon 1      \n",
       "13219 AppService EnterpriseAppServer None      InteractiveLogon 1      \n",
       "13340 AppService EnterpriseAppServer None      InteractiveLogon 1      \n",
       "13395 AppService EnterpriseAppServer None      InteractiveLogon 1      \n",
       "13438 AppService EnterpriseAppServer None      InteractiveLogon 1      \n",
       "13663 AppService EnterpriseAppServer None      InteractiveLogon 1      \n",
       "      DailyCount Cluster\n",
       "13024 17102      3      \n",
       "13117 17112      3      \n",
       "13218 17078      3      \n",
       "13219 17078      3      \n",
       "13340 17091      3      \n",
       "13395 17092      3      \n",
       "13438 17080      3      \n",
       "13663 17104      3      "
      ]
     },
     "metadata": {},
     "output_type": "display_data"
    }
   ],
   "source": [
    "data[data$Cluster==3, ]"
   ]
  },
  {
   "cell_type": "code",
   "execution_count": 30,
   "id": "c79909f8",
   "metadata": {},
   "outputs": [
    {
     "data": {
      "image/png": "[encoded data removed]",
      "text/plain": [
       "plot without title"
      ]
     },
     "metadata": {},
     "output_type": "display_data"
    }
   ],
   "source": [
    "fviz_nbclust(Anom, FUNcluster=kmeans, method='silhouette') + labs(subtitle = \"Silhouette method\")\n",
    "                    ## Gap static and elbow methods were also attempted, with poor results or no results at all.\n",
    "                    ## Undocummented due to extensive computational length."
   ]
  },
  {
   "cell_type": "code",
   "execution_count": 31,
   "id": "c04717b8",
   "metadata": {},
   "outputs": [],
   "source": [
    "?kmeans"
   ]
  },
  {
   "cell_type": "code",
   "execution_count": 32,
   "id": "33eca4c2",
   "metadata": {},
   "outputs": [
    {
     "data": {
      "text/plain": [
       "\n",
       "   1    2    3    4    5 \n",
       "5003 4165 5051    8 6185 "
      ]
     },
     "metadata": {},
     "output_type": "display_data"
    },
    {
     "data": {
      "text/plain": [
       "\n",
       "   1    2    3    4    5 \n",
       "4165    8 5002 5072 6165 "
      ]
     },
     "metadata": {},
     "output_type": "display_data"
    }
   ],
   "source": [
    "set.seed(123)\n",
    "K2 <- kmeans(Anom, centers=5, nstart = 25, algorithm=\"Hartigan-Wong\", iter.max = 10^4)\n",
    "K3 <- kmeans(Anom, centers=5, nstart = 25, algorithm=\"MacQueen\", iter.max = 10^4)\n",
    "\n",
    "table(K2$cluster)\n",
    "table(K3$cluster)\n",
    "                ## Similar results to 'Lloyd'"
   ]
  },
  {
   "cell_type": "code",
   "execution_count": 38,
   "id": "e7a5c607",
   "metadata": {},
   "outputs": [],
   "source": [
    "set.seed(55)\n",
    "options(warn=-1)\n",
    "Km <- vector(len=50)\n",
    "for(i in 1:50) {\n",
    "    Km[i] <- kmeans(Anom, centers=5, nstart=i, algorithm=\"Lloyd\", iter.max=10^4)\n",
    "}"
   ]
  },
  {
   "cell_type": "code",
   "execution_count": 41,
   "id": "c160b846",
   "metadata": {},
   "outputs": [],
   "source": [
    "options(warn=1)"
   ]
  },
  {
   "cell_type": "code",
   "execution_count": 43,
   "id": "1c947904",
   "metadata": {},
   "outputs": [
    {
     "data": {
      "text/plain": [
       "\n",
       "   1    2    3    4    5 \n",
       "4176 5003 6174    8 5051 "
      ]
     },
     "metadata": {},
     "output_type": "display_data"
    },
    {
     "data": {
      "text/plain": [
       "\n",
       "   1    2    3    4    5 \n",
       "4233 4903    8 5562 5706 "
      ]
     },
     "metadata": {},
     "output_type": "display_data"
    },
    {
     "data": {
      "text/plain": [
       "\n",
       "   1    2    3    4    5 \n",
       "   8 4165 5003 6185 5051 "
      ]
     },
     "metadata": {},
     "output_type": "display_data"
    }
   ],
   "source": [
    "table(Km[50])\n",
    "table(Km[1])\n",
    "table(Km[25])"
   ]
  },
  {
   "cell_type": "code",
   "execution_count": null,
   "id": "7bc58985",
   "metadata": {},
   "outputs": [],
   "source": []
  }
 ],
 "metadata": {
  "kernelspec": {
   "display_name": "R",
   "language": "R",
   "name": "ir"
  },
  "language_info": {
   "codemirror_mode": "r",
   "file_extension": ".r",
   "mimetype": "text/x-r-source",
   "name": "R",
   "pygments_lexer": "r",
   "version": "3.6.1"
  }
 },
 "nbformat": 4,
 "nbformat_minor": 5
}
