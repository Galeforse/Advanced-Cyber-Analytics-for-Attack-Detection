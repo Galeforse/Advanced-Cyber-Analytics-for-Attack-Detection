{
 "cells": [
  {
   "cell_type": "code",
   "execution_count": 25,
   "id": "f9e0644e",
   "metadata": {},
   "outputs": [],
   "source": [
    "# install.packages(c(\"factoextra\", \"ggpubr\", \"dplyr\", \"qqman\", \"svMisc\", \"qlcMatrix\"))\n",
    "library(qlcMatrix)\n",
    "library(ggpubr)\n",
    "library(factoextra)\n",
    "library(dplyr)\n",
    "library(qqman)\n",
    "library(svMisc)"
   ]
  },
  {
   "cell_type": "code",
   "execution_count": 2,
   "id": "dc5231a1",
   "metadata": {},
   "outputs": [
    {
     "data": {
      "text/html": [
       "<table>\n",
       "<thead><tr><th scope=col>UserName</th><th scope=col>SrcDevice</th><th scope=col>DstDevice</th><th scope=col>Authent.Type</th><th scope=col>Failure</th><th scope=col>DailyCount</th></tr></thead>\n",
       "<tbody>\n",
       "\t<tr><td>User341813  </td><td>Comp948451  </td><td>Comp915658  </td><td>NetworkLogon</td><td>0           </td><td>1           </td></tr>\n",
       "\t<tr><td>User341813  </td><td>Comp948451  </td><td>Comp915658  </td><td>NetworkLogon</td><td>0           </td><td>1           </td></tr>\n",
       "\t<tr><td>User341813  </td><td>Comp948451  </td><td>Comp915658  </td><td>NetworkLogon</td><td>0           </td><td>1           </td></tr>\n",
       "\t<tr><td>User341813  </td><td>Comp948451  </td><td>Comp915658  </td><td>NetworkLogon</td><td>0           </td><td>1           </td></tr>\n",
       "\t<tr><td>User341813  </td><td>Comp948451  </td><td>Comp915658  </td><td>NetworkLogon</td><td>0           </td><td>1           </td></tr>\n",
       "\t<tr><td>User341813  </td><td>Comp948451  </td><td>Comp915658  </td><td>NetworkLogon</td><td>0           </td><td>1           </td></tr>\n",
       "\t<tr><td>User341813  </td><td>Comp948451  </td><td>Comp915658  </td><td>NetworkLogon</td><td>0           </td><td>1           </td></tr>\n",
       "\t<tr><td>User341813  </td><td>Comp948451  </td><td>Comp915658  </td><td>NetworkLogon</td><td>0           </td><td>1           </td></tr>\n",
       "\t<tr><td>User341813  </td><td>Comp948451  </td><td>Comp004340  </td><td>TGS         </td><td>0           </td><td>1           </td></tr>\n",
       "\t<tr><td>User341813  </td><td>Comp948451  </td><td>Comp004340  </td><td>TGS         </td><td>0           </td><td>1           </td></tr>\n",
       "</tbody>\n",
       "</table>\n"
      ],
      "text/latex": [
       "\\begin{tabular}{r|llllll}\n",
       " UserName & SrcDevice & DstDevice & Authent.Type & Failure & DailyCount\\\\\n",
       "\\hline\n",
       "\t User341813   & Comp948451   & Comp915658   & NetworkLogon & 0            & 1           \\\\\n",
       "\t User341813   & Comp948451   & Comp915658   & NetworkLogon & 0            & 1           \\\\\n",
       "\t User341813   & Comp948451   & Comp915658   & NetworkLogon & 0            & 1           \\\\\n",
       "\t User341813   & Comp948451   & Comp915658   & NetworkLogon & 0            & 1           \\\\\n",
       "\t User341813   & Comp948451   & Comp915658   & NetworkLogon & 0            & 1           \\\\\n",
       "\t User341813   & Comp948451   & Comp915658   & NetworkLogon & 0            & 1           \\\\\n",
       "\t User341813   & Comp948451   & Comp915658   & NetworkLogon & 0            & 1           \\\\\n",
       "\t User341813   & Comp948451   & Comp915658   & NetworkLogon & 0            & 1           \\\\\n",
       "\t User341813   & Comp948451   & Comp004340   & TGS          & 0            & 1           \\\\\n",
       "\t User341813   & Comp948451   & Comp004340   & TGS          & 0            & 1           \\\\\n",
       "\\end{tabular}\n"
      ],
      "text/markdown": [
       "\n",
       "| UserName | SrcDevice | DstDevice | Authent.Type | Failure | DailyCount |\n",
       "|---|---|---|---|---|---|\n",
       "| User341813   | Comp948451   | Comp915658   | NetworkLogon | 0            | 1            |\n",
       "| User341813   | Comp948451   | Comp915658   | NetworkLogon | 0            | 1            |\n",
       "| User341813   | Comp948451   | Comp915658   | NetworkLogon | 0            | 1            |\n",
       "| User341813   | Comp948451   | Comp915658   | NetworkLogon | 0            | 1            |\n",
       "| User341813   | Comp948451   | Comp915658   | NetworkLogon | 0            | 1            |\n",
       "| User341813   | Comp948451   | Comp915658   | NetworkLogon | 0            | 1            |\n",
       "| User341813   | Comp948451   | Comp915658   | NetworkLogon | 0            | 1            |\n",
       "| User341813   | Comp948451   | Comp915658   | NetworkLogon | 0            | 1            |\n",
       "| User341813   | Comp948451   | Comp004340   | TGS          | 0            | 1            |\n",
       "| User341813   | Comp948451   | Comp004340   | TGS          | 0            | 1            |\n",
       "\n"
      ],
      "text/plain": [
       "   UserName   SrcDevice  DstDevice  Authent.Type Failure DailyCount\n",
       "1  User341813 Comp948451 Comp915658 NetworkLogon 0       1         \n",
       "2  User341813 Comp948451 Comp915658 NetworkLogon 0       1         \n",
       "3  User341813 Comp948451 Comp915658 NetworkLogon 0       1         \n",
       "4  User341813 Comp948451 Comp915658 NetworkLogon 0       1         \n",
       "5  User341813 Comp948451 Comp915658 NetworkLogon 0       1         \n",
       "6  User341813 Comp948451 Comp915658 NetworkLogon 0       1         \n",
       "7  User341813 Comp948451 Comp915658 NetworkLogon 0       1         \n",
       "8  User341813 Comp948451 Comp915658 NetworkLogon 0       1         \n",
       "9  User341813 Comp948451 Comp004340 TGS          0       1         \n",
       "10 User341813 Comp948451 Comp004340 TGS          0       1         "
      ]
     },
     "metadata": {},
     "output_type": "display_data"
    },
    {
     "data": {
      "text/html": [
       "<ol class=list-inline>\n",
       "\t<li>20412</li>\n",
       "\t<li>6</li>\n",
       "</ol>\n"
      ],
      "text/latex": [
       "\\begin{enumerate*}\n",
       "\\item 20412\n",
       "\\item 6\n",
       "\\end{enumerate*}\n"
      ],
      "text/markdown": [
       "1. 20412\n",
       "2. 6\n",
       "\n",
       "\n"
      ],
      "text/plain": [
       "[1] 20412     6"
      ]
     },
     "metadata": {},
     "output_type": "display_data"
    },
    {
     "name": "stdout",
     "output_type": "stream",
     "text": [
      "'data.frame':\t20412 obs. of  6 variables:\n",
      " $ UserName    : Factor w/ 81 levels \"Administrator\",..: 30 30 30 30 30 30 30 30 30 30 ...\n",
      " $ SrcDevice   : Factor w/ 489 levels \"ActiveDirectory\",..: 460 460 460 460 460 460 460 460 460 460 ...\n",
      " $ DstDevice   : Factor w/ 288 levels \"ActiveDirectory\",..: 258 258 258 258 258 258 258 258 2 2 ...\n",
      " $ Authent.Type: Factor w/ 12 levels \"Batch\",\"CachedInteractive\",..: 4 4 4 4 4 4 4 4 9 9 ...\n",
      " $ Failure     : int  0 0 0 0 0 0 0 0 0 0 ...\n",
      " $ DailyCount  : num  1 1 1 1 1 1 1 1 1 1 ...\n"
     ]
    }
   ],
   "source": [
    "setwd(\"D://LA//ATI Data\")\n",
    "df <- read.table(file=\"Anomalies.txt\", header=T, sep=\",\")\n",
    "df<- df[,-1]\n",
    "\n",
    "head(df, 10)\n",
    "dim(df)\n",
    "str(df)"
   ]
  },
  {
   "cell_type": "code",
   "execution_count": 3,
   "id": "0457d4f5",
   "metadata": {},
   "outputs": [
    {
     "name": "stdout",
     "output_type": "stream",
     "text": [
      "'data.frame':\t20412 obs. of  6 variables:\n",
      " $ UserName    : chr  \"User341813\" \"User341813\" \"User341813\" \"User341813\" ...\n",
      " $ SrcDevice   : chr  \"Comp948451\" \"Comp948451\" \"Comp948451\" \"Comp948451\" ...\n",
      " $ DstDevice   : chr  \"Comp915658\" \"Comp915658\" \"Comp915658\" \"Comp915658\" ...\n",
      " $ Authent.Type: chr  \"NetworkLogon\" \"NetworkLogon\" \"NetworkLogon\" \"NetworkLogon\" ...\n",
      " $ Failure     : int  0 0 0 0 0 0 0 0 0 0 ...\n",
      " $ DailyCount  : num  1 1 1 1 1 1 1 1 1 1 ...\n"
     ]
    }
   ],
   "source": [
    "df %>% mutate(across(where(is.factor), as.character)) -> df\n",
    "\n",
    "str(df)"
   ]
  },
  {
   "cell_type": "code",
   "execution_count": 4,
   "id": "310da583",
   "metadata": {},
   "outputs": [
    {
     "data": {
      "text/html": [
       "<table>\n",
       "<thead><tr><th scope=col>t1</th><th scope=col>t2</th><th scope=col>t3</th><th scope=col>t4</th><th scope=col>t5</th><th scope=col>t6</th></tr></thead>\n",
       "<tbody>\n",
       "\t<tr><td>30 </td><td>460</td><td>258</td><td>4  </td><td>0  </td><td>1  </td></tr>\n",
       "\t<tr><td>30 </td><td>460</td><td>258</td><td>4  </td><td>0  </td><td>1  </td></tr>\n",
       "\t<tr><td>30 </td><td>460</td><td>258</td><td>4  </td><td>0  </td><td>1  </td></tr>\n",
       "\t<tr><td>30 </td><td>460</td><td>258</td><td>4  </td><td>0  </td><td>1  </td></tr>\n",
       "\t<tr><td>30 </td><td>460</td><td>258</td><td>4  </td><td>0  </td><td>1  </td></tr>\n",
       "\t<tr><td>30 </td><td>460</td><td>258</td><td>4  </td><td>0  </td><td>1  </td></tr>\n",
       "</tbody>\n",
       "</table>\n"
      ],
      "text/latex": [
       "\\begin{tabular}{llllll}\n",
       " t1 & t2 & t3 & t4 & t5 & t6\\\\\n",
       "\\hline\n",
       "\t 30  & 460 & 258 & 4   & 0   & 1  \\\\\n",
       "\t 30  & 460 & 258 & 4   & 0   & 1  \\\\\n",
       "\t 30  & 460 & 258 & 4   & 0   & 1  \\\\\n",
       "\t 30  & 460 & 258 & 4   & 0   & 1  \\\\\n",
       "\t 30  & 460 & 258 & 4   & 0   & 1  \\\\\n",
       "\t 30  & 460 & 258 & 4   & 0   & 1  \\\\\n",
       "\\end{tabular}\n"
      ],
      "text/markdown": [
       "\n",
       "| t1 | t2 | t3 | t4 | t5 | t6 |\n",
       "|---|---|---|---|---|---|\n",
       "| 30  | 460 | 258 | 4   | 0   | 1   |\n",
       "| 30  | 460 | 258 | 4   | 0   | 1   |\n",
       "| 30  | 460 | 258 | 4   | 0   | 1   |\n",
       "| 30  | 460 | 258 | 4   | 0   | 1   |\n",
       "| 30  | 460 | 258 | 4   | 0   | 1   |\n",
       "| 30  | 460 | 258 | 4   | 0   | 1   |\n",
       "\n"
      ],
      "text/plain": [
       "     t1 t2  t3  t4 t5 t6\n",
       "[1,] 30 460 258 4  0  1 \n",
       "[2,] 30 460 258 4  0  1 \n",
       "[3,] 30 460 258 4  0  1 \n",
       "[4,] 30 460 258 4  0  1 \n",
       "[5,] 30 460 258 4  0  1 \n",
       "[6,] 30 460 258 4  0  1 "
      ]
     },
     "metadata": {},
     "output_type": "display_data"
    }
   ],
   "source": [
    "t1<- tapply(df[,1], df[,1])\n",
    "t2<- tapply(df[,2], df[,2])\n",
    "t3<- tapply(df[,3], df[,3])\n",
    "t4<- tapply(df[,4], df[,4])\n",
    "\n",
    "Anom <- cbind(t1,t2,t3,t4, t5=df$Failure, t6=df$DailyCount)\n",
    "\n",
    "head(Anom)"
   ]
  },
  {
   "cell_type": "code",
   "execution_count": 5,
   "id": "a4455d90",
   "metadata": {},
   "outputs": [],
   "source": [
    "set.seed(123)\n",
    "K <- kmeans(Anom, centers=5, nstart = 25, algorithm=\"Lloyd\", iter.max = 10^4)"
   ]
  },
  {
   "cell_type": "code",
   "execution_count": 6,
   "id": "02597428",
   "metadata": {},
   "outputs": [
    {
     "data": {
      "image/png": "[encoded data removed]",
      "text/plain": [
       "plot without title"
      ]
     },
     "metadata": {},
     "output_type": "display_data"
    }
   ],
   "source": [
    "fviz_cluster(K, data = Anom, geom = \"point\",\n",
    "             ellipse.type = \"convex\", \n",
    "             ggtheme = theme_bw()\n",
    "             )"
   ]
  },
  {
   "cell_type": "code",
   "execution_count": 7,
   "id": "b562c651",
   "metadata": {},
   "outputs": [
    {
     "data": {
      "text/plain": [
       "\n",
       "   1    2    3    4    5 \n",
       "5076 6160    8 4938 4230 "
      ]
     },
     "metadata": {},
     "output_type": "display_data"
    }
   ],
   "source": [
    "table(K$cluster)"
   ]
  },
  {
   "cell_type": "code",
   "execution_count": 8,
   "id": "33522e85",
   "metadata": {},
   "outputs": [
    {
     "data": {
      "text/html": [
       "<table>\n",
       "<thead><tr><th scope=col>UserName</th><th scope=col>SrcDevice</th><th scope=col>DstDevice</th><th scope=col>Authent.Type</th><th scope=col>Failure</th><th scope=col>DailyCount</th><th scope=col>Cluster</th></tr></thead>\n",
       "<tbody>\n",
       "\t<tr><td>User341813  </td><td>Comp948451  </td><td>Comp915658  </td><td>NetworkLogon</td><td>0           </td><td>1           </td><td>2           </td></tr>\n",
       "\t<tr><td>User341813  </td><td>Comp948451  </td><td>Comp915658  </td><td>NetworkLogon</td><td>0           </td><td>1           </td><td>2           </td></tr>\n",
       "\t<tr><td>User341813  </td><td>Comp948451  </td><td>Comp915658  </td><td>NetworkLogon</td><td>0           </td><td>1           </td><td>2           </td></tr>\n",
       "\t<tr><td>User341813  </td><td>Comp948451  </td><td>Comp915658  </td><td>NetworkLogon</td><td>0           </td><td>1           </td><td>2           </td></tr>\n",
       "\t<tr><td>User341813  </td><td>Comp948451  </td><td>Comp915658  </td><td>NetworkLogon</td><td>0           </td><td>1           </td><td>2           </td></tr>\n",
       "\t<tr><td>User341813  </td><td>Comp948451  </td><td>Comp915658  </td><td>NetworkLogon</td><td>0           </td><td>1           </td><td>2           </td></tr>\n",
       "</tbody>\n",
       "</table>\n"
      ],
      "text/latex": [
       "\\begin{tabular}{r|lllllll}\n",
       " UserName & SrcDevice & DstDevice & Authent.Type & Failure & DailyCount & Cluster\\\\\n",
       "\\hline\n",
       "\t User341813   & Comp948451   & Comp915658   & NetworkLogon & 0            & 1            & 2           \\\\\n",
       "\t User341813   & Comp948451   & Comp915658   & NetworkLogon & 0            & 1            & 2           \\\\\n",
       "\t User341813   & Comp948451   & Comp915658   & NetworkLogon & 0            & 1            & 2           \\\\\n",
       "\t User341813   & Comp948451   & Comp915658   & NetworkLogon & 0            & 1            & 2           \\\\\n",
       "\t User341813   & Comp948451   & Comp915658   & NetworkLogon & 0            & 1            & 2           \\\\\n",
       "\t User341813   & Comp948451   & Comp915658   & NetworkLogon & 0            & 1            & 2           \\\\\n",
       "\\end{tabular}\n"
      ],
      "text/markdown": [
       "\n",
       "| UserName | SrcDevice | DstDevice | Authent.Type | Failure | DailyCount | Cluster |\n",
       "|---|---|---|---|---|---|---|\n",
       "| User341813   | Comp948451   | Comp915658   | NetworkLogon | 0            | 1            | 2            |\n",
       "| User341813   | Comp948451   | Comp915658   | NetworkLogon | 0            | 1            | 2            |\n",
       "| User341813   | Comp948451   | Comp915658   | NetworkLogon | 0            | 1            | 2            |\n",
       "| User341813   | Comp948451   | Comp915658   | NetworkLogon | 0            | 1            | 2            |\n",
       "| User341813   | Comp948451   | Comp915658   | NetworkLogon | 0            | 1            | 2            |\n",
       "| User341813   | Comp948451   | Comp915658   | NetworkLogon | 0            | 1            | 2            |\n",
       "\n"
      ],
      "text/plain": [
       "  UserName   SrcDevice  DstDevice  Authent.Type Failure DailyCount Cluster\n",
       "1 User341813 Comp948451 Comp915658 NetworkLogon 0       1          2      \n",
       "2 User341813 Comp948451 Comp915658 NetworkLogon 0       1          2      \n",
       "3 User341813 Comp948451 Comp915658 NetworkLogon 0       1          2      \n",
       "4 User341813 Comp948451 Comp915658 NetworkLogon 0       1          2      \n",
       "5 User341813 Comp948451 Comp915658 NetworkLogon 0       1          2      \n",
       "6 User341813 Comp948451 Comp915658 NetworkLogon 0       1          2      "
      ]
     },
     "metadata": {},
     "output_type": "display_data"
    }
   ],
   "source": [
    "data <- cbind(df, Cluster = K$cluster)\n",
    "\n",
    "head(data)"
   ]
  },
  {
   "cell_type": "code",
   "execution_count": 9,
   "id": "5053050a",
   "metadata": {},
   "outputs": [
    {
     "data": {
      "text/html": [
       "<table>\n",
       "<thead><tr><th></th><th scope=col>UserName</th><th scope=col>SrcDevice</th><th scope=col>DstDevice</th><th scope=col>Authent.Type</th><th scope=col>Failure</th><th scope=col>DailyCount</th><th scope=col>Cluster</th></tr></thead>\n",
       "<tbody>\n",
       "\t<tr><th scope=row>13024</th><td>AppService         </td><td>EnterpriseAppServer</td><td>None               </td><td>InteractiveLogon   </td><td>1                  </td><td>17102              </td><td>3                  </td></tr>\n",
       "\t<tr><th scope=row>13117</th><td>AppService         </td><td>EnterpriseAppServer</td><td>None               </td><td>InteractiveLogon   </td><td>1                  </td><td>17112              </td><td>3                  </td></tr>\n",
       "\t<tr><th scope=row>13218</th><td>AppService         </td><td>EnterpriseAppServer</td><td>None               </td><td>InteractiveLogon   </td><td>1                  </td><td>17078              </td><td>3                  </td></tr>\n",
       "\t<tr><th scope=row>13219</th><td>AppService         </td><td>EnterpriseAppServer</td><td>None               </td><td>InteractiveLogon   </td><td>1                  </td><td>17078              </td><td>3                  </td></tr>\n",
       "\t<tr><th scope=row>13340</th><td>AppService         </td><td>EnterpriseAppServer</td><td>None               </td><td>InteractiveLogon   </td><td>1                  </td><td>17091              </td><td>3                  </td></tr>\n",
       "\t<tr><th scope=row>13395</th><td>AppService         </td><td>EnterpriseAppServer</td><td>None               </td><td>InteractiveLogon   </td><td>1                  </td><td>17092              </td><td>3                  </td></tr>\n",
       "\t<tr><th scope=row>13438</th><td>AppService         </td><td>EnterpriseAppServer</td><td>None               </td><td>InteractiveLogon   </td><td>1                  </td><td>17080              </td><td>3                  </td></tr>\n",
       "\t<tr><th scope=row>13663</th><td>AppService         </td><td>EnterpriseAppServer</td><td>None               </td><td>InteractiveLogon   </td><td>1                  </td><td>17104              </td><td>3                  </td></tr>\n",
       "</tbody>\n",
       "</table>\n"
      ],
      "text/latex": [
       "\\begin{tabular}{r|lllllll}\n",
       "  & UserName & SrcDevice & DstDevice & Authent.Type & Failure & DailyCount & Cluster\\\\\n",
       "\\hline\n",
       "\t13024 & AppService          & EnterpriseAppServer & None                & InteractiveLogon    & 1                   & 17102               & 3                  \\\\\n",
       "\t13117 & AppService          & EnterpriseAppServer & None                & InteractiveLogon    & 1                   & 17112               & 3                  \\\\\n",
       "\t13218 & AppService          & EnterpriseAppServer & None                & InteractiveLogon    & 1                   & 17078               & 3                  \\\\\n",
       "\t13219 & AppService          & EnterpriseAppServer & None                & InteractiveLogon    & 1                   & 17078               & 3                  \\\\\n",
       "\t13340 & AppService          & EnterpriseAppServer & None                & InteractiveLogon    & 1                   & 17091               & 3                  \\\\\n",
       "\t13395 & AppService          & EnterpriseAppServer & None                & InteractiveLogon    & 1                   & 17092               & 3                  \\\\\n",
       "\t13438 & AppService          & EnterpriseAppServer & None                & InteractiveLogon    & 1                   & 17080               & 3                  \\\\\n",
       "\t13663 & AppService          & EnterpriseAppServer & None                & InteractiveLogon    & 1                   & 17104               & 3                  \\\\\n",
       "\\end{tabular}\n"
      ],
      "text/markdown": [
       "\n",
       "| <!--/--> | UserName | SrcDevice | DstDevice | Authent.Type | Failure | DailyCount | Cluster |\n",
       "|---|---|---|---|---|---|---|---|\n",
       "| 13024 | AppService          | EnterpriseAppServer | None                | InteractiveLogon    | 1                   | 17102               | 3                   |\n",
       "| 13117 | AppService          | EnterpriseAppServer | None                | InteractiveLogon    | 1                   | 17112               | 3                   |\n",
       "| 13218 | AppService          | EnterpriseAppServer | None                | InteractiveLogon    | 1                   | 17078               | 3                   |\n",
       "| 13219 | AppService          | EnterpriseAppServer | None                | InteractiveLogon    | 1                   | 17078               | 3                   |\n",
       "| 13340 | AppService          | EnterpriseAppServer | None                | InteractiveLogon    | 1                   | 17091               | 3                   |\n",
       "| 13395 | AppService          | EnterpriseAppServer | None                | InteractiveLogon    | 1                   | 17092               | 3                   |\n",
       "| 13438 | AppService          | EnterpriseAppServer | None                | InteractiveLogon    | 1                   | 17080               | 3                   |\n",
       "| 13663 | AppService          | EnterpriseAppServer | None                | InteractiveLogon    | 1                   | 17104               | 3                   |\n",
       "\n"
      ],
      "text/plain": [
       "      UserName   SrcDevice           DstDevice Authent.Type     Failure\n",
       "13024 AppService EnterpriseAppServer None      InteractiveLogon 1      \n",
       "13117 AppService EnterpriseAppServer None      InteractiveLogon 1      \n",
       "13218 AppService EnterpriseAppServer None      InteractiveLogon 1      \n",
       "13219 AppService EnterpriseAppServer None      InteractiveLogon 1      \n",
       "13340 AppService EnterpriseAppServer None      InteractiveLogon 1      \n",
       "13395 AppService EnterpriseAppServer None      InteractiveLogon 1      \n",
       "13438 AppService EnterpriseAppServer None      InteractiveLogon 1      \n",
       "13663 AppService EnterpriseAppServer None      InteractiveLogon 1      \n",
       "      DailyCount Cluster\n",
       "13024 17102      3      \n",
       "13117 17112      3      \n",
       "13218 17078      3      \n",
       "13219 17078      3      \n",
       "13340 17091      3      \n",
       "13395 17092      3      \n",
       "13438 17080      3      \n",
       "13663 17104      3      "
      ]
     },
     "metadata": {},
     "output_type": "display_data"
    }
   ],
   "source": [
    "data[data$Cluster==3, ]"
   ]
  },
  {
   "cell_type": "code",
   "execution_count": 10,
   "id": "c79909f8",
   "metadata": {},
   "outputs": [
    {
     "data": {
      "image/png": "[encoded data removed]",
      "text/plain": [
       "plot without title"
      ]
     },
     "metadata": {},
     "output_type": "display_data"
    }
   ],
   "source": [
    "fviz_nbclust(Anom, FUNcluster=kmeans, method='silhouette') + labs(subtitle = \"Silhouette method\")\n",
    "                    ## Gap static and elbow methods were also attempted, with poor results or no results at all.\n",
    "                    ## Undocummented due to extensive computational length."
   ]
  },
  {
   "cell_type": "code",
   "execution_count": 11,
   "id": "33eca4c2",
   "metadata": {},
   "outputs": [
    {
     "data": {
      "text/plain": [
       "\n",
       "   1    2    3    4    5 \n",
       "5003 4165 5051    8 6185 "
      ]
     },
     "metadata": {},
     "output_type": "display_data"
    },
    {
     "data": {
      "text/plain": [
       "\n",
       "   1    2    3    4    5 \n",
       "4165    8 5002 5072 6165 "
      ]
     },
     "metadata": {},
     "output_type": "display_data"
    }
   ],
   "source": [
    "set.seed(123)\n",
    "K2 <- kmeans(Anom, centers=5, nstart = 25, algorithm=\"Hartigan-Wong\", iter.max = 10^4)\n",
    "K3 <- kmeans(Anom, centers=5, nstart = 25, algorithm=\"MacQueen\", iter.max = 10^4)\n",
    "\n",
    "table(K2$cluster)\n",
    "table(K3$cluster)\n",
    "                ## Similar results to 'Lloyd'"
   ]
  },
  {
   "cell_type": "code",
   "execution_count": 23,
   "id": "e7a5c607",
   "metadata": {},
   "outputs": [],
   "source": [
    "set.seed(55)\n",
    "options(warn=-1)\n",
    "Km <- vector(len=50)\n",
    "for(i in 1:50) {\n",
    "    Km[i] <- kmeans(Anom, centers=5, nstart=i, algorithm=\"Lloyd\", iter.max=10^4)\n",
    "}"
   ]
  },
  {
   "cell_type": "code",
   "execution_count": 24,
   "id": "c160b846",
   "metadata": {},
   "outputs": [],
   "source": [
    "options(warn=1)"
   ]
  },
  {
   "cell_type": "code",
   "execution_count": 25,
   "id": "1c947904",
   "metadata": {},
   "outputs": [
    {
     "data": {
      "text/plain": [
       "\n",
       "   1    2    3    4    5 \n",
       "4176 5051    8 6174 5003 "
      ]
     },
     "metadata": {},
     "output_type": "display_data"
    },
    {
     "data": {
      "text/plain": [
       "\n",
       "   1    2    3    4    5 \n",
       "2835 4814 3727 4243 4793 "
      ]
     },
     "metadata": {},
     "output_type": "display_data"
    },
    {
     "data": {
      "text/plain": [
       "\n",
       "   1    2    3    4    5 \n",
       "6174    8 5051 4176 5003 "
      ]
     },
     "metadata": {},
     "output_type": "display_data"
    }
   ],
   "source": [
    "table(Km[50])\n",
    "table(Km[1])\n",
    "table(Km[25])"
   ]
  },
  {
   "cell_type": "code",
   "execution_count": 50,
   "id": "7bc58985",
   "metadata": {},
   "outputs": [],
   "source": [
    "t1<- vector(len=50)\n",
    "t2<- vector(len=50)\n",
    "t3<- vector(len=50)\n",
    "t4<- vector(len=50)\n",
    "t5<- vector(len=50)\n",
    "for(i in 1:50) {\n",
    "    t1[i] <- as.vector(table(Km[i]))[1]\n",
    "    t2[i] <- as.vector(table(Km[i]))[2]\n",
    "    t3[i] <- as.vector(table(Km[i]))[3]\n",
    "    t4[i] <- as.vector(table(Km[i]))[4]\n",
    "    t5[i] <- as.vector(table(Km[i]))[5]\n",
    "}\n",
    "\n",
    "t1<- t1[order(t1, decreasing=FALSE)]\n",
    "t2<- t2[order(t2, decreasing=FALSE)]\n",
    "t3<- t3[order(t3, decreasing=FALSE)]\n",
    "t4<- t4[order(t4, decreasing=FALSE)]\n",
    "t5<- t5[order(t5, decreasing=FALSE)]\n",
    "\n",
    "s1<- scale(t1)\n",
    "s2<- scale(t2)\n",
    "s3<- scale(t3)\n",
    "s4<- scale(t4)\n",
    "s5<- scale(t5)"
   ]
  },
  {
   "cell_type": "code",
   "execution_count": 53,
   "id": "d336fda7",
   "metadata": {},
   "outputs": [],
   "source": [
    "manhattan_dist <- function(a, b){\n",
    "     dist <- abs(a-b)\n",
    "     dist <- sum(dist)\n",
    "     return(dist)\n",
    "}"
   ]
  },
  {
   "cell_type": "code",
   "execution_count": 56,
   "id": "2f922052",
   "metadata": {},
   "outputs": [
    {
     "data": {
      "text/html": [
       "22.1865854239351"
      ],
      "text/latex": [
       "22.1865854239351"
      ],
      "text/markdown": [
       "22.1865854239351"
      ],
      "text/plain": [
       "[1] 22.18659"
      ]
     },
     "metadata": {},
     "output_type": "display_data"
    },
    {
     "data": {
      "text/html": [
       "22.0776882431162"
      ],
      "text/latex": [
       "22.0776882431162"
      ],
      "text/markdown": [
       "22.0776882431162"
      ],
      "text/plain": [
       "[1] 22.07769"
      ]
     },
     "metadata": {},
     "output_type": "display_data"
    },
    {
     "data": {
      "text/html": [
       "25.1381842375239"
      ],
      "text/latex": [
       "25.1381842375239"
      ],
      "text/markdown": [
       "25.1381842375239"
      ],
      "text/plain": [
       "[1] 25.13818"
      ]
     },
     "metadata": {},
     "output_type": "display_data"
    },
    {
     "data": {
      "text/html": [
       "17.9979685860642"
      ],
      "text/latex": [
       "17.9979685860642"
      ],
      "text/markdown": [
       "17.9979685860642"
      ],
      "text/plain": [
       "[1] 17.99797"
      ]
     },
     "metadata": {},
     "output_type": "display_data"
    },
    {
     "name": "stdout",
     "output_type": "stream",
     "text": [
      "\n"
     ]
    },
    {
     "data": {
      "text/html": [
       "5.80843585499567"
      ],
      "text/latex": [
       "5.80843585499567"
      ],
      "text/markdown": [
       "5.80843585499567"
      ],
      "text/plain": [
       "[1] 5.808436"
      ]
     },
     "metadata": {},
     "output_type": "display_data"
    },
    {
     "data": {
      "text/html": [
       "6.60847343910569"
      ],
      "text/latex": [
       "6.60847343910569"
      ],
      "text/markdown": [
       "6.60847343910569"
      ],
      "text/plain": [
       "[1] 6.608473"
      ]
     },
     "metadata": {},
     "output_type": "display_data"
    },
    {
     "data": {
      "text/html": [
       "13.9567179883742"
      ],
      "text/latex": [
       "13.9567179883742"
      ],
      "text/markdown": [
       "13.9567179883742"
      ],
      "text/plain": [
       "[1] 13.95672"
      ]
     },
     "metadata": {},
     "output_type": "display_data"
    },
    {
     "name": "stdout",
     "output_type": "stream",
     "text": [
      "\n"
     ]
    },
    {
     "data": {
      "text/html": [
       "9.62185003236696"
      ],
      "text/latex": [
       "9.62185003236696"
      ],
      "text/markdown": [
       "9.62185003236696"
      ],
      "text/plain": [
       "[1] 9.62185"
      ]
     },
     "metadata": {},
     "output_type": "display_data"
    },
    {
     "data": {
      "text/html": [
       "11.7332147121662"
      ],
      "text/latex": [
       "11.7332147121662"
      ],
      "text/markdown": [
       "11.7332147121662"
      ],
      "text/plain": [
       "[1] 11.73321"
      ]
     },
     "metadata": {},
     "output_type": "display_data"
    },
    {
     "name": "stdout",
     "output_type": "stream",
     "text": [
      "\n"
     ]
    },
    {
     "data": {
      "text/html": [
       "17.0101762430085"
      ],
      "text/latex": [
       "17.0101762430085"
      ],
      "text/markdown": [
       "17.0101762430085"
      ],
      "text/plain": [
       "[1] 17.01018"
      ]
     },
     "metadata": {},
     "output_type": "display_data"
    }
   ],
   "source": [
    "manhattan_dist(s1, s2)\n",
    "manhattan_dist(s1, s3)\n",
    "manhattan_dist(s1, s4)\n",
    "manhattan_dist(s1, s5)\n",
    "cat(\"\\n\")\n",
    "manhattan_dist(s2, s3)\n",
    "manhattan_dist(s2, s4)\n",
    "manhattan_dist(s2, s5)\n",
    "cat(\"\\n\")\n",
    "manhattan_dist(s3, s4)\n",
    "manhattan_dist(s3, s5)\n",
    "cat(\"\\n\")\n",
    "manhattan_dist(s4, s5)"
   ]
  },
  {
   "cell_type": "markdown",
   "id": "6aa82831",
   "metadata": {},
   "source": [
    "#### Setting up each of the 5 stages' properties\n",
    "\n",
    "_Idea: All events start with a score of 0 to belong to StageN, N from 1 to 5. They get assigned +0.25, +0.5, +1 or +2 based on certain properties. This happens for all 5 stages, at which point they get shifted by a +5% of the total for each event (to avoid probabilities of 0) and numbers get transformed to probabilities (0 to 1). These 5 become features for clustering afterwards._"
   ]
  },
  {
   "cell_type": "code",
   "execution_count": 89,
   "id": "c2b59cd3",
   "metadata": {},
   "outputs": [],
   "source": [
    "DecisionScoring <- function(df=df) {\n",
    "\n",
    "Reconnaissance <- as.vector(rep(0, times=nrow(df)))\n",
    "Delivery <- Reconnaissance\n",
    "LateralMovement <- Delivery\n",
    "PrivilegeEscalation <- LateralMovement\n",
    "Exfiltration <- PrivilegeEscalation\n",
    "\n",
    "for(i in 1:nrow(df)) {\n",
    "    \n",
    "    \n",
    "    User <- df[i,]$UserName\n",
    "    Src <- df[i,]$SrcDevice\n",
    "    Dst <- df[i,]$DstDevice\n",
    "    AT <- df[i,]$Authent.Type\n",
    "    FA <- df[i,]$Failure\n",
    "    \n",
    "        # Reconnaissance[i] <- Reconnaissance[i] + 0\n",
    "        # Delivery[i] <- Delivery[i] + 0\n",
    "        # LateralMovement[i] <- LateralMovement[i] + 0\n",
    "        # PrivilegeEscalation[i] <- PrivilegeEscalation[i] + 0\n",
    "        # Exfiltration[i] <- Exfiltration[i] + 0\n",
    "    \n",
    "    SourceFrequency <- df[df$SrcDevice==Src, ]\n",
    "    UserFrequency <- df[df$UserName==User, ]\n",
    "    UserAndSourceFrequency <- UserFrequency[UserFrequency$SrcDevice==Src, ]\n",
    "    DestinationFrequency <- df[df$DstDevice==Dst, ]\n",
    "    \n",
    "    NSF <- nrow(SourceFrequency)\n",
    "    t<- table(df$SrcDevice)\n",
    "    M<- mean(t)\n",
    "    S<- sd(t)\n",
    "    if(NSF>= M + 2*S) {\n",
    "        Reconnaissance[i] <- Reconnaissance[i] + 1.75\n",
    "        Delivery[i] <- Delivery[i] + 0.5\n",
    "        # LateralMovement[i] <- LateralMovement[i] + 0\n",
    "        # PrivilegeEscalation[i] <- PrivilegeEscalation[i] + 0\n",
    "        # Exfiltration[i] <- Exfiltration[i] + 0\n",
    "    }\n",
    "     if(NSF/nrow(df)>=M+S & NSF/nrow(df)<M+2*S) {\n",
    "        Reconnaissance[i] <- Reconnaissance[i] + 1.5\n",
    "        Delivery[i] <- Delivery[i] + 0.75\n",
    "        # LateralMovement[i] <- LateralMovement[i] + 0\n",
    "        # PrivilegeEscalation[i] <- PrivilegeEscalation[i] + 0\n",
    "        # Exfiltration[i] <- Exfiltration[i] + 0\n",
    "    }\n",
    "     if(NSF/nrow(df)>=M & NSF/nrow(df)<M+S) {\n",
    "        Reconnaissance[i] <- Reconnaissance[i] + 1.25\n",
    "        Delivery[i] <- Delivery[i] + 0.75\n",
    "        # LateralMovement[i] <- LateralMovement[i] + 0\n",
    "        if(User%in%Special==TRUE) {\n",
    "            PrivilegeEscalation[i] <- PrivilegeEscalation[i] + 0.25\n",
    "            }\n",
    "        # Exfiltration[i] <- Exfiltration[i] + 0\n",
    "    }\n",
    "     if(NSF/nrow(df)>=M/6 & NSF/nrow(df)<M) {\n",
    "        Reconnaissance[i] <- Reconnaissance[i] + 0.25\n",
    "        Delivery[i] <- Delivery[i] + 0.5\n",
    "        # LateralMovement[i] <- LateralMovement[i] + 0\n",
    "        if(User%in%Special==TRUE) {\n",
    "            PrivilegeEscalation[i] <- PrivilegeEscalation[i] + 0.25\n",
    "            }\n",
    "        Exfiltration[i] <- Exfiltration[i] + 0.25\n",
    "    }\n",
    "     if(NSF/nrow(df)<M/6) {\n",
    "        # Reconnaissance[i] <- Reconnaissance[i] + 0\n",
    "        Delivery[i] <- Delivery[i] + 0.25\n",
    "        LateralMovement[i] <- LateralMovement[i] + 0.75\n",
    "        PrivilegeEscalation[i] <- PrivilegeEscalation[i] + 0.75\n",
    "        Exfiltration[i] <- Exfiltration[i] + 0.25\n",
    "    }\n",
    "     L <- length(unique(SourceFrequency$UserName))\n",
    "     if(L>=12) {\n",
    "        # Reconnaissance[i] <- Reconnaissance[i] + 0\n",
    "        # Delivery[i] <- Delivery[i] + 0\n",
    "        # LateralMovement[i] <- LateralMovement[i] + 0\n",
    "        PrivilegeEscalation[i] <- PrivilegeEscalation[i] + 1\n",
    "        Exfiltration[i] <- Exfiltration[i] + 0.5\n",
    "         }\n",
    "     if(L>=9 & L<12) {\n",
    "        # Reconnaissance[i] <- Reconnaissance[i] + 0\n",
    "        # Delivery[i] <- Delivery[i] + 0\n",
    "        # LateralMovement[i] <- LateralMovement[i] + 0\n",
    "        PrivilegeEscalation[i] <- PrivilegeEscalation[i] + 0.75\n",
    "        Exfiltration[i] <- Exfiltration[i] + 0.25 \n",
    "     }\n",
    "     if(L>=5 & L<9) {\n",
    "        # Reconnaissance[i] <- Reconnaissance[i] + 0\n",
    "        # Delivery[i] <- Delivery[i] + 0\n",
    "        # LateralMovement[i] <- LateralMovement[i] + 0\n",
    "        PrivilegeEscalation[i] <- PrivilegeEscalation[i] + 0.5\n",
    "        Exfiltration[i] <- Exfiltration[i] + 0.25\n",
    "     }\n",
    "     if(L>=2 & L<5) {\n",
    "        # Reconnaissance[i] <- Reconnaissance[i] + 0\n",
    "        Delivery[i] <- Delivery[i] + 0.25\n",
    "        LateralMovement[i] <- LateralMovement[i] + 0.25\n",
    "        # PrivilegeEscalation[i] <- PrivilegeEscalation[i] + 0\n",
    "        # Exfiltration[i] <- Exfiltration[i] + 0\n",
    "     }\n",
    "    if(L==1) {\n",
    "        # Reconnaissance[i] <- Reconnaissance[i] + 0\n",
    "        # Delivery[i] <- Delivery[i] + 0\n",
    "        LateralMovement[i] <- LateralMovement[i] + 0.5\n",
    "        # PrivilegeEscalation[i] <- PrivilegeEscalation[i] + 0\n",
    "        # Exfiltration[i] <- Exfiltration[i] + 0\n",
    "    }\n",
    "    if(User%in%Special==TRUE) {\n",
    "        # Reconnaissance[i] <- Reconnaissance[i] + 0\n",
    "        # Delivery[i] <- Delivery[i] + 0\n",
    "        LateralMovement[i] <- LateralMovement[i] + 0.5\n",
    "        PrivilegeEscalation[i] <- PrivilegeEscalation[i] + 1\n",
    "        Exfiltration[i] <- Exfiltration[i] + 1.5 \n",
    "    }\n",
    "    if(User%in%Special==FALSE) {\n",
    "        Reconnaissance[i] <- Reconnaissance[i] + 1\n",
    "        Delivery[i] <- Delivery[i] + 1\n",
    "        LateralMovement[i] <- LateralMovement[i] + 0.5\n",
    "        PrivilegeEscalation[i] <- PrivilegeEscalation[i] + 0.25\n",
    "        # Exfiltration[i] <- Exfiltration[i] + 0\n",
    "    }\n",
    "\n",
    "    L <- length(unique(UserAndSourceFrequency$DstDevice))\n",
    "    l <- length(unique(df$DstDevice))\n",
    "    if(L/l>=0.4) {\n",
    "        Reconnaissance[i] <- Reconnaissance[i] + 2\n",
    "        # Delivery[i] <- Delivery[i] + 0\n",
    "        # LateralMovement[i] <- LateralMovement[i] + 0\n",
    "        # PrivilegeEscalation[i] <- PrivilegeEscalation[i] + 0\n",
    "        # Exfiltration[i] <- Exfiltration[i] + 0 \n",
    "    }\n",
    "    if(L/l>=0.2 & L/l<0.4) {\n",
    "        Reconnaissance[i] <- Reconnaissance[i] + 1.75\n",
    "        # Delivery[i] <- Delivery[i] + 0\n",
    "        # LateralMovement[i] <- LateralMovement[i] + 0\n",
    "        # PrivilegeEscalation[i] <- PrivilegeEscalation[i] + 0\n",
    "        # Exfiltration[i] <- Exfiltration[i] + 0\n",
    "    }\n",
    "    if(L/l>=0.1 & L/l<0.2) {\n",
    "        Reconnaissance[i] <- Reconnaissance[i] + 1.5\n",
    "        # Delivery[i] <- Delivery[i] + 0\n",
    "        # LateralMovement[i] <- LateralMovement[i] + 0\n",
    "        # PrivilegeEscalation[i] <- PrivilegeEscalation[i] + 0\n",
    "        # Exfiltration[i] <- Exfiltration[i] + 0\n",
    "    }\n",
    "    if(L/l>=0.05 & L/l<0.1) {\n",
    "        Reconnaissance[i] <- Reconnaissance[i] + 1.25\n",
    "        Delivery[i] <- Delivery[i] + 0.25\n",
    "        # LateralMovement[i] <- LateralMovement[i] + 0\n",
    "        # PrivilegeEscalation[i] <- PrivilegeEscalation[i] + 0\n",
    "        # Exfiltration[i] <- Exfiltration[i] + 0\n",
    "    }\n",
    "    if(L>=11 & L<34) {\n",
    "        Reconnaissance[i] <- Reconnaissance[i] + 1\n",
    "        Delivery[i] <- Delivery[i] + 0.5\n",
    "        # LateralMovement[i] <- LateralMovement[i] + 0\n",
    "        # PrivilegeEscalation[i] <- PrivilegeEscalation[i] + 0\n",
    "        # Exfiltration[i] <- Exfiltration[i] + 0\n",
    "    }\n",
    "    if(L>=6 & L<11) {\n",
    "        Reconnaissance[i] <- Reconnaissance[i] + 0.5\n",
    "        Delivery[i] <- Delivery[i] + 0.75\n",
    "        LateralMovement[i] <- LateralMovement[i] + 0.25\n",
    "        PrivilegeEscalation[i] <- PrivilegeEscalation[i] + 0.25\n",
    "        Exfiltration[i] <- Exfiltration[i] + 0.25\n",
    "    }\n",
    "    if(L>=3 & L<6) {\n",
    "        Reconnaissance[i] <- Reconnaissance[i] + 0.25\n",
    "        Delivery[i] <- Delivery[i] + 0.75\n",
    "        LateralMovement[i] <- LateralMovement[i] + 0.5\n",
    "        PrivilegeEscalation[i] <- PrivilegeEscalation[i] + 0.75\n",
    "        Exfiltration[i] <- Exfiltration[i] + 0.5\n",
    "    }\n",
    "    if(L<=2) {\n",
    "        # Reconnaissance[i] <- Reconnaissance[i] + 0\n",
    "        Delivery[i] <- Delivery[i] + 0.25\n",
    "        LateralMovement[i] <- LateralMovement[i] + 0.75\n",
    "        PrivilegeEscalation[i] <- PrivilegeEscalation[i] + 1\n",
    "        Exfiltration[i] <- Exfiltration[i] + 0.75\n",
    "    }\n",
    "    Destinations <- unique(UserFrequency$DstDevice)\n",
    "    if(Src%in%Destinations==TRUE){\n",
    "        # Reconnaissance[i] <- Reconnaissance[i] + 0\n",
    "        # Delivery[i] <- Delivery[i] + 0\n",
    "        LateralMovement[i] <- LateralMovement[i] + 3\n",
    "        PrivilegeEscalation[i] <- PrivilegeEscalation[i] + 1.25\n",
    "        # Exfiltration[i] <- Exfiltration[i] + 0\n",
    "    }\n",
    "    \n",
    "    D<- table(df$DstDevice)\n",
    "    M<- mean(D)\n",
    "    S<- sd(D)\n",
    "    N<- nrow(df[df$DstDevice==Dst, ])\n",
    "    if(N>=M+2*S){\n",
    "        Reconnaissance[i] <- Reconnaissance[i] + 1.25\n",
    "        # Delivery[i] <- Delivery[i] + 0\n",
    "        # LateralMovement[i] <- LateralMovement[i] + 0\n",
    "        # PrivilegeEscalation[i] <- PrivilegeEscalation[i] + 0\n",
    "        if(User%in%Special==TRUE) {\n",
    "            Exfiltration[i] <- Exfiltration[i] + 1.5  \n",
    "        }\n",
    "        if(User%in%Special==FALSE) {\n",
    "            Exfiltration[i] <- Exfiltration[i] + 0.5  \n",
    "        }\n",
    "    }\n",
    "    if(N>=M+S & N<M+2*S) {\n",
    "        Reconnaissance[i] <- Reconnaissance[i] + 1\n",
    "        # Delivery[i] <- Delivery[i] + 0\n",
    "        LateralMovement[i] <- LateralMovement[i] + 0.25\n",
    "        # PrivilegeEscalation[i] <- PrivilegeEscalation[i] + 0\n",
    "        if(User%in%Special==TRUE) {\n",
    "            Exfiltration[i] <- Exfiltration[i] + 1.5  \n",
    "        }\n",
    "        if(User%in%Special==FALSE) {\n",
    "            Exfiltration[i] <- Exfiltration[i] + 0.25  \n",
    "        }\n",
    "    }\n",
    "    if(N>=M & N<M+S) {\n",
    "        Reconnaissance[i] <- Reconnaissance[i] + 0.75\n",
    "        Delivery[i] <- Delivery[i] + 0.25\n",
    "        LateralMovement[i] <- LateralMovement[i] + 0.25\n",
    "        # PrivilegeEscalation[i] <- PrivilegeEscalation[i] + 0\n",
    "        if(User%in%Special==TRUE) {\n",
    "            Exfiltration[i] <- Exfiltration[i] + 0.75  \n",
    "        }\n",
    "        if(User%in%Special==FALSE) {\n",
    "            Exfiltration[i] <- Exfiltration[i] + 0.25  \n",
    "        }\n",
    "    }\n",
    "    if(N>=M/4 & N<M) {\n",
    "        Reconnaissance[i] <- Reconnaissance[i] + 0.5\n",
    "        Delivery[i] <- Delivery[i] + 0.75\n",
    "        LateralMovement[i] <- LateralMovement[i] + 0.25\n",
    "        # PrivilegeEscalation[i] <- PrivilegeEscalation[i] + 0\n",
    "        # Exfiltration[i] <- Exfiltration[i] + 0\n",
    "    }\n",
    "    if(N>=4 & N<M/4) {\n",
    "        Reconnaissance[i] <- Reconnaissance[i] + 0.25\n",
    "        Delivery[i] <- Delivery[i] + 1\n",
    "        LateralMovement[i] <- LateralMovement[i] + 0.5\n",
    "        # PrivilegeEscalation[i] <- PrivilegeEscalation[i] + 0\n",
    "        # Exfiltration[i] <- Exfiltration[i] + 0\n",
    "    }\n",
    "    if(N<4) {\n",
    "        # Reconnaissance[i] <- Reconnaissance[i] + 0\n",
    "        Delivery[i] <- Delivery[i] + 0.75\n",
    "        LateralMovement[i] <- LateralMovement[i] + 0.25\n",
    "        # PrivilegeEscalation[i] <- PrivilegeEscalation[i] + 0\n",
    "        # Exfiltration[i] <- Exfiltration[i] + 0\n",
    "    }\n",
    "    \n",
    "    U<- length(unique(DestinationFrequency$UserName))\n",
    "    L<- length(unique(df$UserName))\n",
    "    if(U>=L/5) {\n",
    "        Reconnaissance[i] <- Reconnaissance[i] + 1\n",
    "        # Delivery[i] <- Delivery[i] + 0\n",
    "        # LateralMovement[i] <- LateralMovement[i] + 0\n",
    "        # PrivilegeEscalation[i] <- PrivilegeEscalation[i] + 0\n",
    "        if(User%in%Special==TRUE) {\n",
    "            Exfiltration[i] <- Exfiltration[i] + 0.5\n",
    "        }\n",
    "    }\n",
    "    if(U>=L/10 & U<L/5) {\n",
    "        Reconnaissance[i] <- Reconnaissance[i] + 0.75\n",
    "        Delivery[i] <- Delivery[i] + 0.25\n",
    "        # LateralMovement[i] <- LateralMovement[i] + 0\n",
    "        # PrivilegeEscalation[i] <- PrivilegeEscalation[i] + 0\n",
    "        if(User%in%Special==TRUE) {\n",
    "            Exfiltration[i] <- Exfiltration[i] + 0.5\n",
    "        }\n",
    "    }\n",
    "    if(U>=L/20 & U<L/10) {\n",
    "        Reconnaissance[i] <- Reconnaissance[i] + 0.5\n",
    "        Delivery[i] <- Delivery[i] + 0.25\n",
    "        # LateralMovement[i] <- LateralMovement[i] + 0\n",
    "        # PrivilegeEscalation[i] <- PrivilegeEscalation[i] + 0\n",
    "        if(User%in%Special==TRUE) {\n",
    "            Exfiltration[i] <- Exfiltration[i] + 0.75\n",
    "        }\n",
    "    }\n",
    "    if(U<L/20) {\n",
    "        Reconnaissance[i] <- Reconnaissance[i] + 0.25\n",
    "        # Delivery[i] <- Delivery[i] + 0\n",
    "        # LateralMovement[i] <- LateralMovement[i] + 0\n",
    "        # PrivilegeEscalation[i] <- PrivilegeEscalation[i] + 0\n",
    "        if(User%in%Special==TRUE) {\n",
    "            Exfiltration[i] <- Exfiltration[i] + 1.25\n",
    "        }\n",
    "    }\n",
    "    \n",
    "    S<- length(unique(DestinationFrequency$SrcDevice))\n",
    "    L<- length(unique(df$SrcDevice))\n",
    "    if(S/L>=0.2) {\n",
    "        Reconnaissance[i] <- Reconnaissance[i] + 1.75\n",
    "        # Delivery[i] <- Delivery[i] + 0\n",
    "        # LateralMovement[i] <- LateralMovement[i] + 0\n",
    "        # PrivilegeEscalation[i] <- PrivilegeEscalation[i] + 0\n",
    "        Exfiltration[i] <- Exfiltration[i] + 0.5 \n",
    "    }\n",
    "    if(S/L>=0.1 & S/L<0.2) {\n",
    "        Reconnaissance[i] <- Reconnaissance[i] + 1.25\n",
    "        # Delivery[i] <- Delivery[i] + 0\n",
    "        # LateralMovement[i] <- LateralMovement[i] + 0\n",
    "        # PrivilegeEscalation[i] <- PrivilegeEscalation[i] + 0\n",
    "        Exfiltration[i] <- Exfiltration[i] + 0.25\n",
    "    }\n",
    "    if(S/L>=0.05 & S/L<0.1) {\n",
    "        Reconnaissance[i] <- Reconnaissance[i] + 1\n",
    "        # Delivery[i] <- Delivery[i] + 0\n",
    "        # LateralMovement[i] <- LateralMovement[i] + 0\n",
    "        # PrivilegeEscalation[i] <- PrivilegeEscalation[i] + 0\n",
    "        Exfiltration[i] <- Exfiltration[i] + 0.25\n",
    "    }\n",
    "    if(S>=5 & S<24) {\n",
    "        Reconnaissance[i] <- Reconnaissance[i] + 0.75\n",
    "        Delivery[i] <- Delivery[i] + 0.25\n",
    "        LateralMovement[i] <- LateralMovement[i] + 0.25\n",
    "        # PrivilegeEscalation[i] <- PrivilegeEscalation[i] + 0\n",
    "        Exfiltration[i] <- Exfiltration[i] + 0.25\n",
    "    }\n",
    "    if(S>=2 & S<5) {\n",
    "        Reconnaissance[i] <- Reconnaissance[i] + 0.5\n",
    "        Delivery[i] <- Delivery[i] + 0.5\n",
    "        # LateralMovement[i] <- LateralMovement[i] + 0\n",
    "        PrivilegeEscalation[i] <- PrivilegeEscalation[i] + 0.25\n",
    "        Exfiltration[i] <- Exfiltration[i] + 0.25\n",
    "    }\n",
    "    if(S==1) {\n",
    "        # Reconnaissance[i] <- Reconnaissance[i] + 0\n",
    "        Delivery[i] <- Delivery[i] + 1\n",
    "        LateralMovement[i] <- LateralMovement[i] + 0.75\n",
    "        # PrivilegeEscalation[i] <- PrivilegeEscalation[i] + 0\n",
    "        Exfiltration[i] <- Exfiltration[i] + 0.25\n",
    "    }\n",
    "    \n",
    "    Identical <- UserAndSourceFrequency[UserAndSourceFrequency$DstDevice==Dst, ]\n",
    "    I <- nrow(Identical)\n",
    "    if(I>12) {\n",
    "        Reconnaissance[i] <- Reconnaissance[i] + 1.25\n",
    "        # Delivery[i] <- Delivery[i] + 0\n",
    "        # LateralMovement[i] <- LateralMovement[i] + 0\n",
    "        # PrivilegeEscalation[i] <- PrivilegeEscalation[i] + 0\n",
    "        # Exfiltration[i] <- Exfiltration[i] + 0\n",
    "    }\n",
    "    if(I>9 & I<=12) {\n",
    "        Reconnaissance[i] <- Reconnaissance[i] + 0.75\n",
    "        # Delivery[i] <- Delivery[i] + 0\n",
    "        # LateralMovement[i] <- LateralMovement[i] + 0\n",
    "        PrivilegeEscalation[i] <- PrivilegeEscalation[i] + 0.25\n",
    "        # Exfiltration[i] <- Exfiltration[i] + 0\n",
    "    }\n",
    "    if(I>6 & I<=9) {\n",
    "        Reconnaissance[i] <- Reconnaissance[i] + 0.5\n",
    "        # Delivery[i] <- Delivery[i] + 0\n",
    "        LateralMovement[i] <- LateralMovement[i] + 0.25\n",
    "        PrivilegeEscalation[i] <- PrivilegeEscalation[i] + 0.25\n",
    "        Exfiltration[i] <- Exfiltration[i] + 0.25\n",
    "    }\n",
    "    if(I>3 & I<=6) {\n",
    "        Reconnaissance[i] <- Reconnaissance[i] + 0.25\n",
    "        Delivery[i] <- Delivery[i] + 0.25\n",
    "        LateralMovement[i] <- LateralMovement[i] + 0.25\n",
    "        PrivilegeEscalation[i] <- PrivilegeEscalation[i] + 0.25\n",
    "        Exfiltration[i] <- Exfiltration[i] + 0.25\n",
    "    }\n",
    "    if(I>1 & I<=3) {\n",
    "        if(sum(Identical$Failure)==nrow(Identical)) {\n",
    "            Reconnaissance[i] <- Reconnaissance[i] + 0.25\n",
    "            }\n",
    "        Delivery[i] <- Delivery[i] + 0.5\n",
    "        LateralMovement[i] <- LateralMovement[i] + 0.5\n",
    "        PrivilegeEscalation[i] <- PrivilegeEscalation[i] + 0.25\n",
    "        Exfiltration[i] <- Exfiltration[i] + 0.5\n",
    "    }\n",
    "    if(I==1) {\n",
    "        if(Identical$Failure==1) {\n",
    "            Reconnaissance[i] <- Reconnaissance[i] + 0.25\n",
    "        }\n",
    "        Delivery[i] <- Delivery[i] + 1.25\n",
    "        LateralMovement[i] <- LateralMovement[i] + 0.5\n",
    "        PrivilegeEscalation[i] <- PrivilegeEscalation[i] + 0.25\n",
    "        Exfiltration[i] <- Exfiltration[i] + 0.75\n",
    "    }\n",
    "    \n",
    "    A<- length(unique(UserAndSourceFrequency$Authent.Type))\n",
    "    if(A>3) {\n",
    "        Reconnaissance[i] <- Reconnaissance[i] + 1.25\n",
    "        Delivery[i] <- Delivery[i] + 1.5\n",
    "        # LateralMovement[i] <- LateralMovement[i] + 0\n",
    "        PrivilegeEscalation[i] <- PrivilegeEscalation[i] + 0.25\n",
    "        # Exfiltration[i] <- Exfiltration[i] + 0  \n",
    "    }\n",
    "    if(A==3) {\n",
    "        Reconnaissance[i] <- Reconnaissance[i] + 1\n",
    "        Delivery[i] <- Delivery[i] + 1.25\n",
    "        LateralMovement[i] <- LateralMovement[i] + 0.25\n",
    "        PrivilegeEscalation[i] <- PrivilegeEscalation[i] + 0.5\n",
    "        Exfiltration[i] <- Exfiltration[i] + 0.25\n",
    "    }\n",
    "    if(A==2) {\n",
    "        Reconnaissance[i] <- Reconnaissance[i] + 0.75\n",
    "        Delivery[i] <- Delivery[i] + 1\n",
    "        LateralMovement[i] <- LateralMovement[i] + 1\n",
    "        PrivilegeEscalation[i] <- PrivilegeEscalation[i] + 0.5\n",
    "        Exfiltration[i] <- Exfiltration[i] + 1\n",
    "    }\n",
    "    if(A==1) {\n",
    "        Reconnaissance[i] <- Reconnaissance[i] + 0.25\n",
    "        Delivery[i] <- Delivery[i] + 0.25\n",
    "        LateralMovement[i] <- LateralMovement[i] + 1.25\n",
    "        PrivilegeEscalation[i] <- PrivilegeEscalation[i] + 0.5\n",
    "        Exfiltration[i] <- Exfiltration[i] + 1.25\n",
    "    }\n",
    "    \n",
    "    Identical <- Identical[Identical$Authent.Type==AT, ]\n",
    "    I <- nrow(Identical)\n",
    "    if(I>=2) {\n",
    "        Reconnaissance[i] <- Reconnaissance[i] + 2\n",
    "        Delivery[i] <- Delivery[i] + 1\n",
    "        LateralMovement[i] <- LateralMovement[i] + 0.5\n",
    "        PrivilegeEscalation[i] <- PrivilegeEscalation[i] + 0.25\n",
    "        Exfiltration[i] <- Exfiltration[i] + 0.25  \n",
    "    }\n",
    "    if(I==1) {\n",
    "        # Reconnaissance[i] <- Reconnaissance[i] + 0\n",
    "        Delivery[i] <- Delivery[i] + 0.25\n",
    "        LateralMovement[i] <- LateralMovement[i] + 0.5\n",
    "        PrivilegeEscalation[i] <- PrivilegeEscalation[i] + 0.75\n",
    "        Exfiltration[i] <- Exfiltration[i] + 1\n",
    "    }\n",
    "    \n",
    "    Identical <- UserAndSourceFrequency[UserAndSourceFrequency$DstDevice==Dst, ]\n",
    "    AuthTypes <- length(unique(Identical$Authent.Types))\n",
    "    if(AuthTypes>=2) {\n",
    "        Reconnaissance[i] <- Reconnaissance[i] + 1.75\n",
    "        Delivery[i] <- Delivery[i] + 1.5\n",
    "        LateralMovement[i] <- LateralMovement[i] + 1.25\n",
    "        PrivilegeEscalation[i] <- PrivilegeEscalation[i] + 0.5\n",
    "        # Exfiltration[i] <- Exfiltration[i] + 0\n",
    "    }\n",
    "    if(AuthTypes==1) {\n",
    "        # Reconnaissance[i] <- Reconnaissance[i] + 0\n",
    "        Delivery[i] <- Delivery[i] + 0.25\n",
    "        LateralMovement[i] <- LateralMovement[i] + 0.25\n",
    "        PrivilegeEscalation[i] <- PrivilegeEscalation[i] + 0.5\n",
    "        # Exfiltration[i] <- Exfiltration[i] + 0\n",
    "    }\n",
    "    \n",
    "    if(FA==1) {\n",
    "        Reconnaissance[i] <- Reconnaissance[i] + 2\n",
    "        Delivery[i] <- Delivery[i] + 1.5\n",
    "        LateralMovement[i] <- LateralMovement[i] + 0.75\n",
    "        PrivilegeEscalation[i] <- PrivilegeEscalation[i] + 0.25\n",
    "        # Exfiltration[i] <- Exfiltration[i] + 0 \n",
    "    }\n",
    "    if(FA==0) {\n",
    "        # Reconnaissance[i] <- Reconnaissance[i] + 0\n",
    "        Delivery[i] <- Delivery[i] + 0.25\n",
    "        LateralMovement[i] <- LateralMovement[i] + 0.5\n",
    "        PrivilegeEscalation[i] <- PrivilegeEscalation[i] + 1.5\n",
    "        Exfiltration[i] <- Exfiltration[i] + 2\n",
    "    }\n",
    "    \n",
    "    OF <- sum(UserAndSourceFrequency$Failure)\n",
    "    SF <- nrow(UserAndSourceFrequency)\n",
    "    if(OF/SF>=0.8) {\n",
    "        Reconnaissance[i] <- Reconnaissance[i] + 2\n",
    "        Delivery[i] <- Delivery[i] + 0.25\n",
    "        # LateralMovement[i] <- LateralMovement[i] + 0\n",
    "        # PrivilegeEscalation[i] <- PrivilegeEscalation[i] + 0\n",
    "        # Exfiltration[i] <- Exfiltration[i] + 0\n",
    "    }\n",
    "    if(OF/SF>=0.5 & OF/SF<0.8) {\n",
    "        Reconnaissance[i] <- Reconnaissance[i] + 1.75\n",
    "        Delivery[i] <- Delivery[i] + 0.5\n",
    "        # LateralMovement[i] <- LateralMovement[i] + 0\n",
    "        # PrivilegeEscalation[i] <- PrivilegeEscalation[i] + 0\n",
    "        # Exfiltration[i] <- Exfiltration[i] + 0\n",
    "    }\n",
    "    if(OF/SF>=0.2 & OF/SF<0.5) {\n",
    "        Reconnaissance[i] <- Reconnaissance[i] + 1.25\n",
    "        Delivery[i] <- Delivery[i] + 1\n",
    "        LateralMovement[i] <- LateralMovement[i] + 0.5\n",
    "        # PrivilegeEscalation[i] <- PrivilegeEscalation[i] + 0\n",
    "        # Exfiltration[i] <- Exfiltration[i] + 0\n",
    "    }\n",
    "    if(OF/SF>=0.1 & OF/SF<0.2) {\n",
    "        Reconnaissance[i] <- Reconnaissance[i] + 0.5\n",
    "        Delivery[i] <- Delivery[i] + 1.25\n",
    "        LateralMovement[i] <- LateralMovement[i] + 0.75\n",
    "        # PrivilegeEscalation[i] <- PrivilegeEscalation[i] + 0\n",
    "        # Exfiltration[i] <- Exfiltration[i] + 0\n",
    "    }\n",
    "    if(OF/SF>=0.02 & OF/SF<0.1) {\n",
    "        Reconnaissance[i] <- Reconnaissance[i] + 0.25\n",
    "        Delivery[i] <- Delivery[i] + 1\n",
    "        LateralMovement[i] <- LateralMovement[i] + 0.5\n",
    "        PrivilegeEscalation[i] <- PrivilegeEscalation[i] + 0.5\n",
    "        Exfiltration[i] <- Exfiltration[i] + 0.25\n",
    "    }\n",
    "    if(OF/SF<0.02) {\n",
    "        # Reconnaissance[i] <- Reconnaissance[i] + 0\n",
    "        Delivery[i] <- Delivery[i] + 0.5\n",
    "        LateralMovement[i] <- LateralMovement[i] + 0.25\n",
    "        PrivilegeEscalation[i] <- PrivilegeEscalation[i] + 1.5\n",
    "        Exfiltration[i] <- Exfiltration[i] + 2\n",
    "    }\n",
    "    \n",
    "    Identical <- Identical[Identical$Authent.Type==AT, ]\n",
    "    FI <- length(unique(Identical$Failure))\n",
    "    if(FI>=2) {\n",
    "        Reconnaissance[i] <- Reconnaissance[i] + 0.5\n",
    "        Delivery[i] <- Delivery[i] + 0.25\n",
    "        LateralMovement[i] <- LateralMovement[i] + 0.5\n",
    "        # PrivilegeEscalation[i] <- PrivilegeEscalation[i] + 0\n",
    "        # Exfiltration[i] <- Exfiltration[i] + 0\n",
    "    }\n",
    "    if(FI==1) {\n",
    "        Reconnaissance[i] <- Reconnaissance[i] + 0.25\n",
    "        Delivery[i] <- Delivery[i] + 0.75\n",
    "        LateralMovement[i] <- LateralMovement[i] + 0.5\n",
    "        PrivilegeEscalation[i] <- PrivilegeEscalation[i] + 1.75\n",
    "        Exfiltration[i] <- Exfiltration[i] + 2\n",
    "    }\n",
    "    \n",
    "    if(AT=='TGT') {\n",
    "        # Reconnaissance[i] <- Reconnaissance[i] + 0\n",
    "        Delivery[i] <- Delivery[i] + 0.75\n",
    "        LateralMovement[i] <- LateralMovement[i] + 0.5\n",
    "        PrivilegeEscalation[i] <- PrivilegeEscalation[i] + 1.5\n",
    "        Exfiltration[i] <- Exfiltration[i] + 1.75\n",
    "    }\n",
    "    if(AT=='TGS') {\n",
    "        # Reconnaissance[i] <- Reconnaissance[i] + 0\n",
    "        Delivery[i] <- Delivery[i] + 1\n",
    "        LateralMovement[i] <- LateralMovement[i] + 0.5\n",
    "        PrivilegeEscalation[i] <- PrivilegeEscalation[i] + 1.5\n",
    "        Exfiltration[i] <- Exfiltration[i] + 1.75\n",
    "    }\n",
    "    if(AT=='InteractiveLogon' | AT=='RemoteInteractive') {\n",
    "        Reconnaissance[i] <- Reconnaissance[i] + 1.5\n",
    "        Delivery[i] <- Delivery[i] + 0.25\n",
    "        LateralMovement[i] <- LateralMovement[i] + 1\n",
    "        PrivilegeEscalation[i] <- PrivilegeEscalation[i] + 0.25\n",
    "        # Exfiltration[i] <- Exfiltration[i] + 0 \n",
    "    }\n",
    "    if(AT=='NetworkLogon') {\n",
    "        Reconnaissance[i] <- Reconnaissance[i] + 1.75\n",
    "        Delivery[i] <- Delivery[i] + 0.25\n",
    "        LateralMovement[i] <- LateralMovement[i] + 0.5\n",
    "        PrivilegeEscalation[i] <- PrivilegeEscalation[i] + 0.25\n",
    "        # Exfiltration[i] <- Exfiltration[i] + 0 \n",
    "    }\n",
    "    if(AT=='Batch') {\n",
    "        # Reconnaissance[i] <- Reconnaissance[i] + 0\n",
    "        Delivery[i] <- Delivery[i] + 1.5\n",
    "        LateralMovement[i] <- LateralMovement[i] + 0.25\n",
    "        PrivilegeEscalation[i] <- PrivilegeEscalation[i] + 0.5\n",
    "        Exfiltration[i] <- Exfiltration[i] + 1.25 \n",
    "    }\n",
    "    if(AT=='Service') {\n",
    "        # Reconnaissance[i] <- Reconnaissance[i] + 0\n",
    "        Delivery[i] <- Delivery[i] + 1.5\n",
    "        LateralMovement[i] <- LateralMovement[i] + 0.5\n",
    "        PrivilegeEscalation[i] <- PrivilegeEscalation[i] + 1.75\n",
    "        Exfiltration[i] <- Exfiltration[i] + 1.25 \n",
    "    }\n",
    "    if(AT=='WorkstationLock') {\n",
    "        # Reconnaissance[i] <- Reconnaissance[i] + 0\n",
    "        Delivery[i] <- Delivery[i] + 0.75\n",
    "        # LateralMovement[i] <- LateralMovement[i] + 0\n",
    "        PrivilegeEscalation[i] <- PrivilegeEscalation[i] + 0.25\n",
    "        Exfiltration[i] <- Exfiltration[i] + 2 \n",
    "    }\n",
    "    if(AT=='WorkstationUnlock') {\n",
    "        Reconnaissance[i] <- Reconnaissance[i] + 0.75\n",
    "        Delivery[i] <- Delivery[i] + 0.25\n",
    "        LateralMovement[i] <- LateralMovement[i] + 0.25\n",
    "        PrivilegeEscalation[i] <- PrivilegeEscalation[i] + 1\n",
    "        Exfiltration[i] <- Exfiltration[i] + 0.25 \n",
    "    }\n",
    "    if(AT=='ScreensaverInvoked') {\n",
    "        # Reconnaissance[i] <- Reconnaissance[i] + 0\n",
    "        Delivery[i] <- Delivery[i] + 0.75\n",
    "        # LateralMovement[i] <- LateralMovement[i] + 0\n",
    "        # PrivilegeEscalation[i] <- PrivilegeEscalation[i] + 0\n",
    "        # Exfiltration[i] <- Exfiltration[i] + 0\n",
    "    }\n",
    "    if(AT=='ScreensaverDismissed') {\n",
    "        # Reconnaissance[i] <- Reconnaissance[i] + 0\n",
    "        Delivery[i] <- Delivery[i] + 0.5\n",
    "        LateralMovement[i] <- LateralMovement[i] + 0.25\n",
    "        # PrivilegeEscalation[i] <- PrivilegeEscalation[i] + 0\n",
    "        # Exfiltration[i] <- Exfiltration[i] + 0\n",
    "    }\n",
    "    if(AT=='CachedInteractive') {\n",
    "        Reconnaissance[i] <- Reconnaissance[i] + 0.75\n",
    "        Delivery[i] <- Delivery[i] + 0.5\n",
    "        LateralMovement[i] <- LateralMovement[i] + 0.25\n",
    "        PrivilegeEscalation[i] <- PrivilegeEscalation[i] + 0.25\n",
    "        # Exfiltration[i] <- Exfiltration[i] + 0\n",
    "    }\n",
    "    progress(i)\n",
    "    # Sys.sleep(0.01)\n",
    "}\n",
    "  Stages <<- as.data.frame(cbind(Reconnaissance, Delivery, LateralMovement, PrivilegeEscalation, Exfiltration))\n",
    "    }"
   ]
  },
  {
   "cell_type": "code",
   "execution_count": 126,
   "id": "f1d46991",
   "metadata": {},
   "outputs": [],
   "source": [
    "StagesIntegrityTest <- function() {\n",
    "    c<- 0\n",
    "    for(i in 1:nrow(Stages)) {\n",
    "        S <- sum(Stages[i, ])\n",
    "        MaxMin <- max(Stages[i, ]) - min(Stages[i, ])\n",
    "        if(MaxMin <= S/10) {\n",
    "            c <- c+1\n",
    "        }\n",
    "    }\n",
    "    print(paste(\"The integrity of Stages is\", c/nrow(Stages)))\n",
    "}"
   ]
  },
  {
   "cell_type": "markdown",
   "id": "4c040d27",
   "metadata": {},
   "source": [
    "### Actual anomalies"
   ]
  },
  {
   "cell_type": "code",
   "execution_count": 90,
   "id": "bcbdc8b5",
   "metadata": {},
   "outputs": [
    {
     "name": "stdout",
     "output_type": "stream",
     "text": [
      "'data.frame':\t38712 obs. of  8 variables:\n",
      " $ UserName    : chr  \"User735240\" \"User735240\" \"User735240\" \"User735240\" ...\n",
      " $ SrcDevice   : chr  \"Comp700191\" \"Comp700191\" \"Comp738078\" \"Comp700191\" ...\n",
      " $ DstDevice   : chr  \"Comp774964\" \"Comp700191\" \"ActiveDirectory\" \"ActiveDirectory\" ...\n",
      " $ Authent.Type: chr  \"NetworkLogon\" \"NetworkLogon\" \"TGT\" \"TGT\" ...\n",
      " $ Failure     : int  0 0 0 0 0 0 0 0 0 0 ...\n",
      " $ DailyCount  : num  3 1 1 1 2 1 1 1 1 18 ...\n",
      " $ Hour        : int  0 0 5 6 12 17 18 19 19 23 ...\n",
      " $ Day         : int  59 59 59 59 59 59 59 59 59 59 ...\n"
     ]
    },
    {
     "data": {
      "text/html": [
       "<table>\n",
       "<thead><tr><th scope=col>UserName</th><th scope=col>SrcDevice</th><th scope=col>DstDevice</th><th scope=col>Authent.Type</th><th scope=col>Failure</th><th scope=col>DailyCount</th><th scope=col>Hour</th><th scope=col>Day</th></tr></thead>\n",
       "<tbody>\n",
       "\t<tr><td>User735240       </td><td>Comp700191       </td><td>Comp774964       </td><td>NetworkLogon     </td><td>0                </td><td> 3               </td><td> 0               </td><td>59               </td></tr>\n",
       "\t<tr><td>User735240       </td><td>Comp700191       </td><td>Comp700191       </td><td>NetworkLogon     </td><td>0                </td><td> 1               </td><td> 0               </td><td>59               </td></tr>\n",
       "\t<tr><td>User735240       </td><td>Comp738078       </td><td>ActiveDirectory  </td><td>TGT              </td><td>0                </td><td> 1               </td><td> 5               </td><td>59               </td></tr>\n",
       "\t<tr><td>User735240       </td><td>Comp700191       </td><td>ActiveDirectory  </td><td>TGT              </td><td>0                </td><td> 1               </td><td> 6               </td><td>59               </td></tr>\n",
       "\t<tr><td>User735240       </td><td>Comp738078       </td><td>Comp700191       </td><td>TGS              </td><td>0                </td><td> 2               </td><td>12               </td><td>59               </td></tr>\n",
       "\t<tr><td>User735240       </td><td>Comp738078       </td><td>Comp700191       </td><td>RemoteInteractive</td><td>0                </td><td> 1               </td><td>17               </td><td>59               </td></tr>\n",
       "\t<tr><td>User735240       </td><td>Comp700191       </td><td>Comp370444       </td><td>TGS              </td><td>0                </td><td> 1               </td><td>18               </td><td>59               </td></tr>\n",
       "\t<tr><td>User735240       </td><td>Comp700191       </td><td>Comp700191       </td><td>TGS              </td><td>0                </td><td> 1               </td><td>19               </td><td>59               </td></tr>\n",
       "\t<tr><td>User735240       </td><td>Comp700191       </td><td>Comp370444       </td><td>NetworkLogon     </td><td>0                </td><td> 1               </td><td>19               </td><td>59               </td></tr>\n",
       "\t<tr><td>User735240       </td><td>Comp700191       </td><td>ActiveDirectory  </td><td>NetworkLogon     </td><td>0                </td><td>18               </td><td>23               </td><td>59               </td></tr>\n",
       "</tbody>\n",
       "</table>\n"
      ],
      "text/latex": [
       "\\begin{tabular}{r|llllllll}\n",
       " UserName & SrcDevice & DstDevice & Authent.Type & Failure & DailyCount & Hour & Day\\\\\n",
       "\\hline\n",
       "\t User735240        & Comp700191        & Comp774964        & NetworkLogon      & 0                 &  3                &  0                & 59               \\\\\n",
       "\t User735240        & Comp700191        & Comp700191        & NetworkLogon      & 0                 &  1                &  0                & 59               \\\\\n",
       "\t User735240        & Comp738078        & ActiveDirectory   & TGT               & 0                 &  1                &  5                & 59               \\\\\n",
       "\t User735240        & Comp700191        & ActiveDirectory   & TGT               & 0                 &  1                &  6                & 59               \\\\\n",
       "\t User735240        & Comp738078        & Comp700191        & TGS               & 0                 &  2                & 12                & 59               \\\\\n",
       "\t User735240        & Comp738078        & Comp700191        & RemoteInteractive & 0                 &  1                & 17                & 59               \\\\\n",
       "\t User735240        & Comp700191        & Comp370444        & TGS               & 0                 &  1                & 18                & 59               \\\\\n",
       "\t User735240        & Comp700191        & Comp700191        & TGS               & 0                 &  1                & 19                & 59               \\\\\n",
       "\t User735240        & Comp700191        & Comp370444        & NetworkLogon      & 0                 &  1                & 19                & 59               \\\\\n",
       "\t User735240        & Comp700191        & ActiveDirectory   & NetworkLogon      & 0                 & 18                & 23                & 59               \\\\\n",
       "\\end{tabular}\n"
      ],
      "text/markdown": [
       "\n",
       "| UserName | SrcDevice | DstDevice | Authent.Type | Failure | DailyCount | Hour | Day |\n",
       "|---|---|---|---|---|---|---|---|\n",
       "| User735240        | Comp700191        | Comp774964        | NetworkLogon      | 0                 |  3                |  0                | 59                |\n",
       "| User735240        | Comp700191        | Comp700191        | NetworkLogon      | 0                 |  1                |  0                | 59                |\n",
       "| User735240        | Comp738078        | ActiveDirectory   | TGT               | 0                 |  1                |  5                | 59                |\n",
       "| User735240        | Comp700191        | ActiveDirectory   | TGT               | 0                 |  1                |  6                | 59                |\n",
       "| User735240        | Comp738078        | Comp700191        | TGS               | 0                 |  2                | 12                | 59                |\n",
       "| User735240        | Comp738078        | Comp700191        | RemoteInteractive | 0                 |  1                | 17                | 59                |\n",
       "| User735240        | Comp700191        | Comp370444        | TGS               | 0                 |  1                | 18                | 59                |\n",
       "| User735240        | Comp700191        | Comp700191        | TGS               | 0                 |  1                | 19                | 59                |\n",
       "| User735240        | Comp700191        | Comp370444        | NetworkLogon      | 0                 |  1                | 19                | 59                |\n",
       "| User735240        | Comp700191        | ActiveDirectory   | NetworkLogon      | 0                 | 18                | 23                | 59                |\n",
       "\n"
      ],
      "text/plain": [
       "   UserName   SrcDevice  DstDevice       Authent.Type      Failure DailyCount\n",
       "1  User735240 Comp700191 Comp774964      NetworkLogon      0        3        \n",
       "2  User735240 Comp700191 Comp700191      NetworkLogon      0        1        \n",
       "3  User735240 Comp738078 ActiveDirectory TGT               0        1        \n",
       "4  User735240 Comp700191 ActiveDirectory TGT               0        1        \n",
       "5  User735240 Comp738078 Comp700191      TGS               0        2        \n",
       "6  User735240 Comp738078 Comp700191      RemoteInteractive 0        1        \n",
       "7  User735240 Comp700191 Comp370444      TGS               0        1        \n",
       "8  User735240 Comp700191 Comp700191      TGS               0        1        \n",
       "9  User735240 Comp700191 Comp370444      NetworkLogon      0        1        \n",
       "10 User735240 Comp700191 ActiveDirectory NetworkLogon      0       18        \n",
       "   Hour Day\n",
       "1   0   59 \n",
       "2   0   59 \n",
       "3   5   59 \n",
       "4   6   59 \n",
       "5  12   59 \n",
       "6  17   59 \n",
       "7  18   59 \n",
       "8  19   59 \n",
       "9  19   59 \n",
       "10 23   59 "
      ]
     },
     "metadata": {},
     "output_type": "display_data"
    },
    {
     "data": {
      "text/html": [
       "<ol class=list-inline>\n",
       "\t<li>38712</li>\n",
       "\t<li>8</li>\n",
       "</ol>\n"
      ],
      "text/latex": [
       "\\begin{enumerate*}\n",
       "\\item 38712\n",
       "\\item 8\n",
       "\\end{enumerate*}\n"
      ],
      "text/markdown": [
       "1. 38712\n",
       "2. 8\n",
       "\n",
       "\n"
      ],
      "text/plain": [
       "[1] 38712     8"
      ]
     },
     "metadata": {},
     "output_type": "display_data"
    }
   ],
   "source": [
    "setwd(\"D://LA//ATI Data\")\n",
    "df <- read.table(file=\"FinalAnomalies.txt\", header=T, sep=\",\")\n",
    "df<- df[,-1]\n",
    "\n",
    "df %>% mutate(across(where(is.factor), as.character)) -> df\n",
    "\n",
    "str(df)\n",
    "head(df,10)\n",
    "dim(df)"
   ]
  },
  {
   "cell_type": "code",
   "execution_count": 91,
   "id": "d1661ff7",
   "metadata": {},
   "outputs": [
    {
     "data": {
      "text/html": [
       "<table>\n",
       "<thead><tr><th scope=col>UserName</th><th scope=col>SrcDevice</th><th scope=col>DstDevice</th><th scope=col>Authent.Type</th><th scope=col>Failure</th><th scope=col>DailyCount</th><th scope=col>Hour</th><th scope=col>Day</th></tr></thead>\n",
       "<tbody>\n",
       "\t<tr><td>User735240       </td><td>Comp700191       </td><td>Comp774964       </td><td>NetworkLogon     </td><td>0                </td><td>3                </td><td> 0               </td><td>59.00000         </td></tr>\n",
       "\t<tr><td>User735240       </td><td>Comp700191       </td><td>Comp700191       </td><td>NetworkLogon     </td><td>0                </td><td>1                </td><td> 0               </td><td>59.00000         </td></tr>\n",
       "\t<tr><td>User735240       </td><td>Comp738078       </td><td>ActiveDirectory  </td><td>TGT              </td><td>0                </td><td>1                </td><td> 5               </td><td>59.20833         </td></tr>\n",
       "\t<tr><td>User735240       </td><td>Comp700191       </td><td>ActiveDirectory  </td><td>TGT              </td><td>0                </td><td>1                </td><td> 6               </td><td>59.25000         </td></tr>\n",
       "\t<tr><td>User735240       </td><td>Comp738078       </td><td>Comp700191       </td><td>TGS              </td><td>0                </td><td>2                </td><td>12               </td><td>59.50000         </td></tr>\n",
       "\t<tr><td>User735240       </td><td>Comp738078       </td><td>Comp700191       </td><td>RemoteInteractive</td><td>0                </td><td>1                </td><td>17               </td><td>59.70833         </td></tr>\n",
       "</tbody>\n",
       "</table>\n"
      ],
      "text/latex": [
       "\\begin{tabular}{r|llllllll}\n",
       " UserName & SrcDevice & DstDevice & Authent.Type & Failure & DailyCount & Hour & Day\\\\\n",
       "\\hline\n",
       "\t User735240        & Comp700191        & Comp774964        & NetworkLogon      & 0                 & 3                 &  0                & 59.00000         \\\\\n",
       "\t User735240        & Comp700191        & Comp700191        & NetworkLogon      & 0                 & 1                 &  0                & 59.00000         \\\\\n",
       "\t User735240        & Comp738078        & ActiveDirectory   & TGT               & 0                 & 1                 &  5                & 59.20833         \\\\\n",
       "\t User735240        & Comp700191        & ActiveDirectory   & TGT               & 0                 & 1                 &  6                & 59.25000         \\\\\n",
       "\t User735240        & Comp738078        & Comp700191        & TGS               & 0                 & 2                 & 12                & 59.50000         \\\\\n",
       "\t User735240        & Comp738078        & Comp700191        & RemoteInteractive & 0                 & 1                 & 17                & 59.70833         \\\\\n",
       "\\end{tabular}\n"
      ],
      "text/markdown": [
       "\n",
       "| UserName | SrcDevice | DstDevice | Authent.Type | Failure | DailyCount | Hour | Day |\n",
       "|---|---|---|---|---|---|---|---|\n",
       "| User735240        | Comp700191        | Comp774964        | NetworkLogon      | 0                 | 3                 |  0                | 59.00000          |\n",
       "| User735240        | Comp700191        | Comp700191        | NetworkLogon      | 0                 | 1                 |  0                | 59.00000          |\n",
       "| User735240        | Comp738078        | ActiveDirectory   | TGT               | 0                 | 1                 |  5                | 59.20833          |\n",
       "| User735240        | Comp700191        | ActiveDirectory   | TGT               | 0                 | 1                 |  6                | 59.25000          |\n",
       "| User735240        | Comp738078        | Comp700191        | TGS               | 0                 | 2                 | 12                | 59.50000          |\n",
       "| User735240        | Comp738078        | Comp700191        | RemoteInteractive | 0                 | 1                 | 17                | 59.70833          |\n",
       "\n"
      ],
      "text/plain": [
       "  UserName   SrcDevice  DstDevice       Authent.Type      Failure DailyCount\n",
       "1 User735240 Comp700191 Comp774964      NetworkLogon      0       3         \n",
       "2 User735240 Comp700191 Comp700191      NetworkLogon      0       1         \n",
       "3 User735240 Comp738078 ActiveDirectory TGT               0       1         \n",
       "4 User735240 Comp700191 ActiveDirectory TGT               0       1         \n",
       "5 User735240 Comp738078 Comp700191      TGS               0       2         \n",
       "6 User735240 Comp738078 Comp700191      RemoteInteractive 0       1         \n",
       "  Hour Day     \n",
       "1  0   59.00000\n",
       "2  0   59.00000\n",
       "3  5   59.20833\n",
       "4  6   59.25000\n",
       "5 12   59.50000\n",
       "6 17   59.70833"
      ]
     },
     "metadata": {},
     "output_type": "display_data"
    }
   ],
   "source": [
    "df$Day <- df$Day + df$Hour/24\n",
    "head(df)"
   ]
  },
  {
   "cell_type": "code",
   "execution_count": 92,
   "id": "e46b76fc",
   "metadata": {},
   "outputs": [
    {
     "data": {
      "text/html": [
       "<table>\n",
       "<thead><tr><th></th><th scope=col>UserName</th><th scope=col>SrcDevice</th><th scope=col>DstDevice</th><th scope=col>Authent.Type</th><th scope=col>Failure</th><th scope=col>DailyCount</th><th scope=col>Hour</th><th scope=col>Day</th></tr></thead>\n",
       "<tbody>\n",
       "\t<tr><th scope=row>1079</th><td>User288751         </td><td>Comp468329         </td><td>Comp253429         </td><td>TGS                </td><td>0                  </td><td>  1                </td><td>0                  </td><td>58                 </td></tr>\n",
       "\t<tr><th scope=row>1080</th><td>User288751         </td><td>Comp468329         </td><td>Comp370444         </td><td>NetworkLogon       </td><td>0                  </td><td> 19                </td><td>0                  </td><td>58                 </td></tr>\n",
       "\t<tr><th scope=row>1081</th><td>User288751         </td><td>Comp916004         </td><td>Comp916004         </td><td>TGS                </td><td>0                  </td><td> 16                </td><td>0                  </td><td>58                 </td></tr>\n",
       "\t<tr><th scope=row>1082</th><td>User288751         </td><td>Comp468329         </td><td>Comp797582         </td><td>NetworkLogon       </td><td>0                  </td><td>  2                </td><td>0                  </td><td>58                 </td></tr>\n",
       "\t<tr><th scope=row>1649</th><td>User396223         </td><td>Comp068848         </td><td>ActiveDirectory    </td><td>TGT                </td><td>0                  </td><td>  2                </td><td>0                  </td><td>58                 </td></tr>\n",
       "\t<tr><th scope=row>2765</th><td>User341813         </td><td>Comp948451         </td><td>Comp915658         </td><td>NetworkLogon       </td><td>0                  </td><td>  4                </td><td>0                  </td><td>58                 </td></tr>\n",
       "\t<tr><th scope=row>2766</th><td>User341813         </td><td>Comp107130         </td><td>Comp916004         </td><td>NetworkLogon       </td><td>0                  </td><td> 27                </td><td>0                  </td><td>58                 </td></tr>\n",
       "\t<tr><th scope=row>3358</th><td>User091297         </td><td>Comp955934         </td><td>Comp939275         </td><td>NetworkLogon       </td><td>0                  </td><td>  2                </td><td>0                  </td><td>58                 </td></tr>\n",
       "\t<tr><th scope=row>3440</th><td>User379647         </td><td>Comp416133         </td><td>Comp370444         </td><td>TGS                </td><td>0                  </td><td>  1                </td><td>0                  </td><td>58                 </td></tr>\n",
       "\t<tr><th scope=row>3441</th><td>User379647         </td><td>Comp416133         </td><td>ActiveDirectory    </td><td>TGS                </td><td>0                  </td><td> 10                </td><td>0                  </td><td>58                 </td></tr>\n",
       "\t<tr><th scope=row>3442</th><td>User379647         </td><td>Comp083768         </td><td>None               </td><td>WorkstationLock    </td><td>0                  </td><td>  6                </td><td>0                  </td><td>58                 </td></tr>\n",
       "\t<tr><th scope=row>4285</th><td>User203147         </td><td>Comp107130         </td><td>Comp916004         </td><td>NetworkLogon       </td><td>0                  </td><td> 30                </td><td>0                  </td><td>58                 </td></tr>\n",
       "\t<tr><th scope=row>4286</th><td>User203147         </td><td>Comp679250         </td><td>Comp698972         </td><td>NetworkLogon       </td><td>0                  </td><td>  2                </td><td>0                  </td><td>58                 </td></tr>\n",
       "\t<tr><th scope=row>4287</th><td>User203147         </td><td>Comp679250         </td><td>Comp894088         </td><td>NetworkLogon       </td><td>0                  </td><td>  1                </td><td>0                  </td><td>58                 </td></tr>\n",
       "\t<tr><th scope=row>5827</th><td>User648781         </td><td>EnterpriseAppServer</td><td>EnterpriseAppServer</td><td>NetworkLogon       </td><td>0                  </td><td> 56                </td><td>0                  </td><td>58                 </td></tr>\n",
       "\t<tr><th scope=row>5828</th><td>User648781         </td><td>Comp537384         </td><td>Comp375796         </td><td>TGS                </td><td>0                  </td><td>  2                </td><td>0                  </td><td>58                 </td></tr>\n",
       "\t<tr><th scope=row>5829</th><td>User648781         </td><td>EnterpriseAppServer</td><td>Comp370444         </td><td>TGS                </td><td>0                  </td><td>  2                </td><td>0                  </td><td>58                 </td></tr>\n",
       "\t<tr><th scope=row>7272</th><td>User871458         </td><td>Comp273168         </td><td>Comp273168         </td><td>TGS                </td><td>0                  </td><td>  8                </td><td>0                  </td><td>58                 </td></tr>\n",
       "\t<tr><th scope=row>7541</th><td>User882755         </td><td>Comp599337         </td><td>ActiveDirectory    </td><td>TGS                </td><td>0                  </td><td>118                </td><td>0                  </td><td>58                 </td></tr>\n",
       "\t<tr><th scope=row>7973</th><td>User887454         </td><td>Comp818224         </td><td>Comp121122         </td><td>NetworkLogon       </td><td>0                  </td><td> 56                </td><td>0                  </td><td>58                 </td></tr>\n",
       "</tbody>\n",
       "</table>\n"
      ],
      "text/latex": [
       "\\begin{tabular}{r|llllllll}\n",
       "  & UserName & SrcDevice & DstDevice & Authent.Type & Failure & DailyCount & Hour & Day\\\\\n",
       "\\hline\n",
       "\t1079 & User288751          & Comp468329          & Comp253429          & TGS                 & 0                   &   1                 & 0                   & 58                 \\\\\n",
       "\t1080 & User288751          & Comp468329          & Comp370444          & NetworkLogon        & 0                   &  19                 & 0                   & 58                 \\\\\n",
       "\t1081 & User288751          & Comp916004          & Comp916004          & TGS                 & 0                   &  16                 & 0                   & 58                 \\\\\n",
       "\t1082 & User288751          & Comp468329          & Comp797582          & NetworkLogon        & 0                   &   2                 & 0                   & 58                 \\\\\n",
       "\t1649 & User396223          & Comp068848          & ActiveDirectory     & TGT                 & 0                   &   2                 & 0                   & 58                 \\\\\n",
       "\t2765 & User341813          & Comp948451          & Comp915658          & NetworkLogon        & 0                   &   4                 & 0                   & 58                 \\\\\n",
       "\t2766 & User341813          & Comp107130          & Comp916004          & NetworkLogon        & 0                   &  27                 & 0                   & 58                 \\\\\n",
       "\t3358 & User091297          & Comp955934          & Comp939275          & NetworkLogon        & 0                   &   2                 & 0                   & 58                 \\\\\n",
       "\t3440 & User379647          & Comp416133          & Comp370444          & TGS                 & 0                   &   1                 & 0                   & 58                 \\\\\n",
       "\t3441 & User379647          & Comp416133          & ActiveDirectory     & TGS                 & 0                   &  10                 & 0                   & 58                 \\\\\n",
       "\t3442 & User379647          & Comp083768          & None                & WorkstationLock     & 0                   &   6                 & 0                   & 58                 \\\\\n",
       "\t4285 & User203147          & Comp107130          & Comp916004          & NetworkLogon        & 0                   &  30                 & 0                   & 58                 \\\\\n",
       "\t4286 & User203147          & Comp679250          & Comp698972          & NetworkLogon        & 0                   &   2                 & 0                   & 58                 \\\\\n",
       "\t4287 & User203147          & Comp679250          & Comp894088          & NetworkLogon        & 0                   &   1                 & 0                   & 58                 \\\\\n",
       "\t5827 & User648781          & EnterpriseAppServer & EnterpriseAppServer & NetworkLogon        & 0                   &  56                 & 0                   & 58                 \\\\\n",
       "\t5828 & User648781          & Comp537384          & Comp375796          & TGS                 & 0                   &   2                 & 0                   & 58                 \\\\\n",
       "\t5829 & User648781          & EnterpriseAppServer & Comp370444          & TGS                 & 0                   &   2                 & 0                   & 58                 \\\\\n",
       "\t7272 & User871458          & Comp273168          & Comp273168          & TGS                 & 0                   &   8                 & 0                   & 58                 \\\\\n",
       "\t7541 & User882755          & Comp599337          & ActiveDirectory     & TGS                 & 0                   & 118                 & 0                   & 58                 \\\\\n",
       "\t7973 & User887454          & Comp818224          & Comp121122          & NetworkLogon        & 0                   &  56                 & 0                   & 58                 \\\\\n",
       "\\end{tabular}\n"
      ],
      "text/markdown": [
       "\n",
       "| <!--/--> | UserName | SrcDevice | DstDevice | Authent.Type | Failure | DailyCount | Hour | Day |\n",
       "|---|---|---|---|---|---|---|---|---|\n",
       "| 1079 | User288751          | Comp468329          | Comp253429          | TGS                 | 0                   |   1                 | 0                   | 58                  |\n",
       "| 1080 | User288751          | Comp468329          | Comp370444          | NetworkLogon        | 0                   |  19                 | 0                   | 58                  |\n",
       "| 1081 | User288751          | Comp916004          | Comp916004          | TGS                 | 0                   |  16                 | 0                   | 58                  |\n",
       "| 1082 | User288751          | Comp468329          | Comp797582          | NetworkLogon        | 0                   |   2                 | 0                   | 58                  |\n",
       "| 1649 | User396223          | Comp068848          | ActiveDirectory     | TGT                 | 0                   |   2                 | 0                   | 58                  |\n",
       "| 2765 | User341813          | Comp948451          | Comp915658          | NetworkLogon        | 0                   |   4                 | 0                   | 58                  |\n",
       "| 2766 | User341813          | Comp107130          | Comp916004          | NetworkLogon        | 0                   |  27                 | 0                   | 58                  |\n",
       "| 3358 | User091297          | Comp955934          | Comp939275          | NetworkLogon        | 0                   |   2                 | 0                   | 58                  |\n",
       "| 3440 | User379647          | Comp416133          | Comp370444          | TGS                 | 0                   |   1                 | 0                   | 58                  |\n",
       "| 3441 | User379647          | Comp416133          | ActiveDirectory     | TGS                 | 0                   |  10                 | 0                   | 58                  |\n",
       "| 3442 | User379647          | Comp083768          | None                | WorkstationLock     | 0                   |   6                 | 0                   | 58                  |\n",
       "| 4285 | User203147          | Comp107130          | Comp916004          | NetworkLogon        | 0                   |  30                 | 0                   | 58                  |\n",
       "| 4286 | User203147          | Comp679250          | Comp698972          | NetworkLogon        | 0                   |   2                 | 0                   | 58                  |\n",
       "| 4287 | User203147          | Comp679250          | Comp894088          | NetworkLogon        | 0                   |   1                 | 0                   | 58                  |\n",
       "| 5827 | User648781          | EnterpriseAppServer | EnterpriseAppServer | NetworkLogon        | 0                   |  56                 | 0                   | 58                  |\n",
       "| 5828 | User648781          | Comp537384          | Comp375796          | TGS                 | 0                   |   2                 | 0                   | 58                  |\n",
       "| 5829 | User648781          | EnterpriseAppServer | Comp370444          | TGS                 | 0                   |   2                 | 0                   | 58                  |\n",
       "| 7272 | User871458          | Comp273168          | Comp273168          | TGS                 | 0                   |   8                 | 0                   | 58                  |\n",
       "| 7541 | User882755          | Comp599337          | ActiveDirectory     | TGS                 | 0                   | 118                 | 0                   | 58                  |\n",
       "| 7973 | User887454          | Comp818224          | Comp121122          | NetworkLogon        | 0                   |  56                 | 0                   | 58                  |\n",
       "\n"
      ],
      "text/plain": [
       "     UserName   SrcDevice           DstDevice           Authent.Type    Failure\n",
       "1079 User288751 Comp468329          Comp253429          TGS             0      \n",
       "1080 User288751 Comp468329          Comp370444          NetworkLogon    0      \n",
       "1081 User288751 Comp916004          Comp916004          TGS             0      \n",
       "1082 User288751 Comp468329          Comp797582          NetworkLogon    0      \n",
       "1649 User396223 Comp068848          ActiveDirectory     TGT             0      \n",
       "2765 User341813 Comp948451          Comp915658          NetworkLogon    0      \n",
       "2766 User341813 Comp107130          Comp916004          NetworkLogon    0      \n",
       "3358 User091297 Comp955934          Comp939275          NetworkLogon    0      \n",
       "3440 User379647 Comp416133          Comp370444          TGS             0      \n",
       "3441 User379647 Comp416133          ActiveDirectory     TGS             0      \n",
       "3442 User379647 Comp083768          None                WorkstationLock 0      \n",
       "4285 User203147 Comp107130          Comp916004          NetworkLogon    0      \n",
       "4286 User203147 Comp679250          Comp698972          NetworkLogon    0      \n",
       "4287 User203147 Comp679250          Comp894088          NetworkLogon    0      \n",
       "5827 User648781 EnterpriseAppServer EnterpriseAppServer NetworkLogon    0      \n",
       "5828 User648781 Comp537384          Comp375796          TGS             0      \n",
       "5829 User648781 EnterpriseAppServer Comp370444          TGS             0      \n",
       "7272 User871458 Comp273168          Comp273168          TGS             0      \n",
       "7541 User882755 Comp599337          ActiveDirectory     TGS             0      \n",
       "7973 User887454 Comp818224          Comp121122          NetworkLogon    0      \n",
       "     DailyCount Hour Day\n",
       "1079   1        0    58 \n",
       "1080  19        0    58 \n",
       "1081  16        0    58 \n",
       "1082   2        0    58 \n",
       "1649   2        0    58 \n",
       "2765   4        0    58 \n",
       "2766  27        0    58 \n",
       "3358   2        0    58 \n",
       "3440   1        0    58 \n",
       "3441  10        0    58 \n",
       "3442   6        0    58 \n",
       "4285  30        0    58 \n",
       "4286   2        0    58 \n",
       "4287   1        0    58 \n",
       "5827  56        0    58 \n",
       "5828   2        0    58 \n",
       "5829   2        0    58 \n",
       "7272   8        0    58 \n",
       "7541 118        0    58 \n",
       "7973  56        0    58 "
      ]
     },
     "metadata": {},
     "output_type": "display_data"
    }
   ],
   "source": [
    "df<- df[order(df$Day), ]\n",
    "head(df, 20)"
   ]
  },
  {
   "cell_type": "code",
   "execution_count": 93,
   "id": "e0771327",
   "metadata": {},
   "outputs": [
    {
     "data": {
      "text/html": [
       "<table>\n",
       "<thead><tr><th></th><th scope=col>UserName</th><th scope=col>SrcDevice</th><th scope=col>DstDevice</th><th scope=col>Authent.Type</th><th scope=col>Failure</th></tr></thead>\n",
       "<tbody>\n",
       "\t<tr><th scope=row>1079</th><td>User288751     </td><td>Comp468329     </td><td>Comp253429     </td><td>TGS            </td><td>0              </td></tr>\n",
       "\t<tr><th scope=row>1080</th><td>User288751     </td><td>Comp468329     </td><td>Comp370444     </td><td>NetworkLogon   </td><td>0              </td></tr>\n",
       "\t<tr><th scope=row>1081</th><td>User288751     </td><td>Comp916004     </td><td>Comp916004     </td><td>TGS            </td><td>0              </td></tr>\n",
       "\t<tr><th scope=row>1082</th><td>User288751     </td><td>Comp468329     </td><td>Comp797582     </td><td>NetworkLogon   </td><td>0              </td></tr>\n",
       "\t<tr><th scope=row>1649</th><td>User396223     </td><td>Comp068848     </td><td>ActiveDirectory</td><td>TGT            </td><td>0              </td></tr>\n",
       "\t<tr><th scope=row>2765</th><td>User341813     </td><td>Comp948451     </td><td>Comp915658     </td><td>NetworkLogon   </td><td>0              </td></tr>\n",
       "</tbody>\n",
       "</table>\n"
      ],
      "text/latex": [
       "\\begin{tabular}{r|lllll}\n",
       "  & UserName & SrcDevice & DstDevice & Authent.Type & Failure\\\\\n",
       "\\hline\n",
       "\t1079 & User288751      & Comp468329      & Comp253429      & TGS             & 0              \\\\\n",
       "\t1080 & User288751      & Comp468329      & Comp370444      & NetworkLogon    & 0              \\\\\n",
       "\t1081 & User288751      & Comp916004      & Comp916004      & TGS             & 0              \\\\\n",
       "\t1082 & User288751      & Comp468329      & Comp797582      & NetworkLogon    & 0              \\\\\n",
       "\t1649 & User396223      & Comp068848      & ActiveDirectory & TGT             & 0              \\\\\n",
       "\t2765 & User341813      & Comp948451      & Comp915658      & NetworkLogon    & 0              \\\\\n",
       "\\end{tabular}\n"
      ],
      "text/markdown": [
       "\n",
       "| <!--/--> | UserName | SrcDevice | DstDevice | Authent.Type | Failure |\n",
       "|---|---|---|---|---|---|\n",
       "| 1079 | User288751      | Comp468329      | Comp253429      | TGS             | 0               |\n",
       "| 1080 | User288751      | Comp468329      | Comp370444      | NetworkLogon    | 0               |\n",
       "| 1081 | User288751      | Comp916004      | Comp916004      | TGS             | 0               |\n",
       "| 1082 | User288751      | Comp468329      | Comp797582      | NetworkLogon    | 0               |\n",
       "| 1649 | User396223      | Comp068848      | ActiveDirectory | TGT             | 0               |\n",
       "| 2765 | User341813      | Comp948451      | Comp915658      | NetworkLogon    | 0               |\n",
       "\n"
      ],
      "text/plain": [
       "     UserName   SrcDevice  DstDevice       Authent.Type Failure\n",
       "1079 User288751 Comp468329 Comp253429      TGS          0      \n",
       "1080 User288751 Comp468329 Comp370444      NetworkLogon 0      \n",
       "1081 User288751 Comp916004 Comp916004      TGS          0      \n",
       "1082 User288751 Comp468329 Comp797582      NetworkLogon 0      \n",
       "1649 User396223 Comp068848 ActiveDirectory TGT          0      \n",
       "2765 User341813 Comp948451 Comp915658      NetworkLogon 0      "
      ]
     },
     "metadata": {},
     "output_type": "display_data"
    }
   ],
   "source": [
    "df<- df[,-c(6:8)]\n",
    "head(df)"
   ]
  },
  {
   "cell_type": "markdown",
   "id": "2917a5dd",
   "metadata": {},
   "source": [
    "_At this stage we have our desired dataset_"
   ]
  },
  {
   "cell_type": "code",
   "execution_count": 94,
   "id": "e9caabe7",
   "metadata": {},
   "outputs": [
    {
     "data": {
      "text/html": [
       "<ol class=list-inline>\n",
       "\t<li>'winservice'</li>\n",
       "\t<li>'AppService'</li>\n",
       "\t<li>'Administrator'</li>\n",
       "</ol>\n"
      ],
      "text/latex": [
       "\\begin{enumerate*}\n",
       "\\item 'winservice'\n",
       "\\item 'AppService'\n",
       "\\item 'Administrator'\n",
       "\\end{enumerate*}\n"
      ],
      "text/markdown": [
       "1. 'winservice'\n",
       "2. 'AppService'\n",
       "3. 'Administrator'\n",
       "\n",
       "\n"
      ],
      "text/plain": [
       "[1] \"winservice\"    \"AppService\"    \"Administrator\""
      ]
     },
     "metadata": {},
     "output_type": "display_data"
    }
   ],
   "source": [
    "g<- grep(pattern='User', x=df$UserName)\n",
    "Special <- unique(df$UserName[-g])\n",
    "g<- grep(pattern='Comp', x=Special)\n",
    "Special <- Special[-g]\n",
    "Special"
   ]
  },
  {
   "cell_type": "code",
   "execution_count": 95,
   "id": "3d192730",
   "metadata": {},
   "outputs": [
    {
     "name": "stdout",
     "output_type": "stream",
     "text": [
      "Progress:   1%Progress:   2%Progress:   3%Progress:   4%Progress:   5%Progress:   6%Progress:   7%Progress:   8%Progress:   9%Progress:  10%Progress:  11%Progress:  12%Progress:  13%Progress:  14%Progress:  15%Progress:  16%Progress:  17%Progress:  18%Progress:  19%Progress:  20%Progress:  21%Progress:  22%Progress:  23%Progress:  24%Progress:  25%Progress:  26%Progress:  27%Progress:  28%Progress:  29%Progress:  30%Progress:  31%Progress:  32%Progress:  33%Progress:  34%Progress:  35%Progress:  36%Progress:  37%Progress:  38%Progress:  39%Progress:  40%Progress:  41%Progress:  42%Progress:  43%Progress:  44%Progress:  45%Progress:  46%Progress:  47%Progress:  48%Progress:  49%Progress:  50%Progress:  51%Progress:  52%Progress:  53%Progress:  54%Progress:  55%Progress:  56%Progress:  57%Progress:  58%Progress:  59%Progress:  60%Progress:  61%Progress:  62%Progress:  63%Progress:  64%Progress:  65%Progress:  66%Progress:  67%Progress:  68%Progress:  69%Progress:  70%Progress:  71%Progress:  72%Progress:  73%Progress:  74%Progress:  75%Progress:  76%Progress:  77%Progress:  78%Progress:  79%Progress:  80%Progress:  81%Progress:  82%Progress:  83%Progress:  84%Progress:  85%Progress:  86%Progress:  87%Progress:  88%Progress:  89%Progress:  90%Progress:  91%Progress:  92%Progress:  93%Progress:  94%Progress:  95%Progress:  96%Progress:  97%Progress:  98%Progress:  99%Progress: 100%              "
     ]
    }
   ],
   "source": [
    "DecisionScoring(df)"
   ]
  },
  {
   "cell_type": "code",
   "execution_count": 96,
   "id": "39f213cf",
   "metadata": {},
   "outputs": [
    {
     "data": {
      "text/html": [
       "<table>\n",
       "<thead><tr><th scope=col>Reconnaissance</th><th scope=col>Delivery</th><th scope=col>LateralMovement</th><th scope=col>PrivilegeEscalation</th><th scope=col>Exfiltration</th></tr></thead>\n",
       "<tbody>\n",
       "\t<tr><td> 7.25</td><td>7.50 </td><td>6.75 </td><td> 9.50</td><td> 9.00</td></tr>\n",
       "\t<tr><td>12.50</td><td>6.00 </td><td>6.00 </td><td> 8.00</td><td> 7.50</td></tr>\n",
       "\t<tr><td> 9.50</td><td>6.75 </td><td>6.50 </td><td>11.50</td><td>10.25</td></tr>\n",
       "\t<tr><td> 9.25</td><td>7.25 </td><td>6.25 </td><td> 8.50</td><td> 6.75</td></tr>\n",
       "\t<tr><td>10.25</td><td>6.75 </td><td>6.25 </td><td> 9.50</td><td> 9.50</td></tr>\n",
       "\t<tr><td>14.00</td><td>7.00 </td><td>6.25 </td><td> 7.00</td><td> 5.50</td></tr>\n",
       "\t<tr><td>10.50</td><td>5.00 </td><td>5.50 </td><td> 8.75</td><td> 9.50</td></tr>\n",
       "\t<tr><td>11.25</td><td>7.00 </td><td>5.00 </td><td> 6.00</td><td> 5.50</td></tr>\n",
       "\t<tr><td> 6.75</td><td>6.50 </td><td>7.00 </td><td>10.50</td><td>11.00</td></tr>\n",
       "\t<tr><td> 6.75</td><td>6.50 </td><td>7.00 </td><td>10.50</td><td>11.00</td></tr>\n",
       "\t<tr><td>12.75</td><td>7.50 </td><td>5.75 </td><td> 7.00</td><td> 7.75</td></tr>\n",
       "\t<tr><td>10.50</td><td>5.00 </td><td>5.50 </td><td> 8.75</td><td> 9.50</td></tr>\n",
       "\t<tr><td>11.50</td><td>7.25 </td><td>6.50 </td><td> 8.25</td><td> 6.00</td></tr>\n",
       "\t<tr><td>11.75</td><td>7.00 </td><td>6.25 </td><td> 8.25</td><td> 5.75</td></tr>\n",
       "\t<tr><td>11.50</td><td>6.75 </td><td>6.50 </td><td> 9.75</td><td> 8.25</td></tr>\n",
       "\t<tr><td>10.25</td><td>8.50 </td><td>6.50 </td><td> 8.50</td><td> 7.00</td></tr>\n",
       "\t<tr><td>10.75</td><td>7.50 </td><td>6.25 </td><td>11.00</td><td>10.50</td></tr>\n",
       "\t<tr><td> 7.75</td><td>8.75 </td><td>6.75 </td><td> 8.75</td><td> 7.00</td></tr>\n",
       "\t<tr><td>12.50</td><td>7.25 </td><td>6.00 </td><td> 9.25</td><td> 9.25</td></tr>\n",
       "\t<tr><td>12.00</td><td>7.75 </td><td>6.50 </td><td> 7.25</td><td> 5.25</td></tr>\n",
       "\t<tr><td>11.75</td><td>8.00 </td><td>6.50 </td><td> 8.50</td><td> 7.50</td></tr>\n",
       "\t<tr><td>10.00</td><td>7.00 </td><td>7.00 </td><td>11.75</td><td>11.25</td></tr>\n",
       "\t<tr><td>11.00</td><td>6.25 </td><td>7.00 </td><td>10.50</td><td> 8.75</td></tr>\n",
       "\t<tr><td>10.75</td><td>6.75 </td><td>6.00 </td><td> 9.25</td><td> 9.25</td></tr>\n",
       "\t<tr><td> 9.25</td><td>7.00 </td><td>6.25 </td><td> 9.75</td><td> 9.25</td></tr>\n",
       "</tbody>\n",
       "</table>\n"
      ],
      "text/latex": [
       "\\begin{tabular}{r|lllll}\n",
       " Reconnaissance & Delivery & LateralMovement & PrivilegeEscalation & Exfiltration\\\\\n",
       "\\hline\n",
       "\t  7.25 & 7.50  & 6.75  &  9.50 &  9.00\\\\\n",
       "\t 12.50 & 6.00  & 6.00  &  8.00 &  7.50\\\\\n",
       "\t  9.50 & 6.75  & 6.50  & 11.50 & 10.25\\\\\n",
       "\t  9.25 & 7.25  & 6.25  &  8.50 &  6.75\\\\\n",
       "\t 10.25 & 6.75  & 6.25  &  9.50 &  9.50\\\\\n",
       "\t 14.00 & 7.00  & 6.25  &  7.00 &  5.50\\\\\n",
       "\t 10.50 & 5.00  & 5.50  &  8.75 &  9.50\\\\\n",
       "\t 11.25 & 7.00  & 5.00  &  6.00 &  5.50\\\\\n",
       "\t  6.75 & 6.50  & 7.00  & 10.50 & 11.00\\\\\n",
       "\t  6.75 & 6.50  & 7.00  & 10.50 & 11.00\\\\\n",
       "\t 12.75 & 7.50  & 5.75  &  7.00 &  7.75\\\\\n",
       "\t 10.50 & 5.00  & 5.50  &  8.75 &  9.50\\\\\n",
       "\t 11.50 & 7.25  & 6.50  &  8.25 &  6.00\\\\\n",
       "\t 11.75 & 7.00  & 6.25  &  8.25 &  5.75\\\\\n",
       "\t 11.50 & 6.75  & 6.50  &  9.75 &  8.25\\\\\n",
       "\t 10.25 & 8.50  & 6.50  &  8.50 &  7.00\\\\\n",
       "\t 10.75 & 7.50  & 6.25  & 11.00 & 10.50\\\\\n",
       "\t  7.75 & 8.75  & 6.75  &  8.75 &  7.00\\\\\n",
       "\t 12.50 & 7.25  & 6.00  &  9.25 &  9.25\\\\\n",
       "\t 12.00 & 7.75  & 6.50  &  7.25 &  5.25\\\\\n",
       "\t 11.75 & 8.00  & 6.50  &  8.50 &  7.50\\\\\n",
       "\t 10.00 & 7.00  & 7.00  & 11.75 & 11.25\\\\\n",
       "\t 11.00 & 6.25  & 7.00  & 10.50 &  8.75\\\\\n",
       "\t 10.75 & 6.75  & 6.00  &  9.25 &  9.25\\\\\n",
       "\t  9.25 & 7.00  & 6.25  &  9.75 &  9.25\\\\\n",
       "\\end{tabular}\n"
      ],
      "text/markdown": [
       "\n",
       "| Reconnaissance | Delivery | LateralMovement | PrivilegeEscalation | Exfiltration |\n",
       "|---|---|---|---|---|\n",
       "|  7.25 | 7.50  | 6.75  |  9.50 |  9.00 |\n",
       "| 12.50 | 6.00  | 6.00  |  8.00 |  7.50 |\n",
       "|  9.50 | 6.75  | 6.50  | 11.50 | 10.25 |\n",
       "|  9.25 | 7.25  | 6.25  |  8.50 |  6.75 |\n",
       "| 10.25 | 6.75  | 6.25  |  9.50 |  9.50 |\n",
       "| 14.00 | 7.00  | 6.25  |  7.00 |  5.50 |\n",
       "| 10.50 | 5.00  | 5.50  |  8.75 |  9.50 |\n",
       "| 11.25 | 7.00  | 5.00  |  6.00 |  5.50 |\n",
       "|  6.75 | 6.50  | 7.00  | 10.50 | 11.00 |\n",
       "|  6.75 | 6.50  | 7.00  | 10.50 | 11.00 |\n",
       "| 12.75 | 7.50  | 5.75  |  7.00 |  7.75 |\n",
       "| 10.50 | 5.00  | 5.50  |  8.75 |  9.50 |\n",
       "| 11.50 | 7.25  | 6.50  |  8.25 |  6.00 |\n",
       "| 11.75 | 7.00  | 6.25  |  8.25 |  5.75 |\n",
       "| 11.50 | 6.75  | 6.50  |  9.75 |  8.25 |\n",
       "| 10.25 | 8.50  | 6.50  |  8.50 |  7.00 |\n",
       "| 10.75 | 7.50  | 6.25  | 11.00 | 10.50 |\n",
       "|  7.75 | 8.75  | 6.75  |  8.75 |  7.00 |\n",
       "| 12.50 | 7.25  | 6.00  |  9.25 |  9.25 |\n",
       "| 12.00 | 7.75  | 6.50  |  7.25 |  5.25 |\n",
       "| 11.75 | 8.00  | 6.50  |  8.50 |  7.50 |\n",
       "| 10.00 | 7.00  | 7.00  | 11.75 | 11.25 |\n",
       "| 11.00 | 6.25  | 7.00  | 10.50 |  8.75 |\n",
       "| 10.75 | 6.75  | 6.00  |  9.25 |  9.25 |\n",
       "|  9.25 | 7.00  | 6.25  |  9.75 |  9.25 |\n",
       "\n"
      ],
      "text/plain": [
       "   Reconnaissance Delivery LateralMovement PrivilegeEscalation Exfiltration\n",
       "1   7.25          7.50     6.75             9.50                9.00       \n",
       "2  12.50          6.00     6.00             8.00                7.50       \n",
       "3   9.50          6.75     6.50            11.50               10.25       \n",
       "4   9.25          7.25     6.25             8.50                6.75       \n",
       "5  10.25          6.75     6.25             9.50                9.50       \n",
       "6  14.00          7.00     6.25             7.00                5.50       \n",
       "7  10.50          5.00     5.50             8.75                9.50       \n",
       "8  11.25          7.00     5.00             6.00                5.50       \n",
       "9   6.75          6.50     7.00            10.50               11.00       \n",
       "10  6.75          6.50     7.00            10.50               11.00       \n",
       "11 12.75          7.50     5.75             7.00                7.75       \n",
       "12 10.50          5.00     5.50             8.75                9.50       \n",
       "13 11.50          7.25     6.50             8.25                6.00       \n",
       "14 11.75          7.00     6.25             8.25                5.75       \n",
       "15 11.50          6.75     6.50             9.75                8.25       \n",
       "16 10.25          8.50     6.50             8.50                7.00       \n",
       "17 10.75          7.50     6.25            11.00               10.50       \n",
       "18  7.75          8.75     6.75             8.75                7.00       \n",
       "19 12.50          7.25     6.00             9.25                9.25       \n",
       "20 12.00          7.75     6.50             7.25                5.25       \n",
       "21 11.75          8.00     6.50             8.50                7.50       \n",
       "22 10.00          7.00     7.00            11.75               11.25       \n",
       "23 11.00          6.25     7.00            10.50                8.75       \n",
       "24 10.75          6.75     6.00             9.25                9.25       \n",
       "25  9.25          7.00     6.25             9.75                9.25       "
      ]
     },
     "metadata": {},
     "output_type": "display_data"
    }
   ],
   "source": [
    "head(Stages, 25)"
   ]
  },
  {
   "cell_type": "code",
   "execution_count": 127,
   "id": "4383b4c5",
   "metadata": {},
   "outputs": [
    {
     "name": "stdout",
     "output_type": "stream",
     "text": [
      "[1] \"The integrity of Stages is 11.4331473444927 %.\"\n"
     ]
    }
   ],
   "source": [
    "StagesIntegrityTest()"
   ]
  },
  {
   "cell_type": "code",
   "execution_count": 97,
   "id": "54b5bc1d",
   "metadata": {},
   "outputs": [],
   "source": [
    "StageAssignExpect <- function() {\n",
    "    R <- rowSums(Stages)\n",
    "    Probs <- Stages/R\n",
    "    Maximum <- pmax(Probs$Reconnaissance,Probs$Delivery,Probs$LateralMovement,Probs$PrivilegeEscalation,Probs$Exfiltration)\n",
    "    Probs_with_clusters <- cbind(Probs, Maximum)\n",
    "    \n",
    "    Cluster <- vector(len=nrow(Probs_with_clusters))\n",
    "for(i in 1:nrow(Probs_with_clusters)) {\n",
    "    if(Probs_with_clusters$Maximum[i]==Probs_with_clusters$Reconnaissance[i]) {\n",
    "        Cluster[i] <- \"R\"\n",
    "    }\n",
    "    if(Probs_with_clusters$Maximum[i]==Probs_with_clusters$Delivery[i]) {\n",
    "        Cluster[i] <- \"D\"\n",
    "    }\n",
    "    if(Probs_with_clusters$Maximum[i]==Probs_with_clusters$LateralMovement[i]) {\n",
    "        Cluster[i] <- \"LM\"\n",
    "    }\n",
    "    if(Probs_with_clusters$Maximum[i]==Probs_with_clusters$PrivilegeEscalation[i]) {\n",
    "        Cluster[i] <- \"PE\"\n",
    "    }\n",
    "    if(Probs_with_clusters$Maximum[i]==Probs_with_clusters$Exfiltration[i]) {\n",
    "        Cluster[i] <- \"E\"\n",
    "    }\n",
    "}\n",
    "\n",
    "Probs_with_clusters <<- cbind(UserName = df$UserName, Probs_with_clusters, Cluster)\n",
    "\n",
    "}"
   ]
  },
  {
   "cell_type": "code",
   "execution_count": 98,
   "id": "22d9d1b5",
   "metadata": {},
   "outputs": [],
   "source": [
    "StageAssignExpect()"
   ]
  },
  {
   "cell_type": "code",
   "execution_count": 99,
   "id": "3cca25cf",
   "metadata": {},
   "outputs": [
    {
     "data": {
      "text/html": [
       "<table>\n",
       "<thead><tr><th scope=col>UserName</th><th scope=col>Reconnaissance</th><th scope=col>Delivery</th><th scope=col>LateralMovement</th><th scope=col>PrivilegeEscalation</th><th scope=col>Exfiltration</th><th scope=col>Maximum</th><th scope=col>Cluster</th></tr></thead>\n",
       "<tbody>\n",
       "\t<tr><td>User288751</td><td>0.1812500 </td><td>0.1875000 </td><td>0.1687500 </td><td>0.2375000 </td><td>0.2250000 </td><td>0.2375000 </td><td>PE        </td></tr>\n",
       "\t<tr><td>User288751</td><td>0.3125000 </td><td>0.1500000 </td><td>0.1500000 </td><td>0.2000000 </td><td>0.1875000 </td><td>0.3125000 </td><td>R         </td></tr>\n",
       "\t<tr><td>User288751</td><td>0.2134831 </td><td>0.1516854 </td><td>0.1460674 </td><td>0.2584270 </td><td>0.2303371 </td><td>0.2584270 </td><td>PE        </td></tr>\n",
       "\t<tr><td>User288751</td><td>0.2434211 </td><td>0.1907895 </td><td>0.1644737 </td><td>0.2236842 </td><td>0.1776316 </td><td>0.2434211 </td><td>R         </td></tr>\n",
       "\t<tr><td>User396223</td><td>0.2426036 </td><td>0.1597633 </td><td>0.1479290 </td><td>0.2248521 </td><td>0.2248521 </td><td>0.2426036 </td><td>R         </td></tr>\n",
       "\t<tr><td>User341813</td><td>0.3522013 </td><td>0.1761006 </td><td>0.1572327 </td><td>0.1761006 </td><td>0.1383648 </td><td>0.3522013 </td><td>R         </td></tr>\n",
       "\t<tr><td>User341813</td><td>0.2675159 </td><td>0.1273885 </td><td>0.1401274 </td><td>0.2229299 </td><td>0.2420382 </td><td>0.2675159 </td><td>R         </td></tr>\n",
       "\t<tr><td>User091297</td><td>0.3237410 </td><td>0.2014388 </td><td>0.1438849 </td><td>0.1726619 </td><td>0.1582734 </td><td>0.3237410 </td><td>R         </td></tr>\n",
       "\t<tr><td>User379647</td><td>0.1616766 </td><td>0.1556886 </td><td>0.1676647 </td><td>0.2514970 </td><td>0.2634731 </td><td>0.2634731 </td><td>E         </td></tr>\n",
       "\t<tr><td>User379647</td><td>0.1616766 </td><td>0.1556886 </td><td>0.1676647 </td><td>0.2514970 </td><td>0.2634731 </td><td>0.2634731 </td><td>E         </td></tr>\n",
       "\t<tr><td>User379647</td><td>0.3128834 </td><td>0.1840491 </td><td>0.1411043 </td><td>0.1717791 </td><td>0.1901840 </td><td>0.3128834 </td><td>R         </td></tr>\n",
       "\t<tr><td>User203147</td><td>0.2675159 </td><td>0.1273885 </td><td>0.1401274 </td><td>0.2229299 </td><td>0.2420382 </td><td>0.2675159 </td><td>R         </td></tr>\n",
       "\t<tr><td>User203147</td><td>0.2911392 </td><td>0.1835443 </td><td>0.1645570 </td><td>0.2088608 </td><td>0.1518987 </td><td>0.2911392 </td><td>R         </td></tr>\n",
       "\t<tr><td>User203147</td><td>0.3012821 </td><td>0.1794872 </td><td>0.1602564 </td><td>0.2115385 </td><td>0.1474359 </td><td>0.3012821 </td><td>R         </td></tr>\n",
       "\t<tr><td>User648781</td><td>0.2690058 </td><td>0.1578947 </td><td>0.1520468 </td><td>0.2280702 </td><td>0.1929825 </td><td>0.2690058 </td><td>R         </td></tr>\n",
       "</tbody>\n",
       "</table>\n"
      ],
      "text/latex": [
       "\\begin{tabular}{r|llllllll}\n",
       " UserName & Reconnaissance & Delivery & LateralMovement & PrivilegeEscalation & Exfiltration & Maximum & Cluster\\\\\n",
       "\\hline\n",
       "\t User288751 & 0.1812500  & 0.1875000  & 0.1687500  & 0.2375000  & 0.2250000  & 0.2375000  & PE        \\\\\n",
       "\t User288751 & 0.3125000  & 0.1500000  & 0.1500000  & 0.2000000  & 0.1875000  & 0.3125000  & R         \\\\\n",
       "\t User288751 & 0.2134831  & 0.1516854  & 0.1460674  & 0.2584270  & 0.2303371  & 0.2584270  & PE        \\\\\n",
       "\t User288751 & 0.2434211  & 0.1907895  & 0.1644737  & 0.2236842  & 0.1776316  & 0.2434211  & R         \\\\\n",
       "\t User396223 & 0.2426036  & 0.1597633  & 0.1479290  & 0.2248521  & 0.2248521  & 0.2426036  & R         \\\\\n",
       "\t User341813 & 0.3522013  & 0.1761006  & 0.1572327  & 0.1761006  & 0.1383648  & 0.3522013  & R         \\\\\n",
       "\t User341813 & 0.2675159  & 0.1273885  & 0.1401274  & 0.2229299  & 0.2420382  & 0.2675159  & R         \\\\\n",
       "\t User091297 & 0.3237410  & 0.2014388  & 0.1438849  & 0.1726619  & 0.1582734  & 0.3237410  & R         \\\\\n",
       "\t User379647 & 0.1616766  & 0.1556886  & 0.1676647  & 0.2514970  & 0.2634731  & 0.2634731  & E         \\\\\n",
       "\t User379647 & 0.1616766  & 0.1556886  & 0.1676647  & 0.2514970  & 0.2634731  & 0.2634731  & E         \\\\\n",
       "\t User379647 & 0.3128834  & 0.1840491  & 0.1411043  & 0.1717791  & 0.1901840  & 0.3128834  & R         \\\\\n",
       "\t User203147 & 0.2675159  & 0.1273885  & 0.1401274  & 0.2229299  & 0.2420382  & 0.2675159  & R         \\\\\n",
       "\t User203147 & 0.2911392  & 0.1835443  & 0.1645570  & 0.2088608  & 0.1518987  & 0.2911392  & R         \\\\\n",
       "\t User203147 & 0.3012821  & 0.1794872  & 0.1602564  & 0.2115385  & 0.1474359  & 0.3012821  & R         \\\\\n",
       "\t User648781 & 0.2690058  & 0.1578947  & 0.1520468  & 0.2280702  & 0.1929825  & 0.2690058  & R         \\\\\n",
       "\\end{tabular}\n"
      ],
      "text/markdown": [
       "\n",
       "| UserName | Reconnaissance | Delivery | LateralMovement | PrivilegeEscalation | Exfiltration | Maximum | Cluster |\n",
       "|---|---|---|---|---|---|---|---|\n",
       "| User288751 | 0.1812500  | 0.1875000  | 0.1687500  | 0.2375000  | 0.2250000  | 0.2375000  | PE         |\n",
       "| User288751 | 0.3125000  | 0.1500000  | 0.1500000  | 0.2000000  | 0.1875000  | 0.3125000  | R          |\n",
       "| User288751 | 0.2134831  | 0.1516854  | 0.1460674  | 0.2584270  | 0.2303371  | 0.2584270  | PE         |\n",
       "| User288751 | 0.2434211  | 0.1907895  | 0.1644737  | 0.2236842  | 0.1776316  | 0.2434211  | R          |\n",
       "| User396223 | 0.2426036  | 0.1597633  | 0.1479290  | 0.2248521  | 0.2248521  | 0.2426036  | R          |\n",
       "| User341813 | 0.3522013  | 0.1761006  | 0.1572327  | 0.1761006  | 0.1383648  | 0.3522013  | R          |\n",
       "| User341813 | 0.2675159  | 0.1273885  | 0.1401274  | 0.2229299  | 0.2420382  | 0.2675159  | R          |\n",
       "| User091297 | 0.3237410  | 0.2014388  | 0.1438849  | 0.1726619  | 0.1582734  | 0.3237410  | R          |\n",
       "| User379647 | 0.1616766  | 0.1556886  | 0.1676647  | 0.2514970  | 0.2634731  | 0.2634731  | E          |\n",
       "| User379647 | 0.1616766  | 0.1556886  | 0.1676647  | 0.2514970  | 0.2634731  | 0.2634731  | E          |\n",
       "| User379647 | 0.3128834  | 0.1840491  | 0.1411043  | 0.1717791  | 0.1901840  | 0.3128834  | R          |\n",
       "| User203147 | 0.2675159  | 0.1273885  | 0.1401274  | 0.2229299  | 0.2420382  | 0.2675159  | R          |\n",
       "| User203147 | 0.2911392  | 0.1835443  | 0.1645570  | 0.2088608  | 0.1518987  | 0.2911392  | R          |\n",
       "| User203147 | 0.3012821  | 0.1794872  | 0.1602564  | 0.2115385  | 0.1474359  | 0.3012821  | R          |\n",
       "| User648781 | 0.2690058  | 0.1578947  | 0.1520468  | 0.2280702  | 0.1929825  | 0.2690058  | R          |\n",
       "\n"
      ],
      "text/plain": [
       "   UserName   Reconnaissance Delivery  LateralMovement PrivilegeEscalation\n",
       "1  User288751 0.1812500      0.1875000 0.1687500       0.2375000          \n",
       "2  User288751 0.3125000      0.1500000 0.1500000       0.2000000          \n",
       "3  User288751 0.2134831      0.1516854 0.1460674       0.2584270          \n",
       "4  User288751 0.2434211      0.1907895 0.1644737       0.2236842          \n",
       "5  User396223 0.2426036      0.1597633 0.1479290       0.2248521          \n",
       "6  User341813 0.3522013      0.1761006 0.1572327       0.1761006          \n",
       "7  User341813 0.2675159      0.1273885 0.1401274       0.2229299          \n",
       "8  User091297 0.3237410      0.2014388 0.1438849       0.1726619          \n",
       "9  User379647 0.1616766      0.1556886 0.1676647       0.2514970          \n",
       "10 User379647 0.1616766      0.1556886 0.1676647       0.2514970          \n",
       "11 User379647 0.3128834      0.1840491 0.1411043       0.1717791          \n",
       "12 User203147 0.2675159      0.1273885 0.1401274       0.2229299          \n",
       "13 User203147 0.2911392      0.1835443 0.1645570       0.2088608          \n",
       "14 User203147 0.3012821      0.1794872 0.1602564       0.2115385          \n",
       "15 User648781 0.2690058      0.1578947 0.1520468       0.2280702          \n",
       "   Exfiltration Maximum   Cluster\n",
       "1  0.2250000    0.2375000 PE     \n",
       "2  0.1875000    0.3125000 R      \n",
       "3  0.2303371    0.2584270 PE     \n",
       "4  0.1776316    0.2434211 R      \n",
       "5  0.2248521    0.2426036 R      \n",
       "6  0.1383648    0.3522013 R      \n",
       "7  0.2420382    0.2675159 R      \n",
       "8  0.1582734    0.3237410 R      \n",
       "9  0.2634731    0.2634731 E      \n",
       "10 0.2634731    0.2634731 E      \n",
       "11 0.1901840    0.3128834 R      \n",
       "12 0.2420382    0.2675159 R      \n",
       "13 0.1518987    0.2911392 R      \n",
       "14 0.1474359    0.3012821 R      \n",
       "15 0.1929825    0.2690058 R      "
      ]
     },
     "metadata": {},
     "output_type": "display_data"
    }
   ],
   "source": [
    "head(Probs_with_clusters, 15)"
   ]
  },
  {
   "cell_type": "code",
   "execution_count": 103,
   "id": "f8cf4d14",
   "metadata": {},
   "outputs": [
    {
     "data": {
      "text/html": [
       "<table>\n",
       "<thead><tr><th></th><th scope=col>UserName</th><th scope=col>Reconnaissance</th><th scope=col>Delivery</th><th scope=col>LateralMovement</th><th scope=col>PrivilegeEscalation</th><th scope=col>Exfiltration</th><th scope=col>Maximum</th><th scope=col>Cluster</th></tr></thead>\n",
       "<tbody>\n",
       "\t<tr><th scope=row>8</th><td>User091297</td><td>0.3237410 </td><td>0.2014388 </td><td>0.1438849 </td><td>0.17266187</td><td>0.15827338</td><td>0.3237410 </td><td>R         </td></tr>\n",
       "\t<tr><th scope=row>413</th><td>User091297</td><td>0.3142857 </td><td>0.2000000 </td><td>0.1571429 </td><td>0.17142857</td><td>0.15714286</td><td>0.3142857 </td><td>R         </td></tr>\n",
       "\t<tr><th scope=row>786</th><td>User091297</td><td>0.2571429 </td><td>0.1714286 </td><td>0.1285714 </td><td>0.18571429</td><td>0.25714286</td><td>0.2571429 </td><td>E         </td></tr>\n",
       "\t<tr><th scope=row>787</th><td>User091297</td><td>0.2748092 </td><td>0.1755725 </td><td>0.1450382 </td><td>0.19083969</td><td>0.21374046</td><td>0.2748092 </td><td>R         </td></tr>\n",
       "\t<tr><th scope=row>788</th><td>User091297</td><td>0.3923077 </td><td>0.1769231 </td><td>0.1692308 </td><td>0.13076923</td><td>0.13076923</td><td>0.3923077 </td><td>R         </td></tr>\n",
       "\t<tr><th scope=row>1210</th><td>User091297</td><td>0.2826087 </td><td>0.1594203 </td><td>0.1376812 </td><td>0.21014493</td><td>0.21014493</td><td>0.2826087 </td><td>R         </td></tr>\n",
       "\t<tr><th scope=row>1277</th><td>User091297</td><td>0.3873239 </td><td>0.2183099 </td><td>0.1408451 </td><td>0.13380282</td><td>0.11971831</td><td>0.3873239 </td><td>R         </td></tr>\n",
       "\t<tr><th scope=row>1509</th><td>User091297</td><td>0.2748092 </td><td>0.1832061 </td><td>0.1374046 </td><td>0.19083969</td><td>0.21374046</td><td>0.2748092 </td><td>R         </td></tr>\n",
       "\t<tr><th scope=row>2326</th><td>User091297</td><td>0.3943662 </td><td>0.2323944 </td><td>0.1338028 </td><td>0.12676056</td><td>0.11267606</td><td>0.3943662 </td><td>R         </td></tr>\n",
       "\t<tr><th scope=row>2467</th><td>User091297</td><td>0.2285714 </td><td>0.1857143 </td><td>0.1285714 </td><td>0.19285714</td><td>0.26428571</td><td>0.2642857 </td><td>E         </td></tr>\n",
       "\t<tr><th scope=row>3163</th><td>User091297</td><td>0.3493151 </td><td>0.1849315 </td><td>0.1438356 </td><td>0.15753425</td><td>0.16438356</td><td>0.3493151 </td><td>R         </td></tr>\n",
       "\t<tr><th scope=row>3164</th><td>User091297</td><td>0.3150685 </td><td>0.1849315 </td><td>0.1506849 </td><td>0.17123288</td><td>0.17808219</td><td>0.3150685 </td><td>R         </td></tr>\n",
       "\t<tr><th scope=row>3388</th><td>User091297</td><td>0.3087248 </td><td>0.1476510 </td><td>0.1677852 </td><td>0.17449664</td><td>0.20134228</td><td>0.3087248 </td><td>R         </td></tr>\n",
       "\t<tr><th scope=row>3557</th><td>User091297</td><td>0.2536232 </td><td>0.1739130 </td><td>0.1376812 </td><td>0.21739130</td><td>0.21739130</td><td>0.2536232 </td><td>R         </td></tr>\n",
       "\t<tr><th scope=row>3725</th><td>User091297</td><td>0.3517241 </td><td>0.1931034 </td><td>0.1586207 </td><td>0.14482759</td><td>0.15172414</td><td>0.3517241 </td><td>R         </td></tr>\n",
       "\t<tr><th scope=row>4076</th><td>User091297</td><td>0.2483221 </td><td>0.1610738 </td><td>0.1677852 </td><td>0.18791946</td><td>0.23489933</td><td>0.2483221 </td><td>R         </td></tr>\n",
       "\t<tr><th scope=row>4138</th><td>User091297</td><td>0.2827586 </td><td>0.2137931 </td><td>0.1724138 </td><td>0.15862069</td><td>0.17241379</td><td>0.2827586 </td><td>R         </td></tr>\n",
       "\t<tr><th scope=row>4139</th><td>User091297</td><td>0.3943662 </td><td>0.2323944 </td><td>0.1338028 </td><td>0.12676056</td><td>0.11267606</td><td>0.3943662 </td><td>R         </td></tr>\n",
       "\t<tr><th scope=row>4350</th><td>User091297</td><td>0.3407407 </td><td>0.1629630 </td><td>0.1851852 </td><td>0.14074074</td><td>0.17037037</td><td>0.3407407 </td><td>R         </td></tr>\n",
       "\t<tr><th scope=row>4669</th><td>User091297</td><td>0.2483221 </td><td>0.1610738 </td><td>0.1677852 </td><td>0.18791946</td><td>0.23489933</td><td>0.2483221 </td><td>R         </td></tr>\n",
       "\t<tr><th scope=row>4670</th><td>User091297</td><td>0.1818182 </td><td>0.1298701 </td><td>0.1818182 </td><td>0.22077922</td><td>0.28571429</td><td>0.2857143 </td><td>E         </td></tr>\n",
       "\t<tr><th scope=row>4821</th><td>User091297</td><td>0.2896552 </td><td>0.2068966 </td><td>0.1724138 </td><td>0.15862069</td><td>0.17241379</td><td>0.2896552 </td><td>R         </td></tr>\n",
       "\t<tr><th scope=row>4996</th><td>User091297</td><td>0.3493151 </td><td>0.1849315 </td><td>0.1438356 </td><td>0.15753425</td><td>0.16438356</td><td>0.3493151 </td><td>R         </td></tr>\n",
       "\t<tr><th scope=row>5150</th><td>User091297</td><td>0.2827586 </td><td>0.2137931 </td><td>0.1724138 </td><td>0.15862069</td><td>0.17241379</td><td>0.2827586 </td><td>R         </td></tr>\n",
       "\t<tr><th scope=row>5383</th><td>User091297</td><td>0.3970588 </td><td>0.1985294 </td><td>0.1911765 </td><td>0.10294118</td><td>0.11029412</td><td>0.3970588 </td><td>R         </td></tr>\n",
       "\t<tr><th scope=row>10502</th><td>User091297</td><td>0.3943662 </td><td>0.2323944 </td><td>0.1338028 </td><td>0.12676056</td><td>0.11267606</td><td>0.3943662 </td><td>R         </td></tr>\n",
       "\t<tr><th scope=row>10795</th><td>User091297</td><td>0.4503817 </td><td>0.2137405 </td><td>0.1755725 </td><td>0.09160305</td><td>0.06870229</td><td>0.4503817 </td><td>R         </td></tr>\n",
       "\t<tr><th scope=row>11380</th><td>User091297</td><td>0.3493151 </td><td>0.1849315 </td><td>0.1438356 </td><td>0.15753425</td><td>0.16438356</td><td>0.3493151 </td><td>R         </td></tr>\n",
       "\t<tr><th scope=row>11381</th><td>User091297</td><td>0.3873239 </td><td>0.2183099 </td><td>0.1408451 </td><td>0.13380282</td><td>0.11971831</td><td>0.3873239 </td><td>R         </td></tr>\n",
       "\t<tr><th scope=row>11701</th><td>User091297</td><td>0.3923077 </td><td>0.1769231 </td><td>0.1692308 </td><td>0.13076923</td><td>0.13076923</td><td>0.3923077 </td><td>R         </td></tr>\n",
       "\t<tr><th scope=row>...</th><td>...</td><td>...</td><td>...</td><td>...</td><td>...</td><td>...</td><td>...</td><td>...</td></tr>\n",
       "\t<tr><th scope=row>16996</th><td>User091297</td><td>0.3923077 </td><td>0.1769231 </td><td>0.1692308 </td><td>0.1307692 </td><td>0.1307692 </td><td>0.3923077 </td><td>R         </td></tr>\n",
       "\t<tr><th scope=row>20492</th><td>User091297</td><td>0.3087248 </td><td>0.1476510 </td><td>0.1677852 </td><td>0.1744966 </td><td>0.2013423 </td><td>0.3087248 </td><td>R         </td></tr>\n",
       "\t<tr><th scope=row>20853</th><td>User091297</td><td>0.3517241 </td><td>0.1931034 </td><td>0.1586207 </td><td>0.1448276 </td><td>0.1517241 </td><td>0.3517241 </td><td>R         </td></tr>\n",
       "\t<tr><th scope=row>20938</th><td>User091297</td><td>0.3237410 </td><td>0.2014388 </td><td>0.1438849 </td><td>0.1726619 </td><td>0.1582734 </td><td>0.3237410 </td><td>R         </td></tr>\n",
       "\t<tr><th scope=row>21006</th><td>User091297</td><td>0.3293413 </td><td>0.2275449 </td><td>0.1736527 </td><td>0.1676647 </td><td>0.1017964 </td><td>0.3293413 </td><td>R         </td></tr>\n",
       "\t<tr><th scope=row>21392</th><td>User091297</td><td>0.3142857 </td><td>0.2000000 </td><td>0.1571429 </td><td>0.1714286 </td><td>0.1571429 </td><td>0.3142857 </td><td>R         </td></tr>\n",
       "\t<tr><th scope=row>21462</th><td>User091297</td><td>0.3943662 </td><td>0.2323944 </td><td>0.1338028 </td><td>0.1267606 </td><td>0.1126761 </td><td>0.3943662 </td><td>R         </td></tr>\n",
       "\t<tr><th scope=row>21555</th><td>User091297</td><td>0.3786982 </td><td>0.1893491 </td><td>0.1538462 </td><td>0.1656805 </td><td>0.1124260 </td><td>0.3786982 </td><td>R         </td></tr>\n",
       "\t<tr><th scope=row>22364</th><td>User091297</td><td>0.3493151 </td><td>0.1849315 </td><td>0.1438356 </td><td>0.1575342 </td><td>0.1643836 </td><td>0.3493151 </td><td>R         </td></tr>\n",
       "\t<tr><th scope=row>22556</th><td>User091297</td><td>0.3758389 </td><td>0.2281879 </td><td>0.1476510 </td><td>0.1275168 </td><td>0.1208054 </td><td>0.3758389 </td><td>R         </td></tr>\n",
       "\t<tr><th scope=row>23538</th><td>User091297</td><td>0.3943662 </td><td>0.2323944 </td><td>0.1338028 </td><td>0.1267606 </td><td>0.1126761 </td><td>0.3943662 </td><td>R         </td></tr>\n",
       "\t<tr><th scope=row>24395</th><td>User091297</td><td>0.3493151 </td><td>0.1849315 </td><td>0.1438356 </td><td>0.1575342 </td><td>0.1643836 </td><td>0.3493151 </td><td>R         </td></tr>\n",
       "\t<tr><th scope=row>29665</th><td>User091297</td><td>0.3237410 </td><td>0.2014388 </td><td>0.1438849 </td><td>0.1726619 </td><td>0.1582734 </td><td>0.3237410 </td><td>R         </td></tr>\n",
       "\t<tr><th scope=row>29734</th><td>User091297</td><td>0.2638037 </td><td>0.1533742 </td><td>0.1533742 </td><td>0.2331288 </td><td>0.1963190 </td><td>0.2638037 </td><td>R         </td></tr>\n",
       "\t<tr><th scope=row>30075</th><td>User091297</td><td>0.3142857 </td><td>0.2000000 </td><td>0.1571429 </td><td>0.1714286 </td><td>0.1571429 </td><td>0.3142857 </td><td>R         </td></tr>\n",
       "\t<tr><th scope=row>30146</th><td>User091297</td><td>0.3943662 </td><td>0.2323944 </td><td>0.1338028 </td><td>0.1267606 </td><td>0.1126761 </td><td>0.3943662 </td><td>R         </td></tr>\n",
       "\t<tr><th scope=row>30819</th><td>User091297</td><td>0.2424242 </td><td>0.1636364 </td><td>0.1454545 </td><td>0.2121212 </td><td>0.2363636 </td><td>0.2424242 </td><td>R         </td></tr>\n",
       "\t<tr><th scope=row>31004</th><td>User091297</td><td>0.3493151 </td><td>0.1849315 </td><td>0.1438356 </td><td>0.1575342 </td><td>0.1643836 </td><td>0.3493151 </td><td>R         </td></tr>\n",
       "\t<tr><th scope=row>31005</th><td>User091297</td><td>0.1578947 </td><td>0.1381579 </td><td>0.1644737 </td><td>0.2500000 </td><td>0.2894737 </td><td>0.2894737 </td><td>E         </td></tr>\n",
       "\t<tr><th scope=row>32133</th><td>User091297</td><td>0.3943662 </td><td>0.2323944 </td><td>0.1338028 </td><td>0.1267606 </td><td>0.1126761 </td><td>0.3943662 </td><td>R         </td></tr>\n",
       "\t<tr><th scope=row>32887</th><td>User091297</td><td>0.3493151 </td><td>0.1849315 </td><td>0.1438356 </td><td>0.1575342 </td><td>0.1643836 </td><td>0.3493151 </td><td>R         </td></tr>\n",
       "\t<tr><th scope=row>33505</th><td>User091297</td><td>0.3237410 </td><td>0.2014388 </td><td>0.1438849 </td><td>0.1726619 </td><td>0.1582734 </td><td>0.3237410 </td><td>R         </td></tr>\n",
       "\t<tr><th scope=row>33904</th><td>User091297</td><td>0.3786982 </td><td>0.1893491 </td><td>0.1538462 </td><td>0.1656805 </td><td>0.1124260 </td><td>0.3786982 </td><td>R         </td></tr>\n",
       "\t<tr><th scope=row>33905</th><td>User091297</td><td>0.3142857 </td><td>0.2000000 </td><td>0.1571429 </td><td>0.1714286 </td><td>0.1571429 </td><td>0.3142857 </td><td>R         </td></tr>\n",
       "\t<tr><th scope=row>33969</th><td>User091297</td><td>0.3943662 </td><td>0.2323944 </td><td>0.1338028 </td><td>0.1267606 </td><td>0.1126761 </td><td>0.3943662 </td><td>R         </td></tr>\n",
       "\t<tr><th scope=row>34795</th><td>User091297</td><td>0.3493151 </td><td>0.1849315 </td><td>0.1438356 </td><td>0.1575342 </td><td>0.1643836 </td><td>0.3493151 </td><td>R         </td></tr>\n",
       "\t<tr><th scope=row>34982</th><td>User091297</td><td>0.3758389 </td><td>0.2281879 </td><td>0.1476510 </td><td>0.1275168 </td><td>0.1208054 </td><td>0.3758389 </td><td>R         </td></tr>\n",
       "\t<tr><th scope=row>35468</th><td>User091297</td><td>0.3237410 </td><td>0.2014388 </td><td>0.1438849 </td><td>0.1726619 </td><td>0.1582734 </td><td>0.3237410 </td><td>R         </td></tr>\n",
       "\t<tr><th scope=row>35866</th><td>User091297</td><td>0.3786982 </td><td>0.1893491 </td><td>0.1538462 </td><td>0.1656805 </td><td>0.1124260 </td><td>0.3786982 </td><td>R         </td></tr>\n",
       "\t<tr><th scope=row>35867</th><td>User091297</td><td>0.3142857 </td><td>0.2000000 </td><td>0.1571429 </td><td>0.1714286 </td><td>0.1571429 </td><td>0.3142857 </td><td>R         </td></tr>\n",
       "</tbody>\n",
       "</table>\n"
      ],
      "text/latex": [
       "\\begin{tabular}{r|llllllll}\n",
       "  & UserName & Reconnaissance & Delivery & LateralMovement & PrivilegeEscalation & Exfiltration & Maximum & Cluster\\\\\n",
       "\\hline\n",
       "\t8 & User091297 & 0.3237410  & 0.2014388  & 0.1438849  & 0.17266187 & 0.15827338 & 0.3237410  & R         \\\\\n",
       "\t413 & User091297 & 0.3142857  & 0.2000000  & 0.1571429  & 0.17142857 & 0.15714286 & 0.3142857  & R         \\\\\n",
       "\t786 & User091297 & 0.2571429  & 0.1714286  & 0.1285714  & 0.18571429 & 0.25714286 & 0.2571429  & E         \\\\\n",
       "\t787 & User091297 & 0.2748092  & 0.1755725  & 0.1450382  & 0.19083969 & 0.21374046 & 0.2748092  & R         \\\\\n",
       "\t788 & User091297 & 0.3923077  & 0.1769231  & 0.1692308  & 0.13076923 & 0.13076923 & 0.3923077  & R         \\\\\n",
       "\t1210 & User091297 & 0.2826087  & 0.1594203  & 0.1376812  & 0.21014493 & 0.21014493 & 0.2826087  & R         \\\\\n",
       "\t1277 & User091297 & 0.3873239  & 0.2183099  & 0.1408451  & 0.13380282 & 0.11971831 & 0.3873239  & R         \\\\\n",
       "\t1509 & User091297 & 0.2748092  & 0.1832061  & 0.1374046  & 0.19083969 & 0.21374046 & 0.2748092  & R         \\\\\n",
       "\t2326 & User091297 & 0.3943662  & 0.2323944  & 0.1338028  & 0.12676056 & 0.11267606 & 0.3943662  & R         \\\\\n",
       "\t2467 & User091297 & 0.2285714  & 0.1857143  & 0.1285714  & 0.19285714 & 0.26428571 & 0.2642857  & E         \\\\\n",
       "\t3163 & User091297 & 0.3493151  & 0.1849315  & 0.1438356  & 0.15753425 & 0.16438356 & 0.3493151  & R         \\\\\n",
       "\t3164 & User091297 & 0.3150685  & 0.1849315  & 0.1506849  & 0.17123288 & 0.17808219 & 0.3150685  & R         \\\\\n",
       "\t3388 & User091297 & 0.3087248  & 0.1476510  & 0.1677852  & 0.17449664 & 0.20134228 & 0.3087248  & R         \\\\\n",
       "\t3557 & User091297 & 0.2536232  & 0.1739130  & 0.1376812  & 0.21739130 & 0.21739130 & 0.2536232  & R         \\\\\n",
       "\t3725 & User091297 & 0.3517241  & 0.1931034  & 0.1586207  & 0.14482759 & 0.15172414 & 0.3517241  & R         \\\\\n",
       "\t4076 & User091297 & 0.2483221  & 0.1610738  & 0.1677852  & 0.18791946 & 0.23489933 & 0.2483221  & R         \\\\\n",
       "\t4138 & User091297 & 0.2827586  & 0.2137931  & 0.1724138  & 0.15862069 & 0.17241379 & 0.2827586  & R         \\\\\n",
       "\t4139 & User091297 & 0.3943662  & 0.2323944  & 0.1338028  & 0.12676056 & 0.11267606 & 0.3943662  & R         \\\\\n",
       "\t4350 & User091297 & 0.3407407  & 0.1629630  & 0.1851852  & 0.14074074 & 0.17037037 & 0.3407407  & R         \\\\\n",
       "\t4669 & User091297 & 0.2483221  & 0.1610738  & 0.1677852  & 0.18791946 & 0.23489933 & 0.2483221  & R         \\\\\n",
       "\t4670 & User091297 & 0.1818182  & 0.1298701  & 0.1818182  & 0.22077922 & 0.28571429 & 0.2857143  & E         \\\\\n",
       "\t4821 & User091297 & 0.2896552  & 0.2068966  & 0.1724138  & 0.15862069 & 0.17241379 & 0.2896552  & R         \\\\\n",
       "\t4996 & User091297 & 0.3493151  & 0.1849315  & 0.1438356  & 0.15753425 & 0.16438356 & 0.3493151  & R         \\\\\n",
       "\t5150 & User091297 & 0.2827586  & 0.2137931  & 0.1724138  & 0.15862069 & 0.17241379 & 0.2827586  & R         \\\\\n",
       "\t5383 & User091297 & 0.3970588  & 0.1985294  & 0.1911765  & 0.10294118 & 0.11029412 & 0.3970588  & R         \\\\\n",
       "\t10502 & User091297 & 0.3943662  & 0.2323944  & 0.1338028  & 0.12676056 & 0.11267606 & 0.3943662  & R         \\\\\n",
       "\t10795 & User091297 & 0.4503817  & 0.2137405  & 0.1755725  & 0.09160305 & 0.06870229 & 0.4503817  & R         \\\\\n",
       "\t11380 & User091297 & 0.3493151  & 0.1849315  & 0.1438356  & 0.15753425 & 0.16438356 & 0.3493151  & R         \\\\\n",
       "\t11381 & User091297 & 0.3873239  & 0.2183099  & 0.1408451  & 0.13380282 & 0.11971831 & 0.3873239  & R         \\\\\n",
       "\t11701 & User091297 & 0.3923077  & 0.1769231  & 0.1692308  & 0.13076923 & 0.13076923 & 0.3923077  & R         \\\\\n",
       "\t... & ... & ... & ... & ... & ... & ... & ... & ...\\\\\n",
       "\t16996 & User091297 & 0.3923077  & 0.1769231  & 0.1692308  & 0.1307692  & 0.1307692  & 0.3923077  & R         \\\\\n",
       "\t20492 & User091297 & 0.3087248  & 0.1476510  & 0.1677852  & 0.1744966  & 0.2013423  & 0.3087248  & R         \\\\\n",
       "\t20853 & User091297 & 0.3517241  & 0.1931034  & 0.1586207  & 0.1448276  & 0.1517241  & 0.3517241  & R         \\\\\n",
       "\t20938 & User091297 & 0.3237410  & 0.2014388  & 0.1438849  & 0.1726619  & 0.1582734  & 0.3237410  & R         \\\\\n",
       "\t21006 & User091297 & 0.3293413  & 0.2275449  & 0.1736527  & 0.1676647  & 0.1017964  & 0.3293413  & R         \\\\\n",
       "\t21392 & User091297 & 0.3142857  & 0.2000000  & 0.1571429  & 0.1714286  & 0.1571429  & 0.3142857  & R         \\\\\n",
       "\t21462 & User091297 & 0.3943662  & 0.2323944  & 0.1338028  & 0.1267606  & 0.1126761  & 0.3943662  & R         \\\\\n",
       "\t21555 & User091297 & 0.3786982  & 0.1893491  & 0.1538462  & 0.1656805  & 0.1124260  & 0.3786982  & R         \\\\\n",
       "\t22364 & User091297 & 0.3493151  & 0.1849315  & 0.1438356  & 0.1575342  & 0.1643836  & 0.3493151  & R         \\\\\n",
       "\t22556 & User091297 & 0.3758389  & 0.2281879  & 0.1476510  & 0.1275168  & 0.1208054  & 0.3758389  & R         \\\\\n",
       "\t23538 & User091297 & 0.3943662  & 0.2323944  & 0.1338028  & 0.1267606  & 0.1126761  & 0.3943662  & R         \\\\\n",
       "\t24395 & User091297 & 0.3493151  & 0.1849315  & 0.1438356  & 0.1575342  & 0.1643836  & 0.3493151  & R         \\\\\n",
       "\t29665 & User091297 & 0.3237410  & 0.2014388  & 0.1438849  & 0.1726619  & 0.1582734  & 0.3237410  & R         \\\\\n",
       "\t29734 & User091297 & 0.2638037  & 0.1533742  & 0.1533742  & 0.2331288  & 0.1963190  & 0.2638037  & R         \\\\\n",
       "\t30075 & User091297 & 0.3142857  & 0.2000000  & 0.1571429  & 0.1714286  & 0.1571429  & 0.3142857  & R         \\\\\n",
       "\t30146 & User091297 & 0.3943662  & 0.2323944  & 0.1338028  & 0.1267606  & 0.1126761  & 0.3943662  & R         \\\\\n",
       "\t30819 & User091297 & 0.2424242  & 0.1636364  & 0.1454545  & 0.2121212  & 0.2363636  & 0.2424242  & R         \\\\\n",
       "\t31004 & User091297 & 0.3493151  & 0.1849315  & 0.1438356  & 0.1575342  & 0.1643836  & 0.3493151  & R         \\\\\n",
       "\t31005 & User091297 & 0.1578947  & 0.1381579  & 0.1644737  & 0.2500000  & 0.2894737  & 0.2894737  & E         \\\\\n",
       "\t32133 & User091297 & 0.3943662  & 0.2323944  & 0.1338028  & 0.1267606  & 0.1126761  & 0.3943662  & R         \\\\\n",
       "\t32887 & User091297 & 0.3493151  & 0.1849315  & 0.1438356  & 0.1575342  & 0.1643836  & 0.3493151  & R         \\\\\n",
       "\t33505 & User091297 & 0.3237410  & 0.2014388  & 0.1438849  & 0.1726619  & 0.1582734  & 0.3237410  & R         \\\\\n",
       "\t33904 & User091297 & 0.3786982  & 0.1893491  & 0.1538462  & 0.1656805  & 0.1124260  & 0.3786982  & R         \\\\\n",
       "\t33905 & User091297 & 0.3142857  & 0.2000000  & 0.1571429  & 0.1714286  & 0.1571429  & 0.3142857  & R         \\\\\n",
       "\t33969 & User091297 & 0.3943662  & 0.2323944  & 0.1338028  & 0.1267606  & 0.1126761  & 0.3943662  & R         \\\\\n",
       "\t34795 & User091297 & 0.3493151  & 0.1849315  & 0.1438356  & 0.1575342  & 0.1643836  & 0.3493151  & R         \\\\\n",
       "\t34982 & User091297 & 0.3758389  & 0.2281879  & 0.1476510  & 0.1275168  & 0.1208054  & 0.3758389  & R         \\\\\n",
       "\t35468 & User091297 & 0.3237410  & 0.2014388  & 0.1438849  & 0.1726619  & 0.1582734  & 0.3237410  & R         \\\\\n",
       "\t35866 & User091297 & 0.3786982  & 0.1893491  & 0.1538462  & 0.1656805  & 0.1124260  & 0.3786982  & R         \\\\\n",
       "\t35867 & User091297 & 0.3142857  & 0.2000000  & 0.1571429  & 0.1714286  & 0.1571429  & 0.3142857  & R         \\\\\n",
       "\\end{tabular}\n"
      ],
      "text/markdown": [
       "\n",
       "| <!--/--> | UserName | Reconnaissance | Delivery | LateralMovement | PrivilegeEscalation | Exfiltration | Maximum | Cluster |\n",
       "|---|---|---|---|---|---|---|---|---|\n",
       "| 8 | User091297 | 0.3237410  | 0.2014388  | 0.1438849  | 0.17266187 | 0.15827338 | 0.3237410  | R          |\n",
       "| 413 | User091297 | 0.3142857  | 0.2000000  | 0.1571429  | 0.17142857 | 0.15714286 | 0.3142857  | R          |\n",
       "| 786 | User091297 | 0.2571429  | 0.1714286  | 0.1285714  | 0.18571429 | 0.25714286 | 0.2571429  | E          |\n",
       "| 787 | User091297 | 0.2748092  | 0.1755725  | 0.1450382  | 0.19083969 | 0.21374046 | 0.2748092  | R          |\n",
       "| 788 | User091297 | 0.3923077  | 0.1769231  | 0.1692308  | 0.13076923 | 0.13076923 | 0.3923077  | R          |\n",
       "| 1210 | User091297 | 0.2826087  | 0.1594203  | 0.1376812  | 0.21014493 | 0.21014493 | 0.2826087  | R          |\n",
       "| 1277 | User091297 | 0.3873239  | 0.2183099  | 0.1408451  | 0.13380282 | 0.11971831 | 0.3873239  | R          |\n",
       "| 1509 | User091297 | 0.2748092  | 0.1832061  | 0.1374046  | 0.19083969 | 0.21374046 | 0.2748092  | R          |\n",
       "| 2326 | User091297 | 0.3943662  | 0.2323944  | 0.1338028  | 0.12676056 | 0.11267606 | 0.3943662  | R          |\n",
       "| 2467 | User091297 | 0.2285714  | 0.1857143  | 0.1285714  | 0.19285714 | 0.26428571 | 0.2642857  | E          |\n",
       "| 3163 | User091297 | 0.3493151  | 0.1849315  | 0.1438356  | 0.15753425 | 0.16438356 | 0.3493151  | R          |\n",
       "| 3164 | User091297 | 0.3150685  | 0.1849315  | 0.1506849  | 0.17123288 | 0.17808219 | 0.3150685  | R          |\n",
       "| 3388 | User091297 | 0.3087248  | 0.1476510  | 0.1677852  | 0.17449664 | 0.20134228 | 0.3087248  | R          |\n",
       "| 3557 | User091297 | 0.2536232  | 0.1739130  | 0.1376812  | 0.21739130 | 0.21739130 | 0.2536232  | R          |\n",
       "| 3725 | User091297 | 0.3517241  | 0.1931034  | 0.1586207  | 0.14482759 | 0.15172414 | 0.3517241  | R          |\n",
       "| 4076 | User091297 | 0.2483221  | 0.1610738  | 0.1677852  | 0.18791946 | 0.23489933 | 0.2483221  | R          |\n",
       "| 4138 | User091297 | 0.2827586  | 0.2137931  | 0.1724138  | 0.15862069 | 0.17241379 | 0.2827586  | R          |\n",
       "| 4139 | User091297 | 0.3943662  | 0.2323944  | 0.1338028  | 0.12676056 | 0.11267606 | 0.3943662  | R          |\n",
       "| 4350 | User091297 | 0.3407407  | 0.1629630  | 0.1851852  | 0.14074074 | 0.17037037 | 0.3407407  | R          |\n",
       "| 4669 | User091297 | 0.2483221  | 0.1610738  | 0.1677852  | 0.18791946 | 0.23489933 | 0.2483221  | R          |\n",
       "| 4670 | User091297 | 0.1818182  | 0.1298701  | 0.1818182  | 0.22077922 | 0.28571429 | 0.2857143  | E          |\n",
       "| 4821 | User091297 | 0.2896552  | 0.2068966  | 0.1724138  | 0.15862069 | 0.17241379 | 0.2896552  | R          |\n",
       "| 4996 | User091297 | 0.3493151  | 0.1849315  | 0.1438356  | 0.15753425 | 0.16438356 | 0.3493151  | R          |\n",
       "| 5150 | User091297 | 0.2827586  | 0.2137931  | 0.1724138  | 0.15862069 | 0.17241379 | 0.2827586  | R          |\n",
       "| 5383 | User091297 | 0.3970588  | 0.1985294  | 0.1911765  | 0.10294118 | 0.11029412 | 0.3970588  | R          |\n",
       "| 10502 | User091297 | 0.3943662  | 0.2323944  | 0.1338028  | 0.12676056 | 0.11267606 | 0.3943662  | R          |\n",
       "| 10795 | User091297 | 0.4503817  | 0.2137405  | 0.1755725  | 0.09160305 | 0.06870229 | 0.4503817  | R          |\n",
       "| 11380 | User091297 | 0.3493151  | 0.1849315  | 0.1438356  | 0.15753425 | 0.16438356 | 0.3493151  | R          |\n",
       "| 11381 | User091297 | 0.3873239  | 0.2183099  | 0.1408451  | 0.13380282 | 0.11971831 | 0.3873239  | R          |\n",
       "| 11701 | User091297 | 0.3923077  | 0.1769231  | 0.1692308  | 0.13076923 | 0.13076923 | 0.3923077  | R          |\n",
       "| ... | ... | ... | ... | ... | ... | ... | ... | ... |\n",
       "| 16996 | User091297 | 0.3923077  | 0.1769231  | 0.1692308  | 0.1307692  | 0.1307692  | 0.3923077  | R          |\n",
       "| 20492 | User091297 | 0.3087248  | 0.1476510  | 0.1677852  | 0.1744966  | 0.2013423  | 0.3087248  | R          |\n",
       "| 20853 | User091297 | 0.3517241  | 0.1931034  | 0.1586207  | 0.1448276  | 0.1517241  | 0.3517241  | R          |\n",
       "| 20938 | User091297 | 0.3237410  | 0.2014388  | 0.1438849  | 0.1726619  | 0.1582734  | 0.3237410  | R          |\n",
       "| 21006 | User091297 | 0.3293413  | 0.2275449  | 0.1736527  | 0.1676647  | 0.1017964  | 0.3293413  | R          |\n",
       "| 21392 | User091297 | 0.3142857  | 0.2000000  | 0.1571429  | 0.1714286  | 0.1571429  | 0.3142857  | R          |\n",
       "| 21462 | User091297 | 0.3943662  | 0.2323944  | 0.1338028  | 0.1267606  | 0.1126761  | 0.3943662  | R          |\n",
       "| 21555 | User091297 | 0.3786982  | 0.1893491  | 0.1538462  | 0.1656805  | 0.1124260  | 0.3786982  | R          |\n",
       "| 22364 | User091297 | 0.3493151  | 0.1849315  | 0.1438356  | 0.1575342  | 0.1643836  | 0.3493151  | R          |\n",
       "| 22556 | User091297 | 0.3758389  | 0.2281879  | 0.1476510  | 0.1275168  | 0.1208054  | 0.3758389  | R          |\n",
       "| 23538 | User091297 | 0.3943662  | 0.2323944  | 0.1338028  | 0.1267606  | 0.1126761  | 0.3943662  | R          |\n",
       "| 24395 | User091297 | 0.3493151  | 0.1849315  | 0.1438356  | 0.1575342  | 0.1643836  | 0.3493151  | R          |\n",
       "| 29665 | User091297 | 0.3237410  | 0.2014388  | 0.1438849  | 0.1726619  | 0.1582734  | 0.3237410  | R          |\n",
       "| 29734 | User091297 | 0.2638037  | 0.1533742  | 0.1533742  | 0.2331288  | 0.1963190  | 0.2638037  | R          |\n",
       "| 30075 | User091297 | 0.3142857  | 0.2000000  | 0.1571429  | 0.1714286  | 0.1571429  | 0.3142857  | R          |\n",
       "| 30146 | User091297 | 0.3943662  | 0.2323944  | 0.1338028  | 0.1267606  | 0.1126761  | 0.3943662  | R          |\n",
       "| 30819 | User091297 | 0.2424242  | 0.1636364  | 0.1454545  | 0.2121212  | 0.2363636  | 0.2424242  | R          |\n",
       "| 31004 | User091297 | 0.3493151  | 0.1849315  | 0.1438356  | 0.1575342  | 0.1643836  | 0.3493151  | R          |\n",
       "| 31005 | User091297 | 0.1578947  | 0.1381579  | 0.1644737  | 0.2500000  | 0.2894737  | 0.2894737  | E          |\n",
       "| 32133 | User091297 | 0.3943662  | 0.2323944  | 0.1338028  | 0.1267606  | 0.1126761  | 0.3943662  | R          |\n",
       "| 32887 | User091297 | 0.3493151  | 0.1849315  | 0.1438356  | 0.1575342  | 0.1643836  | 0.3493151  | R          |\n",
       "| 33505 | User091297 | 0.3237410  | 0.2014388  | 0.1438849  | 0.1726619  | 0.1582734  | 0.3237410  | R          |\n",
       "| 33904 | User091297 | 0.3786982  | 0.1893491  | 0.1538462  | 0.1656805  | 0.1124260  | 0.3786982  | R          |\n",
       "| 33905 | User091297 | 0.3142857  | 0.2000000  | 0.1571429  | 0.1714286  | 0.1571429  | 0.3142857  | R          |\n",
       "| 33969 | User091297 | 0.3943662  | 0.2323944  | 0.1338028  | 0.1267606  | 0.1126761  | 0.3943662  | R          |\n",
       "| 34795 | User091297 | 0.3493151  | 0.1849315  | 0.1438356  | 0.1575342  | 0.1643836  | 0.3493151  | R          |\n",
       "| 34982 | User091297 | 0.3758389  | 0.2281879  | 0.1476510  | 0.1275168  | 0.1208054  | 0.3758389  | R          |\n",
       "| 35468 | User091297 | 0.3237410  | 0.2014388  | 0.1438849  | 0.1726619  | 0.1582734  | 0.3237410  | R          |\n",
       "| 35866 | User091297 | 0.3786982  | 0.1893491  | 0.1538462  | 0.1656805  | 0.1124260  | 0.3786982  | R          |\n",
       "| 35867 | User091297 | 0.3142857  | 0.2000000  | 0.1571429  | 0.1714286  | 0.1571429  | 0.3142857  | R          |\n",
       "\n"
      ],
      "text/plain": [
       "      UserName   Reconnaissance Delivery  LateralMovement PrivilegeEscalation\n",
       "8     User091297 0.3237410      0.2014388 0.1438849       0.17266187         \n",
       "413   User091297 0.3142857      0.2000000 0.1571429       0.17142857         \n",
       "786   User091297 0.2571429      0.1714286 0.1285714       0.18571429         \n",
       "787   User091297 0.2748092      0.1755725 0.1450382       0.19083969         \n",
       "788   User091297 0.3923077      0.1769231 0.1692308       0.13076923         \n",
       "1210  User091297 0.2826087      0.1594203 0.1376812       0.21014493         \n",
       "1277  User091297 0.3873239      0.2183099 0.1408451       0.13380282         \n",
       "1509  User091297 0.2748092      0.1832061 0.1374046       0.19083969         \n",
       "2326  User091297 0.3943662      0.2323944 0.1338028       0.12676056         \n",
       "2467  User091297 0.2285714      0.1857143 0.1285714       0.19285714         \n",
       "3163  User091297 0.3493151      0.1849315 0.1438356       0.15753425         \n",
       "3164  User091297 0.3150685      0.1849315 0.1506849       0.17123288         \n",
       "3388  User091297 0.3087248      0.1476510 0.1677852       0.17449664         \n",
       "3557  User091297 0.2536232      0.1739130 0.1376812       0.21739130         \n",
       "3725  User091297 0.3517241      0.1931034 0.1586207       0.14482759         \n",
       "4076  User091297 0.2483221      0.1610738 0.1677852       0.18791946         \n",
       "4138  User091297 0.2827586      0.2137931 0.1724138       0.15862069         \n",
       "4139  User091297 0.3943662      0.2323944 0.1338028       0.12676056         \n",
       "4350  User091297 0.3407407      0.1629630 0.1851852       0.14074074         \n",
       "4669  User091297 0.2483221      0.1610738 0.1677852       0.18791946         \n",
       "4670  User091297 0.1818182      0.1298701 0.1818182       0.22077922         \n",
       "4821  User091297 0.2896552      0.2068966 0.1724138       0.15862069         \n",
       "4996  User091297 0.3493151      0.1849315 0.1438356       0.15753425         \n",
       "5150  User091297 0.2827586      0.2137931 0.1724138       0.15862069         \n",
       "5383  User091297 0.3970588      0.1985294 0.1911765       0.10294118         \n",
       "10502 User091297 0.3943662      0.2323944 0.1338028       0.12676056         \n",
       "10795 User091297 0.4503817      0.2137405 0.1755725       0.09160305         \n",
       "11380 User091297 0.3493151      0.1849315 0.1438356       0.15753425         \n",
       "11381 User091297 0.3873239      0.2183099 0.1408451       0.13380282         \n",
       "11701 User091297 0.3923077      0.1769231 0.1692308       0.13076923         \n",
       "...   ...        ...            ...       ...             ...                \n",
       "16996 User091297 0.3923077      0.1769231 0.1692308       0.1307692          \n",
       "20492 User091297 0.3087248      0.1476510 0.1677852       0.1744966          \n",
       "20853 User091297 0.3517241      0.1931034 0.1586207       0.1448276          \n",
       "20938 User091297 0.3237410      0.2014388 0.1438849       0.1726619          \n",
       "21006 User091297 0.3293413      0.2275449 0.1736527       0.1676647          \n",
       "21392 User091297 0.3142857      0.2000000 0.1571429       0.1714286          \n",
       "21462 User091297 0.3943662      0.2323944 0.1338028       0.1267606          \n",
       "21555 User091297 0.3786982      0.1893491 0.1538462       0.1656805          \n",
       "22364 User091297 0.3493151      0.1849315 0.1438356       0.1575342          \n",
       "22556 User091297 0.3758389      0.2281879 0.1476510       0.1275168          \n",
       "23538 User091297 0.3943662      0.2323944 0.1338028       0.1267606          \n",
       "24395 User091297 0.3493151      0.1849315 0.1438356       0.1575342          \n",
       "29665 User091297 0.3237410      0.2014388 0.1438849       0.1726619          \n",
       "29734 User091297 0.2638037      0.1533742 0.1533742       0.2331288          \n",
       "30075 User091297 0.3142857      0.2000000 0.1571429       0.1714286          \n",
       "30146 User091297 0.3943662      0.2323944 0.1338028       0.1267606          \n",
       "30819 User091297 0.2424242      0.1636364 0.1454545       0.2121212          \n",
       "31004 User091297 0.3493151      0.1849315 0.1438356       0.1575342          \n",
       "31005 User091297 0.1578947      0.1381579 0.1644737       0.2500000          \n",
       "32133 User091297 0.3943662      0.2323944 0.1338028       0.1267606          \n",
       "32887 User091297 0.3493151      0.1849315 0.1438356       0.1575342          \n",
       "33505 User091297 0.3237410      0.2014388 0.1438849       0.1726619          \n",
       "33904 User091297 0.3786982      0.1893491 0.1538462       0.1656805          \n",
       "33905 User091297 0.3142857      0.2000000 0.1571429       0.1714286          \n",
       "33969 User091297 0.3943662      0.2323944 0.1338028       0.1267606          \n",
       "34795 User091297 0.3493151      0.1849315 0.1438356       0.1575342          \n",
       "34982 User091297 0.3758389      0.2281879 0.1476510       0.1275168          \n",
       "35468 User091297 0.3237410      0.2014388 0.1438849       0.1726619          \n",
       "35866 User091297 0.3786982      0.1893491 0.1538462       0.1656805          \n",
       "35867 User091297 0.3142857      0.2000000 0.1571429       0.1714286          \n",
       "      Exfiltration Maximum   Cluster\n",
       "8     0.15827338   0.3237410 R      \n",
       "413   0.15714286   0.3142857 R      \n",
       "786   0.25714286   0.2571429 E      \n",
       "787   0.21374046   0.2748092 R      \n",
       "788   0.13076923   0.3923077 R      \n",
       "1210  0.21014493   0.2826087 R      \n",
       "1277  0.11971831   0.3873239 R      \n",
       "1509  0.21374046   0.2748092 R      \n",
       "2326  0.11267606   0.3943662 R      \n",
       "2467  0.26428571   0.2642857 E      \n",
       "3163  0.16438356   0.3493151 R      \n",
       "3164  0.17808219   0.3150685 R      \n",
       "3388  0.20134228   0.3087248 R      \n",
       "3557  0.21739130   0.2536232 R      \n",
       "3725  0.15172414   0.3517241 R      \n",
       "4076  0.23489933   0.2483221 R      \n",
       "4138  0.17241379   0.2827586 R      \n",
       "4139  0.11267606   0.3943662 R      \n",
       "4350  0.17037037   0.3407407 R      \n",
       "4669  0.23489933   0.2483221 R      \n",
       "4670  0.28571429   0.2857143 E      \n",
       "4821  0.17241379   0.2896552 R      \n",
       "4996  0.16438356   0.3493151 R      \n",
       "5150  0.17241379   0.2827586 R      \n",
       "5383  0.11029412   0.3970588 R      \n",
       "10502 0.11267606   0.3943662 R      \n",
       "10795 0.06870229   0.4503817 R      \n",
       "11380 0.16438356   0.3493151 R      \n",
       "11381 0.11971831   0.3873239 R      \n",
       "11701 0.13076923   0.3923077 R      \n",
       "...   ...          ...       ...    \n",
       "16996 0.1307692    0.3923077 R      \n",
       "20492 0.2013423    0.3087248 R      \n",
       "20853 0.1517241    0.3517241 R      \n",
       "20938 0.1582734    0.3237410 R      \n",
       "21006 0.1017964    0.3293413 R      \n",
       "21392 0.1571429    0.3142857 R      \n",
       "21462 0.1126761    0.3943662 R      \n",
       "21555 0.1124260    0.3786982 R      \n",
       "22364 0.1643836    0.3493151 R      \n",
       "22556 0.1208054    0.3758389 R      \n",
       "23538 0.1126761    0.3943662 R      \n",
       "24395 0.1643836    0.3493151 R      \n",
       "29665 0.1582734    0.3237410 R      \n",
       "29734 0.1963190    0.2638037 R      \n",
       "30075 0.1571429    0.3142857 R      \n",
       "30146 0.1126761    0.3943662 R      \n",
       "30819 0.2363636    0.2424242 R      \n",
       "31004 0.1643836    0.3493151 R      \n",
       "31005 0.2894737    0.2894737 E      \n",
       "32133 0.1126761    0.3943662 R      \n",
       "32887 0.1643836    0.3493151 R      \n",
       "33505 0.1582734    0.3237410 R      \n",
       "33904 0.1124260    0.3786982 R      \n",
       "33905 0.1571429    0.3142857 R      \n",
       "33969 0.1126761    0.3943662 R      \n",
       "34795 0.1643836    0.3493151 R      \n",
       "34982 0.1208054    0.3758389 R      \n",
       "35468 0.1582734    0.3237410 R      \n",
       "35866 0.1124260    0.3786982 R      \n",
       "35867 0.1571429    0.3142857 R      "
      ]
     },
     "metadata": {},
     "output_type": "display_data"
    }
   ],
   "source": [
    "Probs_with_clusters[Probs_with_clusters$UserName=='User091297', ]"
   ]
  },
  {
   "cell_type": "code",
   "execution_count": 101,
   "id": "c82ecb6d",
   "metadata": {},
   "outputs": [
    {
     "data": {
      "text/plain": [
       "\n",
       "    D     E    LM    PE     R \n",
       "  288  7428    65  3888 27043 "
      ]
     },
     "metadata": {},
     "output_type": "display_data"
    }
   ],
   "source": [
    "T1 <- table(Probs_with_clusters$Cluster)\n",
    "T1"
   ]
  },
  {
   "cell_type": "code",
   "execution_count": 102,
   "id": "e3cea460",
   "metadata": {},
   "outputs": [],
   "source": [
    "OldProbs <- Probs_with_clusters"
   ]
  },
  {
   "cell_type": "code",
   "execution_count": 26,
   "id": "a9d4a1b3",
   "metadata": {},
   "outputs": [
    {
     "data": {
      "text/plain": [
       "\n",
       "    1     2     3     4     5 \n",
       " 9902  5469 11301  5522  6518 "
      ]
     },
     "metadata": {},
     "output_type": "display_data"
    },
    {
     "data": {
      "image/png": "[encoded data removed]",
      "text/plain": [
       "plot without title"
      ]
     },
     "metadata": {},
     "output_type": "display_data"
    }
   ],
   "source": [
    "K1 <- kmeans(Stages, centers=5, nstart = sample(1:nrow(Stages), size=1), algorithm=\"Lloyd\", iter.max = 10^4)\n",
    "TK1 <- table(K1$cluster)\n",
    "TK1\n",
    "\n",
    "fviz_cluster(K1, data = Stages, geom = \"point\",\n",
    "             ellipse.type = \"convex\", \n",
    "             ggtheme = theme_bw()\n",
    "             )"
   ]
  },
  {
   "cell_type": "markdown",
   "id": "fb8c0cf4",
   "metadata": {},
   "source": [
    "#### Retrospective chronology: 2nd training phase"
   ]
  },
  {
   "cell_type": "code",
   "execution_count": 104,
   "id": "a41daac3",
   "metadata": {},
   "outputs": [
    {
     "data": {
      "text/html": [
       "<table>\n",
       "<thead><tr><th scope=col>UserName</th><th scope=col>Reconnaissance</th><th scope=col>Delivery</th><th scope=col>LateralMovement</th><th scope=col>PrivilegeEscalation</th><th scope=col>Exfiltration</th><th scope=col>Cluster</th></tr></thead>\n",
       "<tbody>\n",
       "\t<tr><td>User288751</td><td> 7.25     </td><td>7.50      </td><td>6.75      </td><td> 9.5      </td><td> 9.00     </td><td>PE        </td></tr>\n",
       "\t<tr><td>User288751</td><td>12.50     </td><td>6.00      </td><td>6.00      </td><td> 8.0      </td><td> 7.50     </td><td>R         </td></tr>\n",
       "\t<tr><td>User288751</td><td> 9.50     </td><td>6.75      </td><td>6.50      </td><td>11.5      </td><td>10.25     </td><td>PE        </td></tr>\n",
       "\t<tr><td>User288751</td><td> 9.25     </td><td>7.25      </td><td>6.25      </td><td> 8.5      </td><td> 6.75     </td><td>R         </td></tr>\n",
       "\t<tr><td>User396223</td><td>10.25     </td><td>6.75      </td><td>6.25      </td><td> 9.5      </td><td> 9.50     </td><td>R         </td></tr>\n",
       "</tbody>\n",
       "</table>\n"
      ],
      "text/latex": [
       "\\begin{tabular}{r|lllllll}\n",
       " UserName & Reconnaissance & Delivery & LateralMovement & PrivilegeEscalation & Exfiltration & Cluster\\\\\n",
       "\\hline\n",
       "\t User288751 &  7.25      & 7.50       & 6.75       &  9.5       &  9.00      & PE        \\\\\n",
       "\t User288751 & 12.50      & 6.00       & 6.00       &  8.0       &  7.50      & R         \\\\\n",
       "\t User288751 &  9.50      & 6.75       & 6.50       & 11.5       & 10.25      & PE        \\\\\n",
       "\t User288751 &  9.25      & 7.25       & 6.25       &  8.5       &  6.75      & R         \\\\\n",
       "\t User396223 & 10.25      & 6.75       & 6.25       &  9.5       &  9.50      & R         \\\\\n",
       "\\end{tabular}\n"
      ],
      "text/markdown": [
       "\n",
       "| UserName | Reconnaissance | Delivery | LateralMovement | PrivilegeEscalation | Exfiltration | Cluster |\n",
       "|---|---|---|---|---|---|---|\n",
       "| User288751 |  7.25      | 7.50       | 6.75       |  9.5       |  9.00      | PE         |\n",
       "| User288751 | 12.50      | 6.00       | 6.00       |  8.0       |  7.50      | R          |\n",
       "| User288751 |  9.50      | 6.75       | 6.50       | 11.5       | 10.25      | PE         |\n",
       "| User288751 |  9.25      | 7.25       | 6.25       |  8.5       |  6.75      | R          |\n",
       "| User396223 | 10.25      | 6.75       | 6.25       |  9.5       |  9.50      | R          |\n",
       "\n"
      ],
      "text/plain": [
       "  UserName   Reconnaissance Delivery LateralMovement PrivilegeEscalation\n",
       "1 User288751  7.25          7.50     6.75             9.5               \n",
       "2 User288751 12.50          6.00     6.00             8.0               \n",
       "3 User288751  9.50          6.75     6.50            11.5               \n",
       "4 User288751  9.25          7.25     6.25             8.5               \n",
       "5 User396223 10.25          6.75     6.25             9.5               \n",
       "  Exfiltration Cluster\n",
       "1  9.00        PE     \n",
       "2  7.50        R      \n",
       "3 10.25        PE     \n",
       "4  6.75        R      \n",
       "5  9.50        R      "
      ]
     },
     "metadata": {},
     "output_type": "display_data"
    }
   ],
   "source": [
    "PWC <- as.data.frame(cbind(UserName = Probs_with_clusters$UserName, Stages, Cluster = Probs_with_clusters$Cluster))\n",
    "head(PWC, 5)"
   ]
  },
  {
   "cell_type": "code",
   "execution_count": 105,
   "id": "dbcb9d33",
   "metadata": {},
   "outputs": [
    {
     "data": {
      "text/html": [
       "94"
      ],
      "text/latex": [
       "94"
      ],
      "text/markdown": [
       "94"
      ],
      "text/plain": [
       "[1] 94"
      ]
     },
     "metadata": {},
     "output_type": "display_data"
    }
   ],
   "source": [
    "L <- as.list(unique(Probs_with_clusters$UserName))\n",
    "length(L)"
   ]
  },
  {
   "cell_type": "code",
   "execution_count": 116,
   "id": "390b1dbd",
   "metadata": {},
   "outputs": [],
   "source": [
    "RedistributeWeight <- function() {\n",
    "    df <- data.frame()\n",
    "    for(User in L) {        \n",
    "        data <- PWC[PWC$UserName==User, ]\n",
    "        data$Reconnaissance[1] <- data$Reconnaissance[1] + 1.5\n",
    "        data$Cluster[1] <- 'R'\n",
    "        if(nrow(data)>=2) {\n",
    "            M <- vector(len=nrow(data)-1)\n",
    "            for(i in 2:nrow(data)) {\n",
    "                M[i-1] <- max(c(data$Reconnaissance[i-1], data$Delivery[i-1], data$LateralMovement[i-1], data$PrivilegeEscalation[i-1], data$Exfiltration[i-1])) \n",
    "                if(M[i-1]==data$Reconnaissance[i-1]) {\n",
    "                    data$Reconnaissance[i] <- data$Reconnaissance[i] + 2\n",
    "                    data$Delivery[i] <- data$Delivery[i] + 2\n",
    "                }\n",
    "                if(M[i-1]==data$Delivery[i-1]) {\n",
    "                    data$LateralMovement[i] <- data$LateralMovement[i] + 2\n",
    "                    data$Delivery[i] <- data$Delivery[i] + 2\n",
    "                }\n",
    "                if(M[i-1]==data$LateralMovement[i-1]) {\n",
    "                    data$LateralMovement[i] <- data$LateralMovement[i] + 2\n",
    "                    data$PrivilegeEscalation[i] <- data$PrivilegeEscalation[i] + 2\n",
    "                }\n",
    "                if(M[i-1]==data$PrivilegeEscalation[i-1]) {\n",
    "                    data$PrivilegeEscalation[i] <- data$PrivilegeEscalation[i] + 2\n",
    "                    data$Exfiltration[i] <- data$Exfiltration[i] + 2\n",
    "                }\n",
    "                if(M[i-1]==data$Exfiltration[i-1]) {\n",
    "                    data$Exfiltration[i] <- data$Exfiltration[i] + 2\n",
    "                }\n",
    "            }\n",
    "        }\n",
    "        df <- as.data.frame(rbind(df, data))\n",
    "    }\n",
    "    UpdatedStages <<- df\n",
    "}"
   ]
  },
  {
   "cell_type": "code",
   "execution_count": 117,
   "id": "edfe788f",
   "metadata": {},
   "outputs": [],
   "source": [
    "RedistributeWeight()"
   ]
  },
  {
   "cell_type": "code",
   "execution_count": 118,
   "id": "cf307fda",
   "metadata": {},
   "outputs": [
    {
     "data": {
      "text/html": [
       "<table>\n",
       "<thead><tr><th></th><th scope=col>UserName</th><th scope=col>Reconnaissance</th><th scope=col>Delivery</th><th scope=col>LateralMovement</th><th scope=col>PrivilegeEscalation</th><th scope=col>Exfiltration</th><th scope=col>Cluster</th></tr></thead>\n",
       "<tbody>\n",
       "\t<tr><th scope=row>1</th><td>User288751</td><td> 8.75     </td><td> 7.50     </td><td>6.75      </td><td> 9.50     </td><td> 9.00     </td><td>R         </td></tr>\n",
       "\t<tr><th scope=row>2</th><td>User288751</td><td>12.50     </td><td> 6.00     </td><td>6.00      </td><td>10.00     </td><td> 9.50     </td><td>R         </td></tr>\n",
       "\t<tr><th scope=row>3</th><td>User288751</td><td>11.50     </td><td> 8.75     </td><td>6.50      </td><td>11.50     </td><td>10.25     </td><td>PE        </td></tr>\n",
       "\t<tr><th scope=row>4</th><td>User288751</td><td>11.25     </td><td> 9.25     </td><td>6.25      </td><td>10.50     </td><td> 8.75     </td><td>R         </td></tr>\n",
       "\t<tr><th scope=row>78</th><td>User288751</td><td>12.75     </td><td> 8.25     </td><td>5.75      </td><td> 7.75     </td><td> 7.50     </td><td>R         </td></tr>\n",
       "\t<tr><th scope=row>243</th><td>User288751</td><td>11.00     </td><td>10.75     </td><td>6.50      </td><td> 9.75     </td><td> 8.50     </td><td>PE        </td></tr>\n",
       "</tbody>\n",
       "</table>\n"
      ],
      "text/latex": [
       "\\begin{tabular}{r|lllllll}\n",
       "  & UserName & Reconnaissance & Delivery & LateralMovement & PrivilegeEscalation & Exfiltration & Cluster\\\\\n",
       "\\hline\n",
       "\t1 & User288751 &  8.75      &  7.50      & 6.75       &  9.50      &  9.00      & R         \\\\\n",
       "\t2 & User288751 & 12.50      &  6.00      & 6.00       & 10.00      &  9.50      & R         \\\\\n",
       "\t3 & User288751 & 11.50      &  8.75      & 6.50       & 11.50      & 10.25      & PE        \\\\\n",
       "\t4 & User288751 & 11.25      &  9.25      & 6.25       & 10.50      &  8.75      & R         \\\\\n",
       "\t78 & User288751 & 12.75      &  8.25      & 5.75       &  7.75      &  7.50      & R         \\\\\n",
       "\t243 & User288751 & 11.00      & 10.75      & 6.50       &  9.75      &  8.50      & PE        \\\\\n",
       "\\end{tabular}\n"
      ],
      "text/markdown": [
       "\n",
       "| <!--/--> | UserName | Reconnaissance | Delivery | LateralMovement | PrivilegeEscalation | Exfiltration | Cluster |\n",
       "|---|---|---|---|---|---|---|---|\n",
       "| 1 | User288751 |  8.75      |  7.50      | 6.75       |  9.50      |  9.00      | R          |\n",
       "| 2 | User288751 | 12.50      |  6.00      | 6.00       | 10.00      |  9.50      | R          |\n",
       "| 3 | User288751 | 11.50      |  8.75      | 6.50       | 11.50      | 10.25      | PE         |\n",
       "| 4 | User288751 | 11.25      |  9.25      | 6.25       | 10.50      |  8.75      | R          |\n",
       "| 78 | User288751 | 12.75      |  8.25      | 5.75       |  7.75      |  7.50      | R          |\n",
       "| 243 | User288751 | 11.00      | 10.75      | 6.50       |  9.75      |  8.50      | PE         |\n",
       "\n"
      ],
      "text/plain": [
       "    UserName   Reconnaissance Delivery LateralMovement PrivilegeEscalation\n",
       "1   User288751  8.75           7.50    6.75             9.50              \n",
       "2   User288751 12.50           6.00    6.00            10.00              \n",
       "3   User288751 11.50           8.75    6.50            11.50              \n",
       "4   User288751 11.25           9.25    6.25            10.50              \n",
       "78  User288751 12.75           8.25    5.75             7.75              \n",
       "243 User288751 11.00          10.75    6.50             9.75              \n",
       "    Exfiltration Cluster\n",
       "1    9.00        R      \n",
       "2    9.50        R      \n",
       "3   10.25        PE     \n",
       "4    8.75        R      \n",
       "78   7.50        R      \n",
       "243  8.50        PE     "
      ]
     },
     "metadata": {},
     "output_type": "display_data"
    }
   ],
   "source": [
    "head(UpdatedStages)"
   ]
  },
  {
   "cell_type": "code",
   "execution_count": 119,
   "id": "b08fb35d",
   "metadata": {},
   "outputs": [],
   "source": [
    "US <- UpdatedStages[order(as.numeric(rownames(UpdatedStages)), decreasing=FALSE), ]"
   ]
  },
  {
   "cell_type": "code",
   "execution_count": 120,
   "id": "2d7e9c11",
   "metadata": {},
   "outputs": [],
   "source": [
    "Stages <- US[, -c(1,7)]"
   ]
  },
  {
   "cell_type": "code",
   "execution_count": 121,
   "id": "6da2840e",
   "metadata": {},
   "outputs": [
    {
     "data": {
      "text/html": [
       "<table>\n",
       "<thead><tr><th scope=col>Reconnaissance</th><th scope=col>Delivery</th><th scope=col>LateralMovement</th><th scope=col>PrivilegeEscalation</th><th scope=col>Exfiltration</th></tr></thead>\n",
       "<tbody>\n",
       "\t<tr><td> 8.75</td><td>7.50 </td><td>6.75 </td><td> 9.5 </td><td> 9.00</td></tr>\n",
       "\t<tr><td>12.50</td><td>6.00 </td><td>6.00 </td><td>10.0 </td><td> 9.50</td></tr>\n",
       "\t<tr><td>11.50</td><td>8.75 </td><td>6.50 </td><td>11.5 </td><td>10.25</td></tr>\n",
       "\t<tr><td>11.25</td><td>9.25 </td><td>6.25 </td><td>10.5 </td><td> 8.75</td></tr>\n",
       "\t<tr><td>11.75</td><td>6.75 </td><td>6.25 </td><td> 9.5 </td><td> 9.50</td></tr>\n",
       "\t<tr><td>15.50</td><td>7.00 </td><td>6.25 </td><td> 7.0 </td><td> 5.50</td></tr>\n",
       "</tbody>\n",
       "</table>\n"
      ],
      "text/latex": [
       "\\begin{tabular}{r|lllll}\n",
       " Reconnaissance & Delivery & LateralMovement & PrivilegeEscalation & Exfiltration\\\\\n",
       "\\hline\n",
       "\t  8.75 & 7.50  & 6.75  &  9.5  &  9.00\\\\\n",
       "\t 12.50 & 6.00  & 6.00  & 10.0  &  9.50\\\\\n",
       "\t 11.50 & 8.75  & 6.50  & 11.5  & 10.25\\\\\n",
       "\t 11.25 & 9.25  & 6.25  & 10.5  &  8.75\\\\\n",
       "\t 11.75 & 6.75  & 6.25  &  9.5  &  9.50\\\\\n",
       "\t 15.50 & 7.00  & 6.25  &  7.0  &  5.50\\\\\n",
       "\\end{tabular}\n"
      ],
      "text/markdown": [
       "\n",
       "| Reconnaissance | Delivery | LateralMovement | PrivilegeEscalation | Exfiltration |\n",
       "|---|---|---|---|---|\n",
       "|  8.75 | 7.50  | 6.75  |  9.5  |  9.00 |\n",
       "| 12.50 | 6.00  | 6.00  | 10.0  |  9.50 |\n",
       "| 11.50 | 8.75  | 6.50  | 11.5  | 10.25 |\n",
       "| 11.25 | 9.25  | 6.25  | 10.5  |  8.75 |\n",
       "| 11.75 | 6.75  | 6.25  |  9.5  |  9.50 |\n",
       "| 15.50 | 7.00  | 6.25  |  7.0  |  5.50 |\n",
       "\n"
      ],
      "text/plain": [
       "  Reconnaissance Delivery LateralMovement PrivilegeEscalation Exfiltration\n",
       "1  8.75          7.50     6.75             9.5                 9.00       \n",
       "2 12.50          6.00     6.00            10.0                 9.50       \n",
       "3 11.50          8.75     6.50            11.5                10.25       \n",
       "4 11.25          9.25     6.25            10.5                 8.75       \n",
       "5 11.75          6.75     6.25             9.5                 9.50       \n",
       "6 15.50          7.00     6.25             7.0                 5.50       "
      ]
     },
     "metadata": {},
     "output_type": "display_data"
    }
   ],
   "source": [
    "head(Stages)"
   ]
  },
  {
   "cell_type": "code",
   "execution_count": 122,
   "id": "10d20500",
   "metadata": {},
   "outputs": [],
   "source": [
    "StageAssignExpect()"
   ]
  },
  {
   "cell_type": "code",
   "execution_count": 123,
   "id": "cf195e87",
   "metadata": {},
   "outputs": [
    {
     "data": {
      "text/html": [
       "<table>\n",
       "<thead><tr><th scope=col>UserName</th><th scope=col>Reconnaissance</th><th scope=col>Delivery</th><th scope=col>LateralMovement</th><th scope=col>PrivilegeEscalation</th><th scope=col>Exfiltration</th><th scope=col>Maximum</th><th scope=col>Cluster</th></tr></thead>\n",
       "<tbody>\n",
       "\t<tr><td>User288751</td><td>0.2108434 </td><td>0.1807229 </td><td>0.1626506 </td><td>0.2289157 </td><td>0.2168675 </td><td>0.2289157 </td><td>PE        </td></tr>\n",
       "\t<tr><td>User288751</td><td>0.2840909 </td><td>0.1363636 </td><td>0.1363636 </td><td>0.2272727 </td><td>0.2159091 </td><td>0.2840909 </td><td>R         </td></tr>\n",
       "\t<tr><td>User288751</td><td>0.2371134 </td><td>0.1804124 </td><td>0.1340206 </td><td>0.2371134 </td><td>0.2113402 </td><td>0.2371134 </td><td>PE        </td></tr>\n",
       "\t<tr><td>User288751</td><td>0.2445652 </td><td>0.2010870 </td><td>0.1358696 </td><td>0.2282609 </td><td>0.1902174 </td><td>0.2445652 </td><td>R         </td></tr>\n",
       "\t<tr><td>User396223</td><td>0.2685714 </td><td>0.1542857 </td><td>0.1428571 </td><td>0.2171429 </td><td>0.2171429 </td><td>0.2685714 </td><td>R         </td></tr>\n",
       "\t<tr><td>User341813</td><td>0.3757576 </td><td>0.1696970 </td><td>0.1515152 </td><td>0.1696970 </td><td>0.1333333 </td><td>0.3757576 </td><td>R         </td></tr>\n",
       "\t<tr><td>User341813</td><td>0.2890173 </td><td>0.1618497 </td><td>0.1271676 </td><td>0.2023121 </td><td>0.2196532 </td><td>0.2890173 </td><td>R         </td></tr>\n",
       "\t<tr><td>User091297</td><td>0.3517241 </td><td>0.1931034 </td><td>0.1379310 </td><td>0.1655172 </td><td>0.1517241 </td><td>0.3517241 </td><td>R         </td></tr>\n",
       "\t<tr><td>User379647</td><td>0.1907514 </td><td>0.1502890 </td><td>0.1618497 </td><td>0.2427746 </td><td>0.2543353 </td><td>0.2543353 </td><td>E         </td></tr>\n",
       "\t<tr><td>User379647</td><td>0.1542857 </td><td>0.1485714 </td><td>0.1600000 </td><td>0.2400000 </td><td>0.2971429 </td><td>0.2971429 </td><td>E         </td></tr>\n",
       "</tbody>\n",
       "</table>\n"
      ],
      "text/latex": [
       "\\begin{tabular}{r|llllllll}\n",
       " UserName & Reconnaissance & Delivery & LateralMovement & PrivilegeEscalation & Exfiltration & Maximum & Cluster\\\\\n",
       "\\hline\n",
       "\t User288751 & 0.2108434  & 0.1807229  & 0.1626506  & 0.2289157  & 0.2168675  & 0.2289157  & PE        \\\\\n",
       "\t User288751 & 0.2840909  & 0.1363636  & 0.1363636  & 0.2272727  & 0.2159091  & 0.2840909  & R         \\\\\n",
       "\t User288751 & 0.2371134  & 0.1804124  & 0.1340206  & 0.2371134  & 0.2113402  & 0.2371134  & PE        \\\\\n",
       "\t User288751 & 0.2445652  & 0.2010870  & 0.1358696  & 0.2282609  & 0.1902174  & 0.2445652  & R         \\\\\n",
       "\t User396223 & 0.2685714  & 0.1542857  & 0.1428571  & 0.2171429  & 0.2171429  & 0.2685714  & R         \\\\\n",
       "\t User341813 & 0.3757576  & 0.1696970  & 0.1515152  & 0.1696970  & 0.1333333  & 0.3757576  & R         \\\\\n",
       "\t User341813 & 0.2890173  & 0.1618497  & 0.1271676  & 0.2023121  & 0.2196532  & 0.2890173  & R         \\\\\n",
       "\t User091297 & 0.3517241  & 0.1931034  & 0.1379310  & 0.1655172  & 0.1517241  & 0.3517241  & R         \\\\\n",
       "\t User379647 & 0.1907514  & 0.1502890  & 0.1618497  & 0.2427746  & 0.2543353  & 0.2543353  & E         \\\\\n",
       "\t User379647 & 0.1542857  & 0.1485714  & 0.1600000  & 0.2400000  & 0.2971429  & 0.2971429  & E         \\\\\n",
       "\\end{tabular}\n"
      ],
      "text/markdown": [
       "\n",
       "| UserName | Reconnaissance | Delivery | LateralMovement | PrivilegeEscalation | Exfiltration | Maximum | Cluster |\n",
       "|---|---|---|---|---|---|---|---|\n",
       "| User288751 | 0.2108434  | 0.1807229  | 0.1626506  | 0.2289157  | 0.2168675  | 0.2289157  | PE         |\n",
       "| User288751 | 0.2840909  | 0.1363636  | 0.1363636  | 0.2272727  | 0.2159091  | 0.2840909  | R          |\n",
       "| User288751 | 0.2371134  | 0.1804124  | 0.1340206  | 0.2371134  | 0.2113402  | 0.2371134  | PE         |\n",
       "| User288751 | 0.2445652  | 0.2010870  | 0.1358696  | 0.2282609  | 0.1902174  | 0.2445652  | R          |\n",
       "| User396223 | 0.2685714  | 0.1542857  | 0.1428571  | 0.2171429  | 0.2171429  | 0.2685714  | R          |\n",
       "| User341813 | 0.3757576  | 0.1696970  | 0.1515152  | 0.1696970  | 0.1333333  | 0.3757576  | R          |\n",
       "| User341813 | 0.2890173  | 0.1618497  | 0.1271676  | 0.2023121  | 0.2196532  | 0.2890173  | R          |\n",
       "| User091297 | 0.3517241  | 0.1931034  | 0.1379310  | 0.1655172  | 0.1517241  | 0.3517241  | R          |\n",
       "| User379647 | 0.1907514  | 0.1502890  | 0.1618497  | 0.2427746  | 0.2543353  | 0.2543353  | E          |\n",
       "| User379647 | 0.1542857  | 0.1485714  | 0.1600000  | 0.2400000  | 0.2971429  | 0.2971429  | E          |\n",
       "\n"
      ],
      "text/plain": [
       "   UserName   Reconnaissance Delivery  LateralMovement PrivilegeEscalation\n",
       "1  User288751 0.2108434      0.1807229 0.1626506       0.2289157          \n",
       "2  User288751 0.2840909      0.1363636 0.1363636       0.2272727          \n",
       "3  User288751 0.2371134      0.1804124 0.1340206       0.2371134          \n",
       "4  User288751 0.2445652      0.2010870 0.1358696       0.2282609          \n",
       "5  User396223 0.2685714      0.1542857 0.1428571       0.2171429          \n",
       "6  User341813 0.3757576      0.1696970 0.1515152       0.1696970          \n",
       "7  User341813 0.2890173      0.1618497 0.1271676       0.2023121          \n",
       "8  User091297 0.3517241      0.1931034 0.1379310       0.1655172          \n",
       "9  User379647 0.1907514      0.1502890 0.1618497       0.2427746          \n",
       "10 User379647 0.1542857      0.1485714 0.1600000       0.2400000          \n",
       "   Exfiltration Maximum   Cluster\n",
       "1  0.2168675    0.2289157 PE     \n",
       "2  0.2159091    0.2840909 R      \n",
       "3  0.2113402    0.2371134 PE     \n",
       "4  0.1902174    0.2445652 R      \n",
       "5  0.2171429    0.2685714 R      \n",
       "6  0.1333333    0.3757576 R      \n",
       "7  0.2196532    0.2890173 R      \n",
       "8  0.1517241    0.3517241 R      \n",
       "9  0.2543353    0.2543353 E      \n",
       "10 0.2971429    0.2971429 E      "
      ]
     },
     "metadata": {},
     "output_type": "display_data"
    }
   ],
   "source": [
    "head(Probs_with_clusters, 10)"
   ]
  },
  {
   "cell_type": "code",
   "execution_count": 124,
   "id": "fb20d490",
   "metadata": {},
   "outputs": [
    {
     "data": {
      "text/html": [
       "<table>\n",
       "<thead><tr><th></th><th scope=col>UserName</th><th scope=col>Reconnaissance</th><th scope=col>Delivery</th><th scope=col>LateralMovement</th><th scope=col>PrivilegeEscalation</th><th scope=col>Exfiltration</th><th scope=col>Maximum</th><th scope=col>Cluster</th></tr></thead>\n",
       "<tbody>\n",
       "\t<tr><th scope=row>1</th><td>User288751</td><td>0.2108434 </td><td>0.1807229 </td><td>0.1626506 </td><td>0.2289157 </td><td>0.2168675 </td><td>0.2289157 </td><td>PE        </td></tr>\n",
       "\t<tr><th scope=row>2</th><td>User288751</td><td>0.2840909 </td><td>0.1363636 </td><td>0.1363636 </td><td>0.2272727 </td><td>0.2159091 </td><td>0.2840909 </td><td>R         </td></tr>\n",
       "\t<tr><th scope=row>3</th><td>User288751</td><td>0.2371134 </td><td>0.1804124 </td><td>0.1340206 </td><td>0.2371134 </td><td>0.2113402 </td><td>0.2371134 </td><td>PE        </td></tr>\n",
       "\t<tr><th scope=row>4</th><td>User288751</td><td>0.2445652 </td><td>0.2010870 </td><td>0.1358696 </td><td>0.2282609 </td><td>0.1902174 </td><td>0.2445652 </td><td>R         </td></tr>\n",
       "\t<tr><th scope=row>78</th><td>User288751</td><td>0.3035714 </td><td>0.1964286 </td><td>0.1369048 </td><td>0.1845238 </td><td>0.1785714 </td><td>0.3035714 </td><td>R         </td></tr>\n",
       "\t<tr><th scope=row>243</th><td>User288751</td><td>0.2365591 </td><td>0.2311828 </td><td>0.1397849 </td><td>0.2096774 </td><td>0.1827957 </td><td>0.2365591 </td><td>R         </td></tr>\n",
       "\t<tr><th scope=row>244</th><td>User288751</td><td>0.3295455 </td><td>0.1818182 </td><td>0.1363636 </td><td>0.1818182 </td><td>0.1704545 </td><td>0.3295455 </td><td>R         </td></tr>\n",
       "\t<tr><th scope=row>245</th><td>User288751</td><td>0.3033708 </td><td>0.2191011 </td><td>0.1404494 </td><td>0.1853933 </td><td>0.1516854 </td><td>0.3033708 </td><td>R         </td></tr>\n",
       "\t<tr><th scope=row>313</th><td>User288751</td><td>0.2526882 </td><td>0.2258065 </td><td>0.1344086 </td><td>0.2043011 </td><td>0.1827957 </td><td>0.2526882 </td><td>R         </td></tr>\n",
       "\t<tr><th scope=row>409</th><td>User288751</td><td>0.2659574 </td><td>0.2127660 </td><td>0.1382979 </td><td>0.1968085 </td><td>0.1861702 </td><td>0.2659574 </td><td>R         </td></tr>\n",
       "\t<tr><th scope=row>476</th><td>User288751</td><td>0.3166667 </td><td>0.2055556 </td><td>0.1444444 </td><td>0.1777778 </td><td>0.1555556 </td><td>0.3166667 </td><td>R         </td></tr>\n",
       "\t<tr><th scope=row>634</th><td>User288751</td><td>0.3035714 </td><td>0.2023810 </td><td>0.1309524 </td><td>0.1845238 </td><td>0.1785714 </td><td>0.3035714 </td><td>R         </td></tr>\n",
       "\t<tr><th scope=row>635</th><td>User288751</td><td>0.3118280 </td><td>0.1935484 </td><td>0.1182796 </td><td>0.1720430 </td><td>0.2043011 </td><td>0.3118280 </td><td>R         </td></tr>\n",
       "\t<tr><th scope=row>716</th><td>User288751</td><td>0.3005181 </td><td>0.1917098 </td><td>0.1243523 </td><td>0.1917098 </td><td>0.1917098 </td><td>0.3005181 </td><td>R         </td></tr>\n",
       "\t<tr><th scope=row>717</th><td>User288751</td><td>0.3033708 </td><td>0.2191011 </td><td>0.1404494 </td><td>0.1853933 </td><td>0.1516854 </td><td>0.3033708 </td><td>R         </td></tr>\n",
       "\t<tr><th scope=row>718</th><td>User288751</td><td>0.3690476 </td><td>0.1904762 </td><td>0.1369048 </td><td>0.1666667 </td><td>0.1369048 </td><td>0.3690476 </td><td>R         </td></tr>\n",
       "\t<tr><th scope=row>719</th><td>User288751</td><td>0.2459016 </td><td>0.2131148 </td><td>0.1420765 </td><td>0.2076503 </td><td>0.1912568 </td><td>0.2459016 </td><td>R         </td></tr>\n",
       "\t<tr><th scope=row>776</th><td>User288751</td><td>0.3425414 </td><td>0.1878453 </td><td>0.1381215 </td><td>0.1767956 </td><td>0.1546961 </td><td>0.3425414 </td><td>R         </td></tr>\n",
       "\t<tr><th scope=row>777</th><td>User288751</td><td>0.2910053 </td><td>0.1957672 </td><td>0.1322751 </td><td>0.1957672 </td><td>0.1851852 </td><td>0.2910053 </td><td>R         </td></tr>\n",
       "\t<tr><th scope=row>778</th><td>User288751</td><td>0.2526882 </td><td>0.2258065 </td><td>0.1344086 </td><td>0.2043011 </td><td>0.1827957 </td><td>0.2526882 </td><td>R         </td></tr>\n",
       "\t<tr><th scope=row>779</th><td>User288751</td><td>0.2771739 </td><td>0.1902174 </td><td>0.1304348 </td><td>0.2010870 </td><td>0.2010870 </td><td>0.2771739 </td><td>R         </td></tr>\n",
       "\t<tr><th scope=row>878</th><td>User288751</td><td>0.3220339 </td><td>0.1807910 </td><td>0.1468927 </td><td>0.1807910 </td><td>0.1694915 </td><td>0.3220339 </td><td>R         </td></tr>\n",
       "\t<tr><th scope=row>955</th><td>User288751</td><td>0.2923977 </td><td>0.2046784 </td><td>0.1520468 </td><td>0.1871345 </td><td>0.1637427 </td><td>0.2923977 </td><td>R         </td></tr>\n",
       "\t<tr><th scope=row>1033</th><td>User288751</td><td>0.2881356 </td><td>0.1920904 </td><td>0.1242938 </td><td>0.1807910 </td><td>0.2146893 </td><td>0.2881356 </td><td>R         </td></tr>\n",
       "\t<tr><th scope=row>1109</th><td>User288751</td><td>0.2947368 </td><td>0.1947368 </td><td>0.1263158 </td><td>0.1947368 </td><td>0.1894737 </td><td>0.2947368 </td><td>R         </td></tr>\n",
       "\t<tr><th scope=row>1110</th><td>User288751</td><td>0.2623762 </td><td>0.1683168 </td><td>0.1287129 </td><td>0.2277228 </td><td>0.2128713 </td><td>0.2623762 </td><td>R         </td></tr>\n",
       "\t<tr><th scope=row>1276</th><td>User288751</td><td>0.2890173 </td><td>0.1618497 </td><td>0.1271676 </td><td>0.2023121 </td><td>0.2196532 </td><td>0.2890173 </td><td>R         </td></tr>\n",
       "\t<tr><th scope=row>1360</th><td>User288751</td><td>0.2786885 </td><td>0.1857923 </td><td>0.1311475 </td><td>0.2021858 </td><td>0.2021858 </td><td>0.2786885 </td><td>R         </td></tr>\n",
       "\t<tr><th scope=row>1438</th><td>User288751</td><td>0.2707182 </td><td>0.1933702 </td><td>0.1325967 </td><td>0.2044199 </td><td>0.1988950 </td><td>0.2707182 </td><td>R         </td></tr>\n",
       "\t<tr><th scope=row>1439</th><td>User288751</td><td>0.3513514 </td><td>0.1837838 </td><td>0.1297297 </td><td>0.1729730 </td><td>0.1621622 </td><td>0.3513514 </td><td>R         </td></tr>\n",
       "\t<tr><th scope=row>...</th><td>...</td><td>...</td><td>...</td><td>...</td><td>...</td><td>...</td><td>...</td><td>...</td></tr>\n",
       "\t<tr><th scope=row>35864</th><td>User288751</td><td>0.2659574 </td><td>0.2127660 </td><td>0.1382979 </td><td>0.1968085 </td><td>0.1861702 </td><td>0.2659574 </td><td>R         </td></tr>\n",
       "\t<tr><th scope=row>36078</th><td>User288751</td><td>0.3035714 </td><td>0.2023810 </td><td>0.1309524 </td><td>0.1845238 </td><td>0.1785714 </td><td>0.3035714 </td><td>R         </td></tr>\n",
       "\t<tr><th scope=row>36079</th><td>User288751</td><td>0.3118280 </td><td>0.1935484 </td><td>0.1182796 </td><td>0.1720430 </td><td>0.2043011 </td><td>0.3118280 </td><td>R         </td></tr>\n",
       "\t<tr><th scope=row>36152</th><td>User288751</td><td>0.3005181 </td><td>0.1917098 </td><td>0.1243523 </td><td>0.1917098 </td><td>0.1917098 </td><td>0.3005181 </td><td>R         </td></tr>\n",
       "\t<tr><th scope=row>36153</th><td>User288751</td><td>0.3690476 </td><td>0.1904762 </td><td>0.1369048 </td><td>0.1666667 </td><td>0.1369048 </td><td>0.3690476 </td><td>R         </td></tr>\n",
       "\t<tr><th scope=row>36209</th><td>User288751</td><td>0.3425414 </td><td>0.1878453 </td><td>0.1381215 </td><td>0.1767956 </td><td>0.1546961 </td><td>0.3425414 </td><td>R         </td></tr>\n",
       "\t<tr><th scope=row>36210</th><td>User288751</td><td>0.2910053 </td><td>0.1957672 </td><td>0.1322751 </td><td>0.1957672 </td><td>0.1851852 </td><td>0.2910053 </td><td>R         </td></tr>\n",
       "\t<tr><th scope=row>36211</th><td>User288751</td><td>0.2526882 </td><td>0.2258065 </td><td>0.1344086 </td><td>0.2043011 </td><td>0.1827957 </td><td>0.2526882 </td><td>R         </td></tr>\n",
       "\t<tr><th scope=row>36212</th><td>User288751</td><td>0.2771739 </td><td>0.1902174 </td><td>0.1304348 </td><td>0.2010870 </td><td>0.2010870 </td><td>0.2771739 </td><td>R         </td></tr>\n",
       "\t<tr><th scope=row>36306</th><td>User288751</td><td>0.3166667 </td><td>0.2055556 </td><td>0.1444444 </td><td>0.1777778 </td><td>0.1555556 </td><td>0.3166667 </td><td>R         </td></tr>\n",
       "\t<tr><th scope=row>36307</th><td>User288751</td><td>0.3440860 </td><td>0.1827957 </td><td>0.1397849 </td><td>0.1720430 </td><td>0.1612903 </td><td>0.3440860 </td><td>R         </td></tr>\n",
       "\t<tr><th scope=row>36308</th><td>User288751</td><td>0.2259887 </td><td>0.2259887 </td><td>0.1412429 </td><td>0.2146893 </td><td>0.1920904 </td><td>0.2259887 </td><td>D         </td></tr>\n",
       "\t<tr><th scope=row>36392</th><td>User288751</td><td>0.2673797 </td><td>0.2299465 </td><td>0.1818182 </td><td>0.1711230 </td><td>0.1497326 </td><td>0.2673797 </td><td>R         </td></tr>\n",
       "\t<tr><th scope=row>36460</th><td>User288751</td><td>0.2881356 </td><td>0.1920904 </td><td>0.1242938 </td><td>0.1807910 </td><td>0.2146893 </td><td>0.2881356 </td><td>R         </td></tr>\n",
       "\t<tr><th scope=row>36532</th><td>User288751</td><td>0.2947368 </td><td>0.1947368 </td><td>0.1263158 </td><td>0.1947368 </td><td>0.1894737 </td><td>0.2947368 </td><td>R         </td></tr>\n",
       "\t<tr><th scope=row>36606</th><td>User288751</td><td>0.3020833 </td><td>0.1875000 </td><td>0.1250000 </td><td>0.1927083 </td><td>0.1927083 </td><td>0.3020833 </td><td>R         </td></tr>\n",
       "\t<tr><th scope=row>36607</th><td>User288751</td><td>0.3033708 </td><td>0.2191011 </td><td>0.1404494 </td><td>0.1853933 </td><td>0.1516854 </td><td>0.3033708 </td><td>R         </td></tr>\n",
       "\t<tr><th scope=row>36608</th><td>User288751</td><td>0.3513514 </td><td>0.1837838 </td><td>0.1297297 </td><td>0.1729730 </td><td>0.1621622 </td><td>0.3513514 </td><td>R         </td></tr>\n",
       "\t<tr><th scope=row>36716</th><td>User288751</td><td>0.2890173 </td><td>0.1618497 </td><td>0.1271676 </td><td>0.2023121 </td><td>0.2196532 </td><td>0.2890173 </td><td>R         </td></tr>\n",
       "\t<tr><th scope=row>36797</th><td>User288751</td><td>0.2786885 </td><td>0.1857923 </td><td>0.1311475 </td><td>0.2021858 </td><td>0.2021858 </td><td>0.2786885 </td><td>R         </td></tr>\n",
       "\t<tr><th scope=row>36884</th><td>User288751</td><td>0.3513514 </td><td>0.1837838 </td><td>0.1297297 </td><td>0.1729730 </td><td>0.1621622 </td><td>0.3513514 </td><td>R         </td></tr>\n",
       "\t<tr><th scope=row>36963</th><td>User288751</td><td>0.2781065 </td><td>0.2189349 </td><td>0.1479290 </td><td>0.1952663 </td><td>0.1597633 </td><td>0.2781065 </td><td>R         </td></tr>\n",
       "\t<tr><th scope=row>37056</th><td>User288751</td><td>0.2402235 </td><td>0.2122905 </td><td>0.1452514 </td><td>0.2067039 </td><td>0.1955307 </td><td>0.2402235 </td><td>R         </td></tr>\n",
       "\t<tr><th scope=row>37125</th><td>User288751</td><td>0.3459119 </td><td>0.1886792 </td><td>0.1446541 </td><td>0.1761006 </td><td>0.1446541 </td><td>0.3459119 </td><td>R         </td></tr>\n",
       "\t<tr><th scope=row>37126</th><td>User288751</td><td>0.2259887 </td><td>0.2259887 </td><td>0.1412429 </td><td>0.2146893 </td><td>0.1920904 </td><td>0.2259887 </td><td>D         </td></tr>\n",
       "\t<tr><th scope=row>37202</th><td>User288751</td><td>0.2775120 </td><td>0.2153110 </td><td>0.1531100 </td><td>0.1770335 </td><td>0.1770335 </td><td>0.2775120 </td><td>R         </td></tr>\n",
       "\t<tr><th scope=row>37203</th><td>User288751</td><td>0.2707182 </td><td>0.1933702 </td><td>0.1325967 </td><td>0.2044199 </td><td>0.1988950 </td><td>0.2707182 </td><td>R         </td></tr>\n",
       "\t<tr><th scope=row>37204</th><td>User288751</td><td>0.2623762 </td><td>0.1683168 </td><td>0.1287129 </td><td>0.2277228 </td><td>0.2128713 </td><td>0.2623762 </td><td>R         </td></tr>\n",
       "\t<tr><th scope=row>37205</th><td>User288751</td><td>0.3033708 </td><td>0.2191011 </td><td>0.1404494 </td><td>0.1853933 </td><td>0.1516854 </td><td>0.3033708 </td><td>R         </td></tr>\n",
       "\t<tr><th scope=row>37284</th><td>User288751</td><td>0.2771739 </td><td>0.1902174 </td><td>0.1304348 </td><td>0.2010870 </td><td>0.2010870 </td><td>0.2771739 </td><td>R         </td></tr>\n",
       "</tbody>\n",
       "</table>\n"
      ],
      "text/latex": [
       "\\begin{tabular}{r|llllllll}\n",
       "  & UserName & Reconnaissance & Delivery & LateralMovement & PrivilegeEscalation & Exfiltration & Maximum & Cluster\\\\\n",
       "\\hline\n",
       "\t1 & User288751 & 0.2108434  & 0.1807229  & 0.1626506  & 0.2289157  & 0.2168675  & 0.2289157  & PE        \\\\\n",
       "\t2 & User288751 & 0.2840909  & 0.1363636  & 0.1363636  & 0.2272727  & 0.2159091  & 0.2840909  & R         \\\\\n",
       "\t3 & User288751 & 0.2371134  & 0.1804124  & 0.1340206  & 0.2371134  & 0.2113402  & 0.2371134  & PE        \\\\\n",
       "\t4 & User288751 & 0.2445652  & 0.2010870  & 0.1358696  & 0.2282609  & 0.1902174  & 0.2445652  & R         \\\\\n",
       "\t78 & User288751 & 0.3035714  & 0.1964286  & 0.1369048  & 0.1845238  & 0.1785714  & 0.3035714  & R         \\\\\n",
       "\t243 & User288751 & 0.2365591  & 0.2311828  & 0.1397849  & 0.2096774  & 0.1827957  & 0.2365591  & R         \\\\\n",
       "\t244 & User288751 & 0.3295455  & 0.1818182  & 0.1363636  & 0.1818182  & 0.1704545  & 0.3295455  & R         \\\\\n",
       "\t245 & User288751 & 0.3033708  & 0.2191011  & 0.1404494  & 0.1853933  & 0.1516854  & 0.3033708  & R         \\\\\n",
       "\t313 & User288751 & 0.2526882  & 0.2258065  & 0.1344086  & 0.2043011  & 0.1827957  & 0.2526882  & R         \\\\\n",
       "\t409 & User288751 & 0.2659574  & 0.2127660  & 0.1382979  & 0.1968085  & 0.1861702  & 0.2659574  & R         \\\\\n",
       "\t476 & User288751 & 0.3166667  & 0.2055556  & 0.1444444  & 0.1777778  & 0.1555556  & 0.3166667  & R         \\\\\n",
       "\t634 & User288751 & 0.3035714  & 0.2023810  & 0.1309524  & 0.1845238  & 0.1785714  & 0.3035714  & R         \\\\\n",
       "\t635 & User288751 & 0.3118280  & 0.1935484  & 0.1182796  & 0.1720430  & 0.2043011  & 0.3118280  & R         \\\\\n",
       "\t716 & User288751 & 0.3005181  & 0.1917098  & 0.1243523  & 0.1917098  & 0.1917098  & 0.3005181  & R         \\\\\n",
       "\t717 & User288751 & 0.3033708  & 0.2191011  & 0.1404494  & 0.1853933  & 0.1516854  & 0.3033708  & R         \\\\\n",
       "\t718 & User288751 & 0.3690476  & 0.1904762  & 0.1369048  & 0.1666667  & 0.1369048  & 0.3690476  & R         \\\\\n",
       "\t719 & User288751 & 0.2459016  & 0.2131148  & 0.1420765  & 0.2076503  & 0.1912568  & 0.2459016  & R         \\\\\n",
       "\t776 & User288751 & 0.3425414  & 0.1878453  & 0.1381215  & 0.1767956  & 0.1546961  & 0.3425414  & R         \\\\\n",
       "\t777 & User288751 & 0.2910053  & 0.1957672  & 0.1322751  & 0.1957672  & 0.1851852  & 0.2910053  & R         \\\\\n",
       "\t778 & User288751 & 0.2526882  & 0.2258065  & 0.1344086  & 0.2043011  & 0.1827957  & 0.2526882  & R         \\\\\n",
       "\t779 & User288751 & 0.2771739  & 0.1902174  & 0.1304348  & 0.2010870  & 0.2010870  & 0.2771739  & R         \\\\\n",
       "\t878 & User288751 & 0.3220339  & 0.1807910  & 0.1468927  & 0.1807910  & 0.1694915  & 0.3220339  & R         \\\\\n",
       "\t955 & User288751 & 0.2923977  & 0.2046784  & 0.1520468  & 0.1871345  & 0.1637427  & 0.2923977  & R         \\\\\n",
       "\t1033 & User288751 & 0.2881356  & 0.1920904  & 0.1242938  & 0.1807910  & 0.2146893  & 0.2881356  & R         \\\\\n",
       "\t1109 & User288751 & 0.2947368  & 0.1947368  & 0.1263158  & 0.1947368  & 0.1894737  & 0.2947368  & R         \\\\\n",
       "\t1110 & User288751 & 0.2623762  & 0.1683168  & 0.1287129  & 0.2277228  & 0.2128713  & 0.2623762  & R         \\\\\n",
       "\t1276 & User288751 & 0.2890173  & 0.1618497  & 0.1271676  & 0.2023121  & 0.2196532  & 0.2890173  & R         \\\\\n",
       "\t1360 & User288751 & 0.2786885  & 0.1857923  & 0.1311475  & 0.2021858  & 0.2021858  & 0.2786885  & R         \\\\\n",
       "\t1438 & User288751 & 0.2707182  & 0.1933702  & 0.1325967  & 0.2044199  & 0.1988950  & 0.2707182  & R         \\\\\n",
       "\t1439 & User288751 & 0.3513514  & 0.1837838  & 0.1297297  & 0.1729730  & 0.1621622  & 0.3513514  & R         \\\\\n",
       "\t... & ... & ... & ... & ... & ... & ... & ... & ...\\\\\n",
       "\t35864 & User288751 & 0.2659574  & 0.2127660  & 0.1382979  & 0.1968085  & 0.1861702  & 0.2659574  & R         \\\\\n",
       "\t36078 & User288751 & 0.3035714  & 0.2023810  & 0.1309524  & 0.1845238  & 0.1785714  & 0.3035714  & R         \\\\\n",
       "\t36079 & User288751 & 0.3118280  & 0.1935484  & 0.1182796  & 0.1720430  & 0.2043011  & 0.3118280  & R         \\\\\n",
       "\t36152 & User288751 & 0.3005181  & 0.1917098  & 0.1243523  & 0.1917098  & 0.1917098  & 0.3005181  & R         \\\\\n",
       "\t36153 & User288751 & 0.3690476  & 0.1904762  & 0.1369048  & 0.1666667  & 0.1369048  & 0.3690476  & R         \\\\\n",
       "\t36209 & User288751 & 0.3425414  & 0.1878453  & 0.1381215  & 0.1767956  & 0.1546961  & 0.3425414  & R         \\\\\n",
       "\t36210 & User288751 & 0.2910053  & 0.1957672  & 0.1322751  & 0.1957672  & 0.1851852  & 0.2910053  & R         \\\\\n",
       "\t36211 & User288751 & 0.2526882  & 0.2258065  & 0.1344086  & 0.2043011  & 0.1827957  & 0.2526882  & R         \\\\\n",
       "\t36212 & User288751 & 0.2771739  & 0.1902174  & 0.1304348  & 0.2010870  & 0.2010870  & 0.2771739  & R         \\\\\n",
       "\t36306 & User288751 & 0.3166667  & 0.2055556  & 0.1444444  & 0.1777778  & 0.1555556  & 0.3166667  & R         \\\\\n",
       "\t36307 & User288751 & 0.3440860  & 0.1827957  & 0.1397849  & 0.1720430  & 0.1612903  & 0.3440860  & R         \\\\\n",
       "\t36308 & User288751 & 0.2259887  & 0.2259887  & 0.1412429  & 0.2146893  & 0.1920904  & 0.2259887  & D         \\\\\n",
       "\t36392 & User288751 & 0.2673797  & 0.2299465  & 0.1818182  & 0.1711230  & 0.1497326  & 0.2673797  & R         \\\\\n",
       "\t36460 & User288751 & 0.2881356  & 0.1920904  & 0.1242938  & 0.1807910  & 0.2146893  & 0.2881356  & R         \\\\\n",
       "\t36532 & User288751 & 0.2947368  & 0.1947368  & 0.1263158  & 0.1947368  & 0.1894737  & 0.2947368  & R         \\\\\n",
       "\t36606 & User288751 & 0.3020833  & 0.1875000  & 0.1250000  & 0.1927083  & 0.1927083  & 0.3020833  & R         \\\\\n",
       "\t36607 & User288751 & 0.3033708  & 0.2191011  & 0.1404494  & 0.1853933  & 0.1516854  & 0.3033708  & R         \\\\\n",
       "\t36608 & User288751 & 0.3513514  & 0.1837838  & 0.1297297  & 0.1729730  & 0.1621622  & 0.3513514  & R         \\\\\n",
       "\t36716 & User288751 & 0.2890173  & 0.1618497  & 0.1271676  & 0.2023121  & 0.2196532  & 0.2890173  & R         \\\\\n",
       "\t36797 & User288751 & 0.2786885  & 0.1857923  & 0.1311475  & 0.2021858  & 0.2021858  & 0.2786885  & R         \\\\\n",
       "\t36884 & User288751 & 0.3513514  & 0.1837838  & 0.1297297  & 0.1729730  & 0.1621622  & 0.3513514  & R         \\\\\n",
       "\t36963 & User288751 & 0.2781065  & 0.2189349  & 0.1479290  & 0.1952663  & 0.1597633  & 0.2781065  & R         \\\\\n",
       "\t37056 & User288751 & 0.2402235  & 0.2122905  & 0.1452514  & 0.2067039  & 0.1955307  & 0.2402235  & R         \\\\\n",
       "\t37125 & User288751 & 0.3459119  & 0.1886792  & 0.1446541  & 0.1761006  & 0.1446541  & 0.3459119  & R         \\\\\n",
       "\t37126 & User288751 & 0.2259887  & 0.2259887  & 0.1412429  & 0.2146893  & 0.1920904  & 0.2259887  & D         \\\\\n",
       "\t37202 & User288751 & 0.2775120  & 0.2153110  & 0.1531100  & 0.1770335  & 0.1770335  & 0.2775120  & R         \\\\\n",
       "\t37203 & User288751 & 0.2707182  & 0.1933702  & 0.1325967  & 0.2044199  & 0.1988950  & 0.2707182  & R         \\\\\n",
       "\t37204 & User288751 & 0.2623762  & 0.1683168  & 0.1287129  & 0.2277228  & 0.2128713  & 0.2623762  & R         \\\\\n",
       "\t37205 & User288751 & 0.3033708  & 0.2191011  & 0.1404494  & 0.1853933  & 0.1516854  & 0.3033708  & R         \\\\\n",
       "\t37284 & User288751 & 0.2771739  & 0.1902174  & 0.1304348  & 0.2010870  & 0.2010870  & 0.2771739  & R         \\\\\n",
       "\\end{tabular}\n"
      ],
      "text/markdown": [
       "\n",
       "| <!--/--> | UserName | Reconnaissance | Delivery | LateralMovement | PrivilegeEscalation | Exfiltration | Maximum | Cluster |\n",
       "|---|---|---|---|---|---|---|---|---|\n",
       "| 1 | User288751 | 0.2108434  | 0.1807229  | 0.1626506  | 0.2289157  | 0.2168675  | 0.2289157  | PE         |\n",
       "| 2 | User288751 | 0.2840909  | 0.1363636  | 0.1363636  | 0.2272727  | 0.2159091  | 0.2840909  | R          |\n",
       "| 3 | User288751 | 0.2371134  | 0.1804124  | 0.1340206  | 0.2371134  | 0.2113402  | 0.2371134  | PE         |\n",
       "| 4 | User288751 | 0.2445652  | 0.2010870  | 0.1358696  | 0.2282609  | 0.1902174  | 0.2445652  | R          |\n",
       "| 78 | User288751 | 0.3035714  | 0.1964286  | 0.1369048  | 0.1845238  | 0.1785714  | 0.3035714  | R          |\n",
       "| 243 | User288751 | 0.2365591  | 0.2311828  | 0.1397849  | 0.2096774  | 0.1827957  | 0.2365591  | R          |\n",
       "| 244 | User288751 | 0.3295455  | 0.1818182  | 0.1363636  | 0.1818182  | 0.1704545  | 0.3295455  | R          |\n",
       "| 245 | User288751 | 0.3033708  | 0.2191011  | 0.1404494  | 0.1853933  | 0.1516854  | 0.3033708  | R          |\n",
       "| 313 | User288751 | 0.2526882  | 0.2258065  | 0.1344086  | 0.2043011  | 0.1827957  | 0.2526882  | R          |\n",
       "| 409 | User288751 | 0.2659574  | 0.2127660  | 0.1382979  | 0.1968085  | 0.1861702  | 0.2659574  | R          |\n",
       "| 476 | User288751 | 0.3166667  | 0.2055556  | 0.1444444  | 0.1777778  | 0.1555556  | 0.3166667  | R          |\n",
       "| 634 | User288751 | 0.3035714  | 0.2023810  | 0.1309524  | 0.1845238  | 0.1785714  | 0.3035714  | R          |\n",
       "| 635 | User288751 | 0.3118280  | 0.1935484  | 0.1182796  | 0.1720430  | 0.2043011  | 0.3118280  | R          |\n",
       "| 716 | User288751 | 0.3005181  | 0.1917098  | 0.1243523  | 0.1917098  | 0.1917098  | 0.3005181  | R          |\n",
       "| 717 | User288751 | 0.3033708  | 0.2191011  | 0.1404494  | 0.1853933  | 0.1516854  | 0.3033708  | R          |\n",
       "| 718 | User288751 | 0.3690476  | 0.1904762  | 0.1369048  | 0.1666667  | 0.1369048  | 0.3690476  | R          |\n",
       "| 719 | User288751 | 0.2459016  | 0.2131148  | 0.1420765  | 0.2076503  | 0.1912568  | 0.2459016  | R          |\n",
       "| 776 | User288751 | 0.3425414  | 0.1878453  | 0.1381215  | 0.1767956  | 0.1546961  | 0.3425414  | R          |\n",
       "| 777 | User288751 | 0.2910053  | 0.1957672  | 0.1322751  | 0.1957672  | 0.1851852  | 0.2910053  | R          |\n",
       "| 778 | User288751 | 0.2526882  | 0.2258065  | 0.1344086  | 0.2043011  | 0.1827957  | 0.2526882  | R          |\n",
       "| 779 | User288751 | 0.2771739  | 0.1902174  | 0.1304348  | 0.2010870  | 0.2010870  | 0.2771739  | R          |\n",
       "| 878 | User288751 | 0.3220339  | 0.1807910  | 0.1468927  | 0.1807910  | 0.1694915  | 0.3220339  | R          |\n",
       "| 955 | User288751 | 0.2923977  | 0.2046784  | 0.1520468  | 0.1871345  | 0.1637427  | 0.2923977  | R          |\n",
       "| 1033 | User288751 | 0.2881356  | 0.1920904  | 0.1242938  | 0.1807910  | 0.2146893  | 0.2881356  | R          |\n",
       "| 1109 | User288751 | 0.2947368  | 0.1947368  | 0.1263158  | 0.1947368  | 0.1894737  | 0.2947368  | R          |\n",
       "| 1110 | User288751 | 0.2623762  | 0.1683168  | 0.1287129  | 0.2277228  | 0.2128713  | 0.2623762  | R          |\n",
       "| 1276 | User288751 | 0.2890173  | 0.1618497  | 0.1271676  | 0.2023121  | 0.2196532  | 0.2890173  | R          |\n",
       "| 1360 | User288751 | 0.2786885  | 0.1857923  | 0.1311475  | 0.2021858  | 0.2021858  | 0.2786885  | R          |\n",
       "| 1438 | User288751 | 0.2707182  | 0.1933702  | 0.1325967  | 0.2044199  | 0.1988950  | 0.2707182  | R          |\n",
       "| 1439 | User288751 | 0.3513514  | 0.1837838  | 0.1297297  | 0.1729730  | 0.1621622  | 0.3513514  | R          |\n",
       "| ... | ... | ... | ... | ... | ... | ... | ... | ... |\n",
       "| 35864 | User288751 | 0.2659574  | 0.2127660  | 0.1382979  | 0.1968085  | 0.1861702  | 0.2659574  | R          |\n",
       "| 36078 | User288751 | 0.3035714  | 0.2023810  | 0.1309524  | 0.1845238  | 0.1785714  | 0.3035714  | R          |\n",
       "| 36079 | User288751 | 0.3118280  | 0.1935484  | 0.1182796  | 0.1720430  | 0.2043011  | 0.3118280  | R          |\n",
       "| 36152 | User288751 | 0.3005181  | 0.1917098  | 0.1243523  | 0.1917098  | 0.1917098  | 0.3005181  | R          |\n",
       "| 36153 | User288751 | 0.3690476  | 0.1904762  | 0.1369048  | 0.1666667  | 0.1369048  | 0.3690476  | R          |\n",
       "| 36209 | User288751 | 0.3425414  | 0.1878453  | 0.1381215  | 0.1767956  | 0.1546961  | 0.3425414  | R          |\n",
       "| 36210 | User288751 | 0.2910053  | 0.1957672  | 0.1322751  | 0.1957672  | 0.1851852  | 0.2910053  | R          |\n",
       "| 36211 | User288751 | 0.2526882  | 0.2258065  | 0.1344086  | 0.2043011  | 0.1827957  | 0.2526882  | R          |\n",
       "| 36212 | User288751 | 0.2771739  | 0.1902174  | 0.1304348  | 0.2010870  | 0.2010870  | 0.2771739  | R          |\n",
       "| 36306 | User288751 | 0.3166667  | 0.2055556  | 0.1444444  | 0.1777778  | 0.1555556  | 0.3166667  | R          |\n",
       "| 36307 | User288751 | 0.3440860  | 0.1827957  | 0.1397849  | 0.1720430  | 0.1612903  | 0.3440860  | R          |\n",
       "| 36308 | User288751 | 0.2259887  | 0.2259887  | 0.1412429  | 0.2146893  | 0.1920904  | 0.2259887  | D          |\n",
       "| 36392 | User288751 | 0.2673797  | 0.2299465  | 0.1818182  | 0.1711230  | 0.1497326  | 0.2673797  | R          |\n",
       "| 36460 | User288751 | 0.2881356  | 0.1920904  | 0.1242938  | 0.1807910  | 0.2146893  | 0.2881356  | R          |\n",
       "| 36532 | User288751 | 0.2947368  | 0.1947368  | 0.1263158  | 0.1947368  | 0.1894737  | 0.2947368  | R          |\n",
       "| 36606 | User288751 | 0.3020833  | 0.1875000  | 0.1250000  | 0.1927083  | 0.1927083  | 0.3020833  | R          |\n",
       "| 36607 | User288751 | 0.3033708  | 0.2191011  | 0.1404494  | 0.1853933  | 0.1516854  | 0.3033708  | R          |\n",
       "| 36608 | User288751 | 0.3513514  | 0.1837838  | 0.1297297  | 0.1729730  | 0.1621622  | 0.3513514  | R          |\n",
       "| 36716 | User288751 | 0.2890173  | 0.1618497  | 0.1271676  | 0.2023121  | 0.2196532  | 0.2890173  | R          |\n",
       "| 36797 | User288751 | 0.2786885  | 0.1857923  | 0.1311475  | 0.2021858  | 0.2021858  | 0.2786885  | R          |\n",
       "| 36884 | User288751 | 0.3513514  | 0.1837838  | 0.1297297  | 0.1729730  | 0.1621622  | 0.3513514  | R          |\n",
       "| 36963 | User288751 | 0.2781065  | 0.2189349  | 0.1479290  | 0.1952663  | 0.1597633  | 0.2781065  | R          |\n",
       "| 37056 | User288751 | 0.2402235  | 0.2122905  | 0.1452514  | 0.2067039  | 0.1955307  | 0.2402235  | R          |\n",
       "| 37125 | User288751 | 0.3459119  | 0.1886792  | 0.1446541  | 0.1761006  | 0.1446541  | 0.3459119  | R          |\n",
       "| 37126 | User288751 | 0.2259887  | 0.2259887  | 0.1412429  | 0.2146893  | 0.1920904  | 0.2259887  | D          |\n",
       "| 37202 | User288751 | 0.2775120  | 0.2153110  | 0.1531100  | 0.1770335  | 0.1770335  | 0.2775120  | R          |\n",
       "| 37203 | User288751 | 0.2707182  | 0.1933702  | 0.1325967  | 0.2044199  | 0.1988950  | 0.2707182  | R          |\n",
       "| 37204 | User288751 | 0.2623762  | 0.1683168  | 0.1287129  | 0.2277228  | 0.2128713  | 0.2623762  | R          |\n",
       "| 37205 | User288751 | 0.3033708  | 0.2191011  | 0.1404494  | 0.1853933  | 0.1516854  | 0.3033708  | R          |\n",
       "| 37284 | User288751 | 0.2771739  | 0.1902174  | 0.1304348  | 0.2010870  | 0.2010870  | 0.2771739  | R          |\n",
       "\n"
      ],
      "text/plain": [
       "      UserName   Reconnaissance Delivery  LateralMovement PrivilegeEscalation\n",
       "1     User288751 0.2108434      0.1807229 0.1626506       0.2289157          \n",
       "2     User288751 0.2840909      0.1363636 0.1363636       0.2272727          \n",
       "3     User288751 0.2371134      0.1804124 0.1340206       0.2371134          \n",
       "4     User288751 0.2445652      0.2010870 0.1358696       0.2282609          \n",
       "78    User288751 0.3035714      0.1964286 0.1369048       0.1845238          \n",
       "243   User288751 0.2365591      0.2311828 0.1397849       0.2096774          \n",
       "244   User288751 0.3295455      0.1818182 0.1363636       0.1818182          \n",
       "245   User288751 0.3033708      0.2191011 0.1404494       0.1853933          \n",
       "313   User288751 0.2526882      0.2258065 0.1344086       0.2043011          \n",
       "409   User288751 0.2659574      0.2127660 0.1382979       0.1968085          \n",
       "476   User288751 0.3166667      0.2055556 0.1444444       0.1777778          \n",
       "634   User288751 0.3035714      0.2023810 0.1309524       0.1845238          \n",
       "635   User288751 0.3118280      0.1935484 0.1182796       0.1720430          \n",
       "716   User288751 0.3005181      0.1917098 0.1243523       0.1917098          \n",
       "717   User288751 0.3033708      0.2191011 0.1404494       0.1853933          \n",
       "718   User288751 0.3690476      0.1904762 0.1369048       0.1666667          \n",
       "719   User288751 0.2459016      0.2131148 0.1420765       0.2076503          \n",
       "776   User288751 0.3425414      0.1878453 0.1381215       0.1767956          \n",
       "777   User288751 0.2910053      0.1957672 0.1322751       0.1957672          \n",
       "778   User288751 0.2526882      0.2258065 0.1344086       0.2043011          \n",
       "779   User288751 0.2771739      0.1902174 0.1304348       0.2010870          \n",
       "878   User288751 0.3220339      0.1807910 0.1468927       0.1807910          \n",
       "955   User288751 0.2923977      0.2046784 0.1520468       0.1871345          \n",
       "1033  User288751 0.2881356      0.1920904 0.1242938       0.1807910          \n",
       "1109  User288751 0.2947368      0.1947368 0.1263158       0.1947368          \n",
       "1110  User288751 0.2623762      0.1683168 0.1287129       0.2277228          \n",
       "1276  User288751 0.2890173      0.1618497 0.1271676       0.2023121          \n",
       "1360  User288751 0.2786885      0.1857923 0.1311475       0.2021858          \n",
       "1438  User288751 0.2707182      0.1933702 0.1325967       0.2044199          \n",
       "1439  User288751 0.3513514      0.1837838 0.1297297       0.1729730          \n",
       "...   ...        ...            ...       ...             ...                \n",
       "35864 User288751 0.2659574      0.2127660 0.1382979       0.1968085          \n",
       "36078 User288751 0.3035714      0.2023810 0.1309524       0.1845238          \n",
       "36079 User288751 0.3118280      0.1935484 0.1182796       0.1720430          \n",
       "36152 User288751 0.3005181      0.1917098 0.1243523       0.1917098          \n",
       "36153 User288751 0.3690476      0.1904762 0.1369048       0.1666667          \n",
       "36209 User288751 0.3425414      0.1878453 0.1381215       0.1767956          \n",
       "36210 User288751 0.2910053      0.1957672 0.1322751       0.1957672          \n",
       "36211 User288751 0.2526882      0.2258065 0.1344086       0.2043011          \n",
       "36212 User288751 0.2771739      0.1902174 0.1304348       0.2010870          \n",
       "36306 User288751 0.3166667      0.2055556 0.1444444       0.1777778          \n",
       "36307 User288751 0.3440860      0.1827957 0.1397849       0.1720430          \n",
       "36308 User288751 0.2259887      0.2259887 0.1412429       0.2146893          \n",
       "36392 User288751 0.2673797      0.2299465 0.1818182       0.1711230          \n",
       "36460 User288751 0.2881356      0.1920904 0.1242938       0.1807910          \n",
       "36532 User288751 0.2947368      0.1947368 0.1263158       0.1947368          \n",
       "36606 User288751 0.3020833      0.1875000 0.1250000       0.1927083          \n",
       "36607 User288751 0.3033708      0.2191011 0.1404494       0.1853933          \n",
       "36608 User288751 0.3513514      0.1837838 0.1297297       0.1729730          \n",
       "36716 User288751 0.2890173      0.1618497 0.1271676       0.2023121          \n",
       "36797 User288751 0.2786885      0.1857923 0.1311475       0.2021858          \n",
       "36884 User288751 0.3513514      0.1837838 0.1297297       0.1729730          \n",
       "36963 User288751 0.2781065      0.2189349 0.1479290       0.1952663          \n",
       "37056 User288751 0.2402235      0.2122905 0.1452514       0.2067039          \n",
       "37125 User288751 0.3459119      0.1886792 0.1446541       0.1761006          \n",
       "37126 User288751 0.2259887      0.2259887 0.1412429       0.2146893          \n",
       "37202 User288751 0.2775120      0.2153110 0.1531100       0.1770335          \n",
       "37203 User288751 0.2707182      0.1933702 0.1325967       0.2044199          \n",
       "37204 User288751 0.2623762      0.1683168 0.1287129       0.2277228          \n",
       "37205 User288751 0.3033708      0.2191011 0.1404494       0.1853933          \n",
       "37284 User288751 0.2771739      0.1902174 0.1304348       0.2010870          \n",
       "      Exfiltration Maximum   Cluster\n",
       "1     0.2168675    0.2289157 PE     \n",
       "2     0.2159091    0.2840909 R      \n",
       "3     0.2113402    0.2371134 PE     \n",
       "4     0.1902174    0.2445652 R      \n",
       "78    0.1785714    0.3035714 R      \n",
       "243   0.1827957    0.2365591 R      \n",
       "244   0.1704545    0.3295455 R      \n",
       "245   0.1516854    0.3033708 R      \n",
       "313   0.1827957    0.2526882 R      \n",
       "409   0.1861702    0.2659574 R      \n",
       "476   0.1555556    0.3166667 R      \n",
       "634   0.1785714    0.3035714 R      \n",
       "635   0.2043011    0.3118280 R      \n",
       "716   0.1917098    0.3005181 R      \n",
       "717   0.1516854    0.3033708 R      \n",
       "718   0.1369048    0.3690476 R      \n",
       "719   0.1912568    0.2459016 R      \n",
       "776   0.1546961    0.3425414 R      \n",
       "777   0.1851852    0.2910053 R      \n",
       "778   0.1827957    0.2526882 R      \n",
       "779   0.2010870    0.2771739 R      \n",
       "878   0.1694915    0.3220339 R      \n",
       "955   0.1637427    0.2923977 R      \n",
       "1033  0.2146893    0.2881356 R      \n",
       "1109  0.1894737    0.2947368 R      \n",
       "1110  0.2128713    0.2623762 R      \n",
       "1276  0.2196532    0.2890173 R      \n",
       "1360  0.2021858    0.2786885 R      \n",
       "1438  0.1988950    0.2707182 R      \n",
       "1439  0.1621622    0.3513514 R      \n",
       "...   ...          ...       ...    \n",
       "35864 0.1861702    0.2659574 R      \n",
       "36078 0.1785714    0.3035714 R      \n",
       "36079 0.2043011    0.3118280 R      \n",
       "36152 0.1917098    0.3005181 R      \n",
       "36153 0.1369048    0.3690476 R      \n",
       "36209 0.1546961    0.3425414 R      \n",
       "36210 0.1851852    0.2910053 R      \n",
       "36211 0.1827957    0.2526882 R      \n",
       "36212 0.2010870    0.2771739 R      \n",
       "36306 0.1555556    0.3166667 R      \n",
       "36307 0.1612903    0.3440860 R      \n",
       "36308 0.1920904    0.2259887 D      \n",
       "36392 0.1497326    0.2673797 R      \n",
       "36460 0.2146893    0.2881356 R      \n",
       "36532 0.1894737    0.2947368 R      \n",
       "36606 0.1927083    0.3020833 R      \n",
       "36607 0.1516854    0.3033708 R      \n",
       "36608 0.1621622    0.3513514 R      \n",
       "36716 0.2196532    0.2890173 R      \n",
       "36797 0.2021858    0.2786885 R      \n",
       "36884 0.1621622    0.3513514 R      \n",
       "36963 0.1597633    0.2781065 R      \n",
       "37056 0.1955307    0.2402235 R      \n",
       "37125 0.1446541    0.3459119 R      \n",
       "37126 0.1920904    0.2259887 D      \n",
       "37202 0.1770335    0.2775120 R      \n",
       "37203 0.1988950    0.2707182 R      \n",
       "37204 0.2128713    0.2623762 R      \n",
       "37205 0.1516854    0.3033708 R      \n",
       "37284 0.2010870    0.2771739 R      "
      ]
     },
     "metadata": {},
     "output_type": "display_data"
    }
   ],
   "source": [
    "Probs_with_clusters[Probs_with_clusters$UserName=='User288751', ]"
   ]
  },
  {
   "cell_type": "code",
   "execution_count": 125,
   "id": "d5096a15",
   "metadata": {},
   "outputs": [
    {
     "data": {
      "text/plain": [
       "\n",
       "    D     E    LM    PE     R \n",
       " 1315  7761    22  1111 28503 "
      ]
     },
     "metadata": {},
     "output_type": "display_data"
    }
   ],
   "source": [
    "T2 <- table(Probs_with_clusters$Cluster)\n",
    "T2"
   ]
  },
  {
   "cell_type": "code",
   "execution_count": 83,
   "id": "54d93d8d",
   "metadata": {},
   "outputs": [
    {
     "data": {
      "text/plain": [
       "\n",
       "    1     2     3     4     5 \n",
       " 5319  6630  9659 10528  6576 "
      ]
     },
     "metadata": {},
     "output_type": "display_data"
    },
    {
     "data": {
      "image/png": "[encoded data removed]",
      "text/plain": [
       "plot without title"
      ]
     },
     "metadata": {},
     "output_type": "display_data"
    }
   ],
   "source": [
    "K1 <- kmeans(Stages, centers=5, nstart = sample(1:nrow(Stages), size=1), algorithm=\"Lloyd\", iter.max = 10^4)\n",
    "TK2 <- table(K1$cluster)\n",
    "TK2\n",
    "\n",
    "fviz_cluster(K1, data = Stages, geom = \"point\",\n",
    "             ellipse.type = \"convex\", \n",
    "             ggtheme = theme_bw()\n",
    "             )"
   ]
  },
  {
   "cell_type": "code",
   "execution_count": 68,
   "id": "301aabd8",
   "metadata": {},
   "outputs": [],
   "source": [
    "TF1 <- as.vector(T1)\n",
    "TF2 <- as.vector(T2)"
   ]
  },
  {
   "cell_type": "code",
   "execution_count": 69,
   "id": "1c9d95cf",
   "metadata": {},
   "outputs": [],
   "source": [
    "manhattan_dist <- function(a, b){\n",
    "     dist <- abs(a-b)\n",
    "     dist <- sum(dist)\n",
    "     return(dist)\n",
    "}\n",
    "\n",
    "min_max_norm <- function(x) {\n",
    "    (x - min(x)) / (max(x) - min(x))\n",
    "  }"
   ]
  },
  {
   "cell_type": "code",
   "execution_count": 70,
   "id": "c9d643c3",
   "metadata": {},
   "outputs": [
    {
     "data": {
      "text/html": [
       "<ol class=list-inline>\n",
       "\t<li>0.0132082900812543</li>\n",
       "\t<li>0.279772344918925</li>\n",
       "\t<li>0</li>\n",
       "\t<li>0.0912768013745212</li>\n",
       "\t<li>1</li>\n",
       "</ol>\n"
      ],
      "text/latex": [
       "\\begin{enumerate*}\n",
       "\\item 0.0132082900812543\n",
       "\\item 0.279772344918925\n",
       "\\item 0\n",
       "\\item 0.0912768013745212\n",
       "\\item 1\n",
       "\\end{enumerate*}\n"
      ],
      "text/markdown": [
       "1. 0.0132082900812543\n",
       "2. 0.279772344918925\n",
       "3. 0\n",
       "4. 0.0912768013745212\n",
       "5. 1\n",
       "\n",
       "\n"
      ],
      "text/plain": [
       "[1] 0.01320829 0.27977234 0.00000000 0.09127680 1.00000000"
      ]
     },
     "metadata": {},
     "output_type": "display_data"
    },
    {
     "data": {
      "text/html": [
       "<ol class=list-inline>\n",
       "\t<li>0.0542149161875456</li>\n",
       "\t<li>0.500850271277027</li>\n",
       "\t<li>0</li>\n",
       "\t<li>0.00546602963802737</li>\n",
       "\t<li>1</li>\n",
       "</ol>\n"
      ],
      "text/latex": [
       "\\begin{enumerate*}\n",
       "\\item 0.0542149161875456\n",
       "\\item 0.500850271277027\n",
       "\\item 0\n",
       "\\item 0.00546602963802737\n",
       "\\item 1\n",
       "\\end{enumerate*}\n"
      ],
      "text/markdown": [
       "1. 0.0542149161875456\n",
       "2. 0.500850271277027\n",
       "3. 0\n",
       "4. 0.00546602963802737\n",
       "5. 1\n",
       "\n",
       "\n"
      ],
      "text/plain": [
       "[1] 0.05421492 0.50085027 0.00000000 0.00546603 1.00000000"
      ]
     },
     "metadata": {},
     "output_type": "display_data"
    }
   ],
   "source": [
    "TFN1 <- min_max_norm(TF1)\n",
    "TFN2 <- min_max_norm(TF2)\n",
    "\n",
    "TFN1\n",
    "TFN2"
   ]
  },
  {
   "cell_type": "code",
   "execution_count": 71,
   "id": "72ceb167",
   "metadata": {},
   "outputs": [
    {
     "data": {
      "text/html": [
       "0.347895324200887"
      ],
      "text/latex": [
       "0.347895324200887"
      ],
      "text/markdown": [
       "0.347895324200887"
      ],
      "text/plain": [
       "[1] 0.3478953"
      ]
     },
     "metadata": {},
     "output_type": "display_data"
    },
    {
     "name": "stdout",
     "output_type": "stream",
     "text": [
      "\n",
      "[1] 0.04100663\n",
      "\n",
      "[1] 0.2210779\n",
      "\n",
      "[1] 0\n",
      "\n",
      "[1] 0.08581077\n",
      "\n",
      "[1] 0\n",
      "\n"
     ]
    }
   ],
   "source": [
    "manhattan_dist(TFN1, TFN2)\n",
    "cat(\"\\n\")\n",
    "print(\"Breakdown of stage dissimilarity:\")\n",
    "for(i in 1:length(TFN1)) {\n",
    "    print(manhattan_dist(TFN1[i], TFN2[i]))\n",
    "    cat(\"\\n\")\n",
    "}"
   ]
  },
  {
   "cell_type": "code",
   "execution_count": null,
   "id": "2aa4dcd0",
   "metadata": {},
   "outputs": [],
   "source": []
  }
 ],
 "metadata": {
  "kernelspec": {
   "display_name": "R",
   "language": "R",
   "name": "ir"
  },
  "language_info": {
   "codemirror_mode": "r",
   "file_extension": ".r",
   "mimetype": "text/x-r-source",
   "name": "R",
   "pygments_lexer": "r",
   "version": "3.6.1"
  }
 },
 "nbformat": 4,
 "nbformat_minor": 5
}
