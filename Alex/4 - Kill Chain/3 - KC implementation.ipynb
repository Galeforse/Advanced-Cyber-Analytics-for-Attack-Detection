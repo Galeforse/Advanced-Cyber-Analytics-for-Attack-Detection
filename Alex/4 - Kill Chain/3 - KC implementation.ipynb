{
 "cells": [
  {
   "cell_type": "code",
   "execution_count": 1,
   "id": "f9e0644e",
   "metadata": {},
   "outputs": [
    {
     "name": "stderr",
     "output_type": "stream",
     "text": [
      "Warning message:\n",
      "\"package 'qlcMatrix' was built under R version 3.6.3\"Loading required package: Matrix\n",
      "Loading required package: slam\n",
      "Warning message:\n",
      "\"package 'slam' was built under R version 3.6.3\"Loading required package: sparsesvd\n",
      "Warning message:\n",
      "\"package 'sparsesvd' was built under R version 3.6.3\"Warning message:\n",
      "\"package 'ggpubr' was built under R version 3.6.3\"Loading required package: ggplot2\n",
      "Warning message:\n",
      "\"package 'factoextra' was built under R version 3.6.3\"Welcome! Want to learn more? See two factoextra-related books at https://goo.gl/ve3WBa\n",
      "Warning message:\n",
      "\"package 'dplyr' was built under R version 3.6.3\"\n",
      "Attaching package: 'dplyr'\n",
      "\n",
      "The following objects are masked from 'package:stats':\n",
      "\n",
      "    filter, lag\n",
      "\n",
      "The following objects are masked from 'package:base':\n",
      "\n",
      "    intersect, setdiff, setequal, union\n",
      "\n",
      "Warning message:\n",
      "\"package 'qqman' was built under R version 3.6.3\"\n",
      "For example usage please run: vignette('qqman')\n",
      "\n",
      "Citation appreciated but not required:\n",
      "Turner, (2018). qqman: an R package for visualizing GWAS results using Q-Q and manhattan plots. Journal of Open Source Software, 3(25), 731, https://doi.org/10.21105/joss.00731.\n",
      "\n",
      "Warning message:\n",
      "\"package 'svMisc' was built under R version 3.6.3\"\n",
      "Attaching package: 'svMisc'\n",
      "\n",
      "The following object is masked from 'package:utils':\n",
      "\n",
      "    ?\n",
      "\n"
     ]
    }
   ],
   "source": [
    "# install.packages(c(\"factoextra\", \"ggpubr\", \"dplyr\", \"qqman\", \"svMisc\", \"qlcMatrix\"))\n",
    "library(qlcMatrix)\n",
    "library(ggpubr)\n",
    "library(factoextra)\n",
    "library(dplyr)\n",
    "library(qqman)\n",
    "library(svMisc)"
   ]
  },
  {
   "cell_type": "code",
   "execution_count": 2,
   "id": "dc5231a1",
   "metadata": {},
   "outputs": [
    {
     "data": {
      "text/html": [
       "<table>\n",
       "<thead><tr><th scope=col>UserName</th><th scope=col>SrcDevice</th><th scope=col>DstDevice</th><th scope=col>Authent.Type</th><th scope=col>Failure</th><th scope=col>DailyCount</th></tr></thead>\n",
       "<tbody>\n",
       "\t<tr><td>User341813  </td><td>Comp948451  </td><td>Comp915658  </td><td>NetworkLogon</td><td>0           </td><td>1           </td></tr>\n",
       "\t<tr><td>User341813  </td><td>Comp948451  </td><td>Comp915658  </td><td>NetworkLogon</td><td>0           </td><td>1           </td></tr>\n",
       "\t<tr><td>User341813  </td><td>Comp948451  </td><td>Comp915658  </td><td>NetworkLogon</td><td>0           </td><td>1           </td></tr>\n",
       "\t<tr><td>User341813  </td><td>Comp948451  </td><td>Comp915658  </td><td>NetworkLogon</td><td>0           </td><td>1           </td></tr>\n",
       "\t<tr><td>User341813  </td><td>Comp948451  </td><td>Comp915658  </td><td>NetworkLogon</td><td>0           </td><td>1           </td></tr>\n",
       "\t<tr><td>User341813  </td><td>Comp948451  </td><td>Comp915658  </td><td>NetworkLogon</td><td>0           </td><td>1           </td></tr>\n",
       "\t<tr><td>User341813  </td><td>Comp948451  </td><td>Comp915658  </td><td>NetworkLogon</td><td>0           </td><td>1           </td></tr>\n",
       "\t<tr><td>User341813  </td><td>Comp948451  </td><td>Comp915658  </td><td>NetworkLogon</td><td>0           </td><td>1           </td></tr>\n",
       "\t<tr><td>User341813  </td><td>Comp948451  </td><td>Comp004340  </td><td>TGS         </td><td>0           </td><td>1           </td></tr>\n",
       "\t<tr><td>User341813  </td><td>Comp948451  </td><td>Comp004340  </td><td>TGS         </td><td>0           </td><td>1           </td></tr>\n",
       "</tbody>\n",
       "</table>\n"
      ],
      "text/latex": [
       "\\begin{tabular}{r|llllll}\n",
       " UserName & SrcDevice & DstDevice & Authent.Type & Failure & DailyCount\\\\\n",
       "\\hline\n",
       "\t User341813   & Comp948451   & Comp915658   & NetworkLogon & 0            & 1           \\\\\n",
       "\t User341813   & Comp948451   & Comp915658   & NetworkLogon & 0            & 1           \\\\\n",
       "\t User341813   & Comp948451   & Comp915658   & NetworkLogon & 0            & 1           \\\\\n",
       "\t User341813   & Comp948451   & Comp915658   & NetworkLogon & 0            & 1           \\\\\n",
       "\t User341813   & Comp948451   & Comp915658   & NetworkLogon & 0            & 1           \\\\\n",
       "\t User341813   & Comp948451   & Comp915658   & NetworkLogon & 0            & 1           \\\\\n",
       "\t User341813   & Comp948451   & Comp915658   & NetworkLogon & 0            & 1           \\\\\n",
       "\t User341813   & Comp948451   & Comp915658   & NetworkLogon & 0            & 1           \\\\\n",
       "\t User341813   & Comp948451   & Comp004340   & TGS          & 0            & 1           \\\\\n",
       "\t User341813   & Comp948451   & Comp004340   & TGS          & 0            & 1           \\\\\n",
       "\\end{tabular}\n"
      ],
      "text/markdown": [
       "\n",
       "| UserName | SrcDevice | DstDevice | Authent.Type | Failure | DailyCount |\n",
       "|---|---|---|---|---|---|\n",
       "| User341813   | Comp948451   | Comp915658   | NetworkLogon | 0            | 1            |\n",
       "| User341813   | Comp948451   | Comp915658   | NetworkLogon | 0            | 1            |\n",
       "| User341813   | Comp948451   | Comp915658   | NetworkLogon | 0            | 1            |\n",
       "| User341813   | Comp948451   | Comp915658   | NetworkLogon | 0            | 1            |\n",
       "| User341813   | Comp948451   | Comp915658   | NetworkLogon | 0            | 1            |\n",
       "| User341813   | Comp948451   | Comp915658   | NetworkLogon | 0            | 1            |\n",
       "| User341813   | Comp948451   | Comp915658   | NetworkLogon | 0            | 1            |\n",
       "| User341813   | Comp948451   | Comp915658   | NetworkLogon | 0            | 1            |\n",
       "| User341813   | Comp948451   | Comp004340   | TGS          | 0            | 1            |\n",
       "| User341813   | Comp948451   | Comp004340   | TGS          | 0            | 1            |\n",
       "\n"
      ],
      "text/plain": [
       "   UserName   SrcDevice  DstDevice  Authent.Type Failure DailyCount\n",
       "1  User341813 Comp948451 Comp915658 NetworkLogon 0       1         \n",
       "2  User341813 Comp948451 Comp915658 NetworkLogon 0       1         \n",
       "3  User341813 Comp948451 Comp915658 NetworkLogon 0       1         \n",
       "4  User341813 Comp948451 Comp915658 NetworkLogon 0       1         \n",
       "5  User341813 Comp948451 Comp915658 NetworkLogon 0       1         \n",
       "6  User341813 Comp948451 Comp915658 NetworkLogon 0       1         \n",
       "7  User341813 Comp948451 Comp915658 NetworkLogon 0       1         \n",
       "8  User341813 Comp948451 Comp915658 NetworkLogon 0       1         \n",
       "9  User341813 Comp948451 Comp004340 TGS          0       1         \n",
       "10 User341813 Comp948451 Comp004340 TGS          0       1         "
      ]
     },
     "metadata": {},
     "output_type": "display_data"
    },
    {
     "data": {
      "text/html": [
       "<ol class=list-inline>\n",
       "\t<li>20412</li>\n",
       "\t<li>6</li>\n",
       "</ol>\n"
      ],
      "text/latex": [
       "\\begin{enumerate*}\n",
       "\\item 20412\n",
       "\\item 6\n",
       "\\end{enumerate*}\n"
      ],
      "text/markdown": [
       "1. 20412\n",
       "2. 6\n",
       "\n",
       "\n"
      ],
      "text/plain": [
       "[1] 20412     6"
      ]
     },
     "metadata": {},
     "output_type": "display_data"
    },
    {
     "name": "stdout",
     "output_type": "stream",
     "text": [
      "'data.frame':\t20412 obs. of  6 variables:\n",
      " $ UserName    : Factor w/ 81 levels \"Administrator\",..: 30 30 30 30 30 30 30 30 30 30 ...\n",
      " $ SrcDevice   : Factor w/ 489 levels \"ActiveDirectory\",..: 460 460 460 460 460 460 460 460 460 460 ...\n",
      " $ DstDevice   : Factor w/ 288 levels \"ActiveDirectory\",..: 258 258 258 258 258 258 258 258 2 2 ...\n",
      " $ Authent.Type: Factor w/ 12 levels \"Batch\",\"CachedInteractive\",..: 4 4 4 4 4 4 4 4 9 9 ...\n",
      " $ Failure     : int  0 0 0 0 0 0 0 0 0 0 ...\n",
      " $ DailyCount  : num  1 1 1 1 1 1 1 1 1 1 ...\n"
     ]
    }
   ],
   "source": [
    "setwd(\"D://LA//ATI Data\")\n",
    "df <- read.table(file=\"Anomalies.txt\", header=T, sep=\",\")\n",
    "df<- df[,-1]\n",
    "\n",
    "head(df, 10)\n",
    "dim(df)\n",
    "str(df)"
   ]
  },
  {
   "cell_type": "code",
   "execution_count": 3,
   "id": "0457d4f5",
   "metadata": {},
   "outputs": [
    {
     "name": "stdout",
     "output_type": "stream",
     "text": [
      "'data.frame':\t20412 obs. of  6 variables:\n",
      " $ UserName    : chr  \"User341813\" \"User341813\" \"User341813\" \"User341813\" ...\n",
      " $ SrcDevice   : chr  \"Comp948451\" \"Comp948451\" \"Comp948451\" \"Comp948451\" ...\n",
      " $ DstDevice   : chr  \"Comp915658\" \"Comp915658\" \"Comp915658\" \"Comp915658\" ...\n",
      " $ Authent.Type: chr  \"NetworkLogon\" \"NetworkLogon\" \"NetworkLogon\" \"NetworkLogon\" ...\n",
      " $ Failure     : int  0 0 0 0 0 0 0 0 0 0 ...\n",
      " $ DailyCount  : num  1 1 1 1 1 1 1 1 1 1 ...\n"
     ]
    }
   ],
   "source": [
    "df %>% mutate(across(where(is.factor), as.character)) -> df\n",
    "\n",
    "str(df)"
   ]
  },
  {
   "cell_type": "code",
   "execution_count": 4,
   "id": "310da583",
   "metadata": {},
   "outputs": [
    {
     "data": {
      "text/html": [
       "<table>\n",
       "<thead><tr><th scope=col>t1</th><th scope=col>t2</th><th scope=col>t3</th><th scope=col>t4</th><th scope=col>t5</th><th scope=col>t6</th></tr></thead>\n",
       "<tbody>\n",
       "\t<tr><td>30 </td><td>460</td><td>258</td><td>4  </td><td>0  </td><td>1  </td></tr>\n",
       "\t<tr><td>30 </td><td>460</td><td>258</td><td>4  </td><td>0  </td><td>1  </td></tr>\n",
       "\t<tr><td>30 </td><td>460</td><td>258</td><td>4  </td><td>0  </td><td>1  </td></tr>\n",
       "\t<tr><td>30 </td><td>460</td><td>258</td><td>4  </td><td>0  </td><td>1  </td></tr>\n",
       "\t<tr><td>30 </td><td>460</td><td>258</td><td>4  </td><td>0  </td><td>1  </td></tr>\n",
       "\t<tr><td>30 </td><td>460</td><td>258</td><td>4  </td><td>0  </td><td>1  </td></tr>\n",
       "</tbody>\n",
       "</table>\n"
      ],
      "text/latex": [
       "\\begin{tabular}{llllll}\n",
       " t1 & t2 & t3 & t4 & t5 & t6\\\\\n",
       "\\hline\n",
       "\t 30  & 460 & 258 & 4   & 0   & 1  \\\\\n",
       "\t 30  & 460 & 258 & 4   & 0   & 1  \\\\\n",
       "\t 30  & 460 & 258 & 4   & 0   & 1  \\\\\n",
       "\t 30  & 460 & 258 & 4   & 0   & 1  \\\\\n",
       "\t 30  & 460 & 258 & 4   & 0   & 1  \\\\\n",
       "\t 30  & 460 & 258 & 4   & 0   & 1  \\\\\n",
       "\\end{tabular}\n"
      ],
      "text/markdown": [
       "\n",
       "| t1 | t2 | t3 | t4 | t5 | t6 |\n",
       "|---|---|---|---|---|---|\n",
       "| 30  | 460 | 258 | 4   | 0   | 1   |\n",
       "| 30  | 460 | 258 | 4   | 0   | 1   |\n",
       "| 30  | 460 | 258 | 4   | 0   | 1   |\n",
       "| 30  | 460 | 258 | 4   | 0   | 1   |\n",
       "| 30  | 460 | 258 | 4   | 0   | 1   |\n",
       "| 30  | 460 | 258 | 4   | 0   | 1   |\n",
       "\n"
      ],
      "text/plain": [
       "     t1 t2  t3  t4 t5 t6\n",
       "[1,] 30 460 258 4  0  1 \n",
       "[2,] 30 460 258 4  0  1 \n",
       "[3,] 30 460 258 4  0  1 \n",
       "[4,] 30 460 258 4  0  1 \n",
       "[5,] 30 460 258 4  0  1 \n",
       "[6,] 30 460 258 4  0  1 "
      ]
     },
     "metadata": {},
     "output_type": "display_data"
    }
   ],
   "source": [
    "t1<- tapply(df[,1], df[,1])\n",
    "t2<- tapply(df[,2], df[,2])\n",
    "t3<- tapply(df[,3], df[,3])\n",
    "t4<- tapply(df[,4], df[,4])\n",
    "\n",
    "Anom <- cbind(t1,t2,t3,t4, t5=df$Failure, t6=df$DailyCount)\n",
    "\n",
    "head(Anom)"
   ]
  },
  {
   "cell_type": "code",
   "execution_count": 5,
   "id": "a4455d90",
   "metadata": {},
   "outputs": [],
   "source": [
    "set.seed(123)\n",
    "K <- kmeans(Anom, centers=5, nstart = 25, algorithm=\"Lloyd\", iter.max = 10^4)"
   ]
  },
  {
   "cell_type": "code",
   "execution_count": 6,
   "id": "02597428",
   "metadata": {},
   "outputs": [
    {
     "data": {
      "image/png": "[encoded data removed]",
      "text/plain": [
       "plot without title"
      ]
     },
     "metadata": {},
     "output_type": "display_data"
    }
   ],
   "source": [
    "fviz_cluster(K, data = Anom, geom = \"point\",\n",
    "             ellipse.type = \"convex\", \n",
    "             ggtheme = theme_bw()\n",
    "             )"
   ]
  },
  {
   "cell_type": "code",
   "execution_count": 7,
   "id": "b562c651",
   "metadata": {},
   "outputs": [
    {
     "data": {
      "text/plain": [
       "\n",
       "   1    2    3    4    5 \n",
       "5076 6160    8 4938 4230 "
      ]
     },
     "metadata": {},
     "output_type": "display_data"
    }
   ],
   "source": [
    "table(K$cluster)"
   ]
  },
  {
   "cell_type": "code",
   "execution_count": 8,
   "id": "33522e85",
   "metadata": {},
   "outputs": [
    {
     "data": {
      "text/html": [
       "<table>\n",
       "<thead><tr><th scope=col>UserName</th><th scope=col>SrcDevice</th><th scope=col>DstDevice</th><th scope=col>Authent.Type</th><th scope=col>Failure</th><th scope=col>DailyCount</th><th scope=col>Cluster</th></tr></thead>\n",
       "<tbody>\n",
       "\t<tr><td>User341813  </td><td>Comp948451  </td><td>Comp915658  </td><td>NetworkLogon</td><td>0           </td><td>1           </td><td>2           </td></tr>\n",
       "\t<tr><td>User341813  </td><td>Comp948451  </td><td>Comp915658  </td><td>NetworkLogon</td><td>0           </td><td>1           </td><td>2           </td></tr>\n",
       "\t<tr><td>User341813  </td><td>Comp948451  </td><td>Comp915658  </td><td>NetworkLogon</td><td>0           </td><td>1           </td><td>2           </td></tr>\n",
       "\t<tr><td>User341813  </td><td>Comp948451  </td><td>Comp915658  </td><td>NetworkLogon</td><td>0           </td><td>1           </td><td>2           </td></tr>\n",
       "\t<tr><td>User341813  </td><td>Comp948451  </td><td>Comp915658  </td><td>NetworkLogon</td><td>0           </td><td>1           </td><td>2           </td></tr>\n",
       "\t<tr><td>User341813  </td><td>Comp948451  </td><td>Comp915658  </td><td>NetworkLogon</td><td>0           </td><td>1           </td><td>2           </td></tr>\n",
       "</tbody>\n",
       "</table>\n"
      ],
      "text/latex": [
       "\\begin{tabular}{r|lllllll}\n",
       " UserName & SrcDevice & DstDevice & Authent.Type & Failure & DailyCount & Cluster\\\\\n",
       "\\hline\n",
       "\t User341813   & Comp948451   & Comp915658   & NetworkLogon & 0            & 1            & 2           \\\\\n",
       "\t User341813   & Comp948451   & Comp915658   & NetworkLogon & 0            & 1            & 2           \\\\\n",
       "\t User341813   & Comp948451   & Comp915658   & NetworkLogon & 0            & 1            & 2           \\\\\n",
       "\t User341813   & Comp948451   & Comp915658   & NetworkLogon & 0            & 1            & 2           \\\\\n",
       "\t User341813   & Comp948451   & Comp915658   & NetworkLogon & 0            & 1            & 2           \\\\\n",
       "\t User341813   & Comp948451   & Comp915658   & NetworkLogon & 0            & 1            & 2           \\\\\n",
       "\\end{tabular}\n"
      ],
      "text/markdown": [
       "\n",
       "| UserName | SrcDevice | DstDevice | Authent.Type | Failure | DailyCount | Cluster |\n",
       "|---|---|---|---|---|---|---|\n",
       "| User341813   | Comp948451   | Comp915658   | NetworkLogon | 0            | 1            | 2            |\n",
       "| User341813   | Comp948451   | Comp915658   | NetworkLogon | 0            | 1            | 2            |\n",
       "| User341813   | Comp948451   | Comp915658   | NetworkLogon | 0            | 1            | 2            |\n",
       "| User341813   | Comp948451   | Comp915658   | NetworkLogon | 0            | 1            | 2            |\n",
       "| User341813   | Comp948451   | Comp915658   | NetworkLogon | 0            | 1            | 2            |\n",
       "| User341813   | Comp948451   | Comp915658   | NetworkLogon | 0            | 1            | 2            |\n",
       "\n"
      ],
      "text/plain": [
       "  UserName   SrcDevice  DstDevice  Authent.Type Failure DailyCount Cluster\n",
       "1 User341813 Comp948451 Comp915658 NetworkLogon 0       1          2      \n",
       "2 User341813 Comp948451 Comp915658 NetworkLogon 0       1          2      \n",
       "3 User341813 Comp948451 Comp915658 NetworkLogon 0       1          2      \n",
       "4 User341813 Comp948451 Comp915658 NetworkLogon 0       1          2      \n",
       "5 User341813 Comp948451 Comp915658 NetworkLogon 0       1          2      \n",
       "6 User341813 Comp948451 Comp915658 NetworkLogon 0       1          2      "
      ]
     },
     "metadata": {},
     "output_type": "display_data"
    }
   ],
   "source": [
    "data <- cbind(df, Cluster = K$cluster)\n",
    "\n",
    "head(data)"
   ]
  },
  {
   "cell_type": "code",
   "execution_count": 9,
   "id": "5053050a",
   "metadata": {},
   "outputs": [
    {
     "data": {
      "text/html": [
       "<table>\n",
       "<thead><tr><th></th><th scope=col>UserName</th><th scope=col>SrcDevice</th><th scope=col>DstDevice</th><th scope=col>Authent.Type</th><th scope=col>Failure</th><th scope=col>DailyCount</th><th scope=col>Cluster</th></tr></thead>\n",
       "<tbody>\n",
       "\t<tr><th scope=row>13024</th><td>AppService         </td><td>EnterpriseAppServer</td><td>None               </td><td>InteractiveLogon   </td><td>1                  </td><td>17102              </td><td>3                  </td></tr>\n",
       "\t<tr><th scope=row>13117</th><td>AppService         </td><td>EnterpriseAppServer</td><td>None               </td><td>InteractiveLogon   </td><td>1                  </td><td>17112              </td><td>3                  </td></tr>\n",
       "\t<tr><th scope=row>13218</th><td>AppService         </td><td>EnterpriseAppServer</td><td>None               </td><td>InteractiveLogon   </td><td>1                  </td><td>17078              </td><td>3                  </td></tr>\n",
       "\t<tr><th scope=row>13219</th><td>AppService         </td><td>EnterpriseAppServer</td><td>None               </td><td>InteractiveLogon   </td><td>1                  </td><td>17078              </td><td>3                  </td></tr>\n",
       "\t<tr><th scope=row>13340</th><td>AppService         </td><td>EnterpriseAppServer</td><td>None               </td><td>InteractiveLogon   </td><td>1                  </td><td>17091              </td><td>3                  </td></tr>\n",
       "\t<tr><th scope=row>13395</th><td>AppService         </td><td>EnterpriseAppServer</td><td>None               </td><td>InteractiveLogon   </td><td>1                  </td><td>17092              </td><td>3                  </td></tr>\n",
       "\t<tr><th scope=row>13438</th><td>AppService         </td><td>EnterpriseAppServer</td><td>None               </td><td>InteractiveLogon   </td><td>1                  </td><td>17080              </td><td>3                  </td></tr>\n",
       "\t<tr><th scope=row>13663</th><td>AppService         </td><td>EnterpriseAppServer</td><td>None               </td><td>InteractiveLogon   </td><td>1                  </td><td>17104              </td><td>3                  </td></tr>\n",
       "</tbody>\n",
       "</table>\n"
      ],
      "text/latex": [
       "\\begin{tabular}{r|lllllll}\n",
       "  & UserName & SrcDevice & DstDevice & Authent.Type & Failure & DailyCount & Cluster\\\\\n",
       "\\hline\n",
       "\t13024 & AppService          & EnterpriseAppServer & None                & InteractiveLogon    & 1                   & 17102               & 3                  \\\\\n",
       "\t13117 & AppService          & EnterpriseAppServer & None                & InteractiveLogon    & 1                   & 17112               & 3                  \\\\\n",
       "\t13218 & AppService          & EnterpriseAppServer & None                & InteractiveLogon    & 1                   & 17078               & 3                  \\\\\n",
       "\t13219 & AppService          & EnterpriseAppServer & None                & InteractiveLogon    & 1                   & 17078               & 3                  \\\\\n",
       "\t13340 & AppService          & EnterpriseAppServer & None                & InteractiveLogon    & 1                   & 17091               & 3                  \\\\\n",
       "\t13395 & AppService          & EnterpriseAppServer & None                & InteractiveLogon    & 1                   & 17092               & 3                  \\\\\n",
       "\t13438 & AppService          & EnterpriseAppServer & None                & InteractiveLogon    & 1                   & 17080               & 3                  \\\\\n",
       "\t13663 & AppService          & EnterpriseAppServer & None                & InteractiveLogon    & 1                   & 17104               & 3                  \\\\\n",
       "\\end{tabular}\n"
      ],
      "text/markdown": [
       "\n",
       "| <!--/--> | UserName | SrcDevice | DstDevice | Authent.Type | Failure | DailyCount | Cluster |\n",
       "|---|---|---|---|---|---|---|---|\n",
       "| 13024 | AppService          | EnterpriseAppServer | None                | InteractiveLogon    | 1                   | 17102               | 3                   |\n",
       "| 13117 | AppService          | EnterpriseAppServer | None                | InteractiveLogon    | 1                   | 17112               | 3                   |\n",
       "| 13218 | AppService          | EnterpriseAppServer | None                | InteractiveLogon    | 1                   | 17078               | 3                   |\n",
       "| 13219 | AppService          | EnterpriseAppServer | None                | InteractiveLogon    | 1                   | 17078               | 3                   |\n",
       "| 13340 | AppService          | EnterpriseAppServer | None                | InteractiveLogon    | 1                   | 17091               | 3                   |\n",
       "| 13395 | AppService          | EnterpriseAppServer | None                | InteractiveLogon    | 1                   | 17092               | 3                   |\n",
       "| 13438 | AppService          | EnterpriseAppServer | None                | InteractiveLogon    | 1                   | 17080               | 3                   |\n",
       "| 13663 | AppService          | EnterpriseAppServer | None                | InteractiveLogon    | 1                   | 17104               | 3                   |\n",
       "\n"
      ],
      "text/plain": [
       "      UserName   SrcDevice           DstDevice Authent.Type     Failure\n",
       "13024 AppService EnterpriseAppServer None      InteractiveLogon 1      \n",
       "13117 AppService EnterpriseAppServer None      InteractiveLogon 1      \n",
       "13218 AppService EnterpriseAppServer None      InteractiveLogon 1      \n",
       "13219 AppService EnterpriseAppServer None      InteractiveLogon 1      \n",
       "13340 AppService EnterpriseAppServer None      InteractiveLogon 1      \n",
       "13395 AppService EnterpriseAppServer None      InteractiveLogon 1      \n",
       "13438 AppService EnterpriseAppServer None      InteractiveLogon 1      \n",
       "13663 AppService EnterpriseAppServer None      InteractiveLogon 1      \n",
       "      DailyCount Cluster\n",
       "13024 17102      3      \n",
       "13117 17112      3      \n",
       "13218 17078      3      \n",
       "13219 17078      3      \n",
       "13340 17091      3      \n",
       "13395 17092      3      \n",
       "13438 17080      3      \n",
       "13663 17104      3      "
      ]
     },
     "metadata": {},
     "output_type": "display_data"
    }
   ],
   "source": [
    "data[data$Cluster==3, ]"
   ]
  },
  {
   "cell_type": "code",
   "execution_count": 10,
   "id": "c79909f8",
   "metadata": {},
   "outputs": [
    {
     "data": {
      "image/png": "[encoded data removed]",
      "text/plain": [
       "plot without title"
      ]
     },
     "metadata": {},
     "output_type": "display_data"
    }
   ],
   "source": [
    "fviz_nbclust(Anom, FUNcluster=kmeans, method='silhouette') + labs(subtitle = \"Silhouette method\")\n",
    "                    ## Gap static and elbow methods were also attempted, with poor results or no results at all.\n",
    "                    ## Undocummented due to extensive computational length."
   ]
  },
  {
   "cell_type": "code",
   "execution_count": 11,
   "id": "33eca4c2",
   "metadata": {},
   "outputs": [
    {
     "data": {
      "text/plain": [
       "\n",
       "   1    2    3    4    5 \n",
       "5003 4165 5051    8 6185 "
      ]
     },
     "metadata": {},
     "output_type": "display_data"
    },
    {
     "data": {
      "text/plain": [
       "\n",
       "   1    2    3    4    5 \n",
       "4165    8 5002 5072 6165 "
      ]
     },
     "metadata": {},
     "output_type": "display_data"
    }
   ],
   "source": [
    "set.seed(123)\n",
    "K2 <- kmeans(Anom, centers=5, nstart = 25, algorithm=\"Hartigan-Wong\", iter.max = 10^4)\n",
    "K3 <- kmeans(Anom, centers=5, nstart = 25, algorithm=\"MacQueen\", iter.max = 10^4)\n",
    "\n",
    "table(K2$cluster)\n",
    "table(K3$cluster)\n",
    "                ## Similar results to 'Lloyd'"
   ]
  },
  {
   "cell_type": "code",
   "execution_count": 23,
   "id": "e7a5c607",
   "metadata": {},
   "outputs": [],
   "source": [
    "set.seed(55)\n",
    "options(warn=-1)\n",
    "Km <- vector(len=50)\n",
    "for(i in 1:50) {\n",
    "    Km[i] <- kmeans(Anom, centers=5, nstart=i, algorithm=\"Lloyd\", iter.max=10^4)\n",
    "}"
   ]
  },
  {
   "cell_type": "code",
   "execution_count": 24,
   "id": "c160b846",
   "metadata": {},
   "outputs": [],
   "source": [
    "options(warn=1)"
   ]
  },
  {
   "cell_type": "code",
   "execution_count": 25,
   "id": "1c947904",
   "metadata": {},
   "outputs": [
    {
     "data": {
      "text/plain": [
       "\n",
       "   1    2    3    4    5 \n",
       "4176 5051    8 6174 5003 "
      ]
     },
     "metadata": {},
     "output_type": "display_data"
    },
    {
     "data": {
      "text/plain": [
       "\n",
       "   1    2    3    4    5 \n",
       "2835 4814 3727 4243 4793 "
      ]
     },
     "metadata": {},
     "output_type": "display_data"
    },
    {
     "data": {
      "text/plain": [
       "\n",
       "   1    2    3    4    5 \n",
       "6174    8 5051 4176 5003 "
      ]
     },
     "metadata": {},
     "output_type": "display_data"
    }
   ],
   "source": [
    "table(Km[50])\n",
    "table(Km[1])\n",
    "table(Km[25])"
   ]
  },
  {
   "cell_type": "code",
   "execution_count": 50,
   "id": "7bc58985",
   "metadata": {},
   "outputs": [],
   "source": [
    "t1<- vector(len=50)\n",
    "t2<- vector(len=50)\n",
    "t3<- vector(len=50)\n",
    "t4<- vector(len=50)\n",
    "t5<- vector(len=50)\n",
    "for(i in 1:50) {\n",
    "    t1[i] <- as.vector(table(Km[i]))[1]\n",
    "    t2[i] <- as.vector(table(Km[i]))[2]\n",
    "    t3[i] <- as.vector(table(Km[i]))[3]\n",
    "    t4[i] <- as.vector(table(Km[i]))[4]\n",
    "    t5[i] <- as.vector(table(Km[i]))[5]\n",
    "}\n",
    "\n",
    "t1<- t1[order(t1, decreasing=FALSE)]\n",
    "t2<- t2[order(t2, decreasing=FALSE)]\n",
    "t3<- t3[order(t3, decreasing=FALSE)]\n",
    "t4<- t4[order(t4, decreasing=FALSE)]\n",
    "t5<- t5[order(t5, decreasing=FALSE)]\n",
    "\n",
    "s1<- scale(t1)\n",
    "s2<- scale(t2)\n",
    "s3<- scale(t3)\n",
    "s4<- scale(t4)\n",
    "s5<- scale(t5)"
   ]
  },
  {
   "cell_type": "code",
   "execution_count": 53,
   "id": "d336fda7",
   "metadata": {},
   "outputs": [],
   "source": [
    "manhattan_dist <- function(a, b){\n",
    "     dist <- abs(a-b)\n",
    "     dist <- sum(dist)\n",
    "     return(dist)\n",
    "}"
   ]
  },
  {
   "cell_type": "code",
   "execution_count": 56,
   "id": "2f922052",
   "metadata": {},
   "outputs": [
    {
     "data": {
      "text/html": [
       "22.1865854239351"
      ],
      "text/latex": [
       "22.1865854239351"
      ],
      "text/markdown": [
       "22.1865854239351"
      ],
      "text/plain": [
       "[1] 22.18659"
      ]
     },
     "metadata": {},
     "output_type": "display_data"
    },
    {
     "data": {
      "text/html": [
       "22.0776882431162"
      ],
      "text/latex": [
       "22.0776882431162"
      ],
      "text/markdown": [
       "22.0776882431162"
      ],
      "text/plain": [
       "[1] 22.07769"
      ]
     },
     "metadata": {},
     "output_type": "display_data"
    },
    {
     "data": {
      "text/html": [
       "25.1381842375239"
      ],
      "text/latex": [
       "25.1381842375239"
      ],
      "text/markdown": [
       "25.1381842375239"
      ],
      "text/plain": [
       "[1] 25.13818"
      ]
     },
     "metadata": {},
     "output_type": "display_data"
    },
    {
     "data": {
      "text/html": [
       "17.9979685860642"
      ],
      "text/latex": [
       "17.9979685860642"
      ],
      "text/markdown": [
       "17.9979685860642"
      ],
      "text/plain": [
       "[1] 17.99797"
      ]
     },
     "metadata": {},
     "output_type": "display_data"
    },
    {
     "name": "stdout",
     "output_type": "stream",
     "text": [
      "\n"
     ]
    },
    {
     "data": {
      "text/html": [
       "5.80843585499567"
      ],
      "text/latex": [
       "5.80843585499567"
      ],
      "text/markdown": [
       "5.80843585499567"
      ],
      "text/plain": [
       "[1] 5.808436"
      ]
     },
     "metadata": {},
     "output_type": "display_data"
    },
    {
     "data": {
      "text/html": [
       "6.60847343910569"
      ],
      "text/latex": [
       "6.60847343910569"
      ],
      "text/markdown": [
       "6.60847343910569"
      ],
      "text/plain": [
       "[1] 6.608473"
      ]
     },
     "metadata": {},
     "output_type": "display_data"
    },
    {
     "data": {
      "text/html": [
       "13.9567179883742"
      ],
      "text/latex": [
       "13.9567179883742"
      ],
      "text/markdown": [
       "13.9567179883742"
      ],
      "text/plain": [
       "[1] 13.95672"
      ]
     },
     "metadata": {},
     "output_type": "display_data"
    },
    {
     "name": "stdout",
     "output_type": "stream",
     "text": [
      "\n"
     ]
    },
    {
     "data": {
      "text/html": [
       "9.62185003236696"
      ],
      "text/latex": [
       "9.62185003236696"
      ],
      "text/markdown": [
       "9.62185003236696"
      ],
      "text/plain": [
       "[1] 9.62185"
      ]
     },
     "metadata": {},
     "output_type": "display_data"
    },
    {
     "data": {
      "text/html": [
       "11.7332147121662"
      ],
      "text/latex": [
       "11.7332147121662"
      ],
      "text/markdown": [
       "11.7332147121662"
      ],
      "text/plain": [
       "[1] 11.73321"
      ]
     },
     "metadata": {},
     "output_type": "display_data"
    },
    {
     "name": "stdout",
     "output_type": "stream",
     "text": [
      "\n"
     ]
    },
    {
     "data": {
      "text/html": [
       "17.0101762430085"
      ],
      "text/latex": [
       "17.0101762430085"
      ],
      "text/markdown": [
       "17.0101762430085"
      ],
      "text/plain": [
       "[1] 17.01018"
      ]
     },
     "metadata": {},
     "output_type": "display_data"
    }
   ],
   "source": [
    "manhattan_dist(s1, s2)\n",
    "manhattan_dist(s1, s3)\n",
    "manhattan_dist(s1, s4)\n",
    "manhattan_dist(s1, s5)\n",
    "cat(\"\\n\")\n",
    "manhattan_dist(s2, s3)\n",
    "manhattan_dist(s2, s4)\n",
    "manhattan_dist(s2, s5)\n",
    "cat(\"\\n\")\n",
    "manhattan_dist(s3, s4)\n",
    "manhattan_dist(s3, s5)\n",
    "cat(\"\\n\")\n",
    "manhattan_dist(s4, s5)"
   ]
  },
  {
   "cell_type": "markdown",
   "id": "6aa82831",
   "metadata": {},
   "source": [
    "#### Setting up each of the 5 stages' properties\n",
    "\n",
    "_Idea: All events start with a score of 0 to belong to StageN, N from 1 to 5. They get assigned +0.25, +0.5, +1 or +2 based on certain properties. This happens for all 5 stages, at which point they get shifted by a +5% of the total for each event (to avoid probabilities of 0) and numbers get transformed to probabilities (0 to 1). These 5 become features for clustering afterwards._"
   ]
  },
  {
   "cell_type": "markdown",
   "id": "cbfd44a0",
   "metadata": {},
   "source": [
    "#### Recon"
   ]
  },
  {
   "cell_type": "code",
   "execution_count": 5,
   "id": "41e6195d",
   "metadata": {},
   "outputs": [
    {
     "data": {
      "text/html": [
       "<table>\n",
       "<thead><tr><th scope=col>UserName</th><th scope=col>SrcDevice</th><th scope=col>DstDevice</th><th scope=col>Authent.Type</th><th scope=col>Failure</th></tr></thead>\n",
       "<tbody>\n",
       "\t<tr><td>User341813  </td><td>Comp948451  </td><td>Comp915658  </td><td>NetworkLogon</td><td>0           </td></tr>\n",
       "</tbody>\n",
       "</table>\n"
      ],
      "text/latex": [
       "\\begin{tabular}{r|lllll}\n",
       " UserName & SrcDevice & DstDevice & Authent.Type & Failure\\\\\n",
       "\\hline\n",
       "\t User341813   & Comp948451   & Comp915658   & NetworkLogon & 0           \\\\\n",
       "\\end{tabular}\n"
      ],
      "text/markdown": [
       "\n",
       "| UserName | SrcDevice | DstDevice | Authent.Type | Failure |\n",
       "|---|---|---|---|---|\n",
       "| User341813   | Comp948451   | Comp915658   | NetworkLogon | 0            |\n",
       "\n"
      ],
      "text/plain": [
       "  UserName   SrcDevice  DstDevice  Authent.Type Failure\n",
       "1 User341813 Comp948451 Comp915658 NetworkLogon 0      "
      ]
     },
     "metadata": {},
     "output_type": "display_data"
    }
   ],
   "source": [
    "df<- df[,-ncol(df)]\n",
    "df[1,]"
   ]
  },
  {
   "cell_type": "code",
   "execution_count": 6,
   "id": "4714d675",
   "metadata": {},
   "outputs": [
    {
     "data": {
      "text/html": [
       "<ol class=list-inline>\n",
       "\t<li>'Administrator'</li>\n",
       "\t<li>'AppService'</li>\n",
       "\t<li>'winservice'</li>\n",
       "</ol>\n"
      ],
      "text/latex": [
       "\\begin{enumerate*}\n",
       "\\item 'Administrator'\n",
       "\\item 'AppService'\n",
       "\\item 'winservice'\n",
       "\\end{enumerate*}\n"
      ],
      "text/markdown": [
       "1. 'Administrator'\n",
       "2. 'AppService'\n",
       "3. 'winservice'\n",
       "\n",
       "\n"
      ],
      "text/plain": [
       "[1] \"Administrator\" \"AppService\"    \"winservice\"   "
      ]
     },
     "metadata": {},
     "output_type": "display_data"
    }
   ],
   "source": [
    "g<- grep(pattern='User', x=df$UserName)\n",
    "Special <- unique(df$UserName[-g])\n",
    "g<- grep(pattern='Comp', x=Special)\n",
    "Special <- Special[-g]\n",
    "Special"
   ]
  },
  {
   "cell_type": "code",
   "execution_count": 2,
   "id": "c2b59cd3",
   "metadata": {},
   "outputs": [],
   "source": [
    "DecisionScoring <- function(df=df) {\n",
    "\n",
    "Reconnaissance <- as.vector(rep(0, times=nrow(df)))\n",
    "Delivery <- Reconnaissance\n",
    "LateralMovement <- Delivery\n",
    "PrivilegeEscalation <- LateralMovement\n",
    "Exfiltration <- PrivilegeEscalation\n",
    "\n",
    "for(i in 1:nrow(df)) {\n",
    "    \n",
    "    \n",
    "    User <- df[i,]$UserName\n",
    "    Src <- df[i,]$SrcDevice\n",
    "    Dst <- df[i,]$DstDevice\n",
    "    AT <- df[i,]$Authent.Type\n",
    "    FA <- df[i,]$Failure\n",
    "    \n",
    "        # Reconnaissance[i] <- Reconnaissance[i] + 0\n",
    "        # Delivery[i] <- Delivery[i] + 0\n",
    "        # LateralMovement[i] <- LateralMovement[i] + 0\n",
    "        # PrivilegeEscalation[i] <- PrivilegeEscalation[i] + 0\n",
    "        # Exfiltration[i] <- Exfiltration[i] + 0\n",
    "    \n",
    "    SourceFrequency <- df[df$SrcDevice==Src, ]\n",
    "    UserFrequency <- df[df$UserName==User, ]\n",
    "    UserAndSourceFrequency <- UserFrequency[UserFrequency$SrcDevice==Src, ]\n",
    "    DestinationFrequency <- df[df$DstDevice==Dst, ]\n",
    "    \n",
    "    NSF <- nrow(SourceFrequency)\n",
    "    t<- table(df$SrcDevice)\n",
    "    M<- mean(t)\n",
    "    S<- sd(t)\n",
    "    if(NSF>= M + 2*S) {\n",
    "        Reconnaissance[i] <- Reconnaissance[i] + 1.75\n",
    "        Delivery[i] <- Delivery[i] + 0.5\n",
    "        # LateralMovement[i] <- LateralMovement[i] + 0\n",
    "        # PrivilegeEscalation[i] <- PrivilegeEscalation[i] + 0\n",
    "        # Exfiltration[i] <- Exfiltration[i] + 0\n",
    "    }\n",
    "     if(NSF/nrow(df)>=M+S & NSF/nrow(df)<M+2*S) {\n",
    "        Reconnaissance[i] <- Reconnaissance[i] + 1.5\n",
    "        Delivery[i] <- Delivery[i] + 0.75\n",
    "        # LateralMovement[i] <- LateralMovement[i] + 0\n",
    "        # PrivilegeEscalation[i] <- PrivilegeEscalation[i] + 0\n",
    "        # Exfiltration[i] <- Exfiltration[i] + 0\n",
    "    }\n",
    "     if(NSF/nrow(df)>=M & NSF/nrow(df)<M+S) {\n",
    "        Reconnaissance[i] <- Reconnaissance[i] + 1.25\n",
    "        Delivery[i] <- Delivery[i] + 0.75\n",
    "        # LateralMovement[i] <- LateralMovement[i] + 0\n",
    "        if(User%in%Special==TRUE) {\n",
    "            PrivilegeEscalation[i] <- PrivilegeEscalation[i] + 0.25\n",
    "            }\n",
    "        # Exfiltration[i] <- Exfiltration[i] + 0\n",
    "    }\n",
    "     if(NSF/nrow(df)>=M/6 & NSF/nrow(df)<M) {\n",
    "        Reconnaissance[i] <- Reconnaissance[i] + 0.25\n",
    "        Delivery[i] <- Delivery[i] + 0.5\n",
    "        # LateralMovement[i] <- LateralMovement[i] + 0\n",
    "        if(User%in%Special==TRUE) {\n",
    "            PrivilegeEscalation[i] <- PrivilegeEscalation[i] + 0.25\n",
    "            }\n",
    "        Exfiltration[i] <- Exfiltration[i] + 0.25\n",
    "    }\n",
    "     if(NSF/nrow(df)<M/6) {\n",
    "        # Reconnaissance[i] <- Reconnaissance[i] + 0\n",
    "        Delivery[i] <- Delivery[i] + 0.25\n",
    "        LateralMovement[i] <- LateralMovement[i] + 0.5\n",
    "        PrivilegeEscalation[i] <- PrivilegeEscalation[i] + 0.5\n",
    "        Exfiltration[i] <- Exfiltration[i] + 0.25\n",
    "    }\n",
    "     L <- length(unique(SourceFrequency$UserName))\n",
    "     if(L>=12) {\n",
    "        # Reconnaissance[i] <- Reconnaissance[i] + 0\n",
    "        # Delivery[i] <- Delivery[i] + 0\n",
    "        # LateralMovement[i] <- LateralMovement[i] + 0\n",
    "        PrivilegeEscalation[i] <- PrivilegeEscalation[i] + 1\n",
    "        Exfiltration[i] <- Exfiltration[i] + 0.5\n",
    "         }\n",
    "     if(L>=9 & L<12) {\n",
    "        # Reconnaissance[i] <- Reconnaissance[i] + 0\n",
    "        # Delivery[i] <- Delivery[i] + 0\n",
    "        # LateralMovement[i] <- LateralMovement[i] + 0\n",
    "        PrivilegeEscalation[i] <- PrivilegeEscalation[i] + 0.75\n",
    "        Exfiltration[i] <- Exfiltration[i] + 0.25 \n",
    "     }\n",
    "     if(L>=5 & L<9) {\n",
    "        # Reconnaissance[i] <- Reconnaissance[i] + 0\n",
    "        # Delivery[i] <- Delivery[i] + 0\n",
    "        # LateralMovement[i] <- LateralMovement[i] + 0\n",
    "        PrivilegeEscalation[i] <- PrivilegeEscalation[i] + 0.5\n",
    "        Exfiltration[i] <- Exfiltration[i] + 0.25\n",
    "     }\n",
    "     if(L>=2 & L<5) {\n",
    "        # Reconnaissance[i] <- Reconnaissance[i] + 0\n",
    "        Delivery[i] <- Delivery[i] + 0.25\n",
    "        LateralMovement[i] <- LateralMovement[i] + 0.25\n",
    "        # PrivilegeEscalation[i] <- PrivilegeEscalation[i] + 0\n",
    "        # Exfiltration[i] <- Exfiltration[i] + 0\n",
    "     }\n",
    "    if(L==1) {\n",
    "        # Reconnaissance[i] <- Reconnaissance[i] + 0\n",
    "        # Delivery[i] <- Delivery[i] + 0\n",
    "        LateralMovement[i] <- LateralMovement[i] + 0.5\n",
    "        # PrivilegeEscalation[i] <- PrivilegeEscalation[i] + 0\n",
    "        # Exfiltration[i] <- Exfiltration[i] + 0\n",
    "    }\n",
    "    if(User%in%Special==TRUE) {\n",
    "        # Reconnaissance[i] <- Reconnaissance[i] + 0\n",
    "        # Delivery[i] <- Delivery[i] + 0\n",
    "        LateralMovement[i] <- LateralMovement[i] + 0.25\n",
    "        PrivilegeEscalation[i] <- PrivilegeEscalation[i] + 0.75\n",
    "        Exfiltration[i] <- Exfiltration[i] + 1.5 \n",
    "    }\n",
    "    if(User%in%Special==FALSE) {\n",
    "        Reconnaissance[i] <- Reconnaissance[i] + 1\n",
    "        Delivery[i] <- Delivery[i] + 1\n",
    "        LateralMovement[i] <- LateralMovement[i] + 0.5\n",
    "        PrivilegeEscalation[i] <- PrivilegeEscalation[i] + 0.25\n",
    "        # Exfiltration[i] <- Exfiltration[i] + 0\n",
    "    }\n",
    "\n",
    "    L <- length(unique(UserAndSourceFrequency$DstDevice))\n",
    "    l <- length(unique(df$DstDevice))\n",
    "    if(L/l>=0.4) {\n",
    "        Reconnaissance[i] <- Reconnaissance[i] + 2\n",
    "        # Delivery[i] <- Delivery[i] + 0\n",
    "        # LateralMovement[i] <- LateralMovement[i] + 0\n",
    "        # PrivilegeEscalation[i] <- PrivilegeEscalation[i] + 0\n",
    "        # Exfiltration[i] <- Exfiltration[i] + 0 \n",
    "    }\n",
    "    if(L/l>=0.2 & L/l<0.4) {\n",
    "        Reconnaissance[i] <- Reconnaissance[i] + 1.75\n",
    "        # Delivery[i] <- Delivery[i] + 0\n",
    "        # LateralMovement[i] <- LateralMovement[i] + 0\n",
    "        # PrivilegeEscalation[i] <- PrivilegeEscalation[i] + 0\n",
    "        # Exfiltration[i] <- Exfiltration[i] + 0\n",
    "    }\n",
    "    if(L/l>=0.1 & L/l<0.2) {\n",
    "        Reconnaissance[i] <- Reconnaissance[i] + 1.5\n",
    "        # Delivery[i] <- Delivery[i] + 0\n",
    "        # LateralMovement[i] <- LateralMovement[i] + 0\n",
    "        # PrivilegeEscalation[i] <- PrivilegeEscalation[i] + 0\n",
    "        # Exfiltration[i] <- Exfiltration[i] + 0\n",
    "    }\n",
    "    if(L/l>=0.05 & L/l<0.1) {\n",
    "        Reconnaissance[i] <- Reconnaissance[i] + 1.25\n",
    "        Delivery[i] <- Delivery[i] + 0.25\n",
    "        # LateralMovement[i] <- LateralMovement[i] + 0\n",
    "        # PrivilegeEscalation[i] <- PrivilegeEscalation[i] + 0\n",
    "        # Exfiltration[i] <- Exfiltration[i] + 0\n",
    "    }\n",
    "    if(L>=5 & L<14) {\n",
    "        Reconnaissance[i] <- Reconnaissance[i] + 1\n",
    "        Delivery[i] <- Delivery[i] + 0.5\n",
    "        # LateralMovement[i] <- LateralMovement[i] + 0\n",
    "        # PrivilegeEscalation[i] <- PrivilegeEscalation[i] + 0\n",
    "        # Exfiltration[i] <- Exfiltration[i] + 0\n",
    "    }\n",
    "    if(L>=2 & L<5) {\n",
    "        Reconnaissance[i] <- Reconnaissance[i] + 0.5\n",
    "        Delivery[i] <- Delivery[i] + 0.75\n",
    "        LateralMovement[i] <- LateralMovement[i] + 0.25\n",
    "        PrivilegeEscalation[i] <- PrivilegeEscalation[i] + 0.5\n",
    "        Exfiltration[i] <- Exfiltration[i] + 0.5\n",
    "    }\n",
    "    if(L==1) {\n",
    "        # Reconnaissance[i] <- Reconnaissance[i] + 0\n",
    "        Delivery[i] <- Delivery[i] + 0.25\n",
    "        LateralMovement[i] <- LateralMovement[i] + 0.75\n",
    "        PrivilegeEscalation[i] <- PrivilegeEscalation[i] + 1\n",
    "        Exfiltration[i] <- Exfiltration[i] + 1\n",
    "    }\n",
    "    Destinations <- unique(UserFrequency$DstDevice)\n",
    "    if(Src%in%Destinations==TRUE){\n",
    "        # Reconnaissance[i] <- Reconnaissance[i] + 0\n",
    "        # Delivery[i] <- Delivery[i] + 0\n",
    "        LateralMovement[i] <- LateralMovement[i] + 2\n",
    "        PrivilegeEscalation[i] <- PrivilegeEscalation[i] + 1.5\n",
    "        # Exfiltration[i] <- Exfiltration[i] + 0\n",
    "    }\n",
    "    \n",
    "    D<- table(df$DstDevice)\n",
    "    M<- mean(D)\n",
    "    S<- sd(D)\n",
    "    N<- nrow(df[df$DstDevice==Dst, ])\n",
    "    if(N>=M+2*S){\n",
    "        Reconnaissance[i] <- Reconnaissance[i] + 1.25\n",
    "        # Delivery[i] <- Delivery[i] + 0\n",
    "        LateralMovement[i] <- LateralMovement[i] + 0.25\n",
    "        # PrivilegeEscalation[i] <- PrivilegeEscalation[i] + 0\n",
    "        if(User%in%Special==TRUE) {\n",
    "            Exfiltration[i] <- Exfiltration[i] + 1.5  \n",
    "        }\n",
    "        if(User%in%Special==FALSE) {\n",
    "            Exfiltration[i] <- Exfiltration[i] + 0.5  \n",
    "        }\n",
    "    }\n",
    "    if(N>=M+S & N<M+2*S) {\n",
    "        Reconnaissance[i] <- Reconnaissance[i] + 1\n",
    "        # Delivery[i] <- Delivery[i] + 0\n",
    "        LateralMovement[i] <- LateralMovement[i] + 0.25\n",
    "        # PrivilegeEscalation[i] <- PrivilegeEscalation[i] + 0\n",
    "        if(User%in%Special==TRUE) {\n",
    "            Exfiltration[i] <- Exfiltration[i] + 1.5  \n",
    "        }\n",
    "        if(User%in%Special==FALSE) {\n",
    "            Exfiltration[i] <- Exfiltration[i] + 0.25  \n",
    "        }\n",
    "    }\n",
    "    if(N>=M & N<M+S) {\n",
    "        Reconnaissance[i] <- Reconnaissance[i] + 0.75\n",
    "        Delivery[i] <- Delivery[i] + 0.25\n",
    "        # LateralMovement[i] <- LateralMovement[i] + 0\n",
    "        # PrivilegeEscalation[i] <- PrivilegeEscalation[i] + 0\n",
    "        if(User%in%Special==TRUE) {\n",
    "            Exfiltration[i] <- Exfiltration[i] + 0.75  \n",
    "        }\n",
    "        if(User%in%Special==FALSE) {\n",
    "            Exfiltration[i] <- Exfiltration[i] + 0.25  \n",
    "        }\n",
    "    }\n",
    "    if(N>=M/4 & N<M) {\n",
    "        Reconnaissance[i] <- Reconnaissance[i] + 0.5\n",
    "        Delivery[i] <- Delivery[i] + 0.75\n",
    "        LateralMovement[i] <- LateralMovement[i] + 0.25\n",
    "        # PrivilegeEscalation[i] <- PrivilegeEscalation[i] + 0\n",
    "        # Exfiltration[i] <- Exfiltration[i] + 0\n",
    "    }\n",
    "    if(N>=4 & N<M/4) {\n",
    "        Reconnaissance[i] <- Reconnaissance[i] + 0.25\n",
    "        Delivery[i] <- Delivery[i] + 1\n",
    "        LateralMovement[i] <- LateralMovement[i] + 0.25\n",
    "        # PrivilegeEscalation[i] <- PrivilegeEscalation[i] + 0\n",
    "        # Exfiltration[i] <- Exfiltration[i] + 0\n",
    "    }\n",
    "    if(N<4) {\n",
    "        # Reconnaissance[i] <- Reconnaissance[i] + 0\n",
    "        Delivery[i] <- Delivery[i] + 0.75\n",
    "        LateralMovement[i] <- LateralMovement[i] + 0.25\n",
    "        # PrivilegeEscalation[i] <- PrivilegeEscalation[i] + 0\n",
    "        # Exfiltration[i] <- Exfiltration[i] + 0\n",
    "    }\n",
    "    \n",
    "    U<- length(unique(DestinationFrequency$UserName))\n",
    "    L<- length(unique(df$UserName))\n",
    "    if(U>=L/5) {\n",
    "        Reconnaissance[i] <- Reconnaissance[i] + 1\n",
    "        # Delivery[i] <- Delivery[i] + 0\n",
    "        # LateralMovement[i] <- LateralMovement[i] + 0\n",
    "        # PrivilegeEscalation[i] <- PrivilegeEscalation[i] + 0\n",
    "        if(User%in%Special==TRUE) {\n",
    "            Exfiltration[i] <- Exfiltration[i] + 0.5\n",
    "        }\n",
    "    }\n",
    "    if(U>=L/10 & U<L/5) {\n",
    "        Reconnaissance[i] <- Reconnaissance[i] + 0.75\n",
    "        Delivery[i] <- Delivery[i] + 0.25\n",
    "        # LateralMovement[i] <- LateralMovement[i] + 0\n",
    "        # PrivilegeEscalation[i] <- PrivilegeEscalation[i] + 0\n",
    "        if(User%in%Special==TRUE) {\n",
    "            Exfiltration[i] <- Exfiltration[i] + 0.5\n",
    "        }\n",
    "    }\n",
    "    if(U>=L/20 & U<L/10) {\n",
    "        Reconnaissance[i] <- Reconnaissance[i] + 0.5\n",
    "        Delivery[i] <- Delivery[i] + 0.25\n",
    "        # LateralMovement[i] <- LateralMovement[i] + 0\n",
    "        # PrivilegeEscalation[i] <- PrivilegeEscalation[i] + 0\n",
    "        if(User%in%Special==TRUE) {\n",
    "            Exfiltration[i] <- Exfiltration[i] + 0.75\n",
    "        }\n",
    "    }\n",
    "    if(U<L/20) {\n",
    "        Reconnaissance[i] <- Reconnaissance[i] + 0.25\n",
    "        # Delivery[i] <- Delivery[i] + 0\n",
    "        # LateralMovement[i] <- LateralMovement[i] + 0\n",
    "        # PrivilegeEscalation[i] <- PrivilegeEscalation[i] + 0\n",
    "        if(User%in%Special==TRUE) {\n",
    "            Exfiltration[i] <- Exfiltration[i] + 1.25\n",
    "        }\n",
    "    }\n",
    "    \n",
    "    S<- length(unique(DestinationFrequency$SrcDevice))\n",
    "    L<- length(unique(df$SrcDevice))\n",
    "    if(S/L>=0.2) {\n",
    "        Reconnaissance[i] <- Reconnaissance[i] + 1.75\n",
    "        # Delivery[i] <- Delivery[i] + 0\n",
    "        # LateralMovement[i] <- LateralMovement[i] + 0\n",
    "        # PrivilegeEscalation[i] <- PrivilegeEscalation[i] + 0\n",
    "        Exfiltration[i] <- Exfiltration[i] + 0.5 \n",
    "    }\n",
    "    if(S/L>=0.1 & S/L<0.2) {\n",
    "        Reconnaissance[i] <- Reconnaissance[i] + 1.25\n",
    "        # Delivery[i] <- Delivery[i] + 0\n",
    "        # LateralMovement[i] <- LateralMovement[i] + 0\n",
    "        # PrivilegeEscalation[i] <- PrivilegeEscalation[i] + 0\n",
    "        Exfiltration[i] <- Exfiltration[i] + 0.25\n",
    "    }\n",
    "    if(S/L>=0.05 & S/L<0.1) {\n",
    "        Reconnaissance[i] <- Reconnaissance[i] + 1\n",
    "        # Delivery[i] <- Delivery[i] + 0\n",
    "        # LateralMovement[i] <- LateralMovement[i] + 0\n",
    "        # PrivilegeEscalation[i] <- PrivilegeEscalation[i] + 0\n",
    "        Exfiltration[i] <- Exfiltration[i] + 0.25\n",
    "    }\n",
    "    if(S>=5 & S<24) {\n",
    "        Reconnaissance[i] <- Reconnaissance[i] + 0.75\n",
    "        Delivery[i] <- Delivery[i] + 0.25\n",
    "        LateralMovement[i] <- LateralMovement[i] + 0.25\n",
    "        # PrivilegeEscalation[i] <- PrivilegeEscalation[i] + 0\n",
    "        Exfiltration[i] <- Exfiltration[i] + 0.25\n",
    "    }\n",
    "    if(S>=2 & S<5) {\n",
    "        Reconnaissance[i] <- Reconnaissance[i] + 0.5\n",
    "        Delivery[i] <- Delivery[i] + 0.5\n",
    "        # LateralMovement[i] <- LateralMovement[i] + 0\n",
    "        PrivilegeEscalation[i] <- PrivilegeEscalation[i] + 0.25\n",
    "        Exfiltration[i] <- Exfiltration[i] + 0.25\n",
    "    }\n",
    "    if(S==1) {\n",
    "        # Reconnaissance[i] <- Reconnaissance[i] + 0\n",
    "        Delivery[i] <- Delivery[i] + 1\n",
    "        LateralMovement[i] <- LateralMovement[i] + 0.75\n",
    "        # PrivilegeEscalation[i] <- PrivilegeEscalation[i] + 0\n",
    "        Exfiltration[i] <- Exfiltration[i] + 0.25\n",
    "    }\n",
    "    \n",
    "    Identical <- UserAndSourceFrequency[UserAndSourceFrequency$DstDevice==Dst, ]\n",
    "    I <- nrow(Identical)\n",
    "    if(I>12) {\n",
    "        Reconnaissance[i] <- Reconnaissance[i] + 1.25\n",
    "        # Delivery[i] <- Delivery[i] + 0\n",
    "        # LateralMovement[i] <- LateralMovement[i] + 0\n",
    "        # PrivilegeEscalation[i] <- PrivilegeEscalation[i] + 0\n",
    "        # Exfiltration[i] <- Exfiltration[i] + 0\n",
    "    }\n",
    "    if(I>9 & I<=12) {\n",
    "        Reconnaissance[i] <- Reconnaissance[i] + 0.75\n",
    "        # Delivery[i] <- Delivery[i] + 0\n",
    "        # LateralMovement[i] <- LateralMovement[i] + 0\n",
    "        PrivilegeEscalation[i] <- PrivilegeEscalation[i] + 0.25\n",
    "        # Exfiltration[i] <- Exfiltration[i] + 0\n",
    "    }\n",
    "    if(I>6 & I<=9) {\n",
    "        Reconnaissance[i] <- Reconnaissance[i] + 0.5\n",
    "        # Delivery[i] <- Delivery[i] + 0\n",
    "        LateralMovement[i] <- LateralMovement[i] + 0.25\n",
    "        PrivilegeEscalation[i] <- PrivilegeEscalation[i] + 0.25\n",
    "        Exfiltration[i] <- Exfiltration[i] + 0.25\n",
    "    }\n",
    "    if(I>3 & I<=6) {\n",
    "        Reconnaissance[i] <- Reconnaissance[i] + 0.25\n",
    "        Delivery[i] <- Delivery[i] + 0.25\n",
    "        LateralMovement[i] <- LateralMovement[i] + 0.25\n",
    "        PrivilegeEscalation[i] <- PrivilegeEscalation[i] + 0.25\n",
    "        Exfiltration[i] <- Exfiltration[i] + 0.25\n",
    "    }\n",
    "    if(I>1 & I<=3) {\n",
    "        if(sum(Identical$Failure)==nrow(Identical)) {\n",
    "            Reconnaissance[i] <- Reconnaissance[i] + 0.25\n",
    "            }\n",
    "        Delivery[i] <- Delivery[i] + 0.5\n",
    "        LateralMovement[i] <- LateralMovement[i] + 0.5\n",
    "        PrivilegeEscalation[i] <- PrivilegeEscalation[i] + 0.25\n",
    "        Exfiltration[i] <- Exfiltration[i] + 0.5\n",
    "    }\n",
    "    if(I==1) {\n",
    "        if(Identical$Failure==1) {\n",
    "            Reconnaissance[i] <- Reconnaissance[i] + 0.25\n",
    "        }\n",
    "        Delivery[i] <- Delivery[i] + 1.25\n",
    "        LateralMovement[i] <- LateralMovement[i] + 0.5\n",
    "        PrivilegeEscalation[i] <- PrivilegeEscalation[i] + 0.25\n",
    "        Exfiltration[i] <- Exfiltration[i] + 0.75\n",
    "    }\n",
    "    \n",
    "    A<- length(unique(UserAndSourceFrequency$Authent.Type))\n",
    "    if(A>3) {\n",
    "        Reconnaissance[i] <- Reconnaissance[i] + 1.25\n",
    "        Delivery[i] <- Delivery[i] + 1.5\n",
    "        # LateralMovement[i] <- LateralMovement[i] + 0\n",
    "        PrivilegeEscalation[i] <- PrivilegeEscalation[i] + 0.25\n",
    "        # Exfiltration[i] <- Exfiltration[i] + 0  \n",
    "    }\n",
    "    if(A==3) {\n",
    "        Reconnaissance[i] <- Reconnaissance[i] + 1\n",
    "        Delivery[i] <- Delivery[i] + 1.25\n",
    "        LateralMovement[i] <- LateralMovement[i] + 0.25\n",
    "        PrivilegeEscalation[i] <- PrivilegeEscalation[i] + 0.5\n",
    "        Exfiltration[i] <- Exfiltration[i] + 0.25\n",
    "    }\n",
    "    if(A==2) {\n",
    "        Reconnaissance[i] <- Reconnaissance[i] + 0.75\n",
    "        Delivery[i] <- Delivery[i] + 1\n",
    "        LateralMovement[i] <- LateralMovement[i] + 1\n",
    "        PrivilegeEscalation[i] <- PrivilegeEscalation[i] + 0.5\n",
    "        Exfiltration[i] <- Exfiltration[i] + 1\n",
    "    }\n",
    "    if(A==1) {\n",
    "        Reconnaissance[i] <- Reconnaissance[i] + 0.25\n",
    "        Delivery[i] <- Delivery[i] + 0.25\n",
    "        LateralMovement[i] <- LateralMovement[i] + 1.25\n",
    "        PrivilegeEscalation[i] <- PrivilegeEscalation[i] + 0.5\n",
    "        Exfiltration[i] <- Exfiltration[i] + 1.25\n",
    "    }\n",
    "    \n",
    "    Identical <- Identical[Identical$Authent.Type==AT, ]\n",
    "    I <- nrow(Identical)\n",
    "    if(I>=2) {\n",
    "        Reconnaissance[i] <- Reconnaissance[i] + 2\n",
    "        Delivery[i] <- Delivery[i] + 1\n",
    "        LateralMovement[i] <- LateralMovement[i] + 0.5\n",
    "        PrivilegeEscalation[i] <- PrivilegeEscalation[i] + 0.25\n",
    "        Exfiltration[i] <- Exfiltration[i] + 0.25  \n",
    "    }\n",
    "    if(I==1) {\n",
    "        # Reconnaissance[i] <- Reconnaissance[i] + 0\n",
    "        Delivery[i] <- Delivery[i] + 0.25\n",
    "        LateralMovement[i] <- LateralMovement[i] + 0.5\n",
    "        PrivilegeEscalation[i] <- PrivilegeEscalation[i] + 0.75\n",
    "        Exfiltration[i] <- Exfiltration[i] + 1\n",
    "    }\n",
    "    \n",
    "    Identical <- UserAndSourceFrequency[UserAndSourceFrequency$DstDevice==Dst, ]\n",
    "    AuthTypes <- length(unique(Identical$Authent.Types))\n",
    "    if(AuthTypes>=2) {\n",
    "        Reconnaissance[i] <- Reconnaissance[i] + 1.75\n",
    "        Delivery[i] <- Delivery[i] + 1.5\n",
    "        LateralMovement[i] <- LateralMovement[i] + 1.25\n",
    "        PrivilegeEscalation[i] <- PrivilegeEscalation[i] + 0.5\n",
    "        # Exfiltration[i] <- Exfiltration[i] + 0\n",
    "    }\n",
    "    if(AuthTypes==1) {\n",
    "        # Reconnaissance[i] <- Reconnaissance[i] + 0\n",
    "        Delivery[i] <- Delivery[i] + 0.25\n",
    "        LateralMovement[i] <- LateralMovement[i] + 0.25\n",
    "        PrivilegeEscalation[i] <- PrivilegeEscalation[i] + 0.5\n",
    "        # Exfiltration[i] <- Exfiltration[i] + 0\n",
    "    }\n",
    "    \n",
    "    if(FA==1) {\n",
    "        Reconnaissance[i] <- Reconnaissance[i] + 2\n",
    "        Delivery[i] <- Delivery[i] + 1.5\n",
    "        LateralMovement[i] <- LateralMovement[i] + 0.75\n",
    "        PrivilegeEscalation[i] <- PrivilegeEscalation[i] + 0.25\n",
    "        # Exfiltration[i] <- Exfiltration[i] + 0 \n",
    "    }\n",
    "    if(FA==0) {\n",
    "        # Reconnaissance[i] <- Reconnaissance[i] + 0\n",
    "        Delivery[i] <- Delivery[i] + 0.25\n",
    "        LateralMovement[i] <- LateralMovement[i] + 0.5\n",
    "        PrivilegeEscalation[i] <- PrivilegeEscalation[i] + 1.5\n",
    "        Exfiltration[i] <- Exfiltration[i] + 2\n",
    "    }\n",
    "    \n",
    "    OF <- sum(UserAndSourceFrequency$Failure)\n",
    "    SF <- nrow(UserAndSourceFrequency)\n",
    "    if(OF/SF>=0.8) {\n",
    "        Reconnaissance[i] <- Reconnaissance[i] + 2\n",
    "        Delivery[i] <- Delivery[i] + 0.25\n",
    "        # LateralMovement[i] <- LateralMovement[i] + 0\n",
    "        # PrivilegeEscalation[i] <- PrivilegeEscalation[i] + 0\n",
    "        # Exfiltration[i] <- Exfiltration[i] + 0\n",
    "    }\n",
    "    if(OF/SF>=0.5 & OF/SF<0.8) {\n",
    "        Reconnaissance[i] <- Reconnaissance[i] + 1.75\n",
    "        Delivery[i] <- Delivery[i] + 0.5\n",
    "        # LateralMovement[i] <- LateralMovement[i] + 0\n",
    "        # PrivilegeEscalation[i] <- PrivilegeEscalation[i] + 0\n",
    "        # Exfiltration[i] <- Exfiltration[i] + 0\n",
    "    }\n",
    "    if(OF/SF>=0.2 & OF/SF<0.5) {\n",
    "        Reconnaissance[i] <- Reconnaissance[i] + 1.25\n",
    "        Delivery[i] <- Delivery[i] + 1\n",
    "        LateralMovement[i] <- LateralMovement[i] + 0.5\n",
    "        # PrivilegeEscalation[i] <- PrivilegeEscalation[i] + 0\n",
    "        # Exfiltration[i] <- Exfiltration[i] + 0\n",
    "    }\n",
    "    if(OF/SF>=0.1 & OF/SF<0.2) {\n",
    "        Reconnaissance[i] <- Reconnaissance[i] + 0.5\n",
    "        Delivery[i] <- Delivery[i] + 1.25\n",
    "        LateralMovement[i] <- LateralMovement[i] + 0.75\n",
    "        # PrivilegeEscalation[i] <- PrivilegeEscalation[i] + 0\n",
    "        # Exfiltration[i] <- Exfiltration[i] + 0\n",
    "    }\n",
    "    if(OF/SF>=0.02 & OF/SF<0.1) {\n",
    "        Reconnaissance[i] <- Reconnaissance[i] + 0.25\n",
    "        Delivery[i] <- Delivery[i] + 1\n",
    "        LateralMovement[i] <- LateralMovement[i] + 0.5\n",
    "        PrivilegeEscalation[i] <- PrivilegeEscalation[i] + 0.5\n",
    "        Exfiltration[i] <- Exfiltration[i] + 0.25\n",
    "    }\n",
    "    if(OF/SF<0.02) {\n",
    "        # Reconnaissance[i] <- Reconnaissance[i] + 0\n",
    "        Delivery[i] <- Delivery[i] + 0.5\n",
    "        LateralMovement[i] <- LateralMovement[i] + 0.25\n",
    "        PrivilegeEscalation[i] <- PrivilegeEscalation[i] + 1.5\n",
    "        Exfiltration[i] <- Exfiltration[i] + 2\n",
    "    }\n",
    "    \n",
    "    Identical <- Identical[Identical$Authent.Type==AT, ]\n",
    "    FI <- length(unique(Identical$Failure))\n",
    "    if(FI>=2) {\n",
    "        Reconnaissance[i] <- Reconnaissance[i] + 0.5\n",
    "        Delivery[i] <- Delivery[i] + 0.25\n",
    "        LateralMovement[i] <- LateralMovement[i] + 0.5\n",
    "        # PrivilegeEscalation[i] <- PrivilegeEscalation[i] + 0\n",
    "        # Exfiltration[i] <- Exfiltration[i] + 0\n",
    "    }\n",
    "    if(FI==1) {\n",
    "        Reconnaissance[i] <- Reconnaissance[i] + 0.25\n",
    "        Delivery[i] <- Delivery[i] + 0.75\n",
    "        LateralMovement[i] <- LateralMovement[i] + 0.5\n",
    "        PrivilegeEscalation[i] <- PrivilegeEscalation[i] + 1.75\n",
    "        Exfiltration[i] <- Exfiltration[i] + 2\n",
    "    }\n",
    "    \n",
    "    if(AT=='TGT') {\n",
    "        # Reconnaissance[i] <- Reconnaissance[i] + 0\n",
    "        Delivery[i] <- Delivery[i] + 0.75\n",
    "        LateralMovement[i] <- LateralMovement[i] + 0.5\n",
    "        PrivilegeEscalation[i] <- PrivilegeEscalation[i] + 1.5\n",
    "        Exfiltration[i] <- Exfiltration[i] + 1.75\n",
    "    }\n",
    "    if(AT=='TGS') {\n",
    "        # Reconnaissance[i] <- Reconnaissance[i] + 0\n",
    "        Delivery[i] <- Delivery[i] + 1\n",
    "        LateralMovement[i] <- LateralMovement[i] + 0.5\n",
    "        PrivilegeEscalation[i] <- PrivilegeEscalation[i] + 1.5\n",
    "        Exfiltration[i] <- Exfiltration[i] + 1.75\n",
    "    }\n",
    "    if(AT=='InteractiveLogon' | AT=='RemoteInteractive') {\n",
    "        Reconnaissance[i] <- Reconnaissance[i] + 1.5\n",
    "        Delivery[i] <- Delivery[i] + 0.25\n",
    "        LateralMovement[i] <- LateralMovement[i] + 1\n",
    "        PrivilegeEscalation[i] <- PrivilegeEscalation[i] + 0.25\n",
    "        # Exfiltration[i] <- Exfiltration[i] + 0 \n",
    "    }\n",
    "    if(AT=='NetworkLogon') {\n",
    "        Reconnaissance[i] <- Reconnaissance[i] + 1.75\n",
    "        Delivery[i] <- Delivery[i] + 0.25\n",
    "        LateralMovement[i] <- LateralMovement[i] + 0.5\n",
    "        PrivilegeEscalation[i] <- PrivilegeEscalation[i] + 0.25\n",
    "        # Exfiltration[i] <- Exfiltration[i] + 0 \n",
    "    }\n",
    "    if(AT=='Batch') {\n",
    "        # Reconnaissance[i] <- Reconnaissance[i] + 0\n",
    "        Delivery[i] <- Delivery[i] + 1.5\n",
    "        LateralMovement[i] <- LateralMovement[i] + 0.25\n",
    "        PrivilegeEscalation[i] <- PrivilegeEscalation[i] + 0.5\n",
    "        Exfiltration[i] <- Exfiltration[i] + 1.25 \n",
    "    }\n",
    "    if(AT=='Service') {\n",
    "        # Reconnaissance[i] <- Reconnaissance[i] + 0\n",
    "        Delivery[i] <- Delivery[i] + 1.5\n",
    "        LateralMovement[i] <- LateralMovement[i] + 0.5\n",
    "        PrivilegeEscalation[i] <- PrivilegeEscalation[i] + 1.75\n",
    "        Exfiltration[i] <- Exfiltration[i] + 1.25 \n",
    "    }\n",
    "    if(AT=='WorkstationLock') {\n",
    "        # Reconnaissance[i] <- Reconnaissance[i] + 0\n",
    "        Delivery[i] <- Delivery[i] + 0.75\n",
    "        # LateralMovement[i] <- LateralMovement[i] + 0\n",
    "        PrivilegeEscalation[i] <- PrivilegeEscalation[i] + 0.25\n",
    "        Exfiltration[i] <- Exfiltration[i] + 2 \n",
    "    }\n",
    "    if(AT=='WorkstationUnlock') {\n",
    "        Reconnaissance[i] <- Reconnaissance[i] + 0.75\n",
    "        Delivery[i] <- Delivery[i] + 0.25\n",
    "        LateralMovement[i] <- LateralMovement[i] + 0.25\n",
    "        PrivilegeEscalation[i] <- PrivilegeEscalation[i] + 1\n",
    "        Exfiltration[i] <- Exfiltration[i] + 0.25 \n",
    "    }\n",
    "    if(AT=='ScreensaverInvoked') {\n",
    "        # Reconnaissance[i] <- Reconnaissance[i] + 0\n",
    "        Delivery[i] <- Delivery[i] + 0.75\n",
    "        # LateralMovement[i] <- LateralMovement[i] + 0\n",
    "        # PrivilegeEscalation[i] <- PrivilegeEscalation[i] + 0\n",
    "        # Exfiltration[i] <- Exfiltration[i] + 0\n",
    "    }\n",
    "    if(AT=='ScreensaverDismissed') {\n",
    "        # Reconnaissance[i] <- Reconnaissance[i] + 0\n",
    "        Delivery[i] <- Delivery[i] + 0.5\n",
    "        LateralMovement[i] <- LateralMovement[i] + 0.25\n",
    "        # PrivilegeEscalation[i] <- PrivilegeEscalation[i] + 0\n",
    "        # Exfiltration[i] <- Exfiltration[i] + 0\n",
    "    }\n",
    "    if(AT=='CachedInteractive') {\n",
    "        Reconnaissance[i] <- Reconnaissance[i] + 0.75\n",
    "        Delivery[i] <- Delivery[i] + 0.5\n",
    "        LateralMovement[i] <- LateralMovement[i] + 0.25\n",
    "        PrivilegeEscalation[i] <- PrivilegeEscalation[i] + 0.25\n",
    "        # Exfiltration[i] <- Exfiltration[i] + 0\n",
    "    }\n",
    "    progress(i)\n",
    "    # Sys.sleep(0.01)\n",
    "}\n",
    "  Stages <<- as.data.frame(cbind(Reconnaissance, Delivery, LateralMovement, PrivilegeEscalation, Exfiltration))\n",
    "    }"
   ]
  },
  {
   "cell_type": "code",
   "execution_count": 8,
   "id": "2b86a5bb",
   "metadata": {},
   "outputs": [
    {
     "data": {
      "text/html": [
       "<table>\n",
       "<thead><tr><th scope=col>Reconnaissance</th><th scope=col>Delivery</th><th scope=col>LateralMovement</th><th scope=col>PrivilegeEscalation</th><th scope=col>Exfiltration</th></tr></thead>\n",
       "<tbody>\n",
       "\t<tr><td>14.25</td><td>7.00 </td><td>6.25 </td><td>6.75 </td><td>5.50 </td></tr>\n",
       "\t<tr><td>14.25</td><td>7.00 </td><td>6.25 </td><td>6.75 </td><td>5.50 </td></tr>\n",
       "\t<tr><td>14.25</td><td>7.00 </td><td>6.25 </td><td>6.75 </td><td>5.50 </td></tr>\n",
       "\t<tr><td>14.25</td><td>7.00 </td><td>6.25 </td><td>6.75 </td><td>5.50 </td></tr>\n",
       "\t<tr><td>14.25</td><td>7.00 </td><td>6.25 </td><td>6.75 </td><td>5.50 </td></tr>\n",
       "\t<tr><td>14.25</td><td>7.00 </td><td>6.25 </td><td>6.75 </td><td>5.50 </td></tr>\n",
       "\t<tr><td>14.25</td><td>7.00 </td><td>6.25 </td><td>6.75 </td><td>5.50 </td></tr>\n",
       "\t<tr><td>14.25</td><td>7.00 </td><td>6.25 </td><td>6.75 </td><td>5.50 </td></tr>\n",
       "\t<tr><td>12.25</td><td>7.75 </td><td>6.25 </td><td>8.00 </td><td>7.00 </td></tr>\n",
       "\t<tr><td>12.25</td><td>7.75 </td><td>6.25 </td><td>8.00 </td><td>7.00 </td></tr>\n",
       "\t<tr><td>12.25</td><td>7.75 </td><td>6.25 </td><td>8.00 </td><td>7.00 </td></tr>\n",
       "\t<tr><td>12.25</td><td>7.75 </td><td>6.25 </td><td>8.00 </td><td>7.00 </td></tr>\n",
       "\t<tr><td>12.25</td><td>7.75 </td><td>6.25 </td><td>8.00 </td><td>7.00 </td></tr>\n",
       "\t<tr><td>12.25</td><td>7.75 </td><td>6.25 </td><td>8.00 </td><td>7.00 </td></tr>\n",
       "\t<tr><td>12.25</td><td>7.75 </td><td>6.25 </td><td>8.00 </td><td>7.00 </td></tr>\n",
       "\t<tr><td>12.25</td><td>7.75 </td><td>6.25 </td><td>8.00 </td><td>7.00 </td></tr>\n",
       "\t<tr><td>12.25</td><td>7.75 </td><td>6.25 </td><td>8.00 </td><td>7.00 </td></tr>\n",
       "\t<tr><td>12.25</td><td>7.75 </td><td>6.25 </td><td>8.00 </td><td>7.00 </td></tr>\n",
       "\t<tr><td>12.25</td><td>7.75 </td><td>6.25 </td><td>8.00 </td><td>7.00 </td></tr>\n",
       "\t<tr><td>13.00</td><td>7.50 </td><td>5.75 </td><td>6.75 </td><td>7.75 </td></tr>\n",
       "\t<tr><td>13.00</td><td>7.50 </td><td>5.75 </td><td>6.75 </td><td>7.75 </td></tr>\n",
       "\t<tr><td>14.00</td><td>7.00 </td><td>6.25 </td><td>6.75 </td><td>5.25 </td></tr>\n",
       "\t<tr><td>14.00</td><td>7.00 </td><td>6.25 </td><td>6.75 </td><td>5.25 </td></tr>\n",
       "\t<tr><td>14.00</td><td>7.00 </td><td>6.25 </td><td>6.75 </td><td>5.25 </td></tr>\n",
       "\t<tr><td>14.00</td><td>7.00 </td><td>6.25 </td><td>6.75 </td><td>5.25 </td></tr>\n",
       "</tbody>\n",
       "</table>\n"
      ],
      "text/latex": [
       "\\begin{tabular}{r|lllll}\n",
       " Reconnaissance & Delivery & LateralMovement & PrivilegeEscalation & Exfiltration\\\\\n",
       "\\hline\n",
       "\t 14.25 & 7.00  & 6.25  & 6.75  & 5.50 \\\\\n",
       "\t 14.25 & 7.00  & 6.25  & 6.75  & 5.50 \\\\\n",
       "\t 14.25 & 7.00  & 6.25  & 6.75  & 5.50 \\\\\n",
       "\t 14.25 & 7.00  & 6.25  & 6.75  & 5.50 \\\\\n",
       "\t 14.25 & 7.00  & 6.25  & 6.75  & 5.50 \\\\\n",
       "\t 14.25 & 7.00  & 6.25  & 6.75  & 5.50 \\\\\n",
       "\t 14.25 & 7.00  & 6.25  & 6.75  & 5.50 \\\\\n",
       "\t 14.25 & 7.00  & 6.25  & 6.75  & 5.50 \\\\\n",
       "\t 12.25 & 7.75  & 6.25  & 8.00  & 7.00 \\\\\n",
       "\t 12.25 & 7.75  & 6.25  & 8.00  & 7.00 \\\\\n",
       "\t 12.25 & 7.75  & 6.25  & 8.00  & 7.00 \\\\\n",
       "\t 12.25 & 7.75  & 6.25  & 8.00  & 7.00 \\\\\n",
       "\t 12.25 & 7.75  & 6.25  & 8.00  & 7.00 \\\\\n",
       "\t 12.25 & 7.75  & 6.25  & 8.00  & 7.00 \\\\\n",
       "\t 12.25 & 7.75  & 6.25  & 8.00  & 7.00 \\\\\n",
       "\t 12.25 & 7.75  & 6.25  & 8.00  & 7.00 \\\\\n",
       "\t 12.25 & 7.75  & 6.25  & 8.00  & 7.00 \\\\\n",
       "\t 12.25 & 7.75  & 6.25  & 8.00  & 7.00 \\\\\n",
       "\t 12.25 & 7.75  & 6.25  & 8.00  & 7.00 \\\\\n",
       "\t 13.00 & 7.50  & 5.75  & 6.75  & 7.75 \\\\\n",
       "\t 13.00 & 7.50  & 5.75  & 6.75  & 7.75 \\\\\n",
       "\t 14.00 & 7.00  & 6.25  & 6.75  & 5.25 \\\\\n",
       "\t 14.00 & 7.00  & 6.25  & 6.75  & 5.25 \\\\\n",
       "\t 14.00 & 7.00  & 6.25  & 6.75  & 5.25 \\\\\n",
       "\t 14.00 & 7.00  & 6.25  & 6.75  & 5.25 \\\\\n",
       "\\end{tabular}\n"
      ],
      "text/markdown": [
       "\n",
       "| Reconnaissance | Delivery | LateralMovement | PrivilegeEscalation | Exfiltration |\n",
       "|---|---|---|---|---|\n",
       "| 14.25 | 7.00  | 6.25  | 6.75  | 5.50  |\n",
       "| 14.25 | 7.00  | 6.25  | 6.75  | 5.50  |\n",
       "| 14.25 | 7.00  | 6.25  | 6.75  | 5.50  |\n",
       "| 14.25 | 7.00  | 6.25  | 6.75  | 5.50  |\n",
       "| 14.25 | 7.00  | 6.25  | 6.75  | 5.50  |\n",
       "| 14.25 | 7.00  | 6.25  | 6.75  | 5.50  |\n",
       "| 14.25 | 7.00  | 6.25  | 6.75  | 5.50  |\n",
       "| 14.25 | 7.00  | 6.25  | 6.75  | 5.50  |\n",
       "| 12.25 | 7.75  | 6.25  | 8.00  | 7.00  |\n",
       "| 12.25 | 7.75  | 6.25  | 8.00  | 7.00  |\n",
       "| 12.25 | 7.75  | 6.25  | 8.00  | 7.00  |\n",
       "| 12.25 | 7.75  | 6.25  | 8.00  | 7.00  |\n",
       "| 12.25 | 7.75  | 6.25  | 8.00  | 7.00  |\n",
       "| 12.25 | 7.75  | 6.25  | 8.00  | 7.00  |\n",
       "| 12.25 | 7.75  | 6.25  | 8.00  | 7.00  |\n",
       "| 12.25 | 7.75  | 6.25  | 8.00  | 7.00  |\n",
       "| 12.25 | 7.75  | 6.25  | 8.00  | 7.00  |\n",
       "| 12.25 | 7.75  | 6.25  | 8.00  | 7.00  |\n",
       "| 12.25 | 7.75  | 6.25  | 8.00  | 7.00  |\n",
       "| 13.00 | 7.50  | 5.75  | 6.75  | 7.75  |\n",
       "| 13.00 | 7.50  | 5.75  | 6.75  | 7.75  |\n",
       "| 14.00 | 7.00  | 6.25  | 6.75  | 5.25  |\n",
       "| 14.00 | 7.00  | 6.25  | 6.75  | 5.25  |\n",
       "| 14.00 | 7.00  | 6.25  | 6.75  | 5.25  |\n",
       "| 14.00 | 7.00  | 6.25  | 6.75  | 5.25  |\n",
       "\n"
      ],
      "text/plain": [
       "   Reconnaissance Delivery LateralMovement PrivilegeEscalation Exfiltration\n",
       "1  14.25          7.00     6.25            6.75                5.50        \n",
       "2  14.25          7.00     6.25            6.75                5.50        \n",
       "3  14.25          7.00     6.25            6.75                5.50        \n",
       "4  14.25          7.00     6.25            6.75                5.50        \n",
       "5  14.25          7.00     6.25            6.75                5.50        \n",
       "6  14.25          7.00     6.25            6.75                5.50        \n",
       "7  14.25          7.00     6.25            6.75                5.50        \n",
       "8  14.25          7.00     6.25            6.75                5.50        \n",
       "9  12.25          7.75     6.25            8.00                7.00        \n",
       "10 12.25          7.75     6.25            8.00                7.00        \n",
       "11 12.25          7.75     6.25            8.00                7.00        \n",
       "12 12.25          7.75     6.25            8.00                7.00        \n",
       "13 12.25          7.75     6.25            8.00                7.00        \n",
       "14 12.25          7.75     6.25            8.00                7.00        \n",
       "15 12.25          7.75     6.25            8.00                7.00        \n",
       "16 12.25          7.75     6.25            8.00                7.00        \n",
       "17 12.25          7.75     6.25            8.00                7.00        \n",
       "18 12.25          7.75     6.25            8.00                7.00        \n",
       "19 12.25          7.75     6.25            8.00                7.00        \n",
       "20 13.00          7.50     5.75            6.75                7.75        \n",
       "21 13.00          7.50     5.75            6.75                7.75        \n",
       "22 14.00          7.00     6.25            6.75                5.25        \n",
       "23 14.00          7.00     6.25            6.75                5.25        \n",
       "24 14.00          7.00     6.25            6.75                5.25        \n",
       "25 14.00          7.00     6.25            6.75                5.25        "
      ]
     },
     "metadata": {},
     "output_type": "display_data"
    }
   ],
   "source": [
    "head(Stages, 25)"
   ]
  },
  {
   "cell_type": "code",
   "execution_count": 9,
   "id": "9e3fa0fa",
   "metadata": {},
   "outputs": [
    {
     "data": {
      "image/png": "[encoded data removed]",
      "text/plain": [
       "plot without title"
      ]
     },
     "metadata": {},
     "output_type": "display_data"
    }
   ],
   "source": [
    "fviz_nbclust(Stages, FUNcluster=kmeans, method='silhouette') + labs(subtitle = \"Silhouette method\")"
   ]
  },
  {
   "cell_type": "code",
   "execution_count": 11,
   "id": "254d6c63",
   "metadata": {},
   "outputs": [
    {
     "data": {
      "text/plain": [
       "\n",
       "   1    2    3    4    5 \n",
       "5286 4997 4962 2053 3114 "
      ]
     },
     "metadata": {},
     "output_type": "display_data"
    },
    {
     "data": {
      "text/plain": [
       "\n",
       "   1    2    3    4    5 \n",
       "2053 3114 4997 5286 4962 "
      ]
     },
     "metadata": {},
     "output_type": "display_data"
    }
   ],
   "source": [
    "K1 <- kmeans(Stages, centers=5, nstart = sample(1:nrow(Stages), size=1), algorithm=\"Lloyd\", iter.max = 10^4)\n",
    "K2 <- kmeans(Stages, centers=5, nstart = sample(1:nrow(Stages), size=1), algorithm=\"Hartigan-Wong\", iter.max = 10^4)\n",
    "\n",
    "table(K1$cluster)\n",
    "table(K2$cluster)"
   ]
  },
  {
   "cell_type": "code",
   "execution_count": 13,
   "id": "e1db7208",
   "metadata": {},
   "outputs": [
    {
     "data": {
      "image/png": "[encoded data removed]",
      "text/plain": [
       "plot without title"
      ]
     },
     "metadata": {},
     "output_type": "display_data"
    }
   ],
   "source": [
    "fviz_cluster(K1, data = Stages, geom = \"point\",\n",
    "             ellipse.type = \"convex\", \n",
    "             ggtheme = theme_bw()\n",
    "             )"
   ]
  },
  {
   "cell_type": "code",
   "execution_count": 17,
   "id": "6ad3377e",
   "metadata": {},
   "outputs": [
    {
     "data": {
      "text/html": [
       "<ol class=list-inline>\n",
       "\t<li>39.75</li>\n",
       "\t<li>39.75</li>\n",
       "\t<li>39.75</li>\n",
       "\t<li>39.75</li>\n",
       "\t<li>39.75</li>\n",
       "\t<li>39.75</li>\n",
       "</ol>\n"
      ],
      "text/latex": [
       "\\begin{enumerate*}\n",
       "\\item 39.75\n",
       "\\item 39.75\n",
       "\\item 39.75\n",
       "\\item 39.75\n",
       "\\item 39.75\n",
       "\\item 39.75\n",
       "\\end{enumerate*}\n"
      ],
      "text/markdown": [
       "1. 39.75\n",
       "2. 39.75\n",
       "3. 39.75\n",
       "4. 39.75\n",
       "5. 39.75\n",
       "6. 39.75\n",
       "\n",
       "\n"
      ],
      "text/plain": [
       "[1] 39.75 39.75 39.75 39.75 39.75 39.75"
      ]
     },
     "metadata": {},
     "output_type": "display_data"
    }
   ],
   "source": [
    "R <- rowSums(Stages)\n",
    "head(R)"
   ]
  },
  {
   "cell_type": "code",
   "execution_count": 22,
   "id": "cdfc7090",
   "metadata": {},
   "outputs": [],
   "source": [
    "Probs <- Stages/R"
   ]
  },
  {
   "cell_type": "code",
   "execution_count": 23,
   "id": "d5c9e3d0",
   "metadata": {},
   "outputs": [
    {
     "data": {
      "text/html": [
       "<table>\n",
       "<thead><tr><th scope=col>Reconnaissance</th><th scope=col>Delivery</th><th scope=col>LateralMovement</th><th scope=col>PrivilegeEscalation</th><th scope=col>Exfiltration</th></tr></thead>\n",
       "<tbody>\n",
       "\t<tr><td>0.3584906</td><td>0.1761006</td><td>0.1572327</td><td>0.1698113</td><td>0.1383648</td></tr>\n",
       "\t<tr><td>0.3584906</td><td>0.1761006</td><td>0.1572327</td><td>0.1698113</td><td>0.1383648</td></tr>\n",
       "\t<tr><td>0.3584906</td><td>0.1761006</td><td>0.1572327</td><td>0.1698113</td><td>0.1383648</td></tr>\n",
       "\t<tr><td>0.3584906</td><td>0.1761006</td><td>0.1572327</td><td>0.1698113</td><td>0.1383648</td></tr>\n",
       "\t<tr><td>0.3584906</td><td>0.1761006</td><td>0.1572327</td><td>0.1698113</td><td>0.1383648</td></tr>\n",
       "\t<tr><td>0.3584906</td><td>0.1761006</td><td>0.1572327</td><td>0.1698113</td><td>0.1383648</td></tr>\n",
       "</tbody>\n",
       "</table>\n"
      ],
      "text/latex": [
       "\\begin{tabular}{r|lllll}\n",
       " Reconnaissance & Delivery & LateralMovement & PrivilegeEscalation & Exfiltration\\\\\n",
       "\\hline\n",
       "\t 0.3584906 & 0.1761006 & 0.1572327 & 0.1698113 & 0.1383648\\\\\n",
       "\t 0.3584906 & 0.1761006 & 0.1572327 & 0.1698113 & 0.1383648\\\\\n",
       "\t 0.3584906 & 0.1761006 & 0.1572327 & 0.1698113 & 0.1383648\\\\\n",
       "\t 0.3584906 & 0.1761006 & 0.1572327 & 0.1698113 & 0.1383648\\\\\n",
       "\t 0.3584906 & 0.1761006 & 0.1572327 & 0.1698113 & 0.1383648\\\\\n",
       "\t 0.3584906 & 0.1761006 & 0.1572327 & 0.1698113 & 0.1383648\\\\\n",
       "\\end{tabular}\n"
      ],
      "text/markdown": [
       "\n",
       "| Reconnaissance | Delivery | LateralMovement | PrivilegeEscalation | Exfiltration |\n",
       "|---|---|---|---|---|\n",
       "| 0.3584906 | 0.1761006 | 0.1572327 | 0.1698113 | 0.1383648 |\n",
       "| 0.3584906 | 0.1761006 | 0.1572327 | 0.1698113 | 0.1383648 |\n",
       "| 0.3584906 | 0.1761006 | 0.1572327 | 0.1698113 | 0.1383648 |\n",
       "| 0.3584906 | 0.1761006 | 0.1572327 | 0.1698113 | 0.1383648 |\n",
       "| 0.3584906 | 0.1761006 | 0.1572327 | 0.1698113 | 0.1383648 |\n",
       "| 0.3584906 | 0.1761006 | 0.1572327 | 0.1698113 | 0.1383648 |\n",
       "\n"
      ],
      "text/plain": [
       "  Reconnaissance Delivery  LateralMovement PrivilegeEscalation Exfiltration\n",
       "1 0.3584906      0.1761006 0.1572327       0.1698113           0.1383648   \n",
       "2 0.3584906      0.1761006 0.1572327       0.1698113           0.1383648   \n",
       "3 0.3584906      0.1761006 0.1572327       0.1698113           0.1383648   \n",
       "4 0.3584906      0.1761006 0.1572327       0.1698113           0.1383648   \n",
       "5 0.3584906      0.1761006 0.1572327       0.1698113           0.1383648   \n",
       "6 0.3584906      0.1761006 0.1572327       0.1698113           0.1383648   "
      ]
     },
     "metadata": {},
     "output_type": "display_data"
    }
   ],
   "source": [
    "head(Probs)"
   ]
  },
  {
   "cell_type": "code",
   "execution_count": 24,
   "id": "38593cda",
   "metadata": {},
   "outputs": [
    {
     "data": {
      "text/plain": [
       "\n",
       "   1    2    3    4    5 \n",
       "1922 3122 6467 4089 4812 "
      ]
     },
     "metadata": {},
     "output_type": "display_data"
    }
   ],
   "source": [
    "K3 <- kmeans(Probs, centers=5, nstart = sample(1:nrow(Probs), size=1), algorithm=\"Lloyd\", iter.max = 10^4)\n",
    "table(K3$cluster)"
   ]
  },
  {
   "cell_type": "code",
   "execution_count": 25,
   "id": "60deab6a",
   "metadata": {},
   "outputs": [
    {
     "data": {
      "image/png": "[encoded data removed]",
      "text/plain": [
       "plot without title"
      ]
     },
     "metadata": {},
     "output_type": "display_data"
    }
   ],
   "source": [
    "fviz_cluster(K3, data = Probs, geom = \"point\",\n",
    "             ellipse.type = \"convex\", \n",
    "             ggtheme = theme_bw()\n",
    "             )"
   ]
  },
  {
   "cell_type": "code",
   "execution_count": 38,
   "id": "197e4d8a",
   "metadata": {},
   "outputs": [
    {
     "data": {
      "text/html": [
       "<table>\n",
       "<thead><tr><th scope=col>Reconnaissance</th><th scope=col>Delivery</th><th scope=col>LateralMovement</th><th scope=col>PrivilegeEscalation</th><th scope=col>Exfiltration</th><th scope=col>Maximum</th></tr></thead>\n",
       "<tbody>\n",
       "\t<tr><td>0.3584906</td><td>0.1761006</td><td>0.1572327</td><td>0.1698113</td><td>0.1383648</td><td>0.3584906</td></tr>\n",
       "\t<tr><td>0.3584906</td><td>0.1761006</td><td>0.1572327</td><td>0.1698113</td><td>0.1383648</td><td>0.3584906</td></tr>\n",
       "\t<tr><td>0.3584906</td><td>0.1761006</td><td>0.1572327</td><td>0.1698113</td><td>0.1383648</td><td>0.3584906</td></tr>\n",
       "\t<tr><td>0.3584906</td><td>0.1761006</td><td>0.1572327</td><td>0.1698113</td><td>0.1383648</td><td>0.3584906</td></tr>\n",
       "\t<tr><td>0.3584906</td><td>0.1761006</td><td>0.1572327</td><td>0.1698113</td><td>0.1383648</td><td>0.3584906</td></tr>\n",
       "\t<tr><td>0.3584906</td><td>0.1761006</td><td>0.1572327</td><td>0.1698113</td><td>0.1383648</td><td>0.3584906</td></tr>\n",
       "\t<tr><td>0.3584906</td><td>0.1761006</td><td>0.1572327</td><td>0.1698113</td><td>0.1383648</td><td>0.3584906</td></tr>\n",
       "\t<tr><td>0.3584906</td><td>0.1761006</td><td>0.1572327</td><td>0.1698113</td><td>0.1383648</td><td>0.3584906</td></tr>\n",
       "\t<tr><td>0.2969697</td><td>0.1878788</td><td>0.1515152</td><td>0.1939394</td><td>0.1696970</td><td>0.2969697</td></tr>\n",
       "\t<tr><td>0.2969697</td><td>0.1878788</td><td>0.1515152</td><td>0.1939394</td><td>0.1696970</td><td>0.2969697</td></tr>\n",
       "</tbody>\n",
       "</table>\n"
      ],
      "text/latex": [
       "\\begin{tabular}{r|llllll}\n",
       " Reconnaissance & Delivery & LateralMovement & PrivilegeEscalation & Exfiltration & Maximum\\\\\n",
       "\\hline\n",
       "\t 0.3584906 & 0.1761006 & 0.1572327 & 0.1698113 & 0.1383648 & 0.3584906\\\\\n",
       "\t 0.3584906 & 0.1761006 & 0.1572327 & 0.1698113 & 0.1383648 & 0.3584906\\\\\n",
       "\t 0.3584906 & 0.1761006 & 0.1572327 & 0.1698113 & 0.1383648 & 0.3584906\\\\\n",
       "\t 0.3584906 & 0.1761006 & 0.1572327 & 0.1698113 & 0.1383648 & 0.3584906\\\\\n",
       "\t 0.3584906 & 0.1761006 & 0.1572327 & 0.1698113 & 0.1383648 & 0.3584906\\\\\n",
       "\t 0.3584906 & 0.1761006 & 0.1572327 & 0.1698113 & 0.1383648 & 0.3584906\\\\\n",
       "\t 0.3584906 & 0.1761006 & 0.1572327 & 0.1698113 & 0.1383648 & 0.3584906\\\\\n",
       "\t 0.3584906 & 0.1761006 & 0.1572327 & 0.1698113 & 0.1383648 & 0.3584906\\\\\n",
       "\t 0.2969697 & 0.1878788 & 0.1515152 & 0.1939394 & 0.1696970 & 0.2969697\\\\\n",
       "\t 0.2969697 & 0.1878788 & 0.1515152 & 0.1939394 & 0.1696970 & 0.2969697\\\\\n",
       "\\end{tabular}\n"
      ],
      "text/markdown": [
       "\n",
       "| Reconnaissance | Delivery | LateralMovement | PrivilegeEscalation | Exfiltration | Maximum |\n",
       "|---|---|---|---|---|---|\n",
       "| 0.3584906 | 0.1761006 | 0.1572327 | 0.1698113 | 0.1383648 | 0.3584906 |\n",
       "| 0.3584906 | 0.1761006 | 0.1572327 | 0.1698113 | 0.1383648 | 0.3584906 |\n",
       "| 0.3584906 | 0.1761006 | 0.1572327 | 0.1698113 | 0.1383648 | 0.3584906 |\n",
       "| 0.3584906 | 0.1761006 | 0.1572327 | 0.1698113 | 0.1383648 | 0.3584906 |\n",
       "| 0.3584906 | 0.1761006 | 0.1572327 | 0.1698113 | 0.1383648 | 0.3584906 |\n",
       "| 0.3584906 | 0.1761006 | 0.1572327 | 0.1698113 | 0.1383648 | 0.3584906 |\n",
       "| 0.3584906 | 0.1761006 | 0.1572327 | 0.1698113 | 0.1383648 | 0.3584906 |\n",
       "| 0.3584906 | 0.1761006 | 0.1572327 | 0.1698113 | 0.1383648 | 0.3584906 |\n",
       "| 0.2969697 | 0.1878788 | 0.1515152 | 0.1939394 | 0.1696970 | 0.2969697 |\n",
       "| 0.2969697 | 0.1878788 | 0.1515152 | 0.1939394 | 0.1696970 | 0.2969697 |\n",
       "\n"
      ],
      "text/plain": [
       "   Reconnaissance Delivery  LateralMovement PrivilegeEscalation Exfiltration\n",
       "1  0.3584906      0.1761006 0.1572327       0.1698113           0.1383648   \n",
       "2  0.3584906      0.1761006 0.1572327       0.1698113           0.1383648   \n",
       "3  0.3584906      0.1761006 0.1572327       0.1698113           0.1383648   \n",
       "4  0.3584906      0.1761006 0.1572327       0.1698113           0.1383648   \n",
       "5  0.3584906      0.1761006 0.1572327       0.1698113           0.1383648   \n",
       "6  0.3584906      0.1761006 0.1572327       0.1698113           0.1383648   \n",
       "7  0.3584906      0.1761006 0.1572327       0.1698113           0.1383648   \n",
       "8  0.3584906      0.1761006 0.1572327       0.1698113           0.1383648   \n",
       "9  0.2969697      0.1878788 0.1515152       0.1939394           0.1696970   \n",
       "10 0.2969697      0.1878788 0.1515152       0.1939394           0.1696970   \n",
       "   Maximum  \n",
       "1  0.3584906\n",
       "2  0.3584906\n",
       "3  0.3584906\n",
       "4  0.3584906\n",
       "5  0.3584906\n",
       "6  0.3584906\n",
       "7  0.3584906\n",
       "8  0.3584906\n",
       "9  0.2969697\n",
       "10 0.2969697"
      ]
     },
     "metadata": {},
     "output_type": "display_data"
    }
   ],
   "source": [
    "Maximum <- pmax(Probs$Reconnaissance,Probs$Delivery,Probs$LateralMovement,Probs$PrivilegeEscalation,Probs$Exfiltration)\n",
    "Probs_with_clusters <- cbind(Probs, Maximum)\n",
    "\n",
    "head(Probs_with_clusters, 10)"
   ]
  },
  {
   "cell_type": "code",
   "execution_count": 39,
   "id": "70970166",
   "metadata": {},
   "outputs": [
    {
     "data": {
      "text/html": [
       "<table>\n",
       "<thead><tr><th scope=col>UserName</th><th scope=col>Reconnaissance</th><th scope=col>Delivery</th><th scope=col>LateralMovement</th><th scope=col>PrivilegeEscalation</th><th scope=col>Exfiltration</th><th scope=col>Maximum</th><th scope=col>Cluster</th></tr></thead>\n",
       "<tbody>\n",
       "\t<tr><td>User341813</td><td>0.3584906 </td><td>0.1761006 </td><td>0.1572327 </td><td>0.1698113 </td><td>0.1383648 </td><td>0.3584906 </td><td>R         </td></tr>\n",
       "\t<tr><td>User341813</td><td>0.3584906 </td><td>0.1761006 </td><td>0.1572327 </td><td>0.1698113 </td><td>0.1383648 </td><td>0.3584906 </td><td>R         </td></tr>\n",
       "\t<tr><td>User341813</td><td>0.3584906 </td><td>0.1761006 </td><td>0.1572327 </td><td>0.1698113 </td><td>0.1383648 </td><td>0.3584906 </td><td>R         </td></tr>\n",
       "\t<tr><td>User341813</td><td>0.3584906 </td><td>0.1761006 </td><td>0.1572327 </td><td>0.1698113 </td><td>0.1383648 </td><td>0.3584906 </td><td>R         </td></tr>\n",
       "\t<tr><td>User341813</td><td>0.3584906 </td><td>0.1761006 </td><td>0.1572327 </td><td>0.1698113 </td><td>0.1383648 </td><td>0.3584906 </td><td>R         </td></tr>\n",
       "\t<tr><td>User341813</td><td>0.3584906 </td><td>0.1761006 </td><td>0.1572327 </td><td>0.1698113 </td><td>0.1383648 </td><td>0.3584906 </td><td>R         </td></tr>\n",
       "\t<tr><td>User341813</td><td>0.3584906 </td><td>0.1761006 </td><td>0.1572327 </td><td>0.1698113 </td><td>0.1383648 </td><td>0.3584906 </td><td>R         </td></tr>\n",
       "\t<tr><td>User341813</td><td>0.3584906 </td><td>0.1761006 </td><td>0.1572327 </td><td>0.1698113 </td><td>0.1383648 </td><td>0.3584906 </td><td>R         </td></tr>\n",
       "\t<tr><td>User341813</td><td>0.2969697 </td><td>0.1878788 </td><td>0.1515152 </td><td>0.1939394 </td><td>0.1696970 </td><td>0.2969697 </td><td>R         </td></tr>\n",
       "\t<tr><td>User341813</td><td>0.2969697 </td><td>0.1878788 </td><td>0.1515152 </td><td>0.1939394 </td><td>0.1696970 </td><td>0.2969697 </td><td>R         </td></tr>\n",
       "</tbody>\n",
       "</table>\n"
      ],
      "text/latex": [
       "\\begin{tabular}{r|llllllll}\n",
       " UserName & Reconnaissance & Delivery & LateralMovement & PrivilegeEscalation & Exfiltration & Maximum & Cluster\\\\\n",
       "\\hline\n",
       "\t User341813 & 0.3584906  & 0.1761006  & 0.1572327  & 0.1698113  & 0.1383648  & 0.3584906  & R         \\\\\n",
       "\t User341813 & 0.3584906  & 0.1761006  & 0.1572327  & 0.1698113  & 0.1383648  & 0.3584906  & R         \\\\\n",
       "\t User341813 & 0.3584906  & 0.1761006  & 0.1572327  & 0.1698113  & 0.1383648  & 0.3584906  & R         \\\\\n",
       "\t User341813 & 0.3584906  & 0.1761006  & 0.1572327  & 0.1698113  & 0.1383648  & 0.3584906  & R         \\\\\n",
       "\t User341813 & 0.3584906  & 0.1761006  & 0.1572327  & 0.1698113  & 0.1383648  & 0.3584906  & R         \\\\\n",
       "\t User341813 & 0.3584906  & 0.1761006  & 0.1572327  & 0.1698113  & 0.1383648  & 0.3584906  & R         \\\\\n",
       "\t User341813 & 0.3584906  & 0.1761006  & 0.1572327  & 0.1698113  & 0.1383648  & 0.3584906  & R         \\\\\n",
       "\t User341813 & 0.3584906  & 0.1761006  & 0.1572327  & 0.1698113  & 0.1383648  & 0.3584906  & R         \\\\\n",
       "\t User341813 & 0.2969697  & 0.1878788  & 0.1515152  & 0.1939394  & 0.1696970  & 0.2969697  & R         \\\\\n",
       "\t User341813 & 0.2969697  & 0.1878788  & 0.1515152  & 0.1939394  & 0.1696970  & 0.2969697  & R         \\\\\n",
       "\\end{tabular}\n"
      ],
      "text/markdown": [
       "\n",
       "| UserName | Reconnaissance | Delivery | LateralMovement | PrivilegeEscalation | Exfiltration | Maximum | Cluster |\n",
       "|---|---|---|---|---|---|---|---|\n",
       "| User341813 | 0.3584906  | 0.1761006  | 0.1572327  | 0.1698113  | 0.1383648  | 0.3584906  | R          |\n",
       "| User341813 | 0.3584906  | 0.1761006  | 0.1572327  | 0.1698113  | 0.1383648  | 0.3584906  | R          |\n",
       "| User341813 | 0.3584906  | 0.1761006  | 0.1572327  | 0.1698113  | 0.1383648  | 0.3584906  | R          |\n",
       "| User341813 | 0.3584906  | 0.1761006  | 0.1572327  | 0.1698113  | 0.1383648  | 0.3584906  | R          |\n",
       "| User341813 | 0.3584906  | 0.1761006  | 0.1572327  | 0.1698113  | 0.1383648  | 0.3584906  | R          |\n",
       "| User341813 | 0.3584906  | 0.1761006  | 0.1572327  | 0.1698113  | 0.1383648  | 0.3584906  | R          |\n",
       "| User341813 | 0.3584906  | 0.1761006  | 0.1572327  | 0.1698113  | 0.1383648  | 0.3584906  | R          |\n",
       "| User341813 | 0.3584906  | 0.1761006  | 0.1572327  | 0.1698113  | 0.1383648  | 0.3584906  | R          |\n",
       "| User341813 | 0.2969697  | 0.1878788  | 0.1515152  | 0.1939394  | 0.1696970  | 0.2969697  | R          |\n",
       "| User341813 | 0.2969697  | 0.1878788  | 0.1515152  | 0.1939394  | 0.1696970  | 0.2969697  | R          |\n",
       "\n"
      ],
      "text/plain": [
       "   UserName   Reconnaissance Delivery  LateralMovement PrivilegeEscalation\n",
       "1  User341813 0.3584906      0.1761006 0.1572327       0.1698113          \n",
       "2  User341813 0.3584906      0.1761006 0.1572327       0.1698113          \n",
       "3  User341813 0.3584906      0.1761006 0.1572327       0.1698113          \n",
       "4  User341813 0.3584906      0.1761006 0.1572327       0.1698113          \n",
       "5  User341813 0.3584906      0.1761006 0.1572327       0.1698113          \n",
       "6  User341813 0.3584906      0.1761006 0.1572327       0.1698113          \n",
       "7  User341813 0.3584906      0.1761006 0.1572327       0.1698113          \n",
       "8  User341813 0.3584906      0.1761006 0.1572327       0.1698113          \n",
       "9  User341813 0.2969697      0.1878788 0.1515152       0.1939394          \n",
       "10 User341813 0.2969697      0.1878788 0.1515152       0.1939394          \n",
       "   Exfiltration Maximum   Cluster\n",
       "1  0.1383648    0.3584906 R      \n",
       "2  0.1383648    0.3584906 R      \n",
       "3  0.1383648    0.3584906 R      \n",
       "4  0.1383648    0.3584906 R      \n",
       "5  0.1383648    0.3584906 R      \n",
       "6  0.1383648    0.3584906 R      \n",
       "7  0.1383648    0.3584906 R      \n",
       "8  0.1383648    0.3584906 R      \n",
       "9  0.1696970    0.2969697 R      \n",
       "10 0.1696970    0.2969697 R      "
      ]
     },
     "metadata": {},
     "output_type": "display_data"
    }
   ],
   "source": [
    "Cluster <- vector(len=nrow(Probs_with_clusters))\n",
    "for(i in 1:nrow(Probs_with_clusters)) {\n",
    "    if(Probs_with_clusters$Maximum[i]==Probs_with_clusters$Reconnaissance[i]) {\n",
    "        Cluster[i] <- \"R\"\n",
    "    }\n",
    "    if(Probs_with_clusters$Maximum[i]==Probs_with_clusters$Delivery[i]) {\n",
    "        Cluster[i] <- \"D\"\n",
    "    }\n",
    "    if(Probs_with_clusters$Maximum[i]==Probs_with_clusters$LateralMovement[i]) {\n",
    "        Cluster[i] <- \"LM\"\n",
    "    }\n",
    "    if(Probs_with_clusters$Maximum[i]==Probs_with_clusters$PrivilegeEscalation[i]) {\n",
    "        Cluster[i] <- \"PE\"\n",
    "    }\n",
    "    if(Probs_with_clusters$Maximum[i]==Probs_with_clusters$Exfiltration[i]) {\n",
    "        Cluster[i] <- \"E\"\n",
    "    }\n",
    "}\n",
    "\n",
    "Probs_with_clusters <- cbind(UserName = df$UserName, Probs_with_clusters, Cluster)\n",
    "head(Probs_with_clusters, 10)"
   ]
  },
  {
   "cell_type": "code",
   "execution_count": 40,
   "id": "54042db3",
   "metadata": {},
   "outputs": [
    {
     "data": {
      "text/plain": [
       "\n",
       "    D     E    LM    PE     R \n",
       "  457  6333     8  1492 12122 "
      ]
     },
     "metadata": {},
     "output_type": "display_data"
    }
   ],
   "source": [
    "table(Probs_with_clusters$Cluster)"
   ]
  },
  {
   "cell_type": "code",
   "execution_count": 46,
   "id": "01523212",
   "metadata": {},
   "outputs": [
    {
     "data": {
      "text/html": [
       "<table>\n",
       "<thead><tr><th></th><th scope=col>UserName</th><th scope=col>Reconnaissance</th><th scope=col>Delivery</th><th scope=col>LateralMovement</th><th scope=col>PrivilegeEscalation</th><th scope=col>Exfiltration</th><th scope=col>Maximum</th><th scope=col>Cluster</th></tr></thead>\n",
       "<tbody>\n",
       "\t<tr><th scope=row>8683</th><td>Administrator</td><td>0.2201258    </td><td>0.1698113    </td><td>0.2264151    </td><td>0.1761006    </td><td>0.2075472    </td><td>0.2264151    </td><td>LM           </td></tr>\n",
       "\t<tr><th scope=row>8694</th><td>Administrator</td><td>0.2201258    </td><td>0.1698113    </td><td>0.2264151    </td><td>0.1761006    </td><td>0.2075472    </td><td>0.2264151    </td><td>LM           </td></tr>\n",
       "\t<tr><th scope=row>8695</th><td>Administrator</td><td>0.2201258    </td><td>0.1698113    </td><td>0.2264151    </td><td>0.1761006    </td><td>0.2075472    </td><td>0.2264151    </td><td>LM           </td></tr>\n",
       "\t<tr><th scope=row>8840</th><td>Administrator</td><td>0.2201258    </td><td>0.1698113    </td><td>0.2264151    </td><td>0.1761006    </td><td>0.2075472    </td><td>0.2264151    </td><td>LM           </td></tr>\n",
       "\t<tr><th scope=row>8841</th><td>Administrator</td><td>0.2201258    </td><td>0.1698113    </td><td>0.2264151    </td><td>0.1761006    </td><td>0.2075472    </td><td>0.2264151    </td><td>LM           </td></tr>\n",
       "\t<tr><th scope=row>9246</th><td>Administrator</td><td>0.2201258    </td><td>0.1698113    </td><td>0.2264151    </td><td>0.1761006    </td><td>0.2075472    </td><td>0.2264151    </td><td>LM           </td></tr>\n",
       "\t<tr><th scope=row>9247</th><td>Administrator</td><td>0.2201258    </td><td>0.1698113    </td><td>0.2264151    </td><td>0.1761006    </td><td>0.2075472    </td><td>0.2264151    </td><td>LM           </td></tr>\n",
       "\t<tr><th scope=row>9502</th><td>Administrator</td><td>0.2201258    </td><td>0.1698113    </td><td>0.2264151    </td><td>0.1761006    </td><td>0.2075472    </td><td>0.2264151    </td><td>LM           </td></tr>\n",
       "</tbody>\n",
       "</table>\n"
      ],
      "text/latex": [
       "\\begin{tabular}{r|llllllll}\n",
       "  & UserName & Reconnaissance & Delivery & LateralMovement & PrivilegeEscalation & Exfiltration & Maximum & Cluster\\\\\n",
       "\\hline\n",
       "\t8683 & Administrator & 0.2201258     & 0.1698113     & 0.2264151     & 0.1761006     & 0.2075472     & 0.2264151     & LM           \\\\\n",
       "\t8694 & Administrator & 0.2201258     & 0.1698113     & 0.2264151     & 0.1761006     & 0.2075472     & 0.2264151     & LM           \\\\\n",
       "\t8695 & Administrator & 0.2201258     & 0.1698113     & 0.2264151     & 0.1761006     & 0.2075472     & 0.2264151     & LM           \\\\\n",
       "\t8840 & Administrator & 0.2201258     & 0.1698113     & 0.2264151     & 0.1761006     & 0.2075472     & 0.2264151     & LM           \\\\\n",
       "\t8841 & Administrator & 0.2201258     & 0.1698113     & 0.2264151     & 0.1761006     & 0.2075472     & 0.2264151     & LM           \\\\\n",
       "\t9246 & Administrator & 0.2201258     & 0.1698113     & 0.2264151     & 0.1761006     & 0.2075472     & 0.2264151     & LM           \\\\\n",
       "\t9247 & Administrator & 0.2201258     & 0.1698113     & 0.2264151     & 0.1761006     & 0.2075472     & 0.2264151     & LM           \\\\\n",
       "\t9502 & Administrator & 0.2201258     & 0.1698113     & 0.2264151     & 0.1761006     & 0.2075472     & 0.2264151     & LM           \\\\\n",
       "\\end{tabular}\n"
      ],
      "text/markdown": [
       "\n",
       "| <!--/--> | UserName | Reconnaissance | Delivery | LateralMovement | PrivilegeEscalation | Exfiltration | Maximum | Cluster |\n",
       "|---|---|---|---|---|---|---|---|---|\n",
       "| 8683 | Administrator | 0.2201258     | 0.1698113     | 0.2264151     | 0.1761006     | 0.2075472     | 0.2264151     | LM            |\n",
       "| 8694 | Administrator | 0.2201258     | 0.1698113     | 0.2264151     | 0.1761006     | 0.2075472     | 0.2264151     | LM            |\n",
       "| 8695 | Administrator | 0.2201258     | 0.1698113     | 0.2264151     | 0.1761006     | 0.2075472     | 0.2264151     | LM            |\n",
       "| 8840 | Administrator | 0.2201258     | 0.1698113     | 0.2264151     | 0.1761006     | 0.2075472     | 0.2264151     | LM            |\n",
       "| 8841 | Administrator | 0.2201258     | 0.1698113     | 0.2264151     | 0.1761006     | 0.2075472     | 0.2264151     | LM            |\n",
       "| 9246 | Administrator | 0.2201258     | 0.1698113     | 0.2264151     | 0.1761006     | 0.2075472     | 0.2264151     | LM            |\n",
       "| 9247 | Administrator | 0.2201258     | 0.1698113     | 0.2264151     | 0.1761006     | 0.2075472     | 0.2264151     | LM            |\n",
       "| 9502 | Administrator | 0.2201258     | 0.1698113     | 0.2264151     | 0.1761006     | 0.2075472     | 0.2264151     | LM            |\n",
       "\n"
      ],
      "text/plain": [
       "     UserName      Reconnaissance Delivery  LateralMovement PrivilegeEscalation\n",
       "8683 Administrator 0.2201258      0.1698113 0.2264151       0.1761006          \n",
       "8694 Administrator 0.2201258      0.1698113 0.2264151       0.1761006          \n",
       "8695 Administrator 0.2201258      0.1698113 0.2264151       0.1761006          \n",
       "8840 Administrator 0.2201258      0.1698113 0.2264151       0.1761006          \n",
       "8841 Administrator 0.2201258      0.1698113 0.2264151       0.1761006          \n",
       "9246 Administrator 0.2201258      0.1698113 0.2264151       0.1761006          \n",
       "9247 Administrator 0.2201258      0.1698113 0.2264151       0.1761006          \n",
       "9502 Administrator 0.2201258      0.1698113 0.2264151       0.1761006          \n",
       "     Exfiltration Maximum   Cluster\n",
       "8683 0.2075472    0.2264151 LM     \n",
       "8694 0.2075472    0.2264151 LM     \n",
       "8695 0.2075472    0.2264151 LM     \n",
       "8840 0.2075472    0.2264151 LM     \n",
       "8841 0.2075472    0.2264151 LM     \n",
       "9246 0.2075472    0.2264151 LM     \n",
       "9247 0.2075472    0.2264151 LM     \n",
       "9502 0.2075472    0.2264151 LM     "
      ]
     },
     "metadata": {},
     "output_type": "display_data"
    }
   ],
   "source": [
    "Probs_with_clusters[Probs_with_clusters$Cluster=='LM', ]"
   ]
  },
  {
   "cell_type": "markdown",
   "id": "4c040d27",
   "metadata": {},
   "source": [
    "### Actual anomalies"
   ]
  },
  {
   "cell_type": "code",
   "execution_count": 4,
   "id": "bcbdc8b5",
   "metadata": {},
   "outputs": [
    {
     "name": "stdout",
     "output_type": "stream",
     "text": [
      "'data.frame':\t38712 obs. of  8 variables:\n",
      " $ UserName    : chr  \"User735240\" \"User735240\" \"User735240\" \"User735240\" ...\n",
      " $ SrcDevice   : chr  \"Comp700191\" \"Comp700191\" \"Comp738078\" \"Comp700191\" ...\n",
      " $ DstDevice   : chr  \"Comp774964\" \"Comp700191\" \"ActiveDirectory\" \"ActiveDirectory\" ...\n",
      " $ Authent.Type: chr  \"NetworkLogon\" \"NetworkLogon\" \"TGT\" \"TGT\" ...\n",
      " $ Failure     : int  0 0 0 0 0 0 0 0 0 0 ...\n",
      " $ DailyCount  : num  3 1 1 1 2 1 1 1 1 18 ...\n",
      " $ Hour        : int  0 0 5 6 12 17 18 19 19 23 ...\n",
      " $ Day         : int  59 59 59 59 59 59 59 59 59 59 ...\n"
     ]
    },
    {
     "data": {
      "text/html": [
       "<table>\n",
       "<thead><tr><th scope=col>UserName</th><th scope=col>SrcDevice</th><th scope=col>DstDevice</th><th scope=col>Authent.Type</th><th scope=col>Failure</th><th scope=col>DailyCount</th><th scope=col>Hour</th><th scope=col>Day</th></tr></thead>\n",
       "<tbody>\n",
       "\t<tr><td>User735240       </td><td>Comp700191       </td><td>Comp774964       </td><td>NetworkLogon     </td><td>0                </td><td> 3               </td><td> 0               </td><td>59               </td></tr>\n",
       "\t<tr><td>User735240       </td><td>Comp700191       </td><td>Comp700191       </td><td>NetworkLogon     </td><td>0                </td><td> 1               </td><td> 0               </td><td>59               </td></tr>\n",
       "\t<tr><td>User735240       </td><td>Comp738078       </td><td>ActiveDirectory  </td><td>TGT              </td><td>0                </td><td> 1               </td><td> 5               </td><td>59               </td></tr>\n",
       "\t<tr><td>User735240       </td><td>Comp700191       </td><td>ActiveDirectory  </td><td>TGT              </td><td>0                </td><td> 1               </td><td> 6               </td><td>59               </td></tr>\n",
       "\t<tr><td>User735240       </td><td>Comp738078       </td><td>Comp700191       </td><td>TGS              </td><td>0                </td><td> 2               </td><td>12               </td><td>59               </td></tr>\n",
       "\t<tr><td>User735240       </td><td>Comp738078       </td><td>Comp700191       </td><td>RemoteInteractive</td><td>0                </td><td> 1               </td><td>17               </td><td>59               </td></tr>\n",
       "\t<tr><td>User735240       </td><td>Comp700191       </td><td>Comp370444       </td><td>TGS              </td><td>0                </td><td> 1               </td><td>18               </td><td>59               </td></tr>\n",
       "\t<tr><td>User735240       </td><td>Comp700191       </td><td>Comp700191       </td><td>TGS              </td><td>0                </td><td> 1               </td><td>19               </td><td>59               </td></tr>\n",
       "\t<tr><td>User735240       </td><td>Comp700191       </td><td>Comp370444       </td><td>NetworkLogon     </td><td>0                </td><td> 1               </td><td>19               </td><td>59               </td></tr>\n",
       "\t<tr><td>User735240       </td><td>Comp700191       </td><td>ActiveDirectory  </td><td>NetworkLogon     </td><td>0                </td><td>18               </td><td>23               </td><td>59               </td></tr>\n",
       "</tbody>\n",
       "</table>\n"
      ],
      "text/latex": [
       "\\begin{tabular}{r|llllllll}\n",
       " UserName & SrcDevice & DstDevice & Authent.Type & Failure & DailyCount & Hour & Day\\\\\n",
       "\\hline\n",
       "\t User735240        & Comp700191        & Comp774964        & NetworkLogon      & 0                 &  3                &  0                & 59               \\\\\n",
       "\t User735240        & Comp700191        & Comp700191        & NetworkLogon      & 0                 &  1                &  0                & 59               \\\\\n",
       "\t User735240        & Comp738078        & ActiveDirectory   & TGT               & 0                 &  1                &  5                & 59               \\\\\n",
       "\t User735240        & Comp700191        & ActiveDirectory   & TGT               & 0                 &  1                &  6                & 59               \\\\\n",
       "\t User735240        & Comp738078        & Comp700191        & TGS               & 0                 &  2                & 12                & 59               \\\\\n",
       "\t User735240        & Comp738078        & Comp700191        & RemoteInteractive & 0                 &  1                & 17                & 59               \\\\\n",
       "\t User735240        & Comp700191        & Comp370444        & TGS               & 0                 &  1                & 18                & 59               \\\\\n",
       "\t User735240        & Comp700191        & Comp700191        & TGS               & 0                 &  1                & 19                & 59               \\\\\n",
       "\t User735240        & Comp700191        & Comp370444        & NetworkLogon      & 0                 &  1                & 19                & 59               \\\\\n",
       "\t User735240        & Comp700191        & ActiveDirectory   & NetworkLogon      & 0                 & 18                & 23                & 59               \\\\\n",
       "\\end{tabular}\n"
      ],
      "text/markdown": [
       "\n",
       "| UserName | SrcDevice | DstDevice | Authent.Type | Failure | DailyCount | Hour | Day |\n",
       "|---|---|---|---|---|---|---|---|\n",
       "| User735240        | Comp700191        | Comp774964        | NetworkLogon      | 0                 |  3                |  0                | 59                |\n",
       "| User735240        | Comp700191        | Comp700191        | NetworkLogon      | 0                 |  1                |  0                | 59                |\n",
       "| User735240        | Comp738078        | ActiveDirectory   | TGT               | 0                 |  1                |  5                | 59                |\n",
       "| User735240        | Comp700191        | ActiveDirectory   | TGT               | 0                 |  1                |  6                | 59                |\n",
       "| User735240        | Comp738078        | Comp700191        | TGS               | 0                 |  2                | 12                | 59                |\n",
       "| User735240        | Comp738078        | Comp700191        | RemoteInteractive | 0                 |  1                | 17                | 59                |\n",
       "| User735240        | Comp700191        | Comp370444        | TGS               | 0                 |  1                | 18                | 59                |\n",
       "| User735240        | Comp700191        | Comp700191        | TGS               | 0                 |  1                | 19                | 59                |\n",
       "| User735240        | Comp700191        | Comp370444        | NetworkLogon      | 0                 |  1                | 19                | 59                |\n",
       "| User735240        | Comp700191        | ActiveDirectory   | NetworkLogon      | 0                 | 18                | 23                | 59                |\n",
       "\n"
      ],
      "text/plain": [
       "   UserName   SrcDevice  DstDevice       Authent.Type      Failure DailyCount\n",
       "1  User735240 Comp700191 Comp774964      NetworkLogon      0        3        \n",
       "2  User735240 Comp700191 Comp700191      NetworkLogon      0        1        \n",
       "3  User735240 Comp738078 ActiveDirectory TGT               0        1        \n",
       "4  User735240 Comp700191 ActiveDirectory TGT               0        1        \n",
       "5  User735240 Comp738078 Comp700191      TGS               0        2        \n",
       "6  User735240 Comp738078 Comp700191      RemoteInteractive 0        1        \n",
       "7  User735240 Comp700191 Comp370444      TGS               0        1        \n",
       "8  User735240 Comp700191 Comp700191      TGS               0        1        \n",
       "9  User735240 Comp700191 Comp370444      NetworkLogon      0        1        \n",
       "10 User735240 Comp700191 ActiveDirectory NetworkLogon      0       18        \n",
       "   Hour Day\n",
       "1   0   59 \n",
       "2   0   59 \n",
       "3   5   59 \n",
       "4   6   59 \n",
       "5  12   59 \n",
       "6  17   59 \n",
       "7  18   59 \n",
       "8  19   59 \n",
       "9  19   59 \n",
       "10 23   59 "
      ]
     },
     "metadata": {},
     "output_type": "display_data"
    },
    {
     "data": {
      "text/html": [
       "<ol class=list-inline>\n",
       "\t<li>38712</li>\n",
       "\t<li>8</li>\n",
       "</ol>\n"
      ],
      "text/latex": [
       "\\begin{enumerate*}\n",
       "\\item 38712\n",
       "\\item 8\n",
       "\\end{enumerate*}\n"
      ],
      "text/markdown": [
       "1. 38712\n",
       "2. 8\n",
       "\n",
       "\n"
      ],
      "text/plain": [
       "[1] 38712     8"
      ]
     },
     "metadata": {},
     "output_type": "display_data"
    }
   ],
   "source": [
    "setwd(\"D://LA//ATI Data\")\n",
    "df <- read.table(file=\"FinalAnomalies.txt\", header=T, sep=\",\")\n",
    "df<- df[,-1]\n",
    "\n",
    "df %>% mutate(across(where(is.factor), as.character)) -> df\n",
    "\n",
    "str(df)\n",
    "head(df,10)\n",
    "dim(df)"
   ]
  },
  {
   "cell_type": "code",
   "execution_count": 5,
   "id": "d1661ff7",
   "metadata": {},
   "outputs": [
    {
     "data": {
      "text/html": [
       "<table>\n",
       "<thead><tr><th scope=col>UserName</th><th scope=col>SrcDevice</th><th scope=col>DstDevice</th><th scope=col>Authent.Type</th><th scope=col>Failure</th><th scope=col>DailyCount</th><th scope=col>Hour</th><th scope=col>Day</th></tr></thead>\n",
       "<tbody>\n",
       "\t<tr><td>User735240       </td><td>Comp700191       </td><td>Comp774964       </td><td>NetworkLogon     </td><td>0                </td><td>3                </td><td> 0               </td><td>59.00000         </td></tr>\n",
       "\t<tr><td>User735240       </td><td>Comp700191       </td><td>Comp700191       </td><td>NetworkLogon     </td><td>0                </td><td>1                </td><td> 0               </td><td>59.00000         </td></tr>\n",
       "\t<tr><td>User735240       </td><td>Comp738078       </td><td>ActiveDirectory  </td><td>TGT              </td><td>0                </td><td>1                </td><td> 5               </td><td>59.20833         </td></tr>\n",
       "\t<tr><td>User735240       </td><td>Comp700191       </td><td>ActiveDirectory  </td><td>TGT              </td><td>0                </td><td>1                </td><td> 6               </td><td>59.25000         </td></tr>\n",
       "\t<tr><td>User735240       </td><td>Comp738078       </td><td>Comp700191       </td><td>TGS              </td><td>0                </td><td>2                </td><td>12               </td><td>59.50000         </td></tr>\n",
       "\t<tr><td>User735240       </td><td>Comp738078       </td><td>Comp700191       </td><td>RemoteInteractive</td><td>0                </td><td>1                </td><td>17               </td><td>59.70833         </td></tr>\n",
       "</tbody>\n",
       "</table>\n"
      ],
      "text/latex": [
       "\\begin{tabular}{r|llllllll}\n",
       " UserName & SrcDevice & DstDevice & Authent.Type & Failure & DailyCount & Hour & Day\\\\\n",
       "\\hline\n",
       "\t User735240        & Comp700191        & Comp774964        & NetworkLogon      & 0                 & 3                 &  0                & 59.00000         \\\\\n",
       "\t User735240        & Comp700191        & Comp700191        & NetworkLogon      & 0                 & 1                 &  0                & 59.00000         \\\\\n",
       "\t User735240        & Comp738078        & ActiveDirectory   & TGT               & 0                 & 1                 &  5                & 59.20833         \\\\\n",
       "\t User735240        & Comp700191        & ActiveDirectory   & TGT               & 0                 & 1                 &  6                & 59.25000         \\\\\n",
       "\t User735240        & Comp738078        & Comp700191        & TGS               & 0                 & 2                 & 12                & 59.50000         \\\\\n",
       "\t User735240        & Comp738078        & Comp700191        & RemoteInteractive & 0                 & 1                 & 17                & 59.70833         \\\\\n",
       "\\end{tabular}\n"
      ],
      "text/markdown": [
       "\n",
       "| UserName | SrcDevice | DstDevice | Authent.Type | Failure | DailyCount | Hour | Day |\n",
       "|---|---|---|---|---|---|---|---|\n",
       "| User735240        | Comp700191        | Comp774964        | NetworkLogon      | 0                 | 3                 |  0                | 59.00000          |\n",
       "| User735240        | Comp700191        | Comp700191        | NetworkLogon      | 0                 | 1                 |  0                | 59.00000          |\n",
       "| User735240        | Comp738078        | ActiveDirectory   | TGT               | 0                 | 1                 |  5                | 59.20833          |\n",
       "| User735240        | Comp700191        | ActiveDirectory   | TGT               | 0                 | 1                 |  6                | 59.25000          |\n",
       "| User735240        | Comp738078        | Comp700191        | TGS               | 0                 | 2                 | 12                | 59.50000          |\n",
       "| User735240        | Comp738078        | Comp700191        | RemoteInteractive | 0                 | 1                 | 17                | 59.70833          |\n",
       "\n"
      ],
      "text/plain": [
       "  UserName   SrcDevice  DstDevice       Authent.Type      Failure DailyCount\n",
       "1 User735240 Comp700191 Comp774964      NetworkLogon      0       3         \n",
       "2 User735240 Comp700191 Comp700191      NetworkLogon      0       1         \n",
       "3 User735240 Comp738078 ActiveDirectory TGT               0       1         \n",
       "4 User735240 Comp700191 ActiveDirectory TGT               0       1         \n",
       "5 User735240 Comp738078 Comp700191      TGS               0       2         \n",
       "6 User735240 Comp738078 Comp700191      RemoteInteractive 0       1         \n",
       "  Hour Day     \n",
       "1  0   59.00000\n",
       "2  0   59.00000\n",
       "3  5   59.20833\n",
       "4  6   59.25000\n",
       "5 12   59.50000\n",
       "6 17   59.70833"
      ]
     },
     "metadata": {},
     "output_type": "display_data"
    }
   ],
   "source": [
    "df$Day <- df$Day + df$Hour/24\n",
    "head(df)"
   ]
  },
  {
   "cell_type": "code",
   "execution_count": 6,
   "id": "e46b76fc",
   "metadata": {},
   "outputs": [
    {
     "data": {
      "text/html": [
       "<table>\n",
       "<thead><tr><th></th><th scope=col>UserName</th><th scope=col>SrcDevice</th><th scope=col>DstDevice</th><th scope=col>Authent.Type</th><th scope=col>Failure</th><th scope=col>DailyCount</th><th scope=col>Hour</th><th scope=col>Day</th></tr></thead>\n",
       "<tbody>\n",
       "\t<tr><th scope=row>1079</th><td>User288751         </td><td>Comp468329         </td><td>Comp253429         </td><td>TGS                </td><td>0                  </td><td>  1                </td><td>0                  </td><td>58                 </td></tr>\n",
       "\t<tr><th scope=row>1080</th><td>User288751         </td><td>Comp468329         </td><td>Comp370444         </td><td>NetworkLogon       </td><td>0                  </td><td> 19                </td><td>0                  </td><td>58                 </td></tr>\n",
       "\t<tr><th scope=row>1081</th><td>User288751         </td><td>Comp916004         </td><td>Comp916004         </td><td>TGS                </td><td>0                  </td><td> 16                </td><td>0                  </td><td>58                 </td></tr>\n",
       "\t<tr><th scope=row>1082</th><td>User288751         </td><td>Comp468329         </td><td>Comp797582         </td><td>NetworkLogon       </td><td>0                  </td><td>  2                </td><td>0                  </td><td>58                 </td></tr>\n",
       "\t<tr><th scope=row>1649</th><td>User396223         </td><td>Comp068848         </td><td>ActiveDirectory    </td><td>TGT                </td><td>0                  </td><td>  2                </td><td>0                  </td><td>58                 </td></tr>\n",
       "\t<tr><th scope=row>2765</th><td>User341813         </td><td>Comp948451         </td><td>Comp915658         </td><td>NetworkLogon       </td><td>0                  </td><td>  4                </td><td>0                  </td><td>58                 </td></tr>\n",
       "\t<tr><th scope=row>2766</th><td>User341813         </td><td>Comp107130         </td><td>Comp916004         </td><td>NetworkLogon       </td><td>0                  </td><td> 27                </td><td>0                  </td><td>58                 </td></tr>\n",
       "\t<tr><th scope=row>3358</th><td>User091297         </td><td>Comp955934         </td><td>Comp939275         </td><td>NetworkLogon       </td><td>0                  </td><td>  2                </td><td>0                  </td><td>58                 </td></tr>\n",
       "\t<tr><th scope=row>3440</th><td>User379647         </td><td>Comp416133         </td><td>Comp370444         </td><td>TGS                </td><td>0                  </td><td>  1                </td><td>0                  </td><td>58                 </td></tr>\n",
       "\t<tr><th scope=row>3441</th><td>User379647         </td><td>Comp416133         </td><td>ActiveDirectory    </td><td>TGS                </td><td>0                  </td><td> 10                </td><td>0                  </td><td>58                 </td></tr>\n",
       "\t<tr><th scope=row>3442</th><td>User379647         </td><td>Comp083768         </td><td>None               </td><td>WorkstationLock    </td><td>0                  </td><td>  6                </td><td>0                  </td><td>58                 </td></tr>\n",
       "\t<tr><th scope=row>4285</th><td>User203147         </td><td>Comp107130         </td><td>Comp916004         </td><td>NetworkLogon       </td><td>0                  </td><td> 30                </td><td>0                  </td><td>58                 </td></tr>\n",
       "\t<tr><th scope=row>4286</th><td>User203147         </td><td>Comp679250         </td><td>Comp698972         </td><td>NetworkLogon       </td><td>0                  </td><td>  2                </td><td>0                  </td><td>58                 </td></tr>\n",
       "\t<tr><th scope=row>4287</th><td>User203147         </td><td>Comp679250         </td><td>Comp894088         </td><td>NetworkLogon       </td><td>0                  </td><td>  1                </td><td>0                  </td><td>58                 </td></tr>\n",
       "\t<tr><th scope=row>5827</th><td>User648781         </td><td>EnterpriseAppServer</td><td>EnterpriseAppServer</td><td>NetworkLogon       </td><td>0                  </td><td> 56                </td><td>0                  </td><td>58                 </td></tr>\n",
       "\t<tr><th scope=row>5828</th><td>User648781         </td><td>Comp537384         </td><td>Comp375796         </td><td>TGS                </td><td>0                  </td><td>  2                </td><td>0                  </td><td>58                 </td></tr>\n",
       "\t<tr><th scope=row>5829</th><td>User648781         </td><td>EnterpriseAppServer</td><td>Comp370444         </td><td>TGS                </td><td>0                  </td><td>  2                </td><td>0                  </td><td>58                 </td></tr>\n",
       "\t<tr><th scope=row>7272</th><td>User871458         </td><td>Comp273168         </td><td>Comp273168         </td><td>TGS                </td><td>0                  </td><td>  8                </td><td>0                  </td><td>58                 </td></tr>\n",
       "\t<tr><th scope=row>7541</th><td>User882755         </td><td>Comp599337         </td><td>ActiveDirectory    </td><td>TGS                </td><td>0                  </td><td>118                </td><td>0                  </td><td>58                 </td></tr>\n",
       "\t<tr><th scope=row>7973</th><td>User887454         </td><td>Comp818224         </td><td>Comp121122         </td><td>NetworkLogon       </td><td>0                  </td><td> 56                </td><td>0                  </td><td>58                 </td></tr>\n",
       "</tbody>\n",
       "</table>\n"
      ],
      "text/latex": [
       "\\begin{tabular}{r|llllllll}\n",
       "  & UserName & SrcDevice & DstDevice & Authent.Type & Failure & DailyCount & Hour & Day\\\\\n",
       "\\hline\n",
       "\t1079 & User288751          & Comp468329          & Comp253429          & TGS                 & 0                   &   1                 & 0                   & 58                 \\\\\n",
       "\t1080 & User288751          & Comp468329          & Comp370444          & NetworkLogon        & 0                   &  19                 & 0                   & 58                 \\\\\n",
       "\t1081 & User288751          & Comp916004          & Comp916004          & TGS                 & 0                   &  16                 & 0                   & 58                 \\\\\n",
       "\t1082 & User288751          & Comp468329          & Comp797582          & NetworkLogon        & 0                   &   2                 & 0                   & 58                 \\\\\n",
       "\t1649 & User396223          & Comp068848          & ActiveDirectory     & TGT                 & 0                   &   2                 & 0                   & 58                 \\\\\n",
       "\t2765 & User341813          & Comp948451          & Comp915658          & NetworkLogon        & 0                   &   4                 & 0                   & 58                 \\\\\n",
       "\t2766 & User341813          & Comp107130          & Comp916004          & NetworkLogon        & 0                   &  27                 & 0                   & 58                 \\\\\n",
       "\t3358 & User091297          & Comp955934          & Comp939275          & NetworkLogon        & 0                   &   2                 & 0                   & 58                 \\\\\n",
       "\t3440 & User379647          & Comp416133          & Comp370444          & TGS                 & 0                   &   1                 & 0                   & 58                 \\\\\n",
       "\t3441 & User379647          & Comp416133          & ActiveDirectory     & TGS                 & 0                   &  10                 & 0                   & 58                 \\\\\n",
       "\t3442 & User379647          & Comp083768          & None                & WorkstationLock     & 0                   &   6                 & 0                   & 58                 \\\\\n",
       "\t4285 & User203147          & Comp107130          & Comp916004          & NetworkLogon        & 0                   &  30                 & 0                   & 58                 \\\\\n",
       "\t4286 & User203147          & Comp679250          & Comp698972          & NetworkLogon        & 0                   &   2                 & 0                   & 58                 \\\\\n",
       "\t4287 & User203147          & Comp679250          & Comp894088          & NetworkLogon        & 0                   &   1                 & 0                   & 58                 \\\\\n",
       "\t5827 & User648781          & EnterpriseAppServer & EnterpriseAppServer & NetworkLogon        & 0                   &  56                 & 0                   & 58                 \\\\\n",
       "\t5828 & User648781          & Comp537384          & Comp375796          & TGS                 & 0                   &   2                 & 0                   & 58                 \\\\\n",
       "\t5829 & User648781          & EnterpriseAppServer & Comp370444          & TGS                 & 0                   &   2                 & 0                   & 58                 \\\\\n",
       "\t7272 & User871458          & Comp273168          & Comp273168          & TGS                 & 0                   &   8                 & 0                   & 58                 \\\\\n",
       "\t7541 & User882755          & Comp599337          & ActiveDirectory     & TGS                 & 0                   & 118                 & 0                   & 58                 \\\\\n",
       "\t7973 & User887454          & Comp818224          & Comp121122          & NetworkLogon        & 0                   &  56                 & 0                   & 58                 \\\\\n",
       "\\end{tabular}\n"
      ],
      "text/markdown": [
       "\n",
       "| <!--/--> | UserName | SrcDevice | DstDevice | Authent.Type | Failure | DailyCount | Hour | Day |\n",
       "|---|---|---|---|---|---|---|---|---|\n",
       "| 1079 | User288751          | Comp468329          | Comp253429          | TGS                 | 0                   |   1                 | 0                   | 58                  |\n",
       "| 1080 | User288751          | Comp468329          | Comp370444          | NetworkLogon        | 0                   |  19                 | 0                   | 58                  |\n",
       "| 1081 | User288751          | Comp916004          | Comp916004          | TGS                 | 0                   |  16                 | 0                   | 58                  |\n",
       "| 1082 | User288751          | Comp468329          | Comp797582          | NetworkLogon        | 0                   |   2                 | 0                   | 58                  |\n",
       "| 1649 | User396223          | Comp068848          | ActiveDirectory     | TGT                 | 0                   |   2                 | 0                   | 58                  |\n",
       "| 2765 | User341813          | Comp948451          | Comp915658          | NetworkLogon        | 0                   |   4                 | 0                   | 58                  |\n",
       "| 2766 | User341813          | Comp107130          | Comp916004          | NetworkLogon        | 0                   |  27                 | 0                   | 58                  |\n",
       "| 3358 | User091297          | Comp955934          | Comp939275          | NetworkLogon        | 0                   |   2                 | 0                   | 58                  |\n",
       "| 3440 | User379647          | Comp416133          | Comp370444          | TGS                 | 0                   |   1                 | 0                   | 58                  |\n",
       "| 3441 | User379647          | Comp416133          | ActiveDirectory     | TGS                 | 0                   |  10                 | 0                   | 58                  |\n",
       "| 3442 | User379647          | Comp083768          | None                | WorkstationLock     | 0                   |   6                 | 0                   | 58                  |\n",
       "| 4285 | User203147          | Comp107130          | Comp916004          | NetworkLogon        | 0                   |  30                 | 0                   | 58                  |\n",
       "| 4286 | User203147          | Comp679250          | Comp698972          | NetworkLogon        | 0                   |   2                 | 0                   | 58                  |\n",
       "| 4287 | User203147          | Comp679250          | Comp894088          | NetworkLogon        | 0                   |   1                 | 0                   | 58                  |\n",
       "| 5827 | User648781          | EnterpriseAppServer | EnterpriseAppServer | NetworkLogon        | 0                   |  56                 | 0                   | 58                  |\n",
       "| 5828 | User648781          | Comp537384          | Comp375796          | TGS                 | 0                   |   2                 | 0                   | 58                  |\n",
       "| 5829 | User648781          | EnterpriseAppServer | Comp370444          | TGS                 | 0                   |   2                 | 0                   | 58                  |\n",
       "| 7272 | User871458          | Comp273168          | Comp273168          | TGS                 | 0                   |   8                 | 0                   | 58                  |\n",
       "| 7541 | User882755          | Comp599337          | ActiveDirectory     | TGS                 | 0                   | 118                 | 0                   | 58                  |\n",
       "| 7973 | User887454          | Comp818224          | Comp121122          | NetworkLogon        | 0                   |  56                 | 0                   | 58                  |\n",
       "\n"
      ],
      "text/plain": [
       "     UserName   SrcDevice           DstDevice           Authent.Type    Failure\n",
       "1079 User288751 Comp468329          Comp253429          TGS             0      \n",
       "1080 User288751 Comp468329          Comp370444          NetworkLogon    0      \n",
       "1081 User288751 Comp916004          Comp916004          TGS             0      \n",
       "1082 User288751 Comp468329          Comp797582          NetworkLogon    0      \n",
       "1649 User396223 Comp068848          ActiveDirectory     TGT             0      \n",
       "2765 User341813 Comp948451          Comp915658          NetworkLogon    0      \n",
       "2766 User341813 Comp107130          Comp916004          NetworkLogon    0      \n",
       "3358 User091297 Comp955934          Comp939275          NetworkLogon    0      \n",
       "3440 User379647 Comp416133          Comp370444          TGS             0      \n",
       "3441 User379647 Comp416133          ActiveDirectory     TGS             0      \n",
       "3442 User379647 Comp083768          None                WorkstationLock 0      \n",
       "4285 User203147 Comp107130          Comp916004          NetworkLogon    0      \n",
       "4286 User203147 Comp679250          Comp698972          NetworkLogon    0      \n",
       "4287 User203147 Comp679250          Comp894088          NetworkLogon    0      \n",
       "5827 User648781 EnterpriseAppServer EnterpriseAppServer NetworkLogon    0      \n",
       "5828 User648781 Comp537384          Comp375796          TGS             0      \n",
       "5829 User648781 EnterpriseAppServer Comp370444          TGS             0      \n",
       "7272 User871458 Comp273168          Comp273168          TGS             0      \n",
       "7541 User882755 Comp599337          ActiveDirectory     TGS             0      \n",
       "7973 User887454 Comp818224          Comp121122          NetworkLogon    0      \n",
       "     DailyCount Hour Day\n",
       "1079   1        0    58 \n",
       "1080  19        0    58 \n",
       "1081  16        0    58 \n",
       "1082   2        0    58 \n",
       "1649   2        0    58 \n",
       "2765   4        0    58 \n",
       "2766  27        0    58 \n",
       "3358   2        0    58 \n",
       "3440   1        0    58 \n",
       "3441  10        0    58 \n",
       "3442   6        0    58 \n",
       "4285  30        0    58 \n",
       "4286   2        0    58 \n",
       "4287   1        0    58 \n",
       "5827  56        0    58 \n",
       "5828   2        0    58 \n",
       "5829   2        0    58 \n",
       "7272   8        0    58 \n",
       "7541 118        0    58 \n",
       "7973  56        0    58 "
      ]
     },
     "metadata": {},
     "output_type": "display_data"
    }
   ],
   "source": [
    "df<- df[order(df$Day), ]\n",
    "head(df, 20)"
   ]
  },
  {
   "cell_type": "code",
   "execution_count": 7,
   "id": "e0771327",
   "metadata": {},
   "outputs": [
    {
     "data": {
      "text/html": [
       "<table>\n",
       "<thead><tr><th></th><th scope=col>UserName</th><th scope=col>SrcDevice</th><th scope=col>DstDevice</th><th scope=col>Authent.Type</th><th scope=col>Failure</th></tr></thead>\n",
       "<tbody>\n",
       "\t<tr><th scope=row>1079</th><td>User288751     </td><td>Comp468329     </td><td>Comp253429     </td><td>TGS            </td><td>0              </td></tr>\n",
       "\t<tr><th scope=row>1080</th><td>User288751     </td><td>Comp468329     </td><td>Comp370444     </td><td>NetworkLogon   </td><td>0              </td></tr>\n",
       "\t<tr><th scope=row>1081</th><td>User288751     </td><td>Comp916004     </td><td>Comp916004     </td><td>TGS            </td><td>0              </td></tr>\n",
       "\t<tr><th scope=row>1082</th><td>User288751     </td><td>Comp468329     </td><td>Comp797582     </td><td>NetworkLogon   </td><td>0              </td></tr>\n",
       "\t<tr><th scope=row>1649</th><td>User396223     </td><td>Comp068848     </td><td>ActiveDirectory</td><td>TGT            </td><td>0              </td></tr>\n",
       "\t<tr><th scope=row>2765</th><td>User341813     </td><td>Comp948451     </td><td>Comp915658     </td><td>NetworkLogon   </td><td>0              </td></tr>\n",
       "</tbody>\n",
       "</table>\n"
      ],
      "text/latex": [
       "\\begin{tabular}{r|lllll}\n",
       "  & UserName & SrcDevice & DstDevice & Authent.Type & Failure\\\\\n",
       "\\hline\n",
       "\t1079 & User288751      & Comp468329      & Comp253429      & TGS             & 0              \\\\\n",
       "\t1080 & User288751      & Comp468329      & Comp370444      & NetworkLogon    & 0              \\\\\n",
       "\t1081 & User288751      & Comp916004      & Comp916004      & TGS             & 0              \\\\\n",
       "\t1082 & User288751      & Comp468329      & Comp797582      & NetworkLogon    & 0              \\\\\n",
       "\t1649 & User396223      & Comp068848      & ActiveDirectory & TGT             & 0              \\\\\n",
       "\t2765 & User341813      & Comp948451      & Comp915658      & NetworkLogon    & 0              \\\\\n",
       "\\end{tabular}\n"
      ],
      "text/markdown": [
       "\n",
       "| <!--/--> | UserName | SrcDevice | DstDevice | Authent.Type | Failure |\n",
       "|---|---|---|---|---|---|\n",
       "| 1079 | User288751      | Comp468329      | Comp253429      | TGS             | 0               |\n",
       "| 1080 | User288751      | Comp468329      | Comp370444      | NetworkLogon    | 0               |\n",
       "| 1081 | User288751      | Comp916004      | Comp916004      | TGS             | 0               |\n",
       "| 1082 | User288751      | Comp468329      | Comp797582      | NetworkLogon    | 0               |\n",
       "| 1649 | User396223      | Comp068848      | ActiveDirectory | TGT             | 0               |\n",
       "| 2765 | User341813      | Comp948451      | Comp915658      | NetworkLogon    | 0               |\n",
       "\n"
      ],
      "text/plain": [
       "     UserName   SrcDevice  DstDevice       Authent.Type Failure\n",
       "1079 User288751 Comp468329 Comp253429      TGS          0      \n",
       "1080 User288751 Comp468329 Comp370444      NetworkLogon 0      \n",
       "1081 User288751 Comp916004 Comp916004      TGS          0      \n",
       "1082 User288751 Comp468329 Comp797582      NetworkLogon 0      \n",
       "1649 User396223 Comp068848 ActiveDirectory TGT          0      \n",
       "2765 User341813 Comp948451 Comp915658      NetworkLogon 0      "
      ]
     },
     "metadata": {},
     "output_type": "display_data"
    }
   ],
   "source": [
    "df<- df[,-c(6:8)]\n",
    "head(df)"
   ]
  },
  {
   "cell_type": "markdown",
   "id": "2917a5dd",
   "metadata": {},
   "source": [
    "_At this stage we have our desired dataset_"
   ]
  },
  {
   "cell_type": "code",
   "execution_count": 8,
   "id": "e9caabe7",
   "metadata": {},
   "outputs": [
    {
     "data": {
      "text/html": [
       "<ol class=list-inline>\n",
       "\t<li>'winservice'</li>\n",
       "\t<li>'AppService'</li>\n",
       "\t<li>'Administrator'</li>\n",
       "</ol>\n"
      ],
      "text/latex": [
       "\\begin{enumerate*}\n",
       "\\item 'winservice'\n",
       "\\item 'AppService'\n",
       "\\item 'Administrator'\n",
       "\\end{enumerate*}\n"
      ],
      "text/markdown": [
       "1. 'winservice'\n",
       "2. 'AppService'\n",
       "3. 'Administrator'\n",
       "\n",
       "\n"
      ],
      "text/plain": [
       "[1] \"winservice\"    \"AppService\"    \"Administrator\""
      ]
     },
     "metadata": {},
     "output_type": "display_data"
    }
   ],
   "source": [
    "g<- grep(pattern='User', x=df$UserName)\n",
    "Special <- unique(df$UserName[-g])\n",
    "g<- grep(pattern='Comp', x=Special)\n",
    "Special <- Special[-g]\n",
    "Special"
   ]
  },
  {
   "cell_type": "code",
   "execution_count": 9,
   "id": "3d192730",
   "metadata": {},
   "outputs": [
    {
     "name": "stdout",
     "output_type": "stream",
     "text": [
      "Progress:   1%Progress:   2%Progress:   3%Progress:   4%Progress:   5%Progress:   6%Progress:   7%Progress:   8%Progress:   9%Progress:  10%Progress:  11%Progress:  12%Progress:  13%Progress:  14%Progress:  15%Progress:  16%Progress:  17%Progress:  18%Progress:  19%Progress:  20%Progress:  21%Progress:  22%Progress:  23%Progress:  24%Progress:  25%Progress:  26%Progress:  27%Progress:  28%Progress:  29%Progress:  30%Progress:  31%Progress:  32%Progress:  33%Progress:  34%Progress:  35%Progress:  36%Progress:  37%Progress:  38%Progress:  39%Progress:  40%Progress:  41%Progress:  42%Progress:  43%Progress:  44%Progress:  45%Progress:  46%Progress:  47%Progress:  48%Progress:  49%Progress:  50%Progress:  51%Progress:  52%Progress:  53%Progress:  54%Progress:  55%Progress:  56%Progress:  57%Progress:  58%Progress:  59%Progress:  60%Progress:  61%Progress:  62%Progress:  63%Progress:  64%Progress:  65%Progress:  66%Progress:  67%Progress:  68%Progress:  69%Progress:  70%Progress:  71%Progress:  72%Progress:  73%Progress:  74%Progress:  75%Progress:  76%Progress:  77%Progress:  78%Progress:  79%Progress:  80%Progress:  81%Progress:  82%Progress:  83%Progress:  84%Progress:  85%Progress:  86%Progress:  87%Progress:  88%Progress:  89%Progress:  90%Progress:  91%Progress:  92%Progress:  93%Progress:  94%Progress:  95%Progress:  96%Progress:  97%Progress:  98%Progress:  99%Progress: 100%              "
     ]
    }
   ],
   "source": [
    "DecisionScoring(df)"
   ]
  },
  {
   "cell_type": "code",
   "execution_count": 10,
   "id": "39f213cf",
   "metadata": {},
   "outputs": [
    {
     "data": {
      "text/html": [
       "<table>\n",
       "<thead><tr><th scope=col>Reconnaissance</th><th scope=col>Delivery</th><th scope=col>LateralMovement</th><th scope=col>PrivilegeEscalation</th><th scope=col>Exfiltration</th></tr></thead>\n",
       "<tbody>\n",
       "\t<tr><td> 7.25</td><td>7.50 </td><td>6.25 </td><td> 9.25</td><td> 9.00</td></tr>\n",
       "\t<tr><td>12.50</td><td>6.00 </td><td>6.00 </td><td> 7.75</td><td> 7.50</td></tr>\n",
       "\t<tr><td>10.25</td><td>7.25 </td><td>6.00 </td><td>10.75</td><td>10.00</td></tr>\n",
       "\t<tr><td> 9.25</td><td>7.25 </td><td>6.00 </td><td> 8.25</td><td> 6.75</td></tr>\n",
       "\t<tr><td>10.75</td><td>6.50 </td><td>6.00 </td><td> 9.00</td><td> 9.25</td></tr>\n",
       "\t<tr><td>14.25</td><td>7.00 </td><td>6.25 </td><td> 6.75</td><td> 5.50</td></tr>\n",
       "\t<tr><td>10.75</td><td>5.00 </td><td>5.50 </td><td> 8.50</td><td> 9.75</td></tr>\n",
       "\t<tr><td>12.00</td><td>6.75 </td><td>4.00 </td><td> 5.00</td><td> 5.00</td></tr>\n",
       "\t<tr><td> 7.25</td><td>6.25 </td><td>6.75 </td><td>10.00</td><td>10.75</td></tr>\n",
       "\t<tr><td> 7.25</td><td>6.25 </td><td>6.75 </td><td>10.00</td><td>10.75</td></tr>\n",
       "\t<tr><td>12.00</td><td>7.00 </td><td>5.75 </td><td> 6.75</td><td> 7.75</td></tr>\n",
       "\t<tr><td>11.25</td><td>5.50 </td><td>5.00 </td><td> 8.00</td><td> 9.25</td></tr>\n",
       "\t<tr><td>11.75</td><td>7.25 </td><td>6.00 </td><td> 8.00</td><td> 6.00</td></tr>\n",
       "\t<tr><td>12.00</td><td>7.00 </td><td>5.75 </td><td> 8.00</td><td> 5.75</td></tr>\n",
       "\t<tr><td>12.25</td><td>6.50 </td><td>6.00 </td><td> 9.25</td><td> 8.00</td></tr>\n",
       "\t<tr><td> 9.50</td><td>8.00 </td><td>6.00 </td><td> 8.25</td><td> 7.00</td></tr>\n",
       "\t<tr><td>11.50</td><td>7.25 </td><td>6.00 </td><td>10.50</td><td>10.25</td></tr>\n",
       "\t<tr><td> 8.25</td><td>8.50 </td><td>6.25 </td><td> 8.25</td><td> 6.75</td></tr>\n",
       "\t<tr><td>11.75</td><td>6.75 </td><td>6.00 </td><td> 9.00</td><td> 9.25</td></tr>\n",
       "\t<tr><td>11.25</td><td>7.25 </td><td>6.00 </td><td> 7.00</td><td> 5.25</td></tr>\n",
       "\t<tr><td>12.50</td><td>7.75 </td><td>6.25 </td><td> 8.00</td><td> 7.25</td></tr>\n",
       "\t<tr><td>10.75</td><td>7.50 </td><td>6.50 </td><td>11.00</td><td>11.00</td></tr>\n",
       "\t<tr><td>11.75</td><td>6.75 </td><td>6.25 </td><td> 9.75</td><td> 8.50</td></tr>\n",
       "\t<tr><td>10.75</td><td>6.75 </td><td>6.00 </td><td> 9.00</td><td> 9.25</td></tr>\n",
       "\t<tr><td> 9.75</td><td>6.75 </td><td>6.00 </td><td> 9.25</td><td> 9.00</td></tr>\n",
       "</tbody>\n",
       "</table>\n"
      ],
      "text/latex": [
       "\\begin{tabular}{r|lllll}\n",
       " Reconnaissance & Delivery & LateralMovement & PrivilegeEscalation & Exfiltration\\\\\n",
       "\\hline\n",
       "\t  7.25 & 7.50  & 6.25  &  9.25 &  9.00\\\\\n",
       "\t 12.50 & 6.00  & 6.00  &  7.75 &  7.50\\\\\n",
       "\t 10.25 & 7.25  & 6.00  & 10.75 & 10.00\\\\\n",
       "\t  9.25 & 7.25  & 6.00  &  8.25 &  6.75\\\\\n",
       "\t 10.75 & 6.50  & 6.00  &  9.00 &  9.25\\\\\n",
       "\t 14.25 & 7.00  & 6.25  &  6.75 &  5.50\\\\\n",
       "\t 10.75 & 5.00  & 5.50  &  8.50 &  9.75\\\\\n",
       "\t 12.00 & 6.75  & 4.00  &  5.00 &  5.00\\\\\n",
       "\t  7.25 & 6.25  & 6.75  & 10.00 & 10.75\\\\\n",
       "\t  7.25 & 6.25  & 6.75  & 10.00 & 10.75\\\\\n",
       "\t 12.00 & 7.00  & 5.75  &  6.75 &  7.75\\\\\n",
       "\t 11.25 & 5.50  & 5.00  &  8.00 &  9.25\\\\\n",
       "\t 11.75 & 7.25  & 6.00  &  8.00 &  6.00\\\\\n",
       "\t 12.00 & 7.00  & 5.75  &  8.00 &  5.75\\\\\n",
       "\t 12.25 & 6.50  & 6.00  &  9.25 &  8.00\\\\\n",
       "\t  9.50 & 8.00  & 6.00  &  8.25 &  7.00\\\\\n",
       "\t 11.50 & 7.25  & 6.00  & 10.50 & 10.25\\\\\n",
       "\t  8.25 & 8.50  & 6.25  &  8.25 &  6.75\\\\\n",
       "\t 11.75 & 6.75  & 6.00  &  9.00 &  9.25\\\\\n",
       "\t 11.25 & 7.25  & 6.00  &  7.00 &  5.25\\\\\n",
       "\t 12.50 & 7.75  & 6.25  &  8.00 &  7.25\\\\\n",
       "\t 10.75 & 7.50  & 6.50  & 11.00 & 11.00\\\\\n",
       "\t 11.75 & 6.75  & 6.25  &  9.75 &  8.50\\\\\n",
       "\t 10.75 & 6.75  & 6.00  &  9.00 &  9.25\\\\\n",
       "\t  9.75 & 6.75  & 6.00  &  9.25 &  9.00\\\\\n",
       "\\end{tabular}\n"
      ],
      "text/markdown": [
       "\n",
       "| Reconnaissance | Delivery | LateralMovement | PrivilegeEscalation | Exfiltration |\n",
       "|---|---|---|---|---|\n",
       "|  7.25 | 7.50  | 6.25  |  9.25 |  9.00 |\n",
       "| 12.50 | 6.00  | 6.00  |  7.75 |  7.50 |\n",
       "| 10.25 | 7.25  | 6.00  | 10.75 | 10.00 |\n",
       "|  9.25 | 7.25  | 6.00  |  8.25 |  6.75 |\n",
       "| 10.75 | 6.50  | 6.00  |  9.00 |  9.25 |\n",
       "| 14.25 | 7.00  | 6.25  |  6.75 |  5.50 |\n",
       "| 10.75 | 5.00  | 5.50  |  8.50 |  9.75 |\n",
       "| 12.00 | 6.75  | 4.00  |  5.00 |  5.00 |\n",
       "|  7.25 | 6.25  | 6.75  | 10.00 | 10.75 |\n",
       "|  7.25 | 6.25  | 6.75  | 10.00 | 10.75 |\n",
       "| 12.00 | 7.00  | 5.75  |  6.75 |  7.75 |\n",
       "| 11.25 | 5.50  | 5.00  |  8.00 |  9.25 |\n",
       "| 11.75 | 7.25  | 6.00  |  8.00 |  6.00 |\n",
       "| 12.00 | 7.00  | 5.75  |  8.00 |  5.75 |\n",
       "| 12.25 | 6.50  | 6.00  |  9.25 |  8.00 |\n",
       "|  9.50 | 8.00  | 6.00  |  8.25 |  7.00 |\n",
       "| 11.50 | 7.25  | 6.00  | 10.50 | 10.25 |\n",
       "|  8.25 | 8.50  | 6.25  |  8.25 |  6.75 |\n",
       "| 11.75 | 6.75  | 6.00  |  9.00 |  9.25 |\n",
       "| 11.25 | 7.25  | 6.00  |  7.00 |  5.25 |\n",
       "| 12.50 | 7.75  | 6.25  |  8.00 |  7.25 |\n",
       "| 10.75 | 7.50  | 6.50  | 11.00 | 11.00 |\n",
       "| 11.75 | 6.75  | 6.25  |  9.75 |  8.50 |\n",
       "| 10.75 | 6.75  | 6.00  |  9.00 |  9.25 |\n",
       "|  9.75 | 6.75  | 6.00  |  9.25 |  9.00 |\n",
       "\n"
      ],
      "text/plain": [
       "   Reconnaissance Delivery LateralMovement PrivilegeEscalation Exfiltration\n",
       "1   7.25          7.50     6.25             9.25                9.00       \n",
       "2  12.50          6.00     6.00             7.75                7.50       \n",
       "3  10.25          7.25     6.00            10.75               10.00       \n",
       "4   9.25          7.25     6.00             8.25                6.75       \n",
       "5  10.75          6.50     6.00             9.00                9.25       \n",
       "6  14.25          7.00     6.25             6.75                5.50       \n",
       "7  10.75          5.00     5.50             8.50                9.75       \n",
       "8  12.00          6.75     4.00             5.00                5.00       \n",
       "9   7.25          6.25     6.75            10.00               10.75       \n",
       "10  7.25          6.25     6.75            10.00               10.75       \n",
       "11 12.00          7.00     5.75             6.75                7.75       \n",
       "12 11.25          5.50     5.00             8.00                9.25       \n",
       "13 11.75          7.25     6.00             8.00                6.00       \n",
       "14 12.00          7.00     5.75             8.00                5.75       \n",
       "15 12.25          6.50     6.00             9.25                8.00       \n",
       "16  9.50          8.00     6.00             8.25                7.00       \n",
       "17 11.50          7.25     6.00            10.50               10.25       \n",
       "18  8.25          8.50     6.25             8.25                6.75       \n",
       "19 11.75          6.75     6.00             9.00                9.25       \n",
       "20 11.25          7.25     6.00             7.00                5.25       \n",
       "21 12.50          7.75     6.25             8.00                7.25       \n",
       "22 10.75          7.50     6.50            11.00               11.00       \n",
       "23 11.75          6.75     6.25             9.75                8.50       \n",
       "24 10.75          6.75     6.00             9.00                9.25       \n",
       "25  9.75          6.75     6.00             9.25                9.00       "
      ]
     },
     "metadata": {},
     "output_type": "display_data"
    }
   ],
   "source": [
    "head(Stages, 25)"
   ]
  },
  {
   "cell_type": "code",
   "execution_count": 11,
   "id": "54b5bc1d",
   "metadata": {},
   "outputs": [],
   "source": [
    "StageAssignExpect <- function() {\n",
    "    R <- rowSums(Stages)\n",
    "    Probs <- Stages/R\n",
    "    Maximum <- pmax(Probs$Reconnaissance,Probs$Delivery,Probs$LateralMovement,Probs$PrivilegeEscalation,Probs$Exfiltration)\n",
    "    Probs_with_clusters <- cbind(Probs, Maximum)\n",
    "    \n",
    "    Cluster <- vector(len=nrow(Probs_with_clusters))\n",
    "for(i in 1:nrow(Probs_with_clusters)) {\n",
    "    if(Probs_with_clusters$Maximum[i]==Probs_with_clusters$Reconnaissance[i]) {\n",
    "        Cluster[i] <- \"R\"\n",
    "    }\n",
    "    if(Probs_with_clusters$Maximum[i]==Probs_with_clusters$Delivery[i]) {\n",
    "        Cluster[i] <- \"D\"\n",
    "    }\n",
    "    if(Probs_with_clusters$Maximum[i]==Probs_with_clusters$LateralMovement[i]) {\n",
    "        Cluster[i] <- \"LM\"\n",
    "    }\n",
    "    if(Probs_with_clusters$Maximum[i]==Probs_with_clusters$PrivilegeEscalation[i]) {\n",
    "        Cluster[i] <- \"PE\"\n",
    "    }\n",
    "    if(Probs_with_clusters$Maximum[i]==Probs_with_clusters$Exfiltration[i]) {\n",
    "        Cluster[i] <- \"E\"\n",
    "    }\n",
    "}\n",
    "\n",
    "Probs_with_clusters <<- cbind(UserName = df$UserName, Probs_with_clusters, Cluster)\n",
    "\n",
    "}"
   ]
  },
  {
   "cell_type": "code",
   "execution_count": 12,
   "id": "22d9d1b5",
   "metadata": {},
   "outputs": [],
   "source": [
    "StageAssignExpect()"
   ]
  },
  {
   "cell_type": "code",
   "execution_count": 13,
   "id": "3cca25cf",
   "metadata": {},
   "outputs": [
    {
     "data": {
      "text/html": [
       "<table>\n",
       "<thead><tr><th scope=col>UserName</th><th scope=col>Reconnaissance</th><th scope=col>Delivery</th><th scope=col>LateralMovement</th><th scope=col>PrivilegeEscalation</th><th scope=col>Exfiltration</th><th scope=col>Maximum</th><th scope=col>Cluster</th></tr></thead>\n",
       "<tbody>\n",
       "\t<tr><td>User288751</td><td>0.1847134 </td><td>0.1910828 </td><td>0.1592357 </td><td>0.2356688 </td><td>0.2292994 </td><td>0.2356688 </td><td>PE        </td></tr>\n",
       "\t<tr><td>User288751</td><td>0.3144654 </td><td>0.1509434 </td><td>0.1509434 </td><td>0.1949686 </td><td>0.1886792 </td><td>0.3144654 </td><td>R         </td></tr>\n",
       "\t<tr><td>User288751</td><td>0.2316384 </td><td>0.1638418 </td><td>0.1355932 </td><td>0.2429379 </td><td>0.2259887 </td><td>0.2429379 </td><td>PE        </td></tr>\n",
       "\t<tr><td>User288751</td><td>0.2466667 </td><td>0.1933333 </td><td>0.1600000 </td><td>0.2200000 </td><td>0.1800000 </td><td>0.2466667 </td><td>R         </td></tr>\n",
       "\t<tr><td>User396223</td><td>0.2590361 </td><td>0.1566265 </td><td>0.1445783 </td><td>0.2168675 </td><td>0.2228916 </td><td>0.2590361 </td><td>R         </td></tr>\n",
       "\t<tr><td>User341813</td><td>0.3584906 </td><td>0.1761006 </td><td>0.1572327 </td><td>0.1698113 </td><td>0.1383648 </td><td>0.3584906 </td><td>R         </td></tr>\n",
       "\t<tr><td>User341813</td><td>0.2721519 </td><td>0.1265823 </td><td>0.1392405 </td><td>0.2151899 </td><td>0.2468354 </td><td>0.2721519 </td><td>R         </td></tr>\n",
       "\t<tr><td>User091297</td><td>0.3664122 </td><td>0.2061069 </td><td>0.1221374 </td><td>0.1526718 </td><td>0.1526718 </td><td>0.3664122 </td><td>R         </td></tr>\n",
       "\t<tr><td>User379647</td><td>0.1768293 </td><td>0.1524390 </td><td>0.1646341 </td><td>0.2439024 </td><td>0.2621951 </td><td>0.2621951 </td><td>E         </td></tr>\n",
       "\t<tr><td>User379647</td><td>0.1768293 </td><td>0.1524390 </td><td>0.1646341 </td><td>0.2439024 </td><td>0.2621951 </td><td>0.2621951 </td><td>E         </td></tr>\n",
       "\t<tr><td>User379647</td><td>0.3057325 </td><td>0.1783439 </td><td>0.1464968 </td><td>0.1719745 </td><td>0.1974522 </td><td>0.3057325 </td><td>R         </td></tr>\n",
       "\t<tr><td>User203147</td><td>0.2884615 </td><td>0.1410256 </td><td>0.1282051 </td><td>0.2051282 </td><td>0.2371795 </td><td>0.2884615 </td><td>R         </td></tr>\n",
       "\t<tr><td>User203147</td><td>0.3012821 </td><td>0.1858974 </td><td>0.1538462 </td><td>0.2051282 </td><td>0.1538462 </td><td>0.3012821 </td><td>R         </td></tr>\n",
       "\t<tr><td>User203147</td><td>0.3116883 </td><td>0.1818182 </td><td>0.1493506 </td><td>0.2077922 </td><td>0.1493506 </td><td>0.3116883 </td><td>R         </td></tr>\n",
       "\t<tr><td>User648781</td><td>0.2916667 </td><td>0.1547619 </td><td>0.1428571 </td><td>0.2202381 </td><td>0.1904762 </td><td>0.2916667 </td><td>R         </td></tr>\n",
       "</tbody>\n",
       "</table>\n"
      ],
      "text/latex": [
       "\\begin{tabular}{r|llllllll}\n",
       " UserName & Reconnaissance & Delivery & LateralMovement & PrivilegeEscalation & Exfiltration & Maximum & Cluster\\\\\n",
       "\\hline\n",
       "\t User288751 & 0.1847134  & 0.1910828  & 0.1592357  & 0.2356688  & 0.2292994  & 0.2356688  & PE        \\\\\n",
       "\t User288751 & 0.3144654  & 0.1509434  & 0.1509434  & 0.1949686  & 0.1886792  & 0.3144654  & R         \\\\\n",
       "\t User288751 & 0.2316384  & 0.1638418  & 0.1355932  & 0.2429379  & 0.2259887  & 0.2429379  & PE        \\\\\n",
       "\t User288751 & 0.2466667  & 0.1933333  & 0.1600000  & 0.2200000  & 0.1800000  & 0.2466667  & R         \\\\\n",
       "\t User396223 & 0.2590361  & 0.1566265  & 0.1445783  & 0.2168675  & 0.2228916  & 0.2590361  & R         \\\\\n",
       "\t User341813 & 0.3584906  & 0.1761006  & 0.1572327  & 0.1698113  & 0.1383648  & 0.3584906  & R         \\\\\n",
       "\t User341813 & 0.2721519  & 0.1265823  & 0.1392405  & 0.2151899  & 0.2468354  & 0.2721519  & R         \\\\\n",
       "\t User091297 & 0.3664122  & 0.2061069  & 0.1221374  & 0.1526718  & 0.1526718  & 0.3664122  & R         \\\\\n",
       "\t User379647 & 0.1768293  & 0.1524390  & 0.1646341  & 0.2439024  & 0.2621951  & 0.2621951  & E         \\\\\n",
       "\t User379647 & 0.1768293  & 0.1524390  & 0.1646341  & 0.2439024  & 0.2621951  & 0.2621951  & E         \\\\\n",
       "\t User379647 & 0.3057325  & 0.1783439  & 0.1464968  & 0.1719745  & 0.1974522  & 0.3057325  & R         \\\\\n",
       "\t User203147 & 0.2884615  & 0.1410256  & 0.1282051  & 0.2051282  & 0.2371795  & 0.2884615  & R         \\\\\n",
       "\t User203147 & 0.3012821  & 0.1858974  & 0.1538462  & 0.2051282  & 0.1538462  & 0.3012821  & R         \\\\\n",
       "\t User203147 & 0.3116883  & 0.1818182  & 0.1493506  & 0.2077922  & 0.1493506  & 0.3116883  & R         \\\\\n",
       "\t User648781 & 0.2916667  & 0.1547619  & 0.1428571  & 0.2202381  & 0.1904762  & 0.2916667  & R         \\\\\n",
       "\\end{tabular}\n"
      ],
      "text/markdown": [
       "\n",
       "| UserName | Reconnaissance | Delivery | LateralMovement | PrivilegeEscalation | Exfiltration | Maximum | Cluster |\n",
       "|---|---|---|---|---|---|---|---|\n",
       "| User288751 | 0.1847134  | 0.1910828  | 0.1592357  | 0.2356688  | 0.2292994  | 0.2356688  | PE         |\n",
       "| User288751 | 0.3144654  | 0.1509434  | 0.1509434  | 0.1949686  | 0.1886792  | 0.3144654  | R          |\n",
       "| User288751 | 0.2316384  | 0.1638418  | 0.1355932  | 0.2429379  | 0.2259887  | 0.2429379  | PE         |\n",
       "| User288751 | 0.2466667  | 0.1933333  | 0.1600000  | 0.2200000  | 0.1800000  | 0.2466667  | R          |\n",
       "| User396223 | 0.2590361  | 0.1566265  | 0.1445783  | 0.2168675  | 0.2228916  | 0.2590361  | R          |\n",
       "| User341813 | 0.3584906  | 0.1761006  | 0.1572327  | 0.1698113  | 0.1383648  | 0.3584906  | R          |\n",
       "| User341813 | 0.2721519  | 0.1265823  | 0.1392405  | 0.2151899  | 0.2468354  | 0.2721519  | R          |\n",
       "| User091297 | 0.3664122  | 0.2061069  | 0.1221374  | 0.1526718  | 0.1526718  | 0.3664122  | R          |\n",
       "| User379647 | 0.1768293  | 0.1524390  | 0.1646341  | 0.2439024  | 0.2621951  | 0.2621951  | E          |\n",
       "| User379647 | 0.1768293  | 0.1524390  | 0.1646341  | 0.2439024  | 0.2621951  | 0.2621951  | E          |\n",
       "| User379647 | 0.3057325  | 0.1783439  | 0.1464968  | 0.1719745  | 0.1974522  | 0.3057325  | R          |\n",
       "| User203147 | 0.2884615  | 0.1410256  | 0.1282051  | 0.2051282  | 0.2371795  | 0.2884615  | R          |\n",
       "| User203147 | 0.3012821  | 0.1858974  | 0.1538462  | 0.2051282  | 0.1538462  | 0.3012821  | R          |\n",
       "| User203147 | 0.3116883  | 0.1818182  | 0.1493506  | 0.2077922  | 0.1493506  | 0.3116883  | R          |\n",
       "| User648781 | 0.2916667  | 0.1547619  | 0.1428571  | 0.2202381  | 0.1904762  | 0.2916667  | R          |\n",
       "\n"
      ],
      "text/plain": [
       "   UserName   Reconnaissance Delivery  LateralMovement PrivilegeEscalation\n",
       "1  User288751 0.1847134      0.1910828 0.1592357       0.2356688          \n",
       "2  User288751 0.3144654      0.1509434 0.1509434       0.1949686          \n",
       "3  User288751 0.2316384      0.1638418 0.1355932       0.2429379          \n",
       "4  User288751 0.2466667      0.1933333 0.1600000       0.2200000          \n",
       "5  User396223 0.2590361      0.1566265 0.1445783       0.2168675          \n",
       "6  User341813 0.3584906      0.1761006 0.1572327       0.1698113          \n",
       "7  User341813 0.2721519      0.1265823 0.1392405       0.2151899          \n",
       "8  User091297 0.3664122      0.2061069 0.1221374       0.1526718          \n",
       "9  User379647 0.1768293      0.1524390 0.1646341       0.2439024          \n",
       "10 User379647 0.1768293      0.1524390 0.1646341       0.2439024          \n",
       "11 User379647 0.3057325      0.1783439 0.1464968       0.1719745          \n",
       "12 User203147 0.2884615      0.1410256 0.1282051       0.2051282          \n",
       "13 User203147 0.3012821      0.1858974 0.1538462       0.2051282          \n",
       "14 User203147 0.3116883      0.1818182 0.1493506       0.2077922          \n",
       "15 User648781 0.2916667      0.1547619 0.1428571       0.2202381          \n",
       "   Exfiltration Maximum   Cluster\n",
       "1  0.2292994    0.2356688 PE     \n",
       "2  0.1886792    0.3144654 R      \n",
       "3  0.2259887    0.2429379 PE     \n",
       "4  0.1800000    0.2466667 R      \n",
       "5  0.2228916    0.2590361 R      \n",
       "6  0.1383648    0.3584906 R      \n",
       "7  0.2468354    0.2721519 R      \n",
       "8  0.1526718    0.3664122 R      \n",
       "9  0.2621951    0.2621951 E      \n",
       "10 0.2621951    0.2621951 E      \n",
       "11 0.1974522    0.3057325 R      \n",
       "12 0.2371795    0.2884615 R      \n",
       "13 0.1538462    0.3012821 R      \n",
       "14 0.1493506    0.3116883 R      \n",
       "15 0.1904762    0.2916667 R      "
      ]
     },
     "metadata": {},
     "output_type": "display_data"
    }
   ],
   "source": [
    "head(Probs_with_clusters, 15)"
   ]
  },
  {
   "cell_type": "code",
   "execution_count": 14,
   "id": "c82ecb6d",
   "metadata": {},
   "outputs": [
    {
     "data": {
      "text/plain": [
       "\n",
       "    D     E    LM    PE     R \n",
       "  361  7771     8  2319 28253 "
      ]
     },
     "metadata": {},
     "output_type": "display_data"
    }
   ],
   "source": [
    "table(Probs_with_clusters$Cluster)"
   ]
  },
  {
   "cell_type": "code",
   "execution_count": 26,
   "id": "a9d4a1b3",
   "metadata": {},
   "outputs": [
    {
     "data": {
      "text/plain": [
       "\n",
       "    1     2     3     4     5 \n",
       " 9902  5469 11301  5522  6518 "
      ]
     },
     "metadata": {},
     "output_type": "display_data"
    },
    {
     "data": {
      "image/png": "[encoded data removed]",
      "text/plain": [
       "plot without title"
      ]
     },
     "metadata": {},
     "output_type": "display_data"
    }
   ],
   "source": [
    "K1 <- kmeans(Stages, centers=5, nstart = sample(1:nrow(Stages), size=1), algorithm=\"Lloyd\", iter.max = 10^4)\n",
    "table(K1$cluster)\n",
    "\n",
    "fviz_cluster(K1, data = Stages, geom = \"point\",\n",
    "             ellipse.type = \"convex\", \n",
    "             ggtheme = theme_bw()\n",
    "             )"
   ]
  },
  {
   "cell_type": "markdown",
   "id": "fb8c0cf4",
   "metadata": {},
   "source": [
    "#### Retrospective chronology: 2nd training phase"
   ]
  },
  {
   "cell_type": "code",
   "execution_count": 19,
   "id": "a41daac3",
   "metadata": {},
   "outputs": [
    {
     "data": {
      "text/html": [
       "<table>\n",
       "<thead><tr><th scope=col>UserName</th><th scope=col>Reconnaissance</th><th scope=col>Delivery</th><th scope=col>LateralMovement</th><th scope=col>PrivilegeEscalation</th><th scope=col>Exfiltration</th><th scope=col>Cluster</th></tr></thead>\n",
       "<tbody>\n",
       "\t<tr><td>User288751</td><td> 7.25     </td><td>7.50      </td><td>6.25      </td><td> 9.25     </td><td> 9.00     </td><td>PE        </td></tr>\n",
       "\t<tr><td>User288751</td><td>12.50     </td><td>6.00      </td><td>6.00      </td><td> 7.75     </td><td> 7.50     </td><td>R         </td></tr>\n",
       "\t<tr><td>User288751</td><td>10.25     </td><td>7.25      </td><td>6.00      </td><td>10.75     </td><td>10.00     </td><td>PE        </td></tr>\n",
       "\t<tr><td>User288751</td><td> 9.25     </td><td>7.25      </td><td>6.00      </td><td> 8.25     </td><td> 6.75     </td><td>R         </td></tr>\n",
       "\t<tr><td>User396223</td><td>10.75     </td><td>6.50      </td><td>6.00      </td><td> 9.00     </td><td> 9.25     </td><td>R         </td></tr>\n",
       "</tbody>\n",
       "</table>\n"
      ],
      "text/latex": [
       "\\begin{tabular}{r|lllllll}\n",
       " UserName & Reconnaissance & Delivery & LateralMovement & PrivilegeEscalation & Exfiltration & Cluster\\\\\n",
       "\\hline\n",
       "\t User288751 &  7.25      & 7.50       & 6.25       &  9.25      &  9.00      & PE        \\\\\n",
       "\t User288751 & 12.50      & 6.00       & 6.00       &  7.75      &  7.50      & R         \\\\\n",
       "\t User288751 & 10.25      & 7.25       & 6.00       & 10.75      & 10.00      & PE        \\\\\n",
       "\t User288751 &  9.25      & 7.25       & 6.00       &  8.25      &  6.75      & R         \\\\\n",
       "\t User396223 & 10.75      & 6.50       & 6.00       &  9.00      &  9.25      & R         \\\\\n",
       "\\end{tabular}\n"
      ],
      "text/markdown": [
       "\n",
       "| UserName | Reconnaissance | Delivery | LateralMovement | PrivilegeEscalation | Exfiltration | Cluster |\n",
       "|---|---|---|---|---|---|---|\n",
       "| User288751 |  7.25      | 7.50       | 6.25       |  9.25      |  9.00      | PE         |\n",
       "| User288751 | 12.50      | 6.00       | 6.00       |  7.75      |  7.50      | R          |\n",
       "| User288751 | 10.25      | 7.25       | 6.00       | 10.75      | 10.00      | PE         |\n",
       "| User288751 |  9.25      | 7.25       | 6.00       |  8.25      |  6.75      | R          |\n",
       "| User396223 | 10.75      | 6.50       | 6.00       |  9.00      |  9.25      | R          |\n",
       "\n"
      ],
      "text/plain": [
       "  UserName   Reconnaissance Delivery LateralMovement PrivilegeEscalation\n",
       "1 User288751  7.25          7.50     6.25             9.25              \n",
       "2 User288751 12.50          6.00     6.00             7.75              \n",
       "3 User288751 10.25          7.25     6.00            10.75              \n",
       "4 User288751  9.25          7.25     6.00             8.25              \n",
       "5 User396223 10.75          6.50     6.00             9.00              \n",
       "  Exfiltration Cluster\n",
       "1  9.00        PE     \n",
       "2  7.50        R      \n",
       "3 10.00        PE     \n",
       "4  6.75        R      \n",
       "5  9.25        R      "
      ]
     },
     "metadata": {},
     "output_type": "display_data"
    }
   ],
   "source": [
    "PWC <- as.data.frame(cbind(UserName = Probs_with_clusters$UserName, Stages, Cluster = Probs_with_clusters$Cluster))\n",
    "head(PWC, 5)"
   ]
  },
  {
   "cell_type": "code",
   "execution_count": 20,
   "id": "dbcb9d33",
   "metadata": {},
   "outputs": [
    {
     "data": {
      "text/html": [
       "94"
      ],
      "text/latex": [
       "94"
      ],
      "text/markdown": [
       "94"
      ],
      "text/plain": [
       "[1] 94"
      ]
     },
     "metadata": {},
     "output_type": "display_data"
    }
   ],
   "source": [
    "L <- as.list(unique(Probs_with_clusters$UserName))\n",
    "length(L)"
   ]
  },
  {
   "cell_type": "code",
   "execution_count": 72,
   "id": "390b1dbd",
   "metadata": {},
   "outputs": [],
   "source": [
    "RedistributeWeight <- function() {\n",
    "    df <- data.frame()\n",
    "    for(User in L) {        \n",
    "        data <- PWC[PWC$UserName==User, ]\n",
    "        data$Reconnaissance[1] <- data$Reconnaissance[1] + 2.5\n",
    "        data$Cluster[1] <- 'R'\n",
    "        if(nrow(data)>=2) {\n",
    "            M <- vector(len=nrow(data)-1)\n",
    "            for(i in 2:nrow(data)) {\n",
    "                M[i-1] <- max(c(data$Reconnaissance[i-1], data$Delivery[i-1], data$LateralMovement[i-1], data$PrivilegeEscalation[i-1], data$Exfiltration[i-1])) \n",
    "                if(M[i-1]==data$Reconnaissance[i-1]) {\n",
    "                    data$Reconnaissance[i] <- data$Reconnaissance[i] + 2\n",
    "                    data$Delivery[i] <- data$Delivery[i] + 2\n",
    "                }\n",
    "                if(M[i-1]==data$Delivery[i-1]) {\n",
    "                    data$LateralMovement[i] <- data$LateralMovement[i] + 2\n",
    "                    data$Delivery[i] <- data$Delivery[i] + 2\n",
    "                }\n",
    "                if(M[i-1]==data$LateralMovement[i-1]) {\n",
    "                    data$LateralMovement[i] <- data$LateralMovement[i] + 2\n",
    "                    data$PrivilegeEscalation[i] <- data$PrivilegeEscalation[i] + 2\n",
    "                }\n",
    "                if(M[i-1]==data$PrivilegeEscalation[i-1]) {\n",
    "                    data$PrivilegeEscalation[i] <- data$PrivilegeEscalation[i] + 2\n",
    "                    data$Exfiltration[i] <- data$Exfiltration[i] + 2\n",
    "                }\n",
    "                if(M[i-1]==data$Exfiltration[i-1]) {\n",
    "                    data$Exfiltration[i] <- data$Exfiltration[i] + 2\n",
    "                }\n",
    "            }\n",
    "        }\n",
    "        df <- as.data.frame(rbind(df, data))\n",
    "    }\n",
    "    UpdatedStages <<- df\n",
    "}"
   ]
  },
  {
   "cell_type": "code",
   "execution_count": 73,
   "id": "edfe788f",
   "metadata": {},
   "outputs": [],
   "source": [
    "RedistributeWeight()"
   ]
  },
  {
   "cell_type": "code",
   "execution_count": 74,
   "id": "cf307fda",
   "metadata": {},
   "outputs": [
    {
     "data": {
      "text/html": [
       "<table>\n",
       "<thead><tr><th></th><th scope=col>UserName</th><th scope=col>Reconnaissance</th><th scope=col>Delivery</th><th scope=col>LateralMovement</th><th scope=col>PrivilegeEscalation</th><th scope=col>Exfiltration</th><th scope=col>Cluster</th></tr></thead>\n",
       "<tbody>\n",
       "\t<tr><th scope=row>1</th><td>User288751</td><td> 9.75     </td><td> 7.50     </td><td>6.25      </td><td> 9.25     </td><td> 9.00     </td><td>R         </td></tr>\n",
       "\t<tr><th scope=row>2</th><td>User288751</td><td>14.50     </td><td> 8.00     </td><td>6.00      </td><td> 7.75     </td><td> 7.50     </td><td>R         </td></tr>\n",
       "\t<tr><th scope=row>3</th><td>User288751</td><td>12.25     </td><td> 9.25     </td><td>6.00      </td><td>10.75     </td><td>10.00     </td><td>PE        </td></tr>\n",
       "\t<tr><th scope=row>4</th><td>User288751</td><td>11.25     </td><td> 9.25     </td><td>6.00      </td><td> 8.25     </td><td> 6.75     </td><td>R         </td></tr>\n",
       "\t<tr><th scope=row>78</th><td>User288751</td><td>12.75     </td><td> 8.25     </td><td>5.75      </td><td> 7.50     </td><td> 7.50     </td><td>R         </td></tr>\n",
       "\t<tr><th scope=row>243</th><td>User288751</td><td>11.25     </td><td>10.75     </td><td>6.00      </td><td> 9.50     </td><td> 8.50     </td><td>PE        </td></tr>\n",
       "</tbody>\n",
       "</table>\n"
      ],
      "text/latex": [
       "\\begin{tabular}{r|lllllll}\n",
       "  & UserName & Reconnaissance & Delivery & LateralMovement & PrivilegeEscalation & Exfiltration & Cluster\\\\\n",
       "\\hline\n",
       "\t1 & User288751 &  9.75      &  7.50      & 6.25       &  9.25      &  9.00      & R         \\\\\n",
       "\t2 & User288751 & 14.50      &  8.00      & 6.00       &  7.75      &  7.50      & R         \\\\\n",
       "\t3 & User288751 & 12.25      &  9.25      & 6.00       & 10.75      & 10.00      & PE        \\\\\n",
       "\t4 & User288751 & 11.25      &  9.25      & 6.00       &  8.25      &  6.75      & R         \\\\\n",
       "\t78 & User288751 & 12.75      &  8.25      & 5.75       &  7.50      &  7.50      & R         \\\\\n",
       "\t243 & User288751 & 11.25      & 10.75      & 6.00       &  9.50      &  8.50      & PE        \\\\\n",
       "\\end{tabular}\n"
      ],
      "text/markdown": [
       "\n",
       "| <!--/--> | UserName | Reconnaissance | Delivery | LateralMovement | PrivilegeEscalation | Exfiltration | Cluster |\n",
       "|---|---|---|---|---|---|---|---|\n",
       "| 1 | User288751 |  9.75      |  7.50      | 6.25       |  9.25      |  9.00      | R          |\n",
       "| 2 | User288751 | 14.50      |  8.00      | 6.00       |  7.75      |  7.50      | R          |\n",
       "| 3 | User288751 | 12.25      |  9.25      | 6.00       | 10.75      | 10.00      | PE         |\n",
       "| 4 | User288751 | 11.25      |  9.25      | 6.00       |  8.25      |  6.75      | R          |\n",
       "| 78 | User288751 | 12.75      |  8.25      | 5.75       |  7.50      |  7.50      | R          |\n",
       "| 243 | User288751 | 11.25      | 10.75      | 6.00       |  9.50      |  8.50      | PE         |\n",
       "\n"
      ],
      "text/plain": [
       "    UserName   Reconnaissance Delivery LateralMovement PrivilegeEscalation\n",
       "1   User288751  9.75           7.50    6.25             9.25              \n",
       "2   User288751 14.50           8.00    6.00             7.75              \n",
       "3   User288751 12.25           9.25    6.00            10.75              \n",
       "4   User288751 11.25           9.25    6.00             8.25              \n",
       "78  User288751 12.75           8.25    5.75             7.50              \n",
       "243 User288751 11.25          10.75    6.00             9.50              \n",
       "    Exfiltration Cluster\n",
       "1    9.00        R      \n",
       "2    7.50        R      \n",
       "3   10.00        PE     \n",
       "4    6.75        R      \n",
       "78   7.50        R      \n",
       "243  8.50        PE     "
      ]
     },
     "metadata": {},
     "output_type": "display_data"
    }
   ],
   "source": [
    "head(UpdatedStages)"
   ]
  },
  {
   "cell_type": "code",
   "execution_count": 75,
   "id": "b08fb35d",
   "metadata": {},
   "outputs": [],
   "source": [
    "US <- UpdatedStages[order(as.numeric(rownames(UpdatedStages)), decreasing=FALSE), ]"
   ]
  },
  {
   "cell_type": "code",
   "execution_count": 76,
   "id": "2d7e9c11",
   "metadata": {},
   "outputs": [],
   "source": [
    "Stages <- US[, -c(1,7)]"
   ]
  },
  {
   "cell_type": "code",
   "execution_count": 77,
   "id": "6da2840e",
   "metadata": {},
   "outputs": [
    {
     "data": {
      "text/html": [
       "<table>\n",
       "<thead><tr><th scope=col>Reconnaissance</th><th scope=col>Delivery</th><th scope=col>LateralMovement</th><th scope=col>PrivilegeEscalation</th><th scope=col>Exfiltration</th></tr></thead>\n",
       "<tbody>\n",
       "\t<tr><td> 9.75</td><td>7.50 </td><td>6.25 </td><td> 9.25</td><td> 9.00</td></tr>\n",
       "\t<tr><td>14.50</td><td>8.00 </td><td>6.00 </td><td> 7.75</td><td> 7.50</td></tr>\n",
       "\t<tr><td>12.25</td><td>9.25 </td><td>6.00 </td><td>10.75</td><td>10.00</td></tr>\n",
       "\t<tr><td>11.25</td><td>9.25 </td><td>6.00 </td><td> 8.25</td><td> 6.75</td></tr>\n",
       "\t<tr><td>13.25</td><td>6.50 </td><td>6.00 </td><td> 9.00</td><td> 9.25</td></tr>\n",
       "\t<tr><td>16.75</td><td>7.00 </td><td>6.25 </td><td> 6.75</td><td> 5.50</td></tr>\n",
       "</tbody>\n",
       "</table>\n"
      ],
      "text/latex": [
       "\\begin{tabular}{r|lllll}\n",
       " Reconnaissance & Delivery & LateralMovement & PrivilegeEscalation & Exfiltration\\\\\n",
       "\\hline\n",
       "\t  9.75 & 7.50  & 6.25  &  9.25 &  9.00\\\\\n",
       "\t 14.50 & 8.00  & 6.00  &  7.75 &  7.50\\\\\n",
       "\t 12.25 & 9.25  & 6.00  & 10.75 & 10.00\\\\\n",
       "\t 11.25 & 9.25  & 6.00  &  8.25 &  6.75\\\\\n",
       "\t 13.25 & 6.50  & 6.00  &  9.00 &  9.25\\\\\n",
       "\t 16.75 & 7.00  & 6.25  &  6.75 &  5.50\\\\\n",
       "\\end{tabular}\n"
      ],
      "text/markdown": [
       "\n",
       "| Reconnaissance | Delivery | LateralMovement | PrivilegeEscalation | Exfiltration |\n",
       "|---|---|---|---|---|\n",
       "|  9.75 | 7.50  | 6.25  |  9.25 |  9.00 |\n",
       "| 14.50 | 8.00  | 6.00  |  7.75 |  7.50 |\n",
       "| 12.25 | 9.25  | 6.00  | 10.75 | 10.00 |\n",
       "| 11.25 | 9.25  | 6.00  |  8.25 |  6.75 |\n",
       "| 13.25 | 6.50  | 6.00  |  9.00 |  9.25 |\n",
       "| 16.75 | 7.00  | 6.25  |  6.75 |  5.50 |\n",
       "\n"
      ],
      "text/plain": [
       "  Reconnaissance Delivery LateralMovement PrivilegeEscalation Exfiltration\n",
       "1  9.75          7.50     6.25             9.25                9.00       \n",
       "2 14.50          8.00     6.00             7.75                7.50       \n",
       "3 12.25          9.25     6.00            10.75               10.00       \n",
       "4 11.25          9.25     6.00             8.25                6.75       \n",
       "5 13.25          6.50     6.00             9.00                9.25       \n",
       "6 16.75          7.00     6.25             6.75                5.50       "
      ]
     },
     "metadata": {},
     "output_type": "display_data"
    }
   ],
   "source": [
    "head(Stages)"
   ]
  },
  {
   "cell_type": "code",
   "execution_count": 78,
   "id": "10d20500",
   "metadata": {},
   "outputs": [],
   "source": [
    "StageAssignExpect()"
   ]
  },
  {
   "cell_type": "code",
   "execution_count": 79,
   "id": "cf195e87",
   "metadata": {},
   "outputs": [
    {
     "data": {
      "text/html": [
       "<table>\n",
       "<thead><tr><th scope=col>UserName</th><th scope=col>Reconnaissance</th><th scope=col>Delivery</th><th scope=col>LateralMovement</th><th scope=col>PrivilegeEscalation</th><th scope=col>Exfiltration</th><th scope=col>Maximum</th><th scope=col>Cluster</th></tr></thead>\n",
       "<tbody>\n",
       "\t<tr><td>User288751</td><td>0.2335329 </td><td>0.1796407 </td><td>0.1497006 </td><td>0.2215569 </td><td>0.2155689 </td><td>0.2335329 </td><td>R         </td></tr>\n",
       "\t<tr><td>User288751</td><td>0.3314286 </td><td>0.1828571 </td><td>0.1371429 </td><td>0.1771429 </td><td>0.1714286 </td><td>0.3314286 </td><td>R         </td></tr>\n",
       "\t<tr><td>User288751</td><td>0.2538860 </td><td>0.1917098 </td><td>0.1243523 </td><td>0.2227979 </td><td>0.2072539 </td><td>0.2538860 </td><td>R         </td></tr>\n",
       "\t<tr><td>User288751</td><td>0.2710843 </td><td>0.2228916 </td><td>0.1445783 </td><td>0.1987952 </td><td>0.1626506 </td><td>0.2710843 </td><td>R         </td></tr>\n",
       "\t<tr><td>User396223</td><td>0.3011364 </td><td>0.1477273 </td><td>0.1363636 </td><td>0.2045455 </td><td>0.2102273 </td><td>0.3011364 </td><td>R         </td></tr>\n",
       "\t<tr><td>User341813</td><td>0.3964497 </td><td>0.1656805 </td><td>0.1479290 </td><td>0.1597633 </td><td>0.1301775 </td><td>0.3964497 </td><td>R         </td></tr>\n",
       "\t<tr><td>User341813</td><td>0.2931034 </td><td>0.1609195 </td><td>0.1264368 </td><td>0.1954023 </td><td>0.2241379 </td><td>0.2931034 </td><td>R         </td></tr>\n",
       "\t<tr><td>User091297</td><td>0.4113475 </td><td>0.1914894 </td><td>0.1134752 </td><td>0.1418440 </td><td>0.1418440 </td><td>0.4113475 </td><td>R         </td></tr>\n",
       "\t<tr><td>User379647</td><td>0.2241379 </td><td>0.1436782 </td><td>0.1551724 </td><td>0.2298851 </td><td>0.2471264 </td><td>0.2471264 </td><td>E         </td></tr>\n",
       "\t<tr><td>User379647</td><td>0.1686047 </td><td>0.1453488 </td><td>0.1569767 </td><td>0.2325581 </td><td>0.2965116 </td><td>0.2965116 </td><td>E         </td></tr>\n",
       "</tbody>\n",
       "</table>\n"
      ],
      "text/latex": [
       "\\begin{tabular}{r|llllllll}\n",
       " UserName & Reconnaissance & Delivery & LateralMovement & PrivilegeEscalation & Exfiltration & Maximum & Cluster\\\\\n",
       "\\hline\n",
       "\t User288751 & 0.2335329  & 0.1796407  & 0.1497006  & 0.2215569  & 0.2155689  & 0.2335329  & R         \\\\\n",
       "\t User288751 & 0.3314286  & 0.1828571  & 0.1371429  & 0.1771429  & 0.1714286  & 0.3314286  & R         \\\\\n",
       "\t User288751 & 0.2538860  & 0.1917098  & 0.1243523  & 0.2227979  & 0.2072539  & 0.2538860  & R         \\\\\n",
       "\t User288751 & 0.2710843  & 0.2228916  & 0.1445783  & 0.1987952  & 0.1626506  & 0.2710843  & R         \\\\\n",
       "\t User396223 & 0.3011364  & 0.1477273  & 0.1363636  & 0.2045455  & 0.2102273  & 0.3011364  & R         \\\\\n",
       "\t User341813 & 0.3964497  & 0.1656805  & 0.1479290  & 0.1597633  & 0.1301775  & 0.3964497  & R         \\\\\n",
       "\t User341813 & 0.2931034  & 0.1609195  & 0.1264368  & 0.1954023  & 0.2241379  & 0.2931034  & R         \\\\\n",
       "\t User091297 & 0.4113475  & 0.1914894  & 0.1134752  & 0.1418440  & 0.1418440  & 0.4113475  & R         \\\\\n",
       "\t User379647 & 0.2241379  & 0.1436782  & 0.1551724  & 0.2298851  & 0.2471264  & 0.2471264  & E         \\\\\n",
       "\t User379647 & 0.1686047  & 0.1453488  & 0.1569767  & 0.2325581  & 0.2965116  & 0.2965116  & E         \\\\\n",
       "\\end{tabular}\n"
      ],
      "text/markdown": [
       "\n",
       "| UserName | Reconnaissance | Delivery | LateralMovement | PrivilegeEscalation | Exfiltration | Maximum | Cluster |\n",
       "|---|---|---|---|---|---|---|---|\n",
       "| User288751 | 0.2335329  | 0.1796407  | 0.1497006  | 0.2215569  | 0.2155689  | 0.2335329  | R          |\n",
       "| User288751 | 0.3314286  | 0.1828571  | 0.1371429  | 0.1771429  | 0.1714286  | 0.3314286  | R          |\n",
       "| User288751 | 0.2538860  | 0.1917098  | 0.1243523  | 0.2227979  | 0.2072539  | 0.2538860  | R          |\n",
       "| User288751 | 0.2710843  | 0.2228916  | 0.1445783  | 0.1987952  | 0.1626506  | 0.2710843  | R          |\n",
       "| User396223 | 0.3011364  | 0.1477273  | 0.1363636  | 0.2045455  | 0.2102273  | 0.3011364  | R          |\n",
       "| User341813 | 0.3964497  | 0.1656805  | 0.1479290  | 0.1597633  | 0.1301775  | 0.3964497  | R          |\n",
       "| User341813 | 0.2931034  | 0.1609195  | 0.1264368  | 0.1954023  | 0.2241379  | 0.2931034  | R          |\n",
       "| User091297 | 0.4113475  | 0.1914894  | 0.1134752  | 0.1418440  | 0.1418440  | 0.4113475  | R          |\n",
       "| User379647 | 0.2241379  | 0.1436782  | 0.1551724  | 0.2298851  | 0.2471264  | 0.2471264  | E          |\n",
       "| User379647 | 0.1686047  | 0.1453488  | 0.1569767  | 0.2325581  | 0.2965116  | 0.2965116  | E          |\n",
       "\n"
      ],
      "text/plain": [
       "   UserName   Reconnaissance Delivery  LateralMovement PrivilegeEscalation\n",
       "1  User288751 0.2335329      0.1796407 0.1497006       0.2215569          \n",
       "2  User288751 0.3314286      0.1828571 0.1371429       0.1771429          \n",
       "3  User288751 0.2538860      0.1917098 0.1243523       0.2227979          \n",
       "4  User288751 0.2710843      0.2228916 0.1445783       0.1987952          \n",
       "5  User396223 0.3011364      0.1477273 0.1363636       0.2045455          \n",
       "6  User341813 0.3964497      0.1656805 0.1479290       0.1597633          \n",
       "7  User341813 0.2931034      0.1609195 0.1264368       0.1954023          \n",
       "8  User091297 0.4113475      0.1914894 0.1134752       0.1418440          \n",
       "9  User379647 0.2241379      0.1436782 0.1551724       0.2298851          \n",
       "10 User379647 0.1686047      0.1453488 0.1569767       0.2325581          \n",
       "   Exfiltration Maximum   Cluster\n",
       "1  0.2155689    0.2335329 R      \n",
       "2  0.1714286    0.3314286 R      \n",
       "3  0.2072539    0.2538860 R      \n",
       "4  0.1626506    0.2710843 R      \n",
       "5  0.2102273    0.3011364 R      \n",
       "6  0.1301775    0.3964497 R      \n",
       "7  0.2241379    0.2931034 R      \n",
       "8  0.1418440    0.4113475 R      \n",
       "9  0.2471264    0.2471264 E      \n",
       "10 0.2965116    0.2965116 E      "
      ]
     },
     "metadata": {},
     "output_type": "display_data"
    }
   ],
   "source": [
    "head(Probs_with_clusters, 10)"
   ]
  },
  {
   "cell_type": "code",
   "execution_count": 80,
   "id": "d5096a15",
   "metadata": {},
   "outputs": [
    {
     "data": {
      "text/plain": [
       "\n",
       "    D     E    LM    PE     R \n",
       " 1480  7394    10   160 29668 "
      ]
     },
     "metadata": {},
     "output_type": "display_data"
    }
   ],
   "source": [
    "table(Probs_with_clusters$Cluster)"
   ]
  },
  {
   "cell_type": "code",
   "execution_count": 83,
   "id": "54d93d8d",
   "metadata": {},
   "outputs": [
    {
     "data": {
      "text/plain": [
       "\n",
       "    1     2     3     4     5 \n",
       " 5319  6630  9659 10528  6576 "
      ]
     },
     "metadata": {},
     "output_type": "display_data"
    },
    {
     "data": {
      "image/png": "[encoded data removed]",
      "text/plain": [
       "plot without title"
      ]
     },
     "metadata": {},
     "output_type": "display_data"
    }
   ],
   "source": [
    "K1 <- kmeans(Stages, centers=5, nstart = sample(1:nrow(Stages), size=1), algorithm=\"Lloyd\", iter.max = 10^4)\n",
    "table(K1$cluster)\n",
    "\n",
    "fviz_cluster(K1, data = Stages, geom = \"point\",\n",
    "             ellipse.type = \"convex\", \n",
    "             ggtheme = theme_bw()\n",
    "             )"
   ]
  }
 ],
 "metadata": {
  "kernelspec": {
   "display_name": "R",
   "language": "R",
   "name": "ir"
  },
  "language_info": {
   "codemirror_mode": "r",
   "file_extension": ".r",
   "mimetype": "text/x-r-source",
   "name": "R",
   "pygments_lexer": "r",
   "version": "3.6.1"
  }
 },
 "nbformat": 4,
 "nbformat_minor": 5
}
