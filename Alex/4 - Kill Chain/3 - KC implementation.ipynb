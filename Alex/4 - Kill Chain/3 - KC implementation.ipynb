{
 "cells": [
  {
   "cell_type": "markdown",
   "id": "c422c9e0",
   "metadata": {},
   "source": [
    "## Kill-Chain stages classification algorithm\n",
    "#### Implementation and performance testing\n",
    "\n",
    "_Note: This paper contains the implementation, as well as the results obtained by our team for the secondary purpose of KC implementation. However, the data used as set of anomalies has been previously identfied by my colleagues. I highly recommend visiting their work [here](https://github.com/Galeforse/Advanced-Cyber-Analytics-for-Attack-Detection/tree/main/Matt/2%20-%20Anomaly%20Detection), as well as downloading the obtained set of anomalies, found [here](https://github.com/Galeforse/Advanced-Cyber-Analytics-for-Attack-Detection/blob/main/Data/FinalAnomalies.txt)_.\n",
    "\n",
    "\n",
    "In this paper we aim to finalise our work by making use of the previously identified set of anomalies towards the purpose of red_team classification in one of the 5 KC stages we isolated. The stages we will refer to are, chronologically: Reconnaissance, Delivery, Lateral Movement, Privilege Escalation and Exfiltration. To better understand how and why we came up with precisely these stages, you can find all research done [here](https://github.com/Galeforse/Advanced-Cyber-Analytics-for-Attack-Detection/blob/main/Alex/4%20-%20Kill%20Chain/1%20-%20Kill%20chain%20research.ipynb). Our choice is the result of considering both 7-stages, as well as 8-stages models of the KC and fitting them to our data. We only consider those stages that we believe we can positively identify within our data.\n",
    "\n",
    "We split our work into the following sections:\n",
    "\n",
    "\n",
    "    1. Introduction and clustering methods\n",
    "\n",
    "    2. Classification algorithm and initial results\n",
    "    \n",
    "    3. Second training phase: Retrospective chronology\n",
    "    \n",
    "    4. Final results and conclusions\n",
    "    \n",
    "We require the following packages for our work:"
   ]
  },
  {
   "cell_type": "code",
   "execution_count": 3,
   "id": "f9e0644e",
   "metadata": {},
   "outputs": [],
   "source": [
    "# install.packages(c(\"factoextra\", \"ggpubr\", \"dplyr\", \"qqman\", \"svMisc\", \"qlcMatrix\"))\n",
    "library(qlcMatrix)\n",
    "library(ggpubr)\n",
    "library(factoextra)\n",
    "library(dplyr)\n",
    "library(qqman)\n",
    "library(svMisc)"
   ]
  },
  {
   "cell_type": "markdown",
   "id": "60e024f9",
   "metadata": {},
   "source": [
    "### 1. Introduction and clustering methods\n",
    "\n",
    "For the purpose of group classification, the first tool that comes to mind is clustering. However, there are multiple layers to properly applying a grouping method to a specific end, in our case classification of every event in one of 5 possible outcomes. While we won't use a clustering approach for obtaining our classification results, it is the only reliable tool our team has identified towards verifying our results, at least to some degree of certitude. The first problem we identified was that most clustering approaches compare strictly numerical values, often exploiting mathematical relations between the values. Secondly, on boundary instances where events move from one stage to the other we expect smooth transitions. It is unlikely that a username's activity will switch from appearing as StageN to StageN+1 in an instant, so overlap of clusters is not only expected, but desired to the extent it highlights these transitions. Therefore, HDBSCAN strategies are ruled out before the start. Moreover, because we're interested in a specific number of K=5 clusters, the incentive is towards using K-means rather than DBSCAN. However, we will allow for multiple shapes rather than plain ellipsoids.\n",
    "\n",
    "We will begin by testing our clustering technique on an older set of anomalies, that we considered before obtaining our final red_team data. This set remains within our [data folder](https://github.com/Galeforse/Advanced-Cyber-Analytics-for-Attack-Detection/tree/main/Data) for record purposes only, as it features nowhere else in our work. It can still be found [here](https://github.com/Galeforse/Advanced-Cyber-Analytics-for-Attack-Detection/blob/main/Data/FormerAnomalies.txt). I load it locally, to avoid memory concerns. However, it can be accessed directly from the source provided:"
   ]
  },
  {
   "cell_type": "code",
   "execution_count": 57,
   "id": "dc5231a1",
   "metadata": {},
   "outputs": [
    {
     "data": {
      "text/html": [
       "<table>\n",
       "<thead><tr><th scope=col>UserName</th><th scope=col>SrcDevice</th><th scope=col>DstDevice</th><th scope=col>Authent.Type</th><th scope=col>Failure</th><th scope=col>DailyCount</th></tr></thead>\n",
       "<tbody>\n",
       "\t<tr><td>User341813  </td><td>Comp948451  </td><td>Comp915658  </td><td>NetworkLogon</td><td>0           </td><td>1           </td></tr>\n",
       "\t<tr><td>User341813  </td><td>Comp948451  </td><td>Comp915658  </td><td>NetworkLogon</td><td>0           </td><td>1           </td></tr>\n",
       "\t<tr><td>User341813  </td><td>Comp948451  </td><td>Comp915658  </td><td>NetworkLogon</td><td>0           </td><td>1           </td></tr>\n",
       "\t<tr><td>User341813  </td><td>Comp948451  </td><td>Comp915658  </td><td>NetworkLogon</td><td>0           </td><td>1           </td></tr>\n",
       "\t<tr><td>User341813  </td><td>Comp948451  </td><td>Comp915658  </td><td>NetworkLogon</td><td>0           </td><td>1           </td></tr>\n",
       "\t<tr><td>User341813  </td><td>Comp948451  </td><td>Comp915658  </td><td>NetworkLogon</td><td>0           </td><td>1           </td></tr>\n",
       "\t<tr><td>User341813  </td><td>Comp948451  </td><td>Comp915658  </td><td>NetworkLogon</td><td>0           </td><td>1           </td></tr>\n",
       "\t<tr><td>User341813  </td><td>Comp948451  </td><td>Comp915658  </td><td>NetworkLogon</td><td>0           </td><td>1           </td></tr>\n",
       "\t<tr><td>User341813  </td><td>Comp948451  </td><td>Comp004340  </td><td>TGS         </td><td>0           </td><td>1           </td></tr>\n",
       "\t<tr><td>User341813  </td><td>Comp948451  </td><td>Comp004340  </td><td>TGS         </td><td>0           </td><td>1           </td></tr>\n",
       "</tbody>\n",
       "</table>\n"
      ],
      "text/latex": [
       "\\begin{tabular}{r|llllll}\n",
       " UserName & SrcDevice & DstDevice & Authent.Type & Failure & DailyCount\\\\\n",
       "\\hline\n",
       "\t User341813   & Comp948451   & Comp915658   & NetworkLogon & 0            & 1           \\\\\n",
       "\t User341813   & Comp948451   & Comp915658   & NetworkLogon & 0            & 1           \\\\\n",
       "\t User341813   & Comp948451   & Comp915658   & NetworkLogon & 0            & 1           \\\\\n",
       "\t User341813   & Comp948451   & Comp915658   & NetworkLogon & 0            & 1           \\\\\n",
       "\t User341813   & Comp948451   & Comp915658   & NetworkLogon & 0            & 1           \\\\\n",
       "\t User341813   & Comp948451   & Comp915658   & NetworkLogon & 0            & 1           \\\\\n",
       "\t User341813   & Comp948451   & Comp915658   & NetworkLogon & 0            & 1           \\\\\n",
       "\t User341813   & Comp948451   & Comp915658   & NetworkLogon & 0            & 1           \\\\\n",
       "\t User341813   & Comp948451   & Comp004340   & TGS          & 0            & 1           \\\\\n",
       "\t User341813   & Comp948451   & Comp004340   & TGS          & 0            & 1           \\\\\n",
       "\\end{tabular}\n"
      ],
      "text/markdown": [
       "\n",
       "| UserName | SrcDevice | DstDevice | Authent.Type | Failure | DailyCount |\n",
       "|---|---|---|---|---|---|\n",
       "| User341813   | Comp948451   | Comp915658   | NetworkLogon | 0            | 1            |\n",
       "| User341813   | Comp948451   | Comp915658   | NetworkLogon | 0            | 1            |\n",
       "| User341813   | Comp948451   | Comp915658   | NetworkLogon | 0            | 1            |\n",
       "| User341813   | Comp948451   | Comp915658   | NetworkLogon | 0            | 1            |\n",
       "| User341813   | Comp948451   | Comp915658   | NetworkLogon | 0            | 1            |\n",
       "| User341813   | Comp948451   | Comp915658   | NetworkLogon | 0            | 1            |\n",
       "| User341813   | Comp948451   | Comp915658   | NetworkLogon | 0            | 1            |\n",
       "| User341813   | Comp948451   | Comp915658   | NetworkLogon | 0            | 1            |\n",
       "| User341813   | Comp948451   | Comp004340   | TGS          | 0            | 1            |\n",
       "| User341813   | Comp948451   | Comp004340   | TGS          | 0            | 1            |\n",
       "\n"
      ],
      "text/plain": [
       "   UserName   SrcDevice  DstDevice  Authent.Type Failure DailyCount\n",
       "1  User341813 Comp948451 Comp915658 NetworkLogon 0       1         \n",
       "2  User341813 Comp948451 Comp915658 NetworkLogon 0       1         \n",
       "3  User341813 Comp948451 Comp915658 NetworkLogon 0       1         \n",
       "4  User341813 Comp948451 Comp915658 NetworkLogon 0       1         \n",
       "5  User341813 Comp948451 Comp915658 NetworkLogon 0       1         \n",
       "6  User341813 Comp948451 Comp915658 NetworkLogon 0       1         \n",
       "7  User341813 Comp948451 Comp915658 NetworkLogon 0       1         \n",
       "8  User341813 Comp948451 Comp915658 NetworkLogon 0       1         \n",
       "9  User341813 Comp948451 Comp004340 TGS          0       1         \n",
       "10 User341813 Comp948451 Comp004340 TGS          0       1         "
      ]
     },
     "metadata": {},
     "output_type": "display_data"
    },
    {
     "data": {
      "text/html": [
       "<ol class=list-inline>\n",
       "\t<li>20412</li>\n",
       "\t<li>6</li>\n",
       "</ol>\n"
      ],
      "text/latex": [
       "\\begin{enumerate*}\n",
       "\\item 20412\n",
       "\\item 6\n",
       "\\end{enumerate*}\n"
      ],
      "text/markdown": [
       "1. 20412\n",
       "2. 6\n",
       "\n",
       "\n"
      ],
      "text/plain": [
       "[1] 20412     6"
      ]
     },
     "metadata": {},
     "output_type": "display_data"
    },
    {
     "name": "stdout",
     "output_type": "stream",
     "text": [
      "'data.frame':\t20412 obs. of  6 variables:\n",
      " $ UserName    : Factor w/ 81 levels \"Administrator\",..: 30 30 30 30 30 30 30 30 30 30 ...\n",
      " $ SrcDevice   : Factor w/ 489 levels \"ActiveDirectory\",..: 460 460 460 460 460 460 460 460 460 460 ...\n",
      " $ DstDevice   : Factor w/ 288 levels \"ActiveDirectory\",..: 258 258 258 258 258 258 258 258 2 2 ...\n",
      " $ Authent.Type: Factor w/ 12 levels \"Batch\",\"CachedInteractive\",..: 4 4 4 4 4 4 4 4 9 9 ...\n",
      " $ Failure     : int  0 0 0 0 0 0 0 0 0 0 ...\n",
      " $ DailyCount  : num  1 1 1 1 1 1 1 1 1 1 ...\n"
     ]
    }
   ],
   "source": [
    "setwd(\"D://LA//ATI Data\")\n",
    "df <- read.table(file=\"Anomalies.txt\", header=T, sep=\",\")\n",
    "df<- df[,-1]\n",
    "\n",
    "head(df, 10)\n",
    "dim(df)\n",
    "str(df)"
   ]
  },
  {
   "cell_type": "markdown",
   "id": "8f4c1ca7",
   "metadata": {},
   "source": [
    "We change the factors to strings so we can better manipulate the data."
   ]
  },
  {
   "cell_type": "code",
   "execution_count": 58,
   "id": "0457d4f5",
   "metadata": {},
   "outputs": [
    {
     "name": "stdout",
     "output_type": "stream",
     "text": [
      "'data.frame':\t20412 obs. of  6 variables:\n",
      " $ UserName    : chr  \"User341813\" \"User341813\" \"User341813\" \"User341813\" ...\n",
      " $ SrcDevice   : chr  \"Comp948451\" \"Comp948451\" \"Comp948451\" \"Comp948451\" ...\n",
      " $ DstDevice   : chr  \"Comp915658\" \"Comp915658\" \"Comp915658\" \"Comp915658\" ...\n",
      " $ Authent.Type: chr  \"NetworkLogon\" \"NetworkLogon\" \"NetworkLogon\" \"NetworkLogon\" ...\n",
      " $ Failure     : int  0 0 0 0 0 0 0 0 0 0 ...\n",
      " $ DailyCount  : num  1 1 1 1 1 1 1 1 1 1 ...\n"
     ]
    }
   ],
   "source": [
    "df %>% mutate(across(where(is.factor), as.character)) -> df\n",
    "\n",
    "str(df)"
   ]
  },
  {
   "cell_type": "markdown",
   "id": "793a3df9",
   "metadata": {},
   "source": [
    "As mentioned above, we will require our feature to be numerical in order to deploy clustering techniques. We translate all our connections to exact values:"
   ]
  },
  {
   "cell_type": "code",
   "execution_count": 59,
   "id": "310da583",
   "metadata": {},
   "outputs": [
    {
     "data": {
      "text/html": [
       "<table>\n",
       "<thead><tr><th scope=col>t1</th><th scope=col>t2</th><th scope=col>t3</th><th scope=col>t4</th><th scope=col>t5</th><th scope=col>t6</th></tr></thead>\n",
       "<tbody>\n",
       "\t<tr><td>30 </td><td>460</td><td>258</td><td>4  </td><td>0  </td><td>1  </td></tr>\n",
       "\t<tr><td>30 </td><td>460</td><td>258</td><td>4  </td><td>0  </td><td>1  </td></tr>\n",
       "\t<tr><td>30 </td><td>460</td><td>258</td><td>4  </td><td>0  </td><td>1  </td></tr>\n",
       "\t<tr><td>30 </td><td>460</td><td>258</td><td>4  </td><td>0  </td><td>1  </td></tr>\n",
       "\t<tr><td>30 </td><td>460</td><td>258</td><td>4  </td><td>0  </td><td>1  </td></tr>\n",
       "\t<tr><td>30 </td><td>460</td><td>258</td><td>4  </td><td>0  </td><td>1  </td></tr>\n",
       "</tbody>\n",
       "</table>\n"
      ],
      "text/latex": [
       "\\begin{tabular}{llllll}\n",
       " t1 & t2 & t3 & t4 & t5 & t6\\\\\n",
       "\\hline\n",
       "\t 30  & 460 & 258 & 4   & 0   & 1  \\\\\n",
       "\t 30  & 460 & 258 & 4   & 0   & 1  \\\\\n",
       "\t 30  & 460 & 258 & 4   & 0   & 1  \\\\\n",
       "\t 30  & 460 & 258 & 4   & 0   & 1  \\\\\n",
       "\t 30  & 460 & 258 & 4   & 0   & 1  \\\\\n",
       "\t 30  & 460 & 258 & 4   & 0   & 1  \\\\\n",
       "\\end{tabular}\n"
      ],
      "text/markdown": [
       "\n",
       "| t1 | t2 | t3 | t4 | t5 | t6 |\n",
       "|---|---|---|---|---|---|\n",
       "| 30  | 460 | 258 | 4   | 0   | 1   |\n",
       "| 30  | 460 | 258 | 4   | 0   | 1   |\n",
       "| 30  | 460 | 258 | 4   | 0   | 1   |\n",
       "| 30  | 460 | 258 | 4   | 0   | 1   |\n",
       "| 30  | 460 | 258 | 4   | 0   | 1   |\n",
       "| 30  | 460 | 258 | 4   | 0   | 1   |\n",
       "\n"
      ],
      "text/plain": [
       "     t1 t2  t3  t4 t5 t6\n",
       "[1,] 30 460 258 4  0  1 \n",
       "[2,] 30 460 258 4  0  1 \n",
       "[3,] 30 460 258 4  0  1 \n",
       "[4,] 30 460 258 4  0  1 \n",
       "[5,] 30 460 258 4  0  1 \n",
       "[6,] 30 460 258 4  0  1 "
      ]
     },
     "metadata": {},
     "output_type": "display_data"
    }
   ],
   "source": [
    "t1<- tapply(df[,1], df[,1])\n",
    "t2<- tapply(df[,2], df[,2])\n",
    "t3<- tapply(df[,3], df[,3])\n",
    "t4<- tapply(df[,4], df[,4])\n",
    "\n",
    "Anom <- cbind(t1,t2,t3,t4, t5=df$Failure, t6=df$DailyCount)\n",
    "\n",
    "head(Anom)"
   ]
  },
  {
   "cell_type": "markdown",
   "id": "1f7696b1",
   "metadata": {},
   "source": [
    "Finally, we initialize our first attempt at clustering. We will use a randomly selected start point, on 5 centers (one for each stage). The algorithm of choice will resort to the default, 'Lloyd':"
   ]
  },
  {
   "cell_type": "code",
   "execution_count": 60,
   "id": "a4455d90",
   "metadata": {},
   "outputs": [],
   "source": [
    "set.seed(123)\n",
    "K <- kmeans(Anom, centers=5, nstart = 25, algorithm=\"Lloyd\", iter.max = 10^4)"
   ]
  },
  {
   "cell_type": "markdown",
   "id": "c57d290b",
   "metadata": {},
   "source": [
    "We visualize it using fviz():"
   ]
  },
  {
   "cell_type": "code",
   "execution_count": 61,
   "id": "02597428",
   "metadata": {},
   "outputs": [
    {
     "data": {
      "image/png": "[encoded data removed]",
      "text/plain": [
       "plot without title"
      ]
     },
     "metadata": {},
     "output_type": "display_data"
    }
   ],
   "source": [
    "fviz_cluster(K, data = Anom, geom = \"point\",\n",
    "             ellipse.type = \"convex\", \n",
    "             ggtheme = theme_bw()\n",
    "             )"
   ]
  },
  {
   "cell_type": "markdown",
   "id": "d276ee05",
   "metadata": {},
   "source": [
    "The following clusters were obtained:"
   ]
  },
  {
   "cell_type": "code",
   "execution_count": 62,
   "id": "b562c651",
   "metadata": {},
   "outputs": [
    {
     "data": {
      "text/plain": [
       "\n",
       "   1    2    3    4    5 \n",
       "5076 6160    8 4938 4230 "
      ]
     },
     "metadata": {},
     "output_type": "display_data"
    }
   ],
   "source": [
    "table(K$cluster)"
   ]
  },
  {
   "cell_type": "markdown",
   "id": "450468d9",
   "metadata": {},
   "source": [
    "These initial results are not representative of our final expectations, but certain trends can already be observed without any prior training. Particularly, the cluster with only 8 elements isolates 'outliers' from the other events that can be easily spotted by any competing model. We'll place the stages to classify the events within our data:"
   ]
  },
  {
   "cell_type": "code",
   "execution_count": 63,
   "id": "33522e85",
   "metadata": {},
   "outputs": [
    {
     "data": {
      "text/html": [
       "<table>\n",
       "<thead><tr><th scope=col>UserName</th><th scope=col>SrcDevice</th><th scope=col>DstDevice</th><th scope=col>Authent.Type</th><th scope=col>Failure</th><th scope=col>DailyCount</th><th scope=col>Cluster</th></tr></thead>\n",
       "<tbody>\n",
       "\t<tr><td>User341813  </td><td>Comp948451  </td><td>Comp915658  </td><td>NetworkLogon</td><td>0           </td><td>1           </td><td>2           </td></tr>\n",
       "\t<tr><td>User341813  </td><td>Comp948451  </td><td>Comp915658  </td><td>NetworkLogon</td><td>0           </td><td>1           </td><td>2           </td></tr>\n",
       "\t<tr><td>User341813  </td><td>Comp948451  </td><td>Comp915658  </td><td>NetworkLogon</td><td>0           </td><td>1           </td><td>2           </td></tr>\n",
       "\t<tr><td>User341813  </td><td>Comp948451  </td><td>Comp915658  </td><td>NetworkLogon</td><td>0           </td><td>1           </td><td>2           </td></tr>\n",
       "\t<tr><td>User341813  </td><td>Comp948451  </td><td>Comp915658  </td><td>NetworkLogon</td><td>0           </td><td>1           </td><td>2           </td></tr>\n",
       "\t<tr><td>User341813  </td><td>Comp948451  </td><td>Comp915658  </td><td>NetworkLogon</td><td>0           </td><td>1           </td><td>2           </td></tr>\n",
       "</tbody>\n",
       "</table>\n"
      ],
      "text/latex": [
       "\\begin{tabular}{r|lllllll}\n",
       " UserName & SrcDevice & DstDevice & Authent.Type & Failure & DailyCount & Cluster\\\\\n",
       "\\hline\n",
       "\t User341813   & Comp948451   & Comp915658   & NetworkLogon & 0            & 1            & 2           \\\\\n",
       "\t User341813   & Comp948451   & Comp915658   & NetworkLogon & 0            & 1            & 2           \\\\\n",
       "\t User341813   & Comp948451   & Comp915658   & NetworkLogon & 0            & 1            & 2           \\\\\n",
       "\t User341813   & Comp948451   & Comp915658   & NetworkLogon & 0            & 1            & 2           \\\\\n",
       "\t User341813   & Comp948451   & Comp915658   & NetworkLogon & 0            & 1            & 2           \\\\\n",
       "\t User341813   & Comp948451   & Comp915658   & NetworkLogon & 0            & 1            & 2           \\\\\n",
       "\\end{tabular}\n"
      ],
      "text/markdown": [
       "\n",
       "| UserName | SrcDevice | DstDevice | Authent.Type | Failure | DailyCount | Cluster |\n",
       "|---|---|---|---|---|---|---|\n",
       "| User341813   | Comp948451   | Comp915658   | NetworkLogon | 0            | 1            | 2            |\n",
       "| User341813   | Comp948451   | Comp915658   | NetworkLogon | 0            | 1            | 2            |\n",
       "| User341813   | Comp948451   | Comp915658   | NetworkLogon | 0            | 1            | 2            |\n",
       "| User341813   | Comp948451   | Comp915658   | NetworkLogon | 0            | 1            | 2            |\n",
       "| User341813   | Comp948451   | Comp915658   | NetworkLogon | 0            | 1            | 2            |\n",
       "| User341813   | Comp948451   | Comp915658   | NetworkLogon | 0            | 1            | 2            |\n",
       "\n"
      ],
      "text/plain": [
       "  UserName   SrcDevice  DstDevice  Authent.Type Failure DailyCount Cluster\n",
       "1 User341813 Comp948451 Comp915658 NetworkLogon 0       1          2      \n",
       "2 User341813 Comp948451 Comp915658 NetworkLogon 0       1          2      \n",
       "3 User341813 Comp948451 Comp915658 NetworkLogon 0       1          2      \n",
       "4 User341813 Comp948451 Comp915658 NetworkLogon 0       1          2      \n",
       "5 User341813 Comp948451 Comp915658 NetworkLogon 0       1          2      \n",
       "6 User341813 Comp948451 Comp915658 NetworkLogon 0       1          2      "
      ]
     },
     "metadata": {},
     "output_type": "display_data"
    }
   ],
   "source": [
    "data <- cbind(df, Cluster = K$cluster)\n",
    "\n",
    "head(data)"
   ]
  },
  {
   "cell_type": "markdown",
   "id": "34d87798",
   "metadata": {},
   "source": [
    "The smallest cluster is as follows:"
   ]
  },
  {
   "cell_type": "code",
   "execution_count": 64,
   "id": "5053050a",
   "metadata": {},
   "outputs": [
    {
     "data": {
      "text/html": [
       "<table>\n",
       "<thead><tr><th></th><th scope=col>UserName</th><th scope=col>SrcDevice</th><th scope=col>DstDevice</th><th scope=col>Authent.Type</th><th scope=col>Failure</th><th scope=col>DailyCount</th><th scope=col>Cluster</th></tr></thead>\n",
       "<tbody>\n",
       "\t<tr><th scope=row>13024</th><td>AppService         </td><td>EnterpriseAppServer</td><td>None               </td><td>InteractiveLogon   </td><td>1                  </td><td>17102              </td><td>3                  </td></tr>\n",
       "\t<tr><th scope=row>13117</th><td>AppService         </td><td>EnterpriseAppServer</td><td>None               </td><td>InteractiveLogon   </td><td>1                  </td><td>17112              </td><td>3                  </td></tr>\n",
       "\t<tr><th scope=row>13218</th><td>AppService         </td><td>EnterpriseAppServer</td><td>None               </td><td>InteractiveLogon   </td><td>1                  </td><td>17078              </td><td>3                  </td></tr>\n",
       "\t<tr><th scope=row>13219</th><td>AppService         </td><td>EnterpriseAppServer</td><td>None               </td><td>InteractiveLogon   </td><td>1                  </td><td>17078              </td><td>3                  </td></tr>\n",
       "\t<tr><th scope=row>13340</th><td>AppService         </td><td>EnterpriseAppServer</td><td>None               </td><td>InteractiveLogon   </td><td>1                  </td><td>17091              </td><td>3                  </td></tr>\n",
       "\t<tr><th scope=row>13395</th><td>AppService         </td><td>EnterpriseAppServer</td><td>None               </td><td>InteractiveLogon   </td><td>1                  </td><td>17092              </td><td>3                  </td></tr>\n",
       "\t<tr><th scope=row>13438</th><td>AppService         </td><td>EnterpriseAppServer</td><td>None               </td><td>InteractiveLogon   </td><td>1                  </td><td>17080              </td><td>3                  </td></tr>\n",
       "\t<tr><th scope=row>13663</th><td>AppService         </td><td>EnterpriseAppServer</td><td>None               </td><td>InteractiveLogon   </td><td>1                  </td><td>17104              </td><td>3                  </td></tr>\n",
       "</tbody>\n",
       "</table>\n"
      ],
      "text/latex": [
       "\\begin{tabular}{r|lllllll}\n",
       "  & UserName & SrcDevice & DstDevice & Authent.Type & Failure & DailyCount & Cluster\\\\\n",
       "\\hline\n",
       "\t13024 & AppService          & EnterpriseAppServer & None                & InteractiveLogon    & 1                   & 17102               & 3                  \\\\\n",
       "\t13117 & AppService          & EnterpriseAppServer & None                & InteractiveLogon    & 1                   & 17112               & 3                  \\\\\n",
       "\t13218 & AppService          & EnterpriseAppServer & None                & InteractiveLogon    & 1                   & 17078               & 3                  \\\\\n",
       "\t13219 & AppService          & EnterpriseAppServer & None                & InteractiveLogon    & 1                   & 17078               & 3                  \\\\\n",
       "\t13340 & AppService          & EnterpriseAppServer & None                & InteractiveLogon    & 1                   & 17091               & 3                  \\\\\n",
       "\t13395 & AppService          & EnterpriseAppServer & None                & InteractiveLogon    & 1                   & 17092               & 3                  \\\\\n",
       "\t13438 & AppService          & EnterpriseAppServer & None                & InteractiveLogon    & 1                   & 17080               & 3                  \\\\\n",
       "\t13663 & AppService          & EnterpriseAppServer & None                & InteractiveLogon    & 1                   & 17104               & 3                  \\\\\n",
       "\\end{tabular}\n"
      ],
      "text/markdown": [
       "\n",
       "| <!--/--> | UserName | SrcDevice | DstDevice | Authent.Type | Failure | DailyCount | Cluster |\n",
       "|---|---|---|---|---|---|---|---|\n",
       "| 13024 | AppService          | EnterpriseAppServer | None                | InteractiveLogon    | 1                   | 17102               | 3                   |\n",
       "| 13117 | AppService          | EnterpriseAppServer | None                | InteractiveLogon    | 1                   | 17112               | 3                   |\n",
       "| 13218 | AppService          | EnterpriseAppServer | None                | InteractiveLogon    | 1                   | 17078               | 3                   |\n",
       "| 13219 | AppService          | EnterpriseAppServer | None                | InteractiveLogon    | 1                   | 17078               | 3                   |\n",
       "| 13340 | AppService          | EnterpriseAppServer | None                | InteractiveLogon    | 1                   | 17091               | 3                   |\n",
       "| 13395 | AppService          | EnterpriseAppServer | None                | InteractiveLogon    | 1                   | 17092               | 3                   |\n",
       "| 13438 | AppService          | EnterpriseAppServer | None                | InteractiveLogon    | 1                   | 17080               | 3                   |\n",
       "| 13663 | AppService          | EnterpriseAppServer | None                | InteractiveLogon    | 1                   | 17104               | 3                   |\n",
       "\n"
      ],
      "text/plain": [
       "      UserName   SrcDevice           DstDevice Authent.Type     Failure\n",
       "13024 AppService EnterpriseAppServer None      InteractiveLogon 1      \n",
       "13117 AppService EnterpriseAppServer None      InteractiveLogon 1      \n",
       "13218 AppService EnterpriseAppServer None      InteractiveLogon 1      \n",
       "13219 AppService EnterpriseAppServer None      InteractiveLogon 1      \n",
       "13340 AppService EnterpriseAppServer None      InteractiveLogon 1      \n",
       "13395 AppService EnterpriseAppServer None      InteractiveLogon 1      \n",
       "13438 AppService EnterpriseAppServer None      InteractiveLogon 1      \n",
       "13663 AppService EnterpriseAppServer None      InteractiveLogon 1      \n",
       "      DailyCount Cluster\n",
       "13024 17102      3      \n",
       "13117 17112      3      \n",
       "13218 17078      3      \n",
       "13219 17078      3      \n",
       "13340 17091      3      \n",
       "13395 17092      3      \n",
       "13438 17080      3      \n",
       "13663 17104      3      "
      ]
     },
     "metadata": {},
     "output_type": "display_data"
    }
   ],
   "source": [
    "data[data$Cluster==3, ]"
   ]
  },
  {
   "cell_type": "markdown",
   "id": "78a4b0aa",
   "metadata": {},
   "source": [
    "It's very likely that the coerced choice of having 5 clusters is suboptimal for the K-means grouping. To test that, we'll deploy the 'silhouette method testing' to identify the ideal number of clusters for our data. Other methods, such as the 'gap statistic' or the 'elbow' method would not yield different results, and they're moreover much more computationally heavy to run. Therefore, we will only present the former:"
   ]
  },
  {
   "cell_type": "code",
   "execution_count": 65,
   "id": "c79909f8",
   "metadata": {},
   "outputs": [
    {
     "data": {
      "image/png": "[encoded data removed]",
      "text/plain": [
       "plot without title"
      ]
     },
     "metadata": {},
     "output_type": "display_data"
    }
   ],
   "source": [
    "fviz_nbclust(Anom, FUNcluster=kmeans, method='silhouette') + labs(subtitle = \"Silhouette method\")\n",
    "                    ## Gap static and elbow methods were also attempted, with poor results or no results at all.\n",
    "                    ## Undocummented due to extensive computational length."
   ]
  },
  {
   "cell_type": "markdown",
   "id": "28597907",
   "metadata": {},
   "source": [
    "The result is that the optimal number of clusters for our data is eight. However, as seen from the graph, 5 clusters is one of the better choices as well. \n",
    "\n",
    "Lastly, we test whether changing our running algorithm influences the outcome anyhow. We will test two other candidates, the 'Hartigan-Wong' and the 'MacQueen' initialization respectively, and compare the resulting clusters:"
   ]
  },
  {
   "cell_type": "code",
   "execution_count": 66,
   "id": "33eca4c2",
   "metadata": {},
   "outputs": [
    {
     "data": {
      "text/plain": [
       "\n",
       "   1    2    3    4    5 \n",
       "5003 4165 5051    8 6185 "
      ]
     },
     "metadata": {},
     "output_type": "display_data"
    },
    {
     "data": {
      "text/plain": [
       "\n",
       "   1    2    3    4    5 \n",
       "4165    8 5002 5072 6165 "
      ]
     },
     "metadata": {},
     "output_type": "display_data"
    }
   ],
   "source": [
    "set.seed(123)\n",
    "K2 <- kmeans(Anom, centers=5, nstart = 25, algorithm=\"Hartigan-Wong\", iter.max = 10^4)\n",
    "K3 <- kmeans(Anom, centers=5, nstart = 25, algorithm=\"MacQueen\", iter.max = 10^4)\n",
    "\n",
    "table(K2$cluster)\n",
    "table(K3$cluster)\n",
    "                ## Similar results to 'Lloyd'"
   ]
  },
  {
   "cell_type": "markdown",
   "id": "9771dc22",
   "metadata": {},
   "source": [
    "The results are very similar to 'Lloyd', hinting that choice of initialization algorithm doesn't matter to our data. The final parameter to consider is the starting point. We will test 50 different startpoints and compare through them using a distance metric for the normalized outputs:"
   ]
  },
  {
   "cell_type": "code",
   "execution_count": 67,
   "id": "e7a5c607",
   "metadata": {},
   "outputs": [],
   "source": [
    "set.seed(55)\n",
    "options(warn=-1)\n",
    "Km <- vector(len=50)\n",
    "for(i in 1:50) {\n",
    "    Km[i] <- kmeans(Anom, centers=5, nstart=i, algorithm=\"Lloyd\", iter.max=10^4)\n",
    "}"
   ]
  },
  {
   "cell_type": "code",
   "execution_count": 68,
   "id": "c160b846",
   "metadata": {},
   "outputs": [],
   "source": [
    "options(warn=1)"
   ]
  },
  {
   "cell_type": "code",
   "execution_count": 69,
   "id": "1c947904",
   "metadata": {},
   "outputs": [
    {
     "data": {
      "text/plain": [
       "\n",
       "   1    2    3    4    5 \n",
       "4176 5051    8 6174 5003 "
      ]
     },
     "metadata": {},
     "output_type": "display_data"
    },
    {
     "data": {
      "text/plain": [
       "\n",
       "   1    2    3    4    5 \n",
       "2835 4814 3727 4243 4793 "
      ]
     },
     "metadata": {},
     "output_type": "display_data"
    },
    {
     "data": {
      "text/plain": [
       "\n",
       "   1    2    3    4    5 \n",
       "6174    8 5051 4176 5003 "
      ]
     },
     "metadata": {},
     "output_type": "display_data"
    }
   ],
   "source": [
    "table(Km[50])\n",
    "table(Km[1])\n",
    "table(Km[25])"
   ]
  },
  {
   "cell_type": "code",
   "execution_count": 70,
   "id": "7bc58985",
   "metadata": {},
   "outputs": [],
   "source": [
    "t1<- vector(len=50)\n",
    "t2<- vector(len=50)\n",
    "t3<- vector(len=50)\n",
    "t4<- vector(len=50)\n",
    "t5<- vector(len=50)\n",
    "for(i in 1:50) {\n",
    "    t1[i] <- as.vector(table(Km[i]))[1]\n",
    "    t2[i] <- as.vector(table(Km[i]))[2]\n",
    "    t3[i] <- as.vector(table(Km[i]))[3]\n",
    "    t4[i] <- as.vector(table(Km[i]))[4]\n",
    "    t5[i] <- as.vector(table(Km[i]))[5]\n",
    "}\n",
    "\n",
    "t1<- t1[order(t1, decreasing=FALSE)]\n",
    "t2<- t2[order(t2, decreasing=FALSE)]\n",
    "t3<- t3[order(t3, decreasing=FALSE)]\n",
    "t4<- t4[order(t4, decreasing=FALSE)]\n",
    "t5<- t5[order(t5, decreasing=FALSE)]\n",
    "\n",
    "s1<- scale(t1)\n",
    "s2<- scale(t2)\n",
    "s3<- scale(t3)\n",
    "s4<- scale(t4)\n",
    "s5<- scale(t5)"
   ]
  },
  {
   "cell_type": "code",
   "execution_count": 71,
   "id": "d336fda7",
   "metadata": {},
   "outputs": [],
   "source": [
    "manhattan_dist <- function(a, b){\n",
    "     dist <- abs(a-b)\n",
    "     dist <- sum(dist)\n",
    "     return(dist)\n",
    "}"
   ]
  },
  {
   "cell_type": "code",
   "execution_count": 72,
   "id": "2f922052",
   "metadata": {},
   "outputs": [
    {
     "data": {
      "text/html": [
       "22.1865854239351"
      ],
      "text/latex": [
       "22.1865854239351"
      ],
      "text/markdown": [
       "22.1865854239351"
      ],
      "text/plain": [
       "[1] 22.18659"
      ]
     },
     "metadata": {},
     "output_type": "display_data"
    },
    {
     "data": {
      "text/html": [
       "22.0776882431162"
      ],
      "text/latex": [
       "22.0776882431162"
      ],
      "text/markdown": [
       "22.0776882431162"
      ],
      "text/plain": [
       "[1] 22.07769"
      ]
     },
     "metadata": {},
     "output_type": "display_data"
    },
    {
     "data": {
      "text/html": [
       "25.1381842375239"
      ],
      "text/latex": [
       "25.1381842375239"
      ],
      "text/markdown": [
       "25.1381842375239"
      ],
      "text/plain": [
       "[1] 25.13818"
      ]
     },
     "metadata": {},
     "output_type": "display_data"
    },
    {
     "data": {
      "text/html": [
       "17.9979685860642"
      ],
      "text/latex": [
       "17.9979685860642"
      ],
      "text/markdown": [
       "17.9979685860642"
      ],
      "text/plain": [
       "[1] 17.99797"
      ]
     },
     "metadata": {},
     "output_type": "display_data"
    },
    {
     "name": "stdout",
     "output_type": "stream",
     "text": [
      "\n"
     ]
    },
    {
     "data": {
      "text/html": [
       "5.80843585499567"
      ],
      "text/latex": [
       "5.80843585499567"
      ],
      "text/markdown": [
       "5.80843585499567"
      ],
      "text/plain": [
       "[1] 5.808436"
      ]
     },
     "metadata": {},
     "output_type": "display_data"
    },
    {
     "data": {
      "text/html": [
       "6.60847343910569"
      ],
      "text/latex": [
       "6.60847343910569"
      ],
      "text/markdown": [
       "6.60847343910569"
      ],
      "text/plain": [
       "[1] 6.608473"
      ]
     },
     "metadata": {},
     "output_type": "display_data"
    },
    {
     "data": {
      "text/html": [
       "13.9567179883742"
      ],
      "text/latex": [
       "13.9567179883742"
      ],
      "text/markdown": [
       "13.9567179883742"
      ],
      "text/plain": [
       "[1] 13.95672"
      ]
     },
     "metadata": {},
     "output_type": "display_data"
    },
    {
     "name": "stdout",
     "output_type": "stream",
     "text": [
      "\n"
     ]
    },
    {
     "data": {
      "text/html": [
       "9.62185003236696"
      ],
      "text/latex": [
       "9.62185003236696"
      ],
      "text/markdown": [
       "9.62185003236696"
      ],
      "text/plain": [
       "[1] 9.62185"
      ]
     },
     "metadata": {},
     "output_type": "display_data"
    },
    {
     "data": {
      "text/html": [
       "11.7332147121662"
      ],
      "text/latex": [
       "11.7332147121662"
      ],
      "text/markdown": [
       "11.7332147121662"
      ],
      "text/plain": [
       "[1] 11.73321"
      ]
     },
     "metadata": {},
     "output_type": "display_data"
    },
    {
     "name": "stdout",
     "output_type": "stream",
     "text": [
      "\n"
     ]
    },
    {
     "data": {
      "text/html": [
       "17.0101762430085"
      ],
      "text/latex": [
       "17.0101762430085"
      ],
      "text/markdown": [
       "17.0101762430085"
      ],
      "text/plain": [
       "[1] 17.01018"
      ]
     },
     "metadata": {},
     "output_type": "display_data"
    }
   ],
   "source": [
    "M1 <- manhattan_dist(s1, s2)\n",
    "M1\n",
    "M2 <- manhattan_dist(s1, s3)\n",
    "M2\n",
    "M3 <- manhattan_dist(s1, s4)\n",
    "M3\n",
    "M4 <- manhattan_dist(s1, s5)\n",
    "M4\n",
    "cat(\"\\n\")\n",
    "M5 <- manhattan_dist(s2, s3)\n",
    "M5\n",
    "M6 <- manhattan_dist(s2, s4)\n",
    "M6\n",
    "M7 <- manhattan_dist(s2, s5)\n",
    "M7\n",
    "cat(\"\\n\")\n",
    "M8 <- manhattan_dist(s3, s4)\n",
    "M8\n",
    "M9 <- manhattan_dist(s3, s5)\n",
    "M9\n",
    "cat(\"\\n\")\n",
    "M10 <- manhattan_dist(s4, s5)\n",
    "M10"
   ]
  },
  {
   "cell_type": "markdown",
   "id": "81e58aeb",
   "metadata": {},
   "source": [
    "The following graphs output the relative distances between clusters. The higher the distance, the farther off clusters are off each other in terms of how many elements they contain. Therefore, lower distances are preferred."
   ]
  },
  {
   "cell_type": "code",
   "execution_count": 109,
   "id": "58f3d889",
   "metadata": {},
   "outputs": [
    {
     "data": {
      "image/png": "[encoded data removed]",
      "text/plain": [
       "Plot with title \"Cluster5 distance to other clusters\""
      ]
     },
     "metadata": {},
     "output_type": "display_data"
    }
   ],
   "source": [
    "op <- par(mfrow=c(2,3))\n",
    "x<- c(M1, M2, M3, M4)\n",
    "barplot(c(M1,M2,M3,M4), main=\"Cluster1 distance to other clusters\", names=c(\"Cl2\", \"Cl3\", \"Cl4\", \"Cl5\"),\n",
    "       ylim=c(0,25), col=ifelse(x>=20, \"RoyalBlue\", ifelse(10<x & x<20, 'DeepSkyBlue2', 'LightBlue')))\n",
    "x<- c(M1, M5, M6, M7)\n",
    "barplot(c(M1,M5,M6,M7), main=\"Cluster2 distance to other clusters\", names=c(\"Cl1\", \"Cl3\", \"Cl4\", \"Cl5\"),\n",
    "       ylim=c(0,25), col=ifelse(x>=20, \"RoyalBlue\", ifelse(10<x & x<20, 'DeepSkyBlue2', 'LightBlue')))\n",
    "x<- c(M2, M5, M8, M9)\n",
    "barplot(c(M2,M5,M8,M9), main=\"Cluster3 distance to other clusters\", names=c(\"Cl1\", \"Cl2\", \"Cl4\", \"Cl5\"),\n",
    "       ylim=c(0,25), col=ifelse(x>=20, \"RoyalBlue\", ifelse(10<x & x<20, 'DeepSkyBlue2', 'LightBlue')))\n",
    "x<- c(M4, M6, M8, M10)\n",
    "barplot(c(M3,M6,M8,M10), main=\"Cluster4 distance to other clusters\", names=c(\"Cl1\", \"Cl2\", \"Cl3\", \"Cl5\"),\n",
    "       ylim=c(0,25), col=ifelse(x>=20, \"RoyalBlue\", ifelse(10<x & x<20, 'DeepSkyBlue2', 'LightBlue')))\n",
    "x<- c(M4, M7, M9, M10)\n",
    "barplot(c(M4,M7,M9,M10), main=\"Cluster5 distance to other clusters\", names=c(\"Cl1\", \"Cl2\", \"Cl3\", \"Cl5\"),\n",
    "       ylim=c(0,25), col=ifelse(x>=20, \"RoyalBlue\", ifelse(10<x & x<20, 'DeepSkyBlue2', 'LightBlue')))\n",
    "par(op)"
   ]
  },
  {
   "cell_type": "markdown",
   "id": "7e0d6b10",
   "metadata": {},
   "source": [
    "The results seem to vastly vary based on the choice of initial starting point. The 2nd, 3rd and 4th clusters are often more similar than the rest. However, there are massive differences across the 1st and 5th cluster, presenting the largest Manhattan distance among all results. This is not yet informative enough to derive a general conclusion about clustering for our final purposes, but does raise questions about how to handle all the clustering parameters accordingly. Notably, in most cases the results follow an inverse-normal distribution, where the middle clusters contain the lowest numbers of members, with exceptionally high results within the edge clusters."
   ]
  },
  {
   "cell_type": "markdown",
   "id": "6aa82831",
   "metadata": {},
   "source": [
    "### 2. Classification algorithm and initial results\n",
    "\n",
    "- Why did I choose a DT?\n",
    "\n",
    "- How did we come about these specific decisions?\n",
    "\n",
    "- Tables for our decisions."
   ]
  },
  {
   "cell_type": "code",
   "execution_count": 4,
   "id": "c2b59cd3",
   "metadata": {},
   "outputs": [],
   "source": [
    "DecisionScoring <- function(df=df) {\n",
    "\n",
    "Reconnaissance <- as.vector(rep(0, times=nrow(df)))\n",
    "Delivery <- Reconnaissance\n",
    "LateralMovement <- Delivery\n",
    "PrivilegeEscalation <- LateralMovement\n",
    "Exfiltration <- PrivilegeEscalation\n",
    "\n",
    "for(i in 1:nrow(df)) {\n",
    "    \n",
    "    \n",
    "    User <- df[i,]$UserName\n",
    "    Src <- df[i,]$SrcDevice\n",
    "    Dst <- df[i,]$DstDevice\n",
    "    AT <- df[i,]$Authent.Type\n",
    "    FA <- df[i,]$Failure\n",
    "    \n",
    "        # Reconnaissance[i] <- Reconnaissance[i] + 0\n",
    "        # Delivery[i] <- Delivery[i] + 0\n",
    "        # LateralMovement[i] <- LateralMovement[i] + 0\n",
    "        # PrivilegeEscalation[i] <- PrivilegeEscalation[i] + 0\n",
    "        # Exfiltration[i] <- Exfiltration[i] + 0\n",
    "    \n",
    "    SourceFrequency <- df[df$SrcDevice==Src, ]\n",
    "    UserFrequency <- df[df$UserName==User, ]\n",
    "    UserAndSourceFrequency <- UserFrequency[UserFrequency$SrcDevice==Src, ]\n",
    "    DestinationFrequency <- df[df$DstDevice==Dst, ]\n",
    "    \n",
    "    NSF <- nrow(SourceFrequency)\n",
    "    t<- table(df$SrcDevice)\n",
    "    M<- mean(t)\n",
    "    S<- sd(t)\n",
    "    if(NSF>= M + 2*S) {\n",
    "        Reconnaissance[i] <- Reconnaissance[i] + 1.75\n",
    "        Delivery[i] <- Delivery[i] + 0.5\n",
    "        # LateralMovement[i] <- LateralMovement[i] + 0\n",
    "        # PrivilegeEscalation[i] <- PrivilegeEscalation[i] + 0\n",
    "        # Exfiltration[i] <- Exfiltration[i] + 0\n",
    "    }\n",
    "     if(NSF/nrow(df)>=M+S & NSF/nrow(df)<M+2*S) {\n",
    "        Reconnaissance[i] <- Reconnaissance[i] + 1.5\n",
    "        Delivery[i] <- Delivery[i] + 0.75\n",
    "        # LateralMovement[i] <- LateralMovement[i] + 0\n",
    "        # PrivilegeEscalation[i] <- PrivilegeEscalation[i] + 0\n",
    "        # Exfiltration[i] <- Exfiltration[i] + 0\n",
    "    }\n",
    "     if(NSF/nrow(df)>=M & NSF/nrow(df)<M+S) {\n",
    "        Reconnaissance[i] <- Reconnaissance[i] + 1.25\n",
    "        Delivery[i] <- Delivery[i] + 0.75\n",
    "        # LateralMovement[i] <- LateralMovement[i] + 0\n",
    "        if(User%in%Special==TRUE) {\n",
    "            PrivilegeEscalation[i] <- PrivilegeEscalation[i] + 0.25\n",
    "            }\n",
    "        # Exfiltration[i] <- Exfiltration[i] + 0\n",
    "    }\n",
    "     if(NSF/nrow(df)>=M/6 & NSF/nrow(df)<M) {\n",
    "        Reconnaissance[i] <- Reconnaissance[i] + 0.25\n",
    "        Delivery[i] <- Delivery[i] + 0.5\n",
    "        # LateralMovement[i] <- LateralMovement[i] + 0\n",
    "        if(User%in%Special==TRUE) {\n",
    "            PrivilegeEscalation[i] <- PrivilegeEscalation[i] + 0.25\n",
    "            }\n",
    "        Exfiltration[i] <- Exfiltration[i] + 0.25\n",
    "    }\n",
    "     if(NSF/nrow(df)<M/6) {\n",
    "        # Reconnaissance[i] <- Reconnaissance[i] + 0\n",
    "        Delivery[i] <- Delivery[i] + 0.25\n",
    "        LateralMovement[i] <- LateralMovement[i] + 0.75\n",
    "        PrivilegeEscalation[i] <- PrivilegeEscalation[i] + 0.75\n",
    "        Exfiltration[i] <- Exfiltration[i] + 0.25\n",
    "    }\n",
    "     L <- length(unique(SourceFrequency$UserName))\n",
    "     if(L>=12) {\n",
    "        # Reconnaissance[i] <- Reconnaissance[i] + 0\n",
    "        # Delivery[i] <- Delivery[i] + 0\n",
    "        # LateralMovement[i] <- LateralMovement[i] + 0\n",
    "        PrivilegeEscalation[i] <- PrivilegeEscalation[i] + 1\n",
    "        Exfiltration[i] <- Exfiltration[i] + 0.5\n",
    "         }\n",
    "     if(L>=9 & L<12) {\n",
    "        # Reconnaissance[i] <- Reconnaissance[i] + 0\n",
    "        # Delivery[i] <- Delivery[i] + 0\n",
    "        # LateralMovement[i] <- LateralMovement[i] + 0\n",
    "        PrivilegeEscalation[i] <- PrivilegeEscalation[i] + 0.75\n",
    "        Exfiltration[i] <- Exfiltration[i] + 0.25 \n",
    "     }\n",
    "     if(L>=5 & L<9) {\n",
    "        # Reconnaissance[i] <- Reconnaissance[i] + 0\n",
    "        # Delivery[i] <- Delivery[i] + 0\n",
    "        # LateralMovement[i] <- LateralMovement[i] + 0\n",
    "        PrivilegeEscalation[i] <- PrivilegeEscalation[i] + 0.5\n",
    "        Exfiltration[i] <- Exfiltration[i] + 0.25\n",
    "     }\n",
    "     if(L>=2 & L<5) {\n",
    "        # Reconnaissance[i] <- Reconnaissance[i] + 0\n",
    "        Delivery[i] <- Delivery[i] + 0.25\n",
    "        LateralMovement[i] <- LateralMovement[i] + 0.25\n",
    "        # PrivilegeEscalation[i] <- PrivilegeEscalation[i] + 0\n",
    "        # Exfiltration[i] <- Exfiltration[i] + 0\n",
    "     }\n",
    "    if(L==1) {\n",
    "        # Reconnaissance[i] <- Reconnaissance[i] + 0\n",
    "        # Delivery[i] <- Delivery[i] + 0\n",
    "        LateralMovement[i] <- LateralMovement[i] + 0.5\n",
    "        # PrivilegeEscalation[i] <- PrivilegeEscalation[i] + 0\n",
    "        # Exfiltration[i] <- Exfiltration[i] + 0\n",
    "    }\n",
    "    if(User%in%Special==TRUE) {\n",
    "        # Reconnaissance[i] <- Reconnaissance[i] + 0\n",
    "        # Delivery[i] <- Delivery[i] + 0\n",
    "        LateralMovement[i] <- LateralMovement[i] + 0.5\n",
    "        PrivilegeEscalation[i] <- PrivilegeEscalation[i] + 1\n",
    "        Exfiltration[i] <- Exfiltration[i] + 1.5 \n",
    "    }\n",
    "    if(User%in%Special==FALSE) {\n",
    "        Reconnaissance[i] <- Reconnaissance[i] + 1\n",
    "        Delivery[i] <- Delivery[i] + 1\n",
    "        LateralMovement[i] <- LateralMovement[i] + 0.5\n",
    "        PrivilegeEscalation[i] <- PrivilegeEscalation[i] + 0.25\n",
    "        # Exfiltration[i] <- Exfiltration[i] + 0\n",
    "    }\n",
    "\n",
    "    L <- length(unique(UserAndSourceFrequency$DstDevice))\n",
    "    l <- length(unique(df$DstDevice))\n",
    "    if(L/l>=0.4) {\n",
    "        Reconnaissance[i] <- Reconnaissance[i] + 2\n",
    "        # Delivery[i] <- Delivery[i] + 0\n",
    "        # LateralMovement[i] <- LateralMovement[i] + 0\n",
    "        # PrivilegeEscalation[i] <- PrivilegeEscalation[i] + 0\n",
    "        # Exfiltration[i] <- Exfiltration[i] + 0 \n",
    "    }\n",
    "    if(L/l>=0.2 & L/l<0.4) {\n",
    "        Reconnaissance[i] <- Reconnaissance[i] + 1.75\n",
    "        # Delivery[i] <- Delivery[i] + 0\n",
    "        # LateralMovement[i] <- LateralMovement[i] + 0\n",
    "        # PrivilegeEscalation[i] <- PrivilegeEscalation[i] + 0\n",
    "        # Exfiltration[i] <- Exfiltration[i] + 0\n",
    "    }\n",
    "    if(L/l>=0.1 & L/l<0.2) {\n",
    "        Reconnaissance[i] <- Reconnaissance[i] + 1.5\n",
    "        # Delivery[i] <- Delivery[i] + 0\n",
    "        # LateralMovement[i] <- LateralMovement[i] + 0\n",
    "        # PrivilegeEscalation[i] <- PrivilegeEscalation[i] + 0\n",
    "        # Exfiltration[i] <- Exfiltration[i] + 0\n",
    "    }\n",
    "    if(L/l>=0.05 & L/l<0.1) {\n",
    "        Reconnaissance[i] <- Reconnaissance[i] + 1.25\n",
    "        Delivery[i] <- Delivery[i] + 0.25\n",
    "        # LateralMovement[i] <- LateralMovement[i] + 0\n",
    "        # PrivilegeEscalation[i] <- PrivilegeEscalation[i] + 0\n",
    "        # Exfiltration[i] <- Exfiltration[i] + 0\n",
    "    }\n",
    "    if(L>=11 & L<34) {\n",
    "        Reconnaissance[i] <- Reconnaissance[i] + 1\n",
    "        Delivery[i] <- Delivery[i] + 0.5\n",
    "        # LateralMovement[i] <- LateralMovement[i] + 0\n",
    "        # PrivilegeEscalation[i] <- PrivilegeEscalation[i] + 0\n",
    "        # Exfiltration[i] <- Exfiltration[i] + 0\n",
    "    }\n",
    "    if(L>=6 & L<11) {\n",
    "        Reconnaissance[i] <- Reconnaissance[i] + 0.5\n",
    "        Delivery[i] <- Delivery[i] + 0.75\n",
    "        LateralMovement[i] <- LateralMovement[i] + 0.25\n",
    "        PrivilegeEscalation[i] <- PrivilegeEscalation[i] + 0.25\n",
    "        Exfiltration[i] <- Exfiltration[i] + 0.25\n",
    "    }\n",
    "    if(L>=3 & L<6) {\n",
    "        Reconnaissance[i] <- Reconnaissance[i] + 0.25\n",
    "        Delivery[i] <- Delivery[i] + 0.75\n",
    "        LateralMovement[i] <- LateralMovement[i] + 0.5\n",
    "        PrivilegeEscalation[i] <- PrivilegeEscalation[i] + 0.75\n",
    "        Exfiltration[i] <- Exfiltration[i] + 0.5\n",
    "    }\n",
    "    if(L<=2) {\n",
    "        # Reconnaissance[i] <- Reconnaissance[i] + 0\n",
    "        Delivery[i] <- Delivery[i] + 0.25\n",
    "        LateralMovement[i] <- LateralMovement[i] + 0.75\n",
    "        PrivilegeEscalation[i] <- PrivilegeEscalation[i] + 1\n",
    "        Exfiltration[i] <- Exfiltration[i] + 0.75\n",
    "    }\n",
    "    Destinations <- unique(UserFrequency$DstDevice)\n",
    "    if(Src%in%Destinations==TRUE){\n",
    "        # Reconnaissance[i] <- Reconnaissance[i] + 0\n",
    "        # Delivery[i] <- Delivery[i] + 0\n",
    "        LateralMovement[i] <- LateralMovement[i] + 3\n",
    "        PrivilegeEscalation[i] <- PrivilegeEscalation[i] + 1.25\n",
    "        # Exfiltration[i] <- Exfiltration[i] + 0\n",
    "    }\n",
    "    \n",
    "    D<- table(df$DstDevice)\n",
    "    M<- mean(D)\n",
    "    S<- sd(D)\n",
    "    N<- nrow(df[df$DstDevice==Dst, ])\n",
    "    if(N>=M+2*S){\n",
    "        Reconnaissance[i] <- Reconnaissance[i] + 1.25\n",
    "        # Delivery[i] <- Delivery[i] + 0\n",
    "        # LateralMovement[i] <- LateralMovement[i] + 0\n",
    "        # PrivilegeEscalation[i] <- PrivilegeEscalation[i] + 0\n",
    "        if(User%in%Special==TRUE) {\n",
    "            Exfiltration[i] <- Exfiltration[i] + 1.5  \n",
    "        }\n",
    "        if(User%in%Special==FALSE) {\n",
    "            Exfiltration[i] <- Exfiltration[i] + 0.5  \n",
    "        }\n",
    "    }\n",
    "    if(N>=M+S & N<M+2*S) {\n",
    "        Reconnaissance[i] <- Reconnaissance[i] + 1\n",
    "        # Delivery[i] <- Delivery[i] + 0\n",
    "        LateralMovement[i] <- LateralMovement[i] + 0.25\n",
    "        # PrivilegeEscalation[i] <- PrivilegeEscalation[i] + 0\n",
    "        if(User%in%Special==TRUE) {\n",
    "            Exfiltration[i] <- Exfiltration[i] + 1.5  \n",
    "        }\n",
    "        if(User%in%Special==FALSE) {\n",
    "            Exfiltration[i] <- Exfiltration[i] + 0.25  \n",
    "        }\n",
    "    }\n",
    "    if(N>=M & N<M+S) {\n",
    "        Reconnaissance[i] <- Reconnaissance[i] + 0.75\n",
    "        Delivery[i] <- Delivery[i] + 0.25\n",
    "        LateralMovement[i] <- LateralMovement[i] + 0.25\n",
    "        # PrivilegeEscalation[i] <- PrivilegeEscalation[i] + 0\n",
    "        if(User%in%Special==TRUE) {\n",
    "            Exfiltration[i] <- Exfiltration[i] + 0.75  \n",
    "        }\n",
    "        if(User%in%Special==FALSE) {\n",
    "            Exfiltration[i] <- Exfiltration[i] + 0.25  \n",
    "        }\n",
    "    }\n",
    "    if(N>=M/4 & N<M) {\n",
    "        Reconnaissance[i] <- Reconnaissance[i] + 0.5\n",
    "        Delivery[i] <- Delivery[i] + 0.75\n",
    "        LateralMovement[i] <- LateralMovement[i] + 0.25\n",
    "        # PrivilegeEscalation[i] <- PrivilegeEscalation[i] + 0\n",
    "        # Exfiltration[i] <- Exfiltration[i] + 0\n",
    "    }\n",
    "    if(N>=4 & N<M/4) {\n",
    "        Reconnaissance[i] <- Reconnaissance[i] + 0.25\n",
    "        Delivery[i] <- Delivery[i] + 1\n",
    "        LateralMovement[i] <- LateralMovement[i] + 0.5\n",
    "        # PrivilegeEscalation[i] <- PrivilegeEscalation[i] + 0\n",
    "        # Exfiltration[i] <- Exfiltration[i] + 0\n",
    "    }\n",
    "    if(N<4) {\n",
    "        # Reconnaissance[i] <- Reconnaissance[i] + 0\n",
    "        Delivery[i] <- Delivery[i] + 0.75\n",
    "        LateralMovement[i] <- LateralMovement[i] + 0.25\n",
    "        # PrivilegeEscalation[i] <- PrivilegeEscalation[i] + 0\n",
    "        # Exfiltration[i] <- Exfiltration[i] + 0\n",
    "    }\n",
    "    \n",
    "    U<- length(unique(DestinationFrequency$UserName))\n",
    "    L<- length(unique(df$UserName))\n",
    "    if(U>=L/5) {\n",
    "        Reconnaissance[i] <- Reconnaissance[i] + 1\n",
    "        # Delivery[i] <- Delivery[i] + 0\n",
    "        # LateralMovement[i] <- LateralMovement[i] + 0\n",
    "        # PrivilegeEscalation[i] <- PrivilegeEscalation[i] + 0\n",
    "        if(User%in%Special==TRUE) {\n",
    "            Exfiltration[i] <- Exfiltration[i] + 0.5\n",
    "        }\n",
    "    }\n",
    "    if(U>=L/10 & U<L/5) {\n",
    "        Reconnaissance[i] <- Reconnaissance[i] + 0.75\n",
    "        Delivery[i] <- Delivery[i] + 0.25\n",
    "        # LateralMovement[i] <- LateralMovement[i] + 0\n",
    "        # PrivilegeEscalation[i] <- PrivilegeEscalation[i] + 0\n",
    "        if(User%in%Special==TRUE) {\n",
    "            Exfiltration[i] <- Exfiltration[i] + 0.5\n",
    "        }\n",
    "    }\n",
    "    if(U>=L/20 & U<L/10) {\n",
    "        Reconnaissance[i] <- Reconnaissance[i] + 0.5\n",
    "        Delivery[i] <- Delivery[i] + 0.25\n",
    "        # LateralMovement[i] <- LateralMovement[i] + 0\n",
    "        # PrivilegeEscalation[i] <- PrivilegeEscalation[i] + 0\n",
    "        if(User%in%Special==TRUE) {\n",
    "            Exfiltration[i] <- Exfiltration[i] + 0.75\n",
    "        }\n",
    "    }\n",
    "    if(U<L/20) {\n",
    "        Reconnaissance[i] <- Reconnaissance[i] + 0.25\n",
    "        # Delivery[i] <- Delivery[i] + 0\n",
    "        # LateralMovement[i] <- LateralMovement[i] + 0\n",
    "        # PrivilegeEscalation[i] <- PrivilegeEscalation[i] + 0\n",
    "        if(User%in%Special==TRUE) {\n",
    "            Exfiltration[i] <- Exfiltration[i] + 1.25\n",
    "        }\n",
    "    }\n",
    "    \n",
    "    S<- length(unique(DestinationFrequency$SrcDevice))\n",
    "    L<- length(unique(df$SrcDevice))\n",
    "    if(S/L>=0.2) {\n",
    "        Reconnaissance[i] <- Reconnaissance[i] + 1.75\n",
    "        # Delivery[i] <- Delivery[i] + 0\n",
    "        LateralMovement[i] <- LateralMovement[i] + 0.75\n",
    "        # PrivilegeEscalation[i] <- PrivilegeEscalation[i] + 0\n",
    "        Exfiltration[i] <- Exfiltration[i] + 0.5 \n",
    "    }\n",
    "    if(S/L>=0.1 & S/L<0.2) {\n",
    "        Reconnaissance[i] <- Reconnaissance[i] + 1.25\n",
    "        # Delivery[i] <- Delivery[i] + 0\n",
    "        LateralMovement[i] <- LateralMovement[i] + 0.5\n",
    "        # PrivilegeEscalation[i] <- PrivilegeEscalation[i] + 0\n",
    "        Exfiltration[i] <- Exfiltration[i] + 0.25\n",
    "    }\n",
    "    if(S/L>=0.05 & S/L<0.1) {\n",
    "        Reconnaissance[i] <- Reconnaissance[i] + 1\n",
    "        # Delivery[i] <- Delivery[i] + 0\n",
    "        LateralMovement[i] <- LateralMovement[i] + 0.25\n",
    "        # PrivilegeEscalation[i] <- PrivilegeEscalation[i] + 0\n",
    "        Exfiltration[i] <- Exfiltration[i] + 0.25\n",
    "    }\n",
    "    if(S>=24 & S<47) {\n",
    "        Reconnaissance[i] <- Reconnaissance[i] + 0.75\n",
    "        # Delivery[i] <- Delivery[i] + 0\n",
    "        LateralMovement[i] <- LateralMovement[i] + 0.25\n",
    "        # PrivilegeEscalation[i] <- PrivilegeEscalation[i] + 0\n",
    "        Exfiltration[i] <- Exfiltration[i] + 0.25\n",
    "     }\n",
    "    if(S>=5 & S<24) {\n",
    "        Reconnaissance[i] <- Reconnaissance[i] + 0.5\n",
    "        Delivery[i] <- Delivery[i] + 0.25\n",
    "        LateralMovement[i] <- LateralMovement[i] + 0.25\n",
    "        # PrivilegeEscalation[i] <- PrivilegeEscalation[i] + 0\n",
    "        Exfiltration[i] <- Exfiltration[i] + 0.25\n",
    "    }\n",
    "    if(S>=2 & S<5) {\n",
    "        # Reconnaissance[i] <- Reconnaissance[i] + 0\n",
    "        Delivery[i] <- Delivery[i] + 0.5\n",
    "        # LateralMovement[i] <- LateralMovement[i] + 0\n",
    "        PrivilegeEscalation[i] <- PrivilegeEscalation[i] + 0.25\n",
    "        Exfiltration[i] <- Exfiltration[i] + 0.5\n",
    "    }\n",
    "    if(S==1) {\n",
    "        # Reconnaissance[i] <- Reconnaissance[i] + 0\n",
    "        Delivery[i] <- Delivery[i] + 1.25\n",
    "        # LateralMovement[i] <- LateralMovement[i] + 0\n",
    "        # PrivilegeEscalation[i] <- PrivilegeEscalation[i] + 0\n",
    "        Exfiltration[i] <- Exfiltration[i] + 0.25\n",
    "    }\n",
    "    \n",
    "    Identical <- UserAndSourceFrequency[UserAndSourceFrequency$DstDevice==Dst, ]\n",
    "    I <- nrow(Identical)\n",
    "    if(I>12) {\n",
    "        Reconnaissance[i] <- Reconnaissance[i] + 1.25\n",
    "        Delivery[i] <- Delivery[i] + 0.25\n",
    "        # LateralMovement[i] <- LateralMovement[i] + 0\n",
    "        # PrivilegeEscalation[i] <- PrivilegeEscalation[i] + 0\n",
    "        # Exfiltration[i] <- Exfiltration[i] + 0\n",
    "    }\n",
    "    if(I>9 & I<=12) {\n",
    "        Reconnaissance[i] <- Reconnaissance[i] + 0.75\n",
    "        Delivery[i] <- Delivery[i] + 0.25\n",
    "        # LateralMovement[i] <- LateralMovement[i] + 0\n",
    "        PrivilegeEscalation[i] <- PrivilegeEscalation[i] + 0.25\n",
    "        # Exfiltration[i] <- Exfiltration[i] + 0\n",
    "    }\n",
    "    if(I>6 & I<=9) {\n",
    "        Reconnaissance[i] <- Reconnaissance[i] + 0.5\n",
    "        Delivery[i] <- Delivery[i] + 0.5\n",
    "        LateralMovement[i] <- LateralMovement[i] + 0.25\n",
    "        PrivilegeEscalation[i] <- PrivilegeEscalation[i] + 0.25\n",
    "        Exfiltration[i] <- Exfiltration[i] + 0.25\n",
    "    }\n",
    "    if(I>3 & I<=6) {\n",
    "        Reconnaissance[i] <- Reconnaissance[i] + 0.5\n",
    "        Delivery[i] <- Delivery[i] + 0.5\n",
    "        LateralMovement[i] <- LateralMovement[i] + 0.25\n",
    "        PrivilegeEscalation[i] <- PrivilegeEscalation[i] + 0.25\n",
    "        Exfiltration[i] <- Exfiltration[i] + 0.25\n",
    "    }\n",
    "    if(I>1 & I<=3) {\n",
    "        if(sum(Identical$Failure)==nrow(Identical)) {\n",
    "            Reconnaissance[i] <- Reconnaissance[i] + 0.25\n",
    "            }\n",
    "        Delivery[i] <- Delivery[i] + 0.5\n",
    "        LateralMovement[i] <- LateralMovement[i] + 0.5\n",
    "        PrivilegeEscalation[i] <- PrivilegeEscalation[i] + 0.25\n",
    "        Exfiltration[i] <- Exfiltration[i] + 0.5\n",
    "    }\n",
    "    if(I==1) {\n",
    "        if(Identical$Failure==1) {\n",
    "            Reconnaissance[i] <- Reconnaissance[i] + 0.25\n",
    "        }\n",
    "        Delivery[i] <- Delivery[i] + 1.25\n",
    "        LateralMovement[i] <- LateralMovement[i] + 0.5\n",
    "        PrivilegeEscalation[i] <- PrivilegeEscalation[i] + 0.25\n",
    "        Exfiltration[i] <- Exfiltration[i] + 0.75\n",
    "    }\n",
    "    \n",
    "    A<- length(unique(UserAndSourceFrequency$Authent.Type))\n",
    "    if(A>3) {\n",
    "        Reconnaissance[i] <- Reconnaissance[i] + 1.25\n",
    "        Delivery[i] <- Delivery[i] + 1.5\n",
    "        # LateralMovement[i] <- LateralMovement[i] + 0\n",
    "        PrivilegeEscalation[i] <- PrivilegeEscalation[i] + 0.25\n",
    "        # Exfiltration[i] <- Exfiltration[i] + 0  \n",
    "    }\n",
    "    if(A==3) {\n",
    "        Reconnaissance[i] <- Reconnaissance[i] + 1\n",
    "        Delivery[i] <- Delivery[i] + 1.25\n",
    "        LateralMovement[i] <- LateralMovement[i] + 0.25\n",
    "        PrivilegeEscalation[i] <- PrivilegeEscalation[i] + 0.5\n",
    "        Exfiltration[i] <- Exfiltration[i] + 0.25\n",
    "    }\n",
    "    if(A==2) {\n",
    "        Reconnaissance[i] <- Reconnaissance[i] + 0.75\n",
    "        Delivery[i] <- Delivery[i] + 1\n",
    "        LateralMovement[i] <- LateralMovement[i] + 1\n",
    "        PrivilegeEscalation[i] <- PrivilegeEscalation[i] + 0.5\n",
    "        Exfiltration[i] <- Exfiltration[i] + 1\n",
    "    }\n",
    "    if(A==1) {\n",
    "        Reconnaissance[i] <- Reconnaissance[i] + 0.25\n",
    "        Delivery[i] <- Delivery[i] + 0.5\n",
    "        LateralMovement[i] <- LateralMovement[i] + 1.25\n",
    "        PrivilegeEscalation[i] <- PrivilegeEscalation[i] + 0.5\n",
    "        Exfiltration[i] <- Exfiltration[i] + 1.25\n",
    "    }\n",
    "    \n",
    "    Identical <- Identical[Identical$Authent.Type==AT, ]\n",
    "    I <- nrow(Identical)\n",
    "    if(I>=2) {\n",
    "        Reconnaissance[i] <- Reconnaissance[i] + 2\n",
    "        Delivery[i] <- Delivery[i] + 1\n",
    "        LateralMovement[i] <- LateralMovement[i] + 0.25\n",
    "        PrivilegeEscalation[i] <- PrivilegeEscalation[i] + 0.25\n",
    "        Exfiltration[i] <- Exfiltration[i] + 0.25  \n",
    "    }\n",
    "    if(I==1) {\n",
    "        # Reconnaissance[i] <- Reconnaissance[i] + 0\n",
    "        Delivery[i] <- Delivery[i] + 0.5\n",
    "        LateralMovement[i] <- LateralMovement[i] + 1\n",
    "        PrivilegeEscalation[i] <- PrivilegeEscalation[i] + 0.75\n",
    "        Exfiltration[i] <- Exfiltration[i] + 1\n",
    "    }\n",
    "    \n",
    "    Identical <- UserAndSourceFrequency[UserAndSourceFrequency$DstDevice==Dst, ]\n",
    "    AuthTypes <- length(unique(Identical$Authent.Types))\n",
    "    if(AuthTypes>=2) {\n",
    "        Reconnaissance[i] <- Reconnaissance[i] + 1.75\n",
    "        Delivery[i] <- Delivery[i] + 1.25\n",
    "        LateralMovement[i] <- LateralMovement[i] + 1.25\n",
    "        PrivilegeEscalation[i] <- PrivilegeEscalation[i] + 0.5\n",
    "        # Exfiltration[i] <- Exfiltration[i] + 0\n",
    "    }\n",
    "    if(AuthTypes==1) {\n",
    "        # Reconnaissance[i] <- Reconnaissance[i] + 0\n",
    "        Delivery[i] <- Delivery[i] + 0.25\n",
    "        LateralMovement[i] <- LateralMovement[i] + 0.25\n",
    "        PrivilegeEscalation[i] <- PrivilegeEscalation[i] + 0.5\n",
    "        # Exfiltration[i] <- Exfiltration[i] + 0\n",
    "    }\n",
    "    \n",
    "    if(FA==1) {\n",
    "        Reconnaissance[i] <- Reconnaissance[i] + 2\n",
    "        Delivery[i] <- Delivery[i] + 1.5\n",
    "        LateralMovement[i] <- LateralMovement[i] + 0.75\n",
    "        PrivilegeEscalation[i] <- PrivilegeEscalation[i] + 0.25\n",
    "        # Exfiltration[i] <- Exfiltration[i] + 0 \n",
    "    }\n",
    "    if(FA==0) {\n",
    "        # Reconnaissance[i] <- Reconnaissance[i] + 0\n",
    "        Delivery[i] <- Delivery[i] + 0.25\n",
    "        LateralMovement[i] <- LateralMovement[i] + 0.5\n",
    "        PrivilegeEscalation[i] <- PrivilegeEscalation[i] + 1.5\n",
    "        Exfiltration[i] <- Exfiltration[i] + 2\n",
    "    }\n",
    "    \n",
    "    OF <- sum(UserAndSourceFrequency$Failure)\n",
    "    SF <- nrow(UserAndSourceFrequency)\n",
    "    if(OF/SF>=0.8) {\n",
    "        Reconnaissance[i] <- Reconnaissance[i] + 2\n",
    "        Delivery[i] <- Delivery[i] + 0.25\n",
    "        # LateralMovement[i] <- LateralMovement[i] + 0\n",
    "        # PrivilegeEscalation[i] <- PrivilegeEscalation[i] + 0\n",
    "        # Exfiltration[i] <- Exfiltration[i] + 0\n",
    "    }\n",
    "    if(OF/SF>=0.5 & OF/SF<0.8) {\n",
    "        Reconnaissance[i] <- Reconnaissance[i] + 1.75\n",
    "        Delivery[i] <- Delivery[i] + 0.5\n",
    "        # LateralMovement[i] <- LateralMovement[i] + 0\n",
    "        # PrivilegeEscalation[i] <- PrivilegeEscalation[i] + 0\n",
    "        # Exfiltration[i] <- Exfiltration[i] + 0\n",
    "    }\n",
    "    if(OF/SF>=0.2 & OF/SF<0.5) {\n",
    "        Reconnaissance[i] <- Reconnaissance[i] + 1.25\n",
    "        Delivery[i] <- Delivery[i] + 1\n",
    "        LateralMovement[i] <- LateralMovement[i] + 0.5\n",
    "        # PrivilegeEscalation[i] <- PrivilegeEscalation[i] + 0\n",
    "        # Exfiltration[i] <- Exfiltration[i] + 0\n",
    "    }\n",
    "    if(OF/SF>=0.1 & OF/SF<0.2) {\n",
    "        Reconnaissance[i] <- Reconnaissance[i] + 0.5\n",
    "        Delivery[i] <- Delivery[i] + 1.25\n",
    "        LateralMovement[i] <- LateralMovement[i] + 0.75\n",
    "        # PrivilegeEscalation[i] <- PrivilegeEscalation[i] + 0\n",
    "        # Exfiltration[i] <- Exfiltration[i] + 0\n",
    "    }\n",
    "    if(OF/SF>=0.02 & OF/SF<0.1) {\n",
    "        Reconnaissance[i] <- Reconnaissance[i] + 0.25\n",
    "        Delivery[i] <- Delivery[i] + 1\n",
    "        LateralMovement[i] <- LateralMovement[i] + 0.5\n",
    "        PrivilegeEscalation[i] <- PrivilegeEscalation[i] + 0.5\n",
    "        Exfiltration[i] <- Exfiltration[i] + 0.25\n",
    "    }\n",
    "    if(OF/SF<0.02) {\n",
    "        # Reconnaissance[i] <- Reconnaissance[i] + 0\n",
    "        Delivery[i] <- Delivery[i] + 0.5\n",
    "        LateralMovement[i] <- LateralMovement[i] + 0.25\n",
    "        PrivilegeEscalation[i] <- PrivilegeEscalation[i] + 1.5\n",
    "        Exfiltration[i] <- Exfiltration[i] + 2\n",
    "    }\n",
    "    \n",
    "    Identical <- Identical[Identical$Authent.Type==AT, ]\n",
    "    FI <- length(unique(Identical$Failure))\n",
    "    if(FI>=2) {\n",
    "        Reconnaissance[i] <- Reconnaissance[i] + 0.5\n",
    "        Delivery[i] <- Delivery[i] + 0.25\n",
    "        LateralMovement[i] <- LateralMovement[i] + 0.5\n",
    "        # PrivilegeEscalation[i] <- PrivilegeEscalation[i] + 0\n",
    "        # Exfiltration[i] <- Exfiltration[i] + 0\n",
    "    }\n",
    "    if(FI==1) {\n",
    "        Reconnaissance[i] <- Reconnaissance[i] + 0.25\n",
    "        Delivery[i] <- Delivery[i] + 0.75\n",
    "        LateralMovement[i] <- LateralMovement[i] + 0.5\n",
    "        PrivilegeEscalation[i] <- PrivilegeEscalation[i] + 1.75\n",
    "        Exfiltration[i] <- Exfiltration[i] + 2\n",
    "    }\n",
    "    \n",
    "    if(AT=='TGT') {\n",
    "        # Reconnaissance[i] <- Reconnaissance[i] + 0\n",
    "        Delivery[i] <- Delivery[i] + 0.75\n",
    "        LateralMovement[i] <- LateralMovement[i] + 0.5\n",
    "        PrivilegeEscalation[i] <- PrivilegeEscalation[i] + 1.5\n",
    "        Exfiltration[i] <- Exfiltration[i] + 1.75\n",
    "    }\n",
    "    if(AT=='TGS') {\n",
    "        # Reconnaissance[i] <- Reconnaissance[i] + 0\n",
    "        Delivery[i] <- Delivery[i] + 1\n",
    "        LateralMovement[i] <- LateralMovement[i] + 0.5\n",
    "        PrivilegeEscalation[i] <- PrivilegeEscalation[i] + 1.5\n",
    "        Exfiltration[i] <- Exfiltration[i] + 1.75\n",
    "    }\n",
    "    if(AT=='InteractiveLogon' | AT=='RemoteInteractive') {\n",
    "        Reconnaissance[i] <- Reconnaissance[i] + 1.5\n",
    "        Delivery[i] <- Delivery[i] + 0.25\n",
    "        LateralMovement[i] <- LateralMovement[i] + 1\n",
    "        PrivilegeEscalation[i] <- PrivilegeEscalation[i] + 0.25\n",
    "        # Exfiltration[i] <- Exfiltration[i] + 0 \n",
    "    }\n",
    "    if(AT=='NetworkLogon') {\n",
    "        Reconnaissance[i] <- Reconnaissance[i] + 1.75\n",
    "        Delivery[i] <- Delivery[i] + 0.25\n",
    "        LateralMovement[i] <- LateralMovement[i] + 0.5\n",
    "        PrivilegeEscalation[i] <- PrivilegeEscalation[i] + 0.25\n",
    "        # Exfiltration[i] <- Exfiltration[i] + 0 \n",
    "    }\n",
    "    if(AT=='Batch') {\n",
    "        # Reconnaissance[i] <- Reconnaissance[i] + 0\n",
    "        Delivery[i] <- Delivery[i] + 1.5\n",
    "        LateralMovement[i] <- LateralMovement[i] + 0.25\n",
    "        PrivilegeEscalation[i] <- PrivilegeEscalation[i] + 0.5\n",
    "        Exfiltration[i] <- Exfiltration[i] + 1.25 \n",
    "    }\n",
    "    if(AT=='Service') {\n",
    "        # Reconnaissance[i] <- Reconnaissance[i] + 0\n",
    "        Delivery[i] <- Delivery[i] + 1.5\n",
    "        LateralMovement[i] <- LateralMovement[i] + 0.5\n",
    "        PrivilegeEscalation[i] <- PrivilegeEscalation[i] + 1.75\n",
    "        Exfiltration[i] <- Exfiltration[i] + 1.25 \n",
    "    }\n",
    "    if(AT=='WorkstationLock') {\n",
    "        # Reconnaissance[i] <- Reconnaissance[i] + 0\n",
    "        Delivery[i] <- Delivery[i] + 0.75\n",
    "        # LateralMovement[i] <- LateralMovement[i] + 0\n",
    "        PrivilegeEscalation[i] <- PrivilegeEscalation[i] + 0.25\n",
    "        Exfiltration[i] <- Exfiltration[i] + 2 \n",
    "    }\n",
    "    if(AT=='WorkstationUnlock') {\n",
    "        Reconnaissance[i] <- Reconnaissance[i] + 0.75\n",
    "        Delivery[i] <- Delivery[i] + 0.25\n",
    "        LateralMovement[i] <- LateralMovement[i] + 0.25\n",
    "        PrivilegeEscalation[i] <- PrivilegeEscalation[i] + 1\n",
    "        Exfiltration[i] <- Exfiltration[i] + 0.25 \n",
    "    }\n",
    "    if(AT=='ScreensaverInvoked') {\n",
    "        # Reconnaissance[i] <- Reconnaissance[i] + 0\n",
    "        Delivery[i] <- Delivery[i] + 0.75\n",
    "        # LateralMovement[i] <- LateralMovement[i] + 0\n",
    "        # PrivilegeEscalation[i] <- PrivilegeEscalation[i] + 0\n",
    "        # Exfiltration[i] <- Exfiltration[i] + 0\n",
    "    }\n",
    "    if(AT=='ScreensaverDismissed') {\n",
    "        # Reconnaissance[i] <- Reconnaissance[i] + 0\n",
    "        Delivery[i] <- Delivery[i] + 0.5\n",
    "        LateralMovement[i] <- LateralMovement[i] + 0.25\n",
    "        # PrivilegeEscalation[i] <- PrivilegeEscalation[i] + 0\n",
    "        # Exfiltration[i] <- Exfiltration[i] + 0\n",
    "    }\n",
    "    if(AT=='CachedInteractive') {\n",
    "        Reconnaissance[i] <- Reconnaissance[i] + 0.75\n",
    "        Delivery[i] <- Delivery[i] + 0.5\n",
    "        LateralMovement[i] <- LateralMovement[i] + 0.25\n",
    "        PrivilegeEscalation[i] <- PrivilegeEscalation[i] + 0.25\n",
    "        # Exfiltration[i] <- Exfiltration[i] + 0\n",
    "    }\n",
    "    progress(i)\n",
    "    # Sys.sleep(0.01)\n",
    "}\n",
    "  Stages <<- as.data.frame(cbind(Reconnaissance, Delivery, LateralMovement, PrivilegeEscalation, Exfiltration))\n",
    "    }"
   ]
  },
  {
   "cell_type": "code",
   "execution_count": 5,
   "id": "f1d46991",
   "metadata": {},
   "outputs": [],
   "source": [
    "StagesIntegrityTest <- function() {\n",
    "    c<- 0\n",
    "    for(i in 1:nrow(Stages)) {\n",
    "        S <- sum(Stages[i, ])\n",
    "        MaxMin <- max(Stages[i, ]) - min(Stages[i, ])\n",
    "        if(MaxMin <= S/10) {\n",
    "            c <- c+1\n",
    "        }\n",
    "    }\n",
    "    print(paste(\"The integrity of Stages is\", c/nrow(Stages)))\n",
    "}"
   ]
  },
  {
   "cell_type": "markdown",
   "id": "4c040d27",
   "metadata": {},
   "source": [
    "### Actual anomalies"
   ]
  },
  {
   "cell_type": "code",
   "execution_count": 6,
   "id": "bcbdc8b5",
   "metadata": {},
   "outputs": [
    {
     "name": "stdout",
     "output_type": "stream",
     "text": [
      "'data.frame':\t38712 obs. of  8 variables:\n",
      " $ UserName    : chr  \"User735240\" \"User735240\" \"User735240\" \"User735240\" ...\n",
      " $ SrcDevice   : chr  \"Comp700191\" \"Comp700191\" \"Comp738078\" \"Comp700191\" ...\n",
      " $ DstDevice   : chr  \"Comp774964\" \"Comp700191\" \"ActiveDirectory\" \"ActiveDirectory\" ...\n",
      " $ Authent.Type: chr  \"NetworkLogon\" \"NetworkLogon\" \"TGT\" \"TGT\" ...\n",
      " $ Failure     : int  0 0 0 0 0 0 0 0 0 0 ...\n",
      " $ DailyCount  : num  3 1 1 1 2 1 1 1 1 18 ...\n",
      " $ Hour        : int  0 0 5 6 12 17 18 19 19 23 ...\n",
      " $ Day         : int  59 59 59 59 59 59 59 59 59 59 ...\n"
     ]
    },
    {
     "data": {
      "text/html": [
       "<table>\n",
       "<thead><tr><th scope=col>UserName</th><th scope=col>SrcDevice</th><th scope=col>DstDevice</th><th scope=col>Authent.Type</th><th scope=col>Failure</th><th scope=col>DailyCount</th><th scope=col>Hour</th><th scope=col>Day</th></tr></thead>\n",
       "<tbody>\n",
       "\t<tr><td>User735240       </td><td>Comp700191       </td><td>Comp774964       </td><td>NetworkLogon     </td><td>0                </td><td> 3               </td><td> 0               </td><td>59               </td></tr>\n",
       "\t<tr><td>User735240       </td><td>Comp700191       </td><td>Comp700191       </td><td>NetworkLogon     </td><td>0                </td><td> 1               </td><td> 0               </td><td>59               </td></tr>\n",
       "\t<tr><td>User735240       </td><td>Comp738078       </td><td>ActiveDirectory  </td><td>TGT              </td><td>0                </td><td> 1               </td><td> 5               </td><td>59               </td></tr>\n",
       "\t<tr><td>User735240       </td><td>Comp700191       </td><td>ActiveDirectory  </td><td>TGT              </td><td>0                </td><td> 1               </td><td> 6               </td><td>59               </td></tr>\n",
       "\t<tr><td>User735240       </td><td>Comp738078       </td><td>Comp700191       </td><td>TGS              </td><td>0                </td><td> 2               </td><td>12               </td><td>59               </td></tr>\n",
       "\t<tr><td>User735240       </td><td>Comp738078       </td><td>Comp700191       </td><td>RemoteInteractive</td><td>0                </td><td> 1               </td><td>17               </td><td>59               </td></tr>\n",
       "\t<tr><td>User735240       </td><td>Comp700191       </td><td>Comp370444       </td><td>TGS              </td><td>0                </td><td> 1               </td><td>18               </td><td>59               </td></tr>\n",
       "\t<tr><td>User735240       </td><td>Comp700191       </td><td>Comp700191       </td><td>TGS              </td><td>0                </td><td> 1               </td><td>19               </td><td>59               </td></tr>\n",
       "\t<tr><td>User735240       </td><td>Comp700191       </td><td>Comp370444       </td><td>NetworkLogon     </td><td>0                </td><td> 1               </td><td>19               </td><td>59               </td></tr>\n",
       "\t<tr><td>User735240       </td><td>Comp700191       </td><td>ActiveDirectory  </td><td>NetworkLogon     </td><td>0                </td><td>18               </td><td>23               </td><td>59               </td></tr>\n",
       "</tbody>\n",
       "</table>\n"
      ],
      "text/latex": [
       "\\begin{tabular}{r|llllllll}\n",
       " UserName & SrcDevice & DstDevice & Authent.Type & Failure & DailyCount & Hour & Day\\\\\n",
       "\\hline\n",
       "\t User735240        & Comp700191        & Comp774964        & NetworkLogon      & 0                 &  3                &  0                & 59               \\\\\n",
       "\t User735240        & Comp700191        & Comp700191        & NetworkLogon      & 0                 &  1                &  0                & 59               \\\\\n",
       "\t User735240        & Comp738078        & ActiveDirectory   & TGT               & 0                 &  1                &  5                & 59               \\\\\n",
       "\t User735240        & Comp700191        & ActiveDirectory   & TGT               & 0                 &  1                &  6                & 59               \\\\\n",
       "\t User735240        & Comp738078        & Comp700191        & TGS               & 0                 &  2                & 12                & 59               \\\\\n",
       "\t User735240        & Comp738078        & Comp700191        & RemoteInteractive & 0                 &  1                & 17                & 59               \\\\\n",
       "\t User735240        & Comp700191        & Comp370444        & TGS               & 0                 &  1                & 18                & 59               \\\\\n",
       "\t User735240        & Comp700191        & Comp700191        & TGS               & 0                 &  1                & 19                & 59               \\\\\n",
       "\t User735240        & Comp700191        & Comp370444        & NetworkLogon      & 0                 &  1                & 19                & 59               \\\\\n",
       "\t User735240        & Comp700191        & ActiveDirectory   & NetworkLogon      & 0                 & 18                & 23                & 59               \\\\\n",
       "\\end{tabular}\n"
      ],
      "text/markdown": [
       "\n",
       "| UserName | SrcDevice | DstDevice | Authent.Type | Failure | DailyCount | Hour | Day |\n",
       "|---|---|---|---|---|---|---|---|\n",
       "| User735240        | Comp700191        | Comp774964        | NetworkLogon      | 0                 |  3                |  0                | 59                |\n",
       "| User735240        | Comp700191        | Comp700191        | NetworkLogon      | 0                 |  1                |  0                | 59                |\n",
       "| User735240        | Comp738078        | ActiveDirectory   | TGT               | 0                 |  1                |  5                | 59                |\n",
       "| User735240        | Comp700191        | ActiveDirectory   | TGT               | 0                 |  1                |  6                | 59                |\n",
       "| User735240        | Comp738078        | Comp700191        | TGS               | 0                 |  2                | 12                | 59                |\n",
       "| User735240        | Comp738078        | Comp700191        | RemoteInteractive | 0                 |  1                | 17                | 59                |\n",
       "| User735240        | Comp700191        | Comp370444        | TGS               | 0                 |  1                | 18                | 59                |\n",
       "| User735240        | Comp700191        | Comp700191        | TGS               | 0                 |  1                | 19                | 59                |\n",
       "| User735240        | Comp700191        | Comp370444        | NetworkLogon      | 0                 |  1                | 19                | 59                |\n",
       "| User735240        | Comp700191        | ActiveDirectory   | NetworkLogon      | 0                 | 18                | 23                | 59                |\n",
       "\n"
      ],
      "text/plain": [
       "   UserName   SrcDevice  DstDevice       Authent.Type      Failure DailyCount\n",
       "1  User735240 Comp700191 Comp774964      NetworkLogon      0        3        \n",
       "2  User735240 Comp700191 Comp700191      NetworkLogon      0        1        \n",
       "3  User735240 Comp738078 ActiveDirectory TGT               0        1        \n",
       "4  User735240 Comp700191 ActiveDirectory TGT               0        1        \n",
       "5  User735240 Comp738078 Comp700191      TGS               0        2        \n",
       "6  User735240 Comp738078 Comp700191      RemoteInteractive 0        1        \n",
       "7  User735240 Comp700191 Comp370444      TGS               0        1        \n",
       "8  User735240 Comp700191 Comp700191      TGS               0        1        \n",
       "9  User735240 Comp700191 Comp370444      NetworkLogon      0        1        \n",
       "10 User735240 Comp700191 ActiveDirectory NetworkLogon      0       18        \n",
       "   Hour Day\n",
       "1   0   59 \n",
       "2   0   59 \n",
       "3   5   59 \n",
       "4   6   59 \n",
       "5  12   59 \n",
       "6  17   59 \n",
       "7  18   59 \n",
       "8  19   59 \n",
       "9  19   59 \n",
       "10 23   59 "
      ]
     },
     "metadata": {},
     "output_type": "display_data"
    },
    {
     "data": {
      "text/html": [
       "<ol class=list-inline>\n",
       "\t<li>38712</li>\n",
       "\t<li>8</li>\n",
       "</ol>\n"
      ],
      "text/latex": [
       "\\begin{enumerate*}\n",
       "\\item 38712\n",
       "\\item 8\n",
       "\\end{enumerate*}\n"
      ],
      "text/markdown": [
       "1. 38712\n",
       "2. 8\n",
       "\n",
       "\n"
      ],
      "text/plain": [
       "[1] 38712     8"
      ]
     },
     "metadata": {},
     "output_type": "display_data"
    }
   ],
   "source": [
    "setwd(\"D://LA//ATI Data\")\n",
    "df <- read.table(file=\"FinalAnomalies.txt\", header=T, sep=\",\")\n",
    "df<- df[,-1]\n",
    "\n",
    "df %>% mutate(across(where(is.factor), as.character)) -> df\n",
    "\n",
    "str(df)\n",
    "head(df,10)\n",
    "dim(df)"
   ]
  },
  {
   "cell_type": "code",
   "execution_count": 7,
   "id": "d1661ff7",
   "metadata": {},
   "outputs": [
    {
     "data": {
      "text/html": [
       "<table>\n",
       "<thead><tr><th scope=col>UserName</th><th scope=col>SrcDevice</th><th scope=col>DstDevice</th><th scope=col>Authent.Type</th><th scope=col>Failure</th><th scope=col>DailyCount</th><th scope=col>Hour</th><th scope=col>Day</th></tr></thead>\n",
       "<tbody>\n",
       "\t<tr><td>User735240       </td><td>Comp700191       </td><td>Comp774964       </td><td>NetworkLogon     </td><td>0                </td><td>3                </td><td> 0               </td><td>59.00000         </td></tr>\n",
       "\t<tr><td>User735240       </td><td>Comp700191       </td><td>Comp700191       </td><td>NetworkLogon     </td><td>0                </td><td>1                </td><td> 0               </td><td>59.00000         </td></tr>\n",
       "\t<tr><td>User735240       </td><td>Comp738078       </td><td>ActiveDirectory  </td><td>TGT              </td><td>0                </td><td>1                </td><td> 5               </td><td>59.20833         </td></tr>\n",
       "\t<tr><td>User735240       </td><td>Comp700191       </td><td>ActiveDirectory  </td><td>TGT              </td><td>0                </td><td>1                </td><td> 6               </td><td>59.25000         </td></tr>\n",
       "\t<tr><td>User735240       </td><td>Comp738078       </td><td>Comp700191       </td><td>TGS              </td><td>0                </td><td>2                </td><td>12               </td><td>59.50000         </td></tr>\n",
       "\t<tr><td>User735240       </td><td>Comp738078       </td><td>Comp700191       </td><td>RemoteInteractive</td><td>0                </td><td>1                </td><td>17               </td><td>59.70833         </td></tr>\n",
       "</tbody>\n",
       "</table>\n"
      ],
      "text/latex": [
       "\\begin{tabular}{r|llllllll}\n",
       " UserName & SrcDevice & DstDevice & Authent.Type & Failure & DailyCount & Hour & Day\\\\\n",
       "\\hline\n",
       "\t User735240        & Comp700191        & Comp774964        & NetworkLogon      & 0                 & 3                 &  0                & 59.00000         \\\\\n",
       "\t User735240        & Comp700191        & Comp700191        & NetworkLogon      & 0                 & 1                 &  0                & 59.00000         \\\\\n",
       "\t User735240        & Comp738078        & ActiveDirectory   & TGT               & 0                 & 1                 &  5                & 59.20833         \\\\\n",
       "\t User735240        & Comp700191        & ActiveDirectory   & TGT               & 0                 & 1                 &  6                & 59.25000         \\\\\n",
       "\t User735240        & Comp738078        & Comp700191        & TGS               & 0                 & 2                 & 12                & 59.50000         \\\\\n",
       "\t User735240        & Comp738078        & Comp700191        & RemoteInteractive & 0                 & 1                 & 17                & 59.70833         \\\\\n",
       "\\end{tabular}\n"
      ],
      "text/markdown": [
       "\n",
       "| UserName | SrcDevice | DstDevice | Authent.Type | Failure | DailyCount | Hour | Day |\n",
       "|---|---|---|---|---|---|---|---|\n",
       "| User735240        | Comp700191        | Comp774964        | NetworkLogon      | 0                 | 3                 |  0                | 59.00000          |\n",
       "| User735240        | Comp700191        | Comp700191        | NetworkLogon      | 0                 | 1                 |  0                | 59.00000          |\n",
       "| User735240        | Comp738078        | ActiveDirectory   | TGT               | 0                 | 1                 |  5                | 59.20833          |\n",
       "| User735240        | Comp700191        | ActiveDirectory   | TGT               | 0                 | 1                 |  6                | 59.25000          |\n",
       "| User735240        | Comp738078        | Comp700191        | TGS               | 0                 | 2                 | 12                | 59.50000          |\n",
       "| User735240        | Comp738078        | Comp700191        | RemoteInteractive | 0                 | 1                 | 17                | 59.70833          |\n",
       "\n"
      ],
      "text/plain": [
       "  UserName   SrcDevice  DstDevice       Authent.Type      Failure DailyCount\n",
       "1 User735240 Comp700191 Comp774964      NetworkLogon      0       3         \n",
       "2 User735240 Comp700191 Comp700191      NetworkLogon      0       1         \n",
       "3 User735240 Comp738078 ActiveDirectory TGT               0       1         \n",
       "4 User735240 Comp700191 ActiveDirectory TGT               0       1         \n",
       "5 User735240 Comp738078 Comp700191      TGS               0       2         \n",
       "6 User735240 Comp738078 Comp700191      RemoteInteractive 0       1         \n",
       "  Hour Day     \n",
       "1  0   59.00000\n",
       "2  0   59.00000\n",
       "3  5   59.20833\n",
       "4  6   59.25000\n",
       "5 12   59.50000\n",
       "6 17   59.70833"
      ]
     },
     "metadata": {},
     "output_type": "display_data"
    }
   ],
   "source": [
    "df$Day <- df$Day + df$Hour/24\n",
    "head(df)"
   ]
  },
  {
   "cell_type": "code",
   "execution_count": 8,
   "id": "e46b76fc",
   "metadata": {},
   "outputs": [
    {
     "data": {
      "text/html": [
       "<table>\n",
       "<thead><tr><th></th><th scope=col>UserName</th><th scope=col>SrcDevice</th><th scope=col>DstDevice</th><th scope=col>Authent.Type</th><th scope=col>Failure</th><th scope=col>DailyCount</th><th scope=col>Hour</th><th scope=col>Day</th></tr></thead>\n",
       "<tbody>\n",
       "\t<tr><th scope=row>1079</th><td>User288751         </td><td>Comp468329         </td><td>Comp253429         </td><td>TGS                </td><td>0                  </td><td>  1                </td><td>0                  </td><td>58                 </td></tr>\n",
       "\t<tr><th scope=row>1080</th><td>User288751         </td><td>Comp468329         </td><td>Comp370444         </td><td>NetworkLogon       </td><td>0                  </td><td> 19                </td><td>0                  </td><td>58                 </td></tr>\n",
       "\t<tr><th scope=row>1081</th><td>User288751         </td><td>Comp916004         </td><td>Comp916004         </td><td>TGS                </td><td>0                  </td><td> 16                </td><td>0                  </td><td>58                 </td></tr>\n",
       "\t<tr><th scope=row>1082</th><td>User288751         </td><td>Comp468329         </td><td>Comp797582         </td><td>NetworkLogon       </td><td>0                  </td><td>  2                </td><td>0                  </td><td>58                 </td></tr>\n",
       "\t<tr><th scope=row>1649</th><td>User396223         </td><td>Comp068848         </td><td>ActiveDirectory    </td><td>TGT                </td><td>0                  </td><td>  2                </td><td>0                  </td><td>58                 </td></tr>\n",
       "\t<tr><th scope=row>2765</th><td>User341813         </td><td>Comp948451         </td><td>Comp915658         </td><td>NetworkLogon       </td><td>0                  </td><td>  4                </td><td>0                  </td><td>58                 </td></tr>\n",
       "\t<tr><th scope=row>2766</th><td>User341813         </td><td>Comp107130         </td><td>Comp916004         </td><td>NetworkLogon       </td><td>0                  </td><td> 27                </td><td>0                  </td><td>58                 </td></tr>\n",
       "\t<tr><th scope=row>3358</th><td>User091297         </td><td>Comp955934         </td><td>Comp939275         </td><td>NetworkLogon       </td><td>0                  </td><td>  2                </td><td>0                  </td><td>58                 </td></tr>\n",
       "\t<tr><th scope=row>3440</th><td>User379647         </td><td>Comp416133         </td><td>Comp370444         </td><td>TGS                </td><td>0                  </td><td>  1                </td><td>0                  </td><td>58                 </td></tr>\n",
       "\t<tr><th scope=row>3441</th><td>User379647         </td><td>Comp416133         </td><td>ActiveDirectory    </td><td>TGS                </td><td>0                  </td><td> 10                </td><td>0                  </td><td>58                 </td></tr>\n",
       "\t<tr><th scope=row>3442</th><td>User379647         </td><td>Comp083768         </td><td>None               </td><td>WorkstationLock    </td><td>0                  </td><td>  6                </td><td>0                  </td><td>58                 </td></tr>\n",
       "\t<tr><th scope=row>4285</th><td>User203147         </td><td>Comp107130         </td><td>Comp916004         </td><td>NetworkLogon       </td><td>0                  </td><td> 30                </td><td>0                  </td><td>58                 </td></tr>\n",
       "\t<tr><th scope=row>4286</th><td>User203147         </td><td>Comp679250         </td><td>Comp698972         </td><td>NetworkLogon       </td><td>0                  </td><td>  2                </td><td>0                  </td><td>58                 </td></tr>\n",
       "\t<tr><th scope=row>4287</th><td>User203147         </td><td>Comp679250         </td><td>Comp894088         </td><td>NetworkLogon       </td><td>0                  </td><td>  1                </td><td>0                  </td><td>58                 </td></tr>\n",
       "\t<tr><th scope=row>5827</th><td>User648781         </td><td>EnterpriseAppServer</td><td>EnterpriseAppServer</td><td>NetworkLogon       </td><td>0                  </td><td> 56                </td><td>0                  </td><td>58                 </td></tr>\n",
       "\t<tr><th scope=row>5828</th><td>User648781         </td><td>Comp537384         </td><td>Comp375796         </td><td>TGS                </td><td>0                  </td><td>  2                </td><td>0                  </td><td>58                 </td></tr>\n",
       "\t<tr><th scope=row>5829</th><td>User648781         </td><td>EnterpriseAppServer</td><td>Comp370444         </td><td>TGS                </td><td>0                  </td><td>  2                </td><td>0                  </td><td>58                 </td></tr>\n",
       "\t<tr><th scope=row>7272</th><td>User871458         </td><td>Comp273168         </td><td>Comp273168         </td><td>TGS                </td><td>0                  </td><td>  8                </td><td>0                  </td><td>58                 </td></tr>\n",
       "\t<tr><th scope=row>7541</th><td>User882755         </td><td>Comp599337         </td><td>ActiveDirectory    </td><td>TGS                </td><td>0                  </td><td>118                </td><td>0                  </td><td>58                 </td></tr>\n",
       "\t<tr><th scope=row>7973</th><td>User887454         </td><td>Comp818224         </td><td>Comp121122         </td><td>NetworkLogon       </td><td>0                  </td><td> 56                </td><td>0                  </td><td>58                 </td></tr>\n",
       "</tbody>\n",
       "</table>\n"
      ],
      "text/latex": [
       "\\begin{tabular}{r|llllllll}\n",
       "  & UserName & SrcDevice & DstDevice & Authent.Type & Failure & DailyCount & Hour & Day\\\\\n",
       "\\hline\n",
       "\t1079 & User288751          & Comp468329          & Comp253429          & TGS                 & 0                   &   1                 & 0                   & 58                 \\\\\n",
       "\t1080 & User288751          & Comp468329          & Comp370444          & NetworkLogon        & 0                   &  19                 & 0                   & 58                 \\\\\n",
       "\t1081 & User288751          & Comp916004          & Comp916004          & TGS                 & 0                   &  16                 & 0                   & 58                 \\\\\n",
       "\t1082 & User288751          & Comp468329          & Comp797582          & NetworkLogon        & 0                   &   2                 & 0                   & 58                 \\\\\n",
       "\t1649 & User396223          & Comp068848          & ActiveDirectory     & TGT                 & 0                   &   2                 & 0                   & 58                 \\\\\n",
       "\t2765 & User341813          & Comp948451          & Comp915658          & NetworkLogon        & 0                   &   4                 & 0                   & 58                 \\\\\n",
       "\t2766 & User341813          & Comp107130          & Comp916004          & NetworkLogon        & 0                   &  27                 & 0                   & 58                 \\\\\n",
       "\t3358 & User091297          & Comp955934          & Comp939275          & NetworkLogon        & 0                   &   2                 & 0                   & 58                 \\\\\n",
       "\t3440 & User379647          & Comp416133          & Comp370444          & TGS                 & 0                   &   1                 & 0                   & 58                 \\\\\n",
       "\t3441 & User379647          & Comp416133          & ActiveDirectory     & TGS                 & 0                   &  10                 & 0                   & 58                 \\\\\n",
       "\t3442 & User379647          & Comp083768          & None                & WorkstationLock     & 0                   &   6                 & 0                   & 58                 \\\\\n",
       "\t4285 & User203147          & Comp107130          & Comp916004          & NetworkLogon        & 0                   &  30                 & 0                   & 58                 \\\\\n",
       "\t4286 & User203147          & Comp679250          & Comp698972          & NetworkLogon        & 0                   &   2                 & 0                   & 58                 \\\\\n",
       "\t4287 & User203147          & Comp679250          & Comp894088          & NetworkLogon        & 0                   &   1                 & 0                   & 58                 \\\\\n",
       "\t5827 & User648781          & EnterpriseAppServer & EnterpriseAppServer & NetworkLogon        & 0                   &  56                 & 0                   & 58                 \\\\\n",
       "\t5828 & User648781          & Comp537384          & Comp375796          & TGS                 & 0                   &   2                 & 0                   & 58                 \\\\\n",
       "\t5829 & User648781          & EnterpriseAppServer & Comp370444          & TGS                 & 0                   &   2                 & 0                   & 58                 \\\\\n",
       "\t7272 & User871458          & Comp273168          & Comp273168          & TGS                 & 0                   &   8                 & 0                   & 58                 \\\\\n",
       "\t7541 & User882755          & Comp599337          & ActiveDirectory     & TGS                 & 0                   & 118                 & 0                   & 58                 \\\\\n",
       "\t7973 & User887454          & Comp818224          & Comp121122          & NetworkLogon        & 0                   &  56                 & 0                   & 58                 \\\\\n",
       "\\end{tabular}\n"
      ],
      "text/markdown": [
       "\n",
       "| <!--/--> | UserName | SrcDevice | DstDevice | Authent.Type | Failure | DailyCount | Hour | Day |\n",
       "|---|---|---|---|---|---|---|---|---|\n",
       "| 1079 | User288751          | Comp468329          | Comp253429          | TGS                 | 0                   |   1                 | 0                   | 58                  |\n",
       "| 1080 | User288751          | Comp468329          | Comp370444          | NetworkLogon        | 0                   |  19                 | 0                   | 58                  |\n",
       "| 1081 | User288751          | Comp916004          | Comp916004          | TGS                 | 0                   |  16                 | 0                   | 58                  |\n",
       "| 1082 | User288751          | Comp468329          | Comp797582          | NetworkLogon        | 0                   |   2                 | 0                   | 58                  |\n",
       "| 1649 | User396223          | Comp068848          | ActiveDirectory     | TGT                 | 0                   |   2                 | 0                   | 58                  |\n",
       "| 2765 | User341813          | Comp948451          | Comp915658          | NetworkLogon        | 0                   |   4                 | 0                   | 58                  |\n",
       "| 2766 | User341813          | Comp107130          | Comp916004          | NetworkLogon        | 0                   |  27                 | 0                   | 58                  |\n",
       "| 3358 | User091297          | Comp955934          | Comp939275          | NetworkLogon        | 0                   |   2                 | 0                   | 58                  |\n",
       "| 3440 | User379647          | Comp416133          | Comp370444          | TGS                 | 0                   |   1                 | 0                   | 58                  |\n",
       "| 3441 | User379647          | Comp416133          | ActiveDirectory     | TGS                 | 0                   |  10                 | 0                   | 58                  |\n",
       "| 3442 | User379647          | Comp083768          | None                | WorkstationLock     | 0                   |   6                 | 0                   | 58                  |\n",
       "| 4285 | User203147          | Comp107130          | Comp916004          | NetworkLogon        | 0                   |  30                 | 0                   | 58                  |\n",
       "| 4286 | User203147          | Comp679250          | Comp698972          | NetworkLogon        | 0                   |   2                 | 0                   | 58                  |\n",
       "| 4287 | User203147          | Comp679250          | Comp894088          | NetworkLogon        | 0                   |   1                 | 0                   | 58                  |\n",
       "| 5827 | User648781          | EnterpriseAppServer | EnterpriseAppServer | NetworkLogon        | 0                   |  56                 | 0                   | 58                  |\n",
       "| 5828 | User648781          | Comp537384          | Comp375796          | TGS                 | 0                   |   2                 | 0                   | 58                  |\n",
       "| 5829 | User648781          | EnterpriseAppServer | Comp370444          | TGS                 | 0                   |   2                 | 0                   | 58                  |\n",
       "| 7272 | User871458          | Comp273168          | Comp273168          | TGS                 | 0                   |   8                 | 0                   | 58                  |\n",
       "| 7541 | User882755          | Comp599337          | ActiveDirectory     | TGS                 | 0                   | 118                 | 0                   | 58                  |\n",
       "| 7973 | User887454          | Comp818224          | Comp121122          | NetworkLogon        | 0                   |  56                 | 0                   | 58                  |\n",
       "\n"
      ],
      "text/plain": [
       "     UserName   SrcDevice           DstDevice           Authent.Type    Failure\n",
       "1079 User288751 Comp468329          Comp253429          TGS             0      \n",
       "1080 User288751 Comp468329          Comp370444          NetworkLogon    0      \n",
       "1081 User288751 Comp916004          Comp916004          TGS             0      \n",
       "1082 User288751 Comp468329          Comp797582          NetworkLogon    0      \n",
       "1649 User396223 Comp068848          ActiveDirectory     TGT             0      \n",
       "2765 User341813 Comp948451          Comp915658          NetworkLogon    0      \n",
       "2766 User341813 Comp107130          Comp916004          NetworkLogon    0      \n",
       "3358 User091297 Comp955934          Comp939275          NetworkLogon    0      \n",
       "3440 User379647 Comp416133          Comp370444          TGS             0      \n",
       "3441 User379647 Comp416133          ActiveDirectory     TGS             0      \n",
       "3442 User379647 Comp083768          None                WorkstationLock 0      \n",
       "4285 User203147 Comp107130          Comp916004          NetworkLogon    0      \n",
       "4286 User203147 Comp679250          Comp698972          NetworkLogon    0      \n",
       "4287 User203147 Comp679250          Comp894088          NetworkLogon    0      \n",
       "5827 User648781 EnterpriseAppServer EnterpriseAppServer NetworkLogon    0      \n",
       "5828 User648781 Comp537384          Comp375796          TGS             0      \n",
       "5829 User648781 EnterpriseAppServer Comp370444          TGS             0      \n",
       "7272 User871458 Comp273168          Comp273168          TGS             0      \n",
       "7541 User882755 Comp599337          ActiveDirectory     TGS             0      \n",
       "7973 User887454 Comp818224          Comp121122          NetworkLogon    0      \n",
       "     DailyCount Hour Day\n",
       "1079   1        0    58 \n",
       "1080  19        0    58 \n",
       "1081  16        0    58 \n",
       "1082   2        0    58 \n",
       "1649   2        0    58 \n",
       "2765   4        0    58 \n",
       "2766  27        0    58 \n",
       "3358   2        0    58 \n",
       "3440   1        0    58 \n",
       "3441  10        0    58 \n",
       "3442   6        0    58 \n",
       "4285  30        0    58 \n",
       "4286   2        0    58 \n",
       "4287   1        0    58 \n",
       "5827  56        0    58 \n",
       "5828   2        0    58 \n",
       "5829   2        0    58 \n",
       "7272   8        0    58 \n",
       "7541 118        0    58 \n",
       "7973  56        0    58 "
      ]
     },
     "metadata": {},
     "output_type": "display_data"
    }
   ],
   "source": [
    "df<- df[order(df$Day), ]\n",
    "head(df, 20)"
   ]
  },
  {
   "cell_type": "code",
   "execution_count": 9,
   "id": "e0771327",
   "metadata": {},
   "outputs": [
    {
     "data": {
      "text/html": [
       "<table>\n",
       "<thead><tr><th></th><th scope=col>UserName</th><th scope=col>SrcDevice</th><th scope=col>DstDevice</th><th scope=col>Authent.Type</th><th scope=col>Failure</th></tr></thead>\n",
       "<tbody>\n",
       "\t<tr><th scope=row>1079</th><td>User288751     </td><td>Comp468329     </td><td>Comp253429     </td><td>TGS            </td><td>0              </td></tr>\n",
       "\t<tr><th scope=row>1080</th><td>User288751     </td><td>Comp468329     </td><td>Comp370444     </td><td>NetworkLogon   </td><td>0              </td></tr>\n",
       "\t<tr><th scope=row>1081</th><td>User288751     </td><td>Comp916004     </td><td>Comp916004     </td><td>TGS            </td><td>0              </td></tr>\n",
       "\t<tr><th scope=row>1082</th><td>User288751     </td><td>Comp468329     </td><td>Comp797582     </td><td>NetworkLogon   </td><td>0              </td></tr>\n",
       "\t<tr><th scope=row>1649</th><td>User396223     </td><td>Comp068848     </td><td>ActiveDirectory</td><td>TGT            </td><td>0              </td></tr>\n",
       "\t<tr><th scope=row>2765</th><td>User341813     </td><td>Comp948451     </td><td>Comp915658     </td><td>NetworkLogon   </td><td>0              </td></tr>\n",
       "</tbody>\n",
       "</table>\n"
      ],
      "text/latex": [
       "\\begin{tabular}{r|lllll}\n",
       "  & UserName & SrcDevice & DstDevice & Authent.Type & Failure\\\\\n",
       "\\hline\n",
       "\t1079 & User288751      & Comp468329      & Comp253429      & TGS             & 0              \\\\\n",
       "\t1080 & User288751      & Comp468329      & Comp370444      & NetworkLogon    & 0              \\\\\n",
       "\t1081 & User288751      & Comp916004      & Comp916004      & TGS             & 0              \\\\\n",
       "\t1082 & User288751      & Comp468329      & Comp797582      & NetworkLogon    & 0              \\\\\n",
       "\t1649 & User396223      & Comp068848      & ActiveDirectory & TGT             & 0              \\\\\n",
       "\t2765 & User341813      & Comp948451      & Comp915658      & NetworkLogon    & 0              \\\\\n",
       "\\end{tabular}\n"
      ],
      "text/markdown": [
       "\n",
       "| <!--/--> | UserName | SrcDevice | DstDevice | Authent.Type | Failure |\n",
       "|---|---|---|---|---|---|\n",
       "| 1079 | User288751      | Comp468329      | Comp253429      | TGS             | 0               |\n",
       "| 1080 | User288751      | Comp468329      | Comp370444      | NetworkLogon    | 0               |\n",
       "| 1081 | User288751      | Comp916004      | Comp916004      | TGS             | 0               |\n",
       "| 1082 | User288751      | Comp468329      | Comp797582      | NetworkLogon    | 0               |\n",
       "| 1649 | User396223      | Comp068848      | ActiveDirectory | TGT             | 0               |\n",
       "| 2765 | User341813      | Comp948451      | Comp915658      | NetworkLogon    | 0               |\n",
       "\n"
      ],
      "text/plain": [
       "     UserName   SrcDevice  DstDevice       Authent.Type Failure\n",
       "1079 User288751 Comp468329 Comp253429      TGS          0      \n",
       "1080 User288751 Comp468329 Comp370444      NetworkLogon 0      \n",
       "1081 User288751 Comp916004 Comp916004      TGS          0      \n",
       "1082 User288751 Comp468329 Comp797582      NetworkLogon 0      \n",
       "1649 User396223 Comp068848 ActiveDirectory TGT          0      \n",
       "2765 User341813 Comp948451 Comp915658      NetworkLogon 0      "
      ]
     },
     "metadata": {},
     "output_type": "display_data"
    }
   ],
   "source": [
    "df<- df[,-c(6:8)]\n",
    "head(df)"
   ]
  },
  {
   "cell_type": "markdown",
   "id": "2917a5dd",
   "metadata": {},
   "source": [
    "_At this stage we have our desired dataset_"
   ]
  },
  {
   "cell_type": "code",
   "execution_count": 10,
   "id": "e9caabe7",
   "metadata": {},
   "outputs": [
    {
     "data": {
      "text/html": [
       "<ol class=list-inline>\n",
       "\t<li>'winservice'</li>\n",
       "\t<li>'AppService'</li>\n",
       "\t<li>'Administrator'</li>\n",
       "</ol>\n"
      ],
      "text/latex": [
       "\\begin{enumerate*}\n",
       "\\item 'winservice'\n",
       "\\item 'AppService'\n",
       "\\item 'Administrator'\n",
       "\\end{enumerate*}\n"
      ],
      "text/markdown": [
       "1. 'winservice'\n",
       "2. 'AppService'\n",
       "3. 'Administrator'\n",
       "\n",
       "\n"
      ],
      "text/plain": [
       "[1] \"winservice\"    \"AppService\"    \"Administrator\""
      ]
     },
     "metadata": {},
     "output_type": "display_data"
    }
   ],
   "source": [
    "g<- grep(pattern='User', x=df$UserName)\n",
    "Special <- unique(df$UserName[-g])\n",
    "g<- grep(pattern='Comp', x=Special)\n",
    "Special <- Special[-g]\n",
    "Special"
   ]
  },
  {
   "cell_type": "code",
   "execution_count": 11,
   "id": "3d192730",
   "metadata": {},
   "outputs": [
    {
     "name": "stdout",
     "output_type": "stream",
     "text": [
      "Progress:   1%Progress:   2%Progress:   3%Progress:   4%Progress:   5%Progress:   6%Progress:   7%Progress:   8%Progress:   9%Progress:  10%Progress:  11%Progress:  12%Progress:  13%Progress:  14%Progress:  15%Progress:  16%Progress:  17%Progress:  18%Progress:  19%Progress:  20%Progress:  21%Progress:  22%Progress:  23%Progress:  24%Progress:  25%Progress:  26%Progress:  27%Progress:  28%Progress:  29%Progress:  30%Progress:  31%Progress:  32%Progress:  33%Progress:  34%Progress:  35%Progress:  36%Progress:  37%Progress:  38%Progress:  39%Progress:  40%Progress:  41%Progress:  42%Progress:  43%Progress:  44%Progress:  45%Progress:  46%Progress:  47%Progress:  48%Progress:  49%Progress:  50%Progress:  51%Progress:  52%Progress:  53%Progress:  54%Progress:  55%Progress:  56%Progress:  57%Progress:  58%Progress:  59%Progress:  60%Progress:  61%Progress:  62%Progress:  63%Progress:  64%Progress:  65%Progress:  66%Progress:  67%Progress:  68%Progress:  69%Progress:  70%Progress:  71%Progress:  72%Progress:  73%Progress:  74%Progress:  75%Progress:  76%Progress:  77%Progress:  78%Progress:  79%Progress:  80%Progress:  81%Progress:  82%Progress:  83%Progress:  84%Progress:  85%Progress:  86%Progress:  87%Progress:  88%Progress:  89%Progress:  90%Progress:  91%Progress:  92%Progress:  93%Progress:  94%Progress:  95%Progress:  96%Progress:  97%Progress:  98%Progress:  99%Progress: 100%              "
     ]
    }
   ],
   "source": [
    "DecisionScoring(df)"
   ]
  },
  {
   "cell_type": "code",
   "execution_count": 12,
   "id": "39f213cf",
   "metadata": {},
   "outputs": [
    {
     "data": {
      "text/html": [
       "<table>\n",
       "<thead><tr><th scope=col>Reconnaissance</th><th scope=col>Delivery</th><th scope=col>LateralMovement</th><th scope=col>PrivilegeEscalation</th><th scope=col>Exfiltration</th></tr></thead>\n",
       "<tbody>\n",
       "\t<tr><td> 8.00</td><td>7.50 </td><td>7.75 </td><td> 9.25</td><td> 9.25</td></tr>\n",
       "\t<tr><td>12.50</td><td>6.25 </td><td>7.50 </td><td> 7.75</td><td> 7.50</td></tr>\n",
       "\t<tr><td>10.25</td><td>7.00 </td><td>7.50 </td><td>11.25</td><td>10.50</td></tr>\n",
       "\t<tr><td> 8.75</td><td>7.50 </td><td>7.00 </td><td> 8.25</td><td> 7.00</td></tr>\n",
       "\t<tr><td>10.25</td><td>7.00 </td><td>7.75 </td><td> 9.25</td><td> 9.50</td></tr>\n",
       "\t<tr><td>14.00</td><td>7.25 </td><td>7.50 </td><td> 6.75</td><td> 5.50</td></tr>\n",
       "\t<tr><td>11.25</td><td>5.50 </td><td>5.50 </td><td> 8.75</td><td> 9.75</td></tr>\n",
       "\t<tr><td>11.25</td><td>7.25 </td><td>5.00 </td><td> 6.00</td><td> 5.50</td></tr>\n",
       "\t<tr><td> 6.75</td><td>6.75 </td><td>9.25 </td><td>10.25</td><td>11.00</td></tr>\n",
       "\t<tr><td> 6.75</td><td>6.75 </td><td>9.25 </td><td>10.25</td><td>11.00</td></tr>\n",
       "\t<tr><td>12.75</td><td>7.75 </td><td>7.25 </td><td> 6.75</td><td> 7.75</td></tr>\n",
       "\t<tr><td>11.25</td><td>5.50 </td><td>5.50 </td><td> 8.75</td><td> 9.75</td></tr>\n",
       "\t<tr><td>12.25</td><td>7.25 </td><td>7.50 </td><td> 8.00</td><td> 6.25</td></tr>\n",
       "\t<tr><td>12.75</td><td>7.25 </td><td>7.25 </td><td> 8.00</td><td> 6.00</td></tr>\n",
       "\t<tr><td>11.75</td><td>7.00 </td><td>7.50 </td><td> 9.50</td><td> 8.25</td></tr>\n",
       "\t<tr><td> 9.75</td><td>8.75 </td><td>7.25 </td><td> 8.25</td><td> 7.25</td></tr>\n",
       "\t<tr><td>11.00</td><td>7.75 </td><td>7.75 </td><td>10.75</td><td>10.50</td></tr>\n",
       "\t<tr><td> 7.25</td><td>9.00 </td><td>7.50 </td><td> 8.50</td><td> 7.25</td></tr>\n",
       "\t<tr><td>12.50</td><td>7.50 </td><td>7.50 </td><td> 9.00</td><td> 9.25</td></tr>\n",
       "\t<tr><td>11.50</td><td>8.00 </td><td>7.25 </td><td> 7.00</td><td> 5.50</td></tr>\n",
       "\t<tr><td>11.75</td><td>8.25 </td><td>7.75 </td><td> 8.25</td><td> 7.50</td></tr>\n",
       "\t<tr><td>10.00</td><td>7.00 </td><td>8.50 </td><td>11.50</td><td>11.25</td></tr>\n",
       "\t<tr><td>11.25</td><td>6.50 </td><td>8.00 </td><td>10.25</td><td> 8.75</td></tr>\n",
       "\t<tr><td>10.75</td><td>7.00 </td><td>7.50 </td><td> 9.00</td><td> 9.25</td></tr>\n",
       "\t<tr><td> 9.25</td><td>7.25 </td><td>7.50 </td><td> 9.50</td><td> 9.25</td></tr>\n",
       "</tbody>\n",
       "</table>\n"
      ],
      "text/latex": [
       "\\begin{tabular}{r|lllll}\n",
       " Reconnaissance & Delivery & LateralMovement & PrivilegeEscalation & Exfiltration\\\\\n",
       "\\hline\n",
       "\t  8.00 & 7.50  & 7.75  &  9.25 &  9.25\\\\\n",
       "\t 12.50 & 6.25  & 7.50  &  7.75 &  7.50\\\\\n",
       "\t 10.25 & 7.00  & 7.50  & 11.25 & 10.50\\\\\n",
       "\t  8.75 & 7.50  & 7.00  &  8.25 &  7.00\\\\\n",
       "\t 10.25 & 7.00  & 7.75  &  9.25 &  9.50\\\\\n",
       "\t 14.00 & 7.25  & 7.50  &  6.75 &  5.50\\\\\n",
       "\t 11.25 & 5.50  & 5.50  &  8.75 &  9.75\\\\\n",
       "\t 11.25 & 7.25  & 5.00  &  6.00 &  5.50\\\\\n",
       "\t  6.75 & 6.75  & 9.25  & 10.25 & 11.00\\\\\n",
       "\t  6.75 & 6.75  & 9.25  & 10.25 & 11.00\\\\\n",
       "\t 12.75 & 7.75  & 7.25  &  6.75 &  7.75\\\\\n",
       "\t 11.25 & 5.50  & 5.50  &  8.75 &  9.75\\\\\n",
       "\t 12.25 & 7.25  & 7.50  &  8.00 &  6.25\\\\\n",
       "\t 12.75 & 7.25  & 7.25  &  8.00 &  6.00\\\\\n",
       "\t 11.75 & 7.00  & 7.50  &  9.50 &  8.25\\\\\n",
       "\t  9.75 & 8.75  & 7.25  &  8.25 &  7.25\\\\\n",
       "\t 11.00 & 7.75  & 7.75  & 10.75 & 10.50\\\\\n",
       "\t  7.25 & 9.00  & 7.50  &  8.50 &  7.25\\\\\n",
       "\t 12.50 & 7.50  & 7.50  &  9.00 &  9.25\\\\\n",
       "\t 11.50 & 8.00  & 7.25  &  7.00 &  5.50\\\\\n",
       "\t 11.75 & 8.25  & 7.75  &  8.25 &  7.50\\\\\n",
       "\t 10.00 & 7.00  & 8.50  & 11.50 & 11.25\\\\\n",
       "\t 11.25 & 6.50  & 8.00  & 10.25 &  8.75\\\\\n",
       "\t 10.75 & 7.00  & 7.50  &  9.00 &  9.25\\\\\n",
       "\t  9.25 & 7.25  & 7.50  &  9.50 &  9.25\\\\\n",
       "\\end{tabular}\n"
      ],
      "text/markdown": [
       "\n",
       "| Reconnaissance | Delivery | LateralMovement | PrivilegeEscalation | Exfiltration |\n",
       "|---|---|---|---|---|\n",
       "|  8.00 | 7.50  | 7.75  |  9.25 |  9.25 |\n",
       "| 12.50 | 6.25  | 7.50  |  7.75 |  7.50 |\n",
       "| 10.25 | 7.00  | 7.50  | 11.25 | 10.50 |\n",
       "|  8.75 | 7.50  | 7.00  |  8.25 |  7.00 |\n",
       "| 10.25 | 7.00  | 7.75  |  9.25 |  9.50 |\n",
       "| 14.00 | 7.25  | 7.50  |  6.75 |  5.50 |\n",
       "| 11.25 | 5.50  | 5.50  |  8.75 |  9.75 |\n",
       "| 11.25 | 7.25  | 5.00  |  6.00 |  5.50 |\n",
       "|  6.75 | 6.75  | 9.25  | 10.25 | 11.00 |\n",
       "|  6.75 | 6.75  | 9.25  | 10.25 | 11.00 |\n",
       "| 12.75 | 7.75  | 7.25  |  6.75 |  7.75 |\n",
       "| 11.25 | 5.50  | 5.50  |  8.75 |  9.75 |\n",
       "| 12.25 | 7.25  | 7.50  |  8.00 |  6.25 |\n",
       "| 12.75 | 7.25  | 7.25  |  8.00 |  6.00 |\n",
       "| 11.75 | 7.00  | 7.50  |  9.50 |  8.25 |\n",
       "|  9.75 | 8.75  | 7.25  |  8.25 |  7.25 |\n",
       "| 11.00 | 7.75  | 7.75  | 10.75 | 10.50 |\n",
       "|  7.25 | 9.00  | 7.50  |  8.50 |  7.25 |\n",
       "| 12.50 | 7.50  | 7.50  |  9.00 |  9.25 |\n",
       "| 11.50 | 8.00  | 7.25  |  7.00 |  5.50 |\n",
       "| 11.75 | 8.25  | 7.75  |  8.25 |  7.50 |\n",
       "| 10.00 | 7.00  | 8.50  | 11.50 | 11.25 |\n",
       "| 11.25 | 6.50  | 8.00  | 10.25 |  8.75 |\n",
       "| 10.75 | 7.00  | 7.50  |  9.00 |  9.25 |\n",
       "|  9.25 | 7.25  | 7.50  |  9.50 |  9.25 |\n",
       "\n"
      ],
      "text/plain": [
       "   Reconnaissance Delivery LateralMovement PrivilegeEscalation Exfiltration\n",
       "1   8.00          7.50     7.75             9.25                9.25       \n",
       "2  12.50          6.25     7.50             7.75                7.50       \n",
       "3  10.25          7.00     7.50            11.25               10.50       \n",
       "4   8.75          7.50     7.00             8.25                7.00       \n",
       "5  10.25          7.00     7.75             9.25                9.50       \n",
       "6  14.00          7.25     7.50             6.75                5.50       \n",
       "7  11.25          5.50     5.50             8.75                9.75       \n",
       "8  11.25          7.25     5.00             6.00                5.50       \n",
       "9   6.75          6.75     9.25            10.25               11.00       \n",
       "10  6.75          6.75     9.25            10.25               11.00       \n",
       "11 12.75          7.75     7.25             6.75                7.75       \n",
       "12 11.25          5.50     5.50             8.75                9.75       \n",
       "13 12.25          7.25     7.50             8.00                6.25       \n",
       "14 12.75          7.25     7.25             8.00                6.00       \n",
       "15 11.75          7.00     7.50             9.50                8.25       \n",
       "16  9.75          8.75     7.25             8.25                7.25       \n",
       "17 11.00          7.75     7.75            10.75               10.50       \n",
       "18  7.25          9.00     7.50             8.50                7.25       \n",
       "19 12.50          7.50     7.50             9.00                9.25       \n",
       "20 11.50          8.00     7.25             7.00                5.50       \n",
       "21 11.75          8.25     7.75             8.25                7.50       \n",
       "22 10.00          7.00     8.50            11.50               11.25       \n",
       "23 11.25          6.50     8.00            10.25                8.75       \n",
       "24 10.75          7.00     7.50             9.00                9.25       \n",
       "25  9.25          7.25     7.50             9.50                9.25       "
      ]
     },
     "metadata": {},
     "output_type": "display_data"
    }
   ],
   "source": [
    "head(Stages, 25)"
   ]
  },
  {
   "cell_type": "code",
   "execution_count": 13,
   "id": "4383b4c5",
   "metadata": {},
   "outputs": [
    {
     "name": "stdout",
     "output_type": "stream",
     "text": [
      "[1] \"The integrity of Stages is 0.326436247158504\"\n"
     ]
    }
   ],
   "source": [
    "StagesIntegrityTest()"
   ]
  },
  {
   "cell_type": "code",
   "execution_count": 14,
   "id": "54b5bc1d",
   "metadata": {},
   "outputs": [],
   "source": [
    "StageAssignExpect <- function() {\n",
    "    R <- rowSums(Stages)\n",
    "    Probs <- Stages/R\n",
    "    Maximum <- pmax(Probs$Reconnaissance,Probs$Delivery,Probs$LateralMovement,Probs$PrivilegeEscalation,Probs$Exfiltration)\n",
    "    Probs_with_clusters <- cbind(Probs, Maximum)\n",
    "    \n",
    "    Cluster <- vector(len=nrow(Probs_with_clusters))\n",
    "for(i in 1:nrow(Probs_with_clusters)) {\n",
    "    if(Probs_with_clusters$Maximum[i]==Probs_with_clusters$Reconnaissance[i]) {\n",
    "        Cluster[i] <- \"R\"\n",
    "    }\n",
    "    if(Probs_with_clusters$Maximum[i]==Probs_with_clusters$Delivery[i]) {\n",
    "        Cluster[i] <- \"D\"\n",
    "    }\n",
    "    if(Probs_with_clusters$Maximum[i]==Probs_with_clusters$LateralMovement[i]) {\n",
    "        Cluster[i] <- \"LM\"\n",
    "    }\n",
    "    if(Probs_with_clusters$Maximum[i]==Probs_with_clusters$PrivilegeEscalation[i]) {\n",
    "        Cluster[i] <- \"PE\"\n",
    "    }\n",
    "    if(Probs_with_clusters$Maximum[i]==Probs_with_clusters$Exfiltration[i]) {\n",
    "        Cluster[i] <- \"E\"\n",
    "    }\n",
    "}\n",
    "\n",
    "Probs_with_clusters <<- cbind(UserName = df$UserName, Probs_with_clusters, Cluster)\n",
    "\n",
    "}"
   ]
  },
  {
   "cell_type": "code",
   "execution_count": 15,
   "id": "22d9d1b5",
   "metadata": {},
   "outputs": [],
   "source": [
    "StageAssignExpect()"
   ]
  },
  {
   "cell_type": "code",
   "execution_count": 16,
   "id": "3cca25cf",
   "metadata": {},
   "outputs": [
    {
     "data": {
      "text/html": [
       "<table>\n",
       "<thead><tr><th scope=col>UserName</th><th scope=col>Reconnaissance</th><th scope=col>Delivery</th><th scope=col>LateralMovement</th><th scope=col>PrivilegeEscalation</th><th scope=col>Exfiltration</th><th scope=col>Maximum</th><th scope=col>Cluster</th></tr></thead>\n",
       "<tbody>\n",
       "\t<tr><td>User288751</td><td>0.1916168 </td><td>0.1796407 </td><td>0.1856287 </td><td>0.2215569 </td><td>0.2215569 </td><td>0.2215569 </td><td>E         </td></tr>\n",
       "\t<tr><td>User288751</td><td>0.3012048 </td><td>0.1506024 </td><td>0.1807229 </td><td>0.1867470 </td><td>0.1807229 </td><td>0.3012048 </td><td>R         </td></tr>\n",
       "\t<tr><td>User288751</td><td>0.2204301 </td><td>0.1505376 </td><td>0.1612903 </td><td>0.2419355 </td><td>0.2258065 </td><td>0.2419355 </td><td>PE        </td></tr>\n",
       "\t<tr><td>User288751</td><td>0.2272727 </td><td>0.1948052 </td><td>0.1818182 </td><td>0.2142857 </td><td>0.1818182 </td><td>0.2272727 </td><td>R         </td></tr>\n",
       "\t<tr><td>User396223</td><td>0.2342857 </td><td>0.1600000 </td><td>0.1771429 </td><td>0.2114286 </td><td>0.2171429 </td><td>0.2342857 </td><td>R         </td></tr>\n",
       "\t<tr><td>User341813</td><td>0.3414634 </td><td>0.1768293 </td><td>0.1829268 </td><td>0.1646341 </td><td>0.1341463 </td><td>0.3414634 </td><td>R         </td></tr>\n",
       "\t<tr><td>User341813</td><td>0.2760736 </td><td>0.1349693 </td><td>0.1349693 </td><td>0.2147239 </td><td>0.2392638 </td><td>0.2760736 </td><td>R         </td></tr>\n",
       "\t<tr><td>User091297</td><td>0.3214286 </td><td>0.2071429 </td><td>0.1428571 </td><td>0.1714286 </td><td>0.1571429 </td><td>0.3214286 </td><td>R         </td></tr>\n",
       "\t<tr><td>User379647</td><td>0.1534091 </td><td>0.1534091 </td><td>0.2102273 </td><td>0.2329545 </td><td>0.2500000 </td><td>0.2500000 </td><td>E         </td></tr>\n",
       "\t<tr><td>User379647</td><td>0.1534091 </td><td>0.1534091 </td><td>0.2102273 </td><td>0.2329545 </td><td>0.2500000 </td><td>0.2500000 </td><td>E         </td></tr>\n",
       "\t<tr><td>User379647</td><td>0.3017751 </td><td>0.1834320 </td><td>0.1715976 </td><td>0.1597633 </td><td>0.1834320 </td><td>0.3017751 </td><td>R         </td></tr>\n",
       "\t<tr><td>User203147</td><td>0.2760736 </td><td>0.1349693 </td><td>0.1349693 </td><td>0.2147239 </td><td>0.2392638 </td><td>0.2760736 </td><td>R         </td></tr>\n",
       "\t<tr><td>User203147</td><td>0.2969697 </td><td>0.1757576 </td><td>0.1818182 </td><td>0.1939394 </td><td>0.1515152 </td><td>0.2969697 </td><td>R         </td></tr>\n",
       "\t<tr><td>User203147</td><td>0.3090909 </td><td>0.1757576 </td><td>0.1757576 </td><td>0.1939394 </td><td>0.1454545 </td><td>0.3090909 </td><td>R         </td></tr>\n",
       "\t<tr><td>User648781</td><td>0.2670455 </td><td>0.1590909 </td><td>0.1704545 </td><td>0.2159091 </td><td>0.1875000 </td><td>0.2670455 </td><td>R         </td></tr>\n",
       "</tbody>\n",
       "</table>\n"
      ],
      "text/latex": [
       "\\begin{tabular}{r|llllllll}\n",
       " UserName & Reconnaissance & Delivery & LateralMovement & PrivilegeEscalation & Exfiltration & Maximum & Cluster\\\\\n",
       "\\hline\n",
       "\t User288751 & 0.1916168  & 0.1796407  & 0.1856287  & 0.2215569  & 0.2215569  & 0.2215569  & E         \\\\\n",
       "\t User288751 & 0.3012048  & 0.1506024  & 0.1807229  & 0.1867470  & 0.1807229  & 0.3012048  & R         \\\\\n",
       "\t User288751 & 0.2204301  & 0.1505376  & 0.1612903  & 0.2419355  & 0.2258065  & 0.2419355  & PE        \\\\\n",
       "\t User288751 & 0.2272727  & 0.1948052  & 0.1818182  & 0.2142857  & 0.1818182  & 0.2272727  & R         \\\\\n",
       "\t User396223 & 0.2342857  & 0.1600000  & 0.1771429  & 0.2114286  & 0.2171429  & 0.2342857  & R         \\\\\n",
       "\t User341813 & 0.3414634  & 0.1768293  & 0.1829268  & 0.1646341  & 0.1341463  & 0.3414634  & R         \\\\\n",
       "\t User341813 & 0.2760736  & 0.1349693  & 0.1349693  & 0.2147239  & 0.2392638  & 0.2760736  & R         \\\\\n",
       "\t User091297 & 0.3214286  & 0.2071429  & 0.1428571  & 0.1714286  & 0.1571429  & 0.3214286  & R         \\\\\n",
       "\t User379647 & 0.1534091  & 0.1534091  & 0.2102273  & 0.2329545  & 0.2500000  & 0.2500000  & E         \\\\\n",
       "\t User379647 & 0.1534091  & 0.1534091  & 0.2102273  & 0.2329545  & 0.2500000  & 0.2500000  & E         \\\\\n",
       "\t User379647 & 0.3017751  & 0.1834320  & 0.1715976  & 0.1597633  & 0.1834320  & 0.3017751  & R         \\\\\n",
       "\t User203147 & 0.2760736  & 0.1349693  & 0.1349693  & 0.2147239  & 0.2392638  & 0.2760736  & R         \\\\\n",
       "\t User203147 & 0.2969697  & 0.1757576  & 0.1818182  & 0.1939394  & 0.1515152  & 0.2969697  & R         \\\\\n",
       "\t User203147 & 0.3090909  & 0.1757576  & 0.1757576  & 0.1939394  & 0.1454545  & 0.3090909  & R         \\\\\n",
       "\t User648781 & 0.2670455  & 0.1590909  & 0.1704545  & 0.2159091  & 0.1875000  & 0.2670455  & R         \\\\\n",
       "\\end{tabular}\n"
      ],
      "text/markdown": [
       "\n",
       "| UserName | Reconnaissance | Delivery | LateralMovement | PrivilegeEscalation | Exfiltration | Maximum | Cluster |\n",
       "|---|---|---|---|---|---|---|---|\n",
       "| User288751 | 0.1916168  | 0.1796407  | 0.1856287  | 0.2215569  | 0.2215569  | 0.2215569  | E          |\n",
       "| User288751 | 0.3012048  | 0.1506024  | 0.1807229  | 0.1867470  | 0.1807229  | 0.3012048  | R          |\n",
       "| User288751 | 0.2204301  | 0.1505376  | 0.1612903  | 0.2419355  | 0.2258065  | 0.2419355  | PE         |\n",
       "| User288751 | 0.2272727  | 0.1948052  | 0.1818182  | 0.2142857  | 0.1818182  | 0.2272727  | R          |\n",
       "| User396223 | 0.2342857  | 0.1600000  | 0.1771429  | 0.2114286  | 0.2171429  | 0.2342857  | R          |\n",
       "| User341813 | 0.3414634  | 0.1768293  | 0.1829268  | 0.1646341  | 0.1341463  | 0.3414634  | R          |\n",
       "| User341813 | 0.2760736  | 0.1349693  | 0.1349693  | 0.2147239  | 0.2392638  | 0.2760736  | R          |\n",
       "| User091297 | 0.3214286  | 0.2071429  | 0.1428571  | 0.1714286  | 0.1571429  | 0.3214286  | R          |\n",
       "| User379647 | 0.1534091  | 0.1534091  | 0.2102273  | 0.2329545  | 0.2500000  | 0.2500000  | E          |\n",
       "| User379647 | 0.1534091  | 0.1534091  | 0.2102273  | 0.2329545  | 0.2500000  | 0.2500000  | E          |\n",
       "| User379647 | 0.3017751  | 0.1834320  | 0.1715976  | 0.1597633  | 0.1834320  | 0.3017751  | R          |\n",
       "| User203147 | 0.2760736  | 0.1349693  | 0.1349693  | 0.2147239  | 0.2392638  | 0.2760736  | R          |\n",
       "| User203147 | 0.2969697  | 0.1757576  | 0.1818182  | 0.1939394  | 0.1515152  | 0.2969697  | R          |\n",
       "| User203147 | 0.3090909  | 0.1757576  | 0.1757576  | 0.1939394  | 0.1454545  | 0.3090909  | R          |\n",
       "| User648781 | 0.2670455  | 0.1590909  | 0.1704545  | 0.2159091  | 0.1875000  | 0.2670455  | R          |\n",
       "\n"
      ],
      "text/plain": [
       "   UserName   Reconnaissance Delivery  LateralMovement PrivilegeEscalation\n",
       "1  User288751 0.1916168      0.1796407 0.1856287       0.2215569          \n",
       "2  User288751 0.3012048      0.1506024 0.1807229       0.1867470          \n",
       "3  User288751 0.2204301      0.1505376 0.1612903       0.2419355          \n",
       "4  User288751 0.2272727      0.1948052 0.1818182       0.2142857          \n",
       "5  User396223 0.2342857      0.1600000 0.1771429       0.2114286          \n",
       "6  User341813 0.3414634      0.1768293 0.1829268       0.1646341          \n",
       "7  User341813 0.2760736      0.1349693 0.1349693       0.2147239          \n",
       "8  User091297 0.3214286      0.2071429 0.1428571       0.1714286          \n",
       "9  User379647 0.1534091      0.1534091 0.2102273       0.2329545          \n",
       "10 User379647 0.1534091      0.1534091 0.2102273       0.2329545          \n",
       "11 User379647 0.3017751      0.1834320 0.1715976       0.1597633          \n",
       "12 User203147 0.2760736      0.1349693 0.1349693       0.2147239          \n",
       "13 User203147 0.2969697      0.1757576 0.1818182       0.1939394          \n",
       "14 User203147 0.3090909      0.1757576 0.1757576       0.1939394          \n",
       "15 User648781 0.2670455      0.1590909 0.1704545       0.2159091          \n",
       "   Exfiltration Maximum   Cluster\n",
       "1  0.2215569    0.2215569 E      \n",
       "2  0.1807229    0.3012048 R      \n",
       "3  0.2258065    0.2419355 PE     \n",
       "4  0.1818182    0.2272727 R      \n",
       "5  0.2171429    0.2342857 R      \n",
       "6  0.1341463    0.3414634 R      \n",
       "7  0.2392638    0.2760736 R      \n",
       "8  0.1571429    0.3214286 R      \n",
       "9  0.2500000    0.2500000 E      \n",
       "10 0.2500000    0.2500000 E      \n",
       "11 0.1834320    0.3017751 R      \n",
       "12 0.2392638    0.2760736 R      \n",
       "13 0.1515152    0.2969697 R      \n",
       "14 0.1454545    0.3090909 R      \n",
       "15 0.1875000    0.2670455 R      "
      ]
     },
     "metadata": {},
     "output_type": "display_data"
    }
   ],
   "source": [
    "head(Probs_with_clusters, 15)"
   ]
  },
  {
   "cell_type": "code",
   "execution_count": 17,
   "id": "c82ecb6d",
   "metadata": {},
   "outputs": [
    {
     "data": {
      "text/plain": [
       "\n",
       "    D     E    LM    PE     R \n",
       "  657  8421   414  2472 26748 "
      ]
     },
     "metadata": {},
     "output_type": "display_data"
    }
   ],
   "source": [
    "T1 <- table(Probs_with_clusters$Cluster)\n",
    "T1"
   ]
  },
  {
   "cell_type": "code",
   "execution_count": 18,
   "id": "e3cea460",
   "metadata": {},
   "outputs": [],
   "source": [
    "OldProbs <- Probs_with_clusters"
   ]
  },
  {
   "cell_type": "code",
   "execution_count": 19,
   "id": "a9d4a1b3",
   "metadata": {},
   "outputs": [
    {
     "data": {
      "text/plain": [
       "\n",
       "    1     2     3     4     5 \n",
       " 3444  9088  5722 14816  5642 "
      ]
     },
     "metadata": {},
     "output_type": "display_data"
    },
    {
     "data": {
      "image/png": "[encoded data removed]",
      "text/plain": [
       "plot without title"
      ]
     },
     "metadata": {},
     "output_type": "display_data"
    }
   ],
   "source": [
    "K1 <- kmeans(Stages, centers=5, nstart = sample(1:nrow(Stages), size=1), algorithm=\"Lloyd\", iter.max = 10^4)\n",
    "TK1 <- table(K1$cluster)\n",
    "TK1\n",
    "\n",
    "fviz_cluster(K1, data = Stages, geom = \"point\",\n",
    "             ellipse.type = \"convex\", \n",
    "             ggtheme = theme_bw()\n",
    "             )"
   ]
  },
  {
   "cell_type": "markdown",
   "id": "fb8c0cf4",
   "metadata": {},
   "source": [
    "### 3. Retrospective chronology: 2nd training phase"
   ]
  },
  {
   "cell_type": "code",
   "execution_count": 20,
   "id": "a41daac3",
   "metadata": {},
   "outputs": [
    {
     "data": {
      "text/html": [
       "<table>\n",
       "<thead><tr><th scope=col>UserName</th><th scope=col>Reconnaissance</th><th scope=col>Delivery</th><th scope=col>LateralMovement</th><th scope=col>PrivilegeEscalation</th><th scope=col>Exfiltration</th><th scope=col>Cluster</th></tr></thead>\n",
       "<tbody>\n",
       "\t<tr><td>User288751</td><td> 8.00     </td><td>7.50      </td><td>7.75      </td><td> 9.25     </td><td> 9.25     </td><td>E         </td></tr>\n",
       "\t<tr><td>User288751</td><td>12.50     </td><td>6.25      </td><td>7.50      </td><td> 7.75     </td><td> 7.50     </td><td>R         </td></tr>\n",
       "\t<tr><td>User288751</td><td>10.25     </td><td>7.00      </td><td>7.50      </td><td>11.25     </td><td>10.50     </td><td>PE        </td></tr>\n",
       "\t<tr><td>User288751</td><td> 8.75     </td><td>7.50      </td><td>7.00      </td><td> 8.25     </td><td> 7.00     </td><td>R         </td></tr>\n",
       "\t<tr><td>User396223</td><td>10.25     </td><td>7.00      </td><td>7.75      </td><td> 9.25     </td><td> 9.50     </td><td>R         </td></tr>\n",
       "</tbody>\n",
       "</table>\n"
      ],
      "text/latex": [
       "\\begin{tabular}{r|lllllll}\n",
       " UserName & Reconnaissance & Delivery & LateralMovement & PrivilegeEscalation & Exfiltration & Cluster\\\\\n",
       "\\hline\n",
       "\t User288751 &  8.00      & 7.50       & 7.75       &  9.25      &  9.25      & E         \\\\\n",
       "\t User288751 & 12.50      & 6.25       & 7.50       &  7.75      &  7.50      & R         \\\\\n",
       "\t User288751 & 10.25      & 7.00       & 7.50       & 11.25      & 10.50      & PE        \\\\\n",
       "\t User288751 &  8.75      & 7.50       & 7.00       &  8.25      &  7.00      & R         \\\\\n",
       "\t User396223 & 10.25      & 7.00       & 7.75       &  9.25      &  9.50      & R         \\\\\n",
       "\\end{tabular}\n"
      ],
      "text/markdown": [
       "\n",
       "| UserName | Reconnaissance | Delivery | LateralMovement | PrivilegeEscalation | Exfiltration | Cluster |\n",
       "|---|---|---|---|---|---|---|\n",
       "| User288751 |  8.00      | 7.50       | 7.75       |  9.25      |  9.25      | E          |\n",
       "| User288751 | 12.50      | 6.25       | 7.50       |  7.75      |  7.50      | R          |\n",
       "| User288751 | 10.25      | 7.00       | 7.50       | 11.25      | 10.50      | PE         |\n",
       "| User288751 |  8.75      | 7.50       | 7.00       |  8.25      |  7.00      | R          |\n",
       "| User396223 | 10.25      | 7.00       | 7.75       |  9.25      |  9.50      | R          |\n",
       "\n"
      ],
      "text/plain": [
       "  UserName   Reconnaissance Delivery LateralMovement PrivilegeEscalation\n",
       "1 User288751  8.00          7.50     7.75             9.25              \n",
       "2 User288751 12.50          6.25     7.50             7.75              \n",
       "3 User288751 10.25          7.00     7.50            11.25              \n",
       "4 User288751  8.75          7.50     7.00             8.25              \n",
       "5 User396223 10.25          7.00     7.75             9.25              \n",
       "  Exfiltration Cluster\n",
       "1  9.25        E      \n",
       "2  7.50        R      \n",
       "3 10.50        PE     \n",
       "4  7.00        R      \n",
       "5  9.50        R      "
      ]
     },
     "metadata": {},
     "output_type": "display_data"
    }
   ],
   "source": [
    "PWC <- as.data.frame(cbind(UserName = Probs_with_clusters$UserName, Stages, Cluster = Probs_with_clusters$Cluster))\n",
    "head(PWC, 5)"
   ]
  },
  {
   "cell_type": "code",
   "execution_count": 21,
   "id": "dbcb9d33",
   "metadata": {},
   "outputs": [
    {
     "data": {
      "text/html": [
       "94"
      ],
      "text/latex": [
       "94"
      ],
      "text/markdown": [
       "94"
      ],
      "text/plain": [
       "[1] 94"
      ]
     },
     "metadata": {},
     "output_type": "display_data"
    }
   ],
   "source": [
    "L <- as.list(unique(Probs_with_clusters$UserName))\n",
    "length(L)"
   ]
  },
  {
   "cell_type": "code",
   "execution_count": 22,
   "id": "390b1dbd",
   "metadata": {},
   "outputs": [],
   "source": [
    "RedistributeWeight <- function() {\n",
    "    df <- data.frame()\n",
    "    for(User in L) {        \n",
    "        data <- PWC[PWC$UserName==User, ]\n",
    "        data$Reconnaissance[1] <- data$Reconnaissance[1] + 1.5\n",
    "        data$Cluster[1] <- 'R'\n",
    "        if(nrow(data)>=2) {\n",
    "            M <- vector(len=nrow(data)-1)\n",
    "            S <- vector(len=nrow(data)-1)\n",
    "            for(i in 2:nrow(data)) {\n",
    "                M[i-1] <- max(c(data$Reconnaissance[i-1], data$Delivery[i-1], data$LateralMovement[i-1], data$PrivilegeEscalation[i-1], data$Exfiltration[i-1]))\n",
    "                S[i] <- sum(c(data[i,2], data[i,3], data[i,4], data[i,5], data[i,6]))\n",
    "                F <- 1.1*(S[i]/10)\n",
    "                if(M[i-1]==data$Reconnaissance[i-1]) {\n",
    "                    data$Reconnaissance[i] <- data$Reconnaissance[i] + F\n",
    "                    data$Delivery[i] <- data$Delivery[i] + F\n",
    "                }\n",
    "                if(M[i-1]==data$Delivery[i-1]) {\n",
    "                    data$LateralMovement[i] <- data$LateralMovement[i] + F\n",
    "                    data$Delivery[i] <- data$Delivery[i] + F\n",
    "                }\n",
    "                if(M[i-1]==data$LateralMovement[i-1]) {\n",
    "                    data$LateralMovement[i] <- data$LateralMovement[i] + F\n",
    "                    data$PrivilegeEscalation[i] <- data$PrivilegeEscalation[i] + F\n",
    "                }\n",
    "                if(M[i-1]==data$PrivilegeEscalation[i-1]) {\n",
    "                    data$PrivilegeEscalation[i] <- data$PrivilegeEscalation[i] + F\n",
    "                    data$Exfiltration[i] <- data$Exfiltration[i] + F\n",
    "                }\n",
    "                if(M[i-1]==data$Exfiltration[i-1]) {\n",
    "                    data$Exfiltration[i] <- data$Exfiltration[i] + F\n",
    "                }\n",
    "            }\n",
    "        }\n",
    "        df <- as.data.frame(rbind(df, data))\n",
    "    }\n",
    "    UpdatedStages <<- df\n",
    "}"
   ]
  },
  {
   "cell_type": "code",
   "execution_count": 23,
   "id": "edfe788f",
   "metadata": {},
   "outputs": [],
   "source": [
    "RedistributeWeight()"
   ]
  },
  {
   "cell_type": "code",
   "execution_count": 24,
   "id": "cf307fda",
   "metadata": {},
   "outputs": [
    {
     "data": {
      "text/html": [
       "<table>\n",
       "<thead><tr><th></th><th scope=col>UserName</th><th scope=col>Reconnaissance</th><th scope=col>Delivery</th><th scope=col>LateralMovement</th><th scope=col>PrivilegeEscalation</th><th scope=col>Exfiltration</th><th scope=col>Cluster</th></tr></thead>\n",
       "<tbody>\n",
       "\t<tr><th scope=row>1</th><td>User288751</td><td> 9.500    </td><td> 7.500    </td><td>7.75      </td><td> 9.25     </td><td> 9.25     </td><td>R         </td></tr>\n",
       "\t<tr><th scope=row>2</th><td>User288751</td><td>17.065    </td><td>10.815    </td><td>7.50      </td><td> 7.75     </td><td> 7.50     </td><td>R         </td></tr>\n",
       "\t<tr><th scope=row>3</th><td>User288751</td><td>15.365    </td><td>12.115    </td><td>7.50      </td><td>11.25     </td><td>10.50     </td><td>PE        </td></tr>\n",
       "\t<tr><th scope=row>4</th><td>User288751</td><td>12.985    </td><td>11.735    </td><td>7.00      </td><td> 8.25     </td><td> 7.00     </td><td>R         </td></tr>\n",
       "\t<tr><th scope=row>78</th><td>User288751</td><td>15.095    </td><td>10.845    </td><td>7.25      </td><td> 7.50     </td><td> 7.50     </td><td>R         </td></tr>\n",
       "\t<tr><th scope=row>243</th><td>User288751</td><td>13.230    </td><td>13.730    </td><td>7.25      </td><td> 9.50     </td><td> 8.75     </td><td>PE        </td></tr>\n",
       "</tbody>\n",
       "</table>\n"
      ],
      "text/latex": [
       "\\begin{tabular}{r|lllllll}\n",
       "  & UserName & Reconnaissance & Delivery & LateralMovement & PrivilegeEscalation & Exfiltration & Cluster\\\\\n",
       "\\hline\n",
       "\t1 & User288751 &  9.500     &  7.500     & 7.75       &  9.25      &  9.25      & R         \\\\\n",
       "\t2 & User288751 & 17.065     & 10.815     & 7.50       &  7.75      &  7.50      & R         \\\\\n",
       "\t3 & User288751 & 15.365     & 12.115     & 7.50       & 11.25      & 10.50      & PE        \\\\\n",
       "\t4 & User288751 & 12.985     & 11.735     & 7.00       &  8.25      &  7.00      & R         \\\\\n",
       "\t78 & User288751 & 15.095     & 10.845     & 7.25       &  7.50      &  7.50      & R         \\\\\n",
       "\t243 & User288751 & 13.230     & 13.730     & 7.25       &  9.50      &  8.75      & PE        \\\\\n",
       "\\end{tabular}\n"
      ],
      "text/markdown": [
       "\n",
       "| <!--/--> | UserName | Reconnaissance | Delivery | LateralMovement | PrivilegeEscalation | Exfiltration | Cluster |\n",
       "|---|---|---|---|---|---|---|---|\n",
       "| 1 | User288751 |  9.500     |  7.500     | 7.75       |  9.25      |  9.25      | R          |\n",
       "| 2 | User288751 | 17.065     | 10.815     | 7.50       |  7.75      |  7.50      | R          |\n",
       "| 3 | User288751 | 15.365     | 12.115     | 7.50       | 11.25      | 10.50      | PE         |\n",
       "| 4 | User288751 | 12.985     | 11.735     | 7.00       |  8.25      |  7.00      | R          |\n",
       "| 78 | User288751 | 15.095     | 10.845     | 7.25       |  7.50      |  7.50      | R          |\n",
       "| 243 | User288751 | 13.230     | 13.730     | 7.25       |  9.50      |  8.75      | PE         |\n",
       "\n"
      ],
      "text/plain": [
       "    UserName   Reconnaissance Delivery LateralMovement PrivilegeEscalation\n",
       "1   User288751  9.500          7.500   7.75             9.25              \n",
       "2   User288751 17.065         10.815   7.50             7.75              \n",
       "3   User288751 15.365         12.115   7.50            11.25              \n",
       "4   User288751 12.985         11.735   7.00             8.25              \n",
       "78  User288751 15.095         10.845   7.25             7.50              \n",
       "243 User288751 13.230         13.730   7.25             9.50              \n",
       "    Exfiltration Cluster\n",
       "1    9.25        R      \n",
       "2    7.50        R      \n",
       "3   10.50        PE     \n",
       "4    7.00        R      \n",
       "78   7.50        R      \n",
       "243  8.75        PE     "
      ]
     },
     "metadata": {},
     "output_type": "display_data"
    }
   ],
   "source": [
    "head(UpdatedStages)"
   ]
  },
  {
   "cell_type": "code",
   "execution_count": 25,
   "id": "b08fb35d",
   "metadata": {},
   "outputs": [],
   "source": [
    "US <- UpdatedStages[order(as.numeric(rownames(UpdatedStages)), decreasing=FALSE), ]"
   ]
  },
  {
   "cell_type": "code",
   "execution_count": 26,
   "id": "2d7e9c11",
   "metadata": {},
   "outputs": [],
   "source": [
    "Stages <- US[, -c(1,7)]"
   ]
  },
  {
   "cell_type": "code",
   "execution_count": 27,
   "id": "6da2840e",
   "metadata": {},
   "outputs": [
    {
     "data": {
      "text/html": [
       "<table>\n",
       "<thead><tr><th scope=col>Reconnaissance</th><th scope=col>Delivery</th><th scope=col>LateralMovement</th><th scope=col>PrivilegeEscalation</th><th scope=col>Exfiltration</th></tr></thead>\n",
       "<tbody>\n",
       "\t<tr><td> 9.500</td><td> 7.500</td><td>7.75  </td><td> 9.25 </td><td> 9.25 </td></tr>\n",
       "\t<tr><td>17.065</td><td>10.815</td><td>7.50  </td><td> 7.75 </td><td> 7.50 </td></tr>\n",
       "\t<tr><td>15.365</td><td>12.115</td><td>7.50  </td><td>11.25 </td><td>10.50 </td></tr>\n",
       "\t<tr><td>12.985</td><td>11.735</td><td>7.00  </td><td> 8.25 </td><td> 7.00 </td></tr>\n",
       "\t<tr><td>11.750</td><td> 7.000</td><td>7.75  </td><td> 9.25 </td><td> 9.50 </td></tr>\n",
       "\t<tr><td>15.500</td><td> 7.250</td><td>7.50  </td><td> 6.75 </td><td> 5.50 </td></tr>\n",
       "</tbody>\n",
       "</table>\n"
      ],
      "text/latex": [
       "\\begin{tabular}{r|lllll}\n",
       " Reconnaissance & Delivery & LateralMovement & PrivilegeEscalation & Exfiltration\\\\\n",
       "\\hline\n",
       "\t  9.500 &  7.500 & 7.75   &  9.25  &  9.25 \\\\\n",
       "\t 17.065 & 10.815 & 7.50   &  7.75  &  7.50 \\\\\n",
       "\t 15.365 & 12.115 & 7.50   & 11.25  & 10.50 \\\\\n",
       "\t 12.985 & 11.735 & 7.00   &  8.25  &  7.00 \\\\\n",
       "\t 11.750 &  7.000 & 7.75   &  9.25  &  9.50 \\\\\n",
       "\t 15.500 &  7.250 & 7.50   &  6.75  &  5.50 \\\\\n",
       "\\end{tabular}\n"
      ],
      "text/markdown": [
       "\n",
       "| Reconnaissance | Delivery | LateralMovement | PrivilegeEscalation | Exfiltration |\n",
       "|---|---|---|---|---|\n",
       "|  9.500 |  7.500 | 7.75   |  9.25  |  9.25  |\n",
       "| 17.065 | 10.815 | 7.50   |  7.75  |  7.50  |\n",
       "| 15.365 | 12.115 | 7.50   | 11.25  | 10.50  |\n",
       "| 12.985 | 11.735 | 7.00   |  8.25  |  7.00  |\n",
       "| 11.750 |  7.000 | 7.75   |  9.25  |  9.50  |\n",
       "| 15.500 |  7.250 | 7.50   |  6.75  |  5.50  |\n",
       "\n"
      ],
      "text/plain": [
       "  Reconnaissance Delivery LateralMovement PrivilegeEscalation Exfiltration\n",
       "1  9.500          7.500   7.75             9.25                9.25       \n",
       "2 17.065         10.815   7.50             7.75                7.50       \n",
       "3 15.365         12.115   7.50            11.25               10.50       \n",
       "4 12.985         11.735   7.00             8.25                7.00       \n",
       "5 11.750          7.000   7.75             9.25                9.50       \n",
       "6 15.500          7.250   7.50             6.75                5.50       "
      ]
     },
     "metadata": {},
     "output_type": "display_data"
    }
   ],
   "source": [
    "head(Stages)"
   ]
  },
  {
   "cell_type": "code",
   "execution_count": 28,
   "id": "10d20500",
   "metadata": {},
   "outputs": [],
   "source": [
    "StageAssignExpect()"
   ]
  },
  {
   "cell_type": "code",
   "execution_count": 29,
   "id": "cf195e87",
   "metadata": {},
   "outputs": [
    {
     "data": {
      "text/html": [
       "<table>\n",
       "<thead><tr><th scope=col>UserName</th><th scope=col>Reconnaissance</th><th scope=col>Delivery</th><th scope=col>LateralMovement</th><th scope=col>PrivilegeEscalation</th><th scope=col>Exfiltration</th><th scope=col>Maximum</th><th scope=col>Cluster</th></tr></thead>\n",
       "<tbody>\n",
       "\t<tr><td>User288751</td><td>0.2196532 </td><td>0.1734104 </td><td>0.1791908 </td><td>0.2138728 </td><td>0.2138728 </td><td>0.2196532 </td><td>R         </td></tr>\n",
       "\t<tr><td>User288751</td><td>0.3370531 </td><td>0.2136085 </td><td>0.1481335 </td><td>0.1530713 </td><td>0.1481335 </td><td>0.3370531 </td><td>R         </td></tr>\n",
       "\t<tr><td>User288751</td><td>0.2708444 </td><td>0.2135554 </td><td>0.1322052 </td><td>0.1983078 </td><td>0.1850873 </td><td>0.2708444 </td><td>R         </td></tr>\n",
       "\t<tr><td>User288751</td><td>0.2764531 </td><td>0.2498403 </td><td>0.1490313 </td><td>0.1756440 </td><td>0.1490313 </td><td>0.2764531 </td><td>R         </td></tr>\n",
       "\t<tr><td>User396223</td><td>0.2596685 </td><td>0.1546961 </td><td>0.1712707 </td><td>0.2044199 </td><td>0.2099448 </td><td>0.2596685 </td><td>R         </td></tr>\n",
       "\t<tr><td>User341813</td><td>0.3647059 </td><td>0.1705882 </td><td>0.1764706 </td><td>0.1588235 </td><td>0.1294118 </td><td>0.3647059 </td><td>R         </td></tr>\n",
       "\t<tr><td>User341813</td><td>0.3164538 </td><td>0.2007945 </td><td>0.1106306 </td><td>0.1760032 </td><td>0.1961179 </td><td>0.3164538 </td><td>R         </td></tr>\n",
       "\t<tr><td>User091297</td><td>0.3493151 </td><td>0.1986301 </td><td>0.1369863 </td><td>0.1643836 </td><td>0.1506849 </td><td>0.3493151 </td><td>R         </td></tr>\n",
       "\t<tr><td>User379647</td><td>0.1813187 </td><td>0.1483516 </td><td>0.2032967 </td><td>0.2252747 </td><td>0.2417582 </td><td>0.2417582 </td><td>E         </td></tr>\n",
       "\t<tr><td>User379647</td><td>0.1382064 </td><td>0.1382064 </td><td>0.1893939 </td><td>0.2098690 </td><td>0.3243243 </td><td>0.3243243 </td><td>E         </td></tr>\n",
       "</tbody>\n",
       "</table>\n"
      ],
      "text/latex": [
       "\\begin{tabular}{r|llllllll}\n",
       " UserName & Reconnaissance & Delivery & LateralMovement & PrivilegeEscalation & Exfiltration & Maximum & Cluster\\\\\n",
       "\\hline\n",
       "\t User288751 & 0.2196532  & 0.1734104  & 0.1791908  & 0.2138728  & 0.2138728  & 0.2196532  & R         \\\\\n",
       "\t User288751 & 0.3370531  & 0.2136085  & 0.1481335  & 0.1530713  & 0.1481335  & 0.3370531  & R         \\\\\n",
       "\t User288751 & 0.2708444  & 0.2135554  & 0.1322052  & 0.1983078  & 0.1850873  & 0.2708444  & R         \\\\\n",
       "\t User288751 & 0.2764531  & 0.2498403  & 0.1490313  & 0.1756440  & 0.1490313  & 0.2764531  & R         \\\\\n",
       "\t User396223 & 0.2596685  & 0.1546961  & 0.1712707  & 0.2044199  & 0.2099448  & 0.2596685  & R         \\\\\n",
       "\t User341813 & 0.3647059  & 0.1705882  & 0.1764706  & 0.1588235  & 0.1294118  & 0.3647059  & R         \\\\\n",
       "\t User341813 & 0.3164538  & 0.2007945  & 0.1106306  & 0.1760032  & 0.1961179  & 0.3164538  & R         \\\\\n",
       "\t User091297 & 0.3493151  & 0.1986301  & 0.1369863  & 0.1643836  & 0.1506849  & 0.3493151  & R         \\\\\n",
       "\t User379647 & 0.1813187  & 0.1483516  & 0.2032967  & 0.2252747  & 0.2417582  & 0.2417582  & E         \\\\\n",
       "\t User379647 & 0.1382064  & 0.1382064  & 0.1893939  & 0.2098690  & 0.3243243  & 0.3243243  & E         \\\\\n",
       "\\end{tabular}\n"
      ],
      "text/markdown": [
       "\n",
       "| UserName | Reconnaissance | Delivery | LateralMovement | PrivilegeEscalation | Exfiltration | Maximum | Cluster |\n",
       "|---|---|---|---|---|---|---|---|\n",
       "| User288751 | 0.2196532  | 0.1734104  | 0.1791908  | 0.2138728  | 0.2138728  | 0.2196532  | R          |\n",
       "| User288751 | 0.3370531  | 0.2136085  | 0.1481335  | 0.1530713  | 0.1481335  | 0.3370531  | R          |\n",
       "| User288751 | 0.2708444  | 0.2135554  | 0.1322052  | 0.1983078  | 0.1850873  | 0.2708444  | R          |\n",
       "| User288751 | 0.2764531  | 0.2498403  | 0.1490313  | 0.1756440  | 0.1490313  | 0.2764531  | R          |\n",
       "| User396223 | 0.2596685  | 0.1546961  | 0.1712707  | 0.2044199  | 0.2099448  | 0.2596685  | R          |\n",
       "| User341813 | 0.3647059  | 0.1705882  | 0.1764706  | 0.1588235  | 0.1294118  | 0.3647059  | R          |\n",
       "| User341813 | 0.3164538  | 0.2007945  | 0.1106306  | 0.1760032  | 0.1961179  | 0.3164538  | R          |\n",
       "| User091297 | 0.3493151  | 0.1986301  | 0.1369863  | 0.1643836  | 0.1506849  | 0.3493151  | R          |\n",
       "| User379647 | 0.1813187  | 0.1483516  | 0.2032967  | 0.2252747  | 0.2417582  | 0.2417582  | E          |\n",
       "| User379647 | 0.1382064  | 0.1382064  | 0.1893939  | 0.2098690  | 0.3243243  | 0.3243243  | E          |\n",
       "\n"
      ],
      "text/plain": [
       "   UserName   Reconnaissance Delivery  LateralMovement PrivilegeEscalation\n",
       "1  User288751 0.2196532      0.1734104 0.1791908       0.2138728          \n",
       "2  User288751 0.3370531      0.2136085 0.1481335       0.1530713          \n",
       "3  User288751 0.2708444      0.2135554 0.1322052       0.1983078          \n",
       "4  User288751 0.2764531      0.2498403 0.1490313       0.1756440          \n",
       "5  User396223 0.2596685      0.1546961 0.1712707       0.2044199          \n",
       "6  User341813 0.3647059      0.1705882 0.1764706       0.1588235          \n",
       "7  User341813 0.3164538      0.2007945 0.1106306       0.1760032          \n",
       "8  User091297 0.3493151      0.1986301 0.1369863       0.1643836          \n",
       "9  User379647 0.1813187      0.1483516 0.2032967       0.2252747          \n",
       "10 User379647 0.1382064      0.1382064 0.1893939       0.2098690          \n",
       "   Exfiltration Maximum   Cluster\n",
       "1  0.2138728    0.2196532 R      \n",
       "2  0.1481335    0.3370531 R      \n",
       "3  0.1850873    0.2708444 R      \n",
       "4  0.1490313    0.2764531 R      \n",
       "5  0.2099448    0.2596685 R      \n",
       "6  0.1294118    0.3647059 R      \n",
       "7  0.1961179    0.3164538 R      \n",
       "8  0.1506849    0.3493151 R      \n",
       "9  0.2417582    0.2417582 E      \n",
       "10 0.3243243    0.3243243 E      "
      ]
     },
     "metadata": {},
     "output_type": "display_data"
    }
   ],
   "source": [
    "head(Probs_with_clusters, 10)"
   ]
  },
  {
   "cell_type": "code",
   "execution_count": 30,
   "id": "d5096a15",
   "metadata": {},
   "outputs": [
    {
     "data": {
      "text/plain": [
       "\n",
       "    D     E    LM    PE     R \n",
       " 2277  8525  1149  1262 25499 "
      ]
     },
     "metadata": {},
     "output_type": "display_data"
    }
   ],
   "source": [
    "T2 <- table(Probs_with_clusters$Cluster)\n",
    "T2"
   ]
  },
  {
   "cell_type": "code",
   "execution_count": 31,
   "id": "54d93d8d",
   "metadata": {},
   "outputs": [
    {
     "data": {
      "text/plain": [
       "\n",
       "    1     2     3     4     5 \n",
       " 6422  3704 11097 13741  3748 "
      ]
     },
     "metadata": {},
     "output_type": "display_data"
    },
    {
     "data": {
      "image/png": "[encoded data removed]",
      "text/plain": [
       "plot without title"
      ]
     },
     "metadata": {},
     "output_type": "display_data"
    }
   ],
   "source": [
    "K1 <- kmeans(Stages, centers=5, nstart = sample(1:nrow(Stages), size=1), algorithm=\"Lloyd\", iter.max = 10^4)\n",
    "TK2 <- table(K1$cluster)\n",
    "TK2\n",
    "\n",
    "fviz_cluster(K1, data = Stages, geom = \"point\",\n",
    "             ellipse.type = \"convex\", \n",
    "             ggtheme = theme_bw()\n",
    "             )"
   ]
  },
  {
   "cell_type": "markdown",
   "id": "2497b00d",
   "metadata": {},
   "source": [
    "### 4. Final results and conclusions"
   ]
  },
  {
   "cell_type": "code",
   "execution_count": 32,
   "id": "301aabd8",
   "metadata": {},
   "outputs": [],
   "source": [
    "TF1 <- as.vector(T1)\n",
    "TF2 <- as.vector(T2)\n",
    "\n",
    "YK1 <- as.vector(TK1)\n",
    "YK2 <- as.vector(TK2)"
   ]
  },
  {
   "cell_type": "code",
   "execution_count": 33,
   "id": "1c9d95cf",
   "metadata": {},
   "outputs": [],
   "source": [
    "manhattan_dist <- function(a, b){\n",
    "     dist <- abs(a-b)\n",
    "     dist <- sum(dist)\n",
    "     return(dist)\n",
    "}\n",
    "\n",
    "min_max_norm <- function(x) {\n",
    "    (x - min(x)) / (max(x) - min(x))\n",
    "  }"
   ]
  },
  {
   "cell_type": "code",
   "execution_count": 34,
   "id": "c9d643c3",
   "metadata": {},
   "outputs": [
    {
     "data": {
      "text/html": [
       "<ol class=list-inline>\n",
       "\t<li>0</li>\n",
       "\t<li>0.00922761449077238</li>\n",
       "\t<li>0.0781499202551834</li>\n",
       "\t<li>0.304055593529278</li>\n",
       "\t<li>1</li>\n",
       "</ol>\n"
      ],
      "text/latex": [
       "\\begin{enumerate*}\n",
       "\\item 0\n",
       "\\item 0.00922761449077238\n",
       "\\item 0.0781499202551834\n",
       "\\item 0.304055593529278\n",
       "\\item 1\n",
       "\\end{enumerate*}\n"
      ],
      "text/markdown": [
       "1. 0\n",
       "2. 0.00922761449077238\n",
       "3. 0.0781499202551834\n",
       "4. 0.304055593529278\n",
       "5. 1\n",
       "\n",
       "\n"
      ],
      "text/plain": [
       "[1] 0.000000000 0.009227614 0.078149920 0.304055594 1.000000000"
      ]
     },
     "metadata": {},
     "output_type": "display_data"
    },
    {
     "data": {
      "text/html": [
       "<ol class=list-inline>\n",
       "\t<li>0</li>\n",
       "\t<li>0.00464065708418891</li>\n",
       "\t<li>0.0463244353182752</li>\n",
       "\t<li>0.302915811088296</li>\n",
       "\t<li>1</li>\n",
       "</ol>\n"
      ],
      "text/latex": [
       "\\begin{enumerate*}\n",
       "\\item 0\n",
       "\\item 0.00464065708418891\n",
       "\\item 0.0463244353182752\n",
       "\\item 0.302915811088296\n",
       "\\item 1\n",
       "\\end{enumerate*}\n"
      ],
      "text/markdown": [
       "1. 0\n",
       "2. 0.00464065708418891\n",
       "3. 0.0463244353182752\n",
       "4. 0.302915811088296\n",
       "5. 1\n",
       "\n",
       "\n"
      ],
      "text/plain": [
       "[1] 0.000000000 0.004640657 0.046324435 0.302915811 1.000000000"
      ]
     },
     "metadata": {},
     "output_type": "display_data"
    },
    {
     "data": {
      "text/html": [
       "<ol class=list-inline>\n",
       "\t<li>0</li>\n",
       "\t<li>0.193281744635948</li>\n",
       "\t<li>0.200316567006683</li>\n",
       "\t<li>0.496306718255364</li>\n",
       "\t<li>1</li>\n",
       "</ol>\n"
      ],
      "text/latex": [
       "\\begin{enumerate*}\n",
       "\\item 0\n",
       "\\item 0.193281744635948\n",
       "\\item 0.200316567006683\n",
       "\\item 0.496306718255364\n",
       "\\item 1\n",
       "\\end{enumerate*}\n"
      ],
      "text/markdown": [
       "1. 0\n",
       "2. 0.193281744635948\n",
       "3. 0.200316567006683\n",
       "4. 0.496306718255364\n",
       "5. 1\n",
       "\n",
       "\n"
      ],
      "text/plain": [
       "[1] 0.0000000 0.1932817 0.2003166 0.4963067 1.0000000"
      ]
     },
     "metadata": {},
     "output_type": "display_data"
    },
    {
     "data": {
      "text/html": [
       "<ol class=list-inline>\n",
       "\t<li>0</li>\n",
       "\t<li>0.00438378001394839</li>\n",
       "\t<li>0.270798047225267</li>\n",
       "\t<li>0.736574673707283</li>\n",
       "\t<li>1</li>\n",
       "</ol>\n"
      ],
      "text/latex": [
       "\\begin{enumerate*}\n",
       "\\item 0\n",
       "\\item 0.00438378001394839\n",
       "\\item 0.270798047225267\n",
       "\\item 0.736574673707283\n",
       "\\item 1\n",
       "\\end{enumerate*}\n"
      ],
      "text/markdown": [
       "1. 0\n",
       "2. 0.00438378001394839\n",
       "3. 0.270798047225267\n",
       "4. 0.736574673707283\n",
       "5. 1\n",
       "\n",
       "\n"
      ],
      "text/plain": [
       "[1] 0.00000000 0.00438378 0.27079805 0.73657467 1.00000000"
      ]
     },
     "metadata": {},
     "output_type": "display_data"
    }
   ],
   "source": [
    "TFN1 <- min_max_norm(TF1)\n",
    "TFN2 <- min_max_norm(TF2)\n",
    "YKN1 <- min_max_norm(YK1)\n",
    "YKN2 <- min_max_norm(YK2)\n",
    "\n",
    "TFN1 <- TFN1[order(TFN1, decreasing=FALSE)]\n",
    "TFN2 <- TFN2[order(TFN2, decreasing=FALSE)]\n",
    "YKN1 <- YKN1[order(YKN1, decreasing=FALSE)]\n",
    "YKN2 <- YKN2[order(YKN2, decreasing=FALSE)]\n",
    "\n",
    "TFN1\n",
    "TFN2\n",
    "YKN1\n",
    "YKN2"
   ]
  },
  {
   "cell_type": "code",
   "execution_count": 35,
   "id": "72ceb167",
   "metadata": {},
   "outputs": [
    {
     "data": {
      "text/html": [
       "0.0375522247844738"
      ],
      "text/latex": [
       "0.0375522247844738"
      ],
      "text/markdown": [
       "0.0375522247844738"
      ],
      "text/plain": [
       "[1] 0.03755222"
      ]
     },
     "metadata": {},
     "output_type": "display_data"
    },
    {
     "name": "stdout",
     "output_type": "stream",
     "text": [
      "\n",
      "[1] \"Breakdown of stage dissimilarity across Stage classification before and after weight redistribution:\"\n",
      "\n",
      "[1] 0\n",
      "\n",
      "[1] 0.004586957\n",
      "\n",
      "[1] 0.03182548\n",
      "\n",
      "[1] 0.001139782\n",
      "\n",
      "[1] 0\n",
      "\n"
     ]
    }
   ],
   "source": [
    "manhattan_dist(TFN1, TFN2)\n",
    "cat(\"\\n\")\n",
    "print(\"Breakdown of stage dissimilarity across Stage classification before and after weight redistribution:\")\n",
    "cat(\"\\n\")\n",
    "for(i in 1:length(TFN1)) {\n",
    "    print(manhattan_dist(TFN1[i], TFN2[i]))\n",
    "    cat(\"\\n\")\n",
    "}"
   ]
  },
  {
   "cell_type": "code",
   "execution_count": 36,
   "id": "2aa4dcd0",
   "metadata": {},
   "outputs": [
    {
     "data": {
      "text/html": [
       "0.499647400292502"
      ],
      "text/latex": [
       "0.499647400292502"
      ],
      "text/markdown": [
       "0.499647400292502"
      ],
      "text/plain": [
       "[1] 0.4996474"
      ]
     },
     "metadata": {},
     "output_type": "display_data"
    },
    {
     "name": "stdout",
     "output_type": "stream",
     "text": [
      "\n",
      "[1] \"Breakdown of stage dissimilarity across Cluster classification before and after weight redistribution:\"\n",
      "\n",
      "[1] 0\n",
      "\n",
      "[1] 0.188898\n",
      "\n",
      "[1] 0.07048148\n",
      "\n",
      "[1] 0.240268\n",
      "\n",
      "[1] 0\n",
      "\n"
     ]
    }
   ],
   "source": [
    "manhattan_dist(YKN1, YKN2)\n",
    "cat(\"\\n\")\n",
    "print(\"Breakdown of stage dissimilarity across Cluster classification before and after weight redistribution:\")\n",
    "cat(\"\\n\")\n",
    "for(i in 1:length(YKN1)) {\n",
    "    print(manhattan_dist(YKN1[i], YKN2[i]))\n",
    "    cat(\"\\n\")\n",
    "}"
   ]
  },
  {
   "cell_type": "code",
   "execution_count": 37,
   "id": "0574fbf7",
   "metadata": {},
   "outputs": [
    {
     "data": {
      "text/html": [
       "0.498471901622762"
      ],
      "text/latex": [
       "0.498471901622762"
      ],
      "text/markdown": [
       "0.498471901622762"
      ],
      "text/plain": [
       "[1] 0.4984719"
      ]
     },
     "metadata": {},
     "output_type": "display_data"
    },
    {
     "name": "stdout",
     "output_type": "stream",
     "text": [
      "\n",
      "[1] \"Breakdown of stage dissimilarity between Stage classification and Cluster classification, BEFORE redistribution:\"\n",
      "\n",
      "[1] 0\n",
      "\n",
      "[1] 0.1840541\n",
      "\n",
      "[1] 0.1221666\n",
      "\n",
      "[1] 0.1922511\n",
      "\n",
      "[1] 0\n",
      "\n"
     ]
    }
   ],
   "source": [
    "manhattan_dist(TFN1, YKN1)\n",
    "cat(\"\\n\")\n",
    "print(\"Breakdown of stage dissimilarity between Stage classification and Cluster classification, BEFORE redistribution:\")\n",
    "cat(\"\\n\")\n",
    "for(i in 1:length(TFN1)) {\n",
    "    print(manhattan_dist(TFN1[i], YKN1[i]))\n",
    "    cat(\"\\n\")\n",
    "}"
   ]
  },
  {
   "cell_type": "code",
   "execution_count": 38,
   "id": "47331c9f",
   "metadata": {},
   "outputs": [
    {
     "data": {
      "text/html": [
       "0.658389351596219"
      ],
      "text/latex": [
       "0.658389351596219"
      ],
      "text/markdown": [
       "0.658389351596219"
      ],
      "text/plain": [
       "[1] 0.6583894"
      ]
     },
     "metadata": {},
     "output_type": "display_data"
    },
    {
     "name": "stdout",
     "output_type": "stream",
     "text": [
      "\n",
      "[1] \"Breakdown of stage dissimilarity between Stage classification and Cluster classification, AFTER redistribution:\"\n",
      "\n",
      "[1] 0\n",
      "\n",
      "[1] 0.0002568771\n",
      "\n",
      "[1] 0.2244736\n",
      "\n",
      "[1] 0.4336589\n",
      "\n",
      "[1] 0\n",
      "\n"
     ]
    }
   ],
   "source": [
    "manhattan_dist(TFN2, YKN2)\n",
    "cat(\"\\n\")\n",
    "print(\"Breakdown of stage dissimilarity between Stage classification and Cluster classification, AFTER redistribution:\")\n",
    "cat(\"\\n\")\n",
    "for(i in 1:length(TFN2)) {\n",
    "    print(manhattan_dist(TFN2[i], YKN2[i]))\n",
    "    cat(\"\\n\")\n",
    "}"
   ]
  },
  {
   "cell_type": "code",
   "execution_count": 39,
   "id": "6265d673",
   "metadata": {},
   "outputs": [
    {
     "data": {
      "text/html": [
       "<table>\n",
       "<thead><tr><th scope=col>Results</th><th scope=col>Name</th></tr></thead>\n",
       "<tbody>\n",
       "\t<tr><td>0.0375522247844738         </td><td>Initial_And_Redistr_Stage  </td></tr>\n",
       "\t<tr><td>0.499647400292502          </td><td>Initial_And_Redistr_Cluster</td></tr>\n",
       "\t<tr><td>0.498471901622762          </td><td>Initial_Stage_And_Cluster  </td></tr>\n",
       "\t<tr><td>0.658389351596219          </td><td>Redistr_Stage_And_Cluster  </td></tr>\n",
       "</tbody>\n",
       "</table>\n"
      ],
      "text/latex": [
       "\\begin{tabular}{r|ll}\n",
       " Results & Name\\\\\n",
       "\\hline\n",
       "\t 0.0375522247844738                & Initial\\_And\\_Redistr\\_Stage  \\\\\n",
       "\t 0.499647400292502                 & Initial\\_And\\_Redistr\\_Cluster\\\\\n",
       "\t 0.498471901622762                 & Initial\\_Stage\\_And\\_Cluster  \\\\\n",
       "\t 0.658389351596219                 & Redistr\\_Stage\\_And\\_Cluster  \\\\\n",
       "\\end{tabular}\n"
      ],
      "text/markdown": [
       "\n",
       "| Results | Name |\n",
       "|---|---|\n",
       "| 0.0375522247844738          | Initial_And_Redistr_Stage   |\n",
       "| 0.499647400292502           | Initial_And_Redistr_Cluster |\n",
       "| 0.498471901622762           | Initial_Stage_And_Cluster   |\n",
       "| 0.658389351596219           | Redistr_Stage_And_Cluster   |\n",
       "\n"
      ],
      "text/plain": [
       "  Results            Name                       \n",
       "1 0.0375522247844738 Initial_And_Redistr_Stage  \n",
       "2 0.499647400292502  Initial_And_Redistr_Cluster\n",
       "3 0.498471901622762  Initial_Stage_And_Cluster  \n",
       "4 0.658389351596219  Redistr_Stage_And_Cluster  "
      ]
     },
     "metadata": {},
     "output_type": "display_data"
    }
   ],
   "source": [
    "Initial_And_Redistr_Stage <- manhattan_dist(TFN1, TFN2)\n",
    "Initial_And_Redistr_Cluster <- manhattan_dist(YKN1, YKN2)\n",
    "Initial_Stage_And_Cluster <- manhattan_dist(TFN1, YKN1)\n",
    "Redistr_Stage_And_Cluster <- manhattan_dist(TFN2, YKN2)\n",
    "\n",
    "Results <- as.data.frame(cbind(Results= c(Initial_And_Redistr_Stage, Initial_And_Redistr_Cluster, Initial_Stage_And_Cluster, Redistr_Stage_And_Cluster), \n",
    "                        Name = c(\"Initial_And_Redistr_Stage\", \"Initial_And_Redistr_Cluster\", \"Initial_Stage_And_Cluster\", \"Redistr_Stage_And_Cluster\")))\n",
    "\n",
    "Results"
   ]
  },
  {
   "cell_type": "code",
   "execution_count": 40,
   "id": "f25035ee",
   "metadata": {},
   "outputs": [
    {
     "name": "stdout",
     "output_type": "stream",
     "text": [
      "'data.frame':\t4 obs. of  2 variables:\n",
      " $ Results: num  0.0376 0.4996 0.4985 0.6584\n",
      " $ Name   : chr  \"Initial_And_Redistr_Stage\" \"Initial_And_Redistr_Cluster\" \"Initial_Stage_And_Cluster\" \"Redistr_Stage_And_Cluster\"\n"
     ]
    }
   ],
   "source": [
    "Results %>% mutate(across(where(is.factor), as.character)) -> Results\n",
    "Results[,1] <- as.numeric(Results[,1])\n",
    "\n",
    "str(Results)"
   ]
  },
  {
   "cell_type": "code",
   "execution_count": 126,
   "id": "c758873f",
   "metadata": {},
   "outputs": [
    {
     "name": "stdout",
     "output_type": "stream",
     "text": [
      "* Effectiveness of results change before and after redistribution\n",
      "across both Stage and Clustering.\n",
      "\n",
      "** Effectiveness of results change between Stage and Clustering\n",
      "first before redistribution, and then after."
     ]
    },
    {
     "data": {
      "image/png": "[encoded data removed]",
      "text/plain": [
       "Plot with title \"Redistribution results **\""
      ]
     },
     "metadata": {},
     "output_type": "display_data"
    }
   ],
   "source": [
    "op <- par(mfrow=c(2,1))\n",
    "barplot(c(Results[1,1], Results[2,1]), main=\"Algorithm results *\", \n",
    "        sub=cat(\"* Effectiveness of results change before and after redistribution\\nacross both Stage and Clustering.\\n\\n\"), \n",
    "       col=c(\"Red3\", \"Green3\"), names=c(\"Stage\", \"Cluster\"), horiz=T, las=0, xlim=c(0,0.8))\n",
    "barplot(c(Results[3,1], Results[4,1]), main=\"Redistribution results **\", \n",
    "        sub=cat(\"** Effectiveness of results change between Stage and Clustering\\nfirst before redistribution, and then after.\"), \n",
    "       col=c(\"Red3\", \"Green3\"), names=c(\"Initial\", \"Redistributed\"), horiz=T, las=0, xlim=c(0,0.8))\n",
    "par(op)"
   ]
  },
  {
   "cell_type": "markdown",
   "id": "701824c3",
   "metadata": {},
   "source": [
    "#### Conclusions\n",
    "\n",
    "- How insightful is clustering? Consider that even if our group numbers are similar to the ones generated by clustering, there is no telling they contain similar events. Could be very mixed compared to the other, resulting in similar amounts but very different events.\n",
    "\n",
    "A: Huge amount of decisions paired with large amount of iterations on the side of clustering is likely to yield strongly similar results, despite very different initial approaches.\n",
    "\n",
    "- How can we improve our points assignment? Is the StageIntegrity() test the correct approach - wouldn't we want really high probabilities for specific stages, showing strong support for our credences?\n",
    "\n",
    "A: 1. Should still come out Recon regardless of whether 25% > all other or 85% > all other.\n",
    "\n",
    "2. If 85% it would damage our Markov chain approach to redistribution to establish chronology. - Why Markov?\n",
    "\n",
    "- Why are we using these metrics for comparison? Are they relevant?\n",
    "\n",
    "- Was the DT the correct approach?\n",
    "\n",
    "A: 1. Strong human component input required for KC classification.\n",
    "\n",
    "2.1 NN - Not enough data, 40k only. Difficult to train as well. \n",
    "\n",
    "2.2 Bayes - Assign probabilities just like we're aiming for with DT, but unsupervised.\n",
    "\n",
    "2.3 k-NN - 'Lazy learning' as opposed to 'Eager learning'. Also has complexity concerns attached for predictions."
   ]
  },
  {
   "cell_type": "markdown",
   "id": "eeae1598",
   "metadata": {},
   "source": [
    "**References**\n",
    "\n",
    "[1. Customizing visualisations in R - Source 1](https://www.beaeconomics.com/r-colours-reasonable-order/)\n",
    "\n",
    "[2. Customizing visualisations in R - Source 2](https://www.r-graph-gallery.com/210-custom-barplot-layout.html)\n",
    "\n",
    "[3. Why a Decision Tree?](https://towardsdatascience.com/machine-learning-classifiers-a5cc4e1b0623)"
   ]
  }
 ],
 "metadata": {
  "kernelspec": {
   "display_name": "R",
   "language": "R",
   "name": "ir"
  },
  "language_info": {
   "codemirror_mode": "r",
   "file_extension": ".r",
   "mimetype": "text/x-r-source",
   "name": "R",
   "pygments_lexer": "r",
   "version": "3.6.1"
  }
 },
 "nbformat": 4,
 "nbformat_minor": 5
}
