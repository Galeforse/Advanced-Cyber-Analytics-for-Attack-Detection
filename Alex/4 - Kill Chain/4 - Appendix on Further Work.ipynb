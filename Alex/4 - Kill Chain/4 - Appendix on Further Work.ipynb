{
 "cells": [
  {
   "cell_type": "markdown",
   "id": "7c033013",
   "metadata": {},
   "source": []
  }
 ],
 "metadata": {
  "kernelspec": {
   "display_name": "R",
   "language": "R",
   "name": "ir"
  }
 },
 "nbformat": 4,
 "nbformat_minor": 5
}
