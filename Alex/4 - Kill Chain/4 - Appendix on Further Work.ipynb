{
 "cells": [
  {
   "cell_type": "markdown",
   "id": "7c033013",
   "metadata": {},
   "source": [
    "### Further work towards improving our KC implementation results\n",
    "\n",
    "_Note: This paper is a short appendix for the [main paper on KC implementation, found here](https://github.com/Galeforse/Advanced-Cyber-Analytics-for-Attack-Detection/blob/main/Alex/4%20-%20Kill%20Chain/3%20-%20KC%20implementation.ipynb). Follow the link to better understand its purpose._\n",
    "\n",
    "The purpose of this paper is to offer some insight into ways of improving our results obtained when performing Kill-Chain stages classification using a Decision Tree model. We will _not_ focus on data engineering aspects, such as complexity optimization or code smoothing, but rather explore avenues for improving our methods that lead to the final results. In particular, the choice of decision tree has already been explained in the former work. \n",
    "\n",
    "This appendix will exclusively tackle two main points of contestation regarding our method: \n",
    "\n",
    "- 1. How could we improve our **StageIntegrity()** function to be most suitable for our desired outcome\n",
    "\n",
    "\n",
    "- 2. How could **points assignment** be controlled given the decisions derived from the tree?"
   ]
  },
  {
   "cell_type": "markdown",
   "id": "fe368673",
   "metadata": {},
   "source": [
    "### 1. StageIntegrity() function"
   ]
  },
  {
   "cell_type": "markdown",
   "id": "2b44a851",
   "metadata": {},
   "source": [
    "### 2. Points assignment"
   ]
  },
  {
   "cell_type": "markdown",
   "id": "b28fc834",
   "metadata": {},
   "source": [
    "\n",
    "\n",
    "**References**\n",
    "\n",
    "[1. Main KC implementation paper](https://github.com/Galeforse/Advanced-Cyber-Analytics-for-Attack-Detection/blob/main/Alex/4%20-%20Kill%20Chain/3%20-%20KC%20implementation.ipynb)"
   ]
  }
 ],
 "metadata": {
  "kernelspec": {
   "display_name": "R",
   "language": "R",
   "name": "ir"
  },
  "language_info": {
   "codemirror_mode": "r",
   "file_extension": ".r",
   "mimetype": "text/x-r-source",
   "name": "R",
   "pygments_lexer": "r",
   "version": "3.6.1"
  }
 },
 "nbformat": 4,
 "nbformat_minor": 5
}
