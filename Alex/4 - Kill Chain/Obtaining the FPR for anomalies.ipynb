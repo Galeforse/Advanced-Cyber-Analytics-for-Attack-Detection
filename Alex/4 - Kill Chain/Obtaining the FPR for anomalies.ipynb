{
 "cells": [
  {
   "cell_type": "code",
   "execution_count": 11,
   "id": "30edbf0d",
   "metadata": {},
   "outputs": [],
   "source": [
    "setwd(\"D://LA//ATI Data//\")\n",
    "Anom <- read.table(file=\"Anomalies.txt\", header=T, sep=\",\")\n",
    "Anom <- Anom[,-1]"
   ]
  },
  {
   "cell_type": "code",
   "execution_count": 2,
   "id": "fc206cb9",
   "metadata": {},
   "outputs": [
    {
     "data": {
      "text/html": [
       "<table>\n",
       "<thead><tr><th scope=col>UserName</th><th scope=col>SrcDevice</th><th scope=col>DstDevice</th><th scope=col>Authent.Type</th><th scope=col>Failure</th><th scope=col>DailyCount</th></tr></thead>\n",
       "<tbody>\n",
       "\t<tr><td>User341813  </td><td>Comp948451  </td><td>Comp915658  </td><td>NetworkLogon</td><td>0           </td><td>1           </td></tr>\n",
       "\t<tr><td>User341813  </td><td>Comp948451  </td><td>Comp915658  </td><td>NetworkLogon</td><td>0           </td><td>1           </td></tr>\n",
       "\t<tr><td>User341813  </td><td>Comp948451  </td><td>Comp915658  </td><td>NetworkLogon</td><td>0           </td><td>1           </td></tr>\n",
       "\t<tr><td>User341813  </td><td>Comp948451  </td><td>Comp915658  </td><td>NetworkLogon</td><td>0           </td><td>1           </td></tr>\n",
       "\t<tr><td>User341813  </td><td>Comp948451  </td><td>Comp915658  </td><td>NetworkLogon</td><td>0           </td><td>1           </td></tr>\n",
       "\t<tr><td>User341813  </td><td>Comp948451  </td><td>Comp915658  </td><td>NetworkLogon</td><td>0           </td><td>1           </td></tr>\n",
       "</tbody>\n",
       "</table>\n"
      ],
      "text/latex": [
       "\\begin{tabular}{r|llllll}\n",
       " UserName & SrcDevice & DstDevice & Authent.Type & Failure & DailyCount\\\\\n",
       "\\hline\n",
       "\t User341813   & Comp948451   & Comp915658   & NetworkLogon & 0            & 1           \\\\\n",
       "\t User341813   & Comp948451   & Comp915658   & NetworkLogon & 0            & 1           \\\\\n",
       "\t User341813   & Comp948451   & Comp915658   & NetworkLogon & 0            & 1           \\\\\n",
       "\t User341813   & Comp948451   & Comp915658   & NetworkLogon & 0            & 1           \\\\\n",
       "\t User341813   & Comp948451   & Comp915658   & NetworkLogon & 0            & 1           \\\\\n",
       "\t User341813   & Comp948451   & Comp915658   & NetworkLogon & 0            & 1           \\\\\n",
       "\\end{tabular}\n"
      ],
      "text/markdown": [
       "\n",
       "| UserName | SrcDevice | DstDevice | Authent.Type | Failure | DailyCount |\n",
       "|---|---|---|---|---|---|\n",
       "| User341813   | Comp948451   | Comp915658   | NetworkLogon | 0            | 1            |\n",
       "| User341813   | Comp948451   | Comp915658   | NetworkLogon | 0            | 1            |\n",
       "| User341813   | Comp948451   | Comp915658   | NetworkLogon | 0            | 1            |\n",
       "| User341813   | Comp948451   | Comp915658   | NetworkLogon | 0            | 1            |\n",
       "| User341813   | Comp948451   | Comp915658   | NetworkLogon | 0            | 1            |\n",
       "| User341813   | Comp948451   | Comp915658   | NetworkLogon | 0            | 1            |\n",
       "\n"
      ],
      "text/plain": [
       "  UserName   SrcDevice  DstDevice  Authent.Type Failure DailyCount\n",
       "1 User341813 Comp948451 Comp915658 NetworkLogon 0       1         \n",
       "2 User341813 Comp948451 Comp915658 NetworkLogon 0       1         \n",
       "3 User341813 Comp948451 Comp915658 NetworkLogon 0       1         \n",
       "4 User341813 Comp948451 Comp915658 NetworkLogon 0       1         \n",
       "5 User341813 Comp948451 Comp915658 NetworkLogon 0       1         \n",
       "6 User341813 Comp948451 Comp915658 NetworkLogon 0       1         "
      ]
     },
     "metadata": {},
     "output_type": "display_data"
    },
    {
     "data": {
      "text/html": [
       "<ol class=list-inline>\n",
       "\t<li>20412</li>\n",
       "\t<li>6</li>\n",
       "</ol>\n"
      ],
      "text/latex": [
       "\\begin{enumerate*}\n",
       "\\item 20412\n",
       "\\item 6\n",
       "\\end{enumerate*}\n"
      ],
      "text/markdown": [
       "1. 20412\n",
       "2. 6\n",
       "\n",
       "\n"
      ],
      "text/plain": [
       "[1] 20412     6"
      ]
     },
     "metadata": {},
     "output_type": "display_data"
    }
   ],
   "source": [
    "head(Anom)\n",
    "dim(Anom)"
   ]
  },
  {
   "cell_type": "code",
   "execution_count": 3,
   "id": "1be782ad",
   "metadata": {
    "scrolled": true
   },
   "outputs": [],
   "source": [
    "Auth <- read.table(file=\"Summaries//Just_Auth//LA.txt\", header=T, sep=\",\")\n",
    "Auth <- Auth[,-1]"
   ]
  },
  {
   "cell_type": "code",
   "execution_count": 4,
   "id": "c8c374f0",
   "metadata": {},
   "outputs": [
    {
     "data": {
      "text/html": [
       "<table>\n",
       "<thead><tr><th scope=col>UserName</th><th scope=col>SrcDevice</th><th scope=col>DstDevice</th><th scope=col>AuthType</th><th scope=col>Failure</th><th scope=col>DailyCount</th></tr></thead>\n",
       "<tbody>\n",
       "\t<tr><td>User035855         </td><td>Comp808475         </td><td>Comp081330         </td><td>TGS                </td><td>0                  </td><td> 17                </td></tr>\n",
       "\t<tr><td>Comp655251$        </td><td>Comp655251         </td><td>ActiveDirectory    </td><td>NetworkLogon       </td><td>0                  </td><td>350                </td></tr>\n",
       "\t<tr><td>User762066         </td><td>Comp306129         </td><td>ActiveDirectory    </td><td>TGS                </td><td>0                  </td><td> 22                </td></tr>\n",
       "\t<tr><td>User384215         </td><td>Comp095190         </td><td>EnterpriseAppServer</td><td>NetworkLogon       </td><td>0                  </td><td> 35                </td></tr>\n",
       "\t<tr><td>User043263         </td><td>Comp883307         </td><td>Comp384394         </td><td>TGS                </td><td>0                  </td><td>  2                </td></tr>\n",
       "\t<tr><td>User631552         </td><td>Comp621781         </td><td>Comp915658         </td><td>NetworkLogon       </td><td>0                  </td><td>  1                </td></tr>\n",
       "</tbody>\n",
       "</table>\n"
      ],
      "text/latex": [
       "\\begin{tabular}{r|llllll}\n",
       " UserName & SrcDevice & DstDevice & AuthType & Failure & DailyCount\\\\\n",
       "\\hline\n",
       "\t User035855          & Comp808475          & Comp081330          & TGS                 & 0                   &  17                \\\\\n",
       "\t Comp655251\\$       & Comp655251          & ActiveDirectory     & NetworkLogon        & 0                   & 350                \\\\\n",
       "\t User762066          & Comp306129          & ActiveDirectory     & TGS                 & 0                   &  22                \\\\\n",
       "\t User384215          & Comp095190          & EnterpriseAppServer & NetworkLogon        & 0                   &  35                \\\\\n",
       "\t User043263          & Comp883307          & Comp384394          & TGS                 & 0                   &   2                \\\\\n",
       "\t User631552          & Comp621781          & Comp915658          & NetworkLogon        & 0                   &   1                \\\\\n",
       "\\end{tabular}\n"
      ],
      "text/markdown": [
       "\n",
       "| UserName | SrcDevice | DstDevice | AuthType | Failure | DailyCount |\n",
       "|---|---|---|---|---|---|\n",
       "| User035855          | Comp808475          | Comp081330          | TGS                 | 0                   |  17                 |\n",
       "| Comp655251$         | Comp655251          | ActiveDirectory     | NetworkLogon        | 0                   | 350                 |\n",
       "| User762066          | Comp306129          | ActiveDirectory     | TGS                 | 0                   |  22                 |\n",
       "| User384215          | Comp095190          | EnterpriseAppServer | NetworkLogon        | 0                   |  35                 |\n",
       "| User043263          | Comp883307          | Comp384394          | TGS                 | 0                   |   2                 |\n",
       "| User631552          | Comp621781          | Comp915658          | NetworkLogon        | 0                   |   1                 |\n",
       "\n"
      ],
      "text/plain": [
       "  UserName    SrcDevice  DstDevice           AuthType     Failure DailyCount\n",
       "1 User035855  Comp808475 Comp081330          TGS          0        17       \n",
       "2 Comp655251$ Comp655251 ActiveDirectory     NetworkLogon 0       350       \n",
       "3 User762066  Comp306129 ActiveDirectory     TGS          0        22       \n",
       "4 User384215  Comp095190 EnterpriseAppServer NetworkLogon 0        35       \n",
       "5 User043263  Comp883307 Comp384394          TGS          0         2       \n",
       "6 User631552  Comp621781 Comp915658          NetworkLogon 0         1       "
      ]
     },
     "metadata": {},
     "output_type": "display_data"
    },
    {
     "data": {
      "text/html": [
       "<ol class=list-inline>\n",
       "\t<li>15953681</li>\n",
       "\t<li>6</li>\n",
       "</ol>\n"
      ],
      "text/latex": [
       "\\begin{enumerate*}\n",
       "\\item 15953681\n",
       "\\item 6\n",
       "\\end{enumerate*}\n"
      ],
      "text/markdown": [
       "1. 15953681\n",
       "2. 6\n",
       "\n",
       "\n"
      ],
      "text/plain": [
       "[1] 15953681        6"
      ]
     },
     "metadata": {},
     "output_type": "display_data"
    }
   ],
   "source": [
    "head(Auth)\n",
    "dim(Auth)"
   ]
  },
  {
   "cell_type": "code",
   "execution_count": 5,
   "id": "f998a06c",
   "metadata": {},
   "outputs": [],
   "source": [
    "Score <- read.csv(file=\"Summaries//Just_Auth//AuthScores.csv\", header=T)"
   ]
  },
  {
   "cell_type": "code",
   "execution_count": 6,
   "id": "69e20ac7",
   "metadata": {},
   "outputs": [
    {
     "data": {
      "text/html": [
       "<ol class=list-inline>\n",
       "\t<li>0</li>\n",
       "\t<li>0</li>\n",
       "\t<li>0</li>\n",
       "\t<li>0</li>\n",
       "\t<li>0</li>\n",
       "\t<li>0</li>\n",
       "</ol>\n"
      ],
      "text/latex": [
       "\\begin{enumerate*}\n",
       "\\item 0\n",
       "\\item 0\n",
       "\\item 0\n",
       "\\item 0\n",
       "\\item 0\n",
       "\\item 0\n",
       "\\end{enumerate*}\n"
      ],
      "text/markdown": [
       "1. 0\n",
       "2. 0\n",
       "3. 0\n",
       "4. 0\n",
       "5. 0\n",
       "6. 0\n",
       "\n",
       "\n"
      ],
      "text/plain": [
       "[1] 0 0 0 0 0 0"
      ]
     },
     "metadata": {},
     "output_type": "display_data"
    },
    {
     "data": {
      "text/html": [
       "15953681"
      ],
      "text/latex": [
       "15953681"
      ],
      "text/markdown": [
       "15953681"
      ],
      "text/plain": [
       "[1] 15953681"
      ]
     },
     "metadata": {},
     "output_type": "display_data"
    }
   ],
   "source": [
    "Score <- Score[,-1]\n",
    "head(Score)\n",
    "length(Score)"
   ]
  },
  {
   "cell_type": "code",
   "execution_count": 7,
   "id": "5870ab0b",
   "metadata": {},
   "outputs": [
    {
     "data": {
      "text/html": [
       "<table>\n",
       "<thead><tr><th scope=col>UserName</th><th scope=col>SrcDevice</th><th scope=col>DstDevice</th><th scope=col>AuthType</th><th scope=col>Failure</th><th scope=col>DailyCount</th><th scope=col>Score</th></tr></thead>\n",
       "<tbody>\n",
       "\t<tr><td>User035855         </td><td>Comp808475         </td><td>Comp081330         </td><td>TGS                </td><td>0                  </td><td> 17                </td><td>0                  </td></tr>\n",
       "\t<tr><td>Comp655251$        </td><td>Comp655251         </td><td>ActiveDirectory    </td><td>NetworkLogon       </td><td>0                  </td><td>350                </td><td>0                  </td></tr>\n",
       "\t<tr><td>User762066         </td><td>Comp306129         </td><td>ActiveDirectory    </td><td>TGS                </td><td>0                  </td><td> 22                </td><td>0                  </td></tr>\n",
       "\t<tr><td>User384215         </td><td>Comp095190         </td><td>EnterpriseAppServer</td><td>NetworkLogon       </td><td>0                  </td><td> 35                </td><td>0                  </td></tr>\n",
       "\t<tr><td>User043263         </td><td>Comp883307         </td><td>Comp384394         </td><td>TGS                </td><td>0                  </td><td>  2                </td><td>0                  </td></tr>\n",
       "\t<tr><td>User631552         </td><td>Comp621781         </td><td>Comp915658         </td><td>NetworkLogon       </td><td>0                  </td><td>  1                </td><td>0                  </td></tr>\n",
       "</tbody>\n",
       "</table>\n"
      ],
      "text/latex": [
       "\\begin{tabular}{r|lllllll}\n",
       " UserName & SrcDevice & DstDevice & AuthType & Failure & DailyCount & Score\\\\\n",
       "\\hline\n",
       "\t User035855          & Comp808475          & Comp081330          & TGS                 & 0                   &  17                 & 0                  \\\\\n",
       "\t Comp655251\\$       & Comp655251          & ActiveDirectory     & NetworkLogon        & 0                   & 350                 & 0                  \\\\\n",
       "\t User762066          & Comp306129          & ActiveDirectory     & TGS                 & 0                   &  22                 & 0                  \\\\\n",
       "\t User384215          & Comp095190          & EnterpriseAppServer & NetworkLogon        & 0                   &  35                 & 0                  \\\\\n",
       "\t User043263          & Comp883307          & Comp384394          & TGS                 & 0                   &   2                 & 0                  \\\\\n",
       "\t User631552          & Comp621781          & Comp915658          & NetworkLogon        & 0                   &   1                 & 0                  \\\\\n",
       "\\end{tabular}\n"
      ],
      "text/markdown": [
       "\n",
       "| UserName | SrcDevice | DstDevice | AuthType | Failure | DailyCount | Score |\n",
       "|---|---|---|---|---|---|---|\n",
       "| User035855          | Comp808475          | Comp081330          | TGS                 | 0                   |  17                 | 0                   |\n",
       "| Comp655251$         | Comp655251          | ActiveDirectory     | NetworkLogon        | 0                   | 350                 | 0                   |\n",
       "| User762066          | Comp306129          | ActiveDirectory     | TGS                 | 0                   |  22                 | 0                   |\n",
       "| User384215          | Comp095190          | EnterpriseAppServer | NetworkLogon        | 0                   |  35                 | 0                   |\n",
       "| User043263          | Comp883307          | Comp384394          | TGS                 | 0                   |   2                 | 0                   |\n",
       "| User631552          | Comp621781          | Comp915658          | NetworkLogon        | 0                   |   1                 | 0                   |\n",
       "\n"
      ],
      "text/plain": [
       "  UserName    SrcDevice  DstDevice           AuthType     Failure DailyCount\n",
       "1 User035855  Comp808475 Comp081330          TGS          0        17       \n",
       "2 Comp655251$ Comp655251 ActiveDirectory     NetworkLogon 0       350       \n",
       "3 User762066  Comp306129 ActiveDirectory     TGS          0        22       \n",
       "4 User384215  Comp095190 EnterpriseAppServer NetworkLogon 0        35       \n",
       "5 User043263  Comp883307 Comp384394          TGS          0         2       \n",
       "6 User631552  Comp621781 Comp915658          NetworkLogon 0         1       \n",
       "  Score\n",
       "1 0    \n",
       "2 0    \n",
       "3 0    \n",
       "4 0    \n",
       "5 0    \n",
       "6 0    "
      ]
     },
     "metadata": {},
     "output_type": "display_data"
    }
   ],
   "source": [
    "AU <- cbind(Auth, Score)\n",
    "head(AU)"
   ]
  },
  {
   "cell_type": "code",
   "execution_count": 8,
   "id": "c654e8cf",
   "metadata": {},
   "outputs": [],
   "source": [
    "colnames(Anom) <- colnames(Auth)"
   ]
  },
  {
   "cell_type": "code",
   "execution_count": null,
   "id": "3a543ad0",
   "metadata": {},
   "outputs": [],
   "source": [
    "Result <- AU[Anom%in%AU[,-ncol(AU)]==TRUE, ]"
   ]
  },
  {
   "cell_type": "code",
   "execution_count": null,
   "id": "7716bac7",
   "metadata": {},
   "outputs": [],
   "source": []
  }
 ],
 "metadata": {
  "kernelspec": {
   "display_name": "R",
   "language": "R",
   "name": "ir"
  },
  "language_info": {
   "codemirror_mode": "r",
   "file_extension": ".r",
   "mimetype": "text/x-r-source",
   "name": "R",
   "pygments_lexer": "r",
   "version": "3.6.1"
  }
 },
 "nbformat": 4,
 "nbformat_minor": 5
}
