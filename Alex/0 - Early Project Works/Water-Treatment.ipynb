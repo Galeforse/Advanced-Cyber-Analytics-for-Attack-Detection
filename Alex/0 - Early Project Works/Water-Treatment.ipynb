{
 "cells": [
  {
   "cell_type": "markdown",
   "metadata": {},
   "source": [
    "_Note to reader: This entire document is NOT annotated because it presents no direct relevance to the project. Feel free to get in touch for any questions regarding this particular paper!_"
   ]
  },
  {
   "cell_type": "code",
   "execution_count": 43,
   "metadata": {},
   "outputs": [
    {
     "name": "stderr",
     "output_type": "stream",
     "text": [
      "Warning message:\n",
      "\"package 'plotrix' was built under R version 3.6.3\""
     ]
    }
   ],
   "source": [
    "# install.packages(\"mice\")\n",
    "# install.packages(\"readr\")\n",
    "# install.packages(\"depmixS4\")\n",
    "# install.packages(\"VIM\")\n",
    "# install.packages(\"plotrix\")\n",
    "\n",
    "library(mice)\n",
    "library(readr)\n",
    "library(depmixS4)\n",
    "library(VIM)\n",
    "library(plotrix)"
   ]
  },
  {
   "cell_type": "code",
   "execution_count": 33,
   "metadata": {},
   "outputs": [
    {
     "data": {
      "text/html": [
       "<table>\n",
       "<thead><tr><th scope=col>V1</th><th scope=col>V2</th><th scope=col>V3</th><th scope=col>V4</th><th scope=col>V5</th><th scope=col>V6</th><th scope=col>V7</th><th scope=col>V8</th><th scope=col>V9</th><th scope=col>V10</th><th scope=col>...</th><th scope=col>V30</th><th scope=col>V31</th><th scope=col>V32</th><th scope=col>V33</th><th scope=col>V34</th><th scope=col>V35</th><th scope=col>V36</th><th scope=col>V37</th><th scope=col>V38</th><th scope=col>V39</th></tr></thead>\n",
       "<tbody>\n",
       "\t<tr><td>D-1/3/90</td><td>44101   </td><td>1.50    </td><td>7.8     </td><td>?       </td><td>407     </td><td>166     </td><td>66.3    </td><td>4.5     </td><td>2110    </td><td>...     </td><td>2000    </td><td>?       </td><td>58.8    </td><td>95.5    </td><td>?       </td><td>70.0    </td><td>?       </td><td>79.4    </td><td>87.3    </td><td>99.6    </td></tr>\n",
       "\t<tr><td>D-2/3/90</td><td>39024   </td><td>3.00    </td><td>7.7     </td><td>?       </td><td>443     </td><td>214     </td><td>69.2    </td><td>6.5     </td><td>2660    </td><td>...     </td><td>2590    </td><td>?       </td><td>60.7    </td><td>94.8    </td><td>?       </td><td>80.8    </td><td>?       </td><td>79.5    </td><td>92.1    </td><td>100     </td></tr>\n",
       "\t<tr><td>D-4/3/90</td><td>32229   </td><td>5.00    </td><td>7.6     </td><td>?       </td><td>528     </td><td>186     </td><td>69.9    </td><td>3.4     </td><td>1666    </td><td>...     </td><td>1888    </td><td>?       </td><td>58.2    </td><td>95.6    </td><td>?       </td><td>52.9    </td><td>?       </td><td>75.8    </td><td>88.7    </td><td>98.5    </td></tr>\n",
       "\t<tr><td>D-5/3/90</td><td>35023   </td><td>3.50    </td><td>7.9     </td><td>205     </td><td>588     </td><td>192     </td><td>65.6    </td><td>4.5     </td><td>2430    </td><td>...     </td><td>1840    </td><td>33.1    </td><td>64.2    </td><td>95.3    </td><td>87.3    </td><td>72.3    </td><td>90.2    </td><td>82.3    </td><td>89.6    </td><td>100     </td></tr>\n",
       "\t<tr><td>D-6/3/90</td><td>36924   </td><td>1.50    </td><td>8.0     </td><td>242     </td><td>496     </td><td>176     </td><td>64.8    </td><td>4.0     </td><td>2110    </td><td>...     </td><td>2120    </td><td>?       </td><td>62.7    </td><td>95.6    </td><td>?       </td><td>71.0    </td><td>92.1    </td><td>78.2    </td><td>87.5    </td><td>99.5    </td></tr>\n",
       "\t<tr><td>D-7/3/90</td><td>38572   </td><td>3.00    </td><td>7.8     </td><td>202     </td><td>372     </td><td>186     </td><td>68.8    </td><td>4.5     </td><td>1644    </td><td>...     </td><td>1764    </td><td>?       </td><td>59.7    </td><td>96.5    </td><td>86.7    </td><td>78.3    </td><td>90.1    </td><td>73.1    </td><td>84.9    </td><td>100     </td></tr>\n",
       "</tbody>\n",
       "</table>\n"
      ],
      "text/latex": [
       "\\begin{tabular}{r|lllllllllllllllllllllllllllllllllllllll}\n",
       " V1 & V2 & V3 & V4 & V5 & V6 & V7 & V8 & V9 & V10 & ... & V30 & V31 & V32 & V33 & V34 & V35 & V36 & V37 & V38 & V39\\\\\n",
       "\\hline\n",
       "\t D-1/3/90 & 44101    & 1.50     & 7.8      & ?        & 407      & 166      & 66.3     & 4.5      & 2110     & ...      & 2000     & ?        & 58.8     & 95.5     & ?        & 70.0     & ?        & 79.4     & 87.3     & 99.6    \\\\\n",
       "\t D-2/3/90 & 39024    & 3.00     & 7.7      & ?        & 443      & 214      & 69.2     & 6.5      & 2660     & ...      & 2590     & ?        & 60.7     & 94.8     & ?        & 80.8     & ?        & 79.5     & 92.1     & 100     \\\\\n",
       "\t D-4/3/90 & 32229    & 5.00     & 7.6      & ?        & 528      & 186      & 69.9     & 3.4      & 1666     & ...      & 1888     & ?        & 58.2     & 95.6     & ?        & 52.9     & ?        & 75.8     & 88.7     & 98.5    \\\\\n",
       "\t D-5/3/90 & 35023    & 3.50     & 7.9      & 205      & 588      & 192      & 65.6     & 4.5      & 2430     & ...      & 1840     & 33.1     & 64.2     & 95.3     & 87.3     & 72.3     & 90.2     & 82.3     & 89.6     & 100     \\\\\n",
       "\t D-6/3/90 & 36924    & 1.50     & 8.0      & 242      & 496      & 176      & 64.8     & 4.0      & 2110     & ...      & 2120     & ?        & 62.7     & 95.6     & ?        & 71.0     & 92.1     & 78.2     & 87.5     & 99.5    \\\\\n",
       "\t D-7/3/90 & 38572    & 3.00     & 7.8      & 202      & 372      & 186      & 68.8     & 4.5      & 1644     & ...      & 1764     & ?        & 59.7     & 96.5     & 86.7     & 78.3     & 90.1     & 73.1     & 84.9     & 100     \\\\\n",
       "\\end{tabular}\n"
      ],
      "text/markdown": [
       "\n",
       "| V1 | V2 | V3 | V4 | V5 | V6 | V7 | V8 | V9 | V10 | ... | V30 | V31 | V32 | V33 | V34 | V35 | V36 | V37 | V38 | V39 |\n",
       "|---|---|---|---|---|---|---|---|---|---|---|---|---|---|---|---|---|---|---|---|---|\n",
       "| D-1/3/90 | 44101    | 1.50     | 7.8      | ?        | 407      | 166      | 66.3     | 4.5      | 2110     | ...      | 2000     | ?        | 58.8     | 95.5     | ?        | 70.0     | ?        | 79.4     | 87.3     | 99.6     |\n",
       "| D-2/3/90 | 39024    | 3.00     | 7.7      | ?        | 443      | 214      | 69.2     | 6.5      | 2660     | ...      | 2590     | ?        | 60.7     | 94.8     | ?        | 80.8     | ?        | 79.5     | 92.1     | 100      |\n",
       "| D-4/3/90 | 32229    | 5.00     | 7.6      | ?        | 528      | 186      | 69.9     | 3.4      | 1666     | ...      | 1888     | ?        | 58.2     | 95.6     | ?        | 52.9     | ?        | 75.8     | 88.7     | 98.5     |\n",
       "| D-5/3/90 | 35023    | 3.50     | 7.9      | 205      | 588      | 192      | 65.6     | 4.5      | 2430     | ...      | 1840     | 33.1     | 64.2     | 95.3     | 87.3     | 72.3     | 90.2     | 82.3     | 89.6     | 100      |\n",
       "| D-6/3/90 | 36924    | 1.50     | 8.0      | 242      | 496      | 176      | 64.8     | 4.0      | 2110     | ...      | 2120     | ?        | 62.7     | 95.6     | ?        | 71.0     | 92.1     | 78.2     | 87.5     | 99.5     |\n",
       "| D-7/3/90 | 38572    | 3.00     | 7.8      | 202      | 372      | 186      | 68.8     | 4.5      | 1644     | ...      | 1764     | ?        | 59.7     | 96.5     | 86.7     | 78.3     | 90.1     | 73.1     | 84.9     | 100      |\n",
       "\n"
      ],
      "text/plain": [
       "  V1       V2    V3   V4  V5  V6  V7  V8   V9  V10  ... V30  V31  V32  V33 \n",
       "1 D-1/3/90 44101 1.50 7.8 ?   407 166 66.3 4.5 2110 ... 2000 ?    58.8 95.5\n",
       "2 D-2/3/90 39024 3.00 7.7 ?   443 214 69.2 6.5 2660 ... 2590 ?    60.7 94.8\n",
       "3 D-4/3/90 32229 5.00 7.6 ?   528 186 69.9 3.4 1666 ... 1888 ?    58.2 95.6\n",
       "4 D-5/3/90 35023 3.50 7.9 205 588 192 65.6 4.5 2430 ... 1840 33.1 64.2 95.3\n",
       "5 D-6/3/90 36924 1.50 8.0 242 496 176 64.8 4.0 2110 ... 2120 ?    62.7 95.6\n",
       "6 D-7/3/90 38572 3.00 7.8 202 372 186 68.8 4.5 1644 ... 1764 ?    59.7 96.5\n",
       "  V34  V35  V36  V37  V38  V39 \n",
       "1 ?    70.0 ?    79.4 87.3 99.6\n",
       "2 ?    80.8 ?    79.5 92.1 100 \n",
       "3 ?    52.9 ?    75.8 88.7 98.5\n",
       "4 87.3 72.3 90.2 82.3 89.6 100 \n",
       "5 ?    71.0 92.1 78.2 87.5 99.5\n",
       "6 86.7 78.3 90.1 73.1 84.9 100 "
      ]
     },
     "metadata": {},
     "output_type": "display_data"
    },
    {
     "data": {
      "text/html": [
       "<ol class=list-inline>\n",
       "\t<li>527</li>\n",
       "\t<li>39</li>\n",
       "</ol>\n"
      ],
      "text/latex": [
       "\\begin{enumerate*}\n",
       "\\item 527\n",
       "\\item 39\n",
       "\\end{enumerate*}\n"
      ],
      "text/markdown": [
       "1. 527\n",
       "2. 39\n",
       "\n",
       "\n"
      ],
      "text/plain": [
       "[1] 527  39"
      ]
     },
     "metadata": {},
     "output_type": "display_data"
    }
   ],
   "source": [
    "setwd(\"D://Datasets\")\n",
    "df <- read.table(file = \"water.data\", sep =\",\")\n",
    "head(df)\n",
    "dim(df)"
   ]
  },
  {
   "cell_type": "code",
   "execution_count": 34,
   "metadata": {},
   "outputs": [],
   "source": [
    "colnames(df) <- c(\"Date\", \"Q-E\", \"ZN-E\", \"PH-E\", \"DBO-E\", \"DQO-E\", \"SS-E\", \"SSV-E\", \n",
    "\"SED-E\", \"COND-E\", \"PH-P\", \"DBO-P\", \"SS-P\", \"SSV-P\", \"SED-P\", \"COND-P\", \"PH-D\", \"DBO-D\",\n",
    "\"DQO-D\", \"SS-D\", \"SSV-D\", \"SED-D\", \"COND-D\", \"PH-S\", \"DBO-S\", \"DQO-S\", \"SS-S\", \"SSV-S\", \"SED-S\",\n",
    "\"COND-S\", \"RD-DBO-P\", \"RD-SS-P\", \"RD-SED-P\", \"RD-DBO-S\", \"RD-DQO-S\", \"RD-DBO-G\", \"RD-DQO-G\",\n",
    "\"RD-SS-G\", \"RD-SED-G\")  "
   ]
  },
  {
   "cell_type": "code",
   "execution_count": 35,
   "metadata": {},
   "outputs": [
    {
     "data": {
      "text/html": [
       "<table>\n",
       "<thead><tr><th scope=col>Date</th><th scope=col>Q-E</th><th scope=col>ZN-E</th><th scope=col>PH-E</th><th scope=col>DBO-E</th><th scope=col>DQO-E</th><th scope=col>SS-E</th><th scope=col>SSV-E</th><th scope=col>SED-E</th><th scope=col>COND-E</th><th scope=col>...</th><th scope=col>COND-S</th><th scope=col>RD-DBO-P</th><th scope=col>RD-SS-P</th><th scope=col>RD-SED-P</th><th scope=col>RD-DBO-S</th><th scope=col>RD-DQO-S</th><th scope=col>RD-DBO-G</th><th scope=col>RD-DQO-G</th><th scope=col>RD-SS-G</th><th scope=col>RD-SED-G</th></tr></thead>\n",
       "<tbody>\n",
       "\t<tr><td>D-1/3/90</td><td>44101   </td><td>1.50    </td><td>7.8     </td><td>?       </td><td>407     </td><td>166     </td><td>66.3    </td><td>4.5     </td><td>2110    </td><td>...     </td><td>2000    </td><td>?       </td><td>58.8    </td><td>95.5    </td><td>?       </td><td>70.0    </td><td>?       </td><td>79.4    </td><td>87.3    </td><td>99.6    </td></tr>\n",
       "\t<tr><td>D-2/3/90</td><td>39024   </td><td>3.00    </td><td>7.7     </td><td>?       </td><td>443     </td><td>214     </td><td>69.2    </td><td>6.5     </td><td>2660    </td><td>...     </td><td>2590    </td><td>?       </td><td>60.7    </td><td>94.8    </td><td>?       </td><td>80.8    </td><td>?       </td><td>79.5    </td><td>92.1    </td><td>100     </td></tr>\n",
       "\t<tr><td>D-4/3/90</td><td>32229   </td><td>5.00    </td><td>7.6     </td><td>?       </td><td>528     </td><td>186     </td><td>69.9    </td><td>3.4     </td><td>1666    </td><td>...     </td><td>1888    </td><td>?       </td><td>58.2    </td><td>95.6    </td><td>?       </td><td>52.9    </td><td>?       </td><td>75.8    </td><td>88.7    </td><td>98.5    </td></tr>\n",
       "\t<tr><td>D-5/3/90</td><td>35023   </td><td>3.50    </td><td>7.9     </td><td>205     </td><td>588     </td><td>192     </td><td>65.6    </td><td>4.5     </td><td>2430    </td><td>...     </td><td>1840    </td><td>33.1    </td><td>64.2    </td><td>95.3    </td><td>87.3    </td><td>72.3    </td><td>90.2    </td><td>82.3    </td><td>89.6    </td><td>100     </td></tr>\n",
       "\t<tr><td>D-6/3/90</td><td>36924   </td><td>1.50    </td><td>8.0     </td><td>242     </td><td>496     </td><td>176     </td><td>64.8    </td><td>4.0     </td><td>2110    </td><td>...     </td><td>2120    </td><td>?       </td><td>62.7    </td><td>95.6    </td><td>?       </td><td>71.0    </td><td>92.1    </td><td>78.2    </td><td>87.5    </td><td>99.5    </td></tr>\n",
       "\t<tr><td>D-7/3/90</td><td>38572   </td><td>3.00    </td><td>7.8     </td><td>202     </td><td>372     </td><td>186     </td><td>68.8    </td><td>4.5     </td><td>1644    </td><td>...     </td><td>1764    </td><td>?       </td><td>59.7    </td><td>96.5    </td><td>86.7    </td><td>78.3    </td><td>90.1    </td><td>73.1    </td><td>84.9    </td><td>100     </td></tr>\n",
       "</tbody>\n",
       "</table>\n"
      ],
      "text/latex": [
       "\\begin{tabular}{r|lllllllllllllllllllllllllllllllllllllll}\n",
       " Date & Q-E & ZN-E & PH-E & DBO-E & DQO-E & SS-E & SSV-E & SED-E & COND-E & ... & COND-S & RD-DBO-P & RD-SS-P & RD-SED-P & RD-DBO-S & RD-DQO-S & RD-DBO-G & RD-DQO-G & RD-SS-G & RD-SED-G\\\\\n",
       "\\hline\n",
       "\t D-1/3/90 & 44101    & 1.50     & 7.8      & ?        & 407      & 166      & 66.3     & 4.5      & 2110     & ...      & 2000     & ?        & 58.8     & 95.5     & ?        & 70.0     & ?        & 79.4     & 87.3     & 99.6    \\\\\n",
       "\t D-2/3/90 & 39024    & 3.00     & 7.7      & ?        & 443      & 214      & 69.2     & 6.5      & 2660     & ...      & 2590     & ?        & 60.7     & 94.8     & ?        & 80.8     & ?        & 79.5     & 92.1     & 100     \\\\\n",
       "\t D-4/3/90 & 32229    & 5.00     & 7.6      & ?        & 528      & 186      & 69.9     & 3.4      & 1666     & ...      & 1888     & ?        & 58.2     & 95.6     & ?        & 52.9     & ?        & 75.8     & 88.7     & 98.5    \\\\\n",
       "\t D-5/3/90 & 35023    & 3.50     & 7.9      & 205      & 588      & 192      & 65.6     & 4.5      & 2430     & ...      & 1840     & 33.1     & 64.2     & 95.3     & 87.3     & 72.3     & 90.2     & 82.3     & 89.6     & 100     \\\\\n",
       "\t D-6/3/90 & 36924    & 1.50     & 8.0      & 242      & 496      & 176      & 64.8     & 4.0      & 2110     & ...      & 2120     & ?        & 62.7     & 95.6     & ?        & 71.0     & 92.1     & 78.2     & 87.5     & 99.5    \\\\\n",
       "\t D-7/3/90 & 38572    & 3.00     & 7.8      & 202      & 372      & 186      & 68.8     & 4.5      & 1644     & ...      & 1764     & ?        & 59.7     & 96.5     & 86.7     & 78.3     & 90.1     & 73.1     & 84.9     & 100     \\\\\n",
       "\\end{tabular}\n"
      ],
      "text/markdown": [
       "\n",
       "| Date | Q-E | ZN-E | PH-E | DBO-E | DQO-E | SS-E | SSV-E | SED-E | COND-E | ... | COND-S | RD-DBO-P | RD-SS-P | RD-SED-P | RD-DBO-S | RD-DQO-S | RD-DBO-G | RD-DQO-G | RD-SS-G | RD-SED-G |\n",
       "|---|---|---|---|---|---|---|---|---|---|---|---|---|---|---|---|---|---|---|---|---|\n",
       "| D-1/3/90 | 44101    | 1.50     | 7.8      | ?        | 407      | 166      | 66.3     | 4.5      | 2110     | ...      | 2000     | ?        | 58.8     | 95.5     | ?        | 70.0     | ?        | 79.4     | 87.3     | 99.6     |\n",
       "| D-2/3/90 | 39024    | 3.00     | 7.7      | ?        | 443      | 214      | 69.2     | 6.5      | 2660     | ...      | 2590     | ?        | 60.7     | 94.8     | ?        | 80.8     | ?        | 79.5     | 92.1     | 100      |\n",
       "| D-4/3/90 | 32229    | 5.00     | 7.6      | ?        | 528      | 186      | 69.9     | 3.4      | 1666     | ...      | 1888     | ?        | 58.2     | 95.6     | ?        | 52.9     | ?        | 75.8     | 88.7     | 98.5     |\n",
       "| D-5/3/90 | 35023    | 3.50     | 7.9      | 205      | 588      | 192      | 65.6     | 4.5      | 2430     | ...      | 1840     | 33.1     | 64.2     | 95.3     | 87.3     | 72.3     | 90.2     | 82.3     | 89.6     | 100      |\n",
       "| D-6/3/90 | 36924    | 1.50     | 8.0      | 242      | 496      | 176      | 64.8     | 4.0      | 2110     | ...      | 2120     | ?        | 62.7     | 95.6     | ?        | 71.0     | 92.1     | 78.2     | 87.5     | 99.5     |\n",
       "| D-7/3/90 | 38572    | 3.00     | 7.8      | 202      | 372      | 186      | 68.8     | 4.5      | 1644     | ...      | 1764     | ?        | 59.7     | 96.5     | 86.7     | 78.3     | 90.1     | 73.1     | 84.9     | 100      |\n",
       "\n"
      ],
      "text/plain": [
       "  Date     Q-E   ZN-E PH-E DBO-E DQO-E SS-E SSV-E SED-E COND-E ... COND-S\n",
       "1 D-1/3/90 44101 1.50 7.8  ?     407   166  66.3  4.5   2110   ... 2000  \n",
       "2 D-2/3/90 39024 3.00 7.7  ?     443   214  69.2  6.5   2660   ... 2590  \n",
       "3 D-4/3/90 32229 5.00 7.6  ?     528   186  69.9  3.4   1666   ... 1888  \n",
       "4 D-5/3/90 35023 3.50 7.9  205   588   192  65.6  4.5   2430   ... 1840  \n",
       "5 D-6/3/90 36924 1.50 8.0  242   496   176  64.8  4.0   2110   ... 2120  \n",
       "6 D-7/3/90 38572 3.00 7.8  202   372   186  68.8  4.5   1644   ... 1764  \n",
       "  RD-DBO-P RD-SS-P RD-SED-P RD-DBO-S RD-DQO-S RD-DBO-G RD-DQO-G RD-SS-G\n",
       "1 ?        58.8    95.5     ?        70.0     ?        79.4     87.3   \n",
       "2 ?        60.7    94.8     ?        80.8     ?        79.5     92.1   \n",
       "3 ?        58.2    95.6     ?        52.9     ?        75.8     88.7   \n",
       "4 33.1     64.2    95.3     87.3     72.3     90.2     82.3     89.6   \n",
       "5 ?        62.7    95.6     ?        71.0     92.1     78.2     87.5   \n",
       "6 ?        59.7    96.5     86.7     78.3     90.1     73.1     84.9   \n",
       "  RD-SED-G\n",
       "1 99.6    \n",
       "2 100     \n",
       "3 98.5    \n",
       "4 100     \n",
       "5 99.5    \n",
       "6 100     "
      ]
     },
     "metadata": {},
     "output_type": "display_data"
    }
   ],
   "source": [
    "head(df)"
   ]
  },
  {
   "cell_type": "code",
   "execution_count": 36,
   "metadata": {},
   "outputs": [
    {
     "name": "stderr",
     "output_type": "stream",
     "text": [
      "Warning message in eval(expr, envir, enclos):\n",
      "\"NAs introduced by coercion\"Warning message in eval(expr, envir, enclos):\n",
      "\"NAs introduced by coercion\"Warning message in eval(expr, envir, enclos):\n",
      "\"NAs introduced by coercion\"Warning message in eval(expr, envir, enclos):\n",
      "\"NAs introduced by coercion\"Warning message in eval(expr, envir, enclos):\n",
      "\"NAs introduced by coercion\"Warning message in eval(expr, envir, enclos):\n",
      "\"NAs introduced by coercion\"Warning message in eval(expr, envir, enclos):\n",
      "\"NAs introduced by coercion\"Warning message in eval(expr, envir, enclos):\n",
      "\"NAs introduced by coercion\"Warning message in eval(expr, envir, enclos):\n",
      "\"NAs introduced by coercion\"Warning message in eval(expr, envir, enclos):\n",
      "\"NAs introduced by coercion\"Warning message in eval(expr, envir, enclos):\n",
      "\"NAs introduced by coercion\"Warning message in eval(expr, envir, enclos):\n",
      "\"NAs introduced by coercion\"Warning message in eval(expr, envir, enclos):\n",
      "\"NAs introduced by coercion\"Warning message in eval(expr, envir, enclos):\n",
      "\"NAs introduced by coercion\"Warning message in eval(expr, envir, enclos):\n",
      "\"NAs introduced by coercion\"Warning message in eval(expr, envir, enclos):\n",
      "\"NAs introduced by coercion\"Warning message in eval(expr, envir, enclos):\n",
      "\"NAs introduced by coercion\"Warning message in eval(expr, envir, enclos):\n",
      "\"NAs introduced by coercion\"Warning message in eval(expr, envir, enclos):\n",
      "\"NAs introduced by coercion\"Warning message in eval(expr, envir, enclos):\n",
      "\"NAs introduced by coercion\"Warning message in eval(expr, envir, enclos):\n",
      "\"NAs introduced by coercion\"Warning message in eval(expr, envir, enclos):\n",
      "\"NAs introduced by coercion\"Warning message in eval(expr, envir, enclos):\n",
      "\"NAs introduced by coercion\"Warning message in eval(expr, envir, enclos):\n",
      "\"NAs introduced by coercion\"Warning message in eval(expr, envir, enclos):\n",
      "\"NAs introduced by coercion\"Warning message in eval(expr, envir, enclos):\n",
      "\"NAs introduced by coercion\"Warning message in eval(expr, envir, enclos):\n",
      "\"NAs introduced by coercion\"Warning message in eval(expr, envir, enclos):\n",
      "\"NAs introduced by coercion\"Warning message in eval(expr, envir, enclos):\n",
      "\"NAs introduced by coercion\"Warning message in eval(expr, envir, enclos):\n",
      "\"NAs introduced by coercion\"Warning message in eval(expr, envir, enclos):\n",
      "\"NAs introduced by coercion\""
     ]
    }
   ],
   "source": [
    "for(i in 2:39){\n",
    "\tdf[, i] <- as.numeric(as.character(df[, i]))\n",
    "\t}"
   ]
  },
  {
   "cell_type": "code",
   "execution_count": 37,
   "metadata": {},
   "outputs": [
    {
     "data": {
      "text/html": [
       "<table>\n",
       "<thead><tr><th scope=col>Date</th><th scope=col>Q-E</th><th scope=col>ZN-E</th><th scope=col>PH-E</th><th scope=col>DBO-E</th><th scope=col>DQO-E</th><th scope=col>SS-E</th><th scope=col>SSV-E</th><th scope=col>SED-E</th><th scope=col>COND-E</th><th scope=col>...</th><th scope=col>COND-S</th><th scope=col>RD-DBO-P</th><th scope=col>RD-SS-P</th><th scope=col>RD-SED-P</th><th scope=col>RD-DBO-S</th><th scope=col>RD-DQO-S</th><th scope=col>RD-DBO-G</th><th scope=col>RD-DQO-G</th><th scope=col>RD-SS-G</th><th scope=col>RD-SED-G</th></tr></thead>\n",
       "<tbody>\n",
       "\t<tr><td>D-1/3/90</td><td>44101   </td><td>1.5     </td><td>7.8     </td><td> NA     </td><td>407     </td><td>166     </td><td>66.3    </td><td>4.5     </td><td>2110    </td><td>...     </td><td>2000    </td><td>  NA    </td><td>58.8    </td><td>95.5    </td><td>  NA    </td><td>70.0    </td><td>  NA    </td><td>79.4    </td><td>87.3    </td><td> 99.6   </td></tr>\n",
       "\t<tr><td>D-2/3/90</td><td>39024   </td><td>3.0     </td><td>7.7     </td><td> NA     </td><td>443     </td><td>214     </td><td>69.2    </td><td>6.5     </td><td>2660    </td><td>...     </td><td>2590    </td><td>  NA    </td><td>60.7    </td><td>94.8    </td><td>  NA    </td><td>80.8    </td><td>  NA    </td><td>79.5    </td><td>92.1    </td><td>100.0   </td></tr>\n",
       "\t<tr><td>D-4/3/90</td><td>32229   </td><td>5.0     </td><td>7.6     </td><td> NA     </td><td>528     </td><td>186     </td><td>69.9    </td><td>3.4     </td><td>1666    </td><td>...     </td><td>1888    </td><td>  NA    </td><td>58.2    </td><td>95.6    </td><td>  NA    </td><td>52.9    </td><td>  NA    </td><td>75.8    </td><td>88.7    </td><td> 98.5   </td></tr>\n",
       "\t<tr><td>D-5/3/90</td><td>35023   </td><td>3.5     </td><td>7.9     </td><td>205     </td><td>588     </td><td>192     </td><td>65.6    </td><td>4.5     </td><td>2430    </td><td>...     </td><td>1840    </td><td>33.1    </td><td>64.2    </td><td>95.3    </td><td>87.3    </td><td>72.3    </td><td>90.2    </td><td>82.3    </td><td>89.6    </td><td>100.0   </td></tr>\n",
       "\t<tr><td>D-6/3/90</td><td>36924   </td><td>1.5     </td><td>8.0     </td><td>242     </td><td>496     </td><td>176     </td><td>64.8    </td><td>4.0     </td><td>2110    </td><td>...     </td><td>2120    </td><td>  NA    </td><td>62.7    </td><td>95.6    </td><td>  NA    </td><td>71.0    </td><td>92.1    </td><td>78.2    </td><td>87.5    </td><td> 99.5   </td></tr>\n",
       "\t<tr><td>D-7/3/90</td><td>38572   </td><td>3.0     </td><td>7.8     </td><td>202     </td><td>372     </td><td>186     </td><td>68.8    </td><td>4.5     </td><td>1644    </td><td>...     </td><td>1764    </td><td>  NA    </td><td>59.7    </td><td>96.5    </td><td>86.7    </td><td>78.3    </td><td>90.1    </td><td>73.1    </td><td>84.9    </td><td>100.0   </td></tr>\n",
       "</tbody>\n",
       "</table>\n"
      ],
      "text/latex": [
       "\\begin{tabular}{r|lllllllllllllllllllllllllllllllllllllll}\n",
       " Date & Q-E & ZN-E & PH-E & DBO-E & DQO-E & SS-E & SSV-E & SED-E & COND-E & ... & COND-S & RD-DBO-P & RD-SS-P & RD-SED-P & RD-DBO-S & RD-DQO-S & RD-DBO-G & RD-DQO-G & RD-SS-G & RD-SED-G\\\\\n",
       "\\hline\n",
       "\t D-1/3/90 & 44101    & 1.5      & 7.8      &  NA      & 407      & 166      & 66.3     & 4.5      & 2110     & ...      & 2000     &   NA     & 58.8     & 95.5     &   NA     & 70.0     &   NA     & 79.4     & 87.3     &  99.6   \\\\\n",
       "\t D-2/3/90 & 39024    & 3.0      & 7.7      &  NA      & 443      & 214      & 69.2     & 6.5      & 2660     & ...      & 2590     &   NA     & 60.7     & 94.8     &   NA     & 80.8     &   NA     & 79.5     & 92.1     & 100.0   \\\\\n",
       "\t D-4/3/90 & 32229    & 5.0      & 7.6      &  NA      & 528      & 186      & 69.9     & 3.4      & 1666     & ...      & 1888     &   NA     & 58.2     & 95.6     &   NA     & 52.9     &   NA     & 75.8     & 88.7     &  98.5   \\\\\n",
       "\t D-5/3/90 & 35023    & 3.5      & 7.9      & 205      & 588      & 192      & 65.6     & 4.5      & 2430     & ...      & 1840     & 33.1     & 64.2     & 95.3     & 87.3     & 72.3     & 90.2     & 82.3     & 89.6     & 100.0   \\\\\n",
       "\t D-6/3/90 & 36924    & 1.5      & 8.0      & 242      & 496      & 176      & 64.8     & 4.0      & 2110     & ...      & 2120     &   NA     & 62.7     & 95.6     &   NA     & 71.0     & 92.1     & 78.2     & 87.5     &  99.5   \\\\\n",
       "\t D-7/3/90 & 38572    & 3.0      & 7.8      & 202      & 372      & 186      & 68.8     & 4.5      & 1644     & ...      & 1764     &   NA     & 59.7     & 96.5     & 86.7     & 78.3     & 90.1     & 73.1     & 84.9     & 100.0   \\\\\n",
       "\\end{tabular}\n"
      ],
      "text/markdown": [
       "\n",
       "| Date | Q-E | ZN-E | PH-E | DBO-E | DQO-E | SS-E | SSV-E | SED-E | COND-E | ... | COND-S | RD-DBO-P | RD-SS-P | RD-SED-P | RD-DBO-S | RD-DQO-S | RD-DBO-G | RD-DQO-G | RD-SS-G | RD-SED-G |\n",
       "|---|---|---|---|---|---|---|---|---|---|---|---|---|---|---|---|---|---|---|---|---|\n",
       "| D-1/3/90 | 44101    | 1.5      | 7.8      |  NA      | 407      | 166      | 66.3     | 4.5      | 2110     | ...      | 2000     |   NA     | 58.8     | 95.5     |   NA     | 70.0     |   NA     | 79.4     | 87.3     |  99.6    |\n",
       "| D-2/3/90 | 39024    | 3.0      | 7.7      |  NA      | 443      | 214      | 69.2     | 6.5      | 2660     | ...      | 2590     |   NA     | 60.7     | 94.8     |   NA     | 80.8     |   NA     | 79.5     | 92.1     | 100.0    |\n",
       "| D-4/3/90 | 32229    | 5.0      | 7.6      |  NA      | 528      | 186      | 69.9     | 3.4      | 1666     | ...      | 1888     |   NA     | 58.2     | 95.6     |   NA     | 52.9     |   NA     | 75.8     | 88.7     |  98.5    |\n",
       "| D-5/3/90 | 35023    | 3.5      | 7.9      | 205      | 588      | 192      | 65.6     | 4.5      | 2430     | ...      | 1840     | 33.1     | 64.2     | 95.3     | 87.3     | 72.3     | 90.2     | 82.3     | 89.6     | 100.0    |\n",
       "| D-6/3/90 | 36924    | 1.5      | 8.0      | 242      | 496      | 176      | 64.8     | 4.0      | 2110     | ...      | 2120     |   NA     | 62.7     | 95.6     |   NA     | 71.0     | 92.1     | 78.2     | 87.5     |  99.5    |\n",
       "| D-7/3/90 | 38572    | 3.0      | 7.8      | 202      | 372      | 186      | 68.8     | 4.5      | 1644     | ...      | 1764     |   NA     | 59.7     | 96.5     | 86.7     | 78.3     | 90.1     | 73.1     | 84.9     | 100.0    |\n",
       "\n"
      ],
      "text/plain": [
       "  Date     Q-E   ZN-E PH-E DBO-E DQO-E SS-E SSV-E SED-E COND-E ... COND-S\n",
       "1 D-1/3/90 44101 1.5  7.8   NA   407   166  66.3  4.5   2110   ... 2000  \n",
       "2 D-2/3/90 39024 3.0  7.7   NA   443   214  69.2  6.5   2660   ... 2590  \n",
       "3 D-4/3/90 32229 5.0  7.6   NA   528   186  69.9  3.4   1666   ... 1888  \n",
       "4 D-5/3/90 35023 3.5  7.9  205   588   192  65.6  4.5   2430   ... 1840  \n",
       "5 D-6/3/90 36924 1.5  8.0  242   496   176  64.8  4.0   2110   ... 2120  \n",
       "6 D-7/3/90 38572 3.0  7.8  202   372   186  68.8  4.5   1644   ... 1764  \n",
       "  RD-DBO-P RD-SS-P RD-SED-P RD-DBO-S RD-DQO-S RD-DBO-G RD-DQO-G RD-SS-G\n",
       "1   NA     58.8    95.5       NA     70.0       NA     79.4     87.3   \n",
       "2   NA     60.7    94.8       NA     80.8       NA     79.5     92.1   \n",
       "3   NA     58.2    95.6       NA     52.9       NA     75.8     88.7   \n",
       "4 33.1     64.2    95.3     87.3     72.3     90.2     82.3     89.6   \n",
       "5   NA     62.7    95.6       NA     71.0     92.1     78.2     87.5   \n",
       "6   NA     59.7    96.5     86.7     78.3     90.1     73.1     84.9   \n",
       "  RD-SED-G\n",
       "1  99.6   \n",
       "2 100.0   \n",
       "3  98.5   \n",
       "4 100.0   \n",
       "5  99.5   \n",
       "6 100.0   "
      ]
     },
     "metadata": {},
     "output_type": "display_data"
    }
   ],
   "source": [
    "head(df)"
   ]
  },
  {
   "cell_type": "code",
   "execution_count": 38,
   "metadata": {},
   "outputs": [],
   "source": [
    "df_orig <- df"
   ]
  },
  {
   "cell_type": "code",
   "execution_count": 39,
   "metadata": {},
   "outputs": [
    {
     "data": {
      "image/png": "[encoded data removed]",
      "text/plain": [
       "plot without title"
      ]
     },
     "metadata": {},
     "output_type": "display_data"
    }
   ],
   "source": [
    "# png(file=\"MissingInWater.png\")\n",
    "aggr(df) # NO missingness in the Date, excellent!\n",
    "\t## very specific pattern?\n",
    "# dev.off()"
   ]
  },
  {
   "cell_type": "code",
   "execution_count": 41,
   "metadata": {},
   "outputs": [
    {
     "name": "stdout",
     "output_type": "stream",
     "text": [
      " [1]  0 18  3  0 23  6  1 11 25  0  0 40  0 11 24  0  0 28  9  2 13 25  0  1 23\n",
      "[26] 18  5 17 28  1 62  4 27 40 26 36 25  8 31\n"
     ]
    }
   ],
   "source": [
    "Miss <- function(data = df) {\n",
    "\tt <- vector(len = ncol(data))\n",
    "\tfor(i in 1:ncol(data)){\n",
    "\t\tt[i] <- sum(is.na(data[,i]))\n",
    "\t\t}\n",
    "\tt }\n",
    "t <- Miss()\n",
    "\n",
    "print(t)"
   ]
  },
  {
   "cell_type": "code",
   "execution_count": 47,
   "metadata": {},
   "outputs": [
    {
     "data": {
      "image/png": "[encoded data removed]",
      "text/plain": [
       "Plot with title \"Chart of missingness\""
      ]
     },
     "metadata": {},
     "output_type": "display_data"
    }
   ],
   "source": [
    "pie(t, col = rainbow(39), main = \"Chart of missingness\")"
   ]
  },
  {
   "cell_type": "code",
   "execution_count": 48,
   "metadata": {},
   "outputs": [
    {
     "data": {
      "text/html": [
       "TRUE"
      ],
      "text/latex": [
       "TRUE"
      ],
      "text/markdown": [
       "TRUE"
      ],
      "text/plain": [
       "[1] TRUE"
      ]
     },
     "metadata": {},
     "output_type": "display_data"
    }
   ],
   "source": [
    "v<- vector()\n",
    "j <- 1\n",
    "for(i in 1:length(t)) {\n",
    "\tif(t[i]==0) {\n",
    "\t\tv[j] <- i\n",
    "\t\tj<- j+1\n",
    "\t\t}\n",
    "\t}\n",
    "\n",
    "## Should be TRUE\n",
    "identical(as.numeric(length(v)), as.numeric((ncol(df)-31)))\n",
    "\t"
   ]
  },
  {
   "cell_type": "code",
   "execution_count": 49,
   "metadata": {},
   "outputs": [],
   "source": [
    "## Construct a 'clean' dataset without any of the missingness\n",
    "clean <- data.frame(nrow=nrow(df))\n",
    "for(j in 1:length(v)) {\n",
    "\tclean <- cbind(clean, df[, v[j]])\n",
    "\t}\n",
    "clean <- clean[, -1]\n",
    "colnames(clean) <- c(\"Date\", paste(\"Item\", c(1:(length(v)-1)), sep=\"_\"))"
   ]
  },
  {
   "cell_type": "code",
   "execution_count": 50,
   "metadata": {},
   "outputs": [
    {
     "data": {
      "text/html": [
       "<table>\n",
       "<thead><tr><th scope=col>Date</th><th scope=col>Item_1</th><th scope=col>Item_2</th><th scope=col>Item_3</th><th scope=col>Item_4</th><th scope=col>Item_5</th><th scope=col>Item_6</th><th scope=col>Item_7</th></tr></thead>\n",
       "<tbody>\n",
       "\t<tr><td>D-1/3/90</td><td>7.8     </td><td>2110    </td><td>7.9     </td><td>228     </td><td>2120    </td><td>7.9     </td><td>2010    </td></tr>\n",
       "\t<tr><td>D-2/3/90</td><td>7.7     </td><td>2660    </td><td>7.7     </td><td>244     </td><td>2570    </td><td>7.6     </td><td>2700    </td></tr>\n",
       "\t<tr><td>D-4/3/90</td><td>7.6     </td><td>1666    </td><td>7.7     </td><td>220     </td><td>1594    </td><td>7.7     </td><td>1742    </td></tr>\n",
       "\t<tr><td>D-5/3/90</td><td>7.9     </td><td>2430    </td><td>7.8     </td><td>268     </td><td>2280    </td><td>7.8     </td><td>2060    </td></tr>\n",
       "\t<tr><td>D-6/3/90</td><td>8.0     </td><td>2110    </td><td>7.9     </td><td>236     </td><td>2020    </td><td>7.8     </td><td>2250    </td></tr>\n",
       "\t<tr><td>D-7/3/90</td><td>7.8     </td><td>1644    </td><td>7.8     </td><td>248     </td><td>1762    </td><td>7.7     </td><td>1768    </td></tr>\n",
       "</tbody>\n",
       "</table>\n"
      ],
      "text/latex": [
       "\\begin{tabular}{r|llllllll}\n",
       " Date & Item\\_1 & Item\\_2 & Item\\_3 & Item\\_4 & Item\\_5 & Item\\_6 & Item\\_7\\\\\n",
       "\\hline\n",
       "\t D-1/3/90 & 7.8      & 2110     & 7.9      & 228      & 2120     & 7.9      & 2010    \\\\\n",
       "\t D-2/3/90 & 7.7      & 2660     & 7.7      & 244      & 2570     & 7.6      & 2700    \\\\\n",
       "\t D-4/3/90 & 7.6      & 1666     & 7.7      & 220      & 1594     & 7.7      & 1742    \\\\\n",
       "\t D-5/3/90 & 7.9      & 2430     & 7.8      & 268      & 2280     & 7.8      & 2060    \\\\\n",
       "\t D-6/3/90 & 8.0      & 2110     & 7.9      & 236      & 2020     & 7.8      & 2250    \\\\\n",
       "\t D-7/3/90 & 7.8      & 1644     & 7.8      & 248      & 1762     & 7.7      & 1768    \\\\\n",
       "\\end{tabular}\n"
      ],
      "text/markdown": [
       "\n",
       "| Date | Item_1 | Item_2 | Item_3 | Item_4 | Item_5 | Item_6 | Item_7 |\n",
       "|---|---|---|---|---|---|---|---|\n",
       "| D-1/3/90 | 7.8      | 2110     | 7.9      | 228      | 2120     | 7.9      | 2010     |\n",
       "| D-2/3/90 | 7.7      | 2660     | 7.7      | 244      | 2570     | 7.6      | 2700     |\n",
       "| D-4/3/90 | 7.6      | 1666     | 7.7      | 220      | 1594     | 7.7      | 1742     |\n",
       "| D-5/3/90 | 7.9      | 2430     | 7.8      | 268      | 2280     | 7.8      | 2060     |\n",
       "| D-6/3/90 | 8.0      | 2110     | 7.9      | 236      | 2020     | 7.8      | 2250     |\n",
       "| D-7/3/90 | 7.8      | 1644     | 7.8      | 248      | 1762     | 7.7      | 1768     |\n",
       "\n"
      ],
      "text/plain": [
       "  Date     Item_1 Item_2 Item_3 Item_4 Item_5 Item_6 Item_7\n",
       "1 D-1/3/90 7.8    2110   7.9    228    2120   7.9    2010  \n",
       "2 D-2/3/90 7.7    2660   7.7    244    2570   7.6    2700  \n",
       "3 D-4/3/90 7.6    1666   7.7    220    1594   7.7    1742  \n",
       "4 D-5/3/90 7.9    2430   7.8    268    2280   7.8    2060  \n",
       "5 D-6/3/90 8.0    2110   7.9    236    2020   7.8    2250  \n",
       "6 D-7/3/90 7.8    1644   7.8    248    1762   7.7    1768  "
      ]
     },
     "metadata": {},
     "output_type": "display_data"
    },
    {
     "data": {
      "text/html": [
       "<ol class=list-inline>\n",
       "\t<li>527</li>\n",
       "\t<li>8</li>\n",
       "</ol>\n"
      ],
      "text/latex": [
       "\\begin{enumerate*}\n",
       "\\item 527\n",
       "\\item 8\n",
       "\\end{enumerate*}\n"
      ],
      "text/markdown": [
       "1. 527\n",
       "2. 8\n",
       "\n",
       "\n"
      ],
      "text/plain": [
       "[1] 527   8"
      ]
     },
     "metadata": {},
     "output_type": "display_data"
    },
    {
     "name": "stdout",
     "output_type": "stream",
     "text": [
      "'data.frame':\t527 obs. of  8 variables:\n",
      " $ Date  : Factor w/ 527 levels \"D-1/1/90\",\"D-1/1/91\",..: 8 199 429 445 463 481 499 517 41 58 ...\n",
      " $ Item_1: num  7.8 7.7 7.6 7.9 8 7.8 7.8 7.7 7.7 7.8 ...\n",
      " $ Item_2: num  2110 2660 1666 2430 2110 ...\n",
      " $ Item_3: num  7.9 7.7 7.7 7.8 7.9 7.8 7.8 7.6 7.7 7.8 ...\n",
      " $ Item_4: num  228 244 220 268 236 248 320 304 220 248 ...\n",
      " $ Item_5: num  2120 2570 1594 2280 2020 ...\n",
      " $ Item_6: num  7.9 7.6 7.7 7.8 7.8 7.7 7.8 7.6 7.7 7.8 ...\n",
      " $ Item_7: num  2010 2700 1742 2060 2250 ...\n"
     ]
    }
   ],
   "source": [
    "head(clean)\n",
    "dim(clean)\n",
    "str(clean)"
   ]
  },
  {
   "cell_type": "code",
   "execution_count": 51,
   "metadata": {},
   "outputs": [
    {
     "data": {
      "image/png": "[encoded data removed]",
      "text/plain": [
       "plot without title"
      ]
     },
     "metadata": {},
     "output_type": "display_data"
    }
   ],
   "source": [
    "## Let's check we managed just fine\n",
    "\n",
    "# png(file=\"CleanWater.png\")\n",
    "aggr(clean)\n",
    "# dev.off()"
   ]
  },
  {
   "cell_type": "code",
   "execution_count": 53,
   "metadata": {},
   "outputs": [
    {
     "data": {
      "text/plain": [
       "\n",
       "  68 68.5 68.6   70 70.1 70.2 71.7   73 79.1 <NA> \n",
       "   1    2    1    1    1    1    1    1    1   62 "
      ]
     },
     "metadata": {},
     "output_type": "display_data"
    }
   ],
   "source": [
    "m<- match(max(t), t)\n",
    "tail(table(df[,m], useNA='always'), 10)\n",
    "re<- mean(df[,m], na.rm=TRUE)\n",
    "re<- round(re*100)\n",
    "re<- re/100"
   ]
  },
  {
   "cell_type": "code",
   "execution_count": 54,
   "metadata": {},
   "outputs": [
    {
     "name": "stdout",
     "output_type": "stream",
     "text": [
      "[1] 39.09\n"
     ]
    }
   ],
   "source": [
    "print(re)"
   ]
  },
  {
   "cell_type": "code",
   "execution_count": 55,
   "metadata": {},
   "outputs": [],
   "source": [
    "    ## Do the same for the whole dataset\n",
    "for(i in 2:39) {\n",
    "\tif(class(df[,i])!='integer'){\n",
    "\t\tre<- mean(df[,i], na.rm=TRUE)\n",
    "\t\tre<- round(re*100)\n",
    "\t\tre<- re/100\n",
    "\t\tdf[is.na(df[,i]),i]<-re }\n",
    "\t}"
   ]
  },
  {
   "cell_type": "code",
   "execution_count": 56,
   "metadata": {},
   "outputs": [
    {
     "data": {
      "text/html": [
       "<table>\n",
       "<thead><tr><th scope=col>Date</th><th scope=col>Q-E</th><th scope=col>ZN-E</th><th scope=col>PH-E</th><th scope=col>DBO-E</th><th scope=col>DQO-E</th><th scope=col>SS-E</th><th scope=col>SSV-E</th><th scope=col>SED-E</th><th scope=col>COND-E</th><th scope=col>...</th><th scope=col>COND-S</th><th scope=col>RD-DBO-P</th><th scope=col>RD-SS-P</th><th scope=col>RD-SED-P</th><th scope=col>RD-DBO-S</th><th scope=col>RD-DQO-S</th><th scope=col>RD-DBO-G</th><th scope=col>RD-DQO-G</th><th scope=col>RD-SS-G</th><th scope=col>RD-SED-G</th></tr></thead>\n",
       "<tbody>\n",
       "\t<tr><td>D-1/3/90</td><td>44101   </td><td>1.5     </td><td>7.8     </td><td>188.71  </td><td>407     </td><td>166     </td><td>66.3    </td><td>4.5     </td><td>2110    </td><td>...     </td><td>2000    </td><td>39.09   </td><td>58.8    </td><td>95.5    </td><td>83.45   </td><td>70.0    </td><td>89.01   </td><td>79.4    </td><td>87.3    </td><td> 99.6   </td></tr>\n",
       "\t<tr><td>D-2/3/90</td><td>39024   </td><td>3.0     </td><td>7.7     </td><td>188.71  </td><td>443     </td><td>214     </td><td>69.2    </td><td>6.5     </td><td>2660    </td><td>...     </td><td>2590    </td><td>39.09   </td><td>60.7    </td><td>94.8    </td><td>83.45   </td><td>80.8    </td><td>89.01   </td><td>79.5    </td><td>92.1    </td><td>100.0   </td></tr>\n",
       "\t<tr><td>D-4/3/90</td><td>32229   </td><td>5.0     </td><td>7.6     </td><td>188.71  </td><td>528     </td><td>186     </td><td>69.9    </td><td>3.4     </td><td>1666    </td><td>...     </td><td>1888    </td><td>39.09   </td><td>58.2    </td><td>95.6    </td><td>83.45   </td><td>52.9    </td><td>89.01   </td><td>75.8    </td><td>88.7    </td><td> 98.5   </td></tr>\n",
       "\t<tr><td>D-5/3/90</td><td>35023   </td><td>3.5     </td><td>7.9     </td><td>205.00  </td><td>588     </td><td>192     </td><td>65.6    </td><td>4.5     </td><td>2430    </td><td>...     </td><td>1840    </td><td>33.10   </td><td>64.2    </td><td>95.3    </td><td>87.30   </td><td>72.3    </td><td>90.20   </td><td>82.3    </td><td>89.6    </td><td>100.0   </td></tr>\n",
       "\t<tr><td>D-6/3/90</td><td>36924   </td><td>1.5     </td><td>8.0     </td><td>242.00  </td><td>496     </td><td>176     </td><td>64.8    </td><td>4.0     </td><td>2110    </td><td>...     </td><td>2120    </td><td>39.09   </td><td>62.7    </td><td>95.6    </td><td>83.45   </td><td>71.0    </td><td>92.10   </td><td>78.2    </td><td>87.5    </td><td> 99.5   </td></tr>\n",
       "\t<tr><td>D-7/3/90</td><td>38572   </td><td>3.0     </td><td>7.8     </td><td>202.00  </td><td>372     </td><td>186     </td><td>68.8    </td><td>4.5     </td><td>1644    </td><td>...     </td><td>1764    </td><td>39.09   </td><td>59.7    </td><td>96.5    </td><td>86.70   </td><td>78.3    </td><td>90.10   </td><td>73.1    </td><td>84.9    </td><td>100.0   </td></tr>\n",
       "</tbody>\n",
       "</table>\n"
      ],
      "text/latex": [
       "\\begin{tabular}{r|lllllllllllllllllllllllllllllllllllllll}\n",
       " Date & Q-E & ZN-E & PH-E & DBO-E & DQO-E & SS-E & SSV-E & SED-E & COND-E & ... & COND-S & RD-DBO-P & RD-SS-P & RD-SED-P & RD-DBO-S & RD-DQO-S & RD-DBO-G & RD-DQO-G & RD-SS-G & RD-SED-G\\\\\n",
       "\\hline\n",
       "\t D-1/3/90 & 44101    & 1.5      & 7.8      & 188.71   & 407      & 166      & 66.3     & 4.5      & 2110     & ...      & 2000     & 39.09    & 58.8     & 95.5     & 83.45    & 70.0     & 89.01    & 79.4     & 87.3     &  99.6   \\\\\n",
       "\t D-2/3/90 & 39024    & 3.0      & 7.7      & 188.71   & 443      & 214      & 69.2     & 6.5      & 2660     & ...      & 2590     & 39.09    & 60.7     & 94.8     & 83.45    & 80.8     & 89.01    & 79.5     & 92.1     & 100.0   \\\\\n",
       "\t D-4/3/90 & 32229    & 5.0      & 7.6      & 188.71   & 528      & 186      & 69.9     & 3.4      & 1666     & ...      & 1888     & 39.09    & 58.2     & 95.6     & 83.45    & 52.9     & 89.01    & 75.8     & 88.7     &  98.5   \\\\\n",
       "\t D-5/3/90 & 35023    & 3.5      & 7.9      & 205.00   & 588      & 192      & 65.6     & 4.5      & 2430     & ...      & 1840     & 33.10    & 64.2     & 95.3     & 87.30    & 72.3     & 90.20    & 82.3     & 89.6     & 100.0   \\\\\n",
       "\t D-6/3/90 & 36924    & 1.5      & 8.0      & 242.00   & 496      & 176      & 64.8     & 4.0      & 2110     & ...      & 2120     & 39.09    & 62.7     & 95.6     & 83.45    & 71.0     & 92.10    & 78.2     & 87.5     &  99.5   \\\\\n",
       "\t D-7/3/90 & 38572    & 3.0      & 7.8      & 202.00   & 372      & 186      & 68.8     & 4.5      & 1644     & ...      & 1764     & 39.09    & 59.7     & 96.5     & 86.70    & 78.3     & 90.10    & 73.1     & 84.9     & 100.0   \\\\\n",
       "\\end{tabular}\n"
      ],
      "text/markdown": [
       "\n",
       "| Date | Q-E | ZN-E | PH-E | DBO-E | DQO-E | SS-E | SSV-E | SED-E | COND-E | ... | COND-S | RD-DBO-P | RD-SS-P | RD-SED-P | RD-DBO-S | RD-DQO-S | RD-DBO-G | RD-DQO-G | RD-SS-G | RD-SED-G |\n",
       "|---|---|---|---|---|---|---|---|---|---|---|---|---|---|---|---|---|---|---|---|---|\n",
       "| D-1/3/90 | 44101    | 1.5      | 7.8      | 188.71   | 407      | 166      | 66.3     | 4.5      | 2110     | ...      | 2000     | 39.09    | 58.8     | 95.5     | 83.45    | 70.0     | 89.01    | 79.4     | 87.3     |  99.6    |\n",
       "| D-2/3/90 | 39024    | 3.0      | 7.7      | 188.71   | 443      | 214      | 69.2     | 6.5      | 2660     | ...      | 2590     | 39.09    | 60.7     | 94.8     | 83.45    | 80.8     | 89.01    | 79.5     | 92.1     | 100.0    |\n",
       "| D-4/3/90 | 32229    | 5.0      | 7.6      | 188.71   | 528      | 186      | 69.9     | 3.4      | 1666     | ...      | 1888     | 39.09    | 58.2     | 95.6     | 83.45    | 52.9     | 89.01    | 75.8     | 88.7     |  98.5    |\n",
       "| D-5/3/90 | 35023    | 3.5      | 7.9      | 205.00   | 588      | 192      | 65.6     | 4.5      | 2430     | ...      | 1840     | 33.10    | 64.2     | 95.3     | 87.30    | 72.3     | 90.20    | 82.3     | 89.6     | 100.0    |\n",
       "| D-6/3/90 | 36924    | 1.5      | 8.0      | 242.00   | 496      | 176      | 64.8     | 4.0      | 2110     | ...      | 2120     | 39.09    | 62.7     | 95.6     | 83.45    | 71.0     | 92.10    | 78.2     | 87.5     |  99.5    |\n",
       "| D-7/3/90 | 38572    | 3.0      | 7.8      | 202.00   | 372      | 186      | 68.8     | 4.5      | 1644     | ...      | 1764     | 39.09    | 59.7     | 96.5     | 86.70    | 78.3     | 90.10    | 73.1     | 84.9     | 100.0    |\n",
       "\n"
      ],
      "text/plain": [
       "  Date     Q-E   ZN-E PH-E DBO-E  DQO-E SS-E SSV-E SED-E COND-E ... COND-S\n",
       "1 D-1/3/90 44101 1.5  7.8  188.71 407   166  66.3  4.5   2110   ... 2000  \n",
       "2 D-2/3/90 39024 3.0  7.7  188.71 443   214  69.2  6.5   2660   ... 2590  \n",
       "3 D-4/3/90 32229 5.0  7.6  188.71 528   186  69.9  3.4   1666   ... 1888  \n",
       "4 D-5/3/90 35023 3.5  7.9  205.00 588   192  65.6  4.5   2430   ... 1840  \n",
       "5 D-6/3/90 36924 1.5  8.0  242.00 496   176  64.8  4.0   2110   ... 2120  \n",
       "6 D-7/3/90 38572 3.0  7.8  202.00 372   186  68.8  4.5   1644   ... 1764  \n",
       "  RD-DBO-P RD-SS-P RD-SED-P RD-DBO-S RD-DQO-S RD-DBO-G RD-DQO-G RD-SS-G\n",
       "1 39.09    58.8    95.5     83.45    70.0     89.01    79.4     87.3   \n",
       "2 39.09    60.7    94.8     83.45    80.8     89.01    79.5     92.1   \n",
       "3 39.09    58.2    95.6     83.45    52.9     89.01    75.8     88.7   \n",
       "4 33.10    64.2    95.3     87.30    72.3     90.20    82.3     89.6   \n",
       "5 39.09    62.7    95.6     83.45    71.0     92.10    78.2     87.5   \n",
       "6 39.09    59.7    96.5     86.70    78.3     90.10    73.1     84.9   \n",
       "  RD-SED-G\n",
       "1  99.6   \n",
       "2 100.0   \n",
       "3  98.5   \n",
       "4 100.0   \n",
       "5  99.5   \n",
       "6 100.0   "
      ]
     },
     "metadata": {},
     "output_type": "display_data"
    }
   ],
   "source": [
    "head(df)"
   ]
  },
  {
   "cell_type": "code",
   "execution_count": 68,
   "metadata": {},
   "outputs": [
    {
     "data": {
      "text/html": [
       "TRUE"
      ],
      "text/latex": [
       "TRUE"
      ],
      "text/markdown": [
       "TRUE"
      ],
      "text/plain": [
       "[1] TRUE"
      ]
     },
     "metadata": {},
     "output_type": "display_data"
    },
    {
     "data": {
      "text/html": [
       "TRUE"
      ],
      "text/latex": [
       "TRUE"
      ],
      "text/markdown": [
       "TRUE"
      ],
      "text/plain": [
       "[1] TRUE"
      ]
     },
     "metadata": {},
     "output_type": "display_data"
    }
   ],
   "source": [
    "identical(rep(0, times=ncol(df)), as.numeric(Miss(df)))\n",
    "\n",
    "# Alternatively:\n",
    "identical(as.integer(0), sum(Miss(df)))"
   ]
  }
 ],
 "metadata": {
  "kernelspec": {
   "display_name": "R",
   "language": "R",
   "name": "ir"
  },
  "language_info": {
   "codemirror_mode": "r",
   "file_extension": ".r",
   "mimetype": "text/x-r-source",
   "name": "R",
   "pygments_lexer": "r",
   "version": "3.6.1"
  }
 },
 "nbformat": 4,
 "nbformat_minor": 4
}
