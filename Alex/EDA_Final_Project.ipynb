{
 "cells": [
  {
   "cell_type": "code",
   "execution_count": 61,
   "metadata": {},
   "outputs": [
    {
     "name": "stderr",
     "output_type": "stream",
     "text": [
      "Registered S3 methods overwritten by 'ggplot2':\n",
      "  method         from \n",
      "  [.quosures     rlang\n",
      "  c.quosures     rlang\n",
      "  print.quosures rlang\n"
     ]
    }
   ],
   "source": [
    "library(readr)\n",
    "library(dplyr)\n",
    "# install.packages(\"lessR\")\n",
    "library(lessR)\n",
    "library(plotrix)\n",
    "library(ggplot2)"
   ]
  },
  {
   "cell_type": "code",
   "execution_count": 2,
   "metadata": {},
   "outputs": [],
   "source": [
    "setwd(\"D://Datasets\")\n",
    "df <- read.table(file=\"dns.txt\", sep=\",\", header=F)"
   ]
  },
  {
   "cell_type": "code",
   "execution_count": 3,
   "metadata": {},
   "outputs": [
    {
     "data": {
      "text/html": [
       "<ol class=list-inline>\n",
       "\t<li>40821591</li>\n",
       "\t<li>3</li>\n",
       "</ol>\n"
      ],
      "text/latex": [
       "\\begin{enumerate*}\n",
       "\\item 40821591\n",
       "\\item 3\n",
       "\\end{enumerate*}\n"
      ],
      "text/markdown": [
       "1. 40821591\n",
       "2. 3\n",
       "\n",
       "\n"
      ],
      "text/plain": [
       "[1] 40821591        3"
      ]
     },
     "metadata": {},
     "output_type": "display_data"
    },
    {
     "name": "stdout",
     "output_type": "stream",
     "text": [
      "'data.frame':\t40821591 obs. of  3 variables:\n",
      " $ V1: int  2 2 6 15 18 31 35 38 42 42 ...\n",
      " $ V2: Factor w/ 15013 levels \"C1\",\"C10\",\"C100\",..: 11772 12413 1183 10952 8654 3825 12349 10952 8610 8610 ...\n",
      " $ V3: Factor w/ 13776 levels \"C1\",\"C10\",\"C1000\",..: 10895 3889 10408 7175 10895 6305 11032 7175 378 6305 ...\n"
     ]
    }
   ],
   "source": [
    "dim(df)\n",
    "str(df)"
   ]
  },
  {
   "cell_type": "code",
   "execution_count": 5,
   "metadata": {},
   "outputs": [],
   "source": [
    "colnames(df) <- c(\"Time\", \"Source\", \"Dest\")"
   ]
  },
  {
   "cell_type": "code",
   "execution_count": 6,
   "metadata": {},
   "outputs": [
    {
     "data": {
      "text/html": [
       "<table>\n",
       "<thead><tr><th scope=col>Time</th><th scope=col>Source</th><th scope=col>Dest</th></tr></thead>\n",
       "<tbody>\n",
       "\t<tr><td> 2    </td><td>C4653 </td><td>C5030 </td></tr>\n",
       "\t<tr><td> 2    </td><td>C5782 </td><td>C16712</td></tr>\n",
       "\t<tr><td> 6    </td><td>C1191 </td><td>C419  </td></tr>\n",
       "\t<tr><td>15    </td><td>C3380 </td><td>C22841</td></tr>\n",
       "\t<tr><td>18    </td><td>C2436 </td><td>C5030 </td></tr>\n",
       "\t<tr><td>31    </td><td>C161  </td><td>C2109 </td></tr>\n",
       "\t<tr><td>35    </td><td>C5642 </td><td>C528  </td></tr>\n",
       "\t<tr><td>38    </td><td>C3380 </td><td>C22841</td></tr>\n",
       "\t<tr><td>42    </td><td>C2428 </td><td>C1065 </td></tr>\n",
       "\t<tr><td>42    </td><td>C2428 </td><td>C2109 </td></tr>\n",
       "</tbody>\n",
       "</table>\n"
      ],
      "text/latex": [
       "\\begin{tabular}{r|lll}\n",
       " Time & Source & Dest\\\\\n",
       "\\hline\n",
       "\t  2     & C4653  & C5030 \\\\\n",
       "\t  2     & C5782  & C16712\\\\\n",
       "\t  6     & C1191  & C419  \\\\\n",
       "\t 15     & C3380  & C22841\\\\\n",
       "\t 18     & C2436  & C5030 \\\\\n",
       "\t 31     & C161   & C2109 \\\\\n",
       "\t 35     & C5642  & C528  \\\\\n",
       "\t 38     & C3380  & C22841\\\\\n",
       "\t 42     & C2428  & C1065 \\\\\n",
       "\t 42     & C2428  & C2109 \\\\\n",
       "\\end{tabular}\n"
      ],
      "text/markdown": [
       "\n",
       "| Time | Source | Dest |\n",
       "|---|---|---|\n",
       "|  2     | C4653  | C5030  |\n",
       "|  2     | C5782  | C16712 |\n",
       "|  6     | C1191  | C419   |\n",
       "| 15     | C3380  | C22841 |\n",
       "| 18     | C2436  | C5030  |\n",
       "| 31     | C161   | C2109  |\n",
       "| 35     | C5642  | C528   |\n",
       "| 38     | C3380  | C22841 |\n",
       "| 42     | C2428  | C1065  |\n",
       "| 42     | C2428  | C2109  |\n",
       "\n"
      ],
      "text/plain": [
       "   Time Source Dest  \n",
       "1   2   C4653  C5030 \n",
       "2   2   C5782  C16712\n",
       "3   6   C1191  C419  \n",
       "4  15   C3380  C22841\n",
       "5  18   C2436  C5030 \n",
       "6  31   C161   C2109 \n",
       "7  35   C5642  C528  \n",
       "8  38   C3380  C22841\n",
       "9  42   C2428  C1065 \n",
       "10 42   C2428  C2109 "
      ]
     },
     "metadata": {},
     "output_type": "display_data"
    }
   ],
   "source": [
    "head(df, 10)"
   ]
  },
  {
   "cell_type": "code",
   "execution_count": 118,
   "metadata": {},
   "outputs": [],
   "source": [
    "i<- 1\n",
    "t<- table(df$Source)\n",
    "T<- length(t)/500\n",
    "len<- vector()\n",
    "med <- vector()\n",
    "\n",
    "while(length(t)>T) {\n",
    "    len[i]<- length(t)\n",
    "    m<- mean(t)\n",
    "    med[i] <- m\n",
    "    i<- 1+i\n",
    "    t<- t[t>m]\n",
    "    }\n",
    "\n",
    "len <- c(len, 0)\n",
    "med <- round(med)"
   ]
  },
  {
   "cell_type": "code",
   "execution_count": 119,
   "metadata": {},
   "outputs": [
    {
     "data": {
      "text/html": [
       "<ol class=list-inline>\n",
       "\t<li>15013</li>\n",
       "\t<li>5109</li>\n",
       "\t<li>640</li>\n",
       "\t<li>71</li>\n",
       "\t<li>0</li>\n",
       "</ol>\n"
      ],
      "text/latex": [
       "\\begin{enumerate*}\n",
       "\\item 15013\n",
       "\\item 5109\n",
       "\\item 640\n",
       "\\item 71\n",
       "\\item 0\n",
       "\\end{enumerate*}\n"
      ],
      "text/markdown": [
       "1. 15013\n",
       "2. 5109\n",
       "3. 640\n",
       "4. 71\n",
       "5. 0\n",
       "\n",
       "\n"
      ],
      "text/plain": [
       "[1] 15013  5109   640    71     0"
      ]
     },
     "metadata": {},
     "output_type": "display_data"
    },
    {
     "data": {
      "text/html": [
       "<ol class=list-inline>\n",
       "\t<li>2719</li>\n",
       "\t<li>5293</li>\n",
       "\t<li>17777</li>\n",
       "\t<li>102330</li>\n",
       "</ol>\n"
      ],
      "text/latex": [
       "\\begin{enumerate*}\n",
       "\\item 2719\n",
       "\\item 5293\n",
       "\\item 17777\n",
       "\\item 102330\n",
       "\\end{enumerate*}\n"
      ],
      "text/markdown": [
       "1. 2719\n",
       "2. 5293\n",
       "3. 17777\n",
       "4. 102330\n",
       "\n",
       "\n"
      ],
      "text/plain": [
       "[1]   2719   5293  17777 102330"
      ]
     },
     "metadata": {},
     "output_type": "display_data"
    },
    {
     "data": {
      "text/plain": [
       "\n",
       "  C1193  C17490  C17640   C1823   C2091  C22235   C3380    C395    C561   C5741 \n",
       " 149849  162708  117486  391719  140060  144637  163298  130280  138250  350885 \n",
       "   C585    C639    C743   C8882 \n",
       "1624999  113462 1149807  137691 "
      ]
     },
     "metadata": {},
     "output_type": "display_data"
    }
   ],
   "source": [
    "len\n",
    "med\n",
    "t"
   ]
  },
  {
   "cell_type": "code",
   "execution_count": 120,
   "metadata": {},
   "outputs": [],
   "source": [
    "percentile <- vector(len=length(len)-1)\n",
    "for(i in 1:length(len)-1) {\n",
    "    percentile[i] <- len[i]-len[i+1]\n",
    "}"
   ]
  },
  {
   "cell_type": "code",
   "execution_count": 121,
   "metadata": {},
   "outputs": [
    {
     "data": {
      "text/html": [
       "<ol class=list-inline>\n",
       "\t<li>9904</li>\n",
       "\t<li>4469</li>\n",
       "\t<li>569</li>\n",
       "\t<li>71</li>\n",
       "</ol>\n"
      ],
      "text/latex": [
       "\\begin{enumerate*}\n",
       "\\item 9904\n",
       "\\item 4469\n",
       "\\item 569\n",
       "\\item 71\n",
       "\\end{enumerate*}\n"
      ],
      "text/markdown": [
       "1. 9904\n",
       "2. 4469\n",
       "3. 569\n",
       "4. 71\n",
       "\n",
       "\n"
      ],
      "text/plain": [
       "[1] 9904 4469  569   71"
      ]
     },
     "metadata": {},
     "output_type": "display_data"
    },
    {
     "data": {
      "text/html": [
       "<ol class=list-inline>\n",
       "\t<li>9904</li>\n",
       "\t<li>4469</li>\n",
       "\t<li>569</li>\n",
       "\t<li>71</li>\n",
       "\t<li>14</li>\n",
       "</ol>\n"
      ],
      "text/latex": [
       "\\begin{enumerate*}\n",
       "\\item 9904\n",
       "\\item 4469\n",
       "\\item 569\n",
       "\\item 71\n",
       "\\item 14\n",
       "\\end{enumerate*}\n"
      ],
      "text/markdown": [
       "1. 9904\n",
       "2. 4469\n",
       "3. 569\n",
       "4. 71\n",
       "5. 14\n",
       "\n",
       "\n"
      ],
      "text/plain": [
       "[1] 9904 4469  569   71   14"
      ]
     },
     "metadata": {},
     "output_type": "display_data"
    }
   ],
   "source": [
    "percentile\n",
    "perc <- c(percentile, length(t))\n",
    "perc"
   ]
  },
  {
   "cell_type": "code",
   "execution_count": 122,
   "metadata": {},
   "outputs": [
    {
     "data": {
      "image/png": "[encoded data removed]",
      "text/plain": [
       "plot without title"
      ]
     },
     "metadata": {},
     "output_type": "display_data"
    }
   ],
   "source": [
    "op <- par(mfrow=c(1,2))\n",
    "barplot(as.matrix(perc),\n",
    "       legend.text=c(paste0(\"<\", med[1]), paste0(med[1], \" - \", med[2]), paste0(med[2], \" - \", med[3]), paste0(med[3], \" - \", med[4]), paste0(\">\", med[4])),\n",
    "       col=c(\"grey20\", \"grey33\", \"grey66\", \"grey99\", \"purple\")) \n",
    "pie(percentile, \n",
    "labels=c(\"1st interval\", \"2nd interval\", \"3rd interval\", \"Top 0.45%\"), \n",
    "col = rainbow(4), init.angle=190)\n",
    "par(op)"
   ]
  },
  {
   "cell_type": "code",
   "execution_count": null,
   "metadata": {},
   "outputs": [],
   "source": []
  }
 ],
 "metadata": {
  "kernelspec": {
   "display_name": "R",
   "language": "R",
   "name": "ir"
  },
  "language_info": {
   "codemirror_mode": "r",
   "file_extension": ".r",
   "mimetype": "text/x-r-source",
   "name": "R",
   "pygments_lexer": "r",
   "version": "3.6.1"
  }
 },
 "nbformat": 4,
 "nbformat_minor": 4
}
