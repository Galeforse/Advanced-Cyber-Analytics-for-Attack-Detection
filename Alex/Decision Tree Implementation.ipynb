{
 "cells": [
  {
   "cell_type": "markdown",
   "id": "d7c57b89",
   "metadata": {},
   "source": [
    "### On the whole Auth"
   ]
  },
  {
   "cell_type": "code",
   "execution_count": 1,
   "id": "3170415a",
   "metadata": {},
   "outputs": [],
   "source": [
    "setwd(\"D://LA//ATI Data//Summaries//Just_Auth\")\n",
    "df<- read.table(file=\"LA.txt\", header=T, sep=\",\")\n",
    "df<- df[, -1]"
   ]
  },
  {
   "cell_type": "code",
   "execution_count": 2,
   "id": "b4b89495",
   "metadata": {},
   "outputs": [
    {
     "data": {
      "text/html": [
       "<table>\n",
       "<thead><tr><th scope=col>UserName</th><th scope=col>SrcDevice</th><th scope=col>DstDevice</th><th scope=col>AuthType</th><th scope=col>Failure</th><th scope=col>DailyCount</th></tr></thead>\n",
       "<tbody>\n",
       "\t<tr><td>User035855         </td><td>Comp808475         </td><td>Comp081330         </td><td>TGS                </td><td>0                  </td><td> 17                </td></tr>\n",
       "\t<tr><td>Comp655251$        </td><td>Comp655251         </td><td>ActiveDirectory    </td><td>NetworkLogon       </td><td>0                  </td><td>350                </td></tr>\n",
       "\t<tr><td>User762066         </td><td>Comp306129         </td><td>ActiveDirectory    </td><td>TGS                </td><td>0                  </td><td> 22                </td></tr>\n",
       "\t<tr><td>User384215         </td><td>Comp095190         </td><td>EnterpriseAppServer</td><td>NetworkLogon       </td><td>0                  </td><td> 35                </td></tr>\n",
       "\t<tr><td>User043263         </td><td>Comp883307         </td><td>Comp384394         </td><td>TGS                </td><td>0                  </td><td>  2                </td></tr>\n",
       "\t<tr><td>User631552         </td><td>Comp621781         </td><td>Comp915658         </td><td>NetworkLogon       </td><td>0                  </td><td>  1                </td></tr>\n",
       "</tbody>\n",
       "</table>\n"
      ],
      "text/latex": [
       "\\begin{tabular}{r|llllll}\n",
       " UserName & SrcDevice & DstDevice & AuthType & Failure & DailyCount\\\\\n",
       "\\hline\n",
       "\t User035855          & Comp808475          & Comp081330          & TGS                 & 0                   &  17                \\\\\n",
       "\t Comp655251\\$       & Comp655251          & ActiveDirectory     & NetworkLogon        & 0                   & 350                \\\\\n",
       "\t User762066          & Comp306129          & ActiveDirectory     & TGS                 & 0                   &  22                \\\\\n",
       "\t User384215          & Comp095190          & EnterpriseAppServer & NetworkLogon        & 0                   &  35                \\\\\n",
       "\t User043263          & Comp883307          & Comp384394          & TGS                 & 0                   &   2                \\\\\n",
       "\t User631552          & Comp621781          & Comp915658          & NetworkLogon        & 0                   &   1                \\\\\n",
       "\\end{tabular}\n"
      ],
      "text/markdown": [
       "\n",
       "| UserName | SrcDevice | DstDevice | AuthType | Failure | DailyCount |\n",
       "|---|---|---|---|---|---|\n",
       "| User035855          | Comp808475          | Comp081330          | TGS                 | 0                   |  17                 |\n",
       "| Comp655251$         | Comp655251          | ActiveDirectory     | NetworkLogon        | 0                   | 350                 |\n",
       "| User762066          | Comp306129          | ActiveDirectory     | TGS                 | 0                   |  22                 |\n",
       "| User384215          | Comp095190          | EnterpriseAppServer | NetworkLogon        | 0                   |  35                 |\n",
       "| User043263          | Comp883307          | Comp384394          | TGS                 | 0                   |   2                 |\n",
       "| User631552          | Comp621781          | Comp915658          | NetworkLogon        | 0                   |   1                 |\n",
       "\n"
      ],
      "text/plain": [
       "  UserName    SrcDevice  DstDevice           AuthType     Failure DailyCount\n",
       "1 User035855  Comp808475 Comp081330          TGS          0        17       \n",
       "2 Comp655251$ Comp655251 ActiveDirectory     NetworkLogon 0       350       \n",
       "3 User762066  Comp306129 ActiveDirectory     TGS          0        22       \n",
       "4 User384215  Comp095190 EnterpriseAppServer NetworkLogon 0        35       \n",
       "5 User043263  Comp883307 Comp384394          TGS          0         2       \n",
       "6 User631552  Comp621781 Comp915658          NetworkLogon 0         1       "
      ]
     },
     "metadata": {},
     "output_type": "display_data"
    }
   ],
   "source": [
    "head(df)"
   ]
  },
  {
   "cell_type": "code",
   "execution_count": 8,
   "id": "a0b7d332",
   "metadata": {},
   "outputs": [
    {
     "data": {
      "text/html": [
       "13"
      ],
      "text/latex": [
       "13"
      ],
      "text/markdown": [
       "13"
      ],
      "text/plain": [
       "[1] 13"
      ]
     },
     "metadata": {},
     "output_type": "display_data"
    },
    {
     "data": {
      "text/html": [
       "2"
      ],
      "text/latex": [
       "2"
      ],
      "text/markdown": [
       "2"
      ],
      "text/plain": [
       "[1] 2"
      ]
     },
     "metadata": {},
     "output_type": "display_data"
    },
    {
     "name": "stdout",
     "output_type": "stream",
     "text": [
      "\n"
     ]
    },
    {
     "data": {
      "text/plain": [
       "\n",
       "                  Batch       CachedInteractive CachedRemoteInteractive \n",
       "                  11543                   26862                       2 \n",
       "       InteractiveLogon            NetworkLogon       RemoteInteractive \n",
       "                 286631                 5283750                   37078 \n",
       "   ScreensaverDismissed      ScreensaverInvoked                 Service \n",
       "                 173773                  170415                   13412 \n",
       "                    TGS                     TGT         WorkstationLock \n",
       "                7201544                 1823393                  409884 \n",
       "      WorkstationUnlock \n",
       "                 515394 "
      ]
     },
     "metadata": {},
     "output_type": "display_data"
    },
    {
     "data": {
      "text/plain": [
       "\n",
       "       0        1 \n",
       "15723710   229971 "
      ]
     },
     "metadata": {},
     "output_type": "display_data"
    },
    {
     "name": "stdout",
     "output_type": "stream",
     "text": [
      "\n"
     ]
    },
    {
     "data": {
      "image/png": "[encoded data removed]",
      "text/plain": [
       "plot without title"
      ]
     },
     "metadata": {},
     "output_type": "display_data"
    }
   ],
   "source": [
    "length(unique(df[,4]))\n",
    "length(unique(df[,5]))\n",
    "cat(\"\\n\")\n",
    "table(df[,4])\n",
    "table(df[,5])\n",
    "cat(\"\\n\")\n",
    "\n",
    "op <- par(mfrow=c(1,2))\n",
    "pie(table(df[,4]), col=rainbow(13))\n",
    "pie(table(df[,5]), col=rainbow(2))\n",
    "par(op)"
   ]
  },
  {
   "cell_type": "code",
   "execution_count": 17,
   "id": "4a9b32d0",
   "metadata": {},
   "outputs": [],
   "source": [
    "N1<- nrow(df)*56/90\n",
    "Auth1 <- df[as.numeric(rownames(df))<=N1, ]\n",
    "\n",
    "N3 <- nrow(df)*83/90\n",
    "Auth3 <- df[as.numeric(rownames(df))>=N3, ]\n",
    "\n",
    "Auth2 <- df[as.numeric(rownames(df))>N1 & as.numeric(rownames(df))<N3, ]"
   ]
  },
  {
   "cell_type": "code",
   "execution_count": 18,
   "id": "12111023",
   "metadata": {},
   "outputs": [],
   "source": [
    "Score <- rep(0, times=nrow(Auth1))\n",
    "Auth1<- cbind(Auth1, Score)\n",
    "\n",
    "Score <- rep(0, times=nrow(Auth3))\n",
    "Auth3<- cbind(Auth3, Score)"
   ]
  },
  {
   "cell_type": "code",
   "execution_count": 20,
   "id": "88e888ae",
   "metadata": {},
   "outputs": [
    {
     "data": {
      "text/html": [
       "<table>\n",
       "<thead><tr><th scope=col>UserName</th><th scope=col>SrcDevice</th><th scope=col>DstDevice</th><th scope=col>AuthType</th><th scope=col>Failure</th><th scope=col>DailyCount</th><th scope=col>Score</th></tr></thead>\n",
       "<tbody>\n",
       "\t<tr><td>User035855         </td><td>Comp808475         </td><td>Comp081330         </td><td>TGS                </td><td>0                  </td><td> 17                </td><td>0                  </td></tr>\n",
       "\t<tr><td>Comp655251$        </td><td>Comp655251         </td><td>ActiveDirectory    </td><td>NetworkLogon       </td><td>0                  </td><td>350                </td><td>0                  </td></tr>\n",
       "\t<tr><td>User762066         </td><td>Comp306129         </td><td>ActiveDirectory    </td><td>TGS                </td><td>0                  </td><td> 22                </td><td>0                  </td></tr>\n",
       "\t<tr><td>User384215         </td><td>Comp095190         </td><td>EnterpriseAppServer</td><td>NetworkLogon       </td><td>0                  </td><td> 35                </td><td>0                  </td></tr>\n",
       "\t<tr><td>User043263         </td><td>Comp883307         </td><td>Comp384394         </td><td>TGS                </td><td>0                  </td><td>  2                </td><td>0                  </td></tr>\n",
       "\t<tr><td>User631552         </td><td>Comp621781         </td><td>Comp915658         </td><td>NetworkLogon       </td><td>0                  </td><td>  1                </td><td>0                  </td></tr>\n",
       "</tbody>\n",
       "</table>\n"
      ],
      "text/latex": [
       "\\begin{tabular}{r|lllllll}\n",
       " UserName & SrcDevice & DstDevice & AuthType & Failure & DailyCount & Score\\\\\n",
       "\\hline\n",
       "\t User035855          & Comp808475          & Comp081330          & TGS                 & 0                   &  17                 & 0                  \\\\\n",
       "\t Comp655251\\$       & Comp655251          & ActiveDirectory     & NetworkLogon        & 0                   & 350                 & 0                  \\\\\n",
       "\t User762066          & Comp306129          & ActiveDirectory     & TGS                 & 0                   &  22                 & 0                  \\\\\n",
       "\t User384215          & Comp095190          & EnterpriseAppServer & NetworkLogon        & 0                   &  35                 & 0                  \\\\\n",
       "\t User043263          & Comp883307          & Comp384394          & TGS                 & 0                   &   2                 & 0                  \\\\\n",
       "\t User631552          & Comp621781          & Comp915658          & NetworkLogon        & 0                   &   1                 & 0                  \\\\\n",
       "\\end{tabular}\n"
      ],
      "text/markdown": [
       "\n",
       "| UserName | SrcDevice | DstDevice | AuthType | Failure | DailyCount | Score |\n",
       "|---|---|---|---|---|---|---|\n",
       "| User035855          | Comp808475          | Comp081330          | TGS                 | 0                   |  17                 | 0                   |\n",
       "| Comp655251$         | Comp655251          | ActiveDirectory     | NetworkLogon        | 0                   | 350                 | 0                   |\n",
       "| User762066          | Comp306129          | ActiveDirectory     | TGS                 | 0                   |  22                 | 0                   |\n",
       "| User384215          | Comp095190          | EnterpriseAppServer | NetworkLogon        | 0                   |  35                 | 0                   |\n",
       "| User043263          | Comp883307          | Comp384394          | TGS                 | 0                   |   2                 | 0                   |\n",
       "| User631552          | Comp621781          | Comp915658          | NetworkLogon        | 0                   |   1                 | 0                   |\n",
       "\n"
      ],
      "text/plain": [
       "  UserName    SrcDevice  DstDevice           AuthType     Failure DailyCount\n",
       "1 User035855  Comp808475 Comp081330          TGS          0        17       \n",
       "2 Comp655251$ Comp655251 ActiveDirectory     NetworkLogon 0       350       \n",
       "3 User762066  Comp306129 ActiveDirectory     TGS          0        22       \n",
       "4 User384215  Comp095190 EnterpriseAppServer NetworkLogon 0        35       \n",
       "5 User043263  Comp883307 Comp384394          TGS          0         2       \n",
       "6 User631552  Comp621781 Comp915658          NetworkLogon 0         1       \n",
       "  Score\n",
       "1 0    \n",
       "2 0    \n",
       "3 0    \n",
       "4 0    \n",
       "5 0    \n",
       "6 0    "
      ]
     },
     "metadata": {},
     "output_type": "display_data"
    },
    {
     "data": {
      "text/html": [
       "<ol class=list-inline>\n",
       "\t<li>9926734</li>\n",
       "\t<li>7</li>\n",
       "</ol>\n"
      ],
      "text/latex": [
       "\\begin{enumerate*}\n",
       "\\item 9926734\n",
       "\\item 7\n",
       "\\end{enumerate*}\n"
      ],
      "text/markdown": [
       "1. 9926734\n",
       "2. 7\n",
       "\n",
       "\n"
      ],
      "text/plain": [
       "[1] 9926734       7"
      ]
     },
     "metadata": {},
     "output_type": "display_data"
    },
    {
     "name": "stdout",
     "output_type": "stream",
     "text": [
      "\n"
     ]
    },
    {
     "data": {
      "text/html": [
       "<table>\n",
       "<thead><tr><th></th><th scope=col>UserName</th><th scope=col>SrcDevice</th><th scope=col>DstDevice</th><th scope=col>AuthType</th><th scope=col>Failure</th><th scope=col>DailyCount</th><th scope=col>Score</th></tr></thead>\n",
       "<tbody>\n",
       "\t<tr><th scope=row>14712840</th><td>User997660     </td><td>Comp296089     </td><td>Comp370444     </td><td>NetworkLogon   </td><td>0              </td><td> 24            </td><td>0              </td></tr>\n",
       "\t<tr><th scope=row>14712841</th><td>User981214     </td><td>Comp107130     </td><td>Comp916004     </td><td>NetworkLogon   </td><td>0              </td><td>  9            </td><td>0              </td></tr>\n",
       "\t<tr><th scope=row>14712842</th><td>Comp729957$    </td><td>Comp729957     </td><td>ActiveDirectory</td><td>TGS            </td><td>0              </td><td> 33            </td><td>0              </td></tr>\n",
       "\t<tr><th scope=row>14712843</th><td>Comp036555$    </td><td>Comp036555     </td><td>ActiveDirectory</td><td>TGT            </td><td>0              </td><td> 11            </td><td>0              </td></tr>\n",
       "\t<tr><th scope=row>14712844</th><td>User429099     </td><td>Comp916004     </td><td>Comp916004     </td><td>NetworkLogon   </td><td>0              </td><td>654            </td><td>0              </td></tr>\n",
       "\t<tr><th scope=row>14712845</th><td>Comp793165$    </td><td>Comp793165     </td><td>Comp793165     </td><td>TGS            </td><td>0              </td><td> 24            </td><td>0              </td></tr>\n",
       "</tbody>\n",
       "</table>\n"
      ],
      "text/latex": [
       "\\begin{tabular}{r|lllllll}\n",
       "  & UserName & SrcDevice & DstDevice & AuthType & Failure & DailyCount & Score\\\\\n",
       "\\hline\n",
       "\t14712840 & User997660      & Comp296089      & Comp370444      & NetworkLogon    & 0               &  24             & 0              \\\\\n",
       "\t14712841 & User981214      & Comp107130      & Comp916004      & NetworkLogon    & 0               &   9             & 0              \\\\\n",
       "\t14712842 & Comp729957\\$   & Comp729957      & ActiveDirectory & TGS             & 0               &  33             & 0              \\\\\n",
       "\t14712843 & Comp036555\\$   & Comp036555      & ActiveDirectory & TGT             & 0               &  11             & 0              \\\\\n",
       "\t14712844 & User429099      & Comp916004      & Comp916004      & NetworkLogon    & 0               & 654             & 0              \\\\\n",
       "\t14712845 & Comp793165\\$   & Comp793165      & Comp793165      & TGS             & 0               &  24             & 0              \\\\\n",
       "\\end{tabular}\n"
      ],
      "text/markdown": [
       "\n",
       "| <!--/--> | UserName | SrcDevice | DstDevice | AuthType | Failure | DailyCount | Score |\n",
       "|---|---|---|---|---|---|---|---|\n",
       "| 14712840 | User997660      | Comp296089      | Comp370444      | NetworkLogon    | 0               |  24             | 0               |\n",
       "| 14712841 | User981214      | Comp107130      | Comp916004      | NetworkLogon    | 0               |   9             | 0               |\n",
       "| 14712842 | Comp729957$     | Comp729957      | ActiveDirectory | TGS             | 0               |  33             | 0               |\n",
       "| 14712843 | Comp036555$     | Comp036555      | ActiveDirectory | TGT             | 0               |  11             | 0               |\n",
       "| 14712844 | User429099      | Comp916004      | Comp916004      | NetworkLogon    | 0               | 654             | 0               |\n",
       "| 14712845 | Comp793165$     | Comp793165      | Comp793165      | TGS             | 0               |  24             | 0               |\n",
       "\n"
      ],
      "text/plain": [
       "         UserName    SrcDevice  DstDevice       AuthType     Failure DailyCount\n",
       "14712840 User997660  Comp296089 Comp370444      NetworkLogon 0        24       \n",
       "14712841 User981214  Comp107130 Comp916004      NetworkLogon 0         9       \n",
       "14712842 Comp729957$ Comp729957 ActiveDirectory TGS          0        33       \n",
       "14712843 Comp036555$ Comp036555 ActiveDirectory TGT          0        11       \n",
       "14712844 User429099  Comp916004 Comp916004      NetworkLogon 0       654       \n",
       "14712845 Comp793165$ Comp793165 Comp793165      TGS          0        24       \n",
       "         Score\n",
       "14712840 0    \n",
       "14712841 0    \n",
       "14712842 0    \n",
       "14712843 0    \n",
       "14712844 0    \n",
       "14712845 0    "
      ]
     },
     "metadata": {},
     "output_type": "display_data"
    },
    {
     "data": {
      "text/html": [
       "<ol class=list-inline>\n",
       "\t<li>1240842</li>\n",
       "\t<li>7</li>\n",
       "</ol>\n"
      ],
      "text/latex": [
       "\\begin{enumerate*}\n",
       "\\item 1240842\n",
       "\\item 7\n",
       "\\end{enumerate*}\n"
      ],
      "text/markdown": [
       "1. 1240842\n",
       "2. 7\n",
       "\n",
       "\n"
      ],
      "text/plain": [
       "[1] 1240842       7"
      ]
     },
     "metadata": {},
     "output_type": "display_data"
    },
    {
     "name": "stdout",
     "output_type": "stream",
     "text": [
      "\n"
     ]
    },
    {
     "data": {
      "text/html": [
       "<table>\n",
       "<thead><tr><th></th><th scope=col>UserName</th><th scope=col>SrcDevice</th><th scope=col>DstDevice</th><th scope=col>AuthType</th><th scope=col>Failure</th><th scope=col>DailyCount</th></tr></thead>\n",
       "<tbody>\n",
       "\t<tr><th scope=row>9926735</th><td>Comp791833$     </td><td>Comp791833      </td><td>ActiveDirectory </td><td>TGS             </td><td>0               </td><td>20              </td></tr>\n",
       "\t<tr><th scope=row>9926736</th><td>User504828      </td><td>Comp437074      </td><td>Comp479002      </td><td>NetworkLogon    </td><td>0               </td><td>34              </td></tr>\n",
       "\t<tr><th scope=row>9926737</th><td>User196062      </td><td>Comp916004      </td><td>ActiveDirectory </td><td>TGT             </td><td>0               </td><td>16              </td></tr>\n",
       "\t<tr><th scope=row>9926738</th><td>User920971      </td><td>Comp559398      </td><td>ActiveDirectory </td><td>TGS             </td><td>0               </td><td>24              </td></tr>\n",
       "\t<tr><th scope=row>9926739</th><td>Comp625078$     </td><td>Comp625078      </td><td>ActiveDirectory </td><td>TGT             </td><td>0               </td><td>26              </td></tr>\n",
       "\t<tr><th scope=row>9926740</th><td>User325667      </td><td>Comp052885      </td><td>None            </td><td>InteractiveLogon</td><td>0               </td><td> 1              </td></tr>\n",
       "</tbody>\n",
       "</table>\n"
      ],
      "text/latex": [
       "\\begin{tabular}{r|llllll}\n",
       "  & UserName & SrcDevice & DstDevice & AuthType & Failure & DailyCount\\\\\n",
       "\\hline\n",
       "\t9926735 & Comp791833\\$    & Comp791833       & ActiveDirectory  & TGS              & 0                & 20              \\\\\n",
       "\t9926736 & User504828       & Comp437074       & Comp479002       & NetworkLogon     & 0                & 34              \\\\\n",
       "\t9926737 & User196062       & Comp916004       & ActiveDirectory  & TGT              & 0                & 16              \\\\\n",
       "\t9926738 & User920971       & Comp559398       & ActiveDirectory  & TGS              & 0                & 24              \\\\\n",
       "\t9926739 & Comp625078\\$    & Comp625078       & ActiveDirectory  & TGT              & 0                & 26              \\\\\n",
       "\t9926740 & User325667       & Comp052885       & None             & InteractiveLogon & 0                &  1              \\\\\n",
       "\\end{tabular}\n"
      ],
      "text/markdown": [
       "\n",
       "| <!--/--> | UserName | SrcDevice | DstDevice | AuthType | Failure | DailyCount |\n",
       "|---|---|---|---|---|---|---|\n",
       "| 9926735 | Comp791833$      | Comp791833       | ActiveDirectory  | TGS              | 0                | 20               |\n",
       "| 9926736 | User504828       | Comp437074       | Comp479002       | NetworkLogon     | 0                | 34               |\n",
       "| 9926737 | User196062       | Comp916004       | ActiveDirectory  | TGT              | 0                | 16               |\n",
       "| 9926738 | User920971       | Comp559398       | ActiveDirectory  | TGS              | 0                | 24               |\n",
       "| 9926739 | Comp625078$      | Comp625078       | ActiveDirectory  | TGT              | 0                | 26               |\n",
       "| 9926740 | User325667       | Comp052885       | None             | InteractiveLogon | 0                |  1               |\n",
       "\n"
      ],
      "text/plain": [
       "        UserName    SrcDevice  DstDevice       AuthType         Failure\n",
       "9926735 Comp791833$ Comp791833 ActiveDirectory TGS              0      \n",
       "9926736 User504828  Comp437074 Comp479002      NetworkLogon     0      \n",
       "9926737 User196062  Comp916004 ActiveDirectory TGT              0      \n",
       "9926738 User920971  Comp559398 ActiveDirectory TGS              0      \n",
       "9926739 Comp625078$ Comp625078 ActiveDirectory TGT              0      \n",
       "9926740 User325667  Comp052885 None            InteractiveLogon 0      \n",
       "        DailyCount\n",
       "9926735 20        \n",
       "9926736 34        \n",
       "9926737 16        \n",
       "9926738 24        \n",
       "9926739 26        \n",
       "9926740  1        "
      ]
     },
     "metadata": {},
     "output_type": "display_data"
    }
   ],
   "source": [
    "head(Auth1)\n",
    "dim(Auth1)\n",
    "cat(\"\\n\")\n",
    "head(Auth3)\n",
    "dim(Auth3)\n",
    "cat(\"\\n\")\n",
    "head(Auth2)"
   ]
  },
  {
   "cell_type": "code",
   "execution_count": 21,
   "id": "a37efa82",
   "metadata": {},
   "outputs": [],
   "source": [
    "df<- Auth2"
   ]
  },
  {
   "cell_type": "code",
   "execution_count": 22,
   "id": "ed1c446b",
   "metadata": {},
   "outputs": [],
   "source": [
    "setwd(\"D://LA//ATI Data\")\n",
    "AU <- read.table(file=\"AuthUserNames.txt\", header=F)"
   ]
  },
  {
   "cell_type": "markdown",
   "id": "83d54515",
   "metadata": {},
   "source": [
    "#### Implementing the Decision Tree from scratch"
   ]
  },
  {
   "cell_type": "code",
   "execution_count": 25,
   "id": "5a377053",
   "metadata": {},
   "outputs": [
    {
     "data": {
      "text/html": [
       "<table>\n",
       "<thead><tr><th></th><th scope=col>UserName</th><th scope=col>SrcDevice</th><th scope=col>DstDevice</th><th scope=col>AuthType</th><th scope=col>Failure</th><th scope=col>DailyCount</th></tr></thead>\n",
       "<tbody>\n",
       "\t<tr><th scope=row>9926735</th><td>Comp791833$    </td><td>Comp791833     </td><td>ActiveDirectory</td><td>TGS            </td><td>0              </td><td>20             </td></tr>\n",
       "</tbody>\n",
       "</table>\n"
      ],
      "text/latex": [
       "\\begin{tabular}{r|llllll}\n",
       "  & UserName & SrcDevice & DstDevice & AuthType & Failure & DailyCount\\\\\n",
       "\\hline\n",
       "\t9926735 & Comp791833\\$   & Comp791833      & ActiveDirectory & TGS             & 0               & 20             \\\\\n",
       "\\end{tabular}\n"
      ],
      "text/markdown": [
       "\n",
       "| <!--/--> | UserName | SrcDevice | DstDevice | AuthType | Failure | DailyCount |\n",
       "|---|---|---|---|---|---|---|\n",
       "| 9926735 | Comp791833$     | Comp791833      | ActiveDirectory | TGS             | 0               | 20              |\n",
       "\n"
      ],
      "text/plain": [
       "        UserName    SrcDevice  DstDevice       AuthType Failure DailyCount\n",
       "9926735 Comp791833$ Comp791833 ActiveDirectory TGS      0       20        "
      ]
     },
     "metadata": {},
     "output_type": "display_data"
    }
   ],
   "source": [
    "df[1,]"
   ]
  },
  {
   "cell_type": "code",
   "execution_count": null,
   "id": "f8ddb741",
   "metadata": {},
   "outputs": [],
   "source": [
    "if(df[i,]$UserName%in%AU==FALSE) {\n",
    "    c[i]<- 0\n",
    "}\n",
    "\n",
    "if(df[i,]$UserName%in%AU==FALSE) {\n",
    "    c[i]<- 1\n",
    "    if(df[i,]$Failure==1) { c[i]<- 1+c[i] }\n",
    "    \n",
    "}"
   ]
  },
  {
   "cell_type": "markdown",
   "id": "461268b8",
   "metadata": {},
   "source": [
    "**Trying out a couple of usernames**"
   ]
  },
  {
   "cell_type": "code",
   "execution_count": 28,
   "id": "42562cb0",
   "metadata": {},
   "outputs": [
    {
     "data": {
      "text/html": [
       "<table>\n",
       "<thead><tr><th></th><th scope=col>UserName</th><th scope=col>SrcDevice</th><th scope=col>DstDevice</th><th scope=col>AuthType</th><th scope=col>Failure</th><th scope=col>DailyCount</th></tr></thead>\n",
       "<tbody>\n",
       "\t<tr><th scope=row>10084231</th><td>User035855         </td><td>Comp808475         </td><td>Comp081330         </td><td>TGS                </td><td>0                  </td><td> 11                </td></tr>\n",
       "\t<tr><th scope=row>10093026</th><td>User035855         </td><td>Comp808475         </td><td>EnterpriseAppServer</td><td>NetworkLogon       </td><td>0                  </td><td> 26                </td></tr>\n",
       "\t<tr><th scope=row>10094092</th><td>User035855         </td><td>Comp808475         </td><td>Comp370444         </td><td>NetworkLogon       </td><td>0                  </td><td> 23                </td></tr>\n",
       "\t<tr><th scope=row>10094218</th><td>User035855         </td><td>Comp808475         </td><td>Comp915658         </td><td>TGS                </td><td>0                  </td><td>  2                </td></tr>\n",
       "\t<tr><th scope=row>10105736</th><td>User035855         </td><td>Comp808475         </td><td>None               </td><td>WorkstationUnlock  </td><td>1                  </td><td>  2                </td></tr>\n",
       "\t<tr><th scope=row>10109868</th><td>User035855         </td><td>Comp808475         </td><td>ActiveDirectory    </td><td>NetworkLogon       </td><td>0                  </td><td>180                </td></tr>\n",
       "</tbody>\n",
       "</table>\n"
      ],
      "text/latex": [
       "\\begin{tabular}{r|llllll}\n",
       "  & UserName & SrcDevice & DstDevice & AuthType & Failure & DailyCount\\\\\n",
       "\\hline\n",
       "\t10084231 & User035855          & Comp808475          & Comp081330          & TGS                 & 0                   &  11                \\\\\n",
       "\t10093026 & User035855          & Comp808475          & EnterpriseAppServer & NetworkLogon        & 0                   &  26                \\\\\n",
       "\t10094092 & User035855          & Comp808475          & Comp370444          & NetworkLogon        & 0                   &  23                \\\\\n",
       "\t10094218 & User035855          & Comp808475          & Comp915658          & TGS                 & 0                   &   2                \\\\\n",
       "\t10105736 & User035855          & Comp808475          & None                & WorkstationUnlock   & 1                   &   2                \\\\\n",
       "\t10109868 & User035855          & Comp808475          & ActiveDirectory     & NetworkLogon        & 0                   & 180                \\\\\n",
       "\\end{tabular}\n"
      ],
      "text/markdown": [
       "\n",
       "| <!--/--> | UserName | SrcDevice | DstDevice | AuthType | Failure | DailyCount |\n",
       "|---|---|---|---|---|---|---|\n",
       "| 10084231 | User035855          | Comp808475          | Comp081330          | TGS                 | 0                   |  11                 |\n",
       "| 10093026 | User035855          | Comp808475          | EnterpriseAppServer | NetworkLogon        | 0                   |  26                 |\n",
       "| 10094092 | User035855          | Comp808475          | Comp370444          | NetworkLogon        | 0                   |  23                 |\n",
       "| 10094218 | User035855          | Comp808475          | Comp915658          | TGS                 | 0                   |   2                 |\n",
       "| 10105736 | User035855          | Comp808475          | None                | WorkstationUnlock   | 1                   |   2                 |\n",
       "| 10109868 | User035855          | Comp808475          | ActiveDirectory     | NetworkLogon        | 0                   | 180                 |\n",
       "\n"
      ],
      "text/plain": [
       "         UserName   SrcDevice  DstDevice           AuthType          Failure\n",
       "10084231 User035855 Comp808475 Comp081330          TGS               0      \n",
       "10093026 User035855 Comp808475 EnterpriseAppServer NetworkLogon      0      \n",
       "10094092 User035855 Comp808475 Comp370444          NetworkLogon      0      \n",
       "10094218 User035855 Comp808475 Comp915658          TGS               0      \n",
       "10105736 User035855 Comp808475 None                WorkstationUnlock 1      \n",
       "10109868 User035855 Comp808475 ActiveDirectory     NetworkLogon      0      \n",
       "         DailyCount\n",
       "10084231  11       \n",
       "10093026  26       \n",
       "10094092  23       \n",
       "10094218   2       \n",
       "10105736   2       \n",
       "10109868 180       "
      ]
     },
     "metadata": {},
     "output_type": "display_data"
    },
    {
     "data": {
      "text/html": [
       "<ol class=list-inline>\n",
       "\t<li>350</li>\n",
       "\t<li>6</li>\n",
       "</ol>\n"
      ],
      "text/latex": [
       "\\begin{enumerate*}\n",
       "\\item 350\n",
       "\\item 6\n",
       "\\end{enumerate*}\n"
      ],
      "text/markdown": [
       "1. 350\n",
       "2. 6\n",
       "\n",
       "\n"
      ],
      "text/plain": [
       "[1] 350   6"
      ]
     },
     "metadata": {},
     "output_type": "display_data"
    }
   ],
   "source": [
    "df1 <- df[df$UserName=='User035855', ]\n",
    "head(df1)\n",
    "dim(df1)"
   ]
  },
  {
   "cell_type": "code",
   "execution_count": 30,
   "id": "d68bb008",
   "metadata": {},
   "outputs": [
    {
     "data": {
      "text/html": [
       "<table>\n",
       "<thead><tr><th></th><th scope=col>UserName</th><th scope=col>SrcDevice</th><th scope=col>DstDevice</th><th scope=col>AuthType</th><th scope=col>Failure</th><th scope=col>DailyCount</th></tr></thead>\n",
       "<tbody>\n",
       "\t<tr><th scope=row>10084231</th><td>User035855         </td><td>Comp808475         </td><td>Comp081330         </td><td>TGS                </td><td>0                  </td><td> 11                </td></tr>\n",
       "\t<tr><th scope=row>10093026</th><td>User035855         </td><td>Comp808475         </td><td>EnterpriseAppServer</td><td>NetworkLogon       </td><td>0                  </td><td> 26                </td></tr>\n",
       "\t<tr><th scope=row>10094092</th><td>User035855         </td><td>Comp808475         </td><td>Comp370444         </td><td>NetworkLogon       </td><td>0                  </td><td> 23                </td></tr>\n",
       "\t<tr><th scope=row>10094218</th><td>User035855         </td><td>Comp808475         </td><td>Comp915658         </td><td>TGS                </td><td>0                  </td><td>  2                </td></tr>\n",
       "\t<tr><th scope=row>10105736</th><td>User035855         </td><td>Comp808475         </td><td>None               </td><td>WorkstationUnlock  </td><td>1                  </td><td>  2                </td></tr>\n",
       "\t<tr><th scope=row>10109868</th><td>User035855         </td><td>Comp808475         </td><td>ActiveDirectory    </td><td>NetworkLogon       </td><td>0                  </td><td>180                </td></tr>\n",
       "</tbody>\n",
       "</table>\n"
      ],
      "text/latex": [
       "\\begin{tabular}{r|llllll}\n",
       "  & UserName & SrcDevice & DstDevice & AuthType & Failure & DailyCount\\\\\n",
       "\\hline\n",
       "\t10084231 & User035855          & Comp808475          & Comp081330          & TGS                 & 0                   &  11                \\\\\n",
       "\t10093026 & User035855          & Comp808475          & EnterpriseAppServer & NetworkLogon        & 0                   &  26                \\\\\n",
       "\t10094092 & User035855          & Comp808475          & Comp370444          & NetworkLogon        & 0                   &  23                \\\\\n",
       "\t10094218 & User035855          & Comp808475          & Comp915658          & TGS                 & 0                   &   2                \\\\\n",
       "\t10105736 & User035855          & Comp808475          & None                & WorkstationUnlock   & 1                   &   2                \\\\\n",
       "\t10109868 & User035855          & Comp808475          & ActiveDirectory     & NetworkLogon        & 0                   & 180                \\\\\n",
       "\\end{tabular}\n"
      ],
      "text/markdown": [
       "\n",
       "| <!--/--> | UserName | SrcDevice | DstDevice | AuthType | Failure | DailyCount |\n",
       "|---|---|---|---|---|---|---|\n",
       "| 10084231 | User035855          | Comp808475          | Comp081330          | TGS                 | 0                   |  11                 |\n",
       "| 10093026 | User035855          | Comp808475          | EnterpriseAppServer | NetworkLogon        | 0                   |  26                 |\n",
       "| 10094092 | User035855          | Comp808475          | Comp370444          | NetworkLogon        | 0                   |  23                 |\n",
       "| 10094218 | User035855          | Comp808475          | Comp915658          | TGS                 | 0                   |   2                 |\n",
       "| 10105736 | User035855          | Comp808475          | None                | WorkstationUnlock   | 1                   |   2                 |\n",
       "| 10109868 | User035855          | Comp808475          | ActiveDirectory     | NetworkLogon        | 0                   | 180                 |\n",
       "\n"
      ],
      "text/plain": [
       "         UserName   SrcDevice  DstDevice           AuthType          Failure\n",
       "10084231 User035855 Comp808475 Comp081330          TGS               0      \n",
       "10093026 User035855 Comp808475 EnterpriseAppServer NetworkLogon      0      \n",
       "10094092 User035855 Comp808475 Comp370444          NetworkLogon      0      \n",
       "10094218 User035855 Comp808475 Comp915658          TGS               0      \n",
       "10105736 User035855 Comp808475 None                WorkstationUnlock 1      \n",
       "10109868 User035855 Comp808475 ActiveDirectory     NetworkLogon      0      \n",
       "         DailyCount\n",
       "10084231  11       \n",
       "10093026  26       \n",
       "10094092  23       \n",
       "10094218   2       \n",
       "10105736   2       \n",
       "10109868 180       "
      ]
     },
     "metadata": {},
     "output_type": "display_data"
    }
   ],
   "source": [
    "head(df1)"
   ]
  },
  {
   "cell_type": "code",
   "execution_count": 32,
   "id": "4f50b6ec",
   "metadata": {},
   "outputs": [
    {
     "data": {
      "text/html": [
       "<table>\n",
       "<thead><tr><th></th><th scope=col>UserName</th><th scope=col>SrcDevice</th><th scope=col>DstDevice</th><th scope=col>AuthType</th><th scope=col>Failure</th><th scope=col>DailyCount</th></tr></thead>\n",
       "<tbody>\n",
       "\t<tr><th scope=row>10105736</th><td>User035855       </td><td>Comp808475       </td><td>None             </td><td>WorkstationUnlock</td><td>1                </td><td> 2               </td></tr>\n",
       "\t<tr><th scope=row>10134974</th><td>User035855       </td><td>Comp808475       </td><td>None             </td><td>InteractiveLogon </td><td>1                </td><td> 1               </td></tr>\n",
       "\t<tr><th scope=row>10183431</th><td>User035855       </td><td>Comp808475       </td><td>None             </td><td>WorkstationLock  </td><td>0                </td><td> 7               </td></tr>\n",
       "\t<tr><th scope=row>10208584</th><td>User035855       </td><td>Comp808475       </td><td>None             </td><td>WorkstationUnlock</td><td>0                </td><td>19               </td></tr>\n",
       "\t<tr><th scope=row>10254596</th><td>User035855       </td><td>Comp808475       </td><td>None             </td><td>InteractiveLogon </td><td>0                </td><td> 1               </td></tr>\n",
       "\t<tr><th scope=row>10403996</th><td>User035855       </td><td>Comp808475       </td><td>None             </td><td>WorkstationLock  </td><td>0                </td><td> 4               </td></tr>\n",
       "\t<tr><th scope=row>10428619</th><td>User035855       </td><td>Comp808475       </td><td>None             </td><td>WorkstationUnlock</td><td>0                </td><td>12               </td></tr>\n",
       "\t<tr><th scope=row>10473613</th><td>User035855       </td><td>Comp808475       </td><td>None             </td><td>InteractiveLogon </td><td>0                </td><td> 1               </td></tr>\n",
       "\t<tr><th scope=row>10543525</th><td>User035855       </td><td>Comp808475       </td><td>None             </td><td>WorkstationUnlock</td><td>0                </td><td>14               </td></tr>\n",
       "\t<tr><th scope=row>10555080</th><td>User035855       </td><td>Comp808475       </td><td>None             </td><td>WorkstationUnlock</td><td>1                </td><td> 1               </td></tr>\n",
       "\t<tr><th scope=row>10585805</th><td>User035855       </td><td>Comp808475       </td><td>None             </td><td>WorkstationLock  </td><td>0                </td><td> 6               </td></tr>\n",
       "\t<tr><th scope=row>10608175</th><td>User035855       </td><td>Comp808475       </td><td>None             </td><td>InteractiveLogon </td><td>0                </td><td> 1               </td></tr>\n",
       "\t<tr><th scope=row>10945792</th><td>User035855       </td><td>Comp808475       </td><td>None             </td><td>WorkstationLock  </td><td>0                </td><td> 3               </td></tr>\n",
       "\t<tr><th scope=row>10971969</th><td>User035855       </td><td>Comp808475       </td><td>None             </td><td>WorkstationUnlock</td><td>0                </td><td> 9               </td></tr>\n",
       "\t<tr><th scope=row>11019805</th><td>User035855       </td><td>Comp808475       </td><td>None             </td><td>InteractiveLogon </td><td>0                </td><td> 1               </td></tr>\n",
       "\t<tr><th scope=row>11024241</th><td>User035855       </td><td>Comp808475       </td><td>None             </td><td>CachedInteractive</td><td>0                </td><td> 1               </td></tr>\n",
       "\t<tr><th scope=row>11095768</th><td>User035855       </td><td>Comp808475       </td><td>None             </td><td>WorkstationUnlock</td><td>1                </td><td> 2               </td></tr>\n",
       "\t<tr><th scope=row>11174978</th><td>User035855       </td><td>Comp808475       </td><td>None             </td><td>WorkstationLock  </td><td>0                </td><td> 6               </td></tr>\n",
       "\t<tr><th scope=row>11200537</th><td>User035855       </td><td>Comp808475       </td><td>None             </td><td>WorkstationUnlock</td><td>0                </td><td>16               </td></tr>\n",
       "\t<tr><th scope=row>11247345</th><td>User035855       </td><td>Comp808475       </td><td>None             </td><td>InteractiveLogon </td><td>0                </td><td> 1               </td></tr>\n",
       "\t<tr><th scope=row>11405369</th><td>User035855       </td><td>Comp808475       </td><td>None             </td><td>WorkstationLock  </td><td>0                </td><td> 4               </td></tr>\n",
       "\t<tr><th scope=row>11431870</th><td>User035855       </td><td>Comp808475       </td><td>None             </td><td>WorkstationUnlock</td><td>0                </td><td>12               </td></tr>\n",
       "\t<tr><th scope=row>11480500</th><td>User035855       </td><td>Comp808475       </td><td>None             </td><td>InteractiveLogon </td><td>0                </td><td> 1               </td></tr>\n",
       "\t<tr><th scope=row>11638660</th><td>User035855       </td><td>Comp808475       </td><td>None             </td><td>WorkstationLock  </td><td>0                </td><td> 5               </td></tr>\n",
       "\t<tr><th scope=row>11664546</th><td>User035855       </td><td>Comp808475       </td><td>None             </td><td>WorkstationUnlock</td><td>0                </td><td>14               </td></tr>\n",
       "\t<tr><th scope=row>11671768</th><td>User035855       </td><td>Comp808475       </td><td>None             </td><td>WorkstationUnlock</td><td>1                </td><td> 1               </td></tr>\n",
       "\t<tr><th scope=row>11712078</th><td>User035855       </td><td>Comp808475       </td><td>None             </td><td>InteractiveLogon </td><td>0                </td><td> 3               </td></tr>\n",
       "\t<tr><th scope=row>12261544</th><td>User035855       </td><td>Comp808475       </td><td>None             </td><td>WorkstationLock  </td><td>0                </td><td> 5               </td></tr>\n",
       "\t<tr><th scope=row>12272542</th><td>User035855       </td><td>Comp601891       </td><td>None             </td><td>InteractiveLogon </td><td>0                </td><td> 1               </td></tr>\n",
       "\t<tr><th scope=row>12287771</th><td>User035855       </td><td>Comp808475       </td><td>None             </td><td>WorkstationUnlock</td><td>0                </td><td>15               </td></tr>\n",
       "\t<tr><th scope=row>12335650</th><td>User035855       </td><td>Comp808475       </td><td>None             </td><td>InteractiveLogon </td><td>0                </td><td> 1               </td></tr>\n",
       "\t<tr><th scope=row>12501363</th><td>User035855       </td><td>Comp808475       </td><td>None             </td><td>WorkstationLock  </td><td>0                </td><td> 5               </td></tr>\n",
       "\t<tr><th scope=row>12529441</th><td>User035855       </td><td>Comp808475       </td><td>None             </td><td>WorkstationUnlock</td><td>0                </td><td>15               </td></tr>\n",
       "\t<tr><th scope=row>12581188</th><td>User035855       </td><td>Comp808475       </td><td>None             </td><td>InteractiveLogon </td><td>0                </td><td> 1               </td></tr>\n",
       "\t<tr><th scope=row>12741874</th><td>User035855       </td><td>Comp808475       </td><td>None             </td><td>WorkstationLock  </td><td>0                </td><td> 5               </td></tr>\n",
       "\t<tr><th scope=row>12767804</th><td>User035855       </td><td>Comp808475       </td><td>None             </td><td>WorkstationUnlock</td><td>0                </td><td>15               </td></tr>\n",
       "\t<tr><th scope=row>12815262</th><td>User035855       </td><td>Comp808475       </td><td>None             </td><td>InteractiveLogon </td><td>0                </td><td> 1               </td></tr>\n",
       "\t<tr><th scope=row>12894530</th><td>User035855       </td><td>Comp808475       </td><td>None             </td><td>WorkstationUnlock</td><td>1                </td><td> 2               </td></tr>\n",
       "\t<tr><th scope=row>12988084</th><td>User035855       </td><td>Comp808475       </td><td>None             </td><td>WorkstationLock  </td><td>0                </td><td> 8               </td></tr>\n",
       "\t<tr><th scope=row>13018274</th><td>User035855       </td><td>Comp808475       </td><td>None             </td><td>WorkstationUnlock</td><td>0                </td><td>23               </td></tr>\n",
       "\t<tr><th scope=row>13073532</th><td>User035855       </td><td>Comp808475       </td><td>None             </td><td>InteractiveLogon </td><td>0                </td><td> 2               </td></tr>\n",
       "\t<tr><th scope=row>13215805</th><td>User035855       </td><td>Comp808475       </td><td>None             </td><td>WorkstationLock  </td><td>0                </td><td> 4               </td></tr>\n",
       "\t<tr><th scope=row>13236119</th><td>User035855       </td><td>Comp808475       </td><td>None             </td><td>WorkstationUnlock</td><td>0                </td><td>12               </td></tr>\n",
       "\t<tr><th scope=row>13273078</th><td>User035855       </td><td>Comp808475       </td><td>None             </td><td>InteractiveLogon </td><td>0                </td><td> 2               </td></tr>\n",
       "\t<tr><th scope=row>13582178</th><td>User035855       </td><td>Comp808475       </td><td>None             </td><td>WorkstationLock  </td><td>0                </td><td> 5               </td></tr>\n",
       "\t<tr><th scope=row>13608937</th><td>User035855       </td><td>Comp808475       </td><td>None             </td><td>WorkstationUnlock</td><td>0                </td><td>15               </td></tr>\n",
       "\t<tr><th scope=row>13657918</th><td>User035855       </td><td>Comp808475       </td><td>None             </td><td>InteractiveLogon </td><td>0                </td><td> 1               </td></tr>\n",
       "\t<tr><th scope=row>13816202</th><td>User035855       </td><td>Comp808475       </td><td>None             </td><td>WorkstationLock  </td><td>0                </td><td> 8               </td></tr>\n",
       "\t<tr><th scope=row>13842043</th><td>User035855       </td><td>Comp808475       </td><td>None             </td><td>WorkstationUnlock</td><td>0                </td><td>24               </td></tr>\n",
       "\t<tr><th scope=row>13889427</th><td>User035855       </td><td>Comp808475       </td><td>None             </td><td>InteractiveLogon </td><td>0                </td><td> 1               </td></tr>\n",
       "\t<tr><th scope=row>13994991</th><td>User035855       </td><td>Comp808475       </td><td>None             </td><td>InteractiveLogon </td><td>1                </td><td> 2               </td></tr>\n",
       "\t<tr><th scope=row>14044693</th><td>User035855       </td><td>Comp808475       </td><td>None             </td><td>WorkstationLock  </td><td>0                </td><td> 4               </td></tr>\n",
       "\t<tr><th scope=row>14070250</th><td>User035855       </td><td>Comp808475       </td><td>None             </td><td>WorkstationUnlock</td><td>0                </td><td>12               </td></tr>\n",
       "\t<tr><th scope=row>14117266</th><td>User035855       </td><td>Comp808475       </td><td>None             </td><td>InteractiveLogon </td><td>0                </td><td> 1               </td></tr>\n",
       "\t<tr><th scope=row>14274416</th><td>User035855       </td><td>Comp808475       </td><td>None             </td><td>WorkstationLock  </td><td>0                </td><td> 5               </td></tr>\n",
       "\t<tr><th scope=row>14300530</th><td>User035855       </td><td>Comp808475       </td><td>None             </td><td>WorkstationUnlock</td><td>0                </td><td>15               </td></tr>\n",
       "\t<tr><th scope=row>14348509</th><td>User035855       </td><td>Comp808475       </td><td>None             </td><td>InteractiveLogon </td><td>0                </td><td> 2               </td></tr>\n",
       "</tbody>\n",
       "</table>\n"
      ],
      "text/latex": [
       "\\begin{tabular}{r|llllll}\n",
       "  & UserName & SrcDevice & DstDevice & AuthType & Failure & DailyCount\\\\\n",
       "\\hline\n",
       "\t10105736 & User035855        & Comp808475        & None              & WorkstationUnlock & 1                 &  2               \\\\\n",
       "\t10134974 & User035855        & Comp808475        & None              & InteractiveLogon  & 1                 &  1               \\\\\n",
       "\t10183431 & User035855        & Comp808475        & None              & WorkstationLock   & 0                 &  7               \\\\\n",
       "\t10208584 & User035855        & Comp808475        & None              & WorkstationUnlock & 0                 & 19               \\\\\n",
       "\t10254596 & User035855        & Comp808475        & None              & InteractiveLogon  & 0                 &  1               \\\\\n",
       "\t10403996 & User035855        & Comp808475        & None              & WorkstationLock   & 0                 &  4               \\\\\n",
       "\t10428619 & User035855        & Comp808475        & None              & WorkstationUnlock & 0                 & 12               \\\\\n",
       "\t10473613 & User035855        & Comp808475        & None              & InteractiveLogon  & 0                 &  1               \\\\\n",
       "\t10543525 & User035855        & Comp808475        & None              & WorkstationUnlock & 0                 & 14               \\\\\n",
       "\t10555080 & User035855        & Comp808475        & None              & WorkstationUnlock & 1                 &  1               \\\\\n",
       "\t10585805 & User035855        & Comp808475        & None              & WorkstationLock   & 0                 &  6               \\\\\n",
       "\t10608175 & User035855        & Comp808475        & None              & InteractiveLogon  & 0                 &  1               \\\\\n",
       "\t10945792 & User035855        & Comp808475        & None              & WorkstationLock   & 0                 &  3               \\\\\n",
       "\t10971969 & User035855        & Comp808475        & None              & WorkstationUnlock & 0                 &  9               \\\\\n",
       "\t11019805 & User035855        & Comp808475        & None              & InteractiveLogon  & 0                 &  1               \\\\\n",
       "\t11024241 & User035855        & Comp808475        & None              & CachedInteractive & 0                 &  1               \\\\\n",
       "\t11095768 & User035855        & Comp808475        & None              & WorkstationUnlock & 1                 &  2               \\\\\n",
       "\t11174978 & User035855        & Comp808475        & None              & WorkstationLock   & 0                 &  6               \\\\\n",
       "\t11200537 & User035855        & Comp808475        & None              & WorkstationUnlock & 0                 & 16               \\\\\n",
       "\t11247345 & User035855        & Comp808475        & None              & InteractiveLogon  & 0                 &  1               \\\\\n",
       "\t11405369 & User035855        & Comp808475        & None              & WorkstationLock   & 0                 &  4               \\\\\n",
       "\t11431870 & User035855        & Comp808475        & None              & WorkstationUnlock & 0                 & 12               \\\\\n",
       "\t11480500 & User035855        & Comp808475        & None              & InteractiveLogon  & 0                 &  1               \\\\\n",
       "\t11638660 & User035855        & Comp808475        & None              & WorkstationLock   & 0                 &  5               \\\\\n",
       "\t11664546 & User035855        & Comp808475        & None              & WorkstationUnlock & 0                 & 14               \\\\\n",
       "\t11671768 & User035855        & Comp808475        & None              & WorkstationUnlock & 1                 &  1               \\\\\n",
       "\t11712078 & User035855        & Comp808475        & None              & InteractiveLogon  & 0                 &  3               \\\\\n",
       "\t12261544 & User035855        & Comp808475        & None              & WorkstationLock   & 0                 &  5               \\\\\n",
       "\t12272542 & User035855        & Comp601891        & None              & InteractiveLogon  & 0                 &  1               \\\\\n",
       "\t12287771 & User035855        & Comp808475        & None              & WorkstationUnlock & 0                 & 15               \\\\\n",
       "\t12335650 & User035855        & Comp808475        & None              & InteractiveLogon  & 0                 &  1               \\\\\n",
       "\t12501363 & User035855        & Comp808475        & None              & WorkstationLock   & 0                 &  5               \\\\\n",
       "\t12529441 & User035855        & Comp808475        & None              & WorkstationUnlock & 0                 & 15               \\\\\n",
       "\t12581188 & User035855        & Comp808475        & None              & InteractiveLogon  & 0                 &  1               \\\\\n",
       "\t12741874 & User035855        & Comp808475        & None              & WorkstationLock   & 0                 &  5               \\\\\n",
       "\t12767804 & User035855        & Comp808475        & None              & WorkstationUnlock & 0                 & 15               \\\\\n",
       "\t12815262 & User035855        & Comp808475        & None              & InteractiveLogon  & 0                 &  1               \\\\\n",
       "\t12894530 & User035855        & Comp808475        & None              & WorkstationUnlock & 1                 &  2               \\\\\n",
       "\t12988084 & User035855        & Comp808475        & None              & WorkstationLock   & 0                 &  8               \\\\\n",
       "\t13018274 & User035855        & Comp808475        & None              & WorkstationUnlock & 0                 & 23               \\\\\n",
       "\t13073532 & User035855        & Comp808475        & None              & InteractiveLogon  & 0                 &  2               \\\\\n",
       "\t13215805 & User035855        & Comp808475        & None              & WorkstationLock   & 0                 &  4               \\\\\n",
       "\t13236119 & User035855        & Comp808475        & None              & WorkstationUnlock & 0                 & 12               \\\\\n",
       "\t13273078 & User035855        & Comp808475        & None              & InteractiveLogon  & 0                 &  2               \\\\\n",
       "\t13582178 & User035855        & Comp808475        & None              & WorkstationLock   & 0                 &  5               \\\\\n",
       "\t13608937 & User035855        & Comp808475        & None              & WorkstationUnlock & 0                 & 15               \\\\\n",
       "\t13657918 & User035855        & Comp808475        & None              & InteractiveLogon  & 0                 &  1               \\\\\n",
       "\t13816202 & User035855        & Comp808475        & None              & WorkstationLock   & 0                 &  8               \\\\\n",
       "\t13842043 & User035855        & Comp808475        & None              & WorkstationUnlock & 0                 & 24               \\\\\n",
       "\t13889427 & User035855        & Comp808475        & None              & InteractiveLogon  & 0                 &  1               \\\\\n",
       "\t13994991 & User035855        & Comp808475        & None              & InteractiveLogon  & 1                 &  2               \\\\\n",
       "\t14044693 & User035855        & Comp808475        & None              & WorkstationLock   & 0                 &  4               \\\\\n",
       "\t14070250 & User035855        & Comp808475        & None              & WorkstationUnlock & 0                 & 12               \\\\\n",
       "\t14117266 & User035855        & Comp808475        & None              & InteractiveLogon  & 0                 &  1               \\\\\n",
       "\t14274416 & User035855        & Comp808475        & None              & WorkstationLock   & 0                 &  5               \\\\\n",
       "\t14300530 & User035855        & Comp808475        & None              & WorkstationUnlock & 0                 & 15               \\\\\n",
       "\t14348509 & User035855        & Comp808475        & None              & InteractiveLogon  & 0                 &  2               \\\\\n",
       "\\end{tabular}\n"
      ],
      "text/markdown": [
       "\n",
       "| <!--/--> | UserName | SrcDevice | DstDevice | AuthType | Failure | DailyCount |\n",
       "|---|---|---|---|---|---|---|\n",
       "| 10105736 | User035855        | Comp808475        | None              | WorkstationUnlock | 1                 |  2                |\n",
       "| 10134974 | User035855        | Comp808475        | None              | InteractiveLogon  | 1                 |  1                |\n",
       "| 10183431 | User035855        | Comp808475        | None              | WorkstationLock   | 0                 |  7                |\n",
       "| 10208584 | User035855        | Comp808475        | None              | WorkstationUnlock | 0                 | 19                |\n",
       "| 10254596 | User035855        | Comp808475        | None              | InteractiveLogon  | 0                 |  1                |\n",
       "| 10403996 | User035855        | Comp808475        | None              | WorkstationLock   | 0                 |  4                |\n",
       "| 10428619 | User035855        | Comp808475        | None              | WorkstationUnlock | 0                 | 12                |\n",
       "| 10473613 | User035855        | Comp808475        | None              | InteractiveLogon  | 0                 |  1                |\n",
       "| 10543525 | User035855        | Comp808475        | None              | WorkstationUnlock | 0                 | 14                |\n",
       "| 10555080 | User035855        | Comp808475        | None              | WorkstationUnlock | 1                 |  1                |\n",
       "| 10585805 | User035855        | Comp808475        | None              | WorkstationLock   | 0                 |  6                |\n",
       "| 10608175 | User035855        | Comp808475        | None              | InteractiveLogon  | 0                 |  1                |\n",
       "| 10945792 | User035855        | Comp808475        | None              | WorkstationLock   | 0                 |  3                |\n",
       "| 10971969 | User035855        | Comp808475        | None              | WorkstationUnlock | 0                 |  9                |\n",
       "| 11019805 | User035855        | Comp808475        | None              | InteractiveLogon  | 0                 |  1                |\n",
       "| 11024241 | User035855        | Comp808475        | None              | CachedInteractive | 0                 |  1                |\n",
       "| 11095768 | User035855        | Comp808475        | None              | WorkstationUnlock | 1                 |  2                |\n",
       "| 11174978 | User035855        | Comp808475        | None              | WorkstationLock   | 0                 |  6                |\n",
       "| 11200537 | User035855        | Comp808475        | None              | WorkstationUnlock | 0                 | 16                |\n",
       "| 11247345 | User035855        | Comp808475        | None              | InteractiveLogon  | 0                 |  1                |\n",
       "| 11405369 | User035855        | Comp808475        | None              | WorkstationLock   | 0                 |  4                |\n",
       "| 11431870 | User035855        | Comp808475        | None              | WorkstationUnlock | 0                 | 12                |\n",
       "| 11480500 | User035855        | Comp808475        | None              | InteractiveLogon  | 0                 |  1                |\n",
       "| 11638660 | User035855        | Comp808475        | None              | WorkstationLock   | 0                 |  5                |\n",
       "| 11664546 | User035855        | Comp808475        | None              | WorkstationUnlock | 0                 | 14                |\n",
       "| 11671768 | User035855        | Comp808475        | None              | WorkstationUnlock | 1                 |  1                |\n",
       "| 11712078 | User035855        | Comp808475        | None              | InteractiveLogon  | 0                 |  3                |\n",
       "| 12261544 | User035855        | Comp808475        | None              | WorkstationLock   | 0                 |  5                |\n",
       "| 12272542 | User035855        | Comp601891        | None              | InteractiveLogon  | 0                 |  1                |\n",
       "| 12287771 | User035855        | Comp808475        | None              | WorkstationUnlock | 0                 | 15                |\n",
       "| 12335650 | User035855        | Comp808475        | None              | InteractiveLogon  | 0                 |  1                |\n",
       "| 12501363 | User035855        | Comp808475        | None              | WorkstationLock   | 0                 |  5                |\n",
       "| 12529441 | User035855        | Comp808475        | None              | WorkstationUnlock | 0                 | 15                |\n",
       "| 12581188 | User035855        | Comp808475        | None              | InteractiveLogon  | 0                 |  1                |\n",
       "| 12741874 | User035855        | Comp808475        | None              | WorkstationLock   | 0                 |  5                |\n",
       "| 12767804 | User035855        | Comp808475        | None              | WorkstationUnlock | 0                 | 15                |\n",
       "| 12815262 | User035855        | Comp808475        | None              | InteractiveLogon  | 0                 |  1                |\n",
       "| 12894530 | User035855        | Comp808475        | None              | WorkstationUnlock | 1                 |  2                |\n",
       "| 12988084 | User035855        | Comp808475        | None              | WorkstationLock   | 0                 |  8                |\n",
       "| 13018274 | User035855        | Comp808475        | None              | WorkstationUnlock | 0                 | 23                |\n",
       "| 13073532 | User035855        | Comp808475        | None              | InteractiveLogon  | 0                 |  2                |\n",
       "| 13215805 | User035855        | Comp808475        | None              | WorkstationLock   | 0                 |  4                |\n",
       "| 13236119 | User035855        | Comp808475        | None              | WorkstationUnlock | 0                 | 12                |\n",
       "| 13273078 | User035855        | Comp808475        | None              | InteractiveLogon  | 0                 |  2                |\n",
       "| 13582178 | User035855        | Comp808475        | None              | WorkstationLock   | 0                 |  5                |\n",
       "| 13608937 | User035855        | Comp808475        | None              | WorkstationUnlock | 0                 | 15                |\n",
       "| 13657918 | User035855        | Comp808475        | None              | InteractiveLogon  | 0                 |  1                |\n",
       "| 13816202 | User035855        | Comp808475        | None              | WorkstationLock   | 0                 |  8                |\n",
       "| 13842043 | User035855        | Comp808475        | None              | WorkstationUnlock | 0                 | 24                |\n",
       "| 13889427 | User035855        | Comp808475        | None              | InteractiveLogon  | 0                 |  1                |\n",
       "| 13994991 | User035855        | Comp808475        | None              | InteractiveLogon  | 1                 |  2                |\n",
       "| 14044693 | User035855        | Comp808475        | None              | WorkstationLock   | 0                 |  4                |\n",
       "| 14070250 | User035855        | Comp808475        | None              | WorkstationUnlock | 0                 | 12                |\n",
       "| 14117266 | User035855        | Comp808475        | None              | InteractiveLogon  | 0                 |  1                |\n",
       "| 14274416 | User035855        | Comp808475        | None              | WorkstationLock   | 0                 |  5                |\n",
       "| 14300530 | User035855        | Comp808475        | None              | WorkstationUnlock | 0                 | 15                |\n",
       "| 14348509 | User035855        | Comp808475        | None              | InteractiveLogon  | 0                 |  2                |\n",
       "\n"
      ],
      "text/plain": [
       "         UserName   SrcDevice  DstDevice AuthType          Failure DailyCount\n",
       "10105736 User035855 Comp808475 None      WorkstationUnlock 1        2        \n",
       "10134974 User035855 Comp808475 None      InteractiveLogon  1        1        \n",
       "10183431 User035855 Comp808475 None      WorkstationLock   0        7        \n",
       "10208584 User035855 Comp808475 None      WorkstationUnlock 0       19        \n",
       "10254596 User035855 Comp808475 None      InteractiveLogon  0        1        \n",
       "10403996 User035855 Comp808475 None      WorkstationLock   0        4        \n",
       "10428619 User035855 Comp808475 None      WorkstationUnlock 0       12        \n",
       "10473613 User035855 Comp808475 None      InteractiveLogon  0        1        \n",
       "10543525 User035855 Comp808475 None      WorkstationUnlock 0       14        \n",
       "10555080 User035855 Comp808475 None      WorkstationUnlock 1        1        \n",
       "10585805 User035855 Comp808475 None      WorkstationLock   0        6        \n",
       "10608175 User035855 Comp808475 None      InteractiveLogon  0        1        \n",
       "10945792 User035855 Comp808475 None      WorkstationLock   0        3        \n",
       "10971969 User035855 Comp808475 None      WorkstationUnlock 0        9        \n",
       "11019805 User035855 Comp808475 None      InteractiveLogon  0        1        \n",
       "11024241 User035855 Comp808475 None      CachedInteractive 0        1        \n",
       "11095768 User035855 Comp808475 None      WorkstationUnlock 1        2        \n",
       "11174978 User035855 Comp808475 None      WorkstationLock   0        6        \n",
       "11200537 User035855 Comp808475 None      WorkstationUnlock 0       16        \n",
       "11247345 User035855 Comp808475 None      InteractiveLogon  0        1        \n",
       "11405369 User035855 Comp808475 None      WorkstationLock   0        4        \n",
       "11431870 User035855 Comp808475 None      WorkstationUnlock 0       12        \n",
       "11480500 User035855 Comp808475 None      InteractiveLogon  0        1        \n",
       "11638660 User035855 Comp808475 None      WorkstationLock   0        5        \n",
       "11664546 User035855 Comp808475 None      WorkstationUnlock 0       14        \n",
       "11671768 User035855 Comp808475 None      WorkstationUnlock 1        1        \n",
       "11712078 User035855 Comp808475 None      InteractiveLogon  0        3        \n",
       "12261544 User035855 Comp808475 None      WorkstationLock   0        5        \n",
       "12272542 User035855 Comp601891 None      InteractiveLogon  0        1        \n",
       "12287771 User035855 Comp808475 None      WorkstationUnlock 0       15        \n",
       "12335650 User035855 Comp808475 None      InteractiveLogon  0        1        \n",
       "12501363 User035855 Comp808475 None      WorkstationLock   0        5        \n",
       "12529441 User035855 Comp808475 None      WorkstationUnlock 0       15        \n",
       "12581188 User035855 Comp808475 None      InteractiveLogon  0        1        \n",
       "12741874 User035855 Comp808475 None      WorkstationLock   0        5        \n",
       "12767804 User035855 Comp808475 None      WorkstationUnlock 0       15        \n",
       "12815262 User035855 Comp808475 None      InteractiveLogon  0        1        \n",
       "12894530 User035855 Comp808475 None      WorkstationUnlock 1        2        \n",
       "12988084 User035855 Comp808475 None      WorkstationLock   0        8        \n",
       "13018274 User035855 Comp808475 None      WorkstationUnlock 0       23        \n",
       "13073532 User035855 Comp808475 None      InteractiveLogon  0        2        \n",
       "13215805 User035855 Comp808475 None      WorkstationLock   0        4        \n",
       "13236119 User035855 Comp808475 None      WorkstationUnlock 0       12        \n",
       "13273078 User035855 Comp808475 None      InteractiveLogon  0        2        \n",
       "13582178 User035855 Comp808475 None      WorkstationLock   0        5        \n",
       "13608937 User035855 Comp808475 None      WorkstationUnlock 0       15        \n",
       "13657918 User035855 Comp808475 None      InteractiveLogon  0        1        \n",
       "13816202 User035855 Comp808475 None      WorkstationLock   0        8        \n",
       "13842043 User035855 Comp808475 None      WorkstationUnlock 0       24        \n",
       "13889427 User035855 Comp808475 None      InteractiveLogon  0        1        \n",
       "13994991 User035855 Comp808475 None      InteractiveLogon  1        2        \n",
       "14044693 User035855 Comp808475 None      WorkstationLock   0        4        \n",
       "14070250 User035855 Comp808475 None      WorkstationUnlock 0       12        \n",
       "14117266 User035855 Comp808475 None      InteractiveLogon  0        1        \n",
       "14274416 User035855 Comp808475 None      WorkstationLock   0        5        \n",
       "14300530 User035855 Comp808475 None      WorkstationUnlock 0       15        \n",
       "14348509 User035855 Comp808475 None      InteractiveLogon  0        2        "
      ]
     },
     "metadata": {},
     "output_type": "display_data"
    }
   ],
   "source": [
    "dfn <- df1[df1$DstDevice=='None', ]\n",
    "dfn"
   ]
  },
  {
   "cell_type": "code",
   "execution_count": 44,
   "id": "1ab57b79",
   "metadata": {},
   "outputs": [
    {
     "data": {
      "text/html": [
       "<ol class=list-inline>\n",
       "\t<li>0</li>\n",
       "\t<li>6</li>\n",
       "</ol>\n"
      ],
      "text/latex": [
       "\\begin{enumerate*}\n",
       "\\item 0\n",
       "\\item 6\n",
       "\\end{enumerate*}\n"
      ],
      "text/markdown": [
       "1. 0\n",
       "2. 6\n",
       "\n",
       "\n"
      ],
      "text/plain": [
       "[1] 0 6"
      ]
     },
     "metadata": {},
     "output_type": "display_data"
    }
   ],
   "source": [
    "df_in <- df[df$AuthType=='CachedRemoteInteractive' & df$Failure==1, ]\n",
    "dim(df_in)"
   ]
  },
  {
   "cell_type": "markdown",
   "id": "d7d1c381",
   "metadata": {},
   "source": [
    "**Analysis of AuthType outcome**"
   ]
  },
  {
   "cell_type": "code",
   "execution_count": 71,
   "id": "5b2270c5",
   "metadata": {},
   "outputs": [],
   "source": [
    "data<- as.data.frame(matrix(c(\"TGT\", \"NO\", \"-\",\n",
    "                 \"TGS\", \"NO\", \"-\",\n",
    "                 \"InteractiveLogon\", \"YES\", \"Rare(<5%)\",\n",
    "                 \"NetworkLogon\", \"YES\", \"Rare(<10%)\",\n",
    "                 \"Batch\", \"YES\", \"Unimportant\",\n",
    "                 \"Service\", \"YES\", \"Unimportant\",\n",
    "                 \"WorkstationLock\", \"NO\", \"-\",\n",
    "                 \"WorkstationUnlock\", \"YES\", \"Rare(<10%)\",\n",
    "                 \"ScreensaverInvoked\", \"NO\", \"-\",\n",
    "                 \"ScreensaverDismissed\", \"NO\", \"-\",\n",
    "                 \"RemoteInteractive\", \"YES\", \"Never happened\",\n",
    "                 \"CachedInteractive\", \"YES\", \"Rare(<5%)\",\n",
    "                 \"CachedRemoteInteractive\", \"YES\", \"Never happened\"),\n",
    "                 byrow=TRUE, ncol=3))\n",
    "colnames(data) <- c(\"Type\", \"CanItFail\", \"HowOftenIfYes\")"
   ]
  },
  {
   "cell_type": "code",
   "execution_count": 72,
   "id": "36a65eb8",
   "metadata": {},
   "outputs": [
    {
     "data": {
      "text/html": [
       "<table>\n",
       "<thead><tr><th scope=col>Type</th><th scope=col>CanItFail</th><th scope=col>HowOftenIfYes</th></tr></thead>\n",
       "<tbody>\n",
       "\t<tr><td>TGT                    </td><td>NO                     </td><td>-                      </td></tr>\n",
       "\t<tr><td>TGS                    </td><td>NO                     </td><td>-                      </td></tr>\n",
       "\t<tr><td><span style=white-space:pre-wrap>InteractiveLogon       </span></td><td>YES                                                            </td><td><span style=white-space:pre-wrap>Rare(&lt;5%)     </span>      </td></tr>\n",
       "\t<tr><td><span style=white-space:pre-wrap>NetworkLogon           </span></td><td>YES                                                            </td><td><span style=white-space:pre-wrap>Rare(&lt;10%)    </span>      </td></tr>\n",
       "\t<tr><td>Batch                  </td><td>YES                    </td><td>Unimportant            </td></tr>\n",
       "\t<tr><td>Service                </td><td>YES                    </td><td>Unimportant            </td></tr>\n",
       "\t<tr><td>WorkstationLock        </td><td>NO                     </td><td>-                      </td></tr>\n",
       "\t<tr><td><span style=white-space:pre-wrap>WorkstationUnlock      </span></td><td>YES                                                            </td><td><span style=white-space:pre-wrap>Rare(&lt;10%)    </span>      </td></tr>\n",
       "\t<tr><td>ScreensaverInvoked     </td><td>NO                     </td><td>-                      </td></tr>\n",
       "\t<tr><td>ScreensaverDismissed   </td><td>NO                     </td><td>-                      </td></tr>\n",
       "\t<tr><td>RemoteInteractive      </td><td>YES                    </td><td>Never happened         </td></tr>\n",
       "\t<tr><td><span style=white-space:pre-wrap>CachedInteractive      </span></td><td>YES                                                            </td><td><span style=white-space:pre-wrap>Rare(&lt;5%)     </span>      </td></tr>\n",
       "\t<tr><td>CachedRemoteInteractive</td><td>YES                    </td><td>Never happened         </td></tr>\n",
       "</tbody>\n",
       "</table>\n"
      ],
      "text/latex": [
       "\\begin{tabular}{r|lll}\n",
       " Type & CanItFail & HowOftenIfYes\\\\\n",
       "\\hline\n",
       "\t TGT                     & NO                      & -                      \\\\\n",
       "\t TGS                     & NO                      & -                      \\\\\n",
       "\t InteractiveLogon        & YES                     & Rare(<5\\%)            \\\\\n",
       "\t NetworkLogon            & YES                     & Rare(<10\\%)           \\\\\n",
       "\t Batch                   & YES                     & Unimportant            \\\\\n",
       "\t Service                 & YES                     & Unimportant            \\\\\n",
       "\t WorkstationLock         & NO                      & -                      \\\\\n",
       "\t WorkstationUnlock       & YES                     & Rare(<10\\%)           \\\\\n",
       "\t ScreensaverInvoked      & NO                      & -                      \\\\\n",
       "\t ScreensaverDismissed    & NO                      & -                      \\\\\n",
       "\t RemoteInteractive       & YES                     & Never happened         \\\\\n",
       "\t CachedInteractive       & YES                     & Rare(<5\\%)            \\\\\n",
       "\t CachedRemoteInteractive & YES                     & Never happened         \\\\\n",
       "\\end{tabular}\n"
      ],
      "text/markdown": [
       "\n",
       "| Type | CanItFail | HowOftenIfYes |\n",
       "|---|---|---|\n",
       "| TGT                     | NO                      | -                       |\n",
       "| TGS                     | NO                      | -                       |\n",
       "| InteractiveLogon        | YES                     | Rare(<5%)               |\n",
       "| NetworkLogon            | YES                     | Rare(<10%)              |\n",
       "| Batch                   | YES                     | Unimportant             |\n",
       "| Service                 | YES                     | Unimportant             |\n",
       "| WorkstationLock         | NO                      | -                       |\n",
       "| WorkstationUnlock       | YES                     | Rare(<10%)              |\n",
       "| ScreensaverInvoked      | NO                      | -                       |\n",
       "| ScreensaverDismissed    | NO                      | -                       |\n",
       "| RemoteInteractive       | YES                     | Never happened          |\n",
       "| CachedInteractive       | YES                     | Rare(<5%)               |\n",
       "| CachedRemoteInteractive | YES                     | Never happened          |\n",
       "\n"
      ],
      "text/plain": [
       "   Type                    CanItFail HowOftenIfYes \n",
       "1  TGT                     NO        -             \n",
       "2  TGS                     NO        -             \n",
       "3  InteractiveLogon        YES       Rare(<5%)     \n",
       "4  NetworkLogon            YES       Rare(<10%)    \n",
       "5  Batch                   YES       Unimportant   \n",
       "6  Service                 YES       Unimportant   \n",
       "7  WorkstationLock         NO        -             \n",
       "8  WorkstationUnlock       YES       Rare(<10%)    \n",
       "9  ScreensaverInvoked      NO        -             \n",
       "10 ScreensaverDismissed    NO        -             \n",
       "11 RemoteInteractive       YES       Never happened\n",
       "12 CachedInteractive       YES       Rare(<5%)     \n",
       "13 CachedRemoteInteractive YES       Never happened"
      ]
     },
     "metadata": {},
     "output_type": "display_data"
    }
   ],
   "source": [
    "data"
   ]
  },
  {
   "cell_type": "code",
   "execution_count": 75,
   "id": "39f6053c",
   "metadata": {},
   "outputs": [
    {
     "data": {
      "text/plain": [
       "                        CanItFail NO YES\n",
       "Type                                    \n",
       "Batch                              0   1\n",
       "CachedInteractive                  0   1\n",
       "CachedRemoteInteractive            0   1\n",
       "InteractiveLogon                   0   1\n",
       "NetworkLogon                       0   1\n",
       "RemoteInteractive                  0   1\n",
       "ScreensaverDismissed               1   0\n",
       "ScreensaverInvoked                 1   0\n",
       "Service                            0   1\n",
       "TGS                                1   0\n",
       "TGT                                1   0\n",
       "WorkstationLock                    1   0\n",
       "WorkstationUnlock                  0   1"
      ]
     },
     "metadata": {},
     "output_type": "display_data"
    }
   ],
   "source": [
    "mytable <- xtabs(~Type + CanItFail, data=data)\n",
    "ftable(mytable)"
   ]
  },
  {
   "cell_type": "code",
   "execution_count": 79,
   "id": "ed4c7966",
   "metadata": {},
   "outputs": [],
   "source": [
    "df_temp <- df[df$UserName==df[1,]$UserName, ]"
   ]
  },
  {
   "cell_type": "code",
   "execution_count": 83,
   "id": "f444987f",
   "metadata": {},
   "outputs": [
    {
     "data": {
      "text/html": [
       "23"
      ],
      "text/latex": [
       "23"
      ],
      "text/markdown": [
       "23"
      ],
      "text/plain": [
       "[1] 23"
      ]
     },
     "metadata": {},
     "output_type": "display_data"
    }
   ],
   "source": [
    "IQR(df$DailyCount)"
   ]
  },
  {
   "cell_type": "code",
   "execution_count": null,
   "id": "eb61ca56",
   "metadata": {},
   "outputs": [],
   "source": []
  }
 ],
 "metadata": {
  "kernelspec": {
   "display_name": "R",
   "language": "R",
   "name": "ir"
  },
  "language_info": {
   "codemirror_mode": "r",
   "file_extension": ".r",
   "mimetype": "text/x-r-source",
   "name": "R",
   "pygments_lexer": "r",
   "version": "3.6.1"
  }
 },
 "nbformat": 4,
 "nbformat_minor": 5
}
