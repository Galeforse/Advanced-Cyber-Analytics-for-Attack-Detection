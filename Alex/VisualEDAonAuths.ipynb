{
 "cells": [
  {
   "cell_type": "code",
   "execution_count": 16,
   "id": "cd32f53b",
   "metadata": {},
   "outputs": [],
   "source": [
    "library(dplyr)"
   ]
  },
  {
   "cell_type": "code",
   "execution_count": 1,
   "id": "1e9cb2d6",
   "metadata": {},
   "outputs": [],
   "source": [
    "setwd(\"D://LA//ATI Data//Summaries//Just_Auth\")"
   ]
  },
  {
   "cell_type": "code",
   "execution_count": 13,
   "id": "a76bbd5b",
   "metadata": {},
   "outputs": [],
   "source": [
    "df<- read.table(file=\"LA.txt\", header=T, sep=\",\")\n",
    "df<- df[,-1]"
   ]
  },
  {
   "cell_type": "code",
   "execution_count": 30,
   "id": "d5b38649",
   "metadata": {},
   "outputs": [
    {
     "data": {
      "text/html": [
       "<table>\n",
       "<thead><tr><th scope=col>UserName</th><th scope=col>SrcDevice</th><th scope=col>DstDevice</th><th scope=col>AuthType</th><th scope=col>Failure</th><th scope=col>DailyCount</th></tr></thead>\n",
       "<tbody>\n",
       "\t<tr><td>User035855         </td><td>Comp808475         </td><td>Comp081330         </td><td>TGS                </td><td>0                  </td><td> 17                </td></tr>\n",
       "\t<tr><td>Comp655251$        </td><td>Comp655251         </td><td>ActiveDirectory    </td><td>NetworkLogon       </td><td>0                  </td><td>350                </td></tr>\n",
       "\t<tr><td>User762066         </td><td>Comp306129         </td><td>ActiveDirectory    </td><td>TGS                </td><td>0                  </td><td> 22                </td></tr>\n",
       "\t<tr><td>User384215         </td><td>Comp095190         </td><td>EnterpriseAppServer</td><td>NetworkLogon       </td><td>0                  </td><td> 35                </td></tr>\n",
       "\t<tr><td>User043263         </td><td>Comp883307         </td><td>Comp384394         </td><td>TGS                </td><td>0                  </td><td>  2                </td></tr>\n",
       "\t<tr><td>User631552         </td><td>Comp621781         </td><td>Comp915658         </td><td>NetworkLogon       </td><td>0                  </td><td>  1                </td></tr>\n",
       "</tbody>\n",
       "</table>\n"
      ],
      "text/latex": [
       "\\begin{tabular}{r|llllll}\n",
       " UserName & SrcDevice & DstDevice & AuthType & Failure & DailyCount\\\\\n",
       "\\hline\n",
       "\t User035855          & Comp808475          & Comp081330          & TGS                 & 0                   &  17                \\\\\n",
       "\t Comp655251\\$       & Comp655251          & ActiveDirectory     & NetworkLogon        & 0                   & 350                \\\\\n",
       "\t User762066          & Comp306129          & ActiveDirectory     & TGS                 & 0                   &  22                \\\\\n",
       "\t User384215          & Comp095190          & EnterpriseAppServer & NetworkLogon        & 0                   &  35                \\\\\n",
       "\t User043263          & Comp883307          & Comp384394          & TGS                 & 0                   &   2                \\\\\n",
       "\t User631552          & Comp621781          & Comp915658          & NetworkLogon        & 0                   &   1                \\\\\n",
       "\\end{tabular}\n"
      ],
      "text/markdown": [
       "\n",
       "| UserName | SrcDevice | DstDevice | AuthType | Failure | DailyCount |\n",
       "|---|---|---|---|---|---|\n",
       "| User035855          | Comp808475          | Comp081330          | TGS                 | 0                   |  17                 |\n",
       "| Comp655251$         | Comp655251          | ActiveDirectory     | NetworkLogon        | 0                   | 350                 |\n",
       "| User762066          | Comp306129          | ActiveDirectory     | TGS                 | 0                   |  22                 |\n",
       "| User384215          | Comp095190          | EnterpriseAppServer | NetworkLogon        | 0                   |  35                 |\n",
       "| User043263          | Comp883307          | Comp384394          | TGS                 | 0                   |   2                 |\n",
       "| User631552          | Comp621781          | Comp915658          | NetworkLogon        | 0                   |   1                 |\n",
       "\n"
      ],
      "text/plain": [
       "  UserName    SrcDevice  DstDevice           AuthType     Failure DailyCount\n",
       "1 User035855  Comp808475 Comp081330          TGS          0        17       \n",
       "2 Comp655251$ Comp655251 ActiveDirectory     NetworkLogon 0       350       \n",
       "3 User762066  Comp306129 ActiveDirectory     TGS          0        22       \n",
       "4 User384215  Comp095190 EnterpriseAppServer NetworkLogon 0        35       \n",
       "5 User043263  Comp883307 Comp384394          TGS          0         2       \n",
       "6 User631552  Comp621781 Comp915658          NetworkLogon 0         1       "
      ]
     },
     "metadata": {},
     "output_type": "display_data"
    },
    {
     "data": {
      "text/html": [
       "<ol class=list-inline>\n",
       "\t<li>15953681</li>\n",
       "\t<li>6</li>\n",
       "</ol>\n"
      ],
      "text/latex": [
       "\\begin{enumerate*}\n",
       "\\item 15953681\n",
       "\\item 6\n",
       "\\end{enumerate*}\n"
      ],
      "text/markdown": [
       "1. 15953681\n",
       "2. 6\n",
       "\n",
       "\n"
      ],
      "text/plain": [
       "[1] 15953681        6"
      ]
     },
     "metadata": {},
     "output_type": "display_data"
    },
    {
     "name": "stdout",
     "output_type": "stream",
     "text": [
      "'data.frame':\t15953681 obs. of  6 variables:\n",
      " $ UserName  : chr  \"User035855\" \"Comp655251$\" \"User762066\" \"User384215\" ...\n",
      " $ SrcDevice : chr  \"Comp808475\" \"Comp655251\" \"Comp306129\" \"Comp095190\" ...\n",
      " $ DstDevice : chr  \"Comp081330\" \"ActiveDirectory\" \"ActiveDirectory\" \"EnterpriseAppServer\" ...\n",
      " $ AuthType  : chr  \"TGS\" \"NetworkLogon\" \"TGS\" \"NetworkLogon\" ...\n",
      " $ Failure   : int  0 0 0 0 0 0 0 0 0 0 ...\n",
      " $ DailyCount: int  17 350 22 35 2 1 14 78 2 4 ...\n"
     ]
    }
   ],
   "source": [
    "head(df)\n",
    "dim(df)\n",
    "str(df)"
   ]
  },
  {
   "cell_type": "code",
   "execution_count": 17,
   "id": "58ea7b7b",
   "metadata": {},
   "outputs": [],
   "source": [
    "df %>% mutate(across(where(is.factor), as.character)) -> df"
   ]
  },
  {
   "cell_type": "code",
   "execution_count": 23,
   "id": "5b7af064",
   "metadata": {},
   "outputs": [],
   "source": [
    "UN <- read.table(file=\"UserNames.txt\", header=F)\n",
    "UN <- as.vector(UN[,1])"
   ]
  },
  {
   "cell_type": "code",
   "execution_count": 26,
   "id": "2be0b3f3",
   "metadata": {},
   "outputs": [
    {
     "data": {
      "text/html": [
       "<ol class=list-inline>\n",
       "\t<li>'User024511'</li>\n",
       "\t<li>'User063197'</li>\n",
       "\t<li>'User203147'</li>\n",
       "\t<li>'User365588'</li>\n",
       "\t<li>'User409683'</li>\n",
       "\t<li>'User538831'</li>\n",
       "</ol>\n"
      ],
      "text/latex": [
       "\\begin{enumerate*}\n",
       "\\item 'User024511'\n",
       "\\item 'User063197'\n",
       "\\item 'User203147'\n",
       "\\item 'User365588'\n",
       "\\item 'User409683'\n",
       "\\item 'User538831'\n",
       "\\end{enumerate*}\n"
      ],
      "text/markdown": [
       "1. 'User024511'\n",
       "2. 'User063197'\n",
       "3. 'User203147'\n",
       "4. 'User365588'\n",
       "5. 'User409683'\n",
       "6. 'User538831'\n",
       "\n",
       "\n"
      ],
      "text/plain": [
       "[1] \"User024511\" \"User063197\" \"User203147\" \"User365588\" \"User409683\"\n",
       "[6] \"User538831\""
      ]
     },
     "metadata": {},
     "output_type": "display_data"
    },
    {
     "data": {
      "text/html": [
       "'character'"
      ],
      "text/latex": [
       "'character'"
      ],
      "text/markdown": [
       "'character'"
      ],
      "text/plain": [
       "[1] \"character\""
      ]
     },
     "metadata": {},
     "output_type": "display_data"
    },
    {
     "data": {
      "text/html": [
       "99"
      ],
      "text/latex": [
       "99"
      ],
      "text/markdown": [
       "99"
      ],
      "text/plain": [
       "[1] 99"
      ]
     },
     "metadata": {},
     "output_type": "display_data"
    }
   ],
   "source": [
    "head(UN)\n",
    "class(UN)\n",
    "length(UN)"
   ]
  },
  {
   "cell_type": "code",
   "execution_count": 27,
   "id": "28eadb27",
   "metadata": {},
   "outputs": [],
   "source": [
    "Mal <- df[df$UserName%in%UN, ]"
   ]
  },
  {
   "cell_type": "code",
   "execution_count": 29,
   "id": "f11726e8",
   "metadata": {},
   "outputs": [
    {
     "data": {
      "text/html": [
       "<table>\n",
       "<thead><tr><th></th><th scope=col>UserName</th><th scope=col>SrcDevice</th><th scope=col>DstDevice</th><th scope=col>AuthType</th><th scope=col>Failure</th><th scope=col>DailyCount</th></tr></thead>\n",
       "<tbody>\n",
       "\t<tr><th scope=row>129</th><td>AppService         </td><td>EnterpriseAppServer</td><td>Comp947445         </td><td>TGS                </td><td>0                  </td><td>     2             </td></tr>\n",
       "\t<tr><th scope=row>468</th><td>User871458         </td><td>Comp273168         </td><td>Comp273168         </td><td>TGS                </td><td>0                  </td><td>     6             </td></tr>\n",
       "\t<tr><th scope=row>584</th><td>User882755         </td><td>Comp599337         </td><td>ActiveDirectory    </td><td>TGS                </td><td>0                  </td><td>    51             </td></tr>\n",
       "\t<tr><th scope=row>764</th><td>User718825         </td><td>Comp544870         </td><td>Comp370444         </td><td>NetworkLogon       </td><td>0                  </td><td>    25             </td></tr>\n",
       "\t<tr><th scope=row>903</th><td>User538831         </td><td>Comp277798         </td><td>None               </td><td>WorkstationLock    </td><td>0                  </td><td>     1             </td></tr>\n",
       "\t<tr><th scope=row>1018</th><td>AppService         </td><td>Comp894088         </td><td>Comp698972         </td><td>NetworkLogon       </td><td>0                  </td><td>110063             </td></tr>\n",
       "</tbody>\n",
       "</table>\n"
      ],
      "text/latex": [
       "\\begin{tabular}{r|llllll}\n",
       "  & UserName & SrcDevice & DstDevice & AuthType & Failure & DailyCount\\\\\n",
       "\\hline\n",
       "\t129 & AppService          & EnterpriseAppServer & Comp947445          & TGS                 & 0                   &      2             \\\\\n",
       "\t468 & User871458          & Comp273168          & Comp273168          & TGS                 & 0                   &      6             \\\\\n",
       "\t584 & User882755          & Comp599337          & ActiveDirectory     & TGS                 & 0                   &     51             \\\\\n",
       "\t764 & User718825          & Comp544870          & Comp370444          & NetworkLogon        & 0                   &     25             \\\\\n",
       "\t903 & User538831          & Comp277798          & None                & WorkstationLock     & 0                   &      1             \\\\\n",
       "\t1018 & AppService          & Comp894088          & Comp698972          & NetworkLogon        & 0                   & 110063             \\\\\n",
       "\\end{tabular}\n"
      ],
      "text/markdown": [
       "\n",
       "| <!--/--> | UserName | SrcDevice | DstDevice | AuthType | Failure | DailyCount |\n",
       "|---|---|---|---|---|---|---|\n",
       "| 129 | AppService          | EnterpriseAppServer | Comp947445          | TGS                 | 0                   |      2              |\n",
       "| 468 | User871458          | Comp273168          | Comp273168          | TGS                 | 0                   |      6              |\n",
       "| 584 | User882755          | Comp599337          | ActiveDirectory     | TGS                 | 0                   |     51              |\n",
       "| 764 | User718825          | Comp544870          | Comp370444          | NetworkLogon        | 0                   |     25              |\n",
       "| 903 | User538831          | Comp277798          | None                | WorkstationLock     | 0                   |      1              |\n",
       "| 1018 | AppService          | Comp894088          | Comp698972          | NetworkLogon        | 0                   | 110063              |\n",
       "\n"
      ],
      "text/plain": [
       "     UserName   SrcDevice           DstDevice       AuthType        Failure\n",
       "129  AppService EnterpriseAppServer Comp947445      TGS             0      \n",
       "468  User871458 Comp273168          Comp273168      TGS             0      \n",
       "584  User882755 Comp599337          ActiveDirectory TGS             0      \n",
       "764  User718825 Comp544870          Comp370444      NetworkLogon    0      \n",
       "903  User538831 Comp277798          None            WorkstationLock 0      \n",
       "1018 AppService Comp894088          Comp698972      NetworkLogon    0      \n",
       "     DailyCount\n",
       "129       2    \n",
       "468       6    \n",
       "584      51    \n",
       "764      25    \n",
       "903       1    \n",
       "1018 110063    "
      ]
     },
     "metadata": {},
     "output_type": "display_data"
    },
    {
     "data": {
      "text/html": [
       "<ol class=list-inline>\n",
       "\t<li>151819</li>\n",
       "\t<li>6</li>\n",
       "</ol>\n"
      ],
      "text/latex": [
       "\\begin{enumerate*}\n",
       "\\item 151819\n",
       "\\item 6\n",
       "\\end{enumerate*}\n"
      ],
      "text/markdown": [
       "1. 151819\n",
       "2. 6\n",
       "\n",
       "\n"
      ],
      "text/plain": [
       "[1] 151819      6"
      ]
     },
     "metadata": {},
     "output_type": "display_data"
    }
   ],
   "source": [
    "head(Mal)\n",
    "dim(Mal)"
   ]
  },
  {
   "cell_type": "code",
   "execution_count": 35,
   "id": "a8ccf672",
   "metadata": {},
   "outputs": [
    {
     "data": {
      "text/html": [
       "'There are 95 unique usernames.'"
      ],
      "text/latex": [
       "'There are 95 unique usernames.'"
      ],
      "text/markdown": [
       "'There are 95 unique usernames.'"
      ],
      "text/plain": [
       "[1] \"There are 95 unique usernames.\""
      ]
     },
     "metadata": {},
     "output_type": "display_data"
    },
    {
     "data": {
      "image/png": "[encoded data removed]",
      "text/plain": [
       "plot without title"
      ]
     },
     "metadata": {},
     "output_type": "display_data"
    }
   ],
   "source": [
    "pie(table(Mal$UserName)[order(table(Mal$UserName), decreasing=F)])\n",
    "paste0(\"There are \", length(unique(Mal$UserName)), \" unique usernames.\")"
   ]
  },
  {
   "cell_type": "code",
   "execution_count": 38,
   "id": "227bbe03",
   "metadata": {},
   "outputs": [
    {
     "data": {
      "image/png": "[encoded data removed]",
      "text/plain": [
       "Plot with title \"to 1590 destinations\""
      ]
     },
     "metadata": {},
     "output_type": "display_data"
    }
   ],
   "source": [
    "op <- par(mfrow=c(1,2))\n",
    "pie(table(Mal$SrcDevice)[order(table(Mal$SrcDevice), decreasing=FALSE)], main=paste(\"From\", length(unique(Mal$SrcDevice)), \"sources\", sep=\" \"))\n",
    "pie(table(Mal$DstDevice)[order(table(Mal$DstDevice), decreasing=FALSE)], main=paste(\"to\", length(unique(Mal$DstDevice)), \"destinations\", sep=\" \"))\n",
    "par(op)"
   ]
  },
  {
   "cell_type": "code",
   "execution_count": 44,
   "id": "69542315",
   "metadata": {},
   "outputs": [
    {
     "data": {
      "text/html": [
       "'integer'"
      ],
      "text/latex": [
       "'integer'"
      ],
      "text/markdown": [
       "'integer'"
      ],
      "text/plain": [
       "[1] \"integer\""
      ]
     },
     "metadata": {},
     "output_type": "display_data"
    }
   ],
   "source": [
    "dim(Mal[Mal$SrcDevice==\"None\", ])"
   ]
  },
  {
   "cell_type": "code",
   "execution_count": 54,
   "id": "4860a4c2",
   "metadata": {},
   "outputs": [],
   "source": [
    "v<- c(3,3,5,7)"
   ]
  },
  {
   "cell_type": "code",
   "execution_count": 56,
   "id": "537e45eb",
   "metadata": {},
   "outputs": [
    {
     "data": {
      "text/plain": [
       "v\n",
       "3 5 7 \n",
       "2 1 1 "
      ]
     },
     "metadata": {},
     "output_type": "display_data"
    }
   ],
   "source": [
    "vf<- table(v)\n",
    "vf"
   ]
  },
  {
   "cell_type": "code",
   "execution_count": 91,
   "id": "2a10ba32",
   "metadata": {},
   "outputs": [],
   "source": [
    "PartMean <- function(x=df$UserName) {\n",
    "    \n",
    "    n <- readline(prompt=\"Would you like to run the threshold algorithm T, or the automated version A? Input T or A: \")\n",
    "    if(n=='T') {\n",
    "        n<- readline(prompt=\"Input threshold. We recommend a value around 800, though 500 - 1000 is a sensible range:\")\n",
    "        n<- as.numeric(n)\n",
    "        i<- 1\n",
    "        t<- table(x)\n",
    "        T<- length(t)/n\n",
    "        len<- vector()\n",
    "        med <- vector()\n",
    "        while(length(t)>T) {\n",
    "            len[i]<- length(t)\n",
    "            m<- mean(t)\n",
    "            med[i] <- m\n",
    "            i<- 1+i\n",
    "            t<- t[t>m]\n",
    "            }\n",
    "\n",
    "        len <- c(len, 0)\n",
    "        med <- round(med)\n",
    "        print(\"The partition lengths are:\")\n",
    "        print(len)\n",
    "        print(\"The partitions have corresponding means:\")\n",
    "        print(med)\n",
    "        print(t[order(t, decreasing=TRUE)])\n",
    "    \n",
    "        if(length(t)<=2 & length(t)>=1) {\n",
    "            print(\"Potential outlier detected.\")\n",
    "            }\n",
    "        }\n",
    "    if(n=='A') { \n",
    "        t<- table(x)\n",
    "        c<- 1\n",
    "        while(length(t)>=2) {\n",
    "        m<- mean(t)\n",
    "        f<- t[t>m]\n",
    "        f<- f[order(f, decreasing=FALSE)]\n",
    "        t<- f\n",
    "        print(paste0(\"Partition \", c))\n",
    "        cat('\\n')\n",
    "        c<- 1+c\n",
    "        if(length(f)>=7) {\n",
    "            p<- paste(names(f[1]), names(f[2]), names(f[3]), names(f[4]), names(f[5]) , sep=\" \")\n",
    "            # print(p)\n",
    "            print(paste(p, \"and\", (length(f)-5), \"others\", sep=\" \"))  \n",
    "            cat(\"\\n\")      }\n",
    "        if(length(f)<7)\n",
    "          { print(f) \n",
    "              cat(\"\\n\")    }\n",
    "            }\n",
    "    \n",
    "    \n",
    "        }\n",
    "    if(n!='A' & n!='T') {\n",
    "        print(\"Unrecognized input.\")\n",
    "        stop()\n",
    "        }\n",
    "    }"
   ]
  },
  {
   "cell_type": "code",
   "execution_count": 92,
   "id": "e58be7c1",
   "metadata": {},
   "outputs": [
    {
     "name": "stdout",
     "output_type": "stream",
     "text": [
      "Would you like to run the threshold algorithm T, or the automated version A? Input T or A: A\n",
      "[1] \"Partition 1\"\n",
      "\n",
      "[1] \"Comp039053$ Comp044095$ Comp053112$ Comp076777$ Comp078004$ and 10373 others\"\n",
      "\n",
      "[1] \"Partition 2\"\n",
      "\n",
      "[1] \"User545165 User963380 Comp352050$ User141270 User142464 and 3738 others\"\n",
      "\n",
      "[1] \"Partition 3\"\n",
      "\n",
      "[1] \"User738085 User884998 User979892 User047514 User140862 and 755 others\"\n",
      "\n",
      "[1] \"Partition 4\"\n",
      "\n",
      "[1] \"User449100 User619750 User181140 User765669 User624654 and 64 others\"\n",
      "\n",
      "[1] \"Partition 5\"\n",
      "\n",
      "x\n",
      "   User272607    AppService Administrator       Scanner     Anonymous \n",
      "        15767         15791         27928        189928        472595 \n",
      "\n",
      "[1] \"Partition 6\"\n",
      "\n",
      "x\n",
      "  Scanner Anonymous \n",
      "   189928    472595 \n",
      "\n",
      "[1] \"Partition 7\"\n",
      "\n",
      "Anonymous \n",
      "   472595 \n",
      "\n"
     ]
    }
   ],
   "source": [
    "PartMean()"
   ]
  }
 ],
 "metadata": {
  "kernelspec": {
   "display_name": "R",
   "language": "R",
   "name": "ir"
  },
  "language_info": {
   "codemirror_mode": "r",
   "file_extension": ".r",
   "mimetype": "text/x-r-source",
   "name": "R",
   "pygments_lexer": "r",
   "version": "3.6.1"
  }
 },
 "nbformat": 4,
 "nbformat_minor": 5
}
