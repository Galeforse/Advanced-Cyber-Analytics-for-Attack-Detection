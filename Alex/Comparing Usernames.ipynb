{
 "cells": [
  {
   "cell_type": "code",
   "execution_count": 1,
   "id": "f5409056",
   "metadata": {},
   "outputs": [],
   "source": [
    "# install.packages(c(\"plotrix\", \"dplyr\"))"
   ]
  },
  {
   "cell_type": "code",
   "execution_count": 2,
   "id": "584c6bc3",
   "metadata": {},
   "outputs": [
    {
     "name": "stderr",
     "output_type": "stream",
     "text": [
      "Warning message:\n",
      "\"package 'dplyr' was built under R version 3.6.3\"\n",
      "Attaching package: 'dplyr'\n",
      "\n",
      "The following objects are masked from 'package:stats':\n",
      "\n",
      "    filter, lag\n",
      "\n",
      "The following objects are masked from 'package:base':\n",
      "\n",
      "    intersect, setdiff, setequal, union\n",
      "\n",
      "Warning message:\n",
      "\"package 'plotrix' was built under R version 3.6.3\""
     ]
    }
   ],
   "source": [
    "library(dplyr)\n",
    "library(plotrix)"
   ]
  },
  {
   "cell_type": "code",
   "execution_count": 3,
   "id": "fb42122c",
   "metadata": {},
   "outputs": [],
   "source": [
    "setwd(\"D://LA//ATI Data\")"
   ]
  },
  {
   "cell_type": "code",
   "execution_count": 4,
   "id": "3d242f9d",
   "metadata": {},
   "outputs": [],
   "source": [
    "AU <- read.table(file=\"AuthUserNames.txt\", header=F)\n",
    "PU <- read.table(file=\"ProcessUserNames.txt\", header=F)"
   ]
  },
  {
   "cell_type": "code",
   "execution_count": 5,
   "id": "7cb9a8d7",
   "metadata": {},
   "outputs": [
    {
     "data": {
      "text/html": [
       "<ol class=list-inline>\n",
       "\t<li>'User024511'</li>\n",
       "\t<li>'User063197'</li>\n",
       "\t<li>'User203147'</li>\n",
       "\t<li>'User365588'</li>\n",
       "\t<li>'User409683'</li>\n",
       "\t<li>'User538831'</li>\n",
       "</ol>\n"
      ],
      "text/latex": [
       "\\begin{enumerate*}\n",
       "\\item 'User024511'\n",
       "\\item 'User063197'\n",
       "\\item 'User203147'\n",
       "\\item 'User365588'\n",
       "\\item 'User409683'\n",
       "\\item 'User538831'\n",
       "\\end{enumerate*}\n"
      ],
      "text/markdown": [
       "1. 'User024511'\n",
       "2. 'User063197'\n",
       "3. 'User203147'\n",
       "4. 'User365588'\n",
       "5. 'User409683'\n",
       "6. 'User538831'\n",
       "\n",
       "\n"
      ],
      "text/plain": [
       "[1] \"User024511\" \"User063197\" \"User203147\" \"User365588\" \"User409683\"\n",
       "[6] \"User538831\""
      ]
     },
     "metadata": {},
     "output_type": "display_data"
    },
    {
     "data": {
      "text/html": [
       "99"
      ],
      "text/latex": [
       "99"
      ],
      "text/markdown": [
       "99"
      ],
      "text/plain": [
       "[1] 99"
      ]
     },
     "metadata": {},
     "output_type": "display_data"
    },
    {
     "data": {
      "text/html": [
       "<ol class=list-inline>\n",
       "\t<li>'User179746'</li>\n",
       "\t<li>'Comp599155$'</li>\n",
       "\t<li>'User317732'</li>\n",
       "\t<li>'AppService'</li>\n",
       "\t<li>'Comp931233$'</li>\n",
       "\t<li>'User553613'</li>\n",
       "</ol>\n"
      ],
      "text/latex": [
       "\\begin{enumerate*}\n",
       "\\item 'User179746'\n",
       "\\item 'Comp599155\\$'\n",
       "\\item 'User317732'\n",
       "\\item 'AppService'\n",
       "\\item 'Comp931233\\$'\n",
       "\\item 'User553613'\n",
       "\\end{enumerate*}\n"
      ],
      "text/markdown": [
       "1. 'User179746'\n",
       "2. 'Comp599155$'\n",
       "3. 'User317732'\n",
       "4. 'AppService'\n",
       "5. 'Comp931233$'\n",
       "6. 'User553613'\n",
       "\n",
       "\n"
      ],
      "text/plain": [
       "[1] \"User179746\"  \"Comp599155$\" \"User317732\"  \"AppService\"  \"Comp931233$\"\n",
       "[6] \"User553613\" "
      ]
     },
     "metadata": {},
     "output_type": "display_data"
    },
    {
     "data": {
      "text/html": [
       "71"
      ],
      "text/latex": [
       "71"
      ],
      "text/markdown": [
       "71"
      ],
      "text/plain": [
       "[1] 71"
      ]
     },
     "metadata": {},
     "output_type": "display_data"
    }
   ],
   "source": [
    "AU <- as.vector(AU$V1)\n",
    "PU <- as.vector(PU$V1)\n",
    "\n",
    "head(AU)\n",
    "length(AU)\n",
    "head(PU)\n",
    "length(PU)"
   ]
  },
  {
   "cell_type": "code",
   "execution_count": 6,
   "id": "e9aaad0f",
   "metadata": {},
   "outputs": [
    {
     "data": {
      "text/html": [
       "95"
      ],
      "text/latex": [
       "95"
      ],
      "text/markdown": [
       "95"
      ],
      "text/plain": [
       "[1] 95"
      ]
     },
     "metadata": {},
     "output_type": "display_data"
    },
    {
     "data": {
      "text/html": [
       "66"
      ],
      "text/latex": [
       "66"
      ],
      "text/markdown": [
       "66"
      ],
      "text/plain": [
       "[1] 66"
      ]
     },
     "metadata": {},
     "output_type": "display_data"
    }
   ],
   "source": [
    "AU <- unique(AU)\n",
    "PU <- unique(PU)\n",
    "\n",
    "length(AU)\n",
    "length(PU)"
   ]
  },
  {
   "cell_type": "code",
   "execution_count": 7,
   "id": "f28116d8",
   "metadata": {},
   "outputs": [
    {
     "data": {
      "text/html": [
       "'There are 87 usernames present in Auth that do not feature in Proc'"
      ],
      "text/latex": [
       "'There are 87 usernames present in Auth that do not feature in Proc'"
      ],
      "text/markdown": [
       "'There are 87 usernames present in Auth that do not feature in Proc'"
      ],
      "text/plain": [
       "[1] \"There are 87 usernames present in Auth that do not feature in Proc\""
      ]
     },
     "metadata": {},
     "output_type": "display_data"
    },
    {
     "name": "stdout",
     "output_type": "stream",
     "text": [
      "\n",
      "Such as:\n",
      "[1] \"User024511\" \"User063197\" \"User365588\" \"User409683\" \"User538831\"\n",
      "[6] \"User768610\"\n"
     ]
    },
    {
     "data": {
      "text/html": [
       "'There are 58 usernames present in Proc that do not feature in Auth'"
      ],
      "text/latex": [
       "'There are 58 usernames present in Proc that do not feature in Auth'"
      ],
      "text/markdown": [
       "'There are 58 usernames present in Proc that do not feature in Auth'"
      ],
      "text/plain": [
       "[1] \"There are 58 usernames present in Proc that do not feature in Auth\""
      ]
     },
     "metadata": {},
     "output_type": "display_data"
    },
    {
     "name": "stdout",
     "output_type": "stream",
     "text": [
      "\n",
      "Such as:\n",
      "[1] \"Comp599155$\" \"Comp931233$\" \"User553613\"  \"Comp513140$\" \"Comp591296$\"\n",
      "[6] \"Comp123959$\"\n"
     ]
    }
   ],
   "source": [
    "OnlyAuth <- AU[AU%in%PU==FALSE]\n",
    "paste(\"There are\", length(OnlyAuth), \"usernames present in Auth that do not feature in Proc\")\n",
    "cat(\"\\nSuch as:\\n\")\n",
    "print(head(OnlyAuth))\n",
    "\n",
    "OnlyProc <- PU[PU%in%AU==FALSE]\n",
    "paste(\"There are\", length(OnlyProc), \"usernames present in Proc that do not feature in Auth\")\n",
    "cat(\"\\nSuch as:\\n\")\n",
    "print(head(OnlyProc))"
   ]
  },
  {
   "cell_type": "code",
   "execution_count": 8,
   "id": "b8632086",
   "metadata": {},
   "outputs": [
    {
     "data": {
      "text/html": [
       "TRUE"
      ],
      "text/latex": [
       "TRUE"
      ],
      "text/markdown": [
       "TRUE"
      ],
      "text/plain": [
       "[1] TRUE"
      ]
     },
     "metadata": {},
     "output_type": "display_data"
    },
    {
     "name": "stdout",
     "output_type": "stream",
     "text": [
      "[1] \"User203147\"  \"User794682\"  \"User317732\"  \"User179746\"  \"User110290\" \n",
      "[6] \"AppService\"  \"Comp289117$\" \"Comp939275$\"\n"
     ]
    }
   ],
   "source": [
    "Common <- AU[AU%in%PU==TRUE]\n",
    "identical(Common[order(Common)], PU[PU%in%AU==TRUE][order(PU[PU%in%AU==TRUE])], attrib.as.set = TRUE)\n",
    "\n",
    "print(Common)"
   ]
  },
  {
   "cell_type": "code",
   "execution_count": 9,
   "id": "cfe06dc7",
   "metadata": {},
   "outputs": [],
   "source": [
    "Auth <- read.table(file=\"Summaries//Just_Auth//LA.txt\", header=T, sep=\",\")"
   ]
  },
  {
   "cell_type": "code",
   "execution_count": 10,
   "id": "a8378676",
   "metadata": {},
   "outputs": [],
   "source": [
    "Proc <- read.table(file=\"Summaries//Just_Process//ProcessData.txt\", header=T, sep=\",\")"
   ]
  },
  {
   "cell_type": "code",
   "execution_count": 11,
   "id": "866631c8",
   "metadata": {},
   "outputs": [],
   "source": [
    "Proc <- Proc[, -1]\n",
    "Auth <- Auth[, -1]"
   ]
  },
  {
   "cell_type": "code",
   "execution_count": 12,
   "id": "59e0070b",
   "metadata": {},
   "outputs": [
    {
     "data": {
      "text/html": [
       "<table>\n",
       "<thead><tr><th scope=col>UserName</th><th scope=col>SrcDevice</th><th scope=col>DstDevice</th><th scope=col>AuthType</th><th scope=col>Failure</th><th scope=col>DailyCount</th></tr></thead>\n",
       "<tbody>\n",
       "\t<tr><td>User035855         </td><td>Comp808475         </td><td>Comp081330         </td><td>TGS                </td><td>0                  </td><td> 17                </td></tr>\n",
       "\t<tr><td>Comp655251$        </td><td>Comp655251         </td><td>ActiveDirectory    </td><td>NetworkLogon       </td><td>0                  </td><td>350                </td></tr>\n",
       "\t<tr><td>User762066         </td><td>Comp306129         </td><td>ActiveDirectory    </td><td>TGS                </td><td>0                  </td><td> 22                </td></tr>\n",
       "\t<tr><td>User384215         </td><td>Comp095190         </td><td>EnterpriseAppServer</td><td>NetworkLogon       </td><td>0                  </td><td> 35                </td></tr>\n",
       "\t<tr><td>User043263         </td><td>Comp883307         </td><td>Comp384394         </td><td>TGS                </td><td>0                  </td><td>  2                </td></tr>\n",
       "\t<tr><td>User631552         </td><td>Comp621781         </td><td>Comp915658         </td><td>NetworkLogon       </td><td>0                  </td><td>  1                </td></tr>\n",
       "</tbody>\n",
       "</table>\n"
      ],
      "text/latex": [
       "\\begin{tabular}{r|llllll}\n",
       " UserName & SrcDevice & DstDevice & AuthType & Failure & DailyCount\\\\\n",
       "\\hline\n",
       "\t User035855          & Comp808475          & Comp081330          & TGS                 & 0                   &  17                \\\\\n",
       "\t Comp655251\\$       & Comp655251          & ActiveDirectory     & NetworkLogon        & 0                   & 350                \\\\\n",
       "\t User762066          & Comp306129          & ActiveDirectory     & TGS                 & 0                   &  22                \\\\\n",
       "\t User384215          & Comp095190          & EnterpriseAppServer & NetworkLogon        & 0                   &  35                \\\\\n",
       "\t User043263          & Comp883307          & Comp384394          & TGS                 & 0                   &   2                \\\\\n",
       "\t User631552          & Comp621781          & Comp915658          & NetworkLogon        & 0                   &   1                \\\\\n",
       "\\end{tabular}\n"
      ],
      "text/markdown": [
       "\n",
       "| UserName | SrcDevice | DstDevice | AuthType | Failure | DailyCount |\n",
       "|---|---|---|---|---|---|\n",
       "| User035855          | Comp808475          | Comp081330          | TGS                 | 0                   |  17                 |\n",
       "| Comp655251$         | Comp655251          | ActiveDirectory     | NetworkLogon        | 0                   | 350                 |\n",
       "| User762066          | Comp306129          | ActiveDirectory     | TGS                 | 0                   |  22                 |\n",
       "| User384215          | Comp095190          | EnterpriseAppServer | NetworkLogon        | 0                   |  35                 |\n",
       "| User043263          | Comp883307          | Comp384394          | TGS                 | 0                   |   2                 |\n",
       "| User631552          | Comp621781          | Comp915658          | NetworkLogon        | 0                   |   1                 |\n",
       "\n"
      ],
      "text/plain": [
       "  UserName    SrcDevice  DstDevice           AuthType     Failure DailyCount\n",
       "1 User035855  Comp808475 Comp081330          TGS          0        17       \n",
       "2 Comp655251$ Comp655251 ActiveDirectory     NetworkLogon 0       350       \n",
       "3 User762066  Comp306129 ActiveDirectory     TGS          0        22       \n",
       "4 User384215  Comp095190 EnterpriseAppServer NetworkLogon 0        35       \n",
       "5 User043263  Comp883307 Comp384394          TGS          0         2       \n",
       "6 User631552  Comp621781 Comp915658          NetworkLogon 0         1       "
      ]
     },
     "metadata": {},
     "output_type": "display_data"
    },
    {
     "data": {
      "text/html": [
       "<table>\n",
       "<thead><tr><th scope=col>UserName</th><th scope=col>Device</th><th scope=col>ProcessName</th><th scope=col>ParentProcessName</th><th scope=col>DailyCount</th></tr></thead>\n",
       "<tbody>\n",
       "\t<tr><td>Comp748297$   </td><td>Comp748297    </td><td>Proc391839.exe</td><td>Proc387473    </td><td>1             </td></tr>\n",
       "\t<tr><td>Comp563664$   </td><td>Comp563664    </td><td>rundll32.exe  </td><td>services      </td><td>1             </td></tr>\n",
       "\t<tr><td>User607396    </td><td>Comp609111    </td><td>Proc417435.exe</td><td>Proc417435    </td><td>1             </td></tr>\n",
       "\t<tr><td>Comp641702$   </td><td>Comp641702    </td><td>Proc249569.exe</td><td>services      </td><td>1             </td></tr>\n",
       "\t<tr><td>Comp157389$   </td><td>Comp157389    </td><td>Proc402696.exe</td><td>services      </td><td>1             </td></tr>\n",
       "\t<tr><td>Comp664825$   </td><td>Comp664825    </td><td>Proc402696.exe</td><td>services      </td><td>1             </td></tr>\n",
       "</tbody>\n",
       "</table>\n"
      ],
      "text/latex": [
       "\\begin{tabular}{r|lllll}\n",
       " UserName & Device & ProcessName & ParentProcessName & DailyCount\\\\\n",
       "\\hline\n",
       "\t Comp748297\\$  & Comp748297     & Proc391839.exe & Proc387473     & 1             \\\\\n",
       "\t Comp563664\\$  & Comp563664     & rundll32.exe   & services       & 1             \\\\\n",
       "\t User607396     & Comp609111     & Proc417435.exe & Proc417435     & 1             \\\\\n",
       "\t Comp641702\\$  & Comp641702     & Proc249569.exe & services       & 1             \\\\\n",
       "\t Comp157389\\$  & Comp157389     & Proc402696.exe & services       & 1             \\\\\n",
       "\t Comp664825\\$  & Comp664825     & Proc402696.exe & services       & 1             \\\\\n",
       "\\end{tabular}\n"
      ],
      "text/markdown": [
       "\n",
       "| UserName | Device | ProcessName | ParentProcessName | DailyCount |\n",
       "|---|---|---|---|---|\n",
       "| Comp748297$    | Comp748297     | Proc391839.exe | Proc387473     | 1              |\n",
       "| Comp563664$    | Comp563664     | rundll32.exe   | services       | 1              |\n",
       "| User607396     | Comp609111     | Proc417435.exe | Proc417435     | 1              |\n",
       "| Comp641702$    | Comp641702     | Proc249569.exe | services       | 1              |\n",
       "| Comp157389$    | Comp157389     | Proc402696.exe | services       | 1              |\n",
       "| Comp664825$    | Comp664825     | Proc402696.exe | services       | 1              |\n",
       "\n"
      ],
      "text/plain": [
       "  UserName    Device     ProcessName    ParentProcessName DailyCount\n",
       "1 Comp748297$ Comp748297 Proc391839.exe Proc387473        1         \n",
       "2 Comp563664$ Comp563664 rundll32.exe   services          1         \n",
       "3 User607396  Comp609111 Proc417435.exe Proc417435        1         \n",
       "4 Comp641702$ Comp641702 Proc249569.exe services          1         \n",
       "5 Comp157389$ Comp157389 Proc402696.exe services          1         \n",
       "6 Comp664825$ Comp664825 Proc402696.exe services          1         "
      ]
     },
     "metadata": {},
     "output_type": "display_data"
    }
   ],
   "source": [
    "head(Auth)\n",
    "head(Proc)"
   ]
  },
  {
   "cell_type": "code",
   "execution_count": 13,
   "id": "20ba4cc6",
   "metadata": {},
   "outputs": [
    {
     "data": {
      "text/html": [
       "<ol class=list-inline>\n",
       "\t<li>151819</li>\n",
       "\t<li>6</li>\n",
       "</ol>\n"
      ],
      "text/latex": [
       "\\begin{enumerate*}\n",
       "\\item 151819\n",
       "\\item 6\n",
       "\\end{enumerate*}\n"
      ],
      "text/markdown": [
       "1. 151819\n",
       "2. 6\n",
       "\n",
       "\n"
      ],
      "text/plain": [
       "[1] 151819      6"
      ]
     },
     "metadata": {},
     "output_type": "display_data"
    },
    {
     "data": {
      "text/html": [
       "<ol class=list-inline>\n",
       "\t<li>230189</li>\n",
       "\t<li>5</li>\n",
       "</ol>\n"
      ],
      "text/latex": [
       "\\begin{enumerate*}\n",
       "\\item 230189\n",
       "\\item 5\n",
       "\\end{enumerate*}\n"
      ],
      "text/markdown": [
       "1. 230189\n",
       "2. 5\n",
       "\n",
       "\n"
      ],
      "text/plain": [
       "[1] 230189      5"
      ]
     },
     "metadata": {},
     "output_type": "display_data"
    }
   ],
   "source": [
    "MalAuth <- Auth[Auth$UserName%in%AU, ]\n",
    "MalProc <- Proc[Proc$UserName%in%PU, ]\n",
    "\n",
    "dim(MalAuth)\n",
    "dim(MalProc)"
   ]
  },
  {
   "cell_type": "code",
   "execution_count": 14,
   "id": "5e6887cb",
   "metadata": {},
   "outputs": [
    {
     "data": {
      "text/html": [
       "<ol class=list-inline>\n",
       "\t<li>24269</li>\n",
       "\t<li>6</li>\n",
       "</ol>\n"
      ],
      "text/latex": [
       "\\begin{enumerate*}\n",
       "\\item 24269\n",
       "\\item 6\n",
       "\\end{enumerate*}\n"
      ],
      "text/markdown": [
       "1. 24269\n",
       "2. 6\n",
       "\n",
       "\n"
      ],
      "text/plain": [
       "[1] 24269     6"
      ]
     },
     "metadata": {},
     "output_type": "display_data"
    },
    {
     "data": {
      "text/html": [
       "<ol class=list-inline>\n",
       "\t<li>35092</li>\n",
       "\t<li>5</li>\n",
       "</ol>\n"
      ],
      "text/latex": [
       "\\begin{enumerate*}\n",
       "\\item 35092\n",
       "\\item 5\n",
       "\\end{enumerate*}\n"
      ],
      "text/markdown": [
       "1. 35092\n",
       "2. 5\n",
       "\n",
       "\n"
      ],
      "text/plain": [
       "[1] 35092     5"
      ]
     },
     "metadata": {},
     "output_type": "display_data"
    }
   ],
   "source": [
    "CommAuth <- Auth[Auth$UserName%in%Common, ]\n",
    "CommProc <- Proc[Proc$UserName%in%Common, ]\n",
    "\n",
    "dim(CommAuth)\n",
    "dim(CommProc)"
   ]
  },
  {
   "cell_type": "code",
   "execution_count": 15,
   "id": "c69d2d14",
   "metadata": {},
   "outputs": [],
   "source": [
    "CommAuth %>% mutate(across(where(is.factor), as.character)) -> CommAuth\n",
    "CommProc %>% mutate(across(where(is.factor), as.character)) -> CommProc\n",
    "MalAuth %>% mutate(across(where(is.factor), as.character)) -> MalAuth\n",
    "MalProc %>% mutate(across(where(is.factor), as.character)) -> MalProc"
   ]
  },
  {
   "cell_type": "code",
   "execution_count": 16,
   "id": "03e1b23e",
   "metadata": {},
   "outputs": [
    {
     "data": {
      "text/plain": [
       "\n",
       " User179746  User794682 Comp289117$  User317732  User203147 Comp939275$ \n",
       "         57         165         488        1328        1414        2072 \n",
       " User110290  AppService \n",
       "       2954       15791 "
      ]
     },
     "metadata": {},
     "output_type": "display_data"
    },
    {
     "name": "stdout",
     "output_type": "stream",
     "text": [
      "\n"
     ]
    },
    {
     "data": {
      "text/plain": [
       "\n",
       " User179746  User794682  User317732  User110290 Comp289117$  User203147 \n",
       "        188         582        1437        2423        3224        4672 \n",
       "Comp939275$  AppService \n",
       "       4891       17675 "
      ]
     },
     "metadata": {},
     "output_type": "display_data"
    }
   ],
   "source": [
    "table(CommAuth$UserName)[order(table(CommAuth$UserName))]\n",
    "cat(\"\\n\")\n",
    "table(CommProc$UserName)[order(table(CommProc$UserName))]"
   ]
  },
  {
   "cell_type": "code",
   "execution_count": 46,
   "id": "48ec40e1",
   "metadata": {},
   "outputs": [
    {
     "data": {
      "image/png": "[encoded data removed]",
      "text/plain": [
       "Plot with title \"Common Proc Users\""
      ]
     },
     "metadata": {},
     "output_type": "display_data"
    }
   ],
   "source": [
    "op <- par(mfrow=c(1,2))\n",
    "pie3D(table(CommAuth$UserName)[order(table(CommAuth$UserName), decreasing=TRUE)], col=rainbow(8), main=\"Common Auth Users\", explode=0.7)\n",
    "pie3D(table(CommProc$UserName)[order(table(CommProc$UserName), decreasing=TRUE)], col=rainbow(8), main=\"Common Proc Users\", explode=0.7)\n",
    "par(op)"
   ]
  },
  {
   "cell_type": "markdown",
   "id": "c9ac1838",
   "metadata": {},
   "source": [
    "## User179746"
   ]
  },
  {
   "cell_type": "code",
   "execution_count": 17,
   "id": "539546e2",
   "metadata": {},
   "outputs": [
    {
     "data": {
      "text/html": [
       "<table>\n",
       "<thead><tr><th></th><th scope=col>UserName</th><th scope=col>SrcDevice</th><th scope=col>DstDevice</th><th scope=col>AuthType</th><th scope=col>Failure</th><th scope=col>DailyCount</th></tr></thead>\n",
       "<tbody>\n",
       "\t<tr><th scope=row>2309303</th><td>User179746       </td><td>Comp599155       </td><td>None             </td><td>InteractiveLogon </td><td>0                </td><td>2                </td></tr>\n",
       "\t<tr><th scope=row>6027757</th><td>User179746       </td><td>Comp599155       </td><td>None             </td><td>InteractiveLogon </td><td>0                </td><td>2                </td></tr>\n",
       "\t<tr><th scope=row>6889517</th><td>User179746       </td><td>Comp599155       </td><td>None             </td><td>InteractiveLogon </td><td>0                </td><td>2                </td></tr>\n",
       "\t<tr><th scope=row>9667214</th><td>User179746       </td><td>Comp679250       </td><td>Comp599155       </td><td>NetworkLogon     </td><td>0                </td><td>8                </td></tr>\n",
       "\t<tr><th scope=row>9672243</th><td>User179746       </td><td>Comp547871       </td><td>ActiveDirectory  </td><td>NetworkLogon     </td><td>1                </td><td>1                </td></tr>\n",
       "\t<tr><th scope=row>9727819</th><td>User179746       </td><td>Comp679250       </td><td>Comp599155       </td><td>RemoteInteractive</td><td>0                </td><td>8                </td></tr>\n",
       "</tbody>\n",
       "</table>\n"
      ],
      "text/latex": [
       "\\begin{tabular}{r|llllll}\n",
       "  & UserName & SrcDevice & DstDevice & AuthType & Failure & DailyCount\\\\\n",
       "\\hline\n",
       "\t2309303 & User179746        & Comp599155        & None              & InteractiveLogon  & 0                 & 2                \\\\\n",
       "\t6027757 & User179746        & Comp599155        & None              & InteractiveLogon  & 0                 & 2                \\\\\n",
       "\t6889517 & User179746        & Comp599155        & None              & InteractiveLogon  & 0                 & 2                \\\\\n",
       "\t9667214 & User179746        & Comp679250        & Comp599155        & NetworkLogon      & 0                 & 8                \\\\\n",
       "\t9672243 & User179746        & Comp547871        & ActiveDirectory   & NetworkLogon      & 1                 & 1                \\\\\n",
       "\t9727819 & User179746        & Comp679250        & Comp599155        & RemoteInteractive & 0                 & 8                \\\\\n",
       "\\end{tabular}\n"
      ],
      "text/markdown": [
       "\n",
       "| <!--/--> | UserName | SrcDevice | DstDevice | AuthType | Failure | DailyCount |\n",
       "|---|---|---|---|---|---|---|\n",
       "| 2309303 | User179746        | Comp599155        | None              | InteractiveLogon  | 0                 | 2                 |\n",
       "| 6027757 | User179746        | Comp599155        | None              | InteractiveLogon  | 0                 | 2                 |\n",
       "| 6889517 | User179746        | Comp599155        | None              | InteractiveLogon  | 0                 | 2                 |\n",
       "| 9667214 | User179746        | Comp679250        | Comp599155        | NetworkLogon      | 0                 | 8                 |\n",
       "| 9672243 | User179746        | Comp547871        | ActiveDirectory   | NetworkLogon      | 1                 | 1                 |\n",
       "| 9727819 | User179746        | Comp679250        | Comp599155        | RemoteInteractive | 0                 | 8                 |\n",
       "\n"
      ],
      "text/plain": [
       "        UserName   SrcDevice  DstDevice       AuthType          Failure\n",
       "2309303 User179746 Comp599155 None            InteractiveLogon  0      \n",
       "6027757 User179746 Comp599155 None            InteractiveLogon  0      \n",
       "6889517 User179746 Comp599155 None            InteractiveLogon  0      \n",
       "9667214 User179746 Comp679250 Comp599155      NetworkLogon      0      \n",
       "9672243 User179746 Comp547871 ActiveDirectory NetworkLogon      1      \n",
       "9727819 User179746 Comp679250 Comp599155      RemoteInteractive 0      \n",
       "        DailyCount\n",
       "2309303 2         \n",
       "6027757 2         \n",
       "6889517 2         \n",
       "9667214 8         \n",
       "9672243 1         \n",
       "9727819 8         "
      ]
     },
     "metadata": {},
     "output_type": "display_data"
    },
    {
     "data": {
      "text/html": [
       "<table>\n",
       "<thead><tr><th></th><th scope=col>UserName</th><th scope=col>Device</th><th scope=col>ProcessName</th><th scope=col>ParentProcessName</th><th scope=col>DailyCount</th></tr></thead>\n",
       "<tbody>\n",
       "\t<tr><th scope=row>3642629</th><td>User179746    </td><td>Comp599155    </td><td>Proc706548.exe</td><td>Proc444602    </td><td>2             </td></tr>\n",
       "\t<tr><th scope=row>3709166</th><td>User179746    </td><td>Comp599155    </td><td>Proc604969.exe</td><td>Proc444602    </td><td>1             </td></tr>\n",
       "\t<tr><th scope=row>3841198</th><td>User179746    </td><td>Comp599155    </td><td>Proc412499.exe</td><td>Proc444602    </td><td>2             </td></tr>\n",
       "\t<tr><th scope=row>3852765</th><td>User179746    </td><td>Comp599155    </td><td>Proc407594.exe</td><td>Proc412499    </td><td>2             </td></tr>\n",
       "\t<tr><th scope=row>7683119</th><td>User179746    </td><td>Comp599155    </td><td>Proc447231.exe</td><td>Proc442764    </td><td>1             </td></tr>\n",
       "\t<tr><th scope=row>7742208</th><td>User179746    </td><td>Comp599155    </td><td>Proc690950.exe</td><td>Proc089893    </td><td>1             </td></tr>\n",
       "</tbody>\n",
       "</table>\n"
      ],
      "text/latex": [
       "\\begin{tabular}{r|lllll}\n",
       "  & UserName & Device & ProcessName & ParentProcessName & DailyCount\\\\\n",
       "\\hline\n",
       "\t3642629 & User179746     & Comp599155     & Proc706548.exe & Proc444602     & 2             \\\\\n",
       "\t3709166 & User179746     & Comp599155     & Proc604969.exe & Proc444602     & 1             \\\\\n",
       "\t3841198 & User179746     & Comp599155     & Proc412499.exe & Proc444602     & 2             \\\\\n",
       "\t3852765 & User179746     & Comp599155     & Proc407594.exe & Proc412499     & 2             \\\\\n",
       "\t7683119 & User179746     & Comp599155     & Proc447231.exe & Proc442764     & 1             \\\\\n",
       "\t7742208 & User179746     & Comp599155     & Proc690950.exe & Proc089893     & 1             \\\\\n",
       "\\end{tabular}\n"
      ],
      "text/markdown": [
       "\n",
       "| <!--/--> | UserName | Device | ProcessName | ParentProcessName | DailyCount |\n",
       "|---|---|---|---|---|---|\n",
       "| 3642629 | User179746     | Comp599155     | Proc706548.exe | Proc444602     | 2              |\n",
       "| 3709166 | User179746     | Comp599155     | Proc604969.exe | Proc444602     | 1              |\n",
       "| 3841198 | User179746     | Comp599155     | Proc412499.exe | Proc444602     | 2              |\n",
       "| 3852765 | User179746     | Comp599155     | Proc407594.exe | Proc412499     | 2              |\n",
       "| 7683119 | User179746     | Comp599155     | Proc447231.exe | Proc442764     | 1              |\n",
       "| 7742208 | User179746     | Comp599155     | Proc690950.exe | Proc089893     | 1              |\n",
       "\n"
      ],
      "text/plain": [
       "        UserName   Device     ProcessName    ParentProcessName DailyCount\n",
       "3642629 User179746 Comp599155 Proc706548.exe Proc444602        2         \n",
       "3709166 User179746 Comp599155 Proc604969.exe Proc444602        1         \n",
       "3841198 User179746 Comp599155 Proc412499.exe Proc444602        2         \n",
       "3852765 User179746 Comp599155 Proc407594.exe Proc412499        2         \n",
       "7683119 User179746 Comp599155 Proc447231.exe Proc442764        1         \n",
       "7742208 User179746 Comp599155 Proc690950.exe Proc089893        1         "
      ]
     },
     "metadata": {},
     "output_type": "display_data"
    }
   ],
   "source": [
    "U1<- CommAuth[CommAuth$UserName=='User179746', ]\n",
    "U2<- CommProc[CommProc$UserName=='User179746', ]\n",
    "\n",
    "head(U1)\n",
    "head(U2)"
   ]
  },
  {
   "cell_type": "code",
   "execution_count": 18,
   "id": "6fdfbbde",
   "metadata": {},
   "outputs": [
    {
     "data": {
      "text/html": [
       "<table>\n",
       "<thead><tr><th></th><th scope=col>UserName</th><th scope=col>SrcDevice</th><th scope=col>DstDevice</th><th scope=col>AuthType</th><th scope=col>Failure</th><th scope=col>DailyCount</th></tr></thead>\n",
       "<tbody>\n",
       "\t<tr><th scope=row>9672243</th><td>User179746         </td><td>Comp547871         </td><td>ActiveDirectory    </td><td>NetworkLogon       </td><td>1                  </td><td> 1                 </td></tr>\n",
       "\t<tr><th scope=row>9779940</th><td>User179746         </td><td>Comp679250         </td><td>Comp599155         </td><td>NetworkLogon       </td><td>1                  </td><td> 3                 </td></tr>\n",
       "\t<tr><th scope=row>9866675</th><td>User179746         </td><td>Comp599155         </td><td>Comp936659         </td><td>NetworkLogon       </td><td>1                  </td><td> 6                 </td></tr>\n",
       "\t<tr><th scope=row>9884093</th><td>User179746         </td><td>Comp599155         </td><td>Comp422203         </td><td>NetworkLogon       </td><td>1                  </td><td> 3                 </td></tr>\n",
       "\t<tr><th scope=row>9884731</th><td>User179746         </td><td>Comp599155         </td><td>EnterpriseAppServer</td><td>NetworkLogon       </td><td>1                  </td><td>12                 </td></tr>\n",
       "\t<tr><th scope=row>9885162</th><td>User179746         </td><td>Comp599155         </td><td>Comp312245         </td><td>NetworkLogon       </td><td>1                  </td><td> 6                 </td></tr>\n",
       "</tbody>\n",
       "</table>\n"
      ],
      "text/latex": [
       "\\begin{tabular}{r|llllll}\n",
       "  & UserName & SrcDevice & DstDevice & AuthType & Failure & DailyCount\\\\\n",
       "\\hline\n",
       "\t9672243 & User179746          & Comp547871          & ActiveDirectory     & NetworkLogon        & 1                   &  1                 \\\\\n",
       "\t9779940 & User179746          & Comp679250          & Comp599155          & NetworkLogon        & 1                   &  3                 \\\\\n",
       "\t9866675 & User179746          & Comp599155          & Comp936659          & NetworkLogon        & 1                   &  6                 \\\\\n",
       "\t9884093 & User179746          & Comp599155          & Comp422203          & NetworkLogon        & 1                   &  3                 \\\\\n",
       "\t9884731 & User179746          & Comp599155          & EnterpriseAppServer & NetworkLogon        & 1                   & 12                 \\\\\n",
       "\t9885162 & User179746          & Comp599155          & Comp312245          & NetworkLogon        & 1                   &  6                 \\\\\n",
       "\\end{tabular}\n"
      ],
      "text/markdown": [
       "\n",
       "| <!--/--> | UserName | SrcDevice | DstDevice | AuthType | Failure | DailyCount |\n",
       "|---|---|---|---|---|---|---|\n",
       "| 9672243 | User179746          | Comp547871          | ActiveDirectory     | NetworkLogon        | 1                   |  1                  |\n",
       "| 9779940 | User179746          | Comp679250          | Comp599155          | NetworkLogon        | 1                   |  3                  |\n",
       "| 9866675 | User179746          | Comp599155          | Comp936659          | NetworkLogon        | 1                   |  6                  |\n",
       "| 9884093 | User179746          | Comp599155          | Comp422203          | NetworkLogon        | 1                   |  3                  |\n",
       "| 9884731 | User179746          | Comp599155          | EnterpriseAppServer | NetworkLogon        | 1                   | 12                  |\n",
       "| 9885162 | User179746          | Comp599155          | Comp312245          | NetworkLogon        | 1                   |  6                  |\n",
       "\n"
      ],
      "text/plain": [
       "        UserName   SrcDevice  DstDevice           AuthType     Failure\n",
       "9672243 User179746 Comp547871 ActiveDirectory     NetworkLogon 1      \n",
       "9779940 User179746 Comp679250 Comp599155          NetworkLogon 1      \n",
       "9866675 User179746 Comp599155 Comp936659          NetworkLogon 1      \n",
       "9884093 User179746 Comp599155 Comp422203          NetworkLogon 1      \n",
       "9884731 User179746 Comp599155 EnterpriseAppServer NetworkLogon 1      \n",
       "9885162 User179746 Comp599155 Comp312245          NetworkLogon 1      \n",
       "        DailyCount\n",
       "9672243  1        \n",
       "9779940  3        \n",
       "9866675  6        \n",
       "9884093  3        \n",
       "9884731 12        \n",
       "9885162  6        "
      ]
     },
     "metadata": {},
     "output_type": "display_data"
    }
   ],
   "source": [
    "U1F <- U1[U1$Failure==1, ]\n",
    "head(U1F)   ## Note: Assign really large weight to Failure!"
   ]
  },
  {
   "cell_type": "code",
   "execution_count": 19,
   "id": "e78f9b6e",
   "metadata": {},
   "outputs": [
    {
     "data": {
      "text/plain": [
       "\n",
       "Comp215429 Comp547871 Comp599155 Comp679250 \n",
       "         1          3         45          8 "
      ]
     },
     "metadata": {},
     "output_type": "display_data"
    },
    {
     "data": {
      "text/plain": [
       "\n",
       "Comp547871 Comp599155 \n",
       "        18        170 "
      ]
     },
     "metadata": {},
     "output_type": "display_data"
    }
   ],
   "source": [
    "table(U1$SrcDevice)\n",
    "table(U2$Device)"
   ]
  },
  {
   "cell_type": "code",
   "execution_count": 27,
   "id": "cded2dbf",
   "metadata": {},
   "outputs": [],
   "source": [
    "U1Src <- as.vector(unique(U1$SrcDevice))\n",
    "U2Src<- as.vector(unique(U2$Device))\n",
    "\n",
    "CommDev <- U1Src[U1Src%in%U2Src]\n",
    "U1_investig <- U1[U1$SrcDevice%in%CommDev, ]\n",
    "U2_investig <- U2[U2$Device%in%CommDev, ]"
   ]
  },
  {
   "cell_type": "code",
   "execution_count": 28,
   "id": "1f39d8f3",
   "metadata": {},
   "outputs": [
    {
     "data": {
      "text/html": [
       "<table>\n",
       "<thead><tr><th></th><th scope=col>UserName</th><th scope=col>SrcDevice</th><th scope=col>DstDevice</th><th scope=col>AuthType</th><th scope=col>Failure</th><th scope=col>DailyCount</th></tr></thead>\n",
       "<tbody>\n",
       "\t<tr><th scope=row>2309303</th><td>User179746      </td><td>Comp599155      </td><td>None            </td><td>InteractiveLogon</td><td>0               </td><td>2               </td></tr>\n",
       "\t<tr><th scope=row>6027757</th><td>User179746      </td><td>Comp599155      </td><td>None            </td><td>InteractiveLogon</td><td>0               </td><td>2               </td></tr>\n",
       "\t<tr><th scope=row>6889517</th><td>User179746      </td><td>Comp599155      </td><td>None            </td><td>InteractiveLogon</td><td>0               </td><td>2               </td></tr>\n",
       "\t<tr><th scope=row>9672243</th><td>User179746      </td><td>Comp547871      </td><td>ActiveDirectory </td><td>NetworkLogon    </td><td>1               </td><td>1               </td></tr>\n",
       "\t<tr><th scope=row>9866675</th><td>User179746      </td><td>Comp599155      </td><td>Comp936659      </td><td>NetworkLogon    </td><td>1               </td><td>6               </td></tr>\n",
       "\t<tr><th scope=row>9884093</th><td>User179746      </td><td>Comp599155      </td><td>Comp422203      </td><td>NetworkLogon    </td><td>1               </td><td>3               </td></tr>\n",
       "</tbody>\n",
       "</table>\n"
      ],
      "text/latex": [
       "\\begin{tabular}{r|llllll}\n",
       "  & UserName & SrcDevice & DstDevice & AuthType & Failure & DailyCount\\\\\n",
       "\\hline\n",
       "\t2309303 & User179746       & Comp599155       & None             & InteractiveLogon & 0                & 2               \\\\\n",
       "\t6027757 & User179746       & Comp599155       & None             & InteractiveLogon & 0                & 2               \\\\\n",
       "\t6889517 & User179746       & Comp599155       & None             & InteractiveLogon & 0                & 2               \\\\\n",
       "\t9672243 & User179746       & Comp547871       & ActiveDirectory  & NetworkLogon     & 1                & 1               \\\\\n",
       "\t9866675 & User179746       & Comp599155       & Comp936659       & NetworkLogon     & 1                & 6               \\\\\n",
       "\t9884093 & User179746       & Comp599155       & Comp422203       & NetworkLogon     & 1                & 3               \\\\\n",
       "\\end{tabular}\n"
      ],
      "text/markdown": [
       "\n",
       "| <!--/--> | UserName | SrcDevice | DstDevice | AuthType | Failure | DailyCount |\n",
       "|---|---|---|---|---|---|---|\n",
       "| 2309303 | User179746       | Comp599155       | None             | InteractiveLogon | 0                | 2                |\n",
       "| 6027757 | User179746       | Comp599155       | None             | InteractiveLogon | 0                | 2                |\n",
       "| 6889517 | User179746       | Comp599155       | None             | InteractiveLogon | 0                | 2                |\n",
       "| 9672243 | User179746       | Comp547871       | ActiveDirectory  | NetworkLogon     | 1                | 1                |\n",
       "| 9866675 | User179746       | Comp599155       | Comp936659       | NetworkLogon     | 1                | 6                |\n",
       "| 9884093 | User179746       | Comp599155       | Comp422203       | NetworkLogon     | 1                | 3                |\n",
       "\n"
      ],
      "text/plain": [
       "        UserName   SrcDevice  DstDevice       AuthType         Failure\n",
       "2309303 User179746 Comp599155 None            InteractiveLogon 0      \n",
       "6027757 User179746 Comp599155 None            InteractiveLogon 0      \n",
       "6889517 User179746 Comp599155 None            InteractiveLogon 0      \n",
       "9672243 User179746 Comp547871 ActiveDirectory NetworkLogon     1      \n",
       "9866675 User179746 Comp599155 Comp936659      NetworkLogon     1      \n",
       "9884093 User179746 Comp599155 Comp422203      NetworkLogon     1      \n",
       "        DailyCount\n",
       "2309303 2         \n",
       "6027757 2         \n",
       "6889517 2         \n",
       "9672243 1         \n",
       "9866675 6         \n",
       "9884093 3         "
      ]
     },
     "metadata": {},
     "output_type": "display_data"
    },
    {
     "data": {
      "text/html": [
       "<ol class=list-inline>\n",
       "\t<li>48</li>\n",
       "\t<li>6</li>\n",
       "</ol>\n"
      ],
      "text/latex": [
       "\\begin{enumerate*}\n",
       "\\item 48\n",
       "\\item 6\n",
       "\\end{enumerate*}\n"
      ],
      "text/markdown": [
       "1. 48\n",
       "2. 6\n",
       "\n",
       "\n"
      ],
      "text/plain": [
       "[1] 48  6"
      ]
     },
     "metadata": {},
     "output_type": "display_data"
    },
    {
     "data": {
      "text/html": [
       "<table>\n",
       "<thead><tr><th></th><th scope=col>UserName</th><th scope=col>Device</th><th scope=col>ProcessName</th><th scope=col>ParentProcessName</th><th scope=col>DailyCount</th></tr></thead>\n",
       "<tbody>\n",
       "\t<tr><th scope=row>3642629</th><td>User179746    </td><td>Comp599155    </td><td>Proc706548.exe</td><td>Proc444602    </td><td>2             </td></tr>\n",
       "\t<tr><th scope=row>3709166</th><td>User179746    </td><td>Comp599155    </td><td>Proc604969.exe</td><td>Proc444602    </td><td>1             </td></tr>\n",
       "\t<tr><th scope=row>3841198</th><td>User179746    </td><td>Comp599155    </td><td>Proc412499.exe</td><td>Proc444602    </td><td>2             </td></tr>\n",
       "\t<tr><th scope=row>3852765</th><td>User179746    </td><td>Comp599155    </td><td>Proc407594.exe</td><td>Proc412499    </td><td>2             </td></tr>\n",
       "\t<tr><th scope=row>7683119</th><td>User179746    </td><td>Comp599155    </td><td>Proc447231.exe</td><td>Proc442764    </td><td>1             </td></tr>\n",
       "\t<tr><th scope=row>7742208</th><td>User179746    </td><td>Comp599155    </td><td>Proc690950.exe</td><td>Proc089893    </td><td>1             </td></tr>\n",
       "</tbody>\n",
       "</table>\n"
      ],
      "text/latex": [
       "\\begin{tabular}{r|lllll}\n",
       "  & UserName & Device & ProcessName & ParentProcessName & DailyCount\\\\\n",
       "\\hline\n",
       "\t3642629 & User179746     & Comp599155     & Proc706548.exe & Proc444602     & 2             \\\\\n",
       "\t3709166 & User179746     & Comp599155     & Proc604969.exe & Proc444602     & 1             \\\\\n",
       "\t3841198 & User179746     & Comp599155     & Proc412499.exe & Proc444602     & 2             \\\\\n",
       "\t3852765 & User179746     & Comp599155     & Proc407594.exe & Proc412499     & 2             \\\\\n",
       "\t7683119 & User179746     & Comp599155     & Proc447231.exe & Proc442764     & 1             \\\\\n",
       "\t7742208 & User179746     & Comp599155     & Proc690950.exe & Proc089893     & 1             \\\\\n",
       "\\end{tabular}\n"
      ],
      "text/markdown": [
       "\n",
       "| <!--/--> | UserName | Device | ProcessName | ParentProcessName | DailyCount |\n",
       "|---|---|---|---|---|---|\n",
       "| 3642629 | User179746     | Comp599155     | Proc706548.exe | Proc444602     | 2              |\n",
       "| 3709166 | User179746     | Comp599155     | Proc604969.exe | Proc444602     | 1              |\n",
       "| 3841198 | User179746     | Comp599155     | Proc412499.exe | Proc444602     | 2              |\n",
       "| 3852765 | User179746     | Comp599155     | Proc407594.exe | Proc412499     | 2              |\n",
       "| 7683119 | User179746     | Comp599155     | Proc447231.exe | Proc442764     | 1              |\n",
       "| 7742208 | User179746     | Comp599155     | Proc690950.exe | Proc089893     | 1              |\n",
       "\n"
      ],
      "text/plain": [
       "        UserName   Device     ProcessName    ParentProcessName DailyCount\n",
       "3642629 User179746 Comp599155 Proc706548.exe Proc444602        2         \n",
       "3709166 User179746 Comp599155 Proc604969.exe Proc444602        1         \n",
       "3841198 User179746 Comp599155 Proc412499.exe Proc444602        2         \n",
       "3852765 User179746 Comp599155 Proc407594.exe Proc412499        2         \n",
       "7683119 User179746 Comp599155 Proc447231.exe Proc442764        1         \n",
       "7742208 User179746 Comp599155 Proc690950.exe Proc089893        1         "
      ]
     },
     "metadata": {},
     "output_type": "display_data"
    },
    {
     "data": {
      "text/html": [
       "<ol class=list-inline>\n",
       "\t<li>188</li>\n",
       "\t<li>5</li>\n",
       "</ol>\n"
      ],
      "text/latex": [
       "\\begin{enumerate*}\n",
       "\\item 188\n",
       "\\item 5\n",
       "\\end{enumerate*}\n"
      ],
      "text/markdown": [
       "1. 188\n",
       "2. 5\n",
       "\n",
       "\n"
      ],
      "text/plain": [
       "[1] 188   5"
      ]
     },
     "metadata": {},
     "output_type": "display_data"
    }
   ],
   "source": [
    "head(U1_investig)\n",
    "dim(U1_investig)\n",
    "head(U2_investig)\n",
    "dim(U2_investig)"
   ]
  },
  {
   "cell_type": "code",
   "execution_count": 34,
   "id": "69a10c3c",
   "metadata": {},
   "outputs": [
    {
     "data": {
      "text/html": [
       "<ol class=list-inline>\n",
       "\t<li>0</li>\n",
       "\t<li>6</li>\n",
       "</ol>\n"
      ],
      "text/latex": [
       "\\begin{enumerate*}\n",
       "\\item 0\n",
       "\\item 6\n",
       "\\end{enumerate*}\n"
      ],
      "text/markdown": [
       "1. 0\n",
       "2. 6\n",
       "\n",
       "\n"
      ],
      "text/plain": [
       "[1] 0 6"
      ]
     },
     "metadata": {},
     "output_type": "display_data"
    },
    {
     "data": {
      "text/html": [
       "<ol class=list-inline>\n",
       "\t<li>1321285</li>\n",
       "\t<li>6</li>\n",
       "</ol>\n"
      ],
      "text/latex": [
       "\\begin{enumerate*}\n",
       "\\item 1321285\n",
       "\\item 6\n",
       "\\end{enumerate*}\n"
      ],
      "text/markdown": [
       "1. 1321285\n",
       "2. 6\n",
       "\n",
       "\n"
      ],
      "text/plain": [
       "[1] 1321285       6"
      ]
     },
     "metadata": {},
     "output_type": "display_data"
    },
    {
     "data": {
      "text/html": [
       "<ol class=list-inline>\n",
       "\t<li>18383</li>\n",
       "\t<li>6</li>\n",
       "</ol>\n"
      ],
      "text/latex": [
       "\\begin{enumerate*}\n",
       "\\item 18383\n",
       "\\item 6\n",
       "\\end{enumerate*}\n"
      ],
      "text/markdown": [
       "1. 18383\n",
       "2. 6\n",
       "\n",
       "\n"
      ],
      "text/plain": [
       "[1] 18383     6"
      ]
     },
     "metadata": {},
     "output_type": "display_data"
    }
   ],
   "source": [
    "dim(Auth[Auth$AuthType=='InteractiveLogon' & Auth$DstDevice!='None', ]) ## So InteractiveLogon=='None' DstDevice\n",
    "dim(Auth[Auth$AuthType!='InteractiveLogon' & Auth$DstDevice=='None', ])\n",
    "\n",
    "dim(Auth[Auth$AuthType!='InteractiveLogon' & Auth$DstDevice=='None' & Auth$UserName%in%AU,])"
   ]
  },
  {
   "cell_type": "code",
   "execution_count": 31,
   "id": "c6e31673",
   "metadata": {},
   "outputs": [
    {
     "data": {
      "text/html": [
       "<ol class=list-inline>\n",
       "\t<li>31382</li>\n",
       "\t<li>6</li>\n",
       "</ol>\n"
      ],
      "text/latex": [
       "\\begin{enumerate*}\n",
       "\\item 31382\n",
       "\\item 6\n",
       "\\end{enumerate*}\n"
      ],
      "text/markdown": [
       "1. 31382\n",
       "2. 6\n",
       "\n",
       "\n"
      ],
      "text/plain": [
       "[1] 31382     6"
      ]
     },
     "metadata": {},
     "output_type": "display_data"
    },
    {
     "data": {
      "text/html": [
       "<ol class=list-inline>\n",
       "\t<li>1064</li>\n",
       "\t<li>6</li>\n",
       "</ol>\n"
      ],
      "text/latex": [
       "\\begin{enumerate*}\n",
       "\\item 1064\n",
       "\\item 6\n",
       "\\end{enumerate*}\n"
      ],
      "text/markdown": [
       "1. 1064\n",
       "2. 6\n",
       "\n",
       "\n"
      ],
      "text/plain": [
       "[1] 1064    6"
      ]
     },
     "metadata": {},
     "output_type": "display_data"
    }
   ],
   "source": [
    "dim(Auth[Auth$AuthType=='InteractiveLogon' & Auth$Failure==1, ])\n",
    "dim(Auth[Auth$AuthType=='InteractiveLogon' & Auth$Failure==1 & Auth$UserName%in%AU, ]) ## Some local logons are from the Mal list but most are not "
   ]
  },
  {
   "cell_type": "code",
   "execution_count": null,
   "id": "ed66afd8",
   "metadata": {},
   "outputs": [],
   "source": []
  }
 ],
 "metadata": {
  "kernelspec": {
   "display_name": "R",
   "language": "R",
   "name": "ir"
  },
  "language_info": {
   "codemirror_mode": "r",
   "file_extension": ".r",
   "mimetype": "text/x-r-source",
   "name": "R",
   "pygments_lexer": "r",
   "version": "3.6.1"
  }
 },
 "nbformat": 4,
 "nbformat_minor": 5
}
