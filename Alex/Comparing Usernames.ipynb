{
 "cells": [
  {
   "cell_type": "code",
   "execution_count": 1,
   "id": "fb42122c",
   "metadata": {},
   "outputs": [],
   "source": [
    "setwd(\"D://LA//ATI Data\")"
   ]
  },
  {
   "cell_type": "code",
   "execution_count": 5,
   "id": "3d242f9d",
   "metadata": {},
   "outputs": [],
   "source": [
    "AU <- read.table(file=\"AuthUserNames.txt\", header=F)\n",
    "PU <- read.table(file=\"ProcessUserNames.txt\", header=F)"
   ]
  },
  {
   "cell_type": "code",
   "execution_count": 6,
   "id": "7cb9a8d7",
   "metadata": {},
   "outputs": [
    {
     "data": {
      "text/html": [
       "<ol class=list-inline>\n",
       "\t<li>'User024511'</li>\n",
       "\t<li>'User063197'</li>\n",
       "\t<li>'User203147'</li>\n",
       "\t<li>'User365588'</li>\n",
       "\t<li>'User409683'</li>\n",
       "\t<li>'User538831'</li>\n",
       "</ol>\n"
      ],
      "text/latex": [
       "\\begin{enumerate*}\n",
       "\\item 'User024511'\n",
       "\\item 'User063197'\n",
       "\\item 'User203147'\n",
       "\\item 'User365588'\n",
       "\\item 'User409683'\n",
       "\\item 'User538831'\n",
       "\\end{enumerate*}\n"
      ],
      "text/markdown": [
       "1. 'User024511'\n",
       "2. 'User063197'\n",
       "3. 'User203147'\n",
       "4. 'User365588'\n",
       "5. 'User409683'\n",
       "6. 'User538831'\n",
       "\n",
       "\n"
      ],
      "text/plain": [
       "[1] \"User024511\" \"User063197\" \"User203147\" \"User365588\" \"User409683\"\n",
       "[6] \"User538831\""
      ]
     },
     "metadata": {},
     "output_type": "display_data"
    },
    {
     "data": {
      "text/html": [
       "99"
      ],
      "text/latex": [
       "99"
      ],
      "text/markdown": [
       "99"
      ],
      "text/plain": [
       "[1] 99"
      ]
     },
     "metadata": {},
     "output_type": "display_data"
    },
    {
     "data": {
      "text/html": [
       "<ol class=list-inline>\n",
       "\t<li>'User179746'</li>\n",
       "\t<li>'Comp599155$'</li>\n",
       "\t<li>'User317732'</li>\n",
       "\t<li>'AppService'</li>\n",
       "\t<li>'Comp931233$'</li>\n",
       "\t<li>'User553613'</li>\n",
       "</ol>\n"
      ],
      "text/latex": [
       "\\begin{enumerate*}\n",
       "\\item 'User179746'\n",
       "\\item 'Comp599155\\$'\n",
       "\\item 'User317732'\n",
       "\\item 'AppService'\n",
       "\\item 'Comp931233\\$'\n",
       "\\item 'User553613'\n",
       "\\end{enumerate*}\n"
      ],
      "text/markdown": [
       "1. 'User179746'\n",
       "2. 'Comp599155$'\n",
       "3. 'User317732'\n",
       "4. 'AppService'\n",
       "5. 'Comp931233$'\n",
       "6. 'User553613'\n",
       "\n",
       "\n"
      ],
      "text/plain": [
       "[1] \"User179746\"  \"Comp599155$\" \"User317732\"  \"AppService\"  \"Comp931233$\"\n",
       "[6] \"User553613\" "
      ]
     },
     "metadata": {},
     "output_type": "display_data"
    },
    {
     "data": {
      "text/html": [
       "71"
      ],
      "text/latex": [
       "71"
      ],
      "text/markdown": [
       "71"
      ],
      "text/plain": [
       "[1] 71"
      ]
     },
     "metadata": {},
     "output_type": "display_data"
    }
   ],
   "source": [
    "AU <- as.vector(AU$V1)\n",
    "PU <- as.vector(PU$V1)\n",
    "\n",
    "head(AU)\n",
    "length(AU)\n",
    "head(PU)\n",
    "length(PU)"
   ]
  },
  {
   "cell_type": "code",
   "execution_count": 7,
   "id": "e9aaad0f",
   "metadata": {},
   "outputs": [
    {
     "data": {
      "text/html": [
       "95"
      ],
      "text/latex": [
       "95"
      ],
      "text/markdown": [
       "95"
      ],
      "text/plain": [
       "[1] 95"
      ]
     },
     "metadata": {},
     "output_type": "display_data"
    },
    {
     "data": {
      "text/html": [
       "66"
      ],
      "text/latex": [
       "66"
      ],
      "text/markdown": [
       "66"
      ],
      "text/plain": [
       "[1] 66"
      ]
     },
     "metadata": {},
     "output_type": "display_data"
    }
   ],
   "source": [
    "AU <- unique(AU)\n",
    "PU <- unique(PU)\n",
    "\n",
    "length(AU)\n",
    "length(PU)"
   ]
  },
  {
   "cell_type": "code",
   "execution_count": 17,
   "id": "f28116d8",
   "metadata": {},
   "outputs": [
    {
     "data": {
      "text/html": [
       "'There are 87 usernames present in Auth that do not feature in Proc'"
      ],
      "text/latex": [
       "'There are 87 usernames present in Auth that do not feature in Proc'"
      ],
      "text/markdown": [
       "'There are 87 usernames present in Auth that do not feature in Proc'"
      ],
      "text/plain": [
       "[1] \"There are 87 usernames present in Auth that do not feature in Proc\""
      ]
     },
     "metadata": {},
     "output_type": "display_data"
    },
    {
     "name": "stdout",
     "output_type": "stream",
     "text": [
      "\n",
      "Such as:\n",
      "[1] \"User024511\" \"User063197\" \"User365588\" \"User409683\" \"User538831\"\n",
      "[6] \"User768610\"\n"
     ]
    },
    {
     "data": {
      "text/html": [
       "'There are 58 usernames present in Proc that do not feature in Auth'"
      ],
      "text/latex": [
       "'There are 58 usernames present in Proc that do not feature in Auth'"
      ],
      "text/markdown": [
       "'There are 58 usernames present in Proc that do not feature in Auth'"
      ],
      "text/plain": [
       "[1] \"There are 58 usernames present in Proc that do not feature in Auth\""
      ]
     },
     "metadata": {},
     "output_type": "display_data"
    },
    {
     "name": "stdout",
     "output_type": "stream",
     "text": [
      "\n",
      "Such as:\n",
      "[1] \"Comp599155$\" \"Comp931233$\" \"User553613\"  \"Comp513140$\" \"Comp591296$\"\n",
      "[6] \"Comp123959$\"\n"
     ]
    }
   ],
   "source": [
    "OnlyAuth <- AU[AU%in%PU==FALSE]\n",
    "paste(\"There are\", length(OnlyAuth), \"usernames present in Auth that do not feature in Proc\")\n",
    "cat(\"\\nSuch as:\\n\")\n",
    "print(head(OnlyAuth))\n",
    "\n",
    "OnlyProc <- PU[PU%in%AU==FALSE]\n",
    "paste(\"There are\", length(OnlyProc), \"usernames present in Proc that do not feature in Auth\")\n",
    "cat(\"\\nSuch as:\\n\")\n",
    "print(head(OnlyProc))"
   ]
  }
 ],
 "metadata": {
  "kernelspec": {
   "display_name": "R",
   "language": "R",
   "name": "ir"
  },
  "language_info": {
   "codemirror_mode": "r",
   "file_extension": ".r",
   "mimetype": "text/x-r-source",
   "name": "R",
   "pygments_lexer": "r",
   "version": "3.6.1"
  }
 },
 "nbformat": 4,
 "nbformat_minor": 5
}
