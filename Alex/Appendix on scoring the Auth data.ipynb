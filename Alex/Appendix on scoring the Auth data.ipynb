{
 "cells": [
  {
   "cell_type": "markdown",
   "id": "ecb3b170",
   "metadata": {},
   "source": [
    "#### Fixing the vector issue\n",
    "\n",
    "Upon reading the Scores obtained from the [Decision tree implementation](https://github.com/Galeforse/Advanced-Cyber-Analytics-for-Attack-Detection/blob/main/Alex/Decision%20Tree%20Implementation.ipynb) used for improving models' understanding of how to distinguish between red_team anomalies and general traffic anomalies, I discovered that the initial uploaded vector of scores only contained data from Days 57 through Day 83. This small appendix is aimed at fixing that issue.\n",
    "\n",
    "I read the data locally."
   ]
  },
  {
   "cell_type": "code",
   "execution_count": 2,
   "id": "30209f72",
   "metadata": {},
   "outputs": [],
   "source": [
    "# setwd(\"D://LA//ATI Data//Summaries//Just_Auth\")\n",
    "df<- read.table(file=\"LA.txt\", header=T, sep=\",\")\n",
    "Score <- read.table(file=\"AuthScores.txt\", header=T)"
   ]
  },
  {
   "cell_type": "markdown",
   "id": "99e4abc2",
   "metadata": {},
   "source": [
    "Remove the unnecessary column."
   ]
  },
  {
   "cell_type": "code",
   "execution_count": null,
   "id": "83f83214",
   "metadata": {},
   "outputs": [],
   "source": [
    "df<- df[, -1]"
   ]
  },
  {
   "cell_type": "markdown",
   "id": "5a53bd12",
   "metadata": {},
   "source": [
    "Evaluate the current dimensions."
   ]
  },
  {
   "cell_type": "code",
   "execution_count": 8,
   "id": "209f6e08",
   "metadata": {},
   "outputs": [
    {
     "data": {
      "text/html": [
       "<table>\n",
       "<thead><tr><th scope=col>c</th></tr></thead>\n",
       "<tbody>\n",
       "\t<tr><td>0</td></tr>\n",
       "\t<tr><td>0</td></tr>\n",
       "\t<tr><td>0</td></tr>\n",
       "\t<tr><td>0</td></tr>\n",
       "\t<tr><td>0</td></tr>\n",
       "\t<tr><td>0</td></tr>\n",
       "</tbody>\n",
       "</table>\n"
      ],
      "text/latex": [
       "\\begin{tabular}{r|l}\n",
       " c\\\\\n",
       "\\hline\n",
       "\t 0\\\\\n",
       "\t 0\\\\\n",
       "\t 0\\\\\n",
       "\t 0\\\\\n",
       "\t 0\\\\\n",
       "\t 0\\\\\n",
       "\\end{tabular}\n"
      ],
      "text/markdown": [
       "\n",
       "| c |\n",
       "|---|\n",
       "| 0 |\n",
       "| 0 |\n",
       "| 0 |\n",
       "| 0 |\n",
       "| 0 |\n",
       "| 0 |\n",
       "\n"
      ],
      "text/plain": [
       "  c\n",
       "1 0\n",
       "2 0\n",
       "3 0\n",
       "4 0\n",
       "5 0\n",
       "6 0"
      ]
     },
     "metadata": {},
     "output_type": "display_data"
    },
    {
     "data": {
      "text/html": [
       "<table>\n",
       "<thead><tr><th scope=col>UserName</th><th scope=col>SrcDevice</th><th scope=col>DstDevice</th><th scope=col>AuthType</th><th scope=col>Failure</th><th scope=col>DailyCount</th></tr></thead>\n",
       "<tbody>\n",
       "\t<tr><td>User035855         </td><td>Comp808475         </td><td>Comp081330         </td><td>TGS                </td><td>0                  </td><td> 17                </td></tr>\n",
       "\t<tr><td>Comp655251$        </td><td>Comp655251         </td><td>ActiveDirectory    </td><td>NetworkLogon       </td><td>0                  </td><td>350                </td></tr>\n",
       "\t<tr><td>User762066         </td><td>Comp306129         </td><td>ActiveDirectory    </td><td>TGS                </td><td>0                  </td><td> 22                </td></tr>\n",
       "\t<tr><td>User384215         </td><td>Comp095190         </td><td>EnterpriseAppServer</td><td>NetworkLogon       </td><td>0                  </td><td> 35                </td></tr>\n",
       "\t<tr><td>User043263         </td><td>Comp883307         </td><td>Comp384394         </td><td>TGS                </td><td>0                  </td><td>  2                </td></tr>\n",
       "\t<tr><td>User631552         </td><td>Comp621781         </td><td>Comp915658         </td><td>NetworkLogon       </td><td>0                  </td><td>  1                </td></tr>\n",
       "</tbody>\n",
       "</table>\n"
      ],
      "text/latex": [
       "\\begin{tabular}{r|llllll}\n",
       " UserName & SrcDevice & DstDevice & AuthType & Failure & DailyCount\\\\\n",
       "\\hline\n",
       "\t User035855          & Comp808475          & Comp081330          & TGS                 & 0                   &  17                \\\\\n",
       "\t Comp655251\\$       & Comp655251          & ActiveDirectory     & NetworkLogon        & 0                   & 350                \\\\\n",
       "\t User762066          & Comp306129          & ActiveDirectory     & TGS                 & 0                   &  22                \\\\\n",
       "\t User384215          & Comp095190          & EnterpriseAppServer & NetworkLogon        & 0                   &  35                \\\\\n",
       "\t User043263          & Comp883307          & Comp384394          & TGS                 & 0                   &   2                \\\\\n",
       "\t User631552          & Comp621781          & Comp915658          & NetworkLogon        & 0                   &   1                \\\\\n",
       "\\end{tabular}\n"
      ],
      "text/markdown": [
       "\n",
       "| UserName | SrcDevice | DstDevice | AuthType | Failure | DailyCount |\n",
       "|---|---|---|---|---|---|\n",
       "| User035855          | Comp808475          | Comp081330          | TGS                 | 0                   |  17                 |\n",
       "| Comp655251$         | Comp655251          | ActiveDirectory     | NetworkLogon        | 0                   | 350                 |\n",
       "| User762066          | Comp306129          | ActiveDirectory     | TGS                 | 0                   |  22                 |\n",
       "| User384215          | Comp095190          | EnterpriseAppServer | NetworkLogon        | 0                   |  35                 |\n",
       "| User043263          | Comp883307          | Comp384394          | TGS                 | 0                   |   2                 |\n",
       "| User631552          | Comp621781          | Comp915658          | NetworkLogon        | 0                   |   1                 |\n",
       "\n"
      ],
      "text/plain": [
       "  UserName    SrcDevice  DstDevice           AuthType     Failure DailyCount\n",
       "1 User035855  Comp808475 Comp081330          TGS          0        17       \n",
       "2 Comp655251$ Comp655251 ActiveDirectory     NetworkLogon 0       350       \n",
       "3 User762066  Comp306129 ActiveDirectory     TGS          0        22       \n",
       "4 User384215  Comp095190 EnterpriseAppServer NetworkLogon 0        35       \n",
       "5 User043263  Comp883307 Comp384394          TGS          0         2       \n",
       "6 User631552  Comp621781 Comp915658          NetworkLogon 0         1       "
      ]
     },
     "metadata": {},
     "output_type": "display_data"
    },
    {
     "name": "stdout",
     "output_type": "stream",
     "text": [
      "\n"
     ]
    },
    {
     "data": {
      "text/html": [
       "<ol class=list-inline>\n",
       "\t<li>4786105</li>\n",
       "\t<li>1</li>\n",
       "</ol>\n"
      ],
      "text/latex": [
       "\\begin{enumerate*}\n",
       "\\item 4786105\n",
       "\\item 1\n",
       "\\end{enumerate*}\n"
      ],
      "text/markdown": [
       "1. 4786105\n",
       "2. 1\n",
       "\n",
       "\n"
      ],
      "text/plain": [
       "[1] 4786105       1"
      ]
     },
     "metadata": {},
     "output_type": "display_data"
    },
    {
     "data": {
      "text/html": [
       "<ol class=list-inline>\n",
       "\t<li>15953681</li>\n",
       "\t<li>6</li>\n",
       "</ol>\n"
      ],
      "text/latex": [
       "\\begin{enumerate*}\n",
       "\\item 15953681\n",
       "\\item 6\n",
       "\\end{enumerate*}\n"
      ],
      "text/markdown": [
       "1. 15953681\n",
       "2. 6\n",
       "\n",
       "\n"
      ],
      "text/plain": [
       "[1] 15953681        6"
      ]
     },
     "metadata": {},
     "output_type": "display_data"
    }
   ],
   "source": [
    "head(Score)\n",
    "head(df)\n",
    "cat(\"\\n\")\n",
    "dim(Score)\n",
    "dim(df)"
   ]
  },
  {
   "cell_type": "markdown",
   "id": "49e504d7",
   "metadata": {},
   "source": [
    "The number of rows do not match, since the Scores don't contain the normal traffic days. The quick fix consists of adding the 'zero' scores at the start, as well as at the end of the current 'Scores' vector respectively."
   ]
  },
  {
   "cell_type": "code",
   "execution_count": 10,
   "id": "23292868",
   "metadata": {},
   "outputs": [],
   "source": [
    "N1<- nrow(df)*56/90\n",
    "Auth1 <- df[as.numeric(rownames(df))<=N1, ]\n",
    "N3 <- nrow(df)*83/90\n",
    "Auth3 <- df[as.numeric(rownames(df))>=N3, ]\n",
    "\n",
    "c1 <- as.data.frame(rep(0, times=nrow(Auth1)))\n",
    "c2<- as.data.frame(rep(0, times=nrow(Auth3)))\n",
    "colnames(c1) <- c(\"c\") \n",
    "colnames(c2) <- c(\"c\")\n",
    "\n",
    "Score <- rbind(c1, Score)\n",
    "Score<- rbind(Score, c2)"
   ]
  },
  {
   "cell_type": "markdown",
   "id": "178d9250",
   "metadata": {},
   "source": [
    "The issue should now be resolved."
   ]
  },
  {
   "cell_type": "code",
   "execution_count": 11,
   "id": "06c4aa3b",
   "metadata": {},
   "outputs": [
    {
     "data": {
      "text/html": [
       "TRUE"
      ],
      "text/latex": [
       "TRUE"
      ],
      "text/markdown": [
       "TRUE"
      ],
      "text/plain": [
       "[1] TRUE"
      ]
     },
     "metadata": {},
     "output_type": "display_data"
    }
   ],
   "source": [
    "identical(nrow(Score), nrow(df))   ## Should be TRUE"
   ]
  },
  {
   "cell_type": "markdown",
   "id": "2db8bfa0",
   "metadata": {},
   "source": [
    "This is what the new dataset looks like:"
   ]
  },
  {
   "cell_type": "code",
   "execution_count": 16,
   "id": "2d164f5c",
   "metadata": {},
   "outputs": [
    {
     "data": {
      "text/html": [
       "<table>\n",
       "<thead><tr><th scope=col>UserName</th><th scope=col>SrcDevice</th><th scope=col>DstDevice</th><th scope=col>AuthType</th><th scope=col>Failure</th><th scope=col>DailyCount</th><th scope=col>c</th></tr></thead>\n",
       "<tbody>\n",
       "\t<tr><td>User035855         </td><td>Comp808475         </td><td>Comp081330         </td><td>TGS                </td><td>0                  </td><td> 17                </td><td>0                  </td></tr>\n",
       "\t<tr><td>Comp655251$        </td><td>Comp655251         </td><td>ActiveDirectory    </td><td>NetworkLogon       </td><td>0                  </td><td>350                </td><td>0                  </td></tr>\n",
       "\t<tr><td>User762066         </td><td>Comp306129         </td><td>ActiveDirectory    </td><td>TGS                </td><td>0                  </td><td> 22                </td><td>0                  </td></tr>\n",
       "\t<tr><td>User384215         </td><td>Comp095190         </td><td>EnterpriseAppServer</td><td>NetworkLogon       </td><td>0                  </td><td> 35                </td><td>0                  </td></tr>\n",
       "\t<tr><td>User043263         </td><td>Comp883307         </td><td>Comp384394         </td><td>TGS                </td><td>0                  </td><td>  2                </td><td>0                  </td></tr>\n",
       "\t<tr><td>User631552         </td><td>Comp621781         </td><td>Comp915658         </td><td>NetworkLogon       </td><td>0                  </td><td>  1                </td><td>0                  </td></tr>\n",
       "</tbody>\n",
       "</table>\n"
      ],
      "text/latex": [
       "\\begin{tabular}{r|lllllll}\n",
       " UserName & SrcDevice & DstDevice & AuthType & Failure & DailyCount & c\\\\\n",
       "\\hline\n",
       "\t User035855          & Comp808475          & Comp081330          & TGS                 & 0                   &  17                 & 0                  \\\\\n",
       "\t Comp655251\\$       & Comp655251          & ActiveDirectory     & NetworkLogon        & 0                   & 350                 & 0                  \\\\\n",
       "\t User762066          & Comp306129          & ActiveDirectory     & TGS                 & 0                   &  22                 & 0                  \\\\\n",
       "\t User384215          & Comp095190          & EnterpriseAppServer & NetworkLogon        & 0                   &  35                 & 0                  \\\\\n",
       "\t User043263          & Comp883307          & Comp384394          & TGS                 & 0                   &   2                 & 0                  \\\\\n",
       "\t User631552          & Comp621781          & Comp915658          & NetworkLogon        & 0                   &   1                 & 0                  \\\\\n",
       "\\end{tabular}\n"
      ],
      "text/markdown": [
       "\n",
       "| UserName | SrcDevice | DstDevice | AuthType | Failure | DailyCount | c |\n",
       "|---|---|---|---|---|---|---|\n",
       "| User035855          | Comp808475          | Comp081330          | TGS                 | 0                   |  17                 | 0                   |\n",
       "| Comp655251$         | Comp655251          | ActiveDirectory     | NetworkLogon        | 0                   | 350                 | 0                   |\n",
       "| User762066          | Comp306129          | ActiveDirectory     | TGS                 | 0                   |  22                 | 0                   |\n",
       "| User384215          | Comp095190          | EnterpriseAppServer | NetworkLogon        | 0                   |  35                 | 0                   |\n",
       "| User043263          | Comp883307          | Comp384394          | TGS                 | 0                   |   2                 | 0                   |\n",
       "| User631552          | Comp621781          | Comp915658          | NetworkLogon        | 0                   |   1                 | 0                   |\n",
       "\n"
      ],
      "text/plain": [
       "  UserName    SrcDevice  DstDevice           AuthType     Failure DailyCount c\n",
       "1 User035855  Comp808475 Comp081330          TGS          0        17        0\n",
       "2 Comp655251$ Comp655251 ActiveDirectory     NetworkLogon 0       350        0\n",
       "3 User762066  Comp306129 ActiveDirectory     TGS          0        22        0\n",
       "4 User384215  Comp095190 EnterpriseAppServer NetworkLogon 0        35        0\n",
       "5 User043263  Comp883307 Comp384394          TGS          0         2        0\n",
       "6 User631552  Comp621781 Comp915658          NetworkLogon 0         1        0"
      ]
     },
     "metadata": {},
     "output_type": "display_data"
    }
   ],
   "source": [
    "df<- cbind(df, 'Score' = Score)\n",
    "head(df)"
   ]
  },
  {
   "cell_type": "markdown",
   "id": "8037d8db",
   "metadata": {},
   "source": [
    "Lastly, we save our results. DO NOT run the following line of code, there is no need. The [old upload is still available here](https://github.com/Galeforse/Advanced-Cyber-Analytics-for-Attack-Detection/blob/main/Data/AuthScores.txt)."
   ]
  },
  {
   "cell_type": "code",
   "execution_count": 17,
   "id": "89cc8f66",
   "metadata": {},
   "outputs": [],
   "source": [
    "# write.csv(x=Score, file=\"AuthScores.csv\")"
   ]
  },
  {
   "cell_type": "markdown",
   "id": "c36a978c",
   "metadata": {},
   "source": [
    "The resulting vector of scores can be [found here](). We chose to upload the vector only rather than the entire dataset for memory preservation."
   ]
  }
 ],
 "metadata": {
  "kernelspec": {
   "display_name": "R",
   "language": "R",
   "name": "ir"
  },
  "language_info": {
   "codemirror_mode": "r",
   "file_extension": ".r",
   "mimetype": "text/x-r-source",
   "name": "R",
   "pygments_lexer": "r",
   "version": "3.6.1"
  }
 },
 "nbformat": 4,
 "nbformat_minor": 5
}
