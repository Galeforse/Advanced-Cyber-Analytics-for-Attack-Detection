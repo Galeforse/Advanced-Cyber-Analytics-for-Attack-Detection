{
 "cells": [
  {
   "cell_type": "code",
   "execution_count": 1,
   "id": "2892353c",
   "metadata": {},
   "outputs": [
    {
     "name": "stderr",
     "output_type": "stream",
     "text": [
      "Warning message:\n",
      "\"package 'dplyr' was built under R version 3.6.3\"\n",
      "Attaching package: 'dplyr'\n",
      "\n",
      "The following objects are masked from 'package:stats':\n",
      "\n",
      "    filter, lag\n",
      "\n",
      "The following objects are masked from 'package:base':\n",
      "\n",
      "    intersect, setdiff, setequal, union\n",
      "\n",
      "Warning message:\n",
      "\"package 'RDFTensor' was built under R version 3.6.3\"Loading required package: Matrix\n",
      "Loading required package: pracma\n",
      "Warning message:\n",
      "\"package 'pracma' was built under R version 3.6.3\"\n",
      "Attaching package: 'pracma'\n",
      "\n",
      "The following objects are masked from 'package:Matrix':\n",
      "\n",
      "    expm, lu, tril, triu\n",
      "\n",
      "Loading required package: doParallel\n",
      "Warning message:\n",
      "\"package 'doParallel' was built under R version 3.6.3\"Loading required package: foreach\n",
      "Loading required package: iterators\n",
      "Loading required package: parallel\n"
     ]
    }
   ],
   "source": [
    "# install.packages(c(\"RDFTensor\", \"dplyr\"))\n",
    "\n",
    "library(dplyr)\n",
    "library(RDFTensor)"
   ]
  },
  {
   "cell_type": "code",
   "execution_count": 2,
   "id": "a87ce659",
   "metadata": {},
   "outputs": [],
   "source": [
    "setwd(\"D://LA//ATI Data\")"
   ]
  },
  {
   "cell_type": "code",
   "execution_count": 3,
   "id": "2017609f",
   "metadata": {},
   "outputs": [],
   "source": [
    "Auth <- read.table(file=\"Summaries//Just_Auth//LA.txt\", header=T, sep=\",\")\n",
    "Auth <- Auth[, -1]"
   ]
  },
  {
   "cell_type": "code",
   "execution_count": 4,
   "id": "ca983660",
   "metadata": {},
   "outputs": [
    {
     "data": {
      "text/html": [
       "<table>\n",
       "<thead><tr><th scope=col>UserName</th><th scope=col>SrcDevice</th><th scope=col>DstDevice</th><th scope=col>AuthType</th><th scope=col>Failure</th><th scope=col>DailyCount</th></tr></thead>\n",
       "<tbody>\n",
       "\t<tr><td>User035855         </td><td>Comp808475         </td><td>Comp081330         </td><td>TGS                </td><td>0                  </td><td> 17                </td></tr>\n",
       "\t<tr><td>Comp655251$        </td><td>Comp655251         </td><td>ActiveDirectory    </td><td>NetworkLogon       </td><td>0                  </td><td>350                </td></tr>\n",
       "\t<tr><td>User762066         </td><td>Comp306129         </td><td>ActiveDirectory    </td><td>TGS                </td><td>0                  </td><td> 22                </td></tr>\n",
       "\t<tr><td>User384215         </td><td>Comp095190         </td><td>EnterpriseAppServer</td><td>NetworkLogon       </td><td>0                  </td><td> 35                </td></tr>\n",
       "\t<tr><td>User043263         </td><td>Comp883307         </td><td>Comp384394         </td><td>TGS                </td><td>0                  </td><td>  2                </td></tr>\n",
       "\t<tr><td>User631552         </td><td>Comp621781         </td><td>Comp915658         </td><td>NetworkLogon       </td><td>0                  </td><td>  1                </td></tr>\n",
       "</tbody>\n",
       "</table>\n"
      ],
      "text/latex": [
       "\\begin{tabular}{r|llllll}\n",
       " UserName & SrcDevice & DstDevice & AuthType & Failure & DailyCount\\\\\n",
       "\\hline\n",
       "\t User035855          & Comp808475          & Comp081330          & TGS                 & 0                   &  17                \\\\\n",
       "\t Comp655251\\$       & Comp655251          & ActiveDirectory     & NetworkLogon        & 0                   & 350                \\\\\n",
       "\t User762066          & Comp306129          & ActiveDirectory     & TGS                 & 0                   &  22                \\\\\n",
       "\t User384215          & Comp095190          & EnterpriseAppServer & NetworkLogon        & 0                   &  35                \\\\\n",
       "\t User043263          & Comp883307          & Comp384394          & TGS                 & 0                   &   2                \\\\\n",
       "\t User631552          & Comp621781          & Comp915658          & NetworkLogon        & 0                   &   1                \\\\\n",
       "\\end{tabular}\n"
      ],
      "text/markdown": [
       "\n",
       "| UserName | SrcDevice | DstDevice | AuthType | Failure | DailyCount |\n",
       "|---|---|---|---|---|---|\n",
       "| User035855          | Comp808475          | Comp081330          | TGS                 | 0                   |  17                 |\n",
       "| Comp655251$         | Comp655251          | ActiveDirectory     | NetworkLogon        | 0                   | 350                 |\n",
       "| User762066          | Comp306129          | ActiveDirectory     | TGS                 | 0                   |  22                 |\n",
       "| User384215          | Comp095190          | EnterpriseAppServer | NetworkLogon        | 0                   |  35                 |\n",
       "| User043263          | Comp883307          | Comp384394          | TGS                 | 0                   |   2                 |\n",
       "| User631552          | Comp621781          | Comp915658          | NetworkLogon        | 0                   |   1                 |\n",
       "\n"
      ],
      "text/plain": [
       "  UserName    SrcDevice  DstDevice           AuthType     Failure DailyCount\n",
       "1 User035855  Comp808475 Comp081330          TGS          0        17       \n",
       "2 Comp655251$ Comp655251 ActiveDirectory     NetworkLogon 0       350       \n",
       "3 User762066  Comp306129 ActiveDirectory     TGS          0        22       \n",
       "4 User384215  Comp095190 EnterpriseAppServer NetworkLogon 0        35       \n",
       "5 User043263  Comp883307 Comp384394          TGS          0         2       \n",
       "6 User631552  Comp621781 Comp915658          NetworkLogon 0         1       "
      ]
     },
     "metadata": {},
     "output_type": "display_data"
    },
    {
     "data": {
      "text/html": [
       "<ol class=list-inline>\n",
       "\t<li>15953681</li>\n",
       "\t<li>6</li>\n",
       "</ol>\n"
      ],
      "text/latex": [
       "\\begin{enumerate*}\n",
       "\\item 15953681\n",
       "\\item 6\n",
       "\\end{enumerate*}\n"
      ],
      "text/markdown": [
       "1. 15953681\n",
       "2. 6\n",
       "\n",
       "\n"
      ],
      "text/plain": [
       "[1] 15953681        6"
      ]
     },
     "metadata": {},
     "output_type": "display_data"
    },
    {
     "name": "stdout",
     "output_type": "stream",
     "text": [
      "'data.frame':\t15953681 obs. of  6 variables:\n",
      " $ UserName  : chr  \"User035855\" \"Comp655251$\" \"User762066\" \"User384215\" ...\n",
      " $ SrcDevice : chr  \"Comp808475\" \"Comp655251\" \"Comp306129\" \"Comp095190\" ...\n",
      " $ DstDevice : chr  \"Comp081330\" \"ActiveDirectory\" \"ActiveDirectory\" \"EnterpriseAppServer\" ...\n",
      " $ AuthType  : chr  \"TGS\" \"NetworkLogon\" \"TGS\" \"NetworkLogon\" ...\n",
      " $ Failure   : int  0 0 0 0 0 0 0 0 0 0 ...\n",
      " $ DailyCount: int  17 350 22 35 2 1 14 78 2 4 ...\n"
     ]
    }
   ],
   "source": [
    "head(Auth)\n",
    "dim(Auth)\n",
    "Auth %>% mutate(across(where(is.factor), as.character)) -> Auth\n",
    "\n",
    "str(Auth)"
   ]
  },
  {
   "cell_type": "markdown",
   "id": "0c387583",
   "metadata": {},
   "source": [
    "### Trying out something different"
   ]
  },
  {
   "cell_type": "code",
   "execution_count": 79,
   "id": "11f7b592",
   "metadata": {},
   "outputs": [
    {
     "data": {
      "text/html": [
       "<table>\n",
       "<thead><tr><th></th><th scope=col>UserName</th><th scope=col>SrcDevice</th><th scope=col>DstDevice</th><th scope=col>AuthType</th><th scope=col>Failure</th><th scope=col>DailyCount</th></tr></thead>\n",
       "<tbody>\n",
       "\t<tr><th scope=row>4519773</th><td>User667374     </td><td>Comp920140     </td><td>ActiveDirectory</td><td>TGT            </td><td>0              </td><td>  2            </td></tr>\n",
       "\t<tr><th scope=row>464434</th><td>Comp237460$    </td><td>Comp237460     </td><td>ActiveDirectory</td><td>NetworkLogon   </td><td>0              </td><td>349            </td></tr>\n",
       "\t<tr><th scope=row>10664363</th><td>User736129     </td><td>Comp107130     </td><td>Comp916004     </td><td>NetworkLogon   </td><td>0              </td><td> 10            </td></tr>\n",
       "\t<tr><th scope=row>14580771</th><td>Comp371416$    </td><td>Comp371416     </td><td>ActiveDirectory</td><td>NetworkLogon   </td><td>0              </td><td>335            </td></tr>\n",
       "\t<tr><th scope=row>1316767</th><td>User461881     </td><td>Comp981062     </td><td>Comp981062     </td><td>TGS            </td><td>0              </td><td>  8            </td></tr>\n",
       "\t<tr><th scope=row>15612147</th><td>User680793     </td><td>Comp738540     </td><td>ActiveDirectory</td><td>NetworkLogon   </td><td>0              </td><td>215            </td></tr>\n",
       "</tbody>\n",
       "</table>\n"
      ],
      "text/latex": [
       "\\begin{tabular}{r|llllll}\n",
       "  & UserName & SrcDevice & DstDevice & AuthType & Failure & DailyCount\\\\\n",
       "\\hline\n",
       "\t4519773 & User667374      & Comp920140      & ActiveDirectory & TGT             & 0               &   2            \\\\\n",
       "\t464434 & Comp237460\\$   & Comp237460      & ActiveDirectory & NetworkLogon    & 0               & 349            \\\\\n",
       "\t10664363 & User736129      & Comp107130      & Comp916004      & NetworkLogon    & 0               &  10            \\\\\n",
       "\t14580771 & Comp371416\\$   & Comp371416      & ActiveDirectory & NetworkLogon    & 0               & 335            \\\\\n",
       "\t1316767 & User461881      & Comp981062      & Comp981062      & TGS             & 0               &   8            \\\\\n",
       "\t15612147 & User680793      & Comp738540      & ActiveDirectory & NetworkLogon    & 0               & 215            \\\\\n",
       "\\end{tabular}\n"
      ],
      "text/markdown": [
       "\n",
       "| <!--/--> | UserName | SrcDevice | DstDevice | AuthType | Failure | DailyCount |\n",
       "|---|---|---|---|---|---|---|\n",
       "| 4519773 | User667374      | Comp920140      | ActiveDirectory | TGT             | 0               |   2             |\n",
       "| 464434 | Comp237460$     | Comp237460      | ActiveDirectory | NetworkLogon    | 0               | 349             |\n",
       "| 10664363 | User736129      | Comp107130      | Comp916004      | NetworkLogon    | 0               |  10             |\n",
       "| 14580771 | Comp371416$     | Comp371416      | ActiveDirectory | NetworkLogon    | 0               | 335             |\n",
       "| 1316767 | User461881      | Comp981062      | Comp981062      | TGS             | 0               |   8             |\n",
       "| 15612147 | User680793      | Comp738540      | ActiveDirectory | NetworkLogon    | 0               | 215             |\n",
       "\n"
      ],
      "text/plain": [
       "         UserName    SrcDevice  DstDevice       AuthType     Failure DailyCount\n",
       "4519773  User667374  Comp920140 ActiveDirectory TGT          0         2       \n",
       "464434   Comp237460$ Comp237460 ActiveDirectory NetworkLogon 0       349       \n",
       "10664363 User736129  Comp107130 Comp916004      NetworkLogon 0        10       \n",
       "14580771 Comp371416$ Comp371416 ActiveDirectory NetworkLogon 0       335       \n",
       "1316767  User461881  Comp981062 Comp981062      TGS          0         8       \n",
       "15612147 User680793  Comp738540 ActiveDirectory NetworkLogon 0       215       "
      ]
     },
     "metadata": {},
     "output_type": "display_data"
    },
    {
     "data": {
      "text/html": [
       "<ol class=list-inline>\n",
       "\t<li>1595</li>\n",
       "\t<li>6</li>\n",
       "</ol>\n"
      ],
      "text/latex": [
       "\\begin{enumerate*}\n",
       "\\item 1595\n",
       "\\item 6\n",
       "\\end{enumerate*}\n"
      ],
      "text/markdown": [
       "1. 1595\n",
       "2. 6\n",
       "\n",
       "\n"
      ],
      "text/plain": [
       "[1] 1595    6"
      ]
     },
     "metadata": {},
     "output_type": "display_data"
    }
   ],
   "source": [
    "train <- sample(1:nrow(Auth), size=nrow(Auth)*10^-4, replace=FALSE)\n",
    "U17<- Auth[train, ]\n",
    "\n",
    "head(U17)\n",
    "dim(U17)"
   ]
  },
  {
   "cell_type": "code",
   "execution_count": 80,
   "id": "54b42fe6",
   "metadata": {},
   "outputs": [
    {
     "data": {
      "text/html": [
       "<table>\n",
       "<thead><tr><th scope=col>t1</th><th scope=col>t2</th><th scope=col>t3</th><th scope=col>t4</th><th scope=col>t5</th><th scope=col>t6</th></tr></thead>\n",
       "<tbody>\n",
       "\t<tr><td>1134</td><td>1236</td><td>  1 </td><td>9   </td><td>1   </td><td>  2 </td></tr>\n",
       "\t<tr><td> 124</td><td> 320</td><td>  1 </td><td>4   </td><td>1   </td><td>176 </td></tr>\n",
       "\t<tr><td>1201</td><td> 156</td><td>240 </td><td>4   </td><td>1   </td><td> 10 </td></tr>\n",
       "\t<tr><td> 200</td><td> 507</td><td>  1 </td><td>4   </td><td>1   </td><td>171 </td></tr>\n",
       "\t<tr><td> 951</td><td>1326</td><td>253 </td><td>8   </td><td>1   </td><td>  8 </td></tr>\n",
       "\t<tr><td>1147</td><td> 981</td><td>  1 </td><td>4   </td><td>1   </td><td>126 </td></tr>\n",
       "</tbody>\n",
       "</table>\n"
      ],
      "text/latex": [
       "\\begin{tabular}{r|llllll}\n",
       " t1 & t2 & t3 & t4 & t5 & t6\\\\\n",
       "\\hline\n",
       "\t 1134 & 1236 &   1  & 9    & 1    &   2 \\\\\n",
       "\t  124 &  320 &   1  & 4    & 1    & 176 \\\\\n",
       "\t 1201 &  156 & 240  & 4    & 1    &  10 \\\\\n",
       "\t  200 &  507 &   1  & 4    & 1    & 171 \\\\\n",
       "\t  951 & 1326 & 253  & 8    & 1    &   8 \\\\\n",
       "\t 1147 &  981 &   1  & 4    & 1    & 126 \\\\\n",
       "\\end{tabular}\n"
      ],
      "text/markdown": [
       "\n",
       "| t1 | t2 | t3 | t4 | t5 | t6 |\n",
       "|---|---|---|---|---|---|\n",
       "| 1134 | 1236 |   1  | 9    | 1    |   2  |\n",
       "|  124 |  320 |   1  | 4    | 1    | 176  |\n",
       "| 1201 |  156 | 240  | 4    | 1    |  10  |\n",
       "|  200 |  507 |   1  | 4    | 1    | 171  |\n",
       "|  951 | 1326 | 253  | 8    | 1    |   8  |\n",
       "| 1147 |  981 |   1  | 4    | 1    | 126  |\n",
       "\n"
      ],
      "text/plain": [
       "  t1   t2   t3  t4 t5 t6 \n",
       "1 1134 1236   1 9  1    2\n",
       "2  124  320   1 4  1  176\n",
       "3 1201  156 240 4  1   10\n",
       "4  200  507   1 4  1  171\n",
       "5  951 1326 253 8  1    8\n",
       "6 1147  981   1 4  1  126"
      ]
     },
     "metadata": {},
     "output_type": "display_data"
    }
   ],
   "source": [
    "t1<- tapply(U17[,1], U17[,1])\n",
    "t2<- tapply(U17[,2], U17[,2])\n",
    "t3<- tapply(U17[,3], U17[,3])\n",
    "t4<- tapply(U17[,4], U17[,4])\n",
    "t5<- tapply(U17[,5], U17[,5])\n",
    "t6<- tapply(U17[,6], U17[,6])\n",
    "\n",
    "T<- as.data.frame(cbind(t1,t2,t3,t4,t5,t6))\n",
    "head(T)"
   ]
  },
  {
   "cell_type": "code",
   "execution_count": 86,
   "id": "29029477",
   "metadata": {},
   "outputs": [
    {
     "name": "stdout",
     "output_type": "stream",
     "text": [
      "[1] 1462 1355  260   11    2  230\n",
      "[1] 0\n",
      "[1] \"CP_PDNR (alternating Poisson regression using damped Newton)\"\n",
      "[1] \"  Precomputing sparse index sets...\"\n",
      "[1] \"done\"\n",
      "[1] \"   1. Ttl Inner Its: 6154, KKT viol = 1.00e+00, obj = -4.79137500e+05, nz: 2127, time:2.94\"\n",
      "[1] \"   2. Ttl Inner Its: 20738, KKT viol = 7.27e+03, obj = -1.65571339e+04, nz: 2969, time:10.19\"\n",
      "[1] \"   3. Ttl Inner Its: 3077, KKT viol = 2.19e+00, obj = -1.65571339e+04, nz: 2969, time:10.52\"\n",
      "[1] \"   4. Ttl Inner Its: 4788, KKT viol = 2.19e+00, obj = -1.64203685e+04, nz: 2997, time:11.52\"\n",
      "[1] \"   5. Ttl Inner Its: 3123, KKT viol = 1.93e-01, obj = -1.64201184e+04, nz: 2998, time:11.86\"\n",
      "[1] \"   6. Ttl Inner Its: 5992, KKT viol = 1.03e+00, obj = -1.64177610e+04, nz: 3010, time:13.27\"\n",
      "[1] \"   7. Ttl Inner Its: 3088, KKT viol = 1.49e+00, obj = -1.64103627e+04, nz: 3012, time:13.61\"\n",
      "[1] \"   8. Ttl Inner Its: 3077, KKT viol = 1.01e-02, obj = -1.64103627e+04, nz: 3012, time:13.94\"\n",
      "[1] \"   9. Ttl Inner Its: 7287, KKT viol = 2.03e-02, obj = -1.64103056e+04, nz: 3015, time:15.92\"\n",
      "[1] \"  10. Ttl Inner Its: 4884, KKT viol = 1.00e+00, obj = -1.64089188e+04, nz: 3016, time:16.88\"\n",
      "[1] \"  11. Ttl Inner Its: 3077, KKT viol = 9.80e-04, obj = -1.64089188e+04, nz: 3016, time:17.20\"\n",
      "[1] \"===========================================\"\n",
      "[1] \" Final log-likelihood = -1.640892e+04 \"\n",
      "[1] \" Final least squares fit = -3.481051e-05 \"\n",
      "[1] \" Final KKT violation = 9.8023977e-04\"\n",
      "[1] \" Total inner iterations = 65285\"\n",
      "[1] \" Total execution time = 17.20 secs\"\n"
     ]
    }
   ],
   "source": [
    "T<- as.matrix(T)\n",
    "X=list(subs=T, vals=rep(1, nrow(T)), size=c(length(unique(t1)), length(unique(t2)), length(unique(t3)), length(unique(t4)), length(unique(t5)), length(unique(t6))))\n",
    "\n",
    "print(c(length(unique(t1)), length(unique(t2)), length(unique(t3)), length(unique(t4)), length(unique(t5)), length(unique(t6))))\n",
    "\n",
    "P4<- cp_apr(X, 2, opts=list(alg='pdnr'))\n",
    "Pt4 <- as.data.frame(P4$M$u[1])\n",
    "pt4<- Pt4[order(Pt4[,1], decreasing=TRUE), ]"
   ]
  },
  {
   "cell_type": "code",
   "execution_count": 99,
   "id": "e4fab086",
   "metadata": {},
   "outputs": [
    {
     "data": {
      "text/html": [
       "<table>\n",
       "<thead><tr><th></th><th scope=col>X1</th><th scope=col>X2</th></tr></thead>\n",
       "<tbody>\n",
       "\t<tr><th scope=row>2</th><td>0.008894499</td><td>0.044554922</td></tr>\n",
       "\t<tr><th scope=row>1</th><td>0.005082823</td><td>0.001237594</td></tr>\n",
       "\t<tr><th scope=row>1141</th><td>0.002541419</td><td>0.000000000</td></tr>\n",
       "\t<tr><th scope=row>1186</th><td>0.002541284</td><td>0.000000000</td></tr>\n",
       "\t<tr><th scope=row>1015</th><td>0.002541281</td><td>0.000000000</td></tr>\n",
       "\t<tr><th scope=row>1400</th><td>0.002541281</td><td>0.000000000</td></tr>\n",
       "</tbody>\n",
       "</table>\n"
      ],
      "text/latex": [
       "\\begin{tabular}{r|ll}\n",
       "  & X1 & X2\\\\\n",
       "\\hline\n",
       "\t2 & 0.008894499 & 0.044554922\\\\\n",
       "\t1 & 0.005082823 & 0.001237594\\\\\n",
       "\t1141 & 0.002541419 & 0.000000000\\\\\n",
       "\t1186 & 0.002541284 & 0.000000000\\\\\n",
       "\t1015 & 0.002541281 & 0.000000000\\\\\n",
       "\t1400 & 0.002541281 & 0.000000000\\\\\n",
       "\\end{tabular}\n"
      ],
      "text/markdown": [
       "\n",
       "| <!--/--> | X1 | X2 |\n",
       "|---|---|---|\n",
       "| 2 | 0.008894499 | 0.044554922 |\n",
       "| 1 | 0.005082823 | 0.001237594 |\n",
       "| 1141 | 0.002541419 | 0.000000000 |\n",
       "| 1186 | 0.002541284 | 0.000000000 |\n",
       "| 1015 | 0.002541281 | 0.000000000 |\n",
       "| 1400 | 0.002541281 | 0.000000000 |\n",
       "\n"
      ],
      "text/plain": [
       "     X1          X2         \n",
       "2    0.008894499 0.044554922\n",
       "1    0.005082823 0.001237594\n",
       "1141 0.002541419 0.000000000\n",
       "1186 0.002541284 0.000000000\n",
       "1015 0.002541281 0.000000000\n",
       "1400 0.002541281 0.000000000"
      ]
     },
     "metadata": {},
     "output_type": "display_data"
    },
    {
     "data": {
      "text/html": [
       "<ol class=list-inline>\n",
       "\t<li>33</li>\n",
       "\t<li>2</li>\n",
       "</ol>\n"
      ],
      "text/latex": [
       "\\begin{enumerate*}\n",
       "\\item 33\n",
       "\\item 2\n",
       "\\end{enumerate*}\n"
      ],
      "text/markdown": [
       "1. 33\n",
       "2. 2\n",
       "\n",
       "\n"
      ],
      "text/plain": [
       "[1] 33  2"
      ]
     },
     "metadata": {},
     "output_type": "display_data"
    },
    {
     "data": {
      "text/html": [
       "<ol class=list-inline>\n",
       "\t<li>2</li>\n",
       "\t<li>1</li>\n",
       "\t<li>1141</li>\n",
       "\t<li>1186</li>\n",
       "\t<li>1015</li>\n",
       "\t<li>1400</li>\n",
       "\t<li>1219</li>\n",
       "\t<li>1019</li>\n",
       "\t<li>1336</li>\n",
       "\t<li>1105</li>\n",
       "\t<li>1111</li>\n",
       "\t<li>672</li>\n",
       "\t<li>1435</li>\n",
       "\t<li>940</li>\n",
       "\t<li>980</li>\n",
       "\t<li>960</li>\n",
       "\t<li>43</li>\n",
       "\t<li>1006</li>\n",
       "\t<li>1177</li>\n",
       "\t<li>1266</li>\n",
       "\t<li>1420</li>\n",
       "\t<li>891</li>\n",
       "\t<li>877</li>\n",
       "\t<li>314</li>\n",
       "\t<li>1052</li>\n",
       "\t<li>983</li>\n",
       "\t<li>543</li>\n",
       "\t<li>435</li>\n",
       "\t<li>884</li>\n",
       "\t<li>625</li>\n",
       "\t<li>606</li>\n",
       "\t<li>798</li>\n",
       "\t<li>628</li>\n",
       "</ol>\n"
      ],
      "text/latex": [
       "\\begin{enumerate*}\n",
       "\\item 2\n",
       "\\item 1\n",
       "\\item 1141\n",
       "\\item 1186\n",
       "\\item 1015\n",
       "\\item 1400\n",
       "\\item 1219\n",
       "\\item 1019\n",
       "\\item 1336\n",
       "\\item 1105\n",
       "\\item 1111\n",
       "\\item 672\n",
       "\\item 1435\n",
       "\\item 940\n",
       "\\item 980\n",
       "\\item 960\n",
       "\\item 43\n",
       "\\item 1006\n",
       "\\item 1177\n",
       "\\item 1266\n",
       "\\item 1420\n",
       "\\item 891\n",
       "\\item 877\n",
       "\\item 314\n",
       "\\item 1052\n",
       "\\item 983\n",
       "\\item 543\n",
       "\\item 435\n",
       "\\item 884\n",
       "\\item 625\n",
       "\\item 606\n",
       "\\item 798\n",
       "\\item 628\n",
       "\\end{enumerate*}\n"
      ],
      "text/markdown": [
       "1. 2\n",
       "2. 1\n",
       "3. 1141\n",
       "4. 1186\n",
       "5. 1015\n",
       "6. 1400\n",
       "7. 1219\n",
       "8. 1019\n",
       "9. 1336\n",
       "10. 1105\n",
       "11. 1111\n",
       "12. 672\n",
       "13. 1435\n",
       "14. 940\n",
       "15. 980\n",
       "16. 960\n",
       "17. 43\n",
       "18. 1006\n",
       "19. 1177\n",
       "20. 1266\n",
       "21. 1420\n",
       "22. 891\n",
       "23. 877\n",
       "24. 314\n",
       "25. 1052\n",
       "26. 983\n",
       "27. 543\n",
       "28. 435\n",
       "29. 884\n",
       "30. 625\n",
       "31. 606\n",
       "32. 798\n",
       "33. 628\n",
       "\n",
       "\n"
      ],
      "text/plain": [
       " [1]    2    1 1141 1186 1015 1400 1219 1019 1336 1105 1111  672 1435  940  980\n",
       "[16]  960   43 1006 1177 1266 1420  891  877  314 1052  983  543  435  884  625\n",
       "[31]  606  798  628"
      ]
     },
     "metadata": {},
     "output_type": "display_data"
    }
   ],
   "source": [
    "head(pt4)\n",
    "dim(pt4[pt4$X1>0.00128, ])\n",
    "R<- as.numeric(rownames(pt4[pt4$X1>0.00128, ]))\n",
    "R"
   ]
  },
  {
   "cell_type": "code",
   "execution_count": 102,
   "id": "ac75d2c3",
   "metadata": {},
   "outputs": [
    {
     "data": {
      "text/html": [
       "<table>\n",
       "<thead><tr><th></th><th scope=col>UserName</th><th scope=col>SrcDevice</th><th scope=col>DstDevice</th><th scope=col>AuthType</th><th scope=col>Failure</th><th scope=col>DailyCount</th><th scope=col>t1</th><th scope=col>t2</th><th scope=col>t3</th><th scope=col>t4</th><th scope=col>t5</th><th scope=col>t6</th></tr></thead>\n",
       "<tbody>\n",
       "\t<tr><th scope=row>7717125</th><td>User969583   </td><td>Comp636287   </td><td>Comp797582   </td><td>NetworkLogon </td><td>0            </td><td> 1           </td><td>1435         </td><td> 834         </td><td>214          </td><td>4            </td><td>1            </td><td> 1           </td></tr>\n",
       "\t<tr><th scope=row>5637233</th><td>User496897   </td><td>Comp388275   </td><td>Comp081330   </td><td>NetworkLogon </td><td>0            </td><td>27           </td><td> 983         </td><td> 525         </td><td> 27          </td><td>4            </td><td>1            </td><td>27           </td></tr>\n",
       "\t<tr><th scope=row>15879011</th><td>Administrator</td><td>Comp749049   </td><td>Comp788417   </td><td>TGS          </td><td>0            </td><td> 2           </td><td>   1         </td><td> 994         </td><td>210          </td><td>8            </td><td>1            </td><td> 2           </td></tr>\n",
       "\t<tr><th scope=row>8927698</th><td>Scanner      </td><td>Comp296454   </td><td>Comp467728   </td><td>NetworkLogon </td><td>0            </td><td>63           </td><td> 543         </td><td> 399         </td><td>129          </td><td>4            </td><td>1            </td><td>55           </td></tr>\n",
       "\t<tr><th scope=row>11588351</th><td>Anonymous    </td><td>Comp844043   </td><td>Comp747943   </td><td>NetworkLogon </td><td>0            </td><td>18           </td><td>   2         </td><td>1135         </td><td>196          </td><td>4            </td><td>1            </td><td>18           </td></tr>\n",
       "\t<tr><th scope=row>1574466</th><td>User495233   </td><td>Comp073023   </td><td>Comp805594   </td><td>NetworkLogon </td><td>0            </td><td> 6           </td><td> 980         </td><td> 108         </td><td>216          </td><td>4            </td><td>1            </td><td> 6           </td></tr>\n",
       "</tbody>\n",
       "</table>\n"
      ],
      "text/latex": [
       "\\begin{tabular}{r|llllllllllll}\n",
       "  & UserName & SrcDevice & DstDevice & AuthType & Failure & DailyCount & t1 & t2 & t3 & t4 & t5 & t6\\\\\n",
       "\\hline\n",
       "\t7717125 & User969583    & Comp636287    & Comp797582    & NetworkLogon  & 0             &  1            & 1435          &  834          & 214           & 4             & 1             &  1           \\\\\n",
       "\t5637233 & User496897    & Comp388275    & Comp081330    & NetworkLogon  & 0             & 27            &  983          &  525          &  27           & 4             & 1             & 27           \\\\\n",
       "\t15879011 & Administrator & Comp749049    & Comp788417    & TGS           & 0             &  2            &    1          &  994          & 210           & 8             & 1             &  2           \\\\\n",
       "\t8927698 & Scanner       & Comp296454    & Comp467728    & NetworkLogon  & 0             & 63            &  543          &  399          & 129           & 4             & 1             & 55           \\\\\n",
       "\t11588351 & Anonymous     & Comp844043    & Comp747943    & NetworkLogon  & 0             & 18            &    2          & 1135          & 196           & 4             & 1             & 18           \\\\\n",
       "\t1574466 & User495233    & Comp073023    & Comp805594    & NetworkLogon  & 0             &  6            &  980          &  108          & 216           & 4             & 1             &  6           \\\\\n",
       "\\end{tabular}\n"
      ],
      "text/markdown": [
       "\n",
       "| <!--/--> | UserName | SrcDevice | DstDevice | AuthType | Failure | DailyCount | t1 | t2 | t3 | t4 | t5 | t6 |\n",
       "|---|---|---|---|---|---|---|---|---|---|---|---|---|\n",
       "| 7717125 | User969583    | Comp636287    | Comp797582    | NetworkLogon  | 0             |  1            | 1435          |  834          | 214           | 4             | 1             |  1            |\n",
       "| 5637233 | User496897    | Comp388275    | Comp081330    | NetworkLogon  | 0             | 27            |  983          |  525          |  27           | 4             | 1             | 27            |\n",
       "| 15879011 | Administrator | Comp749049    | Comp788417    | TGS           | 0             |  2            |    1          |  994          | 210           | 8             | 1             |  2            |\n",
       "| 8927698 | Scanner       | Comp296454    | Comp467728    | NetworkLogon  | 0             | 63            |  543          |  399          | 129           | 4             | 1             | 55            |\n",
       "| 11588351 | Anonymous     | Comp844043    | Comp747943    | NetworkLogon  | 0             | 18            |    2          | 1135          | 196           | 4             | 1             | 18            |\n",
       "| 1574466 | User495233    | Comp073023    | Comp805594    | NetworkLogon  | 0             |  6            |  980          |  108          | 216           | 4             | 1             |  6            |\n",
       "\n"
      ],
      "text/plain": [
       "         UserName      SrcDevice  DstDevice  AuthType     Failure DailyCount\n",
       "7717125  User969583    Comp636287 Comp797582 NetworkLogon 0        1        \n",
       "5637233  User496897    Comp388275 Comp081330 NetworkLogon 0       27        \n",
       "15879011 Administrator Comp749049 Comp788417 TGS          0        2        \n",
       "8927698  Scanner       Comp296454 Comp467728 NetworkLogon 0       63        \n",
       "11588351 Anonymous     Comp844043 Comp747943 NetworkLogon 0       18        \n",
       "1574466  User495233    Comp073023 Comp805594 NetworkLogon 0        6        \n",
       "         t1   t2   t3  t4 t5 t6\n",
       "7717125  1435  834 214 4  1   1\n",
       "5637233   983  525  27 4  1  27\n",
       "15879011    1  994 210 8  1   2\n",
       "8927698   543  399 129 4  1  55\n",
       "11588351    2 1135 196 4  1  18\n",
       "1574466   980  108 216 4  1   6"
      ]
     },
     "metadata": {},
     "output_type": "display_data"
    },
    {
     "data": {
      "text/html": [
       "<ol class=list-inline>\n",
       "\t<li>126</li>\n",
       "\t<li>12</li>\n",
       "</ol>\n"
      ],
      "text/latex": [
       "\\begin{enumerate*}\n",
       "\\item 126\n",
       "\\item 12\n",
       "\\end{enumerate*}\n"
      ],
      "text/markdown": [
       "1. 126\n",
       "2. 12\n",
       "\n",
       "\n"
      ],
      "text/plain": [
       "[1] 126  12"
      ]
     },
     "metadata": {},
     "output_type": "display_data"
    }
   ],
   "source": [
    "T<- as.data.frame(T)\n",
    "data<- cbind(U17, T)\n",
    "data<- data[data$t1%in%R, ]\n",
    "\n",
    "head(data)\n",
    "dim(data)\n",
    "L<- unique(data$UserName)"
   ]
  },
  {
   "cell_type": "code",
   "execution_count": 103,
   "id": "71e5f4f0",
   "metadata": {},
   "outputs": [
    {
     "name": "stdout",
     "output_type": "stream",
     "text": [
      "[1] \"6.06060606060606 % of the list of usernames detected features in the AU list.\"\n"
     ]
    }
   ],
   "source": [
    "setwd(\"D://LA//ATI Data\")\n",
    "AU <- read.table(file=\"AuthUserNames.txt\", header=F)\n",
    "AU <- as.vector(AU$V1)\n",
    "AU <- unique(AU)\n",
    "\n",
    "Y<- L[L%in%AU==TRUE]\n",
    "\n",
    "print(paste(length(Y)/length(L)*100, \"% of the list of usernames detected features in the AU list.\"))"
   ]
  },
  {
   "cell_type": "markdown",
   "id": "f09593af",
   "metadata": {},
   "source": [
    "### User179746"
   ]
  },
  {
   "cell_type": "code",
   "execution_count": 74,
   "id": "0b840a7a",
   "metadata": {},
   "outputs": [],
   "source": [
    "U17 <- Auth[Auth$UserName=='User179746', ]"
   ]
  },
  {
   "cell_type": "code",
   "execution_count": 6,
   "id": "36f935eb",
   "metadata": {},
   "outputs": [],
   "source": [
    "df<- as.data.frame(cbind(Src=U17$SrcDevice, Dst=U17$DstDevice, Fail=U17$Failure))"
   ]
  },
  {
   "cell_type": "code",
   "execution_count": 7,
   "id": "39becb83",
   "metadata": {},
   "outputs": [
    {
     "data": {
      "text/html": [
       "<table>\n",
       "<thead><tr><th scope=col>Src</th><th scope=col>Dst</th><th scope=col>Fail</th></tr></thead>\n",
       "<tbody>\n",
       "\t<tr><td>Comp599155     </td><td>None           </td><td>0              </td></tr>\n",
       "\t<tr><td>Comp599155     </td><td>None           </td><td>0              </td></tr>\n",
       "\t<tr><td>Comp599155     </td><td>None           </td><td>0              </td></tr>\n",
       "\t<tr><td>Comp679250     </td><td>Comp599155     </td><td>0              </td></tr>\n",
       "\t<tr><td>Comp547871     </td><td>ActiveDirectory</td><td>1              </td></tr>\n",
       "\t<tr><td>Comp679250     </td><td>Comp599155     </td><td>0              </td></tr>\n",
       "</tbody>\n",
       "</table>\n"
      ],
      "text/latex": [
       "\\begin{tabular}{r|lll}\n",
       " Src & Dst & Fail\\\\\n",
       "\\hline\n",
       "\t Comp599155      & None            & 0              \\\\\n",
       "\t Comp599155      & None            & 0              \\\\\n",
       "\t Comp599155      & None            & 0              \\\\\n",
       "\t Comp679250      & Comp599155      & 0              \\\\\n",
       "\t Comp547871      & ActiveDirectory & 1              \\\\\n",
       "\t Comp679250      & Comp599155      & 0              \\\\\n",
       "\\end{tabular}\n"
      ],
      "text/markdown": [
       "\n",
       "| Src | Dst | Fail |\n",
       "|---|---|---|\n",
       "| Comp599155      | None            | 0               |\n",
       "| Comp599155      | None            | 0               |\n",
       "| Comp599155      | None            | 0               |\n",
       "| Comp679250      | Comp599155      | 0               |\n",
       "| Comp547871      | ActiveDirectory | 1               |\n",
       "| Comp679250      | Comp599155      | 0               |\n",
       "\n"
      ],
      "text/plain": [
       "  Src        Dst             Fail\n",
       "1 Comp599155 None            0   \n",
       "2 Comp599155 None            0   \n",
       "3 Comp599155 None            0   \n",
       "4 Comp679250 Comp599155      0   \n",
       "5 Comp547871 ActiveDirectory 1   \n",
       "6 Comp679250 Comp599155      0   "
      ]
     },
     "metadata": {},
     "output_type": "display_data"
    },
    {
     "data": {
      "text/html": [
       "<ol class=list-inline>\n",
       "\t<li>57</li>\n",
       "\t<li>3</li>\n",
       "</ol>\n"
      ],
      "text/latex": [
       "\\begin{enumerate*}\n",
       "\\item 57\n",
       "\\item 3\n",
       "\\end{enumerate*}\n"
      ],
      "text/markdown": [
       "1. 57\n",
       "2. 3\n",
       "\n",
       "\n"
      ],
      "text/plain": [
       "[1] 57  3"
      ]
     },
     "metadata": {},
     "output_type": "display_data"
    }
   ],
   "source": [
    "head(df)\n",
    "dim(df)"
   ]
  },
  {
   "cell_type": "code",
   "execution_count": 8,
   "id": "1c0c0bb6",
   "metadata": {},
   "outputs": [],
   "source": [
    "SrcT <- tapply(df$Src, df$Src)\n",
    "DstT <- tapply(df$Dst, df$Dst)\n",
    "\n",
    "dm <- as.matrix(cbind(SrcT, DstT, df$Fail))"
   ]
  },
  {
   "cell_type": "code",
   "execution_count": 9,
   "id": "6027943e",
   "metadata": {},
   "outputs": [
    {
     "data": {
      "text/html": [
       "<table>\n",
       "<thead><tr><th scope=col>SrcT</th><th scope=col>DstT</th><th scope=col></th></tr></thead>\n",
       "<tbody>\n",
       "\t<tr><td>3 </td><td>25</td><td>1 </td></tr>\n",
       "\t<tr><td>3 </td><td>25</td><td>1 </td></tr>\n",
       "\t<tr><td>3 </td><td>25</td><td>1 </td></tr>\n",
       "\t<tr><td>4 </td><td>14</td><td>1 </td></tr>\n",
       "\t<tr><td>2 </td><td> 1</td><td>2 </td></tr>\n",
       "\t<tr><td>4 </td><td>14</td><td>1 </td></tr>\n",
       "</tbody>\n",
       "</table>\n"
      ],
      "text/latex": [
       "\\begin{tabular}{lll}\n",
       " SrcT & DstT & \\\\\n",
       "\\hline\n",
       "\t 3  & 25 & 1 \\\\\n",
       "\t 3  & 25 & 1 \\\\\n",
       "\t 3  & 25 & 1 \\\\\n",
       "\t 4  & 14 & 1 \\\\\n",
       "\t 2  &  1 & 2 \\\\\n",
       "\t 4  & 14 & 1 \\\\\n",
       "\\end{tabular}\n"
      ],
      "text/markdown": [
       "\n",
       "| SrcT | DstT |  |\n",
       "|---|---|---|\n",
       "| 3  | 25 | 1  |\n",
       "| 3  | 25 | 1  |\n",
       "| 3  | 25 | 1  |\n",
       "| 4  | 14 | 1  |\n",
       "| 2  |  1 | 2  |\n",
       "| 4  | 14 | 1  |\n",
       "\n"
      ],
      "text/plain": [
       "     SrcT DstT  \n",
       "[1,] 3    25   1\n",
       "[2,] 3    25   1\n",
       "[3,] 3    25   1\n",
       "[4,] 4    14   1\n",
       "[5,] 2     1   2\n",
       "[6,] 4    14   1"
      ]
     },
     "metadata": {},
     "output_type": "display_data"
    },
    {
     "data": {
      "text/html": [
       "<table>\n",
       "<thead><tr><th scope=col>Src</th><th scope=col>Dst</th><th scope=col>Fail</th></tr></thead>\n",
       "<tbody>\n",
       "\t<tr><td>Comp599155     </td><td>None           </td><td>0              </td></tr>\n",
       "\t<tr><td>Comp599155     </td><td>None           </td><td>0              </td></tr>\n",
       "\t<tr><td>Comp599155     </td><td>None           </td><td>0              </td></tr>\n",
       "\t<tr><td>Comp679250     </td><td>Comp599155     </td><td>0              </td></tr>\n",
       "\t<tr><td>Comp547871     </td><td>ActiveDirectory</td><td>1              </td></tr>\n",
       "\t<tr><td>Comp679250     </td><td>Comp599155     </td><td>0              </td></tr>\n",
       "</tbody>\n",
       "</table>\n"
      ],
      "text/latex": [
       "\\begin{tabular}{r|lll}\n",
       " Src & Dst & Fail\\\\\n",
       "\\hline\n",
       "\t Comp599155      & None            & 0              \\\\\n",
       "\t Comp599155      & None            & 0              \\\\\n",
       "\t Comp599155      & None            & 0              \\\\\n",
       "\t Comp679250      & Comp599155      & 0              \\\\\n",
       "\t Comp547871      & ActiveDirectory & 1              \\\\\n",
       "\t Comp679250      & Comp599155      & 0              \\\\\n",
       "\\end{tabular}\n"
      ],
      "text/markdown": [
       "\n",
       "| Src | Dst | Fail |\n",
       "|---|---|---|\n",
       "| Comp599155      | None            | 0               |\n",
       "| Comp599155      | None            | 0               |\n",
       "| Comp599155      | None            | 0               |\n",
       "| Comp679250      | Comp599155      | 0               |\n",
       "| Comp547871      | ActiveDirectory | 1               |\n",
       "| Comp679250      | Comp599155      | 0               |\n",
       "\n"
      ],
      "text/plain": [
       "  Src        Dst             Fail\n",
       "1 Comp599155 None            0   \n",
       "2 Comp599155 None            0   \n",
       "3 Comp599155 None            0   \n",
       "4 Comp679250 Comp599155      0   \n",
       "5 Comp547871 ActiveDirectory 1   \n",
       "6 Comp679250 Comp599155      0   "
      ]
     },
     "metadata": {},
     "output_type": "display_data"
    }
   ],
   "source": [
    "head(dm)\n",
    "\n",
    "head(df)"
   ]
  },
  {
   "cell_type": "code",
   "execution_count": 72,
   "id": "dafc6315",
   "metadata": {},
   "outputs": [
    {
     "name": "stdout",
     "output_type": "stream",
     "text": [
      "[1] \"CP_APR: mu\"\n",
      "[1] \" Iter    1: Inner Its = 30 KKT violation = 9.206783e-02, nViolations =  0\"\n",
      "[1] \" Iter    2: Inner Its = 19 KKT violation = 5.651181e-05, nViolations =  0\"\n",
      "[1] \" Iter    3: Inner Its =  5 KKT violation = 5.651143e-05, nViolations =  0\"\n",
      "[1] \" Iter    4: Inner Its =  3 KKT violation = 5.651143e-05, nViolations =  0\"\n",
      "[1] \"Exiting because all subproblems reached KKT tol.\"\n",
      "[1] \"===========================================\"\n",
      "[1] \" Final log-likelihood = -1.700256e+01 \"\n",
      "[1] \" Final least squares fit = 5.856965e-01 \"\n",
      "[1] \" Final KKT violation = 5.6511434e-05\"\n",
      "[1] \" Total inner iterations = 57\"\n",
      "[1] \" Total execution time = 1.31 secs\"\n",
      "$lambda\n",
      "[1] 4.000034 8.999966\n",
      "\n",
      "$u\n",
      "$u[[1]]\n",
      "             [,1]     [,2]\n",
      "[1,] 2.499981e-01 0.222223\n",
      "[2,] 4.168178e-15 0.222223\n",
      "[3,] 2.500059e-01 0.111108\n",
      "[4,] 1.329797e-14 0.222223\n",
      "[5,] 4.999960e-01 0.000000\n",
      "[6,] 1.721164e-14 0.222223\n",
      "\n",
      "$u[[2]]\n",
      "          [,1] [,2]\n",
      "[1,] 0.2500063    1\n",
      "[2,] 0.7499937    0\n",
      "\n",
      "$u[[3]]\n",
      "             [,1]      [,2]\n",
      "[1,] 9.999850e-01 0.0000000\n",
      "[2,] 1.412774e-05 0.1111056\n",
      "[3,] 4.396100e-07 0.4444472\n",
      "[4,] 4.483752e-07 0.4444472\n",
      "\n",
      "\n"
     ]
    }
   ],
   "source": [
    "subs=matrix(c(5,1,1,\n",
    "              3,1,2,\n",
    "              1,1,3,\n",
    "              2,1,3,\n",
    "              4,1,3,\n",
    "              6,1,3,\n",
    "              1,1,4,\n",
    "              2,1,4,\n",
    "              4,1,4,\n",
    "              6,1,4,\n",
    "              1,2,1,\n",
    "              3,2,1,\n",
    "              5,2,1),byrow=TRUE,ncol=3)\n",
    "X=list(subs=subs,vals=rep(1,nrow(subs)),size=c(6,2,4))\n",
    "\n",
    "P1=cp_apr(X,2,opts=list(alg='mu'))\n",
    "print(P1$M)"
   ]
  },
  {
   "cell_type": "code",
   "execution_count": 50,
   "id": "7c8a7d32",
   "metadata": {},
   "outputs": [],
   "source": [
    "M <- list(subs=dm, vals=rep(1, nrow(dm)), size=c(length(unique(SrcT)), length(unique(DstT)), 2))\n",
    "invisible(M)\n",
    "\n",
    "tfm<- getTensor(trp=dm)"
   ]
  },
  {
   "cell_type": "code",
   "execution_count": 56,
   "id": "e70487c2",
   "metadata": {},
   "outputs": [
    {
     "name": "stdout",
     "output_type": "stream",
     "text": [
      "[1] \"CP_APR: mu\"\n",
      "[1] \" Iter    1: Inner Its = 23 KKT violation = 1.335418e-01, nViolations =  0\"\n",
      "[1] \" Iter    2: Inner Its =  8 KKT violation = 6.241433e-07, nViolations =  0\"\n",
      "[1] \" Iter    3: Inner Its =  3 KKT violation = 6.241433e-07, nViolations =  0\"\n",
      "[1] \"Exiting because all subproblems reached KKT tol.\"\n"
     ]
    },
    {
     "name": "stderr",
     "output_type": "stream",
     "text": [
      "Warning message in sqrt(normX^2 + ktensor_norm(M)^2 - 2 * tt_innerprod(M, X)):\n",
      "\"NaNs produced\""
     ]
    },
    {
     "name": "stdout",
     "output_type": "stream",
     "text": [
      "[1] \"===========================================\"\n",
      "[1] \" Final log-likelihood = -2.925011e+01 \"\n",
      "[1] \" Final least squares fit = NaN \"\n",
      "[1] \" Final KKT violation = 6.2414330e-07\"\n",
      "[1] \" Total inner iterations = 34\"\n",
      "[1] \" Total execution time = 0.21 secs\"\n",
      "$lambda\n",
      "[1] 48  9\n",
      "\n",
      "$u\n",
      "$u[[1]]\n",
      "              [,1]         [,2]\n",
      "[1,] 2.600441e-128 1.111111e-01\n",
      "[2,]  6.250000e-02 3.213536e-09\n",
      "[3,]  9.375000e-01 6.934926e-08\n",
      "[4,] 9.044691e-118 8.888888e-01\n",
      "\n",
      "$u[[2]]\n",
      "               [,1]         [,2]\n",
      " [1,]  4.166667e-02 3.470756e-34\n",
      " [2,]  4.166667e-02 2.555932e-14\n",
      " [3,]  2.083333e-02 1.272722e-14\n",
      " [4,]  2.083333e-02 6.725709e-15\n",
      " [5,]  4.166667e-02 3.273877e-14\n",
      " [6,]  2.083333e-02 1.162181e-14\n",
      " [7,]  2.083333e-02 6.695594e-15\n",
      " [8,]  4.166667e-02 1.690307e-14\n",
      " [9,]  2.083333e-02 1.952144e-14\n",
      "[10,]  2.083333e-02 1.602380e-14\n",
      "[11,]  2.083333e-02 3.523004e-14\n",
      "[12,]  4.166667e-02 4.726771e-15\n",
      "[13,] 3.393511e-156 2.222222e-01\n",
      "[14,] 9.979302e-156 7.777778e-01\n",
      "[15,]  4.166667e-02 1.621977e-14\n",
      "[16,]  1.250000e-01 4.838814e-14\n",
      "[17,]  2.083333e-02 2.955977e-15\n",
      "[18,]  4.166667e-02 1.104260e-14\n",
      "[19,]  4.166667e-02 1.020341e-14\n",
      "[20,]  4.166667e-02 3.165300e-15\n",
      "[21,]  2.083333e-02 6.624758e-15\n",
      "[22,]  4.166667e-02 2.221516e-14\n",
      "[23,]  2.083333e-02 8.504449e-15\n",
      "[24,]  1.458333e-01 2.633938e-14\n",
      "[25,]  1.041667e-01 4.461592e-10\n",
      "\n",
      "$u[[3]]\n",
      "          [,1]      [,2]\n",
      "[1,] 0.1041667 0.8888889\n",
      "[2,] 0.8958333 0.1111111\n",
      "\n",
      "\n"
     ]
    }
   ],
   "source": [
    "set.seed(5)\n",
    "P1 <- cp_apr(M,2,opts=list(alg='mu'))\n",
    "\n",
    "print(P1$M)"
   ]
  },
  {
   "cell_type": "code",
   "execution_count": 67,
   "id": "8d78dd11",
   "metadata": {},
   "outputs": [
    {
     "name": "stdout",
     "output_type": "stream",
     "text": [
      "[1] 0\n",
      "[1] \"CP_PDNR (alternating Poisson regression using damped Newton)\"\n",
      "[1] \"  Precomputing sparse index sets...\"\n",
      "[1] \"done\"\n",
      "[1] \"   1. Ttl Inner Its: 62, KKT viol = 2.76e+00, obj = -5.71527178e+01, nz: 7, time:0.58\"\n",
      "[1] \"   2. Ttl Inner Its: 134, KKT viol = 2.63e+00, obj = -3.39026314e+01, nz: 11, time:0.75\"\n",
      "[1] \"   3. Ttl Inner Its: 42, KKT viol = 9.96e-01, obj = -2.95267136e+01, nz: 12, time:0.76\"\n",
      "[1] \"   4. Ttl Inner Its: 53, KKT viol = 3.13e-02, obj = -2.92786951e+01, nz: 26, time:0.80\"\n",
      "[1] \"   5. Ttl Inner Its: 62, KKT viol = 9.74e-03, obj = -2.92501049e+01, nz: 29, time:0.83\"\n",
      "[1] \"   6. Ttl Inner Its: 31, KKT viol = 6.77e-05, obj = -2.92501049e+01, nz: 29, time:0.84\"\n"
     ]
    },
    {
     "name": "stderr",
     "output_type": "stream",
     "text": [
      "Warning message in sqrt(normX^2 + ktensor_norm(M)^2 - 2 * tt_innerprod(M, X)):\n",
      "\"NaNs produced\""
     ]
    },
    {
     "name": "stdout",
     "output_type": "stream",
     "text": [
      "[1] \"===========================================\"\n",
      "[1] \" Final log-likelihood = -2.925010e+01 \"\n",
      "[1] \" Final least squares fit = NaN \"\n",
      "[1] \" Final KKT violation = 6.7709872e-05\"\n",
      "[1] \" Total inner iterations = 384\"\n",
      "[1] \" Total execution time = 0.84 secs\"\n",
      "$lambda\n",
      "[1]  8.999972 47.999815\n",
      "\n",
      "$u\n",
      "$u[[1]]\n",
      "          [,1]       [,2]\n",
      "[1,] 0.1111111 0.00000000\n",
      "[2,] 0.0000000 0.06249999\n",
      "[3,] 0.0000000 0.93750001\n",
      "[4,] 0.8888889 0.00000000\n",
      "\n",
      "$u[[2]]\n",
      "           [,1]       [,2]\n",
      " [1,] 0.0000000 0.04166741\n",
      " [2,] 0.0000000 0.04166740\n",
      " [3,] 0.0000000 0.02083371\n",
      " [4,] 0.0000000 0.02083370\n",
      " [5,] 0.0000000 0.04166401\n",
      " [6,] 0.0000000 0.02083370\n",
      " [7,] 0.0000000 0.02083370\n",
      " [8,] 0.0000000 0.04166740\n",
      " [9,] 0.0000000 0.02083370\n",
      "[10,] 0.0000000 0.02083351\n",
      "[11,] 0.0000000 0.02083371\n",
      "[12,] 0.0000000 0.04166740\n",
      "[13,] 0.2222223 0.00000000\n",
      "[14,] 0.7777777 0.00000000\n",
      "[15,] 0.0000000 0.04166676\n",
      "[16,] 0.0000000 0.12499877\n",
      "[17,] 0.0000000 0.02083347\n",
      "[18,] 0.0000000 0.04166741\n",
      "[19,] 0.0000000 0.04166740\n",
      "[20,] 0.0000000 0.04166740\n",
      "[21,] 0.0000000 0.02083370\n",
      "[22,] 0.0000000 0.04166740\n",
      "[23,] 0.0000000 0.02083370\n",
      "[24,] 0.0000000 0.14582913\n",
      "[25,] 0.0000000 0.10416549\n",
      "\n",
      "$u[[3]]\n",
      "          [,1]      [,2]\n",
      "[1,] 0.8888913 0.1041634\n",
      "[2,] 0.1111087 0.8958366\n",
      "\n",
      "\n"
     ]
    }
   ],
   "source": [
    "P1_2<- cp_apr(M,2,opts=list(alg='pdnr'))\n",
    "\n",
    "print(P1_2$M)"
   ]
  },
  {
   "cell_type": "code",
   "execution_count": 92,
   "id": "57897f3c",
   "metadata": {},
   "outputs": [
    {
     "name": "stdout",
     "output_type": "stream",
     "text": [
      "[1] \"CP_PQNR (alternating Poisson regression using quasi-Newton)\"\n",
      "[1] \"  Precomputing sparse index sets...\"\n",
      "[1] \"done\"\n",
      "[1] \"-lno=1-i=1--jj:1----tmp_rho:381.795996,lbfgsPos:1,nSizeLBFGS:3, kkt_violation:0.991961\"\n",
      "[1] \"-lno=2-i=2--jj:1----tmp_rho:0.064525,lbfgsPos:2,nSizeLBFGS:3, kkt_violation:0.187459\"\n",
      "[1] \"-lno=3-i=3--jj:1----tmp_rho:13.185215,lbfgsPos:3,nSizeLBFGS:3, kkt_violation:0.069235\"\n",
      "[1] \"-lno=4-i=4--jj:1----tmp_rho:69.083059,lbfgsPos:1,nSizeLBFGS:3, kkt_violation:0.051902\"\n",
      "[1] \"-lno=5-i=5--jj:1----tmp_rho:262.168948,lbfgsPos:2,nSizeLBFGS:3, kkt_violation:0.008489\"\n",
      "[1] \"-lno=6-i=6--jj:1----tmp_rho:11892.169051,lbfgsPos:3,nSizeLBFGS:3, kkt_violation:0.000717\"\n",
      "[1] \"-lno=7-i=1--jj:2----tmp_rho:44.607092,lbfgsPos:1,nSizeLBFGS:3, kkt_violation:0.870445\"\n",
      "[1] \"-lno=8-i=2--jj:2----tmp_rho:0.001608,lbfgsPos:2,nSizeLBFGS:3, kkt_violation:37.633855\"\n",
      "[1] \"-lno=9-i=3--jj:2----tmp_rho:0.003312,lbfgsPos:3,nSizeLBFGS:3, kkt_violation:0.735006\"\n",
      "[1] \"-lno=10-i=4--jj:2----tmp_rho:274.045753,lbfgsPos:1,nSizeLBFGS:3, kkt_violation:0.727903\"\n",
      "[1] \"-lno=11-i=5--jj:2----tmp_rho:22.368381,lbfgsPos:2,nSizeLBFGS:3, kkt_violation:0.636049\"\n",
      "[1] \"-lno=12-i=6--jj:2----tmp_rho:0.674435,lbfgsPos:3,nSizeLBFGS:3, kkt_violation:0.274897\"\n",
      "[1] \"-lno=13-i=7--jj:2----tmp_rho:1.107097,lbfgsPos:1,nSizeLBFGS:3, kkt_violation:0.246840\"\n",
      "[1] \"-lno=14-i=8--jj:2----tmp_rho:2.237730,lbfgsPos:2,nSizeLBFGS:3, kkt_violation:0.150396\"\n",
      "[1] \"-lno=15-i=9--jj:2----tmp_rho:10.463819,lbfgsPos:3,nSizeLBFGS:3, kkt_violation:0.015378\"\n",
      "[1] \"-lno=16-i=10--jj:2----tmp_rho:568.985898,lbfgsPos:1,nSizeLBFGS:3, kkt_violation:0.008903\"\n",
      "[1] \"-lno=17-i=1--jj:3----tmp_rho:4.289493,lbfgsPos:1,nSizeLBFGS:3, kkt_violation:0.873636\"\n",
      "[1] \"-lno=18-i=2--jj:3----tmp_rho:0.191402,lbfgsPos:2,nSizeLBFGS:3, kkt_violation:0.336735\"\n",
      "[1] \"-lno=19-i=3--jj:3----tmp_rho:1.104655,lbfgsPos:3,nSizeLBFGS:3, kkt_violation:0.157765\"\n",
      "[1] \"-lno=20-i=4--jj:3----tmp_rho:2.555767,lbfgsPos:1,nSizeLBFGS:3, kkt_violation:0.065767\"\n",
      "[1] \"-lno=21-i=5--jj:3----tmp_rho:6.494717,lbfgsPos:2,nSizeLBFGS:3, kkt_violation:0.085240\"\n",
      "[1] \"-lno=22-i=6--jj:3----tmp_rho:2.746936,lbfgsPos:3,nSizeLBFGS:3, kkt_violation:0.038616\"\n",
      "[1] \"-lno=23-i=7--jj:3----tmp_rho:9.611029,lbfgsPos:1,nSizeLBFGS:3, kkt_violation:0.019303\"\n",
      "[1] \"-lno=24-i=8--jj:3----tmp_rho:85.188332,lbfgsPos:2,nSizeLBFGS:3, kkt_violation:0.001039\"\n",
      "[1] \"-lno=25-i=1--jj:4----tmp_rho:19.043424,lbfgsPos:1,nSizeLBFGS:3, kkt_violation:0.602634\"\n",
      "[1] \"-lno=26-i=2--jj:4----tmp_rho:0.092312,lbfgsPos:2,nSizeLBFGS:3, kkt_violation:0.250124\"\n",
      "[1] \"-lno=27-i=3--jj:4----tmp_rho:1.618167,lbfgsPos:3,nSizeLBFGS:3, kkt_violation:0.223142\"\n",
      "[1] \"-lno=28-i=4--jj:4----tmp_rho:14.188977,lbfgsPos:1,nSizeLBFGS:3, kkt_violation:0.087298\"\n",
      "[1] \"-lno=29-i=5--jj:4----tmp_rho:19.721352,lbfgsPos:2,nSizeLBFGS:3, kkt_violation:0.032819\"\n",
      "[1] \"-lno=30-i=6--jj:4----tmp_rho:171.881128,lbfgsPos:3,nSizeLBFGS:3, kkt_violation:0.012359\"\n",
      "[1] \"-lno=31-i=7--jj:4----tmp_rho:524.599130,lbfgsPos:1,nSizeLBFGS:3, kkt_violation:0.000604\"\n",
      "[1] \"-lno=32-i=1--jj:1----tmp_rho:5068.824290,lbfgsPos:1,nSizeLBFGS:3, kkt_violation:0.010392\"\n",
      "[1] \"-lno=33-i=2--jj:1----tmp_rho:4397.591698,lbfgsPos:2,nSizeLBFGS:3, kkt_violation:0.000216\"\n",
      "[1] \"-lno=34-i=1--jj:2----tmp_rho:17.458727,lbfgsPos:1,nSizeLBFGS:3, kkt_violation:0.102537\"\n",
      "[1] \"-lno=35-i=2--jj:2----tmp_rho:76.175853,lbfgsPos:2,nSizeLBFGS:3, kkt_violation:0.026822\"\n",
      "[1] \"-lno=36-i=3--jj:2----tmp_rho:257.263302,lbfgsPos:3,nSizeLBFGS:3, kkt_violation:0.017037\"\n",
      "[1] \"-lno=37-i=4--jj:2----tmp_rho:772.617361,lbfgsPos:1,nSizeLBFGS:3, kkt_violation:0.008508\"\n",
      "[1] \"-lno=38-i=5--jj:2----tmp_rho:4009.845418,lbfgsPos:2,nSizeLBFGS:3, kkt_violation:0.002625\"\n",
      "[1] \"-lno=39-i=6--jj:2----tmp_rho:40624.582488,lbfgsPos:3,nSizeLBFGS:3, kkt_violation:0.000886\"\n",
      "[1] \"-lno=40-i=7--jj:2----tmp_rho:362890.404539,lbfgsPos:1,nSizeLBFGS:3, kkt_violation:0.000287\"\n",
      "[1] \"-lno=41-i=1--jj:3----tmp_rho:8.584708,lbfgsPos:1,nSizeLBFGS:3, kkt_violation:0.312098\"\n",
      "[1] \"-lno=42-i=2--jj:3----tmp_rho:6.530843,lbfgsPos:2,nSizeLBFGS:3, kkt_violation:0.014850\"\n",
      "[1] \"-lno=43-i=3--jj:3----tmp_rho:1316.276336,lbfgsPos:3,nSizeLBFGS:3, kkt_violation:0.012739\"\n",
      "[1] \"-lno=44-i=4--jj:3----tmp_rho:3635.769036,lbfgsPos:1,nSizeLBFGS:3, kkt_violation:0.003770\"\n",
      "[1] \"-lno=45-i=5--jj:3----tmp_rho:39112.342748,lbfgsPos:2,nSizeLBFGS:3, kkt_violation:0.001292\"\n",
      "[1] \"-lno=46-i=6--jj:3----tmp_rho:341867.812842,lbfgsPos:3,nSizeLBFGS:3, kkt_violation:0.000417\"\n",
      "[1] \"-lno=47-i=7--jj:3----tmp_rho:3252963.133697,lbfgsPos:1,nSizeLBFGS:3, kkt_violation:0.000137\"\n",
      "[1] \"-lno=48-i=1--jj:4----tmp_rho:22.634068,lbfgsPos:1,nSizeLBFGS:3, kkt_violation:0.018483\"\n",
      "[1] \"-lno=49-i=2--jj:4----tmp_rho:3127.625798,lbfgsPos:2,nSizeLBFGS:3, kkt_violation:0.000433\"\n",
      "[1] \"-lno=50-i=3--jj:4----tmp_rho:3280890.890932,lbfgsPos:3,nSizeLBFGS:3, kkt_violation:0.000119\"\n",
      "[1] \"-lno=51-i=1--jj:5----tmp_rho:11.591408,lbfgsPos:1,nSizeLBFGS:3, kkt_violation:0.218900\"\n",
      "[1] \"-lno=52-i=2--jj:5----tmp_rho:9.049720,lbfgsPos:2,nSizeLBFGS:3, kkt_violation:0.012457\"\n",
      "[1] \"-lno=53-i=3--jj:5----tmp_rho:914.821825,lbfgsPos:3,nSizeLBFGS:3, kkt_violation:0.010901\"\n",
      "[1] \"-lno=54-i=4--jj:5----tmp_rho:1817.038553,lbfgsPos:1,nSizeLBFGS:3, kkt_violation:0.005729\"\n",
      "[1] \"-lno=55-i=5--jj:5----tmp_rho:8768.379716,lbfgsPos:2,nSizeLBFGS:3, kkt_violation:0.001807\"\n",
      "[1] \"-lno=56-i=6--jj:5----tmp_rho:86118.653225,lbfgsPos:3,nSizeLBFGS:3, kkt_violation:0.000604\"\n",
      "[1] \"-lno=57-i=7--jj:5----tmp_rho:780327.209289,lbfgsPos:1,nSizeLBFGS:3, kkt_violation:0.000196\"\n",
      "[1] \"-lno=58-i=1--jj:6----tmp_rho:7.576317,lbfgsPos:1,nSizeLBFGS:3, kkt_violation:0.492697\"\n",
      "[1] \"-lno=59-i=2--jj:6----tmp_rho:1.454706,lbfgsPos:2,nSizeLBFGS:3, kkt_violation:0.136989\"\n",
      "[1] \"-lno=60-i=3--jj:6----tmp_rho:32.333713,lbfgsPos:3,nSizeLBFGS:3, kkt_violation:0.046153\"\n",
      "[1] \"-lno=61-i=4--jj:6----tmp_rho:223.395579,lbfgsPos:1,nSizeLBFGS:3, kkt_violation:0.019835\"\n",
      "[1] \"-lno=62-i=5--jj:6----tmp_rho:1348.802860,lbfgsPos:2,nSizeLBFGS:3, kkt_violation:0.007558\"\n",
      "[1] \"-lno=63-i=6--jj:6----tmp_rho:10231.942448,lbfgsPos:3,nSizeLBFGS:3, kkt_violation:0.002302\"\n",
      "[1] \"-lno=64-i=7--jj:6----tmp_rho:105848.760516,lbfgsPos:1,nSizeLBFGS:3, kkt_violation:0.000774\"\n",
      "[1] \"-lno=65-i=8--jj:6----tmp_rho:950010.505363,lbfgsPos:2,nSizeLBFGS:3, kkt_violation:0.000251\"\n",
      "[1] \"-lno=66-i=1--jj:7----tmp_rho:8.043825,lbfgsPos:1,nSizeLBFGS:3, kkt_violation:0.496113\"\n",
      "[1] \"-lno=67-i=2--jj:7----tmp_rho:1.251295,lbfgsPos:2,nSizeLBFGS:3, kkt_violation:0.198642\"\n",
      "[1] \"-lno=68-i=3--jj:7----tmp_rho:16.683710,lbfgsPos:3,nSizeLBFGS:3, kkt_violation:0.061082\"\n",
      "[1] \"-lno=69-i=4--jj:7----tmp_rho:147.083278,lbfgsPos:1,nSizeLBFGS:3, kkt_violation:0.019594\"\n",
      "[1] \"-lno=70-i=5--jj:7----tmp_rho:1339.351841,lbfgsPos:2,nSizeLBFGS:3, kkt_violation:0.007888\"\n",
      "[1] \"-lno=71-i=6--jj:7----tmp_rho:9386.643156,lbfgsPos:3,nSizeLBFGS:3, kkt_violation:0.002405\"\n",
      "[1] \"-lno=72-i=7--jj:7----tmp_rho:96859.309111,lbfgsPos:1,nSizeLBFGS:3, kkt_violation:0.000810\"\n",
      "[1] \"-lno=73-i=8--jj:7----tmp_rho:867880.657536,lbfgsPos:2,nSizeLBFGS:3, kkt_violation:0.000263\"\n",
      "[1] \"-lno=74-i=1--jj:8----tmp_rho:59.995090,lbfgsPos:1,nSizeLBFGS:3, kkt_violation:0.136538\"\n",
      "[1] \"-lno=75-i=2--jj:8----tmp_rho:12.729340,lbfgsPos:2,nSizeLBFGS:3, kkt_violation:0.067494\"\n",
      "[1] \"-lno=76-i=3--jj:8----tmp_rho:95.526294,lbfgsPos:3,nSizeLBFGS:3, kkt_violation:0.002455\"\n",
      "[1] \"-lno=77-i=4--jj:8----tmp_rho:54487.394085,lbfgsPos:1,nSizeLBFGS:3, kkt_violation:0.000577\"\n",
      "[1] \"-lno=78-i=5--jj:8----tmp_rho:848822.155206,lbfgsPos:2,nSizeLBFGS:3, kkt_violation:0.000190\"\n",
      "[1] \"-lno=79-i=1--jj:9----tmp_rho:9.930710,lbfgsPos:1,nSizeLBFGS:3, kkt_violation:0.404927\"\n",
      "[1] \"-lno=80-i=2--jj:9----tmp_rho:1.863834,lbfgsPos:2,nSizeLBFGS:3, kkt_violation:0.218902\"\n",
      "[1] \"-lno=81-i=3--jj:9----tmp_rho:21.690171,lbfgsPos:3,nSizeLBFGS:3, kkt_violation:0.016224\"\n",
      "[1] \"-lno=82-i=4--jj:9----tmp_rho:3204.683439,lbfgsPos:1,nSizeLBFGS:3, kkt_violation:0.001308\"\n",
      "[1] \"-lno=83-i=5--jj:9----tmp_rho:321505.539790,lbfgsPos:2,nSizeLBFGS:3, kkt_violation:0.000456\"\n",
      "[1] \"-lno=84-i=6--jj:9----tmp_rho:2733974.701340,lbfgsPos:3,nSizeLBFGS:3, kkt_violation:0.000149\"\n",
      "[1] \"-lno=85-i=1--jj:10----tmp_rho:7.233900,lbfgsPos:1,nSizeLBFGS:3, kkt_violation:0.047866\"\n",
      "[1] \"-lno=86-i=2--jj:10----tmp_rho:584.212751,lbfgsPos:2,nSizeLBFGS:3, kkt_violation:0.005400\"\n",
      "[1] \"-lno=87-i=3--jj:10----tmp_rho:19506.061166,lbfgsPos:3,nSizeLBFGS:3, kkt_violation:0.001773\"\n",
      "[1] \"-lno=88-i=4--jj:10----tmp_rho:166967.330618,lbfgsPos:1,nSizeLBFGS:3, kkt_violation:0.000673\"\n",
      "[1] \"-lno=89-i=5--jj:10----tmp_rho:1249678.904521,lbfgsPos:2,nSizeLBFGS:3, kkt_violation:0.000222\"\n",
      "[1] \"-lno=90-i=1--jj:11----tmp_rho:10.026428,lbfgsPos:1,nSizeLBFGS:3, kkt_violation:0.555140\"\n",
      "[1] \"-lno=91-i=2--jj:11----tmp_rho:0.389731,lbfgsPos:2,nSizeLBFGS:3, kkt_violation:0.928556\"\n",
      "[1] \"-lno=92-i=3--jj:11----tmp_rho:1.420318,lbfgsPos:3,nSizeLBFGS:3, kkt_violation:0.147402\"\n",
      "[1] \"-lno=93-i=4--jj:11----tmp_rho:55.737151,lbfgsPos:1,nSizeLBFGS:3, kkt_violation:0.025297\"\n",
      "[1] \"-lno=94-i=5--jj:11----tmp_rho:619.361244,lbfgsPos:2,nSizeLBFGS:3, kkt_violation:0.014663\"\n",
      "[1] \"-lno=95-i=6--jj:11----tmp_rho:2557.982837,lbfgsPos:3,nSizeLBFGS:3, kkt_violation:0.005201\"\n",
      "[1] \"-lno=96-i=7--jj:11----tmp_rho:21453.162592,lbfgsPos:1,nSizeLBFGS:3, kkt_violation:0.001614\"\n",
      "[1] \"-lno=97-i=8--jj:11----tmp_rho:216132.816064,lbfgsPos:2,nSizeLBFGS:3, kkt_violation:0.000538\"\n",
      "[1] \"-lno=98-i=9--jj:11----tmp_rho:1963525.028358,lbfgsPos:3,nSizeLBFGS:3, kkt_violation:0.000175\"\n",
      "[1] \"-lno=99-i=1--jj:12----tmp_rho:24.955285,lbfgsPos:1,nSizeLBFGS:3, kkt_violation:0.146640\"\n",
      "[1] \"-lno=100-i=2--jj:12----tmp_rho:19.143353,lbfgsPos:2,nSizeLBFGS:3, kkt_violation:0.002868\"\n",
      "[1] \"-lno=101-i=3--jj:12----tmp_rho:25380.128850,lbfgsPos:3,nSizeLBFGS:3, kkt_violation:0.001573\"\n",
      "[1] \"-lno=102-i=4--jj:12----tmp_rho:112858.451304,lbfgsPos:1,nSizeLBFGS:3, kkt_violation:0.000531\"\n",
      "[1] \"-lno=103-i=5--jj:12----tmp_rho:1005258.878352,lbfgsPos:2,nSizeLBFGS:3, kkt_violation:0.000175\"\n",
      "[1] \"-lno=104-i=1--jj:13----tmp_rho:0.504557,lbfgsPos:1,nSizeLBFGS:3, kkt_violation:0.429369\"\n",
      "[1] \"-lno=105-i=2--jj:13----tmp_rho:26.834537,lbfgsPos:2,nSizeLBFGS:3, kkt_violation:0.345979\"\n",
      "[1] \"-lno=106-i=3--jj:13----tmp_rho:2.498298,lbfgsPos:3,nSizeLBFGS:3, kkt_violation:0.476275\"\n",
      "[1] \"-lno=107-i=4--jj:13----tmp_rho:7.342778,lbfgsPos:1,nSizeLBFGS:3, kkt_violation:0.138041\"\n",
      "[1] \"-lno=108-i=5--jj:13----tmp_rho:8.917733,lbfgsPos:2,nSizeLBFGS:3, kkt_violation:0.101410\"\n",
      "[1] \"-lno=109-i=6--jj:13----tmp_rho:38.597052,lbfgsPos:3,nSizeLBFGS:3, kkt_violation:0.006851\"\n",
      "[1] \"-lno=110-i=7--jj:13----tmp_rho:4965.935059,lbfgsPos:1,nSizeLBFGS:3, kkt_violation:0.003202\"\n",
      "[1] \"-lno=111-i=8--jj:13----tmp_rho:28135.530190,lbfgsPos:2,nSizeLBFGS:3, kkt_violation:0.001009\"\n",
      "[1] \"-lno=112-i=9--jj:13----tmp_rho:279209.440886,lbfgsPos:3,nSizeLBFGS:3, kkt_violation:0.000330\"\n",
      "[1] \"-lno=113-i=10--jj:13----tmp_rho:2634541.312328,lbfgsPos:1,nSizeLBFGS:3, kkt_violation:0.000106\"\n",
      "[1] \"-lno=114-i=1--jj:14----tmp_rho:0.095656,lbfgsPos:1,nSizeLBFGS:3, kkt_violation:0.036206\"\n",
      "[1] \"-lno=115-i=2--jj:14----tmp_rho:2741.869606,lbfgsPos:2,nSizeLBFGS:3, kkt_violation:0.028187\"\n",
      "[1] \"-lno=116-i=3--jj:14----tmp_rho:312.883634,lbfgsPos:3,nSizeLBFGS:3, kkt_violation:0.012701\"\n",
      "[1] \"-lno=117-i=4--jj:14----tmp_rho:3350.313488,lbfgsPos:1,nSizeLBFGS:3, kkt_violation:0.013847\"\n",
      "[1] \"-lno=118-i=5--jj:14----tmp_rho:463.514768,lbfgsPos:2,nSizeLBFGS:3, kkt_violation:0.004965\"\n",
      "[1] \"-lno=119-i=6--jj:14----tmp_rho:4695.733384,lbfgsPos:3,nSizeLBFGS:3, kkt_violation:0.000798\"\n",
      "[1] \"-lno=120-i=1--jj:15----tmp_rho:13.380628,lbfgsPos:1,nSizeLBFGS:3, kkt_violation:0.150740\"\n",
      "[1] \"-lno=121-i=2--jj:15----tmp_rho:27.720278,lbfgsPos:2,nSizeLBFGS:3, kkt_violation:0.028766\"\n",
      "[1] \"-lno=122-i=3--jj:15----tmp_rho:197.114187,lbfgsPos:3,nSizeLBFGS:3, kkt_violation:0.021397\"\n",
      "[1] \"-lno=123-i=4--jj:15----tmp_rho:475.866233,lbfgsPos:1,nSizeLBFGS:3, kkt_violation:0.011179\"\n",
      "[1] \"-lno=124-i=5--jj:15----tmp_rho:2334.687860,lbfgsPos:2,nSizeLBFGS:3, kkt_violation:0.003398\"\n",
      "[1] \"-lno=125-i=6--jj:15----tmp_rho:24142.633158,lbfgsPos:3,nSizeLBFGS:3, kkt_violation:0.001158\"\n",
      "[1] \"-lno=126-i=7--jj:15----tmp_rho:212744.252632,lbfgsPos:1,nSizeLBFGS:3, kkt_violation:0.000374\"\n",
      "[1] \"-lno=127-i=8--jj:15----tmp_rho:2020451.595157,lbfgsPos:2,nSizeLBFGS:3, kkt_violation:0.000123\"\n",
      "[1] \"-lno=128-i=1--jj:16----tmp_rho:0.649431,lbfgsPos:1,nSizeLBFGS:3, kkt_violation:0.386738\"\n",
      "[1] \"-lno=129-i=2--jj:16----tmp_rho:12.429413,lbfgsPos:2,nSizeLBFGS:3, kkt_violation:0.235186\"\n",
      "[1] \"-lno=130-i=3--jj:16----tmp_rho:4.383990,lbfgsPos:3,nSizeLBFGS:3, kkt_violation:0.016687\"\n",
      "[1] \"-lno=131-i=4--jj:16----tmp_rho:577.506063,lbfgsPos:1,nSizeLBFGS:3, kkt_violation:0.000439\"\n",
      "[1] \"-lno=132-i=5--jj:16----tmp_rho:322183.560529,lbfgsPos:2,nSizeLBFGS:3, kkt_violation:0.000281\"\n",
      "[1] \"-lno=133-i=1--jj:17----tmp_rho:6.336019,lbfgsPos:1,nSizeLBFGS:3, kkt_violation:0.228991\"\n",
      "[1] \"-lno=134-i=2--jj:17----tmp_rho:4.972103,lbfgsPos:2,nSizeLBFGS:3, kkt_violation:0.202901\"\n",
      "[1] \"-lno=135-i=3--jj:17----tmp_rho:10.652399,lbfgsPos:3,nSizeLBFGS:3, kkt_violation:0.113496\"\n",
      "[1] \"-lno=136-i=4--jj:17----tmp_rho:51.683009,lbfgsPos:1,nSizeLBFGS:3, kkt_violation:0.018691\"\n",
      "[1] \"-lno=137-i=5--jj:17----tmp_rho:1312.538370,lbfgsPos:2,nSizeLBFGS:3, kkt_violation:0.009042\"\n",
      "[1] \"-lno=138-i=6--jj:17----tmp_rho:7119.839271,lbfgsPos:3,nSizeLBFGS:3, kkt_violation:0.002772\"\n",
      "[1] \"-lno=139-i=7--jj:17----tmp_rho:72793.855081,lbfgsPos:1,nSizeLBFGS:3, kkt_violation:0.000938\"\n",
      "[1] \"-lno=140-i=8--jj:17----tmp_rho:648465.917259,lbfgsPos:2,nSizeLBFGS:3, kkt_violation:0.000304\"\n",
      "[1] \"-lno=141-i=1--jj:18----tmp_rho:19.662902,lbfgsPos:1,nSizeLBFGS:3, kkt_violation:0.227004\"\n",
      "[1] \"-lno=142-i=2--jj:18----tmp_rho:4.629863,lbfgsPos:2,nSizeLBFGS:3, kkt_violation:0.072169\"\n",
      "[1] \"-lno=143-i=3--jj:18----tmp_rho:36.989014,lbfgsPos:3,nSizeLBFGS:3, kkt_violation:0.045451\"\n",
      "[1] \"-lno=144-i=4--jj:18----tmp_rho:145.860829,lbfgsPos:1,nSizeLBFGS:3, kkt_violation:0.012096\"\n",
      "[1] \"-lno=145-i=5--jj:18----tmp_rho:1796.908123,lbfgsPos:2,nSizeLBFGS:3, kkt_violation:0.004646\"\n",
      "[1] \"-lno=146-i=6--jj:18----tmp_rho:13384.830634,lbfgsPos:3,nSizeLBFGS:3, kkt_violation:0.001456\"\n",
      "[1] \"-lno=147-i=7--jj:18----tmp_rho:132875.397308,lbfgsPos:1,nSizeLBFGS:3, kkt_violation:0.000485\"\n",
      "[1] \"-lno=148-i=8--jj:18----tmp_rho:1210636.749487,lbfgsPos:2,nSizeLBFGS:3, kkt_violation:0.000158\"\n",
      "[1] \"-lno=149-i=1--jj:19----tmp_rho:149.024677,lbfgsPos:1,nSizeLBFGS:3, kkt_violation:0.057103\"\n",
      "[1] \"-lno=150-i=2--jj:19----tmp_rho:380.203593,lbfgsPos:2,nSizeLBFGS:3, kkt_violation:0.019456\"\n",
      "[1] \"-lno=151-i=3--jj:19----tmp_rho:878.213956,lbfgsPos:3,nSizeLBFGS:3, kkt_violation:0.004580\"\n",
      "[1] \"-lno=152-i=4--jj:19----tmp_rho:14953.082301,lbfgsPos:1,nSizeLBFGS:3, kkt_violation:0.001193\"\n",
      "[1] \"-lno=153-i=5--jj:19----tmp_rho:198010.628128,lbfgsPos:2,nSizeLBFGS:3, kkt_violation:0.000397\"\n",
      "[1] \"-lno=154-i=6--jj:19----tmp_rho:1803433.249007,lbfgsPos:3,nSizeLBFGS:3, kkt_violation:0.000129\"\n",
      "[1] \"-lno=155-i=1--jj:20----tmp_rho:62.842550,lbfgsPos:1,nSizeLBFGS:3, kkt_violation:0.063451\"\n",
      "[1] \"-lno=156-i=2--jj:20----tmp_rho:157.125837,lbfgsPos:2,nSizeLBFGS:3, kkt_violation:0.009109\"\n",
      "[1] \"-lno=157-i=3--jj:20----tmp_rho:3025.575709,lbfgsPos:3,nSizeLBFGS:3, kkt_violation:0.003711\"\n",
      "[1] \"-lno=158-i=4--jj:20----tmp_rho:20562.908244,lbfgsPos:1,nSizeLBFGS:3, kkt_violation:0.001226\"\n",
      "[1] \"-lno=159-i=5--jj:20----tmp_rho:189962.555879,lbfgsPos:2,nSizeLBFGS:3, kkt_violation:0.000396\"\n",
      "[1] \"-lno=160-i=6--jj:20----tmp_rho:1807232.944024,lbfgsPos:3,nSizeLBFGS:3, kkt_violation:0.000130\"\n",
      "[1] \"-lno=161-i=1--jj:21----tmp_rho:6.193058,lbfgsPos:1,nSizeLBFGS:3, kkt_violation:0.154145\"\n",
      "[1] \"-lno=162-i=2--jj:21----tmp_rho:102.137060,lbfgsPos:2,nSizeLBFGS:3, kkt_violation:0.045455\"\n",
      "[1] \"-lno=163-i=3--jj:21----tmp_rho:289.333508,lbfgsPos:3,nSizeLBFGS:3, kkt_violation:0.014227\"\n",
      "[1] \"-lno=164-i=4--jj:21----tmp_rho:2370.415211,lbfgsPos:1,nSizeLBFGS:3, kkt_violation:0.006229\"\n",
      "[1] \"-lno=165-i=5--jj:21----tmp_rho:14332.283884,lbfgsPos:2,nSizeLBFGS:3, kkt_violation:0.002141\"\n",
      "[1] \"-lno=166-i=6--jj:21----tmp_rho:125066.298704,lbfgsPos:3,nSizeLBFGS:3, kkt_violation:0.000685\"\n",
      "[1] \"-lno=167-i=7--jj:21----tmp_rho:1205365.348255,lbfgsPos:1,nSizeLBFGS:3, kkt_violation:0.000226\"\n",
      "[1] \"-lno=168-i=1--jj:22----tmp_rho:24.883353,lbfgsPos:1,nSizeLBFGS:3, kkt_violation:0.202934\"\n",
      "[1] \"-lno=169-i=2--jj:22----tmp_rho:5.421425,lbfgsPos:2,nSizeLBFGS:3, kkt_violation:0.078656\"\n",
      "[1] \"-lno=170-i=3--jj:22----tmp_rho:34.466604,lbfgsPos:3,nSizeLBFGS:3, kkt_violation:0.043673\"\n",
      "[1] \"-lno=171-i=4--jj:22----tmp_rho:168.885720,lbfgsPos:1,nSizeLBFGS:3, kkt_violation:0.009797\"\n",
      "[1] \"-lno=172-i=5--jj:22----tmp_rho:2740.954460,lbfgsPos:2,nSizeLBFGS:3, kkt_violation:0.003750\"\n",
      "[1] \"-lno=173-i=6--jj:22----tmp_rho:20478.367767,lbfgsPos:3,nSizeLBFGS:3, kkt_violation:0.001185\"\n",
      "[1] \"-lno=174-i=7--jj:22----tmp_rho:200884.819623,lbfgsPos:1,nSizeLBFGS:3, kkt_violation:0.000393\"\n",
      "[1] \"-lno=175-i=8--jj:22----tmp_rho:1838758.480603,lbfgsPos:2,nSizeLBFGS:3, kkt_violation:0.000128\"\n",
      "[1] \"-lno=176-i=1--jj:23----tmp_rho:10.479431,lbfgsPos:1,nSizeLBFGS:3, kkt_violation:0.421871\"\n",
      "[1] \"-lno=177-i=2--jj:23----tmp_rho:1.380164,lbfgsPos:2,nSizeLBFGS:3, kkt_violation:0.322394\"\n",
      "[1] \"-lno=178-i=3--jj:23----tmp_rho:10.351902,lbfgsPos:3,nSizeLBFGS:3, kkt_violation:0.029675\"\n",
      "[1] \"-lno=179-i=4--jj:23----tmp_rho:1116.308348,lbfgsPos:1,nSizeLBFGS:3, kkt_violation:0.000196\"\n",
      "[1] \"-lno=180-i=1--jj:24----tmp_rho:0.005854,lbfgsPos:1,nSizeLBFGS:3, kkt_violation:0.695334\"\n",
      "[1] \"-lno=181-i=2--jj:24----tmp_rho:36.177417,lbfgsPos:2,nSizeLBFGS:3, kkt_violation:0.675577\"\n",
      "[1] \"-lno=182-i=3--jj:24----tmp_rho:0.116513,lbfgsPos:3,nSizeLBFGS:3, kkt_violation:0.338762\"\n",
      "[1] \"-lno=183-i=4--jj:24----tmp_rho:1.435727,lbfgsPos:1,nSizeLBFGS:3, kkt_violation:0.022151\"\n",
      "[1] \"-lno=184-i=5--jj:24----tmp_rho:176.126910,lbfgsPos:2,nSizeLBFGS:3, kkt_violation:0.006097\"\n",
      "[1] \"-lno=185-i=6--jj:24----tmp_rho:1476.705469,lbfgsPos:3,nSizeLBFGS:3, kkt_violation:0.003750\"\n",
      "[1] \"-lno=186-i=7--jj:24----tmp_rho:5808.435115,lbfgsPos:1,nSizeLBFGS:3, kkt_violation:0.001203\"\n",
      "[1] \"-lno=187-i=8--jj:24----tmp_rho:55674.062122,lbfgsPos:2,nSizeLBFGS:3, kkt_violation:0.000399\"\n",
      "[1] \"-lno=188-i=9--jj:24----tmp_rho:509628.403663,lbfgsPos:3,nSizeLBFGS:3, kkt_violation:0.000130\"\n",
      "[1] \"-lno=189-i=1--jj:25----tmp_rho:0.630474,lbfgsPos:1,nSizeLBFGS:3, kkt_violation:0.176852\"\n",
      "[1] \"-lno=190-i=2--jj:25----tmp_rho:63.495733,lbfgsPos:2,nSizeLBFGS:3, kkt_violation:0.112182\"\n",
      "[1] \"-lno=191-i=3--jj:25----tmp_rho:31.455929,lbfgsPos:3,nSizeLBFGS:3, kkt_violation:0.082345\"\n",
      "[1] \"-lno=192-i=4--jj:25----tmp_rho:65.234560,lbfgsPos:1,nSizeLBFGS:3, kkt_violation:0.101632\"\n",
      "[1] \"-lno=193-i=5--jj:25----tmp_rho:22.398534,lbfgsPos:2,nSizeLBFGS:3, kkt_violation:0.081290\"\n",
      "[1] \"-lno=194-i=6--jj:25----tmp_rho:22.919969,lbfgsPos:3,nSizeLBFGS:3, kkt_violation:0.008632\"\n",
      "[1] \"-lno=195-i=7--jj:25----tmp_rho:2159.882037,lbfgsPos:1,nSizeLBFGS:3, kkt_violation:0.001027\"\n",
      "[1] \"-lno=196-i=1--jj:1----tmp_rho:199.242233,lbfgsPos:1,nSizeLBFGS:3, kkt_violation:0.771977\"\n",
      "[1] \"-lno=197-i=2--jj:1----tmp_rho:0.142857,lbfgsPos:2,nSizeLBFGS:3, kkt_violation:0.467919\"\n",
      "[1] \"-lno=198-i=3--jj:1----tmp_rho:0.058109,lbfgsPos:3,nSizeLBFGS:3, kkt_violation:1.089485\"\n",
      "[1] \"-lno=199-i=4--jj:1----tmp_rho:0.094975,lbfgsPos:1,nSizeLBFGS:3, kkt_violation:0.350420\"\n",
      "[1] \"-lno=200-i=5--jj:1----tmp_rho:4.202271,lbfgsPos:2,nSizeLBFGS:3, kkt_violation:0.225414\"\n",
      "[1] \"-lno=201-i=6--jj:1----tmp_rho:0.583045,lbfgsPos:3,nSizeLBFGS:3, kkt_violation:0.257037\"\n",
      "[1] \"-lno=202-i=7--jj:1----tmp_rho:1.610047,lbfgsPos:1,nSizeLBFGS:3, kkt_violation:0.060906\"\n",
      "[1] \"-lno=203-i=8--jj:1----tmp_rho:61.479653,lbfgsPos:2,nSizeLBFGS:3, kkt_violation:0.014476\"\n",
      "[1] \"-lno=204-i=9--jj:1----tmp_rho:590.090477,lbfgsPos:3,nSizeLBFGS:3, kkt_violation:0.001036\"\n",
      "[1] \"-lno=205-i=1--jj:2----tmp_rho:1.362942,lbfgsPos:1,nSizeLBFGS:3, kkt_violation:1.643891\"\n",
      "[1] \"-lno=206-i=2--jj:2----tmp_rho:0.110441,lbfgsPos:2,nSizeLBFGS:3, kkt_violation:0.686964\"\n",
      "[1] \"-lno=207-i=3--jj:2----tmp_rho:0.405019,lbfgsPos:3,nSizeLBFGS:3, kkt_violation:0.331887\"\n",
      "[1] \"-lno=208-i=4--jj:2----tmp_rho:0.645513,lbfgsPos:1,nSizeLBFGS:3, kkt_violation:0.104323\"\n",
      "[1] \"-lno=209-i=5--jj:2----tmp_rho:3.649997,lbfgsPos:2,nSizeLBFGS:3, kkt_violation:0.020552\"\n",
      "[1] \"-lno=210-i=6--jj:2----tmp_rho:60.971653,lbfgsPos:3,nSizeLBFGS:3, kkt_violation:0.001038\"\n",
      "[1] \"   1. Ttl Inner Its: 239, KKT viol = 1.64e+00, obj = -5.61089258e+01, nz: 27\"\n",
      "[1] \"-lno=211-i=1--jj:1----tmp_rho:0.004214,lbfgsPos:1,nSizeLBFGS:3, kkt_violation:0.964611\"\n",
      "[1] \"-lno=212-i=2--jj:1----tmp_rho:6982.279389,lbfgsPos:2,nSizeLBFGS:3, kkt_violation:0.903876\"\n",
      "[1] \"-lno=213-i=3--jj:1----tmp_rho:0.048403,lbfgsPos:3,nSizeLBFGS:3, kkt_violation:4.954224\"\n",
      "[1] \"-lno=214-i=4--jj:1----tmp_rho:0.117650,lbfgsPos:1,nSizeLBFGS:3, kkt_violation:0.427681\"\n",
      "[1] \"-lno=215-i=5--jj:1----tmp_rho:173.727320,lbfgsPos:2,nSizeLBFGS:3, kkt_violation:0.382582\"\n",
      "[1] \"-lno=216-i=6--jj:1----tmp_rho:5.955019,lbfgsPos:3,nSizeLBFGS:3, kkt_violation:0.072475\"\n",
      "[1] \"-lno=217-i=7--jj:1----tmp_rho:64.017252,lbfgsPos:1,nSizeLBFGS:3, kkt_violation:0.050921\"\n",
      "[1] \"-lno=218-i=8--jj:1----tmp_rho:349.816890,lbfgsPos:2,nSizeLBFGS:3, kkt_violation:0.003786\"\n",
      "[1] \"-lno=219-i=9--jj:1----tmp_rho:76722.040380,lbfgsPos:3,nSizeLBFGS:3, kkt_violation:0.000183\"\n",
      "[1] \"-lno=220-i=1--jj:2----tmp_rho:1555.334626,lbfgsPos:1,nSizeLBFGS:3, kkt_violation:0.027291\"\n",
      "[1] \"-lno=221-i=2--jj:2----tmp_rho:499.090529,lbfgsPos:2,nSizeLBFGS:3, kkt_violation:0.001083\"\n",
      "[1] \"-lno=222-i=1--jj:3----tmp_rho:1962.620173,lbfgsPos:1,nSizeLBFGS:3, kkt_violation:1.000000\"\n",
      "[1] \"-lno=223-i=2--jj:3----tmp_rho:0.179450,lbfgsPos:2,nSizeLBFGS:3, kkt_violation:0.203811\"\n",
      "[1] \"-lno=224-i=3--jj:3----tmp_rho:0.559865,lbfgsPos:3,nSizeLBFGS:3, kkt_violation:0.028602\"\n",
      "[1] \"-lno=225-i=4--jj:3----tmp_rho:16.601697,lbfgsPos:1,nSizeLBFGS:3, kkt_violation:0.007594\"\n",
      "[1] \"-lno=226-i=5--jj:3----tmp_rho:366.423995,lbfgsPos:2,nSizeLBFGS:3, kkt_violation:0.000222\"\n",
      "[1] \"-lno=227-i=1--jj:4----tmp_rho:0.047526,lbfgsPos:1,nSizeLBFGS:3, kkt_violation:0.823012\"\n",
      "[1] \"-lno=228-i=2--jj:4----tmp_rho:20.497388,lbfgsPos:2,nSizeLBFGS:3, kkt_violation:0.794260\"\n",
      "[1] \"-lno=229-i=3--jj:4----tmp_rho:0.198911,lbfgsPos:3,nSizeLBFGS:3, kkt_violation:0.301860\"\n",
      "[1] \"-lno=230-i=4--jj:4----tmp_rho:9.009855,lbfgsPos:1,nSizeLBFGS:3, kkt_violation:0.061320\"\n",
      "[1] \"-lno=231-i=5--jj:4----tmp_rho:526.539802,lbfgsPos:2,nSizeLBFGS:3, kkt_violation:0.028528\"\n",
      "[1] \"-lno=232-i=6--jj:4----tmp_rho:678.396260,lbfgsPos:3,nSizeLBFGS:3, kkt_violation:0.020971\"\n",
      "[1] \"-lno=233-i=7--jj:4----tmp_rho:1217.860072,lbfgsPos:1,nSizeLBFGS:3, kkt_violation:0.018338\"\n",
      "[1] \"-lno=234-i=8--jj:4----tmp_rho:882.776821,lbfgsPos:2,nSizeLBFGS:3, kkt_violation:0.000879\"\n",
      "[1] \"-lno=235-i=1--jj:1----tmp_rho:477.192902,lbfgsPos:1,nSizeLBFGS:3, kkt_violation:0.028134\"\n",
      "[1] \"-lno=236-i=2--jj:1----tmp_rho:731.288932,lbfgsPos:2,nSizeLBFGS:3, kkt_violation:0.001599\"\n",
      "[1] \"-lno=237-i=1--jj:2----tmp_rho:478.765599,lbfgsPos:1,nSizeLBFGS:3, kkt_violation:0.028094\"\n",
      "[1] \"-lno=238-i=2--jj:2----tmp_rho:733.211772,lbfgsPos:2,nSizeLBFGS:3, kkt_violation:0.001594\"\n",
      "[1] \"-lno=239-i=1--jj:3----tmp_rho:245.788294,lbfgsPos:1,nSizeLBFGS:3, kkt_violation:0.003607\"\n",
      "[1] \"-lno=240-i=2--jj:3----tmp_rho:86379.143807,lbfgsPos:2,nSizeLBFGS:3, kkt_violation:0.000211\"\n",
      "[1] \"-lno=241-i=1--jj:4----tmp_rho:245.872650,lbfgsPos:1,nSizeLBFGS:3, kkt_violation:0.003606\"\n",
      "[1] \"-lno=242-i=2--jj:4----tmp_rho:86433.473277,lbfgsPos:2,nSizeLBFGS:3, kkt_violation:0.000211\"\n",
      "[1] \"-lno=243-i=1--jj:5----tmp_rho:478.253670,lbfgsPos:1,nSizeLBFGS:3, kkt_violation:0.028107\"\n",
      "[1] \"-lno=244-i=2--jj:5----tmp_rho:732.585929,lbfgsPos:2,nSizeLBFGS:3, kkt_violation:0.001596\"\n",
      "[1] \"-lno=245-i=1--jj:6----tmp_rho:246.891846,lbfgsPos:1,nSizeLBFGS:3, kkt_violation:0.003592\"\n",
      "[1] \"-lno=246-i=2--jj:6----tmp_rho:87091.172733,lbfgsPos:2,nSizeLBFGS:3, kkt_violation:0.000210\"\n",
      "[1] \"-lno=247-i=1--jj:7----tmp_rho:246.924897,lbfgsPos:1,nSizeLBFGS:3, kkt_violation:0.003592\"\n",
      "[1] \"-lno=248-i=2--jj:7----tmp_rho:87112.540842,lbfgsPos:2,nSizeLBFGS:3, kkt_violation:0.000210\"\n",
      "[1] \"-lno=249-i=1--jj:8----tmp_rho:478.217687,lbfgsPos:1,nSizeLBFGS:3, kkt_violation:0.028108\"\n",
      "[1] \"-lno=250-i=2--jj:8----tmp_rho:732.541936,lbfgsPos:2,nSizeLBFGS:3, kkt_violation:0.001596\"\n",
      "[1] \"-lno=251-i=1--jj:9----tmp_rho:246.598355,lbfgsPos:1,nSizeLBFGS:3, kkt_violation:0.003596\"\n",
      "[1] \"-lno=252-i=2--jj:9----tmp_rho:86901.536269,lbfgsPos:2,nSizeLBFGS:3, kkt_violation:0.000210\"\n",
      "[1] \"-lno=253-i=1--jj:10----tmp_rho:245.550638,lbfgsPos:1,nSizeLBFGS:3, kkt_violation:0.003611\"\n",
      "[1] \"-lno=254-i=2--jj:10----tmp_rho:86226.168978,lbfgsPos:2,nSizeLBFGS:3, kkt_violation:0.000212\"\n",
      "[1] \"-lno=255-i=1--jj:11----tmp_rho:246.674180,lbfgsPos:1,nSizeLBFGS:3, kkt_violation:0.003595\"\n",
      "[1] \"-lno=256-i=2--jj:11----tmp_rho:86950.511144,lbfgsPos:2,nSizeLBFGS:3, kkt_violation:0.000210\"\n",
      "[1] \"-lno=257-i=1--jj:12----tmp_rho:476.183333,lbfgsPos:1,nSizeLBFGS:3, kkt_violation:0.028159\"\n",
      "[1] \"-lno=258-i=2--jj:12----tmp_rho:730.054301,lbfgsPos:2,nSizeLBFGS:3, kkt_violation:0.001602\"\n",
      "[1] \"-lno=259-i=1--jj:13----tmp_rho:31.777822,lbfgsPos:1,nSizeLBFGS:3, kkt_violation:0.297346\"\n",
      "[1] \"-lno=260-i=2--jj:13----tmp_rho:1.130568,lbfgsPos:2,nSizeLBFGS:3, kkt_violation:0.350466\"\n",
      "[1] \"-lno=261-i=3--jj:13----tmp_rho:3.012248,lbfgsPos:3,nSizeLBFGS:3, kkt_violation:0.098956\"\n",
      "[1] \"-lno=262-i=4--jj:13----tmp_rho:86.296829,lbfgsPos:1,nSizeLBFGS:3, kkt_violation:0.027710\"\n",
      "[1] \"-lno=263-i=5--jj:13----tmp_rho:512.391388,lbfgsPos:2,nSizeLBFGS:3, kkt_violation:0.003140\"\n",
      "[1] \"-lno=264-i=1--jj:14----tmp_rho:16.039839,lbfgsPos:1,nSizeLBFGS:3, kkt_violation:0.672078\"\n",
      "[1] \"-lno=265-i=2--jj:14----tmp_rho:0.555761,lbfgsPos:2,nSizeLBFGS:3, kkt_violation:0.200970\"\n",
      "[1] \"-lno=266-i=3--jj:14----tmp_rho:4.896172,lbfgsPos:3,nSizeLBFGS:3, kkt_violation:0.208426\"\n",
      "[1] \"-lno=267-i=4--jj:14----tmp_rho:13.195178,lbfgsPos:1,nSizeLBFGS:3, kkt_violation:0.021845\"\n",
      "[1] \"-lno=268-i=5--jj:14----tmp_rho:953.730213,lbfgsPos:2,nSizeLBFGS:3, kkt_violation:0.005649\"\n",
      "[1] \"-lno=269-i=6--jj:14----tmp_rho:33506.593834,lbfgsPos:3,nSizeLBFGS:3, kkt_violation:0.000226\"\n",
      "[1] \"-lno=270-i=1--jj:15----tmp_rho:476.469495,lbfgsPos:1,nSizeLBFGS:3, kkt_violation:0.028152\"\n",
      "[1] \"-lno=271-i=2--jj:15----tmp_rho:730.404280,lbfgsPos:2,nSizeLBFGS:3, kkt_violation:0.001601\"\n",
      "[1] \"-lno=272-i=1--jj:16----tmp_rho:1401.312377,lbfgsPos:1,nSizeLBFGS:3, kkt_violation:0.050436\"\n",
      "[1] \"-lno=273-i=2--jj:16----tmp_rho:77.399003,lbfgsPos:2,nSizeLBFGS:3, kkt_violation:0.002809\"\n",
      "[1] \"-lno=274-i=3--jj:16----tmp_rho:23369.226408,lbfgsPos:3,nSizeLBFGS:3, kkt_violation:0.000135\"\n",
      "[1] \"-lno=275-i=1--jj:17----tmp_rho:247.042163,lbfgsPos:1,nSizeLBFGS:3, kkt_violation:0.003590\"\n",
      "[1] \"-lno=276-i=2--jj:17----tmp_rho:87188.375547,lbfgsPos:2,nSizeLBFGS:3, kkt_violation:0.000210\"\n",
      "[1] \"-lno=277-i=1--jj:18----tmp_rho:478.037116,lbfgsPos:1,nSizeLBFGS:3, kkt_violation:0.028112\"\n",
      "[1] \"-lno=278-i=2--jj:18----tmp_rho:732.321170,lbfgsPos:2,nSizeLBFGS:3, kkt_violation:0.001597\"\n",
      "[1] \"-lno=279-i=1--jj:19----tmp_rho:477.877737,lbfgsPos:1,nSizeLBFGS:3, kkt_violation:0.028116\"\n",
      "[1] \"-lno=280-i=2--jj:19----tmp_rho:732.126306,lbfgsPos:2,nSizeLBFGS:3, kkt_violation:0.001597\"\n",
      "[1] \"-lno=281-i=1--jj:20----tmp_rho:476.430189,lbfgsPos:1,nSizeLBFGS:3, kkt_violation:0.028153\"\n",
      "[1] \"-lno=282-i=2--jj:20----tmp_rho:730.356210,lbfgsPos:2,nSizeLBFGS:3, kkt_violation:0.001601\"\n",
      "[1] \"-lno=283-i=1--jj:21----tmp_rho:245.538589,lbfgsPos:1,nSizeLBFGS:3, kkt_violation:0.003611\"\n",
      "[1] \"-lno=284-i=2--jj:21----tmp_rho:86218.416751,lbfgsPos:2,nSizeLBFGS:3, kkt_violation:0.000212\"\n",
      "[1] \"-lno=285-i=1--jj:22----tmp_rho:477.870751,lbfgsPos:1,nSizeLBFGS:3, kkt_violation:0.028116\"\n",
      "[1] \"-lno=286-i=2--jj:22----tmp_rho:732.117764,lbfgsPos:2,nSizeLBFGS:3, kkt_violation:0.001597\"\n",
      "[1] \"-lno=287-i=1--jj:23----tmp_rho:245.553849,lbfgsPos:1,nSizeLBFGS:3, kkt_violation:0.003611\"\n",
      "[1] \"-lno=288-i=2--jj:23----tmp_rho:86228.234834,lbfgsPos:2,nSizeLBFGS:3, kkt_violation:0.000212\"\n",
      "[1] \"-lno=289-i=1--jj:24----tmp_rho:1634.561673,lbfgsPos:1,nSizeLBFGS:3, kkt_violation:0.052033\"\n",
      "[1] \"-lno=290-i=2--jj:24----tmp_rho:62.416722,lbfgsPos:2,nSizeLBFGS:3, kkt_violation:0.002892\"\n",
      "[1] \"-lno=291-i=3--jj:24----tmp_rho:18956.091762,lbfgsPos:3,nSizeLBFGS:3, kkt_violation:0.000143\"\n",
      "[1] \"-lno=292-i=1--jj:25----tmp_rho:1166.172095,lbfgsPos:1,nSizeLBFGS:3, kkt_violation:0.048240\"\n",
      "[1] \"-lno=293-i=2--jj:25----tmp_rho:101.343568,lbfgsPos:2,nSizeLBFGS:3, kkt_violation:0.002696\"\n",
      "[1] \"-lno=294-i=3--jj:25----tmp_rho:30305.885550,lbfgsPos:3,nSizeLBFGS:3, kkt_violation:0.000124\"\n",
      "[1] \"-lno=295-i=1--jj:1----tmp_rho:186.161171,lbfgsPos:1,nSizeLBFGS:3, kkt_violation:0.175611\"\n",
      "[1] \"-lno=296-i=2--jj:1----tmp_rho:3.215660,lbfgsPos:2,nSizeLBFGS:3, kkt_violation:0.057099\"\n",
      "[1] \"-lno=297-i=3--jj:1----tmp_rho:44.535296,lbfgsPos:3,nSizeLBFGS:3, kkt_violation:0.011381\"\n",
      "[1] \"-lno=298-i=4--jj:1----tmp_rho:1705.686261,lbfgsPos:1,nSizeLBFGS:3, kkt_violation:0.000622\"\n",
      "[1] \"-lno=299-i=1--jj:2----tmp_rho:0.006268,lbfgsPos:1,nSizeLBFGS:3, kkt_violation:0.775022\"\n",
      "[1] \"-lno=300-i=2--jj:2----tmp_rho:2151.519876,lbfgsPos:2,nSizeLBFGS:3, kkt_violation:0.770119\"\n",
      "[1] \"-lno=301-i=3--jj:2----tmp_rho:0.196904,lbfgsPos:3,nSizeLBFGS:3, kkt_violation:0.594074\"\n",
      "[1] \"-lno=302-i=4--jj:2----tmp_rho:1.373107,lbfgsPos:1,nSizeLBFGS:3, kkt_violation:0.304496\"\n",
      "[1] \"-lno=303-i=5--jj:2----tmp_rho:22.168491,lbfgsPos:2,nSizeLBFGS:3, kkt_violation:0.140263\"\n",
      "[1] \"-lno=304-i=6--jj:2----tmp_rho:19.591571,lbfgsPos:3,nSizeLBFGS:3, kkt_violation:0.077140\"\n",
      "[1] \"-lno=305-i=7--jj:2----tmp_rho:136.431367,lbfgsPos:1,nSizeLBFGS:3, kkt_violation:0.011215\"\n",
      "[1] \"-lno=306-i=8--jj:2----tmp_rho:9162.504576,lbfgsPos:2,nSizeLBFGS:3, kkt_violation:0.005115\"\n",
      "[1] \"-lno=307-i=9--jj:2----tmp_rho:86645.167522,lbfgsPos:3,nSizeLBFGS:3, kkt_violation:0.004936\"\n",
      "[1] \"-lno=308-i=10--jj:2----tmp_rho:10583.855984,lbfgsPos:1,nSizeLBFGS:3, kkt_violation:0.009728\"\n",
      "[1] \"   2. Ttl Inner Its: 128, KKT viol = 1.00e+00, obj = -3.12419336e+01, nz: 27\"\n",
      "[1] \"-lno=309-i=1--jj:1----tmp_rho:96.992523,lbfgsPos:1,nSizeLBFGS:3, kkt_violation:0.012964\"\n",
      "[1] \"-lno=310-i=2--jj:1----tmp_rho:4662.643192,lbfgsPos:2,nSizeLBFGS:3, kkt_violation:0.001597\"\n",
      "[1] \"-lno=311-i=1--jj:2----tmp_rho:5665.233084,lbfgsPos:1,nSizeLBFGS:3, kkt_violation:0.014776\"\n",
      "[1] \"-lno=312-i=2--jj:2----tmp_rho:1619.542194,lbfgsPos:2,nSizeLBFGS:3, kkt_violation:0.000322\"\n",
      "[1] \"-lno=313-i=1--jj:3----tmp_rho:84610.256216,lbfgsPos:1,nSizeLBFGS:3, kkt_violation:0.022035\"\n",
      "[1] \"-lno=314-i=2--jj:3----tmp_rho:48.887533,lbfgsPos:2,nSizeLBFGS:3, kkt_violation:0.000476\"\n",
      "[1] \"-lno=315-i=1--jj:4----tmp_rho:1463.765651,lbfgsPos:1,nSizeLBFGS:3, kkt_violation:0.020062\"\n",
      "[1] \"-lno=316-i=2--jj:4----tmp_rho:370.200565,lbfgsPos:2,nSizeLBFGS:3, kkt_violation:0.000623\"\n",
      "[1] \"-lno=317-i=3--jj:4----tmp_rho:1213.457791,lbfgsPos:3,nSizeLBFGS:3, kkt_violation:0.010023\"\n",
      "[1] \"-lno=318-i=4--jj:4----tmp_rho:909.342256,lbfgsPos:1,nSizeLBFGS:3, kkt_violation:0.001652\"\n",
      "[1] \"-lno=319-i=1--jj:1----tmp_rho:4430.295768,lbfgsPos:1,nSizeLBFGS:3, kkt_violation:0.010134\"\n",
      "[1] \"-lno=320-i=2--jj:1----tmp_rho:5124.754129,lbfgsPos:2,nSizeLBFGS:3, kkt_violation:0.000206\"\n",
      "[1] \"-lno=321-i=1--jj:2----tmp_rho:4430.377165,lbfgsPos:1,nSizeLBFGS:3, kkt_violation:0.010134\"\n",
      "[1] \"-lno=322-i=2--jj:2----tmp_rho:5124.841569,lbfgsPos:2,nSizeLBFGS:3, kkt_violation:0.000206\"\n",
      "[1] \"-lno=323-i=1--jj:3----tmp_rho:2248.054350,lbfgsPos:1,nSizeLBFGS:3, kkt_violation:0.000427\"\n",
      "[1] \"-lno=324-i=1--jj:4----tmp_rho:2248.054487,lbfgsPos:1,nSizeLBFGS:3, kkt_violation:0.000427\"\n",
      "[1] \"-lno=325-i=1--jj:5----tmp_rho:4430.350734,lbfgsPos:1,nSizeLBFGS:3, kkt_violation:0.010134\"\n",
      "[1] \"-lno=326-i=2--jj:5----tmp_rho:5124.813176,lbfgsPos:2,nSizeLBFGS:3, kkt_violation:0.000206\"\n",
      "[1] \"-lno=327-i=1--jj:6----tmp_rho:2248.056131,lbfgsPos:1,nSizeLBFGS:3, kkt_violation:0.000427\"\n",
      "[1] \"-lno=328-i=1--jj:7----tmp_rho:2248.056184,lbfgsPos:1,nSizeLBFGS:3, kkt_violation:0.000427\"\n",
      "[1] \"-lno=329-i=1--jj:8----tmp_rho:4430.348874,lbfgsPos:1,nSizeLBFGS:3, kkt_violation:0.010134\"\n",
      "[1] \"-lno=330-i=2--jj:8----tmp_rho:5124.811178,lbfgsPos:2,nSizeLBFGS:3, kkt_violation:0.000206\"\n",
      "[1] \"-lno=331-i=1--jj:9----tmp_rho:2248.055660,lbfgsPos:1,nSizeLBFGS:3, kkt_violation:0.000427\"\n",
      "[1] \"-lno=332-i=1--jj:10----tmp_rho:2248.053963,lbfgsPos:1,nSizeLBFGS:3, kkt_violation:0.000427\"\n",
      "[1] \"-lno=333-i=1--jj:11----tmp_rho:2248.055782,lbfgsPos:1,nSizeLBFGS:3, kkt_violation:0.000427\"\n",
      "[1] \"-lno=334-i=1--jj:12----tmp_rho:4430.243203,lbfgsPos:1,nSizeLBFGS:3, kkt_violation:0.010134\"\n",
      "[1] \"-lno=335-i=2--jj:12----tmp_rho:5124.697661,lbfgsPos:2,nSizeLBFGS:3, kkt_violation:0.000206\"\n",
      "[1] \"-lno=336-i=1--jj:13----tmp_rho:193.618418,lbfgsPos:1,nSizeLBFGS:3, kkt_violation:0.065210\"\n",
      "[1] \"-lno=337-i=2--jj:13----tmp_rho:86.004991,lbfgsPos:2,nSizeLBFGS:3, kkt_violation:0.008834\"\n",
      "[1] \"-lno=338-i=3--jj:13----tmp_rho:5652.070461,lbfgsPos:3,nSizeLBFGS:3, kkt_violation:0.000610\"\n",
      "[1] \"-lno=339-i=1--jj:14----tmp_rho:4735.515773,lbfgsPos:1,nSizeLBFGS:3, kkt_violation:0.031490\"\n",
      "[1] \"-lno=340-i=2--jj:14----tmp_rho:159.675985,lbfgsPos:2,nSizeLBFGS:3, kkt_violation:0.001095\"\n",
      "[1] \"-lno=341-i=1--jj:15----tmp_rho:4430.258127,lbfgsPos:1,nSizeLBFGS:3, kkt_violation:0.010134\"\n",
      "[1] \"-lno=342-i=2--jj:15----tmp_rho:5124.713694,lbfgsPos:2,nSizeLBFGS:3, kkt_violation:0.000206\"\n",
      "[1] \"-lno=343-i=1--jj:16----tmp_rho:13254.257664,lbfgsPos:1,nSizeLBFGS:3, kkt_violation:0.017265\"\n",
      "[1] \"-lno=344-i=2--jj:16----tmp_rho:592.609892,lbfgsPos:2,nSizeLBFGS:3, kkt_violation:0.000347\"\n",
      "[1] \"-lno=345-i=1--jj:17----tmp_rho:2248.056372,lbfgsPos:1,nSizeLBFGS:3, kkt_violation:0.000427\"\n",
      "[1] \"-lno=346-i=1--jj:18----tmp_rho:4430.339535,lbfgsPos:1,nSizeLBFGS:3, kkt_violation:0.010134\"\n",
      "[1] \"-lno=347-i=2--jj:18----tmp_rho:5124.801146,lbfgsPos:2,nSizeLBFGS:3, kkt_violation:0.000206\"\n",
      "[1] \"-lno=348-i=1--jj:19----tmp_rho:4430.331285,lbfgsPos:1,nSizeLBFGS:3, kkt_violation:0.010134\"\n",
      "[1] \"-lno=349-i=2--jj:19----tmp_rho:5124.792283,lbfgsPos:2,nSizeLBFGS:3, kkt_violation:0.000206\"\n",
      "[1] \"-lno=350-i=1--jj:20----tmp_rho:4430.256079,lbfgsPos:1,nSizeLBFGS:3, kkt_violation:0.010134\"\n",
      "[1] \"-lno=351-i=2--jj:20----tmp_rho:5124.711493,lbfgsPos:2,nSizeLBFGS:3, kkt_violation:0.000206\"\n",
      "[1] \"-lno=352-i=1--jj:21----tmp_rho:2248.053944,lbfgsPos:1,nSizeLBFGS:3, kkt_violation:0.000427\"\n",
      "[1] \"-lno=353-i=1--jj:22----tmp_rho:4430.330923,lbfgsPos:1,nSizeLBFGS:3, kkt_violation:0.010134\"\n",
      "[1] \"-lno=354-i=2--jj:22----tmp_rho:5124.791895,lbfgsPos:2,nSizeLBFGS:3, kkt_violation:0.000206\"\n",
      "[1] \"-lno=355-i=1--jj:23----tmp_rho:2248.053969,lbfgsPos:1,nSizeLBFGS:3, kkt_violation:0.000427\"\n",
      "[1] \"-lno=356-i=1--jj:24----tmp_rho:15455.427865,lbfgsPos:1,nSizeLBFGS:3, kkt_violation:0.017779\"\n",
      "[1] \"-lno=357-i=2--jj:24----tmp_rho:479.204493,lbfgsPos:2,nSizeLBFGS:3, kkt_violation:0.000357\"\n",
      "[1] \"-lno=358-i=1--jj:25----tmp_rho:11053.082637,lbfgsPos:1,nSizeLBFGS:3, kkt_violation:0.016545\"\n",
      "[1] \"-lno=359-i=2--jj:25----tmp_rho:773.809433,lbfgsPos:2,nSizeLBFGS:3, kkt_violation:0.000333\"\n",
      "[1] \"-lno=360-i=1--jj:1----tmp_rho:319070.346668,lbfgsPos:1,nSizeLBFGS:3, kkt_violation:0.003904\"\n",
      "[1] \"-lno=361-i=2--jj:1----tmp_rho:7252.633944,lbfgsPos:2,nSizeLBFGS:3, kkt_violation:0.000267\"\n",
      "[1] \"-lno=362-i=3--jj:1----tmp_rho:1082186.001575,lbfgsPos:3,nSizeLBFGS:3, kkt_violation:0.000117\"\n",
      "[1] \"-lno=363-i=1--jj:2----tmp_rho:690.916419,lbfgsPos:1,nSizeLBFGS:3, kkt_violation:0.001345\"\n",
      "[1] \"-lno=364-i=2--jj:2----tmp_rho:594902.887457,lbfgsPos:2,nSizeLBFGS:3, kkt_violation:0.000206\"\n",
      "[1] \"-lno=365-i=3--jj:2----tmp_rho:132108302.770565,lbfgsPos:3,nSizeLBFGS:3, kkt_violation:0.000201\"\n",
      "[1] \"-lno=366-i=4--jj:2----tmp_rho:3632377.476782,lbfgsPos:1,nSizeLBFGS:3, kkt_violation:0.000401\"\n",
      "[1] \"-lno=367-i=5--jj:2----tmp_rho:4433043.989156,lbfgsPos:2,nSizeLBFGS:3, kkt_violation:0.000476\"\n",
      "[1] \"-lno=368-i=6--jj:2----tmp_rho:2013486.810659,lbfgsPos:3,nSizeLBFGS:3, kkt_violation:0.000161\"\n",
      "[1] \"   3. Ttl Inner Its: 91, KKT viol = 6.52e-02, obj = -2.92501049e+01, nz: 29\"\n",
      "[1] \"   4. Ttl Inner Its: 31, KKT viol = 1.51e-05, obj = -2.92501049e+01, nz: 29\"\n"
     ]
    },
    {
     "name": "stderr",
     "output_type": "stream",
     "text": [
      "Warning message in sqrt(normX^2 + ktensor_norm(M)^2 - 2 * tt_innerprod(M, X)):\n",
      "\"NaNs produced\""
     ]
    },
    {
     "name": "stdout",
     "output_type": "stream",
     "text": [
      "[1] \"===========================================\"\n",
      "[1] \" Final log-likelihood = -2.925010e+01 \"\n",
      "[1] \" Final least squares fit = NaN \"\n",
      "[1] \" Final KKT violation = 1.5062234e-05\"\n",
      "[1] \" Total inner iterations = 489\"\n",
      "[1] \" Total execution time = 0.75 secs\"\n",
      "$lambda\n",
      "[1]  8.999982 47.999910\n",
      "\n",
      "$u\n",
      "$u[[1]]\n",
      "          [,1]       [,2]\n",
      "[1,] 0.1111111 0.00000000\n",
      "[2,] 0.0000000 0.06250023\n",
      "[3,] 0.0000000 0.93749977\n",
      "[4,] 0.8888889 0.00000000\n",
      "\n",
      "$u[[2]]\n",
      "           [,1]       [,2]\n",
      " [1,] 0.0000000 0.04166672\n",
      " [2,] 0.0000000 0.04166672\n",
      " [3,] 0.0000000 0.02083337\n",
      " [4,] 0.0000000 0.02083337\n",
      " [5,] 0.0000000 0.04166672\n",
      " [6,] 0.0000000 0.02083337\n",
      " [7,] 0.0000000 0.02083337\n",
      " [8,] 0.0000000 0.04166672\n",
      " [9,] 0.0000000 0.02083337\n",
      "[10,] 0.0000000 0.02083337\n",
      "[11,] 0.0000000 0.02083337\n",
      "[12,] 0.0000000 0.04166672\n",
      "[13,] 0.2222261 0.00000000\n",
      "[14,] 0.7777739 0.00000000\n",
      "[15,] 0.0000000 0.04166672\n",
      "[16,] 0.0000000 0.12499970\n",
      "[17,] 0.0000000 0.02083337\n",
      "[18,] 0.0000000 0.04166672\n",
      "[19,] 0.0000000 0.04166672\n",
      "[20,] 0.0000000 0.04166672\n",
      "[21,] 0.0000000 0.02083337\n",
      "[22,] 0.0000000 0.04166672\n",
      "[23,] 0.0000000 0.02083337\n",
      "[24,] 0.0000000 0.14583292\n",
      "[25,] 0.0000000 0.10416647\n",
      "\n",
      "$u[[3]]\n",
      "          [,1]      [,2]\n",
      "[1,] 0.8888887 0.1041668\n",
      "[2,] 0.1111113 0.8958332\n",
      "\n",
      "\n"
     ]
    }
   ],
   "source": [
    "P1_3<- cp_apr(M,2,opts=list(alg='pqnr'))\n",
    "\n",
    "print(P1_3$M)"
   ]
  },
  {
   "cell_type": "code",
   "execution_count": 95,
   "id": "8e1a996d",
   "metadata": {},
   "outputs": [
    {
     "ename": "ERROR",
     "evalue": "Error in cp_apr(M, 2, opts = list(alg = \"kappatol\")): invalid alg:kappatol, possible values are mu,pdnr,pqnr\n",
     "output_type": "error",
     "traceback": [
      "Error in cp_apr(M, 2, opts = list(alg = \"kappatol\")): invalid alg:kappatol, possible values are mu,pdnr,pqnr\nTraceback:\n",
      "1. cp_apr(M, 2, opts = list(alg = \"kappatol\"))",
      "2. stop(sprintf(\"invalid alg:%s, possible values are mu,pdnr,pqnr\", \n .     opts[[\"alg\"]]))"
     ]
    }
   ],
   "source": [
    "P1_4<- cp_apr(M,2,opts=list(alg='kappatol'))\n",
    "\n",
    "print(P1_4$M)\n",
    "\n",
    "            ## The alg is available in the doc but not yet supported as of current R -v"
   ]
  },
  {
   "cell_type": "markdown",
   "id": "168cc466",
   "metadata": {},
   "source": [
    "**CP_NMU implementation [ Fail ]**"
   ]
  },
  {
   "cell_type": "code",
   "execution_count": 66,
   "id": "8caeb747",
   "metadata": {},
   "outputs": [
    {
     "name": "stdout",
     "output_type": "stream",
     "text": [
      "[1] 1 2 3\n",
      "[1] \"Nonnegative PARAFAC:\"\n",
      "[1] \"n:1, calc spt_mttkrp...\"\n",
      "[1] \"n:2, calc spt_mttkrp...\"\n",
      "[1] \"n:3, calc spt_mttkrp...\"\n"
     ]
    },
    {
     "name": "stderr",
     "output_type": "stream",
     "text": [
      "Warning message in sqrt(normX^2 + ktensor_norm(P)^2 - 2 * tt_innerprod(P, X)):\n",
      "\"NaNs produced\""
     ]
    },
    {
     "name": "stdout",
     "output_type": "stream",
     "text": [
      "[1] \" Iter  1: fit = NaN fitdelta =     NaN, itime=0.00\"\n",
      "[1] \"n:1, calc spt_mttkrp...\"\n",
      "[1] \"n:2, calc spt_mttkrp...\"\n",
      "[1] \"n:3, calc spt_mttkrp...\"\n"
     ]
    },
    {
     "name": "stderr",
     "output_type": "stream",
     "text": [
      "Warning message in sqrt(normX^2 + ktensor_norm(P)^2 - 2 * tt_innerprod(P, X)):\n",
      "\"NaNs produced\""
     ]
    },
    {
     "name": "stdout",
     "output_type": "stream",
     "text": [
      "[1] \" Iter  2: fit = NaN fitdelta =     NaN, itime=0.01\"\n"
     ]
    },
    {
     "ename": "ERROR",
     "evalue": "Error in if ((iter > 1) && (fitchange < fitchangetol)) {: missing value where TRUE/FALSE needed\n",
     "output_type": "error",
     "traceback": [
      "Error in if ((iter > 1) && (fitchange < fitchangetol)) {: missing value where TRUE/FALSE needed\nTraceback:\n",
      "1. cp_nmu(M, R = 2, opts = list(alg = \"pdnr\"))"
     ]
    }
   ],
   "source": [
    "set.seed(15)\n",
    "\n",
    "P2 <- cp_nmu(M, R=2, opts=list(alg='pdnr'))"
   ]
  },
  {
   "cell_type": "code",
   "execution_count": 73,
   "id": "cb78a6f3",
   "metadata": {},
   "outputs": [
    {
     "name": "stdout",
     "output_type": "stream",
     "text": [
      "[1] \"The modes:\"\n",
      "[1]  4  4 25\n"
     ]
    }
   ],
   "source": [
    "tnsr=getTensor(dm)"
   ]
  },
  {
   "cell_type": "markdown",
   "id": "0cd6db4f",
   "metadata": {},
   "source": [
    "**CP_01 implementation [ Fail ]**"
   ]
  },
  {
   "cell_type": "code",
   "execution_count": 87,
   "id": "f30f4578",
   "metadata": {},
   "outputs": [
    {
     "data": {
      "text/html": [
       "<table>\n",
       "<thead><tr><th scope=col>Src</th><th scope=col>Dst</th><th scope=col>Auth</th></tr></thead>\n",
       "<tbody>\n",
       "\t<tr><td>Comp599155       </td><td>None             </td><td>InteractiveLogon </td></tr>\n",
       "\t<tr><td>Comp599155       </td><td>None             </td><td>InteractiveLogon </td></tr>\n",
       "\t<tr><td>Comp599155       </td><td>None             </td><td>InteractiveLogon </td></tr>\n",
       "\t<tr><td>Comp679250       </td><td>Comp599155       </td><td>NetworkLogon     </td></tr>\n",
       "\t<tr><td>Comp547871       </td><td>ActiveDirectory  </td><td>NetworkLogon     </td></tr>\n",
       "\t<tr><td>Comp679250       </td><td>Comp599155       </td><td>RemoteInteractive</td></tr>\n",
       "\t<tr><td>Comp679250       </td><td>Comp599155       </td><td>NetworkLogon     </td></tr>\n",
       "\t<tr><td>Comp215429       </td><td>Comp599155       </td><td>NetworkLogon     </td></tr>\n",
       "\t<tr><td>Comp599155       </td><td>Comp936659       </td><td>NetworkLogon     </td></tr>\n",
       "\t<tr><td>Comp599155       </td><td>Comp422203       </td><td>NetworkLogon     </td></tr>\n",
       "</tbody>\n",
       "</table>\n"
      ],
      "text/latex": [
       "\\begin{tabular}{lll}\n",
       " Src & Dst & Auth\\\\\n",
       "\\hline\n",
       "\t Comp599155        & None              & InteractiveLogon \\\\\n",
       "\t Comp599155        & None              & InteractiveLogon \\\\\n",
       "\t Comp599155        & None              & InteractiveLogon \\\\\n",
       "\t Comp679250        & Comp599155        & NetworkLogon     \\\\\n",
       "\t Comp547871        & ActiveDirectory   & NetworkLogon     \\\\\n",
       "\t Comp679250        & Comp599155        & RemoteInteractive\\\\\n",
       "\t Comp679250        & Comp599155        & NetworkLogon     \\\\\n",
       "\t Comp215429        & Comp599155        & NetworkLogon     \\\\\n",
       "\t Comp599155        & Comp936659        & NetworkLogon     \\\\\n",
       "\t Comp599155        & Comp422203        & NetworkLogon     \\\\\n",
       "\\end{tabular}\n"
      ],
      "text/markdown": [
       "\n",
       "| Src | Dst | Auth |\n",
       "|---|---|---|\n",
       "| Comp599155        | None              | InteractiveLogon  |\n",
       "| Comp599155        | None              | InteractiveLogon  |\n",
       "| Comp599155        | None              | InteractiveLogon  |\n",
       "| Comp679250        | Comp599155        | NetworkLogon      |\n",
       "| Comp547871        | ActiveDirectory   | NetworkLogon      |\n",
       "| Comp679250        | Comp599155        | RemoteInteractive |\n",
       "| Comp679250        | Comp599155        | NetworkLogon      |\n",
       "| Comp215429        | Comp599155        | NetworkLogon      |\n",
       "| Comp599155        | Comp936659        | NetworkLogon      |\n",
       "| Comp599155        | Comp422203        | NetworkLogon      |\n",
       "\n"
      ],
      "text/plain": [
       "      Src        Dst             Auth             \n",
       " [1,] Comp599155 None            InteractiveLogon \n",
       " [2,] Comp599155 None            InteractiveLogon \n",
       " [3,] Comp599155 None            InteractiveLogon \n",
       " [4,] Comp679250 Comp599155      NetworkLogon     \n",
       " [5,] Comp547871 ActiveDirectory NetworkLogon     \n",
       " [6,] Comp679250 Comp599155      RemoteInteractive\n",
       " [7,] Comp679250 Comp599155      NetworkLogon     \n",
       " [8,] Comp215429 Comp599155      NetworkLogon     \n",
       " [9,] Comp599155 Comp936659      NetworkLogon     \n",
       "[10,] Comp599155 Comp422203      NetworkLogon     "
      ]
     },
     "metadata": {},
     "output_type": "display_data"
    },
    {
     "data": {
      "text/html": [
       "'matrix'"
      ],
      "text/latex": [
       "'matrix'"
      ],
      "text/markdown": [
       "'matrix'"
      ],
      "text/plain": [
       "[1] \"matrix\""
      ]
     },
     "metadata": {},
     "output_type": "display_data"
    }
   ],
   "source": [
    "df<- as.matrix(as.data.frame(cbind(Src=U17$SrcDevice, Dst=U17$DstDevice, Auth=U17$AuthType)))\n",
    "\n",
    "head(df, 10)\n",
    "class(df) "
   ]
  },
  {
   "cell_type": "code",
   "execution_count": 91,
   "id": "948f5417",
   "metadata": {},
   "outputs": [
    {
     "name": "stdout",
     "output_type": "stream",
     "text": [
      "[1] \"The modes:\"\n",
      "[1]  7  7 25\n",
      "[1] 1 2 3\n",
      "[1] \"Nonnegative PARAFAC:\"\n",
      "[1] \"n:1, calc spt_mttkrp...\"\n",
      "[1] \"n:2, calc spt_mttkrp...\"\n",
      "[1] \"n:3, calc spt_mttkrp...\"\n"
     ]
    },
    {
     "ename": "ERROR",
     "evalue": "Error in pracma::accumarray(newsubs, newvals, sz = newsiz): Argument 'sz' does not fit with 'subs'.\n",
     "output_type": "error",
     "traceback": [
      "Error in pracma::accumarray(newsubs, newvals, sz = newsiz): Argument 'sz' does not fit with 'subs'.\nTraceback:\n",
      "1. cp_nmu(T, R = 2)",
      "2. spt_mttkrp(X, U, n)",
      "3. spt_ttv(X, Z, -n)",
      "4. pracma::accumarray(newsubs, newvals, sz = newsiz)",
      "5. stop(\"Argument 'sz' does not fit with 'subs'.\")"
     ]
    }
   ],
   "source": [
    "tnsr=getTensor(df)\n",
    "subs=getTnsrijk(tnsr$X)\n",
    "T<- list(subs=subs,vals=rep(1,nrow(subs)),size=c(length(unique(df[,1])), length(unique(df[,2])), length(unique(df[,3]))))\n",
    "normT=sqrt(sum(T$vals))\n",
    "\n",
    "set.seed(555)\n",
    "P1<- cp_nmu(T, R=2)\n",
    "res<- CP_R01(T, P1[[1]])"
   ]
  },
  {
   "cell_type": "markdown",
   "id": "186363ba",
   "metadata": {},
   "source": [
    "##### Same experiment on AuthType"
   ]
  },
  {
   "cell_type": "code",
   "execution_count": 10,
   "id": "13f622d5",
   "metadata": {},
   "outputs": [
    {
     "data": {
      "text/html": [
       "<table>\n",
       "<thead><tr><th scope=col>t1</th><th scope=col>t2</th><th scope=col>t3</th></tr></thead>\n",
       "<tbody>\n",
       "\t<tr><td>3 </td><td>25</td><td>1 </td></tr>\n",
       "\t<tr><td>3 </td><td>25</td><td>1 </td></tr>\n",
       "\t<tr><td>3 </td><td>25</td><td>1 </td></tr>\n",
       "\t<tr><td>4 </td><td>14</td><td>2 </td></tr>\n",
       "\t<tr><td>2 </td><td> 1</td><td>2 </td></tr>\n",
       "\t<tr><td>4 </td><td>14</td><td>3 </td></tr>\n",
       "\t<tr><td>4 </td><td>14</td><td>2 </td></tr>\n",
       "\t<tr><td>1 </td><td>14</td><td>2 </td></tr>\n",
       "\t<tr><td>3 </td><td>21</td><td>2 </td></tr>\n",
       "\t<tr><td>3 </td><td>10</td><td>2 </td></tr>\n",
       "</tbody>\n",
       "</table>\n"
      ],
      "text/latex": [
       "\\begin{tabular}{lll}\n",
       " t1 & t2 & t3\\\\\n",
       "\\hline\n",
       "\t 3  & 25 & 1 \\\\\n",
       "\t 3  & 25 & 1 \\\\\n",
       "\t 3  & 25 & 1 \\\\\n",
       "\t 4  & 14 & 2 \\\\\n",
       "\t 2  &  1 & 2 \\\\\n",
       "\t 4  & 14 & 3 \\\\\n",
       "\t 4  & 14 & 2 \\\\\n",
       "\t 1  & 14 & 2 \\\\\n",
       "\t 3  & 21 & 2 \\\\\n",
       "\t 3  & 10 & 2 \\\\\n",
       "\\end{tabular}\n"
      ],
      "text/markdown": [
       "\n",
       "| t1 | t2 | t3 |\n",
       "|---|---|---|\n",
       "| 3  | 25 | 1  |\n",
       "| 3  | 25 | 1  |\n",
       "| 3  | 25 | 1  |\n",
       "| 4  | 14 | 2  |\n",
       "| 2  |  1 | 2  |\n",
       "| 4  | 14 | 3  |\n",
       "| 4  | 14 | 2  |\n",
       "| 1  | 14 | 2  |\n",
       "| 3  | 21 | 2  |\n",
       "| 3  | 10 | 2  |\n",
       "\n"
      ],
      "text/plain": [
       "      t1 t2 t3\n",
       " [1,] 3  25 1 \n",
       " [2,] 3  25 1 \n",
       " [3,] 3  25 1 \n",
       " [4,] 4  14 2 \n",
       " [5,] 2   1 2 \n",
       " [6,] 4  14 3 \n",
       " [7,] 4  14 2 \n",
       " [8,] 1  14 2 \n",
       " [9,] 3  21 2 \n",
       "[10,] 3  10 2 "
      ]
     },
     "metadata": {},
     "output_type": "display_data"
    },
    {
     "data": {
      "text/html": [
       "<table>\n",
       "<thead><tr><th scope=col>Src</th><th scope=col>Dst</th><th scope=col>Auth</th></tr></thead>\n",
       "<tbody>\n",
       "\t<tr><td>Comp599155       </td><td>None             </td><td>InteractiveLogon </td></tr>\n",
       "\t<tr><td>Comp599155       </td><td>None             </td><td>InteractiveLogon </td></tr>\n",
       "\t<tr><td>Comp599155       </td><td>None             </td><td>InteractiveLogon </td></tr>\n",
       "\t<tr><td>Comp679250       </td><td>Comp599155       </td><td>NetworkLogon     </td></tr>\n",
       "\t<tr><td>Comp547871       </td><td>ActiveDirectory  </td><td>NetworkLogon     </td></tr>\n",
       "\t<tr><td>Comp679250       </td><td>Comp599155       </td><td>RemoteInteractive</td></tr>\n",
       "\t<tr><td>Comp679250       </td><td>Comp599155       </td><td>NetworkLogon     </td></tr>\n",
       "\t<tr><td>Comp215429       </td><td>Comp599155       </td><td>NetworkLogon     </td></tr>\n",
       "\t<tr><td>Comp599155       </td><td>Comp936659       </td><td>NetworkLogon     </td></tr>\n",
       "\t<tr><td>Comp599155       </td><td>Comp422203       </td><td>NetworkLogon     </td></tr>\n",
       "</tbody>\n",
       "</table>\n"
      ],
      "text/latex": [
       "\\begin{tabular}{lll}\n",
       " Src & Dst & Auth\\\\\n",
       "\\hline\n",
       "\t Comp599155        & None              & InteractiveLogon \\\\\n",
       "\t Comp599155        & None              & InteractiveLogon \\\\\n",
       "\t Comp599155        & None              & InteractiveLogon \\\\\n",
       "\t Comp679250        & Comp599155        & NetworkLogon     \\\\\n",
       "\t Comp547871        & ActiveDirectory   & NetworkLogon     \\\\\n",
       "\t Comp679250        & Comp599155        & RemoteInteractive\\\\\n",
       "\t Comp679250        & Comp599155        & NetworkLogon     \\\\\n",
       "\t Comp215429        & Comp599155        & NetworkLogon     \\\\\n",
       "\t Comp599155        & Comp936659        & NetworkLogon     \\\\\n",
       "\t Comp599155        & Comp422203        & NetworkLogon     \\\\\n",
       "\\end{tabular}\n"
      ],
      "text/markdown": [
       "\n",
       "| Src | Dst | Auth |\n",
       "|---|---|---|\n",
       "| Comp599155        | None              | InteractiveLogon  |\n",
       "| Comp599155        | None              | InteractiveLogon  |\n",
       "| Comp599155        | None              | InteractiveLogon  |\n",
       "| Comp679250        | Comp599155        | NetworkLogon      |\n",
       "| Comp547871        | ActiveDirectory   | NetworkLogon      |\n",
       "| Comp679250        | Comp599155        | RemoteInteractive |\n",
       "| Comp679250        | Comp599155        | NetworkLogon      |\n",
       "| Comp215429        | Comp599155        | NetworkLogon      |\n",
       "| Comp599155        | Comp936659        | NetworkLogon      |\n",
       "| Comp599155        | Comp422203        | NetworkLogon      |\n",
       "\n"
      ],
      "text/plain": [
       "      Src        Dst             Auth             \n",
       " [1,] Comp599155 None            InteractiveLogon \n",
       " [2,] Comp599155 None            InteractiveLogon \n",
       " [3,] Comp599155 None            InteractiveLogon \n",
       " [4,] Comp679250 Comp599155      NetworkLogon     \n",
       " [5,] Comp547871 ActiveDirectory NetworkLogon     \n",
       " [6,] Comp679250 Comp599155      RemoteInteractive\n",
       " [7,] Comp679250 Comp599155      NetworkLogon     \n",
       " [8,] Comp215429 Comp599155      NetworkLogon     \n",
       " [9,] Comp599155 Comp936659      NetworkLogon     \n",
       "[10,] Comp599155 Comp422203      NetworkLogon     "
      ]
     },
     "metadata": {},
     "output_type": "display_data"
    }
   ],
   "source": [
    "df<- as.matrix(as.data.frame(cbind(Src=U17$SrcDevice, Dst=U17$DstDevice, Auth=U17$AuthType)))\n",
    "\n",
    "t1<- tapply(df[,1], df[,1])\n",
    "t2<- tapply(df[,2], df[,2])\n",
    "t3<- tapply(df[,3], df[,3])\n",
    "\n",
    "dt<- as.matrix(cbind(t1,t2,t3))\n",
    "\n",
    "head(dt, 10)\n",
    "head(df, 10)"
   ]
  },
  {
   "cell_type": "code",
   "execution_count": 14,
   "id": "0afe9b9d",
   "metadata": {},
   "outputs": [
    {
     "name": "stdout",
     "output_type": "stream",
     "text": [
      "[1] 0\n",
      "[1] \"CP_PDNR (alternating Poisson regression using damped Newton)\"\n",
      "[1] \"  Precomputing sparse index sets...\"\n",
      "[1] \"done\"\n",
      "[1] \"   1. Ttl Inner Its: 64, KKT viol = 6.37e+00, obj = -5.31177865e+01, nz: 8, time:0.41\"\n",
      "[1] \"   2. Ttl Inner Its: 87, KKT viol = 2.74e+00, obj = -3.18523726e+01, nz: 31, time:0.60\"\n",
      "[1] \"   3. Ttl Inner Its: 36, KKT viol = 4.70e-02, obj = -3.18421374e+01, nz: 31, time:0.61\"\n",
      "[1] \"   4. Ttl Inner Its: 63, KKT viol = 1.74e-02, obj = -3.18392438e+01, nz: 31, time:0.72\"\n",
      "[1] \"   5. Ttl Inner Its: 34, KKT viol = 2.85e-04, obj = -3.18392436e+01, nz: 31, time:0.72\"\n",
      "[1] \"   6. Ttl Inner Its: 33, KKT viol = 1.03e-04, obj = -3.18392436e+01, nz: 31, time:0.74\"\n",
      "[1] \"   7. Ttl Inner Its: 32, KKT viol = 8.05e-05, obj = -3.18392436e+01, nz: 31, time:0.74\"\n"
     ]
    },
    {
     "name": "stderr",
     "output_type": "stream",
     "text": [
      "Warning message in sqrt(normX^2 + ktensor_norm(M)^2 - 2 * tt_innerprod(M, X)):\n",
      "\"NaNs produced\""
     ]
    },
    {
     "name": "stdout",
     "output_type": "stream",
     "text": [
      "[1] \"===========================================\"\n",
      "[1] \" Final log-likelihood = -3.183924e+01 \"\n",
      "[1] \" Final least squares fit = NaN \"\n",
      "[1] \" Final KKT violation = 8.0483328e-05\"\n",
      "[1] \" Total inner iterations = 349\"\n",
      "[1] \" Total execution time = 0.74 secs\"\n",
      "$lambda\n",
      "[1]  8.999967 48.001164\n",
      "\n",
      "$u\n",
      "$u[[1]]\n",
      "          [,1]      [,2]\n",
      "[1,] 0.1111075 0.0000000\n",
      "[2,] 0.0000000 0.0624941\n",
      "[3,] 0.0000000 0.9375059\n",
      "[4,] 0.8888925 0.0000000\n",
      "\n",
      "$u[[2]]\n",
      "           [,1]       [,2]\n",
      " [1,] 0.0000000 0.04166843\n",
      " [2,] 0.0000000 0.04166814\n",
      " [3,] 0.0000000 0.02083244\n",
      " [4,] 0.0000000 0.02083414\n",
      " [5,] 0.0000000 0.04166431\n",
      " [6,] 0.0000000 0.02083115\n",
      " [7,] 0.0000000 0.02083307\n",
      " [8,] 0.0000000 0.04166389\n",
      " [9,] 0.0000000 0.02083422\n",
      "[10,] 0.0000000 0.02083280\n",
      "[11,] 0.0000000 0.02083393\n",
      "[12,] 0.0000000 0.04166565\n",
      "[13,] 0.2222217 0.00000000\n",
      "[14,] 0.7777783 0.00000000\n",
      "[15,] 0.0000000 0.04166781\n",
      "[16,] 0.0000000 0.12499697\n",
      "[17,] 0.0000000 0.02083316\n",
      "[18,] 0.0000000 0.04166484\n",
      "[19,] 0.0000000 0.04166661\n",
      "[20,] 0.0000000 0.04166838\n",
      "[21,] 0.0000000 0.02083283\n",
      "[22,] 0.0000000 0.04166787\n",
      "[23,] 0.0000000 0.02083249\n",
      "[24,] 0.0000000 0.14583604\n",
      "[25,] 0.0000000 0.10417083\n",
      "\n",
      "$u[[3]]\n",
      "          [,1]      [,2]\n",
      "[1,] 0.0000000 0.1041622\n",
      "[2,] 0.6666679 0.8958378\n",
      "[3,] 0.3333321 0.0000000\n",
      "\n",
      "\n"
     ]
    }
   ],
   "source": [
    "MT <- list(subs=dt, vals=rep(1, nrow(dt)), size=c(length(unique(dt[,1])), length(unique(dt[,2])), length(unique(dt[,3]))))\n",
    "\n",
    "set.seed(25)\n",
    "P<- cp_apr(MT,2,opts=list(alg='pdnr'))\n",
    "\n",
    "print(P$M)"
   ]
  },
  {
   "cell_type": "code",
   "execution_count": 27,
   "id": "42ec43aa",
   "metadata": {},
   "outputs": [
    {
     "data": {
      "text/html": [
       "<table>\n",
       "<thead><tr><th scope=col>X1</th><th scope=col>X2</th></tr></thead>\n",
       "<tbody>\n",
       "\t<tr><td>0.0000000 </td><td>0.04166843</td></tr>\n",
       "\t<tr><td>0.0000000 </td><td>0.04166814</td></tr>\n",
       "\t<tr><td>0.0000000 </td><td>0.02083244</td></tr>\n",
       "\t<tr><td>0.0000000 </td><td>0.02083414</td></tr>\n",
       "\t<tr><td>0.0000000 </td><td>0.04166431</td></tr>\n",
       "\t<tr><td>0.0000000 </td><td>0.02083115</td></tr>\n",
       "\t<tr><td>0.0000000 </td><td>0.02083307</td></tr>\n",
       "\t<tr><td>0.0000000 </td><td>0.04166389</td></tr>\n",
       "\t<tr><td>0.0000000 </td><td>0.02083422</td></tr>\n",
       "\t<tr><td>0.0000000 </td><td>0.02083280</td></tr>\n",
       "\t<tr><td>0.0000000 </td><td>0.02083393</td></tr>\n",
       "\t<tr><td>0.0000000 </td><td>0.04166565</td></tr>\n",
       "\t<tr><td>0.2222217 </td><td>0.00000000</td></tr>\n",
       "\t<tr><td>0.7777783 </td><td>0.00000000</td></tr>\n",
       "\t<tr><td>0.0000000 </td><td>0.04166781</td></tr>\n",
       "\t<tr><td>0.0000000 </td><td>0.12499697</td></tr>\n",
       "\t<tr><td>0.0000000 </td><td>0.02083316</td></tr>\n",
       "\t<tr><td>0.0000000 </td><td>0.04166484</td></tr>\n",
       "\t<tr><td>0.0000000 </td><td>0.04166661</td></tr>\n",
       "\t<tr><td>0.0000000 </td><td>0.04166838</td></tr>\n",
       "\t<tr><td>0.0000000 </td><td>0.02083283</td></tr>\n",
       "\t<tr><td>0.0000000 </td><td>0.04166787</td></tr>\n",
       "\t<tr><td>0.0000000 </td><td>0.02083249</td></tr>\n",
       "\t<tr><td>0.0000000 </td><td>0.14583604</td></tr>\n",
       "\t<tr><td>0.0000000 </td><td>0.10417083</td></tr>\n",
       "</tbody>\n",
       "</table>\n"
      ],
      "text/latex": [
       "\\begin{tabular}{r|ll}\n",
       " X1 & X2\\\\\n",
       "\\hline\n",
       "\t 0.0000000  & 0.04166843\\\\\n",
       "\t 0.0000000  & 0.04166814\\\\\n",
       "\t 0.0000000  & 0.02083244\\\\\n",
       "\t 0.0000000  & 0.02083414\\\\\n",
       "\t 0.0000000  & 0.04166431\\\\\n",
       "\t 0.0000000  & 0.02083115\\\\\n",
       "\t 0.0000000  & 0.02083307\\\\\n",
       "\t 0.0000000  & 0.04166389\\\\\n",
       "\t 0.0000000  & 0.02083422\\\\\n",
       "\t 0.0000000  & 0.02083280\\\\\n",
       "\t 0.0000000  & 0.02083393\\\\\n",
       "\t 0.0000000  & 0.04166565\\\\\n",
       "\t 0.2222217  & 0.00000000\\\\\n",
       "\t 0.7777783  & 0.00000000\\\\\n",
       "\t 0.0000000  & 0.04166781\\\\\n",
       "\t 0.0000000  & 0.12499697\\\\\n",
       "\t 0.0000000  & 0.02083316\\\\\n",
       "\t 0.0000000  & 0.04166484\\\\\n",
       "\t 0.0000000  & 0.04166661\\\\\n",
       "\t 0.0000000  & 0.04166838\\\\\n",
       "\t 0.0000000  & 0.02083283\\\\\n",
       "\t 0.0000000  & 0.04166787\\\\\n",
       "\t 0.0000000  & 0.02083249\\\\\n",
       "\t 0.0000000  & 0.14583604\\\\\n",
       "\t 0.0000000  & 0.10417083\\\\\n",
       "\\end{tabular}\n"
      ],
      "text/markdown": [
       "\n",
       "| X1 | X2 |\n",
       "|---|---|\n",
       "| 0.0000000  | 0.04166843 |\n",
       "| 0.0000000  | 0.04166814 |\n",
       "| 0.0000000  | 0.02083244 |\n",
       "| 0.0000000  | 0.02083414 |\n",
       "| 0.0000000  | 0.04166431 |\n",
       "| 0.0000000  | 0.02083115 |\n",
       "| 0.0000000  | 0.02083307 |\n",
       "| 0.0000000  | 0.04166389 |\n",
       "| 0.0000000  | 0.02083422 |\n",
       "| 0.0000000  | 0.02083280 |\n",
       "| 0.0000000  | 0.02083393 |\n",
       "| 0.0000000  | 0.04166565 |\n",
       "| 0.2222217  | 0.00000000 |\n",
       "| 0.7777783  | 0.00000000 |\n",
       "| 0.0000000  | 0.04166781 |\n",
       "| 0.0000000  | 0.12499697 |\n",
       "| 0.0000000  | 0.02083316 |\n",
       "| 0.0000000  | 0.04166484 |\n",
       "| 0.0000000  | 0.04166661 |\n",
       "| 0.0000000  | 0.04166838 |\n",
       "| 0.0000000  | 0.02083283 |\n",
       "| 0.0000000  | 0.04166787 |\n",
       "| 0.0000000  | 0.02083249 |\n",
       "| 0.0000000  | 0.14583604 |\n",
       "| 0.0000000  | 0.10417083 |\n",
       "\n"
      ],
      "text/plain": [
       "   X1        X2        \n",
       "1  0.0000000 0.04166843\n",
       "2  0.0000000 0.04166814\n",
       "3  0.0000000 0.02083244\n",
       "4  0.0000000 0.02083414\n",
       "5  0.0000000 0.04166431\n",
       "6  0.0000000 0.02083115\n",
       "7  0.0000000 0.02083307\n",
       "8  0.0000000 0.04166389\n",
       "9  0.0000000 0.02083422\n",
       "10 0.0000000 0.02083280\n",
       "11 0.0000000 0.02083393\n",
       "12 0.0000000 0.04166565\n",
       "13 0.2222217 0.00000000\n",
       "14 0.7777783 0.00000000\n",
       "15 0.0000000 0.04166781\n",
       "16 0.0000000 0.12499697\n",
       "17 0.0000000 0.02083316\n",
       "18 0.0000000 0.04166484\n",
       "19 0.0000000 0.04166661\n",
       "20 0.0000000 0.04166838\n",
       "21 0.0000000 0.02083283\n",
       "22 0.0000000 0.04166787\n",
       "23 0.0000000 0.02083249\n",
       "24 0.0000000 0.14583604\n",
       "25 0.0000000 0.10417083"
      ]
     },
     "metadata": {},
     "output_type": "display_data"
    },
    {
     "data": {
      "text/html": [
       "<ol class=list-inline>\n",
       "\t<li>25</li>\n",
       "\t<li>2</li>\n",
       "</ol>\n"
      ],
      "text/latex": [
       "\\begin{enumerate*}\n",
       "\\item 25\n",
       "\\item 2\n",
       "\\end{enumerate*}\n"
      ],
      "text/markdown": [
       "1. 25\n",
       "2. 2\n",
       "\n",
       "\n"
      ],
      "text/plain": [
       "[1] 25  2"
      ]
     },
     "metadata": {},
     "output_type": "display_data"
    }
   ],
   "source": [
    "P2<- as.data.frame(P$M$u[2])\n",
    "P2\n",
    "dim(P2)"
   ]
  },
  {
   "cell_type": "markdown",
   "id": "2da9465e",
   "metadata": {},
   "source": [
    "### User794682"
   ]
  },
  {
   "cell_type": "code",
   "execution_count": 67,
   "id": "cb636b6b",
   "metadata": {},
   "outputs": [
    {
     "data": {
      "text/html": [
       "<table>\n",
       "<thead><tr><th></th><th scope=col>UserName</th><th scope=col>SrcDevice</th><th scope=col>DstDevice</th><th scope=col>AuthType</th><th scope=col>Failure</th><th scope=col>DailyCount</th><th scope=col>samp</th></tr></thead>\n",
       "<tbody>\n",
       "\t<tr><th scope=row>628691</th><td>User794682       </td><td>Comp700191       </td><td>None             </td><td>InteractiveLogon </td><td>0                </td><td> 1               </td><td> 1               </td></tr>\n",
       "\t<tr><th scope=row>650158</th><td>User794682       </td><td>Comp700191       </td><td>Comp550312       </td><td>NetworkLogon     </td><td>1                </td><td> 1               </td><td> 2               </td></tr>\n",
       "\t<tr><th scope=row>650813</th><td>User794682       </td><td>Comp700191       </td><td>Comp700191       </td><td>TGS              </td><td>0                </td><td> 1               </td><td> 3               </td></tr>\n",
       "\t<tr><th scope=row>731498</th><td>User794682       </td><td>Comp700191       </td><td>None             </td><td>InteractiveLogon </td><td>1                </td><td> 1               </td><td> 4               </td></tr>\n",
       "\t<tr><th scope=row>759822</th><td>User794682       </td><td>Comp679250       </td><td>Comp679250       </td><td>TGS              </td><td>0                </td><td>11               </td><td> 5               </td></tr>\n",
       "\t<tr><th scope=row>761120</th><td>User794682       </td><td>Comp679250       </td><td>ActiveDirectory  </td><td>TGS              </td><td>0                </td><td> 3               </td><td> 6               </td></tr>\n",
       "\t<tr><th scope=row>789856</th><td>User794682       </td><td>Comp679250       </td><td>None             </td><td>InteractiveLogon </td><td>0                </td><td>20               </td><td> 7               </td></tr>\n",
       "\t<tr><th scope=row>797499</th><td>User794682       </td><td>Comp679250       </td><td>None             </td><td>CachedInteractive</td><td>1                </td><td>10               </td><td> 8               </td></tr>\n",
       "\t<tr><th scope=row>830442</th><td>User794682       </td><td>Comp679250       </td><td>ActiveDirectory  </td><td>NetworkLogon     </td><td>0                </td><td> 1               </td><td> 9               </td></tr>\n",
       "\t<tr><th scope=row>1246255</th><td>User794682       </td><td>Comp679250       </td><td>Comp056180       </td><td>TGS              </td><td>0                </td><td> 1               </td><td>10               </td></tr>\n",
       "</tbody>\n",
       "</table>\n"
      ],
      "text/latex": [
       "\\begin{tabular}{r|lllllll}\n",
       "  & UserName & SrcDevice & DstDevice & AuthType & Failure & DailyCount & samp\\\\\n",
       "\\hline\n",
       "\t628691 & User794682        & Comp700191        & None              & InteractiveLogon  & 0                 &  1                &  1               \\\\\n",
       "\t650158 & User794682        & Comp700191        & Comp550312        & NetworkLogon      & 1                 &  1                &  2               \\\\\n",
       "\t650813 & User794682        & Comp700191        & Comp700191        & TGS               & 0                 &  1                &  3               \\\\\n",
       "\t731498 & User794682        & Comp700191        & None              & InteractiveLogon  & 1                 &  1                &  4               \\\\\n",
       "\t759822 & User794682        & Comp679250        & Comp679250        & TGS               & 0                 & 11                &  5               \\\\\n",
       "\t761120 & User794682        & Comp679250        & ActiveDirectory   & TGS               & 0                 &  3                &  6               \\\\\n",
       "\t789856 & User794682        & Comp679250        & None              & InteractiveLogon  & 0                 & 20                &  7               \\\\\n",
       "\t797499 & User794682        & Comp679250        & None              & CachedInteractive & 1                 & 10                &  8               \\\\\n",
       "\t830442 & User794682        & Comp679250        & ActiveDirectory   & NetworkLogon      & 0                 &  1                &  9               \\\\\n",
       "\t1246255 & User794682        & Comp679250        & Comp056180        & TGS               & 0                 &  1                & 10               \\\\\n",
       "\\end{tabular}\n"
      ],
      "text/markdown": [
       "\n",
       "| <!--/--> | UserName | SrcDevice | DstDevice | AuthType | Failure | DailyCount | samp |\n",
       "|---|---|---|---|---|---|---|---|\n",
       "| 628691 | User794682        | Comp700191        | None              | InteractiveLogon  | 0                 |  1                |  1                |\n",
       "| 650158 | User794682        | Comp700191        | Comp550312        | NetworkLogon      | 1                 |  1                |  2                |\n",
       "| 650813 | User794682        | Comp700191        | Comp700191        | TGS               | 0                 |  1                |  3                |\n",
       "| 731498 | User794682        | Comp700191        | None              | InteractiveLogon  | 1                 |  1                |  4                |\n",
       "| 759822 | User794682        | Comp679250        | Comp679250        | TGS               | 0                 | 11                |  5                |\n",
       "| 761120 | User794682        | Comp679250        | ActiveDirectory   | TGS               | 0                 |  3                |  6                |\n",
       "| 789856 | User794682        | Comp679250        | None              | InteractiveLogon  | 0                 | 20                |  7                |\n",
       "| 797499 | User794682        | Comp679250        | None              | CachedInteractive | 1                 | 10                |  8                |\n",
       "| 830442 | User794682        | Comp679250        | ActiveDirectory   | NetworkLogon      | 0                 |  1                |  9                |\n",
       "| 1246255 | User794682        | Comp679250        | Comp056180        | TGS               | 0                 |  1                | 10                |\n",
       "\n"
      ],
      "text/plain": [
       "        UserName   SrcDevice  DstDevice       AuthType          Failure\n",
       "628691  User794682 Comp700191 None            InteractiveLogon  0      \n",
       "650158  User794682 Comp700191 Comp550312      NetworkLogon      1      \n",
       "650813  User794682 Comp700191 Comp700191      TGS               0      \n",
       "731498  User794682 Comp700191 None            InteractiveLogon  1      \n",
       "759822  User794682 Comp679250 Comp679250      TGS               0      \n",
       "761120  User794682 Comp679250 ActiveDirectory TGS               0      \n",
       "789856  User794682 Comp679250 None            InteractiveLogon  0      \n",
       "797499  User794682 Comp679250 None            CachedInteractive 1      \n",
       "830442  User794682 Comp679250 ActiveDirectory NetworkLogon      0      \n",
       "1246255 User794682 Comp679250 Comp056180      TGS               0      \n",
       "        DailyCount samp\n",
       "628691   1          1  \n",
       "650158   1          2  \n",
       "650813   1          3  \n",
       "731498   1          4  \n",
       "759822  11          5  \n",
       "761120   3          6  \n",
       "789856  20          7  \n",
       "797499  10          8  \n",
       "830442   1          9  \n",
       "1246255  1         10  "
      ]
     },
     "metadata": {},
     "output_type": "display_data"
    },
    {
     "data": {
      "text/html": [
       "<table>\n",
       "<thead><tr><th scope=col>t1</th><th scope=col>t2</th><th scope=col>t3</th></tr></thead>\n",
       "<tbody>\n",
       "\t<tr><td>4 </td><td>10</td><td>1 </td></tr>\n",
       "\t<tr><td>4 </td><td> 6</td><td>2 </td></tr>\n",
       "\t<tr><td>4 </td><td> 8</td><td>1 </td></tr>\n",
       "\t<tr><td>4 </td><td>10</td><td>2 </td></tr>\n",
       "\t<tr><td>3 </td><td> 7</td><td>1 </td></tr>\n",
       "\t<tr><td>3 </td><td> 1</td><td>1 </td></tr>\n",
       "\t<tr><td>3 </td><td>10</td><td>1 </td></tr>\n",
       "\t<tr><td>3 </td><td>10</td><td>2 </td></tr>\n",
       "\t<tr><td>3 </td><td> 1</td><td>1 </td></tr>\n",
       "\t<tr><td>3 </td><td> 3</td><td>1 </td></tr>\n",
       "</tbody>\n",
       "</table>\n"
      ],
      "text/latex": [
       "\\begin{tabular}{lll}\n",
       " t1 & t2 & t3\\\\\n",
       "\\hline\n",
       "\t 4  & 10 & 1 \\\\\n",
       "\t 4  &  6 & 2 \\\\\n",
       "\t 4  &  8 & 1 \\\\\n",
       "\t 4  & 10 & 2 \\\\\n",
       "\t 3  &  7 & 1 \\\\\n",
       "\t 3  &  1 & 1 \\\\\n",
       "\t 3  & 10 & 1 \\\\\n",
       "\t 3  & 10 & 2 \\\\\n",
       "\t 3  &  1 & 1 \\\\\n",
       "\t 3  &  3 & 1 \\\\\n",
       "\\end{tabular}\n"
      ],
      "text/markdown": [
       "\n",
       "| t1 | t2 | t3 |\n",
       "|---|---|---|\n",
       "| 4  | 10 | 1  |\n",
       "| 4  |  6 | 2  |\n",
       "| 4  |  8 | 1  |\n",
       "| 4  | 10 | 2  |\n",
       "| 3  |  7 | 1  |\n",
       "| 3  |  1 | 1  |\n",
       "| 3  | 10 | 1  |\n",
       "| 3  | 10 | 2  |\n",
       "| 3  |  1 | 1  |\n",
       "| 3  |  3 | 1  |\n",
       "\n"
      ],
      "text/plain": [
       "      t1 t2 t3\n",
       " [1,] 4  10 1 \n",
       " [2,] 4   6 2 \n",
       " [3,] 4   8 1 \n",
       " [4,] 4  10 2 \n",
       " [5,] 3   7 1 \n",
       " [6,] 3   1 1 \n",
       " [7,] 3  10 1 \n",
       " [8,] 3  10 2 \n",
       " [9,] 3   1 1 \n",
       "[10,] 3   3 1 "
      ]
     },
     "metadata": {},
     "output_type": "display_data"
    }
   ],
   "source": [
    "U79 <- Auth[Auth$UserName=='User794682', ]\n",
    "df<- as.data.frame(cbind(Src=U79$SrcDevice, Dst=U79$DstDevice, Fail=U79$Failure))\n",
    "\n",
    "t1<- tapply(df$Src, df$Src)\n",
    "t2<- tapply(df$Dst, df$Dst)\n",
    "t3<- tapply(df$Fail, df$Fail)\n",
    "\n",
    "dm<- as.data.frame(cbind(t1,t2,t3))\n",
    "data<- as.data.frame(cbind(U79, samp=c(1:nrow(df))))\n",
    "dm<- as.matrix(dm)\n",
    "\n",
    "head(data, 10)\n",
    "head(dm, 10)"
   ]
  },
  {
   "cell_type": "code",
   "execution_count": 71,
   "id": "5460f3d4",
   "metadata": {},
   "outputs": [
    {
     "name": "stdout",
     "output_type": "stream",
     "text": [
      "[1] 0\n",
      "[1] \"CP_PDNR (alternating Poisson regression using damped Newton)\"\n",
      "[1] \"  Precomputing sparse index sets...\"\n",
      "[1] \"done\"\n",
      "[1] \"   1. Ttl Inner Its: 32, KKT viol = 2.08e+01, obj = 1.70156747e+02, nz: 3, time:0.02\"\n",
      "[1] \"   2. Ttl Inner Its: 41, KKT viol = 4.20e+00, obj = 2.31118805e+02, nz: 4, time:0.03\"\n",
      "[1] \"   3. Ttl Inner Its: 36, KKT viol = 4.45e-01, obj = 2.37552586e+02, nz: 4, time:0.03\"\n",
      "[1] \"   4. Ttl Inner Its: 41, KKT viol = 1.81e+00, obj = 2.38992092e+02, nz: 4, time:0.05\"\n",
      "[1] \"   5. Ttl Inner Its: 24, KKT viol = 4.69e-01, obj = 2.39094981e+02, nz: 5, time:0.05\"\n",
      "[1] \"   6. Ttl Inner Its: 28, KKT viol = 2.11e-02, obj = 2.39103658e+02, nz: 5, time:0.06\"\n",
      "[1] \"   7. Ttl Inner Its: 32, KKT viol = 6.48e-03, obj = 2.39104749e+02, nz: 5, time:0.06\"\n",
      "[1] \"   8. Ttl Inner Its: 32, KKT viol = 2.35e-03, obj = 2.39104936e+02, nz: 5, time:0.08\"\n",
      "[1] \"   9. Ttl Inner Its: 31, KKT viol = 1.02e-03, obj = 2.39104969e+02, nz: 6, time:0.09\"\n",
      "[1] \"  10. Ttl Inner Its: 31, KKT viol = 4.32e-04, obj = 2.39104974e+02, nz: 9, time:0.09\"\n",
      "[1] \"  11. Ttl Inner Its: 22, KKT viol = 1.86e-04, obj = 2.39104975e+02, nz: 9, time:0.09\"\n",
      "[1] \"  12. Ttl Inner Its: 16, KKT viol = 7.76e-05, obj = 2.39104975e+02, nz: 9, time:0.09\"\n"
     ]
    },
    {
     "name": "stderr",
     "output_type": "stream",
     "text": [
      "Warning message in sqrt(normX^2 + ktensor_norm(M)^2 - 2 * tt_innerprod(M, X)):\n",
      "\"NaNs produced\""
     ]
    },
    {
     "name": "stdout",
     "output_type": "stream",
     "text": [
      "[1] \"===========================================\"\n",
      "[1] \" Final log-likelihood = 2.391050e+02 \"\n",
      "[1] \" Final least squares fit = NaN \"\n",
      "[1] \" Final KKT violation = 7.7620558e-05\"\n",
      "[1] \" Total inner iterations = 366\"\n",
      "[1] \" Total execution time = 0.09 secs\"\n",
      "$lambda\n",
      "[1]  59.91216 105.08871\n",
      "\n",
      "$u\n",
      "$u[[1]]\n",
      "           [,1]       [,2]\n",
      "[1,] 0.05949301 0.03269286\n",
      "[2,] 0.01669141 0.00000000\n",
      "[3,] 0.68262340 0.79078322\n",
      "[4,] 0.24119218 0.17652392\n",
      "\n",
      "$u[[2]]\n",
      "              [,1]        [,2]\n",
      " [1,] 1.835615e-02 0.160813603\n",
      " [2,] 0.000000e+00 0.038061346\n",
      " [3,] 0.000000e+00 0.038061346\n",
      " [4,] 1.669187e-02 0.000000000\n",
      " [5,] 0.000000e+00 0.038061346\n",
      " [6,] 1.836106e-01 0.000000000\n",
      " [7,] 0.000000e+00 0.266429412\n",
      " [8,] 5.407694e-10 0.095153367\n",
      " [9,] 0.000000e+00 0.009515337\n",
      "[10,] 7.813414e-01 0.353904243\n",
      "\n",
      "$u[[3]]\n",
      "           [,1] [,2]\n",
      "[1,] 0.09866591    1\n",
      "[2,] 0.90133409    0\n",
      "\n",
      "\n"
     ]
    }
   ],
   "source": [
    "M <- list(subs=dm, vals=rep(1, nrow(dm)), size=c(length(unique(t1)), length(unique(t2)), length(unique(t3))))\n",
    "invisible(M)\n",
    "\n",
    "set.seed(5)\n",
    "P1 <- cp_apr(M,R=2,opts=list(alg='pdnr'))\n",
    "\n",
    "print(P1$M)"
   ]
  },
  {
   "cell_type": "code",
   "execution_count": 21,
   "id": "4e7b804c",
   "metadata": {},
   "outputs": [],
   "source": [
    "Pt1 <- as.data.frame(P1$M$u[1])\n",
    "Pt2 <- as.data.frame(P1$M$u[2])\n",
    "\n",
    "# s1<- sd(Pt1[,1]) + mean(Pt1[,1])\n",
    "# s2<- sd(Pt2[,1]) + mean(Pt2[,1])\n",
    "\n",
    "# print(c(s1, s2))"
   ]
  },
  {
   "cell_type": "code",
   "execution_count": 25,
   "id": "e0f8e197",
   "metadata": {},
   "outputs": [
    {
     "data": {
      "text/html": [
       "0.0179400844410713"
      ],
      "text/latex": [
       "0.0179400844410713"
      ],
      "text/markdown": [
       "0.0179400844410713"
      ],
      "text/plain": [
       "[1] 0.01794008"
      ]
     },
     "metadata": {},
     "output_type": "display_data"
    },
    {
     "data": {
      "text/html": [
       "0.246040362649424"
      ],
      "text/latex": [
       "0.246040362649424"
      ],
      "text/markdown": [
       "0.246040362649424"
      ],
      "text/plain": [
       "[1] 0.2460404"
      ]
     },
     "metadata": {},
     "output_type": "display_data"
    }
   ],
   "source": [
    "s<- IQR(Pt2[,1])\n",
    "s1<- sd(Pt2[,1])\n",
    "s\n",
    "s1"
   ]
  },
  {
   "cell_type": "code",
   "execution_count": 59,
   "id": "f5291be3",
   "metadata": {},
   "outputs": [
    {
     "data": {
      "text/html": [
       "3"
      ],
      "text/latex": [
       "3"
      ],
      "text/markdown": [
       "3"
      ],
      "text/plain": [
       "[1] 3"
      ]
     },
     "metadata": {},
     "output_type": "display_data"
    },
    {
     "data": {
      "text/html": [
       "10"
      ],
      "text/latex": [
       "10"
      ],
      "text/markdown": [
       "10"
      ],
      "text/plain": [
       "[1] 10"
      ]
     },
     "metadata": {},
     "output_type": "display_data"
    }
   ],
   "source": [
    "R1<- as.numeric(row.names(Pt1[Pt1$X1>s1, ]))\n",
    "R2<- as.numeric(row.names(Pt2[Pt2$X1>s2, ]))\n",
    "R1\n",
    "R2"
   ]
  },
  {
   "cell_type": "code",
   "execution_count": 60,
   "id": "0b5fab20",
   "metadata": {},
   "outputs": [
    {
     "data": {
      "text/html": [
       "<table>\n",
       "<thead><tr><th></th><th scope=col>t1</th><th scope=col>t2</th><th scope=col>t3</th></tr></thead>\n",
       "<tbody>\n",
       "\t<tr><th scope=row>8</th><td>3 </td><td>10</td><td>2 </td></tr>\n",
       "\t<tr><th scope=row>11</th><td>3 </td><td>10</td><td>2 </td></tr>\n",
       "\t<tr><th scope=row>14</th><td>3 </td><td>10</td><td>2 </td></tr>\n",
       "\t<tr><th scope=row>18</th><td>3 </td><td>10</td><td>2 </td></tr>\n",
       "\t<tr><th scope=row>21</th><td>3 </td><td>10</td><td>2 </td></tr>\n",
       "\t<tr><th scope=row>27</th><td>3 </td><td>10</td><td>2 </td></tr>\n",
       "\t<tr><th scope=row>31</th><td>3 </td><td>10</td><td>2 </td></tr>\n",
       "\t<tr><th scope=row>33</th><td>3 </td><td>10</td><td>2 </td></tr>\n",
       "\t<tr><th scope=row>39</th><td>3 </td><td>10</td><td>2 </td></tr>\n",
       "\t<tr><th scope=row>45</th><td>3 </td><td>10</td><td>2 </td></tr>\n",
       "\t<tr><th scope=row>47</th><td>3 </td><td>10</td><td>2 </td></tr>\n",
       "\t<tr><th scope=row>53</th><td>3 </td><td>10</td><td>2 </td></tr>\n",
       "\t<tr><th scope=row>57</th><td>3 </td><td>10</td><td>2 </td></tr>\n",
       "\t<tr><th scope=row>68</th><td>3 </td><td>10</td><td>2 </td></tr>\n",
       "\t<tr><th scope=row>70</th><td>3 </td><td>10</td><td>2 </td></tr>\n",
       "\t<tr><th scope=row>73</th><td>3 </td><td>10</td><td>2 </td></tr>\n",
       "\t<tr><th scope=row>78</th><td>3 </td><td>10</td><td>2 </td></tr>\n",
       "\t<tr><th scope=row>87</th><td>3 </td><td>10</td><td>2 </td></tr>\n",
       "\t<tr><th scope=row>95</th><td>3 </td><td>10</td><td>2 </td></tr>\n",
       "\t<tr><th scope=row>101</th><td>3 </td><td>10</td><td>2 </td></tr>\n",
       "\t<tr><th scope=row>103</th><td>3 </td><td>10</td><td>2 </td></tr>\n",
       "\t<tr><th scope=row>109</th><td>3 </td><td>10</td><td>2 </td></tr>\n",
       "\t<tr><th scope=row>112</th><td>3 </td><td>10</td><td>2 </td></tr>\n",
       "\t<tr><th scope=row>114</th><td>3 </td><td>10</td><td>2 </td></tr>\n",
       "\t<tr><th scope=row>117</th><td>3 </td><td>10</td><td>2 </td></tr>\n",
       "\t<tr><th scope=row>120</th><td>3 </td><td>10</td><td>2 </td></tr>\n",
       "\t<tr><th scope=row>125</th><td>3 </td><td>10</td><td>2 </td></tr>\n",
       "\t<tr><th scope=row>129</th><td>3 </td><td>10</td><td>2 </td></tr>\n",
       "\t<tr><th scope=row>132</th><td>3 </td><td>10</td><td>2 </td></tr>\n",
       "\t<tr><th scope=row>136</th><td>3 </td><td>10</td><td>2 </td></tr>\n",
       "\t<tr><th scope=row>139</th><td>3 </td><td>10</td><td>2 </td></tr>\n",
       "\t<tr><th scope=row>141</th><td>3 </td><td>10</td><td>2 </td></tr>\n",
       "\t<tr><th scope=row>147</th><td>3 </td><td>10</td><td>2 </td></tr>\n",
       "\t<tr><th scope=row>153</th><td>3 </td><td>10</td><td>2 </td></tr>\n",
       "\t<tr><th scope=row>162</th><td>3 </td><td>10</td><td>2 </td></tr>\n",
       "\t<tr><th scope=row>165</th><td>3 </td><td>10</td><td>2 </td></tr>\n",
       "</tbody>\n",
       "</table>\n"
      ],
      "text/latex": [
       "\\begin{tabular}{r|lll}\n",
       "  & t1 & t2 & t3\\\\\n",
       "\\hline\n",
       "\t8 & 3  & 10 & 2 \\\\\n",
       "\t11 & 3  & 10 & 2 \\\\\n",
       "\t14 & 3  & 10 & 2 \\\\\n",
       "\t18 & 3  & 10 & 2 \\\\\n",
       "\t21 & 3  & 10 & 2 \\\\\n",
       "\t27 & 3  & 10 & 2 \\\\\n",
       "\t31 & 3  & 10 & 2 \\\\\n",
       "\t33 & 3  & 10 & 2 \\\\\n",
       "\t39 & 3  & 10 & 2 \\\\\n",
       "\t45 & 3  & 10 & 2 \\\\\n",
       "\t47 & 3  & 10 & 2 \\\\\n",
       "\t53 & 3  & 10 & 2 \\\\\n",
       "\t57 & 3  & 10 & 2 \\\\\n",
       "\t68 & 3  & 10 & 2 \\\\\n",
       "\t70 & 3  & 10 & 2 \\\\\n",
       "\t73 & 3  & 10 & 2 \\\\\n",
       "\t78 & 3  & 10 & 2 \\\\\n",
       "\t87 & 3  & 10 & 2 \\\\\n",
       "\t95 & 3  & 10 & 2 \\\\\n",
       "\t101 & 3  & 10 & 2 \\\\\n",
       "\t103 & 3  & 10 & 2 \\\\\n",
       "\t109 & 3  & 10 & 2 \\\\\n",
       "\t112 & 3  & 10 & 2 \\\\\n",
       "\t114 & 3  & 10 & 2 \\\\\n",
       "\t117 & 3  & 10 & 2 \\\\\n",
       "\t120 & 3  & 10 & 2 \\\\\n",
       "\t125 & 3  & 10 & 2 \\\\\n",
       "\t129 & 3  & 10 & 2 \\\\\n",
       "\t132 & 3  & 10 & 2 \\\\\n",
       "\t136 & 3  & 10 & 2 \\\\\n",
       "\t139 & 3  & 10 & 2 \\\\\n",
       "\t141 & 3  & 10 & 2 \\\\\n",
       "\t147 & 3  & 10 & 2 \\\\\n",
       "\t153 & 3  & 10 & 2 \\\\\n",
       "\t162 & 3  & 10 & 2 \\\\\n",
       "\t165 & 3  & 10 & 2 \\\\\n",
       "\\end{tabular}\n"
      ],
      "text/markdown": [
       "\n",
       "| <!--/--> | t1 | t2 | t3 |\n",
       "|---|---|---|---|\n",
       "| 8 | 3  | 10 | 2  |\n",
       "| 11 | 3  | 10 | 2  |\n",
       "| 14 | 3  | 10 | 2  |\n",
       "| 18 | 3  | 10 | 2  |\n",
       "| 21 | 3  | 10 | 2  |\n",
       "| 27 | 3  | 10 | 2  |\n",
       "| 31 | 3  | 10 | 2  |\n",
       "| 33 | 3  | 10 | 2  |\n",
       "| 39 | 3  | 10 | 2  |\n",
       "| 45 | 3  | 10 | 2  |\n",
       "| 47 | 3  | 10 | 2  |\n",
       "| 53 | 3  | 10 | 2  |\n",
       "| 57 | 3  | 10 | 2  |\n",
       "| 68 | 3  | 10 | 2  |\n",
       "| 70 | 3  | 10 | 2  |\n",
       "| 73 | 3  | 10 | 2  |\n",
       "| 78 | 3  | 10 | 2  |\n",
       "| 87 | 3  | 10 | 2  |\n",
       "| 95 | 3  | 10 | 2  |\n",
       "| 101 | 3  | 10 | 2  |\n",
       "| 103 | 3  | 10 | 2  |\n",
       "| 109 | 3  | 10 | 2  |\n",
       "| 112 | 3  | 10 | 2  |\n",
       "| 114 | 3  | 10 | 2  |\n",
       "| 117 | 3  | 10 | 2  |\n",
       "| 120 | 3  | 10 | 2  |\n",
       "| 125 | 3  | 10 | 2  |\n",
       "| 129 | 3  | 10 | 2  |\n",
       "| 132 | 3  | 10 | 2  |\n",
       "| 136 | 3  | 10 | 2  |\n",
       "| 139 | 3  | 10 | 2  |\n",
       "| 141 | 3  | 10 | 2  |\n",
       "| 147 | 3  | 10 | 2  |\n",
       "| 153 | 3  | 10 | 2  |\n",
       "| 162 | 3  | 10 | 2  |\n",
       "| 165 | 3  | 10 | 2  |\n",
       "\n"
      ],
      "text/plain": [
       "    t1 t2 t3\n",
       "8   3  10 2 \n",
       "11  3  10 2 \n",
       "14  3  10 2 \n",
       "18  3  10 2 \n",
       "21  3  10 2 \n",
       "27  3  10 2 \n",
       "31  3  10 2 \n",
       "33  3  10 2 \n",
       "39  3  10 2 \n",
       "45  3  10 2 \n",
       "47  3  10 2 \n",
       "53  3  10 2 \n",
       "57  3  10 2 \n",
       "68  3  10 2 \n",
       "70  3  10 2 \n",
       "73  3  10 2 \n",
       "78  3  10 2 \n",
       "87  3  10 2 \n",
       "95  3  10 2 \n",
       "101 3  10 2 \n",
       "103 3  10 2 \n",
       "109 3  10 2 \n",
       "112 3  10 2 \n",
       "114 3  10 2 \n",
       "117 3  10 2 \n",
       "120 3  10 2 \n",
       "125 3  10 2 \n",
       "129 3  10 2 \n",
       "132 3  10 2 \n",
       "136 3  10 2 \n",
       "139 3  10 2 \n",
       "141 3  10 2 \n",
       "147 3  10 2 \n",
       "153 3  10 2 \n",
       "162 3  10 2 \n",
       "165 3  10 2 "
      ]
     },
     "metadata": {},
     "output_type": "display_data"
    }
   ],
   "source": [
    "dm<- as.data.frame(dm)\n",
    "dmt <- dm[dm$t1%in%R1, ]\n",
    "dmt <- dmt[dmt$t2%in%R2, ]\n",
    "dmt <- dmt[dmt$t3==2, ]\n",
    "dmt"
   ]
  },
  {
   "cell_type": "code",
   "execution_count": 61,
   "id": "be01327e",
   "metadata": {},
   "outputs": [
    {
     "data": {
      "text/html": [
       "21.8181818181818"
      ],
      "text/latex": [
       "21.8181818181818"
      ],
      "text/markdown": [
       "21.8181818181818"
      ],
      "text/plain": [
       "[1] 21.81818"
      ]
     },
     "metadata": {},
     "output_type": "display_data"
    }
   ],
   "source": [
    "nrow(dmt)/nrow(U79)*100"
   ]
  },
  {
   "cell_type": "code",
   "execution_count": 67,
   "id": "d5b801fa",
   "metadata": {},
   "outputs": [
    {
     "data": {
      "text/html": [
       "<ol class=list-inline>\n",
       "\t<li>8</li>\n",
       "\t<li>11</li>\n",
       "\t<li>14</li>\n",
       "\t<li>18</li>\n",
       "\t<li>21</li>\n",
       "\t<li>27</li>\n",
       "</ol>\n"
      ],
      "text/latex": [
       "\\begin{enumerate*}\n",
       "\\item 8\n",
       "\\item 11\n",
       "\\item 14\n",
       "\\item 18\n",
       "\\item 21\n",
       "\\item 27\n",
       "\\end{enumerate*}\n"
      ],
      "text/markdown": [
       "1. 8\n",
       "2. 11\n",
       "3. 14\n",
       "4. 18\n",
       "5. 21\n",
       "6. 27\n",
       "\n",
       "\n"
      ],
      "text/plain": [
       "[1]  8 11 14 18 21 27"
      ]
     },
     "metadata": {},
     "output_type": "display_data"
    },
    {
     "data": {
      "text/html": [
       "36"
      ],
      "text/latex": [
       "36"
      ],
      "text/markdown": [
       "36"
      ],
      "text/plain": [
       "[1] 36"
      ]
     },
     "metadata": {},
     "output_type": "display_data"
    }
   ],
   "source": [
    "N1<- as.numeric(row.names(dmt))\n",
    "head(N1)\n",
    "length(N1)"
   ]
  },
  {
   "cell_type": "code",
   "execution_count": 70,
   "id": "f732557a",
   "metadata": {},
   "outputs": [
    {
     "data": {
      "text/html": [
       "<table>\n",
       "<thead><tr><th></th><th scope=col>UserName</th><th scope=col>SrcDevice</th><th scope=col>DstDevice</th><th scope=col>AuthType</th><th scope=col>Failure</th><th scope=col>DailyCount</th></tr></thead>\n",
       "<tbody>\n",
       "\t<tr><th scope=row>797499</th><td>User794682       </td><td>Comp679250       </td><td>None             </td><td>CachedInteractive</td><td>1                </td><td>10               </td></tr>\n",
       "\t<tr><th scope=row>1273517</th><td>User794682       </td><td>Comp679250       </td><td>None             </td><td>InteractiveLogon </td><td>1                </td><td> 1               </td></tr>\n",
       "\t<tr><th scope=row>1385389</th><td>User794682       </td><td>Comp679250       </td><td>None             </td><td>CachedInteractive</td><td>1                </td><td> 6               </td></tr>\n",
       "\t<tr><th scope=row>1604200</th><td>User794682       </td><td>Comp679250       </td><td>None             </td><td>CachedInteractive</td><td>1                </td><td> 2               </td></tr>\n",
       "\t<tr><th scope=row>1721241</th><td>User794682       </td><td>Comp679250       </td><td>None             </td><td>InteractiveLogon </td><td>1                </td><td> 1               </td></tr>\n",
       "\t<tr><th scope=row>1832590</th><td>User794682       </td><td>Comp679250       </td><td>None             </td><td>CachedInteractive</td><td>1                </td><td>16               </td></tr>\n",
       "</tbody>\n",
       "</table>\n"
      ],
      "text/latex": [
       "\\begin{tabular}{r|llllll}\n",
       "  & UserName & SrcDevice & DstDevice & AuthType & Failure & DailyCount\\\\\n",
       "\\hline\n",
       "\t797499 & User794682        & Comp679250        & None              & CachedInteractive & 1                 & 10               \\\\\n",
       "\t1273517 & User794682        & Comp679250        & None              & InteractiveLogon  & 1                 &  1               \\\\\n",
       "\t1385389 & User794682        & Comp679250        & None              & CachedInteractive & 1                 &  6               \\\\\n",
       "\t1604200 & User794682        & Comp679250        & None              & CachedInteractive & 1                 &  2               \\\\\n",
       "\t1721241 & User794682        & Comp679250        & None              & InteractiveLogon  & 1                 &  1               \\\\\n",
       "\t1832590 & User794682        & Comp679250        & None              & CachedInteractive & 1                 & 16               \\\\\n",
       "\\end{tabular}\n"
      ],
      "text/markdown": [
       "\n",
       "| <!--/--> | UserName | SrcDevice | DstDevice | AuthType | Failure | DailyCount |\n",
       "|---|---|---|---|---|---|---|\n",
       "| 797499 | User794682        | Comp679250        | None              | CachedInteractive | 1                 | 10                |\n",
       "| 1273517 | User794682        | Comp679250        | None              | InteractiveLogon  | 1                 |  1                |\n",
       "| 1385389 | User794682        | Comp679250        | None              | CachedInteractive | 1                 |  6                |\n",
       "| 1604200 | User794682        | Comp679250        | None              | CachedInteractive | 1                 |  2                |\n",
       "| 1721241 | User794682        | Comp679250        | None              | InteractiveLogon  | 1                 |  1                |\n",
       "| 1832590 | User794682        | Comp679250        | None              | CachedInteractive | 1                 | 16                |\n",
       "\n"
      ],
      "text/plain": [
       "        UserName   SrcDevice  DstDevice AuthType          Failure DailyCount\n",
       "797499  User794682 Comp679250 None      CachedInteractive 1       10        \n",
       "1273517 User794682 Comp679250 None      InteractiveLogon  1        1        \n",
       "1385389 User794682 Comp679250 None      CachedInteractive 1        6        \n",
       "1604200 User794682 Comp679250 None      CachedInteractive 1        2        \n",
       "1721241 User794682 Comp679250 None      InteractiveLogon  1        1        \n",
       "1832590 User794682 Comp679250 None      CachedInteractive 1       16        "
      ]
     },
     "metadata": {},
     "output_type": "display_data"
    },
    {
     "data": {
      "text/html": [
       "TRUE"
      ],
      "text/latex": [
       "TRUE"
      ],
      "text/markdown": [
       "TRUE"
      ],
      "text/plain": [
       "[1] TRUE"
      ]
     },
     "metadata": {},
     "output_type": "display_data"
    }
   ],
   "source": [
    "U79_anom <- data[data$samp%in%N1, ]\n",
    "U79_anom <- U79_anom[, -ncol(U79_anom)]\n",
    "head(U79_anom, 20)\n",
    "identical(nrow(U79_anom), length(N1))"
   ]
  },
  {
   "cell_type": "code",
   "execution_count": 61,
   "id": "6c14b4d9",
   "metadata": {},
   "outputs": [],
   "source": [
    "DetectAnomalies <- function(x='User794682', s=1, q=0, m=1) {\n",
    "    User <- Auth[Auth$UserName==x, ]\n",
    "    n<- readline(prompt=\"Which feature would you like to consider as object, AuthType [A] or Failure[F]. Input A/F : \")\n",
    "    if(n=='F') {\n",
    "        df<- as.data.frame(cbind(Src=User$SrcDevice, Dst=User$DstDevice, Obj=User$Failure)) }\n",
    "    if(n=='A') {\n",
    "        df<- as.data.frame(cbind(Src=User$SrcDevice, Dst=User$DstDevice, Obj=User$AuthType)) }\n",
    "    if(n!='A' & n!='F') {\n",
    "        print(\"Unrecognized input.\")\n",
    "        cat(\"\\n\")\n",
    "        stop()\n",
    "    }\n",
    "    \n",
    "    t1<- tapply(df$Src, df$Src)\n",
    "    t2<- tapply(df$Dst, df$Dst)\n",
    "    t3<- tapply(df$Obj, df$Obj)\n",
    "\n",
    "    dm<- as.data.frame(cbind(t1,t2,t3))\n",
    "    data<- as.data.frame(cbind(User, samp=c(1:nrow(df))))\n",
    "    dm<- as.matrix(dm)\n",
    "    \n",
    "    set.seed(5)\n",
    "    M <- list(subs=dm, vals=rep(1, nrow(dm)), size=c(length(unique(t1)), length(unique(t2)), length(unique(t3))))\n",
    "    invisible(M)\n",
    "    P1 <- cp_apr(M,2,opts=list(alg='pdnr'))\n",
    "    cat(\"\\n\")\n",
    "    print(P1$M)\n",
    "    cat(\"\\n\")\n",
    "    \n",
    "    Pt1 <- as.data.frame(P1$M$u[1])\n",
    "    Pt2 <- as.data.frame(P1$M$u[2])\n",
    "    Pt3 <- as.data.frame(P1$M$u[3])\n",
    "    p1<- s*sd(Pt1[,1]) + m*mean(Pt1[,1]) + q*IQR(Pt1[,1])\n",
    "    p2<- s*sd(Pt2[,1]) + m*mean(Pt2[,1]) + q*IQR(Pt2[,1])\n",
    "    p3<- s*sd(Pt3[,1]) + m*mean(Pt3[,1]) + q*IQR(Pt3[,1])\n",
    "\n",
    "    R1<- as.numeric(row.names(Pt1[Pt1$X1>p1, ]))\n",
    "    R2<- as.numeric(row.names(Pt2[Pt2$X1>p2, ]))\n",
    "    R3<- as.numeric(row.names(Pt3[Pt3$X1>p3, ]))\n",
    "    \n",
    "    \n",
    "    dm<- as.data.frame(dm)\n",
    "    dmt <- dm[dm$t1%in%R1, ]\n",
    "    dmt <- dmt[dmt$t2%in%R2, ]\n",
    "    dmt <- dmt[dmt$t3%in%R3, ]\n",
    "    \n",
    "    print(paste(\"The amount of anomalous data is\", nrow(dmt)/nrow(User)*100, \"% of the total data provided.\" ))\n",
    "    cat(\"\\n\")\n",
    "    \n",
    "    N1<- as.numeric(row.names(dmt))\n",
    "    User_anom <- data[data$samp%in%N1, ]\n",
    "    User_anom <- User_anom[, -ncol(User_anom)]\n",
    "    print(paste(\"Verdict for the integrity of the process is:\", identical(nrow(User_anom), length(N1))))\n",
    "    cat(\"\\n\\n\")\n",
    "    print(\"The resulting dataset is:\")\n",
    "    cat(\"\\n\")\n",
    "    head(User_anom, round(nrow(User_anom)/10))\n",
    "}"
   ]
  },
  {
   "cell_type": "code",
   "execution_count": 47,
   "id": "5b67dc1b",
   "metadata": {},
   "outputs": [
    {
     "name": "stdout",
     "output_type": "stream",
     "text": [
      "Which feature would you like to consider as object, AuthType [A] or Failure[F]. Input A/F : F\n",
      "[1] 0\n",
      "[1] \"CP_PDNR (alternating Poisson regression using damped Newton)\"\n",
      "[1] \"  Precomputing sparse index sets...\"\n",
      "[1] \"done\"\n",
      "[1] \"   1. Ttl Inner Its: 32, KKT viol = 2.08e+01, obj = 1.70156747e+02, nz: 3, time:0.03\"\n",
      "[1] \"   2. Ttl Inner Its: 41, KKT viol = 4.20e+00, obj = 2.31118805e+02, nz: 4, time:0.07\"\n",
      "[1] \"   3. Ttl Inner Its: 36, KKT viol = 4.45e-01, obj = 2.37552586e+02, nz: 4, time:0.10\"\n",
      "[1] \"   4. Ttl Inner Its: 41, KKT viol = 1.81e+00, obj = 2.38992092e+02, nz: 4, time:0.13\"\n",
      "[1] \"   5. Ttl Inner Its: 24, KKT viol = 4.69e-01, obj = 2.39094981e+02, nz: 5, time:0.13\"\n",
      "[1] \"   6. Ttl Inner Its: 28, KKT viol = 2.11e-02, obj = 2.39103658e+02, nz: 5, time:0.16\"\n",
      "[1] \"   7. Ttl Inner Its: 32, KKT viol = 6.48e-03, obj = 2.39104749e+02, nz: 5, time:0.17\"\n",
      "[1] \"   8. Ttl Inner Its: 32, KKT viol = 2.35e-03, obj = 2.39104936e+02, nz: 5, time:0.21\"\n",
      "[1] \"   9. Ttl Inner Its: 31, KKT viol = 1.02e-03, obj = 2.39104969e+02, nz: 6, time:0.22\"\n",
      "[1] \"  10. Ttl Inner Its: 31, KKT viol = 4.32e-04, obj = 2.39104974e+02, nz: 9, time:0.24\"\n",
      "[1] \"  11. Ttl Inner Its: 22, KKT viol = 1.86e-04, obj = 2.39104975e+02, nz: 9, time:0.25\"\n",
      "[1] \"  12. Ttl Inner Its: 16, KKT viol = 7.76e-05, obj = 2.39104975e+02, nz: 9, time:0.25\"\n"
     ]
    },
    {
     "name": "stderr",
     "output_type": "stream",
     "text": [
      "Warning message in sqrt(normX^2 + ktensor_norm(M)^2 - 2 * tt_innerprod(M, X)):\n",
      "\"NaNs produced\""
     ]
    },
    {
     "name": "stdout",
     "output_type": "stream",
     "text": [
      "[1] \"===========================================\"\n",
      "[1] \" Final log-likelihood = 2.391050e+02 \"\n",
      "[1] \" Final least squares fit = NaN \"\n",
      "[1] \" Final KKT violation = 7.7620558e-05\"\n",
      "[1] \" Total inner iterations = 366\"\n",
      "[1] \" Total execution time = 0.25 secs\"\n",
      "\n",
      "\n",
      "[1] \"The amount of anomalous data is 22.4242424242424 % of the total data provided.\"\n",
      "\n",
      "[1] \"Verdict for the integrity of the process is: TRUE\"\n",
      "\n",
      "\n",
      "[1] \"The resulting dataset is:\"\n",
      "\n"
     ]
    },
    {
     "data": {
      "text/html": [
       "<table>\n",
       "<thead><tr><th></th><th scope=col>UserName</th><th scope=col>SrcDevice</th><th scope=col>DstDevice</th><th scope=col>AuthType</th><th scope=col>Failure</th><th scope=col>DailyCount</th></tr></thead>\n",
       "<tbody>\n",
       "\t<tr><th scope=row>797499</th><td>User794682       </td><td>Comp679250       </td><td>None             </td><td>CachedInteractive</td><td>1                </td><td>10               </td></tr>\n",
       "\t<tr><th scope=row>1273517</th><td>User794682       </td><td>Comp679250       </td><td>None             </td><td>InteractiveLogon </td><td>1                </td><td> 1               </td></tr>\n",
       "\t<tr><th scope=row>1385389</th><td>User794682       </td><td>Comp679250       </td><td>None             </td><td>CachedInteractive</td><td>1                </td><td> 6               </td></tr>\n",
       "\t<tr><th scope=row>1604200</th><td>User794682       </td><td>Comp679250       </td><td>None             </td><td>CachedInteractive</td><td>1                </td><td> 2               </td></tr>\n",
       "</tbody>\n",
       "</table>\n"
      ],
      "text/latex": [
       "\\begin{tabular}{r|llllll}\n",
       "  & UserName & SrcDevice & DstDevice & AuthType & Failure & DailyCount\\\\\n",
       "\\hline\n",
       "\t797499 & User794682        & Comp679250        & None              & CachedInteractive & 1                 & 10               \\\\\n",
       "\t1273517 & User794682        & Comp679250        & None              & InteractiveLogon  & 1                 &  1               \\\\\n",
       "\t1385389 & User794682        & Comp679250        & None              & CachedInteractive & 1                 &  6               \\\\\n",
       "\t1604200 & User794682        & Comp679250        & None              & CachedInteractive & 1                 &  2               \\\\\n",
       "\\end{tabular}\n"
      ],
      "text/markdown": [
       "\n",
       "| <!--/--> | UserName | SrcDevice | DstDevice | AuthType | Failure | DailyCount |\n",
       "|---|---|---|---|---|---|---|\n",
       "| 797499 | User794682        | Comp679250        | None              | CachedInteractive | 1                 | 10                |\n",
       "| 1273517 | User794682        | Comp679250        | None              | InteractiveLogon  | 1                 |  1                |\n",
       "| 1385389 | User794682        | Comp679250        | None              | CachedInteractive | 1                 |  6                |\n",
       "| 1604200 | User794682        | Comp679250        | None              | CachedInteractive | 1                 |  2                |\n",
       "\n"
      ],
      "text/plain": [
       "        UserName   SrcDevice  DstDevice AuthType          Failure DailyCount\n",
       "797499  User794682 Comp679250 None      CachedInteractive 1       10        \n",
       "1273517 User794682 Comp679250 None      InteractiveLogon  1        1        \n",
       "1385389 User794682 Comp679250 None      CachedInteractive 1        6        \n",
       "1604200 User794682 Comp679250 None      CachedInteractive 1        2        "
      ]
     },
     "metadata": {},
     "output_type": "display_data"
    }
   ],
   "source": [
    "DetectAnomalies(s=0, m=0, q=1)"
   ]
  },
  {
   "cell_type": "code",
   "execution_count": 63,
   "id": "a884d628",
   "metadata": {},
   "outputs": [
    {
     "name": "stdout",
     "output_type": "stream",
     "text": [
      "Which feature would you like to consider as object, AuthType [A] or Failure[F]. Input A/F : F\n",
      "[1] 0\n",
      "[1] \"CP_PDNR (alternating Poisson regression using damped Newton)\"\n",
      "[1] \"  Precomputing sparse index sets...\"\n",
      "[1] \"done\"\n",
      "[1] \"   1. Ttl Inner Its: 862, KKT viol = 8.79e+01, obj = 1.82825576e+04, nz: 263, time:2.06\"\n",
      "[1] \"   2. Ttl Inner Its: 532, KKT viol = 1.60e+01, obj = 3.06047529e+04, nz: 272, time:2.33\"\n",
      "[1] \"   3. Ttl Inner Its: 1078, KKT viol = 1.38e+00, obj = 3.54111463e+04, nz: 277, time:3.08\"\n",
      "[1] \"   4. Ttl Inner Its: 1007, KKT viol = 1.28e+00, obj = 3.56548170e+04, nz: 269, time:4.19\"\n",
      "[1] \"   5. Ttl Inner Its: 607, KKT viol = 1.40e+00, obj = 3.59742937e+04, nz: 268, time:5.61\"\n",
      "[1] \"   6. Ttl Inner Its: 528, KKT viol = 2.48e+00, obj = 3.63073117e+04, nz: 272, time:6.03\"\n",
      "[1] \"   7. Ttl Inner Its: 463, KKT viol = 3.84e-01, obj = 3.63317937e+04, nz: 274, time:6.46\"\n",
      "[1] \"   8. Ttl Inner Its: 879, KKT viol = 1.24e+00, obj = 3.63412616e+04, nz: 276, time:7.91\"\n",
      "[1] \"   9. Ttl Inner Its: 451, KKT viol = 6.36e-01, obj = 3.63460661e+04, nz: 276, time:8.60\"\n",
      "[1] \"  10. Ttl Inner Its: 477, KKT viol = 9.47e-02, obj = 3.63469131e+04, nz: 277, time:8.71\"\n",
      "[1] \"  11. Ttl Inner Its: 888, KKT viol = 6.22e-03, obj = 3.63471084e+04, nz: 277, time:9.08\"\n",
      "[1] \"  12. Ttl Inner Its: 1276, KKT viol = 4.23e-03, obj = 3.63471467e+04, nz: 277, time:9.63\"\n",
      "[1] \"  13. Ttl Inner Its: 445, KKT viol = 1.08e-03, obj = 3.63471468e+04, nz: 277, time:9.72\"\n",
      "[1] \"  14. Ttl Inner Its: 434, KKT viol = 2.78e-04, obj = 3.63471468e+04, nz: 277, time:9.80\"\n",
      "[1] \"  15. Ttl Inner Its: 431, KKT viol = 9.99e-05, obj = 3.63471468e+04, nz: 277, time:9.91\"\n"
     ]
    },
    {
     "name": "stderr",
     "output_type": "stream",
     "text": [
      "Warning message in sqrt(normX^2 + ktensor_norm(M)^2 - 2 * tt_innerprod(M, X)):\n",
      "\"NaNs produced\""
     ]
    },
    {
     "name": "stdout",
     "output_type": "stream",
     "text": [
      "[1] \"===========================================\"\n",
      "[1] \" Final log-likelihood = 3.634715e+04 \"\n",
      "[1] \" Final least squares fit = NaN \"\n",
      "[1] \" Final KKT violation = 9.9887570e-05\"\n",
      "[1] \" Total inner iterations = 10358\"\n",
      "[1] \" Total execution time = 9.91 secs\"\n",
      "\n",
      "$lambda\n",
      "[1] 11570.124  4221.026\n",
      "\n",
      "$u\n",
      "$u[[1]]\n",
      "               [,1]         [,2]\n",
      "  [1,] 6.050168e-04 0.000000e+00\n",
      "  [2,] 5.185799e-04 1.664249e-08\n",
      "  [3,] 6.050169e-04 0.000000e+00\n",
      "  [4,] 5.185858e-04 0.000000e+00\n",
      "  [5,] 5.185806e-04 1.457767e-08\n",
      "  [6,] 1.037172e-03 0.000000e+00\n",
      "  [7,] 6.050169e-04 0.000000e+00\n",
      "  [8,] 1.296465e-03 0.000000e+00\n",
      "  [9,] 6.914479e-04 0.000000e+00\n",
      " [10,] 4.321549e-04 0.000000e+00\n",
      " [11,] 8.643097e-05 0.000000e+00\n",
      " [12,] 9.507407e-04 0.000000e+00\n",
      " [13,] 5.185859e-04 0.000000e+00\n",
      " [14,] 8.643098e-05 0.000000e+00\n",
      " [15,] 2.592930e-04 0.000000e+00\n",
      " [16,] 4.321484e-04 1.781658e-08\n",
      " [17,] 1.728619e-04 0.000000e+00\n",
      " [18,] 2.592930e-04 0.000000e+00\n",
      " [19,] 1.123603e-03 0.000000e+00\n",
      " [20,] 3.509104e-02 0.000000e+00\n",
      " [21,] 2.217345e-03 1.334832e-02\n",
      " [22,] 3.457239e-04 0.000000e+00\n",
      " [23,] 4.321548e-04 0.000000e+00\n",
      " [24,] 6.914409e-04 1.908960e-08\n",
      " [25,] 6.050168e-04 0.000000e+00\n",
      " [26,] 6.050168e-04 0.000000e+00\n",
      " [27,] 6.050169e-04 0.000000e+00\n",
      " [28,] 6.050089e-04 2.194796e-08\n",
      " [29,] 4.321466e-04 2.294613e-08\n",
      " [30,] 4.321491e-04 1.614538e-08\n",
      " [31,] 3.457172e-04 1.842198e-08\n",
      " [32,] 2.592929e-04 0.000000e+00\n",
      " [33,] 8.643098e-05 0.000000e+00\n",
      " [34,] 5.030272e-02 0.000000e+00\n",
      " [35,] 1.910123e-02 0.000000e+00\n",
      " [36,] 8.643098e-05 0.000000e+00\n",
      " [37,] 7.778788e-04 0.000000e+00\n",
      " [38,] 7.299138e-04 1.315970e-03\n",
      " [39,] 5.185858e-04 0.000000e+00\n",
      " [40,] 2.592868e-04 1.676838e-08\n",
      " [41,] 1.728620e-04 0.000000e+00\n",
      " [42,] 5.185805e-04 1.498967e-08\n",
      " [43,] 2.333636e-03 0.000000e+00\n",
      " [44,] 2.592929e-04 0.000000e+00\n",
      " [45,] 3.457239e-04 0.000000e+00\n",
      " [46,] 0.000000e+00 9.713153e-03\n",
      " [47,] 2.592843e-04 2.366429e-08\n",
      " [48,] 3.457239e-04 0.000000e+00\n",
      " [49,] 1.210034e-03 0.000000e+00\n",
      " [50,] 5.185858e-04 0.000000e+00\n",
      " [51,] 3.327598e-02 0.000000e+00\n",
      " [52,] 6.050169e-04 0.000000e+00\n",
      " [53,] 8.643098e-04 0.000000e+00\n",
      " [54,] 5.185858e-04 0.000000e+00\n",
      " [55,] 4.321494e-04 1.521135e-08\n",
      " [56,] 2.601570e-02 0.000000e+00\n",
      " [57,] 4.321489e-04 1.661270e-08\n",
      " [58,] 6.914478e-04 0.000000e+00\n",
      " [59,] 0.000000e+00 2.037392e-02\n",
      " [60,] 9.507342e-04 1.842059e-08\n",
      " [61,] 4.321549e-04 0.000000e+00\n",
      " [62,] 6.914478e-04 0.000000e+00\n",
      " [63,] 9.507348e-04 1.662742e-08\n",
      " [64,] 3.457239e-04 0.000000e+00\n",
      " [65,] 5.185794e-04 1.800675e-08\n",
      " [66,] 1.815051e-03 0.000000e+00\n",
      " [67,] 8.643097e-05 0.000000e+00\n",
      " [68,] 3.457175e-04 1.776442e-08\n",
      " [69,] 5.185858e-04 0.000000e+00\n",
      " [70,] 3.457239e-04 0.000000e+00\n",
      " [71,] 4.321467e-04 2.260589e-08\n",
      " [72,] 5.185859e-04 0.000000e+00\n",
      " [73,] 0.000000e+00 2.369062e-04\n",
      " [74,] 3.163378e-02 0.000000e+00\n",
      " [75,] 6.050168e-04 0.000000e+00\n",
      " [76,] 2.592929e-04 0.000000e+00\n",
      " [77,] 6.050109e-04 1.647629e-08\n",
      " [78,] 5.185859e-04 0.000000e+00\n",
      " [79,] 6.050105e-04 1.761248e-08\n",
      " [80,] 6.050168e-04 0.000000e+00\n",
      " [81,] 2.592856e-04 2.018780e-08\n",
      " [82,] 7.778788e-04 0.000000e+00\n",
      " [83,] 2.247206e-03 0.000000e+00\n",
      " [84,] 8.642531e-05 1.556188e-08\n",
      " [85,] 2.592929e-04 0.000000e+00\n",
      " [86,] 2.592929e-04 0.000000e+00\n",
      " [87,] 9.507345e-04 1.749274e-08\n",
      " [88,] 6.050169e-04 0.000000e+00\n",
      " [89,] 5.185859e-04 0.000000e+00\n",
      " [90,] 6.050089e-04 2.194365e-08\n",
      " [91,] 8.643097e-04 0.000000e+00\n",
      " [92,] 8.643098e-05 0.000000e+00\n",
      " [93,] 1.728562e-04 1.595939e-08\n",
      " [94,] 3.457177e-04 1.716616e-08\n",
      " [95,] 8.642541e-05 1.530341e-08\n",
      " [96,] 1.728620e-04 0.000000e+00\n",
      " [97,] 4.321549e-04 0.000000e+00\n",
      " [98,] 8.643098e-05 0.000000e+00\n",
      " [99,] 2.592929e-04 0.000000e+00\n",
      "[100,] 8.643098e-05 0.000000e+00\n",
      "[101,] 4.321464e-04 2.351310e-08\n",
      "[102,] 9.507408e-04 0.000000e+00\n",
      "[103,] 9.420975e-03 0.000000e+00\n",
      "[104,] 7.778733e-04 1.521976e-08\n",
      "[105,] 2.592846e-04 2.297998e-08\n",
      "[106,] 3.457239e-04 0.000000e+00\n",
      "[107,] 1.296465e-03 0.000000e+00\n",
      "[108,] 1.728564e-04 1.522821e-08\n",
      "[109,] 4.321470e-04 2.168607e-08\n",
      "[110,] 8.642439e-05 1.807674e-08\n",
      "[111,] 2.592929e-04 0.000000e+00\n",
      "[112,] 7.778718e-04 1.949226e-08\n",
      "[113,] 7.778787e-04 0.000000e+00\n",
      "[114,] 2.592929e-04 0.000000e+00\n",
      "[115,] 2.592869e-04 1.651105e-08\n",
      "[116,] 6.914406e-04 2.015587e-08\n",
      "[117,] 8.643098e-04 0.000000e+00\n",
      "[118,] 1.728540e-04 2.193563e-08\n",
      "[119,] 1.728535e-04 2.324823e-08\n",
      "[120,] 5.948814e-03 2.610003e-02\n",
      "[121,] 4.321481e-04 1.889095e-08\n",
      "[122,] 0.000000e+00 7.107187e-04\n",
      "[123,] 2.592929e-04 0.000000e+00\n",
      "[124,] 4.321488e-04 1.673228e-08\n",
      "[125,] 6.050117e-04 1.438697e-08\n",
      "[126,] 8.642487e-05 1.676257e-08\n",
      "[127,] 4.321474e-04 2.076282e-08\n",
      "[128,] 3.457160e-04 2.176962e-08\n",
      "[129,] 5.185858e-04 0.000000e+00\n",
      "[130,] 4.321549e-04 0.000000e+00\n",
      "[131,] 1.728543e-04 2.099875e-08\n",
      "[132,] 7.087342e-03 0.000000e+00\n",
      "[133,] 8.642287e-05 2.224089e-08\n",
      "[134,] 6.050099e-04 1.922411e-08\n",
      "[135,] 6.914478e-04 0.000000e+00\n",
      "[136,] 2.592854e-04 2.062519e-08\n",
      "[137,] 2.981691e-04 1.303348e-04\n",
      "[138,] 4.528976e-02 0.000000e+00\n",
      "[139,] 4.321478e-04 1.965132e-08\n",
      "[140,] 1.382896e-03 0.000000e+00\n",
      "[141,] 4.321497e-04 1.431746e-08\n",
      "[142,] 3.457155e-04 2.323148e-08\n",
      "[143,] 4.321491e-04 1.606751e-08\n",
      "[144,] 8.643098e-05 0.000000e+00\n",
      "[145,] 6.914478e-04 0.000000e+00\n",
      "[146,] 2.592929e-04 0.000000e+00\n",
      "[147,] 1.728619e-04 0.000000e+00\n",
      "[148,] 8.643098e-04 0.000000e+00\n",
      "[149,] 5.185797e-04 1.696226e-08\n",
      "[150,] 8.643098e-05 0.000000e+00\n",
      "[151,] 4.321487e-04 1.713476e-08\n",
      "[152,] 1.728538e-04 2.237958e-08\n",
      "[153,] 4.926577e-02 0.000000e+00\n",
      "[154,] 4.321496e-04 1.461310e-08\n",
      "[155,] 2.644786e-02 0.000000e+00\n",
      "[156,] 7.778705e-04 2.296159e-08\n",
      "[157,] 2.592929e-04 0.000000e+00\n",
      "[158,] 5.185859e-04 0.000000e+00\n",
      "[159,] 4.321477e-04 1.976149e-08\n",
      "[160,] 8.642283e-05 2.235088e-08\n",
      "[161,] 1.296465e-03 0.000000e+00\n",
      "[162,] 1.296456e-03 2.294084e-08\n",
      "[163,] 1.858268e-02 0.000000e+00\n",
      "[164,] 1.728620e-04 0.000000e+00\n",
      "[165,] 4.321548e-04 0.000000e+00\n",
      "[166,] 3.457176e-04 1.736018e-08\n",
      "[167,] 0.000000e+00 2.369062e-04\n",
      "[168,] 1.210034e-03 0.000000e+00\n",
      "[169,] 5.185858e-04 0.000000e+00\n",
      "[170,] 5.185807e-04 1.435027e-08\n",
      "[171,] 3.457176e-04 1.740449e-08\n",
      "[172,] 6.050084e-04 2.347754e-08\n",
      "[173,] 8.643098e-05 0.000000e+00\n",
      "[174,] 6.914478e-04 0.000000e+00\n",
      "[175,] 4.321549e-04 0.000000e+00\n",
      "[176,] 3.457182e-04 1.569103e-08\n",
      "[177,] 3.457239e-04 0.000000e+00\n",
      "[178,] 4.321549e-04 0.000000e+00\n",
      "[179,] 0.000000e+00 7.107187e-04\n",
      "[180,] 3.777041e-02 0.000000e+00\n",
      "[181,] 4.321549e-04 0.000000e+00\n",
      "[182,] 5.185799e-04 1.650302e-08\n",
      "[183,] 3.457239e-04 0.000000e+00\n",
      "[184,] 6.914478e-04 0.000000e+00\n",
      "[185,] 6.041558e-02 0.000000e+00\n",
      "[186,] 7.778710e-04 2.157550e-08\n",
      "[187,] 3.457239e-04 0.000000e+00\n",
      "[188,] 6.050169e-04 0.000000e+00\n",
      "[189,] 4.321468e-04 2.222365e-08\n",
      "[190,] 4.321549e-04 0.000000e+00\n",
      "[191,] 4.321492e-04 1.569492e-08\n",
      "[192,] 5.012883e-03 1.871550e-02\n",
      "[193,] 1.728619e-04 0.000000e+00\n",
      "[194,] 1.728619e-04 0.000000e+00\n",
      "[195,] 6.050168e-04 0.000000e+00\n",
      "[196,] 7.778788e-04 0.000000e+00\n",
      "[197,] 6.914478e-04 0.000000e+00\n",
      "[198,] 6.050168e-04 0.000000e+00\n",
      "[199,] 6.050169e-04 0.000000e+00\n",
      "[200,] 1.728546e-04 2.014987e-08\n",
      "[201,] 4.805573e-02 0.000000e+00\n",
      "[202,] 7.649257e-09 2.368854e-04\n",
      "[203,] 4.321488e-04 1.696455e-08\n",
      "[204,] 2.592872e-04 1.588005e-08\n",
      "[205,] 1.728554e-04 1.806257e-08\n",
      "[206,] 3.457239e-04 0.000000e+00\n",
      "[207,] 4.321473e-04 2.091585e-08\n",
      "[208,] 5.185858e-04 0.000000e+00\n",
      "[209,] 1.728620e-04 0.000000e+00\n",
      "[210,] 4.321549e-04 0.000000e+00\n",
      "[211,] 1.728544e-04 2.084834e-08\n",
      "[212,] 2.074342e-02 0.000000e+00\n",
      "[213,] 4.321492e-04 1.585015e-08\n",
      "[214,] 6.914479e-04 0.000000e+00\n",
      "[215,] 4.105480e-02 0.000000e+00\n",
      "[216,] 8.643098e-05 0.000000e+00\n",
      "[217,] 5.185859e-04 0.000000e+00\n",
      "[218,] 1.042734e-04 1.879956e-04\n",
      "[219,] 4.321549e-04 0.000000e+00\n",
      "[220,] 1.728561e-04 1.599205e-08\n",
      "[221,] 6.050169e-04 0.000000e+00\n",
      "[222,] 1.728564e-04 1.530119e-08\n",
      "[223,] 2.592875e-04 1.509794e-08\n",
      "[224,] 4.321497e-04 1.437828e-08\n",
      "[225,] 6.133250e-03 2.677901e-02\n",
      "[226,] 2.610213e-02 0.000000e+00\n",
      "[227,] 8.642540e-05 1.532093e-08\n",
      "[228,] 3.457239e-04 0.000000e+00\n",
      "[229,] 6.914478e-04 0.000000e+00\n",
      "[230,] 2.592845e-04 2.329902e-08\n",
      "[231,] 6.914412e-04 1.839927e-08\n",
      "[232,] 0.000000e+00 4.169545e-02\n",
      "[233,] 4.321549e-04 0.000000e+00\n",
      "[234,] 5.618015e-03 0.000000e+00\n",
      "[235,] 6.914478e-04 0.000000e+00\n",
      "[236,] 6.050168e-04 0.000000e+00\n",
      "[237,] 1.728619e-04 0.000000e+00\n",
      "[238,] 1.728619e-04 0.000000e+00\n",
      "[239,] 6.914478e-04 0.000000e+00\n",
      "[240,] 8.124510e-03 0.000000e+00\n",
      "[241,] 2.592877e-04 1.449289e-08\n",
      "[242,] 1.850283e-02 2.823941e-03\n",
      "[243,] 5.185858e-04 0.000000e+00\n",
      "[244,] 6.741616e-03 0.000000e+00\n",
      "[245,] 4.321549e-04 0.000000e+00\n",
      "[246,] 1.728545e-04 2.060389e-08\n",
      "[247,] 8.643098e-05 0.000000e+00\n",
      "[248,] 2.592844e-04 2.348884e-08\n",
      "[249,] 8.643098e-04 0.000000e+00\n",
      "[250,] 3.457173e-04 1.814712e-08\n",
      "[251,] 5.185806e-04 1.452056e-08\n",
      "[252,] 1.918769e-02 0.000000e+00\n",
      "[253,] 4.321492e-04 1.576181e-08\n",
      "[254,] 4.321549e-04 0.000000e+00\n",
      "[255,] 4.321549e-04 0.000000e+00\n",
      "[256,] 4.321497e-04 1.433676e-08\n",
      "[257,] 5.185779e-04 2.199705e-08\n",
      "[258,] 6.914396e-04 2.265181e-08\n",
      "[259,] 5.185806e-04 1.469422e-08\n",
      "[260,] 4.321490e-04 1.634425e-08\n",
      "[261,] 5.185858e-04 0.000000e+00\n",
      "[262,] 0.000000e+00 5.211936e-03\n",
      "[263,] 6.050115e-04 1.487122e-08\n",
      "[264,] 6.050113e-04 1.534586e-08\n",
      "[265,] 8.643097e-05 0.000000e+00\n",
      "[266,] 3.457239e-04 0.000000e+00\n",
      "[267,] 4.321549e-04 0.000000e+00\n",
      "[268,] 6.050169e-04 0.000000e+00\n",
      "[269,] 3.457239e-04 0.000000e+00\n",
      "[270,] 2.592872e-04 1.576861e-08\n",
      "[271,] 6.914403e-04 2.093426e-08\n",
      "[272,] 3.457239e-04 0.000000e+00\n",
      "[273,] 2.592929e-04 0.000000e+00\n",
      "[274,] 5.185859e-04 0.000000e+00\n",
      "[275,] 3.457239e-04 0.000000e+00\n",
      "[276,] 4.321489e-04 1.657804e-08\n",
      "[277,] 2.592852e-04 2.123420e-08\n",
      "[278,] 1.210034e-03 0.000000e+00\n",
      "[279,] 6.050169e-04 0.000000e+00\n",
      "[280,] 2.592929e-04 0.000000e+00\n",
      "[281,] 1.728619e-04 0.000000e+00\n",
      "[282,] 1.728535e-04 2.316769e-08\n",
      "[283,] 4.321549e-04 0.000000e+00\n",
      "[284,] 7.778788e-04 0.000000e+00\n",
      "[285,] 4.321549e-04 0.000000e+00\n",
      "[286,] 2.592929e-04 0.000000e+00\n",
      "[287,] 3.457239e-04 0.000000e+00\n",
      "[288,] 4.321549e-04 0.000000e+00\n",
      "[289,] 3.457156e-04 2.303627e-08\n",
      "[290,] 5.185794e-04 1.777993e-08\n",
      "[291,] 6.050168e-04 0.000000e+00\n",
      "[292,] 1.728564e-04 1.519398e-08\n",
      "[293,] 7.778788e-04 0.000000e+00\n",
      "[294,] 6.067440e-02 0.000000e+00\n",
      "[295,] 4.321548e-04 0.000000e+00\n",
      "[296,] 6.914479e-04 0.000000e+00\n",
      "[297,] 6.914477e-04 0.000000e+00\n",
      "[298,] 3.457239e-04 0.000000e+00\n",
      "[299,] 2.592865e-04 1.776611e-08\n",
      "[300,] 6.050102e-04 1.836853e-08\n",
      "[301,] 4.321497e-04 1.432544e-08\n",
      "[302,] 3.457239e-04 0.000000e+00\n",
      "[303,] 6.914478e-04 0.000000e+00\n",
      "[304,] 1.604163e-02 9.390506e-05\n",
      "[305,] 9.763702e-03 5.591691e-02\n",
      "[306,] 3.457159e-04 2.204147e-08\n",
      "[307,] 2.955936e-02 0.000000e+00\n",
      "[308,] 4.321549e-04 0.000000e+00\n",
      "[309,] 3.457239e-04 0.000000e+00\n",
      "[310,] 7.778788e-04 0.000000e+00\n",
      "[311,] 8.643037e-04 1.689823e-08\n",
      "[312,] 6.050091e-04 2.157459e-08\n",
      "[313,] 5.185777e-04 2.244443e-08\n",
      "[314,] 1.728619e-04 0.000000e+00\n",
      "[315,] 7.778787e-04 0.000000e+00\n",
      "[316,] 2.592929e-04 0.000000e+00\n",
      "[317,] 6.223029e-03 0.000000e+00\n",
      "[318,] 0.000000e+00 1.776796e-02\n",
      "[319,] 1.910124e-02 0.000000e+00\n",
      "[320,] 8.642324e-05 2.125201e-08\n",
      "[321,] 1.728619e-04 0.000000e+00\n",
      "[322,] 5.185859e-04 0.000000e+00\n",
      "[323,] 2.592929e-04 0.000000e+00\n",
      "[324,] 8.642543e-05 1.524152e-08\n",
      "[325,] 5.185791e-04 1.870556e-08\n",
      "[326,] 0.000000e+00 6.633373e-03\n",
      "[327,] 5.185859e-04 0.000000e+00\n",
      "[328,] 1.374927e-03 2.153943e-03\n",
      "[329,] 1.987913e-03 0.000000e+00\n",
      "[330,] 8.643097e-05 0.000000e+00\n",
      "[331,] 8.643098e-04 0.000000e+00\n",
      "[332,] 2.592844e-04 2.351259e-08\n",
      "[333,] 5.185799e-04 1.640085e-08\n",
      "[334,] 3.457239e-04 0.000000e+00\n",
      "[335,] 2.186702e-02 0.000000e+00\n",
      "[336,] 3.457157e-04 2.254802e-08\n",
      "[337,] 4.321490e-04 1.620582e-08\n",
      "[338,] 3.457239e-04 0.000000e+00\n",
      "[339,] 4.321467e-04 2.259607e-08\n",
      "[340,] 4.321549e-04 0.000000e+00\n",
      "[341,] 2.592929e-04 0.000000e+00\n",
      "[342,] 4.321549e-04 0.000000e+00\n",
      "[343,] 1.979271e-02 0.000000e+00\n",
      "[344,] 4.321549e-04 0.000000e+00\n",
      "[345,] 4.321549e-04 0.000000e+00\n",
      "[346,] 5.185776e-04 2.287572e-08\n",
      "[347,] 5.185800e-04 1.617574e-08\n",
      "[348,] 8.643098e-05 0.000000e+00\n",
      "[349,] 8.642496e-05 1.651366e-08\n",
      "[350,] 4.321549e-04 0.000000e+00\n",
      "[351,] 3.457234e-04 0.000000e+00\n",
      "[352,] 1.728553e-04 1.840136e-08\n",
      "[353,] 5.185796e-04 1.734662e-08\n",
      "[354,] 6.914478e-04 0.000000e+00\n",
      "[355,] 1.469327e-03 0.000000e+00\n",
      "[356,] 5.185859e-04 0.000000e+00\n",
      "[357,] 8.642572e-05 1.445128e-08\n",
      "[358,] 3.457182e-04 1.591049e-08\n",
      "[359,] 0.000000e+00 6.867966e-01\n",
      "[360,] 0.000000e+00 2.369062e-04\n",
      "[361,] 0.000000e+00 1.326674e-02\n",
      "[362,] 0.000000e+00 4.264312e-03\n",
      "[363,] 0.000000e+00 1.184531e-03\n",
      "[364,] 0.000000e+00 4.738124e-04\n",
      "[365,] 0.000000e+00 2.132156e-03\n",
      "[366,] 0.000000e+00 7.107187e-04\n",
      "[367,] 0.000000e+00 9.476249e-04\n",
      "[368,] 0.000000e+00 4.738124e-04\n",
      "[369,] 0.000000e+00 2.369062e-04\n",
      "[370,] 0.000000e+00 7.107185e-03\n",
      "[371,] 4.393950e-03 3.107254e-02\n",
      "\n",
      "$u[[2]]\n",
      "              [,1]         [,2]\n",
      " [1,] 0.4223321043 0.0863828670\n",
      " [2,] 0.0012100340 0.0000000000\n",
      " [3,] 0.0000000000 0.1414398692\n",
      " [4,] 0.0000000000 0.0002369067\n",
      " [5,] 0.0000000000 0.0087655722\n",
      " [6,] 0.0095074087 0.0000000000\n",
      " [7,] 0.0000000000 0.0097132046\n",
      " [8,] 0.0173726261 0.0000000000\n",
      " [9,] 0.0000000000 0.0097132047\n",
      "[10,] 0.0085566680 0.0000000000\n",
      "[11,] 0.0097667016 0.0000000000\n",
      "[12,] 0.0000000000 0.0033166970\n",
      "[13,] 0.0026793610 0.0000000000\n",
      "[14,] 0.0000000000 0.0194264723\n",
      "[15,] 0.0000000000 0.0002369067\n",
      "[16,] 0.0079516511 0.0000000000\n",
      "[17,] 0.0000000000 0.0201372017\n",
      "[18,] 0.0000000000 0.0097132046\n",
      "[19,] 0.0004105738 0.0007698593\n",
      "[20,] 0.0006018584 0.0118535655\n",
      "[21,] 0.0290408013 0.0000000000\n",
      "[22,] 0.0000864310 0.0000000000\n",
      "[23,] 0.0095938400 0.0251112053\n",
      "[24,] 0.0000000000 0.0123191971\n",
      "[25,] 0.0000000000 0.0199002910\n",
      "[26,] 0.0173726223 0.0021321391\n",
      "[27,] 0.0082109441 0.0000000000\n",
      "[28,] 0.0000000000 0.0189526529\n",
      "[29,] 0.0000864310 0.0000000000\n",
      "[30,] 0.0050994287 0.0097128244\n",
      "[31,] 0.0081245131 0.0000000000\n",
      "[32,] 0.0112360287 0.0004737963\n",
      "[33,] 0.0000000000 0.0097132045\n",
      "[34,] 0.0299051103 0.0000000000\n",
      "[35,] 0.0000000000 0.0248754058\n",
      "[36,] 0.0000000000 0.0094762964\n",
      "[37,] 0.0073466343 0.0000000000\n",
      "[38,] 0.0093345468 0.0000000000\n",
      "[39,] 0.0214913565 0.0185602288\n",
      "[40,] 0.0000000000 0.0196633822\n",
      "[41,] 0.0063094625 0.0000000000\n",
      "[42,] 0.0000000000 0.0002369067\n",
      "[43,] 0.0002592930 0.0000000000\n",
      "[44,] 0.0416925600 0.0013313765\n",
      "[45,] 0.0000000000 0.0265337808\n",
      "[46,] 0.0003457240 0.0000000000\n",
      "[47,] 0.0103395271 0.0169080033\n",
      "[48,] 0.0000000000 0.0206110204\n",
      "[49,] 0.0014693270 0.0000000000\n",
      "[50,] 0.0000000000 0.0208479309\n",
      "[51,] 0.0410988134 0.0008266911\n",
      "[52,] 0.0000000000 0.0416961522\n",
      "[53,] 0.0000000000 0.0007107202\n",
      "[54,] 0.0016421890 0.0000000000\n",
      "[55,] 0.0000000000 0.0184788335\n",
      "[56,] 0.0000000000 0.0194264715\n",
      "[57,] 0.0543148556 0.2015067278\n",
      "[58,] 0.2052105733 0.1382892300\n",
      "\n",
      "$u[[3]]\n",
      "            [,1]      [,2]\n",
      "[1,] 0.995263431 0.8909835\n",
      "[2,] 0.004736569 0.1090165\n",
      "\n",
      "\n",
      "\n",
      "[1] \"The amount of anomalous data is 32.5628522576151 % of the total data provided.\"\n",
      "\n",
      "[1] \"Verdict for the integrity of the process is: TRUE\"\n",
      "\n",
      "\n",
      "[1] \"The resulting dataset is:\"\n",
      "\n"
     ]
    },
    {
     "data": {
      "text/html": [
       "<table>\n",
       "<thead><tr><th></th><th scope=col>UserName</th><th scope=col>SrcDevice</th><th scope=col>DstDevice</th><th scope=col>AuthType</th><th scope=col>Failure</th><th scope=col>DailyCount</th></tr></thead>\n",
       "<tbody>\n",
       "\t<tr><th scope=row>2602</th><td>AppService      </td><td>Comp154659      </td><td>None            </td><td>Batch           </td><td>0               </td><td>   2            </td></tr>\n",
       "\t<tr><th scope=row>2831</th><td>AppService      </td><td>Comp093748      </td><td>ActiveDirectory </td><td>TGS             </td><td>0               </td><td>   4            </td></tr>\n",
       "\t<tr><th scope=row>7593</th><td>AppService      </td><td>Comp397526      </td><td>ActiveDirectory </td><td>TGT             </td><td>0               </td><td>  31            </td></tr>\n",
       "\t<tr><th scope=row>8804</th><td>AppService      </td><td>Comp367857      </td><td>None            </td><td>Batch           </td><td>0               </td><td>   1            </td></tr>\n",
       "\t<tr><th scope=row>13046</th><td>AppService      </td><td>Comp859239      </td><td>ActiveDirectory </td><td>TGT             </td><td>0               </td><td>  29            </td></tr>\n",
       "\t<tr><th scope=row>15138</th><td>AppService      </td><td>Comp542689      </td><td>None            </td><td>Service         </td><td>0               </td><td>   2            </td></tr>\n",
       "\t<tr><th scope=row>17810</th><td>AppService      </td><td>Comp484824      </td><td>ActiveDirectory </td><td>TGT             </td><td>0               </td><td>  15            </td></tr>\n",
       "\t<tr><th scope=row>18521</th><td>AppService      </td><td>Comp581624      </td><td>ActiveDirectory </td><td>TGT             </td><td>0               </td><td>  22            </td></tr>\n",
       "\t<tr><th scope=row>19448</th><td>AppService      </td><td>Comp484824      </td><td>None            </td><td>Service         </td><td>0               </td><td>   1            </td></tr>\n",
       "\t<tr><th scope=row>24155</th><td>AppService      </td><td>Comp843020      </td><td>ActiveDirectory </td><td>NetworkLogon    </td><td>0               </td><td>   2            </td></tr>\n",
       "\t<tr><th scope=row>24179</th><td>AppService      </td><td>Comp397526      </td><td>ActiveDirectory </td><td>NetworkLogon    </td><td>0               </td><td>1132            </td></tr>\n",
       "\t<tr><th scope=row>24945</th><td>AppService      </td><td>Comp571028      </td><td>ActiveDirectory </td><td>TGT             </td><td>0               </td><td>   2            </td></tr>\n",
       "\t<tr><th scope=row>25028</th><td>AppService      </td><td>Comp044849      </td><td>ActiveDirectory </td><td>TGT             </td><td>0               </td><td>   5            </td></tr>\n",
       "\t<tr><th scope=row>29647</th><td>AppService      </td><td>Comp474112      </td><td>ActiveDirectory </td><td>NetworkLogon    </td><td>0               </td><td> 165            </td></tr>\n",
       "\t<tr><th scope=row>36228</th><td>AppService      </td><td>Comp807801      </td><td>ActiveDirectory </td><td>TGT             </td><td>0               </td><td>  38            </td></tr>\n",
       "\t<tr><th scope=row>39588</th><td>AppService      </td><td>Comp852153      </td><td>ActiveDirectory </td><td>TGT             </td><td>0               </td><td>   1            </td></tr>\n",
       "\t<tr><th scope=row>42448</th><td>AppService      </td><td>Comp044849      </td><td>ActiveDirectory </td><td>NetworkLogon    </td><td>0               </td><td>   2            </td></tr>\n",
       "\t<tr><th scope=row>51115</th><td>AppService      </td><td>Comp661097      </td><td>ActiveDirectory </td><td>TGT             </td><td>0               </td><td>   4            </td></tr>\n",
       "\t<tr><th scope=row>54770</th><td>AppService      </td><td>Comp093748      </td><td>None            </td><td>Service         </td><td>0               </td><td>   2            </td></tr>\n",
       "\t<tr><th scope=row>55874</th><td>AppService      </td><td>Comp843020      </td><td>ActiveDirectory </td><td>TGS             </td><td>0               </td><td>   1            </td></tr>\n",
       "\t<tr><th scope=row>69657</th><td>AppService      </td><td>Comp474112      </td><td>None            </td><td>Service         </td><td>0               </td><td>   3            </td></tr>\n",
       "\t<tr><th scope=row>71088</th><td>AppService      </td><td>Comp044849      </td><td>ActiveDirectory </td><td>TGS             </td><td>0               </td><td>   2            </td></tr>\n",
       "\t<tr><th scope=row>72546</th><td>AppService      </td><td>Comp367857      </td><td>ActiveDirectory </td><td>NetworkLogon    </td><td>0               </td><td> 267            </td></tr>\n",
       "\t<tr><th scope=row>75838</th><td>AppService      </td><td>Comp843020      </td><td>ActiveDirectory </td><td>TGT             </td><td>0               </td><td>   1            </td></tr>\n",
       "\t<tr><th scope=row>78228</th><td>AppService      </td><td>Comp367857      </td><td>ActiveDirectory </td><td>TGT             </td><td>0               </td><td>  25            </td></tr>\n",
       "\t<tr><th scope=row>78932</th><td>AppService      </td><td>Comp484824      </td><td>None            </td><td>Batch           </td><td>0               </td><td>   2            </td></tr>\n",
       "\t<tr><th scope=row>82841</th><td>AppService      </td><td>Comp395935      </td><td>None            </td><td>Service         </td><td>0               </td><td>   1            </td></tr>\n",
       "\t<tr><th scope=row>89316</th><td>AppService      </td><td>Comp395935      </td><td>ActiveDirectory </td><td>NetworkLogon    </td><td>0               </td><td> 119            </td></tr>\n",
       "\t<tr><th scope=row>101019</th><td>AppService      </td><td>Comp852153      </td><td>None            </td><td>InteractiveLogon</td><td>0               </td><td>   1            </td></tr>\n",
       "\t<tr><th scope=row>103595</th><td>AppService      </td><td>Comp542689      </td><td>ActiveDirectory </td><td>NetworkLogon    </td><td>0               </td><td>   2            </td></tr>\n",
       "\t<tr><th scope=row>...</th><td>...</td><td>...</td><td>...</td><td>...</td><td>...</td><td>...</td></tr>\n",
       "\t<tr><th scope=row>1590632</th><td>AppService     </td><td>Comp933669     </td><td>ActiveDirectory</td><td>TGT            </td><td>0              </td><td>  15           </td></tr>\n",
       "\t<tr><th scope=row>1593633</th><td>AppService     </td><td>Comp474112     </td><td>ActiveDirectory</td><td>TGT            </td><td>0              </td><td>  12           </td></tr>\n",
       "\t<tr><th scope=row>1597851</th><td>AppService     </td><td>Comp397526     </td><td>ActiveDirectory</td><td>TGS            </td><td>0              </td><td>  16           </td></tr>\n",
       "\t<tr><th scope=row>1603549</th><td>AppService     </td><td>Comp096404     </td><td>ActiveDirectory</td><td>NetworkLogon   </td><td>0              </td><td> 205           </td></tr>\n",
       "\t<tr><th scope=row>1603902</th><td>AppService     </td><td>Comp484824     </td><td>ActiveDirectory</td><td>TGS            </td><td>0              </td><td>  33           </td></tr>\n",
       "\t<tr><th scope=row>1604532</th><td>AppService     </td><td>Comp859239     </td><td>ActiveDirectory</td><td>TGS            </td><td>0              </td><td>  54           </td></tr>\n",
       "\t<tr><th scope=row>1606104</th><td>AppService     </td><td>Comp618424     </td><td>ActiveDirectory</td><td>TGT            </td><td>0              </td><td>  17           </td></tr>\n",
       "\t<tr><th scope=row>1607964</th><td>AppService     </td><td>Comp093748     </td><td>ActiveDirectory</td><td>NetworkLogon   </td><td>0              </td><td> 216           </td></tr>\n",
       "\t<tr><th scope=row>1610444</th><td>AppService     </td><td>Comp162943     </td><td>None           </td><td>Batch          </td><td>0              </td><td>  13           </td></tr>\n",
       "\t<tr><th scope=row>1611359</th><td>AppService     </td><td>Comp581624     </td><td>ActiveDirectory</td><td>TGS            </td><td>0              </td><td>  29           </td></tr>\n",
       "\t<tr><th scope=row>1612558</th><td>AppService     </td><td>Comp807801     </td><td>ActiveDirectory</td><td>NetworkLogon   </td><td>0              </td><td>  58           </td></tr>\n",
       "\t<tr><th scope=row>1616111</th><td>AppService     </td><td>Comp367857     </td><td>None           </td><td>Service        </td><td>0              </td><td>   6           </td></tr>\n",
       "\t<tr><th scope=row>1616888</th><td>AppService     </td><td>Comp581624     </td><td>ActiveDirectory</td><td>NetworkLogon   </td><td>0              </td><td> 284           </td></tr>\n",
       "\t<tr><th scope=row>1619530</th><td>AppService     </td><td>Comp395935     </td><td>ActiveDirectory</td><td>TGT            </td><td>0              </td><td>   2           </td></tr>\n",
       "\t<tr><th scope=row>1622767</th><td>AppService     </td><td>Comp843020     </td><td>ActiveDirectory</td><td>TGS            </td><td>0              </td><td>   1           </td></tr>\n",
       "\t<tr><th scope=row>1625290</th><td>AppService     </td><td>Comp367857     </td><td>ActiveDirectory</td><td>TGS            </td><td>0              </td><td>  31           </td></tr>\n",
       "\t<tr><th scope=row>1629259</th><td>AppService     </td><td>Comp618424     </td><td>ActiveDirectory</td><td>NetworkLogon   </td><td>0              </td><td>  92           </td></tr>\n",
       "\t<tr><th scope=row>1629371</th><td>AppService     </td><td>Comp484824     </td><td>ActiveDirectory</td><td>NetworkLogon   </td><td>0              </td><td>1617           </td></tr>\n",
       "\t<tr><th scope=row>1633641</th><td>AppService     </td><td>Comp807801     </td><td>ActiveDirectory</td><td>TGS            </td><td>0              </td><td>  24           </td></tr>\n",
       "\t<tr><th scope=row>1633721</th><td>AppService     </td><td>Comp395935     </td><td>ActiveDirectory</td><td>TGS            </td><td>0              </td><td>   2           </td></tr>\n",
       "\t<tr><th scope=row>1634941</th><td>AppService     </td><td>Comp415540     </td><td>None           </td><td>Batch          </td><td>0              </td><td>   1           </td></tr>\n",
       "\t<tr><th scope=row>1635336</th><td>AppService     </td><td>Comp154659     </td><td>ActiveDirectory</td><td>TGT            </td><td>0              </td><td>   6           </td></tr>\n",
       "\t<tr><th scope=row>1640245</th><td>AppService     </td><td>Comp859239     </td><td>ActiveDirectory</td><td>NetworkLogon   </td><td>0              </td><td>2650           </td></tr>\n",
       "\t<tr><th scope=row>1643479</th><td>AppService     </td><td>Comp474112     </td><td>ActiveDirectory</td><td>TGS            </td><td>0              </td><td>   7           </td></tr>\n",
       "\t<tr><th scope=row>1644154</th><td>AppService     </td><td>Comp542689     </td><td>ActiveDirectory</td><td>TGT            </td><td>0              </td><td>  47           </td></tr>\n",
       "\t<tr><th scope=row>1648338</th><td>AppService     </td><td>Comp154659     </td><td>None           </td><td>Batch          </td><td>0              </td><td>   1           </td></tr>\n",
       "\t<tr><th scope=row>1648648</th><td>AppService     </td><td>Comp093748     </td><td>ActiveDirectory</td><td>TGS            </td><td>0              </td><td>   4           </td></tr>\n",
       "\t<tr><th scope=row>1654160</th><td>AppService     </td><td>Comp395935     </td><td>ActiveDirectory</td><td>NetworkLogon   </td><td>0              </td><td> 204           </td></tr>\n",
       "\t<tr><th scope=row>1654854</th><td>AppService     </td><td>Comp397526     </td><td>ActiveDirectory</td><td>TGT            </td><td>0              </td><td>  28           </td></tr>\n",
       "\t<tr><th scope=row>1657938</th><td>AppService     </td><td>Comp154659     </td><td>ActiveDirectory</td><td>NetworkLogon   </td><td>0              </td><td>   1           </td></tr>\n",
       "</tbody>\n",
       "</table>\n"
      ],
      "text/latex": [
       "\\begin{tabular}{r|llllll}\n",
       "  & UserName & SrcDevice & DstDevice & AuthType & Failure & DailyCount\\\\\n",
       "\\hline\n",
       "\t2602 & AppService       & Comp154659       & None             & Batch            & 0                &    2            \\\\\n",
       "\t2831 & AppService       & Comp093748       & ActiveDirectory  & TGS              & 0                &    4            \\\\\n",
       "\t7593 & AppService       & Comp397526       & ActiveDirectory  & TGT              & 0                &   31            \\\\\n",
       "\t8804 & AppService       & Comp367857       & None             & Batch            & 0                &    1            \\\\\n",
       "\t13046 & AppService       & Comp859239       & ActiveDirectory  & TGT              & 0                &   29            \\\\\n",
       "\t15138 & AppService       & Comp542689       & None             & Service          & 0                &    2            \\\\\n",
       "\t17810 & AppService       & Comp484824       & ActiveDirectory  & TGT              & 0                &   15            \\\\\n",
       "\t18521 & AppService       & Comp581624       & ActiveDirectory  & TGT              & 0                &   22            \\\\\n",
       "\t19448 & AppService       & Comp484824       & None             & Service          & 0                &    1            \\\\\n",
       "\t24155 & AppService       & Comp843020       & ActiveDirectory  & NetworkLogon     & 0                &    2            \\\\\n",
       "\t24179 & AppService       & Comp397526       & ActiveDirectory  & NetworkLogon     & 0                & 1132            \\\\\n",
       "\t24945 & AppService       & Comp571028       & ActiveDirectory  & TGT              & 0                &    2            \\\\\n",
       "\t25028 & AppService       & Comp044849       & ActiveDirectory  & TGT              & 0                &    5            \\\\\n",
       "\t29647 & AppService       & Comp474112       & ActiveDirectory  & NetworkLogon     & 0                &  165            \\\\\n",
       "\t36228 & AppService       & Comp807801       & ActiveDirectory  & TGT              & 0                &   38            \\\\\n",
       "\t39588 & AppService       & Comp852153       & ActiveDirectory  & TGT              & 0                &    1            \\\\\n",
       "\t42448 & AppService       & Comp044849       & ActiveDirectory  & NetworkLogon     & 0                &    2            \\\\\n",
       "\t51115 & AppService       & Comp661097       & ActiveDirectory  & TGT              & 0                &    4            \\\\\n",
       "\t54770 & AppService       & Comp093748       & None             & Service          & 0                &    2            \\\\\n",
       "\t55874 & AppService       & Comp843020       & ActiveDirectory  & TGS              & 0                &    1            \\\\\n",
       "\t69657 & AppService       & Comp474112       & None             & Service          & 0                &    3            \\\\\n",
       "\t71088 & AppService       & Comp044849       & ActiveDirectory  & TGS              & 0                &    2            \\\\\n",
       "\t72546 & AppService       & Comp367857       & ActiveDirectory  & NetworkLogon     & 0                &  267            \\\\\n",
       "\t75838 & AppService       & Comp843020       & ActiveDirectory  & TGT              & 0                &    1            \\\\\n",
       "\t78228 & AppService       & Comp367857       & ActiveDirectory  & TGT              & 0                &   25            \\\\\n",
       "\t78932 & AppService       & Comp484824       & None             & Batch            & 0                &    2            \\\\\n",
       "\t82841 & AppService       & Comp395935       & None             & Service          & 0                &    1            \\\\\n",
       "\t89316 & AppService       & Comp395935       & ActiveDirectory  & NetworkLogon     & 0                &  119            \\\\\n",
       "\t101019 & AppService       & Comp852153       & None             & InteractiveLogon & 0                &    1            \\\\\n",
       "\t103595 & AppService       & Comp542689       & ActiveDirectory  & NetworkLogon     & 0                &    2            \\\\\n",
       "\t... & ... & ... & ... & ... & ... & ...\\\\\n",
       "\t1590632 & AppService      & Comp933669      & ActiveDirectory & TGT             & 0               &   15           \\\\\n",
       "\t1593633 & AppService      & Comp474112      & ActiveDirectory & TGT             & 0               &   12           \\\\\n",
       "\t1597851 & AppService      & Comp397526      & ActiveDirectory & TGS             & 0               &   16           \\\\\n",
       "\t1603549 & AppService      & Comp096404      & ActiveDirectory & NetworkLogon    & 0               &  205           \\\\\n",
       "\t1603902 & AppService      & Comp484824      & ActiveDirectory & TGS             & 0               &   33           \\\\\n",
       "\t1604532 & AppService      & Comp859239      & ActiveDirectory & TGS             & 0               &   54           \\\\\n",
       "\t1606104 & AppService      & Comp618424      & ActiveDirectory & TGT             & 0               &   17           \\\\\n",
       "\t1607964 & AppService      & Comp093748      & ActiveDirectory & NetworkLogon    & 0               &  216           \\\\\n",
       "\t1610444 & AppService      & Comp162943      & None            & Batch           & 0               &   13           \\\\\n",
       "\t1611359 & AppService      & Comp581624      & ActiveDirectory & TGS             & 0               &   29           \\\\\n",
       "\t1612558 & AppService      & Comp807801      & ActiveDirectory & NetworkLogon    & 0               &   58           \\\\\n",
       "\t1616111 & AppService      & Comp367857      & None            & Service         & 0               &    6           \\\\\n",
       "\t1616888 & AppService      & Comp581624      & ActiveDirectory & NetworkLogon    & 0               &  284           \\\\\n",
       "\t1619530 & AppService      & Comp395935      & ActiveDirectory & TGT             & 0               &    2           \\\\\n",
       "\t1622767 & AppService      & Comp843020      & ActiveDirectory & TGS             & 0               &    1           \\\\\n",
       "\t1625290 & AppService      & Comp367857      & ActiveDirectory & TGS             & 0               &   31           \\\\\n",
       "\t1629259 & AppService      & Comp618424      & ActiveDirectory & NetworkLogon    & 0               &   92           \\\\\n",
       "\t1629371 & AppService      & Comp484824      & ActiveDirectory & NetworkLogon    & 0               & 1617           \\\\\n",
       "\t1633641 & AppService      & Comp807801      & ActiveDirectory & TGS             & 0               &   24           \\\\\n",
       "\t1633721 & AppService      & Comp395935      & ActiveDirectory & TGS             & 0               &    2           \\\\\n",
       "\t1634941 & AppService      & Comp415540      & None            & Batch           & 0               &    1           \\\\\n",
       "\t1635336 & AppService      & Comp154659      & ActiveDirectory & TGT             & 0               &    6           \\\\\n",
       "\t1640245 & AppService      & Comp859239      & ActiveDirectory & NetworkLogon    & 0               & 2650           \\\\\n",
       "\t1643479 & AppService      & Comp474112      & ActiveDirectory & TGS             & 0               &    7           \\\\\n",
       "\t1644154 & AppService      & Comp542689      & ActiveDirectory & TGT             & 0               &   47           \\\\\n",
       "\t1648338 & AppService      & Comp154659      & None            & Batch           & 0               &    1           \\\\\n",
       "\t1648648 & AppService      & Comp093748      & ActiveDirectory & TGS             & 0               &    4           \\\\\n",
       "\t1654160 & AppService      & Comp395935      & ActiveDirectory & NetworkLogon    & 0               &  204           \\\\\n",
       "\t1654854 & AppService      & Comp397526      & ActiveDirectory & TGT             & 0               &   28           \\\\\n",
       "\t1657938 & AppService      & Comp154659      & ActiveDirectory & NetworkLogon    & 0               &    1           \\\\\n",
       "\\end{tabular}\n"
      ],
      "text/markdown": [
       "\n",
       "| <!--/--> | UserName | SrcDevice | DstDevice | AuthType | Failure | DailyCount |\n",
       "|---|---|---|---|---|---|---|\n",
       "| 2602 | AppService       | Comp154659       | None             | Batch            | 0                |    2             |\n",
       "| 2831 | AppService       | Comp093748       | ActiveDirectory  | TGS              | 0                |    4             |\n",
       "| 7593 | AppService       | Comp397526       | ActiveDirectory  | TGT              | 0                |   31             |\n",
       "| 8804 | AppService       | Comp367857       | None             | Batch            | 0                |    1             |\n",
       "| 13046 | AppService       | Comp859239       | ActiveDirectory  | TGT              | 0                |   29             |\n",
       "| 15138 | AppService       | Comp542689       | None             | Service          | 0                |    2             |\n",
       "| 17810 | AppService       | Comp484824       | ActiveDirectory  | TGT              | 0                |   15             |\n",
       "| 18521 | AppService       | Comp581624       | ActiveDirectory  | TGT              | 0                |   22             |\n",
       "| 19448 | AppService       | Comp484824       | None             | Service          | 0                |    1             |\n",
       "| 24155 | AppService       | Comp843020       | ActiveDirectory  | NetworkLogon     | 0                |    2             |\n",
       "| 24179 | AppService       | Comp397526       | ActiveDirectory  | NetworkLogon     | 0                | 1132             |\n",
       "| 24945 | AppService       | Comp571028       | ActiveDirectory  | TGT              | 0                |    2             |\n",
       "| 25028 | AppService       | Comp044849       | ActiveDirectory  | TGT              | 0                |    5             |\n",
       "| 29647 | AppService       | Comp474112       | ActiveDirectory  | NetworkLogon     | 0                |  165             |\n",
       "| 36228 | AppService       | Comp807801       | ActiveDirectory  | TGT              | 0                |   38             |\n",
       "| 39588 | AppService       | Comp852153       | ActiveDirectory  | TGT              | 0                |    1             |\n",
       "| 42448 | AppService       | Comp044849       | ActiveDirectory  | NetworkLogon     | 0                |    2             |\n",
       "| 51115 | AppService       | Comp661097       | ActiveDirectory  | TGT              | 0                |    4             |\n",
       "| 54770 | AppService       | Comp093748       | None             | Service          | 0                |    2             |\n",
       "| 55874 | AppService       | Comp843020       | ActiveDirectory  | TGS              | 0                |    1             |\n",
       "| 69657 | AppService       | Comp474112       | None             | Service          | 0                |    3             |\n",
       "| 71088 | AppService       | Comp044849       | ActiveDirectory  | TGS              | 0                |    2             |\n",
       "| 72546 | AppService       | Comp367857       | ActiveDirectory  | NetworkLogon     | 0                |  267             |\n",
       "| 75838 | AppService       | Comp843020       | ActiveDirectory  | TGT              | 0                |    1             |\n",
       "| 78228 | AppService       | Comp367857       | ActiveDirectory  | TGT              | 0                |   25             |\n",
       "| 78932 | AppService       | Comp484824       | None             | Batch            | 0                |    2             |\n",
       "| 82841 | AppService       | Comp395935       | None             | Service          | 0                |    1             |\n",
       "| 89316 | AppService       | Comp395935       | ActiveDirectory  | NetworkLogon     | 0                |  119             |\n",
       "| 101019 | AppService       | Comp852153       | None             | InteractiveLogon | 0                |    1             |\n",
       "| 103595 | AppService       | Comp542689       | ActiveDirectory  | NetworkLogon     | 0                |    2             |\n",
       "| ... | ... | ... | ... | ... | ... | ... |\n",
       "| 1590632 | AppService      | Comp933669      | ActiveDirectory | TGT             | 0               |   15            |\n",
       "| 1593633 | AppService      | Comp474112      | ActiveDirectory | TGT             | 0               |   12            |\n",
       "| 1597851 | AppService      | Comp397526      | ActiveDirectory | TGS             | 0               |   16            |\n",
       "| 1603549 | AppService      | Comp096404      | ActiveDirectory | NetworkLogon    | 0               |  205            |\n",
       "| 1603902 | AppService      | Comp484824      | ActiveDirectory | TGS             | 0               |   33            |\n",
       "| 1604532 | AppService      | Comp859239      | ActiveDirectory | TGS             | 0               |   54            |\n",
       "| 1606104 | AppService      | Comp618424      | ActiveDirectory | TGT             | 0               |   17            |\n",
       "| 1607964 | AppService      | Comp093748      | ActiveDirectory | NetworkLogon    | 0               |  216            |\n",
       "| 1610444 | AppService      | Comp162943      | None            | Batch           | 0               |   13            |\n",
       "| 1611359 | AppService      | Comp581624      | ActiveDirectory | TGS             | 0               |   29            |\n",
       "| 1612558 | AppService      | Comp807801      | ActiveDirectory | NetworkLogon    | 0               |   58            |\n",
       "| 1616111 | AppService      | Comp367857      | None            | Service         | 0               |    6            |\n",
       "| 1616888 | AppService      | Comp581624      | ActiveDirectory | NetworkLogon    | 0               |  284            |\n",
       "| 1619530 | AppService      | Comp395935      | ActiveDirectory | TGT             | 0               |    2            |\n",
       "| 1622767 | AppService      | Comp843020      | ActiveDirectory | TGS             | 0               |    1            |\n",
       "| 1625290 | AppService      | Comp367857      | ActiveDirectory | TGS             | 0               |   31            |\n",
       "| 1629259 | AppService      | Comp618424      | ActiveDirectory | NetworkLogon    | 0               |   92            |\n",
       "| 1629371 | AppService      | Comp484824      | ActiveDirectory | NetworkLogon    | 0               | 1617            |\n",
       "| 1633641 | AppService      | Comp807801      | ActiveDirectory | TGS             | 0               |   24            |\n",
       "| 1633721 | AppService      | Comp395935      | ActiveDirectory | TGS             | 0               |    2            |\n",
       "| 1634941 | AppService      | Comp415540      | None            | Batch           | 0               |    1            |\n",
       "| 1635336 | AppService      | Comp154659      | ActiveDirectory | TGT             | 0               |    6            |\n",
       "| 1640245 | AppService      | Comp859239      | ActiveDirectory | NetworkLogon    | 0               | 2650            |\n",
       "| 1643479 | AppService      | Comp474112      | ActiveDirectory | TGS             | 0               |    7            |\n",
       "| 1644154 | AppService      | Comp542689      | ActiveDirectory | TGT             | 0               |   47            |\n",
       "| 1648338 | AppService      | Comp154659      | None            | Batch           | 0               |    1            |\n",
       "| 1648648 | AppService      | Comp093748      | ActiveDirectory | TGS             | 0               |    4            |\n",
       "| 1654160 | AppService      | Comp395935      | ActiveDirectory | NetworkLogon    | 0               |  204            |\n",
       "| 1654854 | AppService      | Comp397526      | ActiveDirectory | TGT             | 0               |   28            |\n",
       "| 1657938 | AppService      | Comp154659      | ActiveDirectory | NetworkLogon    | 0               |    1            |\n",
       "\n"
      ],
      "text/plain": [
       "        UserName   SrcDevice  DstDevice       AuthType         Failure\n",
       "2602    AppService Comp154659 None            Batch            0      \n",
       "2831    AppService Comp093748 ActiveDirectory TGS              0      \n",
       "7593    AppService Comp397526 ActiveDirectory TGT              0      \n",
       "8804    AppService Comp367857 None            Batch            0      \n",
       "13046   AppService Comp859239 ActiveDirectory TGT              0      \n",
       "15138   AppService Comp542689 None            Service          0      \n",
       "17810   AppService Comp484824 ActiveDirectory TGT              0      \n",
       "18521   AppService Comp581624 ActiveDirectory TGT              0      \n",
       "19448   AppService Comp484824 None            Service          0      \n",
       "24155   AppService Comp843020 ActiveDirectory NetworkLogon     0      \n",
       "24179   AppService Comp397526 ActiveDirectory NetworkLogon     0      \n",
       "24945   AppService Comp571028 ActiveDirectory TGT              0      \n",
       "25028   AppService Comp044849 ActiveDirectory TGT              0      \n",
       "29647   AppService Comp474112 ActiveDirectory NetworkLogon     0      \n",
       "36228   AppService Comp807801 ActiveDirectory TGT              0      \n",
       "39588   AppService Comp852153 ActiveDirectory TGT              0      \n",
       "42448   AppService Comp044849 ActiveDirectory NetworkLogon     0      \n",
       "51115   AppService Comp661097 ActiveDirectory TGT              0      \n",
       "54770   AppService Comp093748 None            Service          0      \n",
       "55874   AppService Comp843020 ActiveDirectory TGS              0      \n",
       "69657   AppService Comp474112 None            Service          0      \n",
       "71088   AppService Comp044849 ActiveDirectory TGS              0      \n",
       "72546   AppService Comp367857 ActiveDirectory NetworkLogon     0      \n",
       "75838   AppService Comp843020 ActiveDirectory TGT              0      \n",
       "78228   AppService Comp367857 ActiveDirectory TGT              0      \n",
       "78932   AppService Comp484824 None            Batch            0      \n",
       "82841   AppService Comp395935 None            Service          0      \n",
       "89316   AppService Comp395935 ActiveDirectory NetworkLogon     0      \n",
       "101019  AppService Comp852153 None            InteractiveLogon 0      \n",
       "103595  AppService Comp542689 ActiveDirectory NetworkLogon     0      \n",
       "...     ...        ...        ...             ...              ...    \n",
       "1590632 AppService Comp933669 ActiveDirectory TGT              0      \n",
       "1593633 AppService Comp474112 ActiveDirectory TGT              0      \n",
       "1597851 AppService Comp397526 ActiveDirectory TGS              0      \n",
       "1603549 AppService Comp096404 ActiveDirectory NetworkLogon     0      \n",
       "1603902 AppService Comp484824 ActiveDirectory TGS              0      \n",
       "1604532 AppService Comp859239 ActiveDirectory TGS              0      \n",
       "1606104 AppService Comp618424 ActiveDirectory TGT              0      \n",
       "1607964 AppService Comp093748 ActiveDirectory NetworkLogon     0      \n",
       "1610444 AppService Comp162943 None            Batch            0      \n",
       "1611359 AppService Comp581624 ActiveDirectory TGS              0      \n",
       "1612558 AppService Comp807801 ActiveDirectory NetworkLogon     0      \n",
       "1616111 AppService Comp367857 None            Service          0      \n",
       "1616888 AppService Comp581624 ActiveDirectory NetworkLogon     0      \n",
       "1619530 AppService Comp395935 ActiveDirectory TGT              0      \n",
       "1622767 AppService Comp843020 ActiveDirectory TGS              0      \n",
       "1625290 AppService Comp367857 ActiveDirectory TGS              0      \n",
       "1629259 AppService Comp618424 ActiveDirectory NetworkLogon     0      \n",
       "1629371 AppService Comp484824 ActiveDirectory NetworkLogon     0      \n",
       "1633641 AppService Comp807801 ActiveDirectory TGS              0      \n",
       "1633721 AppService Comp395935 ActiveDirectory TGS              0      \n",
       "1634941 AppService Comp415540 None            Batch            0      \n",
       "1635336 AppService Comp154659 ActiveDirectory TGT              0      \n",
       "1640245 AppService Comp859239 ActiveDirectory NetworkLogon     0      \n",
       "1643479 AppService Comp474112 ActiveDirectory TGS              0      \n",
       "1644154 AppService Comp542689 ActiveDirectory TGT              0      \n",
       "1648338 AppService Comp154659 None            Batch            0      \n",
       "1648648 AppService Comp093748 ActiveDirectory TGS              0      \n",
       "1654160 AppService Comp395935 ActiveDirectory NetworkLogon     0      \n",
       "1654854 AppService Comp397526 ActiveDirectory TGT              0      \n",
       "1657938 AppService Comp154659 ActiveDirectory NetworkLogon     0      \n",
       "        DailyCount\n",
       "2602       2      \n",
       "2831       4      \n",
       "7593      31      \n",
       "8804       1      \n",
       "13046     29      \n",
       "15138      2      \n",
       "17810     15      \n",
       "18521     22      \n",
       "19448      1      \n",
       "24155      2      \n",
       "24179   1132      \n",
       "24945      2      \n",
       "25028      5      \n",
       "29647    165      \n",
       "36228     38      \n",
       "39588      1      \n",
       "42448      2      \n",
       "51115      4      \n",
       "54770      2      \n",
       "55874      1      \n",
       "69657      3      \n",
       "71088      2      \n",
       "72546    267      \n",
       "75838      1      \n",
       "78228     25      \n",
       "78932      2      \n",
       "82841      1      \n",
       "89316    119      \n",
       "101019     1      \n",
       "103595     2      \n",
       "...     ...       \n",
       "1590632   15      \n",
       "1593633   12      \n",
       "1597851   16      \n",
       "1603549  205      \n",
       "1603902   33      \n",
       "1604532   54      \n",
       "1606104   17      \n",
       "1607964  216      \n",
       "1610444   13      \n",
       "1611359   29      \n",
       "1612558   58      \n",
       "1616111    6      \n",
       "1616888  284      \n",
       "1619530    2      \n",
       "1622767    1      \n",
       "1625290   31      \n",
       "1629259   92      \n",
       "1629371 1617      \n",
       "1633641   24      \n",
       "1633721    2      \n",
       "1634941    1      \n",
       "1635336    6      \n",
       "1640245 2650      \n",
       "1643479    7      \n",
       "1644154   47      \n",
       "1648338    1      \n",
       "1648648    4      \n",
       "1654160  204      \n",
       "1654854   28      \n",
       "1657938    1      "
      ]
     },
     "metadata": {},
     "output_type": "display_data"
    }
   ],
   "source": [
    "DetectAnomalies(\"AppService\", s=1,m=0,q=0)"
   ]
  },
  {
   "cell_type": "markdown",
   "id": "dd8b67d7",
   "metadata": {},
   "source": [
    "To estimate FPR:\n",
    "Both for my CP_APR and for AE (assuming it too was uniformly applied on the whole 90 days) we look at how many anomalies the models detect Days 1 - 56, since we know there aren't supposed to be any in that time period. \n"
   ]
  },
  {
   "cell_type": "markdown",
   "id": "ab655cb7",
   "metadata": {},
   "source": [
    "##### Testing the interaction with non-malicious usernames:  (Failure based approach)\n",
    "\n",
    "1. **Comp599155$** [Success]"
   ]
  },
  {
   "cell_type": "code",
   "execution_count": 56,
   "id": "bb8ee404",
   "metadata": {},
   "outputs": [
    {
     "name": "stdout",
     "output_type": "stream",
     "text": [
      "Which feature would you like to consider as object, AuthType [A] or Failure[F]. Input A/F : F\n",
      "[1] 0\n",
      "[1] \"CP_PDNR (alternating Poisson regression using damped Newton)\"\n",
      "[1] \"  Precomputing sparse index sets...\"\n",
      "[1] \"done\"\n",
      "[1] \"   1. Ttl Inner Its: 364, KKT viol = 8.09e+01, obj = 1.07618959e+03, nz: 11, time:0.20\"\n",
      "[1] \"   2. Ttl Inner Its: 186, KKT viol = 2.00e+00, obj = 1.10856301e+03, nz: 12, time:0.22\"\n",
      "[1] \"   3. Ttl Inner Its: 990, KKT viol = 1.01e+01, obj = 1.13771694e+03, nz: 179, time:0.65\"\n",
      "[1] \"   4. Ttl Inner Its: 182, KKT viol = 2.18e-02, obj = 1.13771694e+03, nz: 179, time:0.68\"\n",
      "[1] \"   5. Ttl Inner Its: 367, KKT viol = 2.00e-02, obj = 1.13774294e+03, nz: 181, time:0.76\"\n",
      "[1] \"   6. Ttl Inner Its: 183, KKT viol = 2.14e-04, obj = 1.13774294e+03, nz: 181, time:0.84\"\n",
      "[1] \"   7. Ttl Inner Its: 195, KKT viol = 1.97e-04, obj = 1.13774294e+03, nz: 181, time:0.87\"\n",
      "[1] \"   8. Ttl Inner Its: 182, KKT viol = 9.45e-05, obj = 1.13774294e+03, nz: 181, time:0.89\"\n"
     ]
    },
    {
     "name": "stderr",
     "output_type": "stream",
     "text": [
      "Warning message in sqrt(normX^2 + ktensor_norm(M)^2 - 2 * tt_innerprod(M, X)):\n",
      "\"NaNs produced\""
     ]
    },
    {
     "name": "stdout",
     "output_type": "stream",
     "text": [
      "[1] \"===========================================\"\n",
      "[1] \" Final log-likelihood = 1.137743e+03 \"\n",
      "[1] \" Final least squares fit = NaN \"\n",
      "[1] \" Final KKT violation = 9.4509667e-05\"\n",
      "[1] \" Total inner iterations = 2649\"\n",
      "[1] \" Total execution time = 0.89 secs\"\n",
      "\n",
      "\n"
     ]
    },
    {
     "name": "stderr",
     "output_type": "stream",
     "text": [
      "Warning message in DetectAnomalies(\"Comp599155$\", m = 0, s = 0, q = 1):\n",
      "\"NAs introduced by coercion\""
     ]
    },
    {
     "name": "stdout",
     "output_type": "stream",
     "text": [
      "[1] \"The amount of anomalous data is 0 % of the total data provided.\"\n",
      "\n",
      "[1] \"Verdict for the integrity of the process is: TRUE\"\n",
      "\n",
      "\n",
      "[1] \"The resulting dataset is:\"\n",
      "\n"
     ]
    },
    {
     "data": {
      "text/html": [
       "<table>\n",
       "<thead><tr><th scope=col>UserName</th><th scope=col>SrcDevice</th><th scope=col>DstDevice</th><th scope=col>AuthType</th><th scope=col>Failure</th><th scope=col>DailyCount</th></tr></thead>\n",
       "<tbody>\n",
       "</tbody>\n",
       "</table>\n"
      ],
      "text/latex": [
       "\\begin{tabular}{r|llllll}\n",
       " UserName & SrcDevice & DstDevice & AuthType & Failure & DailyCount\\\\\n",
       "\\hline\n",
       "\\end{tabular}\n"
      ],
      "text/markdown": [
       "\n",
       "| UserName | SrcDevice | DstDevice | AuthType | Failure | DailyCount |\n",
       "|---|---|---|---|---|---|\n",
       "\n"
      ],
      "text/plain": [
       "     UserName SrcDevice DstDevice AuthType Failure DailyCount"
      ]
     },
     "metadata": {},
     "output_type": "display_data"
    }
   ],
   "source": [
    "DetectAnomalies(\"Comp599155$\", m=0, s=0, q=1)"
   ]
  },
  {
   "cell_type": "markdown",
   "id": "26dbe2a2",
   "metadata": {},
   "source": [
    "2. **User035855** [Success]\t"
   ]
  },
  {
   "cell_type": "code",
   "execution_count": 62,
   "id": "7f229800",
   "metadata": {},
   "outputs": [
    {
     "name": "stdout",
     "output_type": "stream",
     "text": [
      "Which feature would you like to consider as object, AuthType [A] or Failure[F]. Input A/F : A\n",
      "[1] 0\n",
      "[1] \"CP_PDNR (alternating Poisson regression using damped Newton)\"\n",
      "[1] \"  Precomputing sparse index sets...\"\n",
      "[1] \"done\"\n",
      "[1] \"   1. Ttl Inner Its: 72, KKT viol = 1.76e+01, obj = 1.76270867e+03, nz: 22, time:0.06\"\n",
      "[1] \"   2. Ttl Inner Its: 105, KKT viol = 1.03e+03, obj = 2.19499882e+03, nz: 26, time:0.12\"\n",
      "[1] \"   3. Ttl Inner Its: 36, KKT viol = 1.00e+00, obj = 2.19499882e+03, nz: 26, time:0.14\"\n",
      "[1] \"   4. Ttl Inner Its: 110, KKT viol = 1.00e+00, obj = 2.34159489e+03, nz: 27, time:0.20\"\n",
      "[1] \"   5. Ttl Inner Its: 78, KKT viol = 4.54e-01, obj = 2.34795346e+03, nz: 28, time:0.25\"\n",
      "[1] \"   6. Ttl Inner Its: 44, KKT viol = 4.08e-02, obj = 2.34800552e+03, nz: 28, time:0.27\"\n",
      "[1] \"   7. Ttl Inner Its: 72, KKT viol = 5.15e-03, obj = 2.34801054e+03, nz: 28, time:0.30\"\n",
      "[1] \"   8. Ttl Inner Its: 41, KKT viol = 4.99e-04, obj = 2.34801085e+03, nz: 28, time:0.31\"\n",
      "[1] \"   9. Ttl Inner Its: 36, KKT viol = 9.45e-05, obj = 2.34801085e+03, nz: 28, time:0.33\"\n"
     ]
    },
    {
     "name": "stderr",
     "output_type": "stream",
     "text": [
      "Warning message in sqrt(normX^2 + ktensor_norm(M)^2 - 2 * tt_innerprod(M, X)):\n",
      "\"NaNs produced\""
     ]
    },
    {
     "name": "stdout",
     "output_type": "stream",
     "text": [
      "[1] \"===========================================\"\n",
      "[1] \" Final log-likelihood = 2.348011e+03 \"\n",
      "[1] \" Final least squares fit = NaN \"\n",
      "[1] \" Final KKT violation = 9.4546249e-05\"\n",
      "[1] \" Total inner iterations = 594\"\n",
      "[1] \" Total execution time = 0.33 secs\"\n",
      "\n",
      "$lambda\n",
      "[1] 295.6369 796.3716\n",
      "\n",
      "$u\n",
      "$u[[1]]\n",
      "           [,1]        [,2]\n",
      "[1,] 0.00000000 0.032650226\n",
      "[2,] 0.02723483 0.015003319\n",
      "[3,] 0.00000000 0.001255777\n",
      "[4,] 0.87805939 0.947323347\n",
      "[5,] 0.00000000 0.003767331\n",
      "[6,] 0.09470578 0.000000000\n",
      "\n",
      "$u[[2]]\n",
      "              [,1]        [,2]\n",
      " [1,] 2.727952e-01 0.146102236\n",
      " [2,] 0.000000e+00 0.138130623\n",
      " [3,] 0.000000e+00 0.003767197\n",
      " [4,] 0.000000e+00 0.113015953\n",
      " [5,] 0.000000e+00 0.070321025\n",
      " [6,] 0.000000e+00 0.046462104\n",
      " [7,] 0.000000e+00 0.092924221\n",
      " [8,] 0.000000e+00 0.001255732\n",
      " [9,] 0.000000e+00 0.030137577\n",
      "[10,] 0.000000e+00 0.001255732\n",
      "[11,] 0.000000e+00 0.060275162\n",
      "[12,] 8.943705e-08 0.006278443\n",
      "[13,] 0.000000e+00 0.001255732\n",
      "[14,] 0.000000e+00 0.007534392\n",
      "[15,] 0.000000e+00 0.071576751\n",
      "[16,] 0.000000e+00 0.070321026\n",
      "[17,] 2.408349e-07 0.005022841\n",
      "[18,] 0.000000e+00 0.092924221\n",
      "[19,] 0.000000e+00 0.036416242\n",
      "[20,] 0.000000e+00 0.002511465\n",
      "[21,] 1.742919e-07 0.002511326\n",
      "[22,] 7.441165e-02 0.000000000\n",
      "[23,] 6.527926e-01 0.000000000\n",
      "\n",
      "$u[[3]]\n",
      "            [,1]      [,2]\n",
      "[1,] 0.006764703 0.0000000\n",
      "[2,] 0.213087817 0.0000000\n",
      "[3,] 0.068128420 0.3614703\n",
      "[4,] 0.038931126 0.6385297\n",
      "[5,] 0.240146556 0.0000000\n",
      "[6,] 0.186029482 0.0000000\n",
      "[7,] 0.246911896 0.0000000\n",
      "\n",
      "\n",
      "\n",
      "[1] \"The amount of anomalous data is 0 % of the total data provided.\"\n",
      "\n",
      "[1] \"Verdict for the integrity of the process is: TRUE\"\n",
      "\n",
      "\n",
      "[1] \"The resulting dataset is:\"\n",
      "\n"
     ]
    },
    {
     "data": {
      "text/html": [
       "<table>\n",
       "<thead><tr><th scope=col>UserName</th><th scope=col>SrcDevice</th><th scope=col>DstDevice</th><th scope=col>AuthType</th><th scope=col>Failure</th><th scope=col>DailyCount</th></tr></thead>\n",
       "<tbody>\n",
       "</tbody>\n",
       "</table>\n"
      ],
      "text/latex": [
       "\\begin{tabular}{r|llllll}\n",
       " UserName & SrcDevice & DstDevice & AuthType & Failure & DailyCount\\\\\n",
       "\\hline\n",
       "\\end{tabular}\n"
      ],
      "text/markdown": [
       "\n",
       "| UserName | SrcDevice | DstDevice | AuthType | Failure | DailyCount |\n",
       "|---|---|---|---|---|---|\n",
       "\n"
      ],
      "text/plain": [
       "     UserName SrcDevice DstDevice AuthType Failure DailyCount"
      ]
     },
     "metadata": {},
     "output_type": "display_data"
    }
   ],
   "source": [
    "DetectAnomalies(\"User035855\", m=1, s=0, q=1)"
   ]
  },
  {
   "cell_type": "markdown",
   "id": "4ea46e38",
   "metadata": {},
   "source": [
    "3. **User762066** [Success]"
   ]
  },
  {
   "cell_type": "code",
   "execution_count": 40,
   "id": "152fcaab",
   "metadata": {},
   "outputs": [
    {
     "name": "stdout",
     "output_type": "stream",
     "text": [
      "Which feature would you like to consider as object, AuthType [A] or Failure[F]. Input A/F : F\n",
      "[1] 0\n",
      "[1] \"CP_PDNR (alternating Poisson regression using damped Newton)\"\n",
      "[1] \"  Precomputing sparse index sets...\"\n",
      "[1] \"done\"\n",
      "[1] \"   1. Ttl Inner Its: 66, KKT viol = 3.27e+01, obj = 4.01597315e+03, nz: 20, time:0.03\"\n",
      "[1] \"   2. Ttl Inner Its: 88, KKT viol = 2.44e+00, obj = 4.97180766e+03, nz: 19, time:0.06\"\n",
      "[1] \"   3. Ttl Inner Its: 81, KKT viol = 4.13e-01, obj = 5.04227557e+03, nz: 25, time:0.08\"\n",
      "[1] \"   4. Ttl Inner Its: 70, KKT viol = 3.10e-01, obj = 5.04677665e+03, nz: 26, time:0.11\"\n",
      "[1] \"   5. Ttl Inner Its: 60, KKT viol = 2.17e-02, obj = 5.04690132e+03, nz: 26, time:0.13\"\n",
      "[1] \"   6. Ttl Inner Its: 67, KKT viol = 5.71e-03, obj = 5.04691040e+03, nz: 26, time:0.14\"\n",
      "[1] \"   7. Ttl Inner Its: 63, KKT viol = 1.14e-03, obj = 5.04691078e+03, nz: 26, time:0.16\"\n",
      "[1] \"   8. Ttl Inner Its: 39, KKT viol = 2.28e-04, obj = 5.04691081e+03, nz: 26, time:0.16\"\n",
      "[1] \"   9. Ttl Inner Its: 33, KKT viol = 9.23e-05, obj = 5.04691081e+03, nz: 26, time:0.16\"\n"
     ]
    },
    {
     "name": "stderr",
     "output_type": "stream",
     "text": [
      "Warning message in sqrt(normX^2 + ktensor_norm(M)^2 - 2 * tt_innerprod(M, X)):\n",
      "\"NaNs produced\""
     ]
    },
    {
     "name": "stdout",
     "output_type": "stream",
     "text": [
      "[1] \"===========================================\"\n",
      "[1] \" Final log-likelihood = 5.046911e+03 \"\n",
      "[1] \" Final least squares fit = NaN \"\n",
      "[1] \" Final KKT violation = 9.2299302e-05\"\n",
      "[1] \" Total inner iterations = 567\"\n",
      "[1] \" Total execution time = 0.16 secs\"\n",
      "\n",
      "\n",
      "[1] \"The amount of anomalous data is 0 % of the total data provided.\"\n",
      "\n",
      "[1] \"Verdict for the integrity of the process is: TRUE\"\n",
      "\n",
      "\n",
      "[1] \"The resulting dataset is:\"\n",
      "\n"
     ]
    },
    {
     "data": {
      "text/html": [
       "<table>\n",
       "<thead><tr><th scope=col>UserName</th><th scope=col>SrcDevice</th><th scope=col>DstDevice</th><th scope=col>AuthType</th><th scope=col>Failure</th><th scope=col>DailyCount</th></tr></thead>\n",
       "<tbody>\n",
       "</tbody>\n",
       "</table>\n"
      ],
      "text/latex": [
       "\\begin{tabular}{r|llllll}\n",
       " UserName & SrcDevice & DstDevice & AuthType & Failure & DailyCount\\\\\n",
       "\\hline\n",
       "\\end{tabular}\n"
      ],
      "text/markdown": [
       "\n",
       "| UserName | SrcDevice | DstDevice | AuthType | Failure | DailyCount |\n",
       "|---|---|---|---|---|---|\n",
       "\n"
      ],
      "text/plain": [
       "     UserName SrcDevice DstDevice AuthType Failure DailyCount"
      ]
     },
     "metadata": {},
     "output_type": "display_data"
    }
   ],
   "source": [
    "DetectAnomalies(\"User762066\")"
   ]
  },
  {
   "cell_type": "markdown",
   "id": "cdc6193a",
   "metadata": {},
   "source": [
    "4. **Scanner** [Success]"
   ]
  },
  {
   "cell_type": "code",
   "execution_count": 43,
   "id": "1e1e61a8",
   "metadata": {},
   "outputs": [
    {
     "name": "stdout",
     "output_type": "stream",
     "text": [
      "Which feature would you like to consider as object, AuthType [A] or Failure[F]. Input A/F : F\n",
      "[1] 0\n",
      "[1] \"CP_PDNR (alternating Poisson regression using damped Newton)\"\n",
      "[1] \"  Precomputing sparse index sets...\"\n",
      "[1] \"done\"\n",
      "[1] \"   1. Ttl Inner Its: 20150, KKT viol = 9.57e+01, obj = -6.44404363e+03, nz: 8606, time:36.21\"\n",
      "[1] \"   2. Ttl Inner Its: 11123, KKT viol = 8.51e+01, obj = 4.26322557e+04, nz: 8312, time:38.39\"\n",
      "[1] \"   3. Ttl Inner Its: 10422, KKT viol = 2.80e+00, obj = 4.84416781e+04, nz: 8213, time:43.96\"\n",
      "[1] \"   4. Ttl Inner Its: 26728, KKT viol = 2.23e+00, obj = 6.81036503e+04, nz: 9058, time:57.46\"\n",
      "[1] \"   5. Ttl Inner Its: 12506, KKT viol = 8.80e-01, obj = 6.90202380e+04, nz: 8991, time:61.21\"\n",
      "[1] \"   6. Ttl Inner Its: 16006, KKT viol = 4.13e-01, obj = 6.93166752e+04, nz: 9127, time:65.27\"\n",
      "[1] \"   7. Ttl Inner Its: 14749, KKT viol = 3.52e-01, obj = 6.95809042e+04, nz: 9163, time:68.52\"\n",
      "[1] \"   8. Ttl Inner Its: 17791, KKT viol = 3.78e-01, obj = 6.98211693e+04, nz: 9135, time:72.86\"\n",
      "[1] \"   9. Ttl Inner Its: 15516, KKT viol = 8.61e-01, obj = 7.00501706e+04, nz: 9114, time:76.46\"\n",
      "[1] \"  10. Ttl Inner Its: 11374, KKT viol = 1.02e+00, obj = 7.01362864e+04, nz: 9098, time:78.52\"\n",
      "[1] \"  11. Ttl Inner Its: 11069, KKT viol = 5.24e-01, obj = 7.01579871e+04, nz: 9094, time:80.57\"\n",
      "[1] \"  12. Ttl Inner Its: 11093, KKT viol = 4.18e-01, obj = 7.01711137e+04, nz: 9094, time:82.96\"\n",
      "[1] \"  13. Ttl Inner Its: 11113, KKT viol = 4.06e-01, obj = 7.01853979e+04, nz: 9094, time:84.99\"\n",
      "[1] \"  14. Ttl Inner Its: 10990, KKT viol = 3.44e-01, obj = 7.01979208e+04, nz: 9099, time:86.82\"\n",
      "[1] \"  15. Ttl Inner Its: 10186, KKT viol = 7.04e-02, obj = 7.01984206e+04, nz: 9100, time:88.30\"\n",
      "[1] \"  16. Ttl Inner Its: 19824, KKT viol = 4.03e-03, obj = 7.01988056e+04, nz: 9136, time:93.14\"\n",
      "[1] \"  17. Ttl Inner Its: 10333, KKT viol = 7.20e-04, obj = 7.01988086e+04, nz: 9136, time:94.69\"\n",
      "[1] \"  18. Ttl Inner Its: 10075, KKT viol = 9.97e-05, obj = 7.01988086e+04, nz: 9136, time:96.17\"\n"
     ]
    },
    {
     "name": "stderr",
     "output_type": "stream",
     "text": [
      "Warning message in sqrt(normX^2 + ktensor_norm(M)^2 - 2 * tt_innerprod(M, X)):\n",
      "\"NaNs produced\""
     ]
    },
    {
     "name": "stdout",
     "output_type": "stream",
     "text": [
      "[1] \"===========================================\"\n",
      "[1] \" Final log-likelihood = 7.019881e+04 \"\n",
      "[1] \" Final least squares fit = NaN \"\n",
      "[1] \" Final KKT violation = 9.9741544e-05\"\n",
      "[1] \" Total inner iterations = 251048\"\n",
      "[1] \" Total execution time = 96.19 secs\"\n",
      "\n",
      "\n",
      "[1] \"The amount of anomalous data is 0 % of the total data provided.\"\n",
      "\n",
      "[1] \"Verdict for the integrity of the process is: TRUE\"\n",
      "\n",
      "\n",
      "[1] \"The resulting dataset is:\"\n",
      "\n"
     ]
    },
    {
     "data": {
      "text/html": [
       "<table>\n",
       "<thead><tr><th scope=col>UserName</th><th scope=col>SrcDevice</th><th scope=col>DstDevice</th><th scope=col>AuthType</th><th scope=col>Failure</th><th scope=col>DailyCount</th></tr></thead>\n",
       "<tbody>\n",
       "</tbody>\n",
       "</table>\n"
      ],
      "text/latex": [
       "\\begin{tabular}{r|llllll}\n",
       " UserName & SrcDevice & DstDevice & AuthType & Failure & DailyCount\\\\\n",
       "\\hline\n",
       "\\end{tabular}\n"
      ],
      "text/markdown": [
       "\n",
       "| UserName | SrcDevice | DstDevice | AuthType | Failure | DailyCount |\n",
       "|---|---|---|---|---|---|\n",
       "\n"
      ],
      "text/plain": [
       "     UserName SrcDevice DstDevice AuthType Failure DailyCount"
      ]
     },
     "metadata": {},
     "output_type": "display_data"
    }
   ],
   "source": [
    "DetectAnomalies(\"Scanner\")"
   ]
  },
  {
   "cell_type": "markdown",
   "id": "82f0968b",
   "metadata": {},
   "source": [
    "5. **User631552** [Success]"
   ]
  },
  {
   "cell_type": "code",
   "execution_count": 44,
   "id": "b8fe1391",
   "metadata": {},
   "outputs": [
    {
     "name": "stdout",
     "output_type": "stream",
     "text": [
      "Which feature would you like to consider as object, AuthType [A] or Failure[F]. Input A/F : F\n",
      "[1] 0\n",
      "[1] \"CP_PDNR (alternating Poisson regression using damped Newton)\"\n",
      "[1] \"  Precomputing sparse index sets...\"\n",
      "[1] \"done\"\n",
      "[1] \"   1. Ttl Inner Its: 50, KKT viol = 1.50e+02, obj = 2.41316104e+03, nz: 13, time:0.06\"\n",
      "[1] \"   2. Ttl Inner Its: 35, KKT viol = 9.18e+00, obj = 3.71513711e+03, nz: 13, time:0.06\"\n",
      "[1] \"   3. Ttl Inner Its: 79, KKT viol = 1.00e+00, obj = 3.90289901e+03, nz: 15, time:0.09\"\n",
      "[1] \"   4. Ttl Inner Its: 74, KKT viol = 9.03e-01, obj = 3.92702536e+03, nz: 18, time:0.11\"\n",
      "[1] \"   5. Ttl Inner Its: 57, KKT viol = 1.00e+00, obj = 3.93050488e+03, nz: 18, time:0.12\"\n",
      "[1] \"   6. Ttl Inner Its: 47, KKT viol = 1.81e+00, obj = 3.93581881e+03, nz: 19, time:0.14\"\n",
      "[1] \"   7. Ttl Inner Its: 28, KKT viol = 8.96e-01, obj = 3.93683683e+03, nz: 20, time:0.14\"\n",
      "[1] \"   8. Ttl Inner Its: 26, KKT viol = 1.15e-02, obj = 3.93683912e+03, nz: 20, time:0.15\"\n",
      "[1] \"   9. Ttl Inner Its: 58, KKT viol = 8.07e-03, obj = 3.93685243e+03, nz: 21, time:0.17\"\n",
      "[1] \"  10. Ttl Inner Its: 36, KKT viol = 2.22e-03, obj = 3.93685267e+03, nz: 21, time:0.17\"\n",
      "[1] \"  11. Ttl Inner Its: 31, KKT viol = 5.01e-04, obj = 3.93685268e+03, nz: 21, time:0.19\"\n",
      "[1] \"  12. Ttl Inner Its: 31, KKT viol = 1.33e-04, obj = 3.93685268e+03, nz: 21, time:0.19\"\n",
      "[1] \"  13. Ttl Inner Its: 25, KKT viol = 9.19e-05, obj = 3.93685268e+03, nz: 21, time:0.19\"\n"
     ]
    },
    {
     "name": "stderr",
     "output_type": "stream",
     "text": [
      "Warning message in sqrt(normX^2 + ktensor_norm(M)^2 - 2 * tt_innerprod(M, X)):\n",
      "\"NaNs produced\""
     ]
    },
    {
     "name": "stdout",
     "output_type": "stream",
     "text": [
      "[1] \"===========================================\"\n",
      "[1] \" Final log-likelihood = 3.936853e+03 \"\n",
      "[1] \" Final least squares fit = NaN \"\n",
      "[1] \" Final KKT violation = 9.1891342e-05\"\n",
      "[1] \" Total inner iterations = 577\"\n",
      "[1] \" Total execution time = 0.19 secs\"\n",
      "\n",
      "\n",
      "[1] \"The amount of anomalous data is 0 % of the total data provided.\"\n",
      "\n",
      "[1] \"Verdict for the integrity of the process is: TRUE\"\n",
      "\n",
      "\n",
      "[1] \"The resulting dataset is:\"\n",
      "\n"
     ]
    },
    {
     "data": {
      "text/html": [
       "<table>\n",
       "<thead><tr><th scope=col>UserName</th><th scope=col>SrcDevice</th><th scope=col>DstDevice</th><th scope=col>AuthType</th><th scope=col>Failure</th><th scope=col>DailyCount</th></tr></thead>\n",
       "<tbody>\n",
       "</tbody>\n",
       "</table>\n"
      ],
      "text/latex": [
       "\\begin{tabular}{r|llllll}\n",
       " UserName & SrcDevice & DstDevice & AuthType & Failure & DailyCount\\\\\n",
       "\\hline\n",
       "\\end{tabular}\n"
      ],
      "text/markdown": [
       "\n",
       "| UserName | SrcDevice | DstDevice | AuthType | Failure | DailyCount |\n",
       "|---|---|---|---|---|---|\n",
       "\n"
      ],
      "text/plain": [
       "     UserName SrcDevice DstDevice AuthType Failure DailyCount"
      ]
     },
     "metadata": {},
     "output_type": "display_data"
    }
   ],
   "source": [
    "DetectAnomalies(\"User631552\")"
   ]
  },
  {
   "cell_type": "code",
   "execution_count": 64,
   "id": "fc1963e7",
   "metadata": {},
   "outputs": [
    {
     "data": {
      "text/html": [
       "28815"
      ],
      "text/latex": [
       "28815"
      ],
      "text/markdown": [
       "28815"
      ],
      "text/plain": [
       "[1] 28815"
      ]
     },
     "metadata": {},
     "output_type": "display_data"
    }
   ],
   "source": [
    "length(unique(Auth$UserName))"
   ]
  },
  {
   "cell_type": "code",
   "execution_count": null,
   "id": "d93cc51a",
   "metadata": {},
   "outputs": [],
   "source": []
  }
 ],
 "metadata": {
  "kernelspec": {
   "display_name": "R",
   "language": "R",
   "name": "ir"
  },
  "language_info": {
   "codemirror_mode": "r",
   "file_extension": ".r",
   "mimetype": "text/x-r-source",
   "name": "R",
   "pygments_lexer": "r",
   "version": "3.6.1"
  }
 },
 "nbformat": 4,
 "nbformat_minor": 5
}
