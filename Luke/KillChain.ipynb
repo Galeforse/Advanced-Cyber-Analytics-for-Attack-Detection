{
 "cells": [
  {
   "cell_type": "markdown",
   "id": "c57f0d7f-cccb-4b2e-837e-5058d5a5e267",
   "metadata": {},
   "source": [
    "# Mitre Att@ck Framework"
   ]
  },
  {
   "cell_type": "markdown",
   "id": "d24e3895-fd4e-427f-b6d3-d48986a9b4d1",
   "metadata": {},
   "source": [
    "In the following, we aim to take a few of the stages from the Mitre Att@ck Framework that aren't explicitly stated in our Kill Chain model and explore in more depth their applicability to our data and how we might be able to classify them. Most of the stages listed on Mitre Att@ck cannot serve us simply because we have already covered them in our Kill Chain model or they don't apply/cannot be applied to our data. For example, we don't have the required background information nor the features from out data to be able to classify anomalies as 'Defense Evasion' or 'Discovery' and hence we mitigate them from being applicable in our model."
   ]
  },
  {
   "cell_type": "markdown",
   "id": "bf428aef-d786-4485-aa81-5394fe2f559d",
   "metadata": {},
   "source": [
    "# Privilege Escalation"
   ]
  },
  {
   "cell_type": "markdown",
   "id": "e7b361d6-ff78-4978-97b6-4c35eb5bda66",
   "metadata": {},
   "source": [
    "Privilege escalation is a common technique used by attackers to gain access to a higher level system or network. This results from malicious users potenitally exploiting design flaws or errors in in the operating system, as well as many other techniques, to gain access to an account with perhaps higher clearance or greater administrative rights than that of the current comprimised system. From here, attackers can give all other infected computers the same access rights, gain new information or perhaps deploy a malicious payload into the targeted system.\n",
    "\n",
    "In our 7 stages Kill Chain model we are using, Privilege Escalation isn't explicitly stated as in the 8 stages model but is still implied, predominantly within the Reconaissance stage as attackers attempt to explore and expand the comprimised network. Alongside this it may prove challenging to distinguish between Lateral Movement and Privilege Escalation as the two are closely related and often take place one after the other in the Kill Chain, without a detailed account of what each process does that we see in our Processes dataset. Unsupervised, this would be diffciult for a ML algorithm to pick up on and distingiuish between. Supervised however we could find the process/authentication this anomaly related two and draw conclusions from that. Lastly, we could also consider what anomalies come before or after, perhaps using them as indicators for the stage we are at in the Kill Chain. For example, if an attacker has been successful in their Privilege Escalation attempts, it is likely they would next move laterally through the network and give new found access to other infected nodes or perform the same exploit of different nodes, to give higher privleges to different infected computers. Hence, if we classify any anomalies as Privilege Escalation, we can use this as an indicator to predict other stages of the Kill Chain and vice versa."
   ]
  },
  {
   "cell_type": "markdown",
   "id": "f3773f5e-3847-424c-8248-3cf0cd6c184a",
   "metadata": {},
   "source": [
    "# Lateral Movement"
   ]
  },
  {
   "cell_type": "markdown",
   "id": "287360cb-d4a2-4a1f-856b-925260b49336",
   "metadata": {},
   "source": [
    "This stage of our Kill Chain refers to the techniques used by our Red Team actors to traverse through the network in search of their primary target, after they have initally comprimised the network, while remaining undetected throughout. This is often done by the attacker impersonating a legitmate user of the network in an attempt to either simply gather information, identify suitable targets for a payload, escalate privileges or obtain new log-on credentials via social engineering; allowing for users to spread further and deeper inside the network. \n",
    "\n",
    "An attacker must map and explore their surrondings on the network, learn what they currently have access to and maintain a state of persistence in the network. Any evidence of this would stand out to us in our Authentication data since our attackers are simply 'testing' what is secure and what is not while trying to identify critical infrastructure since the scope of the attack at the reconnaissance stage is still incredibly broad. Our Red Team actors will use many of the methods listed above and more and hence classifying said movement can be difficult due to how versatility of the attacks. Periodic analysis of the Authentication Types, UserNames, ScrDevice and DstDevice will be most benefical for identifying lateral movement as it allows us to perhaps identify users attempting to gain access to suspicious computers they usually would not require access to, indicating that either the user is of concern or perhaps the computer itself has been remotely exploited. This is also however implied as Lateral Movement in Stage 7, Command and Control, in which the attacker takes a much more aggressive approach with regards to spreading of either malicious code or data exfiltration, both of which are much easier to spot than other forms of Lateral Movement.\n",
    "\n",
    "With regards to classification of these types of anomalies, since we have the list of Red Team actors usernames, it would be easy to label any activity by those users as potential lateral movement, however, most of this could still be normal blue team activity and we would therefore must take great care in managing the false postive rate. Due to this we seem to have observed some 'crossover' between the two. Once a node has become become infected however, it is safe to assume that all other activity can be classified as malicious."
   ]
  },
  {
   "cell_type": "code",
   "execution_count": null,
   "id": "9d8556e9-3c98-4dc2-beab-e6384ce84bbe",
   "metadata": {},
   "outputs": [],
   "source": []
  }
 ],
 "metadata": {
  "kernelspec": {
   "display_name": "Python 3",
   "language": "python",
   "name": "python3"
  },
  "language_info": {
   "codemirror_mode": {
    "name": "ipython",
    "version": 3
   },
   "file_extension": ".py",
   "mimetype": "text/x-python",
   "name": "python",
   "nbconvert_exporter": "python",
   "pygments_lexer": "ipython3",
   "version": "3.7.7"
  }
 },
 "nbformat": 4,
 "nbformat_minor": 5
}
