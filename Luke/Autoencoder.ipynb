{
 "cells": [
  {
   "cell_type": "code",
   "execution_count": 14,
   "id": "87d9ddbe-1fa5-480e-98c9-09d94c254cbf",
   "metadata": {},
   "outputs": [],
   "source": [
    "import pandas as pd\n",
    "import numpy as np\n",
    "import matplotlib.pyplot as plt\n",
    "import tensorflow as tf\n",
    "\n",
    "from sklearn import preprocessing\n",
    "from sklearn.preprocessing import StandardScaler\n",
    "\n",
    "import keras\n",
    "from keras import layers, models\n",
    "from keras.layers import Dense"
   ]
  },
  {
   "cell_type": "code",
   "execution_count": 6,
   "id": "3a8e019d-8586-49ca-aa2f-f8e25bcdb177",
   "metadata": {},
   "outputs": [
    {
     "name": "stderr",
     "output_type": "stream",
     "text": [
      "/Users/lukehawley/opt/anaconda3/envs/pyCP_APR/lib/python3.8/site-packages/numpy/lib/arraysetops.py:583: FutureWarning: elementwise comparison failed; returning scalar instead, but in the future will perform elementwise comparison\n",
      "  # Otherwise use sorting\n"
     ]
    }
   ],
   "source": [
    "authentication_data = pd.read_csv('https://github.com/Galeforse/Advanced-Cyber-Analytics-for-Attack-Detection/raw/main/Data/Authentication%20data.gz', compression='gzip', index_col = 0)"
   ]
  },
  {
   "cell_type": "code",
   "execution_count": 12,
   "id": "214619ff-4f92-4fea-9b24-3cdfd7c86b02",
   "metadata": {},
   "outputs": [],
   "source": [
    "rt_usernames = list(pd.read_csv('https://github.com/Galeforse/Advanced-Cyber-Analytics-for-Attack-Detection/raw/main/Data/AuthUserNames.txt', header=None)[0])\n"
   ]
  },
  {
   "cell_type": "code",
   "execution_count": 7,
   "id": "fc23243a-d513-4286-b616-78b80162adef",
   "metadata": {},
   "outputs": [],
   "source": [
    "# splits a dataframe into n chunks\n",
    "def split_dataframe(df,n): \n",
    "    chunks = list()\n",
    "    chunk_size = int(np.round(df.shape[0]/n))\n",
    "    num_chunks = n\n",
    "    for i in range(num_chunks):\n",
    "        if i != num_chunks-1:\n",
    "            chunks.append(df[i*chunk_size:(i+1)*chunk_size])\n",
    "        else:\n",
    "            chunks.append(df[i*chunk_size:])\n",
    "    return chunks"
   ]
  },
  {
   "cell_type": "code",
   "execution_count": 9,
   "id": "6abc2c0f-dd5c-4d96-aea0-408251886ad9",
   "metadata": {},
   "outputs": [],
   "source": [
    "auth_index_list = authentication_data.index.tolist()\n",
    "auth_start_days = [i for i, e in enumerate(auth_index_list) if e == 0]\n",
    "auth_start_days.append(len(authentication_data))\n",
    "\n",
    "def auth_type_un_df(user,n):\n",
    "    auth_type_df = pd.DataFrame(index = list(authentication_data['Authent Type'].unique()))\n",
    "    n = n\n",
    "\n",
    "    for i in range(len(auth_start_days)-1):\n",
    "        chunks = split_dataframe(authentication_data[auth_start_days[i]:auth_start_days[i+1]],n)\n",
    "        for j in range(n):\n",
    "                data = chunks[j]\n",
    "                auth_type_data = data[data['UserName'] == user].groupby('Authent Type').size()\n",
    "                auth_type_df[i*n + j] = auth_type_df.index.to_series().map(auth_type_data.to_dict())\n",
    "\n",
    "    auth_type_df = auth_type_df.transpose()\n",
    "    auth_type_df = auth_type_df.fillna(0)\n",
    "    \n",
    "    return auth_type_df"
   ]
  },
  {
   "cell_type": "code",
   "execution_count": 32,
   "id": "c649633c-32ce-42dc-8239-8a21929ad892",
   "metadata": {},
   "outputs": [],
   "source": [
    "df = auth_type_un_df(rt_usernames[0],24)\n",
    "rank_2 =  np.array(df)\n",
    "rank_3 = tf.stack([rank_2[i:i+23] for i in np.arange(0,len(rank_2)-1,24)])\n",
    "\n",
    "npad = ((0, 0), (1, 0), (1, 0))    \n",
    "rank_3 = np.pad(rank_3, pad_width=npad, mode='constant', constant_values=0)\n"
   ]
  },
  {
   "cell_type": "code",
   "execution_count": 58,
   "id": "d5680651-25ad-4556-812e-a2d0f7f63f16",
   "metadata": {},
   "outputs": [],
   "source": [
    "from keras.layers import Input, Dense, Conv2D, MaxPooling2D, UpSampling2D, Cropping2D\n",
    "from keras.models import Model\n",
    "\n",
    "\n",
    "input_img = Input(shape=(24, 14, 1)) \n",
    "\n",
    "x = Conv2D(32, (3, 3), activation='relu', padding='same')(input_img)\n",
    "x = MaxPooling2D((2, 2), padding='same')(x)\n",
    "#x = Conv2D(32, (3, 3), activation='relu', padding='same')(x)\n",
    "#x = MaxPooling2D((2, 2), padding='same')(x)\n",
    "#x = Conv2D(32, (3, 3), activation='relu', padding='same')(x)\n",
    "encoded = MaxPooling2D((2, 2), padding='same')(x)\n",
    "\n",
    "#x = Conv2D(32, (3, 3), activation='relu', padding='same')(encoded)\n",
    "#x = UpSampling2D((2, 2))(x)\n",
    "#x = Conv2D(32, (3, 3), activation='relu', padding='same')(x)\n",
    "#x = UpSampling2D((2, 2))(x)\n",
    "#x = Conv2D(32, (3, 3), activation='relu')(x)\n",
    "x = UpSampling2D((2, 2))(x)\n",
    "decoded = Conv2D(1, (3, 3), activation='sigmoid', padding='same')(x)\n",
    "\n",
    "autoencoder = Model(input_img, decoded)\n",
    "autoencoder.compile(metrics=['accuracy'], optimizer='adam', loss='mse')"
   ]
  },
  {
   "cell_type": "code",
   "execution_count": 59,
   "id": "5eec1c6a-1a9e-4a45-80a4-88f3e2c94343",
   "metadata": {},
   "outputs": [
    {
     "name": "stdout",
     "output_type": "stream",
     "text": [
      "Epoch 1/10\n",
      "1/1 [==============================] - 1s 884ms/step - loss: 0.2485 - accuracy: 0.8815\n",
      "Epoch 2/10\n",
      "1/1 [==============================] - 0s 50ms/step - loss: 0.2464 - accuracy: 0.8966\n",
      "Epoch 3/10\n",
      "1/1 [==============================] - 0s 51ms/step - loss: 0.2445 - accuracy: 0.9064\n",
      "Epoch 4/10\n",
      "1/1 [==============================] - 0s 41ms/step - loss: 0.2424 - accuracy: 0.9170\n",
      "Epoch 5/10\n",
      "1/1 [==============================] - 0s 49ms/step - loss: 0.2403 - accuracy: 0.9299\n",
      "Epoch 6/10\n",
      "1/1 [==============================] - 0s 58ms/step - loss: 0.2381 - accuracy: 0.9339\n",
      "Epoch 7/10\n",
      "1/1 [==============================] - 0s 33ms/step - loss: 0.2358 - accuracy: 0.9377\n",
      "Epoch 8/10\n",
      "1/1 [==============================] - 0s 85ms/step - loss: 0.2336 - accuracy: 0.9489\n",
      "Epoch 9/10\n",
      "1/1 [==============================] - 0s 46ms/step - loss: 0.2312 - accuracy: 0.9598\n",
      "Epoch 10/10\n",
      "1/1 [==============================] - 0s 39ms/step - loss: 0.2289 - accuracy: 0.9645\n"
     ]
    },
    {
     "data": {
      "text/plain": [
       "<keras.callbacks.History at 0x7f81484f7160>"
      ]
     },
     "execution_count": 59,
     "metadata": {},
     "output_type": "execute_result"
    }
   ],
   "source": [
    "autoencoder.fit(rank_3[:57], rank_3[:57], epochs=10, batch_size=256)"
   ]
  },
  {
   "cell_type": "code",
   "execution_count": 60,
   "id": "8c60161d-1dca-47cc-a9e5-4d6ee5efbe9d",
   "metadata": {},
   "outputs": [
    {
     "name": "stdout",
     "output_type": "stream",
     "text": [
      "Model: \"model_8\"\n",
      "_________________________________________________________________\n",
      "Layer (type)                 Output Shape              Param #   \n",
      "=================================================================\n",
      "input_9 (InputLayer)         [(None, 24, 14, 1)]       0         \n",
      "_________________________________________________________________\n",
      "conv2d_47 (Conv2D)           (None, 24, 14, 32)        320       \n",
      "_________________________________________________________________\n",
      "max_pooling2d_22 (MaxPooling (None, 12, 7, 32)         0         \n",
      "_________________________________________________________________\n",
      "up_sampling2d_20 (UpSampling (None, 24, 14, 32)        0         \n",
      "_________________________________________________________________\n",
      "conv2d_48 (Conv2D)           (None, 24, 14, 1)         289       \n",
      "=================================================================\n",
      "Total params: 609\n",
      "Trainable params: 609\n",
      "Non-trainable params: 0\n",
      "_________________________________________________________________\n"
     ]
    }
   ],
   "source": [
    "autoencoder.summary()"
   ]
  },
  {
   "cell_type": "code",
   "execution_count": 67,
   "id": "c43aa530-d5fe-42a7-900f-40b48802741e",
   "metadata": {},
   "outputs": [],
   "source": [
    "reconstruction = autoencoder.predict(np.array(rank_3[79]).reshape(1,24,14))"
   ]
  },
  {
   "cell_type": "code",
   "execution_count": 69,
   "id": "9f2191b8-864d-4e8b-a13e-a6be0862e052",
   "metadata": {},
   "outputs": [],
   "source": [
    "error_list = []\n",
    "for i in range (33):\n",
    "    reconstruction = autoencoder.predict(np.array(rank_3[57+i]).reshape(1,24,14))\n",
    "    reconstruction = reconstruction.reshape(1, 24, 14)\n",
    "    error = np.mean(np.power(np.array(rank_3[57+i]).reshape(1,24,14)-reconstruction, 2))\n",
    "    error_list.append(error)"
   ]
  },
  {
   "cell_type": "code",
   "execution_count": 70,
   "id": "c85666c6-8ed0-4eec-9eef-0cdbc04e4cc6",
   "metadata": {},
   "outputs": [
    {
     "data": {
      "text/plain": [
       "{'whiskers': [<matplotlib.lines.Line2D at 0x7f81477bf280>,\n",
       "  <matplotlib.lines.Line2D at 0x7f81477bf1c0>],\n",
       " 'caps': [<matplotlib.lines.Line2D at 0x7f81477bff40>,\n",
       "  <matplotlib.lines.Line2D at 0x7f81483d1b80>],\n",
       " 'boxes': [<matplotlib.lines.Line2D at 0x7f81480a1bb0>],\n",
       " 'medians': [<matplotlib.lines.Line2D at 0x7f814808e970>],\n",
       " 'fliers': [<matplotlib.lines.Line2D at 0x7f814808e250>],\n",
       " 'means': []}"
      ]
     },
     "execution_count": 70,
     "metadata": {},
     "output_type": "execute_result"
    },
    {
     "data": {
      "image/png": "[encoded data removed]",
      "text/plain": [
       "<Figure size 432x288 with 1 Axes>"
      ]
     },
     "metadata": {
      "needs_background": "light"
     },
     "output_type": "display_data"
    }
   ],
   "source": [
    "plt.boxplot(error_list)"
   ]
  },
  {
   "cell_type": "code",
   "execution_count": null,
   "id": "f2f0bb05-6590-49a9-b5fa-d55a312ee871",
   "metadata": {},
   "outputs": [],
   "source": []
  }
 ],
 "metadata": {
  "kernelspec": {
   "display_name": "Python 3",
   "language": "python",
   "name": "python3"
  },
  "language_info": {
   "codemirror_mode": {
    "name": "ipython",
    "version": 3
   },
   "file_extension": ".py",
   "mimetype": "text/x-python",
   "name": "python",
   "nbconvert_exporter": "python",
   "pygments_lexer": "ipython3",
   "version": "3.8.5"
  }
 },
 "nbformat": 4,
 "nbformat_minor": 5
}
