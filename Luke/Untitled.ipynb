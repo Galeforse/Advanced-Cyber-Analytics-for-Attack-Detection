{
 "cells": [
  {
   "cell_type": "code",
   "execution_count": 1,
   "id": "776a6102-380e-480d-9d51-5ff027beb949",
   "metadata": {},
   "outputs": [],
   "source": [
    "\n",
    "import random\n",
    "import numpy as np\n",
    "\n",
    "random.seed(42)\n",
    "np.random.seed(42)\n",
    "\n",
    "\n",
    "train_coords = list()\n",
    "train_count = list()\n",
    "\n",
    "test_coords = list()\n",
    "test_count = list()\n",
    "\n",
    "for ii in range(1000):\n",
    "    train_coords.append(list(np.random.randint(10, size=4)))\n",
    "    train_count.append(random.randint(1, 20))\n",
    "    \n",
    "for ii in range(100):\n",
    "    test_coords.append(list(np.random.randint(10, size=4)))\n",
    "    test_count.append(random.randint(1, 20))\n",
    "    \n",
    "tensor = dict()\n",
    "tensor['train_coords'] = train_coords\n",
    "tensor['train_count'] = train_count\n",
    "tensor['test_coords'] = test_coords\n",
    "tensor['test_count'] = test_count\n",
    "\n",
    "np.savez_compressed('TOY',**tensor)\n"
   ]
  },
  {
   "cell_type": "code",
   "execution_count": 5,
   "id": "ea08a3e7-ba5f-4b6e-bace-5df36aac84be",
   "metadata": {},
   "outputs": [
    {
     "data": {
      "text/plain": [
       "100"
      ]
     },
     "execution_count": 5,
     "metadata": {},
     "output_type": "execute_result"
    }
   ],
   "source": [
    "len(test_count)"
   ]
  },
  {
   "cell_type": "code",
   "execution_count": 6,
   "id": "fee781d8-95c9-4e86-bb19-93d39ad35f9a",
   "metadata": {},
   "outputs": [
    {
     "data": {
      "text/plain": [
       "1000"
      ]
     },
     "execution_count": 6,
     "metadata": {},
     "output_type": "execute_result"
    }
   ],
   "source": [
    "len(train_count)"
   ]
  },
  {
   "cell_type": "code",
   "execution_count": null,
   "id": "389e92c2-dd78-47ab-852a-8c42ce174741",
   "metadata": {},
   "outputs": [],
   "source": []
  }
 ],
 "metadata": {
  "kernelspec": {
   "display_name": "Python 3",
   "language": "python",
   "name": "python3"
  },
  "language_info": {
   "codemirror_mode": {
    "name": "ipython",
    "version": 3
   },
   "file_extension": ".py",
   "mimetype": "text/x-python",
   "name": "python",
   "nbconvert_exporter": "python",
   "pygments_lexer": "ipython3",
   "version": "3.8.5"
  }
 },
 "nbformat": 4,
 "nbformat_minor": 5
}
