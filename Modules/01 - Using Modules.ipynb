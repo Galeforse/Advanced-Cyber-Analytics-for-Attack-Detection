{
 "cells": [
  {
   "cell_type": "markdown",
   "id": "a664f027-3bc3-4f0b-873d-604db5cf1670",
   "metadata": {},
   "source": [
    "# Using Modules\n",
    "\n",
    "Modules are a feature of python that help with redistribution. We write `.py` scripts that contain defined functions as many are used to using, and we can import these functions from these files similarly to how we import any package normally. All of the normal operations apply such as `from <package> import <function>` and `import <package> as <custom>`.\n",
    "\n",
    "Using modules helps others easily use your predefined functions, as well as clearly up space in a python script or notebook file.\n",
    "\n",
    "The most important thing is making sure that python knows where to find these modules (which is easy in this case, it's this folder!). We use the following block of code to specify to the program where we wish for it to look; You will have to change it accordingly to where the location of GitHub repository is cloned to."
   ]
  },
  {
   "cell_type": "code",
   "execution_count": 1,
   "id": "61aafc10-adfd-474d-bf3f-942e179fef21",
   "metadata": {},
   "outputs": [],
   "source": [
    "import sys\n",
    "sys.path.insert(0,'G:/Users/Gabriel/Documents/Education/UoB/GitHubDesktop/Advanced-Cyber-Analytics-for-Attack-Detection/Modules/')"
   ]
  },
  {
   "cell_type": "markdown",
   "id": "e0d8fe08-ea27-4941-86e9-305fb28e1fcf",
   "metadata": {},
   "source": [
    "Now we've set it up we can check the system path and check that it has indeed registered successfully."
   ]
  },
  {
   "cell_type": "code",
   "execution_count": 2,
   "id": "a883d728-ee03-4795-9425-60a49e0423da",
   "metadata": {},
   "outputs": [
    {
     "data": {
      "text/plain": [
       "['G:/Users/Gabriel/Documents/Education/UoB/GitHubDesktop/Advanced-Cyber-Analytics-for-Attack-Detection/Modules/',\n",
       " 'G:\\\\Users\\\\Gabriel\\\\Documents\\\\Education\\\\UoB\\\\GitHubDesktop\\\\Advanced-Cyber-Analytics-for-Attack-Detection\\\\Modules',\n",
       " 'G:\\\\Programs\\\\Anaconda\\\\envs\\\\det\\\\python38.zip',\n",
       " 'G:\\\\Programs\\\\Anaconda\\\\envs\\\\det\\\\DLLs',\n",
       " 'G:\\\\Programs\\\\Anaconda\\\\envs\\\\det\\\\lib',\n",
       " 'G:\\\\Programs\\\\Anaconda\\\\envs\\\\det',\n",
       " '',\n",
       " 'C:\\\\Users\\\\Gabriel\\\\AppData\\\\Roaming\\\\Python\\\\Python38\\\\site-packages',\n",
       " 'G:\\\\Programs\\\\Anaconda\\\\envs\\\\det\\\\lib\\\\site-packages',\n",
       " 'G:\\\\Programs\\\\Anaconda\\\\envs\\\\det\\\\lib\\\\site-packages\\\\win32',\n",
       " 'G:\\\\Programs\\\\Anaconda\\\\envs\\\\det\\\\lib\\\\site-packages\\\\win32\\\\lib',\n",
       " 'G:\\\\Programs\\\\Anaconda\\\\envs\\\\det\\\\lib\\\\site-packages\\\\Pythonwin',\n",
       " 'G:\\\\Programs\\\\Anaconda\\\\envs\\\\det\\\\lib\\\\site-packages\\\\IPython\\\\extensions',\n",
       " 'C:\\\\Users\\\\Gabriel\\\\.ipython']"
      ]
     },
     "execution_count": 2,
     "metadata": {},
     "output_type": "execute_result"
    }
   ],
   "source": [
    "sys.path"
   ]
  },
  {
   "cell_type": "markdown",
   "id": "a7baf351-5ecc-47ff-8f37-93f37d338830",
   "metadata": {},
   "source": [
    "Now to demonstrate the power of modules I'm going to use an example file called [examp.py](https://github.com/Galeforse/Advanced-Cyber-Analytics-for-Attack-Detection/blob/main/Modules/examp.py) which you should find in the folder with this notebook. In this file I am going to define a few functions the first will be a simple power function of the following code block which I will call `powers` and a \"hello world\" function I will call `hello_world()`."
   ]
  },
  {
   "cell_type": "code",
   "execution_count": null,
   "id": "5bd7040a-71c3-4da6-8d1d-4f61f9c864c8",
   "metadata": {},
   "outputs": [],
   "source": [
    "def powers_placeholder(start=1,end=10,power=2):\n",
    "    \"\"\"Prints powers of integers.\n",
    "    \n",
    "     Keyword arguments:\n",
    "     start -- integer to start on. DEFAULT = 1\n",
    "     end -- integer to end on (counts in steps of 1). DEFAULT = 10\n",
    "     power -- to what power to evaluate to. DEFAULT = 2\"\"\"\n",
    "    print(\"Integers to the power of \"+str(power)+\" starting at \"+str(start)+\" and ending at \"+str(end)+\":\")\n",
    "    print(\"\")\n",
    "    for i in range(start,end+1):\n",
    "        print(str(i)+\" to the power of \"+str(power)+\" = \"+str(i**(power)))"
   ]
  },
  {
   "cell_type": "code",
   "execution_count": null,
   "id": "bd88d4d6-0c48-4d21-b4e3-f2fc7c11c86a",
   "metadata": {},
   "outputs": [],
   "source": [
    "def hello_world_placeholder():\n",
    "    \"\"\"Prints Hello World!\"\"\"\n",
    "    print(\"Hello World!\")"
   ]
  },
  {
   "cell_type": "markdown",
   "id": "989483ac-4ce9-4afa-bdcf-2f3f87976675",
   "metadata": {},
   "source": [
    "I'm not actually importing the above statements but they are found with their proper names in the [examp.py file](https://github.com/Galeforse/Advanced-Cyber-Analytics-for-Attack-Detection/blob/main/Modules/examp.py) which we will try to import from now!"
   ]
  },
  {
   "cell_type": "code",
   "execution_count": 3,
   "id": "901db631-e2a1-4a9c-b942-f460f65590e1",
   "metadata": {},
   "outputs": [],
   "source": [
    "import examp"
   ]
  },
  {
   "cell_type": "markdown",
   "id": "fbe8d5b8-e55d-453c-a2ff-9397a2a5d4ab",
   "metadata": {},
   "source": [
    "We will call the help function and see if the docstrings show up and then use the functions with default variables."
   ]
  },
  {
   "cell_type": "code",
   "execution_count": 4,
   "id": "f91bdc18-9a49-4cee-b551-ec604249e830",
   "metadata": {},
   "outputs": [
    {
     "name": "stdout",
     "output_type": "stream",
     "text": [
      "Help on function hello_world in module examp:\n",
      "\n",
      "hello_world()\n",
      "    Prints Hello World!\n",
      "\n"
     ]
    }
   ],
   "source": [
    "help(examp.hello_world)"
   ]
  },
  {
   "cell_type": "code",
   "execution_count": 5,
   "id": "8ab325b6-7da4-41c7-aa60-8d1c1771ee62",
   "metadata": {},
   "outputs": [
    {
     "name": "stdout",
     "output_type": "stream",
     "text": [
      "Help on function powers in module examp:\n",
      "\n",
      "powers(start=1, end=10, power=2)\n",
      "    Prints powers of integers.\n",
      "    \n",
      "    Keyword arguments:\n",
      "    start -- integer to start on. DEFAULT = 1\n",
      "    end -- integer to end on (counts in steps of 1). DEFAULT = 10\n",
      "    power -- to what power to evaluate to. DEFAULT = 2\n",
      "\n"
     ]
    }
   ],
   "source": [
    "help(examp.powers)"
   ]
  },
  {
   "cell_type": "code",
   "execution_count": 6,
   "id": "7da1760e-6cc5-447f-b1b7-17ea76400ef9",
   "metadata": {},
   "outputs": [
    {
     "name": "stdout",
     "output_type": "stream",
     "text": [
      "Hello World!\n"
     ]
    }
   ],
   "source": [
    "examp.hello_world()"
   ]
  },
  {
   "cell_type": "code",
   "execution_count": 7,
   "id": "7d4b58fb-4fbf-414a-9620-289a0f30086b",
   "metadata": {},
   "outputs": [
    {
     "name": "stdout",
     "output_type": "stream",
     "text": [
      "Integers to the power of 2 starting at 1 and ending at 10:\n",
      "\n",
      "1 to the power of 2 = 1\n",
      "2 to the power of 2 = 4\n",
      "3 to the power of 2 = 9\n",
      "4 to the power of 2 = 16\n",
      "5 to the power of 2 = 25\n",
      "6 to the power of 2 = 36\n",
      "7 to the power of 2 = 49\n",
      "8 to the power of 2 = 64\n",
      "9 to the power of 2 = 81\n",
      "10 to the power of 2 = 100\n"
     ]
    }
   ],
   "source": [
    "examp.powers()"
   ]
  },
  {
   "cell_type": "markdown",
   "id": "6491fca2-6cb2-4754-aeb9-f161470ba74d",
   "metadata": {},
   "source": [
    "Here I am going to clear the kernel and re-import to show the import conditions remain and then run the functions again. (The Errors are part of the example)"
   ]
  },
  {
   "cell_type": "code",
   "execution_count": 1,
   "id": "0738399d-6198-4c84-b095-858b8776effe",
   "metadata": {},
   "outputs": [],
   "source": [
    "from examp import hello_world as hw"
   ]
  },
  {
   "cell_type": "code",
   "execution_count": 3,
   "id": "6f9d397b-de67-45cf-8032-2a7c05b078e2",
   "metadata": {},
   "outputs": [
    {
     "name": "stdout",
     "output_type": "stream",
     "text": [
      "Hello World!\n"
     ]
    }
   ],
   "source": [
    "hw()"
   ]
  },
  {
   "cell_type": "code",
   "execution_count": 4,
   "id": "78c21adb-aac2-4001-9fd3-7265905b403e",
   "metadata": {},
   "outputs": [
    {
     "ename": "NameError",
     "evalue": "name 'examp' is not defined",
     "output_type": "error",
     "traceback": [
      "\u001b[1;31m---------------------------------------------------------------------------\u001b[0m",
      "\u001b[1;31mNameError\u001b[0m                                 Traceback (most recent call last)",
      "\u001b[1;32m<ipython-input-4-b79c776d010f>\u001b[0m in \u001b[0;36m<module>\u001b[1;34m\u001b[0m\n\u001b[1;32m----> 1\u001b[1;33m \u001b[0mexamp\u001b[0m\u001b[1;33m.\u001b[0m\u001b[0mpowers\u001b[0m\u001b[1;33m(\u001b[0m\u001b[1;33m)\u001b[0m\u001b[1;33m\u001b[0m\u001b[1;33m\u001b[0m\u001b[0m\n\u001b[0m",
      "\u001b[1;31mNameError\u001b[0m: name 'examp' is not defined"
     ]
    }
   ],
   "source": [
    "examp.powers()"
   ]
  },
  {
   "cell_type": "code",
   "execution_count": 5,
   "id": "3c160713-ef7c-45a5-8831-e64e56b9ad70",
   "metadata": {},
   "outputs": [
    {
     "ename": "NameError",
     "evalue": "name 'powers' is not defined",
     "output_type": "error",
     "traceback": [
      "\u001b[1;31m---------------------------------------------------------------------------\u001b[0m",
      "\u001b[1;31mNameError\u001b[0m                                 Traceback (most recent call last)",
      "\u001b[1;32m<ipython-input-5-23b80688670b>\u001b[0m in \u001b[0;36m<module>\u001b[1;34m\u001b[0m\n\u001b[1;32m----> 1\u001b[1;33m \u001b[0mpowers\u001b[0m\u001b[1;33m(\u001b[0m\u001b[1;33m)\u001b[0m\u001b[1;33m\u001b[0m\u001b[1;33m\u001b[0m\u001b[0m\n\u001b[0m",
      "\u001b[1;31mNameError\u001b[0m: name 'powers' is not defined"
     ]
    }
   ],
   "source": [
    "powers()"
   ]
  },
  {
   "cell_type": "code",
   "execution_count": 6,
   "id": "da0f9ae3-ffe0-41d6-a9e8-edbb7bd6329a",
   "metadata": {},
   "outputs": [],
   "source": [
    "from examp import powers as spotify"
   ]
  },
  {
   "cell_type": "code",
   "execution_count": 8,
   "id": "c9ee1950-bfcb-4d7f-9e85-f90e99f5c23c",
   "metadata": {},
   "outputs": [
    {
     "name": "stdout",
     "output_type": "stream",
     "text": [
      "Integers to the power of 3 starting at 2 and ending at 7:\n",
      "\n",
      "2 to the power of 3 = 8\n",
      "3 to the power of 3 = 27\n",
      "4 to the power of 3 = 64\n",
      "5 to the power of 3 = 125\n",
      "6 to the power of 3 = 216\n",
      "7 to the power of 3 = 343\n"
     ]
    }
   ],
   "source": [
    "spotify(2,7,3)"
   ]
  },
  {
   "cell_type": "markdown",
   "id": "13e7920a-9557-4fa1-8520-11d7a1979499",
   "metadata": {},
   "source": [
    "You can import all of the functions without a stem (make sure there are no overlapping variable/function names) by using the following code which you will see in many of my docs:"
   ]
  },
  {
   "cell_type": "code",
   "execution_count": 9,
   "id": "740c4fcc-e790-41fb-be59-bf4eb5df836a",
   "metadata": {},
   "outputs": [],
   "source": [
    "from examp import *"
   ]
  },
  {
   "cell_type": "code",
   "execution_count": 10,
   "id": "203a3990-3548-46e7-8932-bf202f855326",
   "metadata": {},
   "outputs": [
    {
     "name": "stdout",
     "output_type": "stream",
     "text": [
      "Integers to the power of 2 starting at 1 and ending at 10:\n",
      "\n",
      "1 to the power of 2 = 1\n",
      "2 to the power of 2 = 4\n",
      "3 to the power of 2 = 9\n",
      "4 to the power of 2 = 16\n",
      "5 to the power of 2 = 25\n",
      "6 to the power of 2 = 36\n",
      "7 to the power of 2 = 49\n",
      "8 to the power of 2 = 64\n",
      "9 to the power of 2 = 81\n",
      "10 to the power of 2 = 100\n"
     ]
    }
   ],
   "source": [
    "powers()"
   ]
  },
  {
   "cell_type": "code",
   "execution_count": 11,
   "id": "7dc507cf-c36a-430d-a192-1d701c63b824",
   "metadata": {},
   "outputs": [
    {
     "name": "stdout",
     "output_type": "stream",
     "text": [
      "Hello World!\n"
     ]
    }
   ],
   "source": [
    "hello_world()"
   ]
  },
  {
   "cell_type": "markdown",
   "id": "85968a6e-b4ad-449f-8554-c32d4af74516",
   "metadata": {},
   "source": [
    "Hope this explains using functions in this way!"
   ]
  }
 ],
 "metadata": {
  "kernelspec": {
   "display_name": "Python 3",
   "language": "python",
   "name": "python3"
  },
  "language_info": {
   "codemirror_mode": {
    "name": "ipython",
    "version": 3
   },
   "file_extension": ".py",
   "mimetype": "text/x-python",
   "name": "python",
   "nbconvert_exporter": "python",
   "pygments_lexer": "ipython3",
   "version": "3.8.10"
  }
 },
 "nbformat": 4,
 "nbformat_minor": 5
}
